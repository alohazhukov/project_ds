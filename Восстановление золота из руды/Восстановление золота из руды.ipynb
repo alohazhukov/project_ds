{
 "cells": [
  {
   "cell_type": "markdown",
   "metadata": {},
   "source": [
    "# Восстановление золота из руды"
   ]
  },
  {
   "cell_type": "markdown",
   "metadata": {},
   "source": [
    "Подготовьте прототип модели машинного обучения для «Цифры». Компания разрабатывает решения для эффективной работы промышленных предприятий.\n",
    "\n",
    "Модель должна предсказать коэффициент восстановления золота из золотосодержащей руды. Используйте данные с параметрами добычи и очистки. \n",
    "\n",
    "Модель поможет оптимизировать производство, чтобы не запускать предприятие с убыточными характеристиками.\n",
    "\n",
    "Вам нужно:\n",
    "\n",
    "1. Подготовить данные;\n",
    "2. Провести исследовательский анализ данных;\n",
    "3. Построить и обучить модель.\n",
    "\n",
    "\n",
    "__Нужно спрогнозировать сразу две величины:__\n",
    "- эффективность обогащения чернового концентрата `rougher.output.recovery`;\n",
    "- эффективность обогащения финального концентрата `final.output.recovery`.\n",
    "\n",
    "\n",
    "__Данные индексируются датой и временем получения информации (признак `'date'`). Соседние по времени параметры часто похожи.__\n",
    "\n",
    "__Описание данных:__\n",
    "- Технологический процесс\n",
    "- Rougher feed — исходное сырье\n",
    "- Rougher additions (или reagent additions) — флотационные реагенты: Xanthate, Sulphate, Depressant\n",
    " - Xanthate — ксантогенат (промотер, или активатор флотации);\n",
    " - Sulphate — сульфат (на данном производстве сульфид натрия);\n",
    " - Depressant — депрессант (силикат натрия).\n",
    "- Rougher process (англ. «грубый процесс») — флотация\n",
    "- Rougher tails — отвальные хвосты\n",
    "- Float banks — флотационная установка\n",
    "- Cleaner process — очистка\n",
    "- Rougher Au — черновой концентрат золота\n",
    "- Final Au — финальный концентрат золота\n",
    "\n",
    "\n",
    "__Параметры этапов:__\n",
    "- air amount — объём воздуха\n",
    "- fluid levels — уровень жидкости\n",
    "- feed size — размер гранул сырья\n",
    "- feed rate — скорость подачи\n",
    "\n",
    "\n",
    "__Наименование признаков__\n",
    "\n",
    "Наименование признаков должно быть такое:\n",
    "\n",
    "`[этап].[тип_параметра].[название_параметра]`\n",
    "\n",
    "Пример: `rougher.input.feed_ag`\n",
    "\n",
    "\n",
    "\n",
    "__Возможные значения для блока [этап]:__\n",
    "- rougher — флотация\n",
    "- primary_cleaner — первичная очистка\n",
    "- secondary_cleaner — вторичная очистка\n",
    "- final — финальные характеристики\n",
    "\n",
    "\n",
    "__Возможные значения для блока [тип_параметра]:__\n",
    "- input — параметры сырья\n",
    "- output — параметры продукта\n",
    "- state — параметры, характеризующие текущее состояние этапа\n",
    "- calculation — расчётные характеристики\n",
    "\n",
    "\n"
   ]
  },
  {
   "cell_type": "markdown",
   "metadata": {},
   "source": [
    "## Подготовка данных"
   ]
  },
  {
   "cell_type": "code",
   "execution_count": 1,
   "metadata": {},
   "outputs": [],
   "source": [
    "import pandas as pd \n",
    "import numpy as np\n",
    "import warnings\n",
    "import seaborn as sns\n",
    "import matplotlib.pyplot as plt\n",
    "\n",
    "from sklearn.linear_model import LinearRegression\n",
    "from sklearn.tree import DecisionTreeRegressor\n",
    "from sklearn.ensemble import RandomForestRegressor\n",
    "\n",
    "from sklearn.model_selection import cross_val_score\n",
    "from sklearn.preprocessing import StandardScaler\n",
    "from sklearn.metrics import mean_absolute_error, make_scorer\n",
    "from sklearn.dummy import DummyRegressor"
   ]
  },
  {
   "cell_type": "code",
   "execution_count": 2,
   "metadata": {},
   "outputs": [],
   "source": [
    "# отключим некритические предупреждения в коде\n",
    "\n",
    "warnings.filterwarnings(\"ignore\")"
   ]
  },
  {
   "cell_type": "code",
   "execution_count": 3,
   "metadata": {},
   "outputs": [],
   "source": [
    "try:\n",
    "    data_train = pd.read_csv('/Users/alex/Downloads/gold_industry_train.csv')\n",
    "    data_test = pd.read_csv('/Users/alex/Downloads/gold_industry_test.csv')\n",
    "    data_full = pd.read_csv('/Users/alex/Downloads/gold_industry_full.csv')\n",
    "except:\n",
    "    data_train = pd.read_csv('/datasets/gold_industry_train.csv')\n",
    "    data_test = pd.read_csv('/datasets/gold_industry_test.csv')\n",
    "    data_full = pd.read_csv('/datasets/gold_industry_full.csv')"
   ]
  },
  {
   "cell_type": "code",
   "execution_count": 4,
   "metadata": {},
   "outputs": [],
   "source": [
    "# объявим глобальные переменные\n",
    "\n",
    "DATA = [data_train, data_test, data_full]\n",
    "STATE = np.random.RandomState(42)"
   ]
  },
  {
   "cell_type": "markdown",
   "metadata": {},
   "source": [
    "Взгялнем на каждый из дф'ов, проверим на явные дубликаты, пропуски"
   ]
  },
  {
   "cell_type": "code",
   "execution_count": 5,
   "metadata": {},
   "outputs": [
    {
     "data": {
      "text/html": [
       "<div>\n",
       "<style scoped>\n",
       "    .dataframe tbody tr th:only-of-type {\n",
       "        vertical-align: middle;\n",
       "    }\n",
       "\n",
       "    .dataframe tbody tr th {\n",
       "        vertical-align: top;\n",
       "    }\n",
       "\n",
       "    .dataframe thead th {\n",
       "        text-align: right;\n",
       "    }\n",
       "</style>\n",
       "<table border=\"1\" class=\"dataframe\">\n",
       "  <thead>\n",
       "    <tr style=\"text-align: right;\">\n",
       "      <th></th>\n",
       "      <th>date</th>\n",
       "      <th>rougher.input.feed_au</th>\n",
       "      <th>rougher.input.feed_ag</th>\n",
       "      <th>rougher.input.feed_pb</th>\n",
       "      <th>rougher.input.feed_sol</th>\n",
       "      <th>rougher.input.feed_rate</th>\n",
       "      <th>rougher.input.feed_size</th>\n",
       "      <th>rougher.input.floatbank10_sulfate</th>\n",
       "      <th>rougher.input.floatbank10_xanthate</th>\n",
       "      <th>rougher.state.floatbank10_a_air</th>\n",
       "      <th>...</th>\n",
       "      <th>secondary_cleaner.output.tail_sol</th>\n",
       "      <th>final.output.concentrate_au</th>\n",
       "      <th>final.output.concentrate_ag</th>\n",
       "      <th>final.output.concentrate_pb</th>\n",
       "      <th>final.output.concentrate_sol</th>\n",
       "      <th>final.output.recovery</th>\n",
       "      <th>final.output.tail_au</th>\n",
       "      <th>final.output.tail_ag</th>\n",
       "      <th>final.output.tail_pb</th>\n",
       "      <th>final.output.tail_sol</th>\n",
       "    </tr>\n",
       "  </thead>\n",
       "  <tbody>\n",
       "    <tr>\n",
       "      <th>0</th>\n",
       "      <td>2016-01-15 00:00:00</td>\n",
       "      <td>6.486150</td>\n",
       "      <td>6.100378</td>\n",
       "      <td>2.284912</td>\n",
       "      <td>36.808594</td>\n",
       "      <td>523.546326</td>\n",
       "      <td>55.486599</td>\n",
       "      <td>11.986616</td>\n",
       "      <td>6.007990</td>\n",
       "      <td>999.706909</td>\n",
       "      <td>...</td>\n",
       "      <td>8.764648</td>\n",
       "      <td>42.192020</td>\n",
       "      <td>6.055403</td>\n",
       "      <td>9.889648</td>\n",
       "      <td>5.507324</td>\n",
       "      <td>70.541216</td>\n",
       "      <td>2.143149</td>\n",
       "      <td>10.411962</td>\n",
       "      <td>0.895447</td>\n",
       "      <td>16.904297</td>\n",
       "    </tr>\n",
       "    <tr>\n",
       "      <th>1</th>\n",
       "      <td>2016-01-15 01:00:00</td>\n",
       "      <td>6.478583</td>\n",
       "      <td>6.161113</td>\n",
       "      <td>2.266033</td>\n",
       "      <td>35.753385</td>\n",
       "      <td>525.290581</td>\n",
       "      <td>57.278666</td>\n",
       "      <td>11.971193</td>\n",
       "      <td>6.005766</td>\n",
       "      <td>1000.286398</td>\n",
       "      <td>...</td>\n",
       "      <td>9.001494</td>\n",
       "      <td>42.701629</td>\n",
       "      <td>6.029369</td>\n",
       "      <td>9.968944</td>\n",
       "      <td>5.257781</td>\n",
       "      <td>69.266198</td>\n",
       "      <td>2.224930</td>\n",
       "      <td>10.462676</td>\n",
       "      <td>0.927452</td>\n",
       "      <td>16.634514</td>\n",
       "    </tr>\n",
       "    <tr>\n",
       "      <th>2</th>\n",
       "      <td>2016-01-15 02:00:00</td>\n",
       "      <td>6.362222</td>\n",
       "      <td>6.116455</td>\n",
       "      <td>2.159622</td>\n",
       "      <td>35.971630</td>\n",
       "      <td>530.026610</td>\n",
       "      <td>57.510649</td>\n",
       "      <td>11.920603</td>\n",
       "      <td>6.197377</td>\n",
       "      <td>999.719565</td>\n",
       "      <td>...</td>\n",
       "      <td>8.842896</td>\n",
       "      <td>42.657501</td>\n",
       "      <td>6.055926</td>\n",
       "      <td>10.213995</td>\n",
       "      <td>5.383759</td>\n",
       "      <td>68.116445</td>\n",
       "      <td>2.257889</td>\n",
       "      <td>10.507046</td>\n",
       "      <td>0.953716</td>\n",
       "      <td>16.208849</td>\n",
       "    </tr>\n",
       "    <tr>\n",
       "      <th>3</th>\n",
       "      <td>2016-01-15 03:00:00</td>\n",
       "      <td>6.118189</td>\n",
       "      <td>6.043309</td>\n",
       "      <td>2.037807</td>\n",
       "      <td>36.862241</td>\n",
       "      <td>542.590390</td>\n",
       "      <td>57.792734</td>\n",
       "      <td>11.630094</td>\n",
       "      <td>6.203177</td>\n",
       "      <td>999.814770</td>\n",
       "      <td>...</td>\n",
       "      <td>9.122857</td>\n",
       "      <td>42.689819</td>\n",
       "      <td>6.047977</td>\n",
       "      <td>9.977019</td>\n",
       "      <td>4.858634</td>\n",
       "      <td>68.347543</td>\n",
       "      <td>2.146849</td>\n",
       "      <td>10.422762</td>\n",
       "      <td>0.883763</td>\n",
       "      <td>16.532835</td>\n",
       "    </tr>\n",
       "    <tr>\n",
       "      <th>4</th>\n",
       "      <td>2016-01-15 04:00:00</td>\n",
       "      <td>5.663707</td>\n",
       "      <td>6.060915</td>\n",
       "      <td>1.786875</td>\n",
       "      <td>34.347666</td>\n",
       "      <td>540.531893</td>\n",
       "      <td>56.047189</td>\n",
       "      <td>10.957755</td>\n",
       "      <td>6.198826</td>\n",
       "      <td>999.678690</td>\n",
       "      <td>...</td>\n",
       "      <td>8.871028</td>\n",
       "      <td>42.774141</td>\n",
       "      <td>6.148599</td>\n",
       "      <td>10.142511</td>\n",
       "      <td>4.939416</td>\n",
       "      <td>66.927016</td>\n",
       "      <td>2.055292</td>\n",
       "      <td>10.360302</td>\n",
       "      <td>0.792826</td>\n",
       "      <td>16.525686</td>\n",
       "    </tr>\n",
       "  </tbody>\n",
       "</table>\n",
       "<p>5 rows × 87 columns</p>\n",
       "</div>"
      ],
      "text/plain": [
       "                  date  rougher.input.feed_au  rougher.input.feed_ag  \\\n",
       "0  2016-01-15 00:00:00               6.486150               6.100378   \n",
       "1  2016-01-15 01:00:00               6.478583               6.161113   \n",
       "2  2016-01-15 02:00:00               6.362222               6.116455   \n",
       "3  2016-01-15 03:00:00               6.118189               6.043309   \n",
       "4  2016-01-15 04:00:00               5.663707               6.060915   \n",
       "\n",
       "   rougher.input.feed_pb  rougher.input.feed_sol  rougher.input.feed_rate  \\\n",
       "0               2.284912               36.808594               523.546326   \n",
       "1               2.266033               35.753385               525.290581   \n",
       "2               2.159622               35.971630               530.026610   \n",
       "3               2.037807               36.862241               542.590390   \n",
       "4               1.786875               34.347666               540.531893   \n",
       "\n",
       "   rougher.input.feed_size  rougher.input.floatbank10_sulfate  \\\n",
       "0                55.486599                          11.986616   \n",
       "1                57.278666                          11.971193   \n",
       "2                57.510649                          11.920603   \n",
       "3                57.792734                          11.630094   \n",
       "4                56.047189                          10.957755   \n",
       "\n",
       "   rougher.input.floatbank10_xanthate  rougher.state.floatbank10_a_air  ...  \\\n",
       "0                            6.007990                       999.706909  ...   \n",
       "1                            6.005766                      1000.286398  ...   \n",
       "2                            6.197377                       999.719565  ...   \n",
       "3                            6.203177                       999.814770  ...   \n",
       "4                            6.198826                       999.678690  ...   \n",
       "\n",
       "   secondary_cleaner.output.tail_sol  final.output.concentrate_au  \\\n",
       "0                           8.764648                    42.192020   \n",
       "1                           9.001494                    42.701629   \n",
       "2                           8.842896                    42.657501   \n",
       "3                           9.122857                    42.689819   \n",
       "4                           8.871028                    42.774141   \n",
       "\n",
       "   final.output.concentrate_ag  final.output.concentrate_pb  \\\n",
       "0                     6.055403                     9.889648   \n",
       "1                     6.029369                     9.968944   \n",
       "2                     6.055926                    10.213995   \n",
       "3                     6.047977                     9.977019   \n",
       "4                     6.148599                    10.142511   \n",
       "\n",
       "   final.output.concentrate_sol  final.output.recovery  final.output.tail_au  \\\n",
       "0                      5.507324              70.541216              2.143149   \n",
       "1                      5.257781              69.266198              2.224930   \n",
       "2                      5.383759              68.116445              2.257889   \n",
       "3                      4.858634              68.347543              2.146849   \n",
       "4                      4.939416              66.927016              2.055292   \n",
       "\n",
       "   final.output.tail_ag  final.output.tail_pb  final.output.tail_sol  \n",
       "0             10.411962              0.895447              16.904297  \n",
       "1             10.462676              0.927452              16.634514  \n",
       "2             10.507046              0.953716              16.208849  \n",
       "3             10.422762              0.883763              16.532835  \n",
       "4             10.360302              0.792826              16.525686  \n",
       "\n",
       "[5 rows x 87 columns]"
      ]
     },
     "metadata": {},
     "output_type": "display_data"
    },
    {
     "data": {
      "text/plain": [
       "(14579, 87)"
      ]
     },
     "metadata": {},
     "output_type": "display_data"
    },
    {
     "data": {
      "text/html": [
       "<div>\n",
       "<style scoped>\n",
       "    .dataframe tbody tr th:only-of-type {\n",
       "        vertical-align: middle;\n",
       "    }\n",
       "\n",
       "    .dataframe tbody tr th {\n",
       "        vertical-align: top;\n",
       "    }\n",
       "\n",
       "    .dataframe thead th {\n",
       "        text-align: right;\n",
       "    }\n",
       "</style>\n",
       "<table border=\"1\" class=\"dataframe\">\n",
       "  <thead>\n",
       "    <tr style=\"text-align: right;\">\n",
       "      <th></th>\n",
       "      <th>date</th>\n",
       "      <th>rougher.input.feed_au</th>\n",
       "      <th>rougher.input.feed_ag</th>\n",
       "      <th>rougher.input.feed_pb</th>\n",
       "      <th>rougher.input.feed_sol</th>\n",
       "      <th>rougher.input.feed_rate</th>\n",
       "      <th>rougher.input.feed_size</th>\n",
       "      <th>rougher.input.floatbank10_sulfate</th>\n",
       "      <th>rougher.input.floatbank10_xanthate</th>\n",
       "      <th>rougher.state.floatbank10_a_air</th>\n",
       "      <th>...</th>\n",
       "      <th>secondary_cleaner.state.floatbank4_a_air</th>\n",
       "      <th>secondary_cleaner.state.floatbank4_a_level</th>\n",
       "      <th>secondary_cleaner.state.floatbank4_b_air</th>\n",
       "      <th>secondary_cleaner.state.floatbank4_b_level</th>\n",
       "      <th>secondary_cleaner.state.floatbank5_a_air</th>\n",
       "      <th>secondary_cleaner.state.floatbank5_a_level</th>\n",
       "      <th>secondary_cleaner.state.floatbank5_b_air</th>\n",
       "      <th>secondary_cleaner.state.floatbank5_b_level</th>\n",
       "      <th>secondary_cleaner.state.floatbank6_a_air</th>\n",
       "      <th>secondary_cleaner.state.floatbank6_a_level</th>\n",
       "    </tr>\n",
       "  </thead>\n",
       "  <tbody>\n",
       "    <tr>\n",
       "      <th>0</th>\n",
       "      <td>2017-12-09 14:59:59</td>\n",
       "      <td>4.365491</td>\n",
       "      <td>6.158718</td>\n",
       "      <td>3.875727</td>\n",
       "      <td>39.135119</td>\n",
       "      <td>555.820208</td>\n",
       "      <td>94.544358</td>\n",
       "      <td>6.146982</td>\n",
       "      <td>9.308612</td>\n",
       "      <td>1196.238112</td>\n",
       "      <td>...</td>\n",
       "      <td>23.018622</td>\n",
       "      <td>-500.492702</td>\n",
       "      <td>20.020205</td>\n",
       "      <td>-500.220296</td>\n",
       "      <td>17.963512</td>\n",
       "      <td>-499.939490</td>\n",
       "      <td>12.990306</td>\n",
       "      <td>-500.080993</td>\n",
       "      <td>19.990336</td>\n",
       "      <td>-499.191575</td>\n",
       "    </tr>\n",
       "    <tr>\n",
       "      <th>1</th>\n",
       "      <td>2017-12-09 15:59:59</td>\n",
       "      <td>4.362781</td>\n",
       "      <td>6.048130</td>\n",
       "      <td>3.902537</td>\n",
       "      <td>39.713906</td>\n",
       "      <td>544.731687</td>\n",
       "      <td>123.742430</td>\n",
       "      <td>6.210119</td>\n",
       "      <td>9.297709</td>\n",
       "      <td>1201.904177</td>\n",
       "      <td>...</td>\n",
       "      <td>23.024963</td>\n",
       "      <td>-501.153409</td>\n",
       "      <td>20.054122</td>\n",
       "      <td>-500.314711</td>\n",
       "      <td>17.979515</td>\n",
       "      <td>-499.272871</td>\n",
       "      <td>12.992404</td>\n",
       "      <td>-499.976268</td>\n",
       "      <td>20.013986</td>\n",
       "      <td>-500.625471</td>\n",
       "    </tr>\n",
       "    <tr>\n",
       "      <th>2</th>\n",
       "      <td>2017-12-09 16:59:59</td>\n",
       "      <td>5.081681</td>\n",
       "      <td>6.082745</td>\n",
       "      <td>4.564078</td>\n",
       "      <td>37.208683</td>\n",
       "      <td>558.155110</td>\n",
       "      <td>82.610855</td>\n",
       "      <td>7.363824</td>\n",
       "      <td>9.003562</td>\n",
       "      <td>1200.826926</td>\n",
       "      <td>...</td>\n",
       "      <td>22.993827</td>\n",
       "      <td>-501.559663</td>\n",
       "      <td>20.029144</td>\n",
       "      <td>-500.000662</td>\n",
       "      <td>18.012723</td>\n",
       "      <td>-500.024764</td>\n",
       "      <td>13.016445</td>\n",
       "      <td>-500.058432</td>\n",
       "      <td>19.973767</td>\n",
       "      <td>-501.394155</td>\n",
       "    </tr>\n",
       "    <tr>\n",
       "      <th>3</th>\n",
       "      <td>2017-12-09 17:59:59</td>\n",
       "      <td>5.145949</td>\n",
       "      <td>6.084374</td>\n",
       "      <td>4.768124</td>\n",
       "      <td>36.808874</td>\n",
       "      <td>539.713765</td>\n",
       "      <td>77.984784</td>\n",
       "      <td>6.927072</td>\n",
       "      <td>8.955597</td>\n",
       "      <td>1199.292489</td>\n",
       "      <td>...</td>\n",
       "      <td>23.032807</td>\n",
       "      <td>-501.287889</td>\n",
       "      <td>19.977466</td>\n",
       "      <td>-500.159903</td>\n",
       "      <td>17.980463</td>\n",
       "      <td>-500.504602</td>\n",
       "      <td>12.949071</td>\n",
       "      <td>-500.009937</td>\n",
       "      <td>20.010332</td>\n",
       "      <td>-508.337973</td>\n",
       "    </tr>\n",
       "    <tr>\n",
       "      <th>4</th>\n",
       "      <td>2017-12-09 18:59:59</td>\n",
       "      <td>5.735249</td>\n",
       "      <td>6.165220</td>\n",
       "      <td>4.512346</td>\n",
       "      <td>37.810642</td>\n",
       "      <td>558.713584</td>\n",
       "      <td>86.434874</td>\n",
       "      <td>7.823471</td>\n",
       "      <td>7.490356</td>\n",
       "      <td>1198.005449</td>\n",
       "      <td>...</td>\n",
       "      <td>23.001911</td>\n",
       "      <td>-499.947838</td>\n",
       "      <td>20.023735</td>\n",
       "      <td>-499.713680</td>\n",
       "      <td>17.990955</td>\n",
       "      <td>-500.334769</td>\n",
       "      <td>13.007523</td>\n",
       "      <td>-499.968459</td>\n",
       "      <td>19.995999</td>\n",
       "      <td>-499.788805</td>\n",
       "    </tr>\n",
       "  </tbody>\n",
       "</table>\n",
       "<p>5 rows × 53 columns</p>\n",
       "</div>"
      ],
      "text/plain": [
       "                  date  rougher.input.feed_au  rougher.input.feed_ag  \\\n",
       "0  2017-12-09 14:59:59               4.365491               6.158718   \n",
       "1  2017-12-09 15:59:59               4.362781               6.048130   \n",
       "2  2017-12-09 16:59:59               5.081681               6.082745   \n",
       "3  2017-12-09 17:59:59               5.145949               6.084374   \n",
       "4  2017-12-09 18:59:59               5.735249               6.165220   \n",
       "\n",
       "   rougher.input.feed_pb  rougher.input.feed_sol  rougher.input.feed_rate  \\\n",
       "0               3.875727               39.135119               555.820208   \n",
       "1               3.902537               39.713906               544.731687   \n",
       "2               4.564078               37.208683               558.155110   \n",
       "3               4.768124               36.808874               539.713765   \n",
       "4               4.512346               37.810642               558.713584   \n",
       "\n",
       "   rougher.input.feed_size  rougher.input.floatbank10_sulfate  \\\n",
       "0                94.544358                           6.146982   \n",
       "1               123.742430                           6.210119   \n",
       "2                82.610855                           7.363824   \n",
       "3                77.984784                           6.927072   \n",
       "4                86.434874                           7.823471   \n",
       "\n",
       "   rougher.input.floatbank10_xanthate  rougher.state.floatbank10_a_air  ...  \\\n",
       "0                            9.308612                      1196.238112  ...   \n",
       "1                            9.297709                      1201.904177  ...   \n",
       "2                            9.003562                      1200.826926  ...   \n",
       "3                            8.955597                      1199.292489  ...   \n",
       "4                            7.490356                      1198.005449  ...   \n",
       "\n",
       "   secondary_cleaner.state.floatbank4_a_air  \\\n",
       "0                                 23.018622   \n",
       "1                                 23.024963   \n",
       "2                                 22.993827   \n",
       "3                                 23.032807   \n",
       "4                                 23.001911   \n",
       "\n",
       "   secondary_cleaner.state.floatbank4_a_level  \\\n",
       "0                                 -500.492702   \n",
       "1                                 -501.153409   \n",
       "2                                 -501.559663   \n",
       "3                                 -501.287889   \n",
       "4                                 -499.947838   \n",
       "\n",
       "   secondary_cleaner.state.floatbank4_b_air  \\\n",
       "0                                 20.020205   \n",
       "1                                 20.054122   \n",
       "2                                 20.029144   \n",
       "3                                 19.977466   \n",
       "4                                 20.023735   \n",
       "\n",
       "   secondary_cleaner.state.floatbank4_b_level  \\\n",
       "0                                 -500.220296   \n",
       "1                                 -500.314711   \n",
       "2                                 -500.000662   \n",
       "3                                 -500.159903   \n",
       "4                                 -499.713680   \n",
       "\n",
       "   secondary_cleaner.state.floatbank5_a_air  \\\n",
       "0                                 17.963512   \n",
       "1                                 17.979515   \n",
       "2                                 18.012723   \n",
       "3                                 17.980463   \n",
       "4                                 17.990955   \n",
       "\n",
       "   secondary_cleaner.state.floatbank5_a_level  \\\n",
       "0                                 -499.939490   \n",
       "1                                 -499.272871   \n",
       "2                                 -500.024764   \n",
       "3                                 -500.504602   \n",
       "4                                 -500.334769   \n",
       "\n",
       "   secondary_cleaner.state.floatbank5_b_air  \\\n",
       "0                                 12.990306   \n",
       "1                                 12.992404   \n",
       "2                                 13.016445   \n",
       "3                                 12.949071   \n",
       "4                                 13.007523   \n",
       "\n",
       "   secondary_cleaner.state.floatbank5_b_level  \\\n",
       "0                                 -500.080993   \n",
       "1                                 -499.976268   \n",
       "2                                 -500.058432   \n",
       "3                                 -500.009937   \n",
       "4                                 -499.968459   \n",
       "\n",
       "   secondary_cleaner.state.floatbank6_a_air  \\\n",
       "0                                 19.990336   \n",
       "1                                 20.013986   \n",
       "2                                 19.973767   \n",
       "3                                 20.010332   \n",
       "4                                 19.995999   \n",
       "\n",
       "   secondary_cleaner.state.floatbank6_a_level  \n",
       "0                                 -499.191575  \n",
       "1                                 -500.625471  \n",
       "2                                 -501.394155  \n",
       "3                                 -508.337973  \n",
       "4                                 -499.788805  \n",
       "\n",
       "[5 rows x 53 columns]"
      ]
     },
     "metadata": {},
     "output_type": "display_data"
    },
    {
     "data": {
      "text/plain": [
       "(4860, 53)"
      ]
     },
     "metadata": {},
     "output_type": "display_data"
    },
    {
     "data": {
      "text/html": [
       "<div>\n",
       "<style scoped>\n",
       "    .dataframe tbody tr th:only-of-type {\n",
       "        vertical-align: middle;\n",
       "    }\n",
       "\n",
       "    .dataframe tbody tr th {\n",
       "        vertical-align: top;\n",
       "    }\n",
       "\n",
       "    .dataframe thead th {\n",
       "        text-align: right;\n",
       "    }\n",
       "</style>\n",
       "<table border=\"1\" class=\"dataframe\">\n",
       "  <thead>\n",
       "    <tr style=\"text-align: right;\">\n",
       "      <th></th>\n",
       "      <th>date</th>\n",
       "      <th>rougher.input.feed_au</th>\n",
       "      <th>rougher.input.feed_ag</th>\n",
       "      <th>rougher.input.feed_pb</th>\n",
       "      <th>rougher.input.feed_sol</th>\n",
       "      <th>rougher.input.feed_rate</th>\n",
       "      <th>rougher.input.feed_size</th>\n",
       "      <th>rougher.input.floatbank10_sulfate</th>\n",
       "      <th>rougher.input.floatbank10_xanthate</th>\n",
       "      <th>rougher.state.floatbank10_a_air</th>\n",
       "      <th>...</th>\n",
       "      <th>secondary_cleaner.output.tail_sol</th>\n",
       "      <th>final.output.concentrate_au</th>\n",
       "      <th>final.output.concentrate_ag</th>\n",
       "      <th>final.output.concentrate_pb</th>\n",
       "      <th>final.output.concentrate_sol</th>\n",
       "      <th>final.output.recovery</th>\n",
       "      <th>final.output.tail_au</th>\n",
       "      <th>final.output.tail_ag</th>\n",
       "      <th>final.output.tail_pb</th>\n",
       "      <th>final.output.tail_sol</th>\n",
       "    </tr>\n",
       "  </thead>\n",
       "  <tbody>\n",
       "    <tr>\n",
       "      <th>0</th>\n",
       "      <td>2016-01-15 00:00:00</td>\n",
       "      <td>6.486150</td>\n",
       "      <td>6.100378</td>\n",
       "      <td>2.284912</td>\n",
       "      <td>36.808594</td>\n",
       "      <td>523.546326</td>\n",
       "      <td>55.486599</td>\n",
       "      <td>11.986616</td>\n",
       "      <td>6.007990</td>\n",
       "      <td>999.706909</td>\n",
       "      <td>...</td>\n",
       "      <td>8.764648</td>\n",
       "      <td>42.192020</td>\n",
       "      <td>6.055403</td>\n",
       "      <td>9.889648</td>\n",
       "      <td>5.507324</td>\n",
       "      <td>70.541216</td>\n",
       "      <td>2.143149</td>\n",
       "      <td>10.411962</td>\n",
       "      <td>0.895447</td>\n",
       "      <td>16.904297</td>\n",
       "    </tr>\n",
       "    <tr>\n",
       "      <th>1</th>\n",
       "      <td>2016-01-15 01:00:00</td>\n",
       "      <td>6.478583</td>\n",
       "      <td>6.161113</td>\n",
       "      <td>2.266033</td>\n",
       "      <td>35.753385</td>\n",
       "      <td>525.290581</td>\n",
       "      <td>57.278666</td>\n",
       "      <td>11.971193</td>\n",
       "      <td>6.005766</td>\n",
       "      <td>1000.286398</td>\n",
       "      <td>...</td>\n",
       "      <td>9.001494</td>\n",
       "      <td>42.701629</td>\n",
       "      <td>6.029369</td>\n",
       "      <td>9.968944</td>\n",
       "      <td>5.257781</td>\n",
       "      <td>69.266198</td>\n",
       "      <td>2.224930</td>\n",
       "      <td>10.462676</td>\n",
       "      <td>0.927452</td>\n",
       "      <td>16.634514</td>\n",
       "    </tr>\n",
       "    <tr>\n",
       "      <th>2</th>\n",
       "      <td>2016-01-15 02:00:00</td>\n",
       "      <td>6.362222</td>\n",
       "      <td>6.116455</td>\n",
       "      <td>2.159622</td>\n",
       "      <td>35.971630</td>\n",
       "      <td>530.026610</td>\n",
       "      <td>57.510649</td>\n",
       "      <td>11.920603</td>\n",
       "      <td>6.197377</td>\n",
       "      <td>999.719565</td>\n",
       "      <td>...</td>\n",
       "      <td>8.842896</td>\n",
       "      <td>42.657501</td>\n",
       "      <td>6.055926</td>\n",
       "      <td>10.213995</td>\n",
       "      <td>5.383759</td>\n",
       "      <td>68.116445</td>\n",
       "      <td>2.257889</td>\n",
       "      <td>10.507046</td>\n",
       "      <td>0.953716</td>\n",
       "      <td>16.208849</td>\n",
       "    </tr>\n",
       "    <tr>\n",
       "      <th>3</th>\n",
       "      <td>2016-01-15 03:00:00</td>\n",
       "      <td>6.118189</td>\n",
       "      <td>6.043309</td>\n",
       "      <td>2.037807</td>\n",
       "      <td>36.862241</td>\n",
       "      <td>542.590390</td>\n",
       "      <td>57.792734</td>\n",
       "      <td>11.630094</td>\n",
       "      <td>6.203177</td>\n",
       "      <td>999.814770</td>\n",
       "      <td>...</td>\n",
       "      <td>9.122857</td>\n",
       "      <td>42.689819</td>\n",
       "      <td>6.047977</td>\n",
       "      <td>9.977019</td>\n",
       "      <td>4.858634</td>\n",
       "      <td>68.347543</td>\n",
       "      <td>2.146849</td>\n",
       "      <td>10.422762</td>\n",
       "      <td>0.883763</td>\n",
       "      <td>16.532835</td>\n",
       "    </tr>\n",
       "    <tr>\n",
       "      <th>4</th>\n",
       "      <td>2016-01-15 04:00:00</td>\n",
       "      <td>5.663707</td>\n",
       "      <td>6.060915</td>\n",
       "      <td>1.786875</td>\n",
       "      <td>34.347666</td>\n",
       "      <td>540.531893</td>\n",
       "      <td>56.047189</td>\n",
       "      <td>10.957755</td>\n",
       "      <td>6.198826</td>\n",
       "      <td>999.678690</td>\n",
       "      <td>...</td>\n",
       "      <td>8.871028</td>\n",
       "      <td>42.774141</td>\n",
       "      <td>6.148599</td>\n",
       "      <td>10.142511</td>\n",
       "      <td>4.939416</td>\n",
       "      <td>66.927016</td>\n",
       "      <td>2.055292</td>\n",
       "      <td>10.360302</td>\n",
       "      <td>0.792826</td>\n",
       "      <td>16.525686</td>\n",
       "    </tr>\n",
       "  </tbody>\n",
       "</table>\n",
       "<p>5 rows × 87 columns</p>\n",
       "</div>"
      ],
      "text/plain": [
       "                  date  rougher.input.feed_au  rougher.input.feed_ag  \\\n",
       "0  2016-01-15 00:00:00               6.486150               6.100378   \n",
       "1  2016-01-15 01:00:00               6.478583               6.161113   \n",
       "2  2016-01-15 02:00:00               6.362222               6.116455   \n",
       "3  2016-01-15 03:00:00               6.118189               6.043309   \n",
       "4  2016-01-15 04:00:00               5.663707               6.060915   \n",
       "\n",
       "   rougher.input.feed_pb  rougher.input.feed_sol  rougher.input.feed_rate  \\\n",
       "0               2.284912               36.808594               523.546326   \n",
       "1               2.266033               35.753385               525.290581   \n",
       "2               2.159622               35.971630               530.026610   \n",
       "3               2.037807               36.862241               542.590390   \n",
       "4               1.786875               34.347666               540.531893   \n",
       "\n",
       "   rougher.input.feed_size  rougher.input.floatbank10_sulfate  \\\n",
       "0                55.486599                          11.986616   \n",
       "1                57.278666                          11.971193   \n",
       "2                57.510649                          11.920603   \n",
       "3                57.792734                          11.630094   \n",
       "4                56.047189                          10.957755   \n",
       "\n",
       "   rougher.input.floatbank10_xanthate  rougher.state.floatbank10_a_air  ...  \\\n",
       "0                            6.007990                       999.706909  ...   \n",
       "1                            6.005766                      1000.286398  ...   \n",
       "2                            6.197377                       999.719565  ...   \n",
       "3                            6.203177                       999.814770  ...   \n",
       "4                            6.198826                       999.678690  ...   \n",
       "\n",
       "   secondary_cleaner.output.tail_sol  final.output.concentrate_au  \\\n",
       "0                           8.764648                    42.192020   \n",
       "1                           9.001494                    42.701629   \n",
       "2                           8.842896                    42.657501   \n",
       "3                           9.122857                    42.689819   \n",
       "4                           8.871028                    42.774141   \n",
       "\n",
       "   final.output.concentrate_ag  final.output.concentrate_pb  \\\n",
       "0                     6.055403                     9.889648   \n",
       "1                     6.029369                     9.968944   \n",
       "2                     6.055926                    10.213995   \n",
       "3                     6.047977                     9.977019   \n",
       "4                     6.148599                    10.142511   \n",
       "\n",
       "   final.output.concentrate_sol  final.output.recovery  final.output.tail_au  \\\n",
       "0                      5.507324              70.541216              2.143149   \n",
       "1                      5.257781              69.266198              2.224930   \n",
       "2                      5.383759              68.116445              2.257889   \n",
       "3                      4.858634              68.347543              2.146849   \n",
       "4                      4.939416              66.927016              2.055292   \n",
       "\n",
       "   final.output.tail_ag  final.output.tail_pb  final.output.tail_sol  \n",
       "0             10.411962              0.895447              16.904297  \n",
       "1             10.462676              0.927452              16.634514  \n",
       "2             10.507046              0.953716              16.208849  \n",
       "3             10.422762              0.883763              16.532835  \n",
       "4             10.360302              0.792826              16.525686  \n",
       "\n",
       "[5 rows x 87 columns]"
      ]
     },
     "metadata": {},
     "output_type": "display_data"
    },
    {
     "data": {
      "text/plain": [
       "(19439, 87)"
      ]
     },
     "metadata": {},
     "output_type": "display_data"
    }
   ],
   "source": [
    "# выведим по хеды\n",
    "\n",
    "display(data_train.head())\n",
    "display(data_train.shape)\n",
    "\n",
    "display(data_test.head())\n",
    "display(data_test.shape)\n",
    "\n",
    "display(data_full.head())\n",
    "display(data_full.shape)"
   ]
  },
  {
   "cell_type": "code",
   "execution_count": 6,
   "metadata": {},
   "outputs": [
    {
     "name": "stdout",
     "output_type": "stream",
     "text": [
      "Количество дубликатов в тренеровочной выборке : 0\n",
      "Количество дубликатов в тестовой выборке : 0\n",
      "Количество дубликатов в полном датасете(генеральной выборке) : 0\n"
     ]
    }
   ],
   "source": [
    "print(f'Количество дубликатов в тренеровочной выборке : {data_train.duplicated().sum()}')\n",
    "print(f'Количество дубликатов в тестовой выборке : {data_test.duplicated().sum()}')\n",
    "print(f'Количество дубликатов в полном датасете(генеральной выборке) : {data_full.duplicated().sum()}')"
   ]
  },
  {
   "cell_type": "code",
   "execution_count": 7,
   "metadata": {},
   "outputs": [
    {
     "name": "stdout",
     "output_type": "stream",
     "text": [
      "Количество признаков(столбцов) в тренировочной выборке: 87\n",
      "Количество признаков(столбцов) в тестовой выборке: 53\n",
      "Количество признаков(столбцов) в полном датасете(генеральной выборке) выборке: 87\n"
     ]
    }
   ],
   "source": [
    "print(f'Количество признаков(столбцов) в тренировочной выборке: {len(data_train.columns)}')\n",
    "print(f'Количество признаков(столбцов) в тестовой выборке: {len(data_test.columns)}')\n",
    "print(f'Количество признаков(столбцов) в полном датасете(генеральной выборке) выборке: {len(data_full.columns)}')"
   ]
  },
  {
   "cell_type": "code",
   "execution_count": null,
   "metadata": {},
   "outputs": [],
   "source": []
  },
  {
   "cell_type": "code",
   "execution_count": 8,
   "metadata": {
    "scrolled": true
   },
   "outputs": [
    {
     "name": "stdout",
     "output_type": "stream",
     "text": [
      "<class 'pandas.core.frame.DataFrame'>\n",
      "RangeIndex: 14579 entries, 0 to 14578\n",
      "Data columns (total 87 columns):\n",
      " #   Column                                              Non-Null Count  Dtype  \n",
      "---  ------                                              --------------  -----  \n",
      " 0   date                                                14579 non-null  object \n",
      " 1   rougher.input.feed_au                               14579 non-null  float64\n",
      " 2   rougher.input.feed_ag                               14579 non-null  float64\n",
      " 3   rougher.input.feed_pb                               14507 non-null  float64\n",
      " 4   rougher.input.feed_sol                              14502 non-null  float64\n",
      " 5   rougher.input.feed_rate                             14572 non-null  float64\n",
      " 6   rougher.input.feed_size                             14478 non-null  float64\n",
      " 7   rougher.input.floatbank10_sulfate                   14548 non-null  float64\n",
      " 8   rougher.input.floatbank10_xanthate                  14572 non-null  float64\n",
      " 9   rougher.state.floatbank10_a_air                     14579 non-null  float64\n",
      " 10  rougher.state.floatbank10_a_level                   14579 non-null  float64\n",
      " 11  rougher.state.floatbank10_b_air                     14579 non-null  float64\n",
      " 12  rougher.state.floatbank10_b_level                   14579 non-null  float64\n",
      " 13  rougher.state.floatbank10_c_air                     14579 non-null  float64\n",
      " 14  rougher.state.floatbank10_c_level                   14579 non-null  float64\n",
      " 15  rougher.state.floatbank10_d_air                     14579 non-null  float64\n",
      " 16  rougher.state.floatbank10_d_level                   14579 non-null  float64\n",
      " 17  rougher.state.floatbank10_e_air                     14150 non-null  float64\n",
      " 18  rougher.state.floatbank10_e_level                   14579 non-null  float64\n",
      " 19  rougher.state.floatbank10_f_air                     14579 non-null  float64\n",
      " 20  rougher.state.floatbank10_f_level                   14579 non-null  float64\n",
      " 21  rougher.input.floatbank11_sulfate                   14543 non-null  float64\n",
      " 22  rougher.input.floatbank11_xanthate                  14172 non-null  float64\n",
      " 23  rougher.calculation.sulfate_to_au_concentrate       14578 non-null  float64\n",
      " 24  rougher.calculation.floatbank10_sulfate_to_au_feed  14578 non-null  float64\n",
      " 25  rougher.calculation.floatbank11_sulfate_to_au_feed  14578 non-null  float64\n",
      " 26  rougher.calculation.au_pb_ratio                     14579 non-null  float64\n",
      " 27  rougher.output.concentrate_au                       14579 non-null  float64\n",
      " 28  rougher.output.concentrate_ag                       14579 non-null  float64\n",
      " 29  rougher.output.concentrate_pb                       14579 non-null  float64\n",
      " 30  rougher.output.concentrate_sol                      14561 non-null  float64\n",
      " 31  rougher.output.recovery                             14579 non-null  float64\n",
      " 32  rougher.output.tail_au                              14579 non-null  float64\n",
      " 33  rougher.output.tail_ag                              14578 non-null  float64\n",
      " 34  rougher.output.tail_pb                              14579 non-null  float64\n",
      " 35  rougher.output.tail_sol                             14579 non-null  float64\n",
      " 36  primary_cleaner.input.sulfate                       14556 non-null  float64\n",
      " 37  primary_cleaner.input.depressant                    14551 non-null  float64\n",
      " 38  primary_cleaner.input.feed_size                     14579 non-null  float64\n",
      " 39  primary_cleaner.input.xanthate                      14518 non-null  float64\n",
      " 40  primary_cleaner.state.floatbank8_a_air              14576 non-null  float64\n",
      " 41  primary_cleaner.state.floatbank8_a_level            14579 non-null  float64\n",
      " 42  primary_cleaner.state.floatbank8_b_air              14576 non-null  float64\n",
      " 43  primary_cleaner.state.floatbank8_b_level            14579 non-null  float64\n",
      " 44  primary_cleaner.state.floatbank8_c_air              14579 non-null  float64\n",
      " 45  primary_cleaner.state.floatbank8_c_level            14579 non-null  float64\n",
      " 46  primary_cleaner.state.floatbank8_d_air              14578 non-null  float64\n",
      " 47  primary_cleaner.state.floatbank8_d_level            14579 non-null  float64\n",
      " 48  primary_cleaner.output.concentrate_au               14579 non-null  float64\n",
      " 49  primary_cleaner.output.concentrate_ag               14579 non-null  float64\n",
      " 50  primary_cleaner.output.concentrate_pb               14491 non-null  float64\n",
      " 51  primary_cleaner.output.concentrate_sol              14314 non-null  float64\n",
      " 52  primary_cleaner.output.tail_au                      14579 non-null  float64\n",
      " 53  primary_cleaner.output.tail_ag                      14575 non-null  float64\n",
      " 54  primary_cleaner.output.tail_pb                      14573 non-null  float64\n",
      " 55  primary_cleaner.output.tail_sol                     14534 non-null  float64\n",
      " 56  secondary_cleaner.state.floatbank2_a_air            14485 non-null  float64\n",
      " 57  secondary_cleaner.state.floatbank2_a_level          14579 non-null  float64\n",
      " 58  secondary_cleaner.state.floatbank2_b_air            14557 non-null  float64\n",
      " 59  secondary_cleaner.state.floatbank2_b_level          14579 non-null  float64\n",
      " 60  secondary_cleaner.state.floatbank3_a_air            14567 non-null  float64\n",
      " 61  secondary_cleaner.state.floatbank3_a_level          14579 non-null  float64\n",
      " 62  secondary_cleaner.state.floatbank3_b_air            14579 non-null  float64\n",
      " 63  secondary_cleaner.state.floatbank3_b_level          14579 non-null  float64\n",
      " 64  secondary_cleaner.state.floatbank4_a_air            14574 non-null  float64\n",
      " 65  secondary_cleaner.state.floatbank4_a_level          14579 non-null  float64\n",
      " 66  secondary_cleaner.state.floatbank4_b_air            14579 non-null  float64\n",
      " 67  secondary_cleaner.state.floatbank4_b_level          14579 non-null  float64\n",
      " 68  secondary_cleaner.state.floatbank5_a_air            14579 non-null  float64\n",
      " 69  secondary_cleaner.state.floatbank5_a_level          14579 non-null  float64\n",
      " 70  secondary_cleaner.state.floatbank5_b_air            14579 non-null  float64\n",
      " 71  secondary_cleaner.state.floatbank5_b_level          14579 non-null  float64\n",
      " 72  secondary_cleaner.state.floatbank6_a_air            14578 non-null  float64\n",
      " 73  secondary_cleaner.state.floatbank6_a_level          14579 non-null  float64\n",
      " 74  secondary_cleaner.output.tail_au                    14579 non-null  float64\n",
      " 75  secondary_cleaner.output.tail_ag                    14578 non-null  float64\n",
      " 76  secondary_cleaner.output.tail_pb                    14575 non-null  float64\n",
      " 77  secondary_cleaner.output.tail_sol                   13659 non-null  float64\n",
      " 78  final.output.concentrate_au                         14579 non-null  float64\n",
      " 79  final.output.concentrate_ag                         14578 non-null  float64\n",
      " 80  final.output.concentrate_pb                         14578 non-null  float64\n",
      " 81  final.output.concentrate_sol                        14387 non-null  float64\n",
      " 82  final.output.recovery                               14579 non-null  float64\n",
      " 83  final.output.tail_au                                14579 non-null  float64\n",
      " 84  final.output.tail_ag                                14578 non-null  float64\n",
      " 85  final.output.tail_pb                                14504 non-null  float64\n",
      " 86  final.output.tail_sol                               14574 non-null  float64\n",
      "dtypes: float64(86), object(1)\n",
      "memory usage: 9.7+ MB\n"
     ]
    },
    {
     "data": {
      "text/plain": [
       "None"
      ]
     },
     "metadata": {},
     "output_type": "display_data"
    }
   ],
   "source": [
    "display(data_train.info())"
   ]
  },
  {
   "cell_type": "code",
   "execution_count": 9,
   "metadata": {
    "scrolled": true
   },
   "outputs": [
    {
     "name": "stdout",
     "output_type": "stream",
     "text": [
      "<class 'pandas.core.frame.DataFrame'>\n",
      "RangeIndex: 4860 entries, 0 to 4859\n",
      "Data columns (total 53 columns):\n",
      " #   Column                                      Non-Null Count  Dtype  \n",
      "---  ------                                      --------------  -----  \n",
      " 0   date                                        4860 non-null   object \n",
      " 1   rougher.input.feed_au                       4860 non-null   float64\n",
      " 2   rougher.input.feed_ag                       4860 non-null   float64\n",
      " 3   rougher.input.feed_pb                       4832 non-null   float64\n",
      " 4   rougher.input.feed_sol                      4838 non-null   float64\n",
      " 5   rougher.input.feed_rate                     4856 non-null   float64\n",
      " 6   rougher.input.feed_size                     4816 non-null   float64\n",
      " 7   rougher.input.floatbank10_sulfate           4857 non-null   float64\n",
      " 8   rougher.input.floatbank10_xanthate          4859 non-null   float64\n",
      " 9   rougher.state.floatbank10_a_air             4859 non-null   float64\n",
      " 10  rougher.state.floatbank10_a_level           4859 non-null   float64\n",
      " 11  rougher.state.floatbank10_b_air             4859 non-null   float64\n",
      " 12  rougher.state.floatbank10_b_level           4859 non-null   float64\n",
      " 13  rougher.state.floatbank10_c_air             4859 non-null   float64\n",
      " 14  rougher.state.floatbank10_c_level           4859 non-null   float64\n",
      " 15  rougher.state.floatbank10_d_air             4860 non-null   float64\n",
      " 16  rougher.state.floatbank10_d_level           4860 non-null   float64\n",
      " 17  rougher.state.floatbank10_e_air             4853 non-null   float64\n",
      " 18  rougher.state.floatbank10_e_level           4860 non-null   float64\n",
      " 19  rougher.state.floatbank10_f_air             4860 non-null   float64\n",
      " 20  rougher.state.floatbank10_f_level           4860 non-null   float64\n",
      " 21  rougher.input.floatbank11_sulfate           4852 non-null   float64\n",
      " 22  rougher.input.floatbank11_xanthate          4814 non-null   float64\n",
      " 23  primary_cleaner.input.sulfate               4859 non-null   float64\n",
      " 24  primary_cleaner.input.depressant            4851 non-null   float64\n",
      " 25  primary_cleaner.input.feed_size             4860 non-null   float64\n",
      " 26  primary_cleaner.input.xanthate              4817 non-null   float64\n",
      " 27  primary_cleaner.state.floatbank8_a_air      4859 non-null   float64\n",
      " 28  primary_cleaner.state.floatbank8_a_level    4859 non-null   float64\n",
      " 29  primary_cleaner.state.floatbank8_b_air      4859 non-null   float64\n",
      " 30  primary_cleaner.state.floatbank8_b_level    4859 non-null   float64\n",
      " 31  primary_cleaner.state.floatbank8_c_air      4858 non-null   float64\n",
      " 32  primary_cleaner.state.floatbank8_c_level    4859 non-null   float64\n",
      " 33  primary_cleaner.state.floatbank8_d_air      4858 non-null   float64\n",
      " 34  primary_cleaner.state.floatbank8_d_level    4859 non-null   float64\n",
      " 35  secondary_cleaner.state.floatbank2_a_air    4734 non-null   float64\n",
      " 36  secondary_cleaner.state.floatbank2_a_level  4859 non-null   float64\n",
      " 37  secondary_cleaner.state.floatbank2_b_air    4859 non-null   float64\n",
      " 38  secondary_cleaner.state.floatbank2_b_level  4859 non-null   float64\n",
      " 39  secondary_cleaner.state.floatbank3_a_air    4859 non-null   float64\n",
      " 40  secondary_cleaner.state.floatbank3_a_level  4859 non-null   float64\n",
      " 41  secondary_cleaner.state.floatbank3_b_air    4859 non-null   float64\n",
      " 42  secondary_cleaner.state.floatbank3_b_level  4859 non-null   float64\n",
      " 43  secondary_cleaner.state.floatbank4_a_air    4859 non-null   float64\n",
      " 44  secondary_cleaner.state.floatbank4_a_level  4859 non-null   float64\n",
      " 45  secondary_cleaner.state.floatbank4_b_air    4859 non-null   float64\n",
      " 46  secondary_cleaner.state.floatbank4_b_level  4859 non-null   float64\n",
      " 47  secondary_cleaner.state.floatbank5_a_air    4859 non-null   float64\n",
      " 48  secondary_cleaner.state.floatbank5_a_level  4859 non-null   float64\n",
      " 49  secondary_cleaner.state.floatbank5_b_air    4859 non-null   float64\n",
      " 50  secondary_cleaner.state.floatbank5_b_level  4859 non-null   float64\n",
      " 51  secondary_cleaner.state.floatbank6_a_air    4859 non-null   float64\n",
      " 52  secondary_cleaner.state.floatbank6_a_level  4859 non-null   float64\n",
      "dtypes: float64(52), object(1)\n",
      "memory usage: 2.0+ MB\n"
     ]
    }
   ],
   "source": [
    "data_test.info()"
   ]
  },
  {
   "cell_type": "code",
   "execution_count": 10,
   "metadata": {
    "scrolled": true
   },
   "outputs": [
    {
     "name": "stdout",
     "output_type": "stream",
     "text": [
      "<class 'pandas.core.frame.DataFrame'>\n",
      "RangeIndex: 19439 entries, 0 to 19438\n",
      "Data columns (total 87 columns):\n",
      " #   Column                                              Non-Null Count  Dtype  \n",
      "---  ------                                              --------------  -----  \n",
      " 0   date                                                19439 non-null  object \n",
      " 1   rougher.input.feed_au                               19439 non-null  float64\n",
      " 2   rougher.input.feed_ag                               19439 non-null  float64\n",
      " 3   rougher.input.feed_pb                               19339 non-null  float64\n",
      " 4   rougher.input.feed_sol                              19340 non-null  float64\n",
      " 5   rougher.input.feed_rate                             19428 non-null  float64\n",
      " 6   rougher.input.feed_size                             19294 non-null  float64\n",
      " 7   rougher.input.floatbank10_sulfate                   19405 non-null  float64\n",
      " 8   rougher.input.floatbank10_xanthate                  19431 non-null  float64\n",
      " 9   rougher.state.floatbank10_a_air                     19438 non-null  float64\n",
      " 10  rougher.state.floatbank10_a_level                   19438 non-null  float64\n",
      " 11  rougher.state.floatbank10_b_air                     19438 non-null  float64\n",
      " 12  rougher.state.floatbank10_b_level                   19438 non-null  float64\n",
      " 13  rougher.state.floatbank10_c_air                     19438 non-null  float64\n",
      " 14  rougher.state.floatbank10_c_level                   19438 non-null  float64\n",
      " 15  rougher.state.floatbank10_d_air                     19439 non-null  float64\n",
      " 16  rougher.state.floatbank10_d_level                   19439 non-null  float64\n",
      " 17  rougher.state.floatbank10_e_air                     19003 non-null  float64\n",
      " 18  rougher.state.floatbank10_e_level                   19439 non-null  float64\n",
      " 19  rougher.state.floatbank10_f_air                     19439 non-null  float64\n",
      " 20  rougher.state.floatbank10_f_level                   19439 non-null  float64\n",
      " 21  rougher.input.floatbank11_sulfate                   19395 non-null  float64\n",
      " 22  rougher.input.floatbank11_xanthate                  18986 non-null  float64\n",
      " 23  rougher.calculation.sulfate_to_au_concentrate       19437 non-null  float64\n",
      " 24  rougher.calculation.floatbank10_sulfate_to_au_feed  19437 non-null  float64\n",
      " 25  rougher.calculation.floatbank11_sulfate_to_au_feed  19437 non-null  float64\n",
      " 26  rougher.calculation.au_pb_ratio                     19439 non-null  float64\n",
      " 27  rougher.output.concentrate_au                       19439 non-null  float64\n",
      " 28  rougher.output.concentrate_ag                       19439 non-null  float64\n",
      " 29  rougher.output.concentrate_pb                       19439 non-null  float64\n",
      " 30  rougher.output.concentrate_sol                      19416 non-null  float64\n",
      " 31  rougher.output.recovery                             19439 non-null  float64\n",
      " 32  rougher.output.tail_au                              19439 non-null  float64\n",
      " 33  rougher.output.tail_ag                              19438 non-null  float64\n",
      " 34  rougher.output.tail_pb                              19439 non-null  float64\n",
      " 35  rougher.output.tail_sol                             19439 non-null  float64\n",
      " 36  primary_cleaner.input.sulfate                       19415 non-null  float64\n",
      " 37  primary_cleaner.input.depressant                    19402 non-null  float64\n",
      " 38  primary_cleaner.input.feed_size                     19439 non-null  float64\n",
      " 39  primary_cleaner.input.xanthate                      19335 non-null  float64\n",
      " 40  primary_cleaner.state.floatbank8_a_air              19435 non-null  float64\n",
      " 41  primary_cleaner.state.floatbank8_a_level            19438 non-null  float64\n",
      " 42  primary_cleaner.state.floatbank8_b_air              19435 non-null  float64\n",
      " 43  primary_cleaner.state.floatbank8_b_level            19438 non-null  float64\n",
      " 44  primary_cleaner.state.floatbank8_c_air              19437 non-null  float64\n",
      " 45  primary_cleaner.state.floatbank8_c_level            19438 non-null  float64\n",
      " 46  primary_cleaner.state.floatbank8_d_air              19436 non-null  float64\n",
      " 47  primary_cleaner.state.floatbank8_d_level            19438 non-null  float64\n",
      " 48  primary_cleaner.output.concentrate_au               19439 non-null  float64\n",
      " 49  primary_cleaner.output.concentrate_ag               19439 non-null  float64\n",
      " 50  primary_cleaner.output.concentrate_pb               19323 non-null  float64\n",
      " 51  primary_cleaner.output.concentrate_sol              19069 non-null  float64\n",
      " 52  primary_cleaner.output.tail_au                      19439 non-null  float64\n",
      " 53  primary_cleaner.output.tail_ag                      19435 non-null  float64\n",
      " 54  primary_cleaner.output.tail_pb                      19418 non-null  float64\n",
      " 55  primary_cleaner.output.tail_sol                     19377 non-null  float64\n",
      " 56  secondary_cleaner.state.floatbank2_a_air            19219 non-null  float64\n",
      " 57  secondary_cleaner.state.floatbank2_a_level          19438 non-null  float64\n",
      " 58  secondary_cleaner.state.floatbank2_b_air            19416 non-null  float64\n",
      " 59  secondary_cleaner.state.floatbank2_b_level          19438 non-null  float64\n",
      " 60  secondary_cleaner.state.floatbank3_a_air            19426 non-null  float64\n",
      " 61  secondary_cleaner.state.floatbank3_a_level          19438 non-null  float64\n",
      " 62  secondary_cleaner.state.floatbank3_b_air            19438 non-null  float64\n",
      " 63  secondary_cleaner.state.floatbank3_b_level          19438 non-null  float64\n",
      " 64  secondary_cleaner.state.floatbank4_a_air            19433 non-null  float64\n",
      " 65  secondary_cleaner.state.floatbank4_a_level          19438 non-null  float64\n",
      " 66  secondary_cleaner.state.floatbank4_b_air            19438 non-null  float64\n",
      " 67  secondary_cleaner.state.floatbank4_b_level          19438 non-null  float64\n",
      " 68  secondary_cleaner.state.floatbank5_a_air            19438 non-null  float64\n",
      " 69  secondary_cleaner.state.floatbank5_a_level          19438 non-null  float64\n",
      " 70  secondary_cleaner.state.floatbank5_b_air            19438 non-null  float64\n",
      " 71  secondary_cleaner.state.floatbank5_b_level          19438 non-null  float64\n",
      " 72  secondary_cleaner.state.floatbank6_a_air            19437 non-null  float64\n",
      " 73  secondary_cleaner.state.floatbank6_a_level          19438 non-null  float64\n",
      " 74  secondary_cleaner.output.tail_au                    19439 non-null  float64\n",
      " 75  secondary_cleaner.output.tail_ag                    19437 non-null  float64\n",
      " 76  secondary_cleaner.output.tail_pb                    19427 non-null  float64\n",
      " 77  secondary_cleaner.output.tail_sol                   17691 non-null  float64\n",
      " 78  final.output.concentrate_au                         19439 non-null  float64\n",
      " 79  final.output.concentrate_ag                         19438 non-null  float64\n",
      " 80  final.output.concentrate_pb                         19438 non-null  float64\n",
      " 81  final.output.concentrate_sol                        19228 non-null  float64\n",
      " 82  final.output.recovery                               19439 non-null  float64\n",
      " 83  final.output.tail_au                                19439 non-null  float64\n",
      " 84  final.output.tail_ag                                19438 non-null  float64\n",
      " 85  final.output.tail_pb                                19338 non-null  float64\n",
      " 86  final.output.tail_sol                               19433 non-null  float64\n",
      "dtypes: float64(86), object(1)\n",
      "memory usage: 12.9+ MB\n"
     ]
    }
   ],
   "source": [
    "data_full.info()"
   ]
  },
  {
   "cell_type": "markdown",
   "metadata": {},
   "source": [
    "Промежуточный вывод:\n",
    "- явные дубликаты не обнаружены\n",
    "- имеются пропуски\n",
    "- формат признака 'data' - object - исправим его далее\n",
    "- количество признаков в 'data_test', меньше чем в генеральной и тренировочной выборках\n"
   ]
  },
  {
   "cell_type": "markdown",
   "metadata": {},
   "source": [
    "Проведем __предобработку__"
   ]
  },
  {
   "cell_type": "code",
   "execution_count": 11,
   "metadata": {},
   "outputs": [
    {
     "name": "stdout",
     "output_type": "stream",
     "text": [
      "Тип данных в стобце \"date\" - datetime64[ns]\n",
      "Тип данных в стобце \"date\" - datetime64[ns]\n",
      "Тип данных в стобце \"date\" - datetime64[ns]\n"
     ]
    }
   ],
   "source": [
    "# изменим формат признака 'date' с object на привычный/правильный datetime\n",
    "\n",
    "for i in (data_train, data_test, data_full):\n",
    "    i['date'] = pd.to_datetime(i['date'], format='%Y-%m-%d %H:%M:%S')\n",
    "    print(f'Тип данных в стобце \"date\" - {i.dtypes[\"date\"]}')"
   ]
  },
  {
   "cell_type": "code",
   "execution_count": null,
   "metadata": {},
   "outputs": [],
   "source": []
  },
  {
   "cell_type": "markdown",
   "metadata": {},
   "source": [
    "Так как мы знаем, из описания, что __'Соседние по времени параметры часто похожи'__ - заполним пропуски с помощью функции __ffill__ , во всех наших дф'ах"
   ]
  },
  {
   "cell_type": "code",
   "execution_count": 12,
   "metadata": {},
   "outputs": [],
   "source": [
    "data_train = data_train.ffill(axis = 0)\n",
    "data_test = data_test.ffill(axis = 0)\n",
    "data_full = data_full.ffill(axis = 0)"
   ]
  },
  {
   "cell_type": "code",
   "execution_count": 13,
   "metadata": {},
   "outputs": [
    {
     "data": {
      "text/plain": [
       "date                      0\n",
       "rougher.input.feed_au     0\n",
       "rougher.input.feed_ag     0\n",
       "rougher.input.feed_pb     0\n",
       "rougher.input.feed_sol    0\n",
       "                         ..\n",
       "final.output.recovery     0\n",
       "final.output.tail_au      0\n",
       "final.output.tail_ag      0\n",
       "final.output.tail_pb      0\n",
       "final.output.tail_sol     0\n",
       "Length: 87, dtype: int64"
      ]
     },
     "metadata": {},
     "output_type": "display_data"
    },
    {
     "data": {
      "text/plain": [
       "date                                          0\n",
       "rougher.input.feed_au                         0\n",
       "rougher.input.feed_ag                         0\n",
       "rougher.input.feed_pb                         0\n",
       "rougher.input.feed_sol                        0\n",
       "rougher.input.feed_rate                       0\n",
       "rougher.input.feed_size                       0\n",
       "rougher.input.floatbank10_sulfate             0\n",
       "rougher.input.floatbank10_xanthate            0\n",
       "rougher.state.floatbank10_a_air               0\n",
       "rougher.state.floatbank10_a_level             0\n",
       "rougher.state.floatbank10_b_air               0\n",
       "rougher.state.floatbank10_b_level             0\n",
       "rougher.state.floatbank10_c_air               0\n",
       "rougher.state.floatbank10_c_level             0\n",
       "rougher.state.floatbank10_d_air               0\n",
       "rougher.state.floatbank10_d_level             0\n",
       "rougher.state.floatbank10_e_air               0\n",
       "rougher.state.floatbank10_e_level             0\n",
       "rougher.state.floatbank10_f_air               0\n",
       "rougher.state.floatbank10_f_level             0\n",
       "rougher.input.floatbank11_sulfate             0\n",
       "rougher.input.floatbank11_xanthate            0\n",
       "primary_cleaner.input.sulfate                 0\n",
       "primary_cleaner.input.depressant              0\n",
       "primary_cleaner.input.feed_size               0\n",
       "primary_cleaner.input.xanthate                0\n",
       "primary_cleaner.state.floatbank8_a_air        0\n",
       "primary_cleaner.state.floatbank8_a_level      0\n",
       "primary_cleaner.state.floatbank8_b_air        0\n",
       "primary_cleaner.state.floatbank8_b_level      0\n",
       "primary_cleaner.state.floatbank8_c_air        0\n",
       "primary_cleaner.state.floatbank8_c_level      0\n",
       "primary_cleaner.state.floatbank8_d_air        0\n",
       "primary_cleaner.state.floatbank8_d_level      0\n",
       "secondary_cleaner.state.floatbank2_a_air      0\n",
       "secondary_cleaner.state.floatbank2_a_level    0\n",
       "secondary_cleaner.state.floatbank2_b_air      0\n",
       "secondary_cleaner.state.floatbank2_b_level    0\n",
       "secondary_cleaner.state.floatbank3_a_air      0\n",
       "secondary_cleaner.state.floatbank3_a_level    0\n",
       "secondary_cleaner.state.floatbank3_b_air      0\n",
       "secondary_cleaner.state.floatbank3_b_level    0\n",
       "secondary_cleaner.state.floatbank4_a_air      0\n",
       "secondary_cleaner.state.floatbank4_a_level    0\n",
       "secondary_cleaner.state.floatbank4_b_air      0\n",
       "secondary_cleaner.state.floatbank4_b_level    0\n",
       "secondary_cleaner.state.floatbank5_a_air      0\n",
       "secondary_cleaner.state.floatbank5_a_level    0\n",
       "secondary_cleaner.state.floatbank5_b_air      0\n",
       "secondary_cleaner.state.floatbank5_b_level    0\n",
       "secondary_cleaner.state.floatbank6_a_air      0\n",
       "secondary_cleaner.state.floatbank6_a_level    0\n",
       "dtype: int64"
      ]
     },
     "metadata": {},
     "output_type": "display_data"
    },
    {
     "data": {
      "text/plain": [
       "date                      0\n",
       "rougher.input.feed_au     0\n",
       "rougher.input.feed_ag     0\n",
       "rougher.input.feed_pb     0\n",
       "rougher.input.feed_sol    0\n",
       "                         ..\n",
       "final.output.recovery     0\n",
       "final.output.tail_au      0\n",
       "final.output.tail_ag      0\n",
       "final.output.tail_pb      0\n",
       "final.output.tail_sol     0\n",
       "Length: 87, dtype: int64"
      ]
     },
     "metadata": {},
     "output_type": "display_data"
    }
   ],
   "source": [
    "display(data_train.isna().sum())\n",
    "display(data_test.isna().sum())\n",
    "display(data_full.isna().sum())"
   ]
  },
  {
   "cell_type": "markdown",
   "metadata": {},
   "source": [
    "Проверим правильно ли расчитана эффективность обогащения. Вычеслим ее на обучающей выборке и сравним ее с результатом `rougher.output.recovery`. Найдем __МАЕ__ между нашими расчетами и значением признака.\n",
    "\n",
    "Формула для расчета эффективности - `Recovery = ((C * (F - T)) / (F * (C - T))) * 100%` , где \n",
    "- C — доля золота в концентрате после флотации/очистки, согласно условиям это - `rougher.output.concentrate_au` ;\n",
    "- F — доля золота в сырье/концентрате до флотации/очистки, согласно условиям это - `rougher.input.feed_au` ;\n",
    "- T — доля золота в отвальных хвостах после флотации/очистки, согласно условиям это - `rougher.output.tail_au` ."
   ]
  },
  {
   "cell_type": "code",
   "execution_count": 14,
   "metadata": {},
   "outputs": [
    {
     "name": "stdout",
     "output_type": "stream",
     "text": [
      "Средняя абсолютная ошибка равна: 9.83758577644259e-15\n"
     ]
    }
   ],
   "source": [
    "# расчитаем и сравним полученный результат с data_train['rougher.output.recovery']\n",
    "\n",
    "C = data_train['rougher.output.concentrate_au']\n",
    "F = data_train['rougher.input.feed_au']\n",
    "T = data_train['rougher.output.tail_au']\n",
    "\n",
    "Recovery = ((C * (F - T)) / (F * (C - T))) * 100\n",
    "\n",
    "print(f'Средняя абсолютная ошибка равна: {mean_absolute_error(data_train[\"rougher.output.recovery\"], Recovery)}')"
   ]
  },
  {
   "cell_type": "markdown",
   "metadata": {},
   "source": [
    "__МАЕ__ получилась очень маленьком, следовательно можно сказать , что эффективность обагощения была расчитана корректно."
   ]
  },
  {
   "cell_type": "code",
   "execution_count": null,
   "metadata": {},
   "outputs": [],
   "source": []
  },
  {
   "cell_type": "markdown",
   "metadata": {},
   "source": [
    "__Проанализируем__ признаки, недоступные в тестовой выборке."
   ]
  },
  {
   "cell_type": "code",
   "execution_count": 15,
   "metadata": {},
   "outputs": [
    {
     "data": {
      "text/plain": [
       "{'final.output.concentrate_ag',\n",
       " 'final.output.concentrate_au',\n",
       " 'final.output.concentrate_pb',\n",
       " 'final.output.concentrate_sol',\n",
       " 'final.output.recovery',\n",
       " 'final.output.tail_ag',\n",
       " 'final.output.tail_au',\n",
       " 'final.output.tail_pb',\n",
       " 'final.output.tail_sol',\n",
       " 'primary_cleaner.output.concentrate_ag',\n",
       " 'primary_cleaner.output.concentrate_au',\n",
       " 'primary_cleaner.output.concentrate_pb',\n",
       " 'primary_cleaner.output.concentrate_sol',\n",
       " 'primary_cleaner.output.tail_ag',\n",
       " 'primary_cleaner.output.tail_au',\n",
       " 'primary_cleaner.output.tail_pb',\n",
       " 'primary_cleaner.output.tail_sol',\n",
       " 'rougher.calculation.au_pb_ratio',\n",
       " 'rougher.calculation.floatbank10_sulfate_to_au_feed',\n",
       " 'rougher.calculation.floatbank11_sulfate_to_au_feed',\n",
       " 'rougher.calculation.sulfate_to_au_concentrate',\n",
       " 'rougher.output.concentrate_ag',\n",
       " 'rougher.output.concentrate_au',\n",
       " 'rougher.output.concentrate_pb',\n",
       " 'rougher.output.concentrate_sol',\n",
       " 'rougher.output.recovery',\n",
       " 'rougher.output.tail_ag',\n",
       " 'rougher.output.tail_au',\n",
       " 'rougher.output.tail_pb',\n",
       " 'rougher.output.tail_sol',\n",
       " 'secondary_cleaner.output.tail_ag',\n",
       " 'secondary_cleaner.output.tail_au',\n",
       " 'secondary_cleaner.output.tail_pb',\n",
       " 'secondary_cleaner.output.tail_sol'}"
      ]
     },
     "metadata": {},
     "output_type": "display_data"
    },
    {
     "name": "stdout",
     "output_type": "stream",
     "text": [
      "\n",
      "Количество отсутсвующих фичей в тестовой выборке: 34\n"
     ]
    }
   ],
   "source": [
    "display(set(data_train.columns) - set(data_test.columns))\n",
    "\n",
    "print(f'\\nКоличество отсутсвующих фичей в тестовой выборке: {len(set(data_train.columns) - set(data_test.columns))}')"
   ]
  },
  {
   "cell_type": "markdown",
   "metadata": {},
   "source": [
    "Вероятнее всего эти данные из будущего, или же просто присланные данные были не полные, в любом случае мы вернемся к этому вопросу чуть позже, на данном этапе нет смысла выравнивать трейн с тестом по столбцам , так как некоторые столбцы нам могу понадобиться для анализа в дальнейшем"
   ]
  },
  {
   "cell_type": "markdown",
   "metadata": {},
   "source": [
    "__Промежуточный вывод__\n",
    "\n",
    "На данном этапе, проделанно следующее:\n",
    "- импортировали нужные нам библиотеки\n",
    "- загрузили данные, и вывели хеды\n",
    "- изменили тип данных для столбца \"date\", в привычный datetime\n",
    "- проверили данные на наличие явных дублей\n",
    "- заполнили пропущенные значения \n",
    "- проверили правильно ли расчитана эффективность обогащения, вычислили МАЕ"
   ]
  },
  {
   "cell_type": "markdown",
   "metadata": {},
   "source": [
    "## Анализ данных"
   ]
  },
  {
   "cell_type": "markdown",
   "metadata": {},
   "source": [
    "__Посмотрим, как меняется концентрация металлов (Au, Ag, Pb) на различных этапах :__   сырье(`rougher.input.feed_...`), в черновом концентрате(`rougher.output.concentrate...`), в концентрате после первой очистки(`primary_cleaner.output.concentrate_...`) и в финальном концентрате(`final.output.concentrate_...`)"
   ]
  },
  {
   "cell_type": "code",
   "execution_count": 16,
   "metadata": {},
   "outputs": [
    {
     "data": {
      "image/png": "[encoded data removed]",
      "text/plain": [
       "<Figure size 1152x432 with 1 Axes>"
      ]
     },
     "metadata": {
      "needs_background": "light"
     },
     "output_type": "display_data"
    }
   ],
   "source": [
    "# график распределения золота - Au\n",
    "\n",
    "plt.figure(figsize = [16, 6])\n",
    "\n",
    "plt.title(f'Распределение золота(AU) на разных этапах', fontsize = 13)\n",
    "plt.xlabel('Концентрация металла %')\n",
    "plt.ylabel('Кол-во наблюдений')\n",
    "\n",
    "sns.histplot(data_train['rougher.input.feed_au'], color = 'red', label = 'Исходное сырье')\n",
    "sns.histplot(data_train['rougher.output.concentrate_au'], color = 'green', label = 'Флотация')\n",
    "sns.histplot(data_train['primary_cleaner.output.concentrate_au'], color = 'blue', label = 'Первичная очистка')\n",
    "sns.histplot(data_train['final.output.concentrate_au'], color = 'yellow', label = 'Финальный концентрат')\n",
    "\n",
    "plt.legend()\n",
    "plt.show()"
   ]
  },
  {
   "cell_type": "code",
   "execution_count": null,
   "metadata": {},
   "outputs": [],
   "source": []
  },
  {
   "cell_type": "code",
   "execution_count": 17,
   "metadata": {},
   "outputs": [
    {
     "data": {
      "image/png": "[encoded data removed]",
      "text/plain": [
       "<Figure size 1152x432 with 1 Axes>"
      ]
     },
     "metadata": {
      "needs_background": "light"
     },
     "output_type": "display_data"
    }
   ],
   "source": [
    "# график распределения серебра - Ag\n",
    "\n",
    "plt.figure(figsize = [16, 6])\n",
    "\n",
    "plt.title(f'Распределение серебра(AG) на разных этапах', fontsize = 13)\n",
    "plt.xlabel('Концентрация металла %')\n",
    "plt.ylabel('Кол-во наблюдений')\n",
    "\n",
    "sns.histplot(data_train['rougher.input.feed_ag'], color = 'red', label = 'Исходное сырье')\n",
    "sns.histplot(data_train['rougher.output.concentrate_ag'], color = 'green', label = 'Флотация')\n",
    "sns.histplot(data_train['primary_cleaner.output.concentrate_ag'], color = 'blue', label = 'Первичная очистка')\n",
    "sns.histplot(data_train['final.output.concentrate_ag'], color = 'yellow', label = 'Финальный концентрат')\n",
    "\n",
    "plt.legend()\n",
    "plt.show()"
   ]
  },
  {
   "cell_type": "code",
   "execution_count": null,
   "metadata": {},
   "outputs": [],
   "source": []
  },
  {
   "cell_type": "code",
   "execution_count": 18,
   "metadata": {},
   "outputs": [
    {
     "data": {
      "image/png": "[encoded data removed]",
      "text/plain": [
       "<Figure size 1152x432 with 1 Axes>"
      ]
     },
     "metadata": {
      "needs_background": "light"
     },
     "output_type": "display_data"
    }
   ],
   "source": [
    "# график распределения свинца - Pb\n",
    "\n",
    "plt.figure(figsize = [16, 6])\n",
    "\n",
    "plt.title(f'Распределение свинца(PB) на разных этапах', fontsize = 13)\n",
    "plt.xlabel('Концентрация металла %')\n",
    "plt.ylabel('Кол-во наблюдений')\n",
    "\n",
    "sns.histplot(data_train['rougher.input.feed_pb'], color = 'red', label = 'Исходное сырье')\n",
    "sns.histplot(data_train['rougher.output.concentrate_pb'], color = 'green', label = 'Флотация')\n",
    "sns.histplot(data_train['primary_cleaner.output.concentrate_pb'], color = 'blue', label = 'Первичная очистка')\n",
    "sns.histplot(data_train['final.output.concentrate_pb'], color = 'yellow', label = 'Финальный концентрат')\n",
    "\n",
    "plt.legend()\n",
    "plt.show()"
   ]
  },
  {
   "cell_type": "code",
   "execution_count": 19,
   "metadata": {},
   "outputs": [],
   "source": [
    "# Напишим функцию для удаления аномалий\n",
    "\n",
    "def data_without_anomaly(data):\n",
    "\n",
    "    for metal in ['au', 'ag', 'pb']:\n",
    "        data = data[(data[f'rougher.output.concentrate_{metal}'] > 0.1)]\n",
    "        data = data[(data[f'final.output.concentrate_{metal}'] > 0.1)]\n",
    "        data = data[(data[f'primary_cleaner.output.concentrate_{metal}'] > 0.1)]\n",
    "        data = data[(data[f'final.output.concentrate_{metal}'] > 0.1)]\n",
    "    return data"
   ]
  },
  {
   "cell_type": "code",
   "execution_count": 20,
   "metadata": {},
   "outputs": [
    {
     "name": "stdout",
     "output_type": "stream",
     "text": [
      "До : (14579, 87)\n",
      "После : (13877, 87)\n"
     ]
    }
   ],
   "source": [
    "# до\n",
    "print(f'До : {data_train.shape}')\n",
    "\n",
    "# после\n",
    "data_train = data_without_anomaly(data_train)\n",
    "print(f'После : {data_train.shape}')"
   ]
  },
  {
   "cell_type": "code",
   "execution_count": null,
   "metadata": {},
   "outputs": [],
   "source": []
  },
  {
   "cell_type": "markdown",
   "metadata": {},
   "source": [
    "Выведим один из металов, дабы убедиться что аномалии исчезли"
   ]
  },
  {
   "cell_type": "code",
   "execution_count": 21,
   "metadata": {},
   "outputs": [
    {
     "data": {
      "image/png": "[encoded data removed]",
      "text/plain": [
       "<Figure size 1152x432 with 1 Axes>"
      ]
     },
     "metadata": {
      "needs_background": "light"
     },
     "output_type": "display_data"
    }
   ],
   "source": [
    "plt.figure(figsize = [16, 6])\n",
    "\n",
    "plt.title(f'Распределение золота(AU) на разных этапах', fontsize = 13)\n",
    "plt.xlabel('Концентрация металла %')\n",
    "plt.ylabel('Кол-во наблюдений')\n",
    "\n",
    "sns.histplot(data_train['rougher.input.feed_au'], color = 'red', label = 'Исходное сырье')\n",
    "sns.histplot(data_train['rougher.output.concentrate_au'], color = 'green', label = 'Флотация')\n",
    "sns.histplot(data_train['primary_cleaner.output.concentrate_au'], color = 'blue', label = 'Первичная очистка')\n",
    "sns.histplot(data_train['final.output.concentrate_au'], color = 'yellow', label = 'Финальный концентрат')\n",
    "\n",
    "plt.legend()\n",
    "plt.show()"
   ]
  },
  {
   "cell_type": "markdown",
   "metadata": {},
   "source": [
    "От выбрасов избавились, едем дальше"
   ]
  },
  {
   "cell_type": "code",
   "execution_count": null,
   "metadata": {},
   "outputs": [],
   "source": []
  },
  {
   "cell_type": "markdown",
   "metadata": {},
   "source": [
    "Глядя на графики можно сказать следующее: \n",
    "- концентрация золота увеличивается с каждой последующей обработкой\n",
    "- концентрация серебра увеличивается на этапе флотации, а после очисток концентрация снижается\n",
    "- концентрация свинца увеличивается после флотации и первичной очистки, финальный концетрат остается приблезительно на уровне как после первичной очистки."
   ]
  },
  {
   "cell_type": "markdown",
   "metadata": {},
   "source": [
    "__Сравним распределения размеров гранул исходного сырья `rougher.input.feed_size` на обучающей и тестовой выборках.__\n"
   ]
  },
  {
   "cell_type": "code",
   "execution_count": 22,
   "metadata": {},
   "outputs": [
    {
     "data": {
      "image/png": "[encoded data removed]",
      "text/plain": [
       "<Figure size 1152x432 with 1 Axes>"
      ]
     },
     "metadata": {
      "needs_background": "light"
     },
     "output_type": "display_data"
    }
   ],
   "source": [
    "# построим график распределегния гранул\n",
    "\n",
    "plt.figure(figsize = [16, 6])\n",
    "\n",
    "plt.title(f'Распределение размеров гранул на обучающей и тренировочной выборках', fontsize = 13)\n",
    "plt.xlabel('Размер')\n",
    "plt.ylabel('Кол-во наблюдений')\n",
    "\n",
    "sns.histplot(data_train['rougher.input.feed_size'], color = 'red', label = 'Обучающая выборка')\n",
    "sns.histplot(data_test['rougher.input.feed_size'], color = 'green', label = 'Тренировочная выборка')\n",
    "\n",
    "plt.legend()\n",
    "plt.show()"
   ]
  },
  {
   "cell_type": "code",
   "execution_count": 23,
   "metadata": {},
   "outputs": [
    {
     "data": {
      "image/png": "[encoded data removed]",
      "text/plain": [
       "<Figure size 864x432 with 1 Axes>"
      ]
     },
     "metadata": {
      "needs_background": "light"
     },
     "output_type": "display_data"
    }
   ],
   "source": [
    "plt.figure(figsize = [12, 6])\n",
    "\n",
    "sns.kdeplot(data_train['rougher.input.feed_size'], shade = True , color = 'green')\n",
    "sns.kdeplot(data_test['rougher.input.feed_size'], shade = True , color = 'blue');"
   ]
  },
  {
   "cell_type": "markdown",
   "metadata": {},
   "source": [
    "Как мы видим из графика, диапозон распределения размера гранул приблезительно одинаковый, однако количество наблюдей в тренировочной выборке больше, что в принципе логично. "
   ]
  },
  {
   "cell_type": "code",
   "execution_count": null,
   "metadata": {},
   "outputs": [],
   "source": []
  },
  {
   "cell_type": "markdown",
   "metadata": {},
   "source": [
    "__Исследуйем суммарную концентрацию металлов на разных стадиях: в сырье, в черновом концентрате, в концентрате после первой очистки и в финальном концентрате.__"
   ]
  },
  {
   "cell_type": "code",
   "execution_count": 24,
   "metadata": {},
   "outputs": [],
   "source": [
    "# переберем в цикле наши металлы и просумируем, запишем в отдельные переменные\n",
    "\n",
    "sum_input = 0\n",
    "sum_output = 0\n",
    "sum_primary = 0\n",
    "sum_final = 0\n",
    "for metal in ['au', 'ag', 'pb']:\n",
    "    sum_input += data_train[f'rougher.input.feed_{metal}']\n",
    "    sum_output += data_train[f'rougher.output.concentrate_{metal}']\n",
    "    sum_primary += data_train[f'primary_cleaner.output.concentrate_{metal}']\n",
    "    sum_final += data_train[f'final.output.concentrate_{metal}']"
   ]
  },
  {
   "cell_type": "code",
   "execution_count": 25,
   "metadata": {},
   "outputs": [
    {
     "data": {
      "image/png": "[encoded data removed]",
      "text/plain": [
       "<Figure size 1152x432 with 1 Axes>"
      ]
     },
     "metadata": {
      "needs_background": "light"
     },
     "output_type": "display_data"
    }
   ],
   "source": [
    "# построим график суммарного распределения концентрации на разных стадиях очистки\n",
    "\n",
    "plt.figure(figsize=[16, 6])\n",
    "\n",
    "plt.title('Cуммарная концентрация металлов', fontsize=15)\n",
    "plt.xlabel('Концентрация металлов')\n",
    "plt.ylabel('Кол-во наблюдений')\n",
    "\n",
    "sns.histplot(sum_input, color = 'red', label = 'Концентрация в сырье', bins = 100)\n",
    "sns.histplot(sum_output, color = 'green', label = 'Концентрация после флотации', bins = 100)\n",
    "sns.histplot(sum_primary, color = 'blue', label = 'Концентрация первой очистки', bins = 100)\n",
    "sns.histplot(sum_final, color = 'yellow', label = 'Концентрация в готовом продукте', bins = 100)\n",
    "\n",
    "plt.legend()\n",
    "plt.show();"
   ]
  },
  {
   "cell_type": "markdown",
   "metadata": {},
   "source": [
    "__Промежуточный вывод__\n",
    "\n",
    "В ходе проведения анализа выяснили следующее:\n",
    "- практически все этапы очистки влияют на увеличения концентрации сырья в гранулах\n",
    "- распределение гранул на тестовой и обучеющей выборке очень похожи, за исключением больших наблюдений в обучающей выборке, что логично, тк она в принципе больше чем тестовая\n",
    "- общая суммарная концентрация растет по мере прохождения очистки"
   ]
  },
  {
   "cell_type": "markdown",
   "metadata": {},
   "source": [
    "## Модель"
   ]
  },
  {
   "cell_type": "markdown",
   "metadata": {},
   "source": [
    "Перед тем как строить наши модели вернемся к нашей отложенной задачке, а именно выравним фичи в обучающей выборке по отношению к тестовой выборке.\n",
    "- удалим ненужные столбцы\n",
    "- добавим в тестовую и обучающую наши таргеты `rougher.output.recovery` и `final.output.recovery`\n",
    "- удалим столбец \"date\""
   ]
  },
  {
   "cell_type": "markdown",
   "metadata": {},
   "source": [
    "Уберем соответсввующие признаки из обучающей, дабы столбцы совпадали в обеих выборках."
   ]
  },
  {
   "cell_type": "code",
   "execution_count": 26,
   "metadata": {},
   "outputs": [
    {
     "name": "stdout",
     "output_type": "stream",
     "text": [
      "Количество фичей в тренировочной выборке ДО: 87\n"
     ]
    }
   ],
   "source": [
    "print(f'Количество фичей в тренировочной выборке ДО: {data_train.shape[1]}')"
   ]
  },
  {
   "cell_type": "code",
   "execution_count": 27,
   "metadata": {},
   "outputs": [
    {
     "name": "stdout",
     "output_type": "stream",
     "text": [
      "Количество фичей в тренировочной выборке ПОСЛЕ: 53\n",
      "Количество фичей в тестовой выборке: 53\n"
     ]
    }
   ],
   "source": [
    "# уберем лишние столбцы из обучающей выборки\n",
    "\n",
    "data_train = data_train[data_test.columns]\n",
    "print(f'Количество фичей в тренировочной выборке ПОСЛЕ: {data_train.shape[1]}')\n",
    "print(f'Количество фичей в тестовой выборке: {data_test.shape[1]}')"
   ]
  },
  {
   "cell_type": "markdown",
   "metadata": {},
   "source": [
    "Далее, так как мы удалили из __обучающей выборки__ целевые признаки __\"rougher.output.recovery\"__ и __\"final.output.recovery\"__ , мы добавим их всяв данные из нашей __генеральной выборки__ используя __merge__ для объединения таблиц(данных), то же самое проделаем и для __тестовой выборки__. Ориентироваться будем по столбцу __\"date\"__"
   ]
  },
  {
   "cell_type": "code",
   "execution_count": 28,
   "metadata": {},
   "outputs": [
    {
     "data": {
      "text/html": [
       "<div>\n",
       "<style scoped>\n",
       "    .dataframe tbody tr th:only-of-type {\n",
       "        vertical-align: middle;\n",
       "    }\n",
       "\n",
       "    .dataframe tbody tr th {\n",
       "        vertical-align: top;\n",
       "    }\n",
       "\n",
       "    .dataframe thead th {\n",
       "        text-align: right;\n",
       "    }\n",
       "</style>\n",
       "<table border=\"1\" class=\"dataframe\">\n",
       "  <thead>\n",
       "    <tr style=\"text-align: right;\">\n",
       "      <th></th>\n",
       "      <th>date</th>\n",
       "      <th>rougher.output.recovery</th>\n",
       "      <th>final.output.recovery</th>\n",
       "    </tr>\n",
       "  </thead>\n",
       "  <tbody>\n",
       "    <tr>\n",
       "      <th>0</th>\n",
       "      <td>2016-01-15 00:00:00</td>\n",
       "      <td>87.107763</td>\n",
       "      <td>70.541216</td>\n",
       "    </tr>\n",
       "    <tr>\n",
       "      <th>1</th>\n",
       "      <td>2016-01-15 01:00:00</td>\n",
       "      <td>86.843261</td>\n",
       "      <td>69.266198</td>\n",
       "    </tr>\n",
       "    <tr>\n",
       "      <th>2</th>\n",
       "      <td>2016-01-15 02:00:00</td>\n",
       "      <td>86.842308</td>\n",
       "      <td>68.116445</td>\n",
       "    </tr>\n",
       "    <tr>\n",
       "      <th>3</th>\n",
       "      <td>2016-01-15 03:00:00</td>\n",
       "      <td>87.226430</td>\n",
       "      <td>68.347543</td>\n",
       "    </tr>\n",
       "    <tr>\n",
       "      <th>4</th>\n",
       "      <td>2016-01-15 04:00:00</td>\n",
       "      <td>86.688794</td>\n",
       "      <td>66.927016</td>\n",
       "    </tr>\n",
       "  </tbody>\n",
       "</table>\n",
       "</div>"
      ],
      "text/plain": [
       "                 date  rougher.output.recovery  final.output.recovery\n",
       "0 2016-01-15 00:00:00                87.107763              70.541216\n",
       "1 2016-01-15 01:00:00                86.843261              69.266198\n",
       "2 2016-01-15 02:00:00                86.842308              68.116445\n",
       "3 2016-01-15 03:00:00                87.226430              68.347543\n",
       "4 2016-01-15 04:00:00                86.688794              66.927016"
      ]
     },
     "execution_count": 28,
     "metadata": {},
     "output_type": "execute_result"
    }
   ],
   "source": [
    "# добавим столбцы в тренировочную выборку\n",
    "data_train = data_train.merge(\n",
    "    data_full.loc[:, ['date','rougher.output.recovery','final.output.recovery']], on = 'date')\n",
    "\n",
    "# проверим...все ок\n",
    "data_train[['date', 'rougher.output.recovery', 'final.output.recovery']].head()"
   ]
  },
  {
   "cell_type": "code",
   "execution_count": 29,
   "metadata": {},
   "outputs": [
    {
     "data": {
      "text/html": [
       "<div>\n",
       "<style scoped>\n",
       "    .dataframe tbody tr th:only-of-type {\n",
       "        vertical-align: middle;\n",
       "    }\n",
       "\n",
       "    .dataframe tbody tr th {\n",
       "        vertical-align: top;\n",
       "    }\n",
       "\n",
       "    .dataframe thead th {\n",
       "        text-align: right;\n",
       "    }\n",
       "</style>\n",
       "<table border=\"1\" class=\"dataframe\">\n",
       "  <thead>\n",
       "    <tr style=\"text-align: right;\">\n",
       "      <th></th>\n",
       "      <th>date</th>\n",
       "      <th>rougher.output.recovery</th>\n",
       "      <th>final.output.recovery</th>\n",
       "    </tr>\n",
       "  </thead>\n",
       "  <tbody>\n",
       "    <tr>\n",
       "      <th>0</th>\n",
       "      <td>2017-12-09 14:59:59</td>\n",
       "      <td>89.514960</td>\n",
       "      <td>70.281454</td>\n",
       "    </tr>\n",
       "    <tr>\n",
       "      <th>1</th>\n",
       "      <td>2017-12-09 15:59:59</td>\n",
       "      <td>89.858126</td>\n",
       "      <td>65.523246</td>\n",
       "    </tr>\n",
       "    <tr>\n",
       "      <th>2</th>\n",
       "      <td>2017-12-09 16:59:59</td>\n",
       "      <td>91.816623</td>\n",
       "      <td>74.817644</td>\n",
       "    </tr>\n",
       "    <tr>\n",
       "      <th>3</th>\n",
       "      <td>2017-12-09 17:59:59</td>\n",
       "      <td>88.478959</td>\n",
       "      <td>63.082720</td>\n",
       "    </tr>\n",
       "    <tr>\n",
       "      <th>4</th>\n",
       "      <td>2017-12-09 18:59:59</td>\n",
       "      <td>89.230316</td>\n",
       "      <td>74.463380</td>\n",
       "    </tr>\n",
       "  </tbody>\n",
       "</table>\n",
       "</div>"
      ],
      "text/plain": [
       "                 date  rougher.output.recovery  final.output.recovery\n",
       "0 2017-12-09 14:59:59                89.514960              70.281454\n",
       "1 2017-12-09 15:59:59                89.858126              65.523246\n",
       "2 2017-12-09 16:59:59                91.816623              74.817644\n",
       "3 2017-12-09 17:59:59                88.478959              63.082720\n",
       "4 2017-12-09 18:59:59                89.230316              74.463380"
      ]
     },
     "execution_count": 29,
     "metadata": {},
     "output_type": "execute_result"
    }
   ],
   "source": [
    "# добавим столбцы в тестовую выборку\n",
    "data_test = data_test.merge(\n",
    "    data_full.loc[:, ['date','rougher.output.recovery','final.output.recovery']], on = 'date')\n",
    "\n",
    "# проверим...все ок\n",
    "data_test[['date','rougher.output.recovery', 'final.output.recovery']].head()"
   ]
  },
  {
   "cell_type": "markdown",
   "metadata": {},
   "source": [
    "Так как дальше мы будем обучать модели, а у нас имеется ненужный нам столбец 'date', удалим его в тренировочной и тестовой выборках."
   ]
  },
  {
   "cell_type": "code",
   "execution_count": 30,
   "metadata": {},
   "outputs": [],
   "source": [
    "data_train = data_train.drop('date', axis = 1)\n",
    "data_test = data_test.drop('date', axis = 1)"
   ]
  },
  {
   "cell_type": "code",
   "execution_count": null,
   "metadata": {},
   "outputs": [],
   "source": []
  },
  {
   "cell_type": "markdown",
   "metadata": {},
   "source": [
    "__Напишим функцию sMAPE__\n"
   ]
  },
  {
   "cell_type": "code",
   "execution_count": 31,
   "metadata": {},
   "outputs": [],
   "source": [
    "def smape (target, predict):\n",
    "    return (sum(abs(target - predict) / ((abs(target) + abs(predict)) / 2)) / len(target)) * 100\n",
    "\n",
    "smape_scorer = make_scorer(smape, greater_is_better = False)"
   ]
  },
  {
   "cell_type": "markdown",
   "metadata": {},
   "source": [
    "__Напишем функцию для итоговой sMAPE__"
   ]
  },
  {
   "cell_type": "code",
   "execution_count": 32,
   "metadata": {},
   "outputs": [],
   "source": [
    "def final_smape (rougher, final):\n",
    "    return round(abs((pd.Series(0.25 * rougher + 0.75 * final).mean())), 2)"
   ]
  },
  {
   "cell_type": "code",
   "execution_count": 33,
   "metadata": {},
   "outputs": [],
   "source": [
    "# выделим наши фичи и таргет(ы) \n",
    "\n",
    "features_train = data_train.drop(['rougher.output.recovery', 'final.output.recovery'], axis = 1)\n",
    "target_train = data_train[['rougher.output.recovery', 'final.output.recovery']] \n",
    "\n",
    "features_test = data_test.drop(['rougher.output.recovery', 'final.output.recovery'], axis = 1)\n",
    "target_test = data_test[['rougher.output.recovery', 'final.output.recovery']]"
   ]
  },
  {
   "cell_type": "code",
   "execution_count": 34,
   "metadata": {},
   "outputs": [],
   "source": [
    "# отстандартизируем наши данные\n",
    "\n",
    "scaler = StandardScaler()\n",
    "features_train = scaler.fit_transform(features_train)\n",
    "features_test = scaler.transform(features_test)"
   ]
  },
  {
   "cell_type": "code",
   "execution_count": null,
   "metadata": {},
   "outputs": [],
   "source": []
  },
  {
   "cell_type": "markdown",
   "metadata": {},
   "source": [
    "Обучим наши модели"
   ]
  },
  {
   "cell_type": "markdown",
   "metadata": {},
   "source": [
    "__LinearRegression__"
   ]
  },
  {
   "cell_type": "code",
   "execution_count": 35,
   "metadata": {},
   "outputs": [
    {
     "name": "stdout",
     "output_type": "stream",
     "text": [
      "Симметричное среднее абсолютное процентное отклонение равно: 8.86%\n"
     ]
    }
   ],
   "source": [
    "# инициализируем нашу модель\n",
    "model_lr = LinearRegression()\n",
    "\n",
    "# расчитаем валидационно sMAPE для 'rougher.output.recovery'\n",
    "lr_rougher = cross_val_score(model_lr, features_train, target_train.iloc[:, 0], \n",
    "                                scoring = smape_scorer, cv = 5,) \n",
    "\n",
    "# расчитаем валидационно sMAPE для 'final.output.recovery'\n",
    "lr_final = cross_val_score(model_lr, features_train, target_train.iloc[:, 1], \n",
    "                                scoring = smape_scorer, cv = 5,) \n",
    "\n",
    "lr_final_smape = final_smape(lr_rougher, lr_final)\n",
    "\n",
    "print(f'Симметричное среднее абсолютное процентное отклонение равно: {lr_final_smape}%')"
   ]
  },
  {
   "cell_type": "code",
   "execution_count": null,
   "metadata": {},
   "outputs": [],
   "source": []
  },
  {
   "cell_type": "markdown",
   "metadata": {},
   "source": [
    "__DecisionTreeRegressor__"
   ]
  },
  {
   "cell_type": "code",
   "execution_count": 36,
   "metadata": {},
   "outputs": [
    {
     "name": "stdout",
     "output_type": "stream",
     "text": [
      "final smape лучшей модели равна: 8.46%\n",
      "Глубина дерева: 2\n",
      "DecisionTreeRegressor(max_depth=2,\n",
      "                      random_state=RandomState(MT19937) at 0x7FA4BEEC9040)\n"
     ]
    }
   ],
   "source": [
    "# Напишем цикл для модели Дерево решений, выведем лучший результат.\n",
    "\n",
    "best_depth_dt = 0\n",
    "best_model_dt = None\n",
    "best_dt_final_smape = 100\n",
    "\n",
    "for depth in range(1, 15):\n",
    "    model_dt = DecisionTreeRegressor(random_state = STATE, max_depth = depth)\n",
    "\n",
    "    dt_rougher = cross_val_score(model_dt, features_train, target_train.iloc[:, 0], \n",
    "                                scoring = smape_scorer, cv = 5,) \n",
    "\n",
    "    dt_final = cross_val_score(model_dt, features_train, target_train.iloc[:, 1], \n",
    "                                scoring = smape_scorer, cv = 5,) \n",
    "\n",
    "    dt_final_smape = final_smape(dt_rougher, dt_final)\n",
    "\n",
    "    if dt_final_smape < best_dt_final_smape:\n",
    "        best_dt_final_smape = dt_final_smape\n",
    "        best_depth_dt = depth\n",
    "        best_model_dt = model_dt\n",
    "        \n",
    "print(f'final smape лучшей модели равна: {best_dt_final_smape}%')\n",
    "print(f'Глубина дерева: {best_depth_dt}')\n",
    "print(best_model_dt)"
   ]
  },
  {
   "cell_type": "code",
   "execution_count": null,
   "metadata": {},
   "outputs": [],
   "source": []
  },
  {
   "cell_type": "markdown",
   "metadata": {},
   "source": [
    "__RandomForestRegressor__"
   ]
  },
  {
   "cell_type": "code",
   "execution_count": 37,
   "metadata": {},
   "outputs": [
    {
     "name": "stdout",
     "output_type": "stream",
     "text": [
      "final smape лучшей модели равна: 8.4%\n",
      "Количество деревьев: 5\n",
      "Глубина дерева: 3\n",
      "RandomForestRegressor(max_depth=3, n_estimators=5,\n",
      "                      random_state=RandomState(MT19937) at 0x7FA4BEEC9040)\n"
     ]
    }
   ],
   "source": [
    "# Напишем цикл для модели Случайный лес, выведем лучший результат.\n",
    "\n",
    "best_depth_rf = 0\n",
    "best_est_rf = 0\n",
    "best_model_rf = None\n",
    "best_rf_final_smape = 100\n",
    "\n",
    "\n",
    "for est in range(1, 31, 2):\n",
    "    for depth in range(1, 11, 2):\n",
    "        model_rf = RandomForestRegressor(random_state = STATE, max_depth = depth, n_estimators = est)\n",
    "\n",
    "        rf_rougher = cross_val_score(model_rf, features_train, target_train.iloc[:, 0], \n",
    "                                scoring = smape_scorer, cv = 5,) \n",
    "\n",
    "        rf_final = cross_val_score(model_rf, features_train, target_train.iloc[:, 1], \n",
    "                                scoring = smape_scorer, cv = 5,) \n",
    "\n",
    "        rf_final_smape = final_smape(rf_rougher, rf_final)\n",
    "\n",
    "        if rf_final_smape < best_rf_final_smape:\n",
    "            best_rf_final_smape = rf_final_smape\n",
    "            best_depth_rf = depth\n",
    "            best_model_rf = model_rf\n",
    "            best_est_rf = est\n",
    "        \n",
    "\n",
    "print(f'final smape лучшей модели равна: {best_rf_final_smape}%')\n",
    "print(f'Количество деревьев: {best_est_rf}') \n",
    "print(f'Глубина дерева: {best_depth_rf}')\n",
    "print(best_model_rf)"
   ]
  },
  {
   "cell_type": "code",
   "execution_count": null,
   "metadata": {},
   "outputs": [],
   "source": []
  },
  {
   "cell_type": "code",
   "execution_count": 38,
   "metadata": {},
   "outputs": [
    {
     "name": "stdout",
     "output_type": "stream",
     "text": [
      "final smape у линейной регрессии равна : 8.86%\n",
      "final smape у дерева решений, при глубине: 2 - равна : 8.46%\n",
      "final smape у случ. леса, при глубине: 3, соседях: 5 - равна : 8.4%\n"
     ]
    }
   ],
   "source": [
    "print(f'final smape у линейной регрессии равна : {lr_final_smape}%')\n",
    "print(f'final smape у дерева решений, при глубине: {best_depth_dt} - равна : {best_dt_final_smape}%')\n",
    "print(f'final smape у случ. леса, при глубине: {best_depth_rf}, соседях: {best_est_rf} - равна : {best_rf_final_smape}%')"
   ]
  },
  {
   "cell_type": "code",
   "execution_count": null,
   "metadata": {},
   "outputs": [],
   "source": []
  },
  {
   "cell_type": "markdown",
   "metadata": {},
   "source": [
    "__Лучше всего__ показала себя модель - Случайный лес, используем модель на __тестовых данных__"
   ]
  },
  {
   "cell_type": "code",
   "execution_count": 40,
   "metadata": {},
   "outputs": [
    {
     "name": "stdout",
     "output_type": "stream",
     "text": [
      "final smape для случайного леса, на тестовой вборке равна: 7.46%\n"
     ]
    }
   ],
   "source": [
    "# инициализируем нашу лучшую модель случайного леса\n",
    "model = RandomForestRegressor(random_state = STATE, max_depth = 3, n_estimators = 5)\n",
    "\n",
    "# обучим\n",
    "model.fit(features_train, target_train)\n",
    "\n",
    "# запредиктим\n",
    "predict = model.predict(features_test)\n",
    "\n",
    "model_rougher = smape(target_test.iloc[:, 0], predict[:, 0])\n",
    "model_final =  smape(target_test.iloc[:, 1], predict[:, 1])\n",
    "\n",
    "model_final_smape = final_smape(model_rougher, model_final)\n",
    "\n",
    "print(f'final smape для случайного леса, на тестовой вборке равна: {model_final_smape}%')"
   ]
  },
  {
   "cell_type": "code",
   "execution_count": null,
   "metadata": {},
   "outputs": [],
   "source": []
  },
  {
   "cell_type": "markdown",
   "metadata": {},
   "source": [
    "Проверим нашу модель на адекватность, используем DummyRegressor и сравним результат с результатом нашей модели"
   ]
  },
  {
   "cell_type": "code",
   "execution_count": 41,
   "metadata": {},
   "outputs": [
    {
     "name": "stdout",
     "output_type": "stream",
     "text": [
      "final smape для константной модели, на тестовой вборке равна: 8.3%\n"
     ]
    }
   ],
   "source": [
    "# используем константную модель для проверки на адекватность\n",
    "model_dummy = DummyRegressor(strategy = 'median')\n",
    "\n",
    "model_dummy.fit(features_train, target_train)\n",
    "\n",
    "predict_dummy = model_dummy.predict(features_test)\n",
    "\n",
    "dummy_rougher = smape(target_test.iloc[:, 0], predict_dummy[:, 0])\n",
    "dummy_final =  smape(target_test.iloc[:, 1], predict_dummy[:, 1])\n",
    "\n",
    "dummy_final_smape = final_smape(dummy_rougher, dummy_final)\n",
    "\n",
    "print(f'final smape для константной модели, на тестовой вборке равна: {dummy_final_smape}%')"
   ]
  },
  {
   "cell_type": "markdown",
   "metadata": {},
   "source": [
    "__Вывод__\n",
    "1. В ходе подготовки было проделано:\n",
    " - мы изучили общую информацию о данных\n",
    " - изменили тип данных для столбца \"date\", в привычный datetime\n",
    " - заполнили пропущенные значения\n",
    " - проверили правильно ли расчитана эффективность обогащения, вычислили МАЕ\n",
    "2. Проведя анализ мывыяснили:\n",
    " - практически все этапы очистки влияют на увеличения концентрации сырья в гранулах\n",
    " - распределение размеров гранул на тестовой и обучеющей выборке очень похожи\n",
    " - общая суммарная концентрация металлов растет по мере прохождения очистки\n",
    "3. Обучение моделей и выбор лучшей:\n",
    " - обучили три модели\n",
    " - лучше всех показала себя модель __Случайный лес__, итоговая sMAPE на тренировочной выборки равна: 8.4%, на тестовой выборке: ~8.86~ 7.26%"
   ]
  }
 ],
 "metadata": {
  "ExecuteTimeLog": [
   {
    "duration": 1469,
    "start_time": "2023-09-10T08:30:35.255Z"
   },
   {
    "duration": 95,
    "start_time": "2023-09-10T08:31:11.249Z"
   },
   {
    "duration": 57,
    "start_time": "2023-09-10T08:31:20.322Z"
   },
   {
    "duration": 14,
    "start_time": "2023-09-10T08:31:33.209Z"
   },
   {
    "duration": 44,
    "start_time": "2023-09-10T08:31:55.048Z"
   },
   {
    "duration": 44,
    "start_time": "2023-09-10T08:32:10.639Z"
   },
   {
    "duration": 1222,
    "start_time": "2023-09-10T08:34:05.544Z"
   },
   {
    "duration": 399,
    "start_time": "2023-09-10T08:34:18.361Z"
   },
   {
    "duration": 2441,
    "start_time": "2023-09-10T08:36:29.889Z"
   },
   {
    "duration": 20,
    "start_time": "2023-09-10T08:36:36.895Z"
   },
   {
    "duration": 30,
    "start_time": "2023-09-10T08:36:48.235Z"
   },
   {
    "duration": 32,
    "start_time": "2023-09-10T08:37:20.806Z"
   },
   {
    "duration": 9,
    "start_time": "2023-09-10T08:37:45.075Z"
   },
   {
    "duration": 4,
    "start_time": "2023-09-10T08:37:49.696Z"
   },
   {
    "duration": 21,
    "start_time": "2023-09-10T08:37:58.806Z"
   },
   {
    "duration": 9,
    "start_time": "2023-09-10T08:39:00.467Z"
   },
   {
    "duration": 8,
    "start_time": "2023-09-10T08:39:03.323Z"
   },
   {
    "duration": 9,
    "start_time": "2023-09-10T08:39:16.741Z"
   },
   {
    "duration": 40,
    "start_time": "2023-09-10T08:40:00.865Z"
   },
   {
    "duration": 875,
    "start_time": "2023-09-10T08:40:03.292Z"
   },
   {
    "duration": 22,
    "start_time": "2023-09-10T08:40:04.168Z"
   },
   {
    "duration": 30,
    "start_time": "2023-09-10T08:40:04.308Z"
   },
   {
    "duration": 21,
    "start_time": "2023-09-10T08:40:06.004Z"
   },
   {
    "duration": 6,
    "start_time": "2023-09-10T08:40:07.157Z"
   },
   {
    "duration": 11,
    "start_time": "2023-09-10T10:35:47.444Z"
   },
   {
    "duration": 6,
    "start_time": "2023-09-10T10:36:01.770Z"
   },
   {
    "duration": 9,
    "start_time": "2023-09-10T10:36:11.751Z"
   },
   {
    "duration": 16,
    "start_time": "2023-09-10T11:14:55.579Z"
   },
   {
    "duration": 11,
    "start_time": "2023-09-10T11:15:16.412Z"
   },
   {
    "duration": 999,
    "start_time": "2023-09-10T11:15:25.954Z"
   },
   {
    "duration": 2,
    "start_time": "2023-09-10T11:16:12.455Z"
   },
   {
    "duration": 3,
    "start_time": "2023-09-10T11:16:44.996Z"
   },
   {
    "duration": 722,
    "start_time": "2023-09-10T11:16:58.839Z"
   },
   {
    "duration": 849,
    "start_time": "2023-09-10T11:17:43.903Z"
   },
   {
    "duration": 910,
    "start_time": "2023-09-10T11:18:22.195Z"
   },
   {
    "duration": 1078,
    "start_time": "2023-09-10T11:34:52.311Z"
   },
   {
    "duration": 3,
    "start_time": "2023-09-10T11:34:53.391Z"
   },
   {
    "duration": 1177,
    "start_time": "2023-09-10T11:34:53.395Z"
   },
   {
    "duration": 3,
    "start_time": "2023-09-10T11:34:54.574Z"
   },
   {
    "duration": 257,
    "start_time": "2023-09-10T11:34:54.578Z"
   },
   {
    "duration": 27,
    "start_time": "2023-09-10T11:34:54.836Z"
   },
   {
    "duration": 23,
    "start_time": "2023-09-10T11:34:54.865Z"
   },
   {
    "duration": 49,
    "start_time": "2023-09-10T11:34:54.889Z"
   },
   {
    "duration": 13,
    "start_time": "2023-09-10T11:34:54.939Z"
   },
   {
    "duration": 814,
    "start_time": "2023-09-10T11:35:19.735Z"
   },
   {
    "duration": 213,
    "start_time": "2023-09-10T11:35:31.069Z"
   },
   {
    "duration": 4,
    "start_time": "2023-09-10T11:39:50.854Z"
   },
   {
    "duration": 209,
    "start_time": "2023-09-10T12:34:13.113Z"
   },
   {
    "duration": 61,
    "start_time": "2023-09-10T12:39:21.938Z"
   },
   {
    "duration": 50,
    "start_time": "2023-09-10T12:39:26.101Z"
   },
   {
    "duration": 118,
    "start_time": "2023-09-10T12:42:56.076Z"
   },
   {
    "duration": 110,
    "start_time": "2023-09-10T12:42:59.649Z"
   },
   {
    "duration": 194,
    "start_time": "2023-09-10T12:43:45.275Z"
   },
   {
    "duration": 15,
    "start_time": "2023-09-10T12:44:26.677Z"
   },
   {
    "duration": 25,
    "start_time": "2023-09-10T12:45:08.838Z"
   },
   {
    "duration": 34,
    "start_time": "2023-09-10T12:45:21.035Z"
   },
   {
    "duration": 19,
    "start_time": "2023-09-10T12:45:41.436Z"
   },
   {
    "duration": 21,
    "start_time": "2023-09-10T12:45:43.553Z"
   },
   {
    "duration": 10,
    "start_time": "2023-09-10T12:46:45.930Z"
   },
   {
    "duration": 18,
    "start_time": "2023-09-10T12:46:59.461Z"
   },
   {
    "duration": 77,
    "start_time": "2023-09-10T12:47:17.542Z"
   },
   {
    "duration": 68,
    "start_time": "2023-09-10T12:47:51.939Z"
   },
   {
    "duration": 286,
    "start_time": "2023-09-10T12:48:54.084Z"
   },
   {
    "duration": 126,
    "start_time": "2023-09-10T12:51:18.467Z"
   },
   {
    "duration": 12,
    "start_time": "2023-09-10T12:51:24.142Z"
   },
   {
    "duration": 87,
    "start_time": "2023-09-10T12:51:31.133Z"
   },
   {
    "duration": 9,
    "start_time": "2023-09-10T12:51:41.581Z"
   },
   {
    "duration": 10,
    "start_time": "2023-09-10T12:51:45.555Z"
   },
   {
    "duration": 14,
    "start_time": "2023-09-10T12:51:53.853Z"
   },
   {
    "duration": 8,
    "start_time": "2023-09-10T12:51:59.211Z"
   },
   {
    "duration": 3,
    "start_time": "2023-09-10T12:52:10.370Z"
   },
   {
    "duration": 4,
    "start_time": "2023-09-10T12:52:20.416Z"
   },
   {
    "duration": 3,
    "start_time": "2023-09-10T12:53:32.969Z"
   },
   {
    "duration": 243,
    "start_time": "2023-09-10T12:54:41.026Z"
   },
   {
    "duration": 3,
    "start_time": "2023-09-10T12:54:41.626Z"
   },
   {
    "duration": 5,
    "start_time": "2023-09-10T12:54:56.757Z"
   },
   {
    "duration": 22,
    "start_time": "2023-09-10T12:58:27.846Z"
   },
   {
    "duration": 14,
    "start_time": "2023-09-10T12:58:56.018Z"
   },
   {
    "duration": 26,
    "start_time": "2023-09-10T12:59:45.057Z"
   },
   {
    "duration": 15,
    "start_time": "2023-09-10T13:00:58.514Z"
   },
   {
    "duration": 4,
    "start_time": "2023-09-10T13:02:20.132Z"
   },
   {
    "duration": 21,
    "start_time": "2023-09-10T13:03:01.222Z"
   },
   {
    "duration": 96,
    "start_time": "2023-09-10T13:04:51.787Z"
   },
   {
    "duration": 59,
    "start_time": "2023-09-10T13:05:03.540Z"
   },
   {
    "duration": 63,
    "start_time": "2023-09-10T13:05:22.594Z"
   },
   {
    "duration": 27,
    "start_time": "2023-09-10T13:05:42.154Z"
   },
   {
    "duration": 20,
    "start_time": "2023-09-10T13:07:56.559Z"
   },
   {
    "duration": 5,
    "start_time": "2023-09-10T13:08:27.690Z"
   },
   {
    "duration": 15,
    "start_time": "2023-09-10T13:08:40.330Z"
   },
   {
    "duration": 4,
    "start_time": "2023-09-10T13:12:32.682Z"
   },
   {
    "duration": 8,
    "start_time": "2023-09-10T13:12:47.791Z"
   },
   {
    "duration": 27,
    "start_time": "2023-09-10T13:13:55.033Z"
   },
   {
    "duration": 8,
    "start_time": "2023-09-10T13:13:56.624Z"
   },
   {
    "duration": 1187,
    "start_time": "2023-09-10T13:33:47.001Z"
   },
   {
    "duration": 3,
    "start_time": "2023-09-10T13:33:48.189Z"
   },
   {
    "duration": 871,
    "start_time": "2023-09-10T13:33:48.193Z"
   },
   {
    "duration": 3,
    "start_time": "2023-09-10T13:33:49.067Z"
   },
   {
    "duration": 94,
    "start_time": "2023-09-10T13:33:49.072Z"
   },
   {
    "duration": 288,
    "start_time": "2023-09-10T13:33:49.170Z"
   },
   {
    "duration": 6,
    "start_time": "2023-09-10T13:33:49.461Z"
   },
   {
    "duration": 18,
    "start_time": "2023-09-10T13:33:49.470Z"
   },
   {
    "duration": 16,
    "start_time": "2023-09-10T13:33:49.489Z"
   },
   {
    "duration": 45,
    "start_time": "2023-09-10T13:33:49.507Z"
   },
   {
    "duration": 22,
    "start_time": "2023-09-10T13:33:49.554Z"
   },
   {
    "duration": 7,
    "start_time": "2023-09-10T13:33:49.577Z"
   },
   {
    "duration": 84,
    "start_time": "2023-09-10T13:33:49.585Z"
   },
   {
    "duration": 0,
    "start_time": "2023-09-10T13:33:49.671Z"
   },
   {
    "duration": 1252,
    "start_time": "2023-09-12T12:15:06.482Z"
   },
   {
    "duration": 3,
    "start_time": "2023-09-12T12:15:07.737Z"
   },
   {
    "duration": 2434,
    "start_time": "2023-09-12T12:15:07.742Z"
   },
   {
    "duration": 5,
    "start_time": "2023-09-12T12:15:10.177Z"
   },
   {
    "duration": 102,
    "start_time": "2023-09-12T12:15:10.184Z"
   },
   {
    "duration": 293,
    "start_time": "2023-09-12T12:15:10.288Z"
   },
   {
    "duration": 5,
    "start_time": "2023-09-12T12:15:10.584Z"
   },
   {
    "duration": 59,
    "start_time": "2023-09-12T12:15:10.591Z"
   },
   {
    "duration": 17,
    "start_time": "2023-09-12T12:15:10.652Z"
   },
   {
    "duration": 28,
    "start_time": "2023-09-12T12:15:10.672Z"
   },
   {
    "duration": 36,
    "start_time": "2023-09-12T12:15:10.702Z"
   },
   {
    "duration": 9,
    "start_time": "2023-09-12T12:15:10.740Z"
   },
   {
    "duration": 137,
    "start_time": "2023-09-12T12:15:10.751Z"
   },
   {
    "duration": 0,
    "start_time": "2023-09-12T12:15:10.890Z"
   },
   {
    "duration": 174,
    "start_time": "2023-09-12T12:16:24.636Z"
   },
   {
    "duration": 93,
    "start_time": "2023-09-12T12:16:43.454Z"
   },
   {
    "duration": 33,
    "start_time": "2023-09-12T12:17:02.657Z"
   },
   {
    "duration": 31,
    "start_time": "2023-09-12T12:17:41.024Z"
   },
   {
    "duration": 11,
    "start_time": "2023-09-12T12:18:35.858Z"
   },
   {
    "duration": 3,
    "start_time": "2023-09-12T12:24:27.698Z"
   },
   {
    "duration": 9,
    "start_time": "2023-09-12T12:24:29.338Z"
   },
   {
    "duration": 1261,
    "start_time": "2023-09-12T12:24:35.383Z"
   },
   {
    "duration": 2,
    "start_time": "2023-09-12T12:24:36.646Z"
   },
   {
    "duration": 1151,
    "start_time": "2023-09-12T12:24:36.650Z"
   },
   {
    "duration": 3,
    "start_time": "2023-09-12T12:24:37.802Z"
   },
   {
    "duration": 95,
    "start_time": "2023-09-12T12:24:37.807Z"
   },
   {
    "duration": 278,
    "start_time": "2023-09-12T12:24:37.904Z"
   },
   {
    "duration": 4,
    "start_time": "2023-09-12T12:24:38.184Z"
   },
   {
    "duration": 169,
    "start_time": "2023-09-12T12:24:38.189Z"
   },
   {
    "duration": 47,
    "start_time": "2023-09-12T12:24:38.360Z"
   },
   {
    "duration": 51,
    "start_time": "2023-09-12T12:24:38.408Z"
   },
   {
    "duration": 85,
    "start_time": "2023-09-12T12:24:38.461Z"
   },
   {
    "duration": 108,
    "start_time": "2023-09-12T12:24:38.548Z"
   },
   {
    "duration": 48,
    "start_time": "2023-09-12T12:24:38.658Z"
   },
   {
    "duration": 36,
    "start_time": "2023-09-12T12:24:38.709Z"
   },
   {
    "duration": 5,
    "start_time": "2023-09-12T12:31:01.692Z"
   },
   {
    "duration": 30,
    "start_time": "2023-09-12T12:31:47.522Z"
   },
   {
    "duration": 15,
    "start_time": "2023-09-12T12:32:35.548Z"
   },
   {
    "duration": 1295,
    "start_time": "2023-09-12T12:33:01.298Z"
   },
   {
    "duration": 3,
    "start_time": "2023-09-12T12:33:02.596Z"
   },
   {
    "duration": 936,
    "start_time": "2023-09-12T12:33:02.601Z"
   },
   {
    "duration": 4,
    "start_time": "2023-09-12T12:33:03.538Z"
   },
   {
    "duration": 92,
    "start_time": "2023-09-12T12:33:03.544Z"
   },
   {
    "duration": 275,
    "start_time": "2023-09-12T12:33:03.637Z"
   },
   {
    "duration": 4,
    "start_time": "2023-09-12T12:33:03.914Z"
   },
   {
    "duration": 42,
    "start_time": "2023-09-12T12:33:03.925Z"
   },
   {
    "duration": 16,
    "start_time": "2023-09-12T12:33:03.969Z"
   },
   {
    "duration": 27,
    "start_time": "2023-09-12T12:33:03.987Z"
   },
   {
    "duration": 21,
    "start_time": "2023-09-12T12:33:04.016Z"
   },
   {
    "duration": 32,
    "start_time": "2023-09-12T12:33:04.039Z"
   },
   {
    "duration": 17,
    "start_time": "2023-09-12T12:33:04.073Z"
   },
   {
    "duration": 37,
    "start_time": "2023-09-12T12:33:04.093Z"
   },
   {
    "duration": 12,
    "start_time": "2023-09-12T12:33:04.131Z"
   },
   {
    "duration": 32,
    "start_time": "2023-09-12T12:34:46.177Z"
   },
   {
    "duration": 21,
    "start_time": "2023-09-12T12:35:12.299Z"
   },
   {
    "duration": 135,
    "start_time": "2023-09-12T12:35:52.253Z"
   },
   {
    "duration": 9,
    "start_time": "2023-09-12T12:35:55.836Z"
   },
   {
    "duration": 10,
    "start_time": "2023-09-12T12:36:01.252Z"
   },
   {
    "duration": 9,
    "start_time": "2023-09-12T12:36:12.813Z"
   },
   {
    "duration": 21,
    "start_time": "2023-09-12T12:37:01.116Z"
   },
   {
    "duration": 17,
    "start_time": "2023-09-12T12:37:03.902Z"
   },
   {
    "duration": 23,
    "start_time": "2023-09-12T12:37:20.839Z"
   },
   {
    "duration": 9,
    "start_time": "2023-09-12T12:37:31.841Z"
   },
   {
    "duration": 53,
    "start_time": "2023-09-12T12:38:11.272Z"
   },
   {
    "duration": 21,
    "start_time": "2023-09-12T12:38:48.659Z"
   },
   {
    "duration": 49,
    "start_time": "2023-09-12T16:38:47.543Z"
   },
   {
    "duration": 1142,
    "start_time": "2023-09-12T16:38:53.330Z"
   },
   {
    "duration": 3,
    "start_time": "2023-09-12T16:38:54.473Z"
   },
   {
    "duration": 2408,
    "start_time": "2023-09-12T16:38:54.478Z"
   },
   {
    "duration": 3,
    "start_time": "2023-09-12T16:38:56.888Z"
   },
   {
    "duration": 161,
    "start_time": "2023-09-12T16:38:56.895Z"
   },
   {
    "duration": 253,
    "start_time": "2023-09-12T16:38:57.058Z"
   },
   {
    "duration": 11,
    "start_time": "2023-09-12T16:38:57.313Z"
   },
   {
    "duration": 98,
    "start_time": "2023-09-12T16:38:57.326Z"
   },
   {
    "duration": 26,
    "start_time": "2023-09-12T16:38:57.425Z"
   },
   {
    "duration": 20,
    "start_time": "2023-09-12T16:38:57.453Z"
   },
   {
    "duration": 14,
    "start_time": "2023-09-12T16:38:57.475Z"
   },
   {
    "duration": 40,
    "start_time": "2023-09-12T16:38:57.491Z"
   },
   {
    "duration": 18,
    "start_time": "2023-09-12T16:38:57.533Z"
   },
   {
    "duration": 3,
    "start_time": "2023-09-12T16:38:57.553Z"
   },
   {
    "duration": 16,
    "start_time": "2023-09-12T16:38:57.557Z"
   },
   {
    "duration": 3,
    "start_time": "2023-09-12T16:41:22.110Z"
   },
   {
    "duration": 5,
    "start_time": "2023-09-12T16:44:14.941Z"
   },
   {
    "duration": 122,
    "start_time": "2023-09-12T16:45:13.457Z"
   },
   {
    "duration": 84,
    "start_time": "2023-09-12T16:46:11.008Z"
   },
   {
    "duration": 8,
    "start_time": "2023-09-12T16:46:53.410Z"
   },
   {
    "duration": 4,
    "start_time": "2023-09-12T17:19:22.750Z"
   },
   {
    "duration": 116,
    "start_time": "2023-09-12T17:20:09.687Z"
   },
   {
    "duration": 30,
    "start_time": "2023-09-12T17:20:15.734Z"
   },
   {
    "duration": 16,
    "start_time": "2023-09-12T17:26:23.987Z"
   },
   {
    "duration": 269,
    "start_time": "2023-09-12T17:26:31.169Z"
   },
   {
    "duration": 56,
    "start_time": "2023-09-13T10:25:18.251Z"
   },
   {
    "duration": 1280,
    "start_time": "2023-09-13T10:25:23.426Z"
   },
   {
    "duration": 3,
    "start_time": "2023-09-13T10:25:24.709Z"
   },
   {
    "duration": 2515,
    "start_time": "2023-09-13T10:25:24.714Z"
   },
   {
    "duration": 4,
    "start_time": "2023-09-13T10:25:27.231Z"
   },
   {
    "duration": 94,
    "start_time": "2023-09-13T10:25:27.238Z"
   },
   {
    "duration": 263,
    "start_time": "2023-09-13T10:25:27.347Z"
   },
   {
    "duration": 5,
    "start_time": "2023-09-13T10:25:27.612Z"
   },
   {
    "duration": 34,
    "start_time": "2023-09-13T10:25:27.618Z"
   },
   {
    "duration": 13,
    "start_time": "2023-09-13T10:25:27.654Z"
   },
   {
    "duration": 18,
    "start_time": "2023-09-13T10:25:27.670Z"
   },
   {
    "duration": 18,
    "start_time": "2023-09-13T10:25:27.689Z"
   },
   {
    "duration": 55,
    "start_time": "2023-09-13T10:25:27.708Z"
   },
   {
    "duration": 19,
    "start_time": "2023-09-13T10:25:27.765Z"
   },
   {
    "duration": 7,
    "start_time": "2023-09-13T10:25:27.786Z"
   },
   {
    "duration": 13,
    "start_time": "2023-09-13T10:25:27.795Z"
   },
   {
    "duration": 9,
    "start_time": "2023-09-13T10:25:27.809Z"
   },
   {
    "duration": 11,
    "start_time": "2023-09-13T10:25:27.846Z"
   },
   {
    "duration": 4,
    "start_time": "2023-09-13T10:26:37.939Z"
   },
   {
    "duration": 5,
    "start_time": "2023-09-13T10:26:52.796Z"
   },
   {
    "duration": 6,
    "start_time": "2023-09-13T10:27:08.273Z"
   },
   {
    "duration": 5,
    "start_time": "2023-09-13T10:27:23.336Z"
   },
   {
    "duration": 4,
    "start_time": "2023-09-13T10:28:24.859Z"
   },
   {
    "duration": 7,
    "start_time": "2023-09-13T10:28:38.596Z"
   },
   {
    "duration": 9,
    "start_time": "2023-09-13T10:29:15.604Z"
   },
   {
    "duration": 7,
    "start_time": "2023-09-13T10:29:22.911Z"
   },
   {
    "duration": 7,
    "start_time": "2023-09-13T10:29:31.971Z"
   },
   {
    "duration": 5,
    "start_time": "2023-09-13T10:29:39.462Z"
   },
   {
    "duration": 6,
    "start_time": "2023-09-13T10:33:52.286Z"
   },
   {
    "duration": 10,
    "start_time": "2023-09-13T10:34:02.946Z"
   },
   {
    "duration": 9,
    "start_time": "2023-09-13T10:35:11.380Z"
   },
   {
    "duration": 9,
    "start_time": "2023-09-13T10:35:35.572Z"
   },
   {
    "duration": 4,
    "start_time": "2023-09-13T10:36:16.705Z"
   },
   {
    "duration": 7,
    "start_time": "2023-09-13T10:36:22.752Z"
   },
   {
    "duration": 1181,
    "start_time": "2023-09-13T10:36:28.887Z"
   },
   {
    "duration": 3,
    "start_time": "2023-09-13T10:36:30.070Z"
   },
   {
    "duration": 986,
    "start_time": "2023-09-13T10:36:30.075Z"
   },
   {
    "duration": 4,
    "start_time": "2023-09-13T10:36:31.062Z"
   },
   {
    "duration": 124,
    "start_time": "2023-09-13T10:36:31.068Z"
   },
   {
    "duration": 282,
    "start_time": "2023-09-13T10:36:31.194Z"
   },
   {
    "duration": 4,
    "start_time": "2023-09-13T10:36:31.478Z"
   },
   {
    "duration": 80,
    "start_time": "2023-09-13T10:36:31.483Z"
   },
   {
    "duration": 34,
    "start_time": "2023-09-13T10:36:31.565Z"
   },
   {
    "duration": 133,
    "start_time": "2023-09-13T10:36:31.602Z"
   },
   {
    "duration": 127,
    "start_time": "2023-09-13T10:36:31.736Z"
   },
   {
    "duration": 104,
    "start_time": "2023-09-13T10:36:31.865Z"
   },
   {
    "duration": 117,
    "start_time": "2023-09-13T10:36:31.971Z"
   },
   {
    "duration": 31,
    "start_time": "2023-09-13T10:36:32.092Z"
   },
   {
    "duration": 25,
    "start_time": "2023-09-13T10:36:32.126Z"
   },
   {
    "duration": 27,
    "start_time": "2023-09-13T10:36:32.153Z"
   },
   {
    "duration": 34,
    "start_time": "2023-09-13T10:36:32.182Z"
   },
   {
    "duration": 32,
    "start_time": "2023-09-13T10:36:32.218Z"
   },
   {
    "duration": 40,
    "start_time": "2023-09-13T10:36:32.252Z"
   },
   {
    "duration": 14,
    "start_time": "2023-09-13T10:43:32.248Z"
   },
   {
    "duration": 15,
    "start_time": "2023-09-13T10:43:54.785Z"
   },
   {
    "duration": 9,
    "start_time": "2023-09-13T10:44:12.559Z"
   },
   {
    "duration": 12,
    "start_time": "2023-09-13T10:44:22.748Z"
   },
   {
    "duration": 11,
    "start_time": "2023-09-13T10:44:53.555Z"
   },
   {
    "duration": 11,
    "start_time": "2023-09-13T10:45:01.122Z"
   },
   {
    "duration": 9,
    "start_time": "2023-09-13T10:55:19.590Z"
   },
   {
    "duration": 607,
    "start_time": "2023-09-13T11:44:16.293Z"
   },
   {
    "duration": 146,
    "start_time": "2023-09-13T11:44:35.765Z"
   },
   {
    "duration": 1561,
    "start_time": "2023-09-13T11:45:11.774Z"
   },
   {
    "duration": 3,
    "start_time": "2023-09-13T11:45:13.337Z"
   },
   {
    "duration": 927,
    "start_time": "2023-09-13T11:45:13.341Z"
   },
   {
    "duration": 3,
    "start_time": "2023-09-13T11:45:14.270Z"
   },
   {
    "duration": 91,
    "start_time": "2023-09-13T11:45:14.275Z"
   },
   {
    "duration": 268,
    "start_time": "2023-09-13T11:45:14.367Z"
   },
   {
    "duration": 12,
    "start_time": "2023-09-13T11:45:14.637Z"
   },
   {
    "duration": 27,
    "start_time": "2023-09-13T11:45:14.651Z"
   },
   {
    "duration": 11,
    "start_time": "2023-09-13T11:45:14.680Z"
   },
   {
    "duration": 17,
    "start_time": "2023-09-13T11:45:14.694Z"
   },
   {
    "duration": 47,
    "start_time": "2023-09-13T11:45:14.712Z"
   },
   {
    "duration": 28,
    "start_time": "2023-09-13T11:45:14.761Z"
   },
   {
    "duration": 22,
    "start_time": "2023-09-13T11:45:14.791Z"
   },
   {
    "duration": 33,
    "start_time": "2023-09-13T11:45:14.814Z"
   },
   {
    "duration": 5,
    "start_time": "2023-09-13T11:45:14.849Z"
   },
   {
    "duration": 10,
    "start_time": "2023-09-13T11:45:14.856Z"
   },
   {
    "duration": 9,
    "start_time": "2023-09-13T11:45:14.868Z"
   },
   {
    "duration": 17,
    "start_time": "2023-09-13T11:45:14.879Z"
   },
   {
    "duration": 17,
    "start_time": "2023-09-13T11:45:14.898Z"
   },
   {
    "duration": 11,
    "start_time": "2023-09-13T11:45:14.948Z"
   },
   {
    "duration": 12,
    "start_time": "2023-09-13T11:45:14.961Z"
   },
   {
    "duration": 12,
    "start_time": "2023-09-13T11:45:14.974Z"
   },
   {
    "duration": 773,
    "start_time": "2023-09-13T11:45:14.987Z"
   },
   {
    "duration": 241,
    "start_time": "2023-09-13T11:45:34.746Z"
   },
   {
    "duration": 124,
    "start_time": "2023-09-13T11:48:22.612Z"
   },
   {
    "duration": 28,
    "start_time": "2023-09-13T11:48:39.440Z"
   },
   {
    "duration": 237,
    "start_time": "2023-09-13T11:49:18.692Z"
   },
   {
    "duration": 2666,
    "start_time": "2023-09-13T11:50:29.993Z"
   },
   {
    "duration": 1395,
    "start_time": "2023-09-13T11:51:42.947Z"
   },
   {
    "duration": 1561,
    "start_time": "2023-09-13T11:51:55.138Z"
   },
   {
    "duration": 1506,
    "start_time": "2023-09-13T11:52:07.178Z"
   },
   {
    "duration": 1677,
    "start_time": "2023-09-13T11:52:13.400Z"
   },
   {
    "duration": 1543,
    "start_time": "2023-09-13T11:52:24.510Z"
   },
   {
    "duration": 1657,
    "start_time": "2023-09-13T11:52:34.372Z"
   },
   {
    "duration": 1545,
    "start_time": "2023-09-13T11:52:49.168Z"
   },
   {
    "duration": 1564,
    "start_time": "2023-09-13T11:52:54.908Z"
   },
   {
    "duration": 1556,
    "start_time": "2023-09-13T11:53:20.401Z"
   },
   {
    "duration": 1236,
    "start_time": "2023-09-13T11:54:06.928Z"
   },
   {
    "duration": 1641,
    "start_time": "2023-09-13T11:54:15.658Z"
   },
   {
    "duration": 1351,
    "start_time": "2023-09-13T11:55:54.256Z"
   },
   {
    "duration": 1593,
    "start_time": "2023-09-13T11:56:07.233Z"
   },
   {
    "duration": 1556,
    "start_time": "2023-09-13T11:56:48.211Z"
   },
   {
    "duration": 1556,
    "start_time": "2023-09-13T11:58:19.759Z"
   },
   {
    "duration": 1435,
    "start_time": "2023-09-13T12:00:15.464Z"
   },
   {
    "duration": 1530,
    "start_time": "2023-09-13T12:00:22.530Z"
   },
   {
    "duration": 1484,
    "start_time": "2023-09-13T12:00:32.608Z"
   },
   {
    "duration": 1360,
    "start_time": "2023-09-13T12:01:06.560Z"
   },
   {
    "duration": 1323,
    "start_time": "2023-09-13T12:01:54.127Z"
   },
   {
    "duration": 1517,
    "start_time": "2023-09-13T12:03:37.063Z"
   },
   {
    "duration": 1000,
    "start_time": "2023-09-13T12:03:41.724Z"
   },
   {
    "duration": 1546,
    "start_time": "2023-09-13T12:03:53.434Z"
   },
   {
    "duration": 1547,
    "start_time": "2023-09-13T12:04:00.878Z"
   },
   {
    "duration": 1376,
    "start_time": "2023-09-13T12:04:10.495Z"
   },
   {
    "duration": 1205,
    "start_time": "2023-09-13T12:04:16.797Z"
   },
   {
    "duration": 1610,
    "start_time": "2023-09-13T12:05:08.934Z"
   },
   {
    "duration": 1037,
    "start_time": "2023-09-13T12:05:21.091Z"
   },
   {
    "duration": 1104,
    "start_time": "2023-09-13T12:06:05.998Z"
   },
   {
    "duration": 1050,
    "start_time": "2023-09-13T12:06:45.176Z"
   },
   {
    "duration": 1624,
    "start_time": "2023-09-13T12:06:54.875Z"
   },
   {
    "duration": 1211,
    "start_time": "2023-09-13T12:07:22.556Z"
   },
   {
    "duration": 1623,
    "start_time": "2023-09-13T12:23:27.403Z"
   },
   {
    "duration": 3,
    "start_time": "2023-09-13T12:23:29.030Z"
   },
   {
    "duration": 1016,
    "start_time": "2023-09-13T12:23:29.036Z"
   },
   {
    "duration": 3,
    "start_time": "2023-09-13T12:23:30.063Z"
   },
   {
    "duration": 137,
    "start_time": "2023-09-13T12:23:30.068Z"
   },
   {
    "duration": 320,
    "start_time": "2023-09-13T12:23:30.207Z"
   },
   {
    "duration": 5,
    "start_time": "2023-09-13T12:23:30.529Z"
   },
   {
    "duration": 49,
    "start_time": "2023-09-13T12:23:30.535Z"
   },
   {
    "duration": 49,
    "start_time": "2023-09-13T12:23:30.586Z"
   },
   {
    "duration": 90,
    "start_time": "2023-09-13T12:23:30.639Z"
   },
   {
    "duration": 84,
    "start_time": "2023-09-13T12:23:30.731Z"
   },
   {
    "duration": 72,
    "start_time": "2023-09-13T12:23:30.818Z"
   },
   {
    "duration": 35,
    "start_time": "2023-09-13T12:23:30.892Z"
   },
   {
    "duration": 41,
    "start_time": "2023-09-13T12:23:30.929Z"
   },
   {
    "duration": 43,
    "start_time": "2023-09-13T12:23:30.972Z"
   },
   {
    "duration": 80,
    "start_time": "2023-09-13T12:23:31.017Z"
   },
   {
    "duration": 64,
    "start_time": "2023-09-13T12:23:31.099Z"
   },
   {
    "duration": 52,
    "start_time": "2023-09-13T12:23:31.165Z"
   },
   {
    "duration": 43,
    "start_time": "2023-09-13T12:23:31.220Z"
   },
   {
    "duration": 43,
    "start_time": "2023-09-13T12:23:31.265Z"
   },
   {
    "duration": 133,
    "start_time": "2023-09-13T12:23:31.310Z"
   },
   {
    "duration": 63,
    "start_time": "2023-09-13T12:23:31.445Z"
   },
   {
    "duration": 1737,
    "start_time": "2023-09-13T12:23:31.510Z"
   },
   {
    "duration": 1095,
    "start_time": "2023-09-13T12:23:33.250Z"
   },
   {
    "duration": 1360,
    "start_time": "2023-09-13T12:23:34.350Z"
   },
   {
    "duration": 2675,
    "start_time": "2023-09-13T12:26:57.815Z"
   },
   {
    "duration": 1779,
    "start_time": "2023-09-13T12:27:14.963Z"
   },
   {
    "duration": 1786,
    "start_time": "2023-09-13T14:11:11.403Z"
   },
   {
    "duration": 3,
    "start_time": "2023-09-13T14:11:13.191Z"
   },
   {
    "duration": 2369,
    "start_time": "2023-09-13T14:11:13.196Z"
   },
   {
    "duration": 3,
    "start_time": "2023-09-13T14:11:15.568Z"
   },
   {
    "duration": 76,
    "start_time": "2023-09-13T14:11:15.573Z"
   },
   {
    "duration": 254,
    "start_time": "2023-09-13T14:11:15.651Z"
   },
   {
    "duration": 5,
    "start_time": "2023-09-13T14:11:15.907Z"
   },
   {
    "duration": 33,
    "start_time": "2023-09-13T14:11:15.913Z"
   },
   {
    "duration": 11,
    "start_time": "2023-09-13T14:11:15.948Z"
   },
   {
    "duration": 16,
    "start_time": "2023-09-13T14:11:15.961Z"
   },
   {
    "duration": 17,
    "start_time": "2023-09-13T14:11:15.979Z"
   },
   {
    "duration": 52,
    "start_time": "2023-09-13T14:11:15.998Z"
   },
   {
    "duration": 20,
    "start_time": "2023-09-13T14:11:16.051Z"
   },
   {
    "duration": 8,
    "start_time": "2023-09-13T14:11:16.072Z"
   },
   {
    "duration": 21,
    "start_time": "2023-09-13T14:11:16.081Z"
   },
   {
    "duration": 12,
    "start_time": "2023-09-13T14:11:16.104Z"
   },
   {
    "duration": 29,
    "start_time": "2023-09-13T14:11:16.118Z"
   },
   {
    "duration": 26,
    "start_time": "2023-09-13T14:11:16.149Z"
   },
   {
    "duration": 15,
    "start_time": "2023-09-13T14:11:16.176Z"
   },
   {
    "duration": 13,
    "start_time": "2023-09-13T14:11:16.192Z"
   },
   {
    "duration": 21,
    "start_time": "2023-09-13T14:11:16.207Z"
   },
   {
    "duration": 17,
    "start_time": "2023-09-13T14:11:16.230Z"
   },
   {
    "duration": 1346,
    "start_time": "2023-09-13T14:11:16.248Z"
   },
   {
    "duration": 882,
    "start_time": "2023-09-13T14:11:17.597Z"
   },
   {
    "duration": 1028,
    "start_time": "2023-09-13T14:11:18.481Z"
   },
   {
    "duration": 1063,
    "start_time": "2023-09-13T14:14:05.808Z"
   },
   {
    "duration": 272,
    "start_time": "2023-09-13T14:15:12.226Z"
   },
   {
    "duration": 934,
    "start_time": "2023-09-13T14:15:19.842Z"
   },
   {
    "duration": 1145,
    "start_time": "2023-09-13T14:17:06.416Z"
   },
   {
    "duration": 1066,
    "start_time": "2023-09-13T14:18:18.027Z"
   },
   {
    "duration": 6,
    "start_time": "2023-09-13T14:18:41.520Z"
   },
   {
    "duration": 165,
    "start_time": "2023-09-13T14:19:54.844Z"
   },
   {
    "duration": 179,
    "start_time": "2023-09-13T14:20:15.062Z"
   },
   {
    "duration": 1079,
    "start_time": "2023-09-13T14:20:40.118Z"
   },
   {
    "duration": 1040,
    "start_time": "2023-09-13T14:21:02.556Z"
   },
   {
    "duration": 901,
    "start_time": "2023-09-13T14:21:07.985Z"
   },
   {
    "duration": 26,
    "start_time": "2023-09-13T14:23:00.582Z"
   },
   {
    "duration": 8,
    "start_time": "2023-09-13T14:32:46.899Z"
   },
   {
    "duration": 9,
    "start_time": "2023-09-13T14:33:00.935Z"
   },
   {
    "duration": 6,
    "start_time": "2023-09-13T14:33:22.584Z"
   },
   {
    "duration": 4,
    "start_time": "2023-09-13T14:33:27.487Z"
   },
   {
    "duration": 5,
    "start_time": "2023-09-13T14:34:45.084Z"
   },
   {
    "duration": 5,
    "start_time": "2023-09-13T14:34:53.744Z"
   },
   {
    "duration": 6,
    "start_time": "2023-09-13T14:35:50.277Z"
   },
   {
    "duration": 4,
    "start_time": "2023-09-13T14:40:56.524Z"
   },
   {
    "duration": 8,
    "start_time": "2023-09-13T14:41:24.799Z"
   },
   {
    "duration": 14,
    "start_time": "2023-09-13T14:41:38.697Z"
   },
   {
    "duration": 14,
    "start_time": "2023-09-13T14:41:47.905Z"
   },
   {
    "duration": 999,
    "start_time": "2023-09-13T14:42:13.603Z"
   },
   {
    "duration": 5,
    "start_time": "2023-09-13T14:42:27.683Z"
   },
   {
    "duration": 28,
    "start_time": "2023-09-13T14:43:01.204Z"
   },
   {
    "duration": 7,
    "start_time": "2023-09-13T14:44:04.291Z"
   },
   {
    "duration": 827,
    "start_time": "2023-09-13T14:44:04.969Z"
   },
   {
    "duration": 8,
    "start_time": "2023-09-13T14:44:16.280Z"
   },
   {
    "duration": 18,
    "start_time": "2023-09-13T14:44:18.072Z"
   },
   {
    "duration": 7,
    "start_time": "2023-09-13T14:44:30.382Z"
   },
   {
    "duration": 944,
    "start_time": "2023-09-13T14:44:33.984Z"
   },
   {
    "duration": 1738,
    "start_time": "2023-09-13T14:48:02.056Z"
   },
   {
    "duration": 1402,
    "start_time": "2023-09-13T14:48:20.622Z"
   },
   {
    "duration": 1245,
    "start_time": "2023-09-13T14:49:04.578Z"
   },
   {
    "duration": 1390,
    "start_time": "2023-09-13T14:49:32.793Z"
   },
   {
    "duration": 7,
    "start_time": "2023-09-13T14:50:36.927Z"
   },
   {
    "duration": 7,
    "start_time": "2023-09-13T14:50:41.582Z"
   },
   {
    "duration": 1379,
    "start_time": "2023-09-13T14:53:02.888Z"
   },
   {
    "duration": 2,
    "start_time": "2023-09-13T14:53:04.269Z"
   },
   {
    "duration": 932,
    "start_time": "2023-09-13T14:53:04.272Z"
   },
   {
    "duration": 4,
    "start_time": "2023-09-13T14:53:05.206Z"
   },
   {
    "duration": 84,
    "start_time": "2023-09-13T14:53:05.212Z"
   },
   {
    "duration": 258,
    "start_time": "2023-09-13T14:53:05.298Z"
   },
   {
    "duration": 4,
    "start_time": "2023-09-13T14:53:05.558Z"
   },
   {
    "duration": 69,
    "start_time": "2023-09-13T14:53:05.563Z"
   },
   {
    "duration": 28,
    "start_time": "2023-09-13T14:53:05.634Z"
   },
   {
    "duration": 17,
    "start_time": "2023-09-13T14:53:05.664Z"
   },
   {
    "duration": 25,
    "start_time": "2023-09-13T14:53:05.683Z"
   },
   {
    "duration": 51,
    "start_time": "2023-09-13T14:53:05.709Z"
   },
   {
    "duration": 32,
    "start_time": "2023-09-13T14:53:05.762Z"
   },
   {
    "duration": 20,
    "start_time": "2023-09-13T14:53:05.795Z"
   },
   {
    "duration": 45,
    "start_time": "2023-09-13T14:53:05.817Z"
   },
   {
    "duration": 30,
    "start_time": "2023-09-13T14:53:05.863Z"
   },
   {
    "duration": 20,
    "start_time": "2023-09-13T14:53:05.894Z"
   },
   {
    "duration": 70,
    "start_time": "2023-09-13T14:53:05.915Z"
   },
   {
    "duration": 22,
    "start_time": "2023-09-13T14:53:05.987Z"
   },
   {
    "duration": 42,
    "start_time": "2023-09-13T14:53:06.011Z"
   },
   {
    "duration": 44,
    "start_time": "2023-09-13T14:53:06.055Z"
   },
   {
    "duration": 21,
    "start_time": "2023-09-13T14:53:06.101Z"
   },
   {
    "duration": 1275,
    "start_time": "2023-09-13T14:53:06.124Z"
   },
   {
    "duration": 858,
    "start_time": "2023-09-13T14:53:07.400Z"
   },
   {
    "duration": 922,
    "start_time": "2023-09-13T14:53:08.261Z"
   },
   {
    "duration": 1028,
    "start_time": "2023-09-13T14:53:09.184Z"
   },
   {
    "duration": 4,
    "start_time": "2023-09-13T14:53:10.214Z"
   },
   {
    "duration": 19,
    "start_time": "2023-09-13T14:53:10.221Z"
   },
   {
    "duration": 5,
    "start_time": "2023-09-13T14:53:10.242Z"
   },
   {
    "duration": 8,
    "start_time": "2023-09-13T14:53:10.248Z"
   },
   {
    "duration": 7,
    "start_time": "2023-09-13T14:53:10.257Z"
   },
   {
    "duration": 9,
    "start_time": "2023-09-13T14:53:10.265Z"
   },
   {
    "duration": 13,
    "start_time": "2023-09-13T14:53:10.275Z"
   },
   {
    "duration": 765,
    "start_time": "2023-09-13T14:53:10.290Z"
   },
   {
    "duration": 6,
    "start_time": "2023-09-13T14:53:11.056Z"
   },
   {
    "duration": 7,
    "start_time": "2023-09-13T14:53:43.428Z"
   },
   {
    "duration": 6,
    "start_time": "2023-09-13T14:53:48.115Z"
   },
   {
    "duration": 909,
    "start_time": "2023-09-13T14:54:27.759Z"
   },
   {
    "duration": 830,
    "start_time": "2023-09-13T14:54:52.603Z"
   },
   {
    "duration": 1203,
    "start_time": "2023-09-13T14:55:09.652Z"
   },
   {
    "duration": 3,
    "start_time": "2023-09-13T15:00:56.110Z"
   },
   {
    "duration": 4,
    "start_time": "2023-09-13T15:01:56.230Z"
   },
   {
    "duration": 35,
    "start_time": "2023-09-13T15:04:24.195Z"
   },
   {
    "duration": 1218,
    "start_time": "2023-09-13T15:05:40.411Z"
   },
   {
    "duration": 4,
    "start_time": "2023-09-13T15:06:28.834Z"
   },
   {
    "duration": 28,
    "start_time": "2023-09-13T15:06:29.717Z"
   },
   {
    "duration": 4,
    "start_time": "2023-09-13T15:06:41.579Z"
   },
   {
    "duration": 24,
    "start_time": "2023-09-13T15:06:42.166Z"
   },
   {
    "duration": 3,
    "start_time": "2023-09-13T15:06:51.273Z"
   },
   {
    "duration": 25,
    "start_time": "2023-09-13T15:06:51.916Z"
   },
   {
    "duration": 1210,
    "start_time": "2023-09-13T15:07:02.414Z"
   },
   {
    "duration": 5,
    "start_time": "2023-09-13T15:07:17.716Z"
   },
   {
    "duration": 35,
    "start_time": "2023-09-13T15:07:18.286Z"
   },
   {
    "duration": 1290,
    "start_time": "2023-09-13T15:07:21.960Z"
   },
   {
    "duration": 5,
    "start_time": "2023-09-13T15:09:09.930Z"
   },
   {
    "duration": 4,
    "start_time": "2023-09-13T15:09:59.524Z"
   },
   {
    "duration": 36,
    "start_time": "2023-09-13T15:10:00.655Z"
   },
   {
    "duration": 1204,
    "start_time": "2023-09-13T15:10:05.696Z"
   },
   {
    "duration": 4,
    "start_time": "2023-09-13T15:10:44.526Z"
   },
   {
    "duration": 47,
    "start_time": "2023-09-13T15:10:45.153Z"
   },
   {
    "duration": 1255,
    "start_time": "2023-09-13T15:10:49.343Z"
   },
   {
    "duration": 4,
    "start_time": "2023-09-13T15:20:11.479Z"
   },
   {
    "duration": 38,
    "start_time": "2023-09-13T15:20:12.213Z"
   },
   {
    "duration": 1215,
    "start_time": "2023-09-13T15:20:15.470Z"
   },
   {
    "duration": 1552,
    "start_time": "2023-09-13T15:21:18.645Z"
   },
   {
    "duration": 2,
    "start_time": "2023-09-13T15:21:20.199Z"
   },
   {
    "duration": 963,
    "start_time": "2023-09-13T15:21:20.203Z"
   },
   {
    "duration": 3,
    "start_time": "2023-09-13T15:21:21.168Z"
   },
   {
    "duration": 91,
    "start_time": "2023-09-13T15:21:21.173Z"
   },
   {
    "duration": 265,
    "start_time": "2023-09-13T15:21:21.266Z"
   },
   {
    "duration": 4,
    "start_time": "2023-09-13T15:21:21.533Z"
   },
   {
    "duration": 32,
    "start_time": "2023-09-13T15:21:21.545Z"
   },
   {
    "duration": 17,
    "start_time": "2023-09-13T15:21:21.579Z"
   },
   {
    "duration": 16,
    "start_time": "2023-09-13T15:21:21.599Z"
   },
   {
    "duration": 44,
    "start_time": "2023-09-13T15:21:21.617Z"
   },
   {
    "duration": 29,
    "start_time": "2023-09-13T15:21:21.664Z"
   },
   {
    "duration": 20,
    "start_time": "2023-09-13T15:21:21.695Z"
   },
   {
    "duration": 39,
    "start_time": "2023-09-13T15:21:21.717Z"
   },
   {
    "duration": 7,
    "start_time": "2023-09-13T15:21:21.760Z"
   },
   {
    "duration": 22,
    "start_time": "2023-09-13T15:21:21.768Z"
   },
   {
    "duration": 13,
    "start_time": "2023-09-13T15:21:21.792Z"
   },
   {
    "duration": 6,
    "start_time": "2023-09-13T15:21:21.806Z"
   },
   {
    "duration": 10,
    "start_time": "2023-09-13T15:21:21.813Z"
   },
   {
    "duration": 9,
    "start_time": "2023-09-13T15:21:21.825Z"
   },
   {
    "duration": 6,
    "start_time": "2023-09-13T15:21:21.835Z"
   },
   {
    "duration": 20,
    "start_time": "2023-09-13T15:21:21.842Z"
   },
   {
    "duration": 1363,
    "start_time": "2023-09-13T15:21:21.864Z"
   },
   {
    "duration": 1011,
    "start_time": "2023-09-13T15:21:23.229Z"
   },
   {
    "duration": 1123,
    "start_time": "2023-09-13T15:21:24.241Z"
   },
   {
    "duration": 4,
    "start_time": "2023-09-13T15:21:25.366Z"
   },
   {
    "duration": 142,
    "start_time": "2023-09-13T15:21:25.372Z"
   },
   {
    "duration": 0,
    "start_time": "2023-09-13T15:21:25.516Z"
   },
   {
    "duration": 0,
    "start_time": "2023-09-13T15:21:25.517Z"
   },
   {
    "duration": 0,
    "start_time": "2023-09-13T15:21:25.518Z"
   },
   {
    "duration": 0,
    "start_time": "2023-09-13T15:21:25.519Z"
   },
   {
    "duration": 0,
    "start_time": "2023-09-13T15:21:25.520Z"
   },
   {
    "duration": 0,
    "start_time": "2023-09-13T15:21:25.521Z"
   },
   {
    "duration": 0,
    "start_time": "2023-09-13T15:21:25.522Z"
   },
   {
    "duration": 0,
    "start_time": "2023-09-13T15:21:25.523Z"
   },
   {
    "duration": 0,
    "start_time": "2023-09-13T15:21:25.524Z"
   },
   {
    "duration": 0,
    "start_time": "2023-09-13T15:21:25.525Z"
   },
   {
    "duration": 0,
    "start_time": "2023-09-13T15:21:25.526Z"
   },
   {
    "duration": 0,
    "start_time": "2023-09-13T15:21:25.527Z"
   },
   {
    "duration": 5,
    "start_time": "2023-09-13T15:21:50.939Z"
   },
   {
    "duration": 46,
    "start_time": "2023-09-13T15:21:51.940Z"
   },
   {
    "duration": 1322,
    "start_time": "2023-09-13T15:22:02.404Z"
   },
   {
    "duration": 970,
    "start_time": "2023-09-13T15:22:07.512Z"
   },
   {
    "duration": 1400,
    "start_time": "2023-09-13T15:26:57.706Z"
   },
   {
    "duration": 10,
    "start_time": "2023-09-13T15:27:46.366Z"
   },
   {
    "duration": 8,
    "start_time": "2023-09-13T15:28:09.489Z"
   },
   {
    "duration": 28,
    "start_time": "2023-09-13T15:31:33.814Z"
   },
   {
    "duration": 7,
    "start_time": "2023-09-13T15:31:48.710Z"
   },
   {
    "duration": 1111,
    "start_time": "2023-09-13T15:31:50.120Z"
   },
   {
    "duration": 683,
    "start_time": "2023-09-13T15:32:11.686Z"
   },
   {
    "duration": 789,
    "start_time": "2023-09-13T15:32:26.248Z"
   },
   {
    "duration": 740,
    "start_time": "2023-09-13T15:32:44.713Z"
   },
   {
    "duration": 804,
    "start_time": "2023-09-13T15:32:52.665Z"
   },
   {
    "duration": 704,
    "start_time": "2023-09-13T15:34:11.772Z"
   },
   {
    "duration": 826,
    "start_time": "2023-09-13T15:35:44.885Z"
   },
   {
    "duration": 1945,
    "start_time": "2023-09-13T15:36:04.306Z"
   },
   {
    "duration": 732,
    "start_time": "2023-09-13T15:36:23.207Z"
   },
   {
    "duration": 1029,
    "start_time": "2023-09-13T15:36:34.825Z"
   },
   {
    "duration": 856,
    "start_time": "2023-09-13T15:37:28.177Z"
   },
   {
    "duration": 1008,
    "start_time": "2023-09-13T15:37:58.192Z"
   },
   {
    "duration": 1221,
    "start_time": "2023-09-13T15:38:07.624Z"
   },
   {
    "duration": 873,
    "start_time": "2023-09-13T15:46:27.824Z"
   },
   {
    "duration": 944,
    "start_time": "2023-09-13T15:46:37.376Z"
   },
   {
    "duration": 870,
    "start_time": "2023-09-13T15:46:47.817Z"
   },
   {
    "duration": 1810,
    "start_time": "2023-09-13T15:47:06.504Z"
   },
   {
    "duration": 1664,
    "start_time": "2023-09-13T15:47:19.411Z"
   },
   {
    "duration": 958,
    "start_time": "2023-09-13T15:47:30.028Z"
   },
   {
    "duration": 979,
    "start_time": "2023-09-13T15:47:38.766Z"
   },
   {
    "duration": 841,
    "start_time": "2023-09-13T15:47:42.190Z"
   },
   {
    "duration": 991,
    "start_time": "2023-09-13T15:47:53.513Z"
   },
   {
    "duration": 5,
    "start_time": "2023-09-13T15:50:10.957Z"
   },
   {
    "duration": 18,
    "start_time": "2023-09-13T15:50:50.436Z"
   },
   {
    "duration": 8,
    "start_time": "2023-09-13T15:51:02.495Z"
   },
   {
    "duration": 5,
    "start_time": "2023-09-13T15:51:04.814Z"
   },
   {
    "duration": 5,
    "start_time": "2023-09-13T15:51:27.336Z"
   },
   {
    "duration": 4,
    "start_time": "2023-09-13T15:51:39.404Z"
   },
   {
    "duration": 4,
    "start_time": "2023-09-13T15:51:44.317Z"
   },
   {
    "duration": 3,
    "start_time": "2023-09-13T16:23:30.740Z"
   },
   {
    "duration": 8,
    "start_time": "2023-09-13T16:24:09.533Z"
   },
   {
    "duration": 3,
    "start_time": "2023-09-13T16:24:30.760Z"
   },
   {
    "duration": 9,
    "start_time": "2023-09-13T16:24:31.218Z"
   },
   {
    "duration": 11,
    "start_time": "2023-09-13T16:26:20.775Z"
   },
   {
    "duration": 31,
    "start_time": "2023-09-13T16:26:46.098Z"
   },
   {
    "duration": 27,
    "start_time": "2023-09-13T16:27:14.038Z"
   },
   {
    "duration": 19,
    "start_time": "2023-09-13T16:27:18.867Z"
   },
   {
    "duration": 1449,
    "start_time": "2023-09-13T16:27:29.814Z"
   },
   {
    "duration": 2,
    "start_time": "2023-09-13T16:27:31.265Z"
   },
   {
    "duration": 929,
    "start_time": "2023-09-13T16:27:31.269Z"
   },
   {
    "duration": 3,
    "start_time": "2023-09-13T16:27:32.201Z"
   },
   {
    "duration": 103,
    "start_time": "2023-09-13T16:27:32.205Z"
   },
   {
    "duration": 287,
    "start_time": "2023-09-13T16:27:32.310Z"
   },
   {
    "duration": 5,
    "start_time": "2023-09-13T16:27:32.599Z"
   },
   {
    "duration": 42,
    "start_time": "2023-09-13T16:27:32.605Z"
   },
   {
    "duration": 10,
    "start_time": "2023-09-13T16:27:32.649Z"
   },
   {
    "duration": 14,
    "start_time": "2023-09-13T16:27:32.661Z"
   },
   {
    "duration": 30,
    "start_time": "2023-09-13T16:27:32.677Z"
   },
   {
    "duration": 52,
    "start_time": "2023-09-13T16:27:32.709Z"
   },
   {
    "duration": 19,
    "start_time": "2023-09-13T16:27:32.762Z"
   },
   {
    "duration": 7,
    "start_time": "2023-09-13T16:27:32.782Z"
   },
   {
    "duration": 15,
    "start_time": "2023-09-13T16:27:32.791Z"
   },
   {
    "duration": 7,
    "start_time": "2023-09-13T16:27:32.807Z"
   },
   {
    "duration": 2,
    "start_time": "2023-09-13T16:27:32.844Z"
   },
   {
    "duration": 31,
    "start_time": "2023-09-13T16:27:32.847Z"
   },
   {
    "duration": 10,
    "start_time": "2023-09-13T16:27:32.879Z"
   },
   {
    "duration": 9,
    "start_time": "2023-09-13T16:27:32.891Z"
   },
   {
    "duration": 20,
    "start_time": "2023-09-13T16:27:32.902Z"
   },
   {
    "duration": 16,
    "start_time": "2023-09-13T16:27:32.923Z"
   },
   {
    "duration": 1291,
    "start_time": "2023-09-13T16:27:32.940Z"
   },
   {
    "duration": 892,
    "start_time": "2023-09-13T16:27:34.233Z"
   },
   {
    "duration": 911,
    "start_time": "2023-09-13T16:27:35.127Z"
   },
   {
    "duration": 5,
    "start_time": "2023-09-13T16:27:36.039Z"
   },
   {
    "duration": 61,
    "start_time": "2023-09-13T16:27:36.046Z"
   },
   {
    "duration": 1229,
    "start_time": "2023-09-13T16:27:36.113Z"
   },
   {
    "duration": 960,
    "start_time": "2023-09-13T16:27:37.344Z"
   },
   {
    "duration": 7,
    "start_time": "2023-09-13T16:27:38.306Z"
   },
   {
    "duration": 999,
    "start_time": "2023-09-13T16:27:38.315Z"
   },
   {
    "duration": 4,
    "start_time": "2023-09-13T16:27:39.316Z"
   },
   {
    "duration": 12,
    "start_time": "2023-09-13T16:27:39.321Z"
   },
   {
    "duration": 29,
    "start_time": "2023-09-13T16:27:39.344Z"
   },
   {
    "duration": 17,
    "start_time": "2023-09-13T16:29:59.913Z"
   },
   {
    "duration": 7,
    "start_time": "2023-09-13T16:31:26.595Z"
   },
   {
    "duration": 1412,
    "start_time": "2023-09-13T16:32:06.297Z"
   },
   {
    "duration": 3,
    "start_time": "2023-09-13T16:32:07.711Z"
   },
   {
    "duration": 857,
    "start_time": "2023-09-13T16:32:07.716Z"
   },
   {
    "duration": 3,
    "start_time": "2023-09-13T16:32:08.575Z"
   },
   {
    "duration": 73,
    "start_time": "2023-09-13T16:32:08.580Z"
   },
   {
    "duration": 241,
    "start_time": "2023-09-13T16:32:08.655Z"
   },
   {
    "duration": 4,
    "start_time": "2023-09-13T16:32:08.898Z"
   },
   {
    "duration": 28,
    "start_time": "2023-09-13T16:32:08.904Z"
   },
   {
    "duration": 19,
    "start_time": "2023-09-13T16:32:08.933Z"
   },
   {
    "duration": 15,
    "start_time": "2023-09-13T16:32:08.954Z"
   },
   {
    "duration": 16,
    "start_time": "2023-09-13T16:32:08.970Z"
   },
   {
    "duration": 43,
    "start_time": "2023-09-13T16:32:08.987Z"
   },
   {
    "duration": 34,
    "start_time": "2023-09-13T16:32:09.032Z"
   },
   {
    "duration": 11,
    "start_time": "2023-09-13T16:32:09.068Z"
   },
   {
    "duration": 6,
    "start_time": "2023-09-13T16:32:09.081Z"
   },
   {
    "duration": 1260,
    "start_time": "2023-09-13T16:32:09.089Z"
   },
   {
    "duration": 824,
    "start_time": "2023-09-13T16:32:10.351Z"
   },
   {
    "duration": 1014,
    "start_time": "2023-09-13T16:32:11.177Z"
   },
   {
    "duration": 4,
    "start_time": "2023-09-13T16:32:12.193Z"
   },
   {
    "duration": 57,
    "start_time": "2023-09-13T16:32:12.199Z"
   },
   {
    "duration": 1257,
    "start_time": "2023-09-13T16:32:12.258Z"
   },
   {
    "duration": 1009,
    "start_time": "2023-09-13T16:32:13.517Z"
   },
   {
    "duration": 16,
    "start_time": "2023-09-13T16:32:14.529Z"
   },
   {
    "duration": 1055,
    "start_time": "2023-09-13T16:32:14.548Z"
   },
   {
    "duration": 4,
    "start_time": "2023-09-13T16:32:15.604Z"
   },
   {
    "duration": 24,
    "start_time": "2023-09-13T16:32:15.609Z"
   },
   {
    "duration": 27,
    "start_time": "2023-09-13T16:32:15.635Z"
   },
   {
    "duration": 15,
    "start_time": "2023-09-13T16:32:15.665Z"
   },
   {
    "duration": 7,
    "start_time": "2023-09-13T16:32:15.681Z"
   },
   {
    "duration": 107,
    "start_time": "2023-09-13T16:50:15.631Z"
   },
   {
    "duration": 4,
    "start_time": "2023-09-13T16:50:53.257Z"
   },
   {
    "duration": 1400,
    "start_time": "2023-09-13T16:50:58.247Z"
   },
   {
    "duration": 3,
    "start_time": "2023-09-13T16:50:59.649Z"
   },
   {
    "duration": 860,
    "start_time": "2023-09-13T16:50:59.653Z"
   },
   {
    "duration": 3,
    "start_time": "2023-09-13T16:51:00.515Z"
   },
   {
    "duration": 137,
    "start_time": "2023-09-13T16:51:00.520Z"
   },
   {
    "duration": 233,
    "start_time": "2023-09-13T16:51:00.659Z"
   },
   {
    "duration": 4,
    "start_time": "2023-09-13T16:51:00.894Z"
   },
   {
    "duration": 45,
    "start_time": "2023-09-13T16:51:00.899Z"
   },
   {
    "duration": 38,
    "start_time": "2023-09-13T16:51:00.945Z"
   },
   {
    "duration": 30,
    "start_time": "2023-09-13T16:51:00.987Z"
   },
   {
    "duration": 48,
    "start_time": "2023-09-13T16:51:01.020Z"
   },
   {
    "duration": 44,
    "start_time": "2023-09-13T16:51:01.070Z"
   },
   {
    "duration": 35,
    "start_time": "2023-09-13T16:51:01.116Z"
   },
   {
    "duration": 28,
    "start_time": "2023-09-13T16:51:01.153Z"
   },
   {
    "duration": 43,
    "start_time": "2023-09-13T16:51:01.183Z"
   },
   {
    "duration": 1216,
    "start_time": "2023-09-13T16:51:01.228Z"
   },
   {
    "duration": 815,
    "start_time": "2023-09-13T16:51:02.446Z"
   },
   {
    "duration": 923,
    "start_time": "2023-09-13T16:51:03.263Z"
   },
   {
    "duration": 4,
    "start_time": "2023-09-13T16:51:04.188Z"
   },
   {
    "duration": 61,
    "start_time": "2023-09-13T16:51:04.195Z"
   },
   {
    "duration": 1237,
    "start_time": "2023-09-13T16:51:04.258Z"
   },
   {
    "duration": 923,
    "start_time": "2023-09-13T16:51:05.497Z"
   },
   {
    "duration": 22,
    "start_time": "2023-09-13T16:51:06.423Z"
   },
   {
    "duration": 963,
    "start_time": "2023-09-13T16:51:06.447Z"
   },
   {
    "duration": 3,
    "start_time": "2023-09-13T16:51:07.413Z"
   },
   {
    "duration": 12,
    "start_time": "2023-09-13T16:51:07.417Z"
   },
   {
    "duration": 47,
    "start_time": "2023-09-13T16:51:07.430Z"
   },
   {
    "duration": 16,
    "start_time": "2023-09-13T16:51:07.481Z"
   },
   {
    "duration": 6,
    "start_time": "2023-09-13T16:51:07.499Z"
   },
   {
    "duration": 21,
    "start_time": "2023-09-13T16:51:07.507Z"
   },
   {
    "duration": 134,
    "start_time": "2023-09-13T16:54:15.352Z"
   },
   {
    "duration": 3,
    "start_time": "2023-09-13T16:55:18.030Z"
   },
   {
    "duration": 24,
    "start_time": "2023-09-13T16:55:27.837Z"
   },
   {
    "duration": 10,
    "start_time": "2023-09-13T16:55:59.890Z"
   },
   {
    "duration": 3,
    "start_time": "2023-09-13T16:57:05.217Z"
   },
   {
    "duration": 2676,
    "start_time": "2023-09-13T16:57:10.873Z"
   },
   {
    "duration": 3,
    "start_time": "2023-09-13T16:57:27.042Z"
   },
   {
    "duration": 24,
    "start_time": "2023-09-13T16:57:31.239Z"
   },
   {
    "duration": 2617,
    "start_time": "2023-09-13T16:57:32.434Z"
   },
   {
    "duration": 3,
    "start_time": "2023-09-13T16:59:38.994Z"
   },
   {
    "duration": 3,
    "start_time": "2023-09-13T16:59:49.503Z"
   },
   {
    "duration": 27,
    "start_time": "2023-09-13T16:59:49.845Z"
   },
   {
    "duration": 2654,
    "start_time": "2023-09-13T16:59:51.089Z"
   },
   {
    "duration": 10,
    "start_time": "2023-09-13T17:37:38.112Z"
   },
   {
    "duration": 12,
    "start_time": "2023-09-13T17:37:59.882Z"
   },
   {
    "duration": 189,
    "start_time": "2023-09-13T17:38:21.855Z"
   },
   {
    "duration": 213,
    "start_time": "2023-09-13T17:38:38.640Z"
   },
   {
    "duration": 215,
    "start_time": "2023-09-13T17:39:58.338Z"
   },
   {
    "duration": 233,
    "start_time": "2023-09-13T17:40:20.814Z"
   },
   {
    "duration": 1250,
    "start_time": "2023-09-13T17:41:29.596Z"
   },
   {
    "duration": 1327,
    "start_time": "2023-09-13T17:41:42.518Z"
   },
   {
    "duration": 5,
    "start_time": "2023-09-13T17:41:50.666Z"
   },
   {
    "duration": 10,
    "start_time": "2023-09-13T17:41:58.016Z"
   },
   {
    "duration": 24,
    "start_time": "2023-09-13T17:43:26.697Z"
   },
   {
    "duration": 1563,
    "start_time": "2023-09-13T17:46:51.819Z"
   },
   {
    "duration": 3,
    "start_time": "2023-09-13T17:46:53.384Z"
   },
   {
    "duration": 961,
    "start_time": "2023-09-13T17:46:53.388Z"
   },
   {
    "duration": 6,
    "start_time": "2023-09-13T17:46:54.351Z"
   },
   {
    "duration": 69,
    "start_time": "2023-09-13T17:46:54.359Z"
   },
   {
    "duration": 310,
    "start_time": "2023-09-13T17:46:54.430Z"
   },
   {
    "duration": 13,
    "start_time": "2023-09-13T17:46:54.742Z"
   },
   {
    "duration": 34,
    "start_time": "2023-09-13T17:46:54.757Z"
   },
   {
    "duration": 15,
    "start_time": "2023-09-13T17:46:54.793Z"
   },
   {
    "duration": 44,
    "start_time": "2023-09-13T17:46:54.812Z"
   },
   {
    "duration": 21,
    "start_time": "2023-09-13T17:46:54.860Z"
   },
   {
    "duration": 29,
    "start_time": "2023-09-13T17:46:54.884Z"
   },
   {
    "duration": 18,
    "start_time": "2023-09-13T17:46:54.915Z"
   },
   {
    "duration": 18,
    "start_time": "2023-09-13T17:46:54.943Z"
   },
   {
    "duration": 16,
    "start_time": "2023-09-13T17:46:54.962Z"
   },
   {
    "duration": 5,
    "start_time": "2023-09-13T17:46:54.979Z"
   },
   {
    "duration": 1305,
    "start_time": "2023-09-13T17:46:54.985Z"
   },
   {
    "duration": 890,
    "start_time": "2023-09-13T17:46:56.292Z"
   },
   {
    "duration": 972,
    "start_time": "2023-09-13T17:46:57.184Z"
   },
   {
    "duration": 5,
    "start_time": "2023-09-13T17:46:58.161Z"
   },
   {
    "duration": 52,
    "start_time": "2023-09-13T17:46:58.171Z"
   },
   {
    "duration": 1295,
    "start_time": "2023-09-13T17:46:58.225Z"
   },
   {
    "duration": 1056,
    "start_time": "2023-09-13T17:46:59.522Z"
   },
   {
    "duration": 8,
    "start_time": "2023-09-13T17:47:00.579Z"
   },
   {
    "duration": 1180,
    "start_time": "2023-09-13T17:47:00.589Z"
   },
   {
    "duration": 5,
    "start_time": "2023-09-13T17:47:01.771Z"
   },
   {
    "duration": 46,
    "start_time": "2023-09-13T17:47:01.777Z"
   },
   {
    "duration": 81,
    "start_time": "2023-09-13T17:47:01.826Z"
   },
   {
    "duration": 78,
    "start_time": "2023-09-13T17:47:01.908Z"
   },
   {
    "duration": 48,
    "start_time": "2023-09-13T17:47:01.987Z"
   },
   {
    "duration": 46,
    "start_time": "2023-09-13T17:47:02.037Z"
   },
   {
    "duration": 37,
    "start_time": "2023-09-13T17:47:02.084Z"
   },
   {
    "duration": 52,
    "start_time": "2023-09-13T17:47:02.123Z"
   },
   {
    "duration": 60,
    "start_time": "2023-09-13T17:47:02.177Z"
   },
   {
    "duration": 52,
    "start_time": "2023-09-13T17:47:02.239Z"
   },
   {
    "duration": 3054,
    "start_time": "2023-09-13T17:47:02.292Z"
   },
   {
    "duration": 13,
    "start_time": "2023-09-13T17:47:05.348Z"
   },
   {
    "duration": 20,
    "start_time": "2023-09-13T17:47:05.363Z"
   },
   {
    "duration": 31,
    "start_time": "2023-09-13T17:48:43.825Z"
   },
   {
    "duration": 31,
    "start_time": "2023-09-13T17:48:44.452Z"
   },
   {
    "duration": 4,
    "start_time": "2023-09-13T17:48:45.413Z"
   },
   {
    "duration": 1611,
    "start_time": "2023-09-13T17:48:46.272Z"
   },
   {
    "duration": 15,
    "start_time": "2023-09-13T17:49:01.338Z"
   },
   {
    "duration": 26,
    "start_time": "2023-09-13T17:49:01.998Z"
   },
   {
    "duration": 26,
    "start_time": "2023-09-13T17:49:02.575Z"
   },
   {
    "duration": 1952,
    "start_time": "2023-09-13T17:49:26.694Z"
   },
   {
    "duration": 3105,
    "start_time": "2023-09-13T18:02:53.849Z"
   },
   {
    "duration": 1674,
    "start_time": "2023-09-13T18:03:24.330Z"
   },
   {
    "duration": 2474,
    "start_time": "2023-09-13T18:03:32.887Z"
   },
   {
    "duration": 30,
    "start_time": "2023-09-13T18:03:52.432Z"
   },
   {
    "duration": 34,
    "start_time": "2023-09-13T18:03:53.458Z"
   },
   {
    "duration": 5,
    "start_time": "2023-09-13T18:03:56.331Z"
   },
   {
    "duration": 1648,
    "start_time": "2023-09-13T18:03:58.312Z"
   },
   {
    "duration": 3,
    "start_time": "2023-09-13T18:25:27.133Z"
   },
   {
    "duration": 1767,
    "start_time": "2023-09-13T18:25:32.267Z"
   },
   {
    "duration": 3,
    "start_time": "2023-09-13T18:25:34.036Z"
   },
   {
    "duration": 1124,
    "start_time": "2023-09-13T18:25:34.040Z"
   },
   {
    "duration": 6,
    "start_time": "2023-09-13T18:25:35.169Z"
   },
   {
    "duration": 107,
    "start_time": "2023-09-13T18:25:35.180Z"
   },
   {
    "duration": 305,
    "start_time": "2023-09-13T18:25:35.288Z"
   },
   {
    "duration": 4,
    "start_time": "2023-09-13T18:25:35.595Z"
   },
   {
    "duration": 45,
    "start_time": "2023-09-13T18:25:35.601Z"
   },
   {
    "duration": 35,
    "start_time": "2023-09-13T18:25:35.651Z"
   },
   {
    "duration": 40,
    "start_time": "2023-09-13T18:25:35.687Z"
   },
   {
    "duration": 21,
    "start_time": "2023-09-13T18:25:35.730Z"
   },
   {
    "duration": 58,
    "start_time": "2023-09-13T18:25:35.753Z"
   },
   {
    "duration": 22,
    "start_time": "2023-09-13T18:25:35.812Z"
   },
   {
    "duration": 10,
    "start_time": "2023-09-13T18:25:35.838Z"
   },
   {
    "duration": 5,
    "start_time": "2023-09-13T18:25:35.852Z"
   },
   {
    "duration": 32,
    "start_time": "2023-09-13T18:25:35.867Z"
   },
   {
    "duration": 1468,
    "start_time": "2023-09-13T18:25:35.901Z"
   },
   {
    "duration": 1003,
    "start_time": "2023-09-13T18:25:37.370Z"
   },
   {
    "duration": 1052,
    "start_time": "2023-09-13T18:25:38.376Z"
   },
   {
    "duration": 4,
    "start_time": "2023-09-13T18:25:39.430Z"
   },
   {
    "duration": 79,
    "start_time": "2023-09-13T18:25:39.435Z"
   },
   {
    "duration": 1438,
    "start_time": "2023-09-13T18:25:39.516Z"
   },
   {
    "duration": 1170,
    "start_time": "2023-09-13T18:25:40.957Z"
   },
   {
    "duration": 14,
    "start_time": "2023-09-13T18:25:42.131Z"
   },
   {
    "duration": 1239,
    "start_time": "2023-09-13T18:25:42.152Z"
   },
   {
    "duration": 4,
    "start_time": "2023-09-13T18:25:43.392Z"
   },
   {
    "duration": 32,
    "start_time": "2023-09-13T18:25:43.397Z"
   },
   {
    "duration": 53,
    "start_time": "2023-09-13T18:25:43.431Z"
   },
   {
    "duration": 22,
    "start_time": "2023-09-13T18:25:43.486Z"
   },
   {
    "duration": 8,
    "start_time": "2023-09-13T18:25:43.510Z"
   },
   {
    "duration": 55,
    "start_time": "2023-09-13T18:25:43.519Z"
   },
   {
    "duration": 12,
    "start_time": "2023-09-13T18:25:43.579Z"
   },
   {
    "duration": 10,
    "start_time": "2023-09-13T18:25:43.592Z"
   },
   {
    "duration": 11,
    "start_time": "2023-09-13T18:25:43.604Z"
   },
   {
    "duration": 38,
    "start_time": "2023-09-13T18:25:43.616Z"
   },
   {
    "duration": 45,
    "start_time": "2023-09-13T18:25:43.656Z"
   },
   {
    "duration": 6,
    "start_time": "2023-09-13T18:25:43.703Z"
   },
   {
    "duration": 2241,
    "start_time": "2023-09-13T18:25:43.711Z"
   },
   {
    "duration": 16,
    "start_time": "2023-09-13T18:25:45.957Z"
   },
   {
    "duration": 85,
    "start_time": "2023-09-13T18:25:45.979Z"
   },
   {
    "duration": 1757,
    "start_time": "2023-09-13T18:26:39.614Z"
   },
   {
    "duration": 4664,
    "start_time": "2023-09-13T18:26:59.223Z"
   },
   {
    "duration": 3639,
    "start_time": "2023-09-13T18:27:21.576Z"
   },
   {
    "duration": 9,
    "start_time": "2023-09-13T18:28:19.065Z"
   },
   {
    "duration": 1711,
    "start_time": "2023-09-13T18:28:25.079Z"
   },
   {
    "duration": 3,
    "start_time": "2023-09-13T18:28:26.792Z"
   },
   {
    "duration": 1130,
    "start_time": "2023-09-13T18:28:26.797Z"
   },
   {
    "duration": 4,
    "start_time": "2023-09-13T18:28:27.929Z"
   },
   {
    "duration": 90,
    "start_time": "2023-09-13T18:28:27.934Z"
   },
   {
    "duration": 305,
    "start_time": "2023-09-13T18:28:28.026Z"
   },
   {
    "duration": 5,
    "start_time": "2023-09-13T18:28:28.333Z"
   },
   {
    "duration": 42,
    "start_time": "2023-09-13T18:28:28.339Z"
   },
   {
    "duration": 12,
    "start_time": "2023-09-13T18:28:28.384Z"
   },
   {
    "duration": 24,
    "start_time": "2023-09-13T18:28:28.399Z"
   },
   {
    "duration": 19,
    "start_time": "2023-09-13T18:28:28.425Z"
   },
   {
    "duration": 41,
    "start_time": "2023-09-13T18:28:28.447Z"
   },
   {
    "duration": 23,
    "start_time": "2023-09-13T18:28:28.490Z"
   },
   {
    "duration": 15,
    "start_time": "2023-09-13T18:28:28.515Z"
   },
   {
    "duration": 11,
    "start_time": "2023-09-13T18:28:28.545Z"
   },
   {
    "duration": 27,
    "start_time": "2023-09-13T18:28:28.558Z"
   },
   {
    "duration": 1546,
    "start_time": "2023-09-13T18:28:28.586Z"
   },
   {
    "duration": 1092,
    "start_time": "2023-09-13T18:28:30.134Z"
   },
   {
    "duration": 1274,
    "start_time": "2023-09-13T18:28:31.229Z"
   },
   {
    "duration": 5,
    "start_time": "2023-09-13T18:28:32.505Z"
   },
   {
    "duration": 98,
    "start_time": "2023-09-13T18:28:32.512Z"
   },
   {
    "duration": 1594,
    "start_time": "2023-09-13T18:28:32.612Z"
   },
   {
    "duration": 1291,
    "start_time": "2023-09-13T18:28:34.208Z"
   },
   {
    "duration": 9,
    "start_time": "2023-09-13T18:28:35.501Z"
   },
   {
    "duration": 1261,
    "start_time": "2023-09-13T18:28:35.513Z"
   },
   {
    "duration": 5,
    "start_time": "2023-09-13T18:28:36.777Z"
   },
   {
    "duration": 19,
    "start_time": "2023-09-13T18:28:36.785Z"
   },
   {
    "duration": 35,
    "start_time": "2023-09-13T18:28:36.806Z"
   },
   {
    "duration": 26,
    "start_time": "2023-09-13T18:28:36.842Z"
   },
   {
    "duration": 7,
    "start_time": "2023-09-13T18:28:36.870Z"
   },
   {
    "duration": 35,
    "start_time": "2023-09-13T18:28:36.885Z"
   },
   {
    "duration": 4,
    "start_time": "2023-09-13T18:28:36.922Z"
   },
   {
    "duration": 10,
    "start_time": "2023-09-13T18:28:36.928Z"
   },
   {
    "duration": 53,
    "start_time": "2023-09-13T18:28:36.941Z"
   },
   {
    "duration": 3657,
    "start_time": "2023-09-13T18:28:36.996Z"
   },
   {
    "duration": 7484,
    "start_time": "2023-09-13T18:41:40.273Z"
   },
   {
    "duration": 5,
    "start_time": "2023-09-13T18:50:06.392Z"
   },
   {
    "duration": 3,
    "start_time": "2023-09-13T18:50:07.564Z"
   },
   {
    "duration": 14,
    "start_time": "2023-09-13T18:50:53.625Z"
   },
   {
    "duration": 6634,
    "start_time": "2023-09-13T18:58:48.735Z"
   },
   {
    "duration": 6383,
    "start_time": "2023-09-13T18:59:01.264Z"
   },
   {
    "duration": 123724,
    "start_time": "2023-09-13T19:25:21.068Z"
   },
   {
    "duration": 211521,
    "start_time": "2023-09-13T19:28:07.413Z"
   },
   {
    "duration": 1628,
    "start_time": "2023-09-13T19:32:05.362Z"
   },
   {
    "duration": 3,
    "start_time": "2023-09-13T19:32:06.992Z"
   },
   {
    "duration": 1536,
    "start_time": "2023-09-13T19:32:06.996Z"
   },
   {
    "duration": 3,
    "start_time": "2023-09-13T19:32:08.534Z"
   },
   {
    "duration": 80,
    "start_time": "2023-09-13T19:32:08.539Z"
   },
   {
    "duration": 264,
    "start_time": "2023-09-13T19:32:08.621Z"
   },
   {
    "duration": 4,
    "start_time": "2023-09-13T19:32:08.887Z"
   },
   {
    "duration": 35,
    "start_time": "2023-09-13T19:32:08.892Z"
   },
   {
    "duration": 18,
    "start_time": "2023-09-13T19:32:08.928Z"
   },
   {
    "duration": 32,
    "start_time": "2023-09-13T19:32:08.948Z"
   },
   {
    "duration": 15,
    "start_time": "2023-09-13T19:32:08.981Z"
   },
   {
    "duration": 29,
    "start_time": "2023-09-13T19:32:08.998Z"
   },
   {
    "duration": 47,
    "start_time": "2023-09-13T19:32:09.029Z"
   },
   {
    "duration": 8,
    "start_time": "2023-09-13T19:32:09.079Z"
   },
   {
    "duration": 16,
    "start_time": "2023-09-13T19:32:09.088Z"
   },
   {
    "duration": 5,
    "start_time": "2023-09-13T19:32:09.105Z"
   },
   {
    "duration": 1345,
    "start_time": "2023-09-13T19:32:09.111Z"
   },
   {
    "duration": 887,
    "start_time": "2023-09-13T19:32:10.459Z"
   },
   {
    "duration": 1006,
    "start_time": "2023-09-13T19:32:11.349Z"
   },
   {
    "duration": 6,
    "start_time": "2023-09-13T19:32:12.357Z"
   },
   {
    "duration": 50,
    "start_time": "2023-09-13T19:32:12.365Z"
   },
   {
    "duration": 1523,
    "start_time": "2023-09-13T19:32:12.416Z"
   },
   {
    "duration": 1162,
    "start_time": "2023-09-13T19:32:13.940Z"
   },
   {
    "duration": 7,
    "start_time": "2023-09-13T19:32:15.104Z"
   },
   {
    "duration": 1094,
    "start_time": "2023-09-13T19:32:15.113Z"
   },
   {
    "duration": 3,
    "start_time": "2023-09-13T19:32:16.209Z"
   },
   {
    "duration": 12,
    "start_time": "2023-09-13T19:32:16.214Z"
   },
   {
    "duration": 42,
    "start_time": "2023-09-13T19:32:16.227Z"
   },
   {
    "duration": 17,
    "start_time": "2023-09-13T19:32:16.270Z"
   },
   {
    "duration": 7,
    "start_time": "2023-09-13T19:32:16.289Z"
   },
   {
    "duration": 8,
    "start_time": "2023-09-13T19:32:16.297Z"
   },
   {
    "duration": 7,
    "start_time": "2023-09-13T19:32:16.307Z"
   },
   {
    "duration": 101,
    "start_time": "2023-09-13T19:32:16.315Z"
   },
   {
    "duration": 0,
    "start_time": "2023-09-13T19:32:16.418Z"
   },
   {
    "duration": 0,
    "start_time": "2023-09-13T19:32:16.419Z"
   },
   {
    "duration": 0,
    "start_time": "2023-09-13T19:32:16.420Z"
   },
   {
    "duration": 13,
    "start_time": "2023-09-13T19:33:24.040Z"
   },
   {
    "duration": 20,
    "start_time": "2023-09-13T19:33:25.632Z"
   },
   {
    "duration": 2874,
    "start_time": "2023-09-13T19:33:28.277Z"
   },
   {
    "duration": 176213,
    "start_time": "2023-09-13T19:33:36.869Z"
   },
   {
    "duration": 136,
    "start_time": "2023-09-13T19:37:40.861Z"
   },
   {
    "duration": 4,
    "start_time": "2023-09-13T19:38:18.769Z"
   },
   {
    "duration": 11,
    "start_time": "2023-09-13T19:38:25.914Z"
   },
   {
    "duration": 65774,
    "start_time": "2023-09-13T19:38:38.816Z"
   },
   {
    "duration": 66323,
    "start_time": "2023-09-13T19:41:35.928Z"
   },
   {
    "duration": 91730,
    "start_time": "2023-09-13T19:44:36.834Z"
   },
   {
    "duration": 15,
    "start_time": "2023-09-13T19:47:27.861Z"
   },
   {
    "duration": 172478,
    "start_time": "2023-09-13T19:47:35.824Z"
   },
   {
    "duration": 1594,
    "start_time": "2023-09-13T20:27:52.619Z"
   },
   {
    "duration": 3,
    "start_time": "2023-09-13T20:27:54.215Z"
   },
   {
    "duration": 1120,
    "start_time": "2023-09-13T20:27:54.219Z"
   },
   {
    "duration": 5,
    "start_time": "2023-09-13T20:27:55.341Z"
   },
   {
    "duration": 82,
    "start_time": "2023-09-13T20:27:55.349Z"
   },
   {
    "duration": 297,
    "start_time": "2023-09-13T20:27:55.450Z"
   },
   {
    "duration": 6,
    "start_time": "2023-09-13T20:27:55.749Z"
   },
   {
    "duration": 32,
    "start_time": "2023-09-13T20:27:55.758Z"
   },
   {
    "duration": 12,
    "start_time": "2023-09-13T20:27:55.792Z"
   },
   {
    "duration": 40,
    "start_time": "2023-09-13T20:27:55.806Z"
   },
   {
    "duration": 34,
    "start_time": "2023-09-13T20:27:55.848Z"
   },
   {
    "duration": 25,
    "start_time": "2023-09-13T20:27:55.884Z"
   },
   {
    "duration": 60,
    "start_time": "2023-09-13T20:27:55.911Z"
   },
   {
    "duration": 9,
    "start_time": "2023-09-13T20:27:55.977Z"
   },
   {
    "duration": 5,
    "start_time": "2023-09-13T20:27:55.988Z"
   },
   {
    "duration": 1510,
    "start_time": "2023-09-13T20:27:55.995Z"
   },
   {
    "duration": 1025,
    "start_time": "2023-09-13T20:27:57.507Z"
   },
   {
    "duration": 1046,
    "start_time": "2023-09-13T20:27:58.534Z"
   },
   {
    "duration": 4,
    "start_time": "2023-09-13T20:27:59.582Z"
   },
   {
    "duration": 83,
    "start_time": "2023-09-13T20:27:59.588Z"
   },
   {
    "duration": 1505,
    "start_time": "2023-09-13T20:27:59.674Z"
   },
   {
    "duration": 1147,
    "start_time": "2023-09-13T20:28:01.182Z"
   },
   {
    "duration": 15,
    "start_time": "2023-09-13T20:28:02.331Z"
   },
   {
    "duration": 1231,
    "start_time": "2023-09-13T20:28:02.348Z"
   },
   {
    "duration": 5,
    "start_time": "2023-09-13T20:28:03.581Z"
   },
   {
    "duration": 9,
    "start_time": "2023-09-13T20:28:03.588Z"
   },
   {
    "duration": 55,
    "start_time": "2023-09-13T20:28:03.599Z"
   },
   {
    "duration": 23,
    "start_time": "2023-09-13T20:28:03.656Z"
   },
   {
    "duration": 7,
    "start_time": "2023-09-13T20:28:03.681Z"
   },
   {
    "duration": 7,
    "start_time": "2023-09-13T20:28:03.689Z"
   },
   {
    "duration": 14,
    "start_time": "2023-09-13T20:28:03.698Z"
   },
   {
    "duration": 35,
    "start_time": "2023-09-13T20:28:03.715Z"
   },
   {
    "duration": 33,
    "start_time": "2023-09-13T20:28:03.753Z"
   },
   {
    "duration": 3483,
    "start_time": "2023-09-13T20:28:03.790Z"
   },
   {
    "duration": 93219,
    "start_time": "2023-09-13T20:28:07.345Z"
   },
   {
    "duration": 1620,
    "start_time": "2023-09-13T20:48:53.117Z"
   },
   {
    "duration": 3,
    "start_time": "2023-09-13T20:48:54.739Z"
   },
   {
    "duration": 953,
    "start_time": "2023-09-13T20:48:54.745Z"
   },
   {
    "duration": 3,
    "start_time": "2023-09-13T20:48:55.700Z"
   },
   {
    "duration": 87,
    "start_time": "2023-09-13T20:48:55.705Z"
   },
   {
    "duration": 288,
    "start_time": "2023-09-13T20:48:55.793Z"
   },
   {
    "duration": 4,
    "start_time": "2023-09-13T20:48:56.084Z"
   },
   {
    "duration": 21,
    "start_time": "2023-09-13T20:48:56.091Z"
   },
   {
    "duration": 39,
    "start_time": "2023-09-13T20:48:56.114Z"
   },
   {
    "duration": 15,
    "start_time": "2023-09-13T20:48:56.157Z"
   },
   {
    "duration": 15,
    "start_time": "2023-09-13T20:48:56.174Z"
   },
   {
    "duration": 63,
    "start_time": "2023-09-13T20:48:56.190Z"
   },
   {
    "duration": 21,
    "start_time": "2023-09-13T20:48:56.255Z"
   },
   {
    "duration": 7,
    "start_time": "2023-09-13T20:48:56.278Z"
   },
   {
    "duration": 15,
    "start_time": "2023-09-13T20:48:56.286Z"
   },
   {
    "duration": 1399,
    "start_time": "2023-09-13T20:48:56.302Z"
   },
   {
    "duration": 874,
    "start_time": "2023-09-13T20:48:57.702Z"
   },
   {
    "duration": 963,
    "start_time": "2023-09-13T20:48:58.577Z"
   },
   {
    "duration": 4,
    "start_time": "2023-09-13T20:48:59.542Z"
   },
   {
    "duration": 118,
    "start_time": "2023-09-13T20:48:59.548Z"
   },
   {
    "duration": 1305,
    "start_time": "2023-09-13T20:48:59.668Z"
   },
   {
    "duration": 1031,
    "start_time": "2023-09-13T20:49:00.975Z"
   },
   {
    "duration": 9,
    "start_time": "2023-09-13T20:49:02.007Z"
   },
   {
    "duration": 1255,
    "start_time": "2023-09-13T20:49:02.018Z"
   },
   {
    "duration": 4,
    "start_time": "2023-09-13T20:49:03.275Z"
   },
   {
    "duration": 70,
    "start_time": "2023-09-13T20:49:03.281Z"
   },
   {
    "duration": 54,
    "start_time": "2023-09-13T20:49:03.353Z"
   },
   {
    "duration": 33,
    "start_time": "2023-09-13T20:49:03.410Z"
   },
   {
    "duration": 44,
    "start_time": "2023-09-13T20:49:03.447Z"
   },
   {
    "duration": 49,
    "start_time": "2023-09-13T20:49:03.493Z"
   },
   {
    "duration": 27,
    "start_time": "2023-09-13T20:49:03.546Z"
   },
   {
    "duration": 30,
    "start_time": "2023-09-13T20:49:03.575Z"
   },
   {
    "duration": 70,
    "start_time": "2023-09-13T20:49:03.607Z"
   },
   {
    "duration": 3065,
    "start_time": "2023-09-13T20:49:03.679Z"
   },
   {
    "duration": 91447,
    "start_time": "2023-09-13T20:49:06.747Z"
   },
   {
    "duration": 1644,
    "start_time": "2023-09-13T21:07:03.426Z"
   },
   {
    "duration": 3,
    "start_time": "2023-09-13T21:07:05.072Z"
   },
   {
    "duration": 921,
    "start_time": "2023-09-13T21:07:05.076Z"
   },
   {
    "duration": 3,
    "start_time": "2023-09-13T21:07:06.000Z"
   },
   {
    "duration": 94,
    "start_time": "2023-09-13T21:07:06.005Z"
   },
   {
    "duration": 265,
    "start_time": "2023-09-13T21:07:06.101Z"
   },
   {
    "duration": 3,
    "start_time": "2023-09-13T21:07:06.368Z"
   },
   {
    "duration": 17,
    "start_time": "2023-09-13T21:07:06.373Z"
   },
   {
    "duration": 12,
    "start_time": "2023-09-13T21:07:06.392Z"
   },
   {
    "duration": 49,
    "start_time": "2023-09-13T21:07:06.408Z"
   },
   {
    "duration": 18,
    "start_time": "2023-09-13T21:07:06.459Z"
   },
   {
    "duration": 28,
    "start_time": "2023-09-13T21:07:06.479Z"
   },
   {
    "duration": 52,
    "start_time": "2023-09-13T21:07:06.509Z"
   },
   {
    "duration": 8,
    "start_time": "2023-09-13T21:07:06.563Z"
   },
   {
    "duration": 7,
    "start_time": "2023-09-13T21:07:06.573Z"
   },
   {
    "duration": 1310,
    "start_time": "2023-09-13T21:07:06.582Z"
   },
   {
    "duration": 849,
    "start_time": "2023-09-13T21:07:07.893Z"
   },
   {
    "duration": 963,
    "start_time": "2023-09-13T21:07:08.745Z"
   },
   {
    "duration": 3,
    "start_time": "2023-09-13T21:07:09.710Z"
   },
   {
    "duration": 62,
    "start_time": "2023-09-13T21:07:09.715Z"
   },
   {
    "duration": 1240,
    "start_time": "2023-09-13T21:07:09.779Z"
   },
   {
    "duration": 984,
    "start_time": "2023-09-13T21:07:11.021Z"
   },
   {
    "duration": 8,
    "start_time": "2023-09-13T21:07:12.007Z"
   },
   {
    "duration": 1066,
    "start_time": "2023-09-13T21:07:12.016Z"
   },
   {
    "duration": 4,
    "start_time": "2023-09-13T21:07:13.083Z"
   },
   {
    "duration": 17,
    "start_time": "2023-09-13T21:07:13.088Z"
   },
   {
    "duration": 29,
    "start_time": "2023-09-13T21:07:13.106Z"
   },
   {
    "duration": 24,
    "start_time": "2023-09-13T21:07:13.145Z"
   },
   {
    "duration": 5,
    "start_time": "2023-09-13T21:07:13.171Z"
   },
   {
    "duration": 15,
    "start_time": "2023-09-13T21:07:13.178Z"
   },
   {
    "duration": 13,
    "start_time": "2023-09-13T21:07:13.194Z"
   },
   {
    "duration": 16,
    "start_time": "2023-09-13T21:07:13.208Z"
   },
   {
    "duration": 41,
    "start_time": "2023-09-13T21:07:13.225Z"
   },
   {
    "duration": 2877,
    "start_time": "2023-09-13T21:07:13.268Z"
   },
   {
    "duration": 4,
    "start_time": "2023-09-13T21:07:16.148Z"
   },
   {
    "duration": 8,
    "start_time": "2023-09-13T21:07:16.155Z"
   },
   {
    "duration": 54682,
    "start_time": "2023-09-13T21:11:25.989Z"
   },
   {
    "duration": 175526,
    "start_time": "2023-09-13T21:14:36.371Z"
   },
   {
    "duration": 1781,
    "start_time": "2023-09-13T21:34:33.213Z"
   },
   {
    "duration": 3,
    "start_time": "2023-09-13T21:34:34.996Z"
   },
   {
    "duration": 994,
    "start_time": "2023-09-13T21:34:35.000Z"
   },
   {
    "duration": 4,
    "start_time": "2023-09-13T21:34:35.996Z"
   },
   {
    "duration": 108,
    "start_time": "2023-09-13T21:34:36.002Z"
   },
   {
    "duration": 306,
    "start_time": "2023-09-13T21:34:36.112Z"
   },
   {
    "duration": 5,
    "start_time": "2023-09-13T21:34:36.420Z"
   },
   {
    "duration": 37,
    "start_time": "2023-09-13T21:34:36.429Z"
   },
   {
    "duration": 18,
    "start_time": "2023-09-13T21:34:36.469Z"
   },
   {
    "duration": 18,
    "start_time": "2023-09-13T21:34:36.491Z"
   },
   {
    "duration": 57,
    "start_time": "2023-09-13T21:34:36.511Z"
   },
   {
    "duration": 28,
    "start_time": "2023-09-13T21:34:36.570Z"
   },
   {
    "duration": 50,
    "start_time": "2023-09-13T21:34:36.600Z"
   },
   {
    "duration": 12,
    "start_time": "2023-09-13T21:34:36.652Z"
   },
   {
    "duration": 8,
    "start_time": "2023-09-13T21:34:36.666Z"
   },
   {
    "duration": 1586,
    "start_time": "2023-09-13T21:34:36.676Z"
   },
   {
    "duration": 966,
    "start_time": "2023-09-13T21:34:38.263Z"
   },
   {
    "duration": 1080,
    "start_time": "2023-09-13T21:34:39.231Z"
   },
   {
    "duration": 5,
    "start_time": "2023-09-13T21:34:40.314Z"
   },
   {
    "duration": 85,
    "start_time": "2023-09-13T21:34:40.321Z"
   },
   {
    "duration": 1397,
    "start_time": "2023-09-13T21:34:40.407Z"
   },
   {
    "duration": 1167,
    "start_time": "2023-09-13T21:34:41.806Z"
   },
   {
    "duration": 10,
    "start_time": "2023-09-13T21:34:42.975Z"
   },
   {
    "duration": 1287,
    "start_time": "2023-09-13T21:34:42.987Z"
   },
   {
    "duration": 5,
    "start_time": "2023-09-13T21:34:44.276Z"
   },
   {
    "duration": 81,
    "start_time": "2023-09-13T21:34:44.283Z"
   },
   {
    "duration": 29,
    "start_time": "2023-09-13T21:34:44.368Z"
   },
   {
    "duration": 30,
    "start_time": "2023-09-13T21:34:44.401Z"
   },
   {
    "duration": 17,
    "start_time": "2023-09-13T21:34:44.433Z"
   },
   {
    "duration": 13,
    "start_time": "2023-09-13T21:34:44.452Z"
   },
   {
    "duration": 26,
    "start_time": "2023-09-13T21:34:44.467Z"
   },
   {
    "duration": 32,
    "start_time": "2023-09-13T21:34:44.495Z"
   },
   {
    "duration": 46,
    "start_time": "2023-09-13T21:34:44.529Z"
   },
   {
    "duration": 3701,
    "start_time": "2023-09-13T21:34:44.578Z"
   },
   {
    "duration": 185809,
    "start_time": "2023-09-13T21:34:48.281Z"
   },
   {
    "duration": 1574,
    "start_time": "2023-09-13T21:44:06.236Z"
   },
   {
    "duration": 3,
    "start_time": "2023-09-13T21:44:07.812Z"
   },
   {
    "duration": 958,
    "start_time": "2023-09-13T21:44:07.817Z"
   },
   {
    "duration": 4,
    "start_time": "2023-09-13T21:44:08.777Z"
   },
   {
    "duration": 91,
    "start_time": "2023-09-13T21:44:08.783Z"
   },
   {
    "duration": 316,
    "start_time": "2023-09-13T21:44:08.876Z"
   },
   {
    "duration": 4,
    "start_time": "2023-09-13T21:44:09.193Z"
   },
   {
    "duration": 29,
    "start_time": "2023-09-13T21:44:09.199Z"
   },
   {
    "duration": 39,
    "start_time": "2023-09-13T21:44:09.230Z"
   },
   {
    "duration": 23,
    "start_time": "2023-09-13T21:44:09.271Z"
   },
   {
    "duration": 17,
    "start_time": "2023-09-13T21:44:09.296Z"
   },
   {
    "duration": 50,
    "start_time": "2023-09-13T21:44:09.315Z"
   },
   {
    "duration": 28,
    "start_time": "2023-09-13T21:44:09.368Z"
   },
   {
    "duration": 9,
    "start_time": "2023-09-13T21:44:09.403Z"
   },
   {
    "duration": 33,
    "start_time": "2023-09-13T21:44:09.415Z"
   },
   {
    "duration": 1430,
    "start_time": "2023-09-13T21:44:09.453Z"
   },
   {
    "duration": 937,
    "start_time": "2023-09-13T21:44:10.888Z"
   },
   {
    "duration": 1067,
    "start_time": "2023-09-13T21:44:11.827Z"
   },
   {
    "duration": 7,
    "start_time": "2023-09-13T21:44:12.896Z"
   },
   {
    "duration": 80,
    "start_time": "2023-09-13T21:44:12.905Z"
   },
   {
    "duration": 1479,
    "start_time": "2023-09-13T21:44:12.987Z"
   },
   {
    "duration": 1164,
    "start_time": "2023-09-13T21:44:14.469Z"
   },
   {
    "duration": 16,
    "start_time": "2023-09-13T21:44:15.636Z"
   },
   {
    "duration": 1118,
    "start_time": "2023-09-13T21:44:15.654Z"
   },
   {
    "duration": 4,
    "start_time": "2023-09-13T21:44:16.775Z"
   },
   {
    "duration": 9,
    "start_time": "2023-09-13T21:44:16.781Z"
   },
   {
    "duration": 28,
    "start_time": "2023-09-13T21:44:16.792Z"
   },
   {
    "duration": 32,
    "start_time": "2023-09-13T21:44:16.822Z"
   },
   {
    "duration": 7,
    "start_time": "2023-09-13T21:44:16.856Z"
   },
   {
    "duration": 21,
    "start_time": "2023-09-13T21:44:16.865Z"
   },
   {
    "duration": 12,
    "start_time": "2023-09-13T21:44:16.888Z"
   },
   {
    "duration": 16,
    "start_time": "2023-09-13T21:44:16.902Z"
   },
   {
    "duration": 44,
    "start_time": "2023-09-13T21:44:16.920Z"
   },
   {
    "duration": 3791,
    "start_time": "2023-09-13T21:44:16.966Z"
   },
   {
    "duration": 56401,
    "start_time": "2023-09-13T21:44:20.759Z"
   },
   {
    "duration": 1517,
    "start_time": "2023-09-13T22:00:54.799Z"
   },
   {
    "duration": 3,
    "start_time": "2023-09-13T22:00:56.318Z"
   },
   {
    "duration": 935,
    "start_time": "2023-09-13T22:00:56.323Z"
   },
   {
    "duration": 4,
    "start_time": "2023-09-13T22:00:57.261Z"
   },
   {
    "duration": 86,
    "start_time": "2023-09-13T22:00:57.268Z"
   },
   {
    "duration": 263,
    "start_time": "2023-09-13T22:00:57.357Z"
   },
   {
    "duration": 4,
    "start_time": "2023-09-13T22:00:57.621Z"
   },
   {
    "duration": 35,
    "start_time": "2023-09-13T22:00:57.626Z"
   },
   {
    "duration": 11,
    "start_time": "2023-09-13T22:00:57.663Z"
   },
   {
    "duration": 18,
    "start_time": "2023-09-13T22:00:57.676Z"
   },
   {
    "duration": 50,
    "start_time": "2023-09-13T22:00:57.696Z"
   },
   {
    "duration": 43,
    "start_time": "2023-09-13T22:00:57.749Z"
   },
   {
    "duration": 25,
    "start_time": "2023-09-13T22:00:57.794Z"
   },
   {
    "duration": 17,
    "start_time": "2023-09-13T22:00:57.845Z"
   },
   {
    "duration": 6,
    "start_time": "2023-09-13T22:00:57.864Z"
   },
   {
    "duration": 1300,
    "start_time": "2023-09-13T22:00:57.872Z"
   },
   {
    "duration": 848,
    "start_time": "2023-09-13T22:00:59.174Z"
   },
   {
    "duration": 1000,
    "start_time": "2023-09-13T22:01:00.025Z"
   },
   {
    "duration": 4,
    "start_time": "2023-09-13T22:01:01.027Z"
   },
   {
    "duration": 92,
    "start_time": "2023-09-13T22:01:01.033Z"
   },
   {
    "duration": 1295,
    "start_time": "2023-09-13T22:01:01.127Z"
   },
   {
    "duration": 1085,
    "start_time": "2023-09-13T22:01:02.425Z"
   },
   {
    "duration": 9,
    "start_time": "2023-09-13T22:01:03.512Z"
   },
   {
    "duration": 1218,
    "start_time": "2023-09-13T22:01:03.523Z"
   },
   {
    "duration": 4,
    "start_time": "2023-09-13T22:01:04.743Z"
   },
   {
    "duration": 18,
    "start_time": "2023-09-13T22:01:04.748Z"
   },
   {
    "duration": 36,
    "start_time": "2023-09-13T22:01:04.767Z"
   },
   {
    "duration": 17,
    "start_time": "2023-09-13T22:01:04.805Z"
   },
   {
    "duration": 6,
    "start_time": "2023-09-13T22:01:04.823Z"
   },
   {
    "duration": 13,
    "start_time": "2023-09-13T22:01:04.846Z"
   },
   {
    "duration": 21,
    "start_time": "2023-09-13T22:01:04.861Z"
   },
   {
    "duration": 16,
    "start_time": "2023-09-13T22:01:04.884Z"
   },
   {
    "duration": 31,
    "start_time": "2023-09-13T22:01:04.902Z"
   },
   {
    "duration": 3515,
    "start_time": "2023-09-13T22:01:04.935Z"
   },
   {
    "duration": 4,
    "start_time": "2023-09-13T22:01:08.452Z"
   },
   {
    "duration": 0,
    "start_time": "2023-09-13T22:01:09.129Z"
   },
   {
    "duration": 0,
    "start_time": "2023-09-13T22:01:09.130Z"
   },
   {
    "duration": 0,
    "start_time": "2023-09-13T22:01:09.131Z"
   },
   {
    "duration": 7,
    "start_time": "2023-09-13T22:02:13.284Z"
   },
   {
    "duration": 506,
    "start_time": "2023-09-13T22:02:41.980Z"
   },
   {
    "duration": 1538,
    "start_time": "2023-09-13T22:10:34.783Z"
   },
   {
    "duration": 3,
    "start_time": "2023-09-13T22:10:36.323Z"
   },
   {
    "duration": 967,
    "start_time": "2023-09-13T22:10:36.327Z"
   },
   {
    "duration": 3,
    "start_time": "2023-09-13T22:10:37.296Z"
   },
   {
    "duration": 82,
    "start_time": "2023-09-13T22:10:37.301Z"
   },
   {
    "duration": 280,
    "start_time": "2023-09-13T22:10:37.385Z"
   },
   {
    "duration": 7,
    "start_time": "2023-09-13T22:10:37.667Z"
   },
   {
    "duration": 28,
    "start_time": "2023-09-13T22:10:37.676Z"
   },
   {
    "duration": 12,
    "start_time": "2023-09-13T22:10:37.707Z"
   },
   {
    "duration": 51,
    "start_time": "2023-09-13T22:10:37.721Z"
   },
   {
    "duration": 47,
    "start_time": "2023-09-13T22:10:37.773Z"
   },
   {
    "duration": 33,
    "start_time": "2023-09-13T22:10:37.821Z"
   },
   {
    "duration": 22,
    "start_time": "2023-09-13T22:10:37.857Z"
   },
   {
    "duration": 15,
    "start_time": "2023-09-13T22:10:37.880Z"
   },
   {
    "duration": 5,
    "start_time": "2023-09-13T22:10:37.897Z"
   },
   {
    "duration": 1355,
    "start_time": "2023-09-13T22:10:37.904Z"
   },
   {
    "duration": 899,
    "start_time": "2023-09-13T22:10:39.261Z"
   },
   {
    "duration": 1040,
    "start_time": "2023-09-13T22:10:40.162Z"
   },
   {
    "duration": 4,
    "start_time": "2023-09-13T22:10:41.205Z"
   },
   {
    "duration": 71,
    "start_time": "2023-09-13T22:10:41.211Z"
   },
   {
    "duration": 1326,
    "start_time": "2023-09-13T22:10:41.283Z"
   },
   {
    "duration": 1062,
    "start_time": "2023-09-13T22:10:42.611Z"
   },
   {
    "duration": 8,
    "start_time": "2023-09-13T22:10:43.675Z"
   },
   {
    "duration": 1206,
    "start_time": "2023-09-13T22:10:43.685Z"
   },
   {
    "duration": 3,
    "start_time": "2023-09-13T22:10:44.893Z"
   },
   {
    "duration": 8,
    "start_time": "2023-09-13T22:10:44.898Z"
   },
   {
    "duration": 51,
    "start_time": "2023-09-13T22:10:44.908Z"
   },
   {
    "duration": 26,
    "start_time": "2023-09-13T22:10:44.964Z"
   },
   {
    "duration": 7,
    "start_time": "2023-09-13T22:10:44.993Z"
   },
   {
    "duration": 48,
    "start_time": "2023-09-13T22:10:45.003Z"
   },
   {
    "duration": 11,
    "start_time": "2023-09-13T22:10:45.054Z"
   },
   {
    "duration": 40,
    "start_time": "2023-09-13T22:10:45.068Z"
   },
   {
    "duration": 49,
    "start_time": "2023-09-13T22:10:45.110Z"
   },
   {
    "duration": 3202,
    "start_time": "2023-09-13T22:10:45.161Z"
   },
   {
    "duration": 74,
    "start_time": "2023-09-13T22:10:48.371Z"
   },
   {
    "duration": 7435,
    "start_time": "2023-09-13T22:10:48.447Z"
   },
   {
    "duration": 3,
    "start_time": "2023-09-13T22:10:55.884Z"
   },
   {
    "duration": 24,
    "start_time": "2023-09-13T22:10:55.888Z"
   },
   {
    "duration": 66,
    "start_time": "2023-09-14T04:29:16.964Z"
   },
   {
    "duration": 1623,
    "start_time": "2023-09-14T04:29:23.244Z"
   },
   {
    "duration": 3,
    "start_time": "2023-09-14T04:29:24.869Z"
   },
   {
    "duration": 2356,
    "start_time": "2023-09-14T04:29:24.873Z"
   },
   {
    "duration": 3,
    "start_time": "2023-09-14T04:29:27.231Z"
   },
   {
    "duration": 56,
    "start_time": "2023-09-14T04:29:27.236Z"
   },
   {
    "duration": 231,
    "start_time": "2023-09-14T04:29:27.294Z"
   },
   {
    "duration": 4,
    "start_time": "2023-09-14T04:29:27.526Z"
   },
   {
    "duration": 26,
    "start_time": "2023-09-14T04:29:27.531Z"
   },
   {
    "duration": 9,
    "start_time": "2023-09-14T04:29:27.559Z"
   },
   {
    "duration": 13,
    "start_time": "2023-09-14T04:29:27.570Z"
   },
   {
    "duration": 15,
    "start_time": "2023-09-14T04:29:27.584Z"
   },
   {
    "duration": 33,
    "start_time": "2023-09-14T04:29:27.600Z"
   },
   {
    "duration": 16,
    "start_time": "2023-09-14T04:29:27.650Z"
   },
   {
    "duration": 6,
    "start_time": "2023-09-14T04:29:27.669Z"
   },
   {
    "duration": 4,
    "start_time": "2023-09-14T04:29:27.677Z"
   },
   {
    "duration": 1081,
    "start_time": "2023-09-14T04:29:27.683Z"
   },
   {
    "duration": 736,
    "start_time": "2023-09-14T04:29:28.765Z"
   },
   {
    "duration": 803,
    "start_time": "2023-09-14T04:29:29.503Z"
   },
   {
    "duration": 4,
    "start_time": "2023-09-14T04:29:30.307Z"
   },
   {
    "duration": 83,
    "start_time": "2023-09-14T04:29:30.312Z"
   },
   {
    "duration": 1103,
    "start_time": "2023-09-14T04:29:30.396Z"
   },
   {
    "duration": 841,
    "start_time": "2023-09-14T04:29:31.501Z"
   },
   {
    "duration": 10,
    "start_time": "2023-09-14T04:29:32.343Z"
   },
   {
    "duration": 913,
    "start_time": "2023-09-14T04:29:32.354Z"
   },
   {
    "duration": 3,
    "start_time": "2023-09-14T04:29:33.269Z"
   },
   {
    "duration": 11,
    "start_time": "2023-09-14T04:29:33.273Z"
   },
   {
    "duration": 23,
    "start_time": "2023-09-14T04:29:33.285Z"
   },
   {
    "duration": 14,
    "start_time": "2023-09-14T04:29:33.310Z"
   },
   {
    "duration": 29,
    "start_time": "2023-09-14T04:29:33.326Z"
   },
   {
    "duration": 6,
    "start_time": "2023-09-14T04:29:33.357Z"
   },
   {
    "duration": 4,
    "start_time": "2023-09-14T04:29:33.364Z"
   },
   {
    "duration": 12,
    "start_time": "2023-09-14T04:29:33.371Z"
   },
   {
    "duration": 21,
    "start_time": "2023-09-14T04:29:33.385Z"
   },
   {
    "duration": 2547,
    "start_time": "2023-09-14T04:29:33.407Z"
   },
   {
    "duration": 4,
    "start_time": "2023-09-14T04:29:35.956Z"
   },
   {
    "duration": 1637547,
    "start_time": "2023-09-14T04:29:35.961Z"
   },
   {
    "duration": 2,
    "start_time": "2023-09-14T04:56:53.510Z"
   },
   {
    "duration": 9,
    "start_time": "2023-09-14T04:56:53.514Z"
   },
   {
    "duration": 47641,
    "start_time": "2023-09-14T05:30:45.617Z"
   },
   {
    "duration": 4578,
    "start_time": "2023-09-14T05:46:34.874Z"
   },
   {
    "duration": 4,
    "start_time": "2023-09-14T05:49:06.075Z"
   },
   {
    "duration": 4,
    "start_time": "2023-09-14T05:49:44.700Z"
   },
   {
    "duration": 3,
    "start_time": "2023-09-14T05:52:04.876Z"
   },
   {
    "duration": 4,
    "start_time": "2023-09-14T05:52:13.191Z"
   },
   {
    "duration": 104,
    "start_time": "2023-09-14T05:53:25.082Z"
   },
   {
    "duration": 11,
    "start_time": "2023-09-14T05:55:32.704Z"
   },
   {
    "duration": 11,
    "start_time": "2023-09-14T05:56:47.864Z"
   },
   {
    "duration": 1575,
    "start_time": "2023-09-14T06:00:33.071Z"
   },
   {
    "duration": 1601,
    "start_time": "2023-09-14T06:00:56.209Z"
   },
   {
    "duration": 1578,
    "start_time": "2023-09-14T06:05:33.428Z"
   },
   {
    "duration": 3,
    "start_time": "2023-09-14T06:18:51.352Z"
   },
   {
    "duration": 62,
    "start_time": "2023-09-14T19:16:56.161Z"
   },
   {
    "duration": 1907,
    "start_time": "2023-09-14T19:17:04.975Z"
   },
   {
    "duration": 4,
    "start_time": "2023-09-14T19:17:06.884Z"
   },
   {
    "duration": 3783,
    "start_time": "2023-09-14T19:17:06.889Z"
   },
   {
    "duration": 4,
    "start_time": "2023-09-14T19:17:10.674Z"
   },
   {
    "duration": 97,
    "start_time": "2023-09-14T19:17:10.680Z"
   },
   {
    "duration": 287,
    "start_time": "2023-09-14T19:17:10.779Z"
   },
   {
    "duration": 5,
    "start_time": "2023-09-14T19:17:11.070Z"
   },
   {
    "duration": 43,
    "start_time": "2023-09-14T19:17:11.077Z"
   },
   {
    "duration": 14,
    "start_time": "2023-09-14T19:17:11.122Z"
   },
   {
    "duration": 33,
    "start_time": "2023-09-14T19:17:11.138Z"
   },
   {
    "duration": 18,
    "start_time": "2023-09-14T19:17:11.175Z"
   },
   {
    "duration": 32,
    "start_time": "2023-09-14T19:17:11.194Z"
   },
   {
    "duration": 59,
    "start_time": "2023-09-14T19:17:11.228Z"
   },
   {
    "duration": 10,
    "start_time": "2023-09-14T19:17:11.292Z"
   },
   {
    "duration": 7,
    "start_time": "2023-09-14T19:17:11.304Z"
   },
   {
    "duration": 1501,
    "start_time": "2023-09-14T19:17:11.313Z"
   },
   {
    "duration": 931,
    "start_time": "2023-09-14T19:17:12.817Z"
   },
   {
    "duration": 1039,
    "start_time": "2023-09-14T19:17:13.749Z"
   },
   {
    "duration": 6,
    "start_time": "2023-09-14T19:17:14.790Z"
   },
   {
    "duration": 69,
    "start_time": "2023-09-14T19:17:14.799Z"
   },
   {
    "duration": 1401,
    "start_time": "2023-09-14T19:17:14.870Z"
   },
   {
    "duration": 1128,
    "start_time": "2023-09-14T19:17:16.274Z"
   },
   {
    "duration": 491,
    "start_time": "2023-09-14T19:17:17.404Z"
   },
   {
    "duration": 8,
    "start_time": "2023-09-14T19:17:17.896Z"
   },
   {
    "duration": 1302,
    "start_time": "2023-09-14T19:17:17.905Z"
   },
   {
    "duration": 5,
    "start_time": "2023-09-14T19:17:19.210Z"
   },
   {
    "duration": 10,
    "start_time": "2023-09-14T19:17:19.218Z"
   },
   {
    "duration": 52,
    "start_time": "2023-09-14T19:17:19.229Z"
   },
   {
    "duration": 27,
    "start_time": "2023-09-14T19:17:19.287Z"
   },
   {
    "duration": 9,
    "start_time": "2023-09-14T19:17:19.316Z"
   },
   {
    "duration": 17,
    "start_time": "2023-09-14T19:17:19.327Z"
   },
   {
    "duration": 14,
    "start_time": "2023-09-14T19:17:19.346Z"
   },
   {
    "duration": 19,
    "start_time": "2023-09-14T19:17:19.363Z"
   },
   {
    "duration": 35,
    "start_time": "2023-09-14T19:17:19.384Z"
   },
   {
    "duration": 4964,
    "start_time": "2023-09-14T19:17:19.421Z"
   },
   {
    "duration": 1669,
    "start_time": "2023-09-14T19:18:38.417Z"
   },
   {
    "duration": 3,
    "start_time": "2023-09-14T19:18:40.088Z"
   },
   {
    "duration": 971,
    "start_time": "2023-09-14T19:18:40.093Z"
   },
   {
    "duration": 6,
    "start_time": "2023-09-14T19:18:41.075Z"
   },
   {
    "duration": 123,
    "start_time": "2023-09-14T19:18:41.083Z"
   },
   {
    "duration": 283,
    "start_time": "2023-09-14T19:18:41.208Z"
   },
   {
    "duration": 4,
    "start_time": "2023-09-14T19:18:41.493Z"
   },
   {
    "duration": 34,
    "start_time": "2023-09-14T19:18:41.499Z"
   },
   {
    "duration": 29,
    "start_time": "2023-09-14T19:18:41.535Z"
   },
   {
    "duration": 24,
    "start_time": "2023-09-14T19:18:41.567Z"
   },
   {
    "duration": 40,
    "start_time": "2023-09-14T19:18:41.593Z"
   },
   {
    "duration": 41,
    "start_time": "2023-09-14T19:18:41.635Z"
   },
   {
    "duration": 29,
    "start_time": "2023-09-14T19:18:41.678Z"
   },
   {
    "duration": 8,
    "start_time": "2023-09-14T19:18:41.708Z"
   },
   {
    "duration": 9,
    "start_time": "2023-09-14T19:18:41.718Z"
   },
   {
    "duration": 2631,
    "start_time": "2023-09-14T19:18:41.729Z"
   },
   {
    "duration": 1384,
    "start_time": "2023-09-14T19:18:44.362Z"
   },
   {
    "duration": 1139,
    "start_time": "2023-09-14T19:18:45.748Z"
   },
   {
    "duration": 5,
    "start_time": "2023-09-14T19:18:46.889Z"
   },
   {
    "duration": 97,
    "start_time": "2023-09-14T19:18:46.896Z"
   },
   {
    "duration": 1378,
    "start_time": "2023-09-14T19:18:46.995Z"
   },
   {
    "duration": 1291,
    "start_time": "2023-09-14T19:18:48.375Z"
   },
   {
    "duration": 375,
    "start_time": "2023-09-14T19:18:49.671Z"
   },
   {
    "duration": 19,
    "start_time": "2023-09-14T19:18:50.048Z"
   },
   {
    "duration": 1168,
    "start_time": "2023-09-14T19:18:50.072Z"
   },
   {
    "duration": 17,
    "start_time": "2023-09-14T19:18:51.243Z"
   },
   {
    "duration": 30,
    "start_time": "2023-09-14T19:18:51.262Z"
   },
   {
    "duration": 36,
    "start_time": "2023-09-14T19:18:51.295Z"
   },
   {
    "duration": 98,
    "start_time": "2023-09-14T19:18:51.333Z"
   },
   {
    "duration": 10,
    "start_time": "2023-09-14T19:18:51.432Z"
   },
   {
    "duration": 14,
    "start_time": "2023-09-14T19:18:51.444Z"
   },
   {
    "duration": 30,
    "start_time": "2023-09-14T19:18:51.464Z"
   },
   {
    "duration": 25,
    "start_time": "2023-09-14T19:18:51.496Z"
   },
   {
    "duration": 70,
    "start_time": "2023-09-14T19:18:51.522Z"
   },
   {
    "duration": 5472,
    "start_time": "2023-09-14T19:18:51.594Z"
   },
   {
    "duration": 58119,
    "start_time": "2023-09-14T19:18:57.069Z"
   },
   {
    "duration": 1979041,
    "start_time": "2023-09-14T19:19:55.190Z"
   },
   {
    "duration": 5,
    "start_time": "2023-09-14T19:52:54.233Z"
   },
   {
    "duration": 1943,
    "start_time": "2023-09-14T19:52:54.240Z"
   },
   {
    "duration": 1189,
    "start_time": "2023-09-14T19:52:56.707Z"
   },
   {
    "duration": 510,
    "start_time": "2023-09-14T19:52:57.899Z"
   },
   {
    "duration": 621,
    "start_time": "2023-09-14T19:54:56.788Z"
   },
   {
    "duration": 543,
    "start_time": "2023-09-14T19:55:17.008Z"
   },
   {
    "duration": 4234,
    "start_time": "2023-09-14T19:56:12.186Z"
   },
   {
    "duration": 19,
    "start_time": "2023-09-14T19:57:16.499Z"
   },
   {
    "duration": 102,
    "start_time": "2023-09-14T19:58:28.824Z"
   },
   {
    "duration": 764,
    "start_time": "2023-09-14T19:58:35.053Z"
   },
   {
    "duration": 772,
    "start_time": "2023-09-14T19:59:38.178Z"
   },
   {
    "duration": 410,
    "start_time": "2023-09-14T20:02:40.200Z"
   },
   {
    "duration": 394,
    "start_time": "2023-09-14T20:02:52.353Z"
   },
   {
    "duration": 506,
    "start_time": "2023-09-14T20:02:59.333Z"
   },
   {
    "duration": 365,
    "start_time": "2023-09-14T20:03:29.815Z"
   },
   {
    "duration": 8,
    "start_time": "2023-09-14T20:04:05.671Z"
   },
   {
    "duration": 9,
    "start_time": "2023-09-14T20:04:09.385Z"
   },
   {
    "duration": 196,
    "start_time": "2023-09-14T20:06:19.884Z"
   },
   {
    "duration": 452,
    "start_time": "2023-09-14T20:06:24.889Z"
   },
   {
    "duration": 412,
    "start_time": "2023-09-14T20:06:39.283Z"
   },
   {
    "duration": 517,
    "start_time": "2023-09-14T20:06:57.678Z"
   },
   {
    "duration": 434,
    "start_time": "2023-09-14T20:07:58.089Z"
   },
   {
    "duration": 444,
    "start_time": "2023-09-14T20:08:11.425Z"
   },
   {
    "duration": 565,
    "start_time": "2023-09-14T20:08:21.094Z"
   },
   {
    "duration": 474,
    "start_time": "2023-09-14T20:08:27.830Z"
   },
   {
    "duration": 457,
    "start_time": "2023-09-14T20:08:35.450Z"
   },
   {
    "duration": 811,
    "start_time": "2023-09-14T20:32:11.542Z"
   },
   {
    "duration": 825,
    "start_time": "2023-09-14T20:32:55.183Z"
   },
   {
    "duration": 869,
    "start_time": "2023-09-14T20:33:18.188Z"
   },
   {
    "duration": 5,
    "start_time": "2023-09-14T20:45:34.244Z"
   },
   {
    "duration": 13,
    "start_time": "2023-09-14T20:49:04.646Z"
   },
   {
    "duration": 15,
    "start_time": "2023-09-14T20:51:30.313Z"
   },
   {
    "duration": 1619,
    "start_time": "2023-09-14T20:52:23.477Z"
   },
   {
    "duration": 3,
    "start_time": "2023-09-14T20:52:25.099Z"
   },
   {
    "duration": 1015,
    "start_time": "2023-09-14T20:52:25.104Z"
   },
   {
    "duration": 4,
    "start_time": "2023-09-14T20:52:26.121Z"
   },
   {
    "duration": 107,
    "start_time": "2023-09-14T20:52:26.129Z"
   },
   {
    "duration": 283,
    "start_time": "2023-09-14T20:52:26.239Z"
   },
   {
    "duration": 5,
    "start_time": "2023-09-14T20:52:26.524Z"
   },
   {
    "duration": 45,
    "start_time": "2023-09-14T20:52:26.531Z"
   },
   {
    "duration": 20,
    "start_time": "2023-09-14T20:52:26.578Z"
   },
   {
    "duration": 18,
    "start_time": "2023-09-14T20:52:26.599Z"
   },
   {
    "duration": 47,
    "start_time": "2023-09-14T20:52:26.618Z"
   },
   {
    "duration": 46,
    "start_time": "2023-09-14T20:52:26.671Z"
   },
   {
    "duration": 25,
    "start_time": "2023-09-14T20:52:26.720Z"
   },
   {
    "duration": 24,
    "start_time": "2023-09-14T20:52:26.748Z"
   },
   {
    "duration": 7,
    "start_time": "2023-09-14T20:52:26.774Z"
   },
   {
    "duration": 1467,
    "start_time": "2023-09-14T20:52:26.783Z"
   },
   {
    "duration": 1078,
    "start_time": "2023-09-14T20:52:28.252Z"
   },
   {
    "duration": 1135,
    "start_time": "2023-09-14T20:52:29.332Z"
   },
   {
    "duration": 8,
    "start_time": "2023-09-14T20:52:30.469Z"
   },
   {
    "duration": 145,
    "start_time": "2023-09-14T20:52:30.479Z"
   },
   {
    "duration": 1391,
    "start_time": "2023-09-14T20:52:30.626Z"
   },
   {
    "duration": 1177,
    "start_time": "2023-09-14T20:52:32.018Z"
   },
   {
    "duration": 457,
    "start_time": "2023-09-14T20:52:33.197Z"
   },
   {
    "duration": 14,
    "start_time": "2023-09-14T20:52:33.658Z"
   },
   {
    "duration": 1186,
    "start_time": "2023-09-14T20:52:33.677Z"
   },
   {
    "duration": 5,
    "start_time": "2023-09-14T20:52:34.870Z"
   },
   {
    "duration": 11,
    "start_time": "2023-09-14T20:52:34.877Z"
   },
   {
    "duration": 33,
    "start_time": "2023-09-14T20:52:34.890Z"
   },
   {
    "duration": 44,
    "start_time": "2023-09-14T20:52:34.925Z"
   },
   {
    "duration": 8,
    "start_time": "2023-09-14T20:52:34.975Z"
   },
   {
    "duration": 8,
    "start_time": "2023-09-14T20:52:34.985Z"
   },
   {
    "duration": 5,
    "start_time": "2023-09-14T20:52:34.995Z"
   },
   {
    "duration": 30,
    "start_time": "2023-09-14T20:52:35.002Z"
   },
   {
    "duration": 41,
    "start_time": "2023-09-14T20:52:35.034Z"
   },
   {
    "duration": 5488,
    "start_time": "2023-09-14T20:52:35.078Z"
   },
   {
    "duration": 56090,
    "start_time": "2023-09-14T20:52:40.570Z"
   },
   {
    "duration": 1964664,
    "start_time": "2023-09-14T20:53:36.668Z"
   },
   {
    "duration": 4,
    "start_time": "2023-09-14T21:26:21.334Z"
   },
   {
    "duration": 16,
    "start_time": "2023-09-14T21:26:21.340Z"
   },
   {
    "duration": 723,
    "start_time": "2023-09-14T21:26:21.358Z"
   },
   {
    "duration": 12,
    "start_time": "2023-09-14T21:26:22.086Z"
   }
  ],
  "kernelspec": {
   "display_name": "Python 3 (ipykernel)",
   "language": "python",
   "name": "python3"
  },
  "language_info": {
   "codemirror_mode": {
    "name": "ipython",
    "version": 3
   },
   "file_extension": ".py",
   "mimetype": "text/x-python",
   "name": "python",
   "nbconvert_exporter": "python",
   "pygments_lexer": "ipython3",
   "version": "3.10.13"
  },
  "toc": {
   "base_numbering": 1,
   "nav_menu": {},
   "number_sections": true,
   "sideBar": true,
   "skip_h1_title": true,
   "title_cell": "Содержание",
   "title_sidebar": "Contents",
   "toc_cell": true,
   "toc_position": {
    "height": "calc(100% - 180px)",
    "left": "10px",
    "top": "150px",
    "width": "165px"
   },
   "toc_section_display": true,
   "toc_window_display": true
  }
 },
 "nbformat": 4,
 "nbformat_minor": 2
}
