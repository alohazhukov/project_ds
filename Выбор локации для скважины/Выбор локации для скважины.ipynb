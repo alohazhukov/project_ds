{
 "cells": [
  {
   "cell_type": "markdown",
   "metadata": {},
   "source": [
    "# Выбор локации для скважины"
   ]
  },
  {
   "cell_type": "markdown",
   "metadata": {},
   "source": [
    "Допустим, вы работаете в добывающей компании «ГлавРосГосНефть». Нужно решить, где бурить новую скважину.\n",
    "\n",
    "Вам предоставлены пробы нефти в трёх регионах: в каждом 10 000 месторождений, где измерили качество нефти и объём её запасов. Постройте модель машинного обучения, которая поможет определить регион, где добыча принесёт наибольшую прибыль. Проанализируйте возможную прибыль и риски техникой *Bootstrap.*\n",
    "\n",
    "Шаги для выбора локации:\n",
    "\n",
    "- В избранном регионе ищут месторождения, для каждого определяют значения признаков;\n",
    "- Строят модель и оценивают объём запасов;\n",
    "- Выбирают месторождения с самым высокими оценками значений. Количество месторождений зависит от бюджета компании и стоимости разработки одной скважины;\n",
    "- Прибыль равна суммарной прибыли отобранных месторождений.\n",
    "\n",
    "__Описание__\n",
    "\n",
    "Данные геологоразведки трёх регионов находятся в файлах: \n",
    "- /datasets/geo_data_0.csv. \n",
    "- /datasets/geo_data_1.csv. \n",
    "- /datasets/geo_data_2.csv\n",
    "- id — уникальный идентификатор скважины;\n",
    "- f0, f1, f2 — три признака точек (неважно, что они означают, но сами признаки значимы);\n",
    "- product — объём запасов в скважине (тыс. баррелей)."
   ]
  },
  {
   "cell_type": "markdown",
   "metadata": {},
   "source": [
    "## Загрузка и подготовка данных"
   ]
  },
  {
   "cell_type": "code",
   "execution_count": 1,
   "metadata": {},
   "outputs": [],
   "source": [
    "# импортируем нужные библиотеки\n",
    "\n",
    "import pandas as pd \n",
    "import numpy as np\n",
    "import warnings\n",
    "from scipy import stats as st\n",
    "\n",
    "from sklearn.linear_model import LinearRegression  \n",
    "from sklearn.model_selection import train_test_split\n",
    "from sklearn.metrics import accuracy_score, mean_squared_error"
   ]
  },
  {
   "cell_type": "code",
   "execution_count": 2,
   "metadata": {},
   "outputs": [],
   "source": [
    "# отключим некритические предупреждения в коде\n",
    "\n",
    "warnings.filterwarnings(\"ignore\")"
   ]
  },
  {
   "cell_type": "code",
   "execution_count": 3,
   "metadata": {},
   "outputs": [],
   "source": [
    "# откроем наши файлы\n",
    "\n",
    "try:\n",
    "    data_0 = pd.read_csv('/Users/alex/Downloads/geo_data_0.csv')\n",
    "    data_1 = pd.read_csv('/Users/alex/Downloads/geo_data_1.csv')\n",
    "    data_2 = pd.read_csv('/Users/alex/Downloads/geo_data_2.csv')\n",
    "except:\n",
    "    data_0 = pd.read_csv('/datasets/geo_data_0.csv')\n",
    "    data_1 = pd.read_csv('/datasets/geo_data_1.csv')\n",
    "    data_2 = pd.read_csv('/datasets/geo_data_2.csv')"
   ]
  },
  {
   "cell_type": "code",
   "execution_count": 4,
   "metadata": {},
   "outputs": [],
   "source": [
    "# объявим глобальные переменные\n",
    "\n",
    "DATA = [data_0, data_1, data_2]\n",
    "\n",
    "STATE = np.random.RandomState(42)"
   ]
  },
  {
   "cell_type": "code",
   "execution_count": 5,
   "metadata": {},
   "outputs": [
    {
     "name": "stdout",
     "output_type": "stream",
     "text": [
      "Информация по датасету в датасете 0 : \n",
      "\n",
      "      id        f0        f1        f2     product\n",
      "0  txEyH  0.705745 -0.497823  1.221170  105.280062\n",
      "1  2acmU  1.334711 -0.340164  4.365080   73.037750\n",
      "2  409Wp  1.022732  0.151990  1.419926   85.265647\n",
      "3  iJLyR -0.032172  0.139033  2.978566  168.620776\n",
      "4  Xdl7t  1.988431  0.155413  4.751769  154.036647\n",
      "5  wX4Hy  0.969570  0.489775 -0.735383   64.741541\n",
      "6  tL6pL  0.645075  0.530656  1.780266   49.055285\n",
      "7  BYPU6 -0.400648  0.808337 -5.624670   72.943292\n",
      "8  j9Oui  0.643105 -0.551583  2.372141  113.356160\n",
      "9  OLuZU  2.173381  0.563698  9.441852  127.910945, \n",
      "\n",
      "                  f0             f1             f2        product\n",
      "count  100000.000000  100000.000000  100000.000000  100000.000000\n",
      "mean        0.500419       0.250143       2.502647      92.500000\n",
      "std         0.871832       0.504433       3.248248      44.288691\n",
      "min        -1.408605      -0.848218     -12.088328       0.000000\n",
      "25%        -0.072580      -0.200881       0.287748      56.497507\n",
      "50%         0.502360       0.250252       2.515969      91.849972\n",
      "75%         1.073581       0.700646       4.715088     128.564089\n",
      "max         2.362331       1.343769      16.003790     185.364347\n",
      "\n",
      "Кол-во дубликатов в датасете 0 : 0\n",
      "\n",
      "Кол-во пропусков в датасете 0 : id         0\n",
      "f0         0\n",
      "f1         0\n",
      "f2         0\n",
      "product    0\n",
      "dtype: int64\n",
      "______________________________________________________________________\n",
      "______________________________________________________________________\n",
      "Информация по датасету в датасете 1 : \n",
      "\n",
      "      id         f0         f1        f2     product\n",
      "0  kBEdx -15.001348  -8.276000 -0.005876    3.179103\n",
      "1  62mP7  14.272088  -3.475083  0.999183   26.953261\n",
      "2  vyE1P   6.263187  -5.948386  5.001160  134.766305\n",
      "3  KcrkZ -13.081196 -11.506057  4.999415  137.945408\n",
      "4  AHL4O  12.702195  -8.147433  5.004363  134.766305\n",
      "5  HHckp  -3.327590  -2.205276  3.003647   84.038886\n",
      "6  h5Ujo -11.142655 -10.133399  4.002382  110.992147\n",
      "7  muH9x   4.234715  -0.001354  2.004588   53.906522\n",
      "8  YiRkx  13.355129  -0.332068  4.998647  134.766305\n",
      "9  jG6Gi   1.069227 -11.025667  4.997844  137.945408, \n",
      "\n",
      "                  f0             f1             f2        product\n",
      "count  100000.000000  100000.000000  100000.000000  100000.000000\n",
      "mean        1.141296      -4.796579       2.494541      68.825000\n",
      "std         8.965932       5.119872       1.703572      45.944423\n",
      "min       -31.609576     -26.358598      -0.018144       0.000000\n",
      "25%        -6.298551      -8.267985       1.000021      26.953261\n",
      "50%         1.153055      -4.813172       2.011479      57.085625\n",
      "75%         8.621015      -1.332816       3.999904     107.813044\n",
      "max        29.421755      18.734063       5.019721     137.945408\n",
      "\n",
      "Кол-во дубликатов в датасете 1 : 0\n",
      "\n",
      "Кол-во пропусков в датасете 1 : id         0\n",
      "f0         0\n",
      "f1         0\n",
      "f2         0\n",
      "product    0\n",
      "dtype: int64\n",
      "______________________________________________________________________\n",
      "______________________________________________________________________\n",
      "Информация по датасету в датасете 2 : \n",
      "\n",
      "      id        f0        f1        f2     product\n",
      "0  fwXo0 -1.146987  0.963328 -0.828965   27.758673\n",
      "1  WJtFt  0.262778  0.269839 -2.530187   56.069697\n",
      "2  ovLUW  0.194587  0.289035 -5.586433   62.871910\n",
      "3  q6cA6  2.236060 -0.553760  0.930038  114.572842\n",
      "4  WPMUX -0.515993  1.716266  5.899011  149.600746\n",
      "5  LzZXx -0.758092  0.710691  2.585887   90.222465\n",
      "6  WBHRv -0.574891  0.317727  1.773745   45.641478\n",
      "7  XO8fn -1.906649 -2.458350 -0.177097   72.480640\n",
      "8  ybmQ5  1.776292 -0.279356  3.004156  106.616832\n",
      "9  OilcN -1.214452 -0.439314  5.922514   52.954532, \n",
      "\n",
      "                  f0             f1             f2        product\n",
      "count  100000.000000  100000.000000  100000.000000  100000.000000\n",
      "mean        0.002023      -0.002081       2.495128      95.000000\n",
      "std         1.732045       1.730417       3.473445      44.749921\n",
      "min        -8.760004      -7.084020     -11.970335       0.000000\n",
      "25%        -1.162288      -1.174820       0.130359      59.450441\n",
      "50%         0.009424      -0.009482       2.484236      94.925613\n",
      "75%         1.158535       1.163678       4.858794     130.595027\n",
      "max         7.238262       7.844801      16.739402     190.029838\n",
      "\n",
      "Кол-во дубликатов в датасете 2 : 0\n",
      "\n",
      "Кол-во пропусков в датасете 2 : id         0\n",
      "f0         0\n",
      "f1         0\n",
      "f2         0\n",
      "product    0\n",
      "dtype: int64\n",
      "______________________________________________________________________\n",
      "______________________________________________________________________\n"
     ]
    }
   ],
   "source": [
    "# переберем в цикле наши дф'ы и выведим основную информацию\n",
    "\n",
    "for i in range(3):\n",
    "    print(f'Информация по датасету в датасете {i} : \\n\\n{DATA[i].head(10)}, \\n\\n{DATA[i].describe()}')\n",
    "    print(f'\\nКол-во дубликатов в датасете {i} : {DATA[i].duplicated().sum()}')\n",
    "    print(f'\\nКол-во пропусков в датасете {i} : {DATA[i].isna().sum()}')\n",
    "    print('_' * 70)  \n",
    "    print('_' * 70)"
   ]
  },
  {
   "cell_type": "code",
   "execution_count": null,
   "metadata": {},
   "outputs": [],
   "source": []
  },
  {
   "cell_type": "markdown",
   "metadata": {},
   "source": [
    "Так как __'id'__ - бесполезный признак, удалим его в трех наших датасетах"
   ]
  },
  {
   "cell_type": "code",
   "execution_count": 6,
   "metadata": {},
   "outputs": [
    {
     "data": {
      "text/html": [
       "<div>\n",
       "<style scoped>\n",
       "    .dataframe tbody tr th:only-of-type {\n",
       "        vertical-align: middle;\n",
       "    }\n",
       "\n",
       "    .dataframe tbody tr th {\n",
       "        vertical-align: top;\n",
       "    }\n",
       "\n",
       "    .dataframe thead th {\n",
       "        text-align: right;\n",
       "    }\n",
       "</style>\n",
       "<table border=\"1\" class=\"dataframe\">\n",
       "  <thead>\n",
       "    <tr style=\"text-align: right;\">\n",
       "      <th></th>\n",
       "      <th>f0</th>\n",
       "      <th>f1</th>\n",
       "      <th>f2</th>\n",
       "      <th>product</th>\n",
       "    </tr>\n",
       "  </thead>\n",
       "  <tbody>\n",
       "    <tr>\n",
       "      <th>0</th>\n",
       "      <td>0.705745</td>\n",
       "      <td>-0.497823</td>\n",
       "      <td>1.221170</td>\n",
       "      <td>105.280062</td>\n",
       "    </tr>\n",
       "    <tr>\n",
       "      <th>1</th>\n",
       "      <td>1.334711</td>\n",
       "      <td>-0.340164</td>\n",
       "      <td>4.365080</td>\n",
       "      <td>73.037750</td>\n",
       "    </tr>\n",
       "    <tr>\n",
       "      <th>2</th>\n",
       "      <td>1.022732</td>\n",
       "      <td>0.151990</td>\n",
       "      <td>1.419926</td>\n",
       "      <td>85.265647</td>\n",
       "    </tr>\n",
       "    <tr>\n",
       "      <th>3</th>\n",
       "      <td>-0.032172</td>\n",
       "      <td>0.139033</td>\n",
       "      <td>2.978566</td>\n",
       "      <td>168.620776</td>\n",
       "    </tr>\n",
       "    <tr>\n",
       "      <th>4</th>\n",
       "      <td>1.988431</td>\n",
       "      <td>0.155413</td>\n",
       "      <td>4.751769</td>\n",
       "      <td>154.036647</td>\n",
       "    </tr>\n",
       "  </tbody>\n",
       "</table>\n",
       "</div>"
      ],
      "text/plain": [
       "         f0        f1        f2     product\n",
       "0  0.705745 -0.497823  1.221170  105.280062\n",
       "1  1.334711 -0.340164  4.365080   73.037750\n",
       "2  1.022732  0.151990  1.419926   85.265647\n",
       "3 -0.032172  0.139033  2.978566  168.620776\n",
       "4  1.988431  0.155413  4.751769  154.036647"
      ]
     },
     "metadata": {},
     "output_type": "display_data"
    },
    {
     "data": {
      "text/html": [
       "<div>\n",
       "<style scoped>\n",
       "    .dataframe tbody tr th:only-of-type {\n",
       "        vertical-align: middle;\n",
       "    }\n",
       "\n",
       "    .dataframe tbody tr th {\n",
       "        vertical-align: top;\n",
       "    }\n",
       "\n",
       "    .dataframe thead th {\n",
       "        text-align: right;\n",
       "    }\n",
       "</style>\n",
       "<table border=\"1\" class=\"dataframe\">\n",
       "  <thead>\n",
       "    <tr style=\"text-align: right;\">\n",
       "      <th></th>\n",
       "      <th>f0</th>\n",
       "      <th>f1</th>\n",
       "      <th>f2</th>\n",
       "      <th>product</th>\n",
       "    </tr>\n",
       "  </thead>\n",
       "  <tbody>\n",
       "    <tr>\n",
       "      <th>0</th>\n",
       "      <td>-15.001348</td>\n",
       "      <td>-8.276000</td>\n",
       "      <td>-0.005876</td>\n",
       "      <td>3.179103</td>\n",
       "    </tr>\n",
       "    <tr>\n",
       "      <th>1</th>\n",
       "      <td>14.272088</td>\n",
       "      <td>-3.475083</td>\n",
       "      <td>0.999183</td>\n",
       "      <td>26.953261</td>\n",
       "    </tr>\n",
       "    <tr>\n",
       "      <th>2</th>\n",
       "      <td>6.263187</td>\n",
       "      <td>-5.948386</td>\n",
       "      <td>5.001160</td>\n",
       "      <td>134.766305</td>\n",
       "    </tr>\n",
       "    <tr>\n",
       "      <th>3</th>\n",
       "      <td>-13.081196</td>\n",
       "      <td>-11.506057</td>\n",
       "      <td>4.999415</td>\n",
       "      <td>137.945408</td>\n",
       "    </tr>\n",
       "    <tr>\n",
       "      <th>4</th>\n",
       "      <td>12.702195</td>\n",
       "      <td>-8.147433</td>\n",
       "      <td>5.004363</td>\n",
       "      <td>134.766305</td>\n",
       "    </tr>\n",
       "  </tbody>\n",
       "</table>\n",
       "</div>"
      ],
      "text/plain": [
       "          f0         f1        f2     product\n",
       "0 -15.001348  -8.276000 -0.005876    3.179103\n",
       "1  14.272088  -3.475083  0.999183   26.953261\n",
       "2   6.263187  -5.948386  5.001160  134.766305\n",
       "3 -13.081196 -11.506057  4.999415  137.945408\n",
       "4  12.702195  -8.147433  5.004363  134.766305"
      ]
     },
     "metadata": {},
     "output_type": "display_data"
    },
    {
     "data": {
      "text/html": [
       "<div>\n",
       "<style scoped>\n",
       "    .dataframe tbody tr th:only-of-type {\n",
       "        vertical-align: middle;\n",
       "    }\n",
       "\n",
       "    .dataframe tbody tr th {\n",
       "        vertical-align: top;\n",
       "    }\n",
       "\n",
       "    .dataframe thead th {\n",
       "        text-align: right;\n",
       "    }\n",
       "</style>\n",
       "<table border=\"1\" class=\"dataframe\">\n",
       "  <thead>\n",
       "    <tr style=\"text-align: right;\">\n",
       "      <th></th>\n",
       "      <th>f0</th>\n",
       "      <th>f1</th>\n",
       "      <th>f2</th>\n",
       "      <th>product</th>\n",
       "    </tr>\n",
       "  </thead>\n",
       "  <tbody>\n",
       "    <tr>\n",
       "      <th>0</th>\n",
       "      <td>-1.146987</td>\n",
       "      <td>0.963328</td>\n",
       "      <td>-0.828965</td>\n",
       "      <td>27.758673</td>\n",
       "    </tr>\n",
       "    <tr>\n",
       "      <th>1</th>\n",
       "      <td>0.262778</td>\n",
       "      <td>0.269839</td>\n",
       "      <td>-2.530187</td>\n",
       "      <td>56.069697</td>\n",
       "    </tr>\n",
       "    <tr>\n",
       "      <th>2</th>\n",
       "      <td>0.194587</td>\n",
       "      <td>0.289035</td>\n",
       "      <td>-5.586433</td>\n",
       "      <td>62.871910</td>\n",
       "    </tr>\n",
       "    <tr>\n",
       "      <th>3</th>\n",
       "      <td>2.236060</td>\n",
       "      <td>-0.553760</td>\n",
       "      <td>0.930038</td>\n",
       "      <td>114.572842</td>\n",
       "    </tr>\n",
       "    <tr>\n",
       "      <th>4</th>\n",
       "      <td>-0.515993</td>\n",
       "      <td>1.716266</td>\n",
       "      <td>5.899011</td>\n",
       "      <td>149.600746</td>\n",
       "    </tr>\n",
       "  </tbody>\n",
       "</table>\n",
       "</div>"
      ],
      "text/plain": [
       "         f0        f1        f2     product\n",
       "0 -1.146987  0.963328 -0.828965   27.758673\n",
       "1  0.262778  0.269839 -2.530187   56.069697\n",
       "2  0.194587  0.289035 -5.586433   62.871910\n",
       "3  2.236060 -0.553760  0.930038  114.572842\n",
       "4 -0.515993  1.716266  5.899011  149.600746"
      ]
     },
     "metadata": {},
     "output_type": "display_data"
    }
   ],
   "source": [
    "for i in DATA:\n",
    "    i.drop(columns = ['id'], axis = 1, inplace = True)\n",
    "    display(i.head())"
   ]
  },
  {
   "cell_type": "code",
   "execution_count": 7,
   "metadata": {},
   "outputs": [
    {
     "data": {
      "text/html": [
       "<div>\n",
       "<style scoped>\n",
       "    .dataframe tbody tr th:only-of-type {\n",
       "        vertical-align: middle;\n",
       "    }\n",
       "\n",
       "    .dataframe tbody tr th {\n",
       "        vertical-align: top;\n",
       "    }\n",
       "\n",
       "    .dataframe thead th {\n",
       "        text-align: right;\n",
       "    }\n",
       "</style>\n",
       "<table border=\"1\" class=\"dataframe\">\n",
       "  <thead>\n",
       "    <tr style=\"text-align: right;\">\n",
       "      <th></th>\n",
       "      <th>f0</th>\n",
       "      <th>f1</th>\n",
       "      <th>f2</th>\n",
       "      <th>product</th>\n",
       "    </tr>\n",
       "  </thead>\n",
       "  <tbody>\n",
       "    <tr>\n",
       "      <th>f0</th>\n",
       "      <td>1.000000</td>\n",
       "      <td>-0.440723</td>\n",
       "      <td>-0.003153</td>\n",
       "      <td>0.143536</td>\n",
       "    </tr>\n",
       "    <tr>\n",
       "      <th>f1</th>\n",
       "      <td>-0.440723</td>\n",
       "      <td>1.000000</td>\n",
       "      <td>0.001724</td>\n",
       "      <td>-0.192356</td>\n",
       "    </tr>\n",
       "    <tr>\n",
       "      <th>f2</th>\n",
       "      <td>-0.003153</td>\n",
       "      <td>0.001724</td>\n",
       "      <td>1.000000</td>\n",
       "      <td>0.483663</td>\n",
       "    </tr>\n",
       "    <tr>\n",
       "      <th>product</th>\n",
       "      <td>0.143536</td>\n",
       "      <td>-0.192356</td>\n",
       "      <td>0.483663</td>\n",
       "      <td>1.000000</td>\n",
       "    </tr>\n",
       "  </tbody>\n",
       "</table>\n",
       "</div>"
      ],
      "text/plain": [
       "               f0        f1        f2   product\n",
       "f0       1.000000 -0.440723 -0.003153  0.143536\n",
       "f1      -0.440723  1.000000  0.001724 -0.192356\n",
       "f2      -0.003153  0.001724  1.000000  0.483663\n",
       "product  0.143536 -0.192356  0.483663  1.000000"
      ]
     },
     "metadata": {},
     "output_type": "display_data"
    },
    {
     "data": {
      "text/html": [
       "<div>\n",
       "<style scoped>\n",
       "    .dataframe tbody tr th:only-of-type {\n",
       "        vertical-align: middle;\n",
       "    }\n",
       "\n",
       "    .dataframe tbody tr th {\n",
       "        vertical-align: top;\n",
       "    }\n",
       "\n",
       "    .dataframe thead th {\n",
       "        text-align: right;\n",
       "    }\n",
       "</style>\n",
       "<table border=\"1\" class=\"dataframe\">\n",
       "  <thead>\n",
       "    <tr style=\"text-align: right;\">\n",
       "      <th></th>\n",
       "      <th>f0</th>\n",
       "      <th>f1</th>\n",
       "      <th>f2</th>\n",
       "      <th>product</th>\n",
       "    </tr>\n",
       "  </thead>\n",
       "  <tbody>\n",
       "    <tr>\n",
       "      <th>f0</th>\n",
       "      <td>1.000000</td>\n",
       "      <td>0.182287</td>\n",
       "      <td>-0.001777</td>\n",
       "      <td>-0.030491</td>\n",
       "    </tr>\n",
       "    <tr>\n",
       "      <th>f1</th>\n",
       "      <td>0.182287</td>\n",
       "      <td>1.000000</td>\n",
       "      <td>-0.002595</td>\n",
       "      <td>-0.010155</td>\n",
       "    </tr>\n",
       "    <tr>\n",
       "      <th>f2</th>\n",
       "      <td>-0.001777</td>\n",
       "      <td>-0.002595</td>\n",
       "      <td>1.000000</td>\n",
       "      <td>0.999397</td>\n",
       "    </tr>\n",
       "    <tr>\n",
       "      <th>product</th>\n",
       "      <td>-0.030491</td>\n",
       "      <td>-0.010155</td>\n",
       "      <td>0.999397</td>\n",
       "      <td>1.000000</td>\n",
       "    </tr>\n",
       "  </tbody>\n",
       "</table>\n",
       "</div>"
      ],
      "text/plain": [
       "               f0        f1        f2   product\n",
       "f0       1.000000  0.182287 -0.001777 -0.030491\n",
       "f1       0.182287  1.000000 -0.002595 -0.010155\n",
       "f2      -0.001777 -0.002595  1.000000  0.999397\n",
       "product -0.030491 -0.010155  0.999397  1.000000"
      ]
     },
     "metadata": {},
     "output_type": "display_data"
    },
    {
     "data": {
      "text/html": [
       "<div>\n",
       "<style scoped>\n",
       "    .dataframe tbody tr th:only-of-type {\n",
       "        vertical-align: middle;\n",
       "    }\n",
       "\n",
       "    .dataframe tbody tr th {\n",
       "        vertical-align: top;\n",
       "    }\n",
       "\n",
       "    .dataframe thead th {\n",
       "        text-align: right;\n",
       "    }\n",
       "</style>\n",
       "<table border=\"1\" class=\"dataframe\">\n",
       "  <thead>\n",
       "    <tr style=\"text-align: right;\">\n",
       "      <th></th>\n",
       "      <th>f0</th>\n",
       "      <th>f1</th>\n",
       "      <th>f2</th>\n",
       "      <th>product</th>\n",
       "    </tr>\n",
       "  </thead>\n",
       "  <tbody>\n",
       "    <tr>\n",
       "      <th>f0</th>\n",
       "      <td>1.000000</td>\n",
       "      <td>0.000528</td>\n",
       "      <td>-0.000448</td>\n",
       "      <td>-0.001987</td>\n",
       "    </tr>\n",
       "    <tr>\n",
       "      <th>f1</th>\n",
       "      <td>0.000528</td>\n",
       "      <td>1.000000</td>\n",
       "      <td>0.000779</td>\n",
       "      <td>-0.001012</td>\n",
       "    </tr>\n",
       "    <tr>\n",
       "      <th>f2</th>\n",
       "      <td>-0.000448</td>\n",
       "      <td>0.000779</td>\n",
       "      <td>1.000000</td>\n",
       "      <td>0.445871</td>\n",
       "    </tr>\n",
       "    <tr>\n",
       "      <th>product</th>\n",
       "      <td>-0.001987</td>\n",
       "      <td>-0.001012</td>\n",
       "      <td>0.445871</td>\n",
       "      <td>1.000000</td>\n",
       "    </tr>\n",
       "  </tbody>\n",
       "</table>\n",
       "</div>"
      ],
      "text/plain": [
       "               f0        f1        f2   product\n",
       "f0       1.000000  0.000528 -0.000448 -0.001987\n",
       "f1       0.000528  1.000000  0.000779 -0.001012\n",
       "f2      -0.000448  0.000779  1.000000  0.445871\n",
       "product -0.001987 -0.001012  0.445871  1.000000"
      ]
     },
     "metadata": {},
     "output_type": "display_data"
    }
   ],
   "source": [
    "# взгялнем на матрицу корреляций \n",
    "\n",
    "for i in DATA:\n",
    "    display(i.corr())"
   ]
  },
  {
   "cell_type": "markdown",
   "metadata": {},
   "source": [
    "__Подытожим__, импоритировали нужные нам библиотеки, загружили наши датасеты, проверили нет ли пропусков, а так же удалил ненужные столбец.\n",
    "\n",
    "В 1 и 3 регионе средние показатели добычи нефти - 91/94 тыс. баррелей, в то время как в регионе 2 - добыча меньше(57 т.бар.) \n",
    "\n",
    "У второго региона признак __f2__ сильно коррелирует с целевым признаком."
   ]
  },
  {
   "cell_type": "markdown",
   "metadata": {},
   "source": [
    "## Обучение и проверка модели\n",
    "- Разбейте данные на обучающую и валидационную выборки в соотношении 75:25.\n",
    "- Обучите модель и сделайте предсказания на валидационной выборке.\n",
    "- Сохраните предсказания и правильные ответы на валидационной выборке.\n",
    "- Напечатайте на экране средний запас предсказанного сырья и RMSE модели.\n",
    "- Проанализируйте результаты."
   ]
  },
  {
   "cell_type": "markdown",
   "metadata": {},
   "source": [
    "Рассмотрим три региона, обучим модель и сделаем предсказания на валид выборке."
   ]
  },
  {
   "cell_type": "code",
   "execution_count": 8,
   "metadata": {},
   "outputs": [
    {
     "name": "stdout",
     "output_type": "stream",
     "text": [
      "Среднее значение предсказаний по добыче нефти, для региона 0 : 92.4 тыс.баррелей\n",
      "Средняя фактическая добыча нефти по региону 0 : 92.5 тыс.баррелей\n",
      "RMSE для региона 0 : 37.76\n",
      "______________________________________________________________________\n"
     ]
    }
   ],
   "source": [
    "# data_0\n",
    "\n",
    "# выделим наши фичи и таргет\n",
    "features_0 = data_0.drop(['product'], axis = 1)\n",
    "target_0 = data_0['product']\n",
    "\n",
    "# разделим данные\n",
    "features_train_0, features_valid_0, target_train_0, target_valid_0 = train_test_split(features_0, target_0, \n",
    "                                                                              test_size = 0.25, random_state = STATE)\n",
    "\n",
    "# инициализируем нашу модель, обучим и предскажим\n",
    "model_0 = LinearRegression()\n",
    "model_0.fit(features_train_0, target_train_0)\n",
    "predictions_0 = model_0.predict(features_valid_0)\n",
    "\n",
    "# выровним индексы\n",
    "prediction_valid_0 = pd.Series(predictions_0, index = target_valid_0.index)\n",
    "\n",
    "# расчитаем среднеквадратичную ошибку(корень)\n",
    "rmse_0 = mean_squared_error(predictions_0, target_valid_0) ** 0.5\n",
    "\n",
    "print(f'Среднее значение предсказаний по добыче нефти, для региона 0 : {round(predictions_0.mean(), 2)} тыс.баррелей')\n",
    "print(f'Средняя фактическая добыча нефти по региону 0 : {round(target_0.mean(), 2)} тыс.баррелей')\n",
    "print(f'RMSE для региона 0 : {round(rmse_0, 2)}')\n",
    "print('_' * 70)"
   ]
  },
  {
   "cell_type": "code",
   "execution_count": null,
   "metadata": {},
   "outputs": [],
   "source": []
  },
  {
   "cell_type": "code",
   "execution_count": 9,
   "metadata": {},
   "outputs": [
    {
     "name": "stdout",
     "output_type": "stream",
     "text": [
      "Среднее значение предсказаний по добыче нефти, для региона 0 : 68.59 тыс.баррелей\n",
      "Средняя фактическая добыча нефти по региону 0 : 68.83 тыс.баррелей\n",
      "RMSE для региона 0 : 0.89\n",
      "______________________________________________________________________\n"
     ]
    }
   ],
   "source": [
    "# data_1\n",
    "\n",
    "# выделим наши фичи и таргет\n",
    "features_1 = data_1.drop(['product'], axis = 1)\n",
    "target_1 = data_1['product']\n",
    "\n",
    "# разделим данные\n",
    "features_train_1, features_valid_1, target_train_1, target_valid_1 = train_test_split(features_1, target_1, \n",
    "                                                                              test_size = 0.25, random_state = STATE)\n",
    "\n",
    "# инициализируем нашу модель, обучим и предскажим\n",
    "model_1 = LinearRegression()\n",
    "model_1.fit(features_train_1, target_train_1)\n",
    "predictions_1 = model_1.predict(features_valid_1)\n",
    "\n",
    "# выровним индексы\n",
    "prediction_valid_1 = pd.Series(predictions_1, index = target_valid_1.index)\n",
    "\n",
    "# расчитаем среднеквадратичную ошибку(корень)\n",
    "rmse_1 = mean_squared_error(predictions_1, target_valid_1) ** 0.5\n",
    "\n",
    "print(f'Среднее значение предсказаний по добыче нефти, для региона 0 : {round(predictions_1.mean(), 2)} тыс.баррелей')\n",
    "print(f'Средняя фактическая добыча нефти по региону 0 : {round(target_1.mean(), 2)} тыс.баррелей')\n",
    "print(f'RMSE для региона 0 : {round(rmse_1, 2)}')\n",
    "print('_' * 70)"
   ]
  },
  {
   "cell_type": "code",
   "execution_count": null,
   "metadata": {},
   "outputs": [],
   "source": []
  },
  {
   "cell_type": "code",
   "execution_count": 10,
   "metadata": {},
   "outputs": [
    {
     "name": "stdout",
     "output_type": "stream",
     "text": [
      "Среднее значение предсказаний по добыче нефти, для региона 0 : 95.09 тыс.баррелей\n",
      "Средняя фактическая добыча нефти по региону 0 : 95.0 тыс.баррелей\n",
      "RMSE для региона 0 : 40.24\n",
      "______________________________________________________________________\n"
     ]
    }
   ],
   "source": [
    "# data_2\n",
    "\n",
    "# выделим наши фичи и таргет\n",
    "features_2 = data_2.drop(['product'], axis = 1)\n",
    "target_2 = data_2['product']\n",
    "\n",
    "# разделим данные\n",
    "features_train_2, features_valid_2, target_train_2, target_valid_2 = train_test_split(features_2, target_2, \n",
    "                                                                              test_size = 0.25, random_state = STATE)\n",
    "\n",
    "# инициализируем нашу модель, обучим и предскажим\n",
    "model_2 = LinearRegression()\n",
    "model_2.fit(features_train_2, target_train_2)\n",
    "predictions_2 = model_2.predict(features_valid_2)\n",
    "\n",
    "# выровним индексы\n",
    "prediction_valid_2 = pd.Series(predictions_2, index = target_valid_2.index)\n",
    "\n",
    "# расчитаем среднеквадратичную ошибку(корень)\n",
    "rmse_2 = mean_squared_error(predictions_2, target_valid_2) ** 0.5\n",
    "\n",
    "print(f'Среднее значение предсказаний по добыче нефти, для региона 0 : {round(predictions_2.mean(), 2)} тыс.баррелей')\n",
    "print(f'Средняя фактическая добыча нефти по региону 0 : {round(target_2.mean(), 2)} тыс.баррелей')\n",
    "print(f'RMSE для региона 0 : {round(rmse_2, 2)}')\n",
    "print('_' * 70)"
   ]
  },
  {
   "cell_type": "markdown",
   "metadata": {},
   "source": [
    "Как можно заметить, для региона __0__ и __2__ , RMSE равно 37/40, что является очень большим значением, лучше всего модель показала себя на регионе __1__, вероятнее всего это из-за сильной зависимости признака __f2__ к __product__"
   ]
  },
  {
   "cell_type": "markdown",
   "metadata": {},
   "source": [
    "## Подготовка к расчёту прибыли\n",
    "- Все ключевые значения для расчётов сохраните в отдельных переменных.\n",
    "- Рассчитайте достаточный объём сырья для безубыточной разработки новой скважины. Сравните полученный объём сырья со средним запасом в каждом регионе. \n",
    "- Напишите выводы по этапу подготовки расчёта прибыли."
   ]
  },
  {
   "cell_type": "code",
   "execution_count": 11,
   "metadata": {},
   "outputs": [],
   "source": [
    "# запишем наши ключевые значения\n",
    "\n",
    "# исследуемые точки\n",
    "POINTS = 500\n",
    "\n",
    "# лучшие 200 точек\n",
    "BEST_POINTS = 200\n",
    "\n",
    "# бюджет\n",
    "BUDGET = 10**10\n",
    "\n",
    "# доход с 1000 баррелей\n",
    "PRICE = 450000"
   ]
  },
  {
   "cell_type": "markdown",
   "metadata": {},
   "source": [
    "Рассчитаем достаточный объём сырья для безубыточной разработки новой скважины\n",
    "\n"
   ]
  },
  {
   "cell_type": "code",
   "execution_count": 12,
   "metadata": {},
   "outputs": [
    {
     "data": {
      "text/plain": [
       "111.11111111111111"
      ]
     },
     "execution_count": 12,
     "metadata": {},
     "output_type": "execute_result"
    }
   ],
   "source": [
    "min_threshold = BUDGET / (PRICE * BEST_POINTS)\n",
    "min_threshold"
   ]
  },
  {
   "cell_type": "code",
   "execution_count": 13,
   "metadata": {},
   "outputs": [
    {
     "name": "stdout",
     "output_type": "stream",
     "text": [
      "Минимальный объем сырья для безубыточной разработки: 111.11 тыс.баррелей\n",
      "\n",
      "Средний запас сырья в регионе 0: 92.5 тыс.баррелей\n",
      "Кол-во объектов, имеющих запас сырья больше чем мин.объем: 36583\n",
      "______________________________________________________________________\n",
      "______________________________________________________________________\n",
      "Минимальный объем сырья для безубыточной разработки: 111.11 тыс.баррелей\n",
      "\n",
      "Средний запас сырья в регионе 1: 68.83 тыс.баррелей\n",
      "Кол-во объектов, имеющих запас сырья больше чем мин.объем: 16537\n",
      "______________________________________________________________________\n",
      "______________________________________________________________________\n",
      "Минимальный объем сырья для безубыточной разработки: 111.11 тыс.баррелей\n",
      "\n",
      "Средний запас сырья в регионе 2: 95.0 тыс.баррелей\n",
      "Кол-во объектов, имеющих запас сырья больше чем мин.объем: 38178\n",
      "______________________________________________________________________\n",
      "______________________________________________________________________\n"
     ]
    }
   ],
   "source": [
    "# сравним получившийся результат со средним значением запаса в каждом регионе\n",
    "\n",
    "for i in range(3):\n",
    "    print(f'Минимальный объем сырья для безубыточной разработки: {round(min_threshold, 2)} тыс.баррелей')\n",
    "    print(f'\\nСредний запас сырья в регионе {i}: {round(DATA[i][\"product\"].mean(), 2)} тыс.баррелей')\n",
    "    print(f'Кол-во объектов, имеющих запас сырья больше чем мин.объем: {len(DATA[i].query(\"product > @min_threshold\"))}')\n",
    "    print('_' * 70)\n",
    "    print('_' * 70)"
   ]
  },
  {
   "cell_type": "markdown",
   "metadata": {},
   "source": [
    "Сравнивая полученный объём сырья со средним запасом сырья в каждом регионе - можно сказать следующее, что средние запасы в каждом из регионов значительно ниже минимального объема, однако если смотреть в разрезе то в каждом регионе есть объекты - хранящие в себе больше сырья чем безубыточный порог."
   ]
  },
  {
   "cell_type": "markdown",
   "metadata": {},
   "source": [
    "## Напишите функцию для расчёта прибыли по выбранным скважинам и предсказаниям модели:"
   ]
  },
  {
   "cell_type": "code",
   "execution_count": 14,
   "metadata": {},
   "outputs": [],
   "source": [
    "# функция для посчета прибыли на основе предсказаний, цены и кол-ва скважин:\n",
    "\n",
    "def revenue(target, probabilities, count, price): \n",
    "    # сортируем предсказания по убыванию\n",
    "    probs_sorted = probabilities.sort_values(ascending = False) \n",
    "    # выбираем скважины с макс. значениями предсказаний до нужного кол-ва\n",
    "    selected = target[probs_sorted.index][:count]  \n",
    "    # возвращаем прибыль (доход с 1000 бар. * скважины - бюджет на разработку)\n",
    "    return price * selected.sum() - BUDGET\n"
   ]
  },
  {
   "cell_type": "markdown",
   "metadata": {},
   "source": [
    "## Посчитайте риски и прибыль для каждого региона:\n",
    "\n",
    "- Примените технику Bootstrap с 1000 выборок, чтобы найти распределение прибыли.\n",
    "- Найдите среднюю прибыль, 95%-й доверительный интервал и риск убытков. Убыток — это отрицательная прибыль.\n",
    "- Напишите выводы: предложите регион для разработки скважин и обоснуйте выбор."
   ]
  },
  {
   "cell_type": "markdown",
   "metadata": {},
   "source": [
    "Напишем функцию bootstrap и применим ее на 3 наших регионах"
   ]
  },
  {
   "cell_type": "code",
   "execution_count": 15,
   "metadata": {},
   "outputs": [],
   "source": [
    "def bootstrap(target, valid, points, state):\n",
    "    values = []\n",
    "    for i in range(1000):\n",
    "        # выберем 500 скважин\n",
    "        target_subsample = target.sample(n = points, replace = True, random_state = state)\n",
    "        # берем соответсвующие предсказания для этих скважин\n",
    "        probs_subsample = valid[target_subsample.index]\n",
    "        # применяем нашу фунцкцию по расцету прибыли\n",
    "        rev = revenue(target_subsample, probs_subsample, BEST_POINTS, PRICE)\n",
    "        values.append(rev)\n",
    "        \n",
    "    values = pd.Series(values)\n",
    "    return values"
   ]
  },
  {
   "cell_type": "code",
   "execution_count": 16,
   "metadata": {},
   "outputs": [
    {
     "name": "stdout",
     "output_type": "stream",
     "text": [
      "Средняя прибыль : 440446619.54\n",
      "Доверительный интервал (95%) : от -129698263.88 до 980351534.78\n",
      "Риск получения убытков: 5.8%\n"
     ]
    }
   ],
   "source": [
    "# для data_0\n",
    "\n",
    "values_0 = bootstrap(target_valid_0, prediction_valid_0, POINTS, STATE)\n",
    "\n",
    "mean_0 = values_0.mean()\n",
    "lower_0 = values_0.quantile(0.025)\n",
    "upper_0 = values_0.quantile(0.975)\n",
    "risk_0 = values_0[values_0 < 0].count() / values_0.count() * 100\n",
    "\n",
    "print(f'Средняя прибыль : {round(mean_0, 2)}')\n",
    "print(f'Доверительный интервал (95%) : от {round(lower_0, 2)} до {round(upper_0, 2)}')\n",
    "print(f'Риск получения убытков: {round(risk_0, 2)}%')"
   ]
  },
  {
   "cell_type": "code",
   "execution_count": 17,
   "metadata": {},
   "outputs": [
    {
     "name": "stdout",
     "output_type": "stream",
     "text": [
      "Средняя прибыль : 489036146.09\n",
      "Доверительный интервал (95%) : от 63878578.77 до 900130455.53\n",
      "Риск получения убытков: 1.0%\n"
     ]
    }
   ],
   "source": [
    "# для data_1\n",
    "\n",
    "values_1 = bootstrap(target_valid_1, prediction_valid_1, POINTS, STATE)\n",
    "\n",
    "mean_1 = values_1.mean()\n",
    "lower_1 = values_1.quantile(0.025)\n",
    "upper_1 = values_1.quantile(0.975)\n",
    "risk_1 = values_1[values_1 < 0].count() / values_1.count() * 100\n",
    "\n",
    "print(f'Средняя прибыль : {round(mean_1, 2)}')\n",
    "print(f'Доверительный интервал (95%) : от {round(lower_1, 2)} до {round(upper_1, 2)}')\n",
    "print(f'Риск получения убытков: {round(risk_1, 2)}%')"
   ]
  },
  {
   "cell_type": "code",
   "execution_count": null,
   "metadata": {},
   "outputs": [],
   "source": []
  },
  {
   "cell_type": "code",
   "execution_count": 18,
   "metadata": {},
   "outputs": [
    {
     "name": "stdout",
     "output_type": "stream",
     "text": [
      "Средняя прибыль : 343559871.28\n",
      "Доверительный интервал (95%) : от -210907750.68 до 884771214.58\n",
      "Риск получения убытков: 11.9%\n"
     ]
    }
   ],
   "source": [
    "# для data_2\n",
    "\n",
    "values_2 = bootstrap(target_valid_2, prediction_valid_2, POINTS, STATE)\n",
    "\n",
    "mean_2 = values_2.mean()\n",
    "lower_2 = values_2.quantile(0.025)\n",
    "upper_2 = values_2.quantile(0.975)\n",
    "risk_2 = values_2[values_2 < 0].count() / values_2.count() * 100\n",
    "\n",
    "print(f'Средняя прибыль : {round(mean_2, 2)}')\n",
    "print(f'Доверительный интервал (95%) : от {round(lower_2, 2)} до {round(upper_2, 2)}')\n",
    "print(f'Риск получения убытков: {round(risk_2, 2)}%')"
   ]
  },
  {
   "cell_type": "markdown",
   "metadata": {},
   "source": [
    "# Вывод\n",
    "\n",
    "По результатам исследования можно предложить следующее, __наиболее выгодное место для разработки скважин - является  второе месторождение data_1(geo_data_1).__ Т.к данный регион имеет бОльшую __среднюю прибыль, меньший % риска получить отрицательную прибыль (единственный имеет положительную \"левую границу\" 95%го доверительного интервала)__ "
   ]
  },
  {
   "cell_type": "code",
   "execution_count": null,
   "metadata": {},
   "outputs": [],
   "source": []
  }
 ],
 "metadata": {
  "ExecuteTimeLog": [
   {
    "duration": 1753,
    "start_time": "2023-08-30T11:45:01.523Z"
   },
   {
    "duration": 760,
    "start_time": "2023-08-30T11:45:04.663Z"
   },
   {
    "duration": 91,
    "start_time": "2023-08-30T11:46:20.643Z"
   },
   {
    "duration": 8,
    "start_time": "2023-08-30T11:46:23.671Z"
   },
   {
    "duration": 12,
    "start_time": "2023-08-30T11:46:33.106Z"
   },
   {
    "duration": 3,
    "start_time": "2023-08-30T11:46:44.728Z"
   },
   {
    "duration": 369,
    "start_time": "2023-08-30T11:46:57.337Z"
   },
   {
    "duration": 2,
    "start_time": "2023-08-30T11:47:21.635Z"
   },
   {
    "duration": 356,
    "start_time": "2023-08-30T11:47:21.993Z"
   },
   {
    "duration": 17,
    "start_time": "2023-08-30T11:47:28.174Z"
   },
   {
    "duration": 11,
    "start_time": "2023-08-30T11:47:42.415Z"
   },
   {
    "duration": 57,
    "start_time": "2023-08-30T16:17:12.513Z"
   },
   {
    "duration": 1293,
    "start_time": "2023-08-30T16:17:17.645Z"
   },
   {
    "duration": 985,
    "start_time": "2023-08-30T16:17:18.941Z"
   },
   {
    "duration": 4,
    "start_time": "2023-08-30T16:17:19.927Z"
   },
   {
    "duration": 109,
    "start_time": "2023-08-30T16:18:21.684Z"
   },
   {
    "duration": 118,
    "start_time": "2023-08-30T16:18:28.323Z"
   },
   {
    "duration": 47,
    "start_time": "2023-08-30T16:31:46.777Z"
   },
   {
    "duration": 52,
    "start_time": "2023-08-30T16:31:57.994Z"
   },
   {
    "duration": 252,
    "start_time": "2023-08-30T16:32:42.869Z"
   },
   {
    "duration": 266,
    "start_time": "2023-08-30T16:33:01.845Z"
   },
   {
    "duration": 250,
    "start_time": "2023-08-30T16:33:04.947Z"
   },
   {
    "duration": 284,
    "start_time": "2023-08-30T16:33:19.437Z"
   },
   {
    "duration": 217,
    "start_time": "2023-08-30T16:33:25.198Z"
   },
   {
    "duration": 266,
    "start_time": "2023-08-30T16:33:34.837Z"
   },
   {
    "duration": 278,
    "start_time": "2023-08-30T16:33:54.713Z"
   },
   {
    "duration": 246,
    "start_time": "2023-08-30T16:34:04.266Z"
   },
   {
    "duration": 251,
    "start_time": "2023-08-30T16:34:31.824Z"
   },
   {
    "duration": 314,
    "start_time": "2023-08-30T16:34:39.149Z"
   },
   {
    "duration": 246,
    "start_time": "2023-08-30T16:34:47.725Z"
   },
   {
    "duration": 252,
    "start_time": "2023-08-30T16:35:19.811Z"
   },
   {
    "duration": 52,
    "start_time": "2023-08-30T16:35:51.938Z"
   },
   {
    "duration": 255,
    "start_time": "2023-08-30T16:36:03.044Z"
   },
   {
    "duration": 216,
    "start_time": "2023-08-30T16:36:08.084Z"
   },
   {
    "duration": 251,
    "start_time": "2023-08-30T16:36:29.750Z"
   },
   {
    "duration": 223,
    "start_time": "2023-08-30T16:36:36.395Z"
   },
   {
    "duration": 253,
    "start_time": "2023-08-30T16:36:53.230Z"
   },
   {
    "duration": 259,
    "start_time": "2023-08-30T16:37:01.716Z"
   },
   {
    "duration": 217,
    "start_time": "2023-08-30T16:37:07.311Z"
   },
   {
    "duration": 256,
    "start_time": "2023-08-30T16:37:50.473Z"
   },
   {
    "duration": 259,
    "start_time": "2023-08-30T16:38:03.124Z"
   },
   {
    "duration": 291,
    "start_time": "2023-08-30T16:38:08.819Z"
   },
   {
    "duration": 307,
    "start_time": "2023-08-30T16:38:17.715Z"
   },
   {
    "duration": 306,
    "start_time": "2023-08-30T16:38:23.450Z"
   },
   {
    "duration": 3,
    "start_time": "2023-08-30T16:39:28.682Z"
   },
   {
    "duration": 497,
    "start_time": "2023-08-30T16:39:45.968Z"
   },
   {
    "duration": 377,
    "start_time": "2023-08-30T16:39:56.323Z"
   },
   {
    "duration": 4,
    "start_time": "2023-08-30T16:40:13.343Z"
   },
   {
    "duration": 2,
    "start_time": "2023-08-30T16:40:30.875Z"
   },
   {
    "duration": 8,
    "start_time": "2023-08-30T16:41:45.605Z"
   },
   {
    "duration": 242,
    "start_time": "2023-08-30T16:41:52.133Z"
   },
   {
    "duration": 326,
    "start_time": "2023-08-30T16:42:05.109Z"
   },
   {
    "duration": 300,
    "start_time": "2023-08-30T16:42:17.054Z"
   },
   {
    "duration": 10,
    "start_time": "2023-08-30T16:42:26.985Z"
   },
   {
    "duration": 10,
    "start_time": "2023-08-30T16:42:37.280Z"
   },
   {
    "duration": 8,
    "start_time": "2023-08-30T16:42:45.281Z"
   },
   {
    "duration": 267,
    "start_time": "2023-08-30T16:42:59.915Z"
   },
   {
    "duration": 254,
    "start_time": "2023-08-30T16:43:59.479Z"
   },
   {
    "duration": 217,
    "start_time": "2023-08-30T16:44:08.293Z"
   },
   {
    "duration": 232,
    "start_time": "2023-08-30T16:44:31.460Z"
   },
   {
    "duration": 259,
    "start_time": "2023-08-30T16:44:39.420Z"
   },
   {
    "duration": 287,
    "start_time": "2023-08-30T16:44:55.486Z"
   },
   {
    "duration": 84,
    "start_time": "2023-08-30T16:45:14.662Z"
   },
   {
    "duration": 219,
    "start_time": "2023-08-30T16:45:20.091Z"
   },
   {
    "duration": 237,
    "start_time": "2023-08-30T16:45:28.277Z"
   },
   {
    "duration": 5,
    "start_time": "2023-08-30T16:45:45.513Z"
   },
   {
    "duration": 214,
    "start_time": "2023-08-30T16:45:50.963Z"
   },
   {
    "duration": 85,
    "start_time": "2023-08-30T16:46:18.368Z"
   },
   {
    "duration": 220,
    "start_time": "2023-08-30T16:46:35.684Z"
   },
   {
    "duration": 230,
    "start_time": "2023-08-30T16:46:43.780Z"
   },
   {
    "duration": 227,
    "start_time": "2023-08-30T16:46:48.580Z"
   },
   {
    "duration": 229,
    "start_time": "2023-08-30T16:49:12.762Z"
   },
   {
    "duration": 226,
    "start_time": "2023-08-30T16:49:35.877Z"
   },
   {
    "duration": 221,
    "start_time": "2023-08-30T16:49:52.222Z"
   },
   {
    "duration": 240,
    "start_time": "2023-08-30T16:50:47.505Z"
   },
   {
    "duration": 227,
    "start_time": "2023-08-30T16:51:00.163Z"
   },
   {
    "duration": 256,
    "start_time": "2023-08-30T16:53:46.701Z"
   },
   {
    "duration": 229,
    "start_time": "2023-08-30T16:54:01.111Z"
   },
   {
    "duration": 232,
    "start_time": "2023-08-30T16:54:03.677Z"
   },
   {
    "duration": 218,
    "start_time": "2023-08-30T16:54:54.003Z"
   },
   {
    "duration": 214,
    "start_time": "2023-08-30T16:55:23.009Z"
   },
   {
    "duration": 258,
    "start_time": "2023-08-30T16:55:40.320Z"
   },
   {
    "duration": 217,
    "start_time": "2023-08-30T16:55:53.206Z"
   },
   {
    "duration": 329,
    "start_time": "2023-08-30T16:56:00.371Z"
   },
   {
    "duration": 210,
    "start_time": "2023-08-30T16:56:15.785Z"
   },
   {
    "duration": 236,
    "start_time": "2023-08-30T16:56:25.977Z"
   },
   {
    "duration": 219,
    "start_time": "2023-08-30T16:56:34.457Z"
   },
   {
    "duration": 213,
    "start_time": "2023-08-30T16:56:45.647Z"
   },
   {
    "duration": 200,
    "start_time": "2023-08-30T16:56:57.763Z"
   },
   {
    "duration": 52,
    "start_time": "2023-08-30T17:03:43.988Z"
   },
   {
    "duration": 0,
    "start_time": "2023-08-30T17:03:44.042Z"
   },
   {
    "duration": 0,
    "start_time": "2023-08-30T17:03:44.044Z"
   },
   {
    "duration": 0,
    "start_time": "2023-08-30T17:03:44.045Z"
   },
   {
    "duration": 0,
    "start_time": "2023-08-30T17:03:44.047Z"
   },
   {
    "duration": 1161,
    "start_time": "2023-08-30T17:04:09.376Z"
   },
   {
    "duration": 2,
    "start_time": "2023-08-30T17:04:10.539Z"
   },
   {
    "duration": 408,
    "start_time": "2023-08-30T17:04:10.543Z"
   },
   {
    "duration": 248,
    "start_time": "2023-08-30T17:04:10.964Z"
   },
   {
    "duration": 106,
    "start_time": "2023-08-30T17:04:11.214Z"
   },
   {
    "duration": 49,
    "start_time": "2023-08-30T17:04:47.843Z"
   },
   {
    "duration": 17,
    "start_time": "2023-08-30T17:05:44.701Z"
   },
   {
    "duration": 15,
    "start_time": "2023-08-30T17:06:19.143Z"
   },
   {
    "duration": 1082,
    "start_time": "2023-08-30T17:06:30.672Z"
   },
   {
    "duration": 4,
    "start_time": "2023-08-30T17:06:31.759Z"
   },
   {
    "duration": 390,
    "start_time": "2023-08-30T17:06:31.768Z"
   },
   {
    "duration": 255,
    "start_time": "2023-08-30T17:06:32.160Z"
   },
   {
    "duration": 22,
    "start_time": "2023-08-30T17:06:32.417Z"
   },
   {
    "duration": 104,
    "start_time": "2023-08-30T17:06:58.688Z"
   },
   {
    "duration": 1102,
    "start_time": "2023-08-30T17:07:05.762Z"
   },
   {
    "duration": 2,
    "start_time": "2023-08-30T17:07:06.868Z"
   },
   {
    "duration": 394,
    "start_time": "2023-08-30T17:07:06.872Z"
   },
   {
    "duration": 224,
    "start_time": "2023-08-30T17:07:07.268Z"
   },
   {
    "duration": 36,
    "start_time": "2023-08-30T17:07:07.495Z"
   },
   {
    "duration": 158,
    "start_time": "2023-08-30T17:08:14.201Z"
   },
   {
    "duration": 103,
    "start_time": "2023-08-31T08:28:54.512Z"
   },
   {
    "duration": 1364,
    "start_time": "2023-08-31T08:29:09.997Z"
   },
   {
    "duration": 5,
    "start_time": "2023-08-31T08:29:11.371Z"
   },
   {
    "duration": 1969,
    "start_time": "2023-08-31T08:29:11.377Z"
   },
   {
    "duration": 397,
    "start_time": "2023-08-31T08:29:13.348Z"
   },
   {
    "duration": 61,
    "start_time": "2023-08-31T08:29:13.747Z"
   },
   {
    "duration": 17,
    "start_time": "2023-08-31T08:29:13.810Z"
   },
   {
    "duration": 33,
    "start_time": "2023-08-31T08:29:13.829Z"
   },
   {
    "duration": 12,
    "start_time": "2023-08-31T08:29:19.681Z"
   },
   {
    "duration": 10,
    "start_time": "2023-08-31T08:29:24.808Z"
   },
   {
    "duration": 10,
    "start_time": "2023-08-31T08:29:30.769Z"
   },
   {
    "duration": 7,
    "start_time": "2023-08-31T08:29:36.799Z"
   },
   {
    "duration": 3,
    "start_time": "2023-08-31T08:59:47.757Z"
   },
   {
    "duration": 1268,
    "start_time": "2023-08-31T08:59:53.382Z"
   },
   {
    "duration": 4,
    "start_time": "2023-08-31T08:59:54.652Z"
   },
   {
    "duration": 480,
    "start_time": "2023-08-31T08:59:54.658Z"
   },
   {
    "duration": 4,
    "start_time": "2023-08-31T08:59:55.139Z"
   },
   {
    "duration": 269,
    "start_time": "2023-08-31T08:59:55.146Z"
   },
   {
    "duration": 63,
    "start_time": "2023-08-31T08:59:55.424Z"
   },
   {
    "duration": 5,
    "start_time": "2023-08-31T08:59:55.489Z"
   },
   {
    "duration": 0,
    "start_time": "2023-08-31T08:59:55.496Z"
   },
   {
    "duration": 0,
    "start_time": "2023-08-31T08:59:55.498Z"
   },
   {
    "duration": 0,
    "start_time": "2023-08-31T08:59:55.499Z"
   },
   {
    "duration": 0,
    "start_time": "2023-08-31T08:59:55.501Z"
   },
   {
    "duration": 104,
    "start_time": "2023-08-31T09:16:46.289Z"
   },
   {
    "duration": 23,
    "start_time": "2023-08-31T09:17:13.788Z"
   },
   {
    "duration": 20,
    "start_time": "2023-08-31T09:17:43.779Z"
   },
   {
    "duration": 27,
    "start_time": "2023-08-31T09:18:10.735Z"
   },
   {
    "duration": 31,
    "start_time": "2023-08-31T09:18:52.097Z"
   },
   {
    "duration": 31,
    "start_time": "2023-08-31T09:19:00.807Z"
   },
   {
    "duration": 405,
    "start_time": "2023-08-31T09:19:25.140Z"
   },
   {
    "duration": 422,
    "start_time": "2023-08-31T09:19:45.019Z"
   },
   {
    "duration": 262,
    "start_time": "2023-08-31T09:20:23.863Z"
   },
   {
    "duration": 304,
    "start_time": "2023-08-31T09:20:36.322Z"
   },
   {
    "duration": 357,
    "start_time": "2023-08-31T09:20:56.678Z"
   },
   {
    "duration": 342,
    "start_time": "2023-08-31T09:21:14.086Z"
   },
   {
    "duration": 254,
    "start_time": "2023-08-31T09:21:35.799Z"
   },
   {
    "duration": 390,
    "start_time": "2023-08-31T09:22:00.851Z"
   },
   {
    "duration": 267,
    "start_time": "2023-08-31T09:23:11.381Z"
   },
   {
    "duration": 263,
    "start_time": "2023-08-31T09:23:44.886Z"
   },
   {
    "duration": 337,
    "start_time": "2023-08-31T09:24:30.699Z"
   },
   {
    "duration": 85,
    "start_time": "2023-08-31T09:25:40.741Z"
   },
   {
    "duration": 117,
    "start_time": "2023-08-31T09:26:04.008Z"
   },
   {
    "duration": 285,
    "start_time": "2023-08-31T09:27:49.566Z"
   },
   {
    "duration": 302,
    "start_time": "2023-08-31T09:28:23.942Z"
   },
   {
    "duration": 216,
    "start_time": "2023-08-31T09:29:20.924Z"
   },
   {
    "duration": 293,
    "start_time": "2023-08-31T09:29:31.644Z"
   },
   {
    "duration": 388,
    "start_time": "2023-08-31T09:41:38.366Z"
   },
   {
    "duration": 45,
    "start_time": "2023-08-31T11:44:19.933Z"
   },
   {
    "duration": 1042,
    "start_time": "2023-08-31T11:44:23.967Z"
   },
   {
    "duration": 3,
    "start_time": "2023-08-31T11:44:25.011Z"
   },
   {
    "duration": 837,
    "start_time": "2023-08-31T11:44:25.016Z"
   },
   {
    "duration": 3,
    "start_time": "2023-08-31T11:44:25.855Z"
   },
   {
    "duration": 300,
    "start_time": "2023-08-31T11:44:25.861Z"
   },
   {
    "duration": 38,
    "start_time": "2023-08-31T11:44:26.162Z"
   },
   {
    "duration": 36,
    "start_time": "2023-08-31T11:44:26.224Z"
   },
   {
    "duration": 366,
    "start_time": "2023-08-31T11:44:26.261Z"
   },
   {
    "duration": 3,
    "start_time": "2023-08-31T11:53:46.763Z"
   },
   {
    "duration": 4,
    "start_time": "2023-08-31T11:53:54.484Z"
   },
   {
    "duration": 42,
    "start_time": "2023-08-31T13:23:33.810Z"
   },
   {
    "duration": 1029,
    "start_time": "2023-08-31T13:23:42.504Z"
   },
   {
    "duration": 2,
    "start_time": "2023-08-31T13:23:43.535Z"
   },
   {
    "duration": 773,
    "start_time": "2023-08-31T13:23:43.539Z"
   },
   {
    "duration": 3,
    "start_time": "2023-08-31T13:23:44.313Z"
   },
   {
    "duration": 219,
    "start_time": "2023-08-31T13:23:44.319Z"
   },
   {
    "duration": 41,
    "start_time": "2023-08-31T13:23:44.539Z"
   },
   {
    "duration": 39,
    "start_time": "2023-08-31T13:23:44.582Z"
   },
   {
    "duration": 337,
    "start_time": "2023-08-31T13:23:44.622Z"
   },
   {
    "duration": 3,
    "start_time": "2023-08-31T13:23:44.961Z"
   },
   {
    "duration": 186,
    "start_time": "2023-08-31T13:23:44.966Z"
   },
   {
    "duration": 95,
    "start_time": "2023-08-31T13:28:08.805Z"
   },
   {
    "duration": 89,
    "start_time": "2023-08-31T13:28:21.550Z"
   },
   {
    "duration": 9,
    "start_time": "2023-08-31T13:28:41.117Z"
   },
   {
    "duration": 5,
    "start_time": "2023-08-31T13:28:47.125Z"
   },
   {
    "duration": 94,
    "start_time": "2023-08-31T13:31:02.026Z"
   },
   {
    "duration": 25,
    "start_time": "2023-08-31T13:31:22.626Z"
   },
   {
    "duration": 13,
    "start_time": "2023-08-31T13:31:55.733Z"
   },
   {
    "duration": 14,
    "start_time": "2023-08-31T13:32:04.202Z"
   },
   {
    "duration": 14,
    "start_time": "2023-08-31T13:32:16.622Z"
   },
   {
    "duration": 13,
    "start_time": "2023-08-31T13:32:29.258Z"
   },
   {
    "duration": 15,
    "start_time": "2023-08-31T13:32:55.950Z"
   },
   {
    "duration": 14,
    "start_time": "2023-08-31T13:33:06.655Z"
   },
   {
    "duration": 14,
    "start_time": "2023-08-31T13:33:27.188Z"
   },
   {
    "duration": 15,
    "start_time": "2023-08-31T13:33:52.716Z"
   },
   {
    "duration": 13,
    "start_time": "2023-08-31T13:34:22.768Z"
   },
   {
    "duration": 15,
    "start_time": "2023-08-31T13:39:36.449Z"
   },
   {
    "duration": 4,
    "start_time": "2023-08-31T13:42:13.389Z"
   },
   {
    "duration": 4,
    "start_time": "2023-08-31T15:09:47.974Z"
   },
   {
    "duration": 258,
    "start_time": "2023-08-31T15:18:30.003Z"
   },
   {
    "duration": 5,
    "start_time": "2023-08-31T15:18:39.071Z"
   },
   {
    "duration": 6,
    "start_time": "2023-08-31T15:18:48.737Z"
   },
   {
    "duration": 40,
    "start_time": "2023-08-31T15:23:37.834Z"
   },
   {
    "duration": 427,
    "start_time": "2023-08-31T15:23:52.124Z"
   },
   {
    "duration": 6,
    "start_time": "2023-08-31T15:24:00.030Z"
   },
   {
    "duration": 381,
    "start_time": "2023-08-31T15:24:10.670Z"
   },
   {
    "duration": 6,
    "start_time": "2023-08-31T15:24:12.135Z"
   },
   {
    "duration": 9,
    "start_time": "2023-08-31T15:24:19.445Z"
   },
   {
    "duration": 149,
    "start_time": "2023-08-31T15:26:04.015Z"
   },
   {
    "duration": 3,
    "start_time": "2023-08-31T15:26:05.870Z"
   },
   {
    "duration": 3,
    "start_time": "2023-08-31T15:26:07.095Z"
   },
   {
    "duration": 33,
    "start_time": "2023-08-31T15:29:31.317Z"
   },
   {
    "duration": 4,
    "start_time": "2023-08-31T15:29:57.398Z"
   },
   {
    "duration": 1016,
    "start_time": "2023-08-31T15:30:04.305Z"
   },
   {
    "duration": 2,
    "start_time": "2023-08-31T15:30:05.323Z"
   },
   {
    "duration": 390,
    "start_time": "2023-08-31T15:30:05.326Z"
   },
   {
    "duration": 2,
    "start_time": "2023-08-31T15:30:05.718Z"
   },
   {
    "duration": 260,
    "start_time": "2023-08-31T15:30:05.722Z"
   },
   {
    "duration": 39,
    "start_time": "2023-08-31T15:30:05.984Z"
   },
   {
    "duration": 61,
    "start_time": "2023-08-31T15:30:06.024Z"
   },
   {
    "duration": 283,
    "start_time": "2023-08-31T15:30:06.086Z"
   },
   {
    "duration": 82,
    "start_time": "2023-08-31T15:30:06.372Z"
   },
   {
    "duration": 183,
    "start_time": "2023-08-31T15:30:06.457Z"
   },
   {
    "duration": 0,
    "start_time": "2023-08-31T15:30:06.642Z"
   },
   {
    "duration": 0,
    "start_time": "2023-08-31T15:30:06.643Z"
   },
   {
    "duration": 0,
    "start_time": "2023-08-31T15:30:06.644Z"
   },
   {
    "duration": 1082,
    "start_time": "2023-08-31T15:30:19.362Z"
   },
   {
    "duration": 3,
    "start_time": "2023-08-31T15:30:20.445Z"
   },
   {
    "duration": 388,
    "start_time": "2023-08-31T15:30:20.450Z"
   },
   {
    "duration": 3,
    "start_time": "2023-08-31T15:30:20.839Z"
   },
   {
    "duration": 230,
    "start_time": "2023-08-31T15:30:20.844Z"
   },
   {
    "duration": 34,
    "start_time": "2023-08-31T15:30:21.075Z"
   },
   {
    "duration": 63,
    "start_time": "2023-08-31T15:30:21.111Z"
   },
   {
    "duration": 278,
    "start_time": "2023-08-31T15:30:21.176Z"
   },
   {
    "duration": 4,
    "start_time": "2023-08-31T15:30:21.456Z"
   },
   {
    "duration": 99,
    "start_time": "2023-08-31T15:30:21.462Z"
   },
   {
    "duration": 20,
    "start_time": "2023-08-31T15:30:21.563Z"
   },
   {
    "duration": 3,
    "start_time": "2023-08-31T15:30:21.584Z"
   },
   {
    "duration": 337,
    "start_time": "2023-08-31T15:30:21.588Z"
   },
   {
    "duration": 92,
    "start_time": "2023-08-31T15:31:39.162Z"
   },
   {
    "duration": 4,
    "start_time": "2023-08-31T15:31:52.698Z"
   },
   {
    "duration": 1762,
    "start_time": "2023-08-31T15:31:55.024Z"
   },
   {
    "duration": 1062,
    "start_time": "2023-08-31T15:32:26.561Z"
   },
   {
    "duration": 2,
    "start_time": "2023-08-31T15:32:27.625Z"
   },
   {
    "duration": 368,
    "start_time": "2023-08-31T15:32:27.629Z"
   },
   {
    "duration": 3,
    "start_time": "2023-08-31T15:32:27.998Z"
   },
   {
    "duration": 225,
    "start_time": "2023-08-31T15:32:28.003Z"
   },
   {
    "duration": 48,
    "start_time": "2023-08-31T15:32:28.230Z"
   },
   {
    "duration": 32,
    "start_time": "2023-08-31T15:32:28.279Z"
   },
   {
    "duration": 354,
    "start_time": "2023-08-31T15:32:28.313Z"
   },
   {
    "duration": 81,
    "start_time": "2023-08-31T15:32:28.669Z"
   },
   {
    "duration": 98,
    "start_time": "2023-08-31T15:32:28.755Z"
   },
   {
    "duration": 18,
    "start_time": "2023-08-31T15:32:28.859Z"
   },
   {
    "duration": 3,
    "start_time": "2023-08-31T15:32:28.878Z"
   },
   {
    "duration": 1726,
    "start_time": "2023-08-31T15:32:28.882Z"
   },
   {
    "duration": 101,
    "start_time": "2023-08-31T15:33:35.201Z"
   },
   {
    "duration": 4581,
    "start_time": "2023-08-31T15:33:41.141Z"
   },
   {
    "duration": 4643,
    "start_time": "2023-08-31T15:34:03.957Z"
   },
   {
    "duration": 983,
    "start_time": "2023-08-31T15:36:26.515Z"
   },
   {
    "duration": 2,
    "start_time": "2023-08-31T15:36:27.500Z"
   },
   {
    "duration": 362,
    "start_time": "2023-08-31T15:36:27.504Z"
   },
   {
    "duration": 3,
    "start_time": "2023-08-31T15:36:27.868Z"
   },
   {
    "duration": 219,
    "start_time": "2023-08-31T15:36:27.872Z"
   },
   {
    "duration": 34,
    "start_time": "2023-08-31T15:36:28.093Z"
   },
   {
    "duration": 47,
    "start_time": "2023-08-31T15:36:28.128Z"
   },
   {
    "duration": 378,
    "start_time": "2023-08-31T15:36:28.176Z"
   },
   {
    "duration": 92,
    "start_time": "2023-08-31T15:36:28.558Z"
   },
   {
    "duration": 7,
    "start_time": "2023-08-31T15:36:28.652Z"
   },
   {
    "duration": 17,
    "start_time": "2023-08-31T15:36:28.660Z"
   },
   {
    "duration": 3,
    "start_time": "2023-08-31T15:36:28.678Z"
   },
   {
    "duration": 4480,
    "start_time": "2023-08-31T15:36:28.683Z"
   },
   {
    "duration": 4698,
    "start_time": "2023-08-31T15:47:32.141Z"
   },
   {
    "duration": 221,
    "start_time": "2023-08-31T15:48:23.698Z"
   },
   {
    "duration": 113,
    "start_time": "2023-08-31T15:49:03.440Z"
   },
   {
    "duration": 4771,
    "start_time": "2023-08-31T15:49:48.192Z"
   },
   {
    "duration": 5,
    "start_time": "2023-08-31T15:49:52.965Z"
   },
   {
    "duration": 5,
    "start_time": "2023-08-31T15:50:02.769Z"
   },
   {
    "duration": 1464,
    "start_time": "2023-08-31T17:50:47.999Z"
   },
   {
    "duration": 4,
    "start_time": "2023-08-31T17:50:49.465Z"
   },
   {
    "duration": 845,
    "start_time": "2023-08-31T17:50:49.470Z"
   },
   {
    "duration": 2,
    "start_time": "2023-08-31T17:50:50.317Z"
   },
   {
    "duration": 276,
    "start_time": "2023-08-31T17:50:50.322Z"
   },
   {
    "duration": 42,
    "start_time": "2023-08-31T17:50:50.600Z"
   },
   {
    "duration": 65,
    "start_time": "2023-08-31T17:50:50.644Z"
   },
   {
    "duration": 98,
    "start_time": "2023-08-31T17:50:50.710Z"
   },
   {
    "duration": 0,
    "start_time": "2023-08-31T17:50:50.810Z"
   },
   {
    "duration": 0,
    "start_time": "2023-08-31T17:50:50.811Z"
   },
   {
    "duration": 0,
    "start_time": "2023-08-31T17:50:50.812Z"
   },
   {
    "duration": 0,
    "start_time": "2023-08-31T17:50:50.814Z"
   },
   {
    "duration": 0,
    "start_time": "2023-08-31T17:50:50.815Z"
   },
   {
    "duration": 0,
    "start_time": "2023-08-31T17:50:50.816Z"
   },
   {
    "duration": 0,
    "start_time": "2023-08-31T17:50:50.817Z"
   },
   {
    "duration": 0,
    "start_time": "2023-08-31T17:50:50.819Z"
   },
   {
    "duration": 117,
    "start_time": "2023-08-31T17:51:20.575Z"
   },
   {
    "duration": 74,
    "start_time": "2023-08-31T17:52:48.109Z"
   },
   {
    "duration": 5,
    "start_time": "2023-08-31T17:53:15.198Z"
   },
   {
    "duration": 28,
    "start_time": "2023-08-31T17:53:35.207Z"
   },
   {
    "duration": 34,
    "start_time": "2023-08-31T17:59:14.272Z"
   },
   {
    "duration": 32,
    "start_time": "2023-08-31T18:00:22.603Z"
   },
   {
    "duration": 29,
    "start_time": "2023-08-31T18:00:45.582Z"
   },
   {
    "duration": 31,
    "start_time": "2023-08-31T18:00:50.983Z"
   },
   {
    "duration": 25,
    "start_time": "2023-08-31T18:00:54.425Z"
   },
   {
    "duration": 103,
    "start_time": "2023-08-31T18:01:28.232Z"
   },
   {
    "duration": 2,
    "start_time": "2023-08-31T18:01:32.171Z"
   },
   {
    "duration": 4,
    "start_time": "2023-08-31T18:01:33.794Z"
   },
   {
    "duration": 19,
    "start_time": "2023-08-31T18:01:35.393Z"
   },
   {
    "duration": 3,
    "start_time": "2023-08-31T18:09:26.542Z"
   },
   {
    "duration": 4,
    "start_time": "2023-08-31T18:09:28.298Z"
   },
   {
    "duration": 14,
    "start_time": "2023-08-31T18:12:04.669Z"
   },
   {
    "duration": 23,
    "start_time": "2023-08-31T18:12:09.188Z"
   },
   {
    "duration": 63,
    "start_time": "2023-08-31T18:16:23.118Z"
   },
   {
    "duration": 33,
    "start_time": "2023-08-31T18:17:04.839Z"
   },
   {
    "duration": 5,
    "start_time": "2023-08-31T18:17:08.544Z"
   },
   {
    "duration": 1579,
    "start_time": "2023-08-31T18:17:27.451Z"
   },
   {
    "duration": 4,
    "start_time": "2023-08-31T18:18:05.897Z"
   },
   {
    "duration": 18,
    "start_time": "2023-08-31T18:18:06.721Z"
   },
   {
    "duration": 4,
    "start_time": "2023-08-31T18:18:34.559Z"
   },
   {
    "duration": 15,
    "start_time": "2023-08-31T18:18:35.512Z"
   },
   {
    "duration": 1086,
    "start_time": "2023-08-31T18:18:41.129Z"
   },
   {
    "duration": 2,
    "start_time": "2023-08-31T18:18:42.217Z"
   },
   {
    "duration": 403,
    "start_time": "2023-08-31T18:18:42.220Z"
   },
   {
    "duration": 3,
    "start_time": "2023-08-31T18:18:42.625Z"
   },
   {
    "duration": 261,
    "start_time": "2023-08-31T18:18:42.629Z"
   },
   {
    "duration": 39,
    "start_time": "2023-08-31T18:18:42.892Z"
   },
   {
    "duration": 65,
    "start_time": "2023-08-31T18:18:42.933Z"
   },
   {
    "duration": 84,
    "start_time": "2023-08-31T18:18:43.000Z"
   },
   {
    "duration": 203,
    "start_time": "2023-08-31T18:18:43.086Z"
   },
   {
    "duration": 116,
    "start_time": "2023-08-31T18:18:43.294Z"
   },
   {
    "duration": 476,
    "start_time": "2023-08-31T18:18:43.413Z"
   },
   {
    "duration": 7,
    "start_time": "2023-08-31T18:18:43.980Z"
   },
   {
    "duration": 4,
    "start_time": "2023-08-31T18:18:44.082Z"
   },
   {
    "duration": 23,
    "start_time": "2023-08-31T18:18:44.088Z"
   },
   {
    "duration": 3,
    "start_time": "2023-08-31T18:18:44.112Z"
   },
   {
    "duration": 5,
    "start_time": "2023-08-31T18:18:44.117Z"
   },
   {
    "duration": 128,
    "start_time": "2023-08-31T18:18:44.123Z"
   },
   {
    "duration": 0,
    "start_time": "2023-08-31T18:18:44.254Z"
   },
   {
    "duration": 0,
    "start_time": "2023-08-31T18:18:44.255Z"
   },
   {
    "duration": 0,
    "start_time": "2023-08-31T18:18:44.257Z"
   },
   {
    "duration": 4,
    "start_time": "2023-08-31T18:19:07.748Z"
   },
   {
    "duration": 1618,
    "start_time": "2023-08-31T18:19:08.533Z"
   },
   {
    "duration": 8,
    "start_time": "2023-08-31T18:19:16.284Z"
   },
   {
    "duration": 14,
    "start_time": "2023-08-31T18:23:51.580Z"
   },
   {
    "duration": 167,
    "start_time": "2023-08-31T18:24:16.856Z"
   },
   {
    "duration": 96,
    "start_time": "2023-08-31T18:24:20.476Z"
   },
   {
    "duration": 1342,
    "start_time": "2023-08-31T18:24:44.193Z"
   },
   {
    "duration": 3,
    "start_time": "2023-08-31T18:24:45.537Z"
   },
   {
    "duration": 450,
    "start_time": "2023-08-31T18:24:45.542Z"
   },
   {
    "duration": 4,
    "start_time": "2023-08-31T18:24:45.994Z"
   },
   {
    "duration": 313,
    "start_time": "2023-08-31T18:24:46.001Z"
   },
   {
    "duration": 67,
    "start_time": "2023-08-31T18:24:46.316Z"
   },
   {
    "duration": 53,
    "start_time": "2023-08-31T18:24:46.386Z"
   },
   {
    "duration": 73,
    "start_time": "2023-08-31T18:24:46.440Z"
   },
   {
    "duration": 131,
    "start_time": "2023-08-31T18:24:46.596Z"
   },
   {
    "duration": 0,
    "start_time": "2023-08-31T18:24:46.729Z"
   },
   {
    "duration": 0,
    "start_time": "2023-08-31T18:24:46.731Z"
   },
   {
    "duration": 0,
    "start_time": "2023-08-31T18:24:46.732Z"
   },
   {
    "duration": 0,
    "start_time": "2023-08-31T18:24:46.734Z"
   },
   {
    "duration": 0,
    "start_time": "2023-08-31T18:24:46.735Z"
   },
   {
    "duration": 0,
    "start_time": "2023-08-31T18:24:46.736Z"
   },
   {
    "duration": 0,
    "start_time": "2023-08-31T18:24:46.737Z"
   },
   {
    "duration": 0,
    "start_time": "2023-08-31T18:24:46.738Z"
   },
   {
    "duration": 0,
    "start_time": "2023-08-31T18:24:46.739Z"
   },
   {
    "duration": 0,
    "start_time": "2023-08-31T18:24:46.741Z"
   },
   {
    "duration": 0,
    "start_time": "2023-08-31T18:24:46.742Z"
   },
   {
    "duration": 0,
    "start_time": "2023-08-31T18:24:46.744Z"
   },
   {
    "duration": 0,
    "start_time": "2023-08-31T18:24:46.745Z"
   },
   {
    "duration": 67,
    "start_time": "2023-08-31T18:25:05.913Z"
   },
   {
    "duration": 72,
    "start_time": "2023-08-31T18:25:22.713Z"
   },
   {
    "duration": 1250,
    "start_time": "2023-08-31T18:25:35.320Z"
   },
   {
    "duration": 3,
    "start_time": "2023-08-31T18:25:36.572Z"
   },
   {
    "duration": 489,
    "start_time": "2023-08-31T18:25:36.576Z"
   },
   {
    "duration": 3,
    "start_time": "2023-08-31T18:25:37.067Z"
   },
   {
    "duration": 351,
    "start_time": "2023-08-31T18:25:37.081Z"
   },
   {
    "duration": 58,
    "start_time": "2023-08-31T18:25:37.434Z"
   },
   {
    "duration": 47,
    "start_time": "2023-08-31T18:25:37.494Z"
   },
   {
    "duration": 64,
    "start_time": "2023-08-31T18:25:37.543Z"
   },
   {
    "duration": 196,
    "start_time": "2023-08-31T18:25:37.610Z"
   },
   {
    "duration": 184,
    "start_time": "2023-08-31T18:25:37.811Z"
   },
   {
    "duration": 486,
    "start_time": "2023-08-31T18:25:37.997Z"
   },
   {
    "duration": 3,
    "start_time": "2023-08-31T18:25:38.486Z"
   },
   {
    "duration": 96,
    "start_time": "2023-08-31T18:25:38.492Z"
   },
   {
    "duration": 27,
    "start_time": "2023-08-31T18:25:38.592Z"
   },
   {
    "duration": 5,
    "start_time": "2023-08-31T18:25:38.621Z"
   },
   {
    "duration": 6,
    "start_time": "2023-08-31T18:25:38.627Z"
   },
   {
    "duration": 1832,
    "start_time": "2023-08-31T18:25:38.635Z"
   },
   {
    "duration": 13,
    "start_time": "2023-08-31T18:25:40.468Z"
   },
   {
    "duration": 1916,
    "start_time": "2023-08-31T18:25:40.485Z"
   },
   {
    "duration": 6148,
    "start_time": "2023-08-31T18:25:42.404Z"
   },
   {
    "duration": 6,
    "start_time": "2023-08-31T18:25:48.554Z"
   },
   {
    "duration": 20,
    "start_time": "2023-08-31T18:25:48.562Z"
   },
   {
    "duration": 6,
    "start_time": "2023-08-31T18:26:16.706Z"
   },
   {
    "duration": 1293,
    "start_time": "2023-08-31T18:26:21.127Z"
   },
   {
    "duration": 3,
    "start_time": "2023-08-31T18:26:22.422Z"
   },
   {
    "duration": 497,
    "start_time": "2023-08-31T18:26:22.427Z"
   },
   {
    "duration": 3,
    "start_time": "2023-08-31T18:26:22.926Z"
   },
   {
    "duration": 295,
    "start_time": "2023-08-31T18:26:22.931Z"
   },
   {
    "duration": 55,
    "start_time": "2023-08-31T18:26:23.228Z"
   },
   {
    "duration": 52,
    "start_time": "2023-08-31T18:26:23.285Z"
   },
   {
    "duration": 74,
    "start_time": "2023-08-31T18:26:23.339Z"
   },
   {
    "duration": 129,
    "start_time": "2023-08-31T18:26:23.481Z"
   },
   {
    "duration": 197,
    "start_time": "2023-08-31T18:26:23.612Z"
   },
   {
    "duration": 72,
    "start_time": "2023-08-31T18:26:23.812Z"
   },
   {
    "duration": 10,
    "start_time": "2023-08-31T18:26:23.891Z"
   },
   {
    "duration": 75,
    "start_time": "2023-08-31T18:26:23.908Z"
   },
   {
    "duration": 27,
    "start_time": "2023-08-31T18:26:23.992Z"
   },
   {
    "duration": 4,
    "start_time": "2023-08-31T18:26:24.021Z"
   },
   {
    "duration": 4,
    "start_time": "2023-08-31T18:26:24.026Z"
   },
   {
    "duration": 1920,
    "start_time": "2023-08-31T18:26:24.032Z"
   },
   {
    "duration": 6,
    "start_time": "2023-08-31T18:26:25.953Z"
   },
   {
    "duration": 2070,
    "start_time": "2023-08-31T18:26:25.961Z"
   },
   {
    "duration": 6240,
    "start_time": "2023-08-31T18:26:28.033Z"
   },
   {
    "duration": 12,
    "start_time": "2023-08-31T18:26:34.275Z"
   },
   {
    "duration": 10,
    "start_time": "2023-08-31T18:26:34.290Z"
   },
   {
    "duration": 1231,
    "start_time": "2023-08-31T18:27:45.929Z"
   },
   {
    "duration": 3,
    "start_time": "2023-08-31T18:27:47.163Z"
   },
   {
    "duration": 427,
    "start_time": "2023-08-31T18:27:47.168Z"
   },
   {
    "duration": 3,
    "start_time": "2023-08-31T18:27:47.597Z"
   },
   {
    "duration": 272,
    "start_time": "2023-08-31T18:27:47.602Z"
   },
   {
    "duration": 47,
    "start_time": "2023-08-31T18:27:47.881Z"
   },
   {
    "duration": 59,
    "start_time": "2023-08-31T18:27:47.930Z"
   },
   {
    "duration": 98,
    "start_time": "2023-08-31T18:27:47.991Z"
   },
   {
    "duration": 125,
    "start_time": "2023-08-31T18:27:48.091Z"
   },
   {
    "duration": 116,
    "start_time": "2023-08-31T18:27:48.293Z"
   },
   {
    "duration": 76,
    "start_time": "2023-08-31T18:27:48.411Z"
   },
   {
    "duration": 6,
    "start_time": "2023-08-31T18:27:48.493Z"
   },
   {
    "duration": 14,
    "start_time": "2023-08-31T18:27:48.584Z"
   },
   {
    "duration": 20,
    "start_time": "2023-08-31T18:27:48.601Z"
   },
   {
    "duration": 4,
    "start_time": "2023-08-31T18:27:48.622Z"
   },
   {
    "duration": 13,
    "start_time": "2023-08-31T18:27:48.628Z"
   },
   {
    "duration": 129,
    "start_time": "2023-08-31T18:27:48.642Z"
   },
   {
    "duration": 0,
    "start_time": "2023-08-31T18:27:48.773Z"
   },
   {
    "duration": 0,
    "start_time": "2023-08-31T18:27:48.775Z"
   },
   {
    "duration": 0,
    "start_time": "2023-08-31T18:27:48.781Z"
   },
   {
    "duration": 0,
    "start_time": "2023-08-31T18:27:48.783Z"
   },
   {
    "duration": 0,
    "start_time": "2023-08-31T18:27:48.784Z"
   },
   {
    "duration": 3,
    "start_time": "2023-08-31T18:28:17.746Z"
   },
   {
    "duration": 9,
    "start_time": "2023-08-31T18:28:19.356Z"
   },
   {
    "duration": 14,
    "start_time": "2023-08-31T18:28:28.546Z"
   },
   {
    "duration": 3,
    "start_time": "2023-08-31T18:28:41.477Z"
   },
   {
    "duration": 1667,
    "start_time": "2023-08-31T18:28:42.294Z"
   },
   {
    "duration": 11,
    "start_time": "2023-08-31T18:30:53.011Z"
   },
   {
    "duration": 1626,
    "start_time": "2023-08-31T18:31:09.963Z"
   },
   {
    "duration": 1759,
    "start_time": "2023-08-31T18:32:30.866Z"
   },
   {
    "duration": 7,
    "start_time": "2023-08-31T18:32:47.034Z"
   },
   {
    "duration": 1628,
    "start_time": "2023-08-31T18:35:16.813Z"
   },
   {
    "duration": 1549,
    "start_time": "2023-08-31T18:35:28.629Z"
   },
   {
    "duration": 6,
    "start_time": "2023-08-31T18:37:31.972Z"
   },
   {
    "duration": 7,
    "start_time": "2023-08-31T18:37:47.114Z"
   },
   {
    "duration": 6,
    "start_time": "2023-08-31T18:37:52.869Z"
   },
   {
    "duration": 6,
    "start_time": "2023-08-31T18:38:24.889Z"
   },
   {
    "duration": 1859,
    "start_time": "2023-08-31T18:41:54.918Z"
   },
   {
    "duration": 1690,
    "start_time": "2023-08-31T18:42:12.444Z"
   },
   {
    "duration": 7,
    "start_time": "2023-08-31T18:42:22.808Z"
   },
   {
    "duration": 5,
    "start_time": "2023-08-31T18:45:44.987Z"
   },
   {
    "duration": 1716,
    "start_time": "2023-08-31T18:46:19.994Z"
   },
   {
    "duration": 1614,
    "start_time": "2023-08-31T18:48:33.894Z"
   },
   {
    "duration": 1612,
    "start_time": "2023-08-31T18:48:43.648Z"
   },
   {
    "duration": 392,
    "start_time": "2023-08-31T18:51:02.093Z"
   },
   {
    "duration": 100,
    "start_time": "2023-08-31T18:51:14.683Z"
   },
   {
    "duration": 5296,
    "start_time": "2023-08-31T18:51:52.495Z"
   },
   {
    "duration": 11,
    "start_time": "2023-08-31T18:53:22.418Z"
   },
   {
    "duration": 13,
    "start_time": "2023-08-31T18:53:31.279Z"
   },
   {
    "duration": 4,
    "start_time": "2023-08-31T18:54:42.047Z"
   },
   {
    "duration": 4,
    "start_time": "2023-08-31T18:54:58.156Z"
   },
   {
    "duration": 4,
    "start_time": "2023-08-31T18:55:02.592Z"
   },
   {
    "duration": 5,
    "start_time": "2023-08-31T18:55:08.597Z"
   },
   {
    "duration": 4,
    "start_time": "2023-08-31T18:55:18.473Z"
   },
   {
    "duration": 29,
    "start_time": "2023-08-31T18:57:42.863Z"
   },
   {
    "duration": 10,
    "start_time": "2023-08-31T18:57:53.949Z"
   },
   {
    "duration": 29,
    "start_time": "2023-08-31T18:58:09.150Z"
   },
   {
    "duration": 45,
    "start_time": "2023-08-31T18:59:47.743Z"
   },
   {
    "duration": 33,
    "start_time": "2023-08-31T19:01:53.579Z"
   },
   {
    "duration": 1689,
    "start_time": "2023-08-31T19:01:59.414Z"
   },
   {
    "duration": 9,
    "start_time": "2023-09-01T08:19:08.640Z"
   },
   {
    "duration": 2,
    "start_time": "2023-09-01T08:19:26.604Z"
   },
   {
    "duration": 4,
    "start_time": "2023-09-01T08:19:27.633Z"
   },
   {
    "duration": 1341,
    "start_time": "2023-09-01T08:19:35.892Z"
   },
   {
    "duration": 3,
    "start_time": "2023-09-01T08:19:37.235Z"
   },
   {
    "duration": 820,
    "start_time": "2023-09-01T08:19:37.582Z"
   },
   {
    "duration": 1182,
    "start_time": "2023-09-01T08:19:53.291Z"
   },
   {
    "duration": 2,
    "start_time": "2023-09-01T08:19:54.475Z"
   },
   {
    "duration": 413,
    "start_time": "2023-09-01T08:19:54.479Z"
   },
   {
    "duration": 3,
    "start_time": "2023-09-01T08:19:54.894Z"
   },
   {
    "duration": 276,
    "start_time": "2023-09-01T08:19:54.909Z"
   },
   {
    "duration": 53,
    "start_time": "2023-09-01T08:19:55.187Z"
   },
   {
    "duration": 68,
    "start_time": "2023-09-01T08:19:55.242Z"
   },
   {
    "duration": 96,
    "start_time": "2023-09-01T08:19:55.313Z"
   },
   {
    "duration": 4,
    "start_time": "2023-09-01T08:19:55.413Z"
   },
   {
    "duration": 94,
    "start_time": "2023-09-01T08:19:55.421Z"
   },
   {
    "duration": 36,
    "start_time": "2023-09-01T08:19:55.517Z"
   },
   {
    "duration": 227,
    "start_time": "2023-09-01T08:19:55.611Z"
   },
   {
    "duration": 0,
    "start_time": "2023-09-01T08:19:55.840Z"
   },
   {
    "duration": 0,
    "start_time": "2023-09-01T08:19:55.841Z"
   },
   {
    "duration": 0,
    "start_time": "2023-09-01T08:19:55.843Z"
   },
   {
    "duration": 0,
    "start_time": "2023-09-01T08:19:55.844Z"
   },
   {
    "duration": 0,
    "start_time": "2023-09-01T08:19:55.845Z"
   },
   {
    "duration": 0,
    "start_time": "2023-09-01T08:19:55.846Z"
   },
   {
    "duration": 0,
    "start_time": "2023-09-01T08:19:55.848Z"
   },
   {
    "duration": 0,
    "start_time": "2023-09-01T08:19:55.849Z"
   },
   {
    "duration": 0,
    "start_time": "2023-09-01T08:19:55.850Z"
   },
   {
    "duration": 0,
    "start_time": "2023-09-01T08:19:55.851Z"
   },
   {
    "duration": 0,
    "start_time": "2023-09-01T08:19:55.853Z"
   },
   {
    "duration": 0,
    "start_time": "2023-09-01T08:19:55.854Z"
   },
   {
    "duration": 43,
    "start_time": "2023-09-01T08:20:04.888Z"
   },
   {
    "duration": 66,
    "start_time": "2023-09-01T08:20:09.443Z"
   },
   {
    "duration": 3,
    "start_time": "2023-09-01T08:20:10.433Z"
   },
   {
    "duration": 4,
    "start_time": "2023-09-01T08:20:11.376Z"
   },
   {
    "duration": 11,
    "start_time": "2023-09-01T08:27:03.491Z"
   },
   {
    "duration": 12,
    "start_time": "2023-09-01T08:27:24.704Z"
   },
   {
    "duration": 15,
    "start_time": "2023-09-01T08:28:12.507Z"
   },
   {
    "duration": 6,
    "start_time": "2023-09-01T08:28:31.290Z"
   },
   {
    "duration": 4,
    "start_time": "2023-09-01T08:28:45.823Z"
   },
   {
    "duration": 8,
    "start_time": "2023-09-01T08:28:55.484Z"
   },
   {
    "duration": 1581,
    "start_time": "2023-09-01T08:29:27.898Z"
   },
   {
    "duration": 6,
    "start_time": "2023-09-01T08:29:43.496Z"
   },
   {
    "duration": 6,
    "start_time": "2023-09-01T08:29:54.357Z"
   },
   {
    "duration": 71,
    "start_time": "2023-09-02T12:24:32.718Z"
   },
   {
    "duration": 1236,
    "start_time": "2023-09-02T12:24:57.263Z"
   },
   {
    "duration": 3,
    "start_time": "2023-09-02T12:24:58.501Z"
   },
   {
    "duration": 1015,
    "start_time": "2023-09-02T12:24:58.505Z"
   },
   {
    "duration": 4,
    "start_time": "2023-09-02T12:24:59.522Z"
   },
   {
    "duration": 271,
    "start_time": "2023-09-02T12:24:59.529Z"
   },
   {
    "duration": 65,
    "start_time": "2023-09-02T12:24:59.802Z"
   },
   {
    "duration": 42,
    "start_time": "2023-09-02T12:24:59.869Z"
   },
   {
    "duration": 141,
    "start_time": "2023-09-02T12:24:59.913Z"
   },
   {
    "duration": 12,
    "start_time": "2023-09-02T12:25:00.060Z"
   },
   {
    "duration": 106,
    "start_time": "2023-09-02T12:25:00.073Z"
   },
   {
    "duration": 142,
    "start_time": "2023-09-02T12:25:00.180Z"
   },
   {
    "duration": 0,
    "start_time": "2023-09-02T12:25:00.325Z"
   },
   {
    "duration": 0,
    "start_time": "2023-09-02T12:25:00.327Z"
   },
   {
    "duration": 0,
    "start_time": "2023-09-02T12:25:00.328Z"
   },
   {
    "duration": 0,
    "start_time": "2023-09-02T12:25:00.329Z"
   },
   {
    "duration": 0,
    "start_time": "2023-09-02T12:25:00.331Z"
   },
   {
    "duration": 0,
    "start_time": "2023-09-02T12:25:00.332Z"
   },
   {
    "duration": 0,
    "start_time": "2023-09-02T12:25:00.333Z"
   },
   {
    "duration": 0,
    "start_time": "2023-09-02T12:25:00.334Z"
   },
   {
    "duration": 0,
    "start_time": "2023-09-02T12:25:00.335Z"
   },
   {
    "duration": 0,
    "start_time": "2023-09-02T12:25:00.350Z"
   },
   {
    "duration": 0,
    "start_time": "2023-09-02T12:25:00.351Z"
   },
   {
    "duration": 0,
    "start_time": "2023-09-02T12:25:00.352Z"
   },
   {
    "duration": 0,
    "start_time": "2023-09-02T12:25:00.356Z"
   },
   {
    "duration": 0,
    "start_time": "2023-09-02T12:25:00.357Z"
   },
   {
    "duration": 0,
    "start_time": "2023-09-02T12:25:00.358Z"
   },
   {
    "duration": 0,
    "start_time": "2023-09-02T12:25:00.359Z"
   },
   {
    "duration": 1465,
    "start_time": "2023-09-02T12:25:26.305Z"
   },
   {
    "duration": 1439,
    "start_time": "2023-09-02T12:31:40.169Z"
   },
   {
    "duration": 109,
    "start_time": "2023-09-02T12:38:30.437Z"
   },
   {
    "duration": 31,
    "start_time": "2023-09-02T12:38:35.912Z"
   },
   {
    "duration": 4,
    "start_time": "2023-09-02T12:39:48.325Z"
   },
   {
    "duration": 4,
    "start_time": "2023-09-02T12:39:50.067Z"
   },
   {
    "duration": 17,
    "start_time": "2023-09-02T12:39:51.166Z"
   },
   {
    "duration": 4,
    "start_time": "2023-09-02T12:41:25.475Z"
   },
   {
    "duration": 1617,
    "start_time": "2023-09-02T12:41:57.671Z"
   },
   {
    "duration": 5,
    "start_time": "2023-09-02T12:43:16.626Z"
   },
   {
    "duration": 1484,
    "start_time": "2023-09-02T12:43:17.749Z"
   },
   {
    "duration": 1479,
    "start_time": "2023-09-02T12:43:55.628Z"
   },
   {
    "duration": 5,
    "start_time": "2023-09-02T12:45:39.419Z"
   },
   {
    "duration": 1446,
    "start_time": "2023-09-02T12:45:42.891Z"
   },
   {
    "duration": 1513,
    "start_time": "2023-09-02T12:46:28.467Z"
   },
   {
    "duration": 1479,
    "start_time": "2023-09-02T12:46:33.765Z"
   },
   {
    "duration": 1542,
    "start_time": "2023-09-02T12:46:40.230Z"
   },
   {
    "duration": 1495,
    "start_time": "2023-09-02T12:46:49.727Z"
   },
   {
    "duration": 1436,
    "start_time": "2023-09-02T12:46:59.661Z"
   },
   {
    "duration": 4,
    "start_time": "2023-09-02T12:47:01.100Z"
   },
   {
    "duration": 690,
    "start_time": "2023-09-02T12:47:01.106Z"
   },
   {
    "duration": 5,
    "start_time": "2023-09-02T12:47:01.799Z"
   },
   {
    "duration": 411,
    "start_time": "2023-09-02T12:47:01.806Z"
   },
   {
    "duration": 71,
    "start_time": "2023-09-02T12:47:02.219Z"
   },
   {
    "duration": 82,
    "start_time": "2023-09-02T12:47:02.292Z"
   },
   {
    "duration": 74,
    "start_time": "2023-09-02T12:47:02.377Z"
   },
   {
    "duration": 123,
    "start_time": "2023-09-02T12:47:02.452Z"
   },
   {
    "duration": 196,
    "start_time": "2023-09-02T12:47:02.581Z"
   },
   {
    "duration": 4,
    "start_time": "2023-09-02T12:47:02.779Z"
   },
   {
    "duration": 81,
    "start_time": "2023-09-02T12:47:02.787Z"
   },
   {
    "duration": 104,
    "start_time": "2023-09-02T12:47:02.870Z"
   },
   {
    "duration": 4,
    "start_time": "2023-09-02T12:47:02.977Z"
   },
   {
    "duration": 1594,
    "start_time": "2023-09-02T12:47:02.984Z"
   },
   {
    "duration": 6,
    "start_time": "2023-09-02T12:47:04.581Z"
   },
   {
    "duration": 1597,
    "start_time": "2023-09-02T12:47:04.589Z"
   },
   {
    "duration": 6,
    "start_time": "2023-09-02T12:47:06.188Z"
   },
   {
    "duration": 1549,
    "start_time": "2023-09-02T12:47:06.195Z"
   },
   {
    "duration": 5300,
    "start_time": "2023-09-02T12:47:07.746Z"
   },
   {
    "duration": 23,
    "start_time": "2023-09-02T12:47:13.050Z"
   },
   {
    "duration": 1672,
    "start_time": "2023-09-02T12:47:53.017Z"
   },
   {
    "duration": 4,
    "start_time": "2023-09-02T14:34:33.482Z"
   },
   {
    "duration": 117,
    "start_time": "2023-09-02T14:34:43.414Z"
   },
   {
    "duration": 1572,
    "start_time": "2023-09-02T14:35:04.650Z"
   },
   {
    "duration": 2117,
    "start_time": "2023-09-02T14:38:04.013Z"
   },
   {
    "duration": 51,
    "start_time": "2023-09-02T16:20:03.884Z"
   },
   {
    "duration": 1209,
    "start_time": "2023-09-02T16:20:10.031Z"
   },
   {
    "duration": 3,
    "start_time": "2023-09-02T16:20:11.242Z"
   },
   {
    "duration": 825,
    "start_time": "2023-09-02T16:20:11.247Z"
   },
   {
    "duration": 3,
    "start_time": "2023-09-02T16:20:12.074Z"
   },
   {
    "duration": 277,
    "start_time": "2023-09-02T16:20:12.079Z"
   },
   {
    "duration": 62,
    "start_time": "2023-09-02T16:20:12.357Z"
   },
   {
    "duration": 50,
    "start_time": "2023-09-02T16:20:12.421Z"
   },
   {
    "duration": 60,
    "start_time": "2023-09-02T16:20:12.473Z"
   },
   {
    "duration": 191,
    "start_time": "2023-09-02T16:20:12.538Z"
   },
   {
    "duration": 198,
    "start_time": "2023-09-02T16:20:12.733Z"
   },
   {
    "duration": 8,
    "start_time": "2023-09-02T16:20:13.011Z"
   },
   {
    "duration": 4,
    "start_time": "2023-09-02T16:20:13.110Z"
   },
   {
    "duration": 30,
    "start_time": "2023-09-02T16:20:13.116Z"
   },
   {
    "duration": 19,
    "start_time": "2023-09-02T16:20:13.147Z"
   },
   {
    "duration": 1440,
    "start_time": "2023-09-02T16:20:13.168Z"
   },
   {
    "duration": 4,
    "start_time": "2023-09-02T16:20:14.610Z"
   },
   {
    "duration": 1430,
    "start_time": "2023-09-02T16:20:14.616Z"
   },
   {
    "duration": 1375,
    "start_time": "2023-09-02T16:20:16.048Z"
   },
   {
    "duration": 1403,
    "start_time": "2023-09-02T16:20:17.425Z"
   },
   {
    "duration": 1252,
    "start_time": "2023-09-02T16:20:34.708Z"
   },
   {
    "duration": 2,
    "start_time": "2023-09-02T16:20:35.962Z"
   },
   {
    "duration": 441,
    "start_time": "2023-09-02T16:20:35.966Z"
   },
   {
    "duration": 6,
    "start_time": "2023-09-02T16:20:36.410Z"
   },
   {
    "duration": 310,
    "start_time": "2023-09-02T16:20:36.419Z"
   },
   {
    "duration": 42,
    "start_time": "2023-09-02T16:20:36.730Z"
   },
   {
    "duration": 72,
    "start_time": "2023-09-02T16:20:36.774Z"
   },
   {
    "duration": 163,
    "start_time": "2023-09-02T16:20:36.848Z"
   },
   {
    "duration": 35,
    "start_time": "2023-09-02T16:20:37.014Z"
   },
   {
    "duration": 178,
    "start_time": "2023-09-02T16:20:37.132Z"
   },
   {
    "duration": 4,
    "start_time": "2023-09-02T16:20:37.313Z"
   },
   {
    "duration": 6,
    "start_time": "2023-09-02T16:20:37.321Z"
   },
   {
    "duration": 23,
    "start_time": "2023-09-02T16:20:37.411Z"
   },
   {
    "duration": 3,
    "start_time": "2023-09-02T16:20:37.436Z"
   },
   {
    "duration": 1634,
    "start_time": "2023-09-02T16:20:37.441Z"
   },
   {
    "duration": 3,
    "start_time": "2023-09-02T16:20:39.077Z"
   },
   {
    "duration": 1355,
    "start_time": "2023-09-02T16:20:39.082Z"
   },
   {
    "duration": 1386,
    "start_time": "2023-09-02T16:20:40.439Z"
   },
   {
    "duration": 1464,
    "start_time": "2023-09-02T16:20:41.827Z"
   },
   {
    "duration": 1382,
    "start_time": "2023-09-02T16:21:09.984Z"
   },
   {
    "duration": 1547,
    "start_time": "2023-09-02T16:21:30.101Z"
   },
   {
    "duration": 1511,
    "start_time": "2023-09-02T16:21:51.392Z"
   },
   {
    "duration": 1401,
    "start_time": "2023-09-02T16:23:09.738Z"
   },
   {
    "duration": 1403,
    "start_time": "2023-09-02T16:23:15.345Z"
   },
   {
    "duration": 1426,
    "start_time": "2023-09-02T16:23:25.984Z"
   },
   {
    "duration": 1426,
    "start_time": "2023-09-02T16:23:59.818Z"
   },
   {
    "duration": 1413,
    "start_time": "2023-09-02T16:24:26.610Z"
   },
   {
    "duration": 1519,
    "start_time": "2023-09-02T16:24:45.824Z"
   },
   {
    "duration": 1580,
    "start_time": "2023-09-02T16:25:00.628Z"
   },
   {
    "duration": 1368,
    "start_time": "2023-09-02T16:25:09.815Z"
   },
   {
    "duration": 1380,
    "start_time": "2023-09-02T16:25:28.114Z"
   },
   {
    "duration": 1425,
    "start_time": "2023-09-02T16:25:53.848Z"
   },
   {
    "duration": 1144,
    "start_time": "2023-09-02T16:26:06.680Z"
   },
   {
    "duration": 4,
    "start_time": "2023-09-02T16:26:07.826Z"
   },
   {
    "duration": 409,
    "start_time": "2023-09-02T16:26:07.831Z"
   },
   {
    "duration": 4,
    "start_time": "2023-09-02T16:26:08.242Z"
   },
   {
    "duration": 277,
    "start_time": "2023-09-02T16:26:08.247Z"
   },
   {
    "duration": 41,
    "start_time": "2023-09-02T16:26:08.525Z"
   },
   {
    "duration": 63,
    "start_time": "2023-09-02T16:26:08.568Z"
   },
   {
    "duration": 79,
    "start_time": "2023-09-02T16:26:08.633Z"
   },
   {
    "duration": 126,
    "start_time": "2023-09-02T16:26:08.714Z"
   },
   {
    "duration": 182,
    "start_time": "2023-09-02T16:26:08.844Z"
   },
   {
    "duration": 85,
    "start_time": "2023-09-02T16:26:09.028Z"
   },
   {
    "duration": 100,
    "start_time": "2023-09-02T16:26:09.116Z"
   },
   {
    "duration": 37,
    "start_time": "2023-09-02T16:26:09.218Z"
   },
   {
    "duration": 4,
    "start_time": "2023-09-02T16:26:09.257Z"
   },
   {
    "duration": 1402,
    "start_time": "2023-09-02T16:26:09.263Z"
   },
   {
    "duration": 4,
    "start_time": "2023-09-02T16:26:10.667Z"
   },
   {
    "duration": 1407,
    "start_time": "2023-09-02T16:26:10.673Z"
   },
   {
    "duration": 1483,
    "start_time": "2023-09-02T16:26:12.082Z"
   },
   {
    "duration": 1396,
    "start_time": "2023-09-02T16:26:13.567Z"
   },
   {
    "duration": 1196,
    "start_time": "2023-09-02T16:26:26.113Z"
   },
   {
    "duration": 3,
    "start_time": "2023-09-02T16:26:27.311Z"
   },
   {
    "duration": 406,
    "start_time": "2023-09-02T16:26:27.315Z"
   },
   {
    "duration": 3,
    "start_time": "2023-09-02T16:26:27.723Z"
   },
   {
    "duration": 271,
    "start_time": "2023-09-02T16:26:27.728Z"
   },
   {
    "duration": 47,
    "start_time": "2023-09-02T16:26:28.001Z"
   },
   {
    "duration": 69,
    "start_time": "2023-09-02T16:26:28.050Z"
   },
   {
    "duration": 33,
    "start_time": "2023-09-02T16:26:28.122Z"
   },
   {
    "duration": 172,
    "start_time": "2023-09-02T16:26:28.156Z"
   },
   {
    "duration": 201,
    "start_time": "2023-09-02T16:26:28.331Z"
   },
   {
    "duration": 75,
    "start_time": "2023-09-02T16:26:28.535Z"
   },
   {
    "duration": 125,
    "start_time": "2023-09-02T16:26:28.613Z"
   },
   {
    "duration": 46,
    "start_time": "2023-09-02T16:26:28.740Z"
   },
   {
    "duration": 15,
    "start_time": "2023-09-02T16:26:28.789Z"
   },
   {
    "duration": 1406,
    "start_time": "2023-09-02T16:26:28.806Z"
   },
   {
    "duration": 4,
    "start_time": "2023-09-02T16:26:30.214Z"
   },
   {
    "duration": 1457,
    "start_time": "2023-09-02T16:26:30.220Z"
   },
   {
    "duration": 1482,
    "start_time": "2023-09-02T16:26:31.679Z"
   },
   {
    "duration": 1339,
    "start_time": "2023-09-02T16:26:33.163Z"
   },
   {
    "duration": 50,
    "start_time": "2023-09-03T13:49:09.354Z"
   },
   {
    "duration": 1073,
    "start_time": "2023-09-03T13:49:32.082Z"
   },
   {
    "duration": 2,
    "start_time": "2023-09-03T13:49:33.158Z"
   },
   {
    "duration": 1652,
    "start_time": "2023-09-03T13:49:33.162Z"
   },
   {
    "duration": 4,
    "start_time": "2023-09-03T13:49:34.816Z"
   },
   {
    "duration": 269,
    "start_time": "2023-09-03T13:49:34.821Z"
   },
   {
    "duration": 35,
    "start_time": "2023-09-03T13:49:35.092Z"
   },
   {
    "duration": 56,
    "start_time": "2023-09-03T13:49:35.129Z"
   },
   {
    "duration": 79,
    "start_time": "2023-09-03T13:49:35.187Z"
   },
   {
    "duration": 115,
    "start_time": "2023-09-03T13:49:35.268Z"
   },
   {
    "duration": 115,
    "start_time": "2023-09-03T13:49:35.458Z"
   },
   {
    "duration": 80,
    "start_time": "2023-09-03T13:49:35.575Z"
   },
   {
    "duration": 13,
    "start_time": "2023-09-03T13:49:35.658Z"
   },
   {
    "duration": 34,
    "start_time": "2023-09-03T13:49:35.757Z"
   },
   {
    "duration": 21,
    "start_time": "2023-09-03T13:49:35.793Z"
   },
   {
    "duration": 10,
    "start_time": "2023-09-03T13:49:35.816Z"
   },
   {
    "duration": 1317,
    "start_time": "2023-09-03T13:49:35.828Z"
   },
   {
    "duration": 1388,
    "start_time": "2023-09-03T13:49:37.147Z"
   },
   {
    "duration": 1416,
    "start_time": "2023-09-03T13:49:38.537Z"
   }
  ],
  "kernelspec": {
   "display_name": "Python 3 (ipykernel)",
   "language": "python",
   "name": "python3"
  },
  "language_info": {
   "codemirror_mode": {
    "name": "ipython",
    "version": 3
   },
   "file_extension": ".py",
   "mimetype": "text/x-python",
   "name": "python",
   "nbconvert_exporter": "python",
   "pygments_lexer": "ipython3",
   "version": "3.10.13"
  },
  "toc": {
   "base_numbering": 1,
   "nav_menu": {},
   "number_sections": true,
   "sideBar": true,
   "skip_h1_title": true,
   "title_cell": "Table of Contents",
   "title_sidebar": "Contents",
   "toc_cell": false,
   "toc_position": {},
   "toc_section_display": true,
   "toc_window_display": false
  }
 },
 "nbformat": 4,
 "nbformat_minor": 2
}
