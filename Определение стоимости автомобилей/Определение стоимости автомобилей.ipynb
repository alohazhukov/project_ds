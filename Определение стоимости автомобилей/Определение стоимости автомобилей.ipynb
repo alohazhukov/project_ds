{
 "cells": [
  {
   "cell_type": "markdown",
   "metadata": {},
   "source": [
    "# Определение стоимости автомобилей"
   ]
  },
  {
   "cell_type": "markdown",
   "metadata": {},
   "source": [
    "Сервис по продаже автомобилей с пробегом «Не бит, не крашен» разрабатывает приложение для привлечения новых клиентов. В нём можно быстро узнать рыночную стоимость своего автомобиля. В вашем распоряжении исторические данные: технические характеристики, комплектации и цены автомобилей. Вам нужно построить модель для определения стоимости. \n",
    "\n",
    "Заказчику важны:\n",
    "\n",
    "- качество предсказания;\n",
    "- скорость предсказания;\n",
    "- время обучения.\n",
    "\n",
    "\n",
    "__Признаки__\n",
    "- DateCrawled — дата скачивания анкеты из базы\n",
    "- VehicleType — тип автомобильного кузова\n",
    "- RegistrationYear — год регистрации автомобиля\n",
    "- Gearbox — тип коробки передач\n",
    "- Power — мощность (л. с.)\n",
    "- Model — модель автомобиля\n",
    "- Kilometer — пробег (км)\n",
    "- RegistrationMonth — месяц регистрации автомобиля\n",
    "- FuelType — тип топлива\n",
    "- Brand — марка автомобиля\n",
    "- Repaired — была машина в ремонте или нет\n",
    "- DateCreated — дата создания анкеты\n",
    "- NumberOfPictures — количество фотографий автомобиля\n",
    "- PostalCode — почтовый индекс владельца анкеты (пользователя)\n",
    "- LastSeen — дата последней активности пользователя\n",
    "\n",
    "__Целевой признак__\n",
    "- Price — цена (евро)"
   ]
  },
  {
   "cell_type": "markdown",
   "metadata": {},
   "source": [
    "## Подготовка данных\n",
    "\n",
    "Заполним пропущенные значения и обработаем аномалии в столбцах. \n",
    "\n",
    "Если среди признаков имеются неинформативные, удалим их."
   ]
  },
  {
   "cell_type": "code",
   "execution_count": 1,
   "metadata": {},
   "outputs": [],
   "source": [
    "# импортируем нужные нам библиотеки\n",
    "\n",
    "import pandas as pd\n",
    "import numpy as np\n",
    "\n",
    "import time\n",
    "import warnings\n",
    "\n",
    "from sklearn.linear_model import LinearRegression\n",
    "from sklearn.tree import DecisionTreeRegressor\n",
    "from lightgbm import LGBMRegressor\n",
    "from catboost import CatBoostRegressor\n",
    "\n",
    "from sklearn.metrics import mean_squared_error\n",
    "from sklearn.model_selection import train_test_split, GridSearchCV\n",
    "from sklearn.preprocessing import StandardScaler"
   ]
  },
  {
   "cell_type": "code",
   "execution_count": 2,
   "metadata": {},
   "outputs": [],
   "source": [
    "# отключим некритические предупреждения в коде\n",
    "\n",
    "warnings.filterwarnings(\"ignore\")"
   ]
  },
  {
   "cell_type": "code",
   "execution_count": 3,
   "metadata": {},
   "outputs": [],
   "source": [
    "# загрузим наш файл 'autos.csv'\n",
    "\n",
    "try:\n",
    "    data = pd.read_csv('/Users/alex/Downloads/autos.csv')\n",
    "except:\n",
    "    data = pd.read_csv('/datasets/autos.csv')"
   ]
  },
  {
   "cell_type": "code",
   "execution_count": 4,
   "metadata": {},
   "outputs": [],
   "source": [
    "# определим и присвоим глобальную переменную для дальнейшего использования\n",
    "\n",
    "STATE = np.random.RandomState(42)"
   ]
  },
  {
   "cell_type": "code",
   "execution_count": 5,
   "metadata": {},
   "outputs": [
    {
     "data": {
      "text/html": [
       "<div>\n",
       "<style scoped>\n",
       "    .dataframe tbody tr th:only-of-type {\n",
       "        vertical-align: middle;\n",
       "    }\n",
       "\n",
       "    .dataframe tbody tr th {\n",
       "        vertical-align: top;\n",
       "    }\n",
       "\n",
       "    .dataframe thead th {\n",
       "        text-align: right;\n",
       "    }\n",
       "</style>\n",
       "<table border=\"1\" class=\"dataframe\">\n",
       "  <thead>\n",
       "    <tr style=\"text-align: right;\">\n",
       "      <th></th>\n",
       "      <th>DateCrawled</th>\n",
       "      <th>Price</th>\n",
       "      <th>VehicleType</th>\n",
       "      <th>RegistrationYear</th>\n",
       "      <th>Gearbox</th>\n",
       "      <th>Power</th>\n",
       "      <th>Model</th>\n",
       "      <th>Kilometer</th>\n",
       "      <th>RegistrationMonth</th>\n",
       "      <th>FuelType</th>\n",
       "      <th>Brand</th>\n",
       "      <th>Repaired</th>\n",
       "      <th>DateCreated</th>\n",
       "      <th>NumberOfPictures</th>\n",
       "      <th>PostalCode</th>\n",
       "      <th>LastSeen</th>\n",
       "    </tr>\n",
       "  </thead>\n",
       "  <tbody>\n",
       "    <tr>\n",
       "      <th>0</th>\n",
       "      <td>2016-03-24 11:52:17</td>\n",
       "      <td>480</td>\n",
       "      <td>NaN</td>\n",
       "      <td>1993</td>\n",
       "      <td>manual</td>\n",
       "      <td>0</td>\n",
       "      <td>golf</td>\n",
       "      <td>150000</td>\n",
       "      <td>0</td>\n",
       "      <td>petrol</td>\n",
       "      <td>volkswagen</td>\n",
       "      <td>NaN</td>\n",
       "      <td>2016-03-24 00:00:00</td>\n",
       "      <td>0</td>\n",
       "      <td>70435</td>\n",
       "      <td>2016-04-07 03:16:57</td>\n",
       "    </tr>\n",
       "    <tr>\n",
       "      <th>1</th>\n",
       "      <td>2016-03-24 10:58:45</td>\n",
       "      <td>18300</td>\n",
       "      <td>coupe</td>\n",
       "      <td>2011</td>\n",
       "      <td>manual</td>\n",
       "      <td>190</td>\n",
       "      <td>NaN</td>\n",
       "      <td>125000</td>\n",
       "      <td>5</td>\n",
       "      <td>gasoline</td>\n",
       "      <td>audi</td>\n",
       "      <td>yes</td>\n",
       "      <td>2016-03-24 00:00:00</td>\n",
       "      <td>0</td>\n",
       "      <td>66954</td>\n",
       "      <td>2016-04-07 01:46:50</td>\n",
       "    </tr>\n",
       "    <tr>\n",
       "      <th>2</th>\n",
       "      <td>2016-03-14 12:52:21</td>\n",
       "      <td>9800</td>\n",
       "      <td>suv</td>\n",
       "      <td>2004</td>\n",
       "      <td>auto</td>\n",
       "      <td>163</td>\n",
       "      <td>grand</td>\n",
       "      <td>125000</td>\n",
       "      <td>8</td>\n",
       "      <td>gasoline</td>\n",
       "      <td>jeep</td>\n",
       "      <td>NaN</td>\n",
       "      <td>2016-03-14 00:00:00</td>\n",
       "      <td>0</td>\n",
       "      <td>90480</td>\n",
       "      <td>2016-04-05 12:47:46</td>\n",
       "    </tr>\n",
       "    <tr>\n",
       "      <th>3</th>\n",
       "      <td>2016-03-17 16:54:04</td>\n",
       "      <td>1500</td>\n",
       "      <td>small</td>\n",
       "      <td>2001</td>\n",
       "      <td>manual</td>\n",
       "      <td>75</td>\n",
       "      <td>golf</td>\n",
       "      <td>150000</td>\n",
       "      <td>6</td>\n",
       "      <td>petrol</td>\n",
       "      <td>volkswagen</td>\n",
       "      <td>no</td>\n",
       "      <td>2016-03-17 00:00:00</td>\n",
       "      <td>0</td>\n",
       "      <td>91074</td>\n",
       "      <td>2016-03-17 17:40:17</td>\n",
       "    </tr>\n",
       "    <tr>\n",
       "      <th>4</th>\n",
       "      <td>2016-03-31 17:25:20</td>\n",
       "      <td>3600</td>\n",
       "      <td>small</td>\n",
       "      <td>2008</td>\n",
       "      <td>manual</td>\n",
       "      <td>69</td>\n",
       "      <td>fabia</td>\n",
       "      <td>90000</td>\n",
       "      <td>7</td>\n",
       "      <td>gasoline</td>\n",
       "      <td>skoda</td>\n",
       "      <td>no</td>\n",
       "      <td>2016-03-31 00:00:00</td>\n",
       "      <td>0</td>\n",
       "      <td>60437</td>\n",
       "      <td>2016-04-06 10:17:21</td>\n",
       "    </tr>\n",
       "  </tbody>\n",
       "</table>\n",
       "</div>"
      ],
      "text/plain": [
       "           DateCrawled  Price VehicleType  RegistrationYear Gearbox  Power  \\\n",
       "0  2016-03-24 11:52:17    480         NaN              1993  manual      0   \n",
       "1  2016-03-24 10:58:45  18300       coupe              2011  manual    190   \n",
       "2  2016-03-14 12:52:21   9800         suv              2004    auto    163   \n",
       "3  2016-03-17 16:54:04   1500       small              2001  manual     75   \n",
       "4  2016-03-31 17:25:20   3600       small              2008  manual     69   \n",
       "\n",
       "   Model  Kilometer  RegistrationMonth  FuelType       Brand Repaired  \\\n",
       "0   golf     150000                  0    petrol  volkswagen      NaN   \n",
       "1    NaN     125000                  5  gasoline        audi      yes   \n",
       "2  grand     125000                  8  gasoline        jeep      NaN   \n",
       "3   golf     150000                  6    petrol  volkswagen       no   \n",
       "4  fabia      90000                  7  gasoline       skoda       no   \n",
       "\n",
       "           DateCreated  NumberOfPictures  PostalCode             LastSeen  \n",
       "0  2016-03-24 00:00:00                 0       70435  2016-04-07 03:16:57  \n",
       "1  2016-03-24 00:00:00                 0       66954  2016-04-07 01:46:50  \n",
       "2  2016-03-14 00:00:00                 0       90480  2016-04-05 12:47:46  \n",
       "3  2016-03-17 00:00:00                 0       91074  2016-03-17 17:40:17  \n",
       "4  2016-03-31 00:00:00                 0       60437  2016-04-06 10:17:21  "
      ]
     },
     "metadata": {},
     "output_type": "display_data"
    },
    {
     "data": {
      "text/plain": [
       "(354369, 16)"
      ]
     },
     "metadata": {},
     "output_type": "display_data"
    }
   ],
   "source": [
    "# выведим первые 5 строк\n",
    "\n",
    "display(data.head())\n",
    "display(data.shape)"
   ]
  },
  {
   "cell_type": "code",
   "execution_count": 6,
   "metadata": {},
   "outputs": [],
   "source": [
    "# приведем столбцы к нижнему/привычному регистру\n",
    "\n",
    "data.columns = (data.columns\n",
    "                .str.replace('(?<=[a-z])(?=[A-Z])', '_', regex = True)\n",
    "                .str.lower()\n",
    "               )"
   ]
  },
  {
   "cell_type": "code",
   "execution_count": 7,
   "metadata": {},
   "outputs": [
    {
     "data": {
      "text/html": [
       "<div>\n",
       "<style scoped>\n",
       "    .dataframe tbody tr th:only-of-type {\n",
       "        vertical-align: middle;\n",
       "    }\n",
       "\n",
       "    .dataframe tbody tr th {\n",
       "        vertical-align: top;\n",
       "    }\n",
       "\n",
       "    .dataframe thead th {\n",
       "        text-align: right;\n",
       "    }\n",
       "</style>\n",
       "<table border=\"1\" class=\"dataframe\">\n",
       "  <thead>\n",
       "    <tr style=\"text-align: right;\">\n",
       "      <th></th>\n",
       "      <th>date_crawled</th>\n",
       "      <th>price</th>\n",
       "      <th>vehicle_type</th>\n",
       "      <th>registration_year</th>\n",
       "      <th>gearbox</th>\n",
       "      <th>power</th>\n",
       "      <th>model</th>\n",
       "      <th>kilometer</th>\n",
       "      <th>registration_month</th>\n",
       "      <th>fuel_type</th>\n",
       "      <th>brand</th>\n",
       "      <th>repaired</th>\n",
       "      <th>date_created</th>\n",
       "      <th>number_of_pictures</th>\n",
       "      <th>postal_code</th>\n",
       "      <th>last_seen</th>\n",
       "    </tr>\n",
       "  </thead>\n",
       "  <tbody>\n",
       "    <tr>\n",
       "      <th>0</th>\n",
       "      <td>2016-03-24 11:52:17</td>\n",
       "      <td>480</td>\n",
       "      <td>NaN</td>\n",
       "      <td>1993</td>\n",
       "      <td>manual</td>\n",
       "      <td>0</td>\n",
       "      <td>golf</td>\n",
       "      <td>150000</td>\n",
       "      <td>0</td>\n",
       "      <td>petrol</td>\n",
       "      <td>volkswagen</td>\n",
       "      <td>NaN</td>\n",
       "      <td>2016-03-24 00:00:00</td>\n",
       "      <td>0</td>\n",
       "      <td>70435</td>\n",
       "      <td>2016-04-07 03:16:57</td>\n",
       "    </tr>\n",
       "    <tr>\n",
       "      <th>1</th>\n",
       "      <td>2016-03-24 10:58:45</td>\n",
       "      <td>18300</td>\n",
       "      <td>coupe</td>\n",
       "      <td>2011</td>\n",
       "      <td>manual</td>\n",
       "      <td>190</td>\n",
       "      <td>NaN</td>\n",
       "      <td>125000</td>\n",
       "      <td>5</td>\n",
       "      <td>gasoline</td>\n",
       "      <td>audi</td>\n",
       "      <td>yes</td>\n",
       "      <td>2016-03-24 00:00:00</td>\n",
       "      <td>0</td>\n",
       "      <td>66954</td>\n",
       "      <td>2016-04-07 01:46:50</td>\n",
       "    </tr>\n",
       "    <tr>\n",
       "      <th>2</th>\n",
       "      <td>2016-03-14 12:52:21</td>\n",
       "      <td>9800</td>\n",
       "      <td>suv</td>\n",
       "      <td>2004</td>\n",
       "      <td>auto</td>\n",
       "      <td>163</td>\n",
       "      <td>grand</td>\n",
       "      <td>125000</td>\n",
       "      <td>8</td>\n",
       "      <td>gasoline</td>\n",
       "      <td>jeep</td>\n",
       "      <td>NaN</td>\n",
       "      <td>2016-03-14 00:00:00</td>\n",
       "      <td>0</td>\n",
       "      <td>90480</td>\n",
       "      <td>2016-04-05 12:47:46</td>\n",
       "    </tr>\n",
       "    <tr>\n",
       "      <th>3</th>\n",
       "      <td>2016-03-17 16:54:04</td>\n",
       "      <td>1500</td>\n",
       "      <td>small</td>\n",
       "      <td>2001</td>\n",
       "      <td>manual</td>\n",
       "      <td>75</td>\n",
       "      <td>golf</td>\n",
       "      <td>150000</td>\n",
       "      <td>6</td>\n",
       "      <td>petrol</td>\n",
       "      <td>volkswagen</td>\n",
       "      <td>no</td>\n",
       "      <td>2016-03-17 00:00:00</td>\n",
       "      <td>0</td>\n",
       "      <td>91074</td>\n",
       "      <td>2016-03-17 17:40:17</td>\n",
       "    </tr>\n",
       "    <tr>\n",
       "      <th>4</th>\n",
       "      <td>2016-03-31 17:25:20</td>\n",
       "      <td>3600</td>\n",
       "      <td>small</td>\n",
       "      <td>2008</td>\n",
       "      <td>manual</td>\n",
       "      <td>69</td>\n",
       "      <td>fabia</td>\n",
       "      <td>90000</td>\n",
       "      <td>7</td>\n",
       "      <td>gasoline</td>\n",
       "      <td>skoda</td>\n",
       "      <td>no</td>\n",
       "      <td>2016-03-31 00:00:00</td>\n",
       "      <td>0</td>\n",
       "      <td>60437</td>\n",
       "      <td>2016-04-06 10:17:21</td>\n",
       "    </tr>\n",
       "  </tbody>\n",
       "</table>\n",
       "</div>"
      ],
      "text/plain": [
       "          date_crawled  price vehicle_type  registration_year gearbox  power  \\\n",
       "0  2016-03-24 11:52:17    480          NaN               1993  manual      0   \n",
       "1  2016-03-24 10:58:45  18300        coupe               2011  manual    190   \n",
       "2  2016-03-14 12:52:21   9800          suv               2004    auto    163   \n",
       "3  2016-03-17 16:54:04   1500        small               2001  manual     75   \n",
       "4  2016-03-31 17:25:20   3600        small               2008  manual     69   \n",
       "\n",
       "   model  kilometer  registration_month fuel_type       brand repaired  \\\n",
       "0   golf     150000                   0    petrol  volkswagen      NaN   \n",
       "1    NaN     125000                   5  gasoline        audi      yes   \n",
       "2  grand     125000                   8  gasoline        jeep      NaN   \n",
       "3   golf     150000                   6    petrol  volkswagen       no   \n",
       "4  fabia      90000                   7  gasoline       skoda       no   \n",
       "\n",
       "          date_created  number_of_pictures  postal_code            last_seen  \n",
       "0  2016-03-24 00:00:00                   0        70435  2016-04-07 03:16:57  \n",
       "1  2016-03-24 00:00:00                   0        66954  2016-04-07 01:46:50  \n",
       "2  2016-03-14 00:00:00                   0        90480  2016-04-05 12:47:46  \n",
       "3  2016-03-17 00:00:00                   0        91074  2016-03-17 17:40:17  \n",
       "4  2016-03-31 00:00:00                   0        60437  2016-04-06 10:17:21  "
      ]
     },
     "execution_count": 7,
     "metadata": {},
     "output_type": "execute_result"
    }
   ],
   "source": [
    "data.head()"
   ]
  },
  {
   "cell_type": "code",
   "execution_count": 8,
   "metadata": {},
   "outputs": [
    {
     "name": "stdout",
     "output_type": "stream",
     "text": [
      "<class 'pandas.core.frame.DataFrame'>\n",
      "RangeIndex: 354369 entries, 0 to 354368\n",
      "Data columns (total 16 columns):\n",
      " #   Column              Non-Null Count   Dtype \n",
      "---  ------              --------------   ----- \n",
      " 0   date_crawled        354369 non-null  object\n",
      " 1   price               354369 non-null  int64 \n",
      " 2   vehicle_type        316879 non-null  object\n",
      " 3   registration_year   354369 non-null  int64 \n",
      " 4   gearbox             334536 non-null  object\n",
      " 5   power               354369 non-null  int64 \n",
      " 6   model               334664 non-null  object\n",
      " 7   kilometer           354369 non-null  int64 \n",
      " 8   registration_month  354369 non-null  int64 \n",
      " 9   fuel_type           321474 non-null  object\n",
      " 10  brand               354369 non-null  object\n",
      " 11  repaired            283215 non-null  object\n",
      " 12  date_created        354369 non-null  object\n",
      " 13  number_of_pictures  354369 non-null  int64 \n",
      " 14  postal_code         354369 non-null  int64 \n",
      " 15  last_seen           354369 non-null  object\n",
      "dtypes: int64(7), object(9)\n",
      "memory usage: 43.3+ MB\n"
     ]
    }
   ],
   "source": [
    "data.info()"
   ]
  },
  {
   "cell_type": "code",
   "execution_count": 9,
   "metadata": {},
   "outputs": [
    {
     "data": {
      "text/plain": [
       "4"
      ]
     },
     "execution_count": 9,
     "metadata": {},
     "output_type": "execute_result"
    }
   ],
   "source": [
    "# проверим наш дф на дубликаты\n",
    "\n",
    "data.duplicated().sum()"
   ]
  },
  {
   "cell_type": "code",
   "execution_count": 10,
   "metadata": {},
   "outputs": [
    {
     "data": {
      "text/plain": [
       "0"
      ]
     },
     "execution_count": 10,
     "metadata": {},
     "output_type": "execute_result"
    }
   ],
   "source": [
    "# удалим их\n",
    "\n",
    "data.drop_duplicates(inplace = True)\n",
    "data.duplicated().sum()"
   ]
  },
  {
   "cell_type": "code",
   "execution_count": 11,
   "metadata": {},
   "outputs": [
    {
     "data": {
      "text/plain": [
       "(354365, 16)"
      ]
     },
     "execution_count": 11,
     "metadata": {},
     "output_type": "execute_result"
    }
   ],
   "source": [
    "data.shape"
   ]
  },
  {
   "cell_type": "markdown",
   "metadata": {},
   "source": [
    "Рассмотрим наши данные поближе и выявим аномалии, начнем с registration_year"
   ]
  },
  {
   "cell_type": "code",
   "execution_count": 12,
   "metadata": {},
   "outputs": [
    {
     "data": {
      "text/plain": [
       "array([1000, 1001, 1039, 1111, 1200, 1234, 1253, 1255, 1300, 1400, 1500,\n",
       "       1600, 1602, 1688, 1800, 1910, 1915, 1919, 1920, 1923, 1925, 1927,\n",
       "       1928, 1929, 1930, 1931, 1932, 1933, 1934, 1935, 1936, 1937, 1938,\n",
       "       1940, 1941, 1942, 1943, 1944, 1945, 1946, 1947, 1948, 1949, 1950,\n",
       "       1951, 1952, 1953, 1954, 1955, 1956, 1957, 1958, 1959, 1960, 1961,\n",
       "       1962, 1963, 1964, 1965, 1966, 1967, 1968, 1969, 1970, 1971, 1972,\n",
       "       1973, 1974, 1975, 1976, 1977, 1978, 1979, 1980, 1981, 1982, 1983,\n",
       "       1984, 1985, 1986, 1987, 1988, 1989, 1990, 1991, 1992, 1993, 1994,\n",
       "       1995, 1996, 1997, 1998, 1999, 2000, 2001, 2002, 2003, 2004, 2005,\n",
       "       2006, 2007, 2008, 2009, 2010, 2011, 2012, 2013, 2014, 2015, 2016,\n",
       "       2017, 2018, 2019, 2066, 2200, 2222, 2290, 2500, 2800, 2900, 3000,\n",
       "       3200, 3500, 3700, 3800, 4000, 4100, 4500, 4800, 5000, 5300, 5555,\n",
       "       5600, 5900, 5911, 6000, 6500, 7000, 7100, 7500, 7800, 8000, 8200,\n",
       "       8455, 8500, 8888, 9000, 9229, 9450, 9996, 9999])"
      ]
     },
     "execution_count": 12,
     "metadata": {},
     "output_type": "execute_result"
    }
   ],
   "source": [
    "data['registration_year'].sort_values().unique()"
   ]
  },
  {
   "cell_type": "code",
   "execution_count": 13,
   "metadata": {},
   "outputs": [
    {
     "data": {
      "text/plain": [
       "'2016-04-07 14:36:58'"
      ]
     },
     "execution_count": 13,
     "metadata": {},
     "output_type": "execute_result"
    }
   ],
   "source": [
    "# последняя дата скачивания\n",
    "\n",
    "data['date_crawled'].max()"
   ]
  },
  {
   "cell_type": "markdown",
   "metadata": {},
   "source": [
    "Имеются явно аномальные значения такие как 8500, 9229 и т.д так и года близкие к нашей дате скачивания анкеты - 2016 год, что можно посчитать как анкеты из будущего, взлянем на них"
   ]
  },
  {
   "cell_type": "code",
   "execution_count": 14,
   "metadata": {},
   "outputs": [
    {
     "data": {
      "text/html": [
       "<div>\n",
       "<style scoped>\n",
       "    .dataframe tbody tr th:only-of-type {\n",
       "        vertical-align: middle;\n",
       "    }\n",
       "\n",
       "    .dataframe tbody tr th {\n",
       "        vertical-align: top;\n",
       "    }\n",
       "\n",
       "    .dataframe thead th {\n",
       "        text-align: right;\n",
       "    }\n",
       "</style>\n",
       "<table border=\"1\" class=\"dataframe\">\n",
       "  <thead>\n",
       "    <tr style=\"text-align: right;\">\n",
       "      <th></th>\n",
       "      <th>date_crawled</th>\n",
       "      <th>price</th>\n",
       "      <th>vehicle_type</th>\n",
       "      <th>registration_year</th>\n",
       "      <th>gearbox</th>\n",
       "      <th>power</th>\n",
       "      <th>model</th>\n",
       "      <th>kilometer</th>\n",
       "      <th>registration_month</th>\n",
       "      <th>fuel_type</th>\n",
       "      <th>brand</th>\n",
       "      <th>repaired</th>\n",
       "      <th>date_created</th>\n",
       "      <th>number_of_pictures</th>\n",
       "      <th>postal_code</th>\n",
       "      <th>last_seen</th>\n",
       "    </tr>\n",
       "  </thead>\n",
       "  <tbody>\n",
       "    <tr>\n",
       "      <th>22</th>\n",
       "      <td>2016-03-23 14:52:51</td>\n",
       "      <td>2900</td>\n",
       "      <td>NaN</td>\n",
       "      <td>2018</td>\n",
       "      <td>manual</td>\n",
       "      <td>90</td>\n",
       "      <td>meriva</td>\n",
       "      <td>150000</td>\n",
       "      <td>5</td>\n",
       "      <td>petrol</td>\n",
       "      <td>opel</td>\n",
       "      <td>no</td>\n",
       "      <td>2016-03-23 00:00:00</td>\n",
       "      <td>0</td>\n",
       "      <td>49716</td>\n",
       "      <td>2016-03-31 01:16:33</td>\n",
       "    </tr>\n",
       "    <tr>\n",
       "      <th>26</th>\n",
       "      <td>2016-03-10 19:38:18</td>\n",
       "      <td>5555</td>\n",
       "      <td>NaN</td>\n",
       "      <td>2017</td>\n",
       "      <td>manual</td>\n",
       "      <td>125</td>\n",
       "      <td>c4</td>\n",
       "      <td>125000</td>\n",
       "      <td>4</td>\n",
       "      <td>NaN</td>\n",
       "      <td>citroen</td>\n",
       "      <td>no</td>\n",
       "      <td>2016-03-10 00:00:00</td>\n",
       "      <td>0</td>\n",
       "      <td>31139</td>\n",
       "      <td>2016-03-16 09:16:46</td>\n",
       "    </tr>\n",
       "    <tr>\n",
       "      <th>48</th>\n",
       "      <td>2016-03-25 14:40:12</td>\n",
       "      <td>7750</td>\n",
       "      <td>NaN</td>\n",
       "      <td>2017</td>\n",
       "      <td>manual</td>\n",
       "      <td>80</td>\n",
       "      <td>golf</td>\n",
       "      <td>100000</td>\n",
       "      <td>1</td>\n",
       "      <td>petrol</td>\n",
       "      <td>volkswagen</td>\n",
       "      <td>NaN</td>\n",
       "      <td>2016-03-25 00:00:00</td>\n",
       "      <td>0</td>\n",
       "      <td>48499</td>\n",
       "      <td>2016-03-31 21:47:44</td>\n",
       "    </tr>\n",
       "    <tr>\n",
       "      <th>51</th>\n",
       "      <td>2016-03-07 18:57:08</td>\n",
       "      <td>2000</td>\n",
       "      <td>NaN</td>\n",
       "      <td>2017</td>\n",
       "      <td>manual</td>\n",
       "      <td>90</td>\n",
       "      <td>punto</td>\n",
       "      <td>150000</td>\n",
       "      <td>11</td>\n",
       "      <td>gasoline</td>\n",
       "      <td>fiat</td>\n",
       "      <td>yes</td>\n",
       "      <td>2016-03-07 00:00:00</td>\n",
       "      <td>0</td>\n",
       "      <td>66115</td>\n",
       "      <td>2016-03-07 18:57:08</td>\n",
       "    </tr>\n",
       "    <tr>\n",
       "      <th>57</th>\n",
       "      <td>2016-03-10 20:53:19</td>\n",
       "      <td>2399</td>\n",
       "      <td>NaN</td>\n",
       "      <td>2018</td>\n",
       "      <td>manual</td>\n",
       "      <td>64</td>\n",
       "      <td>other</td>\n",
       "      <td>125000</td>\n",
       "      <td>3</td>\n",
       "      <td>NaN</td>\n",
       "      <td>seat</td>\n",
       "      <td>no</td>\n",
       "      <td>2016-03-10 00:00:00</td>\n",
       "      <td>0</td>\n",
       "      <td>33397</td>\n",
       "      <td>2016-03-25 10:17:37</td>\n",
       "    </tr>\n",
       "    <tr>\n",
       "      <th>...</th>\n",
       "      <td>...</td>\n",
       "      <td>...</td>\n",
       "      <td>...</td>\n",
       "      <td>...</td>\n",
       "      <td>...</td>\n",
       "      <td>...</td>\n",
       "      <td>...</td>\n",
       "      <td>...</td>\n",
       "      <td>...</td>\n",
       "      <td>...</td>\n",
       "      <td>...</td>\n",
       "      <td>...</td>\n",
       "      <td>...</td>\n",
       "      <td>...</td>\n",
       "      <td>...</td>\n",
       "      <td>...</td>\n",
       "    </tr>\n",
       "    <tr>\n",
       "      <th>354112</th>\n",
       "      <td>2016-03-11 15:49:51</td>\n",
       "      <td>3600</td>\n",
       "      <td>NaN</td>\n",
       "      <td>2017</td>\n",
       "      <td>manual</td>\n",
       "      <td>86</td>\n",
       "      <td>transit</td>\n",
       "      <td>150000</td>\n",
       "      <td>5</td>\n",
       "      <td>gasoline</td>\n",
       "      <td>ford</td>\n",
       "      <td>NaN</td>\n",
       "      <td>2016-03-11 00:00:00</td>\n",
       "      <td>0</td>\n",
       "      <td>32339</td>\n",
       "      <td>2016-03-12 05:45:02</td>\n",
       "    </tr>\n",
       "    <tr>\n",
       "      <th>354140</th>\n",
       "      <td>2016-03-29 16:47:29</td>\n",
       "      <td>1000</td>\n",
       "      <td>NaN</td>\n",
       "      <td>2017</td>\n",
       "      <td>manual</td>\n",
       "      <td>101</td>\n",
       "      <td>a4</td>\n",
       "      <td>150000</td>\n",
       "      <td>9</td>\n",
       "      <td>NaN</td>\n",
       "      <td>audi</td>\n",
       "      <td>NaN</td>\n",
       "      <td>2016-03-29 00:00:00</td>\n",
       "      <td>0</td>\n",
       "      <td>38315</td>\n",
       "      <td>2016-04-06 02:44:27</td>\n",
       "    </tr>\n",
       "    <tr>\n",
       "      <th>354203</th>\n",
       "      <td>2016-03-17 00:56:26</td>\n",
       "      <td>2140</td>\n",
       "      <td>NaN</td>\n",
       "      <td>2018</td>\n",
       "      <td>manual</td>\n",
       "      <td>80</td>\n",
       "      <td>fiesta</td>\n",
       "      <td>150000</td>\n",
       "      <td>6</td>\n",
       "      <td>NaN</td>\n",
       "      <td>ford</td>\n",
       "      <td>no</td>\n",
       "      <td>2016-03-17 00:00:00</td>\n",
       "      <td>0</td>\n",
       "      <td>44866</td>\n",
       "      <td>2016-03-29 15:45:04</td>\n",
       "    </tr>\n",
       "    <tr>\n",
       "      <th>354253</th>\n",
       "      <td>2016-03-25 09:37:59</td>\n",
       "      <td>1250</td>\n",
       "      <td>NaN</td>\n",
       "      <td>2018</td>\n",
       "      <td>NaN</td>\n",
       "      <td>0</td>\n",
       "      <td>corsa</td>\n",
       "      <td>150000</td>\n",
       "      <td>0</td>\n",
       "      <td>petrol</td>\n",
       "      <td>opel</td>\n",
       "      <td>NaN</td>\n",
       "      <td>2016-03-25 00:00:00</td>\n",
       "      <td>0</td>\n",
       "      <td>45527</td>\n",
       "      <td>2016-04-06 07:46:13</td>\n",
       "    </tr>\n",
       "    <tr>\n",
       "      <th>354289</th>\n",
       "      <td>2016-03-05 14:55:29</td>\n",
       "      <td>5000</td>\n",
       "      <td>NaN</td>\n",
       "      <td>2017</td>\n",
       "      <td>manual</td>\n",
       "      <td>120</td>\n",
       "      <td>other</td>\n",
       "      <td>150000</td>\n",
       "      <td>7</td>\n",
       "      <td>NaN</td>\n",
       "      <td>citroen</td>\n",
       "      <td>yes</td>\n",
       "      <td>2016-03-05 00:00:00</td>\n",
       "      <td>0</td>\n",
       "      <td>15518</td>\n",
       "      <td>2016-04-05 11:48:09</td>\n",
       "    </tr>\n",
       "  </tbody>\n",
       "</table>\n",
       "<p>14530 rows × 16 columns</p>\n",
       "</div>"
      ],
      "text/plain": [
       "               date_crawled  price vehicle_type  registration_year gearbox  \\\n",
       "22      2016-03-23 14:52:51   2900          NaN               2018  manual   \n",
       "26      2016-03-10 19:38:18   5555          NaN               2017  manual   \n",
       "48      2016-03-25 14:40:12   7750          NaN               2017  manual   \n",
       "51      2016-03-07 18:57:08   2000          NaN               2017  manual   \n",
       "57      2016-03-10 20:53:19   2399          NaN               2018  manual   \n",
       "...                     ...    ...          ...                ...     ...   \n",
       "354112  2016-03-11 15:49:51   3600          NaN               2017  manual   \n",
       "354140  2016-03-29 16:47:29   1000          NaN               2017  manual   \n",
       "354203  2016-03-17 00:56:26   2140          NaN               2018  manual   \n",
       "354253  2016-03-25 09:37:59   1250          NaN               2018     NaN   \n",
       "354289  2016-03-05 14:55:29   5000          NaN               2017  manual   \n",
       "\n",
       "        power    model  kilometer  registration_month fuel_type       brand  \\\n",
       "22         90   meriva     150000                   5    petrol        opel   \n",
       "26        125       c4     125000                   4       NaN     citroen   \n",
       "48         80     golf     100000                   1    petrol  volkswagen   \n",
       "51         90    punto     150000                  11  gasoline        fiat   \n",
       "57         64    other     125000                   3       NaN        seat   \n",
       "...       ...      ...        ...                 ...       ...         ...   \n",
       "354112     86  transit     150000                   5  gasoline        ford   \n",
       "354140    101       a4     150000                   9       NaN        audi   \n",
       "354203     80   fiesta     150000                   6       NaN        ford   \n",
       "354253      0    corsa     150000                   0    petrol        opel   \n",
       "354289    120    other     150000                   7       NaN     citroen   \n",
       "\n",
       "       repaired         date_created  number_of_pictures  postal_code  \\\n",
       "22           no  2016-03-23 00:00:00                   0        49716   \n",
       "26           no  2016-03-10 00:00:00                   0        31139   \n",
       "48          NaN  2016-03-25 00:00:00                   0        48499   \n",
       "51          yes  2016-03-07 00:00:00                   0        66115   \n",
       "57           no  2016-03-10 00:00:00                   0        33397   \n",
       "...         ...                  ...                 ...          ...   \n",
       "354112      NaN  2016-03-11 00:00:00                   0        32339   \n",
       "354140      NaN  2016-03-29 00:00:00                   0        38315   \n",
       "354203       no  2016-03-17 00:00:00                   0        44866   \n",
       "354253      NaN  2016-03-25 00:00:00                   0        45527   \n",
       "354289      yes  2016-03-05 00:00:00                   0        15518   \n",
       "\n",
       "                  last_seen  \n",
       "22      2016-03-31 01:16:33  \n",
       "26      2016-03-16 09:16:46  \n",
       "48      2016-03-31 21:47:44  \n",
       "51      2016-03-07 18:57:08  \n",
       "57      2016-03-25 10:17:37  \n",
       "...                     ...  \n",
       "354112  2016-03-12 05:45:02  \n",
       "354140  2016-04-06 02:44:27  \n",
       "354203  2016-03-29 15:45:04  \n",
       "354253  2016-04-06 07:46:13  \n",
       "354289  2016-04-05 11:48:09  \n",
       "\n",
       "[14530 rows x 16 columns]"
      ]
     },
     "execution_count": 14,
     "metadata": {},
     "output_type": "execute_result"
    }
   ],
   "source": [
    "data.query('registration_year > 2016')"
   ]
  },
  {
   "cell_type": "markdown",
   "metadata": {},
   "source": [
    "Имеется 14530, что является менее 5% строк , избавимся от них"
   ]
  },
  {
   "cell_type": "code",
   "execution_count": 15,
   "metadata": {},
   "outputs": [
    {
     "data": {
      "text/plain": [
       "(339835, 16)"
      ]
     },
     "execution_count": 15,
     "metadata": {},
     "output_type": "execute_result"
    }
   ],
   "source": [
    "data = data.query('registration_year < 2017')\n",
    "data.shape"
   ]
  },
  {
   "cell_type": "code",
   "execution_count": 16,
   "metadata": {},
   "outputs": [
    {
     "data": {
      "image/png": "[encoded data removed]",
      "text/plain": [
       "<Figure size 864x432 with 1 Axes>"
      ]
     },
     "metadata": {
      "needs_background": "light"
     },
     "output_type": "display_data"
    }
   ],
   "source": [
    "data['registration_year'].hist(bins = 100, figsize = (12, 6));"
   ]
  },
  {
   "cell_type": "markdown",
   "metadata": {},
   "source": [
    "Взглянем на нижний порог аномальных годов, для понимания отнимим 50 лет и взгялнем сколько у нас имеется строк"
   ]
  },
  {
   "cell_type": "code",
   "execution_count": 17,
   "metadata": {},
   "outputs": [
    {
     "data": {
      "text/html": [
       "<div>\n",
       "<style scoped>\n",
       "    .dataframe tbody tr th:only-of-type {\n",
       "        vertical-align: middle;\n",
       "    }\n",
       "\n",
       "    .dataframe tbody tr th {\n",
       "        vertical-align: top;\n",
       "    }\n",
       "\n",
       "    .dataframe thead th {\n",
       "        text-align: right;\n",
       "    }\n",
       "</style>\n",
       "<table border=\"1\" class=\"dataframe\">\n",
       "  <thead>\n",
       "    <tr style=\"text-align: right;\">\n",
       "      <th></th>\n",
       "      <th>date_crawled</th>\n",
       "      <th>price</th>\n",
       "      <th>vehicle_type</th>\n",
       "      <th>registration_year</th>\n",
       "      <th>gearbox</th>\n",
       "      <th>power</th>\n",
       "      <th>model</th>\n",
       "      <th>kilometer</th>\n",
       "      <th>registration_month</th>\n",
       "      <th>fuel_type</th>\n",
       "      <th>brand</th>\n",
       "      <th>repaired</th>\n",
       "      <th>date_created</th>\n",
       "      <th>number_of_pictures</th>\n",
       "      <th>postal_code</th>\n",
       "      <th>last_seen</th>\n",
       "    </tr>\n",
       "  </thead>\n",
       "  <tbody>\n",
       "    <tr>\n",
       "      <th>15</th>\n",
       "      <td>2016-03-11 21:39:15</td>\n",
       "      <td>450</td>\n",
       "      <td>small</td>\n",
       "      <td>1910</td>\n",
       "      <td>NaN</td>\n",
       "      <td>0</td>\n",
       "      <td>ka</td>\n",
       "      <td>5000</td>\n",
       "      <td>0</td>\n",
       "      <td>petrol</td>\n",
       "      <td>ford</td>\n",
       "      <td>NaN</td>\n",
       "      <td>2016-03-11 00:00:00</td>\n",
       "      <td>0</td>\n",
       "      <td>24148</td>\n",
       "      <td>2016-03-19 08:46:47</td>\n",
       "    </tr>\n",
       "    <tr>\n",
       "      <th>622</th>\n",
       "      <td>2016-03-16 16:55:09</td>\n",
       "      <td>0</td>\n",
       "      <td>NaN</td>\n",
       "      <td>1111</td>\n",
       "      <td>NaN</td>\n",
       "      <td>0</td>\n",
       "      <td>NaN</td>\n",
       "      <td>5000</td>\n",
       "      <td>0</td>\n",
       "      <td>NaN</td>\n",
       "      <td>opel</td>\n",
       "      <td>NaN</td>\n",
       "      <td>2016-03-16 00:00:00</td>\n",
       "      <td>0</td>\n",
       "      <td>44628</td>\n",
       "      <td>2016-03-20 16:44:37</td>\n",
       "    </tr>\n",
       "    <tr>\n",
       "      <th>1928</th>\n",
       "      <td>2016-03-25 15:58:21</td>\n",
       "      <td>7000</td>\n",
       "      <td>suv</td>\n",
       "      <td>1945</td>\n",
       "      <td>manual</td>\n",
       "      <td>48</td>\n",
       "      <td>other</td>\n",
       "      <td>150000</td>\n",
       "      <td>2</td>\n",
       "      <td>petrol</td>\n",
       "      <td>volkswagen</td>\n",
       "      <td>no</td>\n",
       "      <td>2016-03-25 00:00:00</td>\n",
       "      <td>0</td>\n",
       "      <td>58135</td>\n",
       "      <td>2016-03-25 15:58:21</td>\n",
       "    </tr>\n",
       "    <tr>\n",
       "      <th>2273</th>\n",
       "      <td>2016-03-15 21:44:32</td>\n",
       "      <td>1800</td>\n",
       "      <td>convertible</td>\n",
       "      <td>1925</td>\n",
       "      <td>NaN</td>\n",
       "      <td>0</td>\n",
       "      <td>NaN</td>\n",
       "      <td>5000</td>\n",
       "      <td>1</td>\n",
       "      <td>NaN</td>\n",
       "      <td>sonstige_autos</td>\n",
       "      <td>no</td>\n",
       "      <td>2016-03-15 00:00:00</td>\n",
       "      <td>0</td>\n",
       "      <td>79288</td>\n",
       "      <td>2016-04-07 05:15:34</td>\n",
       "    </tr>\n",
       "    <tr>\n",
       "      <th>3333</th>\n",
       "      <td>2016-03-15 21:36:20</td>\n",
       "      <td>10500</td>\n",
       "      <td>sedan</td>\n",
       "      <td>1955</td>\n",
       "      <td>manual</td>\n",
       "      <td>30</td>\n",
       "      <td>other</td>\n",
       "      <td>60000</td>\n",
       "      <td>0</td>\n",
       "      <td>petrol</td>\n",
       "      <td>ford</td>\n",
       "      <td>NaN</td>\n",
       "      <td>2016-03-15 00:00:00</td>\n",
       "      <td>0</td>\n",
       "      <td>53498</td>\n",
       "      <td>2016-04-07 08:16:11</td>\n",
       "    </tr>\n",
       "    <tr>\n",
       "      <th>...</th>\n",
       "      <td>...</td>\n",
       "      <td>...</td>\n",
       "      <td>...</td>\n",
       "      <td>...</td>\n",
       "      <td>...</td>\n",
       "      <td>...</td>\n",
       "      <td>...</td>\n",
       "      <td>...</td>\n",
       "      <td>...</td>\n",
       "      <td>...</td>\n",
       "      <td>...</td>\n",
       "      <td>...</td>\n",
       "      <td>...</td>\n",
       "      <td>...</td>\n",
       "      <td>...</td>\n",
       "      <td>...</td>\n",
       "    </tr>\n",
       "    <tr>\n",
       "      <th>351682</th>\n",
       "      <td>2016-03-12 00:57:39</td>\n",
       "      <td>11500</td>\n",
       "      <td>NaN</td>\n",
       "      <td>1800</td>\n",
       "      <td>NaN</td>\n",
       "      <td>16</td>\n",
       "      <td>other</td>\n",
       "      <td>5000</td>\n",
       "      <td>6</td>\n",
       "      <td>petrol</td>\n",
       "      <td>fiat</td>\n",
       "      <td>NaN</td>\n",
       "      <td>2016-03-11 00:00:00</td>\n",
       "      <td>0</td>\n",
       "      <td>16515</td>\n",
       "      <td>2016-04-05 19:47:27</td>\n",
       "    </tr>\n",
       "    <tr>\n",
       "      <th>352529</th>\n",
       "      <td>2016-03-30 18:56:24</td>\n",
       "      <td>10000</td>\n",
       "      <td>sedan</td>\n",
       "      <td>1961</td>\n",
       "      <td>manual</td>\n",
       "      <td>80</td>\n",
       "      <td>other</td>\n",
       "      <td>125000</td>\n",
       "      <td>11</td>\n",
       "      <td>petrol</td>\n",
       "      <td>volvo</td>\n",
       "      <td>no</td>\n",
       "      <td>2016-03-30 00:00:00</td>\n",
       "      <td>0</td>\n",
       "      <td>71334</td>\n",
       "      <td>2016-04-07 10:17:13</td>\n",
       "    </tr>\n",
       "    <tr>\n",
       "      <th>353531</th>\n",
       "      <td>2016-03-16 21:56:55</td>\n",
       "      <td>6000</td>\n",
       "      <td>sedan</td>\n",
       "      <td>1937</td>\n",
       "      <td>manual</td>\n",
       "      <td>38</td>\n",
       "      <td>other</td>\n",
       "      <td>5000</td>\n",
       "      <td>0</td>\n",
       "      <td>petrol</td>\n",
       "      <td>mercedes_benz</td>\n",
       "      <td>NaN</td>\n",
       "      <td>2016-03-16 00:00:00</td>\n",
       "      <td>0</td>\n",
       "      <td>23936</td>\n",
       "      <td>2016-03-30 18:47:41</td>\n",
       "    </tr>\n",
       "    <tr>\n",
       "      <th>353961</th>\n",
       "      <td>2016-03-17 13:54:22</td>\n",
       "      <td>200</td>\n",
       "      <td>NaN</td>\n",
       "      <td>1910</td>\n",
       "      <td>NaN</td>\n",
       "      <td>0</td>\n",
       "      <td>NaN</td>\n",
       "      <td>5000</td>\n",
       "      <td>0</td>\n",
       "      <td>petrol</td>\n",
       "      <td>sonstige_autos</td>\n",
       "      <td>NaN</td>\n",
       "      <td>2016-03-17 00:00:00</td>\n",
       "      <td>0</td>\n",
       "      <td>42289</td>\n",
       "      <td>2016-03-31 22:46:47</td>\n",
       "    </tr>\n",
       "    <tr>\n",
       "      <th>354316</th>\n",
       "      <td>2016-03-07 19:58:44</td>\n",
       "      <td>3300</td>\n",
       "      <td>coupe</td>\n",
       "      <td>1957</td>\n",
       "      <td>manual</td>\n",
       "      <td>40</td>\n",
       "      <td>other</td>\n",
       "      <td>100000</td>\n",
       "      <td>11</td>\n",
       "      <td>petrol</td>\n",
       "      <td>trabant</td>\n",
       "      <td>no</td>\n",
       "      <td>2016-03-07 00:00:00</td>\n",
       "      <td>0</td>\n",
       "      <td>10317</td>\n",
       "      <td>2016-03-08 06:45:48</td>\n",
       "    </tr>\n",
       "  </tbody>\n",
       "</table>\n",
       "<p>754 rows × 16 columns</p>\n",
       "</div>"
      ],
      "text/plain": [
       "               date_crawled  price vehicle_type  registration_year gearbox  \\\n",
       "15      2016-03-11 21:39:15    450        small               1910     NaN   \n",
       "622     2016-03-16 16:55:09      0          NaN               1111     NaN   \n",
       "1928    2016-03-25 15:58:21   7000          suv               1945  manual   \n",
       "2273    2016-03-15 21:44:32   1800  convertible               1925     NaN   \n",
       "3333    2016-03-15 21:36:20  10500        sedan               1955  manual   \n",
       "...                     ...    ...          ...                ...     ...   \n",
       "351682  2016-03-12 00:57:39  11500          NaN               1800     NaN   \n",
       "352529  2016-03-30 18:56:24  10000        sedan               1961  manual   \n",
       "353531  2016-03-16 21:56:55   6000        sedan               1937  manual   \n",
       "353961  2016-03-17 13:54:22    200          NaN               1910     NaN   \n",
       "354316  2016-03-07 19:58:44   3300        coupe               1957  manual   \n",
       "\n",
       "        power  model  kilometer  registration_month fuel_type           brand  \\\n",
       "15          0     ka       5000                   0    petrol            ford   \n",
       "622         0    NaN       5000                   0       NaN            opel   \n",
       "1928       48  other     150000                   2    petrol      volkswagen   \n",
       "2273        0    NaN       5000                   1       NaN  sonstige_autos   \n",
       "3333       30  other      60000                   0    petrol            ford   \n",
       "...       ...    ...        ...                 ...       ...             ...   \n",
       "351682     16  other       5000                   6    petrol            fiat   \n",
       "352529     80  other     125000                  11    petrol           volvo   \n",
       "353531     38  other       5000                   0    petrol   mercedes_benz   \n",
       "353961      0    NaN       5000                   0    petrol  sonstige_autos   \n",
       "354316     40  other     100000                  11    petrol         trabant   \n",
       "\n",
       "       repaired         date_created  number_of_pictures  postal_code  \\\n",
       "15          NaN  2016-03-11 00:00:00                   0        24148   \n",
       "622         NaN  2016-03-16 00:00:00                   0        44628   \n",
       "1928         no  2016-03-25 00:00:00                   0        58135   \n",
       "2273         no  2016-03-15 00:00:00                   0        79288   \n",
       "3333        NaN  2016-03-15 00:00:00                   0        53498   \n",
       "...         ...                  ...                 ...          ...   \n",
       "351682      NaN  2016-03-11 00:00:00                   0        16515   \n",
       "352529       no  2016-03-30 00:00:00                   0        71334   \n",
       "353531      NaN  2016-03-16 00:00:00                   0        23936   \n",
       "353961      NaN  2016-03-17 00:00:00                   0        42289   \n",
       "354316       no  2016-03-07 00:00:00                   0        10317   \n",
       "\n",
       "                  last_seen  \n",
       "15      2016-03-19 08:46:47  \n",
       "622     2016-03-20 16:44:37  \n",
       "1928    2016-03-25 15:58:21  \n",
       "2273    2016-04-07 05:15:34  \n",
       "3333    2016-04-07 08:16:11  \n",
       "...                     ...  \n",
       "351682  2016-04-05 19:47:27  \n",
       "352529  2016-04-07 10:17:13  \n",
       "353531  2016-03-30 18:47:41  \n",
       "353961  2016-03-31 22:46:47  \n",
       "354316  2016-03-08 06:45:48  \n",
       "\n",
       "[754 rows x 16 columns]"
      ]
     },
     "execution_count": 17,
     "metadata": {},
     "output_type": "execute_result"
    }
   ],
   "source": [
    "data.query('registration_year < 1964')"
   ]
  },
  {
   "cell_type": "markdown",
   "metadata": {},
   "source": [
    "Всего 754 строки, избавимся от них"
   ]
  },
  {
   "cell_type": "code",
   "execution_count": 18,
   "metadata": {},
   "outputs": [
    {
     "data": {
      "text/plain": [
       "(339017, 16)"
      ]
     },
     "execution_count": 18,
     "metadata": {},
     "output_type": "execute_result"
    }
   ],
   "source": [
    "data = data.query('registration_year > 1964')\n",
    "data.shape"
   ]
  },
  {
   "cell_type": "code",
   "execution_count": 19,
   "metadata": {},
   "outputs": [
    {
     "data": {
      "image/png": "[encoded data removed]",
      "text/plain": [
       "<Figure size 864x432 with 1 Axes>"
      ]
     },
     "metadata": {
      "needs_background": "light"
     },
     "output_type": "display_data"
    }
   ],
   "source": [
    "data['registration_year'].hist(bins = 100, figsize = (12, 6));"
   ]
  },
  {
   "cell_type": "markdown",
   "metadata": {},
   "source": [
    "Далее рассмотрим мощность - __power__"
   ]
  },
  {
   "cell_type": "code",
   "execution_count": 20,
   "metadata": {},
   "outputs": [
    {
     "data": {
      "text/plain": [
       "count    339017.000000\n",
       "mean        111.157134\n",
       "std         187.006099\n",
       "min           0.000000\n",
       "25%          69.000000\n",
       "50%         105.000000\n",
       "75%         143.000000\n",
       "max       20000.000000\n",
       "Name: power, dtype: float64"
      ]
     },
     "execution_count": 20,
     "metadata": {},
     "output_type": "execute_result"
    }
   ],
   "source": [
    "data['power'].describe()"
   ]
  },
  {
   "cell_type": "markdown",
   "metadata": {},
   "source": [
    "Возьмем как потолок - мощность равную в 1500 л.с."
   ]
  },
  {
   "cell_type": "code",
   "execution_count": 21,
   "metadata": {},
   "outputs": [],
   "source": [
    "data = data.query('power < 1500')"
   ]
  },
  {
   "cell_type": "code",
   "execution_count": 22,
   "metadata": {},
   "outputs": [
    {
     "data": {
      "image/png": "[encoded data removed]",
      "text/plain": [
       "<Figure size 864x432 with 1 Axes>"
      ]
     },
     "metadata": {
      "needs_background": "light"
     },
     "output_type": "display_data"
    }
   ],
   "source": [
    "data['power'].hist(bins = 50, figsize = (12,6));"
   ]
  },
  {
   "cell_type": "markdown",
   "metadata": {},
   "source": [
    "остановимся на 500 и всех тех - что выше 0 "
   ]
  },
  {
   "cell_type": "code",
   "execution_count": 23,
   "metadata": {},
   "outputs": [
    {
     "data": {
      "text/plain": [
       "(302492, 16)"
      ]
     },
     "execution_count": 23,
     "metadata": {},
     "output_type": "execute_result"
    }
   ],
   "source": [
    "data = data.query('0 < power < 500')\n",
    "data.shape"
   ]
  },
  {
   "cell_type": "markdown",
   "metadata": {},
   "source": [
    "Погуглив, наткнулся на автомобили у которых мощность бывает в районе 10л.с , в других источниках есть авто у которых один целиндр и 6.5л.с но там что то совсем старое, будем считать аномалии до 10л.с и удалим аномалии"
   ]
  },
  {
   "cell_type": "code",
   "execution_count": 24,
   "metadata": {
    "scrolled": true
   },
   "outputs": [
    {
     "data": {
      "text/html": [
       "<div>\n",
       "<style scoped>\n",
       "    .dataframe tbody tr th:only-of-type {\n",
       "        vertical-align: middle;\n",
       "    }\n",
       "\n",
       "    .dataframe tbody tr th {\n",
       "        vertical-align: top;\n",
       "    }\n",
       "\n",
       "    .dataframe thead th {\n",
       "        text-align: right;\n",
       "    }\n",
       "</style>\n",
       "<table border=\"1\" class=\"dataframe\">\n",
       "  <thead>\n",
       "    <tr style=\"text-align: right;\">\n",
       "      <th></th>\n",
       "      <th>date_crawled</th>\n",
       "      <th>price</th>\n",
       "      <th>vehicle_type</th>\n",
       "      <th>registration_year</th>\n",
       "      <th>gearbox</th>\n",
       "      <th>power</th>\n",
       "      <th>model</th>\n",
       "      <th>kilometer</th>\n",
       "      <th>registration_month</th>\n",
       "      <th>fuel_type</th>\n",
       "      <th>brand</th>\n",
       "      <th>repaired</th>\n",
       "      <th>date_created</th>\n",
       "      <th>number_of_pictures</th>\n",
       "      <th>postal_code</th>\n",
       "      <th>last_seen</th>\n",
       "    </tr>\n",
       "  </thead>\n",
       "  <tbody>\n",
       "    <tr>\n",
       "      <th>431</th>\n",
       "      <td>2016-03-20 20:45:27</td>\n",
       "      <td>3950</td>\n",
       "      <td>small</td>\n",
       "      <td>2004</td>\n",
       "      <td>auto</td>\n",
       "      <td>5</td>\n",
       "      <td>NaN</td>\n",
       "      <td>70000</td>\n",
       "      <td>5</td>\n",
       "      <td>gasoline</td>\n",
       "      <td>sonstige_autos</td>\n",
       "      <td>no</td>\n",
       "      <td>2016-03-20 00:00:00</td>\n",
       "      <td>0</td>\n",
       "      <td>90562</td>\n",
       "      <td>2016-04-03 04:17:08</td>\n",
       "    </tr>\n",
       "    <tr>\n",
       "      <th>3349</th>\n",
       "      <td>2016-03-29 17:37:58</td>\n",
       "      <td>1990</td>\n",
       "      <td>small</td>\n",
       "      <td>2004</td>\n",
       "      <td>NaN</td>\n",
       "      <td>7</td>\n",
       "      <td>polo</td>\n",
       "      <td>150000</td>\n",
       "      <td>5</td>\n",
       "      <td>gasoline</td>\n",
       "      <td>volkswagen</td>\n",
       "      <td>no</td>\n",
       "      <td>2016-03-29 00:00:00</td>\n",
       "      <td>0</td>\n",
       "      <td>37124</td>\n",
       "      <td>2016-04-02 05:16:40</td>\n",
       "    </tr>\n",
       "    <tr>\n",
       "      <th>9561</th>\n",
       "      <td>2016-04-04 07:58:34</td>\n",
       "      <td>9000</td>\n",
       "      <td>sedan</td>\n",
       "      <td>2009</td>\n",
       "      <td>manual</td>\n",
       "      <td>2</td>\n",
       "      <td>a4</td>\n",
       "      <td>5000</td>\n",
       "      <td>12</td>\n",
       "      <td>gasoline</td>\n",
       "      <td>audi</td>\n",
       "      <td>NaN</td>\n",
       "      <td>2016-04-04 00:00:00</td>\n",
       "      <td>0</td>\n",
       "      <td>12045</td>\n",
       "      <td>2016-04-06 10:17:01</td>\n",
       "    </tr>\n",
       "    <tr>\n",
       "      <th>12747</th>\n",
       "      <td>2016-03-24 16:38:53</td>\n",
       "      <td>2850</td>\n",
       "      <td>small</td>\n",
       "      <td>2005</td>\n",
       "      <td>auto</td>\n",
       "      <td>5</td>\n",
       "      <td>NaN</td>\n",
       "      <td>40000</td>\n",
       "      <td>8</td>\n",
       "      <td>gasoline</td>\n",
       "      <td>sonstige_autos</td>\n",
       "      <td>no</td>\n",
       "      <td>2016-03-24 00:00:00</td>\n",
       "      <td>0</td>\n",
       "      <td>56825</td>\n",
       "      <td>2016-04-07 08:44:59</td>\n",
       "    </tr>\n",
       "    <tr>\n",
       "      <th>16228</th>\n",
       "      <td>2016-04-02 22:47:03</td>\n",
       "      <td>2500</td>\n",
       "      <td>small</td>\n",
       "      <td>2006</td>\n",
       "      <td>auto</td>\n",
       "      <td>5</td>\n",
       "      <td>NaN</td>\n",
       "      <td>40000</td>\n",
       "      <td>1</td>\n",
       "      <td>gasoline</td>\n",
       "      <td>sonstige_autos</td>\n",
       "      <td>yes</td>\n",
       "      <td>2016-04-02 00:00:00</td>\n",
       "      <td>0</td>\n",
       "      <td>78532</td>\n",
       "      <td>2016-04-04 21:17:01</td>\n",
       "    </tr>\n",
       "    <tr>\n",
       "      <th>...</th>\n",
       "      <td>...</td>\n",
       "      <td>...</td>\n",
       "      <td>...</td>\n",
       "      <td>...</td>\n",
       "      <td>...</td>\n",
       "      <td>...</td>\n",
       "      <td>...</td>\n",
       "      <td>...</td>\n",
       "      <td>...</td>\n",
       "      <td>...</td>\n",
       "      <td>...</td>\n",
       "      <td>...</td>\n",
       "      <td>...</td>\n",
       "      <td>...</td>\n",
       "      <td>...</td>\n",
       "      <td>...</td>\n",
       "    </tr>\n",
       "    <tr>\n",
       "      <th>346667</th>\n",
       "      <td>2016-03-08 19:50:27</td>\n",
       "      <td>3700</td>\n",
       "      <td>small</td>\n",
       "      <td>2006</td>\n",
       "      <td>auto</td>\n",
       "      <td>5</td>\n",
       "      <td>NaN</td>\n",
       "      <td>40000</td>\n",
       "      <td>4</td>\n",
       "      <td>gasoline</td>\n",
       "      <td>sonstige_autos</td>\n",
       "      <td>no</td>\n",
       "      <td>2016-03-08 00:00:00</td>\n",
       "      <td>0</td>\n",
       "      <td>50769</td>\n",
       "      <td>2016-04-05 15:45:35</td>\n",
       "    </tr>\n",
       "    <tr>\n",
       "      <th>348975</th>\n",
       "      <td>2016-03-19 21:53:10</td>\n",
       "      <td>1850</td>\n",
       "      <td>small</td>\n",
       "      <td>2003</td>\n",
       "      <td>auto</td>\n",
       "      <td>5</td>\n",
       "      <td>NaN</td>\n",
       "      <td>50000</td>\n",
       "      <td>3</td>\n",
       "      <td>gasoline</td>\n",
       "      <td>sonstige_autos</td>\n",
       "      <td>yes</td>\n",
       "      <td>2016-03-19 00:00:00</td>\n",
       "      <td>0</td>\n",
       "      <td>13347</td>\n",
       "      <td>2016-04-03 14:44:50</td>\n",
       "    </tr>\n",
       "    <tr>\n",
       "      <th>349666</th>\n",
       "      <td>2016-03-07 21:36:46</td>\n",
       "      <td>1500</td>\n",
       "      <td>NaN</td>\n",
       "      <td>2016</td>\n",
       "      <td>NaN</td>\n",
       "      <td>2</td>\n",
       "      <td>NaN</td>\n",
       "      <td>150000</td>\n",
       "      <td>5</td>\n",
       "      <td>gasoline</td>\n",
       "      <td>volkswagen</td>\n",
       "      <td>NaN</td>\n",
       "      <td>2016-03-07 00:00:00</td>\n",
       "      <td>0</td>\n",
       "      <td>33330</td>\n",
       "      <td>2016-03-19 10:48:08</td>\n",
       "    </tr>\n",
       "    <tr>\n",
       "      <th>353127</th>\n",
       "      <td>2016-03-26 18:53:12</td>\n",
       "      <td>8600</td>\n",
       "      <td>convertible</td>\n",
       "      <td>2012</td>\n",
       "      <td>manual</td>\n",
       "      <td>8</td>\n",
       "      <td>NaN</td>\n",
       "      <td>5000</td>\n",
       "      <td>3</td>\n",
       "      <td>gasoline</td>\n",
       "      <td>sonstige_autos</td>\n",
       "      <td>no</td>\n",
       "      <td>2016-03-26 00:00:00</td>\n",
       "      <td>0</td>\n",
       "      <td>82399</td>\n",
       "      <td>2016-04-06 08:17:29</td>\n",
       "    </tr>\n",
       "    <tr>\n",
       "      <th>354360</th>\n",
       "      <td>2016-04-02 20:37:03</td>\n",
       "      <td>3999</td>\n",
       "      <td>wagon</td>\n",
       "      <td>2005</td>\n",
       "      <td>manual</td>\n",
       "      <td>3</td>\n",
       "      <td>3er</td>\n",
       "      <td>150000</td>\n",
       "      <td>5</td>\n",
       "      <td>gasoline</td>\n",
       "      <td>bmw</td>\n",
       "      <td>no</td>\n",
       "      <td>2016-04-02 00:00:00</td>\n",
       "      <td>0</td>\n",
       "      <td>81825</td>\n",
       "      <td>2016-04-06 20:47:12</td>\n",
       "    </tr>\n",
       "  </tbody>\n",
       "</table>\n",
       "<p>182 rows × 16 columns</p>\n",
       "</div>"
      ],
      "text/plain": [
       "               date_crawled  price vehicle_type  registration_year gearbox  \\\n",
       "431     2016-03-20 20:45:27   3950        small               2004    auto   \n",
       "3349    2016-03-29 17:37:58   1990        small               2004     NaN   \n",
       "9561    2016-04-04 07:58:34   9000        sedan               2009  manual   \n",
       "12747   2016-03-24 16:38:53   2850        small               2005    auto   \n",
       "16228   2016-04-02 22:47:03   2500        small               2006    auto   \n",
       "...                     ...    ...          ...                ...     ...   \n",
       "346667  2016-03-08 19:50:27   3700        small               2006    auto   \n",
       "348975  2016-03-19 21:53:10   1850        small               2003    auto   \n",
       "349666  2016-03-07 21:36:46   1500          NaN               2016     NaN   \n",
       "353127  2016-03-26 18:53:12   8600  convertible               2012  manual   \n",
       "354360  2016-04-02 20:37:03   3999        wagon               2005  manual   \n",
       "\n",
       "        power model  kilometer  registration_month fuel_type           brand  \\\n",
       "431         5   NaN      70000                   5  gasoline  sonstige_autos   \n",
       "3349        7  polo     150000                   5  gasoline      volkswagen   \n",
       "9561        2    a4       5000                  12  gasoline            audi   \n",
       "12747       5   NaN      40000                   8  gasoline  sonstige_autos   \n",
       "16228       5   NaN      40000                   1  gasoline  sonstige_autos   \n",
       "...       ...   ...        ...                 ...       ...             ...   \n",
       "346667      5   NaN      40000                   4  gasoline  sonstige_autos   \n",
       "348975      5   NaN      50000                   3  gasoline  sonstige_autos   \n",
       "349666      2   NaN     150000                   5  gasoline      volkswagen   \n",
       "353127      8   NaN       5000                   3  gasoline  sonstige_autos   \n",
       "354360      3   3er     150000                   5  gasoline             bmw   \n",
       "\n",
       "       repaired         date_created  number_of_pictures  postal_code  \\\n",
       "431          no  2016-03-20 00:00:00                   0        90562   \n",
       "3349         no  2016-03-29 00:00:00                   0        37124   \n",
       "9561        NaN  2016-04-04 00:00:00                   0        12045   \n",
       "12747        no  2016-03-24 00:00:00                   0        56825   \n",
       "16228       yes  2016-04-02 00:00:00                   0        78532   \n",
       "...         ...                  ...                 ...          ...   \n",
       "346667       no  2016-03-08 00:00:00                   0        50769   \n",
       "348975      yes  2016-03-19 00:00:00                   0        13347   \n",
       "349666      NaN  2016-03-07 00:00:00                   0        33330   \n",
       "353127       no  2016-03-26 00:00:00                   0        82399   \n",
       "354360       no  2016-04-02 00:00:00                   0        81825   \n",
       "\n",
       "                  last_seen  \n",
       "431     2016-04-03 04:17:08  \n",
       "3349    2016-04-02 05:16:40  \n",
       "9561    2016-04-06 10:17:01  \n",
       "12747   2016-04-07 08:44:59  \n",
       "16228   2016-04-04 21:17:01  \n",
       "...                     ...  \n",
       "346667  2016-04-05 15:45:35  \n",
       "348975  2016-04-03 14:44:50  \n",
       "349666  2016-03-19 10:48:08  \n",
       "353127  2016-04-06 08:17:29  \n",
       "354360  2016-04-06 20:47:12  \n",
       "\n",
       "[182 rows x 16 columns]"
      ]
     },
     "execution_count": 24,
     "metadata": {},
     "output_type": "execute_result"
    }
   ],
   "source": [
    "data.query('1<power<10')"
   ]
  },
  {
   "cell_type": "code",
   "execution_count": 25,
   "metadata": {},
   "outputs": [
    {
     "data": {
      "text/plain": [
       "(302269, 16)"
      ]
     },
     "execution_count": 25,
     "metadata": {},
     "output_type": "execute_result"
    }
   ],
   "source": [
    "data = data.query('power > 10')\n",
    "data.shape"
   ]
  },
  {
   "cell_type": "code",
   "execution_count": null,
   "metadata": {},
   "outputs": [],
   "source": []
  },
  {
   "cell_type": "markdown",
   "metadata": {},
   "source": [
    "Взглянем на прайс - __price__\n"
   ]
  },
  {
   "cell_type": "code",
   "execution_count": 26,
   "metadata": {},
   "outputs": [
    {
     "data": {
      "image/png": "[encoded data removed]",
      "text/plain": [
       "<Figure size 864x432 with 1 Axes>"
      ]
     },
     "metadata": {
      "needs_background": "light"
     },
     "output_type": "display_data"
    }
   ],
   "source": [
    "data['price'].hist(bins = 50, figsize = (12, 6));"
   ]
  },
  {
   "cell_type": "markdown",
   "metadata": {},
   "source": [
    "Имеются 0-вые значение "
   ]
  },
  {
   "cell_type": "code",
   "execution_count": 27,
   "metadata": {},
   "outputs": [
    {
     "data": {
      "text/plain": [
       "count    302269.000000\n",
       "mean       4746.177620\n",
       "std        4610.212931\n",
       "min           0.000000\n",
       "25%        1250.000000\n",
       "50%        3000.000000\n",
       "75%        6900.000000\n",
       "max       20000.000000\n",
       "Name: price, dtype: float64"
      ]
     },
     "execution_count": 27,
     "metadata": {},
     "output_type": "execute_result"
    }
   ],
   "source": [
    "data['price'].describe()"
   ]
  },
  {
   "cell_type": "code",
   "execution_count": 28,
   "metadata": {},
   "outputs": [
    {
     "data": {
      "text/plain": [
       "(295910, 16)"
      ]
     },
     "execution_count": 28,
     "metadata": {},
     "output_type": "execute_result"
    }
   ],
   "source": [
    "data = data.query('price > 0')\n",
    "data.shape"
   ]
  },
  {
   "cell_type": "markdown",
   "metadata": {},
   "source": [
    "Спросив у алисыGPT \"можно ликупить авто до 100 евро ответ был таков - Боюсь, что за такую сумму можно купить разве что игрушечный автомобиль(c)Алиса))\", пошел дальше ... а за 200? - ответ уже был более  информативный - \"За такую сумму можно попытаться найти очень старый и не очень рабочий автомобиль. Но зачем?\"... решено - примем за аномалии значения ниже 200 евро"
   ]
  },
  {
   "cell_type": "code",
   "execution_count": 29,
   "metadata": {},
   "outputs": [
    {
     "data": {
      "text/html": [
       "<div>\n",
       "<style scoped>\n",
       "    .dataframe tbody tr th:only-of-type {\n",
       "        vertical-align: middle;\n",
       "    }\n",
       "\n",
       "    .dataframe tbody tr th {\n",
       "        vertical-align: top;\n",
       "    }\n",
       "\n",
       "    .dataframe thead th {\n",
       "        text-align: right;\n",
       "    }\n",
       "</style>\n",
       "<table border=\"1\" class=\"dataframe\">\n",
       "  <thead>\n",
       "    <tr style=\"text-align: right;\">\n",
       "      <th></th>\n",
       "      <th>date_crawled</th>\n",
       "      <th>price</th>\n",
       "      <th>vehicle_type</th>\n",
       "      <th>registration_year</th>\n",
       "      <th>gearbox</th>\n",
       "      <th>power</th>\n",
       "      <th>model</th>\n",
       "      <th>kilometer</th>\n",
       "      <th>registration_month</th>\n",
       "      <th>fuel_type</th>\n",
       "      <th>brand</th>\n",
       "      <th>repaired</th>\n",
       "      <th>date_created</th>\n",
       "      <th>number_of_pictures</th>\n",
       "      <th>postal_code</th>\n",
       "      <th>last_seen</th>\n",
       "    </tr>\n",
       "  </thead>\n",
       "  <tbody>\n",
       "    <tr>\n",
       "      <th>59</th>\n",
       "      <td>2016-03-29 15:48:15</td>\n",
       "      <td>1</td>\n",
       "      <td>suv</td>\n",
       "      <td>1994</td>\n",
       "      <td>manual</td>\n",
       "      <td>286</td>\n",
       "      <td>NaN</td>\n",
       "      <td>150000</td>\n",
       "      <td>11</td>\n",
       "      <td>NaN</td>\n",
       "      <td>sonstige_autos</td>\n",
       "      <td>NaN</td>\n",
       "      <td>2016-03-29 00:00:00</td>\n",
       "      <td>0</td>\n",
       "      <td>53721</td>\n",
       "      <td>2016-04-06 01:44:38</td>\n",
       "    </tr>\n",
       "    <tr>\n",
       "      <th>79</th>\n",
       "      <td>2016-03-17 18:52:56</td>\n",
       "      <td>150</td>\n",
       "      <td>NaN</td>\n",
       "      <td>2016</td>\n",
       "      <td>manual</td>\n",
       "      <td>75</td>\n",
       "      <td>astra</td>\n",
       "      <td>150000</td>\n",
       "      <td>3</td>\n",
       "      <td>petrol</td>\n",
       "      <td>opel</td>\n",
       "      <td>yes</td>\n",
       "      <td>2016-03-17 00:00:00</td>\n",
       "      <td>0</td>\n",
       "      <td>78315</td>\n",
       "      <td>2016-04-05 03:45:22</td>\n",
       "    </tr>\n",
       "    <tr>\n",
       "      <th>89</th>\n",
       "      <td>2016-03-28 09:37:01</td>\n",
       "      <td>1</td>\n",
       "      <td>sedan</td>\n",
       "      <td>1995</td>\n",
       "      <td>manual</td>\n",
       "      <td>113</td>\n",
       "      <td>e_klasse</td>\n",
       "      <td>150000</td>\n",
       "      <td>4</td>\n",
       "      <td>gasoline</td>\n",
       "      <td>mercedes_benz</td>\n",
       "      <td>no</td>\n",
       "      <td>2016-03-28 00:00:00</td>\n",
       "      <td>0</td>\n",
       "      <td>40589</td>\n",
       "      <td>2016-04-06 12:15:54</td>\n",
       "    </tr>\n",
       "    <tr>\n",
       "      <th>268</th>\n",
       "      <td>2016-03-12 07:26:49</td>\n",
       "      <td>1</td>\n",
       "      <td>sedan</td>\n",
       "      <td>1990</td>\n",
       "      <td>manual</td>\n",
       "      <td>90</td>\n",
       "      <td>80</td>\n",
       "      <td>70000</td>\n",
       "      <td>6</td>\n",
       "      <td>petrol</td>\n",
       "      <td>audi</td>\n",
       "      <td>no</td>\n",
       "      <td>2016-03-11 00:00:00</td>\n",
       "      <td>0</td>\n",
       "      <td>55122</td>\n",
       "      <td>2016-03-26 23:15:49</td>\n",
       "    </tr>\n",
       "    <tr>\n",
       "      <th>281</th>\n",
       "      <td>2016-03-24 11:48:01</td>\n",
       "      <td>150</td>\n",
       "      <td>NaN</td>\n",
       "      <td>2016</td>\n",
       "      <td>auto</td>\n",
       "      <td>75</td>\n",
       "      <td>fiesta</td>\n",
       "      <td>50000</td>\n",
       "      <td>1</td>\n",
       "      <td>petrol</td>\n",
       "      <td>ford</td>\n",
       "      <td>yes</td>\n",
       "      <td>2016-03-24 00:00:00</td>\n",
       "      <td>0</td>\n",
       "      <td>32457</td>\n",
       "      <td>2016-03-30 11:48:26</td>\n",
       "    </tr>\n",
       "    <tr>\n",
       "      <th>...</th>\n",
       "      <td>...</td>\n",
       "      <td>...</td>\n",
       "      <td>...</td>\n",
       "      <td>...</td>\n",
       "      <td>...</td>\n",
       "      <td>...</td>\n",
       "      <td>...</td>\n",
       "      <td>...</td>\n",
       "      <td>...</td>\n",
       "      <td>...</td>\n",
       "      <td>...</td>\n",
       "      <td>...</td>\n",
       "      <td>...</td>\n",
       "      <td>...</td>\n",
       "      <td>...</td>\n",
       "      <td>...</td>\n",
       "    </tr>\n",
       "    <tr>\n",
       "      <th>353673</th>\n",
       "      <td>2016-03-24 11:55:15</td>\n",
       "      <td>90</td>\n",
       "      <td>small</td>\n",
       "      <td>1998</td>\n",
       "      <td>manual</td>\n",
       "      <td>60</td>\n",
       "      <td>other</td>\n",
       "      <td>150000</td>\n",
       "      <td>8</td>\n",
       "      <td>petrol</td>\n",
       "      <td>citroen</td>\n",
       "      <td>yes</td>\n",
       "      <td>2016-03-24 00:00:00</td>\n",
       "      <td>0</td>\n",
       "      <td>55278</td>\n",
       "      <td>2016-03-27 08:16:16</td>\n",
       "    </tr>\n",
       "    <tr>\n",
       "      <th>354015</th>\n",
       "      <td>2016-03-28 19:44:25</td>\n",
       "      <td>175</td>\n",
       "      <td>small</td>\n",
       "      <td>1997</td>\n",
       "      <td>manual</td>\n",
       "      <td>58</td>\n",
       "      <td>twingo</td>\n",
       "      <td>150000</td>\n",
       "      <td>1</td>\n",
       "      <td>petrol</td>\n",
       "      <td>renault</td>\n",
       "      <td>NaN</td>\n",
       "      <td>2016-03-28 00:00:00</td>\n",
       "      <td>0</td>\n",
       "      <td>21727</td>\n",
       "      <td>2016-04-07 01:46:34</td>\n",
       "    </tr>\n",
       "    <tr>\n",
       "      <th>354117</th>\n",
       "      <td>2016-03-28 14:38:14</td>\n",
       "      <td>1</td>\n",
       "      <td>wagon</td>\n",
       "      <td>1993</td>\n",
       "      <td>auto</td>\n",
       "      <td>217</td>\n",
       "      <td>5er</td>\n",
       "      <td>150000</td>\n",
       "      <td>12</td>\n",
       "      <td>petrol</td>\n",
       "      <td>bmw</td>\n",
       "      <td>NaN</td>\n",
       "      <td>2016-03-28 00:00:00</td>\n",
       "      <td>0</td>\n",
       "      <td>22941</td>\n",
       "      <td>2016-04-06 18:19:15</td>\n",
       "    </tr>\n",
       "    <tr>\n",
       "      <th>354273</th>\n",
       "      <td>2016-03-16 15:47:56</td>\n",
       "      <td>150</td>\n",
       "      <td>small</td>\n",
       "      <td>1993</td>\n",
       "      <td>manual</td>\n",
       "      <td>55</td>\n",
       "      <td>astra</td>\n",
       "      <td>150000</td>\n",
       "      <td>3</td>\n",
       "      <td>petrol</td>\n",
       "      <td>opel</td>\n",
       "      <td>yes</td>\n",
       "      <td>2016-03-16 00:00:00</td>\n",
       "      <td>0</td>\n",
       "      <td>66424</td>\n",
       "      <td>2016-04-06 17:46:29</td>\n",
       "    </tr>\n",
       "    <tr>\n",
       "      <th>354309</th>\n",
       "      <td>2016-03-09 22:37:41</td>\n",
       "      <td>99</td>\n",
       "      <td>small</td>\n",
       "      <td>1999</td>\n",
       "      <td>manual</td>\n",
       "      <td>60</td>\n",
       "      <td>arosa</td>\n",
       "      <td>150000</td>\n",
       "      <td>1</td>\n",
       "      <td>petrol</td>\n",
       "      <td>seat</td>\n",
       "      <td>yes</td>\n",
       "      <td>2016-03-09 00:00:00</td>\n",
       "      <td>0</td>\n",
       "      <td>91301</td>\n",
       "      <td>2016-04-06 22:15:32</td>\n",
       "    </tr>\n",
       "  </tbody>\n",
       "</table>\n",
       "<p>3832 rows × 16 columns</p>\n",
       "</div>"
      ],
      "text/plain": [
       "               date_crawled  price vehicle_type  registration_year gearbox  \\\n",
       "59      2016-03-29 15:48:15      1          suv               1994  manual   \n",
       "79      2016-03-17 18:52:56    150          NaN               2016  manual   \n",
       "89      2016-03-28 09:37:01      1        sedan               1995  manual   \n",
       "268     2016-03-12 07:26:49      1        sedan               1990  manual   \n",
       "281     2016-03-24 11:48:01    150          NaN               2016    auto   \n",
       "...                     ...    ...          ...                ...     ...   \n",
       "353673  2016-03-24 11:55:15     90        small               1998  manual   \n",
       "354015  2016-03-28 19:44:25    175        small               1997  manual   \n",
       "354117  2016-03-28 14:38:14      1        wagon               1993    auto   \n",
       "354273  2016-03-16 15:47:56    150        small               1993  manual   \n",
       "354309  2016-03-09 22:37:41     99        small               1999  manual   \n",
       "\n",
       "        power     model  kilometer  registration_month fuel_type  \\\n",
       "59        286       NaN     150000                  11       NaN   \n",
       "79         75     astra     150000                   3    petrol   \n",
       "89        113  e_klasse     150000                   4  gasoline   \n",
       "268        90        80      70000                   6    petrol   \n",
       "281        75    fiesta      50000                   1    petrol   \n",
       "...       ...       ...        ...                 ...       ...   \n",
       "353673     60     other     150000                   8    petrol   \n",
       "354015     58    twingo     150000                   1    petrol   \n",
       "354117    217       5er     150000                  12    petrol   \n",
       "354273     55     astra     150000                   3    petrol   \n",
       "354309     60     arosa     150000                   1    petrol   \n",
       "\n",
       "                 brand repaired         date_created  number_of_pictures  \\\n",
       "59      sonstige_autos      NaN  2016-03-29 00:00:00                   0   \n",
       "79                opel      yes  2016-03-17 00:00:00                   0   \n",
       "89       mercedes_benz       no  2016-03-28 00:00:00                   0   \n",
       "268               audi       no  2016-03-11 00:00:00                   0   \n",
       "281               ford      yes  2016-03-24 00:00:00                   0   \n",
       "...                ...      ...                  ...                 ...   \n",
       "353673         citroen      yes  2016-03-24 00:00:00                   0   \n",
       "354015         renault      NaN  2016-03-28 00:00:00                   0   \n",
       "354117             bmw      NaN  2016-03-28 00:00:00                   0   \n",
       "354273            opel      yes  2016-03-16 00:00:00                   0   \n",
       "354309            seat      yes  2016-03-09 00:00:00                   0   \n",
       "\n",
       "        postal_code            last_seen  \n",
       "59            53721  2016-04-06 01:44:38  \n",
       "79            78315  2016-04-05 03:45:22  \n",
       "89            40589  2016-04-06 12:15:54  \n",
       "268           55122  2016-03-26 23:15:49  \n",
       "281           32457  2016-03-30 11:48:26  \n",
       "...             ...                  ...  \n",
       "353673        55278  2016-03-27 08:16:16  \n",
       "354015        21727  2016-04-07 01:46:34  \n",
       "354117        22941  2016-04-06 18:19:15  \n",
       "354273        66424  2016-04-06 17:46:29  \n",
       "354309        91301  2016-04-06 22:15:32  \n",
       "\n",
       "[3832 rows x 16 columns]"
      ]
     },
     "execution_count": 29,
     "metadata": {},
     "output_type": "execute_result"
    }
   ],
   "source": [
    "# взглянем на аномалии\n",
    "data.query('price <200')"
   ]
  },
  {
   "cell_type": "code",
   "execution_count": 30,
   "metadata": {},
   "outputs": [
    {
     "data": {
      "text/plain": [
       "(290719, 16)"
      ]
     },
     "execution_count": 30,
     "metadata": {},
     "output_type": "execute_result"
    }
   ],
   "source": [
    "# исключим их\n",
    "data = data.query('price > 200')\n",
    "data.shape"
   ]
  },
  {
   "cell_type": "markdown",
   "metadata": {},
   "source": [
    "Из условия нам указали  \"Если среди признаков имеются неинформативные, удалите их\"  считаю таковыми:\n",
    "- дата скачивания (date_crawled)\n",
    "- месяц регистрации (registration_month)\n",
    "- дата создания анкеты (date_created)\n",
    "- количество фотографий (number_of_pictures)\n",
    "- почтовый индекс (postal_code)\n",
    "- последний визит/активность (last_seen)\n",
    "\n",
    "удалим данные фичи из нашего дф"
   ]
  },
  {
   "cell_type": "code",
   "execution_count": 31,
   "metadata": {},
   "outputs": [],
   "source": [
    "data.drop(['date_crawled',\n",
    "           'registration_month',\n",
    "           'date_created',\n",
    "           'number_of_pictures',\n",
    "           'postal_code',\n",
    "           'last_seen'],\n",
    "            axis = 1, inplace = True)"
   ]
  },
  {
   "cell_type": "code",
   "execution_count": 32,
   "metadata": {},
   "outputs": [
    {
     "data": {
      "text/html": [
       "<div>\n",
       "<style scoped>\n",
       "    .dataframe tbody tr th:only-of-type {\n",
       "        vertical-align: middle;\n",
       "    }\n",
       "\n",
       "    .dataframe tbody tr th {\n",
       "        vertical-align: top;\n",
       "    }\n",
       "\n",
       "    .dataframe thead th {\n",
       "        text-align: right;\n",
       "    }\n",
       "</style>\n",
       "<table border=\"1\" class=\"dataframe\">\n",
       "  <thead>\n",
       "    <tr style=\"text-align: right;\">\n",
       "      <th></th>\n",
       "      <th>price</th>\n",
       "      <th>vehicle_type</th>\n",
       "      <th>registration_year</th>\n",
       "      <th>gearbox</th>\n",
       "      <th>power</th>\n",
       "      <th>model</th>\n",
       "      <th>kilometer</th>\n",
       "      <th>fuel_type</th>\n",
       "      <th>brand</th>\n",
       "      <th>repaired</th>\n",
       "    </tr>\n",
       "  </thead>\n",
       "  <tbody>\n",
       "    <tr>\n",
       "      <th>1</th>\n",
       "      <td>18300</td>\n",
       "      <td>coupe</td>\n",
       "      <td>2011</td>\n",
       "      <td>manual</td>\n",
       "      <td>190</td>\n",
       "      <td>NaN</td>\n",
       "      <td>125000</td>\n",
       "      <td>gasoline</td>\n",
       "      <td>audi</td>\n",
       "      <td>yes</td>\n",
       "    </tr>\n",
       "    <tr>\n",
       "      <th>2</th>\n",
       "      <td>9800</td>\n",
       "      <td>suv</td>\n",
       "      <td>2004</td>\n",
       "      <td>auto</td>\n",
       "      <td>163</td>\n",
       "      <td>grand</td>\n",
       "      <td>125000</td>\n",
       "      <td>gasoline</td>\n",
       "      <td>jeep</td>\n",
       "      <td>NaN</td>\n",
       "    </tr>\n",
       "    <tr>\n",
       "      <th>3</th>\n",
       "      <td>1500</td>\n",
       "      <td>small</td>\n",
       "      <td>2001</td>\n",
       "      <td>manual</td>\n",
       "      <td>75</td>\n",
       "      <td>golf</td>\n",
       "      <td>150000</td>\n",
       "      <td>petrol</td>\n",
       "      <td>volkswagen</td>\n",
       "      <td>no</td>\n",
       "    </tr>\n",
       "  </tbody>\n",
       "</table>\n",
       "</div>"
      ],
      "text/plain": [
       "   price vehicle_type  registration_year gearbox  power  model  kilometer  \\\n",
       "1  18300        coupe               2011  manual    190    NaN     125000   \n",
       "2   9800          suv               2004    auto    163  grand     125000   \n",
       "3   1500        small               2001  manual     75   golf     150000   \n",
       "\n",
       "  fuel_type       brand repaired  \n",
       "1  gasoline        audi      yes  \n",
       "2  gasoline        jeep      NaN  \n",
       "3    petrol  volkswagen       no  "
      ]
     },
     "execution_count": 32,
     "metadata": {},
     "output_type": "execute_result"
    }
   ],
   "source": [
    "data.head(3)"
   ]
  },
  {
   "cell_type": "markdown",
   "metadata": {},
   "source": [
    "Перейдем к заполнению пропусков"
   ]
  },
  {
   "cell_type": "code",
   "execution_count": 33,
   "metadata": {},
   "outputs": [
    {
     "data": {
      "text/plain": [
       "price                    0\n",
       "vehicle_type         10102\n",
       "registration_year        0\n",
       "gearbox               5001\n",
       "power                    0\n",
       "model                10469\n",
       "kilometer                0\n",
       "fuel_type            14541\n",
       "brand                    0\n",
       "repaired             40913\n",
       "dtype: int64"
      ]
     },
     "execution_count": 33,
     "metadata": {},
     "output_type": "execute_result"
    }
   ],
   "source": [
    "data.isna().sum()"
   ]
  },
  {
   "cell_type": "markdown",
   "metadata": {},
   "source": [
    "начнем с __model__ - модель авто"
   ]
  },
  {
   "cell_type": "code",
   "execution_count": 34,
   "metadata": {},
   "outputs": [
    {
     "data": {
      "text/plain": [
       "array([nan, 'grand', 'golf', 'fabia', '3er', '2_reihe', 'c_max',\n",
       "       '3_reihe', 'passat', 'navara', 'polo', 'twingo', 'a_klasse',\n",
       "       'scirocco', '5er', 'arosa', 'other', 'civic', 'transporter',\n",
       "       'punto', 'e_klasse', 'clio', 'kadett', 'one', 'fortwo', '1er',\n",
       "       'b_klasse', 'a8', 'jetta', 'fiesta', 'c_klasse', 'micra', 'vito',\n",
       "       'sprinter', '156', 'escort', 'forester', 'xc_reihe', 'scenic',\n",
       "       'ka', 'a1', 'focus', 'a4', 'tt', 'astra', 'a6', 'jazz', 'omega',\n",
       "       'slk', '7er', 'combo', 'corsa', '80', '147', 'z_reihe', 'sorento',\n",
       "       'ibiza', 'mustang', 'eos', 'touran', 'getz', 'insignia', 'almera',\n",
       "       'megane', 'a3', 'lupo', 'r19', 'caddy', 'mondeo', 'cordoba',\n",
       "       'colt', 'impreza', 'vectra', 'berlingo', 'tiguan', '6_reihe', 'c4',\n",
       "       'panda', 'up', 'i_reihe', 'ceed', 'kangoo', '5_reihe', 'yeti',\n",
       "       'octavia', 'zafira', 'mii', 'rx_reihe', '6er', 'modus', 'fox',\n",
       "       'matiz', 'beetle', 'rio', 'touareg', 'logan', 'spider', 'cuore',\n",
       "       's_max', 'a2', 'galaxy', 'c3', 'viano', 's_klasse', '1_reihe',\n",
       "       'sharan', 'avensis', 'roomster', 'sl', 'kaefer', 'santa', 'leon',\n",
       "       'cooper', '4_reihe', 'a5', 'sportage', 'laguna', 'ptcruiser',\n",
       "       'clk', 'primera', 'espace', 'exeo', '159', 'transit', 'juke',\n",
       "       'x_reihe', 'v40', 'carisma', 'accord', 'corolla', 'lanos',\n",
       "       'phaeton', 'verso', 'swift', 'rav', 'qashqai', 'picanto',\n",
       "       'boxster', 'superb', 'stilo', 'alhambra', 'roadster', 'ypsilon',\n",
       "       'galant', 'justy', '90', 'sirion', 'signum', 'crossfire', 'agila',\n",
       "       'duster', 'v50', 'mx_reihe', '500', 'meriva', 'c_reihe',\n",
       "       'v_klasse', 'm_klasse', 'yaris', 'c5', 'aygo', 'cc', 'carnival',\n",
       "       'fusion', '911', 'bora', 'forfour', 'cl', 'tigra', '300c', '100',\n",
       "       'cr_reihe', 'spark', 'kuga', 'x_type', 'ducato', 's_type',\n",
       "       'x_trail', 'toledo', 'altea', 'voyager', 'v70', 'bravo', 'tucson',\n",
       "       'c1', 'citigo', 'jimny', 'cayenne', 'wrangler', 'lybra', 'lancer',\n",
       "       'captiva', 'discovery', 'freelander', 'sandero', 'q7', 'note',\n",
       "       'seicento', 'antara', '900', 'cherokee', 'clubman', 'defender',\n",
       "       'cx_reihe', 'legacy', 'pajero', 'auris', 'c2', 'niva', 's60',\n",
       "       'm_reihe', 'nubira', 'vivaro', 'g_klasse', 'lodgy', 'range_rover',\n",
       "       '601', '850', 'q3', 'serie_2', 'calibra', 'glk', 'charade',\n",
       "       'croma', 'outlander', 'doblo', 'musa', '9000', 'kalos', 'v60',\n",
       "       '200', '145', 'b_max', 'range_rover_sport', 'aveo', 'move',\n",
       "       'rangerover', 'q5', 'range_rover_evoque', 'materia', 'delta',\n",
       "       'terios', 'gl', 'kalina', 'elefantino', 'i3', 'samara', 'amarok',\n",
       "       'kappa', 'serie_3'], dtype=object)"
      ]
     },
     "execution_count": 34,
     "metadata": {},
     "output_type": "execute_result"
    }
   ],
   "source": [
    "data['model'].unique()"
   ]
  },
  {
   "cell_type": "markdown",
   "metadata": {},
   "source": [
    "Так как нет четкого представления откуда и почему появились пропуски предлагаю заполнить пропуски новой категорией 'unknown'"
   ]
  },
  {
   "cell_type": "code",
   "execution_count": 35,
   "metadata": {},
   "outputs": [],
   "source": [
    "data['model'] = data['model'].fillna(value = \"unknown\")"
   ]
  },
  {
   "cell_type": "markdown",
   "metadata": {},
   "source": [
    "__vehicle_type__ - тип кузова, запоним модальным значением сгруппировав по бренду и модели"
   ]
  },
  {
   "cell_type": "code",
   "execution_count": 36,
   "metadata": {},
   "outputs": [],
   "source": [
    "data['vehicle_type'] = data.groupby(['brand', 'model'])['vehicle_type'].transform(lambda x: x.fillna((x.mode()[0])))"
   ]
  },
  {
   "cell_type": "markdown",
   "metadata": {},
   "source": [
    "тоже самое проделаем с __gearbox__ - коробкой и __fuel_type__ типом топлива"
   ]
  },
  {
   "cell_type": "code",
   "execution_count": 37,
   "metadata": {},
   "outputs": [],
   "source": [
    "data['gearbox'] = data.groupby(['brand', 'model'])['gearbox'].transform(lambda x: x.fillna((x.mode()[0])))\n",
    "data['fuel_type'] = data.groupby(['brand', 'model'])['fuel_type'].transform(lambda x: x.fillna((x.mode()[0])))"
   ]
  },
  {
   "cell_type": "markdown",
   "metadata": {},
   "source": [
    "осталось __repaired__ - была ли машина в ремонте, раполним значением \"no\", тк скорее всего владельцы просто посчитали ненужным заполнять это поле тк автомобиль не был в авариях , или просто человечиский фактор и тд в любом случае другого более точного понимания в заполнении у нас нет"
   ]
  },
  {
   "cell_type": "code",
   "execution_count": 38,
   "metadata": {},
   "outputs": [],
   "source": [
    "data['repaired'] = data['repaired'].fillna(value = 'no')"
   ]
  },
  {
   "cell_type": "code",
   "execution_count": 39,
   "metadata": {},
   "outputs": [
    {
     "data": {
      "text/plain": [
       "array(['manual', 'auto'], dtype=object)"
      ]
     },
     "execution_count": 39,
     "metadata": {},
     "output_type": "execute_result"
    }
   ],
   "source": [
    "data['gearbox'].unique()"
   ]
  },
  {
   "cell_type": "markdown",
   "metadata": {},
   "source": [
    "сразу же заменим в столбцах __repaired__ и __gearbox__ значения __no - 0 , yes - 1 и manual - 0 , auto - 1__ соответсветсвенно, дабы получился булев тип"
   ]
  },
  {
   "cell_type": "code",
   "execution_count": 40,
   "metadata": {},
   "outputs": [],
   "source": [
    "data['repaired'] = data['repaired'].map({'no': 0, 'yes': 1})\n",
    "data['gearbox'] = data['gearbox'].map({'manual': 0, 'auto': 1})"
   ]
  },
  {
   "cell_type": "code",
   "execution_count": 41,
   "metadata": {},
   "outputs": [
    {
     "data": {
      "text/html": [
       "<div>\n",
       "<style scoped>\n",
       "    .dataframe tbody tr th:only-of-type {\n",
       "        vertical-align: middle;\n",
       "    }\n",
       "\n",
       "    .dataframe tbody tr th {\n",
       "        vertical-align: top;\n",
       "    }\n",
       "\n",
       "    .dataframe thead th {\n",
       "        text-align: right;\n",
       "    }\n",
       "</style>\n",
       "<table border=\"1\" class=\"dataframe\">\n",
       "  <thead>\n",
       "    <tr style=\"text-align: right;\">\n",
       "      <th></th>\n",
       "      <th>price</th>\n",
       "      <th>vehicle_type</th>\n",
       "      <th>registration_year</th>\n",
       "      <th>gearbox</th>\n",
       "      <th>power</th>\n",
       "      <th>model</th>\n",
       "      <th>kilometer</th>\n",
       "      <th>fuel_type</th>\n",
       "      <th>brand</th>\n",
       "      <th>repaired</th>\n",
       "    </tr>\n",
       "  </thead>\n",
       "  <tbody>\n",
       "    <tr>\n",
       "      <th>1</th>\n",
       "      <td>18300</td>\n",
       "      <td>coupe</td>\n",
       "      <td>2011</td>\n",
       "      <td>0</td>\n",
       "      <td>190</td>\n",
       "      <td>unknown</td>\n",
       "      <td>125000</td>\n",
       "      <td>gasoline</td>\n",
       "      <td>audi</td>\n",
       "      <td>1</td>\n",
       "    </tr>\n",
       "    <tr>\n",
       "      <th>2</th>\n",
       "      <td>9800</td>\n",
       "      <td>suv</td>\n",
       "      <td>2004</td>\n",
       "      <td>1</td>\n",
       "      <td>163</td>\n",
       "      <td>grand</td>\n",
       "      <td>125000</td>\n",
       "      <td>gasoline</td>\n",
       "      <td>jeep</td>\n",
       "      <td>0</td>\n",
       "    </tr>\n",
       "    <tr>\n",
       "      <th>3</th>\n",
       "      <td>1500</td>\n",
       "      <td>small</td>\n",
       "      <td>2001</td>\n",
       "      <td>0</td>\n",
       "      <td>75</td>\n",
       "      <td>golf</td>\n",
       "      <td>150000</td>\n",
       "      <td>petrol</td>\n",
       "      <td>volkswagen</td>\n",
       "      <td>0</td>\n",
       "    </tr>\n",
       "  </tbody>\n",
       "</table>\n",
       "</div>"
      ],
      "text/plain": [
       "   price vehicle_type  registration_year  gearbox  power    model  kilometer  \\\n",
       "1  18300        coupe               2011        0    190  unknown     125000   \n",
       "2   9800          suv               2004        1    163    grand     125000   \n",
       "3   1500        small               2001        0     75     golf     150000   \n",
       "\n",
       "  fuel_type       brand  repaired  \n",
       "1  gasoline        audi         1  \n",
       "2  gasoline        jeep         0  \n",
       "3    petrol  volkswagen         0  "
      ]
     },
     "execution_count": 41,
     "metadata": {},
     "output_type": "execute_result"
    }
   ],
   "source": [
    "data.head(3)"
   ]
  },
  {
   "cell_type": "code",
   "execution_count": 42,
   "metadata": {},
   "outputs": [
    {
     "data": {
      "text/plain": [
       "price                0\n",
       "vehicle_type         0\n",
       "registration_year    0\n",
       "gearbox              0\n",
       "power                0\n",
       "model                0\n",
       "kilometer            0\n",
       "fuel_type            0\n",
       "brand                0\n",
       "repaired             0\n",
       "dtype: int64"
      ]
     },
     "execution_count": 42,
     "metadata": {},
     "output_type": "execute_result"
    }
   ],
   "source": [
    "data.isna().sum()"
   ]
  },
  {
   "cell_type": "markdown",
   "metadata": {},
   "source": [
    "Промежуточный вывод\n",
    "\n",
    "на данном этапе мы проделали следующее:\n",
    "1. избавились от аномалий в столцах \n",
    "    - registration_year \n",
    "    - power\n",
    "    - price\n",
    "2. удалили неинформотивные для дальнейшего обучения моделей столбцы\n",
    "3. заполнили пропуски\n",
    "4. проверили и удалили дубликаты"
   ]
  },
  {
   "cell_type": "code",
   "execution_count": 43,
   "metadata": {},
   "outputs": [
    {
     "data": {
      "text/plain": [
       "47748"
      ]
     },
     "execution_count": 43,
     "metadata": {},
     "output_type": "execute_result"
    }
   ],
   "source": [
    "# взгялнем еще раз на дубликаты\n",
    "data.duplicated().sum()"
   ]
  },
  {
   "cell_type": "code",
   "execution_count": 44,
   "metadata": {},
   "outputs": [
    {
     "data": {
      "text/plain": [
       "0"
      ]
     },
     "execution_count": 44,
     "metadata": {},
     "output_type": "execute_result"
    }
   ],
   "source": [
    "# удалим их\n",
    "data.drop_duplicates(inplace = True)\n",
    "data.duplicated().sum()"
   ]
  },
  {
   "cell_type": "markdown",
   "metadata": {},
   "source": [
    "## Обучение моделей\n",
    "\n",
    "Подготовьте выборки для обучения моделей.\n",
    "\n",
    "Обучите разные модели, одна из которых — LightGBM, как минимум одна — не бустинг."
   ]
  },
  {
   "cell_type": "markdown",
   "metadata": {},
   "source": [
    "Будем использовать следующие модели\n",
    "\n",
    "- Линейная регрессия \n",
    "- Дерево решений \n",
    "- LightGBM\n",
    "- Catboost"
   ]
  },
  {
   "cell_type": "code",
   "execution_count": 47,
   "metadata": {},
   "outputs": [
    {
     "name": "stdout",
     "output_type": "stream",
     "text": [
      "Размер тренировочной части: 145782, соотношение: 0.6\n",
      "Размер валидационной части: 48594, соотношение: 0.2\n",
      "Размер тестовой части: 48595, соотношение: 0.2\n"
     ]
    }
   ],
   "source": [
    "# перемешаем дф и разделим его на 60/20/20\n",
    "\n",
    "\n",
    "train, valid, test = np.split(data.sample(frac = 1, random_state = 123), [int(.6 * len(data)), int(.8 * len(data))])\n",
    "\n",
    "features_train = train.drop(['price'], axis = 1)\n",
    "target_train = train['price']\n",
    "\n",
    "features_valid = valid.drop(['price'], axis = 1)\n",
    "target_valid = valid['price']\n",
    "\n",
    "features_test = test.drop(['price'], axis = 1)\n",
    "target_test = test['price']\n",
    "\n",
    "\n",
    "print(f'Размер тренировочной части: {round(train.shape[0])}, соотношение: {round(train.shape[0] / data.shape[0], 2)}')\n",
    "print(f'Размер валидационной части: {round(valid.shape[0])}, соотношение: {round(valid.shape[0] / data.shape[0], 2)}')\n",
    "print(f'Размер тестовой части: {round(test.shape[0])}, соотношение: {round(test.shape[0] / data.shape[0], 2)}')"
   ]
  },
  {
   "cell_type": "markdown",
   "metadata": {},
   "source": [
    "т.к модель LinearRegression, а так же наше DecisionTreeRegressor не умеют работать с категориальными признаками, применим функцию __dummies__ к этим признакам и стандартизируем числовые признаки"
   ]
  },
  {
   "cell_type": "code",
   "execution_count": 48,
   "metadata": {},
   "outputs": [
    {
     "data": {
      "text/html": [
       "<div>\n",
       "<style scoped>\n",
       "    .dataframe tbody tr th:only-of-type {\n",
       "        vertical-align: middle;\n",
       "    }\n",
       "\n",
       "    .dataframe tbody tr th {\n",
       "        vertical-align: top;\n",
       "    }\n",
       "\n",
       "    .dataframe thead th {\n",
       "        text-align: right;\n",
       "    }\n",
       "</style>\n",
       "<table border=\"1\" class=\"dataframe\">\n",
       "  <thead>\n",
       "    <tr style=\"text-align: right;\">\n",
       "      <th></th>\n",
       "      <th>price</th>\n",
       "      <th>registration_year</th>\n",
       "      <th>gearbox</th>\n",
       "      <th>power</th>\n",
       "      <th>kilometer</th>\n",
       "      <th>repaired</th>\n",
       "      <th>vehicle_type_convertible</th>\n",
       "      <th>vehicle_type_coupe</th>\n",
       "      <th>vehicle_type_other</th>\n",
       "      <th>vehicle_type_sedan</th>\n",
       "      <th>...</th>\n",
       "      <th>brand_seat</th>\n",
       "      <th>brand_skoda</th>\n",
       "      <th>brand_smart</th>\n",
       "      <th>brand_sonstige_autos</th>\n",
       "      <th>brand_subaru</th>\n",
       "      <th>brand_suzuki</th>\n",
       "      <th>brand_toyota</th>\n",
       "      <th>brand_trabant</th>\n",
       "      <th>brand_volkswagen</th>\n",
       "      <th>brand_volvo</th>\n",
       "    </tr>\n",
       "  </thead>\n",
       "  <tbody>\n",
       "    <tr>\n",
       "      <th>1</th>\n",
       "      <td>18300</td>\n",
       "      <td>2011</td>\n",
       "      <td>0</td>\n",
       "      <td>190</td>\n",
       "      <td>125000</td>\n",
       "      <td>1</td>\n",
       "      <td>0</td>\n",
       "      <td>1</td>\n",
       "      <td>0</td>\n",
       "      <td>0</td>\n",
       "      <td>...</td>\n",
       "      <td>0</td>\n",
       "      <td>0</td>\n",
       "      <td>0</td>\n",
       "      <td>0</td>\n",
       "      <td>0</td>\n",
       "      <td>0</td>\n",
       "      <td>0</td>\n",
       "      <td>0</td>\n",
       "      <td>0</td>\n",
       "      <td>0</td>\n",
       "    </tr>\n",
       "    <tr>\n",
       "      <th>2</th>\n",
       "      <td>9800</td>\n",
       "      <td>2004</td>\n",
       "      <td>1</td>\n",
       "      <td>163</td>\n",
       "      <td>125000</td>\n",
       "      <td>0</td>\n",
       "      <td>0</td>\n",
       "      <td>0</td>\n",
       "      <td>0</td>\n",
       "      <td>0</td>\n",
       "      <td>...</td>\n",
       "      <td>0</td>\n",
       "      <td>0</td>\n",
       "      <td>0</td>\n",
       "      <td>0</td>\n",
       "      <td>0</td>\n",
       "      <td>0</td>\n",
       "      <td>0</td>\n",
       "      <td>0</td>\n",
       "      <td>0</td>\n",
       "      <td>0</td>\n",
       "    </tr>\n",
       "    <tr>\n",
       "      <th>3</th>\n",
       "      <td>1500</td>\n",
       "      <td>2001</td>\n",
       "      <td>0</td>\n",
       "      <td>75</td>\n",
       "      <td>150000</td>\n",
       "      <td>0</td>\n",
       "      <td>0</td>\n",
       "      <td>0</td>\n",
       "      <td>0</td>\n",
       "      <td>0</td>\n",
       "      <td>...</td>\n",
       "      <td>0</td>\n",
       "      <td>0</td>\n",
       "      <td>0</td>\n",
       "      <td>0</td>\n",
       "      <td>0</td>\n",
       "      <td>0</td>\n",
       "      <td>0</td>\n",
       "      <td>0</td>\n",
       "      <td>1</td>\n",
       "      <td>0</td>\n",
       "    </tr>\n",
       "    <tr>\n",
       "      <th>4</th>\n",
       "      <td>3600</td>\n",
       "      <td>2008</td>\n",
       "      <td>0</td>\n",
       "      <td>69</td>\n",
       "      <td>90000</td>\n",
       "      <td>0</td>\n",
       "      <td>0</td>\n",
       "      <td>0</td>\n",
       "      <td>0</td>\n",
       "      <td>0</td>\n",
       "      <td>...</td>\n",
       "      <td>0</td>\n",
       "      <td>1</td>\n",
       "      <td>0</td>\n",
       "      <td>0</td>\n",
       "      <td>0</td>\n",
       "      <td>0</td>\n",
       "      <td>0</td>\n",
       "      <td>0</td>\n",
       "      <td>0</td>\n",
       "      <td>0</td>\n",
       "    </tr>\n",
       "    <tr>\n",
       "      <th>5</th>\n",
       "      <td>650</td>\n",
       "      <td>1995</td>\n",
       "      <td>0</td>\n",
       "      <td>102</td>\n",
       "      <td>150000</td>\n",
       "      <td>1</td>\n",
       "      <td>0</td>\n",
       "      <td>0</td>\n",
       "      <td>0</td>\n",
       "      <td>1</td>\n",
       "      <td>...</td>\n",
       "      <td>0</td>\n",
       "      <td>0</td>\n",
       "      <td>0</td>\n",
       "      <td>0</td>\n",
       "      <td>0</td>\n",
       "      <td>0</td>\n",
       "      <td>0</td>\n",
       "      <td>0</td>\n",
       "      <td>0</td>\n",
       "      <td>0</td>\n",
       "    </tr>\n",
       "  </tbody>\n",
       "</table>\n",
       "<p>5 rows × 307 columns</p>\n",
       "</div>"
      ],
      "text/plain": [
       "   price  registration_year  gearbox  power  kilometer  repaired  \\\n",
       "1  18300               2011        0    190     125000         1   \n",
       "2   9800               2004        1    163     125000         0   \n",
       "3   1500               2001        0     75     150000         0   \n",
       "4   3600               2008        0     69      90000         0   \n",
       "5    650               1995        0    102     150000         1   \n",
       "\n",
       "   vehicle_type_convertible  vehicle_type_coupe  vehicle_type_other  \\\n",
       "1                         0                   1                   0   \n",
       "2                         0                   0                   0   \n",
       "3                         0                   0                   0   \n",
       "4                         0                   0                   0   \n",
       "5                         0                   0                   0   \n",
       "\n",
       "   vehicle_type_sedan  ...  brand_seat  brand_skoda  brand_smart  \\\n",
       "1                   0  ...           0            0            0   \n",
       "2                   0  ...           0            0            0   \n",
       "3                   0  ...           0            0            0   \n",
       "4                   0  ...           0            1            0   \n",
       "5                   1  ...           0            0            0   \n",
       "\n",
       "   brand_sonstige_autos  brand_subaru  brand_suzuki  brand_toyota  \\\n",
       "1                     0             0             0             0   \n",
       "2                     0             0             0             0   \n",
       "3                     0             0             0             0   \n",
       "4                     0             0             0             0   \n",
       "5                     0             0             0             0   \n",
       "\n",
       "   brand_trabant  brand_volkswagen  brand_volvo  \n",
       "1              0                 0            0  \n",
       "2              0                 0            0  \n",
       "3              0                 1            0  \n",
       "4              0                 0            0  \n",
       "5              0                 0            0  \n",
       "\n",
       "[5 rows x 307 columns]"
      ]
     },
     "execution_count": 48,
     "metadata": {},
     "output_type": "execute_result"
    }
   ],
   "source": [
    "data_dum = pd.get_dummies(data, drop_first = True)\n",
    "data_dum.head()"
   ]
  },
  {
   "cell_type": "code",
   "execution_count": 52,
   "metadata": {},
   "outputs": [],
   "source": [
    "train_dum, valid_dum, test_dum = np.split(data_dum.sample(frac = 1, random_state = 123),\n",
    "                                          [int(.6 * len(data)), int(.8 * len(data))])\n",
    "\n",
    "features_train_dum = train_dum.drop(['price'], axis = 1)\n",
    "target_train_dum = train_dum['price']\n",
    "\n",
    "features_valid_dum = valid_dum.drop(['price'], axis = 1)\n",
    "target_valid_dum = valid_dum['price']\n",
    "\n",
    "features_test_dum = test_dum.drop(['price'], axis = 1)\n",
    "target_test_dum = test_dum['price']"
   ]
  },
  {
   "cell_type": "code",
   "execution_count": null,
   "metadata": {},
   "outputs": [],
   "source": []
  },
  {
   "cell_type": "markdown",
   "metadata": {},
   "source": [
    "С помощью standardscaler'a стандартизируем наши числовые признаки"
   ]
  },
  {
   "cell_type": "code",
   "execution_count": 53,
   "metadata": {},
   "outputs": [],
   "source": [
    "# создадим список числовых признаков\n",
    "\n",
    "numer = ['power', 'kilometer', 'registration_year']"
   ]
  },
  {
   "cell_type": "code",
   "execution_count": 54,
   "metadata": {},
   "outputs": [],
   "source": [
    "# создадим объект скейлера\n",
    "\n",
    "scaler = StandardScaler()\n",
    "scaler.fit(features_train_dum[numer])\n",
    "\n",
    "features_train_dum[numer] = scaler.transform(features_train_dum[numer])\n",
    "features_valid_dum[numer] = scaler.transform(features_valid_dum[numer])\n",
    "features_test_dum[numer] = scaler.transform(features_test_dum[numer])"
   ]
  },
  {
   "cell_type": "markdown",
   "metadata": {},
   "source": [
    "__LinearRegression__\n"
   ]
  },
  {
   "cell_type": "code",
   "execution_count": 55,
   "metadata": {},
   "outputs": [
    {
     "name": "stdout",
     "output_type": "stream",
     "text": [
      "CPU times: user 9.77 s, sys: 3.41 s, total: 13.2 s\n",
      "Wall time: 13.2 s\n"
     ]
    },
    {
     "data": {
      "text/plain": [
       "LinearRegression()"
      ]
     },
     "execution_count": 55,
     "metadata": {},
     "output_type": "execute_result"
    }
   ],
   "source": [
    "%%time\n",
    "\n",
    "model_lr = LinearRegression()\n",
    "model_lr.fit(features_train_dum, target_train_dum)"
   ]
  },
  {
   "cell_type": "code",
   "execution_count": 56,
   "metadata": {},
   "outputs": [
    {
     "name": "stdout",
     "output_type": "stream",
     "text": [
      "RMSE модели линейная регрессия равна: 2673.47\n",
      "CPU times: user 184 ms, sys: 141 ms, total: 325 ms\n",
      "Wall time: 296 ms\n"
     ]
    }
   ],
   "source": [
    "%%time\n",
    "\n",
    "predict_lr = model_lr.predict(features_train_dum)\n",
    "rmse_lr = mean_squared_error(target_train_dum, predict_lr)**0.5\n",
    "\n",
    "print(f'RMSE модели линейная регрессия равна: {round(rmse_lr, 2)}')"
   ]
  },
  {
   "cell_type": "code",
   "execution_count": null,
   "metadata": {},
   "outputs": [],
   "source": []
  },
  {
   "cell_type": "code",
   "execution_count": 57,
   "metadata": {},
   "outputs": [
    {
     "name": "stdout",
     "output_type": "stream",
     "text": [
      "RMSE модели линейная регрессия равна: 2642.36\n",
      "CPU times: user 74.7 ms, sys: 64.9 ms, total: 140 ms\n",
      "Wall time: 191 ms\n"
     ]
    }
   ],
   "source": [
    "%%time\n",
    "\n",
    "predict_lr_valid = model_lr.predict(features_valid_dum)\n",
    "rmse_lr_valid = mean_squared_error(target_valid_dum, predict_lr_valid)**0.5\n",
    "\n",
    "print(f'RMSE модели линейная регрессия равна: {round(rmse_lr_valid, 2)}')"
   ]
  },
  {
   "cell_type": "markdown",
   "metadata": {},
   "source": [
    "__DecisionTreeRegressor__"
   ]
  },
  {
   "cell_type": "code",
   "execution_count": 58,
   "metadata": {},
   "outputs": [
    {
     "name": "stdout",
     "output_type": "stream",
     "text": [
      "Среднее время обучения равно : 0.9575000118326257\n",
      "Лучшие гиперпараметры : {'max_depth': 9, 'min_samples_split': 8}\n",
      "Лучшие гиперпараметры : -2105.9984405536966\n"
     ]
    }
   ],
   "source": [
    "\n",
    "# %%time\n",
    "\n",
    "# Определяем гиперпараметры\n",
    "parameters = {\n",
    "    'max_depth': range(1, 10),\n",
    "    'min_samples_split': range(2, 10, 2)\n",
    "    }\n",
    "\n",
    "# инициализируем нашу модель\n",
    "dtr = DecisionTreeRegressor(random_state = STATE)\n",
    "\n",
    "# с помощью гридсерча подберем лучшие параметры\n",
    "model_dtr = GridSearchCV(dtr, parameters, scoring = 'neg_root_mean_squared_error', cv = 3)\n",
    "\n",
    "model_dtr.fit(features_train_dum, target_train_dum)\n",
    "print(f'Среднее время обучения равно : {model_dtr.cv_results_[\"mean_fit_time\"].mean()}')\n",
    "print(f'Лучшие гиперпараметры : {model_dtr.best_params_}')\n",
    "print(f'Лучшие гиперпараметры : {model_dtr.best_score_}')"
   ]
  },
  {
   "cell_type": "code",
   "execution_count": null,
   "metadata": {},
   "outputs": [],
   "source": []
  },
  {
   "cell_type": "code",
   "execution_count": 59,
   "metadata": {},
   "outputs": [
    {
     "name": "stdout",
     "output_type": "stream",
     "text": [
      "RMSE модели дерево решений равна: 2026.33\n",
      "Наилучшие гиперпараметры: {'max_depth': 9, 'min_samples_split': 8}\n",
      "CPU times: user 83.6 ms, sys: 178 ms, total: 262 ms\n",
      "Wall time: 264 ms\n"
     ]
    }
   ],
   "source": [
    "%%time\n",
    "\n",
    "predict_dtr = model_dtr.predict(features_train_dum)\n",
    "rmse_dtr = mean_squared_error(target_train_dum, predict_dtr)**0.5\n",
    "\n",
    "print(f'RMSE модели дерево решений равна: {round(rmse_dtr, 2)}')\n",
    "print(f'Наилучшие гиперпараметры: {model_dtr.best_params_}')"
   ]
  },
  {
   "cell_type": "code",
   "execution_count": null,
   "metadata": {},
   "outputs": [],
   "source": []
  },
  {
   "cell_type": "code",
   "execution_count": 60,
   "metadata": {},
   "outputs": [
    {
     "name": "stdout",
     "output_type": "stream",
     "text": [
      "RMSE модели дерево решений равна: 2081.77\n",
      "Наилучшие гиперпараметры: {'max_depth': 9, 'min_samples_split': 8}\n",
      "CPU times: user 30.9 ms, sys: 59.7 ms, total: 90.6 ms\n",
      "Wall time: 97.1 ms\n"
     ]
    }
   ],
   "source": [
    "%%time\n",
    "\n",
    "predict_dtr_valid = model_dtr.predict(features_valid_dum)\n",
    "rmse_dtr_valid = mean_squared_error(target_valid_dum, predict_dtr_valid)**0.5\n",
    "\n",
    "print(f'RMSE модели дерево решений равна: {round(rmse_dtr_valid, 2)}')\n",
    "print(f'Наилучшие гиперпараметры: {model_dtr.best_params_}')"
   ]
  },
  {
   "cell_type": "code",
   "execution_count": null,
   "metadata": {},
   "outputs": [],
   "source": []
  },
  {
   "cell_type": "markdown",
   "metadata": {},
   "source": [
    "__CatBoostRegressor__"
   ]
  },
  {
   "cell_type": "code",
   "execution_count": 61,
   "metadata": {},
   "outputs": [],
   "source": [
    "# создадим список категориальных переменных\n",
    "\n",
    "categ = ['vehicle_type', 'model', 'brand', 'fuel_type']"
   ]
  },
  {
   "cell_type": "code",
   "execution_count": 62,
   "metadata": {},
   "outputs": [
    {
     "name": "stdout",
     "output_type": "stream",
     "text": [
      "CPU times: user 2.4 s, sys: 55.2 ms, total: 2.46 s\n",
      "Wall time: 3.11 s\n"
     ]
    },
    {
     "data": {
      "text/plain": [
       "<catboost.core.CatBoostRegressor at 0x7ff340cab460>"
      ]
     },
     "execution_count": 62,
     "metadata": {},
     "output_type": "execute_result"
    }
   ],
   "source": [
    "%%time\n",
    "\n",
    "model_cat = CatBoostRegressor(loss_function = \"RMSE\", iterations = 50)\n",
    "model_cat.fit(features_train, target_train, cat_features = categ, verbose = False)"
   ]
  },
  {
   "cell_type": "code",
   "execution_count": 63,
   "metadata": {},
   "outputs": [
    {
     "name": "stdout",
     "output_type": "stream",
     "text": [
      "RMSE для CatBoost равна: 1707.84\n",
      "CPU times: user 144 ms, sys: 4.43 ms, total: 148 ms\n",
      "Wall time: 145 ms\n"
     ]
    }
   ],
   "source": [
    "%%time\n",
    "\n",
    "predict_cat = model_cat.predict(features_train)\n",
    "rmse_cat = mean_squared_error(target_train, predict_cat)**0.5\n",
    "\n",
    "print(f'RMSE для CatBoost равна: {round(rmse_cat, 2)}')"
   ]
  },
  {
   "cell_type": "code",
   "execution_count": 64,
   "metadata": {},
   "outputs": [
    {
     "name": "stdout",
     "output_type": "stream",
     "text": [
      "RMSE для CatBoost равна: 1717.79\n",
      "CPU times: user 47.8 ms, sys: 0 ns, total: 47.8 ms\n",
      "Wall time: 46.6 ms\n"
     ]
    }
   ],
   "source": [
    "%%time\n",
    "\n",
    "predict_cat_valid = model_cat.predict(features_valid)\n",
    "rmse_cat_valid = mean_squared_error(target_valid, predict_cat_valid)**0.5\n",
    "\n",
    "print(f'RMSE для CatBoost равна: {round(rmse_cat_valid, 2)}')"
   ]
  },
  {
   "cell_type": "code",
   "execution_count": null,
   "metadata": {},
   "outputs": [],
   "source": []
  },
  {
   "cell_type": "markdown",
   "metadata": {},
   "source": [
    "__LGBMRegressor__"
   ]
  },
  {
   "cell_type": "markdown",
   "metadata": {},
   "source": [
    "для корректной работы нашего бустинга заменим наши типы object на category  "
   ]
  },
  {
   "cell_type": "code",
   "execution_count": 65,
   "metadata": {},
   "outputs": [
    {
     "name": "stdout",
     "output_type": "stream",
     "text": [
      "<class 'pandas.core.frame.DataFrame'>\n",
      "Int64Index: 145782 entries, 201013 to 255637\n",
      "Data columns (total 9 columns):\n",
      " #   Column             Non-Null Count   Dtype   \n",
      "---  ------             --------------   -----   \n",
      " 0   vehicle_type       145782 non-null  category\n",
      " 1   registration_year  145782 non-null  int64   \n",
      " 2   gearbox            145782 non-null  int64   \n",
      " 3   power              145782 non-null  int64   \n",
      " 4   model              145782 non-null  category\n",
      " 5   kilometer          145782 non-null  int64   \n",
      " 6   fuel_type          145782 non-null  category\n",
      " 7   brand              145782 non-null  category\n",
      " 8   repaired           145782 non-null  int64   \n",
      "dtypes: category(4), int64(5)\n",
      "memory usage: 7.4 MB\n"
     ]
    }
   ],
   "source": [
    "features_train[categ] = features_train[categ].astype('category')\n",
    "features_train.info()"
   ]
  },
  {
   "cell_type": "code",
   "execution_count": 66,
   "metadata": {},
   "outputs": [
    {
     "name": "stdout",
     "output_type": "stream",
     "text": [
      "CPU times: user 4.56 s, sys: 27.7 ms, total: 4.58 s\n",
      "Wall time: 4.67 s\n"
     ]
    },
    {
     "data": {
      "text/plain": [
       "LGBMRegressor()"
      ]
     },
     "execution_count": 66,
     "metadata": {},
     "output_type": "execute_result"
    }
   ],
   "source": [
    "%%time\n",
    "\n",
    "model_lgb = LGBMRegressor()\n",
    "model_lgb.fit(features_train, target_train)"
   ]
  },
  {
   "cell_type": "code",
   "execution_count": 67,
   "metadata": {},
   "outputs": [
    {
     "name": "stdout",
     "output_type": "stream",
     "text": [
      "RMSE для LightGradientBoosting равна: 1600.32\n",
      "CPU times: user 1.6 s, sys: 0 ns, total: 1.6 s\n",
      "Wall time: 1.59 s\n"
     ]
    }
   ],
   "source": [
    "%%time\n",
    "\n",
    "predict_lgb = model_lgb.predict(features_train)\n",
    "rmse_lbg = mean_squared_error(target_train, predict_lgb)**0.5\n",
    "\n",
    "print(f'RMSE для LightGradientBoosting равна: {round(rmse_lbg, 2)}')"
   ]
  },
  {
   "cell_type": "code",
   "execution_count": null,
   "metadata": {},
   "outputs": [],
   "source": []
  },
  {
   "cell_type": "code",
   "execution_count": 68,
   "metadata": {},
   "outputs": [],
   "source": [
    "features_valid[categ] = features_valid[categ].astype('category')"
   ]
  },
  {
   "cell_type": "code",
   "execution_count": 69,
   "metadata": {},
   "outputs": [
    {
     "name": "stdout",
     "output_type": "stream",
     "text": [
      "RMSE для LightGradientBoosting равна: 1632.95\n",
      "CPU times: user 541 ms, sys: 0 ns, total: 541 ms\n",
      "Wall time: 568 ms\n"
     ]
    }
   ],
   "source": [
    "%%time\n",
    "predict_lgb_valid = model_lgb.predict(features_valid)\n",
    "rmse_lbg_valid = mean_squared_error(target_valid, predict_lgb_valid)**0.5\n",
    "\n",
    "print(f'RMSE для LightGradientBoosting равна: {round(rmse_lbg_valid, 2)}')"
   ]
  },
  {
   "cell_type": "markdown",
   "metadata": {},
   "source": [
    "На данном этапе мы убучили 4 модели и получили следующие результаты:\n",
    "- LinearRegression: скорость обучения - __45.9s__, предсказания - __2670__, скорость предсказания - __407 ms__.\n",
    "- DecisionTreeRegressor: скорость обучения - __3min__, предсказания - __2026__, скорость предсказания - __368 ms__.\n",
    "- CatBoostRegressor: скорость обучения - __4.59 s__, предсказания - __1717__, скорость предсказания - __186 ms__.\n",
    "- LGBMRegressor: скорость обучения - __1min 53s__, предсказания - __1632__, скорость предсказания - __2.09 s__."
   ]
  },
  {
   "cell_type": "markdown",
   "metadata": {},
   "source": [
    "## Анализ моделей"
   ]
  },
  {
   "cell_type": "markdown",
   "metadata": {},
   "source": [
    "Так как из условия мы знаем, что для заказчика важны такие качества как :\n",
    "- качество предсказания;\n",
    "- время обучения модели;\n",
    "- время предсказания модели.\n",
    "\n",
    "именно в таком порядке, следовательно мы выберем модель __LGBMRegressor__ т.к у нее самый лучший результат - __1569__, но при этом время обучения значительно выше, немного отстающего по результату __CatBoostRegressor__ - __1685__, время обучения которого __4.59 s__\n",
    "\n",
    "Испытаем __LGBMRegressor__ на тестовых данных."
   ]
  },
  {
   "cell_type": "code",
   "execution_count": 70,
   "metadata": {},
   "outputs": [],
   "source": [
    "# так же изменим тип данных с object на category\n",
    "\n",
    "features_test[categ] = features_test[categ].astype('category')"
   ]
  },
  {
   "cell_type": "code",
   "execution_count": 71,
   "metadata": {},
   "outputs": [
    {
     "name": "stdout",
     "output_type": "stream",
     "text": [
      "RMSE на тестовой выборке для LightGradientBoosting равна: 1655.54\n",
      "CPU times: user 535 ms, sys: 0 ns, total: 535 ms\n",
      "Wall time: 484 ms\n"
     ]
    }
   ],
   "source": [
    "%%time\n",
    "\n",
    "predict_lgb_test = model_lgb.predict(features_test)\n",
    "rmse_lbg = mean_squared_error(target_test, predict_lgb_test)**0.5\n",
    "\n",
    "print(f'RMSE на тестовой выборке для LightGradientBoosting равна: {round(rmse_lbg, 2)}')"
   ]
  },
  {
   "cell_type": "markdown",
   "metadata": {},
   "source": [
    "__Вывод__\n",
    "\n",
    "Мы сравнили 4 модели, можно сказать, что градиентные бустинги LightGradientBoosting и CatBoost справились лучше базовых моделей, по итогу лучшей оказался LightGradientBoosting - __rmse : 1655 на тестовой выборке__\n"
   ]
  },
  {
   "cell_type": "code",
   "execution_count": null,
   "metadata": {},
   "outputs": [],
   "source": []
  }
 ],
 "metadata": {
  "ExecuteTimeLog": [
   {
    "duration": 466,
    "start_time": "2023-10-10T10:45:02.936Z"
   },
   {
    "duration": 1519,
    "start_time": "2023-10-10T10:46:31.167Z"
   },
   {
    "duration": 21,
    "start_time": "2023-10-10T10:46:40.994Z"
   },
   {
    "duration": 207,
    "start_time": "2023-10-10T10:48:37.971Z"
   },
   {
    "duration": 87,
    "start_time": "2023-10-10T10:48:50.665Z"
   },
   {
    "duration": 167,
    "start_time": "2023-10-10T10:48:55.468Z"
   },
   {
    "duration": 4,
    "start_time": "2023-10-10T10:49:30.290Z"
   },
   {
    "duration": 14,
    "start_time": "2023-10-10T10:49:47.705Z"
   },
   {
    "duration": 4,
    "start_time": "2023-10-10T10:49:56.896Z"
   },
   {
    "duration": 21,
    "start_time": "2023-10-10T10:50:04.462Z"
   },
   {
    "duration": 0,
    "start_time": "2023-10-10T10:50:55.729Z"
   },
   {
    "duration": 7,
    "start_time": "2023-10-10T10:51:09.173Z"
   },
   {
    "duration": 6,
    "start_time": "2023-10-10T10:51:33.683Z"
   },
   {
    "duration": 5,
    "start_time": "2023-10-10T10:51:36.314Z"
   },
   {
    "duration": 38,
    "start_time": "2023-10-10T10:51:48.667Z"
   },
   {
    "duration": 14,
    "start_time": "2023-10-10T10:52:00.690Z"
   },
   {
    "duration": 10,
    "start_time": "2023-10-10T10:52:17.669Z"
   },
   {
    "duration": 8,
    "start_time": "2023-10-10T10:52:20.520Z"
   },
   {
    "duration": 9,
    "start_time": "2023-10-10T10:52:37.821Z"
   },
   {
    "duration": 12,
    "start_time": "2023-10-10T10:52:41.862Z"
   },
   {
    "duration": 18,
    "start_time": "2023-10-10T10:52:54.647Z"
   },
   {
    "duration": 9,
    "start_time": "2023-10-10T10:53:06.841Z"
   },
   {
    "duration": 9,
    "start_time": "2023-10-10T10:53:14.373Z"
   },
   {
    "duration": 12,
    "start_time": "2023-10-10T10:53:19.218Z"
   },
   {
    "duration": 6,
    "start_time": "2023-10-10T10:53:24.918Z"
   },
   {
    "duration": 6,
    "start_time": "2023-10-10T10:53:45.798Z"
   },
   {
    "duration": 7,
    "start_time": "2023-10-10T10:53:51.319Z"
   },
   {
    "duration": 10,
    "start_time": "2023-10-10T10:53:54.470Z"
   },
   {
    "duration": 10,
    "start_time": "2023-10-10T10:54:48.487Z"
   },
   {
    "duration": 36,
    "start_time": "2023-10-10T10:55:48.335Z"
   },
   {
    "duration": 113,
    "start_time": "2023-10-10T10:56:59.686Z"
   },
   {
    "duration": 30,
    "start_time": "2023-10-10T10:57:48.281Z"
   },
   {
    "duration": 42,
    "start_time": "2023-10-10T10:58:14.762Z"
   },
   {
    "duration": 9,
    "start_time": "2023-10-10T10:59:12.429Z"
   },
   {
    "duration": 14,
    "start_time": "2023-10-10T10:59:34.550Z"
   },
   {
    "duration": 7,
    "start_time": "2023-10-10T10:59:42.031Z"
   },
   {
    "duration": 19,
    "start_time": "2023-10-10T11:00:14.168Z"
   },
   {
    "duration": 432,
    "start_time": "2023-10-10T13:57:00.189Z"
   },
   {
    "duration": 1245,
    "start_time": "2023-10-10T13:57:00.623Z"
   },
   {
    "duration": 22,
    "start_time": "2023-10-10T13:57:01.870Z"
   },
   {
    "duration": 198,
    "start_time": "2023-10-10T13:57:01.893Z"
   },
   {
    "duration": 6,
    "start_time": "2023-10-10T13:57:02.093Z"
   },
   {
    "duration": 77,
    "start_time": "2023-10-10T13:57:02.101Z"
   },
   {
    "duration": 61,
    "start_time": "2023-10-10T13:57:02.180Z"
   },
   {
    "duration": 179,
    "start_time": "2023-10-10T13:57:02.243Z"
   },
   {
    "duration": 31,
    "start_time": "2023-10-10T13:57:02.424Z"
   },
   {
    "duration": 415,
    "start_time": "2023-10-10T13:57:31.283Z"
   },
   {
    "duration": 624,
    "start_time": "2023-10-10T14:00:01.823Z"
   },
   {
    "duration": 122,
    "start_time": "2023-10-10T14:00:15.544Z"
   },
   {
    "duration": 172,
    "start_time": "2023-10-10T14:00:25.958Z"
   },
   {
    "duration": 255,
    "start_time": "2023-10-10T14:02:02.784Z"
   },
   {
    "duration": 273,
    "start_time": "2023-10-10T14:02:19.575Z"
   },
   {
    "duration": 318,
    "start_time": "2023-10-10T14:02:27.535Z"
   },
   {
    "duration": 205,
    "start_time": "2023-10-10T14:02:49.182Z"
   },
   {
    "duration": 53,
    "start_time": "2023-10-13T15:22:57.401Z"
   },
   {
    "duration": 374,
    "start_time": "2023-10-13T15:23:01.665Z"
   },
   {
    "duration": 1071,
    "start_time": "2023-10-13T15:23:02.041Z"
   },
   {
    "duration": 18,
    "start_time": "2023-10-13T15:23:03.113Z"
   },
   {
    "duration": 126,
    "start_time": "2023-10-13T15:23:03.133Z"
   },
   {
    "duration": 7,
    "start_time": "2023-10-13T15:23:03.260Z"
   },
   {
    "duration": 584,
    "start_time": "2023-10-13T15:23:03.269Z"
   },
   {
    "duration": 8,
    "start_time": "2023-10-13T15:23:03.855Z"
   },
   {
    "duration": 43,
    "start_time": "2023-10-13T15:23:03.864Z"
   },
   {
    "duration": 104,
    "start_time": "2023-10-13T15:23:03.909Z"
   },
   {
    "duration": 35,
    "start_time": "2023-10-13T15:23:04.015Z"
   },
   {
    "duration": 148,
    "start_time": "2023-10-13T15:23:41.781Z"
   },
   {
    "duration": 215,
    "start_time": "2023-10-13T15:23:48.860Z"
   },
   {
    "duration": 255,
    "start_time": "2023-10-13T15:23:55.631Z"
   },
   {
    "duration": 216,
    "start_time": "2023-10-13T15:24:10.817Z"
   },
   {
    "duration": 133,
    "start_time": "2023-10-13T15:24:18.071Z"
   },
   {
    "duration": 310,
    "start_time": "2023-10-13T15:24:21.402Z"
   },
   {
    "duration": 167,
    "start_time": "2023-10-13T15:24:30.763Z"
   },
   {
    "duration": 133,
    "start_time": "2023-10-13T15:26:38.741Z"
   },
   {
    "duration": 440,
    "start_time": "2023-10-14T15:50:18.954Z"
   },
   {
    "duration": 2844,
    "start_time": "2023-10-14T15:50:19.396Z"
   },
   {
    "duration": 22,
    "start_time": "2023-10-14T15:50:22.242Z"
   },
   {
    "duration": 182,
    "start_time": "2023-10-14T15:50:22.266Z"
   },
   {
    "duration": 6,
    "start_time": "2023-10-14T15:50:22.450Z"
   },
   {
    "duration": 580,
    "start_time": "2023-10-14T15:50:22.457Z"
   },
   {
    "duration": 11,
    "start_time": "2023-10-14T15:50:23.039Z"
   },
   {
    "duration": 24,
    "start_time": "2023-10-14T15:50:23.051Z"
   },
   {
    "duration": 104,
    "start_time": "2023-10-14T15:50:23.076Z"
   },
   {
    "duration": 25,
    "start_time": "2023-10-14T15:50:23.182Z"
   },
   {
    "duration": 105,
    "start_time": "2023-10-14T15:52:04.005Z"
   },
   {
    "duration": 8,
    "start_time": "2023-10-14T15:52:12.870Z"
   },
   {
    "duration": 8,
    "start_time": "2023-10-14T15:52:25.874Z"
   },
   {
    "duration": 10,
    "start_time": "2023-10-14T15:52:42.686Z"
   },
   {
    "duration": 9,
    "start_time": "2023-10-14T15:52:50.161Z"
   },
   {
    "duration": 106,
    "start_time": "2023-10-14T15:52:56.446Z"
   },
   {
    "duration": 38,
    "start_time": "2023-10-14T15:53:18.415Z"
   },
   {
    "duration": 8,
    "start_time": "2023-10-14T15:54:16.743Z"
   },
   {
    "duration": 8,
    "start_time": "2023-10-14T15:54:26.894Z"
   },
   {
    "duration": 9,
    "start_time": "2023-10-14T15:54:29.414Z"
   },
   {
    "duration": 8,
    "start_time": "2023-10-14T15:54:34.729Z"
   },
   {
    "duration": 8,
    "start_time": "2023-10-14T15:54:37.379Z"
   },
   {
    "duration": 435,
    "start_time": "2023-10-14T15:55:12.995Z"
   },
   {
    "duration": 422,
    "start_time": "2023-10-14T15:55:17.355Z"
   },
   {
    "duration": 3,
    "start_time": "2023-10-14T15:55:56.272Z"
   },
   {
    "duration": 802,
    "start_time": "2023-10-14T15:55:56.592Z"
   },
   {
    "duration": 14,
    "start_time": "2023-10-14T15:55:57.396Z"
   },
   {
    "duration": 14,
    "start_time": "2023-10-14T15:56:01.977Z"
   },
   {
    "duration": 158,
    "start_time": "2023-10-14T15:56:02.364Z"
   },
   {
    "duration": 402,
    "start_time": "2023-10-14T15:56:05.077Z"
   },
   {
    "duration": 5,
    "start_time": "2023-10-14T15:56:06.447Z"
   },
   {
    "duration": 461,
    "start_time": "2023-10-14T15:56:50.729Z"
   },
   {
    "duration": 10,
    "start_time": "2023-10-14T15:56:57.424Z"
   },
   {
    "duration": 8,
    "start_time": "2023-10-14T15:57:05.323Z"
   },
   {
    "duration": 416,
    "start_time": "2023-10-14T15:58:06.335Z"
   },
   {
    "duration": 846,
    "start_time": "2023-10-14T15:58:06.753Z"
   },
   {
    "duration": 20,
    "start_time": "2023-10-14T15:58:07.600Z"
   },
   {
    "duration": 155,
    "start_time": "2023-10-14T15:58:07.622Z"
   },
   {
    "duration": 466,
    "start_time": "2023-10-14T15:58:07.779Z"
   },
   {
    "duration": 5,
    "start_time": "2023-10-14T15:58:08.247Z"
   },
   {
    "duration": 86,
    "start_time": "2023-10-14T15:58:08.254Z"
   },
   {
    "duration": 0,
    "start_time": "2023-10-14T15:58:08.342Z"
   },
   {
    "duration": 0,
    "start_time": "2023-10-14T15:58:08.343Z"
   },
   {
    "duration": 0,
    "start_time": "2023-10-14T15:58:08.344Z"
   },
   {
    "duration": 0,
    "start_time": "2023-10-14T15:58:08.345Z"
   },
   {
    "duration": 451,
    "start_time": "2023-10-14T15:58:33.032Z"
   },
   {
    "duration": 872,
    "start_time": "2023-10-14T15:58:37.842Z"
   },
   {
    "duration": 6,
    "start_time": "2023-10-14T16:03:57.763Z"
   },
   {
    "duration": 54,
    "start_time": "2023-10-14T16:04:00.918Z"
   },
   {
    "duration": 30,
    "start_time": "2023-10-14T16:04:17.789Z"
   },
   {
    "duration": 231,
    "start_time": "2023-10-14T16:04:27.330Z"
   },
   {
    "duration": 23,
    "start_time": "2023-10-14T16:04:38.734Z"
   },
   {
    "duration": 24,
    "start_time": "2023-10-14T16:04:53.680Z"
   },
   {
    "duration": 23,
    "start_time": "2023-10-14T16:04:57.965Z"
   },
   {
    "duration": 20,
    "start_time": "2023-10-14T16:06:34.828Z"
   },
   {
    "duration": 15,
    "start_time": "2023-10-14T16:06:45.379Z"
   },
   {
    "duration": 367,
    "start_time": "2023-10-14T16:09:21.477Z"
   },
   {
    "duration": 829,
    "start_time": "2023-10-14T16:09:21.846Z"
   },
   {
    "duration": 20,
    "start_time": "2023-10-14T16:09:22.678Z"
   },
   {
    "duration": 155,
    "start_time": "2023-10-14T16:09:22.701Z"
   },
   {
    "duration": 451,
    "start_time": "2023-10-14T16:09:22.858Z"
   },
   {
    "duration": 1021,
    "start_time": "2023-10-14T16:09:23.311Z"
   },
   {
    "duration": 11,
    "start_time": "2023-10-14T16:09:24.334Z"
   },
   {
    "duration": 44,
    "start_time": "2023-10-14T16:09:24.347Z"
   },
   {
    "duration": 73,
    "start_time": "2023-10-14T16:09:24.393Z"
   },
   {
    "duration": 0,
    "start_time": "2023-10-14T16:09:24.468Z"
   },
   {
    "duration": 0,
    "start_time": "2023-10-14T16:09:24.469Z"
   },
   {
    "duration": 0,
    "start_time": "2023-10-14T16:09:24.470Z"
   },
   {
    "duration": 0,
    "start_time": "2023-10-14T16:09:24.471Z"
   },
   {
    "duration": 0,
    "start_time": "2023-10-14T16:09:24.472Z"
   },
   {
    "duration": 3,
    "start_time": "2023-10-14T16:09:44.915Z"
   },
   {
    "duration": 29,
    "start_time": "2023-10-14T16:10:26.926Z"
   },
   {
    "duration": 26,
    "start_time": "2023-10-14T16:13:32.153Z"
   },
   {
    "duration": 26,
    "start_time": "2023-10-14T16:13:47.619Z"
   },
   {
    "duration": 28,
    "start_time": "2023-10-14T16:14:17.683Z"
   },
   {
    "duration": 39,
    "start_time": "2023-10-14T16:14:24.223Z"
   },
   {
    "duration": 52,
    "start_time": "2023-10-14T16:14:39.887Z"
   },
   {
    "duration": 60,
    "start_time": "2023-10-14T16:14:50.658Z"
   },
   {
    "duration": 45,
    "start_time": "2023-10-14T16:14:53.348Z"
   },
   {
    "duration": 460,
    "start_time": "2023-10-14T16:15:00.023Z"
   },
   {
    "duration": 238,
    "start_time": "2023-10-14T16:15:10.208Z"
   },
   {
    "duration": 17,
    "start_time": "2023-10-14T16:17:19.441Z"
   },
   {
    "duration": 28,
    "start_time": "2023-10-14T16:17:25.136Z"
   },
   {
    "duration": 23,
    "start_time": "2023-10-14T16:17:29.656Z"
   },
   {
    "duration": 25,
    "start_time": "2023-10-14T16:17:34.886Z"
   },
   {
    "duration": 25,
    "start_time": "2023-10-14T16:17:38.150Z"
   },
   {
    "duration": 10,
    "start_time": "2023-10-14T16:17:55.036Z"
   },
   {
    "duration": 6,
    "start_time": "2023-10-14T16:17:58.811Z"
   },
   {
    "duration": 8,
    "start_time": "2023-10-14T16:18:03.320Z"
   },
   {
    "duration": 11,
    "start_time": "2023-10-14T16:18:06.881Z"
   },
   {
    "duration": 9,
    "start_time": "2023-10-14T16:18:10.906Z"
   },
   {
    "duration": 6,
    "start_time": "2023-10-14T16:18:59.383Z"
   },
   {
    "duration": 8,
    "start_time": "2023-10-14T16:19:07.238Z"
   },
   {
    "duration": 6,
    "start_time": "2023-10-14T16:19:11.258Z"
   },
   {
    "duration": 4,
    "start_time": "2023-10-14T16:19:15.709Z"
   },
   {
    "duration": 5,
    "start_time": "2023-10-14T16:19:24.692Z"
   },
   {
    "duration": 8,
    "start_time": "2023-10-14T16:19:31.944Z"
   },
   {
    "duration": 6,
    "start_time": "2023-10-14T16:19:35.194Z"
   },
   {
    "duration": 9,
    "start_time": "2023-10-14T16:19:41.773Z"
   },
   {
    "duration": 5,
    "start_time": "2023-10-14T16:19:45.699Z"
   },
   {
    "duration": 6,
    "start_time": "2023-10-14T16:19:48.748Z"
   },
   {
    "duration": 4,
    "start_time": "2023-10-14T16:21:16.136Z"
   },
   {
    "duration": 5,
    "start_time": "2023-10-14T16:21:29.070Z"
   },
   {
    "duration": 5,
    "start_time": "2023-10-14T16:21:53.657Z"
   },
   {
    "duration": 6,
    "start_time": "2023-10-14T16:22:01.426Z"
   },
   {
    "duration": 4,
    "start_time": "2023-10-14T16:22:07.071Z"
   },
   {
    "duration": 5,
    "start_time": "2023-10-14T16:22:16.883Z"
   },
   {
    "duration": 4,
    "start_time": "2023-10-14T16:22:31.107Z"
   },
   {
    "duration": 25,
    "start_time": "2023-10-14T16:23:17.094Z"
   },
   {
    "duration": 26,
    "start_time": "2023-10-14T16:23:37.395Z"
   },
   {
    "duration": 416,
    "start_time": "2023-10-14T16:24:16.621Z"
   },
   {
    "duration": 834,
    "start_time": "2023-10-14T16:24:17.039Z"
   },
   {
    "duration": 19,
    "start_time": "2023-10-14T16:24:17.875Z"
   },
   {
    "duration": 149,
    "start_time": "2023-10-14T16:24:17.895Z"
   },
   {
    "duration": 451,
    "start_time": "2023-10-14T16:24:18.046Z"
   },
   {
    "duration": 939,
    "start_time": "2023-10-14T16:24:18.499Z"
   },
   {
    "duration": 7,
    "start_time": "2023-10-14T16:24:19.439Z"
   },
   {
    "duration": 30,
    "start_time": "2023-10-14T16:24:19.447Z"
   },
   {
    "duration": 30,
    "start_time": "2023-10-14T16:24:19.479Z"
   },
   {
    "duration": 49,
    "start_time": "2023-10-14T16:24:19.511Z"
   },
   {
    "duration": 51,
    "start_time": "2023-10-14T16:24:19.562Z"
   },
   {
    "duration": 50,
    "start_time": "2023-10-14T16:24:19.615Z"
   },
   {
    "duration": 7,
    "start_time": "2023-10-14T16:24:19.667Z"
   },
   {
    "duration": 19,
    "start_time": "2023-10-14T16:24:19.677Z"
   },
   {
    "duration": 110,
    "start_time": "2023-10-14T16:24:19.697Z"
   },
   {
    "duration": 24,
    "start_time": "2023-10-14T16:24:19.809Z"
   },
   {
    "duration": 40,
    "start_time": "2023-10-14T16:25:49.118Z"
   },
   {
    "duration": 53,
    "start_time": "2023-10-14T16:31:17.652Z"
   },
   {
    "duration": 112,
    "start_time": "2023-10-14T16:31:22.911Z"
   },
   {
    "duration": 39,
    "start_time": "2023-10-14T16:31:27.596Z"
   },
   {
    "duration": 58,
    "start_time": "2023-10-14T16:31:30.892Z"
   },
   {
    "duration": 1335,
    "start_time": "2023-10-14T16:33:58.397Z"
   },
   {
    "duration": 491,
    "start_time": "2023-10-14T16:34:10.931Z"
   },
   {
    "duration": 162,
    "start_time": "2023-10-14T16:34:18.182Z"
   },
   {
    "duration": 6,
    "start_time": "2023-10-14T16:38:48.275Z"
   },
   {
    "duration": 14,
    "start_time": "2023-10-14T16:38:56.710Z"
   },
   {
    "duration": 411,
    "start_time": "2023-10-14T16:39:25.041Z"
   },
   {
    "duration": 868,
    "start_time": "2023-10-14T16:39:25.454Z"
   },
   {
    "duration": 32,
    "start_time": "2023-10-14T16:39:26.324Z"
   },
   {
    "duration": 6,
    "start_time": "2023-10-14T16:39:26.359Z"
   },
   {
    "duration": 29,
    "start_time": "2023-10-14T16:39:26.367Z"
   },
   {
    "duration": 156,
    "start_time": "2023-10-14T16:39:26.398Z"
   },
   {
    "duration": 458,
    "start_time": "2023-10-14T16:39:26.556Z"
   },
   {
    "duration": 969,
    "start_time": "2023-10-14T16:39:27.016Z"
   },
   {
    "duration": 3,
    "start_time": "2023-10-14T16:39:27.987Z"
   },
   {
    "duration": 1297,
    "start_time": "2023-10-14T16:39:27.992Z"
   },
   {
    "duration": 0,
    "start_time": "2023-10-14T16:39:29.291Z"
   },
   {
    "duration": 0,
    "start_time": "2023-10-14T16:39:29.292Z"
   },
   {
    "duration": 0,
    "start_time": "2023-10-14T16:39:29.293Z"
   },
   {
    "duration": 0,
    "start_time": "2023-10-14T16:39:29.295Z"
   },
   {
    "duration": 0,
    "start_time": "2023-10-14T16:39:29.296Z"
   },
   {
    "duration": 0,
    "start_time": "2023-10-14T16:39:29.296Z"
   },
   {
    "duration": 0,
    "start_time": "2023-10-14T16:39:29.297Z"
   },
   {
    "duration": 0,
    "start_time": "2023-10-14T16:39:29.298Z"
   },
   {
    "duration": 0,
    "start_time": "2023-10-14T16:39:29.299Z"
   },
   {
    "duration": 0,
    "start_time": "2023-10-14T16:39:29.300Z"
   },
   {
    "duration": 0,
    "start_time": "2023-10-14T16:39:29.301Z"
   },
   {
    "duration": 31,
    "start_time": "2023-10-14T16:39:53.888Z"
   },
   {
    "duration": 31,
    "start_time": "2023-10-14T16:39:59.811Z"
   },
   {
    "duration": 391,
    "start_time": "2023-10-14T16:40:18.679Z"
   },
   {
    "duration": 837,
    "start_time": "2023-10-14T16:40:19.072Z"
   },
   {
    "duration": 20,
    "start_time": "2023-10-14T16:40:19.911Z"
   },
   {
    "duration": 4,
    "start_time": "2023-10-14T16:40:19.945Z"
   },
   {
    "duration": 16,
    "start_time": "2023-10-14T16:40:19.951Z"
   },
   {
    "duration": 168,
    "start_time": "2023-10-14T16:40:19.969Z"
   },
   {
    "duration": 517,
    "start_time": "2023-10-14T16:40:20.144Z"
   },
   {
    "duration": 979,
    "start_time": "2023-10-14T16:40:20.663Z"
   },
   {
    "duration": 4,
    "start_time": "2023-10-14T16:40:21.643Z"
   },
   {
    "duration": 43,
    "start_time": "2023-10-14T16:40:21.649Z"
   },
   {
    "duration": 28,
    "start_time": "2023-10-14T16:40:21.694Z"
   },
   {
    "duration": 47,
    "start_time": "2023-10-14T16:40:21.723Z"
   },
   {
    "duration": 73,
    "start_time": "2023-10-14T16:40:21.772Z"
   },
   {
    "duration": 25,
    "start_time": "2023-10-14T16:40:21.847Z"
   },
   {
    "duration": 81,
    "start_time": "2023-10-14T16:40:21.874Z"
   },
   {
    "duration": 415,
    "start_time": "2023-10-14T16:40:21.957Z"
   },
   {
    "duration": 1311,
    "start_time": "2023-10-14T16:40:22.374Z"
   },
   {
    "duration": 0,
    "start_time": "2023-10-14T16:40:23.687Z"
   },
   {
    "duration": 0,
    "start_time": "2023-10-14T16:40:23.688Z"
   },
   {
    "duration": 0,
    "start_time": "2023-10-14T16:40:23.689Z"
   },
   {
    "duration": 0,
    "start_time": "2023-10-14T16:40:23.691Z"
   },
   {
    "duration": 30,
    "start_time": "2023-10-14T16:40:58.374Z"
   },
   {
    "duration": 17,
    "start_time": "2023-10-14T16:41:09.652Z"
   },
   {
    "duration": 37,
    "start_time": "2023-10-14T16:45:01.801Z"
   },
   {
    "duration": 11,
    "start_time": "2023-10-14T16:45:33.273Z"
   },
   {
    "duration": 26,
    "start_time": "2023-10-14T16:45:36.713Z"
   },
   {
    "duration": 15,
    "start_time": "2023-10-14T16:45:39.533Z"
   },
   {
    "duration": 43,
    "start_time": "2023-10-14T16:45:42.671Z"
   },
   {
    "duration": 23,
    "start_time": "2023-10-14T16:46:12.614Z"
   },
   {
    "duration": 23,
    "start_time": "2023-10-14T16:46:17.433Z"
   },
   {
    "duration": 1337,
    "start_time": "2023-10-14T16:48:28.480Z"
   },
   {
    "duration": 1608,
    "start_time": "2023-10-14T16:49:07.926Z"
   },
   {
    "duration": 245,
    "start_time": "2023-10-14T16:50:13.258Z"
   },
   {
    "duration": 397,
    "start_time": "2023-10-14T16:50:38.341Z"
   },
   {
    "duration": 873,
    "start_time": "2023-10-14T16:50:38.739Z"
   },
   {
    "duration": 20,
    "start_time": "2023-10-14T16:50:39.614Z"
   },
   {
    "duration": 4,
    "start_time": "2023-10-14T16:50:39.643Z"
   },
   {
    "duration": 32,
    "start_time": "2023-10-14T16:50:39.650Z"
   },
   {
    "duration": 146,
    "start_time": "2023-10-14T16:50:39.683Z"
   },
   {
    "duration": 528,
    "start_time": "2023-10-14T16:50:39.830Z"
   },
   {
    "duration": 1048,
    "start_time": "2023-10-14T16:50:40.360Z"
   },
   {
    "duration": 3,
    "start_time": "2023-10-14T16:50:41.410Z"
   },
   {
    "duration": 44,
    "start_time": "2023-10-14T16:50:41.414Z"
   },
   {
    "duration": 28,
    "start_time": "2023-10-14T16:50:41.460Z"
   },
   {
    "duration": 33,
    "start_time": "2023-10-14T16:50:41.489Z"
   },
   {
    "duration": 79,
    "start_time": "2023-10-14T16:50:41.523Z"
   },
   {
    "duration": 549,
    "start_time": "2023-10-14T16:50:41.604Z"
   },
   {
    "duration": 33,
    "start_time": "2023-10-14T16:50:42.156Z"
   },
   {
    "duration": 92,
    "start_time": "2023-10-14T16:50:42.191Z"
   },
   {
    "duration": 19,
    "start_time": "2023-10-14T16:50:42.286Z"
   },
   {
    "duration": 1885,
    "start_time": "2023-10-14T16:50:42.309Z"
   },
   {
    "duration": 1395,
    "start_time": "2023-10-14T16:50:44.197Z"
   },
   {
    "duration": 0,
    "start_time": "2023-10-14T16:50:45.595Z"
   },
   {
    "duration": 0,
    "start_time": "2023-10-14T16:50:45.597Z"
   },
   {
    "duration": 0,
    "start_time": "2023-10-14T16:50:45.598Z"
   },
   {
    "duration": 39,
    "start_time": "2023-10-14T16:52:24.468Z"
   },
   {
    "duration": 241,
    "start_time": "2023-10-14T16:52:28.274Z"
   },
   {
    "duration": 317,
    "start_time": "2023-10-14T16:52:37.629Z"
   },
   {
    "duration": 56,
    "start_time": "2023-10-14T16:53:18.046Z"
   },
   {
    "duration": 228,
    "start_time": "2023-10-14T16:53:20.715Z"
   },
   {
    "duration": 400,
    "start_time": "2023-10-14T16:53:27.956Z"
   },
   {
    "duration": 898,
    "start_time": "2023-10-14T16:53:28.358Z"
   },
   {
    "duration": 22,
    "start_time": "2023-10-14T16:53:29.257Z"
   },
   {
    "duration": 4,
    "start_time": "2023-10-14T16:53:29.281Z"
   },
   {
    "duration": 20,
    "start_time": "2023-10-14T16:53:29.287Z"
   },
   {
    "duration": 172,
    "start_time": "2023-10-14T16:53:29.308Z"
   },
   {
    "duration": 528,
    "start_time": "2023-10-14T16:53:29.482Z"
   },
   {
    "duration": 992,
    "start_time": "2023-10-14T16:53:30.012Z"
   },
   {
    "duration": 4,
    "start_time": "2023-10-14T16:53:31.006Z"
   },
   {
    "duration": 251,
    "start_time": "2023-10-14T16:53:31.012Z"
   },
   {
    "duration": 67,
    "start_time": "2023-10-14T16:53:31.264Z"
   },
   {
    "duration": 148,
    "start_time": "2023-10-14T16:53:31.334Z"
   },
   {
    "duration": 81,
    "start_time": "2023-10-14T16:53:31.484Z"
   },
   {
    "duration": 515,
    "start_time": "2023-10-14T16:53:31.568Z"
   },
   {
    "duration": 26,
    "start_time": "2023-10-14T16:53:32.085Z"
   },
   {
    "duration": 107,
    "start_time": "2023-10-14T16:53:32.113Z"
   },
   {
    "duration": 17,
    "start_time": "2023-10-14T16:53:32.221Z"
   },
   {
    "duration": 1580,
    "start_time": "2023-10-14T16:53:32.240Z"
   },
   {
    "duration": 1418,
    "start_time": "2023-10-14T16:53:33.822Z"
   },
   {
    "duration": 0,
    "start_time": "2023-10-14T16:53:35.242Z"
   },
   {
    "duration": 0,
    "start_time": "2023-10-14T16:53:35.243Z"
   },
   {
    "duration": 0,
    "start_time": "2023-10-14T16:53:35.244Z"
   },
   {
    "duration": 52,
    "start_time": "2023-10-14T16:54:37.494Z"
   },
   {
    "duration": 209,
    "start_time": "2023-10-14T16:55:08.248Z"
   },
   {
    "duration": 205,
    "start_time": "2023-10-14T16:55:18.271Z"
   },
   {
    "duration": 90,
    "start_time": "2023-10-14T16:56:42.863Z"
   },
   {
    "duration": 52,
    "start_time": "2023-10-14T16:56:47.580Z"
   },
   {
    "duration": 1274,
    "start_time": "2023-10-14T16:56:58.654Z"
   },
   {
    "duration": 208,
    "start_time": "2023-10-14T16:58:12.777Z"
   },
   {
    "duration": 318,
    "start_time": "2023-10-14T16:58:21.242Z"
   },
   {
    "duration": 77,
    "start_time": "2023-10-14T16:58:48.728Z"
   },
   {
    "duration": 17,
    "start_time": "2023-10-14T16:59:15.868Z"
   },
   {
    "duration": 40,
    "start_time": "2023-10-14T16:59:43.990Z"
   },
   {
    "duration": 41,
    "start_time": "2023-10-14T16:59:50.586Z"
   },
   {
    "duration": 1355,
    "start_time": "2023-10-14T17:00:00.190Z"
   },
   {
    "duration": 21,
    "start_time": "2023-10-14T17:00:10.196Z"
   },
   {
    "duration": 18,
    "start_time": "2023-10-14T17:03:29.758Z"
   },
   {
    "duration": 129,
    "start_time": "2023-10-14T17:03:33.424Z"
   },
   {
    "duration": 146,
    "start_time": "2023-10-14T17:04:26.210Z"
   },
   {
    "duration": 13,
    "start_time": "2023-10-14T17:08:39.638Z"
   },
   {
    "duration": 14,
    "start_time": "2023-10-14T17:08:46.753Z"
   },
   {
    "duration": 12,
    "start_time": "2023-10-14T17:11:31.571Z"
   },
   {
    "duration": 14,
    "start_time": "2023-10-14T17:11:36.106Z"
   },
   {
    "duration": 13,
    "start_time": "2023-10-14T17:13:13.827Z"
   },
   {
    "duration": 445,
    "start_time": "2023-10-14T17:13:30.360Z"
   },
   {
    "duration": 988,
    "start_time": "2023-10-14T17:13:30.807Z"
   },
   {
    "duration": 21,
    "start_time": "2023-10-14T17:13:31.797Z"
   },
   {
    "duration": 56,
    "start_time": "2023-10-14T17:13:31.819Z"
   },
   {
    "duration": 40,
    "start_time": "2023-10-14T17:13:31.878Z"
   },
   {
    "duration": 199,
    "start_time": "2023-10-14T17:13:31.919Z"
   },
   {
    "duration": 592,
    "start_time": "2023-10-14T17:13:32.120Z"
   },
   {
    "duration": 1172,
    "start_time": "2023-10-14T17:13:32.713Z"
   },
   {
    "duration": 6,
    "start_time": "2023-10-14T17:13:33.887Z"
   },
   {
    "duration": 75,
    "start_time": "2023-10-14T17:13:33.894Z"
   },
   {
    "duration": 42,
    "start_time": "2023-10-14T17:13:33.971Z"
   },
   {
    "duration": 79,
    "start_time": "2023-10-14T17:13:34.015Z"
   },
   {
    "duration": 73,
    "start_time": "2023-10-14T17:13:34.096Z"
   },
   {
    "duration": 660,
    "start_time": "2023-10-14T17:13:34.172Z"
   },
   {
    "duration": 38,
    "start_time": "2023-10-14T17:13:34.834Z"
   },
   {
    "duration": 80,
    "start_time": "2023-10-14T17:13:34.874Z"
   },
   {
    "duration": 21,
    "start_time": "2023-10-14T17:13:34.960Z"
   },
   {
    "duration": 79,
    "start_time": "2023-10-14T17:13:34.984Z"
   },
   {
    "duration": 276,
    "start_time": "2023-10-14T17:13:35.067Z"
   },
   {
    "duration": 54,
    "start_time": "2023-10-14T17:13:35.349Z"
   },
   {
    "duration": 248,
    "start_time": "2023-10-14T17:13:35.405Z"
   },
   {
    "duration": 19,
    "start_time": "2023-10-14T17:13:35.654Z"
   },
   {
    "duration": 44,
    "start_time": "2023-10-14T17:13:35.674Z"
   },
   {
    "duration": 186,
    "start_time": "2023-10-14T17:13:35.720Z"
   },
   {
    "duration": 40,
    "start_time": "2023-10-14T17:13:35.909Z"
   },
   {
    "duration": 26,
    "start_time": "2023-10-14T17:13:35.953Z"
   },
   {
    "duration": 402,
    "start_time": "2023-10-14T17:14:03.465Z"
   },
   {
    "duration": 1107,
    "start_time": "2023-10-14T17:14:03.870Z"
   },
   {
    "duration": 32,
    "start_time": "2023-10-14T17:14:04.979Z"
   },
   {
    "duration": 5,
    "start_time": "2023-10-14T17:14:05.013Z"
   },
   {
    "duration": 20,
    "start_time": "2023-10-14T17:14:05.044Z"
   },
   {
    "duration": 227,
    "start_time": "2023-10-14T17:14:05.070Z"
   },
   {
    "duration": 719,
    "start_time": "2023-10-14T17:14:05.299Z"
   },
   {
    "duration": 1171,
    "start_time": "2023-10-14T17:14:06.020Z"
   },
   {
    "duration": 5,
    "start_time": "2023-10-14T17:14:07.194Z"
   },
   {
    "duration": 33,
    "start_time": "2023-10-14T17:14:07.202Z"
   },
   {
    "duration": 41,
    "start_time": "2023-10-14T17:14:07.246Z"
   },
   {
    "duration": 72,
    "start_time": "2023-10-14T17:14:07.289Z"
   },
   {
    "duration": 74,
    "start_time": "2023-10-14T17:14:07.365Z"
   },
   {
    "duration": 549,
    "start_time": "2023-10-14T17:14:07.442Z"
   },
   {
    "duration": 29,
    "start_time": "2023-10-14T17:14:07.993Z"
   },
   {
    "duration": 97,
    "start_time": "2023-10-14T17:14:08.024Z"
   },
   {
    "duration": 40,
    "start_time": "2023-10-14T17:14:08.123Z"
   },
   {
    "duration": 56,
    "start_time": "2023-10-14T17:14:08.169Z"
   },
   {
    "duration": 260,
    "start_time": "2023-10-14T17:14:08.226Z"
   },
   {
    "duration": 63,
    "start_time": "2023-10-14T17:14:08.488Z"
   },
   {
    "duration": 285,
    "start_time": "2023-10-14T17:14:08.552Z"
   },
   {
    "duration": 25,
    "start_time": "2023-10-14T17:14:08.839Z"
   },
   {
    "duration": 53,
    "start_time": "2023-10-14T17:14:08.866Z"
   },
   {
    "duration": 208,
    "start_time": "2023-10-14T17:14:08.922Z"
   },
   {
    "duration": 43,
    "start_time": "2023-10-14T17:14:09.132Z"
   },
   {
    "duration": 22,
    "start_time": "2023-10-14T17:14:09.177Z"
   },
   {
    "duration": 121,
    "start_time": "2023-10-14T17:14:16.140Z"
   },
   {
    "duration": 447,
    "start_time": "2023-10-14T17:15:40.248Z"
   },
   {
    "duration": 1006,
    "start_time": "2023-10-14T17:15:40.698Z"
   },
   {
    "duration": 32,
    "start_time": "2023-10-14T17:15:41.710Z"
   },
   {
    "duration": 5,
    "start_time": "2023-10-14T17:15:41.745Z"
   },
   {
    "duration": 35,
    "start_time": "2023-10-14T17:15:41.753Z"
   },
   {
    "duration": 234,
    "start_time": "2023-10-14T17:15:41.790Z"
   },
   {
    "duration": 583,
    "start_time": "2023-10-14T17:15:42.027Z"
   },
   {
    "duration": 1092,
    "start_time": "2023-10-14T17:15:42.613Z"
   },
   {
    "duration": 4,
    "start_time": "2023-10-14T17:15:43.707Z"
   },
   {
    "duration": 59,
    "start_time": "2023-10-14T17:15:43.713Z"
   },
   {
    "duration": 34,
    "start_time": "2023-10-14T17:15:43.774Z"
   },
   {
    "duration": 61,
    "start_time": "2023-10-14T17:15:43.810Z"
   },
   {
    "duration": 58,
    "start_time": "2023-10-14T17:15:43.873Z"
   },
   {
    "duration": 685,
    "start_time": "2023-10-14T17:15:43.933Z"
   },
   {
    "duration": 38,
    "start_time": "2023-10-14T17:15:44.620Z"
   },
   {
    "duration": 62,
    "start_time": "2023-10-14T17:15:44.663Z"
   },
   {
    "duration": 32,
    "start_time": "2023-10-14T17:15:44.727Z"
   },
   {
    "duration": 68,
    "start_time": "2023-10-14T17:15:44.761Z"
   },
   {
    "duration": 254,
    "start_time": "2023-10-14T17:15:44.844Z"
   },
   {
    "duration": 56,
    "start_time": "2023-10-14T17:15:45.100Z"
   },
   {
    "duration": 210,
    "start_time": "2023-10-14T17:15:45.158Z"
   },
   {
    "duration": 16,
    "start_time": "2023-10-14T17:15:45.370Z"
   },
   {
    "duration": 55,
    "start_time": "2023-10-14T17:15:45.388Z"
   },
   {
    "duration": 137,
    "start_time": "2023-10-14T17:15:45.445Z"
   },
   {
    "duration": 23,
    "start_time": "2023-10-14T17:15:45.583Z"
   },
   {
    "duration": 40,
    "start_time": "2023-10-14T17:15:45.607Z"
   },
   {
    "duration": 336,
    "start_time": "2023-10-14T17:16:04.878Z"
   },
   {
    "duration": 402,
    "start_time": "2023-10-14T17:16:10.155Z"
   },
   {
    "duration": 880,
    "start_time": "2023-10-14T17:16:10.559Z"
   },
   {
    "duration": 29,
    "start_time": "2023-10-14T17:16:11.441Z"
   },
   {
    "duration": 5,
    "start_time": "2023-10-14T17:16:11.471Z"
   },
   {
    "duration": 35,
    "start_time": "2023-10-14T17:16:11.479Z"
   },
   {
    "duration": 146,
    "start_time": "2023-10-14T17:16:11.516Z"
   },
   {
    "duration": 536,
    "start_time": "2023-10-14T17:16:11.663Z"
   },
   {
    "duration": 1142,
    "start_time": "2023-10-14T17:16:12.201Z"
   },
   {
    "duration": 5,
    "start_time": "2023-10-14T17:16:13.345Z"
   },
   {
    "duration": 44,
    "start_time": "2023-10-14T17:16:13.351Z"
   },
   {
    "duration": 30,
    "start_time": "2023-10-14T17:16:13.397Z"
   },
   {
    "duration": 53,
    "start_time": "2023-10-14T17:16:13.429Z"
   },
   {
    "duration": 86,
    "start_time": "2023-10-14T17:16:13.485Z"
   },
   {
    "duration": 625,
    "start_time": "2023-10-14T17:16:13.575Z"
   },
   {
    "duration": 55,
    "start_time": "2023-10-14T17:16:14.202Z"
   },
   {
    "duration": 62,
    "start_time": "2023-10-14T17:16:14.258Z"
   },
   {
    "duration": 32,
    "start_time": "2023-10-14T17:16:14.322Z"
   },
   {
    "duration": 69,
    "start_time": "2023-10-14T17:16:14.356Z"
   },
   {
    "duration": 247,
    "start_time": "2023-10-14T17:16:14.427Z"
   },
   {
    "duration": 55,
    "start_time": "2023-10-14T17:16:14.676Z"
   },
   {
    "duration": 272,
    "start_time": "2023-10-14T17:16:14.733Z"
   },
   {
    "duration": 24,
    "start_time": "2023-10-14T17:16:15.008Z"
   },
   {
    "duration": 56,
    "start_time": "2023-10-14T17:16:15.052Z"
   },
   {
    "duration": 163,
    "start_time": "2023-10-14T17:16:15.110Z"
   },
   {
    "duration": 23,
    "start_time": "2023-10-14T17:16:15.275Z"
   },
   {
    "duration": 32,
    "start_time": "2023-10-14T17:16:15.299Z"
   },
   {
    "duration": 11,
    "start_time": "2023-10-14T17:16:26.819Z"
   },
   {
    "duration": 99,
    "start_time": "2023-10-14T17:17:28.062Z"
   },
   {
    "duration": 116,
    "start_time": "2023-10-14T17:17:31.537Z"
   },
   {
    "duration": 1237,
    "start_time": "2023-10-14T17:18:11.277Z"
   },
   {
    "duration": 417,
    "start_time": "2023-10-14T17:18:20.005Z"
   },
   {
    "duration": 853,
    "start_time": "2023-10-14T17:18:20.424Z"
   },
   {
    "duration": 23,
    "start_time": "2023-10-14T17:18:21.281Z"
   },
   {
    "duration": 11,
    "start_time": "2023-10-14T17:18:21.307Z"
   },
   {
    "duration": 35,
    "start_time": "2023-10-14T17:18:21.320Z"
   },
   {
    "duration": 160,
    "start_time": "2023-10-14T17:18:21.357Z"
   },
   {
    "duration": 512,
    "start_time": "2023-10-14T17:18:21.519Z"
   },
   {
    "duration": 999,
    "start_time": "2023-10-14T17:18:22.033Z"
   },
   {
    "duration": 3,
    "start_time": "2023-10-14T17:18:23.034Z"
   },
   {
    "duration": 36,
    "start_time": "2023-10-14T17:18:23.045Z"
   },
   {
    "duration": 28,
    "start_time": "2023-10-14T17:18:23.083Z"
   },
   {
    "duration": 49,
    "start_time": "2023-10-14T17:18:23.112Z"
   },
   {
    "duration": 56,
    "start_time": "2023-10-14T17:18:23.162Z"
   },
   {
    "duration": 520,
    "start_time": "2023-10-14T17:18:23.220Z"
   },
   {
    "duration": 25,
    "start_time": "2023-10-14T17:18:23.745Z"
   },
   {
    "duration": 73,
    "start_time": "2023-10-14T17:18:23.771Z"
   },
   {
    "duration": 15,
    "start_time": "2023-10-14T17:18:23.846Z"
   },
   {
    "duration": 77,
    "start_time": "2023-10-14T17:18:23.863Z"
   },
   {
    "duration": 278,
    "start_time": "2023-10-14T17:18:23.942Z"
   },
   {
    "duration": 59,
    "start_time": "2023-10-14T17:18:24.222Z"
   },
   {
    "duration": 252,
    "start_time": "2023-10-14T17:18:24.283Z"
   },
   {
    "duration": 21,
    "start_time": "2023-10-14T17:18:24.537Z"
   },
   {
    "duration": 48,
    "start_time": "2023-10-14T17:18:24.560Z"
   },
   {
    "duration": 34,
    "start_time": "2023-10-14T17:18:24.610Z"
   },
   {
    "duration": 10,
    "start_time": "2023-10-14T17:18:24.646Z"
   },
   {
    "duration": 90,
    "start_time": "2023-10-14T17:18:24.657Z"
   },
   {
    "duration": 1409,
    "start_time": "2023-10-14T17:20:35.966Z"
   },
   {
    "duration": 20,
    "start_time": "2023-10-14T17:20:50.868Z"
   },
   {
    "duration": 29,
    "start_time": "2023-10-14T17:26:32.733Z"
   },
   {
    "duration": 11,
    "start_time": "2023-10-14T17:27:16.000Z"
   },
   {
    "duration": 13,
    "start_time": "2023-10-14T17:27:42.911Z"
   },
   {
    "duration": 4,
    "start_time": "2023-10-14T17:27:50.136Z"
   },
   {
    "duration": 39,
    "start_time": "2023-10-14T17:30:58.093Z"
   },
   {
    "duration": 84,
    "start_time": "2023-10-14T17:31:14.674Z"
   },
   {
    "duration": 35,
    "start_time": "2023-10-14T17:31:39.379Z"
   },
   {
    "duration": 26,
    "start_time": "2023-10-14T17:31:45.556Z"
   },
   {
    "duration": 28,
    "start_time": "2023-10-14T17:31:54.333Z"
   },
   {
    "duration": 20,
    "start_time": "2023-10-14T17:31:58.713Z"
   },
   {
    "duration": 20,
    "start_time": "2023-10-14T17:32:19.125Z"
   },
   {
    "duration": 22,
    "start_time": "2023-10-14T17:32:23.924Z"
   },
   {
    "duration": 26,
    "start_time": "2023-10-14T17:32:38.196Z"
   },
   {
    "duration": 23,
    "start_time": "2023-10-14T17:32:45.361Z"
   },
   {
    "duration": 20,
    "start_time": "2023-10-14T17:43:48.926Z"
   },
   {
    "duration": 19,
    "start_time": "2023-10-14T17:43:58.772Z"
   },
   {
    "duration": 1180,
    "start_time": "2023-10-14T17:45:27.719Z"
   },
   {
    "duration": 29,
    "start_time": "2023-10-14T17:45:36.871Z"
   },
   {
    "duration": 5,
    "start_time": "2023-10-14T17:46:40.792Z"
   },
   {
    "duration": 9,
    "start_time": "2023-10-14T17:46:46.497Z"
   },
   {
    "duration": 250,
    "start_time": "2023-10-14T17:48:39.782Z"
   },
   {
    "duration": 11,
    "start_time": "2023-10-14T17:49:30.207Z"
   },
   {
    "duration": 411,
    "start_time": "2023-10-14T17:49:35.135Z"
   },
   {
    "duration": 862,
    "start_time": "2023-10-14T17:49:35.548Z"
   },
   {
    "duration": 21,
    "start_time": "2023-10-14T17:49:36.412Z"
   },
   {
    "duration": 3,
    "start_time": "2023-10-14T17:49:36.445Z"
   },
   {
    "duration": 24,
    "start_time": "2023-10-14T17:49:36.450Z"
   },
   {
    "duration": 149,
    "start_time": "2023-10-14T17:49:36.476Z"
   },
   {
    "duration": 496,
    "start_time": "2023-10-14T17:49:36.627Z"
   },
   {
    "duration": 981,
    "start_time": "2023-10-14T17:49:37.125Z"
   },
   {
    "duration": 4,
    "start_time": "2023-10-14T17:49:38.108Z"
   },
   {
    "duration": 47,
    "start_time": "2023-10-14T17:49:38.113Z"
   },
   {
    "duration": 29,
    "start_time": "2023-10-14T17:49:38.161Z"
   },
   {
    "duration": 41,
    "start_time": "2023-10-14T17:49:38.192Z"
   },
   {
    "duration": 68,
    "start_time": "2023-10-14T17:49:38.235Z"
   },
   {
    "duration": 495,
    "start_time": "2023-10-14T17:49:38.307Z"
   },
   {
    "duration": 26,
    "start_time": "2023-10-14T17:49:38.803Z"
   },
   {
    "duration": 69,
    "start_time": "2023-10-14T17:49:38.831Z"
   },
   {
    "duration": 17,
    "start_time": "2023-10-14T17:49:38.901Z"
   },
   {
    "duration": 69,
    "start_time": "2023-10-14T17:49:38.920Z"
   },
   {
    "duration": 200,
    "start_time": "2023-10-14T17:49:38.990Z"
   },
   {
    "duration": 52,
    "start_time": "2023-10-14T17:49:39.192Z"
   },
   {
    "duration": 190,
    "start_time": "2023-10-14T17:49:39.246Z"
   },
   {
    "duration": 18,
    "start_time": "2023-10-14T17:49:39.437Z"
   },
   {
    "duration": 57,
    "start_time": "2023-10-14T17:49:39.456Z"
   },
   {
    "duration": 24,
    "start_time": "2023-10-14T17:49:39.515Z"
   },
   {
    "duration": 11,
    "start_time": "2023-10-14T17:49:39.541Z"
   },
   {
    "duration": 85,
    "start_time": "2023-10-14T17:49:39.553Z"
   },
   {
    "duration": 67,
    "start_time": "2023-10-14T17:49:39.639Z"
   },
   {
    "duration": 28,
    "start_time": "2023-10-14T17:49:39.707Z"
   },
   {
    "duration": 334,
    "start_time": "2023-10-14T17:49:39.736Z"
   },
   {
    "duration": 517,
    "start_time": "2023-10-14T17:51:13.100Z"
   },
   {
    "duration": 78,
    "start_time": "2023-10-14T17:51:20.002Z"
   },
   {
    "duration": 106,
    "start_time": "2023-10-14T18:01:29.403Z"
   },
   {
    "duration": 18,
    "start_time": "2023-10-14T18:03:00.882Z"
   },
   {
    "duration": 20,
    "start_time": "2023-10-14T18:08:56.330Z"
   },
   {
    "duration": 17,
    "start_time": "2023-10-14T18:09:19.755Z"
   },
   {
    "duration": 77,
    "start_time": "2023-10-14T18:09:46.041Z"
   },
   {
    "duration": 3,
    "start_time": "2023-10-14T18:15:53.462Z"
   },
   {
    "duration": 2,
    "start_time": "2023-10-14T18:16:39.361Z"
   },
   {
    "duration": 3,
    "start_time": "2023-10-14T18:16:52.950Z"
   },
   {
    "duration": 732,
    "start_time": "2023-10-14T18:20:23.353Z"
   },
   {
    "duration": 21,
    "start_time": "2023-10-14T18:21:09.325Z"
   },
   {
    "duration": 18,
    "start_time": "2023-10-14T18:25:59.110Z"
   },
   {
    "duration": 59,
    "start_time": "2023-10-14T18:27:53.314Z"
   },
   {
    "duration": 11,
    "start_time": "2023-10-14T18:28:07.963Z"
   },
   {
    "duration": 67,
    "start_time": "2023-10-14T18:28:17.011Z"
   },
   {
    "duration": 116,
    "start_time": "2023-10-14T18:28:26.060Z"
   },
   {
    "duration": 69,
    "start_time": "2023-10-14T18:28:34.156Z"
   },
   {
    "duration": 69,
    "start_time": "2023-10-14T18:29:12.176Z"
   },
   {
    "duration": 42,
    "start_time": "2023-10-14T18:32:50.559Z"
   },
   {
    "duration": 74,
    "start_time": "2023-10-14T18:34:09.053Z"
   },
   {
    "duration": 3,
    "start_time": "2023-10-14T18:34:54.785Z"
   },
   {
    "duration": 3,
    "start_time": "2023-10-14T18:35:44.907Z"
   },
   {
    "duration": 3,
    "start_time": "2023-10-14T18:35:57.937Z"
   },
   {
    "duration": 4,
    "start_time": "2023-10-14T18:56:38.957Z"
   },
   {
    "duration": 4,
    "start_time": "2023-10-14T18:56:46.522Z"
   },
   {
    "duration": 22,
    "start_time": "2023-10-14T18:57:43.539Z"
   },
   {
    "duration": 17,
    "start_time": "2023-10-14T18:58:41.581Z"
   },
   {
    "duration": 57,
    "start_time": "2023-10-14T19:00:39.160Z"
   },
   {
    "duration": 71,
    "start_time": "2023-10-14T19:01:12.236Z"
   },
   {
    "duration": 63,
    "start_time": "2023-10-14T19:02:06.702Z"
   },
   {
    "duration": 1325,
    "start_time": "2023-10-15T08:55:36.240Z"
   },
   {
    "duration": 3,
    "start_time": "2023-10-15T08:55:37.567Z"
   },
   {
    "duration": 1236,
    "start_time": "2023-10-15T08:55:37.571Z"
   },
   {
    "duration": 3,
    "start_time": "2023-10-15T08:55:38.809Z"
   },
   {
    "duration": 47,
    "start_time": "2023-10-15T08:55:38.815Z"
   },
   {
    "duration": 21,
    "start_time": "2023-10-15T08:55:38.864Z"
   },
   {
    "duration": 29,
    "start_time": "2023-10-15T08:55:38.887Z"
   },
   {
    "duration": 183,
    "start_time": "2023-10-15T08:55:38.918Z"
   },
   {
    "duration": 476,
    "start_time": "2023-10-15T08:55:39.103Z"
   },
   {
    "duration": 975,
    "start_time": "2023-10-15T08:55:39.581Z"
   },
   {
    "duration": 4,
    "start_time": "2023-10-15T08:55:40.558Z"
   },
   {
    "duration": 37,
    "start_time": "2023-10-15T08:55:40.564Z"
   },
   {
    "duration": 42,
    "start_time": "2023-10-15T08:55:40.603Z"
   },
   {
    "duration": 36,
    "start_time": "2023-10-15T08:55:40.649Z"
   },
   {
    "duration": 76,
    "start_time": "2023-10-15T08:55:40.687Z"
   },
   {
    "duration": 640,
    "start_time": "2023-10-15T08:55:40.765Z"
   },
   {
    "duration": 37,
    "start_time": "2023-10-15T08:55:41.407Z"
   },
   {
    "duration": 73,
    "start_time": "2023-10-15T08:55:41.446Z"
   },
   {
    "duration": 37,
    "start_time": "2023-10-15T08:55:41.521Z"
   },
   {
    "duration": 56,
    "start_time": "2023-10-15T08:55:41.560Z"
   },
   {
    "duration": 245,
    "start_time": "2023-10-15T08:55:41.618Z"
   },
   {
    "duration": 45,
    "start_time": "2023-10-15T08:55:41.865Z"
   },
   {
    "duration": 310,
    "start_time": "2023-10-15T08:55:41.912Z"
   },
   {
    "duration": 21,
    "start_time": "2023-10-15T08:55:42.224Z"
   },
   {
    "duration": 44,
    "start_time": "2023-10-15T08:55:42.247Z"
   },
   {
    "duration": 24,
    "start_time": "2023-10-15T08:55:42.293Z"
   },
   {
    "duration": 30,
    "start_time": "2023-10-15T08:55:42.319Z"
   },
   {
    "duration": 93,
    "start_time": "2023-10-15T08:55:42.350Z"
   },
   {
    "duration": 34,
    "start_time": "2023-10-15T08:55:42.445Z"
   },
   {
    "duration": 26,
    "start_time": "2023-10-15T08:55:42.480Z"
   },
   {
    "duration": 346,
    "start_time": "2023-10-15T08:55:42.508Z"
   },
   {
    "duration": 600,
    "start_time": "2023-10-15T08:55:42.856Z"
   },
   {
    "duration": 26,
    "start_time": "2023-10-15T08:55:43.459Z"
   },
   {
    "duration": 33,
    "start_time": "2023-10-15T08:55:43.487Z"
   },
   {
    "duration": 78,
    "start_time": "2023-10-15T08:55:43.522Z"
   },
   {
    "duration": 10,
    "start_time": "2023-10-15T08:55:43.601Z"
   },
   {
    "duration": 92,
    "start_time": "2023-10-15T08:55:43.613Z"
   },
   {
    "duration": 30,
    "start_time": "2023-10-15T08:55:43.707Z"
   },
   {
    "duration": 100,
    "start_time": "2023-10-15T08:55:43.744Z"
   },
   {
    "duration": 144,
    "start_time": "2023-10-15T08:55:43.845Z"
   },
   {
    "duration": 933,
    "start_time": "2023-10-15T08:56:20.660Z"
   },
   {
    "duration": 17,
    "start_time": "2023-10-15T08:56:24.229Z"
   },
   {
    "duration": 1337,
    "start_time": "2023-10-15T08:56:33.916Z"
   },
   {
    "duration": 3,
    "start_time": "2023-10-15T08:56:35.256Z"
   },
   {
    "duration": 847,
    "start_time": "2023-10-15T08:56:35.261Z"
   },
   {
    "duration": 2,
    "start_time": "2023-10-15T08:56:36.110Z"
   },
   {
    "duration": 42,
    "start_time": "2023-10-15T08:56:36.114Z"
   },
   {
    "duration": 10,
    "start_time": "2023-10-15T08:56:36.158Z"
   },
   {
    "duration": 17,
    "start_time": "2023-10-15T08:56:36.170Z"
   },
   {
    "duration": 151,
    "start_time": "2023-10-15T08:56:36.189Z"
   },
   {
    "duration": 474,
    "start_time": "2023-10-15T08:56:36.342Z"
   },
   {
    "duration": 1006,
    "start_time": "2023-10-15T08:56:36.819Z"
   },
   {
    "duration": 4,
    "start_time": "2023-10-15T08:56:37.827Z"
   },
   {
    "duration": 63,
    "start_time": "2023-10-15T08:56:37.832Z"
   },
   {
    "duration": 28,
    "start_time": "2023-10-15T08:56:37.897Z"
   },
   {
    "duration": 53,
    "start_time": "2023-10-15T08:56:37.927Z"
   },
   {
    "duration": 63,
    "start_time": "2023-10-15T08:56:37.982Z"
   },
   {
    "duration": 439,
    "start_time": "2023-10-15T08:56:38.047Z"
   },
   {
    "duration": 23,
    "start_time": "2023-10-15T08:56:38.487Z"
   },
   {
    "duration": 73,
    "start_time": "2023-10-15T08:56:38.512Z"
   },
   {
    "duration": 16,
    "start_time": "2023-10-15T08:56:38.587Z"
   },
   {
    "duration": 70,
    "start_time": "2023-10-15T08:56:38.604Z"
   },
   {
    "duration": 215,
    "start_time": "2023-10-15T08:56:38.676Z"
   },
   {
    "duration": 50,
    "start_time": "2023-10-15T08:56:38.893Z"
   },
   {
    "duration": 295,
    "start_time": "2023-10-15T08:56:38.946Z"
   },
   {
    "duration": 18,
    "start_time": "2023-10-15T08:56:39.243Z"
   },
   {
    "duration": 42,
    "start_time": "2023-10-15T08:56:39.263Z"
   },
   {
    "duration": 43,
    "start_time": "2023-10-15T08:56:39.306Z"
   },
   {
    "duration": 18,
    "start_time": "2023-10-15T08:56:39.352Z"
   },
   {
    "duration": 117,
    "start_time": "2023-10-15T08:56:39.374Z"
   },
   {
    "duration": 33,
    "start_time": "2023-10-15T08:56:39.492Z"
   },
   {
    "duration": 47,
    "start_time": "2023-10-15T08:56:39.527Z"
   },
   {
    "duration": 286,
    "start_time": "2023-10-15T08:56:39.576Z"
   },
   {
    "duration": 644,
    "start_time": "2023-10-15T08:56:39.864Z"
   },
   {
    "duration": 23,
    "start_time": "2023-10-15T08:56:40.511Z"
   },
   {
    "duration": 49,
    "start_time": "2023-10-15T08:56:40.536Z"
   },
   {
    "duration": 75,
    "start_time": "2023-10-15T08:56:40.587Z"
   },
   {
    "duration": 12,
    "start_time": "2023-10-15T08:56:40.663Z"
   },
   {
    "duration": 96,
    "start_time": "2023-10-15T08:56:40.677Z"
   },
   {
    "duration": 36,
    "start_time": "2023-10-15T08:56:40.775Z"
   },
   {
    "duration": 90,
    "start_time": "2023-10-15T08:56:40.813Z"
   },
   {
    "duration": 124,
    "start_time": "2023-10-15T08:56:40.905Z"
   },
   {
    "duration": 509,
    "start_time": "2023-10-15T08:58:48.476Z"
   },
   {
    "duration": 524,
    "start_time": "2023-10-15T08:58:56.558Z"
   },
   {
    "duration": 14,
    "start_time": "2023-10-15T09:02:58.684Z"
   },
   {
    "duration": 55,
    "start_time": "2023-10-15T09:05:34.775Z"
   },
   {
    "duration": 58,
    "start_time": "2023-10-15T09:06:11.369Z"
   },
   {
    "duration": 64,
    "start_time": "2023-10-15T09:06:35.022Z"
   },
   {
    "duration": 8,
    "start_time": "2023-10-15T09:07:40.753Z"
   },
   {
    "duration": 3,
    "start_time": "2023-10-15T09:08:07.420Z"
   },
   {
    "duration": 3,
    "start_time": "2023-10-15T09:09:36.178Z"
   },
   {
    "duration": 28,
    "start_time": "2023-10-15T09:11:28.541Z"
   },
   {
    "duration": 68,
    "start_time": "2023-10-15T09:15:51.248Z"
   },
   {
    "duration": 56,
    "start_time": "2023-10-15T09:16:26.175Z"
   },
   {
    "duration": 53,
    "start_time": "2023-10-15T09:16:36.258Z"
   },
   {
    "duration": 16,
    "start_time": "2023-10-15T09:17:19.791Z"
   },
   {
    "duration": 22,
    "start_time": "2023-10-15T09:18:01.077Z"
   },
   {
    "duration": 111,
    "start_time": "2023-10-15T09:18:07.991Z"
   },
   {
    "duration": 64,
    "start_time": "2023-10-15T09:18:09.976Z"
   },
   {
    "duration": 1574,
    "start_time": "2023-10-15T09:20:32.754Z"
   },
   {
    "duration": 2,
    "start_time": "2023-10-15T09:20:34.330Z"
   },
   {
    "duration": 1048,
    "start_time": "2023-10-15T09:20:34.333Z"
   },
   {
    "duration": 4,
    "start_time": "2023-10-15T09:20:35.383Z"
   },
   {
    "duration": 47,
    "start_time": "2023-10-15T09:20:35.388Z"
   },
   {
    "duration": 3,
    "start_time": "2023-10-15T09:20:35.437Z"
   },
   {
    "duration": 39,
    "start_time": "2023-10-15T09:20:35.442Z"
   },
   {
    "duration": 194,
    "start_time": "2023-10-15T09:20:35.484Z"
   },
   {
    "duration": 554,
    "start_time": "2023-10-15T09:20:35.680Z"
   },
   {
    "duration": 1155,
    "start_time": "2023-10-15T09:20:36.237Z"
   },
   {
    "duration": 4,
    "start_time": "2023-10-15T09:20:37.395Z"
   },
   {
    "duration": 60,
    "start_time": "2023-10-15T09:20:37.402Z"
   },
   {
    "duration": 29,
    "start_time": "2023-10-15T09:20:37.464Z"
   },
   {
    "duration": 39,
    "start_time": "2023-10-15T09:20:37.495Z"
   },
   {
    "duration": 72,
    "start_time": "2023-10-15T09:20:37.535Z"
   },
   {
    "duration": 473,
    "start_time": "2023-10-15T09:20:37.609Z"
   },
   {
    "duration": 28,
    "start_time": "2023-10-15T09:20:38.084Z"
   },
   {
    "duration": 73,
    "start_time": "2023-10-15T09:20:38.114Z"
   },
   {
    "duration": 17,
    "start_time": "2023-10-15T09:20:38.189Z"
   },
   {
    "duration": 83,
    "start_time": "2023-10-15T09:20:38.207Z"
   },
   {
    "duration": 243,
    "start_time": "2023-10-15T09:20:38.293Z"
   },
   {
    "duration": 52,
    "start_time": "2023-10-15T09:20:38.538Z"
   },
   {
    "duration": 330,
    "start_time": "2023-10-15T09:20:38.592Z"
   },
   {
    "duration": 27,
    "start_time": "2023-10-15T09:20:38.924Z"
   },
   {
    "duration": 50,
    "start_time": "2023-10-15T09:20:38.954Z"
   },
   {
    "duration": 23,
    "start_time": "2023-10-15T09:20:39.006Z"
   },
   {
    "duration": 38,
    "start_time": "2023-10-15T09:20:39.031Z"
   },
   {
    "duration": 94,
    "start_time": "2023-10-15T09:20:39.075Z"
   },
   {
    "duration": 22,
    "start_time": "2023-10-15T09:20:39.171Z"
   },
   {
    "duration": 67,
    "start_time": "2023-10-15T09:20:39.195Z"
   },
   {
    "duration": 331,
    "start_time": "2023-10-15T09:20:39.267Z"
   },
   {
    "duration": 612,
    "start_time": "2023-10-15T09:20:39.600Z"
   },
   {
    "duration": 20,
    "start_time": "2023-10-15T09:20:40.214Z"
   },
   {
    "duration": 40,
    "start_time": "2023-10-15T09:20:40.236Z"
   },
   {
    "duration": 74,
    "start_time": "2023-10-15T09:20:40.278Z"
   },
   {
    "duration": 13,
    "start_time": "2023-10-15T09:20:40.355Z"
   },
   {
    "duration": 111,
    "start_time": "2023-10-15T09:20:40.370Z"
   },
   {
    "duration": 26,
    "start_time": "2023-10-15T09:20:40.487Z"
   },
   {
    "duration": 87,
    "start_time": "2023-10-15T09:20:40.514Z"
   },
   {
    "duration": 732,
    "start_time": "2023-10-15T09:20:40.603Z"
   },
   {
    "duration": 21,
    "start_time": "2023-10-15T09:20:41.337Z"
   },
   {
    "duration": 110,
    "start_time": "2023-10-15T09:20:41.367Z"
   },
   {
    "duration": 4,
    "start_time": "2023-10-15T09:20:41.480Z"
   },
   {
    "duration": 143,
    "start_time": "2023-10-15T09:20:41.486Z"
   },
   {
    "duration": 205,
    "start_time": "2023-10-15T09:20:41.630Z"
   },
   {
    "duration": 66,
    "start_time": "2023-10-15T09:21:10.941Z"
   },
   {
    "duration": 73,
    "start_time": "2023-10-15T09:22:11.091Z"
   },
   {
    "duration": 197,
    "start_time": "2023-10-15T09:22:52.376Z"
   },
   {
    "duration": 296,
    "start_time": "2023-10-15T09:22:52.787Z"
   },
   {
    "duration": 3,
    "start_time": "2023-10-15T09:22:55.356Z"
   },
   {
    "duration": 121,
    "start_time": "2023-10-15T09:22:56.983Z"
   },
   {
    "duration": 1495,
    "start_time": "2023-10-15T09:25:36.527Z"
   },
   {
    "duration": 3,
    "start_time": "2023-10-15T09:25:38.025Z"
   },
   {
    "duration": 933,
    "start_time": "2023-10-15T09:25:38.030Z"
   },
   {
    "duration": 4,
    "start_time": "2023-10-15T09:25:38.966Z"
   },
   {
    "duration": 33,
    "start_time": "2023-10-15T09:25:38.972Z"
   },
   {
    "duration": 5,
    "start_time": "2023-10-15T09:25:39.007Z"
   },
   {
    "duration": 47,
    "start_time": "2023-10-15T09:25:39.014Z"
   },
   {
    "duration": 204,
    "start_time": "2023-10-15T09:25:39.064Z"
   },
   {
    "duration": 493,
    "start_time": "2023-10-15T09:25:39.271Z"
   },
   {
    "duration": 1011,
    "start_time": "2023-10-15T09:25:39.767Z"
   },
   {
    "duration": 4,
    "start_time": "2023-10-15T09:25:40.779Z"
   },
   {
    "duration": 45,
    "start_time": "2023-10-15T09:25:40.785Z"
   },
   {
    "duration": 37,
    "start_time": "2023-10-15T09:25:40.832Z"
   },
   {
    "duration": 31,
    "start_time": "2023-10-15T09:25:40.871Z"
   },
   {
    "duration": 87,
    "start_time": "2023-10-15T09:25:40.904Z"
   },
   {
    "duration": 452,
    "start_time": "2023-10-15T09:25:40.993Z"
   },
   {
    "duration": 29,
    "start_time": "2023-10-15T09:25:41.448Z"
   },
   {
    "duration": 70,
    "start_time": "2023-10-15T09:25:41.479Z"
   },
   {
    "duration": 22,
    "start_time": "2023-10-15T09:25:41.552Z"
   },
   {
    "duration": 54,
    "start_time": "2023-10-15T09:25:41.577Z"
   },
   {
    "duration": 262,
    "start_time": "2023-10-15T09:25:41.633Z"
   },
   {
    "duration": 50,
    "start_time": "2023-10-15T09:25:41.898Z"
   },
   {
    "duration": 331,
    "start_time": "2023-10-15T09:25:41.950Z"
   },
   {
    "duration": 15,
    "start_time": "2023-10-15T09:25:42.283Z"
   },
   {
    "duration": 59,
    "start_time": "2023-10-15T09:25:42.300Z"
   },
   {
    "duration": 35,
    "start_time": "2023-10-15T09:25:42.361Z"
   },
   {
    "duration": 15,
    "start_time": "2023-10-15T09:25:42.398Z"
   },
   {
    "duration": 132,
    "start_time": "2023-10-15T09:25:42.419Z"
   },
   {
    "duration": 46,
    "start_time": "2023-10-15T09:25:42.552Z"
   },
   {
    "duration": 30,
    "start_time": "2023-10-15T09:25:42.601Z"
   },
   {
    "duration": 332,
    "start_time": "2023-10-15T09:25:42.633Z"
   },
   {
    "duration": 570,
    "start_time": "2023-10-15T09:25:42.966Z"
   },
   {
    "duration": 30,
    "start_time": "2023-10-15T09:25:43.537Z"
   },
   {
    "duration": 34,
    "start_time": "2023-10-15T09:25:43.569Z"
   },
   {
    "duration": 70,
    "start_time": "2023-10-15T09:25:43.606Z"
   },
   {
    "duration": 10,
    "start_time": "2023-10-15T09:25:43.678Z"
   },
   {
    "duration": 82,
    "start_time": "2023-10-15T09:25:43.690Z"
   },
   {
    "duration": 31,
    "start_time": "2023-10-15T09:25:43.776Z"
   },
   {
    "duration": 92,
    "start_time": "2023-10-15T09:25:43.809Z"
   },
   {
    "duration": 661,
    "start_time": "2023-10-15T09:25:43.903Z"
   },
   {
    "duration": 195,
    "start_time": "2023-10-15T09:25:44.566Z"
   },
   {
    "duration": 314,
    "start_time": "2023-10-15T09:25:44.763Z"
   },
   {
    "duration": 2,
    "start_time": "2023-10-15T09:25:45.079Z"
   },
   {
    "duration": 153,
    "start_time": "2023-10-15T09:25:45.083Z"
   },
   {
    "duration": 40715,
    "start_time": "2023-10-15T09:25:45.238Z"
   },
   {
    "duration": 405,
    "start_time": "2023-10-15T09:26:25.955Z"
   },
   {
    "duration": 326,
    "start_time": "2023-10-15T09:26:52.140Z"
   },
   {
    "duration": 272,
    "start_time": "2023-10-15T09:27:04.491Z"
   },
   {
    "duration": 56810,
    "start_time": "2023-10-15T09:29:02.849Z"
   },
   {
    "duration": 55483,
    "start_time": "2023-10-15T09:35:04.496Z"
   },
   {
    "duration": 311,
    "start_time": "2023-10-15T09:52:21.576Z"
   },
   {
    "duration": 1430,
    "start_time": "2023-10-15T09:55:13.113Z"
   },
   {
    "duration": 4,
    "start_time": "2023-10-15T09:55:14.546Z"
   },
   {
    "duration": 945,
    "start_time": "2023-10-15T09:55:14.552Z"
   },
   {
    "duration": 4,
    "start_time": "2023-10-15T09:55:15.499Z"
   },
   {
    "duration": 31,
    "start_time": "2023-10-15T09:55:15.506Z"
   },
   {
    "duration": 13,
    "start_time": "2023-10-15T09:55:15.538Z"
   },
   {
    "duration": 25,
    "start_time": "2023-10-15T09:55:15.553Z"
   },
   {
    "duration": 168,
    "start_time": "2023-10-15T09:55:15.580Z"
   },
   {
    "duration": 460,
    "start_time": "2023-10-15T09:55:15.750Z"
   },
   {
    "duration": 1028,
    "start_time": "2023-10-15T09:55:16.212Z"
   },
   {
    "duration": 4,
    "start_time": "2023-10-15T09:55:17.242Z"
   },
   {
    "duration": 60,
    "start_time": "2023-10-15T09:55:17.248Z"
   },
   {
    "duration": 34,
    "start_time": "2023-10-15T09:55:17.310Z"
   },
   {
    "duration": 34,
    "start_time": "2023-10-15T09:55:17.347Z"
   },
   {
    "duration": 75,
    "start_time": "2023-10-15T09:55:17.383Z"
   },
   {
    "duration": 445,
    "start_time": "2023-10-15T09:55:17.460Z"
   },
   {
    "duration": 25,
    "start_time": "2023-10-15T09:55:17.907Z"
   },
   {
    "duration": 56,
    "start_time": "2023-10-15T09:55:17.943Z"
   },
   {
    "duration": 23,
    "start_time": "2023-10-15T09:55:18.001Z"
   },
   {
    "duration": 66,
    "start_time": "2023-10-15T09:55:18.045Z"
   },
   {
    "duration": 232,
    "start_time": "2023-10-15T09:55:18.113Z"
   },
   {
    "duration": 44,
    "start_time": "2023-10-15T09:55:18.346Z"
   },
   {
    "duration": 317,
    "start_time": "2023-10-15T09:55:18.391Z"
   },
   {
    "duration": 17,
    "start_time": "2023-10-15T09:55:18.710Z"
   },
   {
    "duration": 54,
    "start_time": "2023-10-15T09:55:18.729Z"
   },
   {
    "duration": 24,
    "start_time": "2023-10-15T09:55:18.785Z"
   },
   {
    "duration": 33,
    "start_time": "2023-10-15T09:55:18.811Z"
   },
   {
    "duration": 84,
    "start_time": "2023-10-15T09:55:18.846Z"
   },
   {
    "duration": 34,
    "start_time": "2023-10-15T09:55:18.932Z"
   },
   {
    "duration": 35,
    "start_time": "2023-10-15T09:55:18.967Z"
   },
   {
    "duration": 303,
    "start_time": "2023-10-15T09:55:19.004Z"
   },
   {
    "duration": 564,
    "start_time": "2023-10-15T09:55:19.309Z"
   },
   {
    "duration": 22,
    "start_time": "2023-10-15T09:55:19.875Z"
   },
   {
    "duration": 46,
    "start_time": "2023-10-15T09:55:19.899Z"
   },
   {
    "duration": 60,
    "start_time": "2023-10-15T09:55:19.947Z"
   },
   {
    "duration": 47,
    "start_time": "2023-10-15T09:55:20.009Z"
   },
   {
    "duration": 78,
    "start_time": "2023-10-15T09:55:20.058Z"
   },
   {
    "duration": 37,
    "start_time": "2023-10-15T09:55:20.138Z"
   },
   {
    "duration": 72,
    "start_time": "2023-10-15T09:55:20.177Z"
   },
   {
    "duration": 789,
    "start_time": "2023-10-15T09:55:20.251Z"
   },
   {
    "duration": 183,
    "start_time": "2023-10-15T09:55:21.047Z"
   },
   {
    "duration": 292,
    "start_time": "2023-10-15T09:55:21.232Z"
   },
   {
    "duration": 3,
    "start_time": "2023-10-15T09:55:21.526Z"
   },
   {
    "duration": 128,
    "start_time": "2023-10-15T09:55:21.544Z"
   },
   {
    "duration": 48968,
    "start_time": "2023-10-15T09:55:21.676Z"
   },
   {
    "duration": 175944,
    "start_time": "2023-10-15T09:56:10.647Z"
   },
   {
    "duration": 180745,
    "start_time": "2023-10-15T09:59:38.589Z"
   },
   {
    "duration": 3,
    "start_time": "2023-10-15T11:20:45.343Z"
   },
   {
    "duration": 2821,
    "start_time": "2023-10-15T11:24:21.862Z"
   },
   {
    "duration": 5304,
    "start_time": "2023-10-15T11:24:43.513Z"
   },
   {
    "duration": 4257,
    "start_time": "2023-10-15T11:25:16.578Z"
   },
   {
    "duration": 4044,
    "start_time": "2023-10-15T11:25:54.782Z"
   },
   {
    "duration": 84,
    "start_time": "2023-10-15T11:38:12.136Z"
   },
   {
    "duration": 16,
    "start_time": "2023-10-15T11:38:28.479Z"
   },
   {
    "duration": 25,
    "start_time": "2023-10-15T11:38:32.378Z"
   },
   {
    "duration": 55877,
    "start_time": "2023-10-15T11:42:12.491Z"
   },
   {
    "duration": 1479,
    "start_time": "2023-10-15T12:20:01.078Z"
   },
   {
    "duration": 3,
    "start_time": "2023-10-15T12:20:02.559Z"
   },
   {
    "duration": 959,
    "start_time": "2023-10-15T12:20:02.564Z"
   },
   {
    "duration": 3,
    "start_time": "2023-10-15T12:20:03.525Z"
   },
   {
    "duration": 74,
    "start_time": "2023-10-15T12:20:03.530Z"
   },
   {
    "duration": 56,
    "start_time": "2023-10-15T12:20:03.605Z"
   },
   {
    "duration": 72,
    "start_time": "2023-10-15T12:20:03.663Z"
   },
   {
    "duration": 237,
    "start_time": "2023-10-15T12:20:03.737Z"
   },
   {
    "duration": 554,
    "start_time": "2023-10-15T12:20:03.976Z"
   },
   {
    "duration": 1127,
    "start_time": "2023-10-15T12:20:04.534Z"
   },
   {
    "duration": 4,
    "start_time": "2023-10-15T12:20:05.662Z"
   },
   {
    "duration": 190,
    "start_time": "2023-10-15T12:20:05.667Z"
   },
   {
    "duration": 102,
    "start_time": "2023-10-15T12:20:05.859Z"
   },
   {
    "duration": 121,
    "start_time": "2023-10-15T12:20:05.963Z"
   },
   {
    "duration": 62,
    "start_time": "2023-10-15T12:20:06.086Z"
   },
   {
    "duration": 431,
    "start_time": "2023-10-15T12:20:06.150Z"
   },
   {
    "duration": 28,
    "start_time": "2023-10-15T12:20:06.583Z"
   },
   {
    "duration": 80,
    "start_time": "2023-10-15T12:20:06.612Z"
   },
   {
    "duration": 20,
    "start_time": "2023-10-15T12:20:06.694Z"
   },
   {
    "duration": 75,
    "start_time": "2023-10-15T12:20:06.716Z"
   },
   {
    "duration": 225,
    "start_time": "2023-10-15T12:20:06.793Z"
   },
   {
    "duration": 56,
    "start_time": "2023-10-15T12:20:07.020Z"
   },
   {
    "duration": 308,
    "start_time": "2023-10-15T12:20:07.079Z"
   },
   {
    "duration": 15,
    "start_time": "2023-10-15T12:20:07.389Z"
   },
   {
    "duration": 56,
    "start_time": "2023-10-15T12:20:07.406Z"
   },
   {
    "duration": 29,
    "start_time": "2023-10-15T12:20:07.464Z"
   },
   {
    "duration": 28,
    "start_time": "2023-10-15T12:20:07.495Z"
   },
   {
    "duration": 94,
    "start_time": "2023-10-15T12:20:07.527Z"
   },
   {
    "duration": 45,
    "start_time": "2023-10-15T12:20:07.623Z"
   },
   {
    "duration": 51,
    "start_time": "2023-10-15T12:20:07.670Z"
   },
   {
    "duration": 301,
    "start_time": "2023-10-15T12:20:07.723Z"
   },
   {
    "duration": 546,
    "start_time": "2023-10-15T12:20:08.026Z"
   },
   {
    "duration": 18,
    "start_time": "2023-10-15T12:20:08.574Z"
   },
   {
    "duration": 36,
    "start_time": "2023-10-15T12:20:08.594Z"
   },
   {
    "duration": 93,
    "start_time": "2023-10-15T12:20:08.632Z"
   },
   {
    "duration": 10,
    "start_time": "2023-10-15T12:20:08.727Z"
   },
   {
    "duration": 81,
    "start_time": "2023-10-15T12:20:08.738Z"
   },
   {
    "duration": 23,
    "start_time": "2023-10-15T12:20:08.821Z"
   },
   {
    "duration": 65,
    "start_time": "2023-10-15T12:20:08.845Z"
   },
   {
    "duration": 647,
    "start_time": "2023-10-15T12:20:08.912Z"
   },
   {
    "duration": 177,
    "start_time": "2023-10-15T12:20:09.561Z"
   },
   {
    "duration": 278,
    "start_time": "2023-10-15T12:20:09.740Z"
   },
   {
    "duration": 3,
    "start_time": "2023-10-15T12:20:10.020Z"
   },
   {
    "duration": 192,
    "start_time": "2023-10-15T12:20:10.024Z"
   },
   {
    "duration": 36736,
    "start_time": "2023-10-15T12:20:10.218Z"
   },
   {
    "duration": 397,
    "start_time": "2023-10-15T12:20:46.956Z"
   },
   {
    "duration": 175334,
    "start_time": "2023-10-15T12:20:47.444Z"
   },
   {
    "duration": 400,
    "start_time": "2023-10-15T12:23:42.779Z"
   },
   {
    "duration": 4,
    "start_time": "2023-10-15T12:23:43.181Z"
   },
   {
    "duration": 4560,
    "start_time": "2023-10-15T12:23:43.187Z"
   },
   {
    "duration": 196,
    "start_time": "2023-10-15T12:23:47.749Z"
   },
   {
    "duration": 86,
    "start_time": "2023-10-15T12:23:47.947Z"
   },
   {
    "duration": 96423,
    "start_time": "2023-10-15T12:23:48.044Z"
   },
   {
    "duration": 1989,
    "start_time": "2023-10-15T12:25:24.470Z"
   },
   {
    "duration": 1307,
    "start_time": "2023-10-15T12:32:12.060Z"
   },
   {
    "duration": 2,
    "start_time": "2023-10-15T12:32:13.369Z"
   },
   {
    "duration": 952,
    "start_time": "2023-10-15T12:32:13.373Z"
   },
   {
    "duration": 3,
    "start_time": "2023-10-15T12:32:14.327Z"
   },
   {
    "duration": 44,
    "start_time": "2023-10-15T12:32:14.331Z"
   },
   {
    "duration": 4,
    "start_time": "2023-10-15T12:32:14.376Z"
   },
   {
    "duration": 39,
    "start_time": "2023-10-15T12:32:14.381Z"
   },
   {
    "duration": 312,
    "start_time": "2023-10-15T12:32:14.422Z"
   },
   {
    "duration": 553,
    "start_time": "2023-10-15T12:32:14.736Z"
   },
   {
    "duration": 1063,
    "start_time": "2023-10-15T12:32:15.292Z"
   },
   {
    "duration": 4,
    "start_time": "2023-10-15T12:32:16.357Z"
   },
   {
    "duration": 61,
    "start_time": "2023-10-15T12:32:16.362Z"
   },
   {
    "duration": 36,
    "start_time": "2023-10-15T12:32:16.425Z"
   },
   {
    "duration": 67,
    "start_time": "2023-10-15T12:32:16.463Z"
   },
   {
    "duration": 68,
    "start_time": "2023-10-15T12:32:16.532Z"
   },
   {
    "duration": 448,
    "start_time": "2023-10-15T12:32:16.602Z"
   },
   {
    "duration": 37,
    "start_time": "2023-10-15T12:32:17.052Z"
   },
   {
    "duration": 82,
    "start_time": "2023-10-15T12:32:17.091Z"
   },
   {
    "duration": 17,
    "start_time": "2023-10-15T12:32:17.175Z"
   },
   {
    "duration": 76,
    "start_time": "2023-10-15T12:32:17.194Z"
   },
   {
    "duration": 221,
    "start_time": "2023-10-15T12:32:17.272Z"
   },
   {
    "duration": 55,
    "start_time": "2023-10-15T12:32:17.495Z"
   },
   {
    "duration": 319,
    "start_time": "2023-10-15T12:32:17.552Z"
   },
   {
    "duration": 16,
    "start_time": "2023-10-15T12:32:17.873Z"
   },
   {
    "duration": 274,
    "start_time": "2023-10-15T12:32:17.891Z"
   },
   {
    "duration": 28,
    "start_time": "2023-10-15T12:32:18.166Z"
   },
   {
    "duration": 35,
    "start_time": "2023-10-15T12:32:18.195Z"
   },
   {
    "duration": 110,
    "start_time": "2023-10-15T12:32:18.234Z"
   },
   {
    "duration": 25,
    "start_time": "2023-10-15T12:32:18.346Z"
   },
   {
    "duration": 18,
    "start_time": "2023-10-15T12:32:18.373Z"
   },
   {
    "duration": 307,
    "start_time": "2023-10-15T12:32:18.393Z"
   },
   {
    "duration": 564,
    "start_time": "2023-10-15T12:32:18.702Z"
   },
   {
    "duration": 20,
    "start_time": "2023-10-15T12:32:19.268Z"
   },
   {
    "duration": 28,
    "start_time": "2023-10-15T12:32:19.290Z"
   },
   {
    "duration": 65,
    "start_time": "2023-10-15T12:32:19.320Z"
   },
   {
    "duration": 10,
    "start_time": "2023-10-15T12:32:19.387Z"
   },
   {
    "duration": 73,
    "start_time": "2023-10-15T12:32:19.399Z"
   },
   {
    "duration": 26,
    "start_time": "2023-10-15T12:32:19.474Z"
   },
   {
    "duration": 84,
    "start_time": "2023-10-15T12:32:19.501Z"
   },
   {
    "duration": 660,
    "start_time": "2023-10-15T12:32:19.587Z"
   },
   {
    "duration": 178,
    "start_time": "2023-10-15T12:32:20.249Z"
   },
   {
    "duration": 294,
    "start_time": "2023-10-15T12:32:20.429Z"
   },
   {
    "duration": 3,
    "start_time": "2023-10-15T12:32:20.725Z"
   },
   {
    "duration": 149,
    "start_time": "2023-10-15T12:32:20.730Z"
   },
   {
    "duration": 45965,
    "start_time": "2023-10-15T12:32:20.881Z"
   },
   {
    "duration": 498,
    "start_time": "2023-10-15T12:33:06.848Z"
   },
   {
    "duration": 180461,
    "start_time": "2023-10-15T12:33:07.348Z"
   },
   {
    "duration": 373,
    "start_time": "2023-10-15T12:36:07.811Z"
   },
   {
    "duration": 3,
    "start_time": "2023-10-15T12:36:08.186Z"
   },
   {
    "duration": 4622,
    "start_time": "2023-10-15T12:36:08.190Z"
   },
   {
    "duration": 189,
    "start_time": "2023-10-15T12:36:12.814Z"
   },
   {
    "duration": 107,
    "start_time": "2023-10-15T12:36:13.005Z"
   },
   {
    "duration": 232356,
    "start_time": "2023-10-15T12:36:13.114Z"
   },
   {
    "duration": 2090,
    "start_time": "2023-10-15T12:40:05.473Z"
   },
   {
    "duration": 56,
    "start_time": "2023-10-15T13:10:24.510Z"
   },
   {
    "duration": 9,
    "start_time": "2023-10-15T13:10:49.041Z"
   },
   {
    "duration": 840,
    "start_time": "2023-10-15T13:11:44.428Z"
   },
   {
    "duration": 864,
    "start_time": "2023-10-15T13:14:14.283Z"
   },
   {
    "duration": 1431,
    "start_time": "2023-10-15T13:18:53.762Z"
   },
   {
    "duration": 3,
    "start_time": "2023-10-15T13:18:55.195Z"
   },
   {
    "duration": 881,
    "start_time": "2023-10-15T13:18:55.199Z"
   },
   {
    "duration": 3,
    "start_time": "2023-10-15T13:18:56.082Z"
   },
   {
    "duration": 34,
    "start_time": "2023-10-15T13:18:56.087Z"
   },
   {
    "duration": 24,
    "start_time": "2023-10-15T13:18:56.123Z"
   },
   {
    "duration": 18,
    "start_time": "2023-10-15T13:18:56.149Z"
   },
   {
    "duration": 163,
    "start_time": "2023-10-15T13:18:56.168Z"
   },
   {
    "duration": 492,
    "start_time": "2023-10-15T13:18:56.333Z"
   },
   {
    "duration": 994,
    "start_time": "2023-10-15T13:18:56.827Z"
   },
   {
    "duration": 4,
    "start_time": "2023-10-15T13:18:57.823Z"
   },
   {
    "duration": 81,
    "start_time": "2023-10-15T13:18:57.829Z"
   },
   {
    "duration": 28,
    "start_time": "2023-10-15T13:18:57.912Z"
   },
   {
    "duration": 32,
    "start_time": "2023-10-15T13:18:57.942Z"
   },
   {
    "duration": 70,
    "start_time": "2023-10-15T13:18:57.975Z"
   },
   {
    "duration": 391,
    "start_time": "2023-10-15T13:18:58.047Z"
   },
   {
    "duration": 28,
    "start_time": "2023-10-15T13:18:58.444Z"
   },
   {
    "duration": 73,
    "start_time": "2023-10-15T13:18:58.474Z"
   },
   {
    "duration": 16,
    "start_time": "2023-10-15T13:18:58.549Z"
   },
   {
    "duration": 57,
    "start_time": "2023-10-15T13:18:58.567Z"
   },
   {
    "duration": 226,
    "start_time": "2023-10-15T13:18:58.625Z"
   },
   {
    "duration": 46,
    "start_time": "2023-10-15T13:18:58.852Z"
   },
   {
    "duration": 291,
    "start_time": "2023-10-15T13:18:58.900Z"
   },
   {
    "duration": 15,
    "start_time": "2023-10-15T13:18:59.193Z"
   },
   {
    "duration": 56,
    "start_time": "2023-10-15T13:18:59.210Z"
   },
   {
    "duration": 27,
    "start_time": "2023-10-15T13:18:59.267Z"
   },
   {
    "duration": 11,
    "start_time": "2023-10-15T13:18:59.296Z"
   },
   {
    "duration": 100,
    "start_time": "2023-10-15T13:18:59.311Z"
   },
   {
    "duration": 31,
    "start_time": "2023-10-15T13:18:59.414Z"
   },
   {
    "duration": 42,
    "start_time": "2023-10-15T13:18:59.447Z"
   },
   {
    "duration": 280,
    "start_time": "2023-10-15T13:18:59.491Z"
   },
   {
    "duration": 524,
    "start_time": "2023-10-15T13:18:59.773Z"
   },
   {
    "duration": 19,
    "start_time": "2023-10-15T13:19:00.299Z"
   },
   {
    "duration": 52,
    "start_time": "2023-10-15T13:19:00.320Z"
   },
   {
    "duration": 89,
    "start_time": "2023-10-15T13:19:00.374Z"
   },
   {
    "duration": 60,
    "start_time": "2023-10-15T13:19:00.465Z"
   },
   {
    "duration": 87,
    "start_time": "2023-10-15T13:19:00.527Z"
   },
   {
    "duration": 74,
    "start_time": "2023-10-15T13:19:00.615Z"
   },
   {
    "duration": 126,
    "start_time": "2023-10-15T13:19:00.691Z"
   },
   {
    "duration": 637,
    "start_time": "2023-10-15T13:19:00.818Z"
   },
   {
    "duration": 186,
    "start_time": "2023-10-15T13:19:01.457Z"
   },
   {
    "duration": 281,
    "start_time": "2023-10-15T13:19:01.644Z"
   },
   {
    "duration": 3,
    "start_time": "2023-10-15T13:19:01.927Z"
   },
   {
    "duration": 345,
    "start_time": "2023-10-15T13:19:01.931Z"
   },
   {
    "duration": 18673,
    "start_time": "2023-10-15T13:19:02.278Z"
   },
   {
    "duration": 398,
    "start_time": "2023-10-15T13:19:20.953Z"
   },
   {
    "duration": 168606,
    "start_time": "2023-10-15T13:19:21.353Z"
   },
   {
    "duration": 355,
    "start_time": "2023-10-15T13:22:09.960Z"
   },
   {
    "duration": 3,
    "start_time": "2023-10-15T13:22:10.317Z"
   },
   {
    "duration": 3984,
    "start_time": "2023-10-15T13:22:10.322Z"
   },
   {
    "duration": 175,
    "start_time": "2023-10-15T13:22:14.308Z"
   },
   {
    "duration": 103,
    "start_time": "2023-10-15T13:22:14.486Z"
   },
   {
    "duration": 4472,
    "start_time": "2023-10-15T13:22:14.591Z"
   },
   {
    "duration": 1986,
    "start_time": "2023-10-15T13:22:19.065Z"
   },
   {
    "duration": 33,
    "start_time": "2023-10-15T13:22:21.053Z"
   },
   {
    "duration": 860,
    "start_time": "2023-10-15T13:22:21.088Z"
   },
   {
    "duration": 1377,
    "start_time": "2023-10-15T13:24:13.826Z"
   },
   {
    "duration": 3,
    "start_time": "2023-10-15T13:24:15.205Z"
   },
   {
    "duration": 870,
    "start_time": "2023-10-15T13:24:15.209Z"
   },
   {
    "duration": 3,
    "start_time": "2023-10-15T13:24:16.081Z"
   },
   {
    "duration": 26,
    "start_time": "2023-10-15T13:24:16.085Z"
   },
   {
    "duration": 4,
    "start_time": "2023-10-15T13:24:16.113Z"
   },
   {
    "duration": 27,
    "start_time": "2023-10-15T13:24:16.118Z"
   },
   {
    "duration": 169,
    "start_time": "2023-10-15T13:24:16.147Z"
   },
   {
    "duration": 487,
    "start_time": "2023-10-15T13:24:16.318Z"
   },
   {
    "duration": 993,
    "start_time": "2023-10-15T13:24:16.808Z"
   },
   {
    "duration": 4,
    "start_time": "2023-10-15T13:24:17.803Z"
   },
   {
    "duration": 52,
    "start_time": "2023-10-15T13:24:17.808Z"
   },
   {
    "duration": 29,
    "start_time": "2023-10-15T13:24:17.862Z"
   },
   {
    "duration": 52,
    "start_time": "2023-10-15T13:24:17.893Z"
   },
   {
    "duration": 63,
    "start_time": "2023-10-15T13:24:17.946Z"
   },
   {
    "duration": 401,
    "start_time": "2023-10-15T13:24:18.011Z"
   },
   {
    "duration": 32,
    "start_time": "2023-10-15T13:24:18.414Z"
   },
   {
    "duration": 61,
    "start_time": "2023-10-15T13:24:18.448Z"
   },
   {
    "duration": 40,
    "start_time": "2023-10-15T13:24:18.511Z"
   },
   {
    "duration": 63,
    "start_time": "2023-10-15T13:24:18.553Z"
   },
   {
    "duration": 227,
    "start_time": "2023-10-15T13:24:18.619Z"
   },
   {
    "duration": 46,
    "start_time": "2023-10-15T13:24:18.848Z"
   },
   {
    "duration": 306,
    "start_time": "2023-10-15T13:24:18.896Z"
   },
   {
    "duration": 17,
    "start_time": "2023-10-15T13:24:19.204Z"
   },
   {
    "duration": 57,
    "start_time": "2023-10-15T13:24:19.223Z"
   },
   {
    "duration": 27,
    "start_time": "2023-10-15T13:24:19.283Z"
   },
   {
    "duration": 33,
    "start_time": "2023-10-15T13:24:19.311Z"
   },
   {
    "duration": 77,
    "start_time": "2023-10-15T13:24:19.347Z"
   },
   {
    "duration": 34,
    "start_time": "2023-10-15T13:24:19.426Z"
   },
   {
    "duration": 25,
    "start_time": "2023-10-15T13:24:19.461Z"
   },
   {
    "duration": 305,
    "start_time": "2023-10-15T13:24:19.488Z"
   },
   {
    "duration": 542,
    "start_time": "2023-10-15T13:24:19.794Z"
   },
   {
    "duration": 21,
    "start_time": "2023-10-15T13:24:20.337Z"
   },
   {
    "duration": 18,
    "start_time": "2023-10-15T13:24:20.360Z"
   },
   {
    "duration": 73,
    "start_time": "2023-10-15T13:24:20.380Z"
   },
   {
    "duration": 10,
    "start_time": "2023-10-15T13:24:20.455Z"
   },
   {
    "duration": 81,
    "start_time": "2023-10-15T13:24:20.466Z"
   },
   {
    "duration": 43,
    "start_time": "2023-10-15T13:24:20.549Z"
   },
   {
    "duration": 71,
    "start_time": "2023-10-15T13:24:20.595Z"
   },
   {
    "duration": 553,
    "start_time": "2023-10-15T13:24:20.667Z"
   },
   {
    "duration": 175,
    "start_time": "2023-10-15T13:24:21.221Z"
   },
   {
    "duration": 279,
    "start_time": "2023-10-15T13:24:21.398Z"
   },
   {
    "duration": 3,
    "start_time": "2023-10-15T13:24:21.679Z"
   },
   {
    "duration": 132,
    "start_time": "2023-10-15T13:24:21.684Z"
   },
   {
    "duration": 17932,
    "start_time": "2023-10-15T13:24:21.818Z"
   },
   {
    "duration": 396,
    "start_time": "2023-10-15T13:24:39.752Z"
   },
   {
    "duration": 174868,
    "start_time": "2023-10-15T13:24:40.151Z"
   },
   {
    "duration": 361,
    "start_time": "2023-10-15T13:27:35.021Z"
   },
   {
    "duration": 2,
    "start_time": "2023-10-15T13:27:35.384Z"
   },
   {
    "duration": 3937,
    "start_time": "2023-10-15T13:27:35.388Z"
   },
   {
    "duration": 183,
    "start_time": "2023-10-15T13:27:39.327Z"
   },
   {
    "duration": 95,
    "start_time": "2023-10-15T13:27:39.512Z"
   },
   {
    "duration": 113745,
    "start_time": "2023-10-15T13:27:39.609Z"
   },
   {
    "duration": 2014,
    "start_time": "2023-10-15T13:29:33.355Z"
   },
   {
    "duration": 95,
    "start_time": "2023-10-15T13:29:35.371Z"
   },
   {
    "duration": 803,
    "start_time": "2023-10-15T13:29:35.468Z"
   },
   {
    "duration": 262,
    "start_time": "2023-10-15T13:29:36.345Z"
   },
   {
    "duration": 257,
    "start_time": "2023-10-15T13:29:36.608Z"
   },
   {
    "duration": 75,
    "start_time": "2023-10-15T13:37:01.196Z"
   },
   {
    "duration": 271,
    "start_time": "2023-10-15T13:37:12.884Z"
   },
   {
    "duration": 1219,
    "start_time": "2023-10-15T13:37:27.623Z"
   },
   {
    "duration": 260,
    "start_time": "2023-10-15T13:37:49.821Z"
   },
   {
    "duration": 1634,
    "start_time": "2023-10-15T18:10:30.755Z"
   },
   {
    "duration": 3,
    "start_time": "2023-10-15T18:11:05.720Z"
   },
   {
    "duration": 899,
    "start_time": "2023-10-15T18:11:08.049Z"
   },
   {
    "duration": 8,
    "start_time": "2023-10-15T18:11:28.161Z"
   },
   {
    "duration": 32,
    "start_time": "2023-10-15T18:11:44.253Z"
   },
   {
    "duration": 5,
    "start_time": "2023-10-15T18:11:45.969Z"
   },
   {
    "duration": 12,
    "start_time": "2023-10-15T18:11:47.081Z"
   },
   {
    "duration": 174,
    "start_time": "2023-10-15T18:11:47.630Z"
   },
   {
    "duration": 496,
    "start_time": "2023-10-15T18:11:48.480Z"
   },
   {
    "duration": 1020,
    "start_time": "2023-10-15T18:11:50.943Z"
   },
   {
    "duration": 5,
    "start_time": "2023-10-15T18:12:20.727Z"
   },
   {
    "duration": 34,
    "start_time": "2023-10-15T18:12:22.967Z"
   },
   {
    "duration": 32,
    "start_time": "2023-10-15T18:12:23.455Z"
   },
   {
    "duration": 33,
    "start_time": "2023-10-15T18:12:26.879Z"
   },
   {
    "duration": 59,
    "start_time": "2023-10-15T18:12:29.879Z"
   },
   {
    "duration": 453,
    "start_time": "2023-10-15T18:13:03.529Z"
   },
   {
    "duration": 28,
    "start_time": "2023-10-15T18:13:07.761Z"
   },
   {
    "duration": 58,
    "start_time": "2023-10-15T18:13:09.863Z"
   },
   {
    "duration": 274,
    "start_time": "2023-10-15T18:13:10.210Z"
   },
   {
    "duration": 18,
    "start_time": "2023-10-15T18:13:12.678Z"
   },
   {
    "duration": 54,
    "start_time": "2023-10-15T18:13:15.686Z"
   },
   {
    "duration": 289,
    "start_time": "2023-10-15T18:14:00.437Z"
   },
   {
    "duration": 258,
    "start_time": "2023-10-15T18:14:51.026Z"
   },
   {
    "duration": 16,
    "start_time": "2023-10-15T18:14:52.877Z"
   },
   {
    "duration": 42,
    "start_time": "2023-10-15T18:14:53.209Z"
   },
   {
    "duration": 24,
    "start_time": "2023-10-15T18:15:21.361Z"
   },
   {
    "duration": 15,
    "start_time": "2023-10-15T18:15:22.160Z"
   },
   {
    "duration": 80,
    "start_time": "2023-10-15T18:15:38.524Z"
   },
   {
    "duration": 21,
    "start_time": "2023-10-15T18:15:38.928Z"
   },
   {
    "duration": 19,
    "start_time": "2023-10-15T18:15:41.084Z"
   },
   {
    "duration": 311,
    "start_time": "2023-10-15T18:15:55.344Z"
   },
   {
    "duration": 538,
    "start_time": "2023-10-15T18:15:56.784Z"
   },
   {
    "duration": 24,
    "start_time": "2023-10-15T18:16:17.004Z"
   },
   {
    "duration": 23,
    "start_time": "2023-10-15T18:16:19.846Z"
   },
   {
    "duration": 58,
    "start_time": "2023-10-15T18:16:20.304Z"
   },
   {
    "duration": 10,
    "start_time": "2023-10-15T18:16:20.516Z"
   },
   {
    "duration": 71,
    "start_time": "2023-10-15T18:16:20.721Z"
   },
   {
    "duration": 87,
    "start_time": "2023-10-15T18:16:30.936Z"
   },
   {
    "duration": 18,
    "start_time": "2023-10-15T18:16:57.616Z"
   },
   {
    "duration": 57,
    "start_time": "2023-10-15T18:17:08.677Z"
   },
   {
    "duration": 110,
    "start_time": "2023-10-15T18:17:18.454Z"
   },
   {
    "duration": 11,
    "start_time": "2023-10-15T18:17:49.825Z"
   },
   {
    "duration": 61,
    "start_time": "2023-10-15T18:17:52.195Z"
   },
   {
    "duration": 694,
    "start_time": "2023-10-15T18:17:59.620Z"
   },
   {
    "duration": 7222,
    "start_time": "2023-10-15T18:18:53.704Z"
   },
   {
    "duration": 176,
    "start_time": "2023-10-15T18:19:39.890Z"
   },
   {
    "duration": 275,
    "start_time": "2023-10-15T18:19:42.130Z"
   },
   {
    "duration": 3,
    "start_time": "2023-10-15T18:19:44.954Z"
   },
   {
    "duration": 116,
    "start_time": "2023-10-15T18:19:46.449Z"
   },
   {
    "duration": 1582,
    "start_time": "2023-10-17T09:14:58.506Z"
   },
   {
    "duration": 3,
    "start_time": "2023-10-17T09:15:00.090Z"
   },
   {
    "duration": 1403,
    "start_time": "2023-10-17T09:15:00.094Z"
   },
   {
    "duration": 3,
    "start_time": "2023-10-17T09:15:01.499Z"
   },
   {
    "duration": 71,
    "start_time": "2023-10-17T09:15:01.504Z"
   },
   {
    "duration": 45,
    "start_time": "2023-10-17T09:15:01.577Z"
   },
   {
    "duration": 47,
    "start_time": "2023-10-17T09:15:01.624Z"
   },
   {
    "duration": 205,
    "start_time": "2023-10-17T09:15:01.673Z"
   },
   {
    "duration": 554,
    "start_time": "2023-10-17T09:15:01.880Z"
   },
   {
    "duration": 1184,
    "start_time": "2023-10-17T09:15:02.437Z"
   },
   {
    "duration": 12,
    "start_time": "2023-10-17T09:15:03.624Z"
   },
   {
    "duration": 48,
    "start_time": "2023-10-17T09:15:03.637Z"
   },
   {
    "duration": 29,
    "start_time": "2023-10-17T09:15:03.687Z"
   },
   {
    "duration": 60,
    "start_time": "2023-10-17T09:15:03.717Z"
   },
   {
    "duration": 68,
    "start_time": "2023-10-17T09:15:03.779Z"
   },
   {
    "duration": 607,
    "start_time": "2023-10-17T09:15:03.848Z"
   },
   {
    "duration": 31,
    "start_time": "2023-10-17T09:15:04.457Z"
   },
   {
    "duration": 95,
    "start_time": "2023-10-17T09:15:04.489Z"
   },
   {
    "duration": 357,
    "start_time": "2023-10-17T09:15:04.586Z"
   },
   {
    "duration": 16,
    "start_time": "2023-10-17T09:15:04.945Z"
   },
   {
    "duration": 74,
    "start_time": "2023-10-17T09:15:04.963Z"
   },
   {
    "duration": 214,
    "start_time": "2023-10-17T09:15:05.039Z"
   },
   {
    "duration": 47,
    "start_time": "2023-10-17T09:15:05.255Z"
   },
   {
    "duration": 233,
    "start_time": "2023-10-17T09:15:05.304Z"
   },
   {
    "duration": 15,
    "start_time": "2023-10-17T09:15:05.539Z"
   },
   {
    "duration": 49,
    "start_time": "2023-10-17T09:15:05.556Z"
   },
   {
    "duration": 32,
    "start_time": "2023-10-17T09:15:05.607Z"
   },
   {
    "duration": 10,
    "start_time": "2023-10-17T09:15:05.643Z"
   },
   {
    "duration": 94,
    "start_time": "2023-10-17T09:15:05.654Z"
   },
   {
    "duration": 22,
    "start_time": "2023-10-17T09:15:05.750Z"
   },
   {
    "duration": 45,
    "start_time": "2023-10-17T09:15:05.773Z"
   },
   {
    "duration": 391,
    "start_time": "2023-10-17T09:15:05.819Z"
   },
   {
    "duration": 570,
    "start_time": "2023-10-17T09:15:06.212Z"
   },
   {
    "duration": 20,
    "start_time": "2023-10-17T09:15:06.783Z"
   },
   {
    "duration": 37,
    "start_time": "2023-10-17T09:15:06.805Z"
   },
   {
    "duration": 56,
    "start_time": "2023-10-17T09:15:06.844Z"
   },
   {
    "duration": 12,
    "start_time": "2023-10-17T09:15:06.902Z"
   },
   {
    "duration": 71,
    "start_time": "2023-10-17T09:15:06.915Z"
   },
   {
    "duration": 123,
    "start_time": "2023-10-17T09:15:06.988Z"
   },
   {
    "duration": 31,
    "start_time": "2023-10-17T09:15:07.113Z"
   },
   {
    "duration": 58,
    "start_time": "2023-10-17T09:15:07.146Z"
   },
   {
    "duration": 669,
    "start_time": "2023-10-17T09:15:07.206Z"
   },
   {
    "duration": 9231,
    "start_time": "2023-10-17T09:15:07.877Z"
   },
   {
    "duration": 185,
    "start_time": "2023-10-17T09:15:17.110Z"
   },
   {
    "duration": 293,
    "start_time": "2023-10-17T09:15:17.297Z"
   },
   {
    "duration": 3,
    "start_time": "2023-10-17T09:15:17.591Z"
   },
   {
    "duration": 141,
    "start_time": "2023-10-17T09:15:17.596Z"
   },
   {
    "duration": 33592,
    "start_time": "2023-10-17T09:15:17.739Z"
   },
   {
    "duration": 392,
    "start_time": "2023-10-17T09:15:51.334Z"
   },
   {
    "duration": 173906,
    "start_time": "2023-10-17T09:15:51.728Z"
   },
   {
    "duration": 381,
    "start_time": "2023-10-17T09:18:45.636Z"
   },
   {
    "duration": 3,
    "start_time": "2023-10-17T09:18:46.023Z"
   },
   {
    "duration": 4627,
    "start_time": "2023-10-17T09:18:46.033Z"
   },
   {
    "duration": 203,
    "start_time": "2023-10-17T09:18:50.662Z"
   },
   {
    "duration": 107,
    "start_time": "2023-10-17T09:18:50.867Z"
   },
   {
    "duration": 40956,
    "start_time": "2023-10-17T09:18:50.976Z"
   },
   {
    "duration": 1998,
    "start_time": "2023-10-17T09:19:31.934Z"
   },
   {
    "duration": 51,
    "start_time": "2023-10-17T09:19:33.935Z"
   },
   {
    "duration": 870,
    "start_time": "2023-10-17T09:19:33.988Z"
   },
   {
    "duration": 25,
    "start_time": "2023-10-17T09:27:05.896Z"
   },
   {
    "duration": 20,
    "start_time": "2023-10-17T09:28:49.785Z"
   },
   {
    "duration": 15,
    "start_time": "2023-10-17T09:28:59.270Z"
   },
   {
    "duration": 14,
    "start_time": "2023-10-17T09:29:50.670Z"
   },
   {
    "duration": 17,
    "start_time": "2023-10-17T09:33:27.181Z"
   },
   {
    "duration": 18,
    "start_time": "2023-10-17T09:34:07.838Z"
   },
   {
    "duration": 20,
    "start_time": "2023-10-17T09:36:32.337Z"
   },
   {
    "duration": 23,
    "start_time": "2023-10-17T09:36:52.374Z"
   },
   {
    "duration": 28,
    "start_time": "2023-10-17T09:37:00.109Z"
   },
   {
    "duration": 19,
    "start_time": "2023-10-17T09:38:54.474Z"
   },
   {
    "duration": 26,
    "start_time": "2023-10-17T09:43:25.612Z"
   },
   {
    "duration": 33,
    "start_time": "2023-10-17T09:44:24.111Z"
   },
   {
    "duration": 104,
    "start_time": "2023-10-17T09:44:53.577Z"
   },
   {
    "duration": 214,
    "start_time": "2023-10-17T09:47:12.035Z"
   },
   {
    "duration": 247,
    "start_time": "2023-10-17T09:56:05.912Z"
   },
   {
    "duration": 88,
    "start_time": "2023-10-17T09:56:18.148Z"
   },
   {
    "duration": 281,
    "start_time": "2023-10-17T09:59:00.270Z"
   },
   {
    "duration": 128,
    "start_time": "2023-10-17T10:03:25.953Z"
   },
   {
    "duration": 72,
    "start_time": "2023-10-17T10:04:09.275Z"
   },
   {
    "duration": 77,
    "start_time": "2023-10-17T10:05:37.041Z"
   },
   {
    "duration": 1425,
    "start_time": "2023-10-17T10:22:19.539Z"
   },
   {
    "duration": 2,
    "start_time": "2023-10-17T10:22:20.966Z"
   },
   {
    "duration": 1048,
    "start_time": "2023-10-17T10:22:20.971Z"
   },
   {
    "duration": 13,
    "start_time": "2023-10-17T10:22:22.021Z"
   },
   {
    "duration": 65,
    "start_time": "2023-10-17T10:22:22.039Z"
   },
   {
    "duration": 74,
    "start_time": "2023-10-17T10:22:22.106Z"
   },
   {
    "duration": 212,
    "start_time": "2023-10-17T10:22:22.182Z"
   },
   {
    "duration": 308,
    "start_time": "2023-10-17T10:22:22.396Z"
   },
   {
    "duration": 587,
    "start_time": "2023-10-17T10:22:22.705Z"
   },
   {
    "duration": 1139,
    "start_time": "2023-10-17T10:22:23.295Z"
   },
   {
    "duration": 5,
    "start_time": "2023-10-17T10:22:24.437Z"
   },
   {
    "duration": 57,
    "start_time": "2023-10-17T10:22:24.443Z"
   },
   {
    "duration": 41,
    "start_time": "2023-10-17T10:22:24.502Z"
   },
   {
    "duration": 47,
    "start_time": "2023-10-17T10:22:24.546Z"
   },
   {
    "duration": 70,
    "start_time": "2023-10-17T10:22:24.595Z"
   },
   {
    "duration": 466,
    "start_time": "2023-10-17T10:22:24.667Z"
   },
   {
    "duration": 27,
    "start_time": "2023-10-17T10:22:25.135Z"
   },
   {
    "duration": 78,
    "start_time": "2023-10-17T10:22:25.164Z"
   },
   {
    "duration": 264,
    "start_time": "2023-10-17T10:22:25.244Z"
   },
   {
    "duration": 22,
    "start_time": "2023-10-17T10:22:25.510Z"
   },
   {
    "duration": 127,
    "start_time": "2023-10-17T10:22:25.534Z"
   },
   {
    "duration": 382,
    "start_time": "2023-10-17T10:22:25.662Z"
   },
   {
    "duration": 58,
    "start_time": "2023-10-17T10:22:26.047Z"
   },
   {
    "duration": 46,
    "start_time": "2023-10-17T10:22:26.107Z"
   },
   {
    "duration": 52,
    "start_time": "2023-10-17T10:22:26.154Z"
   },
   {
    "duration": 214,
    "start_time": "2023-10-17T10:22:26.207Z"
   },
   {
    "duration": 18,
    "start_time": "2023-10-17T10:22:26.423Z"
   },
   {
    "duration": 106,
    "start_time": "2023-10-17T10:22:26.443Z"
   },
   {
    "duration": 27,
    "start_time": "2023-10-17T10:22:26.550Z"
   },
   {
    "duration": 63,
    "start_time": "2023-10-17T10:22:26.579Z"
   },
   {
    "duration": 27,
    "start_time": "2023-10-17T10:22:26.644Z"
   },
   {
    "duration": 39,
    "start_time": "2023-10-17T10:22:26.672Z"
   },
   {
    "duration": 99,
    "start_time": "2023-10-17T10:22:26.712Z"
   },
   {
    "duration": 52,
    "start_time": "2023-10-17T10:22:26.813Z"
   },
   {
    "duration": 65,
    "start_time": "2023-10-17T10:22:26.868Z"
   },
   {
    "duration": 307,
    "start_time": "2023-10-17T10:22:26.938Z"
   },
   {
    "duration": 557,
    "start_time": "2023-10-17T10:22:27.247Z"
   },
   {
    "duration": 27,
    "start_time": "2023-10-17T10:22:27.806Z"
   },
   {
    "duration": 20,
    "start_time": "2023-10-17T10:22:27.840Z"
   },
   {
    "duration": 79,
    "start_time": "2023-10-17T10:22:27.862Z"
   },
   {
    "duration": 10,
    "start_time": "2023-10-17T10:22:27.945Z"
   },
   {
    "duration": 67,
    "start_time": "2023-10-17T10:22:27.957Z"
   },
   {
    "duration": 140,
    "start_time": "2023-10-17T10:22:28.026Z"
   },
   {
    "duration": 237,
    "start_time": "2023-10-17T10:22:28.168Z"
   },
   {
    "duration": 2,
    "start_time": "2023-10-17T10:22:28.407Z"
   },
   {
    "duration": 34,
    "start_time": "2023-10-17T10:22:28.410Z"
   },
   {
    "duration": 166,
    "start_time": "2023-10-17T10:22:28.446Z"
   },
   {
    "duration": 627,
    "start_time": "2023-10-17T10:22:28.613Z"
   },
   {
    "duration": 10390,
    "start_time": "2023-10-17T10:22:29.242Z"
   },
   {
    "duration": 154,
    "start_time": "2023-10-17T10:22:39.638Z"
   },
   {
    "duration": 248,
    "start_time": "2023-10-17T10:22:39.793Z"
   },
   {
    "duration": 3,
    "start_time": "2023-10-17T10:22:40.044Z"
   },
   {
    "duration": 426,
    "start_time": "2023-10-17T10:22:40.048Z"
   },
   {
    "duration": 37870,
    "start_time": "2023-10-17T10:22:40.476Z"
   },
   {
    "duration": 379,
    "start_time": "2023-10-17T10:23:18.348Z"
   },
   {
    "duration": 144678,
    "start_time": "2023-10-17T10:23:18.737Z"
   },
   {
    "duration": 303,
    "start_time": "2023-10-17T10:25:43.417Z"
   },
   {
    "duration": 11,
    "start_time": "2023-10-17T10:25:43.722Z"
   },
   {
    "duration": 3500,
    "start_time": "2023-10-17T10:25:43.738Z"
   },
   {
    "duration": 130,
    "start_time": "2023-10-17T10:25:47.240Z"
   },
   {
    "duration": 79,
    "start_time": "2023-10-17T10:25:47.372Z"
   },
   {
    "duration": 20897,
    "start_time": "2023-10-17T10:25:47.453Z"
   },
   {
    "duration": 1494,
    "start_time": "2023-10-17T10:26:08.352Z"
   },
   {
    "duration": 115,
    "start_time": "2023-10-17T10:26:09.848Z"
   },
   {
    "duration": 1472,
    "start_time": "2023-10-17T10:26:09.965Z"
   },
   {
    "duration": 147722,
    "start_time": "2023-10-17T11:14:55.516Z"
   },
   {
    "duration": 415,
    "start_time": "2023-10-17T11:20:22.057Z"
   },
   {
    "duration": 5,
    "start_time": "2023-10-17T11:20:37.545Z"
   },
   {
    "duration": 149263,
    "start_time": "2023-10-17T11:20:46.753Z"
   },
   {
    "duration": 145064,
    "start_time": "2023-10-17T11:26:16.556Z"
   },
   {
    "duration": 141445,
    "start_time": "2023-10-17T11:32:59.042Z"
   },
   {
    "duration": 139800,
    "start_time": "2023-10-17T11:36:39.843Z"
   },
   {
    "duration": 294,
    "start_time": "2023-10-17T11:38:59.645Z"
   },
   {
    "duration": 96765,
    "start_time": "2023-10-17T11:39:10.382Z"
   },
   {
    "duration": 5,
    "start_time": "2023-10-17T11:44:00.111Z"
   },
   {
    "duration": 5,
    "start_time": "2023-10-17T11:44:29.374Z"
   },
   {
    "duration": 100423,
    "start_time": "2023-10-17T11:44:33.916Z"
   },
   {
    "duration": 5,
    "start_time": "2023-10-17T11:47:53.675Z"
   },
   {
    "duration": 0,
    "start_time": "2023-10-17T11:50:01.001Z"
   },
   {
    "duration": 1526,
    "start_time": "2023-10-17T11:50:37.622Z"
   },
   {
    "duration": 3,
    "start_time": "2023-10-17T11:50:39.151Z"
   },
   {
    "duration": 1064,
    "start_time": "2023-10-17T11:50:39.155Z"
   },
   {
    "duration": 16,
    "start_time": "2023-10-17T11:50:40.221Z"
   },
   {
    "duration": 25,
    "start_time": "2023-10-17T11:50:40.240Z"
   },
   {
    "duration": 38,
    "start_time": "2023-10-17T11:50:40.267Z"
   },
   {
    "duration": 45,
    "start_time": "2023-10-17T11:50:40.307Z"
   },
   {
    "duration": 179,
    "start_time": "2023-10-17T11:50:40.354Z"
   },
   {
    "duration": 537,
    "start_time": "2023-10-17T11:50:40.536Z"
   },
   {
    "duration": 1099,
    "start_time": "2023-10-17T11:50:41.075Z"
   },
   {
    "duration": 5,
    "start_time": "2023-10-17T11:50:42.177Z"
   },
   {
    "duration": 56,
    "start_time": "2023-10-17T11:50:42.184Z"
   },
   {
    "duration": 53,
    "start_time": "2023-10-17T11:50:42.242Z"
   },
   {
    "duration": 74,
    "start_time": "2023-10-17T11:50:42.299Z"
   },
   {
    "duration": 109,
    "start_time": "2023-10-17T11:50:42.374Z"
   },
   {
    "duration": 609,
    "start_time": "2023-10-17T11:50:42.484Z"
   },
   {
    "duration": 28,
    "start_time": "2023-10-17T11:50:43.095Z"
   },
   {
    "duration": 113,
    "start_time": "2023-10-17T11:50:43.130Z"
   },
   {
    "duration": 308,
    "start_time": "2023-10-17T11:50:43.245Z"
   },
   {
    "duration": 17,
    "start_time": "2023-10-17T11:50:43.555Z"
   },
   {
    "duration": 260,
    "start_time": "2023-10-17T11:50:43.574Z"
   },
   {
    "duration": 333,
    "start_time": "2023-10-17T11:50:43.836Z"
   },
   {
    "duration": 70,
    "start_time": "2023-10-17T11:50:44.171Z"
   },
   {
    "duration": 353,
    "start_time": "2023-10-17T11:50:44.243Z"
   },
   {
    "duration": 117,
    "start_time": "2023-10-17T11:50:44.598Z"
   },
   {
    "duration": 241,
    "start_time": "2023-10-17T11:50:44.717Z"
   },
   {
    "duration": 15,
    "start_time": "2023-10-17T11:50:44.960Z"
   },
   {
    "duration": 62,
    "start_time": "2023-10-17T11:50:44.977Z"
   },
   {
    "duration": 28,
    "start_time": "2023-10-17T11:50:45.040Z"
   },
   {
    "duration": 83,
    "start_time": "2023-10-17T11:50:45.069Z"
   },
   {
    "duration": 122,
    "start_time": "2023-10-17T11:50:45.154Z"
   },
   {
    "duration": 32,
    "start_time": "2023-10-17T11:50:45.277Z"
   },
   {
    "duration": 121,
    "start_time": "2023-10-17T11:50:45.311Z"
   },
   {
    "duration": 66,
    "start_time": "2023-10-17T11:50:45.442Z"
   },
   {
    "duration": 218,
    "start_time": "2023-10-17T11:50:45.510Z"
   },
   {
    "duration": 565,
    "start_time": "2023-10-17T11:50:45.734Z"
   },
   {
    "duration": 582,
    "start_time": "2023-10-17T11:50:46.301Z"
   },
   {
    "duration": 23,
    "start_time": "2023-10-17T11:50:46.884Z"
   },
   {
    "duration": 202,
    "start_time": "2023-10-17T11:50:46.909Z"
   },
   {
    "duration": 133,
    "start_time": "2023-10-17T11:50:47.112Z"
   },
   {
    "duration": 10,
    "start_time": "2023-10-17T11:50:47.249Z"
   },
   {
    "duration": 152,
    "start_time": "2023-10-17T11:50:47.261Z"
   },
   {
    "duration": 328,
    "start_time": "2023-10-17T11:50:47.414Z"
   },
   {
    "duration": 228,
    "start_time": "2023-10-17T11:50:47.744Z"
   },
   {
    "duration": 2,
    "start_time": "2023-10-17T11:50:47.974Z"
   },
   {
    "duration": 12,
    "start_time": "2023-10-17T11:50:47.978Z"
   },
   {
    "duration": 99,
    "start_time": "2023-10-17T11:50:47.991Z"
   },
   {
    "duration": 550,
    "start_time": "2023-10-17T11:50:48.092Z"
   },
   {
    "duration": 10601,
    "start_time": "2023-10-17T11:50:48.645Z"
   },
   {
    "duration": 167,
    "start_time": "2023-10-17T11:50:59.247Z"
   },
   {
    "duration": 255,
    "start_time": "2023-10-17T11:50:59.416Z"
   },
   {
    "duration": 3,
    "start_time": "2023-10-17T11:50:59.673Z"
   },
   {
    "duration": 111,
    "start_time": "2023-10-17T11:50:59.677Z"
   },
   {
    "duration": 115512,
    "start_time": "2023-10-17T11:50:59.790Z"
   },
   {
    "duration": 333,
    "start_time": "2023-10-17T11:52:55.304Z"
   },
   {
    "duration": 1338,
    "start_time": "2023-10-17T11:53:13.178Z"
   },
   {
    "duration": 3,
    "start_time": "2023-10-17T11:53:14.518Z"
   },
   {
    "duration": 951,
    "start_time": "2023-10-17T11:53:14.522Z"
   },
   {
    "duration": 3,
    "start_time": "2023-10-17T11:53:15.474Z"
   },
   {
    "duration": 23,
    "start_time": "2023-10-17T11:53:15.480Z"
   },
   {
    "duration": 24,
    "start_time": "2023-10-17T11:53:15.504Z"
   },
   {
    "duration": 18,
    "start_time": "2023-10-17T11:53:15.530Z"
   },
   {
    "duration": 167,
    "start_time": "2023-10-17T11:53:15.549Z"
   },
   {
    "duration": 593,
    "start_time": "2023-10-17T11:53:15.717Z"
   },
   {
    "duration": 1137,
    "start_time": "2023-10-17T11:53:16.313Z"
   },
   {
    "duration": 4,
    "start_time": "2023-10-17T11:53:17.452Z"
   },
   {
    "duration": 53,
    "start_time": "2023-10-17T11:53:17.458Z"
   },
   {
    "duration": 38,
    "start_time": "2023-10-17T11:53:17.514Z"
   },
   {
    "duration": 33,
    "start_time": "2023-10-17T11:53:17.555Z"
   },
   {
    "duration": 93,
    "start_time": "2023-10-17T11:53:17.590Z"
   },
   {
    "duration": 439,
    "start_time": "2023-10-17T11:53:17.685Z"
   },
   {
    "duration": 29,
    "start_time": "2023-10-17T11:53:18.137Z"
   },
   {
    "duration": 76,
    "start_time": "2023-10-17T11:53:18.168Z"
   },
   {
    "duration": 274,
    "start_time": "2023-10-17T11:53:18.246Z"
   },
   {
    "duration": 18,
    "start_time": "2023-10-17T11:53:18.534Z"
   },
   {
    "duration": 58,
    "start_time": "2023-10-17T11:53:18.554Z"
   },
   {
    "duration": 332,
    "start_time": "2023-10-17T11:53:18.614Z"
   },
   {
    "duration": 45,
    "start_time": "2023-10-17T11:53:18.948Z"
   },
   {
    "duration": 45,
    "start_time": "2023-10-17T11:53:18.995Z"
   },
   {
    "duration": 41,
    "start_time": "2023-10-17T11:53:19.042Z"
   },
   {
    "duration": 214,
    "start_time": "2023-10-17T11:53:19.084Z"
   },
   {
    "duration": 16,
    "start_time": "2023-10-17T11:53:19.300Z"
   },
   {
    "duration": 53,
    "start_time": "2023-10-17T11:53:19.318Z"
   },
   {
    "duration": 27,
    "start_time": "2023-10-17T11:53:19.373Z"
   },
   {
    "duration": 62,
    "start_time": "2023-10-17T11:53:19.402Z"
   },
   {
    "duration": 26,
    "start_time": "2023-10-17T11:53:19.466Z"
   },
   {
    "duration": 12,
    "start_time": "2023-10-17T11:53:19.493Z"
   },
   {
    "duration": 106,
    "start_time": "2023-10-17T11:53:19.507Z"
   },
   {
    "duration": 35,
    "start_time": "2023-10-17T11:53:19.616Z"
   },
   {
    "duration": 23,
    "start_time": "2023-10-17T11:53:19.653Z"
   },
   {
    "duration": 316,
    "start_time": "2023-10-17T11:53:19.677Z"
   },
   {
    "duration": 565,
    "start_time": "2023-10-17T11:53:19.995Z"
   },
   {
    "duration": 19,
    "start_time": "2023-10-17T11:53:20.562Z"
   },
   {
    "duration": 70,
    "start_time": "2023-10-17T11:53:20.582Z"
   },
   {
    "duration": 83,
    "start_time": "2023-10-17T11:53:20.654Z"
   },
   {
    "duration": 12,
    "start_time": "2023-10-17T11:53:20.741Z"
   },
   {
    "duration": 98,
    "start_time": "2023-10-17T11:53:20.754Z"
   },
   {
    "duration": 141,
    "start_time": "2023-10-17T11:53:20.854Z"
   },
   {
    "duration": 236,
    "start_time": "2023-10-17T11:53:20.996Z"
   },
   {
    "duration": 3,
    "start_time": "2023-10-17T11:53:21.234Z"
   },
   {
    "duration": 34,
    "start_time": "2023-10-17T11:53:21.239Z"
   },
   {
    "duration": 111,
    "start_time": "2023-10-17T11:53:21.274Z"
   },
   {
    "duration": 498,
    "start_time": "2023-10-17T11:53:21.386Z"
   },
   {
    "duration": 10570,
    "start_time": "2023-10-17T11:53:21.885Z"
   },
   {
    "duration": 161,
    "start_time": "2023-10-17T11:53:32.456Z"
   },
   {
    "duration": 242,
    "start_time": "2023-10-17T11:53:32.618Z"
   },
   {
    "duration": 2,
    "start_time": "2023-10-17T11:53:32.862Z"
   },
   {
    "duration": 128,
    "start_time": "2023-10-17T11:53:32.866Z"
   },
   {
    "duration": 98574,
    "start_time": "2023-10-17T11:53:32.996Z"
   },
   {
    "duration": 265,
    "start_time": "2023-10-17T11:55:11.572Z"
   },
   {
    "duration": 142046,
    "start_time": "2023-10-17T11:55:11.840Z"
   },
   {
    "duration": 301,
    "start_time": "2023-10-17T11:57:33.888Z"
   },
   {
    "duration": 3,
    "start_time": "2023-10-17T11:57:34.191Z"
   },
   {
    "duration": 3545,
    "start_time": "2023-10-17T11:57:34.195Z"
   },
   {
    "duration": 135,
    "start_time": "2023-10-17T11:57:37.742Z"
   },
   {
    "duration": 78,
    "start_time": "2023-10-17T11:57:37.879Z"
   },
   {
    "duration": 25192,
    "start_time": "2023-10-17T11:57:37.959Z"
   },
   {
    "duration": 1497,
    "start_time": "2023-10-17T11:58:03.153Z"
   },
   {
    "duration": 52,
    "start_time": "2023-10-17T11:58:04.732Z"
   },
   {
    "duration": 1570,
    "start_time": "2023-10-17T11:58:04.786Z"
   },
   {
    "duration": 1506,
    "start_time": "2023-10-17T11:58:34.809Z"
   },
   {
    "duration": 2,
    "start_time": "2023-10-17T11:58:36.317Z"
   },
   {
    "duration": 1032,
    "start_time": "2023-10-17T11:58:36.323Z"
   },
   {
    "duration": 4,
    "start_time": "2023-10-17T11:58:37.359Z"
   },
   {
    "duration": 30,
    "start_time": "2023-10-17T11:58:37.364Z"
   },
   {
    "duration": 10,
    "start_time": "2023-10-17T11:58:37.395Z"
   },
   {
    "duration": 38,
    "start_time": "2023-10-17T11:58:37.407Z"
   },
   {
    "duration": 173,
    "start_time": "2023-10-17T11:58:37.447Z"
   },
   {
    "duration": 577,
    "start_time": "2023-10-17T11:58:37.624Z"
   },
   {
    "duration": 1170,
    "start_time": "2023-10-17T11:58:38.205Z"
   },
   {
    "duration": 4,
    "start_time": "2023-10-17T11:58:39.377Z"
   },
   {
    "duration": 145,
    "start_time": "2023-10-17T11:58:39.383Z"
   },
   {
    "duration": 50,
    "start_time": "2023-10-17T11:58:39.537Z"
   },
   {
    "duration": 93,
    "start_time": "2023-10-17T11:58:39.589Z"
   },
   {
    "duration": 104,
    "start_time": "2023-10-17T11:58:39.684Z"
   },
   {
    "duration": 474,
    "start_time": "2023-10-17T11:58:39.790Z"
   },
   {
    "duration": 32,
    "start_time": "2023-10-17T11:58:40.267Z"
   },
   {
    "duration": 372,
    "start_time": "2023-10-17T11:58:40.301Z"
   },
   {
    "duration": 583,
    "start_time": "2023-10-17T11:58:40.675Z"
   },
   {
    "duration": 25,
    "start_time": "2023-10-17T11:58:41.260Z"
   },
   {
    "duration": 390,
    "start_time": "2023-10-17T11:58:41.287Z"
   },
   {
    "duration": 575,
    "start_time": "2023-10-17T11:58:41.678Z"
   },
   {
    "duration": 51,
    "start_time": "2023-10-17T11:58:42.262Z"
   },
   {
    "duration": 89,
    "start_time": "2023-10-17T11:58:42.315Z"
   },
   {
    "duration": 68,
    "start_time": "2023-10-17T11:58:42.406Z"
   },
   {
    "duration": 237,
    "start_time": "2023-10-17T11:58:42.476Z"
   },
   {
    "duration": 31,
    "start_time": "2023-10-17T11:58:42.714Z"
   },
   {
    "duration": 52,
    "start_time": "2023-10-17T11:58:42.751Z"
   },
   {
    "duration": 64,
    "start_time": "2023-10-17T11:58:42.804Z"
   },
   {
    "duration": 50,
    "start_time": "2023-10-17T11:58:42.869Z"
   },
   {
    "duration": 40,
    "start_time": "2023-10-17T11:58:42.921Z"
   },
   {
    "duration": 71,
    "start_time": "2023-10-17T11:58:42.963Z"
   },
   {
    "duration": 168,
    "start_time": "2023-10-17T11:58:43.038Z"
   },
   {
    "duration": 79,
    "start_time": "2023-10-17T11:58:43.208Z"
   },
   {
    "duration": 89,
    "start_time": "2023-10-17T11:58:43.289Z"
   },
   {
    "duration": 564,
    "start_time": "2023-10-17T11:58:43.379Z"
   },
   {
    "duration": 614,
    "start_time": "2023-10-17T11:58:43.946Z"
   },
   {
    "duration": 20,
    "start_time": "2023-10-17T11:58:44.562Z"
   },
   {
    "duration": 238,
    "start_time": "2023-10-17T11:58:44.583Z"
   },
   {
    "duration": 159,
    "start_time": "2023-10-17T11:58:44.823Z"
   },
   {
    "duration": 9,
    "start_time": "2023-10-17T11:58:44.984Z"
   },
   {
    "duration": 110,
    "start_time": "2023-10-17T11:58:44.995Z"
   },
   {
    "duration": 137,
    "start_time": "2023-10-17T11:58:45.107Z"
   },
   {
    "duration": 246,
    "start_time": "2023-10-17T11:58:45.246Z"
   },
   {
    "duration": 3,
    "start_time": "2023-10-17T11:58:45.494Z"
   },
   {
    "duration": 35,
    "start_time": "2023-10-17T11:58:45.499Z"
   },
   {
    "duration": 106,
    "start_time": "2023-10-17T11:58:45.537Z"
   },
   {
    "duration": 555,
    "start_time": "2023-10-17T11:58:45.651Z"
   },
   {
    "duration": 9174,
    "start_time": "2023-10-17T11:58:46.209Z"
   },
   {
    "duration": 158,
    "start_time": "2023-10-17T11:58:55.385Z"
   },
   {
    "duration": 242,
    "start_time": "2023-10-17T11:58:55.544Z"
   },
   {
    "duration": 6,
    "start_time": "2023-10-17T11:58:55.788Z"
   },
   {
    "duration": 126,
    "start_time": "2023-10-17T11:58:55.796Z"
   },
   {
    "duration": 156112,
    "start_time": "2023-10-17T11:58:55.924Z"
   },
   {
    "duration": 302,
    "start_time": "2023-10-17T12:01:32.039Z"
   },
   {
    "duration": 142091,
    "start_time": "2023-10-17T12:01:32.342Z"
   },
   {
    "duration": 303,
    "start_time": "2023-10-17T12:03:54.436Z"
   },
   {
    "duration": 3,
    "start_time": "2023-10-17T12:03:54.741Z"
   },
   {
    "duration": 4039,
    "start_time": "2023-10-17T12:03:54.745Z"
   },
   {
    "duration": 154,
    "start_time": "2023-10-17T12:03:58.785Z"
   },
   {
    "duration": 65,
    "start_time": "2023-10-17T12:03:58.941Z"
   },
   {
    "duration": 15718,
    "start_time": "2023-10-17T12:03:59.007Z"
   },
   {
    "duration": 1430,
    "start_time": "2023-10-17T12:04:14.733Z"
   },
   {
    "duration": 54,
    "start_time": "2023-10-17T12:04:16.229Z"
   },
   {
    "duration": 1458,
    "start_time": "2023-10-17T12:04:16.284Z"
   },
   {
    "duration": 4,
    "start_time": "2023-10-17T12:04:17.747Z"
   },
   {
    "duration": 1585,
    "start_time": "2023-10-17T12:04:39.825Z"
   },
   {
    "duration": 2,
    "start_time": "2023-10-17T12:04:41.413Z"
   },
   {
    "duration": 1058,
    "start_time": "2023-10-17T12:04:41.418Z"
   },
   {
    "duration": 3,
    "start_time": "2023-10-17T12:04:42.478Z"
   },
   {
    "duration": 39,
    "start_time": "2023-10-17T12:04:42.482Z"
   },
   {
    "duration": 28,
    "start_time": "2023-10-17T12:04:42.523Z"
   },
   {
    "duration": 25,
    "start_time": "2023-10-17T12:04:42.553Z"
   },
   {
    "duration": 224,
    "start_time": "2023-10-17T12:04:42.580Z"
   },
   {
    "duration": 608,
    "start_time": "2023-10-17T12:04:42.806Z"
   },
   {
    "duration": 1165,
    "start_time": "2023-10-17T12:04:43.416Z"
   },
   {
    "duration": 4,
    "start_time": "2023-10-17T12:04:44.583Z"
   },
   {
    "duration": 59,
    "start_time": "2023-10-17T12:04:44.588Z"
   },
   {
    "duration": 29,
    "start_time": "2023-10-17T12:04:44.649Z"
   },
   {
    "duration": 56,
    "start_time": "2023-10-17T12:04:44.679Z"
   },
   {
    "duration": 66,
    "start_time": "2023-10-17T12:04:44.738Z"
   },
   {
    "duration": 487,
    "start_time": "2023-10-17T12:04:44.806Z"
   },
   {
    "duration": 42,
    "start_time": "2023-10-17T12:04:45.294Z"
   },
   {
    "duration": 67,
    "start_time": "2023-10-17T12:04:45.339Z"
   },
   {
    "duration": 292,
    "start_time": "2023-10-17T12:04:45.407Z"
   },
   {
    "duration": 40,
    "start_time": "2023-10-17T12:04:45.700Z"
   },
   {
    "duration": 59,
    "start_time": "2023-10-17T12:04:45.749Z"
   },
   {
    "duration": 392,
    "start_time": "2023-10-17T12:04:45.811Z"
   },
   {
    "duration": 63,
    "start_time": "2023-10-17T12:04:46.205Z"
   },
   {
    "duration": 28,
    "start_time": "2023-10-17T12:04:46.270Z"
   },
   {
    "duration": 77,
    "start_time": "2023-10-17T12:04:46.300Z"
   },
   {
    "duration": 238,
    "start_time": "2023-10-17T12:04:46.379Z"
   },
   {
    "duration": 25,
    "start_time": "2023-10-17T12:04:46.619Z"
   },
   {
    "duration": 43,
    "start_time": "2023-10-17T12:04:46.649Z"
   },
   {
    "duration": 61,
    "start_time": "2023-10-17T12:04:46.694Z"
   },
   {
    "duration": 41,
    "start_time": "2023-10-17T12:04:46.757Z"
   },
   {
    "duration": 45,
    "start_time": "2023-10-17T12:04:46.800Z"
   },
   {
    "duration": 47,
    "start_time": "2023-10-17T12:04:46.847Z"
   },
   {
    "duration": 179,
    "start_time": "2023-10-17T12:04:46.896Z"
   },
   {
    "duration": 85,
    "start_time": "2023-10-17T12:04:47.077Z"
   },
   {
    "duration": 123,
    "start_time": "2023-10-17T12:04:47.164Z"
   },
   {
    "duration": 390,
    "start_time": "2023-10-17T12:04:47.288Z"
   },
   {
    "duration": 578,
    "start_time": "2023-10-17T12:04:47.680Z"
   },
   {
    "duration": 20,
    "start_time": "2023-10-17T12:04:48.259Z"
   },
   {
    "duration": 19,
    "start_time": "2023-10-17T12:04:48.281Z"
   },
   {
    "duration": 89,
    "start_time": "2023-10-17T12:04:48.302Z"
   },
   {
    "duration": 10,
    "start_time": "2023-10-17T12:04:48.393Z"
   },
   {
    "duration": 77,
    "start_time": "2023-10-17T12:04:48.404Z"
   },
   {
    "duration": 125,
    "start_time": "2023-10-17T12:04:48.482Z"
   },
   {
    "duration": 246,
    "start_time": "2023-10-17T12:04:48.608Z"
   },
   {
    "duration": 3,
    "start_time": "2023-10-17T12:04:48.855Z"
   },
   {
    "duration": 16,
    "start_time": "2023-10-17T12:04:48.859Z"
   },
   {
    "duration": 97,
    "start_time": "2023-10-17T12:04:48.876Z"
   },
   {
    "duration": 485,
    "start_time": "2023-10-17T12:04:48.975Z"
   },
   {
    "duration": 11089,
    "start_time": "2023-10-17T12:04:49.462Z"
   },
   {
    "duration": 166,
    "start_time": "2023-10-17T12:05:00.553Z"
   },
   {
    "duration": 269,
    "start_time": "2023-10-17T12:05:00.723Z"
   },
   {
    "duration": 4,
    "start_time": "2023-10-17T12:05:00.994Z"
   },
   {
    "duration": 141,
    "start_time": "2023-10-17T12:05:01.000Z"
   },
   {
    "duration": 38188,
    "start_time": "2023-10-17T12:05:01.143Z"
   },
   {
    "duration": 114392,
    "start_time": "2023-10-17T12:05:39.333Z"
   },
   {
    "duration": 313,
    "start_time": "2023-10-17T12:07:33.728Z"
   },
   {
    "duration": 151683,
    "start_time": "2023-10-17T12:07:34.043Z"
   },
   {
    "duration": 385,
    "start_time": "2023-10-17T12:10:05.728Z"
   },
   {
    "duration": 27,
    "start_time": "2023-10-17T12:10:06.116Z"
   },
   {
    "duration": 4605,
    "start_time": "2023-10-17T12:10:06.152Z"
   },
   {
    "duration": 160,
    "start_time": "2023-10-17T12:10:10.759Z"
   },
   {
    "duration": 85,
    "start_time": "2023-10-17T12:10:10.934Z"
   },
   {
    "duration": 366828,
    "start_time": "2023-10-17T12:10:11.022Z"
   },
   {
    "duration": 1609,
    "start_time": "2023-10-17T12:16:17.852Z"
   },
   {
    "duration": 82,
    "start_time": "2023-10-17T12:16:19.463Z"
   },
   {
    "duration": 1586,
    "start_time": "2023-10-17T12:16:19.547Z"
   },
   {
    "duration": 119205,
    "start_time": "2023-10-17T12:16:21.141Z"
   },
   {
    "duration": 22,
    "start_time": "2023-10-17T12:49:15.955Z"
   },
   {
    "duration": 2,
    "start_time": "2023-10-17T12:50:12.357Z"
   },
   {
    "duration": 3,
    "start_time": "2023-10-17T12:50:34.299Z"
   },
   {
    "duration": 9,
    "start_time": "2023-10-17T12:52:47.152Z"
   },
   {
    "duration": 4770,
    "start_time": "2023-10-17T12:54:08.901Z"
   },
   {
    "duration": 80,
    "start_time": "2023-10-17T12:54:15.754Z"
   },
   {
    "duration": 1772,
    "start_time": "2023-10-17T12:56:11.140Z"
   },
   {
    "duration": 4,
    "start_time": "2023-10-17T12:56:12.914Z"
   },
   {
    "duration": 1434,
    "start_time": "2023-10-17T12:56:12.919Z"
   },
   {
    "duration": 5,
    "start_time": "2023-10-17T12:56:14.355Z"
   },
   {
    "duration": 48,
    "start_time": "2023-10-17T12:56:14.362Z"
   },
   {
    "duration": 42,
    "start_time": "2023-10-17T12:56:14.412Z"
   },
   {
    "duration": 33,
    "start_time": "2023-10-17T12:56:14.456Z"
   },
   {
    "duration": 201,
    "start_time": "2023-10-17T12:56:14.491Z"
   },
   {
    "duration": 568,
    "start_time": "2023-10-17T12:56:14.694Z"
   },
   {
    "duration": 1179,
    "start_time": "2023-10-17T12:56:15.265Z"
   },
   {
    "duration": 4,
    "start_time": "2023-10-17T12:56:16.448Z"
   },
   {
    "duration": 39,
    "start_time": "2023-10-17T12:56:16.454Z"
   },
   {
    "duration": 53,
    "start_time": "2023-10-17T12:56:16.494Z"
   },
   {
    "duration": 35,
    "start_time": "2023-10-17T12:56:16.550Z"
   },
   {
    "duration": 91,
    "start_time": "2023-10-17T12:56:16.586Z"
   },
   {
    "duration": 633,
    "start_time": "2023-10-17T12:56:16.679Z"
   },
   {
    "duration": 48,
    "start_time": "2023-10-17T12:56:17.315Z"
   },
   {
    "duration": 87,
    "start_time": "2023-10-17T12:56:17.366Z"
   },
   {
    "duration": 293,
    "start_time": "2023-10-17T12:56:17.455Z"
   },
   {
    "duration": 27,
    "start_time": "2023-10-17T12:56:17.750Z"
   },
   {
    "duration": 114,
    "start_time": "2023-10-17T12:56:17.780Z"
   },
   {
    "duration": 324,
    "start_time": "2023-10-17T12:56:17.896Z"
   },
   {
    "duration": 70,
    "start_time": "2023-10-17T12:56:18.226Z"
   },
   {
    "duration": 47,
    "start_time": "2023-10-17T12:56:18.299Z"
   },
   {
    "duration": 57,
    "start_time": "2023-10-17T12:56:18.349Z"
   },
   {
    "duration": 239,
    "start_time": "2023-10-17T12:56:18.408Z"
   },
   {
    "duration": 17,
    "start_time": "2023-10-17T12:56:18.649Z"
   },
   {
    "duration": 74,
    "start_time": "2023-10-17T12:56:18.668Z"
   },
   {
    "duration": 30,
    "start_time": "2023-10-17T12:56:18.744Z"
   },
   {
    "duration": 73,
    "start_time": "2023-10-17T12:56:18.776Z"
   },
   {
    "duration": 28,
    "start_time": "2023-10-17T12:56:18.851Z"
   },
   {
    "duration": 14,
    "start_time": "2023-10-17T12:56:18.881Z"
   },
   {
    "duration": 107,
    "start_time": "2023-10-17T12:56:18.896Z"
   },
   {
    "duration": 38,
    "start_time": "2023-10-17T12:56:19.005Z"
   },
   {
    "duration": 25,
    "start_time": "2023-10-17T12:56:19.045Z"
   },
   {
    "duration": 325,
    "start_time": "2023-10-17T12:56:19.072Z"
   },
   {
    "duration": 669,
    "start_time": "2023-10-17T12:56:19.399Z"
   },
   {
    "duration": 19,
    "start_time": "2023-10-17T12:56:20.070Z"
   },
   {
    "duration": 35,
    "start_time": "2023-10-17T12:56:20.091Z"
   },
   {
    "duration": 114,
    "start_time": "2023-10-17T12:56:20.128Z"
   },
   {
    "duration": 13,
    "start_time": "2023-10-17T12:56:20.250Z"
   },
   {
    "duration": 92,
    "start_time": "2023-10-17T12:56:20.267Z"
   },
   {
    "duration": 201,
    "start_time": "2023-10-17T12:56:20.362Z"
   },
   {
    "duration": 242,
    "start_time": "2023-10-17T12:56:20.565Z"
   },
   {
    "duration": 4,
    "start_time": "2023-10-17T12:56:20.809Z"
   },
   {
    "duration": 34,
    "start_time": "2023-10-17T12:56:20.814Z"
   },
   {
    "duration": 136,
    "start_time": "2023-10-17T12:56:20.850Z"
   },
   {
    "duration": 554,
    "start_time": "2023-10-17T12:56:20.987Z"
   },
   {
    "duration": 83398,
    "start_time": "2023-10-17T12:56:21.544Z"
   },
   {
    "duration": 2,
    "start_time": "2023-10-17T12:57:44.944Z"
   },
   {
    "duration": 204,
    "start_time": "2023-10-17T12:57:44.948Z"
   },
   {
    "duration": 149,
    "start_time": "2023-10-17T12:57:45.154Z"
   },
   {
    "duration": 195,
    "start_time": "2023-10-17T12:57:45.304Z"
   },
   {
    "duration": 59,
    "start_time": "2023-10-17T12:58:11.703Z"
   },
   {
    "duration": 1842,
    "start_time": "2023-10-17T13:00:08.821Z"
   },
   {
    "duration": 3,
    "start_time": "2023-10-17T13:00:10.665Z"
   },
   {
    "duration": 1802,
    "start_time": "2023-10-17T13:00:10.670Z"
   },
   {
    "duration": 3,
    "start_time": "2023-10-17T13:00:12.475Z"
   },
   {
    "duration": 159,
    "start_time": "2023-10-17T13:00:12.480Z"
   },
   {
    "duration": 35,
    "start_time": "2023-10-17T13:00:12.641Z"
   },
   {
    "duration": 65,
    "start_time": "2023-10-17T13:00:12.678Z"
   },
   {
    "duration": 254,
    "start_time": "2023-10-17T13:00:12.746Z"
   },
   {
    "duration": 590,
    "start_time": "2023-10-17T13:00:13.002Z"
   },
   {
    "duration": 1218,
    "start_time": "2023-10-17T13:00:13.596Z"
   },
   {
    "duration": 31,
    "start_time": "2023-10-17T13:00:14.815Z"
   },
   {
    "duration": 64,
    "start_time": "2023-10-17T13:00:14.848Z"
   },
   {
    "duration": 77,
    "start_time": "2023-10-17T13:00:14.914Z"
   },
   {
    "duration": 195,
    "start_time": "2023-10-17T13:00:14.994Z"
   },
   {
    "duration": 81,
    "start_time": "2023-10-17T13:00:15.191Z"
   },
   {
    "duration": 543,
    "start_time": "2023-10-17T13:00:15.275Z"
   },
   {
    "duration": 36,
    "start_time": "2023-10-17T13:00:15.821Z"
   },
   {
    "duration": 89,
    "start_time": "2023-10-17T13:00:15.860Z"
   },
   {
    "duration": 346,
    "start_time": "2023-10-17T13:00:15.951Z"
   },
   {
    "duration": 48,
    "start_time": "2023-10-17T13:00:16.300Z"
   },
   {
    "duration": 131,
    "start_time": "2023-10-17T13:00:16.351Z"
   },
   {
    "duration": 379,
    "start_time": "2023-10-17T13:00:16.485Z"
   },
   {
    "duration": 100,
    "start_time": "2023-10-17T13:00:16.866Z"
   },
   {
    "duration": 42,
    "start_time": "2023-10-17T13:00:16.968Z"
   },
   {
    "duration": 78,
    "start_time": "2023-10-17T13:00:17.013Z"
   },
   {
    "duration": 270,
    "start_time": "2023-10-17T13:00:17.093Z"
   },
   {
    "duration": 17,
    "start_time": "2023-10-17T13:00:17.365Z"
   },
   {
    "duration": 191,
    "start_time": "2023-10-17T13:00:17.385Z"
   },
   {
    "duration": 29,
    "start_time": "2023-10-17T13:00:17.578Z"
   },
   {
    "duration": 213,
    "start_time": "2023-10-17T13:00:17.609Z"
   },
   {
    "duration": 117,
    "start_time": "2023-10-17T13:00:17.824Z"
   },
   {
    "duration": 10,
    "start_time": "2023-10-17T13:00:17.943Z"
   },
   {
    "duration": 123,
    "start_time": "2023-10-17T13:00:17.955Z"
   },
   {
    "duration": 43,
    "start_time": "2023-10-17T13:00:18.080Z"
   },
   {
    "duration": 87,
    "start_time": "2023-10-17T13:00:18.129Z"
   },
   {
    "duration": 430,
    "start_time": "2023-10-17T13:00:18.218Z"
   },
   {
    "duration": 670,
    "start_time": "2023-10-17T13:00:18.650Z"
   },
   {
    "duration": 33,
    "start_time": "2023-10-17T13:00:19.324Z"
   },
   {
    "duration": 93,
    "start_time": "2023-10-17T13:00:19.359Z"
   },
   {
    "duration": 85,
    "start_time": "2023-10-17T13:00:19.454Z"
   },
   {
    "duration": 11,
    "start_time": "2023-10-17T13:00:19.546Z"
   },
   {
    "duration": 97,
    "start_time": "2023-10-17T13:00:19.560Z"
   },
   {
    "duration": 137,
    "start_time": "2023-10-17T13:00:19.658Z"
   },
   {
    "duration": 252,
    "start_time": "2023-10-17T13:00:19.797Z"
   },
   {
    "duration": 3,
    "start_time": "2023-10-17T13:00:20.051Z"
   },
   {
    "duration": 87,
    "start_time": "2023-10-17T13:00:20.056Z"
   },
   {
    "duration": 177,
    "start_time": "2023-10-17T13:00:20.144Z"
   },
   {
    "duration": 581,
    "start_time": "2023-10-17T13:00:20.322Z"
   },
   {
    "duration": 83237,
    "start_time": "2023-10-17T13:00:20.905Z"
   },
   {
    "duration": 3,
    "start_time": "2023-10-17T13:01:44.144Z"
   },
   {
    "duration": 46,
    "start_time": "2023-10-17T13:01:44.148Z"
   },
   {
    "duration": 39,
    "start_time": "2023-10-17T13:01:44.195Z"
   },
   {
    "duration": 17,
    "start_time": "2023-10-17T13:01:44.238Z"
   },
   {
    "duration": 1079,
    "start_time": "2023-10-17T13:02:27.205Z"
   },
   {
    "duration": 1635,
    "start_time": "2023-10-17T13:02:45.236Z"
   },
   {
    "duration": 3,
    "start_time": "2023-10-17T13:02:46.873Z"
   },
   {
    "duration": 1424,
    "start_time": "2023-10-17T13:02:46.878Z"
   },
   {
    "duration": 4,
    "start_time": "2023-10-17T13:02:48.304Z"
   },
   {
    "duration": 49,
    "start_time": "2023-10-17T13:02:48.310Z"
   },
   {
    "duration": 13,
    "start_time": "2023-10-17T13:02:48.361Z"
   },
   {
    "duration": 40,
    "start_time": "2023-10-17T13:02:48.375Z"
   },
   {
    "duration": 196,
    "start_time": "2023-10-17T13:02:48.417Z"
   },
   {
    "duration": 522,
    "start_time": "2023-10-17T13:02:48.614Z"
   },
   {
    "duration": 1030,
    "start_time": "2023-10-17T13:02:49.142Z"
   },
   {
    "duration": 4,
    "start_time": "2023-10-17T13:02:50.173Z"
   },
   {
    "duration": 95,
    "start_time": "2023-10-17T13:02:50.179Z"
   },
   {
    "duration": 92,
    "start_time": "2023-10-17T13:02:50.276Z"
   },
   {
    "duration": 205,
    "start_time": "2023-10-17T13:02:50.370Z"
   },
   {
    "duration": 72,
    "start_time": "2023-10-17T13:02:50.577Z"
   },
   {
    "duration": 464,
    "start_time": "2023-10-17T13:02:50.651Z"
   },
   {
    "duration": 34,
    "start_time": "2023-10-17T13:02:51.117Z"
   },
   {
    "duration": 75,
    "start_time": "2023-10-17T13:02:51.153Z"
   },
   {
    "duration": 267,
    "start_time": "2023-10-17T13:02:51.230Z"
   },
   {
    "duration": 29,
    "start_time": "2023-10-17T13:02:51.499Z"
   },
   {
    "duration": 60,
    "start_time": "2023-10-17T13:02:51.536Z"
   },
   {
    "duration": 312,
    "start_time": "2023-10-17T13:02:51.597Z"
   },
   {
    "duration": 52,
    "start_time": "2023-10-17T13:02:51.910Z"
   },
   {
    "duration": 25,
    "start_time": "2023-10-17T13:02:51.963Z"
   },
   {
    "duration": 66,
    "start_time": "2023-10-17T13:02:51.989Z"
   },
   {
    "duration": 240,
    "start_time": "2023-10-17T13:02:52.057Z"
   },
   {
    "duration": 30,
    "start_time": "2023-10-17T13:02:52.298Z"
   },
   {
    "duration": 45,
    "start_time": "2023-10-17T13:02:52.340Z"
   },
   {
    "duration": 29,
    "start_time": "2023-10-17T13:02:52.386Z"
   },
   {
    "duration": 49,
    "start_time": "2023-10-17T13:02:52.430Z"
   },
   {
    "duration": 27,
    "start_time": "2023-10-17T13:02:52.481Z"
   },
   {
    "duration": 29,
    "start_time": "2023-10-17T13:02:52.510Z"
   },
   {
    "duration": 99,
    "start_time": "2023-10-17T13:02:52.541Z"
   },
   {
    "duration": 31,
    "start_time": "2023-10-17T13:02:52.643Z"
   },
   {
    "duration": 30,
    "start_time": "2023-10-17T13:02:52.675Z"
   },
   {
    "duration": 310,
    "start_time": "2023-10-17T13:02:52.708Z"
   },
   {
    "duration": 582,
    "start_time": "2023-10-17T13:02:53.020Z"
   },
   {
    "duration": 33,
    "start_time": "2023-10-17T13:02:53.604Z"
   },
   {
    "duration": 17,
    "start_time": "2023-10-17T13:02:53.639Z"
   },
   {
    "duration": 55,
    "start_time": "2023-10-17T13:02:53.657Z"
   },
   {
    "duration": 18,
    "start_time": "2023-10-17T13:02:53.728Z"
   },
   {
    "duration": 89,
    "start_time": "2023-10-17T13:02:53.748Z"
   },
   {
    "duration": 114,
    "start_time": "2023-10-17T13:02:53.840Z"
   },
   {
    "duration": 226,
    "start_time": "2023-10-17T13:02:53.956Z"
   },
   {
    "duration": 2,
    "start_time": "2023-10-17T13:02:54.184Z"
   },
   {
    "duration": 41,
    "start_time": "2023-10-17T13:02:54.188Z"
   },
   {
    "duration": 89,
    "start_time": "2023-10-17T13:02:54.232Z"
   },
   {
    "duration": 495,
    "start_time": "2023-10-17T13:02:54.325Z"
   },
   {
    "duration": 1129,
    "start_time": "2023-10-17T13:04:34.792Z"
   },
   {
    "duration": 9,
    "start_time": "2023-10-17T13:04:51.208Z"
   },
   {
    "duration": 641,
    "start_time": "2023-10-17T13:05:04.336Z"
   },
   {
    "duration": 3,
    "start_time": "2023-10-17T13:05:06.888Z"
   },
   {
    "duration": 1352,
    "start_time": "2023-10-17T13:05:07.335Z"
   },
   {
    "duration": 4,
    "start_time": "2023-10-17T13:05:08.689Z"
   },
   {
    "duration": 38,
    "start_time": "2023-10-17T13:05:08.702Z"
   },
   {
    "duration": 4,
    "start_time": "2023-10-17T13:05:09.004Z"
   },
   {
    "duration": 14,
    "start_time": "2023-10-17T13:05:09.595Z"
   },
   {
    "duration": 159,
    "start_time": "2023-10-17T13:05:10.048Z"
   },
   {
    "duration": 562,
    "start_time": "2023-10-17T13:05:10.546Z"
   },
   {
    "duration": 1143,
    "start_time": "2023-10-17T13:05:11.147Z"
   },
   {
    "duration": 4,
    "start_time": "2023-10-17T13:05:12.749Z"
   },
   {
    "duration": 39,
    "start_time": "2023-10-17T13:05:13.532Z"
   },
   {
    "duration": 38,
    "start_time": "2023-10-17T13:05:13.899Z"
   },
   {
    "duration": 32,
    "start_time": "2023-10-17T13:05:14.686Z"
   },
   {
    "duration": 70,
    "start_time": "2023-10-17T13:05:15.424Z"
   },
   {
    "duration": 560,
    "start_time": "2023-10-17T13:05:16.089Z"
   },
   {
    "duration": 26,
    "start_time": "2023-10-17T13:05:17.991Z"
   },
   {
    "duration": 71,
    "start_time": "2023-10-17T13:05:19.713Z"
   },
   {
    "duration": 278,
    "start_time": "2023-10-17T13:05:20.400Z"
   },
   {
    "duration": 23,
    "start_time": "2023-10-17T13:05:22.032Z"
   },
   {
    "duration": 59,
    "start_time": "2023-10-17T13:05:23.340Z"
   },
   {
    "duration": 308,
    "start_time": "2023-10-17T13:05:23.795Z"
   },
   {
    "duration": 53,
    "start_time": "2023-10-17T13:05:24.635Z"
   },
   {
    "duration": 27,
    "start_time": "2023-10-17T13:05:26.439Z"
   },
   {
    "duration": 62,
    "start_time": "2023-10-17T13:05:27.092Z"
   },
   {
    "duration": 204,
    "start_time": "2023-10-17T13:05:30.477Z"
   },
   {
    "duration": 16,
    "start_time": "2023-10-17T13:05:32.463Z"
   },
   {
    "duration": 73,
    "start_time": "2023-10-17T13:05:33.203Z"
   },
   {
    "duration": 30,
    "start_time": "2023-10-17T13:05:38.087Z"
   },
   {
    "duration": 45,
    "start_time": "2023-10-17T13:05:39.016Z"
   },
   {
    "duration": 29,
    "start_time": "2023-10-17T13:05:42.001Z"
   },
   {
    "duration": 10,
    "start_time": "2023-10-17T13:05:42.799Z"
   },
   {
    "duration": 86,
    "start_time": "2023-10-17T13:05:46.390Z"
   },
   {
    "duration": 21,
    "start_time": "2023-10-17T13:05:47.944Z"
   },
   {
    "duration": 27,
    "start_time": "2023-10-17T13:05:52.211Z"
   },
   {
    "duration": 308,
    "start_time": "2023-10-17T13:05:54.542Z"
   },
   {
    "duration": 633,
    "start_time": "2023-10-17T13:05:55.945Z"
   },
   {
    "duration": 18,
    "start_time": "2023-10-17T13:05:59.049Z"
   },
   {
    "duration": 17,
    "start_time": "2023-10-17T13:05:59.693Z"
   },
   {
    "duration": 52,
    "start_time": "2023-10-17T13:06:00.944Z"
   },
   {
    "duration": 13,
    "start_time": "2023-10-17T13:06:01.534Z"
   },
   {
    "duration": 63,
    "start_time": "2023-10-17T13:06:03.701Z"
   },
   {
    "duration": 110,
    "start_time": "2023-10-17T13:06:04.761Z"
   },
   {
    "duration": 217,
    "start_time": "2023-10-17T13:06:08.191Z"
   },
   {
    "duration": 2,
    "start_time": "2023-10-17T13:06:15.301Z"
   },
   {
    "duration": 2,
    "start_time": "2023-10-17T13:06:15.790Z"
   },
   {
    "duration": 86,
    "start_time": "2023-10-17T13:06:18.260Z"
   },
   {
    "duration": 15,
    "start_time": "2023-10-17T13:06:20.555Z"
   },
   {
    "duration": 28,
    "start_time": "2023-10-17T13:06:25.114Z"
   },
   {
    "duration": 1039,
    "start_time": "2023-10-17T13:08:50.757Z"
   },
   {
    "duration": 1528,
    "start_time": "2023-10-17T13:09:01.519Z"
   },
   {
    "duration": 3,
    "start_time": "2023-10-17T13:09:03.049Z"
   },
   {
    "duration": 1333,
    "start_time": "2023-10-17T13:09:03.053Z"
   },
   {
    "duration": 3,
    "start_time": "2023-10-17T13:09:04.388Z"
   },
   {
    "duration": 46,
    "start_time": "2023-10-17T13:09:04.392Z"
   },
   {
    "duration": 5,
    "start_time": "2023-10-17T13:09:04.440Z"
   },
   {
    "duration": 35,
    "start_time": "2023-10-17T13:09:04.447Z"
   },
   {
    "duration": 179,
    "start_time": "2023-10-17T13:09:04.484Z"
   },
   {
    "duration": 522,
    "start_time": "2023-10-17T13:09:04.664Z"
   },
   {
    "duration": 1086,
    "start_time": "2023-10-17T13:09:05.189Z"
   },
   {
    "duration": 3,
    "start_time": "2023-10-17T13:09:06.277Z"
   },
   {
    "duration": 61,
    "start_time": "2023-10-17T13:09:06.282Z"
   },
   {
    "duration": 30,
    "start_time": "2023-10-17T13:09:06.345Z"
   },
   {
    "duration": 132,
    "start_time": "2023-10-17T13:09:06.377Z"
   },
   {
    "duration": 66,
    "start_time": "2023-10-17T13:09:06.511Z"
   },
   {
    "duration": 485,
    "start_time": "2023-10-17T13:09:06.579Z"
   },
   {
    "duration": 24,
    "start_time": "2023-10-17T13:09:07.066Z"
   },
   {
    "duration": 72,
    "start_time": "2023-10-17T13:09:07.092Z"
   },
   {
    "duration": 271,
    "start_time": "2023-10-17T13:09:07.166Z"
   },
   {
    "duration": 17,
    "start_time": "2023-10-17T13:09:07.439Z"
   },
   {
    "duration": 78,
    "start_time": "2023-10-17T13:09:07.458Z"
   },
   {
    "duration": 313,
    "start_time": "2023-10-17T13:09:07.538Z"
   },
   {
    "duration": 44,
    "start_time": "2023-10-17T13:09:07.853Z"
   },
   {
    "duration": 43,
    "start_time": "2023-10-17T13:09:07.899Z"
   },
   {
    "duration": 45,
    "start_time": "2023-10-17T13:09:07.943Z"
   },
   {
    "duration": 224,
    "start_time": "2023-10-17T13:09:07.989Z"
   },
   {
    "duration": 29,
    "start_time": "2023-10-17T13:09:08.214Z"
   },
   {
    "duration": 47,
    "start_time": "2023-10-17T13:09:08.247Z"
   },
   {
    "duration": 55,
    "start_time": "2023-10-17T13:09:08.296Z"
   },
   {
    "duration": 54,
    "start_time": "2023-10-17T13:09:08.353Z"
   },
   {
    "duration": 46,
    "start_time": "2023-10-17T13:09:08.409Z"
   },
   {
    "duration": 35,
    "start_time": "2023-10-17T13:09:08.457Z"
   },
   {
    "duration": 98,
    "start_time": "2023-10-17T13:09:08.494Z"
   },
   {
    "duration": 29,
    "start_time": "2023-10-17T13:09:08.594Z"
   },
   {
    "duration": 48,
    "start_time": "2023-10-17T13:09:08.624Z"
   },
   {
    "duration": 319,
    "start_time": "2023-10-17T13:09:08.674Z"
   },
   {
    "duration": 593,
    "start_time": "2023-10-17T13:09:08.995Z"
   },
   {
    "duration": 19,
    "start_time": "2023-10-17T13:09:09.590Z"
   },
   {
    "duration": 47,
    "start_time": "2023-10-17T13:09:09.611Z"
   },
   {
    "duration": 76,
    "start_time": "2023-10-17T13:09:09.659Z"
   },
   {
    "duration": 11,
    "start_time": "2023-10-17T13:09:09.737Z"
   },
   {
    "duration": 83,
    "start_time": "2023-10-17T13:09:09.750Z"
   },
   {
    "duration": 166,
    "start_time": "2023-10-17T13:09:09.834Z"
   },
   {
    "duration": 241,
    "start_time": "2023-10-17T13:09:10.002Z"
   },
   {
    "duration": 2,
    "start_time": "2023-10-17T13:09:10.245Z"
   },
   {
    "duration": 15,
    "start_time": "2023-10-17T13:09:10.249Z"
   },
   {
    "duration": 131,
    "start_time": "2023-10-17T13:09:10.266Z"
   },
   {
    "duration": 38,
    "start_time": "2023-10-17T13:09:10.399Z"
   },
   {
    "duration": 524,
    "start_time": "2023-10-17T13:09:10.439Z"
   },
   {
    "duration": 13222,
    "start_time": "2023-10-17T13:09:10.965Z"
   },
   {
    "duration": 4,
    "start_time": "2023-10-17T13:09:24.189Z"
   },
   {
    "duration": 9,
    "start_time": "2023-10-17T13:09:24.195Z"
   },
   {
    "duration": 7,
    "start_time": "2023-10-17T13:09:24.206Z"
   },
   {
    "duration": 23,
    "start_time": "2023-10-17T13:09:24.214Z"
   },
   {
    "duration": 224,
    "start_time": "2023-10-17T13:09:24.241Z"
   },
   {
    "duration": 176,
    "start_time": "2023-10-17T13:09:24.467Z"
   },
   {
    "duration": 11,
    "start_time": "2023-10-17T13:09:24.645Z"
   },
   {
    "duration": 0,
    "start_time": "2023-10-17T13:09:24.658Z"
   },
   {
    "duration": 0,
    "start_time": "2023-10-17T13:09:24.659Z"
   },
   {
    "duration": 0,
    "start_time": "2023-10-17T13:09:24.660Z"
   },
   {
    "duration": 0,
    "start_time": "2023-10-17T13:09:24.662Z"
   },
   {
    "duration": 0,
    "start_time": "2023-10-17T13:09:24.663Z"
   },
   {
    "duration": 0,
    "start_time": "2023-10-17T13:09:24.664Z"
   },
   {
    "duration": 0,
    "start_time": "2023-10-17T13:09:24.666Z"
   },
   {
    "duration": 0,
    "start_time": "2023-10-17T13:09:24.667Z"
   },
   {
    "duration": 0,
    "start_time": "2023-10-17T13:09:24.668Z"
   },
   {
    "duration": 86,
    "start_time": "2023-10-17T13:16:16.659Z"
   },
   {
    "duration": 11,
    "start_time": "2023-10-17T13:17:46.947Z"
   },
   {
    "duration": 422,
    "start_time": "2023-10-17T13:17:56.963Z"
   },
   {
    "duration": 28,
    "start_time": "2023-10-17T13:18:02.513Z"
   },
   {
    "duration": 3,
    "start_time": "2023-10-17T13:18:19.235Z"
   },
   {
    "duration": 141,
    "start_time": "2023-10-17T13:18:24.903Z"
   },
   {
    "duration": 34027,
    "start_time": "2023-10-17T13:18:46.610Z"
   },
   {
    "duration": 377,
    "start_time": "2023-10-17T13:20:00.318Z"
   },
   {
    "duration": 247,
    "start_time": "2023-10-17T13:20:06.278Z"
   },
   {
    "duration": 518,
    "start_time": "2023-10-17T13:20:57.128Z"
   },
   {
    "duration": 1618,
    "start_time": "2023-10-17T13:21:30.718Z"
   },
   {
    "duration": 6,
    "start_time": "2023-10-17T13:21:32.338Z"
   },
   {
    "duration": 1172,
    "start_time": "2023-10-17T13:21:32.350Z"
   },
   {
    "duration": 10,
    "start_time": "2023-10-17T13:21:33.529Z"
   },
   {
    "duration": 38,
    "start_time": "2023-10-17T13:21:33.541Z"
   },
   {
    "duration": 10,
    "start_time": "2023-10-17T13:21:33.581Z"
   },
   {
    "duration": 33,
    "start_time": "2023-10-17T13:21:33.593Z"
   },
   {
    "duration": 217,
    "start_time": "2023-10-17T13:21:33.635Z"
   },
   {
    "duration": 578,
    "start_time": "2023-10-17T13:21:33.858Z"
   },
   {
    "duration": 1389,
    "start_time": "2023-10-17T13:21:34.439Z"
   },
   {
    "duration": 10,
    "start_time": "2023-10-17T13:21:35.830Z"
   },
   {
    "duration": 127,
    "start_time": "2023-10-17T13:21:35.842Z"
   },
   {
    "duration": 43,
    "start_time": "2023-10-17T13:21:35.971Z"
   },
   {
    "duration": 69,
    "start_time": "2023-10-17T13:21:36.016Z"
   },
   {
    "duration": 83,
    "start_time": "2023-10-17T13:21:36.087Z"
   },
   {
    "duration": 481,
    "start_time": "2023-10-17T13:21:36.172Z"
   },
   {
    "duration": 32,
    "start_time": "2023-10-17T13:21:36.655Z"
   },
   {
    "duration": 81,
    "start_time": "2023-10-17T13:21:36.689Z"
   },
   {
    "duration": 331,
    "start_time": "2023-10-17T13:21:36.773Z"
   },
   {
    "duration": 40,
    "start_time": "2023-10-17T13:21:37.106Z"
   },
   {
    "duration": 93,
    "start_time": "2023-10-17T13:21:37.148Z"
   },
   {
    "duration": 308,
    "start_time": "2023-10-17T13:21:37.244Z"
   },
   {
    "duration": 49,
    "start_time": "2023-10-17T13:21:37.554Z"
   },
   {
    "duration": 49,
    "start_time": "2023-10-17T13:21:37.605Z"
   },
   {
    "duration": 72,
    "start_time": "2023-10-17T13:21:37.655Z"
   },
   {
    "duration": 242,
    "start_time": "2023-10-17T13:21:37.730Z"
   },
   {
    "duration": 21,
    "start_time": "2023-10-17T13:21:37.974Z"
   },
   {
    "duration": 75,
    "start_time": "2023-10-17T13:21:38.001Z"
   },
   {
    "duration": 29,
    "start_time": "2023-10-17T13:21:38.078Z"
   },
   {
    "duration": 69,
    "start_time": "2023-10-17T13:21:38.109Z"
   },
   {
    "duration": 23,
    "start_time": "2023-10-17T13:21:38.179Z"
   },
   {
    "duration": 11,
    "start_time": "2023-10-17T13:21:38.204Z"
   },
   {
    "duration": 95,
    "start_time": "2023-10-17T13:21:38.216Z"
   },
   {
    "duration": 38,
    "start_time": "2023-10-17T13:21:38.313Z"
   },
   {
    "duration": 22,
    "start_time": "2023-10-17T13:21:38.353Z"
   },
   {
    "duration": 305,
    "start_time": "2023-10-17T13:21:38.377Z"
   },
   {
    "duration": 620,
    "start_time": "2023-10-17T13:21:38.684Z"
   },
   {
    "duration": 46,
    "start_time": "2023-10-17T13:21:39.307Z"
   },
   {
    "duration": 26,
    "start_time": "2023-10-17T13:21:39.355Z"
   },
   {
    "duration": 103,
    "start_time": "2023-10-17T13:21:39.383Z"
   },
   {
    "duration": 12,
    "start_time": "2023-10-17T13:21:39.488Z"
   },
   {
    "duration": 83,
    "start_time": "2023-10-17T13:21:39.503Z"
   },
   {
    "duration": 122,
    "start_time": "2023-10-17T13:21:39.588Z"
   },
   {
    "duration": 233,
    "start_time": "2023-10-17T13:21:39.712Z"
   },
   {
    "duration": 2,
    "start_time": "2023-10-17T13:21:39.949Z"
   },
   {
    "duration": 87,
    "start_time": "2023-10-17T13:21:39.953Z"
   },
   {
    "duration": 105,
    "start_time": "2023-10-17T13:21:40.041Z"
   },
   {
    "duration": 532,
    "start_time": "2023-10-17T13:21:40.148Z"
   },
   {
    "duration": 4,
    "start_time": "2023-10-17T13:21:40.682Z"
   },
   {
    "duration": 34,
    "start_time": "2023-10-17T13:21:40.687Z"
   },
   {
    "duration": 21,
    "start_time": "2023-10-17T13:21:40.723Z"
   },
   {
    "duration": 491,
    "start_time": "2023-10-17T13:21:40.746Z"
   },
   {
    "duration": 4,
    "start_time": "2023-10-17T13:21:41.242Z"
   },
   {
    "duration": 41,
    "start_time": "2023-10-17T13:21:41.248Z"
   },
   {
    "duration": 170,
    "start_time": "2023-10-17T13:21:41.291Z"
   },
   {
    "duration": 37573,
    "start_time": "2023-10-17T13:21:41.463Z"
   },
   {
    "duration": 300,
    "start_time": "2023-10-17T13:22:19.038Z"
   },
   {
    "duration": 210,
    "start_time": "2023-10-17T13:22:19.340Z"
   },
   {
    "duration": 0,
    "start_time": "2023-10-17T13:22:19.552Z"
   },
   {
    "duration": 0,
    "start_time": "2023-10-17T13:22:19.553Z"
   },
   {
    "duration": 0,
    "start_time": "2023-10-17T13:22:19.555Z"
   },
   {
    "duration": 0,
    "start_time": "2023-10-17T13:22:19.556Z"
   },
   {
    "duration": 0,
    "start_time": "2023-10-17T13:22:19.558Z"
   },
   {
    "duration": 0,
    "start_time": "2023-10-17T13:22:19.559Z"
   },
   {
    "duration": 0,
    "start_time": "2023-10-17T13:22:19.561Z"
   },
   {
    "duration": 0,
    "start_time": "2023-10-17T13:22:19.563Z"
   },
   {
    "duration": 0,
    "start_time": "2023-10-17T13:22:19.564Z"
   },
   {
    "duration": 256,
    "start_time": "2023-10-17T13:23:21.284Z"
   },
   {
    "duration": 156,
    "start_time": "2023-10-17T13:23:44.179Z"
   },
   {
    "duration": 93,
    "start_time": "2023-10-17T13:27:02.857Z"
   },
   {
    "duration": 123917,
    "start_time": "2023-10-17T13:28:35.030Z"
   },
   {
    "duration": 101,
    "start_time": "2023-10-17T13:30:49.180Z"
   },
   {
    "duration": 261,
    "start_time": "2023-10-17T13:31:16.407Z"
   },
   {
    "duration": 93,
    "start_time": "2023-10-17T13:35:07.306Z"
   },
   {
    "duration": 119,
    "start_time": "2023-10-17T13:36:07.782Z"
   },
   {
    "duration": 3,
    "start_time": "2023-10-17T13:36:27.348Z"
   },
   {
    "duration": 4025,
    "start_time": "2023-10-17T13:36:30.658Z"
   },
   {
    "duration": 147,
    "start_time": "2023-10-17T13:37:24.157Z"
   },
   {
    "duration": 58,
    "start_time": "2023-10-17T13:37:28.190Z"
   },
   {
    "duration": 80,
    "start_time": "2023-10-17T13:38:13.022Z"
   },
   {
    "duration": 366895,
    "start_time": "2023-10-17T13:38:37.141Z"
   },
   {
    "duration": 1439,
    "start_time": "2023-10-17T13:45:20.909Z"
   },
   {
    "duration": 24,
    "start_time": "2023-10-17T13:46:47.803Z"
   },
   {
    "duration": 24,
    "start_time": "2023-10-17T13:47:31.785Z"
   },
   {
    "duration": 494,
    "start_time": "2023-10-17T13:47:41.661Z"
   },
   {
    "duration": 20,
    "start_time": "2023-10-17T13:47:48.402Z"
   },
   {
    "duration": 475,
    "start_time": "2023-10-17T13:47:49.560Z"
   },
   {
    "duration": 1323,
    "start_time": "2023-10-17T13:48:01.006Z"
   },
   {
    "duration": 3,
    "start_time": "2023-10-17T13:48:02.331Z"
   },
   {
    "duration": 1228,
    "start_time": "2023-10-17T13:48:02.336Z"
   },
   {
    "duration": 3,
    "start_time": "2023-10-17T13:48:03.566Z"
   },
   {
    "duration": 256,
    "start_time": "2023-10-17T13:48:03.570Z"
   },
   {
    "duration": 4,
    "start_time": "2023-10-17T13:48:03.828Z"
   },
   {
    "duration": 46,
    "start_time": "2023-10-17T13:48:03.834Z"
   },
   {
    "duration": 186,
    "start_time": "2023-10-17T13:48:03.882Z"
   },
   {
    "duration": 510,
    "start_time": "2023-10-17T13:48:04.070Z"
   },
   {
    "duration": 1065,
    "start_time": "2023-10-17T13:48:04.583Z"
   },
   {
    "duration": 4,
    "start_time": "2023-10-17T13:48:05.649Z"
   },
   {
    "duration": 49,
    "start_time": "2023-10-17T13:48:05.655Z"
   },
   {
    "duration": 32,
    "start_time": "2023-10-17T13:48:05.706Z"
   },
   {
    "duration": 64,
    "start_time": "2023-10-17T13:48:05.740Z"
   },
   {
    "duration": 77,
    "start_time": "2023-10-17T13:48:05.806Z"
   },
   {
    "duration": 470,
    "start_time": "2023-10-17T13:48:05.885Z"
   },
   {
    "duration": 40,
    "start_time": "2023-10-17T13:48:06.358Z"
   },
   {
    "duration": 87,
    "start_time": "2023-10-17T13:48:06.400Z"
   },
   {
    "duration": 274,
    "start_time": "2023-10-17T13:48:06.489Z"
   },
   {
    "duration": 17,
    "start_time": "2023-10-17T13:48:06.765Z"
   },
   {
    "duration": 75,
    "start_time": "2023-10-17T13:48:06.783Z"
   },
   {
    "duration": 301,
    "start_time": "2023-10-17T13:48:06.860Z"
   },
   {
    "duration": 44,
    "start_time": "2023-10-17T13:48:07.163Z"
   },
   {
    "duration": 39,
    "start_time": "2023-10-17T13:48:07.209Z"
   },
   {
    "duration": 41,
    "start_time": "2023-10-17T13:48:07.249Z"
   },
   {
    "duration": 216,
    "start_time": "2023-10-17T13:48:07.292Z"
   },
   {
    "duration": 27,
    "start_time": "2023-10-17T13:48:07.510Z"
   },
   {
    "duration": 48,
    "start_time": "2023-10-17T13:48:07.543Z"
   },
   {
    "duration": 39,
    "start_time": "2023-10-17T13:48:07.593Z"
   },
   {
    "duration": 42,
    "start_time": "2023-10-17T13:48:07.634Z"
   },
   {
    "duration": 46,
    "start_time": "2023-10-17T13:48:07.678Z"
   },
   {
    "duration": 10,
    "start_time": "2023-10-17T13:48:07.726Z"
   },
   {
    "duration": 88,
    "start_time": "2023-10-17T13:48:07.738Z"
   },
   {
    "duration": 20,
    "start_time": "2023-10-17T13:48:07.827Z"
   },
   {
    "duration": 17,
    "start_time": "2023-10-17T13:48:07.849Z"
   },
   {
    "duration": 301,
    "start_time": "2023-10-17T13:48:07.868Z"
   },
   {
    "duration": 553,
    "start_time": "2023-10-17T13:48:08.171Z"
   },
   {
    "duration": 19,
    "start_time": "2023-10-17T13:48:08.726Z"
   },
   {
    "duration": 26,
    "start_time": "2023-10-17T13:48:08.747Z"
   },
   {
    "duration": 105,
    "start_time": "2023-10-17T13:48:08.775Z"
   },
   {
    "duration": 10,
    "start_time": "2023-10-17T13:48:08.882Z"
   },
   {
    "duration": 140,
    "start_time": "2023-10-17T13:48:08.894Z"
   },
   {
    "duration": 163,
    "start_time": "2023-10-17T13:48:09.036Z"
   },
   {
    "duration": 251,
    "start_time": "2023-10-17T13:48:09.201Z"
   },
   {
    "duration": 3,
    "start_time": "2023-10-17T13:48:09.454Z"
   },
   {
    "duration": 44,
    "start_time": "2023-10-17T13:48:09.458Z"
   },
   {
    "duration": 123,
    "start_time": "2023-10-17T13:48:09.504Z"
   },
   {
    "duration": 510,
    "start_time": "2023-10-17T13:48:09.629Z"
   },
   {
    "duration": 6999,
    "start_time": "2023-10-17T13:48:10.142Z"
   },
   {
    "duration": 2,
    "start_time": "2023-10-17T13:48:17.144Z"
   },
   {
    "duration": 7,
    "start_time": "2023-10-17T13:48:17.148Z"
   },
   {
    "duration": 431,
    "start_time": "2023-10-17T13:48:17.157Z"
   },
   {
    "duration": 3,
    "start_time": "2023-10-17T13:48:17.589Z"
   },
   {
    "duration": 132,
    "start_time": "2023-10-17T13:48:17.594Z"
   },
   {
    "duration": 20398,
    "start_time": "2023-10-17T13:48:17.728Z"
   },
   {
    "duration": 298,
    "start_time": "2023-10-17T13:48:38.128Z"
   },
   {
    "duration": 209,
    "start_time": "2023-10-17T13:48:38.428Z"
   },
   {
    "duration": 115238,
    "start_time": "2023-10-17T13:48:38.639Z"
   },
   {
    "duration": 254,
    "start_time": "2023-10-17T13:50:33.879Z"
   },
   {
    "duration": 100,
    "start_time": "2023-10-17T13:50:34.134Z"
   },
   {
    "duration": 3,
    "start_time": "2023-10-17T13:50:34.236Z"
   },
   {
    "duration": 3359,
    "start_time": "2023-10-17T13:50:34.242Z"
   },
   {
    "duration": 127,
    "start_time": "2023-10-17T13:50:37.602Z"
   },
   {
    "duration": 46,
    "start_time": "2023-10-17T13:50:37.731Z"
   },
   {
    "duration": 82,
    "start_time": "2023-10-17T13:50:37.779Z"
   },
   {
    "duration": 110477,
    "start_time": "2023-10-17T13:50:37.863Z"
   },
   {
    "duration": 1504,
    "start_time": "2023-10-17T13:52:28.342Z"
   },
   {
    "duration": 21,
    "start_time": "2023-10-17T13:52:29.848Z"
   },
   {
    "duration": 567,
    "start_time": "2023-10-17T13:52:29.871Z"
   },
   {
    "duration": 21,
    "start_time": "2023-10-17T13:52:30.440Z"
   },
   {
    "duration": 589,
    "start_time": "2023-10-17T13:52:30.463Z"
   },
   {
    "duration": 1564,
    "start_time": "2023-10-22T10:40:55.727Z"
   },
   {
    "duration": 3,
    "start_time": "2023-10-22T10:40:57.294Z"
   },
   {
    "duration": 1583,
    "start_time": "2023-10-22T10:40:57.298Z"
   },
   {
    "duration": 3,
    "start_time": "2023-10-22T10:40:58.883Z"
   },
   {
    "duration": 31,
    "start_time": "2023-10-22T10:40:58.889Z"
   },
   {
    "duration": 19,
    "start_time": "2023-10-22T10:40:58.922Z"
   },
   {
    "duration": 15,
    "start_time": "2023-10-22T10:40:58.944Z"
   },
   {
    "duration": 179,
    "start_time": "2023-10-22T10:40:58.961Z"
   },
   {
    "duration": 558,
    "start_time": "2023-10-22T10:40:59.142Z"
   },
   {
    "duration": 1150,
    "start_time": "2023-10-22T10:40:59.702Z"
   },
   {
    "duration": 4,
    "start_time": "2023-10-22T10:41:00.854Z"
   },
   {
    "duration": 94,
    "start_time": "2023-10-22T10:41:00.859Z"
   },
   {
    "duration": 34,
    "start_time": "2023-10-22T10:41:00.955Z"
   },
   {
    "duration": 177,
    "start_time": "2023-10-22T10:41:00.993Z"
   },
   {
    "duration": 186,
    "start_time": "2023-10-22T10:41:01.172Z"
   },
   {
    "duration": 573,
    "start_time": "2023-10-22T10:41:01.360Z"
   },
   {
    "duration": 32,
    "start_time": "2023-10-22T10:41:01.935Z"
   },
   {
    "duration": 577,
    "start_time": "2023-10-22T10:41:01.969Z"
   },
   {
    "duration": 386,
    "start_time": "2023-10-22T10:41:02.549Z"
   },
   {
    "duration": 73,
    "start_time": "2023-10-22T10:41:02.937Z"
   },
   {
    "duration": 76,
    "start_time": "2023-10-22T10:41:03.012Z"
   },
   {
    "duration": 520,
    "start_time": "2023-10-22T10:41:03.090Z"
   },
   {
    "duration": 60,
    "start_time": "2023-10-22T10:41:03.612Z"
   },
   {
    "duration": 50,
    "start_time": "2023-10-22T10:41:03.674Z"
   },
   {
    "duration": 53,
    "start_time": "2023-10-22T10:41:03.726Z"
   },
   {
    "duration": 281,
    "start_time": "2023-10-22T10:41:03.781Z"
   },
   {
    "duration": 17,
    "start_time": "2023-10-22T10:41:04.064Z"
   },
   {
    "duration": 71,
    "start_time": "2023-10-22T10:41:04.083Z"
   },
   {
    "duration": 29,
    "start_time": "2023-10-22T10:41:04.156Z"
   },
   {
    "duration": 58,
    "start_time": "2023-10-22T10:41:04.187Z"
   },
   {
    "duration": 23,
    "start_time": "2023-10-22T10:41:04.247Z"
   },
   {
    "duration": 11,
    "start_time": "2023-10-22T10:41:04.272Z"
   },
   {
    "duration": 126,
    "start_time": "2023-10-22T10:41:04.307Z"
   },
   {
    "duration": 37,
    "start_time": "2023-10-22T10:41:04.435Z"
   },
   {
    "duration": 55,
    "start_time": "2023-10-22T10:41:04.474Z"
   },
   {
    "duration": 343,
    "start_time": "2023-10-22T10:41:04.534Z"
   },
   {
    "duration": 625,
    "start_time": "2023-10-22T10:41:04.879Z"
   },
   {
    "duration": 31,
    "start_time": "2023-10-22T10:41:05.507Z"
   },
   {
    "duration": 45,
    "start_time": "2023-10-22T10:41:05.541Z"
   },
   {
    "duration": 112,
    "start_time": "2023-10-22T10:41:05.588Z"
   },
   {
    "duration": 26,
    "start_time": "2023-10-22T10:41:05.706Z"
   },
   {
    "duration": 64,
    "start_time": "2023-10-22T10:41:05.734Z"
   },
   {
    "duration": 246,
    "start_time": "2023-10-22T10:41:05.800Z"
   },
   {
    "duration": 344,
    "start_time": "2023-10-22T10:41:06.049Z"
   },
   {
    "duration": 3,
    "start_time": "2023-10-22T10:41:06.396Z"
   },
   {
    "duration": 21,
    "start_time": "2023-10-22T10:41:06.408Z"
   },
   {
    "duration": 110,
    "start_time": "2023-10-22T10:41:06.431Z"
   },
   {
    "duration": 515,
    "start_time": "2023-10-22T10:41:06.543Z"
   },
   {
    "duration": 7423,
    "start_time": "2023-10-22T10:41:07.060Z"
   },
   {
    "duration": 3,
    "start_time": "2023-10-22T10:41:14.484Z"
   },
   {
    "duration": 30,
    "start_time": "2023-10-22T10:41:14.488Z"
   },
   {
    "duration": 408,
    "start_time": "2023-10-22T10:41:14.521Z"
   },
   {
    "duration": 3,
    "start_time": "2023-10-22T10:41:14.931Z"
   },
   {
    "duration": 188,
    "start_time": "2023-10-22T10:41:14.936Z"
   },
   {
    "duration": 31511,
    "start_time": "2023-10-22T10:41:15.129Z"
   },
   {
    "duration": 304,
    "start_time": "2023-10-22T10:41:46.714Z"
   },
   {
    "duration": 193,
    "start_time": "2023-10-22T10:41:47.021Z"
   },
   {
    "duration": 118616,
    "start_time": "2023-10-22T10:41:47.217Z"
   },
   {
    "duration": 0,
    "start_time": "2023-10-22T10:43:45.835Z"
   },
   {
    "duration": 0,
    "start_time": "2023-10-22T10:43:45.837Z"
   },
   {
    "duration": 0,
    "start_time": "2023-10-22T10:43:45.838Z"
   },
   {
    "duration": 0,
    "start_time": "2023-10-22T10:43:45.839Z"
   },
   {
    "duration": 0,
    "start_time": "2023-10-22T10:43:45.840Z"
   },
   {
    "duration": 0,
    "start_time": "2023-10-22T10:43:45.841Z"
   },
   {
    "duration": 0,
    "start_time": "2023-10-22T10:43:45.842Z"
   },
   {
    "duration": 0,
    "start_time": "2023-10-22T10:43:45.843Z"
   },
   {
    "duration": 0,
    "start_time": "2023-10-22T10:43:45.844Z"
   },
   {
    "duration": 0,
    "start_time": "2023-10-22T10:43:45.845Z"
   },
   {
    "duration": 0,
    "start_time": "2023-10-22T10:43:45.846Z"
   },
   {
    "duration": 0,
    "start_time": "2023-10-22T10:43:45.847Z"
   },
   {
    "duration": 0,
    "start_time": "2023-10-22T10:43:45.848Z"
   },
   {
    "duration": 135833,
    "start_time": "2023-10-22T10:43:59.866Z"
   },
   {
    "duration": 261,
    "start_time": "2023-10-22T10:46:31.317Z"
   },
   {
    "duration": 1371,
    "start_time": "2024-04-15T11:29:33.693Z"
   },
   {
    "duration": 3,
    "start_time": "2024-04-15T11:29:35.066Z"
   },
   {
    "duration": 3089,
    "start_time": "2024-04-15T11:29:35.070Z"
   },
   {
    "duration": 4,
    "start_time": "2024-04-15T11:29:38.161Z"
   },
   {
    "duration": 27,
    "start_time": "2024-04-15T11:29:38.166Z"
   },
   {
    "duration": 4,
    "start_time": "2024-04-15T11:29:38.196Z"
   },
   {
    "duration": 17,
    "start_time": "2024-04-15T11:29:38.201Z"
   },
   {
    "duration": 167,
    "start_time": "2024-04-15T11:29:38.219Z"
   },
   {
    "duration": 499,
    "start_time": "2024-04-15T11:29:38.388Z"
   },
   {
    "duration": 997,
    "start_time": "2024-04-15T11:29:38.890Z"
   },
   {
    "duration": 4,
    "start_time": "2024-04-15T11:29:39.889Z"
   },
   {
    "duration": 44,
    "start_time": "2024-04-15T11:29:39.894Z"
   },
   {
    "duration": 28,
    "start_time": "2024-04-15T11:29:39.940Z"
   },
   {
    "duration": 46,
    "start_time": "2024-04-15T11:29:39.969Z"
   },
   {
    "duration": 58,
    "start_time": "2024-04-15T11:29:40.017Z"
   },
   {
    "duration": 618,
    "start_time": "2024-04-15T11:29:40.077Z"
   },
   {
    "duration": 40,
    "start_time": "2024-04-15T11:29:40.698Z"
   },
   {
    "duration": 81,
    "start_time": "2024-04-15T11:29:40.740Z"
   },
   {
    "duration": 348,
    "start_time": "2024-04-15T11:29:40.823Z"
   },
   {
    "duration": 16,
    "start_time": "2024-04-15T11:29:41.173Z"
   },
   {
    "duration": 67,
    "start_time": "2024-04-15T11:29:41.191Z"
   },
   {
    "duration": 211,
    "start_time": "2024-04-15T11:29:41.260Z"
   },
   {
    "duration": 50,
    "start_time": "2024-04-15T11:29:41.473Z"
   },
   {
    "duration": 25,
    "start_time": "2024-04-15T11:29:41.524Z"
   },
   {
    "duration": 39,
    "start_time": "2024-04-15T11:29:41.551Z"
   },
   {
    "duration": 224,
    "start_time": "2024-04-15T11:29:41.591Z"
   },
   {
    "duration": 16,
    "start_time": "2024-04-15T11:29:41.817Z"
   },
   {
    "duration": 38,
    "start_time": "2024-04-15T11:29:41.837Z"
   },
   {
    "duration": 48,
    "start_time": "2024-04-15T11:29:41.877Z"
   },
   {
    "duration": 38,
    "start_time": "2024-04-15T11:29:41.928Z"
   },
   {
    "duration": 47,
    "start_time": "2024-04-15T11:29:41.968Z"
   },
   {
    "duration": 11,
    "start_time": "2024-04-15T11:29:42.017Z"
   },
   {
    "duration": 108,
    "start_time": "2024-04-15T11:29:42.029Z"
   },
   {
    "duration": 21,
    "start_time": "2024-04-15T11:29:42.139Z"
   },
   {
    "duration": 20,
    "start_time": "2024-04-15T11:29:42.162Z"
   },
   {
    "duration": 303,
    "start_time": "2024-04-15T11:29:42.183Z"
   },
   {
    "duration": 563,
    "start_time": "2024-04-15T11:29:42.488Z"
   },
   {
    "duration": 19,
    "start_time": "2024-04-15T11:29:43.053Z"
   },
   {
    "duration": 19,
    "start_time": "2024-04-15T11:29:43.074Z"
   },
   {
    "duration": 68,
    "start_time": "2024-04-15T11:29:43.094Z"
   },
   {
    "duration": 9,
    "start_time": "2024-04-15T11:29:43.164Z"
   },
   {
    "duration": 74,
    "start_time": "2024-04-15T11:29:43.174Z"
   },
   {
    "duration": 120,
    "start_time": "2024-04-15T11:29:43.249Z"
   },
   {
    "duration": 228,
    "start_time": "2024-04-15T11:29:43.371Z"
   },
   {
    "duration": 3,
    "start_time": "2024-04-15T11:29:43.600Z"
   },
   {
    "duration": 7,
    "start_time": "2024-04-15T11:29:43.604Z"
   },
   {
    "duration": 73,
    "start_time": "2024-04-15T11:29:43.612Z"
   },
   {
    "duration": 412,
    "start_time": "2024-04-15T11:29:43.687Z"
   },
   {
    "duration": 5843,
    "start_time": "2024-04-15T11:29:44.101Z"
   },
   {
    "duration": 2,
    "start_time": "2024-04-15T11:29:49.946Z"
   },
   {
    "duration": 15,
    "start_time": "2024-04-15T11:29:49.950Z"
   },
   {
    "duration": 414,
    "start_time": "2024-04-15T11:29:49.967Z"
   },
   {
    "duration": 2,
    "start_time": "2024-04-15T11:29:50.383Z"
   },
   {
    "duration": 139,
    "start_time": "2024-04-15T11:29:50.387Z"
   },
   {
    "duration": 13193,
    "start_time": "2024-04-15T11:29:50.528Z"
   },
   {
    "duration": 300,
    "start_time": "2024-04-15T11:30:03.722Z"
   },
   {
    "duration": 196,
    "start_time": "2024-04-15T11:30:04.023Z"
   },
   {
    "duration": 115038,
    "start_time": "2024-04-15T11:30:04.221Z"
   },
   {
    "duration": 268,
    "start_time": "2024-04-15T11:31:59.261Z"
   },
   {
    "duration": 101,
    "start_time": "2024-04-15T11:31:59.531Z"
   },
   {
    "duration": 3,
    "start_time": "2024-04-15T11:31:59.634Z"
   },
   {
    "duration": 3122,
    "start_time": "2024-04-15T11:31:59.638Z"
   },
   {
    "duration": 149,
    "start_time": "2024-04-15T11:32:02.761Z"
   },
   {
    "duration": 50,
    "start_time": "2024-04-15T11:32:02.915Z"
   },
   {
    "duration": 77,
    "start_time": "2024-04-15T11:32:02.967Z"
   },
   {
    "duration": 4672,
    "start_time": "2024-04-15T11:32:03.046Z"
   },
   {
    "duration": 1600,
    "start_time": "2024-04-15T11:32:07.720Z"
   },
   {
    "duration": 22,
    "start_time": "2024-04-15T11:32:09.321Z"
   },
   {
    "duration": 572,
    "start_time": "2024-04-15T11:32:09.344Z"
   },
   {
    "duration": 24,
    "start_time": "2024-04-15T11:32:09.917Z"
   },
   {
    "duration": 573,
    "start_time": "2024-04-15T11:32:09.942Z"
   }
  ],
  "kernelspec": {
   "display_name": "Python 3 (ipykernel)",
   "language": "python",
   "name": "python3"
  },
  "language_info": {
   "codemirror_mode": {
    "name": "ipython",
    "version": 3
   },
   "file_extension": ".py",
   "mimetype": "text/x-python",
   "name": "python",
   "nbconvert_exporter": "python",
   "pygments_lexer": "ipython3",
   "version": "3.10.13"
  },
  "toc": {
   "base_numbering": 1,
   "nav_menu": {},
   "number_sections": true,
   "sideBar": true,
   "skip_h1_title": true,
   "title_cell": "Table of Contents",
   "title_sidebar": "Contents",
   "toc_cell": false,
   "toc_position": {},
   "toc_section_display": true,
   "toc_window_display": false
  }
 },
 "nbformat": 4,
 "nbformat_minor": 2
}
