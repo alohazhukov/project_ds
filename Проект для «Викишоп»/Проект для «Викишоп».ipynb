{
 "cells": [
  {
   "cell_type": "markdown",
   "metadata": {
    "toc": true
   },
   "source": [
    "<h1>Содержание<span class=\"tocSkip\"></span></h1>\n",
    "<div class=\"toc\"><ul class=\"toc-item\"><li><span><a href=\"#Подготовка\" data-toc-modified-id=\"Подготовка-1\"><span class=\"toc-item-num\">1&nbsp;&nbsp;</span>Подготовка</a></span></li><li><span><a href=\"#Обучение\" data-toc-modified-id=\"Обучение-2\"><span class=\"toc-item-num\">2&nbsp;&nbsp;</span>Обучение</a></span></li><li><span><a href=\"#Тестирование\" data-toc-modified-id=\"Тестирование-3\"><span class=\"toc-item-num\">3&nbsp;&nbsp;</span>Тестирование</a></span></li><li><span><a href=\"#Чек-лист-проверки\" data-toc-modified-id=\"Чек-лист-проверки-4\"><span class=\"toc-item-num\">4&nbsp;&nbsp;</span>Чек-лист проверки</a></span></li></ul></div>"
   ]
  },
  {
   "cell_type": "markdown",
   "metadata": {},
   "source": [
    "# Проект для «Викишоп»"
   ]
  },
  {
   "cell_type": "markdown",
   "metadata": {},
   "source": [
    "Интернет-магазин «Викишоп» запускает новый сервис. Теперь пользователи могут редактировать и дополнять описания товаров, как в вики-сообществах. То есть клиенты предлагают свои правки и комментируют изменения других. Магазину нужен инструмент, который будет искать токсичные комментарии и отправлять их на модерацию. \n",
    "\n",
    "Обучите модель классифицировать комментарии на позитивные и негативные. В вашем распоряжении набор данных с разметкой о токсичности правок.\n",
    "\n",
    "Постройте модель со значением метрики качества *F1* не меньше 0.75. \n",
    "\n",
    "**Инструкция по выполнению проекта**\n",
    "\n",
    "1. Загрузите и подготовьте данные.\n",
    "2. Обучите разные модели. \n",
    "3. Сделайте выводы.\n",
    "\n",
    "Для выполнения проекта применять *BERT* необязательно, но вы можете попробовать.\n",
    "\n",
    "**Описание данных**\n",
    "\n",
    "Данные находятся в файле `toxic_comments.csv`. Столбец *text* в нём содержит текст комментария, а *toxic* — целевой признак."
   ]
  },
  {
   "cell_type": "markdown",
   "metadata": {},
   "source": [
    "## Подготовка"
   ]
  },
  {
   "cell_type": "code",
   "execution_count": 1,
   "metadata": {},
   "outputs": [
    {
     "name": "stderr",
     "output_type": "stream",
     "text": [
      "[nltk_data] Downloading package wordnet to /home/jovyan/nltk_data...\n",
      "[nltk_data]   Package wordnet is already up-to-date!\n",
      "[nltk_data] Downloading package stopwords to /home/jovyan/nltk_data...\n",
      "[nltk_data]   Package stopwords is already up-to-date!\n",
      "[nltk_data] Downloading package averaged_perceptron_tagger to\n",
      "[nltk_data]     /home/jovyan/nltk_data...\n",
      "[nltk_data]   Unzipping taggers/averaged_perceptron_tagger.zip.\n"
     ]
    }
   ],
   "source": [
    "import pandas as pd\n",
    "import numpy as np\n",
    "import re\n",
    "import warnings\n",
    "\n",
    "from sklearn.model_selection import train_test_split, GridSearchCV\n",
    "from sklearn.linear_model import LogisticRegression\n",
    "from sklearn.ensemble import RandomForestClassifier\n",
    "from sklearn.tree import DecisionTreeClassifier\n",
    "from sklearn.metrics import f1_score\n",
    "from sklearn.feature_extraction.text import TfidfVectorizer\n",
    "\n",
    "from lightgbm import LGBMClassifier\n",
    "from catboost import CatBoostClassifier\n",
    "\n",
    "import nltk\n",
    "from nltk.stem import WordNetLemmatizer\n",
    "nltk.download('wordnet')\n",
    "from nltk.corpus import stopwords\n",
    "nltk.download('stopwords')\n",
    "nltk.download('averaged_perceptron_tagger')\n",
    "\n",
    "import spacy\n",
    "from tqdm import tqdm\n",
    "\n",
    "# отключим некритичные предупреждения\n",
    "warnings.filterwarnings(\"ignore\")\n",
    "\n",
    "# расширим немного \n",
    "pd.set_option('display.max_colwidth', 500)"
   ]
  },
  {
   "cell_type": "code",
   "execution_count": 2,
   "metadata": {},
   "outputs": [],
   "source": [
    "# назначим глобальную переменную\n",
    "\n",
    "STATE = np.random.RandomState(42)"
   ]
  },
  {
   "cell_type": "code",
   "execution_count": 3,
   "metadata": {},
   "outputs": [],
   "source": [
    "# загрузим наш файл\n",
    "\n",
    "try:\n",
    "    data = pd.read_csv('/Users/alex/Downloads/toxic_comments.csv')\n",
    "except:\n",
    "    data = pd.read_csv('/datasets/toxic_comments.csv')"
   ]
  },
  {
   "cell_type": "code",
   "execution_count": 4,
   "metadata": {},
   "outputs": [
    {
     "data": {
      "text/html": [
       "<div>\n",
       "<style scoped>\n",
       "    .dataframe tbody tr th:only-of-type {\n",
       "        vertical-align: middle;\n",
       "    }\n",
       "\n",
       "    .dataframe tbody tr th {\n",
       "        vertical-align: top;\n",
       "    }\n",
       "\n",
       "    .dataframe thead th {\n",
       "        text-align: right;\n",
       "    }\n",
       "</style>\n",
       "<table border=\"1\" class=\"dataframe\">\n",
       "  <thead>\n",
       "    <tr style=\"text-align: right;\">\n",
       "      <th></th>\n",
       "      <th>Unnamed: 0</th>\n",
       "      <th>text</th>\n",
       "      <th>toxic</th>\n",
       "    </tr>\n",
       "  </thead>\n",
       "  <tbody>\n",
       "    <tr>\n",
       "      <th>0</th>\n",
       "      <td>0</td>\n",
       "      <td>Explanation\\nWhy the edits made under my username Hardcore Metallica Fan were reverted? They weren't vandalisms, just closure on some GAs after I voted at New York Dolls FAC. And please don't remove the template from the talk page since I'm retired now.89.205.38.27</td>\n",
       "      <td>0</td>\n",
       "    </tr>\n",
       "    <tr>\n",
       "      <th>1</th>\n",
       "      <td>1</td>\n",
       "      <td>D'aww! He matches this background colour I'm seemingly stuck with. Thanks.  (talk) 21:51, January 11, 2016 (UTC)</td>\n",
       "      <td>0</td>\n",
       "    </tr>\n",
       "    <tr>\n",
       "      <th>2</th>\n",
       "      <td>2</td>\n",
       "      <td>Hey man, I'm really not trying to edit war. It's just that this guy is constantly removing relevant information and talking to me through edits instead of my talk page. He seems to care more about the formatting than the actual info.</td>\n",
       "      <td>0</td>\n",
       "    </tr>\n",
       "    <tr>\n",
       "      <th>3</th>\n",
       "      <td>3</td>\n",
       "      <td>\"\\nMore\\nI can't make any real suggestions on improvement - I wondered if the section statistics should be later on, or a subsection of \"\"types of accidents\"\"  -I think the references may need tidying so that they are all in the exact same format ie date format etc. I can do that later on, if no-one else does first - if you have any preferences for formatting style on references or want to do it yourself please let me know.\\n\\nThere appears to be a backlog on articles for review so I guess t...</td>\n",
       "      <td>0</td>\n",
       "    </tr>\n",
       "    <tr>\n",
       "      <th>4</th>\n",
       "      <td>4</td>\n",
       "      <td>You, sir, are my hero. Any chance you remember what page that's on?</td>\n",
       "      <td>0</td>\n",
       "    </tr>\n",
       "  </tbody>\n",
       "</table>\n",
       "</div>"
      ],
      "text/plain": [
       "   Unnamed: 0  \\\n",
       "0           0   \n",
       "1           1   \n",
       "2           2   \n",
       "3           3   \n",
       "4           4   \n",
       "\n",
       "                                                                                                                                                                                                                                                                                                                                                                                                                                                                                                                  text  \\\n",
       "0                                                                                                                                                                                                                                            Explanation\\nWhy the edits made under my username Hardcore Metallica Fan were reverted? They weren't vandalisms, just closure on some GAs after I voted at New York Dolls FAC. And please don't remove the template from the talk page since I'm retired now.89.205.38.27   \n",
       "1                                                                                                                                                                                                                                                                                                                                                                                                     D'aww! He matches this background colour I'm seemingly stuck with. Thanks.  (talk) 21:51, January 11, 2016 (UTC)   \n",
       "2                                                                                                                                                                                                                                                                            Hey man, I'm really not trying to edit war. It's just that this guy is constantly removing relevant information and talking to me through edits instead of my talk page. He seems to care more about the formatting than the actual info.   \n",
       "3  \"\\nMore\\nI can't make any real suggestions on improvement - I wondered if the section statistics should be later on, or a subsection of \"\"types of accidents\"\"  -I think the references may need tidying so that they are all in the exact same format ie date format etc. I can do that later on, if no-one else does first - if you have any preferences for formatting style on references or want to do it yourself please let me know.\\n\\nThere appears to be a backlog on articles for review so I guess t...   \n",
       "4                                                                                                                                                                                                                                                                                                                                                                                                                                                  You, sir, are my hero. Any chance you remember what page that's on?   \n",
       "\n",
       "   toxic  \n",
       "0      0  \n",
       "1      0  \n",
       "2      0  \n",
       "3      0  \n",
       "4      0  "
      ]
     },
     "execution_count": 4,
     "metadata": {},
     "output_type": "execute_result"
    }
   ],
   "source": [
    "data.head()"
   ]
  },
  {
   "cell_type": "code",
   "execution_count": 5,
   "metadata": {},
   "outputs": [
    {
     "data": {
      "text/plain": [
       "0    0.898388\n",
       "1    0.101612\n",
       "Name: toxic, dtype: float64"
      ]
     },
     "execution_count": 5,
     "metadata": {},
     "output_type": "execute_result"
    }
   ],
   "source": [
    "# посмотрим на распределение таргета \n",
    "\n",
    "data['toxic'].value_counts(normalize = True, dropna = False)"
   ]
  },
  {
   "cell_type": "code",
   "execution_count": 6,
   "metadata": {},
   "outputs": [
    {
     "data": {
      "text/plain": [
       "159292"
      ]
     },
     "execution_count": 6,
     "metadata": {},
     "output_type": "execute_result"
    }
   ],
   "source": [
    "# размер\n",
    "\n",
    "len(data)"
   ]
  },
  {
   "cell_type": "code",
   "execution_count": 7,
   "metadata": {},
   "outputs": [
    {
     "name": "stdout",
     "output_type": "stream",
     "text": [
      "<class 'pandas.core.frame.DataFrame'>\n",
      "RangeIndex: 159292 entries, 0 to 159291\n",
      "Data columns (total 3 columns):\n",
      " #   Column      Non-Null Count   Dtype \n",
      "---  ------      --------------   ----- \n",
      " 0   Unnamed: 0  159292 non-null  int64 \n",
      " 1   text        159292 non-null  object\n",
      " 2   toxic       159292 non-null  int64 \n",
      "dtypes: int64(2), object(1)\n",
      "memory usage: 3.6+ MB\n"
     ]
    }
   ],
   "source": [
    "data.info()"
   ]
  },
  {
   "cell_type": "code",
   "execution_count": 8,
   "metadata": {},
   "outputs": [],
   "source": [
    "# удалим ненужный столбец Unnamed: 0\n",
    "\n",
    "data.drop(['Unnamed: 0'], axis = 1, inplace = True)"
   ]
  },
  {
   "cell_type": "markdown",
   "metadata": {},
   "source": [
    "__Подготовим наш текст__"
   ]
  },
  {
   "cell_type": "code",
   "execution_count": 9,
   "metadata": {},
   "outputs": [
    {
     "name": "stderr",
     "output_type": "stream",
     "text": [
      "100%|██████████| 159292/159292 [14:24<00:00, 184.25it/s]\n"
     ]
    }
   ],
   "source": [
    "# буду использовать spacy\n",
    "\n",
    "nlp = spacy.load('en_core_web_sm', disable = ['parser', 'ner'])\n",
    "stopwords = stopwords.words('english')\n",
    "\n",
    "\n",
    "def words_only(text):\n",
    "    return ' '.join(re.sub(r'[^a-zA-Z]', ' ', text.lower()).split())\n",
    "\n",
    "def lemmatize_text(text, nlp):\n",
    "    return [token.lemma_ for token in nlp(text)]\n",
    "\n",
    "def remove_stopwords(text, stopwords):\n",
    "    return [word for word in text if not word in stopwords and len(word) > 1]\n",
    "\n",
    "def clean_text(text, nlp, stopwords):\n",
    "    \n",
    "    # очистка от символов\n",
    "    text_words = words_only(text)\n",
    "    \n",
    "    # лемматизация\n",
    "    text_lemmas = lemmatize_text(text_words, nlp)\n",
    "    \n",
    "    # очистка от стоп-слов\n",
    "    return ' '.join(remove_stopwords(text_lemmas, stopwords))\n",
    "\n",
    "\n",
    "\n",
    "lemmas = []\n",
    "\n",
    "for i in tqdm(range(len(data))):\n",
    "    lemmas.append(clean_text(data['text'][i], nlp, stopwords))\n",
    "    \n",
    "data['lemmas'] = lemmas"
   ]
  },
  {
   "cell_type": "raw",
   "metadata": {},
   "source": []
  },
  {
   "cell_type": "code",
   "execution_count": 11,
   "metadata": {},
   "outputs": [
    {
     "data": {
      "text/html": [
       "<div>\n",
       "<style scoped>\n",
       "    .dataframe tbody tr th:only-of-type {\n",
       "        vertical-align: middle;\n",
       "    }\n",
       "\n",
       "    .dataframe tbody tr th {\n",
       "        vertical-align: top;\n",
       "    }\n",
       "\n",
       "    .dataframe thead th {\n",
       "        text-align: right;\n",
       "    }\n",
       "</style>\n",
       "<table border=\"1\" class=\"dataframe\">\n",
       "  <thead>\n",
       "    <tr style=\"text-align: right;\">\n",
       "      <th></th>\n",
       "      <th>text</th>\n",
       "      <th>toxic</th>\n",
       "      <th>lemmas</th>\n",
       "    </tr>\n",
       "  </thead>\n",
       "  <tbody>\n",
       "    <tr>\n",
       "      <th>0</th>\n",
       "      <td>Explanation\\nWhy the edits made under my username Hardcore Metallica Fan were reverted? They weren't vandalisms, just closure on some GAs after I voted at New York Dolls FAC. And please don't remove the template from the talk page since I'm retired now.89.205.38.27</td>\n",
       "      <td>0</td>\n",
       "      <td>explanation edit make username hardcore metallica fan revert vandalism closure gas vote new york doll fac please remove template talk page since retire</td>\n",
       "    </tr>\n",
       "    <tr>\n",
       "      <th>1</th>\n",
       "      <td>D'aww! He matches this background colour I'm seemingly stuck with. Thanks.  (talk) 21:51, January 11, 2016 (UTC)</td>\n",
       "      <td>0</td>\n",
       "      <td>aww match background colour seemingly stuck thank talk january utc</td>\n",
       "    </tr>\n",
       "    <tr>\n",
       "      <th>2</th>\n",
       "      <td>Hey man, I'm really not trying to edit war. It's just that this guy is constantly removing relevant information and talking to me through edits instead of my talk page. He seems to care more about the formatting than the actual info.</td>\n",
       "      <td>0</td>\n",
       "      <td>hey man really try edit war guy constantly remove relevant information talk edit instead talk page seem care formatting actual info</td>\n",
       "    </tr>\n",
       "    <tr>\n",
       "      <th>3</th>\n",
       "      <td>\"\\nMore\\nI can't make any real suggestions on improvement - I wondered if the section statistics should be later on, or a subsection of \"\"types of accidents\"\"  -I think the references may need tidying so that they are all in the exact same format ie date format etc. I can do that later on, if no-one else does first - if you have any preferences for formatting style on references or want to do it yourself please let me know.\\n\\nThere appears to be a backlog on articles for review so I guess t...</td>\n",
       "      <td>0</td>\n",
       "      <td>make real suggestion improvement wonder section statistic later subsection type accident think reference may need tidy exact format ie date format etc later one else first preference format style reference want please let know appear backlog article review guess may delay reviewer turn list relevant form eg wikipedia good article nomination transport</td>\n",
       "    </tr>\n",
       "    <tr>\n",
       "      <th>4</th>\n",
       "      <td>You, sir, are my hero. Any chance you remember what page that's on?</td>\n",
       "      <td>0</td>\n",
       "      <td>sir hero chance remember page</td>\n",
       "    </tr>\n",
       "  </tbody>\n",
       "</table>\n",
       "</div>"
      ],
      "text/plain": [
       "                                                                                                                                                                                                                                                                                                                                                                                                                                                                                                                  text  \\\n",
       "0                                                                                                                                                                                                                                            Explanation\\nWhy the edits made under my username Hardcore Metallica Fan were reverted? They weren't vandalisms, just closure on some GAs after I voted at New York Dolls FAC. And please don't remove the template from the talk page since I'm retired now.89.205.38.27   \n",
       "1                                                                                                                                                                                                                                                                                                                                                                                                     D'aww! He matches this background colour I'm seemingly stuck with. Thanks.  (talk) 21:51, January 11, 2016 (UTC)   \n",
       "2                                                                                                                                                                                                                                                                            Hey man, I'm really not trying to edit war. It's just that this guy is constantly removing relevant information and talking to me through edits instead of my talk page. He seems to care more about the formatting than the actual info.   \n",
       "3  \"\\nMore\\nI can't make any real suggestions on improvement - I wondered if the section statistics should be later on, or a subsection of \"\"types of accidents\"\"  -I think the references may need tidying so that they are all in the exact same format ie date format etc. I can do that later on, if no-one else does first - if you have any preferences for formatting style on references or want to do it yourself please let me know.\\n\\nThere appears to be a backlog on articles for review so I guess t...   \n",
       "4                                                                                                                                                                                                                                                                                                                                                                                                                                                  You, sir, are my hero. Any chance you remember what page that's on?   \n",
       "\n",
       "   toxic  \\\n",
       "0      0   \n",
       "1      0   \n",
       "2      0   \n",
       "3      0   \n",
       "4      0   \n",
       "\n",
       "                                                                                                                                                                                                                                                                                                                                                             lemmas  \n",
       "0                                                                                                                                                                                                           explanation edit make username hardcore metallica fan revert vandalism closure gas vote new york doll fac please remove template talk page since retire  \n",
       "1                                                                                                                                                                                                                                                                                                aww match background colour seemingly stuck thank talk january utc  \n",
       "2                                                                                                                                                                                                                               hey man really try edit war guy constantly remove relevant information talk edit instead talk page seem care formatting actual info  \n",
       "3  make real suggestion improvement wonder section statistic later subsection type accident think reference may need tidy exact format ie date format etc later one else first preference format style reference want please let know appear backlog article review guess may delay reviewer turn list relevant form eg wikipedia good article nomination transport  \n",
       "4                                                                                                                                                                                                                                                                                                                                     sir hero chance remember page  "
      ]
     },
     "execution_count": 11,
     "metadata": {},
     "output_type": "execute_result"
    }
   ],
   "source": [
    "data.head()"
   ]
  },
  {
   "cell_type": "code",
   "execution_count": null,
   "metadata": {},
   "outputs": [],
   "source": []
  },
  {
   "cell_type": "markdown",
   "metadata": {},
   "source": [
    "После того, как мы обработали текст (привели все к нижнеми регистру, избавились от ненужных символов и тд) можно глянуть на наличие дубликатов"
   ]
  },
  {
   "cell_type": "code",
   "execution_count": 12,
   "metadata": {},
   "outputs": [
    {
     "data": {
      "text/plain": [
       "0"
      ]
     },
     "execution_count": 12,
     "metadata": {},
     "output_type": "execute_result"
    }
   ],
   "source": [
    "data.duplicated().sum()"
   ]
  },
  {
   "cell_type": "code",
   "execution_count": 13,
   "metadata": {},
   "outputs": [
    {
     "data": {
      "text/plain": [
       "0"
      ]
     },
     "execution_count": 13,
     "metadata": {},
     "output_type": "execute_result"
    }
   ],
   "source": [
    "# избавимся от них\n",
    "\n",
    "data.drop_duplicates(inplace = True)\n",
    "data.duplicated().sum()"
   ]
  },
  {
   "cell_type": "markdown",
   "metadata": {},
   "source": [
    "__Подготовим выборки__"
   ]
  },
  {
   "cell_type": "code",
   "execution_count": 14,
   "metadata": {},
   "outputs": [
    {
     "name": "stdout",
     "output_type": "stream",
     "text": [
      "\n",
      "размер TRAIN выборки: 127433\n",
      "соотношение positive/negative\n",
      "0    114484\n",
      "1     12949\n",
      "Name: toxic, dtype: int64\n",
      "\n",
      "размер TEST выборки: 31859\n",
      "соотношение positive/negative\n",
      "0    28622\n",
      "1     3237\n",
      "Name: toxic, dtype: int64\n"
     ]
    }
   ],
   "source": [
    "# разделим наши данные передав в stratify наш таргет\n",
    "\n",
    "train, test = train_test_split(data, test_size = 0.2, stratify = data['toxic'], random_state=STATE)\n",
    "\n",
    "corpus_train = train['lemmas'].values\n",
    "corpus_test = test['lemmas'].values\n",
    "\n",
    "target_train = train['toxic']\n",
    "target_test = test['toxic']\n",
    "\n",
    "print(f'\\nразмер TRAIN выборки: {corpus_train.shape[0]}\\nсоотношение positive/negative\\n{target_train.value_counts()}')\n",
    "print(f'\\nразмер TEST выборки: {corpus_test.shape[0]}\\nсоотношение positive/negative\\n{target_test.value_counts()}')"
   ]
  },
  {
   "cell_type": "markdown",
   "metadata": {},
   "source": [
    "__Создадим векторайзер__"
   ]
  },
  {
   "cell_type": "code",
   "execution_count": 15,
   "metadata": {},
   "outputs": [
    {
     "name": "stdout",
     "output_type": "stream",
     "text": [
      "Размер матрицы: (127433, 52764)\n",
      "Размер матрицы: (31859, 52764)\n"
     ]
    }
   ],
   "source": [
    "count_tf_idf = TfidfVectorizer(min_df = 2, stop_words = stopwords) \n",
    "\n",
    "tf_idf_train = count_tf_idf.fit_transform(corpus_train) \n",
    "tf_idf_test = count_tf_idf.transform(corpus_test) \n",
    "\n",
    "print(f'Размер матрицы: {tf_idf_train.shape}')\n",
    "print(f'Размер матрицы: {tf_idf_test.shape}')"
   ]
  },
  {
   "cell_type": "markdown",
   "metadata": {},
   "source": [
    "___Промежуточный вывод___\n",
    "- импортировали нужные нам биб-ки и загрузили наш файл\n",
    "- удалили неинформативный столбец 'Unnamed: 0'\n",
    "- написали функцию лемматизации и очистки текста\n",
    "- удалили дубликаты\n",
    "- векторизировали наши текстовые данные"
   ]
  },
  {
   "cell_type": "markdown",
   "metadata": {},
   "source": [
    "## Обучение\n",
    "\n",
    "Обучим наши модели и подберем параметры:\n",
    "- LogisticRegression\n",
    "- DecisionTreeClassifier\n",
    "- RandomForestClassifier\n",
    "- LGBMClassifier"
   ]
  },
  {
   "cell_type": "markdown",
   "metadata": {},
   "source": [
    "__LogisticRegression__"
   ]
  },
  {
   "cell_type": "code",
   "execution_count": 16,
   "metadata": {},
   "outputs": [
    {
     "name": "stdout",
     "output_type": "stream",
     "text": [
      "Fitting 3 folds for each of 20 candidates, totalling 60 fits\n",
      "Лучшие гиперпараметры :{'C': 5, 'penalty': 'l2'}\n",
      "Лучшая f1 score модели LogisticRegression равна: 0.7619761969999032\n"
     ]
    }
   ],
   "source": [
    "lr = LogisticRegression(random_state = STATE, solver = 'liblinear', class_weight = 'balanced', n_jobs = -1)\n",
    "\n",
    "params = {\n",
    "   'penalty':['l1', 'l2'],        \n",
    "   'C': list(range(1, 20, 2)) \n",
    "}\n",
    "\n",
    "grid_lr = GridSearchCV(lr, params, cv = 3, scoring = 'f1', verbose = True)\n",
    "grid_lr.fit(tf_idf_train, target_train)\n",
    "\n",
    "print(f'Лучшие гиперпараметры :{grid_lr.best_params_}')\n",
    "print(f'Лучшая f1 score модели LogisticRegression равна: {grid_lr.best_score_}')"
   ]
  },
  {
   "cell_type": "markdown",
   "metadata": {},
   "source": [
    "__DecisionTreeClassifier__"
   ]
  },
  {
   "cell_type": "code",
   "execution_count": 17,
   "metadata": {},
   "outputs": [
    {
     "name": "stdout",
     "output_type": "stream",
     "text": [
      "Fitting 3 folds for each of 18 candidates, totalling 54 fits\n",
      "Лучшие гиперпараметры :{'criterion': 'gini', 'max_depth': 18}\n",
      "Лучшая f1 score модели DecisionTreeClassifier равна: 0.6268644554120802\n"
     ]
    }
   ],
   "source": [
    "dt = DecisionTreeClassifier(random_state = STATE, class_weight = 'balanced')\n",
    "\n",
    "params_dt = {\n",
    "   'criterion': ['gini', 'entropy'],        \n",
    "   'max_depth': list(range(2, 20, 2))\n",
    "}\n",
    "\n",
    "grid_dt = GridSearchCV(dt, params_dt, cv = 3, scoring = 'f1', verbose = True, n_jobs = -1)\n",
    "grid_dt.fit(tf_idf_train, target_train)\n",
    "\n",
    "print(f'Лучшие гиперпараметры :{grid_dt.best_params_}')\n",
    "print(f'Лучшая f1 score модели DecisionTreeClassifier равна: {grid_dt.best_score_}')"
   ]
  },
  {
   "cell_type": "markdown",
   "metadata": {},
   "source": [
    "__RandomForestClassifier__"
   ]
  },
  {
   "cell_type": "code",
   "execution_count": 18,
   "metadata": {},
   "outputs": [
    {
     "name": "stdout",
     "output_type": "stream",
     "text": [
      "Fitting 3 folds for each of 12 candidates, totalling 36 fits\n",
      "Лучшие гиперпараметры :{'max_depth': 31, 'n_estimators': 100}\n",
      "Лучшая f1 score модели RandomForestClassifier равна: 0.4582261348912236\n"
     ]
    }
   ],
   "source": [
    "rf = RandomForestClassifier(random_state = STATE, class_weight = 'balanced')\n",
    "\n",
    "params_rf = {\n",
    "    'n_estimators': [70, 80, 100],\n",
    "    'max_depth': range(1, 40, 10)\n",
    "}\n",
    "\n",
    "grid_rf = GridSearchCV(rf, params_rf, cv = 3, scoring = 'f1', verbose = True, n_jobs = -1)\n",
    "grid_rf.fit(tf_idf_train, target_train)\n",
    "\n",
    "print(f'Лучшие гиперпараметры :{grid_rf.best_params_}')\n",
    "print(f'Лучшая f1 score модели RandomForestClassifier равна: {grid_rf.best_score_}')"
   ]
  },
  {
   "cell_type": "markdown",
   "metadata": {},
   "source": [
    "__LGBMClassifier__"
   ]
  },
  {
   "cell_type": "code",
   "execution_count": 19,
   "metadata": {},
   "outputs": [
    {
     "name": "stdout",
     "output_type": "stream",
     "text": [
      "Fitting 3 folds for each of 1 candidates, totalling 3 fits\n",
      "Лучшая f1 score модели LGBMClassifier равна: 0.7449946332995899 при параметрах, {'max_depth': 20, 'n_estimators': 100}\n"
     ]
    }
   ],
   "source": [
    "model_lgb = LGBMClassifier(random_state = STATE, class_weight = 'balanced', n_jobs = -1)\n",
    "\n",
    "param_lgb = {\n",
    "    \"max_depth\" : [20],\n",
    "    \"n_estimators\" : [100]\n",
    "}\n",
    "\n",
    "grid_lgb = GridSearchCV(model_lgb, param_lgb, cv = 3, scoring = 'f1', verbose = True)\n",
    "lgb_model = grid_lgb.fit(tf_idf_train, target_train)\n",
    "\n",
    "print(f'Лучшая f1 score модели LGBMClassifier равна: {lgb_model.best_score_} при параметрах, {lgb_model.best_params_}')"
   ]
  },
  {
   "cell_type": "code",
   "execution_count": 20,
   "metadata": {},
   "outputs": [
    {
     "name": "stdout",
     "output_type": "stream",
     "text": [
      "Лучшая f1 score модели LogisticRegression равна: 0.7619761969999032\n",
      "Лучшая f1 score модели DecisionTreeClassifier равна: 0.6268644554120802\n",
      "Лучшая f1 score модели RandomForestClassifier равна: 0.4582261348912236\n",
      "Лучшая f1 score модели LGBMClassifier равна: 0.7449946332995899\n"
     ]
    }
   ],
   "source": [
    "print(f'Лучшая f1 score модели LogisticRegression равна: {grid_lr.best_score_}')\n",
    "print(f'Лучшая f1 score модели DecisionTreeClassifier равна: {grid_dt.best_score_}')\n",
    "print(f'Лучшая f1 score модели RandomForestClassifier равна: {grid_rf.best_score_}')\n",
    "print(f'Лучшая f1 score модели LGBMClassifier равна: {lgb_model.best_score_}')"
   ]
  },
  {
   "cell_type": "markdown",
   "metadata": {},
   "source": [
    "Лучше всего справилась модель Логистической регрессии, ее и будем использовать на тестовых данных"
   ]
  },
  {
   "cell_type": "markdown",
   "metadata": {},
   "source": [
    "## Тестирование"
   ]
  },
  {
   "cell_type": "code",
   "execution_count": 21,
   "metadata": {},
   "outputs": [
    {
     "name": "stdout",
     "output_type": "stream",
     "text": [
      "f1 score модели LogisticRegression на тестовых данных равна: 0.7578858825178747\n"
     ]
    }
   ],
   "source": [
    "# проверяем нашу модель ЛогРег на тестовых данных\n",
    "\n",
    "predict = grid_lr.predict(tf_idf_test)\n",
    "f1 = f1_score(target_test, predict)\n",
    "\n",
    "print(f'f1 score модели LogisticRegression на тестовых данных равна: {f1}')"
   ]
  },
  {
   "cell_type": "markdown",
   "metadata": {},
   "source": [
    "___ВЫВОД___\n",
    "\n",
    "Удалось достичь цели 'Постройте модель со значением метрики качества F1 не меньше 0.75', f1_score = 0.761\n"
   ]
  }
 ],
 "metadata": {
  "ExecuteTimeLog": [
   {
    "duration": 409,
    "start_time": "2023-11-02T12:05:27.059Z"
   },
   {
    "duration": 75,
    "start_time": "2023-11-02T12:05:50.585Z"
   },
   {
    "duration": 3489,
    "start_time": "2023-11-02T12:05:55.605Z"
   },
   {
    "duration": 61,
    "start_time": "2023-11-02T12:06:31.850Z"
   },
   {
    "duration": 6,
    "start_time": "2023-11-02T12:06:37.900Z"
   },
   {
    "duration": 1354,
    "start_time": "2023-11-04T12:37:51.764Z"
   },
   {
    "duration": 3,
    "start_time": "2023-11-04T12:37:58.645Z"
   },
   {
    "duration": 2509,
    "start_time": "2023-11-04T12:37:59.759Z"
   },
   {
    "duration": 2,
    "start_time": "2023-11-04T12:38:08.110Z"
   },
   {
    "duration": 887,
    "start_time": "2023-11-04T12:38:10.101Z"
   },
   {
    "duration": 2,
    "start_time": "2023-11-04T12:38:16.940Z"
   },
   {
    "duration": 863,
    "start_time": "2023-11-04T12:38:17.980Z"
   },
   {
    "duration": 2,
    "start_time": "2023-11-04T12:38:24.901Z"
   },
   {
    "duration": 879,
    "start_time": "2023-11-04T12:38:26.421Z"
   },
   {
    "duration": 2,
    "start_time": "2023-11-04T12:38:33.341Z"
   },
   {
    "duration": 908,
    "start_time": "2023-11-04T12:38:35.964Z"
   },
   {
    "duration": 2,
    "start_time": "2023-11-04T12:38:45.442Z"
   },
   {
    "duration": 892,
    "start_time": "2023-11-04T12:38:46.640Z"
   },
   {
    "duration": 107,
    "start_time": "2023-11-04T12:39:33.231Z"
   },
   {
    "duration": 4,
    "start_time": "2023-11-04T12:40:55.192Z"
   },
   {
    "duration": 4,
    "start_time": "2023-11-04T12:41:02.565Z"
   },
   {
    "duration": 4,
    "start_time": "2023-11-04T12:41:35.997Z"
   },
   {
    "duration": 3,
    "start_time": "2023-11-04T12:41:46.362Z"
   },
   {
    "duration": 3,
    "start_time": "2023-11-04T12:41:47.470Z"
   },
   {
    "duration": 864,
    "start_time": "2023-11-04T12:41:48.351Z"
   },
   {
    "duration": 287,
    "start_time": "2023-11-04T15:34:36.130Z"
   },
   {
    "duration": 1462,
    "start_time": "2023-11-04T15:34:48.602Z"
   },
   {
    "duration": 4,
    "start_time": "2023-11-04T15:34:50.066Z"
   },
   {
    "duration": 964,
    "start_time": "2023-11-04T15:34:50.071Z"
   },
   {
    "duration": 7,
    "start_time": "2023-11-04T15:34:51.037Z"
   },
   {
    "duration": 861,
    "start_time": "2023-11-04T15:35:58.960Z"
   },
   {
    "duration": 8,
    "start_time": "2023-11-04T15:36:10.991Z"
   },
   {
    "duration": 9,
    "start_time": "2023-11-04T15:39:49.713Z"
   },
   {
    "duration": 4,
    "start_time": "2023-11-04T15:40:39.313Z"
   },
   {
    "duration": 2504,
    "start_time": "2023-11-04T15:46:03.561Z"
   },
   {
    "duration": 33,
    "start_time": "2023-11-04T15:47:00.114Z"
   },
   {
    "duration": 12,
    "start_time": "2023-11-04T15:48:31.234Z"
   },
   {
    "duration": 1878,
    "start_time": "2023-11-04T15:48:33.113Z"
   },
   {
    "duration": 2,
    "start_time": "2023-11-04T15:53:38.361Z"
   },
   {
    "duration": 79655,
    "start_time": "2023-11-04T15:57:15.233Z"
   },
   {
    "duration": 69,
    "start_time": "2023-11-04T16:11:04.994Z"
   },
   {
    "duration": 189,
    "start_time": "2023-11-04T16:17:39.678Z"
   },
   {
    "duration": 71,
    "start_time": "2023-11-04T16:18:22.886Z"
   },
   {
    "duration": 90,
    "start_time": "2023-11-04T16:19:07.123Z"
   },
   {
    "duration": 95,
    "start_time": "2023-11-04T16:21:15.720Z"
   },
   {
    "duration": 5,
    "start_time": "2023-11-04T16:21:49.795Z"
   },
   {
    "duration": 7,
    "start_time": "2023-11-04T16:22:02.081Z"
   },
   {
    "duration": 5,
    "start_time": "2023-11-04T16:22:39.552Z"
   },
   {
    "duration": 5,
    "start_time": "2023-11-04T16:22:59.594Z"
   },
   {
    "duration": 119,
    "start_time": "2023-11-04T16:23:47.232Z"
   },
   {
    "duration": 114,
    "start_time": "2023-11-04T16:24:19.713Z"
   },
   {
    "duration": 104,
    "start_time": "2023-11-04T16:25:07.671Z"
   },
   {
    "duration": 105,
    "start_time": "2023-11-04T16:25:29.233Z"
   },
   {
    "duration": 119,
    "start_time": "2023-11-04T16:25:35.793Z"
   },
   {
    "duration": 115,
    "start_time": "2023-11-04T16:25:48.501Z"
   },
   {
    "duration": 5,
    "start_time": "2023-11-04T16:25:58.355Z"
   },
   {
    "duration": 5,
    "start_time": "2023-11-04T16:26:15.995Z"
   },
   {
    "duration": 74,
    "start_time": "2023-11-04T16:26:24.714Z"
   },
   {
    "duration": 128,
    "start_time": "2023-11-04T16:26:37.632Z"
   },
   {
    "duration": 106,
    "start_time": "2023-11-04T16:26:43.674Z"
   },
   {
    "duration": 130,
    "start_time": "2023-11-04T16:26:52.234Z"
   },
   {
    "duration": 122,
    "start_time": "2023-11-04T16:27:26.601Z"
   },
   {
    "duration": 101,
    "start_time": "2023-11-04T16:27:38.352Z"
   },
   {
    "duration": 119,
    "start_time": "2023-11-04T16:27:58.161Z"
   },
   {
    "duration": 111,
    "start_time": "2023-11-04T16:28:14.953Z"
   },
   {
    "duration": 121,
    "start_time": "2023-11-04T16:28:30.355Z"
   },
   {
    "duration": 105,
    "start_time": "2023-11-04T16:28:37.922Z"
   },
   {
    "duration": 107,
    "start_time": "2023-11-04T16:28:44.913Z"
   },
   {
    "duration": 109,
    "start_time": "2023-11-04T16:28:51.985Z"
   },
   {
    "duration": 85,
    "start_time": "2023-11-04T16:30:22.395Z"
   },
   {
    "duration": 98,
    "start_time": "2023-11-04T16:30:36.395Z"
   },
   {
    "duration": 76,
    "start_time": "2023-11-04T16:30:50.005Z"
   },
   {
    "duration": 111,
    "start_time": "2023-11-04T16:32:40.198Z"
   },
   {
    "duration": 112,
    "start_time": "2023-11-04T16:33:07.885Z"
   },
   {
    "duration": 18,
    "start_time": "2023-11-04T16:46:52.922Z"
   },
   {
    "duration": 27,
    "start_time": "2023-11-04T16:47:13.120Z"
   },
   {
    "duration": 1453,
    "start_time": "2023-11-04T16:47:50.812Z"
   },
   {
    "duration": 18,
    "start_time": "2023-11-04T16:47:52.267Z"
   },
   {
    "duration": 940,
    "start_time": "2023-11-04T16:47:52.287Z"
   },
   {
    "duration": 13,
    "start_time": "2023-11-04T16:47:53.229Z"
   },
   {
    "duration": 7,
    "start_time": "2023-11-04T16:47:53.244Z"
   },
   {
    "duration": 5,
    "start_time": "2023-11-04T16:47:53.252Z"
   },
   {
    "duration": 41,
    "start_time": "2023-11-04T16:47:53.259Z"
   },
   {
    "duration": 16,
    "start_time": "2023-11-04T16:47:53.307Z"
   },
   {
    "duration": 2488,
    "start_time": "2023-11-04T16:47:53.324Z"
   },
   {
    "duration": 2,
    "start_time": "2023-11-04T16:47:55.814Z"
   },
   {
    "duration": 79916,
    "start_time": "2023-11-04T16:47:55.818Z"
   },
   {
    "duration": 122,
    "start_time": "2023-11-04T16:49:15.736Z"
   },
   {
    "duration": 120,
    "start_time": "2023-11-04T16:49:15.859Z"
   },
   {
    "duration": 22,
    "start_time": "2023-11-04T16:50:06.863Z"
   },
   {
    "duration": 190,
    "start_time": "2023-11-04T16:54:23.903Z"
   },
   {
    "duration": 1521,
    "start_time": "2023-11-04T16:54:47.261Z"
   },
   {
    "duration": 3,
    "start_time": "2023-11-04T16:54:48.785Z"
   },
   {
    "duration": 937,
    "start_time": "2023-11-04T16:54:48.789Z"
   },
   {
    "duration": 14,
    "start_time": "2023-11-04T16:54:49.727Z"
   },
   {
    "duration": 19,
    "start_time": "2023-11-04T16:54:49.743Z"
   },
   {
    "duration": 25,
    "start_time": "2023-11-04T16:54:49.764Z"
   },
   {
    "duration": 41,
    "start_time": "2023-11-04T16:54:49.790Z"
   },
   {
    "duration": 16,
    "start_time": "2023-11-04T16:54:49.832Z"
   },
   {
    "duration": 312,
    "start_time": "2023-11-04T16:54:49.850Z"
   },
   {
    "duration": 2506,
    "start_time": "2023-11-04T16:54:50.164Z"
   },
   {
    "duration": 2,
    "start_time": "2023-11-04T16:54:52.672Z"
   },
   {
    "duration": 81221,
    "start_time": "2023-11-04T16:54:52.676Z"
   },
   {
    "duration": 116,
    "start_time": "2023-11-04T16:56:13.899Z"
   },
   {
    "duration": 117,
    "start_time": "2023-11-04T16:56:14.018Z"
   },
   {
    "duration": 20,
    "start_time": "2023-11-04T16:57:00.479Z"
   },
   {
    "duration": 116,
    "start_time": "2023-11-04T16:59:01.227Z"
   },
   {
    "duration": 15,
    "start_time": "2023-11-04T16:59:08.403Z"
   },
   {
    "duration": 7,
    "start_time": "2023-11-04T17:00:50.352Z"
   },
   {
    "duration": 13,
    "start_time": "2023-11-04T17:01:09.042Z"
   },
   {
    "duration": 1642,
    "start_time": "2023-11-04T17:14:13.512Z"
   },
   {
    "duration": 3,
    "start_time": "2023-11-04T17:14:15.156Z"
   },
   {
    "duration": 1023,
    "start_time": "2023-11-04T17:14:15.160Z"
   },
   {
    "duration": 23,
    "start_time": "2023-11-04T17:14:16.185Z"
   },
   {
    "duration": 25,
    "start_time": "2023-11-04T17:14:16.212Z"
   },
   {
    "duration": 20,
    "start_time": "2023-11-04T17:14:16.239Z"
   },
   {
    "duration": 70,
    "start_time": "2023-11-04T17:14:16.261Z"
   },
   {
    "duration": 24,
    "start_time": "2023-11-04T17:14:16.333Z"
   },
   {
    "duration": 388,
    "start_time": "2023-11-04T17:14:16.359Z"
   },
   {
    "duration": 2646,
    "start_time": "2023-11-04T17:14:16.750Z"
   },
   {
    "duration": 3,
    "start_time": "2023-11-04T17:14:19.398Z"
   },
   {
    "duration": 87160,
    "start_time": "2023-11-04T17:14:19.403Z"
   },
   {
    "duration": 135,
    "start_time": "2023-11-04T17:15:46.571Z"
   },
   {
    "duration": 137,
    "start_time": "2023-11-04T17:15:46.710Z"
   },
   {
    "duration": 20,
    "start_time": "2023-11-04T17:16:51.850Z"
   },
   {
    "duration": 3,
    "start_time": "2023-11-04T17:23:42.629Z"
   },
   {
    "duration": 21,
    "start_time": "2023-11-04T17:23:45.298Z"
   },
   {
    "duration": 2,
    "start_time": "2023-11-04T17:27:22.850Z"
   },
   {
    "duration": 1721,
    "start_time": "2023-11-04T17:27:30.379Z"
   },
   {
    "duration": 2,
    "start_time": "2023-11-04T17:27:32.102Z"
   },
   {
    "duration": 1064,
    "start_time": "2023-11-04T17:27:32.106Z"
   },
   {
    "duration": 13,
    "start_time": "2023-11-04T17:27:33.172Z"
   },
   {
    "duration": 20,
    "start_time": "2023-11-04T17:27:33.187Z"
   },
   {
    "duration": 6,
    "start_time": "2023-11-04T17:27:33.208Z"
   },
   {
    "duration": 49,
    "start_time": "2023-11-04T17:27:33.215Z"
   },
   {
    "duration": 44,
    "start_time": "2023-11-04T17:27:33.265Z"
   },
   {
    "duration": 23,
    "start_time": "2023-11-04T17:27:33.311Z"
   },
   {
    "duration": 2769,
    "start_time": "2023-11-04T17:27:33.336Z"
   },
   {
    "duration": 8,
    "start_time": "2023-11-04T17:27:36.107Z"
   },
   {
    "duration": 88024,
    "start_time": "2023-11-04T17:27:36.118Z"
   },
   {
    "duration": 139,
    "start_time": "2023-11-04T17:29:04.143Z"
   },
   {
    "duration": 3,
    "start_time": "2023-11-04T17:29:04.284Z"
   },
   {
    "duration": 139,
    "start_time": "2023-11-04T17:29:04.289Z"
   },
   {
    "duration": 1610,
    "start_time": "2023-11-04T17:33:33.772Z"
   },
   {
    "duration": 2,
    "start_time": "2023-11-04T17:33:35.384Z"
   },
   {
    "duration": 1050,
    "start_time": "2023-11-04T17:33:35.388Z"
   },
   {
    "duration": 15,
    "start_time": "2023-11-04T17:33:36.439Z"
   },
   {
    "duration": 8,
    "start_time": "2023-11-04T17:33:36.456Z"
   },
   {
    "duration": 3,
    "start_time": "2023-11-04T17:33:36.465Z"
   },
   {
    "duration": 65,
    "start_time": "2023-11-04T17:33:36.470Z"
   },
   {
    "duration": 10,
    "start_time": "2023-11-04T17:33:36.536Z"
   },
   {
    "duration": 7,
    "start_time": "2023-11-04T17:33:36.547Z"
   },
   {
    "duration": 2680,
    "start_time": "2023-11-04T17:33:36.556Z"
   },
   {
    "duration": 2,
    "start_time": "2023-11-04T17:33:39.238Z"
   },
   {
    "duration": 88379,
    "start_time": "2023-11-04T17:33:39.242Z"
   },
   {
    "duration": 172,
    "start_time": "2023-11-04T17:35:07.623Z"
   },
   {
    "duration": 13,
    "start_time": "2023-11-04T17:35:07.806Z"
   },
   {
    "duration": 141,
    "start_time": "2023-11-04T17:35:07.821Z"
   },
   {
    "duration": 108,
    "start_time": "2023-11-04T17:37:23.342Z"
   },
   {
    "duration": 10,
    "start_time": "2023-11-04T17:37:29.333Z"
   },
   {
    "duration": 4691,
    "start_time": "2023-11-04T17:37:30.325Z"
   },
   {
    "duration": 11,
    "start_time": "2023-11-04T17:38:25.565Z"
   },
   {
    "duration": 10,
    "start_time": "2023-11-04T17:38:59.142Z"
   },
   {
    "duration": 1708,
    "start_time": "2023-11-04T17:39:12.475Z"
   },
   {
    "duration": 3,
    "start_time": "2023-11-04T17:39:14.185Z"
   },
   {
    "duration": 1032,
    "start_time": "2023-11-04T17:39:14.189Z"
   },
   {
    "duration": 20,
    "start_time": "2023-11-04T17:39:15.228Z"
   },
   {
    "duration": 10,
    "start_time": "2023-11-04T17:39:15.251Z"
   },
   {
    "duration": 7,
    "start_time": "2023-11-04T17:39:15.263Z"
   },
   {
    "duration": 58,
    "start_time": "2023-11-04T17:39:15.271Z"
   },
   {
    "duration": 38,
    "start_time": "2023-11-04T17:39:15.331Z"
   },
   {
    "duration": 15,
    "start_time": "2023-11-04T17:39:15.370Z"
   },
   {
    "duration": 3178,
    "start_time": "2023-11-04T17:39:15.387Z"
   },
   {
    "duration": 3,
    "start_time": "2023-11-04T17:39:18.566Z"
   },
   {
    "duration": 1648,
    "start_time": "2023-11-04T17:39:29.206Z"
   },
   {
    "duration": 3,
    "start_time": "2023-11-04T17:39:30.856Z"
   },
   {
    "duration": 1202,
    "start_time": "2023-11-04T17:39:30.861Z"
   },
   {
    "duration": 15,
    "start_time": "2023-11-04T17:39:32.066Z"
   },
   {
    "duration": 48,
    "start_time": "2023-11-04T17:39:32.083Z"
   },
   {
    "duration": 14,
    "start_time": "2023-11-04T17:39:32.133Z"
   },
   {
    "duration": 69,
    "start_time": "2023-11-04T17:39:32.149Z"
   },
   {
    "duration": 23,
    "start_time": "2023-11-04T17:39:32.220Z"
   },
   {
    "duration": 23,
    "start_time": "2023-11-04T17:39:32.245Z"
   },
   {
    "duration": 2898,
    "start_time": "2023-11-04T17:39:32.271Z"
   },
   {
    "duration": 2,
    "start_time": "2023-11-04T17:39:35.172Z"
   },
   {
    "duration": 92175,
    "start_time": "2023-11-04T17:39:35.175Z"
   },
   {
    "duration": 142,
    "start_time": "2023-11-04T17:41:07.353Z"
   },
   {
    "duration": 4557,
    "start_time": "2023-11-04T17:41:07.497Z"
   },
   {
    "duration": 1631,
    "start_time": "2023-11-05T09:46:44.450Z"
   },
   {
    "duration": 3,
    "start_time": "2023-11-05T09:46:46.083Z"
   },
   {
    "duration": 2448,
    "start_time": "2023-11-05T09:46:46.087Z"
   },
   {
    "duration": 14,
    "start_time": "2023-11-05T09:46:48.538Z"
   },
   {
    "duration": 15,
    "start_time": "2023-11-05T09:46:48.554Z"
   },
   {
    "duration": 12,
    "start_time": "2023-11-05T09:46:48.571Z"
   },
   {
    "duration": 52,
    "start_time": "2023-11-05T09:46:48.584Z"
   },
   {
    "duration": 11,
    "start_time": "2023-11-05T09:46:48.638Z"
   },
   {
    "duration": 31,
    "start_time": "2023-11-05T09:46:48.650Z"
   },
   {
    "duration": 2578,
    "start_time": "2023-11-05T09:46:48.684Z"
   },
   {
    "duration": 2,
    "start_time": "2023-11-05T09:46:51.264Z"
   },
   {
    "duration": 80257,
    "start_time": "2023-11-05T09:46:51.268Z"
   },
   {
    "duration": 149,
    "start_time": "2023-11-05T09:48:11.528Z"
   },
   {
    "duration": 4868,
    "start_time": "2023-11-05T09:48:11.680Z"
   },
   {
    "duration": 4041,
    "start_time": "2023-11-05T09:49:14.483Z"
   },
   {
    "duration": 164,
    "start_time": "2023-11-05T09:49:33.128Z"
   },
   {
    "duration": 80740,
    "start_time": "2023-11-05T09:49:39.880Z"
   },
   {
    "duration": 176,
    "start_time": "2023-11-05T09:52:01.492Z"
   },
   {
    "duration": 197,
    "start_time": "2023-11-05T09:52:05.733Z"
   },
   {
    "duration": 68,
    "start_time": "2023-11-05T09:52:24.754Z"
   },
   {
    "duration": 14,
    "start_time": "2023-11-05T09:52:29.106Z"
   },
   {
    "duration": 1868,
    "start_time": "2023-11-05T09:54:03.243Z"
   },
   {
    "duration": 81211,
    "start_time": "2023-11-05T09:54:17.024Z"
   },
   {
    "duration": 282,
    "start_time": "2023-11-05T09:57:01.263Z"
   },
   {
    "duration": 16,
    "start_time": "2023-11-05T09:57:05.504Z"
   },
   {
    "duration": 196,
    "start_time": "2023-11-05T10:04:18.773Z"
   },
   {
    "duration": 763,
    "start_time": "2023-11-05T10:04:19.565Z"
   },
   {
    "duration": 80805,
    "start_time": "2023-11-05T10:04:31.726Z"
   },
   {
    "duration": 19,
    "start_time": "2023-11-05T10:06:08.007Z"
   },
   {
    "duration": 5,
    "start_time": "2023-11-05T10:17:31.356Z"
   },
   {
    "duration": 5169,
    "start_time": "2023-11-05T10:17:52.332Z"
   },
   {
    "duration": 7688,
    "start_time": "2023-11-05T10:18:27.042Z"
   },
   {
    "duration": 346,
    "start_time": "2023-11-05T10:20:51.839Z"
   },
   {
    "duration": 4,
    "start_time": "2023-11-05T10:20:56.281Z"
   },
   {
    "duration": 3076,
    "start_time": "2023-11-05T10:20:57.182Z"
   },
   {
    "duration": 359,
    "start_time": "2023-11-05T10:21:00.260Z"
   },
   {
    "duration": 19,
    "start_time": "2023-11-05T10:21:00.622Z"
   },
   {
    "duration": 212,
    "start_time": "2023-11-05T10:21:44.464Z"
   },
   {
    "duration": 379,
    "start_time": "2023-11-05T10:21:50.072Z"
   },
   {
    "duration": 3882,
    "start_time": "2023-11-05T10:21:58.338Z"
   },
   {
    "duration": 3,
    "start_time": "2023-11-05T10:22:02.223Z"
   },
   {
    "duration": 1117,
    "start_time": "2023-11-05T10:22:02.228Z"
   },
   {
    "duration": 15,
    "start_time": "2023-11-05T10:22:03.347Z"
   },
   {
    "duration": 23,
    "start_time": "2023-11-05T10:22:03.366Z"
   },
   {
    "duration": 8,
    "start_time": "2023-11-05T10:22:03.391Z"
   },
   {
    "duration": 63,
    "start_time": "2023-11-05T10:22:03.402Z"
   },
   {
    "duration": 16,
    "start_time": "2023-11-05T10:22:03.468Z"
   },
   {
    "duration": 335,
    "start_time": "2023-11-05T10:22:03.486Z"
   },
   {
    "duration": 7350,
    "start_time": "2023-11-05T10:22:03.823Z"
   },
   {
    "duration": 3,
    "start_time": "2023-11-05T10:22:11.175Z"
   },
   {
    "duration": 1572,
    "start_time": "2023-11-05T10:23:33.376Z"
   },
   {
    "duration": 3,
    "start_time": "2023-11-05T10:23:34.950Z"
   },
   {
    "duration": 1123,
    "start_time": "2023-11-05T10:23:34.955Z"
   },
   {
    "duration": 19,
    "start_time": "2023-11-05T10:23:36.080Z"
   },
   {
    "duration": 27,
    "start_time": "2023-11-05T10:23:36.102Z"
   },
   {
    "duration": 7,
    "start_time": "2023-11-05T10:23:36.134Z"
   },
   {
    "duration": 37,
    "start_time": "2023-11-05T10:23:36.143Z"
   },
   {
    "duration": 10,
    "start_time": "2023-11-05T10:23:36.182Z"
   },
   {
    "duration": 330,
    "start_time": "2023-11-05T10:23:36.195Z"
   },
   {
    "duration": 4623,
    "start_time": "2023-11-05T10:23:36.527Z"
   },
   {
    "duration": 3,
    "start_time": "2023-11-05T10:23:41.151Z"
   },
   {
    "duration": 1920,
    "start_time": "2023-11-05T10:25:49.693Z"
   },
   {
    "duration": 4,
    "start_time": "2023-11-05T10:25:51.616Z"
   },
   {
    "duration": 1246,
    "start_time": "2023-11-05T10:25:51.622Z"
   },
   {
    "duration": 17,
    "start_time": "2023-11-05T10:25:52.871Z"
   },
   {
    "duration": 23,
    "start_time": "2023-11-05T10:25:52.890Z"
   },
   {
    "duration": 30,
    "start_time": "2023-11-05T10:25:52.923Z"
   },
   {
    "duration": 50,
    "start_time": "2023-11-05T10:25:52.955Z"
   },
   {
    "duration": 82,
    "start_time": "2023-11-05T10:25:53.007Z"
   },
   {
    "duration": 396,
    "start_time": "2023-11-05T10:25:53.092Z"
   },
   {
    "duration": 5837,
    "start_time": "2023-11-05T10:25:53.491Z"
   },
   {
    "duration": 7,
    "start_time": "2023-11-05T10:25:59.330Z"
   },
   {
    "duration": 1585,
    "start_time": "2023-11-05T10:26:45.114Z"
   },
   {
    "duration": 3,
    "start_time": "2023-11-05T10:26:46.702Z"
   },
   {
    "duration": 1018,
    "start_time": "2023-11-05T10:26:46.707Z"
   },
   {
    "duration": 19,
    "start_time": "2023-11-05T10:26:47.732Z"
   },
   {
    "duration": 8,
    "start_time": "2023-11-05T10:26:47.754Z"
   },
   {
    "duration": 3,
    "start_time": "2023-11-05T10:26:47.764Z"
   },
   {
    "duration": 33,
    "start_time": "2023-11-05T10:26:47.769Z"
   },
   {
    "duration": 35,
    "start_time": "2023-11-05T10:26:47.804Z"
   },
   {
    "duration": 327,
    "start_time": "2023-11-05T10:26:47.845Z"
   },
   {
    "duration": 2871,
    "start_time": "2023-11-05T10:26:48.174Z"
   },
   {
    "duration": 3,
    "start_time": "2023-11-05T10:26:51.047Z"
   },
   {
    "duration": 1690,
    "start_time": "2023-11-05T10:28:27.930Z"
   },
   {
    "duration": 8,
    "start_time": "2023-11-05T10:28:29.622Z"
   },
   {
    "duration": 1108,
    "start_time": "2023-11-05T10:28:29.637Z"
   },
   {
    "duration": 15,
    "start_time": "2023-11-05T10:28:30.747Z"
   },
   {
    "duration": 188,
    "start_time": "2023-11-05T10:28:30.764Z"
   },
   {
    "duration": 273,
    "start_time": "2023-11-05T10:28:30.953Z"
   },
   {
    "duration": 406,
    "start_time": "2023-11-05T10:28:31.229Z"
   },
   {
    "duration": 66,
    "start_time": "2023-11-05T10:28:31.640Z"
   },
   {
    "duration": 378,
    "start_time": "2023-11-05T10:28:31.708Z"
   },
   {
    "duration": 979,
    "start_time": "2023-11-05T10:28:32.088Z"
   },
   {
    "duration": 2,
    "start_time": "2023-11-05T10:28:33.069Z"
   },
   {
    "duration": 1808,
    "start_time": "2023-11-05T10:29:22.400Z"
   },
   {
    "duration": 4,
    "start_time": "2023-11-05T10:29:24.210Z"
   },
   {
    "duration": 1081,
    "start_time": "2023-11-05T10:29:24.215Z"
   },
   {
    "duration": 14,
    "start_time": "2023-11-05T10:29:25.297Z"
   },
   {
    "duration": 29,
    "start_time": "2023-11-05T10:29:25.325Z"
   },
   {
    "duration": 93,
    "start_time": "2023-11-05T10:29:25.356Z"
   },
   {
    "duration": 92,
    "start_time": "2023-11-05T10:29:25.451Z"
   },
   {
    "duration": 67,
    "start_time": "2023-11-05T10:29:25.544Z"
   },
   {
    "duration": 427,
    "start_time": "2023-11-05T10:29:25.613Z"
   },
   {
    "duration": 3061,
    "start_time": "2023-11-05T10:29:26.045Z"
   },
   {
    "duration": 3,
    "start_time": "2023-11-05T10:29:29.108Z"
   },
   {
    "duration": 1834,
    "start_time": "2023-11-05T10:30:39.852Z"
   },
   {
    "duration": 3,
    "start_time": "2023-11-05T10:30:41.690Z"
   },
   {
    "duration": 1174,
    "start_time": "2023-11-05T10:30:41.695Z"
   },
   {
    "duration": 22,
    "start_time": "2023-11-05T10:30:42.871Z"
   },
   {
    "duration": 15,
    "start_time": "2023-11-05T10:30:42.895Z"
   },
   {
    "duration": 6,
    "start_time": "2023-11-05T10:30:42.927Z"
   },
   {
    "duration": 44,
    "start_time": "2023-11-05T10:30:42.935Z"
   },
   {
    "duration": 17,
    "start_time": "2023-11-05T10:30:42.982Z"
   },
   {
    "duration": 34,
    "start_time": "2023-11-05T10:30:43.001Z"
   },
   {
    "duration": 3214,
    "start_time": "2023-11-05T10:30:43.038Z"
   },
   {
    "duration": 2,
    "start_time": "2023-11-05T10:30:46.254Z"
   },
   {
    "duration": 96461,
    "start_time": "2023-11-05T10:30:46.260Z"
   },
   {
    "duration": 132,
    "start_time": "2023-11-05T10:32:22.724Z"
   },
   {
    "duration": 144,
    "start_time": "2023-11-05T10:32:22.857Z"
   },
   {
    "duration": 24,
    "start_time": "2023-11-05T10:33:59.422Z"
   },
   {
    "duration": 23,
    "start_time": "2023-11-05T10:34:16.119Z"
   },
   {
    "duration": 5,
    "start_time": "2023-11-05T10:34:23.453Z"
   },
   {
    "duration": 2,
    "start_time": "2023-11-05T10:40:32.208Z"
   },
   {
    "duration": 1878,
    "start_time": "2023-11-05T10:44:34.824Z"
   },
   {
    "duration": 4,
    "start_time": "2023-11-05T10:44:36.704Z"
   },
   {
    "duration": 1178,
    "start_time": "2023-11-05T10:44:36.710Z"
   },
   {
    "duration": 16,
    "start_time": "2023-11-05T10:44:37.890Z"
   },
   {
    "duration": 32,
    "start_time": "2023-11-05T10:44:37.909Z"
   },
   {
    "duration": 11,
    "start_time": "2023-11-05T10:44:37.943Z"
   },
   {
    "duration": 38,
    "start_time": "2023-11-05T10:44:37.956Z"
   },
   {
    "duration": 10,
    "start_time": "2023-11-05T10:44:37.996Z"
   },
   {
    "duration": 18,
    "start_time": "2023-11-05T10:44:38.009Z"
   },
   {
    "duration": 3,
    "start_time": "2023-11-05T10:44:38.029Z"
   },
   {
    "duration": 1549,
    "start_time": "2023-11-05T10:44:38.041Z"
   },
   {
    "duration": 0,
    "start_time": "2023-11-05T10:44:39.593Z"
   },
   {
    "duration": 0,
    "start_time": "2023-11-05T10:44:39.594Z"
   },
   {
    "duration": 1,
    "start_time": "2023-11-05T10:44:39.595Z"
   },
   {
    "duration": 0,
    "start_time": "2023-11-05T10:44:39.598Z"
   },
   {
    "duration": 1574,
    "start_time": "2023-11-05T10:47:09.835Z"
   },
   {
    "duration": 2353,
    "start_time": "2023-11-05T10:48:52.608Z"
   },
   {
    "duration": 1769,
    "start_time": "2023-11-05T10:49:37.650Z"
   },
   {
    "duration": 26,
    "start_time": "2023-11-05T10:52:02.122Z"
   },
   {
    "duration": 1735,
    "start_time": "2023-11-05T10:52:08.219Z"
   },
   {
    "duration": 1748,
    "start_time": "2023-11-05T10:52:21.793Z"
   },
   {
    "duration": 1192,
    "start_time": "2023-11-05T11:03:53.771Z"
   },
   {
    "duration": 8,
    "start_time": "2023-11-05T11:04:28.490Z"
   },
   {
    "duration": 1722,
    "start_time": "2023-11-05T11:04:43.242Z"
   },
   {
    "duration": 4,
    "start_time": "2023-11-05T11:04:44.969Z"
   },
   {
    "duration": 1215,
    "start_time": "2023-11-05T11:04:44.975Z"
   },
   {
    "duration": 32,
    "start_time": "2023-11-05T11:04:46.193Z"
   },
   {
    "duration": 11,
    "start_time": "2023-11-05T11:04:46.228Z"
   },
   {
    "duration": 11,
    "start_time": "2023-11-05T11:04:46.241Z"
   },
   {
    "duration": 37,
    "start_time": "2023-11-05T11:04:46.255Z"
   },
   {
    "duration": 29,
    "start_time": "2023-11-05T11:04:46.294Z"
   },
   {
    "duration": 22,
    "start_time": "2023-11-05T11:04:46.327Z"
   },
   {
    "duration": 27,
    "start_time": "2023-11-05T11:04:46.352Z"
   },
   {
    "duration": 1607,
    "start_time": "2023-11-05T11:05:19.490Z"
   },
   {
    "duration": 3,
    "start_time": "2023-11-05T11:05:21.099Z"
   },
   {
    "duration": 1052,
    "start_time": "2023-11-05T11:05:21.104Z"
   },
   {
    "duration": 13,
    "start_time": "2023-11-05T11:05:22.157Z"
   },
   {
    "duration": 18,
    "start_time": "2023-11-05T11:05:22.172Z"
   },
   {
    "duration": 4,
    "start_time": "2023-11-05T11:05:22.192Z"
   },
   {
    "duration": 57,
    "start_time": "2023-11-05T11:05:22.197Z"
   },
   {
    "duration": 11,
    "start_time": "2023-11-05T11:05:22.256Z"
   },
   {
    "duration": 5,
    "start_time": "2023-11-05T11:05:22.269Z"
   },
   {
    "duration": 7,
    "start_time": "2023-11-05T11:05:22.275Z"
   },
   {
    "duration": 1816,
    "start_time": "2023-11-05T11:22:06.969Z"
   },
   {
    "duration": 3,
    "start_time": "2023-11-05T11:22:08.788Z"
   },
   {
    "duration": 1322,
    "start_time": "2023-11-05T11:22:08.794Z"
   },
   {
    "duration": 25,
    "start_time": "2023-11-05T11:22:10.118Z"
   },
   {
    "duration": 15,
    "start_time": "2023-11-05T11:22:10.145Z"
   },
   {
    "duration": 5,
    "start_time": "2023-11-05T11:22:10.163Z"
   },
   {
    "duration": 66,
    "start_time": "2023-11-05T11:22:10.170Z"
   },
   {
    "duration": 26,
    "start_time": "2023-11-05T11:22:10.256Z"
   },
   {
    "duration": 3,
    "start_time": "2023-11-05T11:22:10.285Z"
   },
   {
    "duration": 16,
    "start_time": "2023-11-05T11:22:10.289Z"
   },
   {
    "duration": 150059,
    "start_time": "2023-11-05T11:22:10.307Z"
   },
   {
    "duration": 5,
    "start_time": "2023-11-05T11:24:40.377Z"
   },
   {
    "duration": 7,
    "start_time": "2023-11-05T11:24:40.389Z"
   },
   {
    "duration": 5,
    "start_time": "2023-11-05T11:24:40.400Z"
   },
   {
    "duration": 2087,
    "start_time": "2023-11-05T11:24:40.407Z"
   },
   {
    "duration": 0,
    "start_time": "2023-11-05T11:24:42.496Z"
   },
   {
    "duration": 8,
    "start_time": "2023-11-05T11:33:39.668Z"
   },
   {
    "duration": 1552,
    "start_time": "2023-11-05T11:35:51.488Z"
   },
   {
    "duration": 5,
    "start_time": "2023-11-05T11:35:53.044Z"
   },
   {
    "duration": 1135,
    "start_time": "2023-11-05T11:35:53.051Z"
   },
   {
    "duration": 15,
    "start_time": "2023-11-05T11:35:54.187Z"
   },
   {
    "duration": 44,
    "start_time": "2023-11-05T11:35:54.204Z"
   },
   {
    "duration": 35,
    "start_time": "2023-11-05T11:35:54.249Z"
   },
   {
    "duration": 67,
    "start_time": "2023-11-05T11:35:54.286Z"
   },
   {
    "duration": 28,
    "start_time": "2023-11-05T11:35:54.355Z"
   },
   {
    "duration": 15,
    "start_time": "2023-11-05T11:35:54.385Z"
   },
   {
    "duration": 9,
    "start_time": "2023-11-05T11:35:54.402Z"
   },
   {
    "duration": 1424,
    "start_time": "2023-11-05T11:48:17.162Z"
   },
   {
    "duration": 3,
    "start_time": "2023-11-05T11:48:18.588Z"
   },
   {
    "duration": 1075,
    "start_time": "2023-11-05T11:48:18.593Z"
   },
   {
    "duration": 15,
    "start_time": "2023-11-05T11:48:19.670Z"
   },
   {
    "duration": 42,
    "start_time": "2023-11-05T11:48:19.686Z"
   },
   {
    "duration": 157,
    "start_time": "2023-11-05T11:48:19.730Z"
   },
   {
    "duration": 107,
    "start_time": "2023-11-05T11:48:19.888Z"
   },
   {
    "duration": 40,
    "start_time": "2023-11-05T11:48:19.996Z"
   },
   {
    "duration": 37,
    "start_time": "2023-11-05T11:48:20.038Z"
   },
   {
    "duration": 27,
    "start_time": "2023-11-05T11:48:20.079Z"
   },
   {
    "duration": 1631,
    "start_time": "2023-11-05T11:57:17.345Z"
   },
   {
    "duration": 3,
    "start_time": "2023-11-05T11:57:18.978Z"
   },
   {
    "duration": 1127,
    "start_time": "2023-11-05T11:57:18.982Z"
   },
   {
    "duration": 20,
    "start_time": "2023-11-05T11:57:20.111Z"
   },
   {
    "duration": 64,
    "start_time": "2023-11-05T11:57:20.133Z"
   },
   {
    "duration": 4,
    "start_time": "2023-11-05T11:57:20.198Z"
   },
   {
    "duration": 44,
    "start_time": "2023-11-05T11:57:20.204Z"
   },
   {
    "duration": 13,
    "start_time": "2023-11-05T11:57:20.251Z"
   },
   {
    "duration": 9,
    "start_time": "2023-11-05T11:57:20.266Z"
   },
   {
    "duration": 8,
    "start_time": "2023-11-05T11:57:20.278Z"
   },
   {
    "duration": 107734,
    "start_time": "2023-11-05T11:57:20.287Z"
   },
   {
    "duration": 19,
    "start_time": "2023-11-05T11:59:08.022Z"
   },
   {
    "duration": 22,
    "start_time": "2023-11-05T11:59:08.044Z"
   },
   {
    "duration": 19,
    "start_time": "2023-11-05T11:59:08.069Z"
   },
   {
    "duration": 64,
    "start_time": "2023-11-05T11:59:08.090Z"
   },
   {
    "duration": 153,
    "start_time": "2023-11-05T11:59:08.156Z"
   },
   {
    "duration": 3,
    "start_time": "2023-11-05T11:59:08.310Z"
   },
   {
    "duration": 1785,
    "start_time": "2023-11-05T12:00:35.010Z"
   },
   {
    "duration": 3,
    "start_time": "2023-11-05T12:00:36.798Z"
   },
   {
    "duration": 1095,
    "start_time": "2023-11-05T12:00:36.803Z"
   },
   {
    "duration": 17,
    "start_time": "2023-11-05T12:00:37.899Z"
   },
   {
    "duration": 194,
    "start_time": "2023-11-05T12:00:37.926Z"
   },
   {
    "duration": 38,
    "start_time": "2023-11-05T12:00:38.121Z"
   },
   {
    "duration": 78,
    "start_time": "2023-11-05T12:00:38.161Z"
   },
   {
    "duration": 15,
    "start_time": "2023-11-05T12:00:38.241Z"
   },
   {
    "duration": 19,
    "start_time": "2023-11-05T12:00:38.258Z"
   },
   {
    "duration": 11,
    "start_time": "2023-11-05T12:00:38.281Z"
   },
   {
    "duration": 114412,
    "start_time": "2023-11-05T12:00:38.294Z"
   },
   {
    "duration": 19,
    "start_time": "2023-11-05T12:02:32.708Z"
   },
   {
    "duration": 118,
    "start_time": "2023-11-05T12:02:32.729Z"
   },
   {
    "duration": 9,
    "start_time": "2023-11-05T12:02:32.849Z"
   },
   {
    "duration": 9,
    "start_time": "2023-11-05T12:02:32.859Z"
   },
   {
    "duration": 126,
    "start_time": "2023-11-05T12:02:32.870Z"
   },
   {
    "duration": 3,
    "start_time": "2023-11-05T12:02:32.998Z"
   },
   {
    "duration": 123,
    "start_time": "2023-11-05T12:37:16.956Z"
   },
   {
    "duration": 5,
    "start_time": "2023-11-05T12:37:23.938Z"
   },
   {
    "duration": 4692,
    "start_time": "2023-11-05T12:38:12.910Z"
   },
   {
    "duration": 11,
    "start_time": "2023-11-05T12:40:22.783Z"
   },
   {
    "duration": 1636,
    "start_time": "2023-11-05T12:40:48.017Z"
   },
   {
    "duration": 2,
    "start_time": "2023-11-05T12:40:49.655Z"
   },
   {
    "duration": 1037,
    "start_time": "2023-11-05T12:40:49.659Z"
   },
   {
    "duration": 15,
    "start_time": "2023-11-05T12:40:50.699Z"
   },
   {
    "duration": 20,
    "start_time": "2023-11-05T12:40:50.715Z"
   },
   {
    "duration": 4,
    "start_time": "2023-11-05T12:40:50.737Z"
   },
   {
    "duration": 34,
    "start_time": "2023-11-05T12:40:50.743Z"
   },
   {
    "duration": 11,
    "start_time": "2023-11-05T12:40:50.779Z"
   },
   {
    "duration": 5,
    "start_time": "2023-11-05T12:40:50.791Z"
   },
   {
    "duration": 28,
    "start_time": "2023-11-05T12:40:50.798Z"
   },
   {
    "duration": 94441,
    "start_time": "2023-11-05T12:40:50.829Z"
   },
   {
    "duration": 8,
    "start_time": "2023-11-05T12:42:25.272Z"
   },
   {
    "duration": 3,
    "start_time": "2023-11-05T12:42:25.282Z"
   },
   {
    "duration": 4,
    "start_time": "2023-11-05T12:42:25.287Z"
   },
   {
    "duration": 6,
    "start_time": "2023-11-05T12:42:25.292Z"
   },
   {
    "duration": 186,
    "start_time": "2023-11-05T12:42:25.300Z"
   },
   {
    "duration": 2,
    "start_time": "2023-11-05T12:42:25.488Z"
   },
   {
    "duration": 7415,
    "start_time": "2023-11-05T12:42:25.492Z"
   },
   {
    "duration": 2324,
    "start_time": "2023-11-05T12:49:18.092Z"
   },
   {
    "duration": 11,
    "start_time": "2023-11-05T12:50:55.497Z"
   },
   {
    "duration": 1572,
    "start_time": "2023-11-05T12:51:05.918Z"
   },
   {
    "duration": 3,
    "start_time": "2023-11-05T12:51:07.492Z"
   },
   {
    "duration": 1008,
    "start_time": "2023-11-05T12:51:07.497Z"
   },
   {
    "duration": 22,
    "start_time": "2023-11-05T12:51:08.507Z"
   },
   {
    "duration": 8,
    "start_time": "2023-11-05T12:51:08.540Z"
   },
   {
    "duration": 8,
    "start_time": "2023-11-05T12:51:08.549Z"
   },
   {
    "duration": 46,
    "start_time": "2023-11-05T12:51:08.558Z"
   },
   {
    "duration": 34,
    "start_time": "2023-11-05T12:51:08.605Z"
   },
   {
    "duration": 3,
    "start_time": "2023-11-05T12:51:08.642Z"
   },
   {
    "duration": 45,
    "start_time": "2023-11-05T12:51:08.647Z"
   },
   {
    "duration": 96676,
    "start_time": "2023-11-05T12:51:08.694Z"
   },
   {
    "duration": 8,
    "start_time": "2023-11-05T12:52:45.372Z"
   },
   {
    "duration": 22,
    "start_time": "2023-11-05T12:52:45.382Z"
   },
   {
    "duration": 20,
    "start_time": "2023-11-05T12:52:45.405Z"
   },
   {
    "duration": 12,
    "start_time": "2023-11-05T12:52:45.427Z"
   },
   {
    "duration": 118,
    "start_time": "2023-11-05T12:52:45.441Z"
   },
   {
    "duration": 2,
    "start_time": "2023-11-05T12:52:45.561Z"
   },
   {
    "duration": 23521,
    "start_time": "2023-11-05T12:52:45.565Z"
   },
   {
    "duration": 6590,
    "start_time": "2023-11-05T12:53:09.088Z"
   },
   {
    "duration": 1437,
    "start_time": "2023-11-05T12:56:43.057Z"
   },
   {
    "duration": 3,
    "start_time": "2023-11-05T12:56:44.496Z"
   },
   {
    "duration": 962,
    "start_time": "2023-11-05T12:56:44.501Z"
   },
   {
    "duration": 14,
    "start_time": "2023-11-05T12:56:45.465Z"
   },
   {
    "duration": 36,
    "start_time": "2023-11-05T12:56:45.481Z"
   },
   {
    "duration": 30,
    "start_time": "2023-11-05T12:56:45.519Z"
   },
   {
    "duration": 50,
    "start_time": "2023-11-05T12:56:45.550Z"
   },
   {
    "duration": 29,
    "start_time": "2023-11-05T12:56:45.601Z"
   },
   {
    "duration": 72,
    "start_time": "2023-11-05T12:56:45.632Z"
   },
   {
    "duration": 73,
    "start_time": "2023-11-05T12:56:45.706Z"
   },
   {
    "duration": 92173,
    "start_time": "2023-11-05T12:56:45.781Z"
   },
   {
    "duration": 9,
    "start_time": "2023-11-05T12:58:17.956Z"
   },
   {
    "duration": 27,
    "start_time": "2023-11-05T12:58:17.966Z"
   },
   {
    "duration": 10,
    "start_time": "2023-11-05T12:58:17.995Z"
   },
   {
    "duration": 24,
    "start_time": "2023-11-05T12:58:18.006Z"
   },
   {
    "duration": 113,
    "start_time": "2023-11-05T12:58:18.032Z"
   },
   {
    "duration": 3,
    "start_time": "2023-11-05T12:58:18.146Z"
   },
   {
    "duration": 6980,
    "start_time": "2023-11-05T12:58:18.150Z"
   },
   {
    "duration": 1923,
    "start_time": "2023-11-05T12:58:25.132Z"
   },
   {
    "duration": 1388,
    "start_time": "2023-11-05T12:59:01.050Z"
   },
   {
    "duration": 2,
    "start_time": "2023-11-05T12:59:02.440Z"
   },
   {
    "duration": 954,
    "start_time": "2023-11-05T12:59:02.444Z"
   },
   {
    "duration": 25,
    "start_time": "2023-11-05T12:59:03.400Z"
   },
   {
    "duration": 8,
    "start_time": "2023-11-05T12:59:03.427Z"
   },
   {
    "duration": 3,
    "start_time": "2023-11-05T12:59:03.436Z"
   },
   {
    "duration": 35,
    "start_time": "2023-11-05T12:59:03.440Z"
   },
   {
    "duration": 10,
    "start_time": "2023-11-05T12:59:03.477Z"
   },
   {
    "duration": 37,
    "start_time": "2023-11-05T12:59:03.489Z"
   },
   {
    "duration": 13,
    "start_time": "2023-11-05T12:59:03.528Z"
   },
   {
    "duration": 97638,
    "start_time": "2023-11-05T12:59:03.542Z"
   },
   {
    "duration": 9,
    "start_time": "2023-11-05T13:00:41.182Z"
   },
   {
    "duration": 3,
    "start_time": "2023-11-05T13:00:41.193Z"
   },
   {
    "duration": 7,
    "start_time": "2023-11-05T13:00:41.198Z"
   },
   {
    "duration": 18,
    "start_time": "2023-11-05T13:00:41.206Z"
   },
   {
    "duration": 114,
    "start_time": "2023-11-05T13:00:41.226Z"
   },
   {
    "duration": 4,
    "start_time": "2023-11-05T13:00:41.342Z"
   },
   {
    "duration": 7099,
    "start_time": "2023-11-05T13:00:41.348Z"
   },
   {
    "duration": 1888,
    "start_time": "2023-11-05T13:00:48.448Z"
   },
   {
    "duration": 5,
    "start_time": "2023-11-05T13:01:13.331Z"
   },
   {
    "duration": 3,
    "start_time": "2023-11-05T13:01:32.649Z"
   },
   {
    "duration": 1538,
    "start_time": "2023-11-05T13:03:30.620Z"
   },
   {
    "duration": 3,
    "start_time": "2023-11-05T13:03:32.160Z"
   },
   {
    "duration": 1025,
    "start_time": "2023-11-05T13:03:32.165Z"
   },
   {
    "duration": 14,
    "start_time": "2023-11-05T13:03:33.192Z"
   },
   {
    "duration": 130,
    "start_time": "2023-11-05T13:03:33.208Z"
   },
   {
    "duration": 4,
    "start_time": "2023-11-05T13:03:33.340Z"
   },
   {
    "duration": 39,
    "start_time": "2023-11-05T13:03:33.345Z"
   },
   {
    "duration": 12,
    "start_time": "2023-11-05T13:03:33.386Z"
   },
   {
    "duration": 4,
    "start_time": "2023-11-05T13:03:33.399Z"
   },
   {
    "duration": 27,
    "start_time": "2023-11-05T13:03:33.406Z"
   },
   {
    "duration": 97138,
    "start_time": "2023-11-05T13:03:33.434Z"
   },
   {
    "duration": 9,
    "start_time": "2023-11-05T13:05:10.574Z"
   },
   {
    "duration": 127,
    "start_time": "2023-11-05T13:05:10.585Z"
   },
   {
    "duration": 102,
    "start_time": "2023-11-05T13:05:10.714Z"
   },
   {
    "duration": 103,
    "start_time": "2023-11-05T13:05:10.818Z"
   },
   {
    "duration": 181,
    "start_time": "2023-11-05T13:05:10.927Z"
   },
   {
    "duration": 2,
    "start_time": "2023-11-05T13:05:11.110Z"
   },
   {
    "duration": 1052,
    "start_time": "2023-11-05T13:05:11.124Z"
   },
   {
    "duration": 0,
    "start_time": "2023-11-05T13:05:12.177Z"
   },
   {
    "duration": 0,
    "start_time": "2023-11-05T13:05:12.179Z"
   },
   {
    "duration": 12,
    "start_time": "2023-11-05T13:06:41.250Z"
   },
   {
    "duration": 1459,
    "start_time": "2023-11-05T13:06:53.523Z"
   },
   {
    "duration": 3,
    "start_time": "2023-11-05T13:06:54.984Z"
   },
   {
    "duration": 1023,
    "start_time": "2023-11-05T13:06:54.988Z"
   },
   {
    "duration": 29,
    "start_time": "2023-11-05T13:06:56.013Z"
   },
   {
    "duration": 25,
    "start_time": "2023-11-05T13:06:56.045Z"
   },
   {
    "duration": 20,
    "start_time": "2023-11-05T13:06:56.072Z"
   },
   {
    "duration": 49,
    "start_time": "2023-11-05T13:06:56.094Z"
   },
   {
    "duration": 11,
    "start_time": "2023-11-05T13:06:56.145Z"
   },
   {
    "duration": 22,
    "start_time": "2023-11-05T13:06:56.158Z"
   },
   {
    "duration": 7,
    "start_time": "2023-11-05T13:06:56.182Z"
   },
   {
    "duration": 1525,
    "start_time": "2023-11-05T13:07:17.537Z"
   },
   {
    "duration": 3,
    "start_time": "2023-11-05T13:07:19.064Z"
   },
   {
    "duration": 994,
    "start_time": "2023-11-05T13:07:19.069Z"
   },
   {
    "duration": 13,
    "start_time": "2023-11-05T13:07:20.065Z"
   },
   {
    "duration": 11,
    "start_time": "2023-11-05T13:07:20.080Z"
   },
   {
    "duration": 3,
    "start_time": "2023-11-05T13:07:20.092Z"
   },
   {
    "duration": 57,
    "start_time": "2023-11-05T13:07:20.097Z"
   },
   {
    "duration": 11,
    "start_time": "2023-11-05T13:07:20.155Z"
   },
   {
    "duration": 6,
    "start_time": "2023-11-05T13:07:20.168Z"
   },
   {
    "duration": 5,
    "start_time": "2023-11-05T13:07:20.176Z"
   },
   {
    "duration": 95537,
    "start_time": "2023-11-05T13:07:20.182Z"
   },
   {
    "duration": 15,
    "start_time": "2023-11-05T13:08:55.721Z"
   },
   {
    "duration": 3,
    "start_time": "2023-11-05T13:08:55.739Z"
   },
   {
    "duration": 6,
    "start_time": "2023-11-05T13:08:55.747Z"
   },
   {
    "duration": 3,
    "start_time": "2023-11-05T13:08:55.755Z"
   },
   {
    "duration": 141,
    "start_time": "2023-11-05T13:08:55.760Z"
   },
   {
    "duration": 3,
    "start_time": "2023-11-05T13:08:55.903Z"
   },
   {
    "duration": 26,
    "start_time": "2023-11-05T13:08:55.908Z"
   },
   {
    "duration": 12177,
    "start_time": "2023-11-05T13:08:55.942Z"
   },
   {
    "duration": 10,
    "start_time": "2023-11-05T13:09:08.123Z"
   },
   {
    "duration": 2175,
    "start_time": "2023-11-05T13:09:08.135Z"
   },
   {
    "duration": 1890,
    "start_time": "2023-11-05T13:11:48.764Z"
   },
   {
    "duration": 1890,
    "start_time": "2023-11-05T13:11:53.885Z"
   },
   {
    "duration": 1884,
    "start_time": "2023-11-05T13:12:12.151Z"
   },
   {
    "duration": 70,
    "start_time": "2023-11-05T13:13:29.572Z"
   },
   {
    "duration": 48,
    "start_time": "2023-11-05T13:13:44.288Z"
   },
   {
    "duration": 1605,
    "start_time": "2023-11-05T13:14:26.281Z"
   },
   {
    "duration": 3,
    "start_time": "2023-11-05T13:14:27.889Z"
   },
   {
    "duration": 2936,
    "start_time": "2023-11-05T13:14:27.894Z"
   },
   {
    "duration": 14,
    "start_time": "2023-11-05T13:14:30.833Z"
   },
   {
    "duration": 38,
    "start_time": "2023-11-05T13:14:30.849Z"
   },
   {
    "duration": 31,
    "start_time": "2023-11-05T13:14:30.889Z"
   },
   {
    "duration": 63,
    "start_time": "2023-11-05T13:14:30.922Z"
   },
   {
    "duration": 46,
    "start_time": "2023-11-05T13:14:30.986Z"
   },
   {
    "duration": 45,
    "start_time": "2023-11-05T13:14:31.034Z"
   },
   {
    "duration": 30,
    "start_time": "2023-11-05T13:14:31.081Z"
   },
   {
    "duration": 96063,
    "start_time": "2023-11-05T13:14:31.113Z"
   },
   {
    "duration": 8,
    "start_time": "2023-11-05T13:16:07.178Z"
   },
   {
    "duration": 21,
    "start_time": "2023-11-05T13:16:07.188Z"
   },
   {
    "duration": 12,
    "start_time": "2023-11-05T13:16:07.210Z"
   },
   {
    "duration": 8,
    "start_time": "2023-11-05T13:16:07.229Z"
   },
   {
    "duration": 106,
    "start_time": "2023-11-05T13:16:07.240Z"
   },
   {
    "duration": 2,
    "start_time": "2023-11-05T13:16:07.348Z"
   },
   {
    "duration": 8,
    "start_time": "2023-11-05T13:16:07.352Z"
   },
   {
    "duration": 12326,
    "start_time": "2023-11-05T13:16:07.361Z"
   },
   {
    "duration": 3,
    "start_time": "2023-11-05T13:16:19.689Z"
   },
   {
    "duration": 111,
    "start_time": "2023-11-05T13:16:19.693Z"
   },
   {
    "duration": 53,
    "start_time": "2023-11-05T13:16:32.603Z"
   },
   {
    "duration": 105,
    "start_time": "2023-11-05T13:21:10.159Z"
   },
   {
    "duration": 1578,
    "start_time": "2023-11-05T13:22:01.320Z"
   },
   {
    "duration": 3,
    "start_time": "2023-11-05T13:22:02.900Z"
   },
   {
    "duration": 2666,
    "start_time": "2023-11-05T13:22:02.905Z"
   },
   {
    "duration": 13,
    "start_time": "2023-11-05T13:22:05.573Z"
   },
   {
    "duration": 64,
    "start_time": "2023-11-05T13:22:05.588Z"
   },
   {
    "duration": 30,
    "start_time": "2023-11-05T13:22:05.653Z"
   },
   {
    "duration": 69,
    "start_time": "2023-11-05T13:22:05.684Z"
   },
   {
    "duration": 35,
    "start_time": "2023-11-05T13:22:05.755Z"
   },
   {
    "duration": 94,
    "start_time": "2023-11-05T13:22:05.792Z"
   },
   {
    "duration": 108,
    "start_time": "2023-11-05T13:22:05.888Z"
   },
   {
    "duration": 96663,
    "start_time": "2023-11-05T13:22:05.998Z"
   },
   {
    "duration": 8,
    "start_time": "2023-11-05T13:23:42.663Z"
   },
   {
    "duration": 4,
    "start_time": "2023-11-05T13:23:42.672Z"
   },
   {
    "duration": 4,
    "start_time": "2023-11-05T13:23:42.678Z"
   },
   {
    "duration": 15,
    "start_time": "2023-11-05T13:23:42.683Z"
   },
   {
    "duration": 111,
    "start_time": "2023-11-05T13:23:42.700Z"
   },
   {
    "duration": 3,
    "start_time": "2023-11-05T13:23:42.812Z"
   },
   {
    "duration": 14,
    "start_time": "2023-11-05T13:23:42.816Z"
   },
   {
    "duration": 12287,
    "start_time": "2023-11-05T13:23:42.834Z"
   },
   {
    "duration": 12,
    "start_time": "2023-11-05T13:23:55.123Z"
   },
   {
    "duration": 2218,
    "start_time": "2023-11-05T13:23:55.136Z"
   },
   {
    "duration": 7833,
    "start_time": "2023-11-05T13:25:19.709Z"
   },
   {
    "duration": 7651,
    "start_time": "2023-11-05T13:26:59.827Z"
   },
   {
    "duration": 14,
    "start_time": "2023-11-05T13:27:52.631Z"
   },
   {
    "duration": 5,
    "start_time": "2023-11-05T13:29:49.024Z"
   },
   {
    "duration": 6,
    "start_time": "2023-11-05T13:30:00.197Z"
   },
   {
    "duration": 3,
    "start_time": "2023-11-05T13:30:15.815Z"
   },
   {
    "duration": 8426,
    "start_time": "2023-11-05T13:30:18.116Z"
   },
   {
    "duration": 4,
    "start_time": "2023-11-05T13:30:48.312Z"
   },
   {
    "duration": 3,
    "start_time": "2023-11-05T13:31:25.573Z"
   },
   {
    "duration": 8564,
    "start_time": "2023-11-05T13:31:27.463Z"
   },
   {
    "duration": 13,
    "start_time": "2023-11-05T13:32:08.071Z"
   },
   {
    "duration": 9,
    "start_time": "2023-11-05T13:32:42.559Z"
   },
   {
    "duration": 10,
    "start_time": "2023-11-05T13:33:04.044Z"
   },
   {
    "duration": 4,
    "start_time": "2023-11-05T13:33:19.563Z"
   },
   {
    "duration": 6877,
    "start_time": "2023-11-05T13:35:24.548Z"
   },
   {
    "duration": 8230,
    "start_time": "2023-11-05T13:35:36.586Z"
   },
   {
    "duration": 8200,
    "start_time": "2023-11-05T13:35:54.133Z"
   },
   {
    "duration": 1367,
    "start_time": "2023-11-05T13:36:11.558Z"
   },
   {
    "duration": 4,
    "start_time": "2023-11-05T13:36:12.926Z"
   },
   {
    "duration": 953,
    "start_time": "2023-11-05T13:36:12.931Z"
   },
   {
    "duration": 14,
    "start_time": "2023-11-05T13:36:13.886Z"
   },
   {
    "duration": 14,
    "start_time": "2023-11-05T13:36:13.901Z"
   },
   {
    "duration": 3,
    "start_time": "2023-11-05T13:36:13.924Z"
   },
   {
    "duration": 43,
    "start_time": "2023-11-05T13:36:13.929Z"
   },
   {
    "duration": 11,
    "start_time": "2023-11-05T13:36:13.974Z"
   },
   {
    "duration": 11,
    "start_time": "2023-11-05T13:36:13.987Z"
   },
   {
    "duration": 9,
    "start_time": "2023-11-05T13:36:14.001Z"
   },
   {
    "duration": 90394,
    "start_time": "2023-11-05T13:36:14.011Z"
   },
   {
    "duration": 17,
    "start_time": "2023-11-05T13:37:44.407Z"
   },
   {
    "duration": 9,
    "start_time": "2023-11-05T13:37:44.425Z"
   },
   {
    "duration": 88,
    "start_time": "2023-11-05T13:37:44.435Z"
   },
   {
    "duration": 80,
    "start_time": "2023-11-05T13:37:44.525Z"
   },
   {
    "duration": 101,
    "start_time": "2023-11-05T13:37:44.607Z"
   },
   {
    "duration": 2,
    "start_time": "2023-11-05T13:37:44.710Z"
   },
   {
    "duration": 58,
    "start_time": "2023-11-05T13:37:44.714Z"
   },
   {
    "duration": 6733,
    "start_time": "2023-11-05T13:37:44.774Z"
   },
   {
    "duration": 4,
    "start_time": "2023-11-05T13:37:51.510Z"
   },
   {
    "duration": 8950,
    "start_time": "2023-11-05T13:37:51.523Z"
   },
   {
    "duration": 4,
    "start_time": "2023-11-06T11:40:47.239Z"
   },
   {
    "duration": 49,
    "start_time": "2023-11-06T11:41:52.059Z"
   },
   {
    "duration": 1579,
    "start_time": "2023-11-06T11:42:12.743Z"
   },
   {
    "duration": 3,
    "start_time": "2023-11-06T11:42:14.324Z"
   },
   {
    "duration": 3331,
    "start_time": "2023-11-06T11:42:14.329Z"
   },
   {
    "duration": 14,
    "start_time": "2023-11-06T11:42:17.663Z"
   },
   {
    "duration": 8,
    "start_time": "2023-11-06T11:42:17.679Z"
   },
   {
    "duration": 9,
    "start_time": "2023-11-06T11:42:17.688Z"
   },
   {
    "duration": 33,
    "start_time": "2023-11-06T11:42:17.699Z"
   },
   {
    "duration": 10,
    "start_time": "2023-11-06T11:42:17.734Z"
   },
   {
    "duration": 12,
    "start_time": "2023-11-06T11:42:17.746Z"
   },
   {
    "duration": 3,
    "start_time": "2023-11-06T11:42:17.768Z"
   },
   {
    "duration": 91612,
    "start_time": "2023-11-06T11:42:17.773Z"
   },
   {
    "duration": 8,
    "start_time": "2023-11-06T11:43:49.386Z"
   },
   {
    "duration": 6,
    "start_time": "2023-11-06T11:43:49.396Z"
   },
   {
    "duration": 4,
    "start_time": "2023-11-06T11:43:49.403Z"
   },
   {
    "duration": 4,
    "start_time": "2023-11-06T11:43:49.408Z"
   },
   {
    "duration": 6,
    "start_time": "2023-11-06T11:43:49.413Z"
   },
   {
    "duration": 9,
    "start_time": "2023-11-06T11:43:49.420Z"
   },
   {
    "duration": 102,
    "start_time": "2023-11-06T11:43:49.430Z"
   },
   {
    "duration": 2,
    "start_time": "2023-11-06T11:43:49.534Z"
   },
   {
    "duration": 4,
    "start_time": "2023-11-06T11:43:49.537Z"
   },
   {
    "duration": 5,
    "start_time": "2023-11-06T11:43:49.543Z"
   },
   {
    "duration": 20,
    "start_time": "2023-11-06T11:43:49.550Z"
   },
   {
    "duration": 119,
    "start_time": "2023-11-06T11:44:07.065Z"
   },
   {
    "duration": 6900,
    "start_time": "2023-11-06T11:44:12.490Z"
   },
   {
    "duration": 9165,
    "start_time": "2023-11-06T11:46:43.231Z"
   },
   {
    "duration": 9269,
    "start_time": "2023-11-06T11:47:30.117Z"
   },
   {
    "duration": 9324,
    "start_time": "2023-11-06T11:47:48.474Z"
   },
   {
    "duration": 55,
    "start_time": "2023-11-06T17:08:52.657Z"
   },
   {
    "duration": 1361,
    "start_time": "2023-11-06T17:09:53.901Z"
   },
   {
    "duration": 3,
    "start_time": "2023-11-06T17:09:55.264Z"
   },
   {
    "duration": 2280,
    "start_time": "2023-11-06T17:09:55.268Z"
   },
   {
    "duration": 12,
    "start_time": "2023-11-06T17:09:57.550Z"
   },
   {
    "duration": 7,
    "start_time": "2023-11-06T17:09:57.564Z"
   },
   {
    "duration": 3,
    "start_time": "2023-11-06T17:09:57.572Z"
   },
   {
    "duration": 26,
    "start_time": "2023-11-06T17:09:57.576Z"
   },
   {
    "duration": 7,
    "start_time": "2023-11-06T17:09:57.603Z"
   },
   {
    "duration": 8,
    "start_time": "2023-11-06T17:09:57.612Z"
   },
   {
    "duration": 7,
    "start_time": "2023-11-06T17:09:57.621Z"
   },
   {
    "duration": 87191,
    "start_time": "2023-11-06T17:09:57.629Z"
   },
   {
    "duration": 8,
    "start_time": "2023-11-06T17:11:24.821Z"
   },
   {
    "duration": 2,
    "start_time": "2023-11-06T17:11:24.840Z"
   },
   {
    "duration": 5,
    "start_time": "2023-11-06T17:11:24.845Z"
   },
   {
    "duration": 5,
    "start_time": "2023-11-06T17:11:24.851Z"
   },
   {
    "duration": 4,
    "start_time": "2023-11-06T17:11:24.857Z"
   },
   {
    "duration": 5,
    "start_time": "2023-11-06T17:11:24.862Z"
   },
   {
    "duration": 189,
    "start_time": "2023-11-06T17:11:24.868Z"
   },
   {
    "duration": 0,
    "start_time": "2023-11-06T17:11:25.058Z"
   },
   {
    "duration": 0,
    "start_time": "2023-11-06T17:11:25.060Z"
   },
   {
    "duration": 0,
    "start_time": "2023-11-06T17:11:25.060Z"
   },
   {
    "duration": 0,
    "start_time": "2023-11-06T17:11:25.061Z"
   },
   {
    "duration": 0,
    "start_time": "2023-11-06T17:11:25.062Z"
   },
   {
    "duration": 73,
    "start_time": "2023-11-06T17:11:53.232Z"
   },
   {
    "duration": 6103,
    "start_time": "2023-11-06T17:12:15.617Z"
   },
   {
    "duration": 4838,
    "start_time": "2023-11-06T17:13:01.909Z"
   },
   {
    "duration": 5190,
    "start_time": "2023-11-06T17:13:18.755Z"
   },
   {
    "duration": 4,
    "start_time": "2023-11-06T17:44:49.880Z"
   },
   {
    "duration": 101589,
    "start_time": "2023-11-06T17:46:31.308Z"
   },
   {
    "duration": 105317,
    "start_time": "2023-11-06T17:51:33.204Z"
   },
   {
    "duration": 7,
    "start_time": "2023-11-06T17:54:07.978Z"
   },
   {
    "duration": 8,
    "start_time": "2023-11-06T17:54:11.382Z"
   },
   {
    "duration": 3,
    "start_time": "2023-11-06T17:54:45.819Z"
   },
   {
    "duration": 3,
    "start_time": "2023-11-06T17:54:49.689Z"
   },
   {
    "duration": 8,
    "start_time": "2023-11-06T17:55:32.201Z"
   },
   {
    "duration": 7,
    "start_time": "2023-11-06T17:55:55.862Z"
   },
   {
    "duration": 7,
    "start_time": "2023-11-06T17:55:59.237Z"
   },
   {
    "duration": 14,
    "start_time": "2023-11-06T17:56:05.461Z"
   },
   {
    "duration": 1328,
    "start_time": "2023-11-06T18:01:16.505Z"
   },
   {
    "duration": 3,
    "start_time": "2023-11-06T18:01:17.834Z"
   },
   {
    "duration": 833,
    "start_time": "2023-11-06T18:01:17.838Z"
   },
   {
    "duration": 12,
    "start_time": "2023-11-06T18:01:18.673Z"
   },
   {
    "duration": 7,
    "start_time": "2023-11-06T18:01:18.686Z"
   },
   {
    "duration": 3,
    "start_time": "2023-11-06T18:01:18.695Z"
   },
   {
    "duration": 48,
    "start_time": "2023-11-06T18:01:18.699Z"
   },
   {
    "duration": 8,
    "start_time": "2023-11-06T18:01:18.748Z"
   },
   {
    "duration": 4,
    "start_time": "2023-11-06T18:01:18.757Z"
   },
   {
    "duration": 2,
    "start_time": "2023-11-06T18:01:18.763Z"
   },
   {
    "duration": 86534,
    "start_time": "2023-11-06T18:01:18.766Z"
   },
   {
    "duration": 7,
    "start_time": "2023-11-06T18:02:45.302Z"
   },
   {
    "duration": 8,
    "start_time": "2023-11-06T18:02:45.310Z"
   },
   {
    "duration": 22,
    "start_time": "2023-11-06T18:02:45.319Z"
   },
   {
    "duration": 20,
    "start_time": "2023-11-06T18:02:45.342Z"
   },
   {
    "duration": 17,
    "start_time": "2023-11-06T18:02:45.363Z"
   },
   {
    "duration": 25,
    "start_time": "2023-11-06T18:02:45.381Z"
   },
   {
    "duration": 95,
    "start_time": "2023-11-06T18:02:45.407Z"
   },
   {
    "duration": 6053,
    "start_time": "2023-11-06T18:02:45.504Z"
   },
   {
    "duration": 4686,
    "start_time": "2023-11-06T18:02:51.559Z"
   },
   {
    "duration": 191100,
    "start_time": "2023-11-06T18:02:56.247Z"
   },
   {
    "duration": 13,
    "start_time": "2023-11-06T18:06:07.349Z"
   },
   {
    "duration": 12,
    "start_time": "2023-11-06T18:06:07.363Z"
   },
   {
    "duration": 3,
    "start_time": "2023-11-06T18:06:07.377Z"
   },
   {
    "duration": 136,
    "start_time": "2023-11-06T18:07:02.919Z"
   },
   {
    "duration": 1504,
    "start_time": "2023-11-06T18:12:24.857Z"
   },
   {
    "duration": 4,
    "start_time": "2023-11-06T18:12:26.363Z"
   },
   {
    "duration": 877,
    "start_time": "2023-11-06T18:12:26.369Z"
   },
   {
    "duration": 16,
    "start_time": "2023-11-06T18:12:27.247Z"
   },
   {
    "duration": 7,
    "start_time": "2023-11-06T18:12:27.265Z"
   },
   {
    "duration": 4,
    "start_time": "2023-11-06T18:12:27.273Z"
   },
   {
    "duration": 45,
    "start_time": "2023-11-06T18:12:27.278Z"
   },
   {
    "duration": 16,
    "start_time": "2023-11-06T18:12:27.324Z"
   },
   {
    "duration": 3,
    "start_time": "2023-11-06T18:12:27.341Z"
   },
   {
    "duration": 4,
    "start_time": "2023-11-06T18:12:27.345Z"
   },
   {
    "duration": 98652,
    "start_time": "2023-11-06T18:12:27.350Z"
   },
   {
    "duration": 8,
    "start_time": "2023-11-06T18:14:06.003Z"
   },
   {
    "duration": 3,
    "start_time": "2023-11-06T18:14:06.012Z"
   },
   {
    "duration": 4,
    "start_time": "2023-11-06T18:14:06.018Z"
   },
   {
    "duration": 2,
    "start_time": "2023-11-06T18:14:06.042Z"
   },
   {
    "duration": 15,
    "start_time": "2023-11-06T18:14:06.045Z"
   },
   {
    "duration": 9,
    "start_time": "2023-11-06T18:14:06.061Z"
   },
   {
    "duration": 92,
    "start_time": "2023-11-06T18:14:06.071Z"
   },
   {
    "duration": 6400,
    "start_time": "2023-11-06T18:14:06.165Z"
   },
   {
    "duration": 4783,
    "start_time": "2023-11-06T18:14:12.567Z"
   },
   {
    "duration": 215088,
    "start_time": "2023-11-06T18:14:17.351Z"
   },
   {
    "duration": 22,
    "start_time": "2023-11-06T18:17:52.441Z"
   },
   {
    "duration": 1449,
    "start_time": "2023-11-06T18:20:50.152Z"
   },
   {
    "duration": 3,
    "start_time": "2023-11-06T18:20:51.603Z"
   },
   {
    "duration": 929,
    "start_time": "2023-11-06T18:20:51.607Z"
   },
   {
    "duration": 17,
    "start_time": "2023-11-06T18:20:52.548Z"
   },
   {
    "duration": 18,
    "start_time": "2023-11-06T18:20:52.567Z"
   },
   {
    "duration": 8,
    "start_time": "2023-11-06T18:20:52.587Z"
   },
   {
    "duration": 51,
    "start_time": "2023-11-06T18:20:52.597Z"
   },
   {
    "duration": 11,
    "start_time": "2023-11-06T18:20:52.651Z"
   },
   {
    "duration": 30,
    "start_time": "2023-11-06T18:20:52.664Z"
   },
   {
    "duration": 5,
    "start_time": "2023-11-06T18:20:52.696Z"
   },
   {
    "duration": 97177,
    "start_time": "2023-11-06T18:20:52.703Z"
   },
   {
    "duration": 7,
    "start_time": "2023-11-06T18:22:29.882Z"
   },
   {
    "duration": 3,
    "start_time": "2023-11-06T18:22:29.891Z"
   },
   {
    "duration": 6,
    "start_time": "2023-11-06T18:22:29.896Z"
   },
   {
    "duration": 8,
    "start_time": "2023-11-06T18:22:29.905Z"
   },
   {
    "duration": 5,
    "start_time": "2023-11-06T18:22:29.915Z"
   },
   {
    "duration": 26,
    "start_time": "2023-11-06T18:22:29.922Z"
   },
   {
    "duration": 98,
    "start_time": "2023-11-06T18:22:29.950Z"
   },
   {
    "duration": 6551,
    "start_time": "2023-11-06T18:22:30.050Z"
   },
   {
    "duration": 6055,
    "start_time": "2023-11-06T18:22:36.602Z"
   },
   {
    "duration": 219289,
    "start_time": "2023-11-06T18:22:42.659Z"
   },
   {
    "duration": 15,
    "start_time": "2023-11-06T18:26:21.951Z"
   },
   {
    "duration": 1474,
    "start_time": "2023-11-06T20:26:12.269Z"
   },
   {
    "duration": 3,
    "start_time": "2023-11-06T20:26:13.745Z"
   },
   {
    "duration": 845,
    "start_time": "2023-11-06T20:26:13.749Z"
   },
   {
    "duration": 13,
    "start_time": "2023-11-06T20:26:14.596Z"
   },
   {
    "duration": 7,
    "start_time": "2023-11-06T20:26:14.611Z"
   },
   {
    "duration": 3,
    "start_time": "2023-11-06T20:26:14.619Z"
   },
   {
    "duration": 25,
    "start_time": "2023-11-06T20:26:14.639Z"
   },
   {
    "duration": 8,
    "start_time": "2023-11-06T20:26:14.665Z"
   },
   {
    "duration": 7,
    "start_time": "2023-11-06T20:26:14.674Z"
   },
   {
    "duration": 6,
    "start_time": "2023-11-06T20:26:14.683Z"
   },
   {
    "duration": 93195,
    "start_time": "2023-11-06T20:26:14.691Z"
   },
   {
    "duration": 7,
    "start_time": "2023-11-06T20:27:47.887Z"
   },
   {
    "duration": 7,
    "start_time": "2023-11-06T20:27:47.895Z"
   },
   {
    "duration": 4,
    "start_time": "2023-11-06T20:27:47.903Z"
   },
   {
    "duration": 11,
    "start_time": "2023-11-06T20:27:47.908Z"
   },
   {
    "duration": 3,
    "start_time": "2023-11-06T20:27:47.920Z"
   },
   {
    "duration": 10,
    "start_time": "2023-11-06T20:27:47.924Z"
   },
   {
    "duration": 91,
    "start_time": "2023-11-06T20:27:47.939Z"
   },
   {
    "duration": 3,
    "start_time": "2023-11-06T20:27:48.039Z"
   },
   {
    "duration": 6242,
    "start_time": "2023-11-06T20:27:48.043Z"
   },
   {
    "duration": 2,
    "start_time": "2023-11-06T20:27:54.287Z"
   },
   {
    "duration": 198659,
    "start_time": "2023-11-06T20:27:54.290Z"
   },
   {
    "duration": 13,
    "start_time": "2023-11-06T20:31:13.040Z"
   },
   {
    "duration": 2391172,
    "start_time": "2023-11-06T20:31:13.055Z"
   },
   {
    "duration": 0,
    "start_time": "2023-11-06T21:11:04.229Z"
   },
   {
    "duration": 0,
    "start_time": "2023-11-06T21:11:04.230Z"
   },
   {
    "duration": 0,
    "start_time": "2023-11-06T21:11:04.239Z"
   },
   {
    "duration": 78,
    "start_time": "2023-11-06T21:11:17.186Z"
   },
   {
    "duration": 3,
    "start_time": "2023-11-06T21:11:22.365Z"
   },
   {
    "duration": 11,
    "start_time": "2023-11-06T21:13:47.196Z"
   },
   {
    "duration": 31,
    "start_time": "2023-11-06T21:13:59.857Z"
   },
   {
    "duration": 30,
    "start_time": "2023-11-06T21:14:30.424Z"
   },
   {
    "duration": 72210,
    "start_time": "2023-11-06T21:15:28.620Z"
   },
   {
    "duration": 199032,
    "start_time": "2023-11-06T21:17:09.855Z"
   },
   {
    "duration": 285522,
    "start_time": "2023-11-06T21:23:45.746Z"
   },
   {
    "duration": 14,
    "start_time": "2023-11-06T21:35:40.669Z"
   },
   {
    "duration": 366572,
    "start_time": "2023-11-06T21:40:10.481Z"
   },
   {
    "duration": 67549,
    "start_time": "2023-11-06T21:47:24.514Z"
   },
   {
    "duration": 551203,
    "start_time": "2023-11-06T21:57:42.771Z"
   },
   {
    "duration": 1600,
    "start_time": "2023-11-06T23:45:00.423Z"
   },
   {
    "duration": 3,
    "start_time": "2023-11-06T23:45:02.025Z"
   },
   {
    "duration": 907,
    "start_time": "2023-11-06T23:45:02.029Z"
   },
   {
    "duration": 22,
    "start_time": "2023-11-06T23:45:02.937Z"
   },
   {
    "duration": 8,
    "start_time": "2023-11-06T23:45:02.960Z"
   },
   {
    "duration": 4,
    "start_time": "2023-11-06T23:45:02.969Z"
   },
   {
    "duration": 25,
    "start_time": "2023-11-06T23:45:02.974Z"
   },
   {
    "duration": 13,
    "start_time": "2023-11-06T23:45:03.000Z"
   },
   {
    "duration": 67,
    "start_time": "2023-11-06T23:45:03.014Z"
   },
   {
    "duration": 3,
    "start_time": "2023-11-06T23:45:03.083Z"
   },
   {
    "duration": 92705,
    "start_time": "2023-11-06T23:45:03.087Z"
   },
   {
    "duration": 7,
    "start_time": "2023-11-06T23:46:35.794Z"
   },
   {
    "duration": 4,
    "start_time": "2023-11-06T23:46:35.802Z"
   },
   {
    "duration": 10,
    "start_time": "2023-11-06T23:46:35.808Z"
   },
   {
    "duration": 6,
    "start_time": "2023-11-06T23:46:35.819Z"
   },
   {
    "duration": 4,
    "start_time": "2023-11-06T23:46:35.826Z"
   },
   {
    "duration": 21,
    "start_time": "2023-11-06T23:46:35.831Z"
   },
   {
    "duration": 81,
    "start_time": "2023-11-06T23:46:35.854Z"
   },
   {
    "duration": 15,
    "start_time": "2023-11-06T23:46:35.937Z"
   },
   {
    "duration": 6361,
    "start_time": "2023-11-06T23:46:35.955Z"
   },
   {
    "duration": 2,
    "start_time": "2023-11-06T23:46:42.317Z"
   },
   {
    "duration": 214635,
    "start_time": "2023-11-06T23:46:42.321Z"
   },
   {
    "duration": 94,
    "start_time": "2023-11-06T23:50:16.958Z"
   },
   {
    "duration": 203824,
    "start_time": "2023-11-06T23:50:17.055Z"
   },
   {
    "duration": 1933244,
    "start_time": "2023-11-06T23:53:40.881Z"
   },
   {
    "duration": 1622,
    "start_time": "2023-11-07T09:01:25.465Z"
   },
   {
    "duration": 3,
    "start_time": "2023-11-07T09:01:27.089Z"
   },
   {
    "duration": 2519,
    "start_time": "2023-11-07T09:01:27.094Z"
   },
   {
    "duration": 13,
    "start_time": "2023-11-07T09:01:29.615Z"
   },
   {
    "duration": 11,
    "start_time": "2023-11-07T09:01:29.630Z"
   },
   {
    "duration": 3,
    "start_time": "2023-11-07T09:01:29.643Z"
   },
   {
    "duration": 32,
    "start_time": "2023-11-07T09:01:29.648Z"
   },
   {
    "duration": 12,
    "start_time": "2023-11-07T09:01:29.681Z"
   },
   {
    "duration": 9,
    "start_time": "2023-11-07T09:01:29.694Z"
   },
   {
    "duration": 9,
    "start_time": "2023-11-07T09:01:29.705Z"
   },
   {
    "duration": 95424,
    "start_time": "2023-11-07T09:01:29.716Z"
   },
   {
    "duration": 8,
    "start_time": "2023-11-07T09:03:05.142Z"
   },
   {
    "duration": 23,
    "start_time": "2023-11-07T09:03:05.152Z"
   },
   {
    "duration": 14,
    "start_time": "2023-11-07T09:03:05.176Z"
   },
   {
    "duration": 17,
    "start_time": "2023-11-07T09:03:05.191Z"
   },
   {
    "duration": 26,
    "start_time": "2023-11-07T09:03:05.209Z"
   },
   {
    "duration": 8,
    "start_time": "2023-11-07T09:03:05.237Z"
   },
   {
    "duration": 124,
    "start_time": "2023-11-07T09:03:05.247Z"
   },
   {
    "duration": 3,
    "start_time": "2023-11-07T09:03:05.373Z"
   },
   {
    "duration": 6436,
    "start_time": "2023-11-07T09:03:05.377Z"
   },
   {
    "duration": 2,
    "start_time": "2023-11-07T09:03:11.815Z"
   },
   {
    "duration": 246338,
    "start_time": "2023-11-07T09:03:11.818Z"
   },
   {
    "duration": 16,
    "start_time": "2023-11-07T09:07:18.157Z"
   },
   {
    "duration": 1658,
    "start_time": "2023-11-07T09:08:59.298Z"
   },
   {
    "duration": 2,
    "start_time": "2023-11-07T09:09:00.959Z"
   },
   {
    "duration": 918,
    "start_time": "2023-11-07T09:09:00.963Z"
   },
   {
    "duration": 12,
    "start_time": "2023-11-07T09:09:01.883Z"
   },
   {
    "duration": 133,
    "start_time": "2023-11-07T09:09:01.897Z"
   },
   {
    "duration": 97,
    "start_time": "2023-11-07T09:09:02.031Z"
   },
   {
    "duration": 74,
    "start_time": "2023-11-07T09:09:02.129Z"
   },
   {
    "duration": 197,
    "start_time": "2023-11-07T09:09:02.205Z"
   },
   {
    "duration": 41,
    "start_time": "2023-11-07T09:09:02.403Z"
   },
   {
    "duration": 49,
    "start_time": "2023-11-07T09:09:02.445Z"
   },
   {
    "duration": 91065,
    "start_time": "2023-11-07T09:09:02.496Z"
   },
   {
    "duration": 8,
    "start_time": "2023-11-07T09:10:33.563Z"
   },
   {
    "duration": 8,
    "start_time": "2023-11-07T09:10:33.573Z"
   },
   {
    "duration": 9,
    "start_time": "2023-11-07T09:10:33.584Z"
   },
   {
    "duration": 14,
    "start_time": "2023-11-07T09:10:33.595Z"
   },
   {
    "duration": 9,
    "start_time": "2023-11-07T09:10:33.611Z"
   },
   {
    "duration": 5,
    "start_time": "2023-11-07T09:10:33.621Z"
   },
   {
    "duration": 129,
    "start_time": "2023-11-07T09:10:33.628Z"
   },
   {
    "duration": 3,
    "start_time": "2023-11-07T09:10:33.759Z"
   },
   {
    "duration": 6532,
    "start_time": "2023-11-07T09:10:33.764Z"
   },
   {
    "duration": 2,
    "start_time": "2023-11-07T09:10:40.298Z"
   },
   {
    "duration": 258156,
    "start_time": "2023-11-07T09:10:40.302Z"
   },
   {
    "duration": 14,
    "start_time": "2023-11-07T09:14:58.460Z"
   },
   {
    "duration": 215426,
    "start_time": "2023-11-07T09:14:58.476Z"
   },
   {
    "duration": 1722,
    "start_time": "2023-11-07T09:23:37.643Z"
   },
   {
    "duration": 3,
    "start_time": "2023-11-07T09:23:39.367Z"
   },
   {
    "duration": 970,
    "start_time": "2023-11-07T09:23:39.371Z"
   },
   {
    "duration": 13,
    "start_time": "2023-11-07T09:23:40.343Z"
   },
   {
    "duration": 22,
    "start_time": "2023-11-07T09:23:40.357Z"
   },
   {
    "duration": 13,
    "start_time": "2023-11-07T09:23:40.381Z"
   },
   {
    "duration": 44,
    "start_time": "2023-11-07T09:23:40.396Z"
   },
   {
    "duration": 33,
    "start_time": "2023-11-07T09:23:40.442Z"
   },
   {
    "duration": 14,
    "start_time": "2023-11-07T09:23:40.477Z"
   },
   {
    "duration": 41,
    "start_time": "2023-11-07T09:23:40.494Z"
   },
   {
    "duration": 7270,
    "start_time": "2023-11-07T09:23:40.537Z"
   },
   {
    "duration": 8,
    "start_time": "2023-11-07T09:23:47.809Z"
   },
   {
    "duration": 78,
    "start_time": "2023-11-07T09:23:47.818Z"
   },
   {
    "duration": 20,
    "start_time": "2023-11-07T09:23:47.898Z"
   },
   {
    "duration": 26,
    "start_time": "2023-11-07T09:23:47.920Z"
   },
   {
    "duration": 21,
    "start_time": "2023-11-07T09:23:47.948Z"
   },
   {
    "duration": 41,
    "start_time": "2023-11-07T09:23:47.971Z"
   },
   {
    "duration": 149,
    "start_time": "2023-11-07T09:23:48.013Z"
   },
   {
    "duration": 3,
    "start_time": "2023-11-07T09:23:48.164Z"
   },
   {
    "duration": 6754,
    "start_time": "2023-11-07T09:23:48.169Z"
   },
   {
    "duration": 2,
    "start_time": "2023-11-07T09:23:54.925Z"
   },
   {
    "duration": 1945,
    "start_time": "2023-11-07T09:26:32.113Z"
   },
   {
    "duration": 3,
    "start_time": "2023-11-07T09:26:34.060Z"
   },
   {
    "duration": 984,
    "start_time": "2023-11-07T09:26:34.064Z"
   },
   {
    "duration": 17,
    "start_time": "2023-11-07T09:26:35.051Z"
   },
   {
    "duration": 16,
    "start_time": "2023-11-07T09:26:35.070Z"
   },
   {
    "duration": 29,
    "start_time": "2023-11-07T09:26:35.088Z"
   },
   {
    "duration": 62,
    "start_time": "2023-11-07T09:26:35.119Z"
   },
   {
    "duration": 16,
    "start_time": "2023-11-07T09:26:35.183Z"
   },
   {
    "duration": 24,
    "start_time": "2023-11-07T09:26:35.201Z"
   },
   {
    "duration": 24,
    "start_time": "2023-11-07T09:26:35.227Z"
   },
   {
    "duration": 7112,
    "start_time": "2023-11-07T09:26:35.252Z"
   },
   {
    "duration": 8,
    "start_time": "2023-11-07T09:26:42.366Z"
   },
   {
    "duration": 7,
    "start_time": "2023-11-07T09:26:42.376Z"
   },
   {
    "duration": 14,
    "start_time": "2023-11-07T09:26:42.385Z"
   },
   {
    "duration": 25,
    "start_time": "2023-11-07T09:26:42.401Z"
   },
   {
    "duration": 16,
    "start_time": "2023-11-07T09:26:42.428Z"
   },
   {
    "duration": 26,
    "start_time": "2023-11-07T09:26:42.445Z"
   },
   {
    "duration": 142,
    "start_time": "2023-11-07T09:26:42.472Z"
   },
   {
    "duration": 2,
    "start_time": "2023-11-07T09:26:42.616Z"
   },
   {
    "duration": 6684,
    "start_time": "2023-11-07T09:26:42.620Z"
   },
   {
    "duration": 3,
    "start_time": "2023-11-07T09:26:49.306Z"
   },
   {
    "duration": 357952,
    "start_time": "2023-11-07T09:26:49.310Z"
   },
   {
    "duration": 16,
    "start_time": "2023-11-07T09:32:47.264Z"
   },
   {
    "duration": 223901,
    "start_time": "2023-11-07T09:32:47.282Z"
   },
   {
    "duration": 366081,
    "start_time": "2023-11-07T09:36:31.185Z"
   },
   {
    "duration": 932195,
    "start_time": "2023-11-07T09:42:37.267Z"
   },
   {
    "duration": 3,
    "start_time": "2023-11-07T09:58:09.463Z"
   },
   {
    "duration": 38,
    "start_time": "2023-11-07T09:58:09.468Z"
   },
   {
    "duration": 122,
    "start_time": "2023-11-07T10:57:32.589Z"
   },
   {
    "duration": 11,
    "start_time": "2023-11-07T10:57:37.970Z"
   },
   {
    "duration": 11,
    "start_time": "2023-11-07T10:57:41.656Z"
   },
   {
    "duration": 19,
    "start_time": "2023-11-07T10:57:48.491Z"
   },
   {
    "duration": 15,
    "start_time": "2023-11-07T10:57:53.276Z"
   },
   {
    "duration": 409,
    "start_time": "2023-11-07T10:59:31.764Z"
   },
   {
    "duration": 160,
    "start_time": "2023-11-07T10:59:42.230Z"
   },
   {
    "duration": 366,
    "start_time": "2023-11-07T11:00:40.051Z"
   },
   {
    "duration": 11,
    "start_time": "2023-11-07T11:00:56.068Z"
   },
   {
    "duration": 8,
    "start_time": "2023-11-07T11:01:02.412Z"
   },
   {
    "duration": 192,
    "start_time": "2023-11-07T11:01:05.478Z"
   },
   {
    "duration": 185,
    "start_time": "2023-11-07T11:01:20.367Z"
   },
   {
    "duration": 186,
    "start_time": "2023-11-07T11:01:24.872Z"
   },
   {
    "duration": 190,
    "start_time": "2023-11-07T11:09:23.926Z"
   },
   {
    "duration": 2415,
    "start_time": "2023-11-07T11:09:30.735Z"
   },
   {
    "duration": 192,
    "start_time": "2023-11-07T11:09:38.485Z"
   },
   {
    "duration": 179,
    "start_time": "2023-11-07T11:11:04.714Z"
   },
   {
    "duration": 1561,
    "start_time": "2023-11-07T11:11:11.434Z"
   },
   {
    "duration": 3,
    "start_time": "2023-11-07T11:11:12.998Z"
   },
   {
    "duration": 981,
    "start_time": "2023-11-07T11:11:13.003Z"
   },
   {
    "duration": 15,
    "start_time": "2023-11-07T11:11:13.986Z"
   },
   {
    "duration": 24,
    "start_time": "2023-11-07T11:11:14.003Z"
   },
   {
    "duration": 20,
    "start_time": "2023-11-07T11:11:14.029Z"
   },
   {
    "duration": 34,
    "start_time": "2023-11-07T11:11:14.051Z"
   },
   {
    "duration": 10,
    "start_time": "2023-11-07T11:11:14.087Z"
   },
   {
    "duration": 20,
    "start_time": "2023-11-07T11:11:14.098Z"
   },
   {
    "duration": 23,
    "start_time": "2023-11-07T11:11:14.120Z"
   },
   {
    "duration": 7339,
    "start_time": "2023-11-07T11:11:14.144Z"
   },
   {
    "duration": 7,
    "start_time": "2023-11-07T11:11:21.485Z"
   },
   {
    "duration": 200,
    "start_time": "2023-11-07T11:11:21.494Z"
   },
   {
    "duration": 82,
    "start_time": "2023-11-07T11:11:21.697Z"
   },
   {
    "duration": 3,
    "start_time": "2023-11-07T11:11:21.780Z"
   },
   {
    "duration": 6713,
    "start_time": "2023-11-07T11:11:21.784Z"
   },
   {
    "duration": 2,
    "start_time": "2023-11-07T11:11:28.499Z"
   },
   {
    "duration": 365954,
    "start_time": "2023-11-07T11:11:28.502Z"
   },
   {
    "duration": 18,
    "start_time": "2023-11-07T11:17:34.459Z"
   },
   {
    "duration": 214068,
    "start_time": "2023-11-07T11:17:34.479Z"
   },
   {
    "duration": 351171,
    "start_time": "2023-11-07T11:21:08.549Z"
   },
   {
    "duration": 516735,
    "start_time": "2023-11-07T11:26:59.722Z"
   },
   {
    "duration": 3,
    "start_time": "2023-11-07T11:35:36.458Z"
   },
   {
    "duration": 23,
    "start_time": "2023-11-07T11:35:36.462Z"
   },
   {
    "duration": 420,
    "start_time": "2023-11-07T11:54:24.516Z"
   },
   {
    "duration": 2913,
    "start_time": "2023-11-07T11:58:26.008Z"
   },
   {
    "duration": 3,
    "start_time": "2023-11-07T11:58:28.922Z"
   },
   {
    "duration": 930,
    "start_time": "2023-11-07T11:58:28.927Z"
   },
   {
    "duration": 14,
    "start_time": "2023-11-07T11:58:29.859Z"
   },
   {
    "duration": 8,
    "start_time": "2023-11-07T11:58:29.875Z"
   },
   {
    "duration": 14,
    "start_time": "2023-11-07T11:58:29.885Z"
   },
   {
    "duration": 43,
    "start_time": "2023-11-07T11:58:29.901Z"
   },
   {
    "duration": 11,
    "start_time": "2023-11-07T11:58:29.946Z"
   },
   {
    "duration": 7424,
    "start_time": "2023-11-07T11:58:29.959Z"
   },
   {
    "duration": 7,
    "start_time": "2023-11-07T11:58:37.384Z"
   },
   {
    "duration": 214,
    "start_time": "2023-11-07T11:58:37.393Z"
   },
   {
    "duration": 391,
    "start_time": "2023-11-07T11:58:37.609Z"
   },
   {
    "duration": 74,
    "start_time": "2023-11-07T11:58:38.002Z"
   },
   {
    "duration": 5475,
    "start_time": "2023-11-07T11:58:38.079Z"
   },
   {
    "duration": 0,
    "start_time": "2023-11-07T11:58:43.556Z"
   },
   {
    "duration": 0,
    "start_time": "2023-11-07T11:58:43.557Z"
   },
   {
    "duration": 0,
    "start_time": "2023-11-07T11:58:43.559Z"
   },
   {
    "duration": 0,
    "start_time": "2023-11-07T11:58:43.560Z"
   },
   {
    "duration": 0,
    "start_time": "2023-11-07T11:58:43.561Z"
   },
   {
    "duration": 0,
    "start_time": "2023-11-07T11:58:43.562Z"
   },
   {
    "duration": 0,
    "start_time": "2023-11-07T11:58:43.563Z"
   },
   {
    "duration": 11,
    "start_time": "2023-11-07T12:10:00.851Z"
   },
   {
    "duration": 1929,
    "start_time": "2023-11-07T12:10:13.344Z"
   },
   {
    "duration": 3,
    "start_time": "2023-11-07T12:10:15.275Z"
   },
   {
    "duration": 953,
    "start_time": "2023-11-07T12:10:15.279Z"
   },
   {
    "duration": 17,
    "start_time": "2023-11-07T12:10:16.234Z"
   },
   {
    "duration": 10,
    "start_time": "2023-11-07T12:10:16.254Z"
   },
   {
    "duration": 15,
    "start_time": "2023-11-07T12:10:16.267Z"
   },
   {
    "duration": 45,
    "start_time": "2023-11-07T12:10:16.283Z"
   },
   {
    "duration": 29,
    "start_time": "2023-11-07T12:10:16.330Z"
   },
   {
    "duration": 7365,
    "start_time": "2023-11-07T12:10:16.361Z"
   },
   {
    "duration": 11,
    "start_time": "2023-11-07T12:10:23.729Z"
   },
   {
    "duration": 208,
    "start_time": "2023-11-07T12:10:23.745Z"
   },
   {
    "duration": 382,
    "start_time": "2023-11-07T12:10:23.955Z"
   },
   {
    "duration": 73,
    "start_time": "2023-11-07T12:10:24.338Z"
   },
   {
    "duration": 6785,
    "start_time": "2023-11-07T12:10:24.415Z"
   },
   {
    "duration": 476464,
    "start_time": "2023-11-07T12:10:31.202Z"
   },
   {
    "duration": 20,
    "start_time": "2023-11-07T12:18:27.668Z"
   },
   {
    "duration": 305011,
    "start_time": "2023-11-07T12:18:27.691Z"
   },
   {
    "duration": 500826,
    "start_time": "2023-11-07T12:23:32.703Z"
   },
   {
    "duration": 1140738,
    "start_time": "2023-11-07T12:31:53.530Z"
   },
   {
    "duration": 3,
    "start_time": "2023-11-07T12:50:54.269Z"
   },
   {
    "duration": 6,
    "start_time": "2023-11-07T12:50:54.273Z"
   },
   {
    "duration": 1384087,
    "start_time": "2023-11-07T12:54:13.185Z"
   },
   {
    "duration": 751519,
    "start_time": "2023-11-07T13:25:37.252Z"
   },
   {
    "duration": 19,
    "start_time": "2023-11-07T13:45:18.933Z"
   },
   {
    "duration": 16,
    "start_time": "2023-11-07T13:45:38.975Z"
   },
   {
    "duration": 16,
    "start_time": "2023-11-07T13:45:42.184Z"
   },
   {
    "duration": 4,
    "start_time": "2023-11-07T14:52:28.061Z"
   },
   {
    "duration": 21,
    "start_time": "2023-11-07T14:57:15.258Z"
   },
   {
    "duration": 53,
    "start_time": "2023-11-07T17:50:44.971Z"
   },
   {
    "duration": 1886,
    "start_time": "2023-11-07T17:50:51.129Z"
   },
   {
    "duration": 4,
    "start_time": "2023-11-07T17:50:55.219Z"
   },
   {
    "duration": 2649,
    "start_time": "2023-11-07T17:50:55.824Z"
   },
   {
    "duration": 13,
    "start_time": "2023-11-07T17:50:58.475Z"
   },
   {
    "duration": 7,
    "start_time": "2023-11-07T17:50:58.490Z"
   },
   {
    "duration": 12,
    "start_time": "2023-11-07T17:50:58.499Z"
   },
   {
    "duration": 36,
    "start_time": "2023-11-07T17:50:58.839Z"
   },
   {
    "duration": 9,
    "start_time": "2023-11-07T17:50:59.764Z"
   },
   {
    "duration": 7877,
    "start_time": "2023-11-07T17:51:01.454Z"
   },
   {
    "duration": 470,
    "start_time": "2023-11-07T17:51:09.333Z"
   },
   {
    "duration": 990,
    "start_time": "2023-11-07T17:51:43.581Z"
   },
   {
    "duration": 305,
    "start_time": "2023-11-07T17:52:01.225Z"
   },
   {
    "duration": 765,
    "start_time": "2023-11-07T17:52:07.424Z"
   },
   {
    "duration": 421,
    "start_time": "2023-11-07T17:52:24.918Z"
   },
   {
    "duration": 489,
    "start_time": "2023-11-07T17:55:50.096Z"
   },
   {
    "duration": 1688,
    "start_time": "2023-11-07T18:05:33.369Z"
   },
   {
    "duration": 3,
    "start_time": "2023-11-07T18:05:37.640Z"
   },
   {
    "duration": 910,
    "start_time": "2023-11-07T18:05:38.335Z"
   },
   {
    "duration": 13,
    "start_time": "2023-11-07T18:05:39.247Z"
   },
   {
    "duration": 11,
    "start_time": "2023-11-07T18:05:39.262Z"
   },
   {
    "duration": 3,
    "start_time": "2023-11-07T18:05:41.095Z"
   },
   {
    "duration": 33,
    "start_time": "2023-11-07T18:05:41.770Z"
   },
   {
    "duration": 19,
    "start_time": "2023-11-07T18:05:42.605Z"
   },
   {
    "duration": 1927,
    "start_time": "2023-11-07T18:05:46.887Z"
   },
   {
    "duration": 1628,
    "start_time": "2023-11-07T18:18:35.368Z"
   },
   {
    "duration": 2,
    "start_time": "2023-11-07T18:24:05.134Z"
   },
   {
    "duration": 4,
    "start_time": "2023-11-07T18:24:17.169Z"
   },
   {
    "duration": 424,
    "start_time": "2023-11-07T18:24:29.345Z"
   },
   {
    "duration": 322,
    "start_time": "2023-11-07T18:30:27.831Z"
   },
   {
    "duration": 3,
    "start_time": "2023-11-07T18:39:37.091Z"
   },
   {
    "duration": 12,
    "start_time": "2023-11-07T18:42:24.896Z"
   },
   {
    "duration": 5,
    "start_time": "2023-11-07T18:42:28.742Z"
   },
   {
    "duration": 369,
    "start_time": "2023-11-07T18:42:29.752Z"
   },
   {
    "duration": 14,
    "start_time": "2023-11-07T18:43:05.249Z"
   },
   {
    "duration": 4,
    "start_time": "2023-11-07T18:43:35.317Z"
   },
   {
    "duration": 313,
    "start_time": "2023-11-07T18:43:37.349Z"
   },
   {
    "duration": 4,
    "start_time": "2023-11-07T18:44:01.261Z"
   },
   {
    "duration": 326,
    "start_time": "2023-11-07T18:44:02.312Z"
   },
   {
    "duration": 340,
    "start_time": "2023-11-07T18:47:23.023Z"
   },
   {
    "duration": 6517,
    "start_time": "2023-11-07T18:47:31.728Z"
   },
   {
    "duration": 8,
    "start_time": "2023-11-07T18:47:44.258Z"
   },
   {
    "duration": 1749,
    "start_time": "2023-11-07T18:59:11.469Z"
   },
   {
    "duration": 10,
    "start_time": "2023-11-07T18:59:13.221Z"
   },
   {
    "duration": 1037,
    "start_time": "2023-11-07T18:59:13.233Z"
   },
   {
    "duration": 14,
    "start_time": "2023-11-07T18:59:14.272Z"
   },
   {
    "duration": 34,
    "start_time": "2023-11-07T18:59:14.287Z"
   },
   {
    "duration": 6,
    "start_time": "2023-11-07T18:59:14.322Z"
   },
   {
    "duration": 35,
    "start_time": "2023-11-07T18:59:14.340Z"
   },
   {
    "duration": 10,
    "start_time": "2023-11-07T18:59:14.377Z"
   },
   {
    "duration": 8583,
    "start_time": "2023-11-07T18:59:14.389Z"
   },
   {
    "duration": 7,
    "start_time": "2023-11-07T18:59:22.975Z"
   },
   {
    "duration": 234,
    "start_time": "2023-11-07T18:59:22.984Z"
   },
   {
    "duration": 428,
    "start_time": "2023-11-07T18:59:23.219Z"
   },
   {
    "duration": 83,
    "start_time": "2023-11-07T18:59:23.649Z"
   },
   {
    "duration": 8244,
    "start_time": "2023-11-07T18:59:23.734Z"
   },
   {
    "duration": 684232,
    "start_time": "2023-11-07T18:59:31.980Z"
   },
   {
    "duration": 349726,
    "start_time": "2023-11-07T19:10:56.214Z"
   },
   {
    "duration": 585615,
    "start_time": "2023-11-07T19:16:45.941Z"
   },
   {
    "duration": 1912,
    "start_time": "2023-11-07T21:04:23.281Z"
   },
   {
    "duration": 3,
    "start_time": "2023-11-07T21:04:25.196Z"
   },
   {
    "duration": 1256,
    "start_time": "2023-11-07T21:04:25.201Z"
   },
   {
    "duration": 14,
    "start_time": "2023-11-07T21:04:26.459Z"
   },
   {
    "duration": 21,
    "start_time": "2023-11-07T21:04:26.475Z"
   },
   {
    "duration": 8,
    "start_time": "2023-11-07T21:04:26.497Z"
   },
   {
    "duration": 63,
    "start_time": "2023-11-07T21:04:26.513Z"
   },
   {
    "duration": 17,
    "start_time": "2023-11-07T21:04:26.578Z"
   },
   {
    "duration": 9157,
    "start_time": "2023-11-07T21:04:26.597Z"
   },
   {
    "duration": 10,
    "start_time": "2023-11-07T21:04:35.759Z"
   },
   {
    "duration": 263,
    "start_time": "2023-11-07T21:04:35.771Z"
   },
   {
    "duration": 511,
    "start_time": "2023-11-07T21:04:36.044Z"
   },
   {
    "duration": 83,
    "start_time": "2023-11-07T21:04:36.557Z"
   },
   {
    "duration": 8624,
    "start_time": "2023-11-07T21:04:36.643Z"
   },
   {
    "duration": 690758,
    "start_time": "2023-11-07T21:04:45.268Z"
   },
   {
    "duration": 372141,
    "start_time": "2023-11-07T21:16:16.028Z"
   },
   {
    "duration": 617265,
    "start_time": "2023-11-07T21:22:28.171Z"
   },
   {
    "duration": 1745,
    "start_time": "2023-11-07T22:27:44.791Z"
   },
   {
    "duration": 2,
    "start_time": "2023-11-07T22:27:46.538Z"
   },
   {
    "duration": 1010,
    "start_time": "2023-11-07T22:27:46.542Z"
   },
   {
    "duration": 13,
    "start_time": "2023-11-07T22:27:47.554Z"
   },
   {
    "duration": 9,
    "start_time": "2023-11-07T22:27:47.569Z"
   },
   {
    "duration": 5,
    "start_time": "2023-11-07T22:27:47.580Z"
   },
   {
    "duration": 38,
    "start_time": "2023-11-07T22:27:47.606Z"
   },
   {
    "duration": 10,
    "start_time": "2023-11-07T22:27:47.646Z"
   },
   {
    "duration": 7638,
    "start_time": "2023-11-07T22:27:47.658Z"
   },
   {
    "duration": 12,
    "start_time": "2023-11-07T22:27:55.299Z"
   },
   {
    "duration": 206,
    "start_time": "2023-11-07T22:27:55.313Z"
   },
   {
    "duration": 405,
    "start_time": "2023-11-07T22:27:55.521Z"
   },
   {
    "duration": 76,
    "start_time": "2023-11-07T22:27:55.928Z"
   },
   {
    "duration": 7321,
    "start_time": "2023-11-07T22:27:56.006Z"
   },
   {
    "duration": 679003,
    "start_time": "2023-11-07T22:28:03.329Z"
   },
   {
    "duration": 330126,
    "start_time": "2023-11-07T22:39:22.334Z"
   },
   {
    "duration": 540616,
    "start_time": "2023-11-07T22:44:52.463Z"
   },
   {
    "duration": 2267,
    "start_time": "2023-11-08T05:39:07.090Z"
   },
   {
    "duration": 3,
    "start_time": "2023-11-08T05:39:09.359Z"
   },
   {
    "duration": 2385,
    "start_time": "2023-11-08T05:39:09.363Z"
   },
   {
    "duration": 15,
    "start_time": "2023-11-08T05:39:11.751Z"
   },
   {
    "duration": 18,
    "start_time": "2023-11-08T05:39:11.768Z"
   },
   {
    "duration": 4,
    "start_time": "2023-11-08T05:39:11.788Z"
   },
   {
    "duration": 39,
    "start_time": "2023-11-08T05:39:11.794Z"
   },
   {
    "duration": 10,
    "start_time": "2023-11-08T05:39:11.835Z"
   },
   {
    "duration": 6962,
    "start_time": "2023-11-08T05:39:11.847Z"
   },
   {
    "duration": 6,
    "start_time": "2023-11-08T05:39:18.811Z"
   },
   {
    "duration": 196,
    "start_time": "2023-11-08T05:39:18.819Z"
   },
   {
    "duration": 368,
    "start_time": "2023-11-08T05:39:19.017Z"
   },
   {
    "duration": 68,
    "start_time": "2023-11-08T05:39:19.387Z"
   },
   {
    "duration": 6350,
    "start_time": "2023-11-08T05:39:19.457Z"
   },
   {
    "duration": 2600,
    "start_time": "2023-11-08T06:14:56.731Z"
   },
   {
    "duration": 4,
    "start_time": "2023-11-08T06:14:59.333Z"
   },
   {
    "duration": 2550,
    "start_time": "2023-11-08T06:14:59.339Z"
   },
   {
    "duration": 15,
    "start_time": "2023-11-08T06:15:01.891Z"
   },
   {
    "duration": 29,
    "start_time": "2023-11-08T06:15:01.908Z"
   },
   {
    "duration": 17,
    "start_time": "2023-11-08T06:15:01.939Z"
   },
   {
    "duration": 53,
    "start_time": "2023-11-08T06:15:01.958Z"
   },
   {
    "duration": 35,
    "start_time": "2023-11-08T06:15:02.013Z"
   },
   {
    "duration": 8104,
    "start_time": "2023-11-08T06:15:02.050Z"
   },
   {
    "duration": 7,
    "start_time": "2023-11-08T06:15:10.155Z"
   },
   {
    "duration": 209,
    "start_time": "2023-11-08T06:15:10.164Z"
   },
   {
    "duration": 403,
    "start_time": "2023-11-08T06:15:10.375Z"
   },
   {
    "duration": 77,
    "start_time": "2023-11-08T06:15:10.780Z"
   },
   {
    "duration": 7530,
    "start_time": "2023-11-08T06:15:10.859Z"
   },
   {
    "duration": 1906,
    "start_time": "2023-11-08T08:40:38.547Z"
   },
   {
    "duration": 2,
    "start_time": "2023-11-08T08:40:40.455Z"
   },
   {
    "duration": 2240,
    "start_time": "2023-11-08T08:40:40.459Z"
   },
   {
    "duration": 14,
    "start_time": "2023-11-08T08:40:42.700Z"
   },
   {
    "duration": 8,
    "start_time": "2023-11-08T08:40:42.716Z"
   },
   {
    "duration": 4,
    "start_time": "2023-11-08T08:40:42.725Z"
   },
   {
    "duration": 31,
    "start_time": "2023-11-08T08:40:42.730Z"
   },
   {
    "duration": 7,
    "start_time": "2023-11-08T08:40:42.762Z"
   },
   {
    "duration": 6449,
    "start_time": "2023-11-08T08:40:42.771Z"
   },
   {
    "duration": 6,
    "start_time": "2023-11-08T08:40:49.221Z"
   },
   {
    "duration": 209,
    "start_time": "2023-11-08T08:40:49.229Z"
   },
   {
    "duration": 387,
    "start_time": "2023-11-08T08:40:49.440Z"
   },
   {
    "duration": 50,
    "start_time": "2023-11-08T08:40:49.828Z"
   },
   {
    "duration": 5963,
    "start_time": "2023-11-08T08:40:49.880Z"
   },
   {
    "duration": 477698,
    "start_time": "2023-11-08T08:40:55.845Z"
   },
   {
    "duration": 279786,
    "start_time": "2023-11-08T08:48:53.545Z"
   },
   {
    "duration": 461597,
    "start_time": "2023-11-08T08:53:33.333Z"
   },
   {
    "duration": 3219936,
    "start_time": "2023-11-08T09:01:14.932Z"
   },
   {
    "duration": 3,
    "start_time": "2023-11-08T09:54:54.870Z"
   },
   {
    "duration": 14,
    "start_time": "2023-11-08T09:54:54.939Z"
   },
   {
    "duration": 5213,
    "start_time": "2023-11-08T16:18:47.372Z"
   },
   {
    "duration": 952,
    "start_time": "2023-11-08T16:22:21.642Z"
   },
   {
    "duration": 4606,
    "start_time": "2023-11-08T16:23:01.153Z"
   },
   {
    "duration": 8,
    "start_time": "2023-11-08T16:23:05.761Z"
   },
   {
    "duration": 3378,
    "start_time": "2023-11-08T16:23:05.771Z"
   },
   {
    "duration": 21,
    "start_time": "2023-11-08T16:23:09.152Z"
   },
   {
    "duration": 37,
    "start_time": "2023-11-08T16:23:09.175Z"
   },
   {
    "duration": 8,
    "start_time": "2023-11-08T16:23:09.214Z"
   },
   {
    "duration": 68,
    "start_time": "2023-11-08T16:23:09.224Z"
   },
   {
    "duration": 30,
    "start_time": "2023-11-08T16:23:09.294Z"
   },
   {
    "duration": 972,
    "start_time": "2023-11-08T16:23:09.327Z"
   },
   {
    "duration": 0,
    "start_time": "2023-11-08T16:23:10.301Z"
   },
   {
    "duration": 0,
    "start_time": "2023-11-08T16:23:10.303Z"
   },
   {
    "duration": 0,
    "start_time": "2023-11-08T16:23:10.304Z"
   },
   {
    "duration": 0,
    "start_time": "2023-11-08T16:23:10.305Z"
   },
   {
    "duration": 0,
    "start_time": "2023-11-08T16:23:10.306Z"
   },
   {
    "duration": 0,
    "start_time": "2023-11-08T16:23:10.307Z"
   },
   {
    "duration": 0,
    "start_time": "2023-11-08T16:23:10.308Z"
   },
   {
    "duration": 0,
    "start_time": "2023-11-08T16:23:10.309Z"
   },
   {
    "duration": 0,
    "start_time": "2023-11-08T16:23:10.310Z"
   },
   {
    "duration": 0,
    "start_time": "2023-11-08T16:23:10.311Z"
   },
   {
    "duration": 0,
    "start_time": "2023-11-08T16:23:10.312Z"
   },
   {
    "duration": 0,
    "start_time": "2023-11-08T16:23:10.313Z"
   },
   {
    "duration": 493,
    "start_time": "2023-11-08T16:24:29.589Z"
   },
   {
    "duration": 478,
    "start_time": "2023-11-08T16:24:46.317Z"
   },
   {
    "duration": 7,
    "start_time": "2023-11-08T16:25:25.032Z"
   },
   {
    "duration": 1090066,
    "start_time": "2023-11-08T16:25:31.429Z"
   },
   {
    "duration": 7,
    "start_time": "2023-11-08T16:44:05.937Z"
   },
   {
    "duration": 353,
    "start_time": "2023-11-08T16:44:13.234Z"
   },
   {
    "duration": 704,
    "start_time": "2023-11-08T16:44:22.227Z"
   },
   {
    "duration": 73,
    "start_time": "2023-11-08T16:44:25.703Z"
   },
   {
    "duration": 5012,
    "start_time": "2023-11-08T16:44:28.575Z"
   },
   {
    "duration": 811389,
    "start_time": "2023-11-08T16:44:40.701Z"
   },
   {
    "duration": 4263,
    "start_time": "2023-11-08T19:35:58.153Z"
   },
   {
    "duration": 3,
    "start_time": "2023-11-08T19:36:02.418Z"
   },
   {
    "duration": 2195,
    "start_time": "2023-11-08T19:36:02.423Z"
   },
   {
    "duration": 14,
    "start_time": "2023-11-08T19:36:04.620Z"
   },
   {
    "duration": 7,
    "start_time": "2023-11-08T19:36:04.635Z"
   },
   {
    "duration": 3,
    "start_time": "2023-11-08T19:36:04.644Z"
   },
   {
    "duration": 24,
    "start_time": "2023-11-08T19:36:04.648Z"
   },
   {
    "duration": 7,
    "start_time": "2023-11-08T19:36:04.673Z"
   },
   {
    "duration": 865075,
    "start_time": "2023-11-08T19:36:04.682Z"
   },
   {
    "duration": 3,
    "start_time": "2023-11-08T19:50:29.759Z"
   },
   {
    "duration": 10,
    "start_time": "2023-11-08T19:50:29.763Z"
   },
   {
    "duration": 367,
    "start_time": "2023-11-08T19:50:29.774Z"
   },
   {
    "duration": 713,
    "start_time": "2023-11-08T19:50:30.142Z"
   },
   {
    "duration": 54,
    "start_time": "2023-11-08T19:50:30.856Z"
   },
   {
    "duration": 4472,
    "start_time": "2023-11-08T19:50:30.911Z"
   },
   {
    "duration": 512555,
    "start_time": "2023-11-08T19:50:35.385Z"
   },
   {
    "duration": 268305,
    "start_time": "2023-11-08T19:59:07.942Z"
   },
   {
    "duration": 465194,
    "start_time": "2023-11-08T20:03:36.249Z"
   },
   {
    "duration": 474504,
    "start_time": "2023-11-08T20:11:21.444Z"
   },
   {
    "duration": 4,
    "start_time": "2023-11-08T20:19:15.949Z"
   },
   {
    "duration": 14,
    "start_time": "2023-11-08T20:19:15.954Z"
   }
  ],
  "kernelspec": {
   "display_name": "Python 3 (ipykernel)",
   "language": "python",
   "name": "python3"
  },
  "language_info": {
   "codemirror_mode": {
    "name": "ipython",
    "version": 3
   },
   "file_extension": ".py",
   "mimetype": "text/x-python",
   "name": "python",
   "nbconvert_exporter": "python",
   "pygments_lexer": "ipython3",
   "version": "3.10.13"
  },
  "toc": {
   "base_numbering": 1,
   "nav_menu": {},
   "number_sections": true,
   "sideBar": true,
   "skip_h1_title": true,
   "title_cell": "Содержание",
   "title_sidebar": "Contents",
   "toc_cell": true,
   "toc_position": {
    "height": "calc(100% - 180px)",
    "left": "10px",
    "top": "150px",
    "width": "302.391px"
   },
   "toc_section_display": true,
   "toc_window_display": false
  }
 },
 "nbformat": 4,
 "nbformat_minor": 2
}
