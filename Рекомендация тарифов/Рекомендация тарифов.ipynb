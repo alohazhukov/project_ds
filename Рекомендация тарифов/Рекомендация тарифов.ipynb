{
 "cells": [
  {
   "cell_type": "markdown",
   "metadata": {},
   "source": [
    "# Рекомендация тарифов"
   ]
  },
  {
   "cell_type": "markdown",
   "metadata": {},
   "source": [
    "В вашем распоряжении данные о поведении клиентов, которые уже перешли на эти тарифы. Нужно построить модель для задачи классификации, которая выберет подходящий тариф. Предобработка данных не понадобится — она сделана ранее.\n",
    "\n",
    "Постройте модель с максимально большим значением *accuracy*. Чтобы сдать проект успешно, нужно довести долю правильных ответов по крайней мере до 0.75. Проверьте *accuracy* на тестовой выборке самостоятельно.\n",
    "\n",
    "\n",
    "__Описание данных:__\n",
    "\n",
    "Каждый объект в наборе данных — это информация о поведении одного пользователя за месяц. Известно:\n",
    "\n",
    "    сalls — количество звонков,\n",
    "    \n",
    "    minutes — суммарная длительность звонков в минутах,\n",
    "    \n",
    "    messages — количество sms-сообщений,\n",
    "    \n",
    "    mb_used — израсходованный интернет-трафик в Мб,\n",
    "    \n",
    "    is_ultra — каким тарифом пользовался в течение месяца («Ультра» — 1, «Смарт» — 0).\n",
    "    \n",
    "    \n",
    "__Краткий план действий:__ открыть и изучить данные, выделить признаки и тагрет, разбить данные на выборки(учебную, проверочную, тестовую), инициализировать и обучить модели, проверить их на тестовой выборке.     "
   ]
  },
  {
   "cell_type": "markdown",
   "metadata": {},
   "source": [
    "## Откроем и изучим файл"
   ]
  },
  {
   "cell_type": "code",
   "execution_count": 1,
   "metadata": {},
   "outputs": [],
   "source": [
    "# импортируем библиотеки\n",
    "\n",
    "import pandas as pd \n",
    "import numpy as np\n",
    "\n",
    "from sklearn.tree import DecisionTreeClassifier\n",
    "from sklearn.ensemble import RandomForestClassifier\n",
    "from sklearn.linear_model import LogisticRegression \n",
    "from sklearn.model_selection import train_test_split\n",
    "from sklearn.metrics import accuracy_score"
   ]
  },
  {
   "cell_type": "code",
   "execution_count": 2,
   "metadata": {},
   "outputs": [],
   "source": [
    "try:\n",
    "    data = pd.read_csv('/Users/alex/Downloads/users_behavior.csv')\n",
    "except:\n",
    "    data = pd.read_csv('/datasets/users_behavior.csv')"
   ]
  },
  {
   "cell_type": "code",
   "execution_count": 3,
   "metadata": {},
   "outputs": [
    {
     "name": "stdout",
     "output_type": "stream",
     "text": [
      "<class 'pandas.core.frame.DataFrame'>\n",
      "RangeIndex: 3214 entries, 0 to 3213\n",
      "Data columns (total 5 columns):\n",
      " #   Column    Non-Null Count  Dtype  \n",
      "---  ------    --------------  -----  \n",
      " 0   calls     3214 non-null   float64\n",
      " 1   minutes   3214 non-null   float64\n",
      " 2   messages  3214 non-null   float64\n",
      " 3   mb_used   3214 non-null   float64\n",
      " 4   is_ultra  3214 non-null   int64  \n",
      "dtypes: float64(4), int64(1)\n",
      "memory usage: 125.7 KB\n"
     ]
    }
   ],
   "source": [
    "data.info()"
   ]
  },
  {
   "cell_type": "code",
   "execution_count": 4,
   "metadata": {},
   "outputs": [
    {
     "data": {
      "text/html": [
       "<div>\n",
       "<style scoped>\n",
       "    .dataframe tbody tr th:only-of-type {\n",
       "        vertical-align: middle;\n",
       "    }\n",
       "\n",
       "    .dataframe tbody tr th {\n",
       "        vertical-align: top;\n",
       "    }\n",
       "\n",
       "    .dataframe thead th {\n",
       "        text-align: right;\n",
       "    }\n",
       "</style>\n",
       "<table border=\"1\" class=\"dataframe\">\n",
       "  <thead>\n",
       "    <tr style=\"text-align: right;\">\n",
       "      <th></th>\n",
       "      <th>calls</th>\n",
       "      <th>minutes</th>\n",
       "      <th>messages</th>\n",
       "      <th>mb_used</th>\n",
       "      <th>is_ultra</th>\n",
       "    </tr>\n",
       "  </thead>\n",
       "  <tbody>\n",
       "    <tr>\n",
       "      <th>0</th>\n",
       "      <td>40.0</td>\n",
       "      <td>311.90</td>\n",
       "      <td>83.0</td>\n",
       "      <td>19915.42</td>\n",
       "      <td>0</td>\n",
       "    </tr>\n",
       "    <tr>\n",
       "      <th>1</th>\n",
       "      <td>85.0</td>\n",
       "      <td>516.75</td>\n",
       "      <td>56.0</td>\n",
       "      <td>22696.96</td>\n",
       "      <td>0</td>\n",
       "    </tr>\n",
       "    <tr>\n",
       "      <th>2</th>\n",
       "      <td>77.0</td>\n",
       "      <td>467.66</td>\n",
       "      <td>86.0</td>\n",
       "      <td>21060.45</td>\n",
       "      <td>0</td>\n",
       "    </tr>\n",
       "    <tr>\n",
       "      <th>3</th>\n",
       "      <td>106.0</td>\n",
       "      <td>745.53</td>\n",
       "      <td>81.0</td>\n",
       "      <td>8437.39</td>\n",
       "      <td>1</td>\n",
       "    </tr>\n",
       "    <tr>\n",
       "      <th>4</th>\n",
       "      <td>66.0</td>\n",
       "      <td>418.74</td>\n",
       "      <td>1.0</td>\n",
       "      <td>14502.75</td>\n",
       "      <td>0</td>\n",
       "    </tr>\n",
       "    <tr>\n",
       "      <th>5</th>\n",
       "      <td>58.0</td>\n",
       "      <td>344.56</td>\n",
       "      <td>21.0</td>\n",
       "      <td>15823.37</td>\n",
       "      <td>0</td>\n",
       "    </tr>\n",
       "    <tr>\n",
       "      <th>6</th>\n",
       "      <td>57.0</td>\n",
       "      <td>431.64</td>\n",
       "      <td>20.0</td>\n",
       "      <td>3738.90</td>\n",
       "      <td>1</td>\n",
       "    </tr>\n",
       "    <tr>\n",
       "      <th>7</th>\n",
       "      <td>15.0</td>\n",
       "      <td>132.40</td>\n",
       "      <td>6.0</td>\n",
       "      <td>21911.60</td>\n",
       "      <td>0</td>\n",
       "    </tr>\n",
       "    <tr>\n",
       "      <th>8</th>\n",
       "      <td>7.0</td>\n",
       "      <td>43.39</td>\n",
       "      <td>3.0</td>\n",
       "      <td>2538.67</td>\n",
       "      <td>1</td>\n",
       "    </tr>\n",
       "    <tr>\n",
       "      <th>9</th>\n",
       "      <td>90.0</td>\n",
       "      <td>665.41</td>\n",
       "      <td>38.0</td>\n",
       "      <td>17358.61</td>\n",
       "      <td>0</td>\n",
       "    </tr>\n",
       "  </tbody>\n",
       "</table>\n",
       "</div>"
      ],
      "text/plain": [
       "   calls  minutes  messages   mb_used  is_ultra\n",
       "0   40.0   311.90      83.0  19915.42         0\n",
       "1   85.0   516.75      56.0  22696.96         0\n",
       "2   77.0   467.66      86.0  21060.45         0\n",
       "3  106.0   745.53      81.0   8437.39         1\n",
       "4   66.0   418.74       1.0  14502.75         0\n",
       "5   58.0   344.56      21.0  15823.37         0\n",
       "6   57.0   431.64      20.0   3738.90         1\n",
       "7   15.0   132.40       6.0  21911.60         0\n",
       "8    7.0    43.39       3.0   2538.67         1\n",
       "9   90.0   665.41      38.0  17358.61         0"
      ]
     },
     "execution_count": 4,
     "metadata": {},
     "output_type": "execute_result"
    }
   ],
   "source": [
    "# взглянем поближе\n",
    "data.head(10)   "
   ]
  },
  {
   "cell_type": "code",
   "execution_count": 22,
   "metadata": {},
   "outputs": [
    {
     "data": {
      "text/html": [
       "<div>\n",
       "<style scoped>\n",
       "    .dataframe tbody tr th:only-of-type {\n",
       "        vertical-align: middle;\n",
       "    }\n",
       "\n",
       "    .dataframe tbody tr th {\n",
       "        vertical-align: top;\n",
       "    }\n",
       "\n",
       "    .dataframe thead th {\n",
       "        text-align: right;\n",
       "    }\n",
       "</style>\n",
       "<table border=\"1\" class=\"dataframe\">\n",
       "  <thead>\n",
       "    <tr style=\"text-align: right;\">\n",
       "      <th></th>\n",
       "      <th>calls</th>\n",
       "      <th>minutes</th>\n",
       "      <th>messages</th>\n",
       "      <th>mb_used</th>\n",
       "      <th>is_ultra</th>\n",
       "    </tr>\n",
       "  </thead>\n",
       "  <tbody>\n",
       "    <tr>\n",
       "      <th>0</th>\n",
       "      <td>40.0</td>\n",
       "      <td>311.90</td>\n",
       "      <td>83.0</td>\n",
       "      <td>19915.42</td>\n",
       "      <td>0</td>\n",
       "    </tr>\n",
       "    <tr>\n",
       "      <th>1</th>\n",
       "      <td>85.0</td>\n",
       "      <td>516.75</td>\n",
       "      <td>56.0</td>\n",
       "      <td>22696.96</td>\n",
       "      <td>0</td>\n",
       "    </tr>\n",
       "    <tr>\n",
       "      <th>2</th>\n",
       "      <td>77.0</td>\n",
       "      <td>467.66</td>\n",
       "      <td>86.0</td>\n",
       "      <td>21060.45</td>\n",
       "      <td>0</td>\n",
       "    </tr>\n",
       "    <tr>\n",
       "      <th>3</th>\n",
       "      <td>106.0</td>\n",
       "      <td>745.53</td>\n",
       "      <td>81.0</td>\n",
       "      <td>8437.39</td>\n",
       "      <td>1</td>\n",
       "    </tr>\n",
       "    <tr>\n",
       "      <th>4</th>\n",
       "      <td>66.0</td>\n",
       "      <td>418.74</td>\n",
       "      <td>1.0</td>\n",
       "      <td>14502.75</td>\n",
       "      <td>0</td>\n",
       "    </tr>\n",
       "    <tr>\n",
       "      <th>5</th>\n",
       "      <td>58.0</td>\n",
       "      <td>344.56</td>\n",
       "      <td>21.0</td>\n",
       "      <td>15823.37</td>\n",
       "      <td>0</td>\n",
       "    </tr>\n",
       "    <tr>\n",
       "      <th>6</th>\n",
       "      <td>57.0</td>\n",
       "      <td>431.64</td>\n",
       "      <td>20.0</td>\n",
       "      <td>3738.90</td>\n",
       "      <td>1</td>\n",
       "    </tr>\n",
       "    <tr>\n",
       "      <th>7</th>\n",
       "      <td>15.0</td>\n",
       "      <td>132.40</td>\n",
       "      <td>6.0</td>\n",
       "      <td>21911.60</td>\n",
       "      <td>0</td>\n",
       "    </tr>\n",
       "    <tr>\n",
       "      <th>8</th>\n",
       "      <td>7.0</td>\n",
       "      <td>43.39</td>\n",
       "      <td>3.0</td>\n",
       "      <td>2538.67</td>\n",
       "      <td>1</td>\n",
       "    </tr>\n",
       "    <tr>\n",
       "      <th>9</th>\n",
       "      <td>90.0</td>\n",
       "      <td>665.41</td>\n",
       "      <td>38.0</td>\n",
       "      <td>17358.61</td>\n",
       "      <td>0</td>\n",
       "    </tr>\n",
       "    <tr>\n",
       "      <th>10</th>\n",
       "      <td>82.0</td>\n",
       "      <td>560.51</td>\n",
       "      <td>20.0</td>\n",
       "      <td>9619.53</td>\n",
       "      <td>1</td>\n",
       "    </tr>\n",
       "    <tr>\n",
       "      <th>11</th>\n",
       "      <td>45.0</td>\n",
       "      <td>344.32</td>\n",
       "      <td>13.0</td>\n",
       "      <td>19898.81</td>\n",
       "      <td>0</td>\n",
       "    </tr>\n",
       "    <tr>\n",
       "      <th>12</th>\n",
       "      <td>51.0</td>\n",
       "      <td>437.13</td>\n",
       "      <td>61.0</td>\n",
       "      <td>21523.58</td>\n",
       "      <td>0</td>\n",
       "    </tr>\n",
       "    <tr>\n",
       "      <th>13</th>\n",
       "      <td>56.0</td>\n",
       "      <td>433.07</td>\n",
       "      <td>16.0</td>\n",
       "      <td>16702.36</td>\n",
       "      <td>0</td>\n",
       "    </tr>\n",
       "    <tr>\n",
       "      <th>14</th>\n",
       "      <td>108.0</td>\n",
       "      <td>587.90</td>\n",
       "      <td>0.0</td>\n",
       "      <td>14406.50</td>\n",
       "      <td>1</td>\n",
       "    </tr>\n",
       "    <tr>\n",
       "      <th>15</th>\n",
       "      <td>6.0</td>\n",
       "      <td>22.13</td>\n",
       "      <td>0.0</td>\n",
       "      <td>2710.09</td>\n",
       "      <td>0</td>\n",
       "    </tr>\n",
       "    <tr>\n",
       "      <th>16</th>\n",
       "      <td>2.0</td>\n",
       "      <td>18.73</td>\n",
       "      <td>0.0</td>\n",
       "      <td>588.89</td>\n",
       "      <td>0</td>\n",
       "    </tr>\n",
       "    <tr>\n",
       "      <th>17</th>\n",
       "      <td>26.0</td>\n",
       "      <td>163.62</td>\n",
       "      <td>4.0</td>\n",
       "      <td>16870.34</td>\n",
       "      <td>0</td>\n",
       "    </tr>\n",
       "    <tr>\n",
       "      <th>18</th>\n",
       "      <td>79.0</td>\n",
       "      <td>532.62</td>\n",
       "      <td>90.0</td>\n",
       "      <td>19908.31</td>\n",
       "      <td>0</td>\n",
       "    </tr>\n",
       "    <tr>\n",
       "      <th>19</th>\n",
       "      <td>49.0</td>\n",
       "      <td>341.67</td>\n",
       "      <td>81.0</td>\n",
       "      <td>11770.28</td>\n",
       "      <td>1</td>\n",
       "    </tr>\n",
       "    <tr>\n",
       "      <th>20</th>\n",
       "      <td>93.0</td>\n",
       "      <td>691.37</td>\n",
       "      <td>31.0</td>\n",
       "      <td>25950.28</td>\n",
       "      <td>1</td>\n",
       "    </tr>\n",
       "    <tr>\n",
       "      <th>21</th>\n",
       "      <td>56.0</td>\n",
       "      <td>411.46</td>\n",
       "      <td>97.0</td>\n",
       "      <td>15393.91</td>\n",
       "      <td>0</td>\n",
       "    </tr>\n",
       "    <tr>\n",
       "      <th>22</th>\n",
       "      <td>48.0</td>\n",
       "      <td>351.60</td>\n",
       "      <td>66.0</td>\n",
       "      <td>16469.90</td>\n",
       "      <td>1</td>\n",
       "    </tr>\n",
       "    <tr>\n",
       "      <th>23</th>\n",
       "      <td>11.0</td>\n",
       "      <td>96.05</td>\n",
       "      <td>19.0</td>\n",
       "      <td>2305.74</td>\n",
       "      <td>0</td>\n",
       "    </tr>\n",
       "    <tr>\n",
       "      <th>24</th>\n",
       "      <td>56.0</td>\n",
       "      <td>360.30</td>\n",
       "      <td>30.0</td>\n",
       "      <td>13560.15</td>\n",
       "      <td>0</td>\n",
       "    </tr>\n",
       "    <tr>\n",
       "      <th>25</th>\n",
       "      <td>53.0</td>\n",
       "      <td>356.22</td>\n",
       "      <td>52.0</td>\n",
       "      <td>22471.77</td>\n",
       "      <td>0</td>\n",
       "    </tr>\n",
       "    <tr>\n",
       "      <th>26</th>\n",
       "      <td>81.0</td>\n",
       "      <td>624.71</td>\n",
       "      <td>38.0</td>\n",
       "      <td>8644.66</td>\n",
       "      <td>1</td>\n",
       "    </tr>\n",
       "    <tr>\n",
       "      <th>27</th>\n",
       "      <td>154.0</td>\n",
       "      <td>1078.64</td>\n",
       "      <td>48.0</td>\n",
       "      <td>29335.15</td>\n",
       "      <td>1</td>\n",
       "    </tr>\n",
       "    <tr>\n",
       "      <th>28</th>\n",
       "      <td>37.0</td>\n",
       "      <td>286.68</td>\n",
       "      <td>44.0</td>\n",
       "      <td>19542.45</td>\n",
       "      <td>0</td>\n",
       "    </tr>\n",
       "    <tr>\n",
       "      <th>29</th>\n",
       "      <td>50.0</td>\n",
       "      <td>358.01</td>\n",
       "      <td>44.0</td>\n",
       "      <td>9998.83</td>\n",
       "      <td>1</td>\n",
       "    </tr>\n",
       "  </tbody>\n",
       "</table>\n",
       "</div>"
      ],
      "text/plain": [
       "    calls  minutes  messages   mb_used  is_ultra\n",
       "0    40.0   311.90      83.0  19915.42         0\n",
       "1    85.0   516.75      56.0  22696.96         0\n",
       "2    77.0   467.66      86.0  21060.45         0\n",
       "3   106.0   745.53      81.0   8437.39         1\n",
       "4    66.0   418.74       1.0  14502.75         0\n",
       "5    58.0   344.56      21.0  15823.37         0\n",
       "6    57.0   431.64      20.0   3738.90         1\n",
       "7    15.0   132.40       6.0  21911.60         0\n",
       "8     7.0    43.39       3.0   2538.67         1\n",
       "9    90.0   665.41      38.0  17358.61         0\n",
       "10   82.0   560.51      20.0   9619.53         1\n",
       "11   45.0   344.32      13.0  19898.81         0\n",
       "12   51.0   437.13      61.0  21523.58         0\n",
       "13   56.0   433.07      16.0  16702.36         0\n",
       "14  108.0   587.90       0.0  14406.50         1\n",
       "15    6.0    22.13       0.0   2710.09         0\n",
       "16    2.0    18.73       0.0    588.89         0\n",
       "17   26.0   163.62       4.0  16870.34         0\n",
       "18   79.0   532.62      90.0  19908.31         0\n",
       "19   49.0   341.67      81.0  11770.28         1\n",
       "20   93.0   691.37      31.0  25950.28         1\n",
       "21   56.0   411.46      97.0  15393.91         0\n",
       "22   48.0   351.60      66.0  16469.90         1\n",
       "23   11.0    96.05      19.0   2305.74         0\n",
       "24   56.0   360.30      30.0  13560.15         0\n",
       "25   53.0   356.22      52.0  22471.77         0\n",
       "26   81.0   624.71      38.0   8644.66         1\n",
       "27  154.0  1078.64      48.0  29335.15         1\n",
       "28   37.0   286.68      44.0  19542.45         0\n",
       "29   50.0   358.01      44.0   9998.83         1"
      ]
     },
     "execution_count": 22,
     "metadata": {},
     "output_type": "execute_result"
    }
   ],
   "source": [
    "data.head(30)"
   ]
  },
  {
   "cell_type": "code",
   "execution_count": 6,
   "metadata": {},
   "outputs": [
    {
     "data": {
      "text/plain": [
       "0"
      ]
     },
     "execution_count": 6,
     "metadata": {},
     "output_type": "execute_result"
    }
   ],
   "source": [
    "# проверим на наличие явных дубликатов\n",
    "data.duplicated().sum()"
   ]
  },
  {
   "cell_type": "code",
   "execution_count": 7,
   "metadata": {},
   "outputs": [
    {
     "data": {
      "text/plain": [
       "calls       0\n",
       "minutes     0\n",
       "messages    0\n",
       "mb_used     0\n",
       "is_ultra    0\n",
       "dtype: int64"
      ]
     },
     "execution_count": 7,
     "metadata": {},
     "output_type": "execute_result"
    }
   ],
   "source": [
    "# полностью пустых/незаполненных строк - нет\n",
    "data.isna().sum()"
   ]
  },
  {
   "cell_type": "code",
   "execution_count": 8,
   "metadata": {},
   "outputs": [
    {
     "data": {
      "text/plain": [
       "0    2229\n",
       "1     985\n",
       "Name: is_ultra, dtype: int64"
      ]
     },
     "execution_count": 8,
     "metadata": {},
     "output_type": "execute_result"
    }
   ],
   "source": [
    "data['is_ultra'].value_counts()"
   ]
  },
  {
   "cell_type": "markdown",
   "metadata": {},
   "source": [
    "__Промежуточный вывод__\n",
    "\n",
    "У нас имеется датафрейм с 3214 стоками, имеется 2 различных типа данных float и int(что логично т.к мы знаем из описания там хранятся значения либо 1, либо 0 - обозначение тарифного плана), пользователей с тарифом \"Смарт\" почти в 2 раза больше чем пользователей с тарифом \"Ультра\""
   ]
  },
  {
   "cell_type": "markdown",
   "metadata": {},
   "source": [
    "## Разбейте данные на выборки"
   ]
  },
  {
   "cell_type": "markdown",
   "metadata": {},
   "source": [
    "Сначала выделим наши признаки и таргет, затем разодьем наш дф на 3 части - учебную/проверочную/тестовую."
   ]
  },
  {
   "cell_type": "code",
   "execution_count": 9,
   "metadata": {},
   "outputs": [],
   "source": [
    "# Выделим признаки - все столбцы за исключением нашего таргета is_ultra(его мы удалим)\n",
    "\n",
    "features = data.drop(['is_ultra'], axis = 1)\n",
    "\n",
    "# Выделим целевой признак(наш таргет) is_ultra.\n",
    "\n",
    "target = data['is_ultra']\n",
    "\n",
    "# Создадим переменную и присвоим ей значение random_state для дальнейшего использования\n",
    "\n",
    "rdst = 123"
   ]
  },
  {
   "cell_type": "code",
   "execution_count": 10,
   "metadata": {},
   "outputs": [],
   "source": [
    "# Отделим 20% тестовых данных от самого дф\n",
    "\n",
    "features_data, features_test, target_data, target_test = train_test_split(\n",
    "    features, target, test_size = 0.2, random_state = rdst)\n",
    "\n",
    "# Оставшиеся данные поделим на соответсвующие обучающие и проверочные(валидационные) данные(пропорции будут - 75/25)\n",
    "\n",
    "features_train, features_valid, target_train, target_valid = train_test_split(\n",
    "    features_data, target_data, test_size = 0.25, random_state = rdst)\n"
   ]
  },
  {
   "cell_type": "code",
   "execution_count": 11,
   "metadata": {},
   "outputs": [
    {
     "name": "stdout",
     "output_type": "stream",
     "text": [
      "Соотношение тренировочной части к дф: 0.6\n",
      "Соотношение валидной части к дф: 0.2\n",
      "Соотношение тестовой части к дф: 0.2\n"
     ]
    }
   ],
   "source": [
    "# проверим соотношение тренировочной/валидной/тестовой частей к нашему первоначальному дф'у\n",
    "\n",
    "print(f'Соотношение тренировочной части к дф: {round(features_train.shape[0] / data.shape[0], 2)}')\n",
    "print(f'Соотношение валидной части к дф: {round(features_valid.shape[0] / data.shape[0], 2)}')\n",
    "print(f'Соотношение тестовой части к дф: {round(features_test.shape[0] / data.shape[0], 2)}')"
   ]
  },
  {
   "cell_type": "markdown",
   "metadata": {},
   "source": [
    "__Промежуточный вывод__\n",
    "\n",
    "На данном этапе мы проделели следующие:\n",
    "- Выделили признаки и записали их переменные features и target;\n",
    "- Сначала отделили тестовую часть, затем из оставшиеся данные разделили на обучающую и проверочную части;\n",
    "- Вывели их соотношение."
   ]
  },
  {
   "cell_type": "code",
   "execution_count": null,
   "metadata": {},
   "outputs": [],
   "source": []
  },
  {
   "cell_type": "code",
   "execution_count": null,
   "metadata": {},
   "outputs": [],
   "source": []
  },
  {
   "cell_type": "markdown",
   "metadata": {},
   "source": [
    "## Исследуйте модели\n",
    "\n",
    "Исследуйте качество разных моделей, меняя гиперпараметры. Кратко напишите выводы исследования."
   ]
  },
  {
   "cell_type": "markdown",
   "metadata": {},
   "source": [
    "Модель - __Логистическая регрессия__"
   ]
  },
  {
   "cell_type": "code",
   "execution_count": 13,
   "metadata": {},
   "outputs": [
    {
     "name": "stdout",
     "output_type": "stream",
     "text": [
      "Accuracy модели логистической регрессии на валидационной выборке: 0.734\n"
     ]
    }
   ],
   "source": [
    "#инициализируем модель LogisticRegression\n",
    "model_logr = LogisticRegression(random_state = rdst, solver = 'lbfgs', max_iter = 1000) \n",
    "model_logr.fit(features_train, target_train)\n",
    "\n",
    "# посчитаем качество модели\n",
    "result_logr = model_logr.score(features_valid, target_valid)\n",
    "print(f'Accuracy модели логистической регрессии на валидационной выборке: {result_logr.round(3)}')"
   ]
  },
  {
   "cell_type": "markdown",
   "metadata": {},
   "source": [
    "Модель - __Дерево решений__"
   ]
  },
  {
   "cell_type": "code",
   "execution_count": 14,
   "metadata": {},
   "outputs": [
    {
     "name": "stdout",
     "output_type": "stream",
     "text": [
      "Accuracy лучшей модели равна: 0.795, глубина дерева: 9\n"
     ]
    }
   ],
   "source": [
    "# напишем цикл для глубины дерева\n",
    "\n",
    "best_depth_dtc = 0\n",
    "best_result_dtc = 0\n",
    "best_model_dtc = None\n",
    "\n",
    "for depth in range(1, 15):\n",
    "    #инициализируем модель DecisionTreeClassifier\n",
    "    model_dtc = DecisionTreeClassifier(random_state = rdst, max_depth = depth, criterion = 'gini')\n",
    "    model_dtc.fit(features_train,target_train)\n",
    "    predictions = model_dtc.predict(features_valid)\n",
    "    # посчитаем качество модели\n",
    "    result_dtc = accuracy_score(target_valid, predictions)\n",
    "    if result_dtc > best_result_dtc:\n",
    "        best_result_dtc = result_dtc\n",
    "        best_depth_dtc = depth\n",
    "        best_model_dtc = model_dtc\n",
    "        \n",
    "print(f'Accuracy лучшей модели равна: {best_result_dtc.round(3)}, глубина дерева: {best_depth_dtc}')"
   ]
  },
  {
   "cell_type": "markdown",
   "metadata": {},
   "source": [
    "Модель - __Случайный лес__"
   ]
  },
  {
   "cell_type": "code",
   "execution_count": 15,
   "metadata": {},
   "outputs": [
    {
     "name": "stdout",
     "output_type": "stream",
     "text": [
      "Accuracy лучшей модели равна: 0.8103, количество деревьев: 8, глубина дерева: 8\n"
     ]
    }
   ],
   "source": [
    "# Напишем цикл для модели Случайный лес, выведем лучшую модель.\n",
    "\n",
    "best_depth_rfc = 0\n",
    "best_result_rfc = 0\n",
    "best_est_rfc = 0\n",
    "best_model_rfc = None\n",
    "\n",
    "for est in range(1, 16):\n",
    "    for depth in range(1, 16):\n",
    "        #инициализируем модель RandomForestClassifier\n",
    "        model_rfc = RandomForestClassifier(random_state = rdst,\n",
    "                                           max_depth = depth,\n",
    "                                           n_estimators = est,\n",
    "                                           criterion = 'gini')\n",
    "        # обучим модель\n",
    "        model_rfc.fit(features_train, target_train)\n",
    "        result_rfc = model_rfc.score(features_valid, target_valid)\n",
    "        if result_rfc > best_result_rfc:\n",
    "            best_result_rfc = result_rfc\n",
    "            best_depth_rfc = depth\n",
    "            best_est_rfc = est\n",
    "            best_model_rfc = model_rfc\n",
    "\n",
    "print(f'Accuracy лучшей модели равна: {best_result_rfc.round(4)}, количество деревьев: {best_est_rfc}, глубина дерева: {best_depth_rfc}')"
   ]
  },
  {
   "cell_type": "markdown",
   "metadata": {},
   "source": [
    "__Краткий вывод по исследованию моделей__\n",
    "\n",
    "Мы обучили 3 модели (\"Логистическая регрессия\", \"Дерево решений\", \"Случайный лес\") и проверили их на __валидационной(проверочной) выборке__.\n",
    "\n",
    "Получили следующие показатели точности(accuracy):\n",
    "- Логистическая регрессия, accuracy = 0.734;\n",
    "- Дерево решений, accuracy = 0.795;\n",
    "- Случайный лес, accuracy = 0.81\n",
    "\n",
    "Как и ожидалось, лучший показатель точности у модели \"Случайный лес\".\n"
   ]
  },
  {
   "cell_type": "markdown",
   "metadata": {},
   "source": [
    "## Проверьте модель на тестовой выборке"
   ]
  },
  {
   "cell_type": "markdown",
   "metadata": {},
   "source": [
    "__Тест на модели \"Логистическая регрессия\"__"
   ]
  },
  {
   "cell_type": "code",
   "execution_count": 16,
   "metadata": {},
   "outputs": [
    {
     "data": {
      "text/plain": [
       "LogisticRegression(max_iter=1000, random_state=123)"
      ]
     },
     "execution_count": 16,
     "metadata": {},
     "output_type": "execute_result"
    }
   ],
   "source": [
    "model_logr"
   ]
  },
  {
   "cell_type": "code",
   "execution_count": 17,
   "metadata": {},
   "outputs": [
    {
     "name": "stdout",
     "output_type": "stream",
     "text": [
      "Accuracy модели логистической регрессии: \n",
      "На валидационной выборке: 0.734 \n",
      "На тестовой выборке: 0.751\n"
     ]
    }
   ],
   "source": [
    "predictions_logr = model_logr.predict(features_test)\n",
    "result_logr1 = accuracy_score(target_test, predictions_logr)\n",
    "\n",
    "print(f'Accuracy модели логистической регрессии: \\nНа валидационной выборке: {result_logr.round(3)} \\nНа тестовой выборке: {result_logr1.round(3)}')"
   ]
  },
  {
   "cell_type": "code",
   "execution_count": null,
   "metadata": {},
   "outputs": [],
   "source": []
  },
  {
   "cell_type": "markdown",
   "metadata": {},
   "source": [
    "__Тест на модели \"Дерево решений\"__"
   ]
  },
  {
   "cell_type": "code",
   "execution_count": 18,
   "metadata": {},
   "outputs": [
    {
     "data": {
      "text/plain": [
       "DecisionTreeClassifier(max_depth=9, random_state=123)"
      ]
     },
     "execution_count": 18,
     "metadata": {},
     "output_type": "execute_result"
    }
   ],
   "source": [
    "best_model_dtc"
   ]
  },
  {
   "cell_type": "code",
   "execution_count": 19,
   "metadata": {},
   "outputs": [
    {
     "name": "stdout",
     "output_type": "stream",
     "text": [
      "Accuracy модели случайный лес: \n",
      "На валидационной выборке: 0.795 \n",
      "На тестовой выборке: 0.787\n"
     ]
    }
   ],
   "source": [
    "predictions_test_dtc = best_model_dtc.predict(features_test)\n",
    "result_dtc = accuracy_score(target_test, predictions_test_dtc)\n",
    "\n",
    "print(f'Accuracy модели случайный лес: \\nНа валидационной выборке: {best_result_dtc.round(3)} \\nНа тестовой выборке: {result_dtc.round(3)}')"
   ]
  },
  {
   "cell_type": "code",
   "execution_count": null,
   "metadata": {},
   "outputs": [],
   "source": []
  },
  {
   "cell_type": "markdown",
   "metadata": {},
   "source": [
    "__Тест на модели \"Случайный лес\"__"
   ]
  },
  {
   "cell_type": "code",
   "execution_count": 20,
   "metadata": {},
   "outputs": [
    {
     "data": {
      "text/plain": [
       "RandomForestClassifier(max_depth=8, n_estimators=8, random_state=123)"
      ]
     },
     "execution_count": 20,
     "metadata": {},
     "output_type": "execute_result"
    }
   ],
   "source": [
    "best_model_rfc"
   ]
  },
  {
   "cell_type": "code",
   "execution_count": 21,
   "metadata": {},
   "outputs": [
    {
     "name": "stdout",
     "output_type": "stream",
     "text": [
      "Accuracy модели случайный лес: \n",
      "На валидационной выборке: 0.8103 \n",
      "На тестовой выборке: 0.795\n"
     ]
    }
   ],
   "source": [
    "predictions_test_rfc = best_model_rfc.predict(features_test)\n",
    "result_rfc = accuracy_score(target_test, predictions_test_rfc)\n",
    "\n",
    "print(f'Accuracy модели случайный лес: \\nНа валидационной выборке: {best_result_rfc.round(4)} \\nНа тестовой выборке: {result_rfc.round(3)}')"
   ]
  },
  {
   "cell_type": "markdown",
   "metadata": {},
   "source": [
    "__Вывод__\n",
    "\n",
    "При проверке наших моделей на тестовой выборке, доля правильных ответов у моделей __дерево решений__ и __случайный лес__ немного уменьшилась, а у __логистической регрессии__ чуть-чуть увеличилась. Самый высокая доля правильных ответов у модели __Случайный лес__ - __accuracy__ составляет 0.8103 и 0.795.\n",
    "\n",
    "Можно сказать, что наша модель может с 79%(81%) вероятностью подобрать подходящий тарифный план.\n",
    "\n",
    "Вероятно имея более конкретизирующих данные (признаки), например, сколько пользователь тратит денег на связь, какие дополнительные опции он получит перейдя на тариф Ультра, безлемитные ли звонки, интернет или нет и тд....скорее всего, модель получилось бы улучшить.\n"
   ]
  }
 ],
 "metadata": {
  "ExecuteTimeLog": [
   {
    "duration": 864,
    "start_time": "2023-07-31T07:34:30.650Z"
   },
   {
    "duration": 67,
    "start_time": "2023-07-31T07:34:51.551Z"
   },
   {
    "duration": 41,
    "start_time": "2023-07-31T07:34:57.668Z"
   },
   {
    "duration": 37,
    "start_time": "2023-07-31T07:35:02.702Z"
   },
   {
    "duration": 32,
    "start_time": "2023-07-31T07:36:57.571Z"
   },
   {
    "duration": 106,
    "start_time": "2023-07-31T07:37:27.012Z"
   },
   {
    "duration": 108,
    "start_time": "2023-07-31T07:37:38.998Z"
   },
   {
    "duration": 83,
    "start_time": "2023-07-31T07:37:51.443Z"
   },
   {
    "duration": 35,
    "start_time": "2023-07-31T07:37:56.369Z"
   },
   {
    "duration": 29,
    "start_time": "2023-07-31T07:39:33.907Z"
   },
   {
    "duration": 28,
    "start_time": "2023-07-31T07:39:42.350Z"
   },
   {
    "duration": 28,
    "start_time": "2023-07-31T07:39:53.163Z"
   },
   {
    "duration": 28,
    "start_time": "2023-07-31T07:40:04.562Z"
   },
   {
    "duration": 28,
    "start_time": "2023-07-31T07:40:22.120Z"
   },
   {
    "duration": 3,
    "start_time": "2023-07-31T07:41:51.018Z"
   },
   {
    "duration": 20,
    "start_time": "2023-07-31T07:41:55.408Z"
   },
   {
    "duration": 20,
    "start_time": "2023-07-31T07:41:59.608Z"
   },
   {
    "duration": 42,
    "start_time": "2023-07-31T07:43:13.970Z"
   },
   {
    "duration": 12,
    "start_time": "2023-07-31T07:43:24.505Z"
   },
   {
    "duration": 28,
    "start_time": "2023-07-31T07:43:35.685Z"
   },
   {
    "duration": 11,
    "start_time": "2023-07-31T08:44:04.974Z"
   },
   {
    "duration": 5,
    "start_time": "2023-07-31T08:44:50.611Z"
   },
   {
    "duration": 5,
    "start_time": "2023-07-31T08:46:02.704Z"
   },
   {
    "duration": 50,
    "start_time": "2023-07-31T11:17:02.877Z"
   },
   {
    "duration": 1203,
    "start_time": "2023-07-31T11:17:16.498Z"
   },
   {
    "duration": 131,
    "start_time": "2023-07-31T11:17:17.703Z"
   },
   {
    "duration": 20,
    "start_time": "2023-07-31T11:17:17.836Z"
   },
   {
    "duration": 26,
    "start_time": "2023-07-31T11:17:17.857Z"
   },
   {
    "duration": 9,
    "start_time": "2023-07-31T11:17:17.886Z"
   },
   {
    "duration": 129,
    "start_time": "2023-07-31T11:17:17.896Z"
   },
   {
    "duration": 0,
    "start_time": "2023-07-31T11:17:18.027Z"
   },
   {
    "duration": 5,
    "start_time": "2023-07-31T11:17:28.168Z"
   },
   {
    "duration": 12,
    "start_time": "2023-07-31T11:17:49.250Z"
   },
   {
    "duration": 6,
    "start_time": "2023-07-31T11:17:55.847Z"
   },
   {
    "duration": 8,
    "start_time": "2023-07-31T11:18:25.986Z"
   },
   {
    "duration": 7,
    "start_time": "2023-07-31T11:19:05.116Z"
   },
   {
    "duration": 8,
    "start_time": "2023-07-31T11:25:32.949Z"
   },
   {
    "duration": 6,
    "start_time": "2023-07-31T11:26:04.650Z"
   },
   {
    "duration": 7,
    "start_time": "2023-07-31T11:27:30.679Z"
   },
   {
    "duration": 7,
    "start_time": "2023-07-31T11:28:02.975Z"
   },
   {
    "duration": 7,
    "start_time": "2023-07-31T11:28:27.448Z"
   },
   {
    "duration": 5,
    "start_time": "2023-07-31T11:42:01.882Z"
   },
   {
    "duration": 12,
    "start_time": "2023-07-31T11:42:36.646Z"
   },
   {
    "duration": 36,
    "start_time": "2023-07-31T11:42:51.707Z"
   },
   {
    "duration": 105,
    "start_time": "2023-07-31T11:43:28.245Z"
   },
   {
    "duration": 19,
    "start_time": "2023-07-31T11:43:36.555Z"
   },
   {
    "duration": 35,
    "start_time": "2023-07-31T11:43:39.641Z"
   },
   {
    "duration": 9,
    "start_time": "2023-07-31T11:44:21.436Z"
   },
   {
    "duration": 9,
    "start_time": "2023-07-31T11:44:48.501Z"
   },
   {
    "duration": 13,
    "start_time": "2023-07-31T11:45:20.548Z"
   },
   {
    "duration": 15,
    "start_time": "2023-07-31T11:45:33.459Z"
   },
   {
    "duration": 14,
    "start_time": "2023-07-31T11:45:38.809Z"
   },
   {
    "duration": 8,
    "start_time": "2023-07-31T11:45:44.274Z"
   },
   {
    "duration": 40,
    "start_time": "2023-07-31T11:46:23.859Z"
   },
   {
    "duration": 10,
    "start_time": "2023-07-31T11:46:28.747Z"
   },
   {
    "duration": 10,
    "start_time": "2023-07-31T11:49:07.270Z"
   },
   {
    "duration": 4,
    "start_time": "2023-07-31T11:49:39.761Z"
   },
   {
    "duration": 37,
    "start_time": "2023-07-31T11:49:41.117Z"
   },
   {
    "duration": 13,
    "start_time": "2023-07-31T11:49:47.344Z"
   },
   {
    "duration": 11,
    "start_time": "2023-07-31T11:49:53.702Z"
   },
   {
    "duration": 10,
    "start_time": "2023-07-31T11:50:18.075Z"
   },
   {
    "duration": 4,
    "start_time": "2023-07-31T11:50:36.079Z"
   },
   {
    "duration": 17,
    "start_time": "2023-07-31T11:50:39.605Z"
   },
   {
    "duration": 6,
    "start_time": "2023-07-31T11:50:43.615Z"
   },
   {
    "duration": 13,
    "start_time": "2023-07-31T11:56:12.101Z"
   },
   {
    "duration": 5,
    "start_time": "2023-07-31T11:56:28.797Z"
   },
   {
    "duration": 1146,
    "start_time": "2023-07-31T11:58:15.952Z"
   },
   {
    "duration": 41,
    "start_time": "2023-07-31T11:58:17.100Z"
   },
   {
    "duration": 19,
    "start_time": "2023-07-31T11:58:17.142Z"
   },
   {
    "duration": 37,
    "start_time": "2023-07-31T11:58:17.163Z"
   },
   {
    "duration": 9,
    "start_time": "2023-07-31T11:58:17.203Z"
   },
   {
    "duration": 114,
    "start_time": "2023-07-31T11:58:17.213Z"
   },
   {
    "duration": 0,
    "start_time": "2023-07-31T11:58:17.328Z"
   },
   {
    "duration": 0,
    "start_time": "2023-07-31T11:58:17.329Z"
   },
   {
    "duration": 0,
    "start_time": "2023-07-31T11:58:17.330Z"
   },
   {
    "duration": 1103,
    "start_time": "2023-07-31T11:59:36.146Z"
   },
   {
    "duration": 39,
    "start_time": "2023-07-31T11:59:37.251Z"
   },
   {
    "duration": 19,
    "start_time": "2023-07-31T11:59:37.292Z"
   },
   {
    "duration": 37,
    "start_time": "2023-07-31T11:59:37.313Z"
   },
   {
    "duration": 20,
    "start_time": "2023-07-31T11:59:37.352Z"
   },
   {
    "duration": 14,
    "start_time": "2023-07-31T11:59:37.374Z"
   },
   {
    "duration": 70,
    "start_time": "2023-07-31T11:59:37.390Z"
   },
   {
    "duration": 99,
    "start_time": "2023-07-31T11:59:37.462Z"
   },
   {
    "duration": 0,
    "start_time": "2023-07-31T11:59:37.562Z"
   },
   {
    "duration": 10,
    "start_time": "2023-07-31T12:00:39.980Z"
   },
   {
    "duration": 14,
    "start_time": "2023-07-31T12:01:15.793Z"
   },
   {
    "duration": 11,
    "start_time": "2023-07-31T12:01:32.739Z"
   },
   {
    "duration": 1210,
    "start_time": "2023-07-31T12:01:41.432Z"
   },
   {
    "duration": 39,
    "start_time": "2023-07-31T12:01:42.644Z"
   },
   {
    "duration": 34,
    "start_time": "2023-07-31T12:01:42.686Z"
   },
   {
    "duration": 41,
    "start_time": "2023-07-31T12:01:42.722Z"
   },
   {
    "duration": 58,
    "start_time": "2023-07-31T12:01:42.766Z"
   },
   {
    "duration": 37,
    "start_time": "2023-07-31T12:01:42.826Z"
   },
   {
    "duration": 50,
    "start_time": "2023-07-31T12:01:42.865Z"
   },
   {
    "duration": 107,
    "start_time": "2023-07-31T12:01:42.917Z"
   },
   {
    "duration": 0,
    "start_time": "2023-07-31T12:01:43.026Z"
   },
   {
    "duration": 34,
    "start_time": "2023-07-31T12:04:17.968Z"
   },
   {
    "duration": 9,
    "start_time": "2023-07-31T12:04:22.355Z"
   },
   {
    "duration": 20,
    "start_time": "2023-07-31T12:04:28.859Z"
   },
   {
    "duration": 9,
    "start_time": "2023-07-31T12:04:33.340Z"
   },
   {
    "duration": 3,
    "start_time": "2023-07-31T12:05:42.287Z"
   },
   {
    "duration": 10,
    "start_time": "2023-07-31T12:06:35.475Z"
   },
   {
    "duration": 14,
    "start_time": "2023-07-31T12:06:40.879Z"
   },
   {
    "duration": 11,
    "start_time": "2023-07-31T12:08:12.148Z"
   },
   {
    "duration": 13,
    "start_time": "2023-07-31T12:08:26.958Z"
   },
   {
    "duration": 6,
    "start_time": "2023-07-31T12:08:36.166Z"
   },
   {
    "duration": 5,
    "start_time": "2023-07-31T12:17:10.648Z"
   },
   {
    "duration": 10,
    "start_time": "2023-07-31T12:18:18.503Z"
   },
   {
    "duration": 4,
    "start_time": "2023-07-31T12:26:56.675Z"
   },
   {
    "duration": 3,
    "start_time": "2023-07-31T12:27:20.794Z"
   },
   {
    "duration": 11,
    "start_time": "2023-07-31T12:36:33.149Z"
   },
   {
    "duration": 13,
    "start_time": "2023-07-31T12:37:51.097Z"
   },
   {
    "duration": 10,
    "start_time": "2023-07-31T12:38:33.794Z"
   },
   {
    "duration": 10,
    "start_time": "2023-07-31T12:39:16.248Z"
   },
   {
    "duration": 9,
    "start_time": "2023-07-31T12:42:00.148Z"
   },
   {
    "duration": 11,
    "start_time": "2023-07-31T12:44:20.454Z"
   },
   {
    "duration": 9,
    "start_time": "2023-07-31T12:44:39.216Z"
   },
   {
    "duration": 5,
    "start_time": "2023-07-31T12:44:44.475Z"
   },
   {
    "duration": 4,
    "start_time": "2023-07-31T12:46:34.171Z"
   },
   {
    "duration": 7,
    "start_time": "2023-07-31T12:46:34.931Z"
   },
   {
    "duration": 4,
    "start_time": "2023-07-31T12:46:40.248Z"
   },
   {
    "duration": 8,
    "start_time": "2023-07-31T12:48:53.921Z"
   },
   {
    "duration": 4,
    "start_time": "2023-07-31T12:48:56.466Z"
   },
   {
    "duration": 8,
    "start_time": "2023-07-31T12:49:02.275Z"
   },
   {
    "duration": 4,
    "start_time": "2023-07-31T12:49:04.085Z"
   },
   {
    "duration": 8,
    "start_time": "2023-07-31T12:49:08.143Z"
   },
   {
    "duration": 4,
    "start_time": "2023-07-31T12:49:10.120Z"
   },
   {
    "duration": 5,
    "start_time": "2023-07-31T12:50:10.397Z"
   },
   {
    "duration": 10,
    "start_time": "2023-07-31T12:52:41.823Z"
   },
   {
    "duration": 5,
    "start_time": "2023-07-31T12:52:43.449Z"
   },
   {
    "duration": 5,
    "start_time": "2023-07-31T12:53:02.848Z"
   },
   {
    "duration": 4,
    "start_time": "2023-07-31T12:53:29.540Z"
   },
   {
    "duration": 1189,
    "start_time": "2023-07-31T12:53:34.078Z"
   },
   {
    "duration": 40,
    "start_time": "2023-07-31T12:53:35.270Z"
   },
   {
    "duration": 20,
    "start_time": "2023-07-31T12:53:35.312Z"
   },
   {
    "duration": 24,
    "start_time": "2023-07-31T12:53:35.334Z"
   },
   {
    "duration": 4,
    "start_time": "2023-07-31T12:53:35.361Z"
   },
   {
    "duration": 16,
    "start_time": "2023-07-31T12:53:35.366Z"
   },
   {
    "duration": 27,
    "start_time": "2023-07-31T12:53:35.384Z"
   },
   {
    "duration": 6,
    "start_time": "2023-07-31T12:53:35.413Z"
   },
   {
    "duration": 100,
    "start_time": "2023-07-31T12:58:21.048Z"
   },
   {
    "duration": 5,
    "start_time": "2023-07-31T12:58:23.300Z"
   },
   {
    "duration": 7,
    "start_time": "2023-07-31T12:58:23.874Z"
   },
   {
    "duration": 4,
    "start_time": "2023-07-31T12:58:24.599Z"
   },
   {
    "duration": 5,
    "start_time": "2023-07-31T13:05:11.584Z"
   },
   {
    "duration": 10,
    "start_time": "2023-07-31T13:07:16.484Z"
   },
   {
    "duration": 5,
    "start_time": "2023-07-31T13:07:21.452Z"
   },
   {
    "duration": 1245,
    "start_time": "2023-07-31T13:07:36.070Z"
   },
   {
    "duration": 39,
    "start_time": "2023-07-31T13:07:37.318Z"
   },
   {
    "duration": 23,
    "start_time": "2023-07-31T13:07:37.359Z"
   },
   {
    "duration": 28,
    "start_time": "2023-07-31T13:07:37.384Z"
   },
   {
    "duration": 6,
    "start_time": "2023-07-31T13:07:37.415Z"
   },
   {
    "duration": 7,
    "start_time": "2023-07-31T13:07:37.423Z"
   },
   {
    "duration": 12,
    "start_time": "2023-07-31T13:07:37.431Z"
   },
   {
    "duration": 32,
    "start_time": "2023-07-31T13:07:37.446Z"
   },
   {
    "duration": 8,
    "start_time": "2023-07-31T13:07:37.480Z"
   },
   {
    "duration": 5,
    "start_time": "2023-07-31T13:07:46.852Z"
   },
   {
    "duration": 6,
    "start_time": "2023-07-31T13:07:50.460Z"
   },
   {
    "duration": 12,
    "start_time": "2023-07-31T13:09:13.954Z"
   },
   {
    "duration": 32,
    "start_time": "2023-07-31T13:10:33.267Z"
   },
   {
    "duration": 12,
    "start_time": "2023-07-31T13:10:35.261Z"
   },
   {
    "duration": 1125,
    "start_time": "2023-07-31T13:10:40.552Z"
   },
   {
    "duration": 32,
    "start_time": "2023-07-31T13:10:41.679Z"
   },
   {
    "duration": 12,
    "start_time": "2023-07-31T13:10:41.713Z"
   },
   {
    "duration": 26,
    "start_time": "2023-07-31T13:10:41.728Z"
   },
   {
    "duration": 24,
    "start_time": "2023-07-31T13:10:41.756Z"
   },
   {
    "duration": 30,
    "start_time": "2023-07-31T13:10:41.781Z"
   },
   {
    "duration": 25,
    "start_time": "2023-07-31T13:10:41.812Z"
   },
   {
    "duration": 23,
    "start_time": "2023-07-31T13:10:41.840Z"
   },
   {
    "duration": 12,
    "start_time": "2023-07-31T13:10:41.864Z"
   },
   {
    "duration": 10,
    "start_time": "2023-07-31T13:10:41.878Z"
   },
   {
    "duration": 80,
    "start_time": "2023-07-31T13:14:51.349Z"
   },
   {
    "duration": 17,
    "start_time": "2023-07-31T13:18:33.837Z"
   },
   {
    "duration": 10,
    "start_time": "2023-07-31T13:20:26.361Z"
   },
   {
    "duration": 7,
    "start_time": "2023-07-31T13:20:53.047Z"
   },
   {
    "duration": 1119,
    "start_time": "2023-07-31T13:35:27.609Z"
   },
   {
    "duration": 32,
    "start_time": "2023-07-31T13:35:28.730Z"
   },
   {
    "duration": 13,
    "start_time": "2023-07-31T13:35:28.764Z"
   },
   {
    "duration": 36,
    "start_time": "2023-07-31T13:35:28.778Z"
   },
   {
    "duration": 37,
    "start_time": "2023-07-31T13:35:28.818Z"
   },
   {
    "duration": 27,
    "start_time": "2023-07-31T13:35:28.857Z"
   },
   {
    "duration": 47,
    "start_time": "2023-07-31T13:35:28.887Z"
   },
   {
    "duration": 6,
    "start_time": "2023-07-31T13:35:28.937Z"
   },
   {
    "duration": 29,
    "start_time": "2023-07-31T13:35:28.945Z"
   },
   {
    "duration": 18,
    "start_time": "2023-07-31T13:35:28.976Z"
   },
   {
    "duration": 17,
    "start_time": "2023-07-31T13:35:28.996Z"
   },
   {
    "duration": 24,
    "start_time": "2023-07-31T13:35:29.015Z"
   },
   {
    "duration": 97,
    "start_time": "2023-07-31T14:02:41.486Z"
   },
   {
    "duration": 3,
    "start_time": "2023-07-31T14:02:47.191Z"
   },
   {
    "duration": 3,
    "start_time": "2023-07-31T14:08:21.388Z"
   },
   {
    "duration": 38,
    "start_time": "2023-07-31T14:08:51.704Z"
   },
   {
    "duration": 47,
    "start_time": "2023-07-31T14:10:33.048Z"
   },
   {
    "duration": 39,
    "start_time": "2023-07-31T14:11:39.805Z"
   },
   {
    "duration": 40,
    "start_time": "2023-07-31T14:11:48.290Z"
   },
   {
    "duration": 105,
    "start_time": "2023-07-31T14:22:15.903Z"
   },
   {
    "duration": 202,
    "start_time": "2023-07-31T14:22:28.625Z"
   },
   {
    "duration": 35,
    "start_time": "2023-07-31T14:22:36.549Z"
   },
   {
    "duration": 40,
    "start_time": "2023-07-31T14:22:41.758Z"
   },
   {
    "duration": 65,
    "start_time": "2023-07-31T14:22:48.846Z"
   },
   {
    "duration": 110,
    "start_time": "2023-07-31T14:23:25.245Z"
   },
   {
    "duration": 16,
    "start_time": "2023-07-31T14:27:41.287Z"
   },
   {
    "duration": 14,
    "start_time": "2023-07-31T14:29:32.758Z"
   },
   {
    "duration": 103,
    "start_time": "2023-07-31T14:31:05.387Z"
   },
   {
    "duration": 23,
    "start_time": "2023-07-31T14:31:46.197Z"
   },
   {
    "duration": 19,
    "start_time": "2023-07-31T14:35:53.781Z"
   },
   {
    "duration": 3,
    "start_time": "2023-07-31T14:36:32.888Z"
   },
   {
    "duration": 18,
    "start_time": "2023-07-31T14:36:34.157Z"
   },
   {
    "duration": 20,
    "start_time": "2023-07-31T14:37:01.585Z"
   },
   {
    "duration": 17,
    "start_time": "2023-07-31T14:37:18.166Z"
   },
   {
    "duration": 17,
    "start_time": "2023-07-31T14:39:30.420Z"
   },
   {
    "duration": 19,
    "start_time": "2023-07-31T14:39:44.798Z"
   },
   {
    "duration": 18,
    "start_time": "2023-07-31T14:40:10.082Z"
   },
   {
    "duration": 1389,
    "start_time": "2023-07-31T14:47:19.876Z"
   },
   {
    "duration": 35,
    "start_time": "2023-07-31T14:47:21.268Z"
   },
   {
    "duration": 21,
    "start_time": "2023-07-31T14:47:21.305Z"
   },
   {
    "duration": 35,
    "start_time": "2023-07-31T14:47:21.328Z"
   },
   {
    "duration": 48,
    "start_time": "2023-07-31T14:47:21.368Z"
   },
   {
    "duration": 32,
    "start_time": "2023-07-31T14:47:21.421Z"
   },
   {
    "duration": 51,
    "start_time": "2023-07-31T14:47:21.455Z"
   },
   {
    "duration": 7,
    "start_time": "2023-07-31T14:47:21.508Z"
   },
   {
    "duration": 31,
    "start_time": "2023-07-31T14:47:21.517Z"
   },
   {
    "duration": 28,
    "start_time": "2023-07-31T14:47:21.550Z"
   },
   {
    "duration": 23,
    "start_time": "2023-07-31T14:47:21.581Z"
   },
   {
    "duration": 20,
    "start_time": "2023-07-31T14:47:21.606Z"
   },
   {
    "duration": 95,
    "start_time": "2023-07-31T14:47:21.629Z"
   },
   {
    "duration": 3,
    "start_time": "2023-07-31T14:47:21.729Z"
   },
   {
    "duration": 85,
    "start_time": "2023-07-31T14:49:21.057Z"
   },
   {
    "duration": 112,
    "start_time": "2023-07-31T14:51:18.919Z"
   },
   {
    "duration": 20,
    "start_time": "2023-07-31T14:51:27.945Z"
   },
   {
    "duration": 18,
    "start_time": "2023-07-31T14:52:43.222Z"
   },
   {
    "duration": 18,
    "start_time": "2023-07-31T14:53:59.196Z"
   },
   {
    "duration": 107,
    "start_time": "2023-07-31T14:54:05.558Z"
   },
   {
    "duration": 85,
    "start_time": "2023-07-31T14:55:19.146Z"
   },
   {
    "duration": 86,
    "start_time": "2023-07-31T14:55:43.360Z"
   },
   {
    "duration": 89,
    "start_time": "2023-07-31T14:58:11.150Z"
   },
   {
    "duration": 91,
    "start_time": "2023-07-31T14:58:18.845Z"
   },
   {
    "duration": 83,
    "start_time": "2023-07-31T14:58:23.949Z"
   },
   {
    "duration": 87,
    "start_time": "2023-07-31T14:58:37.710Z"
   },
   {
    "duration": 89,
    "start_time": "2023-07-31T15:00:00.085Z"
   },
   {
    "duration": 129,
    "start_time": "2023-07-31T15:01:16.599Z"
   },
   {
    "duration": 1254,
    "start_time": "2023-07-31T15:54:10.906Z"
   },
   {
    "duration": 31,
    "start_time": "2023-07-31T15:54:12.162Z"
   },
   {
    "duration": 12,
    "start_time": "2023-07-31T15:54:12.195Z"
   },
   {
    "duration": 32,
    "start_time": "2023-07-31T15:54:12.214Z"
   },
   {
    "duration": 13,
    "start_time": "2023-07-31T15:54:12.249Z"
   },
   {
    "duration": 14,
    "start_time": "2023-07-31T15:54:12.265Z"
   },
   {
    "duration": 25,
    "start_time": "2023-07-31T15:54:12.281Z"
   },
   {
    "duration": 6,
    "start_time": "2023-07-31T15:54:12.309Z"
   },
   {
    "duration": 10,
    "start_time": "2023-07-31T15:54:12.317Z"
   },
   {
    "duration": 11,
    "start_time": "2023-07-31T15:54:12.328Z"
   },
   {
    "duration": 9,
    "start_time": "2023-07-31T15:54:12.341Z"
   },
   {
    "duration": 7,
    "start_time": "2023-07-31T15:54:12.352Z"
   },
   {
    "duration": 176,
    "start_time": "2023-07-31T15:54:12.361Z"
   },
   {
    "duration": 0,
    "start_time": "2023-07-31T15:54:12.539Z"
   },
   {
    "duration": 56,
    "start_time": "2023-07-31T15:54:21.842Z"
   },
   {
    "duration": 144,
    "start_time": "2023-07-31T15:54:25.775Z"
   },
   {
    "duration": 50,
    "start_time": "2023-07-31T15:56:23.371Z"
   },
   {
    "duration": 5,
    "start_time": "2023-07-31T15:56:38.753Z"
   },
   {
    "duration": 1248,
    "start_time": "2023-07-31T15:56:43.942Z"
   },
   {
    "duration": 39,
    "start_time": "2023-07-31T15:56:45.193Z"
   },
   {
    "duration": 20,
    "start_time": "2023-07-31T15:56:45.234Z"
   },
   {
    "duration": 41,
    "start_time": "2023-07-31T15:56:45.256Z"
   },
   {
    "duration": 6,
    "start_time": "2023-07-31T15:56:45.300Z"
   },
   {
    "duration": 36,
    "start_time": "2023-07-31T15:56:45.307Z"
   },
   {
    "duration": 31,
    "start_time": "2023-07-31T15:56:45.346Z"
   },
   {
    "duration": 7,
    "start_time": "2023-07-31T15:56:45.379Z"
   },
   {
    "duration": 17,
    "start_time": "2023-07-31T15:56:45.388Z"
   },
   {
    "duration": 13,
    "start_time": "2023-07-31T15:56:45.407Z"
   },
   {
    "duration": 11,
    "start_time": "2023-07-31T15:56:45.422Z"
   },
   {
    "duration": 18,
    "start_time": "2023-07-31T15:56:45.435Z"
   },
   {
    "duration": 62,
    "start_time": "2023-07-31T15:56:45.455Z"
   },
   {
    "duration": 125,
    "start_time": "2023-07-31T15:56:45.520Z"
   },
   {
    "duration": 56,
    "start_time": "2023-07-31T15:56:58.953Z"
   },
   {
    "duration": 154,
    "start_time": "2023-07-31T15:57:08.923Z"
   },
   {
    "duration": 62,
    "start_time": "2023-07-31T15:57:24.083Z"
   },
   {
    "duration": 139,
    "start_time": "2023-07-31T15:57:25.860Z"
   },
   {
    "duration": 135,
    "start_time": "2023-07-31T15:58:05.768Z"
   },
   {
    "duration": 115,
    "start_time": "2023-07-31T16:03:12.323Z"
   },
   {
    "duration": 109,
    "start_time": "2023-07-31T16:03:29.132Z"
   },
   {
    "duration": 117,
    "start_time": "2023-07-31T16:03:38.451Z"
   },
   {
    "duration": 119,
    "start_time": "2023-07-31T16:03:41.345Z"
   },
   {
    "duration": 119,
    "start_time": "2023-07-31T16:03:44.951Z"
   },
   {
    "duration": 43,
    "start_time": "2023-07-31T16:03:54.656Z"
   },
   {
    "duration": 128280,
    "start_time": "2023-07-31T16:06:39.992Z"
   },
   {
    "duration": 105,
    "start_time": "2023-07-31T16:16:27.633Z"
   },
   {
    "duration": 112425,
    "start_time": "2023-07-31T16:16:30.684Z"
   },
   {
    "duration": 8981,
    "start_time": "2023-07-31T16:19:02.774Z"
   },
   {
    "duration": 10144,
    "start_time": "2023-07-31T16:20:11.336Z"
   },
   {
    "duration": 10946,
    "start_time": "2023-07-31T16:21:03.533Z"
   },
   {
    "duration": 9625,
    "start_time": "2023-07-31T16:21:23.594Z"
   },
   {
    "duration": 10025,
    "start_time": "2023-07-31T16:22:15.321Z"
   },
   {
    "duration": 11325,
    "start_time": "2023-07-31T16:22:48.072Z"
   },
   {
    "duration": 10892,
    "start_time": "2023-07-31T16:33:11.219Z"
   },
   {
    "duration": 10751,
    "start_time": "2023-07-31T16:37:30.231Z"
   },
   {
    "duration": 17738,
    "start_time": "2023-07-31T16:38:06.280Z"
   },
   {
    "duration": 50499,
    "start_time": "2023-07-31T16:38:39.353Z"
   },
   {
    "duration": 4999,
    "start_time": "2023-07-31T16:40:24.940Z"
   },
   {
    "duration": 4514,
    "start_time": "2023-07-31T16:41:50.217Z"
   },
   {
    "duration": 4807,
    "start_time": "2023-07-31T16:53:26.773Z"
   },
   {
    "duration": 4886,
    "start_time": "2023-07-31T16:53:36.043Z"
   },
   {
    "duration": 6,
    "start_time": "2023-07-31T17:04:44.437Z"
   },
   {
    "duration": 1322,
    "start_time": "2023-07-31T17:07:06.838Z"
   },
   {
    "duration": 35,
    "start_time": "2023-07-31T17:07:08.163Z"
   },
   {
    "duration": 76,
    "start_time": "2023-07-31T17:07:08.201Z"
   },
   {
    "duration": 71,
    "start_time": "2023-07-31T17:07:08.279Z"
   },
   {
    "duration": 19,
    "start_time": "2023-07-31T17:07:08.355Z"
   },
   {
    "duration": 58,
    "start_time": "2023-07-31T17:07:08.376Z"
   },
   {
    "duration": 107,
    "start_time": "2023-07-31T17:07:08.436Z"
   },
   {
    "duration": 8,
    "start_time": "2023-07-31T17:07:08.545Z"
   },
   {
    "duration": 45,
    "start_time": "2023-07-31T17:07:08.555Z"
   },
   {
    "duration": 65,
    "start_time": "2023-07-31T17:07:08.603Z"
   },
   {
    "duration": 59,
    "start_time": "2023-07-31T17:07:08.671Z"
   },
   {
    "duration": 64,
    "start_time": "2023-07-31T17:07:08.732Z"
   },
   {
    "duration": 75,
    "start_time": "2023-07-31T17:07:08.799Z"
   },
   {
    "duration": 113,
    "start_time": "2023-07-31T17:07:08.877Z"
   },
   {
    "duration": 4911,
    "start_time": "2023-07-31T17:07:08.993Z"
   },
   {
    "duration": 13,
    "start_time": "2023-07-31T17:12:13.392Z"
   },
   {
    "duration": 5,
    "start_time": "2023-07-31T17:13:18.100Z"
   },
   {
    "duration": 8823,
    "start_time": "2023-07-31T17:13:35.561Z"
   },
   {
    "duration": 132,
    "start_time": "2023-07-31T17:15:47.879Z"
   },
   {
    "duration": 13,
    "start_time": "2023-07-31T17:15:56.101Z"
   },
   {
    "duration": 12,
    "start_time": "2023-07-31T17:16:29.874Z"
   },
   {
    "duration": 116,
    "start_time": "2023-07-31T17:18:02.448Z"
   },
   {
    "duration": 153,
    "start_time": "2023-07-31T17:18:59.292Z"
   },
   {
    "duration": 157,
    "start_time": "2023-07-31T17:19:10.893Z"
   },
   {
    "duration": 129,
    "start_time": "2023-07-31T17:20:32.870Z"
   },
   {
    "duration": 6160,
    "start_time": "2023-07-31T17:21:50.141Z"
   },
   {
    "duration": 28,
    "start_time": "2023-07-31T17:28:08.007Z"
   },
   {
    "duration": 6,
    "start_time": "2023-07-31T17:28:44.983Z"
   },
   {
    "duration": 8,
    "start_time": "2023-07-31T17:29:59.710Z"
   },
   {
    "duration": 7,
    "start_time": "2023-07-31T17:31:50.353Z"
   },
   {
    "duration": 61,
    "start_time": "2023-07-31T17:33:05.855Z"
   },
   {
    "duration": 56,
    "start_time": "2023-07-31T17:33:12.507Z"
   },
   {
    "duration": 58,
    "start_time": "2023-07-31T17:34:14.945Z"
   },
   {
    "duration": 9,
    "start_time": "2023-07-31T17:35:30.855Z"
   },
   {
    "duration": 116,
    "start_time": "2023-07-31T17:38:05.242Z"
   },
   {
    "duration": 126,
    "start_time": "2023-07-31T17:38:12.253Z"
   },
   {
    "duration": 130,
    "start_time": "2023-07-31T17:38:34.362Z"
   },
   {
    "duration": 7,
    "start_time": "2023-07-31T17:38:41.794Z"
   },
   {
    "duration": 6480,
    "start_time": "2023-07-31T17:40:50.745Z"
   },
   {
    "duration": 1185,
    "start_time": "2023-07-31T17:41:49.526Z"
   },
   {
    "duration": 11,
    "start_time": "2023-07-31T17:43:24.926Z"
   },
   {
    "duration": 6783,
    "start_time": "2023-07-31T17:44:00.706Z"
   },
   {
    "duration": 6377,
    "start_time": "2023-07-31T17:44:54.602Z"
   },
   {
    "duration": 79,
    "start_time": "2023-07-31T17:45:00.982Z"
   },
   {
    "duration": 19,
    "start_time": "2023-07-31T18:03:04.165Z"
   },
   {
    "duration": 20,
    "start_time": "2023-07-31T18:04:04.867Z"
   },
   {
    "duration": 19,
    "start_time": "2023-07-31T18:04:12.598Z"
   },
   {
    "duration": 6,
    "start_time": "2023-07-31T18:04:32.290Z"
   },
   {
    "duration": 1371,
    "start_time": "2023-07-31T18:04:56.676Z"
   },
   {
    "duration": 35,
    "start_time": "2023-07-31T18:04:58.050Z"
   },
   {
    "duration": 121,
    "start_time": "2023-07-31T18:04:58.088Z"
   },
   {
    "duration": 66,
    "start_time": "2023-07-31T18:04:58.212Z"
   },
   {
    "duration": 77,
    "start_time": "2023-07-31T18:04:58.283Z"
   },
   {
    "duration": 88,
    "start_time": "2023-07-31T18:04:58.362Z"
   },
   {
    "duration": 41,
    "start_time": "2023-07-31T18:04:58.452Z"
   },
   {
    "duration": 17,
    "start_time": "2023-07-31T18:04:58.495Z"
   },
   {
    "duration": 42,
    "start_time": "2023-07-31T18:04:58.513Z"
   },
   {
    "duration": 20,
    "start_time": "2023-07-31T18:04:58.557Z"
   },
   {
    "duration": 7,
    "start_time": "2023-07-31T18:04:58.579Z"
   },
   {
    "duration": 59,
    "start_time": "2023-07-31T18:04:58.588Z"
   },
   {
    "duration": 123,
    "start_time": "2023-07-31T18:04:58.648Z"
   },
   {
    "duration": 6754,
    "start_time": "2023-07-31T18:04:58.775Z"
   },
   {
    "duration": 8,
    "start_time": "2023-07-31T18:05:05.532Z"
   },
   {
    "duration": 33,
    "start_time": "2023-07-31T18:05:05.542Z"
   },
   {
    "duration": 33,
    "start_time": "2023-07-31T18:05:05.578Z"
   },
   {
    "duration": 142,
    "start_time": "2023-07-31T18:05:05.613Z"
   },
   {
    "duration": 6830,
    "start_time": "2023-07-31T18:06:02.043Z"
   },
   {
    "duration": 6904,
    "start_time": "2023-07-31T18:06:14.301Z"
   },
   {
    "duration": 6,
    "start_time": "2023-07-31T18:06:42.183Z"
   },
   {
    "duration": 21,
    "start_time": "2023-07-31T18:06:59.904Z"
   },
   {
    "duration": 20,
    "start_time": "2023-07-31T18:07:05.579Z"
   },
   {
    "duration": 14,
    "start_time": "2023-07-31T18:08:47.265Z"
   },
   {
    "duration": 11,
    "start_time": "2023-07-31T18:09:27.347Z"
   },
   {
    "duration": 13,
    "start_time": "2023-07-31T18:12:31.500Z"
   },
   {
    "duration": 7,
    "start_time": "2023-07-31T18:12:40.946Z"
   },
   {
    "duration": 10,
    "start_time": "2023-07-31T18:12:43.585Z"
   },
   {
    "duration": 120,
    "start_time": "2023-07-31T18:16:11.050Z"
   },
   {
    "duration": 6,
    "start_time": "2023-07-31T18:16:26.247Z"
   },
   {
    "duration": 9,
    "start_time": "2023-07-31T18:17:40.267Z"
   },
   {
    "duration": 4,
    "start_time": "2023-07-31T18:48:53.354Z"
   },
   {
    "duration": 1277,
    "start_time": "2023-07-31T18:49:13.416Z"
   },
   {
    "duration": 35,
    "start_time": "2023-07-31T18:49:14.696Z"
   },
   {
    "duration": 16,
    "start_time": "2023-07-31T18:49:14.737Z"
   },
   {
    "duration": 35,
    "start_time": "2023-07-31T18:49:14.755Z"
   },
   {
    "duration": 7,
    "start_time": "2023-07-31T18:49:14.792Z"
   },
   {
    "duration": 11,
    "start_time": "2023-07-31T18:49:14.801Z"
   },
   {
    "duration": 7,
    "start_time": "2023-07-31T18:49:14.813Z"
   },
   {
    "duration": 6,
    "start_time": "2023-07-31T18:49:14.821Z"
   },
   {
    "duration": 13,
    "start_time": "2023-07-31T18:49:14.830Z"
   },
   {
    "duration": 5,
    "start_time": "2023-07-31T18:49:14.845Z"
   },
   {
    "duration": 9,
    "start_time": "2023-07-31T18:49:14.852Z"
   },
   {
    "duration": 63,
    "start_time": "2023-07-31T18:49:14.863Z"
   },
   {
    "duration": 118,
    "start_time": "2023-07-31T18:49:14.928Z"
   },
   {
    "duration": 6354,
    "start_time": "2023-07-31T18:49:15.048Z"
   },
   {
    "duration": 5,
    "start_time": "2023-07-31T18:49:21.408Z"
   },
   {
    "duration": 24,
    "start_time": "2023-07-31T18:49:21.415Z"
   },
   {
    "duration": 12,
    "start_time": "2023-07-31T18:49:21.441Z"
   },
   {
    "duration": 13,
    "start_time": "2023-07-31T18:49:21.455Z"
   },
   {
    "duration": 54,
    "start_time": "2023-07-31T18:49:21.470Z"
   },
   {
    "duration": 85,
    "start_time": "2023-07-31T18:49:21.527Z"
   },
   {
    "duration": 1163,
    "start_time": "2023-07-31T18:50:40.201Z"
   },
   {
    "duration": 36,
    "start_time": "2023-07-31T18:50:41.366Z"
   },
   {
    "duration": 13,
    "start_time": "2023-07-31T18:50:41.403Z"
   },
   {
    "duration": 29,
    "start_time": "2023-07-31T18:50:41.419Z"
   },
   {
    "duration": 8,
    "start_time": "2023-07-31T18:50:41.452Z"
   },
   {
    "duration": 9,
    "start_time": "2023-07-31T18:50:41.463Z"
   },
   {
    "duration": 38,
    "start_time": "2023-07-31T18:50:41.474Z"
   },
   {
    "duration": 7,
    "start_time": "2023-07-31T18:50:41.514Z"
   },
   {
    "duration": 16,
    "start_time": "2023-07-31T18:50:41.523Z"
   },
   {
    "duration": 16,
    "start_time": "2023-07-31T18:50:41.541Z"
   },
   {
    "duration": 21,
    "start_time": "2023-07-31T18:50:41.560Z"
   },
   {
    "duration": 73,
    "start_time": "2023-07-31T18:50:41.583Z"
   },
   {
    "duration": 115,
    "start_time": "2023-07-31T18:50:41.658Z"
   },
   {
    "duration": 6749,
    "start_time": "2023-07-31T18:50:41.775Z"
   },
   {
    "duration": 7,
    "start_time": "2023-07-31T18:50:48.526Z"
   },
   {
    "duration": 26,
    "start_time": "2023-07-31T18:50:48.535Z"
   },
   {
    "duration": 32,
    "start_time": "2023-07-31T18:50:48.563Z"
   },
   {
    "duration": 30,
    "start_time": "2023-07-31T18:50:48.597Z"
   },
   {
    "duration": 14,
    "start_time": "2023-07-31T18:50:48.629Z"
   },
   {
    "duration": 30,
    "start_time": "2023-07-31T18:50:48.645Z"
   },
   {
    "duration": 1181,
    "start_time": "2023-07-31T18:52:02.844Z"
   },
   {
    "duration": 33,
    "start_time": "2023-07-31T18:52:04.027Z"
   },
   {
    "duration": 17,
    "start_time": "2023-07-31T18:52:04.064Z"
   },
   {
    "duration": 32,
    "start_time": "2023-07-31T18:52:04.083Z"
   },
   {
    "duration": 37,
    "start_time": "2023-07-31T18:52:04.117Z"
   },
   {
    "duration": 14,
    "start_time": "2023-07-31T18:52:04.157Z"
   },
   {
    "duration": 9,
    "start_time": "2023-07-31T18:52:04.173Z"
   },
   {
    "duration": 7,
    "start_time": "2023-07-31T18:52:04.184Z"
   },
   {
    "duration": 15,
    "start_time": "2023-07-31T18:52:04.195Z"
   },
   {
    "duration": 13,
    "start_time": "2023-07-31T18:52:04.212Z"
   },
   {
    "duration": 8,
    "start_time": "2023-07-31T18:52:04.226Z"
   },
   {
    "duration": 64,
    "start_time": "2023-07-31T18:52:04.237Z"
   },
   {
    "duration": 125,
    "start_time": "2023-07-31T18:52:04.303Z"
   },
   {
    "duration": 6173,
    "start_time": "2023-07-31T18:52:04.430Z"
   },
   {
    "duration": 7,
    "start_time": "2023-07-31T18:52:10.606Z"
   },
   {
    "duration": 13,
    "start_time": "2023-07-31T18:52:10.615Z"
   },
   {
    "duration": 13,
    "start_time": "2023-07-31T18:52:10.630Z"
   },
   {
    "duration": 19,
    "start_time": "2023-07-31T18:52:10.646Z"
   },
   {
    "duration": 18,
    "start_time": "2023-07-31T18:52:10.667Z"
   },
   {
    "duration": 31,
    "start_time": "2023-07-31T18:52:10.687Z"
   },
   {
    "duration": 47,
    "start_time": "2023-08-03T10:43:15.112Z"
   },
   {
    "duration": 1174,
    "start_time": "2023-08-03T10:43:19.622Z"
   },
   {
    "duration": 67,
    "start_time": "2023-08-03T10:43:20.798Z"
   },
   {
    "duration": 12,
    "start_time": "2023-08-03T10:43:20.866Z"
   },
   {
    "duration": 37,
    "start_time": "2023-08-03T10:43:20.880Z"
   },
   {
    "duration": 12,
    "start_time": "2023-08-03T10:43:20.918Z"
   },
   {
    "duration": 30,
    "start_time": "2023-08-03T10:43:20.932Z"
   },
   {
    "duration": 27,
    "start_time": "2023-08-03T10:43:20.964Z"
   },
   {
    "duration": 38,
    "start_time": "2023-08-03T10:43:20.992Z"
   },
   {
    "duration": 33,
    "start_time": "2023-08-03T10:43:21.031Z"
   },
   {
    "duration": 37,
    "start_time": "2023-08-03T10:43:21.067Z"
   },
   {
    "duration": 25,
    "start_time": "2023-08-03T10:43:21.105Z"
   },
   {
    "duration": 44,
    "start_time": "2023-08-03T10:43:21.131Z"
   },
   {
    "duration": 53,
    "start_time": "2023-08-03T10:43:21.177Z"
   },
   {
    "duration": 102,
    "start_time": "2023-08-03T10:43:21.231Z"
   },
   {
    "duration": 5578,
    "start_time": "2023-08-03T10:43:21.335Z"
   },
   {
    "duration": 4,
    "start_time": "2023-08-03T10:43:26.915Z"
   },
   {
    "duration": 32,
    "start_time": "2023-08-03T10:43:26.920Z"
   },
   {
    "duration": 33,
    "start_time": "2023-08-03T10:43:26.954Z"
   },
   {
    "duration": 20,
    "start_time": "2023-08-03T10:43:26.988Z"
   },
   {
    "duration": 11,
    "start_time": "2023-08-03T10:43:27.009Z"
   },
   {
    "duration": 19,
    "start_time": "2023-08-03T10:43:27.021Z"
   },
   {
    "duration": 15,
    "start_time": "2023-08-03T10:43:34.682Z"
   }
  ],
  "kernelspec": {
   "display_name": "Python 3 (ipykernel)",
   "language": "python",
   "name": "python3"
  },
  "language_info": {
   "codemirror_mode": {
    "name": "ipython",
    "version": 3
   },
   "file_extension": ".py",
   "mimetype": "text/x-python",
   "name": "python",
   "nbconvert_exporter": "python",
   "pygments_lexer": "ipython3",
   "version": "3.10.13"
  },
  "toc": {
   "base_numbering": 1,
   "nav_menu": {},
   "number_sections": true,
   "sideBar": false,
   "skip_h1_title": true,
   "title_cell": "Table of Contents",
   "title_sidebar": "Contents",
   "toc_cell": false,
   "toc_position": {
    "height": "calc(100% - 180px)",
    "left": "10px",
    "top": "150px",
    "width": "165px"
   },
   "toc_section_display": false,
   "toc_window_display": false
  }
 },
 "nbformat": 4,
 "nbformat_minor": 2
}
