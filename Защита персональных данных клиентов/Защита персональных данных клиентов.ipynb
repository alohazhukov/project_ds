{
 "cells": [
  {
   "cell_type": "markdown",
   "metadata": {
    "toc": true
   },
   "source": [
    "<h1>Содержание<span class=\"tocSkip\"></span></h1>\n",
    "<div class=\"toc\"><ul class=\"toc-item\"><li><span><a href=\"#Загрузка-данных\" data-toc-modified-id=\"Загрузка-данных-1\"><span class=\"toc-item-num\">1&nbsp;&nbsp;</span>Загрузка данных</a></span></li><li><span><a href=\"#Умножение-матриц\" data-toc-modified-id=\"Умножение-матриц-2\"><span class=\"toc-item-num\">2&nbsp;&nbsp;</span>Умножение матриц</a></span></li><li><span><a href=\"#Алгоритм-преобразования\" data-toc-modified-id=\"Алгоритм-преобразования-3\"><span class=\"toc-item-num\">3&nbsp;&nbsp;</span>Алгоритм преобразования</a></span></li><li><span><a href=\"#Проверка-алгоритма\" data-toc-modified-id=\"Проверка-алгоритма-4\"><span class=\"toc-item-num\">4&nbsp;&nbsp;</span>Проверка алгоритма</a></span></li><li><span><a href=\"#Чек-лист-проверки\" data-toc-modified-id=\"Чек-лист-проверки-5\"><span class=\"toc-item-num\">5&nbsp;&nbsp;</span>Чек-лист проверки</a></span></li></ul></div>"
   ]
  },
  {
   "cell_type": "markdown",
   "metadata": {},
   "source": [
    "# Защита персональных данных клиентов"
   ]
  },
  {
   "cell_type": "markdown",
   "metadata": {},
   "source": [
    "Вам нужно защитить данные клиентов страховой компании «Хоть потоп». Разработайте такой метод преобразования данных, чтобы по ним было сложно восстановить персональную информацию. Обоснуйте корректность его работы.\n",
    "\n",
    "Нужно защитить данные, чтобы при преобразовании качество моделей машинного обучения не ухудшилось. Подбирать наилучшую модель не требуется."
   ]
  },
  {
   "cell_type": "markdown",
   "metadata": {},
   "source": [
    "## Загрузка данных"
   ]
  },
  {
   "cell_type": "code",
   "execution_count": 1,
   "metadata": {},
   "outputs": [],
   "source": [
    "# импотрируем нужные нам биб-ки\n",
    "\n",
    "import pandas as pd\n",
    "import numpy as np\n",
    "\n",
    "from sklearn.metrics import r2_score"
   ]
  },
  {
   "cell_type": "code",
   "execution_count": 2,
   "metadata": {},
   "outputs": [
    {
     "data": {
      "text/html": [
       "<div>\n",
       "<style scoped>\n",
       "    .dataframe tbody tr th:only-of-type {\n",
       "        vertical-align: middle;\n",
       "    }\n",
       "\n",
       "    .dataframe tbody tr th {\n",
       "        vertical-align: top;\n",
       "    }\n",
       "\n",
       "    .dataframe thead th {\n",
       "        text-align: right;\n",
       "    }\n",
       "</style>\n",
       "<table border=\"1\" class=\"dataframe\">\n",
       "  <thead>\n",
       "    <tr style=\"text-align: right;\">\n",
       "      <th></th>\n",
       "      <th>Пол</th>\n",
       "      <th>Возраст</th>\n",
       "      <th>Зарплата</th>\n",
       "      <th>Члены семьи</th>\n",
       "      <th>Страховые выплаты</th>\n",
       "    </tr>\n",
       "  </thead>\n",
       "  <tbody>\n",
       "    <tr>\n",
       "      <th>0</th>\n",
       "      <td>1</td>\n",
       "      <td>41.0</td>\n",
       "      <td>49600.0</td>\n",
       "      <td>1</td>\n",
       "      <td>0</td>\n",
       "    </tr>\n",
       "    <tr>\n",
       "      <th>1</th>\n",
       "      <td>0</td>\n",
       "      <td>46.0</td>\n",
       "      <td>38000.0</td>\n",
       "      <td>1</td>\n",
       "      <td>1</td>\n",
       "    </tr>\n",
       "    <tr>\n",
       "      <th>2</th>\n",
       "      <td>0</td>\n",
       "      <td>29.0</td>\n",
       "      <td>21000.0</td>\n",
       "      <td>0</td>\n",
       "      <td>0</td>\n",
       "    </tr>\n",
       "    <tr>\n",
       "      <th>3</th>\n",
       "      <td>0</td>\n",
       "      <td>21.0</td>\n",
       "      <td>41700.0</td>\n",
       "      <td>2</td>\n",
       "      <td>0</td>\n",
       "    </tr>\n",
       "    <tr>\n",
       "      <th>4</th>\n",
       "      <td>1</td>\n",
       "      <td>28.0</td>\n",
       "      <td>26100.0</td>\n",
       "      <td>0</td>\n",
       "      <td>0</td>\n",
       "    </tr>\n",
       "  </tbody>\n",
       "</table>\n",
       "</div>"
      ],
      "text/plain": [
       "   Пол  Возраст  Зарплата  Члены семьи  Страховые выплаты\n",
       "0    1     41.0   49600.0            1                  0\n",
       "1    0     46.0   38000.0            1                  1\n",
       "2    0     29.0   21000.0            0                  0\n",
       "3    0     21.0   41700.0            2                  0\n",
       "4    1     28.0   26100.0            0                  0"
      ]
     },
     "execution_count": 2,
     "metadata": {},
     "output_type": "execute_result"
    }
   ],
   "source": [
    "# загрузим наши данные и выведим первые 5 строк\n",
    "try:\n",
    "    data = pd.read_csv('/Users/alex/Downloads/insurance.csv')\n",
    "except:\n",
    "    data = pd.read_csv('/datasets/insurance.csv')\n",
    "data.head()"
   ]
  },
  {
   "cell_type": "code",
   "execution_count": 3,
   "metadata": {},
   "outputs": [
    {
     "name": "stdout",
     "output_type": "stream",
     "text": [
      "<class 'pandas.core.frame.DataFrame'>\n",
      "RangeIndex: 5000 entries, 0 to 4999\n",
      "Data columns (total 5 columns):\n",
      " #   Column             Non-Null Count  Dtype  \n",
      "---  ------             --------------  -----  \n",
      " 0   Пол                5000 non-null   int64  \n",
      " 1   Возраст            5000 non-null   float64\n",
      " 2   Зарплата           5000 non-null   float64\n",
      " 3   Члены семьи        5000 non-null   int64  \n",
      " 4   Страховые выплаты  5000 non-null   int64  \n",
      "dtypes: float64(2), int64(3)\n",
      "memory usage: 195.4 KB\n"
     ]
    }
   ],
   "source": [
    "data.info()"
   ]
  },
  {
   "cell_type": "code",
   "execution_count": 4,
   "metadata": {},
   "outputs": [
    {
     "data": {
      "text/html": [
       "<div>\n",
       "<style scoped>\n",
       "    .dataframe tbody tr th:only-of-type {\n",
       "        vertical-align: middle;\n",
       "    }\n",
       "\n",
       "    .dataframe tbody tr th {\n",
       "        vertical-align: top;\n",
       "    }\n",
       "\n",
       "    .dataframe thead th {\n",
       "        text-align: right;\n",
       "    }\n",
       "</style>\n",
       "<table border=\"1\" class=\"dataframe\">\n",
       "  <thead>\n",
       "    <tr style=\"text-align: right;\">\n",
       "      <th></th>\n",
       "      <th>Пол</th>\n",
       "      <th>Возраст</th>\n",
       "      <th>Зарплата</th>\n",
       "      <th>Члены семьи</th>\n",
       "      <th>Страховые выплаты</th>\n",
       "    </tr>\n",
       "  </thead>\n",
       "  <tbody>\n",
       "    <tr>\n",
       "      <th>count</th>\n",
       "      <td>5000.000000</td>\n",
       "      <td>5000.000000</td>\n",
       "      <td>5000.000000</td>\n",
       "      <td>5000.000000</td>\n",
       "      <td>5000.000000</td>\n",
       "    </tr>\n",
       "    <tr>\n",
       "      <th>mean</th>\n",
       "      <td>0.499000</td>\n",
       "      <td>30.952800</td>\n",
       "      <td>39916.360000</td>\n",
       "      <td>1.194200</td>\n",
       "      <td>0.148000</td>\n",
       "    </tr>\n",
       "    <tr>\n",
       "      <th>std</th>\n",
       "      <td>0.500049</td>\n",
       "      <td>8.440807</td>\n",
       "      <td>9900.083569</td>\n",
       "      <td>1.091387</td>\n",
       "      <td>0.463183</td>\n",
       "    </tr>\n",
       "    <tr>\n",
       "      <th>min</th>\n",
       "      <td>0.000000</td>\n",
       "      <td>18.000000</td>\n",
       "      <td>5300.000000</td>\n",
       "      <td>0.000000</td>\n",
       "      <td>0.000000</td>\n",
       "    </tr>\n",
       "    <tr>\n",
       "      <th>25%</th>\n",
       "      <td>0.000000</td>\n",
       "      <td>24.000000</td>\n",
       "      <td>33300.000000</td>\n",
       "      <td>0.000000</td>\n",
       "      <td>0.000000</td>\n",
       "    </tr>\n",
       "    <tr>\n",
       "      <th>50%</th>\n",
       "      <td>0.000000</td>\n",
       "      <td>30.000000</td>\n",
       "      <td>40200.000000</td>\n",
       "      <td>1.000000</td>\n",
       "      <td>0.000000</td>\n",
       "    </tr>\n",
       "    <tr>\n",
       "      <th>75%</th>\n",
       "      <td>1.000000</td>\n",
       "      <td>37.000000</td>\n",
       "      <td>46600.000000</td>\n",
       "      <td>2.000000</td>\n",
       "      <td>0.000000</td>\n",
       "    </tr>\n",
       "    <tr>\n",
       "      <th>max</th>\n",
       "      <td>1.000000</td>\n",
       "      <td>65.000000</td>\n",
       "      <td>79000.000000</td>\n",
       "      <td>6.000000</td>\n",
       "      <td>5.000000</td>\n",
       "    </tr>\n",
       "  </tbody>\n",
       "</table>\n",
       "</div>"
      ],
      "text/plain": [
       "               Пол      Возраст      Зарплата  Члены семьи  Страховые выплаты\n",
       "count  5000.000000  5000.000000   5000.000000  5000.000000        5000.000000\n",
       "mean      0.499000    30.952800  39916.360000     1.194200           0.148000\n",
       "std       0.500049     8.440807   9900.083569     1.091387           0.463183\n",
       "min       0.000000    18.000000   5300.000000     0.000000           0.000000\n",
       "25%       0.000000    24.000000  33300.000000     0.000000           0.000000\n",
       "50%       0.000000    30.000000  40200.000000     1.000000           0.000000\n",
       "75%       1.000000    37.000000  46600.000000     2.000000           0.000000\n",
       "max       1.000000    65.000000  79000.000000     6.000000           5.000000"
      ]
     },
     "execution_count": 4,
     "metadata": {},
     "output_type": "execute_result"
    }
   ],
   "source": [
    "data.describe()"
   ]
  },
  {
   "cell_type": "code",
   "execution_count": 5,
   "metadata": {},
   "outputs": [
    {
     "name": "stdout",
     "output_type": "stream",
     "text": [
      "Тип данных столбца Возраст: int64\n",
      "Тип данных столбца Зарплата: int64\n"
     ]
    }
   ],
   "source": [
    "# изменим ти данных для столбоц Возраст и Зарплата\n",
    "\n",
    "data = data.astype({'Возраст':'int64', \n",
    "                    'Зарплата':'int64'})\n",
    "\n",
    "print(f'Тип данных столбца Возраст: {data[\"Возраст\"].dtype}')\n",
    "print(f'Тип данных столбца Зарплата: {data[\"Зарплата\"].dtype}')"
   ]
  },
  {
   "cell_type": "code",
   "execution_count": 6,
   "metadata": {},
   "outputs": [
    {
     "data": {
      "text/plain": [
       "153"
      ]
     },
     "execution_count": 6,
     "metadata": {},
     "output_type": "execute_result"
    }
   ],
   "source": [
    "# проверим дф на дубликаты\n",
    "\n",
    "data.duplicated().sum()"
   ]
  },
  {
   "cell_type": "code",
   "execution_count": 7,
   "metadata": {},
   "outputs": [
    {
     "data": {
      "text/plain": [
       "0"
      ]
     },
     "execution_count": 7,
     "metadata": {},
     "output_type": "execute_result"
    }
   ],
   "source": [
    "# избавимся от дубликатов\n",
    "\n",
    "data.drop_duplicates(inplace = True)\n",
    "data.duplicated().sum()"
   ]
  },
  {
   "cell_type": "code",
   "execution_count": 8,
   "metadata": {},
   "outputs": [
    {
     "data": {
      "text/plain": [
       "array([1, 0, 2, 4, 3, 5, 6])"
      ]
     },
     "execution_count": 8,
     "metadata": {},
     "output_type": "execute_result"
    }
   ],
   "source": [
    "# взглянем нет ли аномальных 2.5 человека)\n",
    "\n",
    "data['Члены семьи'].unique()"
   ]
  },
  {
   "cell_type": "code",
   "execution_count": 9,
   "metadata": {},
   "outputs": [
    {
     "data": {
      "text/plain": [
       "Пол                  0\n",
       "Возраст              0\n",
       "Зарплата             0\n",
       "Члены семьи          0\n",
       "Страховые выплаты    0\n",
       "dtype: int64"
      ]
     },
     "execution_count": 9,
     "metadata": {},
     "output_type": "execute_result"
    }
   ],
   "source": [
    "# посмотрим имеются ли пропуски\n",
    "\n",
    "data.isna().sum()"
   ]
  },
  {
   "cell_type": "code",
   "execution_count": 10,
   "metadata": {},
   "outputs": [
    {
     "data": {
      "text/html": [
       "<div>\n",
       "<style scoped>\n",
       "    .dataframe tbody tr th:only-of-type {\n",
       "        vertical-align: middle;\n",
       "    }\n",
       "\n",
       "    .dataframe tbody tr th {\n",
       "        vertical-align: top;\n",
       "    }\n",
       "\n",
       "    .dataframe thead th {\n",
       "        text-align: right;\n",
       "    }\n",
       "</style>\n",
       "<table border=\"1\" class=\"dataframe\">\n",
       "  <thead>\n",
       "    <tr style=\"text-align: right;\">\n",
       "      <th></th>\n",
       "      <th>Пол</th>\n",
       "      <th>Возраст</th>\n",
       "      <th>Зарплата</th>\n",
       "      <th>Члены семьи</th>\n",
       "      <th>Страховые выплаты</th>\n",
       "    </tr>\n",
       "  </thead>\n",
       "  <tbody>\n",
       "    <tr>\n",
       "      <th>Пол</th>\n",
       "      <td>1.000000</td>\n",
       "      <td>0.001953</td>\n",
       "      <td>0.015456</td>\n",
       "      <td>-0.007315</td>\n",
       "      <td>0.011565</td>\n",
       "    </tr>\n",
       "    <tr>\n",
       "      <th>Возраст</th>\n",
       "      <td>0.001953</td>\n",
       "      <td>1.000000</td>\n",
       "      <td>-0.017386</td>\n",
       "      <td>-0.009064</td>\n",
       "      <td>0.654964</td>\n",
       "    </tr>\n",
       "    <tr>\n",
       "      <th>Зарплата</th>\n",
       "      <td>0.015456</td>\n",
       "      <td>-0.017386</td>\n",
       "      <td>1.000000</td>\n",
       "      <td>-0.031687</td>\n",
       "      <td>-0.013123</td>\n",
       "    </tr>\n",
       "    <tr>\n",
       "      <th>Члены семьи</th>\n",
       "      <td>-0.007315</td>\n",
       "      <td>-0.009064</td>\n",
       "      <td>-0.031687</td>\n",
       "      <td>1.000000</td>\n",
       "      <td>-0.039303</td>\n",
       "    </tr>\n",
       "    <tr>\n",
       "      <th>Страховые выплаты</th>\n",
       "      <td>0.011565</td>\n",
       "      <td>0.654964</td>\n",
       "      <td>-0.013123</td>\n",
       "      <td>-0.039303</td>\n",
       "      <td>1.000000</td>\n",
       "    </tr>\n",
       "  </tbody>\n",
       "</table>\n",
       "</div>"
      ],
      "text/plain": [
       "                        Пол   Возраст  Зарплата  Члены семьи  \\\n",
       "Пол                1.000000  0.001953  0.015456    -0.007315   \n",
       "Возраст            0.001953  1.000000 -0.017386    -0.009064   \n",
       "Зарплата           0.015456 -0.017386  1.000000    -0.031687   \n",
       "Члены семьи       -0.007315 -0.009064 -0.031687     1.000000   \n",
       "Страховые выплаты  0.011565  0.654964 -0.013123    -0.039303   \n",
       "\n",
       "                   Страховые выплаты  \n",
       "Пол                         0.011565  \n",
       "Возраст                     0.654964  \n",
       "Зарплата                   -0.013123  \n",
       "Члены семьи                -0.039303  \n",
       "Страховые выплаты           1.000000  "
      ]
     },
     "execution_count": 10,
     "metadata": {},
     "output_type": "execute_result"
    }
   ],
   "source": [
    "# взгялем, нет ли мультиколлениарности \n",
    "\n",
    "data.corr()"
   ]
  },
  {
   "cell_type": "markdown",
   "metadata": {},
   "source": [
    "Посмотрели общую информацию о дфе, избавились от дубликатов, пропусков нет, мультиколлениарность не обнаружена."
   ]
  },
  {
   "cell_type": "markdown",
   "metadata": {},
   "source": [
    "## Умножение матриц"
   ]
  },
  {
   "cell_type": "markdown",
   "metadata": {},
   "source": [
    "В этом задании вы можете записывать формулы в *Jupyter Notebook.*\n",
    "\n",
    "Чтобы записать формулу внутри текста, окружите её символами доллара \\\\$; если снаружи —  двойными символами \\\\$\\\\$. Эти формулы записываются на языке вёрстки *LaTeX.* \n",
    "\n",
    "Для примера мы записали формулы линейной регрессии. Можете их скопировать и отредактировать, чтобы решить задачу.\n",
    "\n",
    "Работать в *LaTeX* необязательно."
   ]
  },
  {
   "cell_type": "markdown",
   "metadata": {},
   "source": [
    "Обозначения:\n",
    "\n",
    "- $X$ — матрица признаков (нулевой столбец состоит из единиц)\n",
    "\n",
    "- $y$ — вектор целевого признака\n",
    "\n",
    "- $P$ — матрица, на которую умножаются признаки\n",
    "\n",
    "- $w$ — вектор весов линейной регрессии (нулевой элемент равен сдвигу)"
   ]
  },
  {
   "cell_type": "markdown",
   "metadata": {},
   "source": [
    "Предсказания:\n",
    "\n",
    "$$\n",
    "a = Xw\n",
    "$$\n",
    "\n",
    "Задача обучения:\n",
    "\n",
    "$$\n",
    "w = \\arg\\min_w MSE(Xw, y)\n",
    "$$\n",
    "\n",
    "Формула обучения:\n",
    "\n",
    "$$\n",
    "w = (X^T X)^{-1} X^T y\n",
    "$$"
   ]
  },
  {
   "cell_type": "markdown",
   "metadata": {},
   "source": [
    "**Ответ:** Качество линейной регрессии не изменится\n",
    "\n",
    "**Обоснование:** \n",
    "\n",
    "\n",
    "Запишем преобразование признаков так:\n",
    "$$\n",
    "U = XP\n",
    "$$\n",
    "\n",
    "где, $U$ - преобразованные признаки, $P$ - обратимая матрица.\n",
    "\n",
    "\n",
    "Тогда предасказания будет: $A = UW$\n",
    "\n",
    "Формула обучения будет иметь вид: $W = (U^T U)^{-1} U^T y$ , где W - вектор весов\n",
    "\n",
    "Подставим наше преобразование в __формулу обучения__ =>   \n",
    "$$\n",
    "W = ((XP)^T (XP))^{-1} (XP)^T y\n",
    "$$\n",
    "\n",
    "__Вспоминая свойства матриц, а именно:__ \n",
    "- По определению, квадратная матрица $A$ называется обратимой, если существует матрица $B$, удовлетворяющая условиям $$AB = BA = E$$\n",
    "- Если по определению $A$ обратима, то обратная к ней обозначается, как $A^{-1}$ и условие выше можно зависать так: $$AA^{-1} = A^{-1}A = E$$\n",
    "- Так же нам понадобятся следующие свойства матриц: $$(AB)^{T} = B^{T}A^{T}$$ $$(AB)^{-1} = B^{-1}A^{-1}$$ $$AE = EA = A$$\n",
    "\n",
    "Аккуратно преобразуем правую часть, расскрыв скобки:\n",
    "$$W = ((XP)^T XP)^{-1} (XP)^T y =>$$\n",
    "$$W = (P^{T}X^{T}XP)^{-1} P^{T}X^{T} y =>$$\n",
    "$$W = P^{-1}(P^{T})^{-1}(X^{T}X)^{-1}P^{T}X^{T}y =>$$\n",
    "\n",
    "При умножении матрицы на обратную ей получается единичная матрица $E$, следовательно => $(P^{T})^{-1}P^{T} = E$, тогда\n",
    "$$W = (X^{T}X)^{-1}EP^{-1}X^{T}y$$\n",
    "\n",
    "Т.к. при умножении на единичную матрицу мы получим ту же самую матрицу - избавимся от $E$\n",
    "$$W = P^{-1}(X^{T}X)^{-1}X^{T}y =>$$\n",
    "Из описания мы знаем, что $w = (X^T X)^{-1} X^T y$ преобразуем предыдущую формулу:\n",
    "$$W = P^{-1}w$$\n",
    "Далее подставим формулу вектора в формулу предсказаний:\n",
    "$$A = UW =>$$\n",
    "$$A = XPP^{-1}w =>$$\n",
    "Сократим $P$ и $P^{-1}$ тк получим единичную матрицу:\n",
    "$$A = XEw =>$$\n",
    "Избавимся от $E$ получим: \n",
    "$$A = Xw$$\n",
    "\n",
    "__Вывод__\n",
    "\n",
    "Выведенная формула, где признаки умножили на обратимую матрицу - идентична данной вначале. Следовательно качесто линейной регрессии не будет меняться"
   ]
  },
  {
   "cell_type": "markdown",
   "metadata": {},
   "source": [
    "## Алгоритм преобразования\n",
    "Предложите алгоритм преобразования данных для решения задачи."
   ]
  },
  {
   "cell_type": "markdown",
   "metadata": {},
   "source": [
    "**Алгоритм**\n",
    "\n",
    "Чтобы зашифровать данные, в качестве алоритма преобразования мы проделаем следующее:\n",
    "- сгенерируем обратимую матрицу(квадратную), размерность которой будет соответсвовать кол-ву столбцов исходному дфу , т.е 4х4\n",
    "- умножим исходную матрицу признаков на созданную\n",
    "- вычислить качество модели на полученной матрице и сравнить с исходной"
   ]
  },
  {
   "cell_type": "markdown",
   "metadata": {},
   "source": [
    "**Обоснование**\n",
    "\n",
    "Как мы выяснили в пукте №2, предсказания с домножением и исходные не отличаются. Поэтому R2 на измененной и исходной должны получиться одинаковыми. Таким оброзом можно считать, что наше шифрование будет удачным."
   ]
  },
  {
   "cell_type": "markdown",
   "metadata": {},
   "source": [
    "## Проверка алгоритма"
   ]
  },
  {
   "cell_type": "code",
   "execution_count": 11,
   "metadata": {},
   "outputs": [],
   "source": [
    "# выделим наши фичи и таргет\n",
    "\n",
    "features = data.drop('Страховые выплаты', axis = 1)\n",
    "target = data['Страховые выплаты']"
   ]
  },
  {
   "cell_type": "code",
   "execution_count": 12,
   "metadata": {},
   "outputs": [
    {
     "data": {
      "text/plain": [
       "array([[ 0.82313244,  0.93688419,  0.56261894, -0.46382128],\n",
       "       [-0.24967627,  1.7979529 , -1.87444369,  0.59791352],\n",
       "       [ 0.5207969 , -2.67505948,  1.27761508, -1.69521318],\n",
       "       [ 1.44792643, -0.43968532,  0.6884294 , -2.41520751]])"
      ]
     },
     "execution_count": 12,
     "metadata": {},
     "output_type": "execute_result"
    }
   ],
   "source": [
    "# создадим рандомную матрицу\n",
    "\n",
    "matrix_random = np.random.randn(4, 4)\n",
    "matrix_random"
   ]
  },
  {
   "cell_type": "code",
   "execution_count": 13,
   "metadata": {},
   "outputs": [
    {
     "name": "stdout",
     "output_type": "stream",
     "text": [
      "Обратная матрица - существует\n"
     ]
    }
   ],
   "source": [
    "# проверим нащу рандомную матрицу на обратимость\n",
    "\n",
    "try:\n",
    "    matrix_inverse = np.linalg.inv(matrix_random)\n",
    "    print('Обратная матрица - существует')\n",
    "except:\n",
    "    print('Обратная матрица - не существует')"
   ]
  },
  {
   "cell_type": "code",
   "execution_count": null,
   "metadata": {},
   "outputs": [],
   "source": []
  },
  {
   "cell_type": "markdown",
   "metadata": {},
   "source": [
    "Создадим матрицу из исxодных признаков, далее умножим на созданную обратную матрицу(рандомную), и создадим новый дф и взлянем на наши зашифрованные признаки- features_encrypted"
   ]
  },
  {
   "cell_type": "code",
   "execution_count": 14,
   "metadata": {},
   "outputs": [
    {
     "data": {
      "text/html": [
       "<div>\n",
       "<style scoped>\n",
       "    .dataframe tbody tr th:only-of-type {\n",
       "        vertical-align: middle;\n",
       "    }\n",
       "\n",
       "    .dataframe tbody tr th {\n",
       "        vertical-align: top;\n",
       "    }\n",
       "\n",
       "    .dataframe thead th {\n",
       "        text-align: right;\n",
       "    }\n",
       "</style>\n",
       "<table border=\"1\" class=\"dataframe\">\n",
       "  <thead>\n",
       "    <tr style=\"text-align: right;\">\n",
       "      <th></th>\n",
       "      <th>Пол</th>\n",
       "      <th>Возраст</th>\n",
       "      <th>Зарплата</th>\n",
       "      <th>Члены семьи</th>\n",
       "    </tr>\n",
       "  </thead>\n",
       "  <tbody>\n",
       "    <tr>\n",
       "      <th>0</th>\n",
       "      <td>-64935.803305</td>\n",
       "      <td>-87799.471874</td>\n",
       "      <td>-90711.302696</td>\n",
       "      <td>54403.653053</td>\n",
       "    </tr>\n",
       "    <tr>\n",
       "      <th>1</th>\n",
       "      <td>-49777.974757</td>\n",
       "      <td>-67289.644823</td>\n",
       "      <td>-69532.200025</td>\n",
       "      <td>41704.738250</td>\n",
       "    </tr>\n",
       "    <tr>\n",
       "      <th>2</th>\n",
       "      <td>-27516.980845</td>\n",
       "      <td>-37192.839396</td>\n",
       "      <td>-38435.348862</td>\n",
       "      <td>23054.321104</td>\n",
       "    </tr>\n",
       "    <tr>\n",
       "      <th>3</th>\n",
       "      <td>-54571.120633</td>\n",
       "      <td>-73796.513070</td>\n",
       "      <td>-76234.623845</td>\n",
       "      <td>45718.329493</td>\n",
       "    </tr>\n",
       "    <tr>\n",
       "      <th>4</th>\n",
       "      <td>-34179.845537</td>\n",
       "      <td>-46209.524538</td>\n",
       "      <td>-47746.369027</td>\n",
       "      <td>28637.006841</td>\n",
       "    </tr>\n",
       "  </tbody>\n",
       "</table>\n",
       "</div>"
      ],
      "text/plain": [
       "            Пол       Возраст      Зарплата   Члены семьи\n",
       "0 -64935.803305 -87799.471874 -90711.302696  54403.653053\n",
       "1 -49777.974757 -67289.644823 -69532.200025  41704.738250\n",
       "2 -27516.980845 -37192.839396 -38435.348862  23054.321104\n",
       "3 -54571.120633 -73796.513070 -76234.623845  45718.329493\n",
       "4 -34179.845537 -46209.524538 -47746.369027  28637.006841"
      ]
     },
     "execution_count": 14,
     "metadata": {},
     "output_type": "execute_result"
    }
   ],
   "source": [
    "# исходная матрица\n",
    "matrix = features.values\n",
    "\n",
    "# зашифрованная матрица(умноженная на созданную обратную(рандомную) матрицу)\n",
    "matrix_encrypted = matrix @ matrix_inverse\n",
    "\n",
    "# создадим зашифрованные признаки в виде дф\n",
    "features_encrypted = pd.DataFrame(matrix_encrypted, columns = features.columns)\n",
    "features_encrypted.head(5)"
   ]
  },
  {
   "cell_type": "markdown",
   "metadata": {},
   "source": [
    "__Создадим класс Линейной Регрессии__\n",
    "\n",
    "(хотя в принципе можно импортировать, и по идее должно быть тоже самое)"
   ]
  },
  {
   "cell_type": "code",
   "execution_count": 19,
   "metadata": {},
   "outputs": [],
   "source": [
    "# создадим класс лр\n",
    "\n",
    "class LinearRegression:\n",
    "    def fit(self, train_features, train_target):\n",
    "        X = np.concatenate((np.ones((train_features.shape[0], 1)), train_features), axis = 1)\n",
    "        y = train_target\n",
    "        w = np.linalg.inv(X.T@ X) @ X.T @ y\n",
    "        self.w = w[1:]\n",
    "        self.w0 = w[0]\n",
    "\n",
    "    def predict(self, test_features):\n",
    "        return test_features.dot(self.w) + self.w0"
   ]
  },
  {
   "cell_type": "code",
   "execution_count": null,
   "metadata": {},
   "outputs": [],
   "source": []
  },
  {
   "cell_type": "code",
   "execution_count": 20,
   "metadata": {},
   "outputs": [
    {
     "name": "stdout",
     "output_type": "stream",
     "text": [
      "Метрика R2 для признаков в исходном состоянии равна: 0.4302010046633359\n"
     ]
    }
   ],
   "source": [
    "# запишем наш класс лр в переменную model\n",
    "model = LinearRegression()\n",
    "\n",
    "# обучим на первичных признаках и запредиктим\n",
    "model.fit(features, target)\n",
    "predictions = model.predict(features)\n",
    "\n",
    "# расчитаем метрику R2\n",
    "r2 = r2_score(target, predictions)\n",
    "\n",
    "print(f'Метрика R2 для признаков в исходном состоянии равна: {r2}')"
   ]
  },
  {
   "cell_type": "code",
   "execution_count": null,
   "metadata": {},
   "outputs": [],
   "source": []
  },
  {
   "cell_type": "markdown",
   "metadata": {},
   "source": [
    "далее будем использовать наши измененные/зашифрованные признаки"
   ]
  },
  {
   "cell_type": "code",
   "execution_count": 21,
   "metadata": {},
   "outputs": [
    {
     "name": "stdout",
     "output_type": "stream",
     "text": [
      "Метрика R2 для признаков в исходном состоянии равна: 0.4302010046629\n"
     ]
    }
   ],
   "source": [
    "# инициализируем нашу модель\n",
    "model_encrypted = LinearRegression()\n",
    "\n",
    "# обучим на зашифрованных признаках и запредиктим\n",
    "model_encrypted.fit(features_encrypted, target)\n",
    "predictions_encrypted = model_encrypted.predict(features_encrypted)\n",
    "\n",
    "# расчитаем метрику R2\n",
    "r2_encrypted = r2_score(target, predictions_encrypted)\n",
    "\n",
    "print(f'Метрика R2 для признаков в исходном состоянии равна: {r2_encrypted}')"
   ]
  },
  {
   "cell_type": "markdown",
   "metadata": {},
   "source": [
    "__ВЫВОД__\n",
    "\n",
    "Как мы видим из выше представленных расчетов - метрика R2 практически не отличается, следовательно можно сказать, что умножение исходных данных на случайную обратимую матрицу - может быть использовано для их шифрования, при этом потери качетства не будет."
   ]
  },
  {
   "cell_type": "code",
   "execution_count": null,
   "metadata": {},
   "outputs": [],
   "source": []
  }
 ],
 "metadata": {
  "ExecuteTimeLog": [
   {
    "duration": 555,
    "start_time": "2023-10-01T14:11:53.825Z"
   },
   {
    "duration": 92,
    "start_time": "2023-10-01T14:12:43.544Z"
   },
   {
    "duration": 90,
    "start_time": "2023-10-01T14:12:55.435Z"
   },
   {
    "duration": 54,
    "start_time": "2023-10-01T14:13:02.704Z"
   },
   {
    "duration": 17,
    "start_time": "2023-10-01T14:15:10.139Z"
   },
   {
    "duration": 4,
    "start_time": "2023-10-01T14:15:13.309Z"
   },
   {
    "duration": 8,
    "start_time": "2023-10-01T15:32:56.832Z"
   },
   {
    "duration": 33,
    "start_time": "2023-10-01T15:33:00.687Z"
   },
   {
    "duration": 11,
    "start_time": "2023-10-01T15:33:07.197Z"
   },
   {
    "duration": 441,
    "start_time": "2023-10-02T17:01:24.694Z"
   },
   {
    "duration": 125,
    "start_time": "2023-10-02T17:01:46.610Z"
   },
   {
    "duration": 12,
    "start_time": "2023-10-02T17:02:28.563Z"
   },
   {
    "duration": 901,
    "start_time": "2023-10-02T17:03:24.549Z"
   },
   {
    "duration": 6,
    "start_time": "2023-10-02T17:04:37.051Z"
   },
   {
    "duration": 7,
    "start_time": "2023-10-02T17:04:54.110Z"
   },
   {
    "duration": 142,
    "start_time": "2023-10-02T17:06:08.665Z"
   },
   {
    "duration": 17,
    "start_time": "2023-10-02T17:06:36.293Z"
   },
   {
    "duration": 9,
    "start_time": "2023-10-02T17:07:32.505Z"
   },
   {
    "duration": 8,
    "start_time": "2023-10-02T17:09:13.565Z"
   },
   {
    "duration": 5,
    "start_time": "2023-10-02T17:09:39.611Z"
   },
   {
    "duration": 25,
    "start_time": "2023-10-02T17:10:21.818Z"
   },
   {
    "duration": 11,
    "start_time": "2023-10-02T17:15:21.210Z"
   },
   {
    "duration": 4,
    "start_time": "2023-10-02T17:17:38.217Z"
   },
   {
    "duration": 27,
    "start_time": "2023-10-02T17:19:14.095Z"
   },
   {
    "duration": 2,
    "start_time": "2023-10-02T17:20:48.364Z"
   },
   {
    "duration": 5,
    "start_time": "2023-10-02T17:20:52.153Z"
   },
   {
    "duration": 4,
    "start_time": "2023-10-02T17:26:10.862Z"
   },
   {
    "duration": 5,
    "start_time": "2023-10-02T17:26:39.042Z"
   },
   {
    "duration": 114,
    "start_time": "2023-10-02T17:31:45.620Z"
   },
   {
    "duration": 19,
    "start_time": "2023-10-02T17:31:48.674Z"
   },
   {
    "duration": 3,
    "start_time": "2023-10-02T17:31:52.060Z"
   },
   {
    "duration": 12,
    "start_time": "2023-10-02T17:35:04.167Z"
   },
   {
    "duration": 10,
    "start_time": "2023-10-02T17:39:34.562Z"
   },
   {
    "duration": 9,
    "start_time": "2023-10-02T17:42:13.183Z"
   },
   {
    "duration": 11,
    "start_time": "2023-10-02T17:43:20.815Z"
   },
   {
    "duration": 11,
    "start_time": "2023-10-02T17:44:59.287Z"
   },
   {
    "duration": 3,
    "start_time": "2023-10-02T17:48:06.300Z"
   },
   {
    "duration": 4,
    "start_time": "2023-10-02T17:50:20.219Z"
   },
   {
    "duration": 5,
    "start_time": "2023-10-02T17:53:12.651Z"
   },
   {
    "duration": 10,
    "start_time": "2023-10-02T17:54:39.900Z"
   },
   {
    "duration": 94,
    "start_time": "2023-10-02T18:22:03.196Z"
   },
   {
    "duration": 396,
    "start_time": "2023-10-02T18:27:39.034Z"
   },
   {
    "duration": 43,
    "start_time": "2023-10-02T18:27:39.432Z"
   },
   {
    "duration": 13,
    "start_time": "2023-10-02T18:27:39.478Z"
   },
   {
    "duration": 26,
    "start_time": "2023-10-02T18:27:39.493Z"
   },
   {
    "duration": 6,
    "start_time": "2023-10-02T18:27:39.520Z"
   },
   {
    "duration": 11,
    "start_time": "2023-10-02T18:27:39.527Z"
   },
   {
    "duration": 11,
    "start_time": "2023-10-02T18:27:39.540Z"
   },
   {
    "duration": 32,
    "start_time": "2023-10-02T18:27:39.552Z"
   },
   {
    "duration": 11,
    "start_time": "2023-10-02T18:27:39.586Z"
   },
   {
    "duration": 42,
    "start_time": "2023-10-02T18:27:39.599Z"
   },
   {
    "duration": 4,
    "start_time": "2023-10-02T18:27:39.643Z"
   },
   {
    "duration": 12,
    "start_time": "2023-10-02T18:27:39.648Z"
   },
   {
    "duration": 37,
    "start_time": "2023-10-02T18:27:39.661Z"
   },
   {
    "duration": 89,
    "start_time": "2023-10-02T18:27:39.701Z"
   },
   {
    "duration": 14,
    "start_time": "2023-10-02T18:27:39.792Z"
   },
   {
    "duration": 20,
    "start_time": "2023-10-02T18:27:39.882Z"
   },
   {
    "duration": 232,
    "start_time": "2023-10-02T18:27:39.904Z"
   },
   {
    "duration": 0,
    "start_time": "2023-10-02T18:27:40.138Z"
   },
   {
    "duration": 9,
    "start_time": "2023-10-02T18:42:18.976Z"
   },
   {
    "duration": 6,
    "start_time": "2023-10-02T18:42:34.153Z"
   },
   {
    "duration": 87,
    "start_time": "2023-10-02T18:42:34.693Z"
   },
   {
    "duration": 9,
    "start_time": "2023-10-02T18:47:08.147Z"
   },
   {
    "duration": 12,
    "start_time": "2023-10-02T18:47:11.061Z"
   },
   {
    "duration": 429,
    "start_time": "2023-10-02T18:47:25.796Z"
   },
   {
    "duration": 45,
    "start_time": "2023-10-02T18:47:26.227Z"
   },
   {
    "duration": 13,
    "start_time": "2023-10-02T18:47:26.274Z"
   },
   {
    "duration": 38,
    "start_time": "2023-10-02T18:47:26.289Z"
   },
   {
    "duration": 8,
    "start_time": "2023-10-02T18:47:26.330Z"
   },
   {
    "duration": 16,
    "start_time": "2023-10-02T18:47:26.339Z"
   },
   {
    "duration": 25,
    "start_time": "2023-10-02T18:47:26.357Z"
   },
   {
    "duration": 14,
    "start_time": "2023-10-02T18:47:26.384Z"
   },
   {
    "duration": 12,
    "start_time": "2023-10-02T18:47:26.400Z"
   },
   {
    "duration": 12,
    "start_time": "2023-10-02T18:47:26.413Z"
   },
   {
    "duration": 4,
    "start_time": "2023-10-02T18:47:26.426Z"
   },
   {
    "duration": 51,
    "start_time": "2023-10-02T18:47:26.431Z"
   },
   {
    "duration": 4,
    "start_time": "2023-10-02T18:47:26.483Z"
   },
   {
    "duration": 95,
    "start_time": "2023-10-02T18:47:26.492Z"
   },
   {
    "duration": 4,
    "start_time": "2023-10-02T18:47:26.589Z"
   },
   {
    "duration": 94,
    "start_time": "2023-10-02T18:47:26.595Z"
   },
   {
    "duration": 102,
    "start_time": "2023-10-02T18:47:26.692Z"
   },
   {
    "duration": 103,
    "start_time": "2023-10-02T18:47:26.882Z"
   },
   {
    "duration": 765,
    "start_time": "2023-10-02T18:49:32.051Z"
   },
   {
    "duration": 10,
    "start_time": "2023-10-02T18:49:56.823Z"
   },
   {
    "duration": 8,
    "start_time": "2023-10-02T18:50:01.608Z"
   },
   {
    "duration": 5,
    "start_time": "2023-10-02T18:51:31.873Z"
   },
   {
    "duration": 1126,
    "start_time": "2023-10-02T18:51:38.590Z"
   },
   {
    "duration": 46,
    "start_time": "2023-10-02T18:51:39.718Z"
   },
   {
    "duration": 13,
    "start_time": "2023-10-02T18:51:39.766Z"
   },
   {
    "duration": 30,
    "start_time": "2023-10-02T18:51:39.781Z"
   },
   {
    "duration": 7,
    "start_time": "2023-10-02T18:51:39.813Z"
   },
   {
    "duration": 23,
    "start_time": "2023-10-02T18:51:39.822Z"
   },
   {
    "duration": 20,
    "start_time": "2023-10-02T18:51:39.847Z"
   },
   {
    "duration": 6,
    "start_time": "2023-10-02T18:51:39.868Z"
   },
   {
    "duration": 10,
    "start_time": "2023-10-02T18:51:39.876Z"
   },
   {
    "duration": 31,
    "start_time": "2023-10-02T18:51:39.887Z"
   },
   {
    "duration": 6,
    "start_time": "2023-10-02T18:51:39.920Z"
   },
   {
    "duration": 16,
    "start_time": "2023-10-02T18:51:39.928Z"
   },
   {
    "duration": 26,
    "start_time": "2023-10-02T18:51:39.946Z"
   },
   {
    "duration": 19,
    "start_time": "2023-10-02T18:51:39.980Z"
   },
   {
    "duration": 85,
    "start_time": "2023-10-02T18:51:40.002Z"
   },
   {
    "duration": 15,
    "start_time": "2023-10-02T18:51:40.090Z"
   },
   {
    "duration": 80,
    "start_time": "2023-10-02T18:51:40.107Z"
   },
   {
    "duration": 10,
    "start_time": "2023-10-02T18:51:40.280Z"
   },
   {
    "duration": 1096,
    "start_time": "2023-10-02T19:12:00.168Z"
   },
   {
    "duration": 45,
    "start_time": "2023-10-02T19:12:01.266Z"
   },
   {
    "duration": 474,
    "start_time": "2023-10-02T19:12:01.313Z"
   },
   {
    "duration": 93,
    "start_time": "2023-10-02T19:12:01.789Z"
   },
   {
    "duration": 25,
    "start_time": "2023-10-02T19:12:01.884Z"
   },
   {
    "duration": 51,
    "start_time": "2023-10-02T19:12:01.911Z"
   },
   {
    "duration": 77,
    "start_time": "2023-10-02T19:12:01.965Z"
   },
   {
    "duration": 57,
    "start_time": "2023-10-02T19:12:02.045Z"
   },
   {
    "duration": 48,
    "start_time": "2023-10-02T19:12:02.104Z"
   },
   {
    "duration": 206,
    "start_time": "2023-10-02T19:12:02.155Z"
   },
   {
    "duration": 38,
    "start_time": "2023-10-02T19:12:02.363Z"
   },
   {
    "duration": 26,
    "start_time": "2023-10-02T19:12:02.403Z"
   },
   {
    "duration": 33,
    "start_time": "2023-10-02T19:12:02.431Z"
   },
   {
    "duration": 96,
    "start_time": "2023-10-02T19:12:02.466Z"
   },
   {
    "duration": 118,
    "start_time": "2023-10-02T19:12:02.564Z"
   },
   {
    "duration": 50,
    "start_time": "2023-10-02T19:12:02.684Z"
   },
   {
    "duration": 131,
    "start_time": "2023-10-02T19:12:02.736Z"
   },
   {
    "duration": 97,
    "start_time": "2023-10-02T19:12:02.870Z"
   },
   {
    "duration": 8,
    "start_time": "2023-10-03T21:40:42.723Z"
   },
   {
    "duration": 1050,
    "start_time": "2023-10-03T21:40:47.306Z"
   },
   {
    "duration": 130,
    "start_time": "2023-10-03T21:40:48.359Z"
   },
   {
    "duration": 11,
    "start_time": "2023-10-03T21:40:48.491Z"
   },
   {
    "duration": 28,
    "start_time": "2023-10-03T21:40:48.503Z"
   },
   {
    "duration": 5,
    "start_time": "2023-10-03T21:40:48.532Z"
   },
   {
    "duration": 19,
    "start_time": "2023-10-03T21:40:48.539Z"
   },
   {
    "duration": 7,
    "start_time": "2023-10-03T21:40:48.559Z"
   },
   {
    "duration": 16,
    "start_time": "2023-10-03T21:40:48.567Z"
   },
   {
    "duration": 7,
    "start_time": "2023-10-03T21:40:48.585Z"
   },
   {
    "duration": 14,
    "start_time": "2023-10-03T21:40:48.594Z"
   },
   {
    "duration": 3,
    "start_time": "2023-10-03T21:40:48.609Z"
   },
   {
    "duration": 8,
    "start_time": "2023-10-03T21:40:48.614Z"
   },
   {
    "duration": 22,
    "start_time": "2023-10-03T21:40:48.623Z"
   },
   {
    "duration": 17,
    "start_time": "2023-10-03T21:40:48.651Z"
   },
   {
    "duration": 74,
    "start_time": "2023-10-03T21:40:48.671Z"
   },
   {
    "duration": 29,
    "start_time": "2023-10-03T21:40:48.752Z"
   },
   {
    "duration": 33,
    "start_time": "2023-10-03T21:40:48.782Z"
   },
   {
    "duration": 253,
    "start_time": "2023-10-03T21:40:48.817Z"
   },
   {
    "duration": 0,
    "start_time": "2023-10-03T21:40:49.072Z"
   },
   {
    "duration": 0,
    "start_time": "2023-10-03T21:40:49.073Z"
   },
   {
    "duration": 151,
    "start_time": "2023-10-03T21:42:04.901Z"
   },
   {
    "duration": 1092,
    "start_time": "2023-10-03T21:42:18.981Z"
   },
   {
    "duration": 42,
    "start_time": "2023-10-03T21:42:20.075Z"
   },
   {
    "duration": 12,
    "start_time": "2023-10-03T21:42:20.119Z"
   },
   {
    "duration": 43,
    "start_time": "2023-10-03T21:42:20.132Z"
   },
   {
    "duration": 22,
    "start_time": "2023-10-03T21:42:20.176Z"
   },
   {
    "duration": 37,
    "start_time": "2023-10-03T21:42:20.199Z"
   },
   {
    "duration": 32,
    "start_time": "2023-10-03T21:42:20.238Z"
   },
   {
    "duration": 26,
    "start_time": "2023-10-03T21:42:20.271Z"
   },
   {
    "duration": 43,
    "start_time": "2023-10-03T21:42:20.298Z"
   },
   {
    "duration": 25,
    "start_time": "2023-10-03T21:42:20.344Z"
   },
   {
    "duration": 9,
    "start_time": "2023-10-03T21:42:20.371Z"
   },
   {
    "duration": 31,
    "start_time": "2023-10-03T21:42:20.382Z"
   },
   {
    "duration": 11,
    "start_time": "2023-10-03T21:42:20.415Z"
   },
   {
    "duration": 27,
    "start_time": "2023-10-03T21:42:20.428Z"
   },
   {
    "duration": 14,
    "start_time": "2023-10-03T21:42:20.457Z"
   },
   {
    "duration": 123,
    "start_time": "2023-10-03T21:42:20.473Z"
   },
   {
    "duration": 0,
    "start_time": "2023-10-03T21:42:20.598Z"
   },
   {
    "duration": 0,
    "start_time": "2023-10-03T21:42:20.599Z"
   },
   {
    "duration": 0,
    "start_time": "2023-10-03T21:42:20.601Z"
   },
   {
    "duration": 0,
    "start_time": "2023-10-03T21:42:20.602Z"
   },
   {
    "duration": 361,
    "start_time": "2023-10-03T21:43:09.493Z"
   },
   {
    "duration": 43,
    "start_time": "2023-10-03T21:43:09.856Z"
   },
   {
    "duration": 11,
    "start_time": "2023-10-03T21:43:09.900Z"
   },
   {
    "duration": 42,
    "start_time": "2023-10-03T21:43:09.913Z"
   },
   {
    "duration": 7,
    "start_time": "2023-10-03T21:43:09.957Z"
   },
   {
    "duration": 7,
    "start_time": "2023-10-03T21:43:09.965Z"
   },
   {
    "duration": 14,
    "start_time": "2023-10-03T21:43:09.974Z"
   },
   {
    "duration": 11,
    "start_time": "2023-10-03T21:43:09.990Z"
   },
   {
    "duration": 51,
    "start_time": "2023-10-03T21:43:10.002Z"
   },
   {
    "duration": 15,
    "start_time": "2023-10-03T21:43:10.059Z"
   },
   {
    "duration": 18,
    "start_time": "2023-10-03T21:43:10.076Z"
   },
   {
    "duration": 35,
    "start_time": "2023-10-03T21:43:10.096Z"
   },
   {
    "duration": 17,
    "start_time": "2023-10-03T21:43:10.133Z"
   },
   {
    "duration": 23,
    "start_time": "2023-10-03T21:43:10.154Z"
   },
   {
    "duration": 78,
    "start_time": "2023-10-03T21:43:10.179Z"
   },
   {
    "duration": 96,
    "start_time": "2023-10-03T21:43:10.263Z"
   },
   {
    "duration": 0,
    "start_time": "2023-10-03T21:43:10.360Z"
   },
   {
    "duration": 0,
    "start_time": "2023-10-03T21:43:10.361Z"
   },
   {
    "duration": 0,
    "start_time": "2023-10-03T21:43:10.362Z"
   },
   {
    "duration": 0,
    "start_time": "2023-10-03T21:43:10.363Z"
   },
   {
    "duration": 95,
    "start_time": "2023-10-03T21:45:25.293Z"
   },
   {
    "duration": 5,
    "start_time": "2023-10-03T21:46:05.935Z"
   },
   {
    "duration": 251,
    "start_time": "2023-10-03T21:46:09.630Z"
   },
   {
    "duration": 8,
    "start_time": "2023-10-03T21:46:28.034Z"
   },
   {
    "duration": 9,
    "start_time": "2023-10-03T21:48:10.322Z"
   },
   {
    "duration": 1237,
    "start_time": "2023-10-03T21:49:19.935Z"
   },
   {
    "duration": 41,
    "start_time": "2023-10-03T21:49:21.174Z"
   },
   {
    "duration": 13,
    "start_time": "2023-10-03T21:49:21.216Z"
   },
   {
    "duration": 38,
    "start_time": "2023-10-03T21:49:21.231Z"
   },
   {
    "duration": 7,
    "start_time": "2023-10-03T21:49:21.271Z"
   },
   {
    "duration": 6,
    "start_time": "2023-10-03T21:49:21.280Z"
   },
   {
    "duration": 8,
    "start_time": "2023-10-03T21:49:21.288Z"
   },
   {
    "duration": 16,
    "start_time": "2023-10-03T21:49:21.298Z"
   },
   {
    "duration": 9,
    "start_time": "2023-10-03T21:49:21.316Z"
   },
   {
    "duration": 17,
    "start_time": "2023-10-03T21:49:21.345Z"
   },
   {
    "duration": 15,
    "start_time": "2023-10-03T21:49:21.364Z"
   },
   {
    "duration": 25,
    "start_time": "2023-10-03T21:49:21.381Z"
   },
   {
    "duration": 22,
    "start_time": "2023-10-03T21:49:21.407Z"
   },
   {
    "duration": 32,
    "start_time": "2023-10-03T21:49:21.432Z"
   },
   {
    "duration": 3,
    "start_time": "2023-10-03T21:49:21.468Z"
   },
   {
    "duration": 14,
    "start_time": "2023-10-03T21:49:21.549Z"
   },
   {
    "duration": 5,
    "start_time": "2023-10-03T21:49:21.565Z"
   },
   {
    "duration": 4,
    "start_time": "2023-10-03T21:49:21.571Z"
   },
   {
    "duration": 89,
    "start_time": "2023-10-03T21:49:21.576Z"
   },
   {
    "duration": 15,
    "start_time": "2023-10-03T21:49:21.747Z"
   },
   {
    "duration": 1097,
    "start_time": "2023-10-03T21:51:44.123Z"
   },
   {
    "duration": 52,
    "start_time": "2023-10-03T21:51:45.221Z"
   },
   {
    "duration": 12,
    "start_time": "2023-10-03T21:51:45.275Z"
   },
   {
    "duration": 26,
    "start_time": "2023-10-03T21:51:45.289Z"
   },
   {
    "duration": 6,
    "start_time": "2023-10-03T21:51:45.316Z"
   },
   {
    "duration": 7,
    "start_time": "2023-10-03T21:51:45.324Z"
   },
   {
    "duration": 22,
    "start_time": "2023-10-03T21:51:45.333Z"
   },
   {
    "duration": 4,
    "start_time": "2023-10-03T21:51:45.357Z"
   },
   {
    "duration": 9,
    "start_time": "2023-10-03T21:51:45.363Z"
   },
   {
    "duration": 14,
    "start_time": "2023-10-03T21:51:45.374Z"
   },
   {
    "duration": 3,
    "start_time": "2023-10-03T21:51:45.390Z"
   },
   {
    "duration": 7,
    "start_time": "2023-10-03T21:51:45.394Z"
   },
   {
    "duration": 12,
    "start_time": "2023-10-03T21:51:45.402Z"
   },
   {
    "duration": 46,
    "start_time": "2023-10-03T21:51:45.416Z"
   },
   {
    "duration": 3,
    "start_time": "2023-10-03T21:51:45.464Z"
   },
   {
    "duration": 92,
    "start_time": "2023-10-03T21:51:45.468Z"
   },
   {
    "duration": 9,
    "start_time": "2023-10-03T21:51:45.562Z"
   },
   {
    "duration": 15,
    "start_time": "2023-10-03T21:51:45.573Z"
   },
   {
    "duration": 55,
    "start_time": "2023-10-03T21:51:45.590Z"
   },
   {
    "duration": 108,
    "start_time": "2023-10-03T21:51:45.646Z"
   },
   {
    "duration": 1082,
    "start_time": "2023-10-03T21:59:12.782Z"
   },
   {
    "duration": 41,
    "start_time": "2023-10-03T21:59:13.866Z"
   },
   {
    "duration": 13,
    "start_time": "2023-10-03T21:59:13.909Z"
   },
   {
    "duration": 25,
    "start_time": "2023-10-03T21:59:13.924Z"
   },
   {
    "duration": 10,
    "start_time": "2023-10-03T21:59:13.950Z"
   },
   {
    "duration": 21,
    "start_time": "2023-10-03T21:59:13.961Z"
   },
   {
    "duration": 34,
    "start_time": "2023-10-03T21:59:13.984Z"
   },
   {
    "duration": 39,
    "start_time": "2023-10-03T21:59:14.021Z"
   },
   {
    "duration": 39,
    "start_time": "2023-10-03T21:59:14.061Z"
   },
   {
    "duration": 29,
    "start_time": "2023-10-03T21:59:14.103Z"
   },
   {
    "duration": 18,
    "start_time": "2023-10-03T21:59:14.134Z"
   },
   {
    "duration": 30,
    "start_time": "2023-10-03T21:59:14.154Z"
   },
   {
    "duration": 11,
    "start_time": "2023-10-03T21:59:14.186Z"
   },
   {
    "duration": 63,
    "start_time": "2023-10-03T21:59:14.199Z"
   },
   {
    "duration": 81,
    "start_time": "2023-10-03T21:59:14.264Z"
   },
   {
    "duration": 30,
    "start_time": "2023-10-03T21:59:14.350Z"
   },
   {
    "duration": 22,
    "start_time": "2023-10-03T21:59:14.382Z"
   },
   {
    "duration": 49,
    "start_time": "2023-10-03T21:59:14.405Z"
   },
   {
    "duration": 89,
    "start_time": "2023-10-03T21:59:14.458Z"
   },
   {
    "duration": 13,
    "start_time": "2023-10-03T21:59:14.549Z"
   },
   {
    "duration": 2738,
    "start_time": "2023-10-04T06:32:25.523Z"
   },
   {
    "duration": 69,
    "start_time": "2023-10-04T06:38:35.365Z"
   },
   {
    "duration": 26,
    "start_time": "2023-10-04T06:38:35.437Z"
   },
   {
    "duration": 1,
    "start_time": "2023-10-04T06:38:38.270Z"
   },
   {
    "duration": 0,
    "start_time": "2023-10-04T06:38:38.272Z"
   },
   {
    "duration": 0,
    "start_time": "2023-10-04T06:38:38.273Z"
   },
   {
    "duration": 0,
    "start_time": "2023-10-04T06:38:38.275Z"
   },
   {
    "duration": 0,
    "start_time": "2023-10-04T06:38:38.278Z"
   },
   {
    "duration": 0,
    "start_time": "2023-10-04T06:38:38.280Z"
   },
   {
    "duration": 0,
    "start_time": "2023-10-04T06:38:38.282Z"
   },
   {
    "duration": 0,
    "start_time": "2023-10-04T06:38:38.284Z"
   },
   {
    "duration": 0,
    "start_time": "2023-10-04T06:38:38.285Z"
   },
   {
    "duration": 0,
    "start_time": "2023-10-04T06:38:38.286Z"
   },
   {
    "duration": 0,
    "start_time": "2023-10-04T06:38:38.287Z"
   },
   {
    "duration": 0,
    "start_time": "2023-10-04T06:38:38.289Z"
   },
   {
    "duration": 0,
    "start_time": "2023-10-04T06:38:38.294Z"
   },
   {
    "duration": 0,
    "start_time": "2023-10-04T06:38:38.296Z"
   },
   {
    "duration": 0,
    "start_time": "2023-10-04T06:38:38.297Z"
   },
   {
    "duration": 0,
    "start_time": "2023-10-04T06:38:38.298Z"
   },
   {
    "duration": 0,
    "start_time": "2023-10-04T06:38:38.299Z"
   },
   {
    "duration": 0,
    "start_time": "2023-10-04T06:38:38.349Z"
   },
   {
    "duration": 0,
    "start_time": "2023-10-04T06:38:38.352Z"
   },
   {
    "duration": 0,
    "start_time": "2023-10-04T06:38:38.354Z"
   },
   {
    "duration": 0,
    "start_time": "2023-10-04T06:38:38.355Z"
   },
   {
    "duration": 1069,
    "start_time": "2023-10-04T06:53:17.097Z"
   },
   {
    "duration": 46,
    "start_time": "2023-10-04T06:53:18.181Z"
   },
   {
    "duration": 13,
    "start_time": "2023-10-04T06:53:18.228Z"
   },
   {
    "duration": 68,
    "start_time": "2023-10-04T06:53:18.242Z"
   },
   {
    "duration": 27,
    "start_time": "2023-10-04T06:53:18.313Z"
   },
   {
    "duration": 80,
    "start_time": "2023-10-04T06:53:18.342Z"
   },
   {
    "duration": 9,
    "start_time": "2023-10-04T06:53:18.424Z"
   },
   {
    "duration": 6,
    "start_time": "2023-10-04T06:53:18.435Z"
   },
   {
    "duration": 35,
    "start_time": "2023-10-04T06:53:18.443Z"
   },
   {
    "duration": 37,
    "start_time": "2023-10-04T06:53:18.480Z"
   },
   {
    "duration": 7,
    "start_time": "2023-10-04T06:53:18.519Z"
   },
   {
    "duration": 16,
    "start_time": "2023-10-04T06:53:18.528Z"
   },
   {
    "duration": 38,
    "start_time": "2023-10-04T06:53:18.546Z"
   },
   {
    "duration": 69,
    "start_time": "2023-10-04T06:53:18.588Z"
   },
   {
    "duration": 9,
    "start_time": "2023-10-04T06:53:18.661Z"
   },
   {
    "duration": 206,
    "start_time": "2023-10-04T06:53:18.675Z"
   },
   {
    "duration": 0,
    "start_time": "2023-10-04T06:53:18.883Z"
   },
   {
    "duration": 0,
    "start_time": "2023-10-04T06:53:18.885Z"
   },
   {
    "duration": 0,
    "start_time": "2023-10-04T06:53:18.886Z"
   },
   {
    "duration": 0,
    "start_time": "2023-10-04T06:53:18.888Z"
   },
   {
    "duration": 0,
    "start_time": "2023-10-04T06:53:18.889Z"
   },
   {
    "duration": 52,
    "start_time": "2023-10-04T06:53:28.812Z"
   },
   {
    "duration": 26,
    "start_time": "2023-10-04T06:53:43.865Z"
   },
   {
    "duration": 5,
    "start_time": "2023-10-04T06:54:02.608Z"
   },
   {
    "duration": 12,
    "start_time": "2023-10-04T06:54:05.087Z"
   },
   {
    "duration": 12,
    "start_time": "2023-10-04T06:54:06.639Z"
   },
   {
    "duration": 9,
    "start_time": "2023-10-04T06:54:43.516Z"
   },
   {
    "duration": 83,
    "start_time": "2023-10-04T06:54:51.885Z"
   },
   {
    "duration": 9,
    "start_time": "2023-10-04T06:54:52.878Z"
   },
   {
    "duration": 7,
    "start_time": "2023-10-04T06:55:42.915Z"
   },
   {
    "duration": 13,
    "start_time": "2023-10-04T06:56:24.728Z"
   },
   {
    "duration": 51,
    "start_time": "2023-10-04T06:57:42.617Z"
   },
   {
    "duration": 19,
    "start_time": "2023-10-04T06:57:58.676Z"
   },
   {
    "duration": 32,
    "start_time": "2023-10-04T06:59:10.367Z"
   },
   {
    "duration": 13,
    "start_time": "2023-10-04T06:59:29.501Z"
   },
   {
    "duration": 6,
    "start_time": "2023-10-04T07:00:42.518Z"
   },
   {
    "duration": 9,
    "start_time": "2023-10-04T07:01:04.567Z"
   },
   {
    "duration": 7,
    "start_time": "2023-10-04T07:01:17.586Z"
   },
   {
    "duration": 5,
    "start_time": "2023-10-04T07:01:27.500Z"
   },
   {
    "duration": 7,
    "start_time": "2023-10-04T07:01:59.119Z"
   },
   {
    "duration": 7,
    "start_time": "2023-10-04T07:02:10.632Z"
   },
   {
    "duration": 8,
    "start_time": "2023-10-04T07:02:29.322Z"
   },
   {
    "duration": 9,
    "start_time": "2023-10-04T07:02:38.865Z"
   },
   {
    "duration": 9,
    "start_time": "2023-10-04T07:02:47.949Z"
   },
   {
    "duration": 8,
    "start_time": "2023-10-04T07:02:55.389Z"
   },
   {
    "duration": 9,
    "start_time": "2023-10-04T07:03:27.870Z"
   },
   {
    "duration": 13,
    "start_time": "2023-10-04T07:03:34.041Z"
   },
   {
    "duration": 8,
    "start_time": "2023-10-04T07:03:49.154Z"
   },
   {
    "duration": 5,
    "start_time": "2023-10-04T07:04:01.205Z"
   },
   {
    "duration": 8,
    "start_time": "2023-10-04T07:04:04.904Z"
   },
   {
    "duration": 8,
    "start_time": "2023-10-04T07:04:10.646Z"
   },
   {
    "duration": 8,
    "start_time": "2023-10-04T07:06:13.997Z"
   },
   {
    "duration": 9,
    "start_time": "2023-10-04T07:06:19.772Z"
   },
   {
    "duration": 30,
    "start_time": "2023-10-04T07:06:48.336Z"
   },
   {
    "duration": 14,
    "start_time": "2023-10-04T07:06:59.857Z"
   },
   {
    "duration": 10,
    "start_time": "2023-10-04T07:07:11.967Z"
   },
   {
    "duration": 9,
    "start_time": "2023-10-04T07:07:20.301Z"
   },
   {
    "duration": 7,
    "start_time": "2023-10-04T07:07:27.589Z"
   },
   {
    "duration": 5,
    "start_time": "2023-10-04T07:08:10.180Z"
   },
   {
    "duration": 8,
    "start_time": "2023-10-04T07:10:38.941Z"
   },
   {
    "duration": 5,
    "start_time": "2023-10-04T07:11:28.681Z"
   },
   {
    "duration": 6,
    "start_time": "2023-10-04T07:13:02.384Z"
   }
  ],
  "kernelspec": {
   "display_name": "Python 3 (ipykernel)",
   "language": "python",
   "name": "python3"
  },
  "language_info": {
   "codemirror_mode": {
    "name": "ipython",
    "version": 3
   },
   "file_extension": ".py",
   "mimetype": "text/x-python",
   "name": "python",
   "nbconvert_exporter": "python",
   "pygments_lexer": "ipython3",
   "version": "3.10.13"
  },
  "toc": {
   "base_numbering": 1,
   "nav_menu": {},
   "number_sections": true,
   "sideBar": true,
   "skip_h1_title": true,
   "title_cell": "Содержание",
   "title_sidebar": "Contents",
   "toc_cell": true,
   "toc_position": {
    "height": "calc(100% - 180px)",
    "left": "10px",
    "top": "150px",
    "width": "187.8px"
   },
   "toc_section_display": true,
   "toc_window_display": true
  }
 },
 "nbformat": 4,
 "nbformat_minor": 2
}
