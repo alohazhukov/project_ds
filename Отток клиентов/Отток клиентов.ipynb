{
 "cells": [
  {
   "cell_type": "markdown",
   "metadata": {},
   "source": [
    "# Отток клиентов"
   ]
  },
  {
   "cell_type": "markdown",
   "metadata": {},
   "source": [
    "Из «Бета-Банка» стали уходить клиенты. Каждый месяц. Немного, но заметно. Банковские маркетологи посчитали: сохранять текущих клиентов дешевле, чем привлекать новых.\n",
    "\n",
    "Нужно спрогнозировать, уйдёт клиент из банка в ближайшее время или нет. Вам предоставлены исторические данные о поведении клиентов и расторжении договоров с банком. \n",
    "\n",
    "Постройте модель с предельно большим значением *F1*-меры. Чтобы сдать проект успешно, нужно довести метрику до 0.59. Проверьте *F1*-меру на тестовой выборке самостоятельно.\n",
    "\n",
    "Дополнительно измеряйте *AUC-ROC*, сравнивайте её значение с *F1*-мерой.\n",
    "\n",
    "Источник данных: [https://www.kaggle.com/barelydedicated/bank-customer-churn-modeling](https://www.kaggle.com/barelydedicated/bank-customer-churn-modeling)"
   ]
  },
  {
   "cell_type": "markdown",
   "metadata": {},
   "source": [
    "__Признаки:__\n",
    "- RowNumber — индекс строки в данных\n",
    "- CustomerId — уникальный идентификатор клиента\n",
    "- Surname — фамилия\n",
    "- CreditScore — кредитный рейтинг\n",
    "- Geography — страна проживания\n",
    "- Gender — пол\n",
    "- Age — возраст\n",
    "- Tenure — сколько лет человек является клиентом банка\n",
    "- Balance — баланс на счёте\n",
    "- NumOfProducts — количество продуктов банка, используемых клиентом\n",
    "- HasCrCard — наличие кредитной карты\n",
    "- IsActiveMember — активность клиента\n",
    "- EstimatedSalary — предполагаемая зарплата\n",
    "\n",
    "__Целевой признак:__  \n",
    "- Exited — факт ухода клиента"
   ]
  },
  {
   "cell_type": "markdown",
   "metadata": {},
   "source": [
    "__Инструкция по выполнению проекта__\n",
    "\n",
    "- Загрузите и подготовьте данные. Поясните порядок действий.\n",
    "- Исследуйте баланс классов, обучите модель без учёта дисбаланса. Кратко опишите выводы.\n",
    "- Улучшите качество модели, учитывая дисбаланс классов. Обучите разные модели и найдите лучшую. Кратко опишите выводы.\n",
    "- Проведите финальное тестирование."
   ]
  },
  {
   "cell_type": "markdown",
   "metadata": {},
   "source": [
    "## Подготовка данных"
   ]
  },
  {
   "cell_type": "code",
   "execution_count": 1,
   "metadata": {},
   "outputs": [],
   "source": [
    "import pandas as pd\n",
    "import numpy as np\n",
    "import warnings\n",
    "\n",
    "from sklearn.preprocessing import StandardScaler, OneHotEncoder\n",
    "from sklearn.tree import DecisionTreeClassifier\n",
    "from sklearn.ensemble import RandomForestClassifier\n",
    "from sklearn.linear_model import LogisticRegression \n",
    "from sklearn.model_selection import train_test_split\n",
    "from sklearn.utils import shuffle\n",
    "from sklearn.metrics import f1_score, roc_auc_score"
   ]
  },
  {
   "cell_type": "code",
   "execution_count": 2,
   "metadata": {},
   "outputs": [],
   "source": [
    "# отключим некритические предупреждения в коде\n",
    "\n",
    "warnings.filterwarnings(\"ignore\")"
   ]
  },
  {
   "cell_type": "code",
   "execution_count": 3,
   "metadata": {},
   "outputs": [
    {
     "data": {
      "text/html": [
       "<div>\n",
       "<style scoped>\n",
       "    .dataframe tbody tr th:only-of-type {\n",
       "        vertical-align: middle;\n",
       "    }\n",
       "\n",
       "    .dataframe tbody tr th {\n",
       "        vertical-align: top;\n",
       "    }\n",
       "\n",
       "    .dataframe thead th {\n",
       "        text-align: right;\n",
       "    }\n",
       "</style>\n",
       "<table border=\"1\" class=\"dataframe\">\n",
       "  <thead>\n",
       "    <tr style=\"text-align: right;\">\n",
       "      <th></th>\n",
       "      <th>RowNumber</th>\n",
       "      <th>CustomerId</th>\n",
       "      <th>Surname</th>\n",
       "      <th>CreditScore</th>\n",
       "      <th>Geography</th>\n",
       "      <th>Gender</th>\n",
       "      <th>Age</th>\n",
       "      <th>Tenure</th>\n",
       "      <th>Balance</th>\n",
       "      <th>NumOfProducts</th>\n",
       "      <th>HasCrCard</th>\n",
       "      <th>IsActiveMember</th>\n",
       "      <th>EstimatedSalary</th>\n",
       "      <th>Exited</th>\n",
       "    </tr>\n",
       "  </thead>\n",
       "  <tbody>\n",
       "    <tr>\n",
       "      <th>0</th>\n",
       "      <td>1</td>\n",
       "      <td>15634602</td>\n",
       "      <td>Hargrave</td>\n",
       "      <td>619</td>\n",
       "      <td>France</td>\n",
       "      <td>Female</td>\n",
       "      <td>42</td>\n",
       "      <td>2.0</td>\n",
       "      <td>0.00</td>\n",
       "      <td>1</td>\n",
       "      <td>1</td>\n",
       "      <td>1</td>\n",
       "      <td>101348.88</td>\n",
       "      <td>1</td>\n",
       "    </tr>\n",
       "    <tr>\n",
       "      <th>1</th>\n",
       "      <td>2</td>\n",
       "      <td>15647311</td>\n",
       "      <td>Hill</td>\n",
       "      <td>608</td>\n",
       "      <td>Spain</td>\n",
       "      <td>Female</td>\n",
       "      <td>41</td>\n",
       "      <td>1.0</td>\n",
       "      <td>83807.86</td>\n",
       "      <td>1</td>\n",
       "      <td>0</td>\n",
       "      <td>1</td>\n",
       "      <td>112542.58</td>\n",
       "      <td>0</td>\n",
       "    </tr>\n",
       "    <tr>\n",
       "      <th>2</th>\n",
       "      <td>3</td>\n",
       "      <td>15619304</td>\n",
       "      <td>Onio</td>\n",
       "      <td>502</td>\n",
       "      <td>France</td>\n",
       "      <td>Female</td>\n",
       "      <td>42</td>\n",
       "      <td>8.0</td>\n",
       "      <td>159660.80</td>\n",
       "      <td>3</td>\n",
       "      <td>1</td>\n",
       "      <td>0</td>\n",
       "      <td>113931.57</td>\n",
       "      <td>1</td>\n",
       "    </tr>\n",
       "    <tr>\n",
       "      <th>3</th>\n",
       "      <td>4</td>\n",
       "      <td>15701354</td>\n",
       "      <td>Boni</td>\n",
       "      <td>699</td>\n",
       "      <td>France</td>\n",
       "      <td>Female</td>\n",
       "      <td>39</td>\n",
       "      <td>1.0</td>\n",
       "      <td>0.00</td>\n",
       "      <td>2</td>\n",
       "      <td>0</td>\n",
       "      <td>0</td>\n",
       "      <td>93826.63</td>\n",
       "      <td>0</td>\n",
       "    </tr>\n",
       "    <tr>\n",
       "      <th>4</th>\n",
       "      <td>5</td>\n",
       "      <td>15737888</td>\n",
       "      <td>Mitchell</td>\n",
       "      <td>850</td>\n",
       "      <td>Spain</td>\n",
       "      <td>Female</td>\n",
       "      <td>43</td>\n",
       "      <td>2.0</td>\n",
       "      <td>125510.82</td>\n",
       "      <td>1</td>\n",
       "      <td>1</td>\n",
       "      <td>1</td>\n",
       "      <td>79084.10</td>\n",
       "      <td>0</td>\n",
       "    </tr>\n",
       "    <tr>\n",
       "      <th>5</th>\n",
       "      <td>6</td>\n",
       "      <td>15574012</td>\n",
       "      <td>Chu</td>\n",
       "      <td>645</td>\n",
       "      <td>Spain</td>\n",
       "      <td>Male</td>\n",
       "      <td>44</td>\n",
       "      <td>8.0</td>\n",
       "      <td>113755.78</td>\n",
       "      <td>2</td>\n",
       "      <td>1</td>\n",
       "      <td>0</td>\n",
       "      <td>149756.71</td>\n",
       "      <td>1</td>\n",
       "    </tr>\n",
       "    <tr>\n",
       "      <th>6</th>\n",
       "      <td>7</td>\n",
       "      <td>15592531</td>\n",
       "      <td>Bartlett</td>\n",
       "      <td>822</td>\n",
       "      <td>France</td>\n",
       "      <td>Male</td>\n",
       "      <td>50</td>\n",
       "      <td>7.0</td>\n",
       "      <td>0.00</td>\n",
       "      <td>2</td>\n",
       "      <td>1</td>\n",
       "      <td>1</td>\n",
       "      <td>10062.80</td>\n",
       "      <td>0</td>\n",
       "    </tr>\n",
       "    <tr>\n",
       "      <th>7</th>\n",
       "      <td>8</td>\n",
       "      <td>15656148</td>\n",
       "      <td>Obinna</td>\n",
       "      <td>376</td>\n",
       "      <td>Germany</td>\n",
       "      <td>Female</td>\n",
       "      <td>29</td>\n",
       "      <td>4.0</td>\n",
       "      <td>115046.74</td>\n",
       "      <td>4</td>\n",
       "      <td>1</td>\n",
       "      <td>0</td>\n",
       "      <td>119346.88</td>\n",
       "      <td>1</td>\n",
       "    </tr>\n",
       "    <tr>\n",
       "      <th>8</th>\n",
       "      <td>9</td>\n",
       "      <td>15792365</td>\n",
       "      <td>He</td>\n",
       "      <td>501</td>\n",
       "      <td>France</td>\n",
       "      <td>Male</td>\n",
       "      <td>44</td>\n",
       "      <td>4.0</td>\n",
       "      <td>142051.07</td>\n",
       "      <td>2</td>\n",
       "      <td>0</td>\n",
       "      <td>1</td>\n",
       "      <td>74940.50</td>\n",
       "      <td>0</td>\n",
       "    </tr>\n",
       "    <tr>\n",
       "      <th>9</th>\n",
       "      <td>10</td>\n",
       "      <td>15592389</td>\n",
       "      <td>H?</td>\n",
       "      <td>684</td>\n",
       "      <td>France</td>\n",
       "      <td>Male</td>\n",
       "      <td>27</td>\n",
       "      <td>2.0</td>\n",
       "      <td>134603.88</td>\n",
       "      <td>1</td>\n",
       "      <td>1</td>\n",
       "      <td>1</td>\n",
       "      <td>71725.73</td>\n",
       "      <td>0</td>\n",
       "    </tr>\n",
       "  </tbody>\n",
       "</table>\n",
       "</div>"
      ],
      "text/plain": [
       "   RowNumber  CustomerId   Surname  CreditScore Geography  Gender  Age  \\\n",
       "0          1    15634602  Hargrave          619    France  Female   42   \n",
       "1          2    15647311      Hill          608     Spain  Female   41   \n",
       "2          3    15619304      Onio          502    France  Female   42   \n",
       "3          4    15701354      Boni          699    France  Female   39   \n",
       "4          5    15737888  Mitchell          850     Spain  Female   43   \n",
       "5          6    15574012       Chu          645     Spain    Male   44   \n",
       "6          7    15592531  Bartlett          822    France    Male   50   \n",
       "7          8    15656148    Obinna          376   Germany  Female   29   \n",
       "8          9    15792365        He          501    France    Male   44   \n",
       "9         10    15592389        H?          684    France    Male   27   \n",
       "\n",
       "   Tenure    Balance  NumOfProducts  HasCrCard  IsActiveMember  \\\n",
       "0     2.0       0.00              1          1               1   \n",
       "1     1.0   83807.86              1          0               1   \n",
       "2     8.0  159660.80              3          1               0   \n",
       "3     1.0       0.00              2          0               0   \n",
       "4     2.0  125510.82              1          1               1   \n",
       "5     8.0  113755.78              2          1               0   \n",
       "6     7.0       0.00              2          1               1   \n",
       "7     4.0  115046.74              4          1               0   \n",
       "8     4.0  142051.07              2          0               1   \n",
       "9     2.0  134603.88              1          1               1   \n",
       "\n",
       "   EstimatedSalary  Exited  \n",
       "0        101348.88       1  \n",
       "1        112542.58       0  \n",
       "2        113931.57       1  \n",
       "3         93826.63       0  \n",
       "4         79084.10       0  \n",
       "5        149756.71       1  \n",
       "6         10062.80       0  \n",
       "7        119346.88       1  \n",
       "8         74940.50       0  \n",
       "9         71725.73       0  "
      ]
     },
     "execution_count": 3,
     "metadata": {},
     "output_type": "execute_result"
    }
   ],
   "source": [
    "try:\n",
    "    data = pd.read_csv('/datasets/Churn.csv')\n",
    "except:\n",
    "    data = pd.read_csv('/Users/alex/Downloads/Churn.csv')\n",
    "\n",
    "data.head(10)"
   ]
  },
  {
   "cell_type": "code",
   "execution_count": 4,
   "metadata": {},
   "outputs": [],
   "source": [
    "# приведем столбцы к нижнему, привычному регистру\n",
    "\n",
    "data.columns = (data.columns\n",
    "                .str.replace('(?<=[a-z])(?=[A-Z])', '_', regex = True)\n",
    "                .str.lower()\n",
    "             )"
   ]
  },
  {
   "cell_type": "code",
   "execution_count": 5,
   "metadata": {},
   "outputs": [
    {
     "data": {
      "text/html": [
       "<div>\n",
       "<style scoped>\n",
       "    .dataframe tbody tr th:only-of-type {\n",
       "        vertical-align: middle;\n",
       "    }\n",
       "\n",
       "    .dataframe tbody tr th {\n",
       "        vertical-align: top;\n",
       "    }\n",
       "\n",
       "    .dataframe thead th {\n",
       "        text-align: right;\n",
       "    }\n",
       "</style>\n",
       "<table border=\"1\" class=\"dataframe\">\n",
       "  <thead>\n",
       "    <tr style=\"text-align: right;\">\n",
       "      <th></th>\n",
       "      <th>row_number</th>\n",
       "      <th>customer_id</th>\n",
       "      <th>surname</th>\n",
       "      <th>credit_score</th>\n",
       "      <th>geography</th>\n",
       "      <th>gender</th>\n",
       "      <th>age</th>\n",
       "      <th>tenure</th>\n",
       "      <th>balance</th>\n",
       "      <th>num_of_products</th>\n",
       "      <th>has_cr_card</th>\n",
       "      <th>is_active_member</th>\n",
       "      <th>estimated_salary</th>\n",
       "      <th>exited</th>\n",
       "    </tr>\n",
       "  </thead>\n",
       "  <tbody>\n",
       "    <tr>\n",
       "      <th>0</th>\n",
       "      <td>1</td>\n",
       "      <td>15634602</td>\n",
       "      <td>Hargrave</td>\n",
       "      <td>619</td>\n",
       "      <td>France</td>\n",
       "      <td>Female</td>\n",
       "      <td>42</td>\n",
       "      <td>2.0</td>\n",
       "      <td>0.00</td>\n",
       "      <td>1</td>\n",
       "      <td>1</td>\n",
       "      <td>1</td>\n",
       "      <td>101348.88</td>\n",
       "      <td>1</td>\n",
       "    </tr>\n",
       "    <tr>\n",
       "      <th>1</th>\n",
       "      <td>2</td>\n",
       "      <td>15647311</td>\n",
       "      <td>Hill</td>\n",
       "      <td>608</td>\n",
       "      <td>Spain</td>\n",
       "      <td>Female</td>\n",
       "      <td>41</td>\n",
       "      <td>1.0</td>\n",
       "      <td>83807.86</td>\n",
       "      <td>1</td>\n",
       "      <td>0</td>\n",
       "      <td>1</td>\n",
       "      <td>112542.58</td>\n",
       "      <td>0</td>\n",
       "    </tr>\n",
       "    <tr>\n",
       "      <th>2</th>\n",
       "      <td>3</td>\n",
       "      <td>15619304</td>\n",
       "      <td>Onio</td>\n",
       "      <td>502</td>\n",
       "      <td>France</td>\n",
       "      <td>Female</td>\n",
       "      <td>42</td>\n",
       "      <td>8.0</td>\n",
       "      <td>159660.80</td>\n",
       "      <td>3</td>\n",
       "      <td>1</td>\n",
       "      <td>0</td>\n",
       "      <td>113931.57</td>\n",
       "      <td>1</td>\n",
       "    </tr>\n",
       "    <tr>\n",
       "      <th>3</th>\n",
       "      <td>4</td>\n",
       "      <td>15701354</td>\n",
       "      <td>Boni</td>\n",
       "      <td>699</td>\n",
       "      <td>France</td>\n",
       "      <td>Female</td>\n",
       "      <td>39</td>\n",
       "      <td>1.0</td>\n",
       "      <td>0.00</td>\n",
       "      <td>2</td>\n",
       "      <td>0</td>\n",
       "      <td>0</td>\n",
       "      <td>93826.63</td>\n",
       "      <td>0</td>\n",
       "    </tr>\n",
       "    <tr>\n",
       "      <th>4</th>\n",
       "      <td>5</td>\n",
       "      <td>15737888</td>\n",
       "      <td>Mitchell</td>\n",
       "      <td>850</td>\n",
       "      <td>Spain</td>\n",
       "      <td>Female</td>\n",
       "      <td>43</td>\n",
       "      <td>2.0</td>\n",
       "      <td>125510.82</td>\n",
       "      <td>1</td>\n",
       "      <td>1</td>\n",
       "      <td>1</td>\n",
       "      <td>79084.10</td>\n",
       "      <td>0</td>\n",
       "    </tr>\n",
       "  </tbody>\n",
       "</table>\n",
       "</div>"
      ],
      "text/plain": [
       "   row_number  customer_id   surname  credit_score geography  gender  age  \\\n",
       "0           1     15634602  Hargrave           619    France  Female   42   \n",
       "1           2     15647311      Hill           608     Spain  Female   41   \n",
       "2           3     15619304      Onio           502    France  Female   42   \n",
       "3           4     15701354      Boni           699    France  Female   39   \n",
       "4           5     15737888  Mitchell           850     Spain  Female   43   \n",
       "\n",
       "   tenure    balance  num_of_products  has_cr_card  is_active_member  \\\n",
       "0     2.0       0.00                1            1                 1   \n",
       "1     1.0   83807.86                1            0                 1   \n",
       "2     8.0  159660.80                3            1                 0   \n",
       "3     1.0       0.00                2            0                 0   \n",
       "4     2.0  125510.82                1            1                 1   \n",
       "\n",
       "   estimated_salary  exited  \n",
       "0         101348.88       1  \n",
       "1         112542.58       0  \n",
       "2         113931.57       1  \n",
       "3          93826.63       0  \n",
       "4          79084.10       0  "
      ]
     },
     "execution_count": 5,
     "metadata": {},
     "output_type": "execute_result"
    }
   ],
   "source": [
    "# проверим\n",
    "\n",
    "data.head()"
   ]
  },
  {
   "cell_type": "code",
   "execution_count": 6,
   "metadata": {},
   "outputs": [
    {
     "name": "stdout",
     "output_type": "stream",
     "text": [
      "<class 'pandas.core.frame.DataFrame'>\n",
      "RangeIndex: 10000 entries, 0 to 9999\n",
      "Data columns (total 14 columns):\n",
      " #   Column            Non-Null Count  Dtype  \n",
      "---  ------            --------------  -----  \n",
      " 0   row_number        10000 non-null  int64  \n",
      " 1   customer_id       10000 non-null  int64  \n",
      " 2   surname           10000 non-null  object \n",
      " 3   credit_score      10000 non-null  int64  \n",
      " 4   geography         10000 non-null  object \n",
      " 5   gender            10000 non-null  object \n",
      " 6   age               10000 non-null  int64  \n",
      " 7   tenure            9091 non-null   float64\n",
      " 8   balance           10000 non-null  float64\n",
      " 9   num_of_products   10000 non-null  int64  \n",
      " 10  has_cr_card       10000 non-null  int64  \n",
      " 11  is_active_member  10000 non-null  int64  \n",
      " 12  estimated_salary  10000 non-null  float64\n",
      " 13  exited            10000 non-null  int64  \n",
      "dtypes: float64(3), int64(8), object(3)\n",
      "memory usage: 1.1+ MB\n"
     ]
    }
   ],
   "source": [
    "data.info()"
   ]
  },
  {
   "cell_type": "code",
   "execution_count": 7,
   "metadata": {},
   "outputs": [
    {
     "data": {
      "text/plain": [
       "array([ 2.,  1.,  8.,  7.,  4.,  6.,  3., 10.,  5.,  9.,  0., nan])"
      ]
     },
     "execution_count": 7,
     "metadata": {},
     "output_type": "execute_result"
    }
   ],
   "source": [
    "data['tenure'].unique()"
   ]
  },
  {
   "cell_type": "code",
   "execution_count": 8,
   "metadata": {},
   "outputs": [
    {
     "data": {
      "text/html": [
       "<div>\n",
       "<style scoped>\n",
       "    .dataframe tbody tr th:only-of-type {\n",
       "        vertical-align: middle;\n",
       "    }\n",
       "\n",
       "    .dataframe tbody tr th {\n",
       "        vertical-align: top;\n",
       "    }\n",
       "\n",
       "    .dataframe thead th {\n",
       "        text-align: right;\n",
       "    }\n",
       "</style>\n",
       "<table border=\"1\" class=\"dataframe\">\n",
       "  <thead>\n",
       "    <tr style=\"text-align: right;\">\n",
       "      <th></th>\n",
       "      <th>row_number</th>\n",
       "      <th>customer_id</th>\n",
       "      <th>surname</th>\n",
       "      <th>credit_score</th>\n",
       "      <th>geography</th>\n",
       "      <th>gender</th>\n",
       "      <th>age</th>\n",
       "      <th>tenure</th>\n",
       "      <th>balance</th>\n",
       "      <th>num_of_products</th>\n",
       "      <th>has_cr_card</th>\n",
       "      <th>is_active_member</th>\n",
       "      <th>estimated_salary</th>\n",
       "      <th>exited</th>\n",
       "    </tr>\n",
       "  </thead>\n",
       "  <tbody>\n",
       "    <tr>\n",
       "      <th>30</th>\n",
       "      <td>31</td>\n",
       "      <td>15589475</td>\n",
       "      <td>Azikiwe</td>\n",
       "      <td>591</td>\n",
       "      <td>Spain</td>\n",
       "      <td>Female</td>\n",
       "      <td>39</td>\n",
       "      <td>NaN</td>\n",
       "      <td>0.00</td>\n",
       "      <td>3</td>\n",
       "      <td>1</td>\n",
       "      <td>0</td>\n",
       "      <td>140469.38</td>\n",
       "      <td>1</td>\n",
       "    </tr>\n",
       "    <tr>\n",
       "      <th>48</th>\n",
       "      <td>49</td>\n",
       "      <td>15766205</td>\n",
       "      <td>Yin</td>\n",
       "      <td>550</td>\n",
       "      <td>Germany</td>\n",
       "      <td>Male</td>\n",
       "      <td>38</td>\n",
       "      <td>NaN</td>\n",
       "      <td>103391.38</td>\n",
       "      <td>1</td>\n",
       "      <td>0</td>\n",
       "      <td>1</td>\n",
       "      <td>90878.13</td>\n",
       "      <td>0</td>\n",
       "    </tr>\n",
       "    <tr>\n",
       "      <th>51</th>\n",
       "      <td>52</td>\n",
       "      <td>15768193</td>\n",
       "      <td>Trevisani</td>\n",
       "      <td>585</td>\n",
       "      <td>Germany</td>\n",
       "      <td>Male</td>\n",
       "      <td>36</td>\n",
       "      <td>NaN</td>\n",
       "      <td>146050.97</td>\n",
       "      <td>2</td>\n",
       "      <td>0</td>\n",
       "      <td>0</td>\n",
       "      <td>86424.57</td>\n",
       "      <td>0</td>\n",
       "    </tr>\n",
       "    <tr>\n",
       "      <th>53</th>\n",
       "      <td>54</td>\n",
       "      <td>15702298</td>\n",
       "      <td>Parkhill</td>\n",
       "      <td>655</td>\n",
       "      <td>Germany</td>\n",
       "      <td>Male</td>\n",
       "      <td>41</td>\n",
       "      <td>NaN</td>\n",
       "      <td>125561.97</td>\n",
       "      <td>1</td>\n",
       "      <td>0</td>\n",
       "      <td>0</td>\n",
       "      <td>164040.94</td>\n",
       "      <td>1</td>\n",
       "    </tr>\n",
       "    <tr>\n",
       "      <th>60</th>\n",
       "      <td>61</td>\n",
       "      <td>15651280</td>\n",
       "      <td>Hunter</td>\n",
       "      <td>742</td>\n",
       "      <td>Germany</td>\n",
       "      <td>Male</td>\n",
       "      <td>35</td>\n",
       "      <td>NaN</td>\n",
       "      <td>136857.00</td>\n",
       "      <td>1</td>\n",
       "      <td>0</td>\n",
       "      <td>0</td>\n",
       "      <td>84509.57</td>\n",
       "      <td>0</td>\n",
       "    </tr>\n",
       "    <tr>\n",
       "      <th>...</th>\n",
       "      <td>...</td>\n",
       "      <td>...</td>\n",
       "      <td>...</td>\n",
       "      <td>...</td>\n",
       "      <td>...</td>\n",
       "      <td>...</td>\n",
       "      <td>...</td>\n",
       "      <td>...</td>\n",
       "      <td>...</td>\n",
       "      <td>...</td>\n",
       "      <td>...</td>\n",
       "      <td>...</td>\n",
       "      <td>...</td>\n",
       "      <td>...</td>\n",
       "    </tr>\n",
       "    <tr>\n",
       "      <th>9944</th>\n",
       "      <td>9945</td>\n",
       "      <td>15703923</td>\n",
       "      <td>Cameron</td>\n",
       "      <td>744</td>\n",
       "      <td>Germany</td>\n",
       "      <td>Male</td>\n",
       "      <td>41</td>\n",
       "      <td>NaN</td>\n",
       "      <td>190409.34</td>\n",
       "      <td>2</td>\n",
       "      <td>1</td>\n",
       "      <td>1</td>\n",
       "      <td>138361.48</td>\n",
       "      <td>0</td>\n",
       "    </tr>\n",
       "    <tr>\n",
       "      <th>9956</th>\n",
       "      <td>9957</td>\n",
       "      <td>15707861</td>\n",
       "      <td>Nucci</td>\n",
       "      <td>520</td>\n",
       "      <td>France</td>\n",
       "      <td>Female</td>\n",
       "      <td>46</td>\n",
       "      <td>NaN</td>\n",
       "      <td>85216.61</td>\n",
       "      <td>1</td>\n",
       "      <td>1</td>\n",
       "      <td>0</td>\n",
       "      <td>117369.52</td>\n",
       "      <td>1</td>\n",
       "    </tr>\n",
       "    <tr>\n",
       "      <th>9964</th>\n",
       "      <td>9965</td>\n",
       "      <td>15642785</td>\n",
       "      <td>Douglas</td>\n",
       "      <td>479</td>\n",
       "      <td>France</td>\n",
       "      <td>Male</td>\n",
       "      <td>34</td>\n",
       "      <td>NaN</td>\n",
       "      <td>117593.48</td>\n",
       "      <td>2</td>\n",
       "      <td>0</td>\n",
       "      <td>0</td>\n",
       "      <td>113308.29</td>\n",
       "      <td>0</td>\n",
       "    </tr>\n",
       "    <tr>\n",
       "      <th>9985</th>\n",
       "      <td>9986</td>\n",
       "      <td>15586914</td>\n",
       "      <td>Nepean</td>\n",
       "      <td>659</td>\n",
       "      <td>France</td>\n",
       "      <td>Male</td>\n",
       "      <td>36</td>\n",
       "      <td>NaN</td>\n",
       "      <td>123841.49</td>\n",
       "      <td>2</td>\n",
       "      <td>1</td>\n",
       "      <td>0</td>\n",
       "      <td>96833.00</td>\n",
       "      <td>0</td>\n",
       "    </tr>\n",
       "    <tr>\n",
       "      <th>9999</th>\n",
       "      <td>10000</td>\n",
       "      <td>15628319</td>\n",
       "      <td>Walker</td>\n",
       "      <td>792</td>\n",
       "      <td>France</td>\n",
       "      <td>Female</td>\n",
       "      <td>28</td>\n",
       "      <td>NaN</td>\n",
       "      <td>130142.79</td>\n",
       "      <td>1</td>\n",
       "      <td>1</td>\n",
       "      <td>0</td>\n",
       "      <td>38190.78</td>\n",
       "      <td>0</td>\n",
       "    </tr>\n",
       "  </tbody>\n",
       "</table>\n",
       "<p>909 rows × 14 columns</p>\n",
       "</div>"
      ],
      "text/plain": [
       "      row_number  customer_id    surname  credit_score geography  gender  age  \\\n",
       "30            31     15589475    Azikiwe           591     Spain  Female   39   \n",
       "48            49     15766205        Yin           550   Germany    Male   38   \n",
       "51            52     15768193  Trevisani           585   Germany    Male   36   \n",
       "53            54     15702298   Parkhill           655   Germany    Male   41   \n",
       "60            61     15651280     Hunter           742   Germany    Male   35   \n",
       "...          ...          ...        ...           ...       ...     ...  ...   \n",
       "9944        9945     15703923    Cameron           744   Germany    Male   41   \n",
       "9956        9957     15707861      Nucci           520    France  Female   46   \n",
       "9964        9965     15642785    Douglas           479    France    Male   34   \n",
       "9985        9986     15586914     Nepean           659    France    Male   36   \n",
       "9999       10000     15628319     Walker           792    France  Female   28   \n",
       "\n",
       "      tenure    balance  num_of_products  has_cr_card  is_active_member  \\\n",
       "30       NaN       0.00                3            1                 0   \n",
       "48       NaN  103391.38                1            0                 1   \n",
       "51       NaN  146050.97                2            0                 0   \n",
       "53       NaN  125561.97                1            0                 0   \n",
       "60       NaN  136857.00                1            0                 0   \n",
       "...      ...        ...              ...          ...               ...   \n",
       "9944     NaN  190409.34                2            1                 1   \n",
       "9956     NaN   85216.61                1            1                 0   \n",
       "9964     NaN  117593.48                2            0                 0   \n",
       "9985     NaN  123841.49                2            1                 0   \n",
       "9999     NaN  130142.79                1            1                 0   \n",
       "\n",
       "      estimated_salary  exited  \n",
       "30           140469.38       1  \n",
       "48            90878.13       0  \n",
       "51            86424.57       0  \n",
       "53           164040.94       1  \n",
       "60            84509.57       0  \n",
       "...                ...     ...  \n",
       "9944         138361.48       0  \n",
       "9956         117369.52       1  \n",
       "9964         113308.29       0  \n",
       "9985          96833.00       0  \n",
       "9999          38190.78       0  \n",
       "\n",
       "[909 rows x 14 columns]"
      ]
     },
     "execution_count": 8,
     "metadata": {},
     "output_type": "execute_result"
    }
   ],
   "source": [
    "data[data['tenure'].isna()]"
   ]
  },
  {
   "cell_type": "markdown",
   "metadata": {},
   "source": [
    "Т.к у нас нет возможности правильно и корректно заполнить пропуски(менее 10 %), принимаем решение удалить их."
   ]
  },
  {
   "cell_type": "code",
   "execution_count": 9,
   "metadata": {},
   "outputs": [
    {
     "name": "stdout",
     "output_type": "stream",
     "text": [
      "(9091, 14)\n"
     ]
    }
   ],
   "source": [
    "tenure_nan = data[data['tenure'].isna()].index\n",
    "data.drop(tenure_nan, inplace = True, axis = 0)\n",
    "data.reset_index(inplace = True, drop = True)\n",
    "# Размер после удаления\n",
    "print(data.shape)"
   ]
  },
  {
   "cell_type": "markdown",
   "metadata": {},
   "source": [
    "Так же, за ненадобностью удалим столбцы __row_number, customer_id, и surname__, дабы в дальнейшем , при использовании Ohe не появилось куча ненужных столбцов из-за категориальных данных столбце с фамилиями"
   ]
  },
  {
   "cell_type": "code",
   "execution_count": 10,
   "metadata": {},
   "outputs": [
    {
     "data": {
      "text/html": [
       "<div>\n",
       "<style scoped>\n",
       "    .dataframe tbody tr th:only-of-type {\n",
       "        vertical-align: middle;\n",
       "    }\n",
       "\n",
       "    .dataframe tbody tr th {\n",
       "        vertical-align: top;\n",
       "    }\n",
       "\n",
       "    .dataframe thead th {\n",
       "        text-align: right;\n",
       "    }\n",
       "</style>\n",
       "<table border=\"1\" class=\"dataframe\">\n",
       "  <thead>\n",
       "    <tr style=\"text-align: right;\">\n",
       "      <th></th>\n",
       "      <th>credit_score</th>\n",
       "      <th>geography</th>\n",
       "      <th>gender</th>\n",
       "      <th>age</th>\n",
       "      <th>tenure</th>\n",
       "      <th>balance</th>\n",
       "      <th>num_of_products</th>\n",
       "      <th>has_cr_card</th>\n",
       "      <th>is_active_member</th>\n",
       "      <th>estimated_salary</th>\n",
       "      <th>exited</th>\n",
       "    </tr>\n",
       "  </thead>\n",
       "  <tbody>\n",
       "    <tr>\n",
       "      <th>0</th>\n",
       "      <td>619</td>\n",
       "      <td>France</td>\n",
       "      <td>Female</td>\n",
       "      <td>42</td>\n",
       "      <td>2.0</td>\n",
       "      <td>0.00</td>\n",
       "      <td>1</td>\n",
       "      <td>1</td>\n",
       "      <td>1</td>\n",
       "      <td>101348.88</td>\n",
       "      <td>1</td>\n",
       "    </tr>\n",
       "    <tr>\n",
       "      <th>1</th>\n",
       "      <td>608</td>\n",
       "      <td>Spain</td>\n",
       "      <td>Female</td>\n",
       "      <td>41</td>\n",
       "      <td>1.0</td>\n",
       "      <td>83807.86</td>\n",
       "      <td>1</td>\n",
       "      <td>0</td>\n",
       "      <td>1</td>\n",
       "      <td>112542.58</td>\n",
       "      <td>0</td>\n",
       "    </tr>\n",
       "    <tr>\n",
       "      <th>2</th>\n",
       "      <td>502</td>\n",
       "      <td>France</td>\n",
       "      <td>Female</td>\n",
       "      <td>42</td>\n",
       "      <td>8.0</td>\n",
       "      <td>159660.80</td>\n",
       "      <td>3</td>\n",
       "      <td>1</td>\n",
       "      <td>0</td>\n",
       "      <td>113931.57</td>\n",
       "      <td>1</td>\n",
       "    </tr>\n",
       "    <tr>\n",
       "      <th>3</th>\n",
       "      <td>699</td>\n",
       "      <td>France</td>\n",
       "      <td>Female</td>\n",
       "      <td>39</td>\n",
       "      <td>1.0</td>\n",
       "      <td>0.00</td>\n",
       "      <td>2</td>\n",
       "      <td>0</td>\n",
       "      <td>0</td>\n",
       "      <td>93826.63</td>\n",
       "      <td>0</td>\n",
       "    </tr>\n",
       "    <tr>\n",
       "      <th>4</th>\n",
       "      <td>850</td>\n",
       "      <td>Spain</td>\n",
       "      <td>Female</td>\n",
       "      <td>43</td>\n",
       "      <td>2.0</td>\n",
       "      <td>125510.82</td>\n",
       "      <td>1</td>\n",
       "      <td>1</td>\n",
       "      <td>1</td>\n",
       "      <td>79084.10</td>\n",
       "      <td>0</td>\n",
       "    </tr>\n",
       "  </tbody>\n",
       "</table>\n",
       "</div>"
      ],
      "text/plain": [
       "   credit_score geography  gender  age  tenure    balance  num_of_products  \\\n",
       "0           619    France  Female   42     2.0       0.00                1   \n",
       "1           608     Spain  Female   41     1.0   83807.86                1   \n",
       "2           502    France  Female   42     8.0  159660.80                3   \n",
       "3           699    France  Female   39     1.0       0.00                2   \n",
       "4           850     Spain  Female   43     2.0  125510.82                1   \n",
       "\n",
       "   has_cr_card  is_active_member  estimated_salary  exited  \n",
       "0            1                 1         101348.88       1  \n",
       "1            0                 1         112542.58       0  \n",
       "2            1                 0         113931.57       1  \n",
       "3            0                 0          93826.63       0  \n",
       "4            1                 1          79084.10       0  "
      ]
     },
     "execution_count": 10,
     "metadata": {},
     "output_type": "execute_result"
    }
   ],
   "source": [
    "data.drop(['row_number', 'customer_id', 'surname'], axis = 1, inplace = True)\n",
    "data.head()"
   ]
  },
  {
   "cell_type": "code",
   "execution_count": 11,
   "metadata": {},
   "outputs": [
    {
     "data": {
      "text/html": [
       "<div>\n",
       "<style scoped>\n",
       "    .dataframe tbody tr th:only-of-type {\n",
       "        vertical-align: middle;\n",
       "    }\n",
       "\n",
       "    .dataframe tbody tr th {\n",
       "        vertical-align: top;\n",
       "    }\n",
       "\n",
       "    .dataframe thead th {\n",
       "        text-align: right;\n",
       "    }\n",
       "</style>\n",
       "<table border=\"1\" class=\"dataframe\">\n",
       "  <thead>\n",
       "    <tr style=\"text-align: right;\">\n",
       "      <th></th>\n",
       "      <th>credit_score</th>\n",
       "      <th>age</th>\n",
       "      <th>tenure</th>\n",
       "      <th>balance</th>\n",
       "      <th>num_of_products</th>\n",
       "      <th>has_cr_card</th>\n",
       "      <th>is_active_member</th>\n",
       "      <th>estimated_salary</th>\n",
       "      <th>exited</th>\n",
       "    </tr>\n",
       "  </thead>\n",
       "  <tbody>\n",
       "    <tr>\n",
       "      <th>count</th>\n",
       "      <td>9091.000000</td>\n",
       "      <td>9091.000000</td>\n",
       "      <td>9091.000000</td>\n",
       "      <td>9091.000000</td>\n",
       "      <td>9091.000000</td>\n",
       "      <td>9091.000000</td>\n",
       "      <td>9091.000000</td>\n",
       "      <td>9091.000000</td>\n",
       "      <td>9091.000000</td>\n",
       "    </tr>\n",
       "    <tr>\n",
       "      <th>mean</th>\n",
       "      <td>650.736553</td>\n",
       "      <td>38.949181</td>\n",
       "      <td>4.997690</td>\n",
       "      <td>76522.740015</td>\n",
       "      <td>1.530195</td>\n",
       "      <td>0.704983</td>\n",
       "      <td>0.515565</td>\n",
       "      <td>100181.214924</td>\n",
       "      <td>0.203938</td>\n",
       "    </tr>\n",
       "    <tr>\n",
       "      <th>std</th>\n",
       "      <td>96.410471</td>\n",
       "      <td>10.555581</td>\n",
       "      <td>2.894723</td>\n",
       "      <td>62329.528576</td>\n",
       "      <td>0.581003</td>\n",
       "      <td>0.456076</td>\n",
       "      <td>0.499785</td>\n",
       "      <td>57624.755647</td>\n",
       "      <td>0.402946</td>\n",
       "    </tr>\n",
       "    <tr>\n",
       "      <th>min</th>\n",
       "      <td>350.000000</td>\n",
       "      <td>18.000000</td>\n",
       "      <td>0.000000</td>\n",
       "      <td>0.000000</td>\n",
       "      <td>1.000000</td>\n",
       "      <td>0.000000</td>\n",
       "      <td>0.000000</td>\n",
       "      <td>11.580000</td>\n",
       "      <td>0.000000</td>\n",
       "    </tr>\n",
       "    <tr>\n",
       "      <th>25%</th>\n",
       "      <td>584.000000</td>\n",
       "      <td>32.000000</td>\n",
       "      <td>2.000000</td>\n",
       "      <td>0.000000</td>\n",
       "      <td>1.000000</td>\n",
       "      <td>0.000000</td>\n",
       "      <td>0.000000</td>\n",
       "      <td>51227.745000</td>\n",
       "      <td>0.000000</td>\n",
       "    </tr>\n",
       "    <tr>\n",
       "      <th>50%</th>\n",
       "      <td>652.000000</td>\n",
       "      <td>37.000000</td>\n",
       "      <td>5.000000</td>\n",
       "      <td>97318.250000</td>\n",
       "      <td>1.000000</td>\n",
       "      <td>1.000000</td>\n",
       "      <td>1.000000</td>\n",
       "      <td>100240.200000</td>\n",
       "      <td>0.000000</td>\n",
       "    </tr>\n",
       "    <tr>\n",
       "      <th>75%</th>\n",
       "      <td>717.000000</td>\n",
       "      <td>44.000000</td>\n",
       "      <td>7.000000</td>\n",
       "      <td>127561.890000</td>\n",
       "      <td>2.000000</td>\n",
       "      <td>1.000000</td>\n",
       "      <td>1.000000</td>\n",
       "      <td>149567.210000</td>\n",
       "      <td>0.000000</td>\n",
       "    </tr>\n",
       "    <tr>\n",
       "      <th>max</th>\n",
       "      <td>850.000000</td>\n",
       "      <td>92.000000</td>\n",
       "      <td>10.000000</td>\n",
       "      <td>250898.090000</td>\n",
       "      <td>4.000000</td>\n",
       "      <td>1.000000</td>\n",
       "      <td>1.000000</td>\n",
       "      <td>199992.480000</td>\n",
       "      <td>1.000000</td>\n",
       "    </tr>\n",
       "  </tbody>\n",
       "</table>\n",
       "</div>"
      ],
      "text/plain": [
       "       credit_score          age       tenure        balance  num_of_products  \\\n",
       "count   9091.000000  9091.000000  9091.000000    9091.000000      9091.000000   \n",
       "mean     650.736553    38.949181     4.997690   76522.740015         1.530195   \n",
       "std       96.410471    10.555581     2.894723   62329.528576         0.581003   \n",
       "min      350.000000    18.000000     0.000000       0.000000         1.000000   \n",
       "25%      584.000000    32.000000     2.000000       0.000000         1.000000   \n",
       "50%      652.000000    37.000000     5.000000   97318.250000         1.000000   \n",
       "75%      717.000000    44.000000     7.000000  127561.890000         2.000000   \n",
       "max      850.000000    92.000000    10.000000  250898.090000         4.000000   \n",
       "\n",
       "       has_cr_card  is_active_member  estimated_salary       exited  \n",
       "count  9091.000000       9091.000000       9091.000000  9091.000000  \n",
       "mean      0.704983          0.515565     100181.214924     0.203938  \n",
       "std       0.456076          0.499785      57624.755647     0.402946  \n",
       "min       0.000000          0.000000         11.580000     0.000000  \n",
       "25%       0.000000          0.000000      51227.745000     0.000000  \n",
       "50%       1.000000          1.000000     100240.200000     0.000000  \n",
       "75%       1.000000          1.000000     149567.210000     0.000000  \n",
       "max       1.000000          1.000000     199992.480000     1.000000  "
      ]
     },
     "execution_count": 11,
     "metadata": {},
     "output_type": "execute_result"
    }
   ],
   "source": [
    "data.describe()"
   ]
  },
  {
   "cell_type": "markdown",
   "metadata": {},
   "source": [
    "## Исследование задачи"
   ]
  },
  {
   "cell_type": "markdown",
   "metadata": {},
   "source": [
    "__Исследуем баланс классов__"
   ]
  },
  {
   "cell_type": "code",
   "execution_count": 12,
   "metadata": {},
   "outputs": [
    {
     "data": {
      "text/plain": [
       "0    7237\n",
       "1    1854\n",
       "Name: exited, dtype: int64"
      ]
     },
     "execution_count": 12,
     "metadata": {},
     "output_type": "execute_result"
    },
    {
     "data": {
      "image/png": "[encoded data removed]",
      "text/plain": [
       "<Figure size 864x432 with 1 Axes>"
      ]
     },
     "metadata": {
      "needs_background": "light"
     },
     "output_type": "display_data"
    }
   ],
   "source": [
    "data['exited'].value_counts().plot(kind = 'bar',\n",
    "                                   grid = True, figsize = (12, 6),\n",
    "                                   title = 'Соотношение между классами');\n",
    "data['exited'].value_counts()"
   ]
  },
  {
   "cell_type": "markdown",
   "metadata": {},
   "source": [
    "Мы видим, что кол-во классов разнится почти в 4 раза, что говорит нам о дисбалансе классов."
   ]
  },
  {
   "cell_type": "code",
   "execution_count": null,
   "metadata": {},
   "outputs": [],
   "source": []
  },
  {
   "cell_type": "code",
   "execution_count": 13,
   "metadata": {},
   "outputs": [],
   "source": [
    "# присвоим переменной значение для дальнейшего использования в random_state\n",
    "\n",
    "my_random_state = 12345"
   ]
  },
  {
   "cell_type": "markdown",
   "metadata": {},
   "source": [
    "__Разделим данные на тренировочную и тестовую выборки__\n",
    "\n",
    "Далее используем технику прямого кодирования она же - Ohe к нашей __тренировочной__ выборке, затем выделим наши features и target, после разделим наши __Обработанные данные__ на __train и valid__ выборки, затем __стандартизируем__ наши числовые данные(так как имеются оч малые и большие значения) и будем обучать модели.\n",
    "\n",
    "К __Тестовой выборке__ мы вернемся в самом конце на этапе тестирования, дабы не подглядывать в нее и не допустить утечки данных(data leakege), к ней мы применим уже обученные алгоритмы"
   ]
  },
  {
   "cell_type": "code",
   "execution_count": 14,
   "metadata": {},
   "outputs": [],
   "source": [
    "# раздели наши данные на трейн и тест\n",
    "\n",
    "data_train, data_test = train_test_split(data, test_size = 0.2, random_state = my_random_state, shuffle = True)"
   ]
  },
  {
   "cell_type": "code",
   "execution_count": 15,
   "metadata": {},
   "outputs": [
    {
     "name": "stdout",
     "output_type": "stream",
     "text": [
      "(7272, 11)\n",
      "(1819, 11)\n"
     ]
    }
   ],
   "source": [
    "print(data_train.shape)\n",
    "print(data_test.shape)"
   ]
  },
  {
   "cell_type": "code",
   "execution_count": 16,
   "metadata": {},
   "outputs": [],
   "source": [
    "# Избавимся от категориальных переменных , применим технику Ohe\n",
    "\n",
    "data_ohe = pd.get_dummies(data_train, drop_first = True)"
   ]
  },
  {
   "cell_type": "code",
   "execution_count": 17,
   "metadata": {},
   "outputs": [
    {
     "data": {
      "text/html": [
       "<div>\n",
       "<style scoped>\n",
       "    .dataframe tbody tr th:only-of-type {\n",
       "        vertical-align: middle;\n",
       "    }\n",
       "\n",
       "    .dataframe tbody tr th {\n",
       "        vertical-align: top;\n",
       "    }\n",
       "\n",
       "    .dataframe thead th {\n",
       "        text-align: right;\n",
       "    }\n",
       "</style>\n",
       "<table border=\"1\" class=\"dataframe\">\n",
       "  <thead>\n",
       "    <tr style=\"text-align: right;\">\n",
       "      <th></th>\n",
       "      <th>credit_score</th>\n",
       "      <th>age</th>\n",
       "      <th>tenure</th>\n",
       "      <th>balance</th>\n",
       "      <th>num_of_products</th>\n",
       "      <th>has_cr_card</th>\n",
       "      <th>is_active_member</th>\n",
       "      <th>estimated_salary</th>\n",
       "      <th>exited</th>\n",
       "      <th>geography_Germany</th>\n",
       "      <th>geography_Spain</th>\n",
       "      <th>gender_Male</th>\n",
       "    </tr>\n",
       "  </thead>\n",
       "  <tbody>\n",
       "    <tr>\n",
       "      <th>6990</th>\n",
       "      <td>850</td>\n",
       "      <td>31</td>\n",
       "      <td>8.0</td>\n",
       "      <td>0.00</td>\n",
       "      <td>2</td>\n",
       "      <td>1</td>\n",
       "      <td>0</td>\n",
       "      <td>178667.70</td>\n",
       "      <td>0</td>\n",
       "      <td>0</td>\n",
       "      <td>0</td>\n",
       "      <td>1</td>\n",
       "    </tr>\n",
       "    <tr>\n",
       "      <th>3892</th>\n",
       "      <td>573</td>\n",
       "      <td>56</td>\n",
       "      <td>3.0</td>\n",
       "      <td>154669.77</td>\n",
       "      <td>1</td>\n",
       "      <td>0</td>\n",
       "      <td>1</td>\n",
       "      <td>115462.27</td>\n",
       "      <td>1</td>\n",
       "      <td>0</td>\n",
       "      <td>1</td>\n",
       "      <td>1</td>\n",
       "    </tr>\n",
       "    <tr>\n",
       "      <th>6778</th>\n",
       "      <td>850</td>\n",
       "      <td>47</td>\n",
       "      <td>4.0</td>\n",
       "      <td>99219.47</td>\n",
       "      <td>2</td>\n",
       "      <td>1</td>\n",
       "      <td>1</td>\n",
       "      <td>122141.13</td>\n",
       "      <td>0</td>\n",
       "      <td>1</td>\n",
       "      <td>0</td>\n",
       "      <td>0</td>\n",
       "    </tr>\n",
       "    <tr>\n",
       "      <th>4701</th>\n",
       "      <td>826</td>\n",
       "      <td>41</td>\n",
       "      <td>5.0</td>\n",
       "      <td>146466.46</td>\n",
       "      <td>2</td>\n",
       "      <td>0</td>\n",
       "      <td>0</td>\n",
       "      <td>180934.67</td>\n",
       "      <td>0</td>\n",
       "      <td>0</td>\n",
       "      <td>1</td>\n",
       "      <td>1</td>\n",
       "    </tr>\n",
       "    <tr>\n",
       "      <th>623</th>\n",
       "      <td>742</td>\n",
       "      <td>33</td>\n",
       "      <td>0.0</td>\n",
       "      <td>181656.51</td>\n",
       "      <td>1</td>\n",
       "      <td>1</td>\n",
       "      <td>1</td>\n",
       "      <td>107667.91</td>\n",
       "      <td>0</td>\n",
       "      <td>1</td>\n",
       "      <td>0</td>\n",
       "      <td>1</td>\n",
       "    </tr>\n",
       "  </tbody>\n",
       "</table>\n",
       "</div>"
      ],
      "text/plain": [
       "      credit_score  age  tenure    balance  num_of_products  has_cr_card  \\\n",
       "6990           850   31     8.0       0.00                2            1   \n",
       "3892           573   56     3.0  154669.77                1            0   \n",
       "6778           850   47     4.0   99219.47                2            1   \n",
       "4701           826   41     5.0  146466.46                2            0   \n",
       "623            742   33     0.0  181656.51                1            1   \n",
       "\n",
       "      is_active_member  estimated_salary  exited  geography_Germany  \\\n",
       "6990                 0         178667.70       0                  0   \n",
       "3892                 1         115462.27       1                  0   \n",
       "6778                 1         122141.13       0                  1   \n",
       "4701                 0         180934.67       0                  0   \n",
       "623                  1         107667.91       0                  1   \n",
       "\n",
       "      geography_Spain  gender_Male  \n",
       "6990                0            1  \n",
       "3892                1            1  \n",
       "6778                0            0  \n",
       "4701                1            1  \n",
       "623                 0            1  "
      ]
     },
     "execution_count": 17,
     "metadata": {},
     "output_type": "execute_result"
    }
   ],
   "source": [
    "data_ohe.head()"
   ]
  },
  {
   "cell_type": "code",
   "execution_count": 18,
   "metadata": {},
   "outputs": [],
   "source": [
    "# выделим features and target\n",
    "\n",
    "features = data_ohe.drop(['exited'], axis = 1)\n",
    "target = data_ohe['exited']"
   ]
  },
  {
   "cell_type": "code",
   "execution_count": 19,
   "metadata": {},
   "outputs": [
    {
     "name": "stdout",
     "output_type": "stream",
     "text": [
      "(5454, 11)\n",
      "(1818, 11)\n"
     ]
    }
   ],
   "source": [
    "# разделим данные на train и valid\n",
    "\n",
    "features_train, features_valid, target_train, target_valid = train_test_split(\n",
    "                                features,target, test_size = 0.25, random_state = my_random_state, shuffle = True)\n",
    "\n",
    "print(features_train.shape)\n",
    "print(features_valid.shape)"
   ]
  },
  {
   "cell_type": "code",
   "execution_count": 20,
   "metadata": {},
   "outputs": [],
   "source": [
    "# Стандартизируем наши выборки с помощью(StandardScaler), т.к есть значения и маленькие и очень большие.\n",
    "\n",
    "numeric = ['credit_score', 'age', 'tenure', 'balance', 'num_of_products', 'has_cr_card', 'is_active_member', 'estimated_salary']\n",
    "scaler = StandardScaler()\n",
    "scaler.fit(features_train[numeric])\n",
    "\n",
    "features_train[numeric] = scaler.transform(features_train[numeric])\n",
    "features_valid[numeric] = scaler.transform(features_valid[numeric])"
   ]
  },
  {
   "cell_type": "code",
   "execution_count": 21,
   "metadata": {},
   "outputs": [
    {
     "data": {
      "text/html": [
       "<div>\n",
       "<style scoped>\n",
       "    .dataframe tbody tr th:only-of-type {\n",
       "        vertical-align: middle;\n",
       "    }\n",
       "\n",
       "    .dataframe tbody tr th {\n",
       "        vertical-align: top;\n",
       "    }\n",
       "\n",
       "    .dataframe thead th {\n",
       "        text-align: right;\n",
       "    }\n",
       "</style>\n",
       "<table border=\"1\" class=\"dataframe\">\n",
       "  <thead>\n",
       "    <tr style=\"text-align: right;\">\n",
       "      <th></th>\n",
       "      <th>credit_score</th>\n",
       "      <th>age</th>\n",
       "      <th>tenure</th>\n",
       "      <th>balance</th>\n",
       "      <th>num_of_products</th>\n",
       "      <th>has_cr_card</th>\n",
       "      <th>is_active_member</th>\n",
       "      <th>estimated_salary</th>\n",
       "      <th>geography_Germany</th>\n",
       "      <th>geography_Spain</th>\n",
       "      <th>gender_Male</th>\n",
       "    </tr>\n",
       "  </thead>\n",
       "  <tbody>\n",
       "    <tr>\n",
       "      <th>4350</th>\n",
       "      <td>-1.003024</td>\n",
       "      <td>1.232342</td>\n",
       "      <td>-1.373506</td>\n",
       "      <td>-1.230577</td>\n",
       "      <td>-0.914942</td>\n",
       "      <td>-1.545860</td>\n",
       "      <td>-1.016640</td>\n",
       "      <td>-0.626048</td>\n",
       "      <td>0</td>\n",
       "      <td>0</td>\n",
       "      <td>1</td>\n",
       "    </tr>\n",
       "    <tr>\n",
       "      <th>357</th>\n",
       "      <td>-0.941546</td>\n",
       "      <td>-0.575198</td>\n",
       "      <td>-0.683177</td>\n",
       "      <td>-0.354876</td>\n",
       "      <td>-0.914942</td>\n",
       "      <td>0.646889</td>\n",
       "      <td>0.983632</td>\n",
       "      <td>-1.722595</td>\n",
       "      <td>0</td>\n",
       "      <td>0</td>\n",
       "      <td>1</td>\n",
       "    </tr>\n",
       "  </tbody>\n",
       "</table>\n",
       "</div>"
      ],
      "text/plain": [
       "      credit_score       age    tenure   balance  num_of_products  \\\n",
       "4350     -1.003024  1.232342 -1.373506 -1.230577        -0.914942   \n",
       "357      -0.941546 -0.575198 -0.683177 -0.354876        -0.914942   \n",
       "\n",
       "      has_cr_card  is_active_member  estimated_salary  geography_Germany  \\\n",
       "4350    -1.545860         -1.016640         -0.626048                  0   \n",
       "357      0.646889          0.983632         -1.722595                  0   \n",
       "\n",
       "      geography_Spain  gender_Male  \n",
       "4350                0            1  \n",
       "357                 0            1  "
      ]
     },
     "execution_count": 21,
     "metadata": {},
     "output_type": "execute_result"
    }
   ],
   "source": [
    "features_valid.head(2)"
   ]
  },
  {
   "cell_type": "code",
   "execution_count": 22,
   "metadata": {},
   "outputs": [
    {
     "data": {
      "text/html": [
       "<div>\n",
       "<style scoped>\n",
       "    .dataframe tbody tr th:only-of-type {\n",
       "        vertical-align: middle;\n",
       "    }\n",
       "\n",
       "    .dataframe tbody tr th {\n",
       "        vertical-align: top;\n",
       "    }\n",
       "\n",
       "    .dataframe thead th {\n",
       "        text-align: right;\n",
       "    }\n",
       "</style>\n",
       "<table border=\"1\" class=\"dataframe\">\n",
       "  <thead>\n",
       "    <tr style=\"text-align: right;\">\n",
       "      <th></th>\n",
       "      <th>credit_score</th>\n",
       "      <th>age</th>\n",
       "      <th>tenure</th>\n",
       "      <th>balance</th>\n",
       "      <th>num_of_products</th>\n",
       "      <th>has_cr_card</th>\n",
       "      <th>is_active_member</th>\n",
       "      <th>estimated_salary</th>\n",
       "      <th>geography_Germany</th>\n",
       "      <th>geography_Spain</th>\n",
       "      <th>gender_Male</th>\n",
       "    </tr>\n",
       "  </thead>\n",
       "  <tbody>\n",
       "    <tr>\n",
       "      <th>3353</th>\n",
       "      <td>-0.203819</td>\n",
       "      <td>0.471273</td>\n",
       "      <td>0.352316</td>\n",
       "      <td>0.786022</td>\n",
       "      <td>0.782369</td>\n",
       "      <td>-1.545860</td>\n",
       "      <td>-1.016640</td>\n",
       "      <td>-0.357205</td>\n",
       "      <td>0</td>\n",
       "      <td>1</td>\n",
       "      <td>0</td>\n",
       "    </tr>\n",
       "    <tr>\n",
       "      <th>6176</th>\n",
       "      <td>-0.357513</td>\n",
       "      <td>-0.384930</td>\n",
       "      <td>-1.373506</td>\n",
       "      <td>-1.230577</td>\n",
       "      <td>0.782369</td>\n",
       "      <td>0.646889</td>\n",
       "      <td>0.983632</td>\n",
       "      <td>-1.671048</td>\n",
       "      <td>0</td>\n",
       "      <td>0</td>\n",
       "      <td>0</td>\n",
       "    </tr>\n",
       "  </tbody>\n",
       "</table>\n",
       "</div>"
      ],
      "text/plain": [
       "      credit_score       age    tenure   balance  num_of_products  \\\n",
       "3353     -0.203819  0.471273  0.352316  0.786022         0.782369   \n",
       "6176     -0.357513 -0.384930 -1.373506 -1.230577         0.782369   \n",
       "\n",
       "      has_cr_card  is_active_member  estimated_salary  geography_Germany  \\\n",
       "3353    -1.545860         -1.016640         -0.357205                  0   \n",
       "6176     0.646889          0.983632         -1.671048                  0   \n",
       "\n",
       "      geography_Spain  gender_Male  \n",
       "3353                1            0  \n",
       "6176                0            0  "
      ]
     },
     "execution_count": 22,
     "metadata": {},
     "output_type": "execute_result"
    }
   ],
   "source": [
    "features_train.head(2)"
   ]
  },
  {
   "cell_type": "markdown",
   "metadata": {},
   "source": [
    "# построим модели без учета баланса"
   ]
  },
  {
   "cell_type": "markdown",
   "metadata": {},
   "source": [
    "__Модель - СЛУЧАЙНЫЙ ЛЕС__"
   ]
  },
  {
   "cell_type": "code",
   "execution_count": 23,
   "metadata": {},
   "outputs": [
    {
     "name": "stdout",
     "output_type": "stream",
     "text": [
      "F1 Score лучшей модели равна: 0.5681\n",
      "Roc_auc лучшей модели равна: 0.821\n",
      "Количество деревьев: 13\n",
      "Глубина дерева: 17\n",
      "RandomForestClassifier(max_depth=17, n_estimators=13, random_state=12345)\n"
     ]
    }
   ],
   "source": [
    "# Напишем цикл для модели Случайный лес, выведем лучший результат.\n",
    "\n",
    "best_depth_rfc = 0\n",
    "best_f1_score_rfc = 0\n",
    "best_est_rfc = 0\n",
    "best_model_rfc = None\n",
    "best_auc_roc_rfc = 0\n",
    "\n",
    "for est in range(1, 40):\n",
    "    for depth in range(1, 20):\n",
    "        model_rfc = RandomForestClassifier(random_state = my_random_state, max_depth = depth, n_estimators = est)\n",
    "        model_rfc.fit(features_train, target_train)        \n",
    "        prediction_rfc = model_rfc.predict(features_valid)\n",
    "        \n",
    "        probabilities_valid_rfc = model_rfc.predict_proba(features_valid)[:, 1]\n",
    "        auc_roc_rfc = roc_auc_score(target_valid, probabilities_valid_rfc) \n",
    "        \n",
    "        f1_score_rfc = f1_score(target_valid, prediction_rfc)\n",
    "        \n",
    "        if f1_score_rfc > best_f1_score_rfc:\n",
    "            best_f1_score_rfc = f1_score_rfc\n",
    "            best_depth_rfc = depth\n",
    "            best_est_rfc = est\n",
    "            best_model_rfc = model_rfc\n",
    "            best_auc_roc_rfc = auc_roc_rfc\n",
    "\n",
    "print(f'F1 Score лучшей модели равна: {best_f1_score_rfc.round(4)}')\n",
    "print(f'Roc_auc лучшей модели равна: {best_auc_roc_rfc.round(4)}')\n",
    "print(f'Количество деревьев: {best_est_rfc}') \n",
    "print(f'Глубина дерева: {best_depth_rfc}')\n",
    "print(best_model_rfc)"
   ]
  },
  {
   "cell_type": "markdown",
   "metadata": {},
   "source": [
    "__Модель - ДЕРЕВО РЕШЕНИЙ__"
   ]
  },
  {
   "cell_type": "code",
   "execution_count": 24,
   "metadata": {},
   "outputs": [
    {
     "name": "stdout",
     "output_type": "stream",
     "text": [
      "F1 Score лучшей модели равна: 0.5574\n",
      "Roc_auc лучшей модели равна: 0.8063\n",
      "Глубина дерева: 9\n",
      "DecisionTreeClassifier(max_depth=9, random_state=12345)\n"
     ]
    }
   ],
   "source": [
    "# Напишем цикл для модели Дерево решений, выведем лучший результат.\n",
    "\n",
    "best_depth_dtc = 0\n",
    "best_f1_score_dtc = 0\n",
    "best_model_dtc = None\n",
    "best_auc_roc_dtc = 0\n",
    "\n",
    "for depth in range(1, 15):\n",
    "    model_dtc = DecisionTreeClassifier(random_state = my_random_state, max_depth = depth)\n",
    "    model_dtc.fit(features_train,target_train)\n",
    "    predictions_dtc = model_dtc.predict(features_valid)\n",
    "    \n",
    "    probabilities_valid_dtc = model_dtc.predict_proba(features_valid)[:, 1]\n",
    "    auc_roc_dtc = roc_auc_score(target_valid, probabilities_valid_dtc)\n",
    "    \n",
    "    f1_score_dtc = f1_score(target_valid, predictions_dtc)\n",
    "    if f1_score_dtc > best_f1_score_dtc:\n",
    "        best_f1_score_dtc = f1_score_dtc\n",
    "        best_depth_dtc = depth\n",
    "        best_model_dtc = model_dtc\n",
    "        best_auc_roc_dtc = auc_roc_dtc\n",
    "        \n",
    "print(f'F1 Score лучшей модели равна: {best_f1_score_dtc.round(4)}')\n",
    "print(f'Roc_auc лучшей модели равна: {best_auc_roc_dtc.round(4)}')\n",
    "print(f'Глубина дерева: {best_depth_dtc}')\n",
    "print(best_model_dtc)"
   ]
  },
  {
   "cell_type": "markdown",
   "metadata": {},
   "source": [
    "__Модель - ЛОГИСТИЧЕСКАЯ РЕГРЕССИЯ__"
   ]
  },
  {
   "cell_type": "code",
   "execution_count": 25,
   "metadata": {},
   "outputs": [
    {
     "name": "stdout",
     "output_type": "stream",
     "text": [
      "F1 Score равна: 0.3004\n",
      "Roc_auc равна: 0.7726\n"
     ]
    }
   ],
   "source": [
    "model_lr = LogisticRegression(random_state = my_random_state, solver='liblinear')\n",
    "model_lr.fit(features_train, target_train)\n",
    "prediction_lr = model_lr.predict(features_valid)\n",
    "\n",
    "probabilities_valid_lr = model_lr.predict_proba(features_valid)[:, 1]\n",
    "auc_roc_lr = roc_auc_score(target_valid, probabilities_valid_lr)\n",
    "\n",
    "f1_score_lr = f1_score(target_valid,prediction_lr)\n",
    "\n",
    "print(f'F1 Score равна: {f1_score_lr.round(4)}')\n",
    "print(f'Roc_auc равна: {auc_roc_lr.round(4)}')"
   ]
  },
  {
   "cell_type": "markdown",
   "metadata": {},
   "source": [
    "__Промежуточнй вывод.__"
   ]
  },
  {
   "cell_type": "markdown",
   "metadata": {},
   "source": [
    "Обучив 3 модели, мы видим следующую картину - самые высокие метрики F1 Score и показатель площади Roc_auc - получилась у модели __Случайный лес__, при кол-ве деревьев равное 13 и глубине 17 - составляет 0.568 и 0.821 соответсвенно. Самый низкий показатель - у __Логистической регрессии__ - составляет f1 - 0.3, Roc_auc - 0.77"
   ]
  },
  {
   "cell_type": "code",
   "execution_count": null,
   "metadata": {},
   "outputs": [],
   "source": []
  },
  {
   "cell_type": "markdown",
   "metadata": {},
   "source": [
    "## Борьба с дисбалансом"
   ]
  },
  {
   "cell_type": "markdown",
   "metadata": {},
   "source": [
    "На данном этапе воспользуемся \"функциями\" - __upsampling__'а и __downsampling__'а , обучим модели и глянем на результаты. Далее - будем менять гиперпараметр __\"class_weight\"__ и сравним результаты."
   ]
  },
  {
   "cell_type": "markdown",
   "metadata": {},
   "source": [
    "__Upsampling__"
   ]
  },
  {
   "cell_type": "code",
   "execution_count": 26,
   "metadata": {},
   "outputs": [],
   "source": [
    "# функция получает на вход признаки, таргет и кол-во повторений\n",
    "\n",
    "def upsample(features, target, repeat):\n",
    "    # Разделяем выборку по значениям целевой функции\n",
    "    features_zeros = features[target == 0]\n",
    "    features_ones = features[target == 1]\n",
    "    target_zeros = target[target == 0]\n",
    "    target_ones = target[target == 1]\n",
    "    \n",
    "    # Увеличиваем и соединяем обратно\n",
    "    features_upsampled = pd.concat([features_zeros] + [features_ones] * repeat)\n",
    "    target_upsampled = pd.concat([target_zeros] + [target_ones] * repeat)\n",
    "    \n",
    "    # Перемешиваем\n",
    "    features_upsampled, target_upsampled = shuffle(\n",
    "        features_upsampled, target_upsampled, random_state = my_random_state)\n",
    "    \n",
    "    return features_upsampled, target_upsampled\n",
    "\n",
    "\n",
    "features_upsampled, target_upsampled = upsample(features_train, target_train, 4)\n"
   ]
  },
  {
   "cell_type": "code",
   "execution_count": 27,
   "metadata": {},
   "outputs": [
    {
     "name": "stdout",
     "output_type": "stream",
     "text": [
      "(8811, 11)\n",
      "(8811,)\n"
     ]
    }
   ],
   "source": [
    "print(features_upsampled.shape)\n",
    "print(target_upsampled.shape)"
   ]
  },
  {
   "cell_type": "code",
   "execution_count": 28,
   "metadata": {},
   "outputs": [
    {
     "data": {
      "text/plain": [
       "1    4476\n",
       "0    4335\n",
       "Name: exited, dtype: int64"
      ]
     },
     "execution_count": 28,
     "metadata": {},
     "output_type": "execute_result"
    }
   ],
   "source": [
    "# соотношение классов после Upsampling\n",
    "\n",
    "target_upsampled.value_counts()"
   ]
  },
  {
   "cell_type": "code",
   "execution_count": null,
   "metadata": {},
   "outputs": [],
   "source": []
  },
  {
   "cell_type": "markdown",
   "metadata": {},
   "source": [
    "Обучим наши модели"
   ]
  },
  {
   "cell_type": "markdown",
   "metadata": {},
   "source": [
    "__Модель - СЛУЧАЙНЫЙ ЛЕС__"
   ]
  },
  {
   "cell_type": "code",
   "execution_count": 29,
   "metadata": {},
   "outputs": [
    {
     "name": "stdout",
     "output_type": "stream",
     "text": [
      "F1 до Upsampling лучшей модели равна: 0.5681, после: 0.6112\n",
      "Roc_auc лучшей модели равна: 0.8396\n",
      "Количество деревьев: 22\n",
      "Глубина дерева: 12\n",
      "RandomForestClassifier(max_depth=12, n_estimators=22, random_state=12345)\n"
     ]
    }
   ],
   "source": [
    "best_depth_rfc_up = 0\n",
    "best_f1_score_rfc_up = 0\n",
    "best_est_rfc_up = 0\n",
    "best_model_rfc_up = None\n",
    "best_auc_roc_rfc_up = 0\n",
    "\n",
    "for est in range(1, 40):\n",
    "    for depth in range(1, 20):\n",
    "        model_rfc_up = RandomForestClassifier(random_state = my_random_state, max_depth = depth, n_estimators = est)\n",
    "        model_rfc_up.fit(features_upsampled, target_upsampled)\n",
    "        prediction_rfc_up = model_rfc_up.predict(features_valid)\n",
    "        \n",
    "        probabilities_valid_rfc_up = model_rfc_up.predict_proba(features_valid)[:, 1]\n",
    "        auc_roc_rfc_up = roc_auc_score(target_valid, probabilities_valid_rfc_up)\n",
    "        \n",
    "        f1_score_rfc_up = f1_score(target_valid, prediction_rfc_up)\n",
    "        if f1_score_rfc_up > best_f1_score_rfc_up:\n",
    "            best_f1_score_rfc_up = f1_score_rfc_up\n",
    "            best_depth_rfc_up = depth\n",
    "            best_est_rfc_up = est\n",
    "            best_model_rfc_up = model_rfc_up\n",
    "            best_auc_roc_rfc_up = auc_roc_rfc_up\n",
    "\n",
    "print(f'F1 до Upsampling лучшей модели равна: {best_f1_score_rfc.round(4)}, после: {best_f1_score_rfc_up.round(4)}')\n",
    "print(f'Roc_auc лучшей модели равна: {best_auc_roc_rfc_up.round(4)}')\n",
    "print(f'Количество деревьев: {best_est_rfc_up}') \n",
    "print(f'Глубина дерева: {best_depth_rfc_up}')\n",
    "print(best_model_rfc_up)"
   ]
  },
  {
   "cell_type": "markdown",
   "metadata": {},
   "source": [
    "__Модель - ДЕРЕВО РЕШЕНИЙ__"
   ]
  },
  {
   "cell_type": "code",
   "execution_count": 30,
   "metadata": {},
   "outputs": [
    {
     "name": "stdout",
     "output_type": "stream",
     "text": [
      "F1 до Upsampling лучшей модели равна: 0.5574, после: 0.5556\n",
      "Roc_auc лучшей модели равна: 0.815\n",
      "Глубина дерева: 7\n",
      "DecisionTreeClassifier(max_depth=7, random_state=12345)\n"
     ]
    }
   ],
   "source": [
    "best_depth_dtc_up = 0\n",
    "best_f1_score_dtc_up = 0\n",
    "best_model_dtc_up = None\n",
    "best_auc_roc_dtc_up = 0\n",
    "\n",
    "for depth in range(1, 15):\n",
    "    model_dtc_up = DecisionTreeClassifier(random_state = my_random_state, max_depth = depth)\n",
    "    model_dtc_up.fit(features_upsampled, target_upsampled)\n",
    "    predictions_dtc_up = model_dtc_up.predict(features_valid)\n",
    "    \n",
    "    probabilities_valid_dtc_up = model_dtc_up.predict_proba(features_valid)[:, 1]\n",
    "    auc_roc_dtc_up = roc_auc_score(target_valid, probabilities_valid_dtc_up)    \n",
    "    \n",
    "    f1_score_dtc_up = f1_score(target_valid, predictions_dtc_up)\n",
    "    if f1_score_dtc_up > best_f1_score_dtc_up:\n",
    "        best_f1_score_dtc_up = f1_score_dtc_up\n",
    "        best_depth_dtc_up = depth\n",
    "        best_model_dtc_up = model_dtc_up\n",
    "        best_auc_roc_dtc_up = auc_roc_dtc_up\n",
    "        \n",
    "print(f'F1 до Upsampling лучшей модели равна: {best_f1_score_dtc.round(4)}, после: {best_f1_score_dtc_up.round(4)}')\n",
    "print(f'Roc_auc лучшей модели равна: {best_auc_roc_dtc_up.round(4)}')\n",
    "print(f'Глубина дерева: {best_depth_dtc_up}')\n",
    "print(best_model_dtc_up)"
   ]
  },
  {
   "cell_type": "markdown",
   "metadata": {},
   "source": [
    "__Модель - ЛОГИСТИЧЕСКАЯ РЕГРЕССИЯ__"
   ]
  },
  {
   "cell_type": "code",
   "execution_count": 31,
   "metadata": {},
   "outputs": [
    {
     "name": "stdout",
     "output_type": "stream",
     "text": [
      "F1 Score до - равна: 0.3004, после: 0.4957\n",
      "Roc_auc до - равна: 0.7748\n"
     ]
    }
   ],
   "source": [
    "model_lr_up = LogisticRegression(random_state = my_random_state, solver='liblinear')\n",
    "model_lr_up.fit(features_upsampled, target_upsampled)\n",
    "prediction_up = model_lr_up.predict(features_valid)\n",
    "\n",
    "probabilities_valid_lr_up = model_lr_up.predict_proba(features_valid)[:, 1]\n",
    "auc_roc_lr_up = roc_auc_score(target_valid, probabilities_valid_lr_up)\n",
    "\n",
    "f1_score_lr_up = f1_score(target_valid, prediction_up)\n",
    "\n",
    "print(f'F1 Score до - равна: {f1_score_lr.round(4)}, после: {f1_score_lr_up.round(4)}')\n",
    "print(f'Roc_auc до - равна: {auc_roc_lr_up.round(4)}')"
   ]
  },
  {
   "cell_type": "markdown",
   "metadata": {},
   "source": [
    "__Промежуточный вывод__\n",
    "\n",
    "Применив технику Upsampling, мы наблюдаем слудующее, метрика F1 score - увеличилась почти на 0.2 - 0.495, Roc_auc так же увеличилась до 0.77 у __логистической регрессии__, у модели __случайный лес__ F1 score - почти не изменилась - 0.5556 Roc_auc - немного увеличилась, что касается __дерева решения__  оно показало себя лучше остальных, метрика F1 увеличилась с 0.5681 до 0.611, Roc_auc тоже немного увеличилась."
   ]
  },
  {
   "cell_type": "code",
   "execution_count": null,
   "metadata": {},
   "outputs": [],
   "source": []
  },
  {
   "cell_type": "markdown",
   "metadata": {},
   "source": [
    "__Downsampling__"
   ]
  },
  {
   "cell_type": "code",
   "execution_count": 32,
   "metadata": {},
   "outputs": [],
   "source": [
    "def downsample(features, target, fraction):\n",
    "    # Разделяем выборку по значениям целевой функции\n",
    "    features_zeros = features[target == 0]\n",
    "    features_ones = features[target == 1]\n",
    "    target_zeros = target[target == 0]\n",
    "    target_ones = target[target == 1]\n",
    "    \n",
    "    # Уменьшаем и соединяем обратно\n",
    "    features_downsampled = pd.concat(\n",
    "        [features_zeros.sample(frac = fraction, random_state = my_random_state)] + [features_ones])\n",
    "    target_downsampled = pd.concat(\n",
    "        [target_zeros.sample(frac = fraction, random_state = my_random_state)] + [target_ones])\n",
    "    \n",
    "    # Перемешиваем\n",
    "    features_downsampled, target_downsampled = shuffle(\n",
    "        features_downsampled, target_downsampled, random_state = my_random_state)\n",
    "    \n",
    "    return features_downsampled, target_downsampled\n",
    "\n",
    "features_downsampled, target_downsampled = downsample(features_train, target_train, 0.27)"
   ]
  },
  {
   "cell_type": "code",
   "execution_count": 33,
   "metadata": {},
   "outputs": [
    {
     "name": "stdout",
     "output_type": "stream",
     "text": [
      "(2289, 11)\n",
      "(2289,)\n"
     ]
    }
   ],
   "source": [
    "print(features_downsampled.shape)\n",
    "print(target_downsampled.shape)"
   ]
  },
  {
   "cell_type": "code",
   "execution_count": 34,
   "metadata": {},
   "outputs": [
    {
     "data": {
      "text/plain": [
       "0    1170\n",
       "1    1119\n",
       "Name: exited, dtype: int64"
      ]
     },
     "execution_count": 34,
     "metadata": {},
     "output_type": "execute_result"
    }
   ],
   "source": [
    "# соотношение классов после Downsampling\n",
    "\n",
    "target_downsampled.value_counts()"
   ]
  },
  {
   "cell_type": "code",
   "execution_count": null,
   "metadata": {},
   "outputs": [],
   "source": []
  },
  {
   "cell_type": "markdown",
   "metadata": {},
   "source": [
    "Обучим наши модели"
   ]
  },
  {
   "cell_type": "markdown",
   "metadata": {},
   "source": [
    "__Модель - СЛУЧАЙНЫЙ ЛЕС__"
   ]
  },
  {
   "cell_type": "code",
   "execution_count": 35,
   "metadata": {},
   "outputs": [
    {
     "name": "stdout",
     "output_type": "stream",
     "text": [
      "F1 до Downsampling лучшей модели равна: 0.5681, после: 0.597\n",
      "Roc_auc лучшей модели равна: 0.8502\n",
      "Количество деревьев: 31\n",
      "Глубина дерева: 8\n",
      "RandomForestClassifier(max_depth=8, n_estimators=31, random_state=12345)\n"
     ]
    }
   ],
   "source": [
    "best_depth_rfc_down = 0\n",
    "best_f1_score_rfc_down = 0\n",
    "best_est_rfc_down = 0\n",
    "best_model_rfc_down = None\n",
    "best_auc_roc_rfc_down = 0\n",
    "\n",
    "for est in range(1, 40):\n",
    "    for depth in range(1, 20):\n",
    "        model_rfc_down = RandomForestClassifier(random_state = my_random_state, max_depth = depth, n_estimators = est)\n",
    "        model_rfc_down.fit(features_downsampled, target_downsampled)\n",
    "        prediction_rfc_down = model_rfc_down.predict(features_valid)\n",
    "        \n",
    "        probabilities_valid_rfc_down = model_rfc_down.predict_proba(features_valid)[:, 1]\n",
    "        auc_roc_rfc_down = roc_auc_score(target_valid, probabilities_valid_rfc_down)\n",
    "        \n",
    "        f1_score_rfc_down = f1_score(target_valid, prediction_rfc_down)\n",
    "        if f1_score_rfc_down > best_f1_score_rfc_down:\n",
    "            best_f1_score_rfc_down = f1_score_rfc_down\n",
    "            best_depth_rfc_down = depth\n",
    "            best_est_rfc_down = est\n",
    "            best_model_rfc_down = model_rfc_down\n",
    "            best_auc_roc_rfc_down = auc_roc_rfc_down\n",
    "\n",
    "print(f'F1 до Downsampling лучшей модели равна: {best_f1_score_rfc.round(4)}, после: {best_f1_score_rfc_down.round(4)}')\n",
    "print(f'Roc_auc лучшей модели равна: {best_auc_roc_rfc_down.round(4)}')\n",
    "print(f'Количество деревьев: {best_est_rfc_down}') \n",
    "print(f'Глубина дерева: {best_depth_rfc_down}')\n",
    "print(best_model_rfc_down)"
   ]
  },
  {
   "cell_type": "markdown",
   "metadata": {},
   "source": [
    "__Модель - ДЕРЕВО РЕШЕНИЙ__"
   ]
  },
  {
   "cell_type": "code",
   "execution_count": 36,
   "metadata": {},
   "outputs": [
    {
     "name": "stdout",
     "output_type": "stream",
     "text": [
      "F1 до Downsampling лучшей модели равна: 0.5574, после: 0.5736\n",
      "Roc_auc лучшей модели равна: 0.8111\n",
      "Глубина дерева: 5\n",
      "DecisionTreeClassifier(max_depth=5, random_state=12345)\n"
     ]
    }
   ],
   "source": [
    "best_depth_dtc_down = 0\n",
    "best_f1_score_dtc_down = 0\n",
    "best_model_dtc_down = None\n",
    "best_auc_roc_dtc_down = 0\n",
    "\n",
    "for depth in range(1, 15):\n",
    "    model_dtc_down = DecisionTreeClassifier(random_state = my_random_state, max_depth = depth)\n",
    "    model_dtc_down.fit(features_downsampled, target_downsampled)\n",
    "    predictions_dtc_down = model_dtc_down.predict(features_valid)\n",
    "    \n",
    "    probabilities_valid_dtc_down = model_dtc_down.predict_proba(features_valid)[:, 1]\n",
    "    auc_roc_dtc_down = roc_auc_score(target_valid, probabilities_valid_dtc_down)    \n",
    "    \n",
    "    f1_score_dtc_down = f1_score(target_valid, predictions_dtc_down)\n",
    "    if f1_score_dtc_down > best_f1_score_dtc_down:\n",
    "        best_f1_score_dtc_down = f1_score_dtc_down\n",
    "        best_depth_dtc_down = depth\n",
    "        best_model_dtc_down = model_dtc_down\n",
    "        best_auc_roc_dtc_down = auc_roc_dtc_down\n",
    "        \n",
    "print(f'F1 до Downsampling лучшей модели равна: {best_f1_score_dtc.round(4)}, после: {best_f1_score_dtc_down.round(4)}')\n",
    "print(f'Roc_auc лучшей модели равна: {best_auc_roc_dtc_down.round(4)}')\n",
    "print(f'Глубина дерева: {best_depth_dtc_down}')\n",
    "print(best_model_dtc_down)"
   ]
  },
  {
   "cell_type": "markdown",
   "metadata": {},
   "source": [
    "__Модель - ЛОГИСТИЧЕСКАЯ РЕГРЕССИЯ__"
   ]
  },
  {
   "cell_type": "code",
   "execution_count": 37,
   "metadata": {},
   "outputs": [
    {
     "name": "stdout",
     "output_type": "stream",
     "text": [
      "F1 Score до - равна: 0.3004, после: 0.4995\n",
      "Roc_auc - равна: 0.7755\n"
     ]
    }
   ],
   "source": [
    "model_lr_down = LogisticRegression(random_state = my_random_state, solver='liblinear')\n",
    "model_lr_down.fit(features_downsampled, target_downsampled)\n",
    "prediction_down = model_lr_down.predict(features_valid)\n",
    "\n",
    "probabilities_valid_lr_down = model_lr_down.predict_proba(features_valid)[:, 1]\n",
    "auc_roc_lr_down = roc_auc_score(target_valid, probabilities_valid_lr_down) \n",
    "\n",
    "f1_score_lr_down = f1_score(target_valid, prediction_down)\n",
    "\n",
    "print(f'F1 Score до - равна: {f1_score_lr.round(4)}, после: {f1_score_lr_down.round(4)}')\n",
    "print(f'Roc_auc - равна: {auc_roc_lr_down.round(4)}')"
   ]
  },
  {
   "cell_type": "markdown",
   "metadata": {},
   "source": [
    "__Промежуточный вывод__\n",
    "\n",
    "Как мы можем заметить при уменьшении выборки, метрика F1 и Roc_auc практически не изменили, даже немного уменьшились"
   ]
  },
  {
   "cell_type": "code",
   "execution_count": null,
   "metadata": {},
   "outputs": [],
   "source": []
  },
  {
   "cell_type": "markdown",
   "metadata": {},
   "source": [
    "# __Укажем гиперпараметр class_weight = 'balanced'__"
   ]
  },
  {
   "cell_type": "markdown",
   "metadata": {},
   "source": [
    "__Модель - СЛУЧАЙНЫЙ ЛЕС__"
   ]
  },
  {
   "cell_type": "code",
   "execution_count": 38,
   "metadata": {},
   "outputs": [
    {
     "name": "stdout",
     "output_type": "stream",
     "text": [
      "F1 Score до Balanced, лучшей модели равна: 0.5681, после: 0.6058\n",
      "Roc_auc, лучшей модели равна: 0.8486\n",
      "Количество деревьев: 33\n",
      "Глубина дерева: 9\n",
      "RandomForestClassifier(class_weight='balanced', max_depth=9, n_estimators=33,\n",
      "                       random_state=12345)\n"
     ]
    }
   ],
   "source": [
    "best_depth_rfc_blnc = 0\n",
    "best_f1_score_rfc_blnc = 0\n",
    "best_est_rfc_blnc = 0\n",
    "best_model_rfc_blnc = None\n",
    "best_auc_roc_rfc_blnc = 0\n",
    "\n",
    "for est in range(1, 40):\n",
    "    for depth in range(1, 20):\n",
    "        model_rfc_blnc=RandomForestClassifier(random_state=my_random_state, max_depth=depth, n_estimators=est,class_weight='balanced')\n",
    "        model_rfc_blnc.fit(features_train, target_train)\n",
    "        prediction_rfc_blnc = model_rfc_blnc.predict(features_valid)\n",
    "        \n",
    "        probabilities_valid_rfc_blnc = model_rfc_blnc.predict_proba(features_valid)[:, 1]\n",
    "        auc_roc_rfc_blnc = roc_auc_score(target_valid, probabilities_valid_rfc_blnc) \n",
    "        \n",
    "        f1_score_rfc_blnc = f1_score(target_valid, prediction_rfc_blnc)\n",
    "        \n",
    "        if f1_score_rfc_blnc > best_f1_score_rfc_blnc:\n",
    "            best_f1_score_rfc_blnc = f1_score_rfc_blnc\n",
    "            best_depth_rfc_blnc = depth\n",
    "            best_est_rfc_blnc = est\n",
    "            best_model_rfc_blnc = model_rfc_blnc\n",
    "            best_auc_roc_rfc_blnc = auc_roc_rfc_blnc\n",
    "\n",
    "print(f'F1 Score до Balanced, лучшей модели равна: {best_f1_score_rfc.round(4)}, после: {best_f1_score_rfc_blnc.round(4)}')\n",
    "print(f'Roc_auc, лучшей модели равна: {best_auc_roc_rfc_blnc.round(4)}')\n",
    "print(f'Количество деревьев: {best_est_rfc_blnc}') \n",
    "print(f'Глубина дерева: {best_depth_rfc_blnc}')\n",
    "print(best_model_rfc_blnc)"
   ]
  },
  {
   "cell_type": "code",
   "execution_count": null,
   "metadata": {},
   "outputs": [],
   "source": []
  },
  {
   "cell_type": "markdown",
   "metadata": {},
   "source": [
    "__Модель - ДЕРЕВО РЕШЕНИЙ__"
   ]
  },
  {
   "cell_type": "code",
   "execution_count": 39,
   "metadata": {},
   "outputs": [
    {
     "name": "stdout",
     "output_type": "stream",
     "text": [
      "F1 Score до Balanced лучшей модели равна: 0.5574, после: 0.5556\n",
      "Roc_auc лучшей модели равна: 0.815\n",
      "Глубина дерева: 7\n",
      "DecisionTreeClassifier(class_weight='balanced', max_depth=7, random_state=12345)\n"
     ]
    }
   ],
   "source": [
    "best_depth_dtc_blnc = 0\n",
    "best_f1_score_dtc_blnc = 0\n",
    "best_model_dtc_blnc = None\n",
    "best_auc_roc_dtc_blnc = 0\n",
    "\n",
    "for depth in range(1, 15):\n",
    "    model_dtc_blnc = DecisionTreeClassifier(random_state = my_random_state, max_depth = depth, class_weight='balanced')\n",
    "    model_dtc_blnc.fit(features_train,target_train)\n",
    "    predictions_dtc_blnc = model_dtc_blnc.predict(features_valid)\n",
    "    \n",
    "    probabilities_valid_dtc_blnc = model_dtc_blnc.predict_proba(features_valid)[:, 1]\n",
    "    auc_roc_dtc_blnc = roc_auc_score(target_valid, probabilities_valid_dtc_blnc)\n",
    "    \n",
    "    f1_score_dtc_blnc = f1_score(target_valid, predictions_dtc_blnc)\n",
    "    if f1_score_dtc_blnc > best_f1_score_dtc_blnc:\n",
    "        best_f1_score_dtc_blnc = f1_score_dtc_blnc\n",
    "        best_depth_dtc_blnc = depth\n",
    "        best_model_dtc_blnc = model_dtc_blnc\n",
    "        best_auc_roc_dtc_blnc = auc_roc_dtc_blnc\n",
    "        \n",
    "print(f'F1 Score до Balanced лучшей модели равна: {best_f1_score_dtc.round(4)}, после: {best_f1_score_dtc_blnc.round(4)}')\n",
    "print(f'Roc_auc лучшей модели равна: {best_auc_roc_dtc_blnc.round(4)}')\n",
    "print(f'Глубина дерева: {best_depth_dtc_blnc}')\n",
    "print(best_model_dtc_blnc)"
   ]
  },
  {
   "cell_type": "code",
   "execution_count": null,
   "metadata": {},
   "outputs": [],
   "source": []
  },
  {
   "cell_type": "markdown",
   "metadata": {},
   "source": [
    "__Модель - ЛОГИСТИЧЕСКАЯ РЕГРЕССИЯ__"
   ]
  },
  {
   "cell_type": "code",
   "execution_count": 40,
   "metadata": {},
   "outputs": [
    {
     "name": "stdout",
     "output_type": "stream",
     "text": [
      "F1 Score до Balanced равна: 0.3004, после: 0.4946\n",
      "Roc_auc равна: 0.7748\n"
     ]
    }
   ],
   "source": [
    "model_lr_blnc = LogisticRegression(random_state = my_random_state, solver='liblinear',class_weight = 'balanced')\n",
    "model_lr_blnc.fit(features_train, target_train)\n",
    "prediction_blnc = model_lr_blnc.predict(features_valid)\n",
    "\n",
    "probabilities_valid_lr_blnc = model_lr_blnc.predict_proba(features_valid)[:, 1]\n",
    "auc_roc_lr_blnc = roc_auc_score(target_valid, probabilities_valid_lr_blnc)\n",
    "\n",
    "f1_score_lr_blnc = f1_score(target_valid,prediction_blnc)\n",
    "\n",
    "print(f'F1 Score до Balanced равна: {f1_score_lr.round(4)}, после: {f1_score_lr_blnc.round(4)}')\n",
    "print(f'Roc_auc равна: {auc_roc_lr_blnc.round(4)}')"
   ]
  },
  {
   "cell_type": "code",
   "execution_count": null,
   "metadata": {},
   "outputs": [],
   "source": []
  },
  {
   "cell_type": "markdown",
   "metadata": {},
   "source": [
    "Cоздадим цикл и переберем все модельки и посчитаем метрики для каждой, на основаниии этих данных создадим табличку) "
   ]
  },
  {
   "cell_type": "code",
   "execution_count": 41,
   "metadata": {},
   "outputs": [
    {
     "data": {
      "text/html": [
       "<div>\n",
       "<style scoped>\n",
       "    .dataframe tbody tr th:only-of-type {\n",
       "        vertical-align: middle;\n",
       "    }\n",
       "\n",
       "    .dataframe tbody tr th {\n",
       "        vertical-align: top;\n",
       "    }\n",
       "\n",
       "    .dataframe thead th {\n",
       "        text-align: right;\n",
       "    }\n",
       "</style>\n",
       "<table border=\"1\" class=\"dataframe\">\n",
       "  <thead>\n",
       "    <tr style=\"text-align: right;\">\n",
       "      <th></th>\n",
       "      <th>f1_score</th>\n",
       "      <th>roc_auc_score</th>\n",
       "    </tr>\n",
       "  </thead>\n",
       "  <tbody>\n",
       "    <tr>\n",
       "      <th>RFC_up</th>\n",
       "      <td>0.611187</td>\n",
       "      <td>0.839608</td>\n",
       "    </tr>\n",
       "    <tr>\n",
       "      <th>RFC_down</th>\n",
       "      <td>0.597049</td>\n",
       "      <td>0.850173</td>\n",
       "    </tr>\n",
       "    <tr>\n",
       "      <th>RFC_balance</th>\n",
       "      <td>0.605820</td>\n",
       "      <td>0.848594</td>\n",
       "    </tr>\n",
       "    <tr>\n",
       "      <th>DTC_up</th>\n",
       "      <td>0.555556</td>\n",
       "      <td>0.815042</td>\n",
       "    </tr>\n",
       "    <tr>\n",
       "      <th>DTC_down</th>\n",
       "      <td>0.573585</td>\n",
       "      <td>0.811132</td>\n",
       "    </tr>\n",
       "    <tr>\n",
       "      <th>DTC_balance</th>\n",
       "      <td>0.555556</td>\n",
       "      <td>0.815016</td>\n",
       "    </tr>\n",
       "    <tr>\n",
       "      <th>LR_up</th>\n",
       "      <td>0.495661</td>\n",
       "      <td>0.774831</td>\n",
       "    </tr>\n",
       "    <tr>\n",
       "      <th>LR_down</th>\n",
       "      <td>0.499486</td>\n",
       "      <td>0.775522</td>\n",
       "    </tr>\n",
       "    <tr>\n",
       "      <th>LR_balance</th>\n",
       "      <td>0.494581</td>\n",
       "      <td>0.774765</td>\n",
       "    </tr>\n",
       "  </tbody>\n",
       "</table>\n",
       "</div>"
      ],
      "text/plain": [
       "             f1_score  roc_auc_score\n",
       "RFC_up       0.611187       0.839608\n",
       "RFC_down     0.597049       0.850173\n",
       "RFC_balance  0.605820       0.848594\n",
       "DTC_up       0.555556       0.815042\n",
       "DTC_down     0.573585       0.811132\n",
       "DTC_balance  0.555556       0.815016\n",
       "LR_up        0.495661       0.774831\n",
       "LR_down      0.499486       0.775522\n",
       "LR_balance   0.494581       0.774765"
      ]
     },
     "execution_count": 41,
     "metadata": {},
     "output_type": "execute_result"
    }
   ],
   "source": [
    "models = [best_model_rfc_up, best_model_rfc_down, best_model_rfc_blnc, \n",
    "          best_model_dtc_up, best_model_dtc_down, best_model_dtc_blnc, \n",
    "          model_lr_up, model_lr_down, model_lr_blnc]\n",
    "\n",
    "\n",
    "models_method = ['RFC_up', 'RFC_down','RFC_balance', 'DTC_up', 'DTC_down', 'DTC_balance', 'LR_up', 'LR_down', 'LR_balance']\n",
    "columns_name = ['f1_score', 'roc_auc_score']\n",
    "metrics_name = [f1_score, roc_auc_score]\n",
    "\n",
    "result=[]\n",
    "\n",
    "res_f1 = []\n",
    "res_auc = []\n",
    "\n",
    "for i in models:    \n",
    "    res_f1.append(metrics_name[0](target_valid, i.predict(features_valid)))\n",
    "    res_auc.append(metrics_name[1](target_valid, i.predict_proba(features_valid)[:,1]))\n",
    "        \n",
    "result.append(res_f1)\n",
    "result.append(res_auc)    \n",
    "    \n",
    "df_result = pd.DataFrame(result,index = columns_name, columns = models_method)\n",
    "df_result = df_result.transpose()\n",
    "df_result"
   ]
  },
  {
   "cell_type": "markdown",
   "metadata": {},
   "source": [
    "__Промежуточный вывод__\n",
    "\n",
    "После выставления гиперпараметра __class_weight = 'balanced'__, мы можем наблюдать изменения в положительную сторону. В модели __случайный лес__ метрика F1 увеличилась и стала равна __0.605__(но при использовании Upsampling мы имели 0.611), что касается __дерева решений и лог.регрессию__ метрики выросли соответсвено до 0.55 и 0.49."
   ]
  },
  {
   "cell_type": "code",
   "execution_count": null,
   "metadata": {},
   "outputs": [],
   "source": []
  },
  {
   "cell_type": "markdown",
   "metadata": {},
   "source": [
    "## Тестирование модели\n",
    "\n",
    "Вернемся к нашей __Тестовой выборке__ трансформируем категориальные фичи и стандартизируем числовые"
   ]
  },
  {
   "cell_type": "code",
   "execution_count": 42,
   "metadata": {},
   "outputs": [],
   "source": [
    "data_ohe_test = pd.get_dummies(data_test, drop_first = True)"
   ]
  },
  {
   "cell_type": "code",
   "execution_count": 43,
   "metadata": {},
   "outputs": [],
   "source": [
    "# выделим features and target в нашей тестовой выборки\n",
    "\n",
    "features_test = data_ohe_test.drop(['exited'], axis = 1)\n",
    "target_test = data_ohe_test['exited']"
   ]
  },
  {
   "cell_type": "code",
   "execution_count": 44,
   "metadata": {},
   "outputs": [],
   "source": [
    "# Стандартизируем нашу тестовую выборку по уже обученному scaler'у\n",
    "\n",
    "features_test[numeric] = scaler.transform(features_test[numeric])"
   ]
  },
  {
   "cell_type": "markdown",
   "metadata": {},
   "source": [
    "__Простестируем на нашей лучшей модели, и взгянем на результат.__\n",
    "\n",
    "\n",
    "У нас имеются две близкие модели __RFC_up__(с F1 - 0.611 и Roc - 0.839) и __RFC_balance__(с F1 - 0.605 и Roc - 0.848), и вот встал вопрос что лучше использовать более высокую ф1 или более высокую рок.\n",
    "\n",
    "Поискав инфу, если я правильно понял то в таких случаях (если есть диспаланс в выборках) , то лучше использовать модель где больше метрика Ф1\n",
    "\n",
    "Будем использовать модель  best_model_rfc_up\n",
    "\n",
    "https://stackoverflow.com/questions/44172162/f1-score-vs-roc-auc"
   ]
  },
  {
   "cell_type": "code",
   "execution_count": 45,
   "metadata": {},
   "outputs": [
    {
     "name": "stdout",
     "output_type": "stream",
     "text": [
      "Лучшая модель Случайного леса: RandomForestClassifier(class_weight='balanced', max_depth=9, n_estimators=33,\n",
      "                       random_state=12345)\n",
      "--------------------------------------\n",
      "F1 score: 0.5984251968503937\n",
      "Roc_auc: 0.7520465377067564\n"
     ]
    }
   ],
   "source": [
    "random_forest_predict = best_model_rfc_up.predict(features_test)\n",
    "\n",
    "f1_random_forest = f1_score(target_test, random_forest_predict)\n",
    "roc_auc_random_forest = roc_auc_score(target_test, random_forest_predict)\n",
    "\n",
    "print(f'Лучшая модель Случайного леса: {best_model_rfc_blnc}')\n",
    "print('--------------------------------------')\n",
    "print(f'F1 score: {f1_random_forest}')\n",
    "print(f'Roc_auc: {roc_auc_random_forest}')"
   ]
  },
  {
   "cell_type": "code",
   "execution_count": null,
   "metadata": {},
   "outputs": [],
   "source": []
  },
  {
   "cell_type": "markdown",
   "metadata": {},
   "source": [
    "# Вывод\n",
    "\n",
    "При проверке нашей модели на финальном этапе -__Тестовой выборке__,  модель __Случайный лес__ - показала слудющие  метрики  - F1 score: 0.5984, Roc_auc: 0.7520. При использовании функций __upsampling'а__ прирост был самый большой, нам удалось достич отметки в 0.59"
   ]
  }
 ],
 "metadata": {
  "ExecuteTimeLog": [
   {
    "duration": 396,
    "start_time": "2023-08-15T13:18:23.261Z"
   },
   {
    "duration": 96,
    "start_time": "2023-08-15T13:18:50.643Z"
   },
   {
    "duration": 64,
    "start_time": "2023-08-15T13:19:21.118Z"
   },
   {
    "duration": 7,
    "start_time": "2023-08-15T13:19:26.189Z"
   },
   {
    "duration": 9,
    "start_time": "2023-08-15T13:19:32.060Z"
   },
   {
    "duration": 41,
    "start_time": "2023-08-15T13:19:34.514Z"
   },
   {
    "duration": 49,
    "start_time": "2023-08-15T13:22:47.851Z"
   },
   {
    "duration": 12,
    "start_time": "2023-08-15T13:23:14.942Z"
   },
   {
    "duration": 5,
    "start_time": "2023-08-15T13:26:18.999Z"
   },
   {
    "duration": 8,
    "start_time": "2023-08-15T13:33:26.793Z"
   },
   {
    "duration": 7,
    "start_time": "2023-08-15T13:33:32.664Z"
   },
   {
    "duration": 6,
    "start_time": "2023-08-15T13:33:36.904Z"
   },
   {
    "duration": 7,
    "start_time": "2023-08-15T13:33:58.675Z"
   },
   {
    "duration": 10,
    "start_time": "2023-08-15T13:34:48.401Z"
   },
   {
    "duration": 3,
    "start_time": "2023-08-15T13:36:04.900Z"
   },
   {
    "duration": 21,
    "start_time": "2023-08-15T13:36:07.524Z"
   },
   {
    "duration": 19,
    "start_time": "2023-08-15T13:37:48.018Z"
   },
   {
    "duration": 375,
    "start_time": "2023-08-15T13:37:54.100Z"
   },
   {
    "duration": 59,
    "start_time": "2023-08-15T13:37:54.477Z"
   },
   {
    "duration": 37,
    "start_time": "2023-08-15T13:37:54.537Z"
   },
   {
    "duration": 12,
    "start_time": "2023-08-15T13:37:54.576Z"
   },
   {
    "duration": 14,
    "start_time": "2023-08-15T13:37:54.590Z"
   },
   {
    "duration": 49,
    "start_time": "2023-08-15T13:37:54.605Z"
   },
   {
    "duration": 4,
    "start_time": "2023-08-15T13:38:07.659Z"
   },
   {
    "duration": 21,
    "start_time": "2023-08-15T13:38:11.224Z"
   },
   {
    "duration": 4,
    "start_time": "2023-08-15T13:42:07.564Z"
   },
   {
    "duration": 419,
    "start_time": "2023-08-15T13:42:38.726Z"
   },
   {
    "duration": 56,
    "start_time": "2023-08-15T13:42:39.147Z"
   },
   {
    "duration": 11,
    "start_time": "2023-08-15T13:42:39.204Z"
   },
   {
    "duration": 14,
    "start_time": "2023-08-15T13:42:39.217Z"
   },
   {
    "duration": 39,
    "start_time": "2023-08-15T13:42:39.232Z"
   },
   {
    "duration": 18,
    "start_time": "2023-08-15T13:42:39.272Z"
   },
   {
    "duration": 33,
    "start_time": "2023-08-15T13:42:39.292Z"
   },
   {
    "duration": 7,
    "start_time": "2023-08-15T13:53:50.078Z"
   },
   {
    "duration": 7,
    "start_time": "2023-08-15T13:53:59.629Z"
   },
   {
    "duration": 6,
    "start_time": "2023-08-15T13:55:56.183Z"
   },
   {
    "duration": 4,
    "start_time": "2023-08-15T13:56:02.853Z"
   },
   {
    "duration": 19,
    "start_time": "2023-08-15T13:56:27.919Z"
   },
   {
    "duration": 4,
    "start_time": "2023-08-15T13:57:25.936Z"
   },
   {
    "duration": 63,
    "start_time": "2023-08-15T13:58:28.796Z"
   },
   {
    "duration": 8,
    "start_time": "2023-08-15T13:58:33.173Z"
   },
   {
    "duration": 14,
    "start_time": "2023-08-15T13:59:08.790Z"
   },
   {
    "duration": 12,
    "start_time": "2023-08-15T14:16:15.280Z"
   },
   {
    "duration": 11,
    "start_time": "2023-08-15T14:21:51.252Z"
   },
   {
    "duration": 13,
    "start_time": "2023-08-15T14:28:02.570Z"
   },
   {
    "duration": 14,
    "start_time": "2023-08-15T14:28:19.345Z"
   },
   {
    "duration": 7,
    "start_time": "2023-08-19T09:19:42.801Z"
   },
   {
    "duration": 1043,
    "start_time": "2023-08-19T09:19:47.431Z"
   },
   {
    "duration": 96,
    "start_time": "2023-08-19T09:19:48.475Z"
   },
   {
    "duration": 3,
    "start_time": "2023-08-19T09:19:48.573Z"
   },
   {
    "duration": 20,
    "start_time": "2023-08-19T09:19:48.579Z"
   },
   {
    "duration": 22,
    "start_time": "2023-08-19T09:19:48.600Z"
   },
   {
    "duration": 4,
    "start_time": "2023-08-19T09:19:48.623Z"
   },
   {
    "duration": 20,
    "start_time": "2023-08-19T09:19:48.629Z"
   },
   {
    "duration": 2,
    "start_time": "2023-08-19T09:19:48.650Z"
   },
   {
    "duration": 2,
    "start_time": "2023-08-19T09:19:59.506Z"
   },
   {
    "duration": 3,
    "start_time": "2023-08-19T09:20:04.217Z"
   },
   {
    "duration": 56,
    "start_time": "2023-08-19T09:23:47.226Z"
   },
   {
    "duration": 1220,
    "start_time": "2023-08-19T09:23:51.309Z"
   },
   {
    "duration": 55,
    "start_time": "2023-08-19T09:23:52.531Z"
   },
   {
    "duration": 4,
    "start_time": "2023-08-19T09:23:52.588Z"
   },
   {
    "duration": 21,
    "start_time": "2023-08-19T09:23:52.594Z"
   },
   {
    "duration": 27,
    "start_time": "2023-08-19T09:23:52.616Z"
   },
   {
    "duration": 2,
    "start_time": "2023-08-19T09:23:52.645Z"
   },
   {
    "duration": 25,
    "start_time": "2023-08-19T09:23:52.649Z"
   },
   {
    "duration": 8,
    "start_time": "2023-08-19T09:23:52.676Z"
   },
   {
    "duration": 114,
    "start_time": "2023-08-19T09:23:52.685Z"
   },
   {
    "duration": 11,
    "start_time": "2023-08-19T09:24:10.275Z"
   },
   {
    "duration": 5,
    "start_time": "2023-08-19T09:26:16.104Z"
   },
   {
    "duration": 2,
    "start_time": "2023-08-19T09:27:38.687Z"
   },
   {
    "duration": 7,
    "start_time": "2023-08-19T09:27:40.267Z"
   },
   {
    "duration": 11,
    "start_time": "2023-08-19T09:57:45.848Z"
   },
   {
    "duration": 8,
    "start_time": "2023-08-19T09:59:01.179Z"
   },
   {
    "duration": 10,
    "start_time": "2023-08-19T09:59:17.755Z"
   },
   {
    "duration": 1395,
    "start_time": "2023-08-19T09:59:52.711Z"
   },
   {
    "duration": 9,
    "start_time": "2023-08-19T10:00:03.447Z"
   },
   {
    "duration": 14,
    "start_time": "2023-08-19T10:00:19.677Z"
   },
   {
    "duration": 9,
    "start_time": "2023-08-19T10:00:23.457Z"
   },
   {
    "duration": 10,
    "start_time": "2023-08-19T10:00:32.602Z"
   },
   {
    "duration": 9,
    "start_time": "2023-08-19T10:00:47.693Z"
   },
   {
    "duration": 9,
    "start_time": "2023-08-19T10:01:28.989Z"
   },
   {
    "duration": 9,
    "start_time": "2023-08-19T10:01:36.300Z"
   },
   {
    "duration": 9,
    "start_time": "2023-08-19T10:02:15.811Z"
   },
   {
    "duration": 4,
    "start_time": "2023-08-19T10:14:50.270Z"
   },
   {
    "duration": 7,
    "start_time": "2023-08-19T10:17:20.576Z"
   },
   {
    "duration": 1088,
    "start_time": "2023-08-19T10:17:26.535Z"
   },
   {
    "duration": 55,
    "start_time": "2023-08-19T10:17:27.626Z"
   },
   {
    "duration": 4,
    "start_time": "2023-08-19T10:17:27.682Z"
   },
   {
    "duration": 32,
    "start_time": "2023-08-19T10:17:27.688Z"
   },
   {
    "duration": 27,
    "start_time": "2023-08-19T10:17:27.721Z"
   },
   {
    "duration": 13,
    "start_time": "2023-08-19T10:17:27.749Z"
   },
   {
    "duration": 19,
    "start_time": "2023-08-19T10:17:27.764Z"
   },
   {
    "duration": 22,
    "start_time": "2023-08-19T10:17:27.785Z"
   },
   {
    "duration": 28,
    "start_time": "2023-08-19T10:17:27.808Z"
   },
   {
    "duration": 14,
    "start_time": "2023-08-19T10:17:27.838Z"
   },
   {
    "duration": 28,
    "start_time": "2023-08-19T10:17:27.853Z"
   },
   {
    "duration": 8,
    "start_time": "2023-08-19T10:25:05.120Z"
   },
   {
    "duration": 7,
    "start_time": "2023-08-19T10:25:11.196Z"
   },
   {
    "duration": 1133,
    "start_time": "2023-08-19T10:25:21.355Z"
   },
   {
    "duration": 55,
    "start_time": "2023-08-19T10:25:22.490Z"
   },
   {
    "duration": 3,
    "start_time": "2023-08-19T10:25:22.547Z"
   },
   {
    "duration": 20,
    "start_time": "2023-08-19T10:25:22.552Z"
   },
   {
    "duration": 15,
    "start_time": "2023-08-19T10:25:22.574Z"
   },
   {
    "duration": 4,
    "start_time": "2023-08-19T10:25:22.590Z"
   },
   {
    "duration": 25,
    "start_time": "2023-08-19T10:25:22.596Z"
   },
   {
    "duration": 15,
    "start_time": "2023-08-19T10:25:22.622Z"
   },
   {
    "duration": 8,
    "start_time": "2023-08-19T10:25:22.639Z"
   },
   {
    "duration": 6,
    "start_time": "2023-08-19T10:25:22.649Z"
   },
   {
    "duration": 11,
    "start_time": "2023-08-19T10:25:22.656Z"
   },
   {
    "duration": 2045,
    "start_time": "2023-08-19T10:29:18.063Z"
   },
   {
    "duration": 591,
    "start_time": "2023-08-19T10:29:32.248Z"
   },
   {
    "duration": 106,
    "start_time": "2023-08-19T10:29:40.828Z"
   },
   {
    "duration": 130,
    "start_time": "2023-08-19T10:30:12.671Z"
   },
   {
    "duration": 118,
    "start_time": "2023-08-19T10:31:44.148Z"
   },
   {
    "duration": 166,
    "start_time": "2023-08-19T10:38:38.734Z"
   },
   {
    "duration": 59,
    "start_time": "2023-08-19T10:38:55.870Z"
   },
   {
    "duration": 95,
    "start_time": "2023-08-19T10:38:56.375Z"
   },
   {
    "duration": 18,
    "start_time": "2023-08-19T10:39:13.241Z"
   },
   {
    "duration": 16,
    "start_time": "2023-08-19T10:39:20.565Z"
   },
   {
    "duration": 4852,
    "start_time": "2023-08-19T12:49:34.650Z"
   },
   {
    "duration": 19,
    "start_time": "2023-08-19T12:49:57.500Z"
   },
   {
    "duration": 8,
    "start_time": "2023-08-19T12:50:39.376Z"
   },
   {
    "duration": 16,
    "start_time": "2023-08-19T12:50:58.832Z"
   },
   {
    "duration": 38,
    "start_time": "2023-08-19T12:51:13.642Z"
   },
   {
    "duration": 9,
    "start_time": "2023-08-19T12:51:49.596Z"
   },
   {
    "duration": 11,
    "start_time": "2023-08-19T12:51:55.158Z"
   },
   {
    "duration": 3,
    "start_time": "2023-08-19T12:52:07.798Z"
   },
   {
    "duration": 1119,
    "start_time": "2023-08-19T12:52:13.972Z"
   },
   {
    "duration": 63,
    "start_time": "2023-08-19T12:52:15.093Z"
   },
   {
    "duration": 4,
    "start_time": "2023-08-19T12:52:15.158Z"
   },
   {
    "duration": 17,
    "start_time": "2023-08-19T12:52:15.164Z"
   },
   {
    "duration": 16,
    "start_time": "2023-08-19T12:52:15.183Z"
   },
   {
    "duration": 13,
    "start_time": "2023-08-19T12:52:15.201Z"
   },
   {
    "duration": 53,
    "start_time": "2023-08-19T12:52:15.215Z"
   },
   {
    "duration": 8,
    "start_time": "2023-08-19T12:52:15.270Z"
   },
   {
    "duration": 74,
    "start_time": "2023-08-19T12:52:15.280Z"
   },
   {
    "duration": 393,
    "start_time": "2023-08-19T12:52:15.358Z"
   },
   {
    "duration": 3,
    "start_time": "2023-08-19T12:52:15.753Z"
   },
   {
    "duration": 171,
    "start_time": "2023-08-19T12:52:15.757Z"
   },
   {
    "duration": 34,
    "start_time": "2023-08-19T12:52:15.930Z"
   },
   {
    "duration": 59,
    "start_time": "2023-08-19T12:52:15.966Z"
   },
   {
    "duration": 102,
    "start_time": "2023-08-19T12:52:16.027Z"
   },
   {
    "duration": 3,
    "start_time": "2023-08-19T12:52:33.179Z"
   },
   {
    "duration": 1143,
    "start_time": "2023-08-19T12:52:39.498Z"
   },
   {
    "duration": 57,
    "start_time": "2023-08-19T12:52:40.649Z"
   },
   {
    "duration": 3,
    "start_time": "2023-08-19T12:52:40.708Z"
   },
   {
    "duration": 20,
    "start_time": "2023-08-19T12:52:40.713Z"
   },
   {
    "duration": 17,
    "start_time": "2023-08-19T12:52:40.741Z"
   },
   {
    "duration": 6,
    "start_time": "2023-08-19T12:52:40.760Z"
   },
   {
    "duration": 24,
    "start_time": "2023-08-19T12:52:40.768Z"
   },
   {
    "duration": 6,
    "start_time": "2023-08-19T12:52:40.794Z"
   },
   {
    "duration": 69,
    "start_time": "2023-08-19T12:52:40.801Z"
   },
   {
    "duration": 401,
    "start_time": "2023-08-19T12:52:40.872Z"
   },
   {
    "duration": 3,
    "start_time": "2023-08-19T12:52:41.274Z"
   },
   {
    "duration": 171,
    "start_time": "2023-08-19T12:52:41.278Z"
   },
   {
    "duration": 16,
    "start_time": "2023-08-19T12:52:41.451Z"
   },
   {
    "duration": 80,
    "start_time": "2023-08-19T12:52:41.469Z"
   },
   {
    "duration": 97,
    "start_time": "2023-08-19T12:52:41.550Z"
   },
   {
    "duration": 6,
    "start_time": "2023-08-19T12:58:19.143Z"
   },
   {
    "duration": 4,
    "start_time": "2023-08-19T13:02:47.997Z"
   },
   {
    "duration": 33,
    "start_time": "2023-08-19T13:02:51.674Z"
   },
   {
    "duration": 111,
    "start_time": "2023-08-19T13:03:02.995Z"
   },
   {
    "duration": 1184,
    "start_time": "2023-08-19T13:03:16.993Z"
   },
   {
    "duration": 65,
    "start_time": "2023-08-19T13:03:18.179Z"
   },
   {
    "duration": 4,
    "start_time": "2023-08-19T13:03:18.249Z"
   },
   {
    "duration": 15,
    "start_time": "2023-08-19T13:03:18.256Z"
   },
   {
    "duration": 17,
    "start_time": "2023-08-19T13:03:18.272Z"
   },
   {
    "duration": 4,
    "start_time": "2023-08-19T13:03:18.291Z"
   },
   {
    "duration": 23,
    "start_time": "2023-08-19T13:03:18.296Z"
   },
   {
    "duration": 24,
    "start_time": "2023-08-19T13:03:18.321Z"
   },
   {
    "duration": 12,
    "start_time": "2023-08-19T13:03:18.347Z"
   },
   {
    "duration": 33,
    "start_time": "2023-08-19T13:03:18.362Z"
   },
   {
    "duration": 413,
    "start_time": "2023-08-19T13:03:18.397Z"
   },
   {
    "duration": 3,
    "start_time": "2023-08-19T13:03:18.811Z"
   },
   {
    "duration": 148,
    "start_time": "2023-08-19T13:03:18.815Z"
   },
   {
    "duration": 26,
    "start_time": "2023-08-19T13:03:18.965Z"
   },
   {
    "duration": 17,
    "start_time": "2023-08-19T13:03:18.993Z"
   },
   {
    "duration": 36,
    "start_time": "2023-08-19T13:03:19.012Z"
   },
   {
    "duration": 89,
    "start_time": "2023-08-19T13:16:09.193Z"
   },
   {
    "duration": 29,
    "start_time": "2023-08-19T13:16:11.860Z"
   },
   {
    "duration": 103,
    "start_time": "2023-08-19T13:18:17.184Z"
   },
   {
    "duration": 1198,
    "start_time": "2023-08-19T13:18:24.247Z"
   },
   {
    "duration": 105,
    "start_time": "2023-08-19T13:18:25.448Z"
   },
   {
    "duration": 0,
    "start_time": "2023-08-19T13:18:25.555Z"
   },
   {
    "duration": 0,
    "start_time": "2023-08-19T13:18:25.557Z"
   },
   {
    "duration": 0,
    "start_time": "2023-08-19T13:18:25.559Z"
   },
   {
    "duration": 0,
    "start_time": "2023-08-19T13:18:25.560Z"
   },
   {
    "duration": 0,
    "start_time": "2023-08-19T13:18:25.562Z"
   },
   {
    "duration": 0,
    "start_time": "2023-08-19T13:18:25.563Z"
   },
   {
    "duration": 0,
    "start_time": "2023-08-19T13:18:25.566Z"
   },
   {
    "duration": 0,
    "start_time": "2023-08-19T13:18:25.567Z"
   },
   {
    "duration": 0,
    "start_time": "2023-08-19T13:18:25.569Z"
   },
   {
    "duration": 0,
    "start_time": "2023-08-19T13:18:25.570Z"
   },
   {
    "duration": 0,
    "start_time": "2023-08-19T13:18:25.572Z"
   },
   {
    "duration": 0,
    "start_time": "2023-08-19T13:18:25.573Z"
   },
   {
    "duration": 1,
    "start_time": "2023-08-19T13:18:25.574Z"
   },
   {
    "duration": 0,
    "start_time": "2023-08-19T13:18:25.576Z"
   },
   {
    "duration": 0,
    "start_time": "2023-08-19T13:18:25.577Z"
   },
   {
    "duration": 0,
    "start_time": "2023-08-19T13:18:25.579Z"
   },
   {
    "duration": 3,
    "start_time": "2023-08-19T13:18:53.265Z"
   },
   {
    "duration": 2,
    "start_time": "2023-08-19T13:18:53.895Z"
   },
   {
    "duration": 1045,
    "start_time": "2023-08-19T13:18:58.608Z"
   },
   {
    "duration": 2,
    "start_time": "2023-08-19T13:18:59.655Z"
   },
   {
    "duration": 60,
    "start_time": "2023-08-19T13:18:59.658Z"
   },
   {
    "duration": 3,
    "start_time": "2023-08-19T13:18:59.720Z"
   },
   {
    "duration": 20,
    "start_time": "2023-08-19T13:18:59.726Z"
   },
   {
    "duration": 13,
    "start_time": "2023-08-19T13:18:59.748Z"
   },
   {
    "duration": 5,
    "start_time": "2023-08-19T13:18:59.762Z"
   },
   {
    "duration": 25,
    "start_time": "2023-08-19T13:18:59.768Z"
   },
   {
    "duration": 7,
    "start_time": "2023-08-19T13:18:59.795Z"
   },
   {
    "duration": 37,
    "start_time": "2023-08-19T13:18:59.803Z"
   },
   {
    "duration": 39,
    "start_time": "2023-08-19T13:18:59.841Z"
   },
   {
    "duration": 407,
    "start_time": "2023-08-19T13:18:59.882Z"
   },
   {
    "duration": 2,
    "start_time": "2023-08-19T13:19:00.291Z"
   },
   {
    "duration": 57,
    "start_time": "2023-08-19T13:19:00.296Z"
   },
   {
    "duration": 31,
    "start_time": "2023-08-19T13:19:00.355Z"
   },
   {
    "duration": 28,
    "start_time": "2023-08-19T13:19:00.387Z"
   },
   {
    "duration": 39,
    "start_time": "2023-08-19T13:19:00.417Z"
   },
   {
    "duration": 37,
    "start_time": "2023-08-19T13:19:00.458Z"
   },
   {
    "duration": 31,
    "start_time": "2023-08-19T13:19:05.626Z"
   },
   {
    "duration": 3,
    "start_time": "2023-08-19T13:19:18.956Z"
   },
   {
    "duration": 108,
    "start_time": "2023-08-19T13:22:57.775Z"
   },
   {
    "duration": 81682,
    "start_time": "2023-08-19T13:23:54.468Z"
   },
   {
    "duration": 19,
    "start_time": "2023-08-19T13:33:30.049Z"
   },
   {
    "duration": 17,
    "start_time": "2023-08-19T13:33:42.729Z"
   },
   {
    "duration": 177757,
    "start_time": "2023-08-19T13:34:12.130Z"
   },
   {
    "duration": 45201,
    "start_time": "2023-08-19T13:38:18.742Z"
   },
   {
    "duration": 81594,
    "start_time": "2023-08-19T13:42:14.730Z"
   },
   {
    "duration": 46,
    "start_time": "2023-08-19T13:49:06.088Z"
   },
   {
    "duration": 324,
    "start_time": "2023-08-19T13:49:17.561Z"
   },
   {
    "duration": 290,
    "start_time": "2023-08-19T13:49:40.990Z"
   },
   {
    "duration": 292,
    "start_time": "2023-08-19T13:52:28.245Z"
   },
   {
    "duration": 79907,
    "start_time": "2023-08-19T13:52:44.806Z"
   },
   {
    "duration": 19,
    "start_time": "2023-08-19T13:54:04.715Z"
   },
   {
    "duration": 263,
    "start_time": "2023-08-19T13:54:54.486Z"
   },
   {
    "duration": 86,
    "start_time": "2023-08-19T13:55:05.661Z"
   },
   {
    "duration": 61,
    "start_time": "2023-08-19T13:55:20.687Z"
   },
   {
    "duration": 191,
    "start_time": "2023-08-19T13:56:12.754Z"
   },
   {
    "duration": 16,
    "start_time": "2023-08-19T13:56:51.990Z"
   },
   {
    "duration": 19,
    "start_time": "2023-08-19T13:56:56.066Z"
   },
   {
    "duration": 92,
    "start_time": "2023-08-19T13:57:40.742Z"
   },
   {
    "duration": 18,
    "start_time": "2023-08-19T13:57:49.278Z"
   },
   {
    "duration": 875,
    "start_time": "2023-08-19T13:58:15.775Z"
   },
   {
    "duration": 15,
    "start_time": "2023-08-19T14:00:53.103Z"
   },
   {
    "duration": 1107,
    "start_time": "2023-08-19T14:00:57.948Z"
   },
   {
    "duration": 3,
    "start_time": "2023-08-19T14:00:59.057Z"
   },
   {
    "duration": 79,
    "start_time": "2023-08-19T14:00:59.063Z"
   },
   {
    "duration": 4,
    "start_time": "2023-08-19T14:00:59.144Z"
   },
   {
    "duration": 16,
    "start_time": "2023-08-19T14:00:59.151Z"
   },
   {
    "duration": 16,
    "start_time": "2023-08-19T14:00:59.168Z"
   },
   {
    "duration": 5,
    "start_time": "2023-08-19T14:00:59.186Z"
   },
   {
    "duration": 48,
    "start_time": "2023-08-19T14:00:59.194Z"
   },
   {
    "duration": 11,
    "start_time": "2023-08-19T14:00:59.245Z"
   },
   {
    "duration": 20,
    "start_time": "2023-08-19T14:00:59.258Z"
   },
   {
    "duration": 70,
    "start_time": "2023-08-19T14:00:59.280Z"
   },
   {
    "duration": 466,
    "start_time": "2023-08-19T14:00:59.353Z"
   },
   {
    "duration": 2,
    "start_time": "2023-08-19T14:00:59.821Z"
   },
   {
    "duration": 12,
    "start_time": "2023-08-19T14:00:59.836Z"
   },
   {
    "duration": 14,
    "start_time": "2023-08-19T14:00:59.850Z"
   },
   {
    "duration": 9,
    "start_time": "2023-08-19T14:00:59.865Z"
   },
   {
    "duration": 13,
    "start_time": "2023-08-19T14:00:59.876Z"
   },
   {
    "duration": 65,
    "start_time": "2023-08-19T14:00:59.891Z"
   },
   {
    "duration": 84511,
    "start_time": "2023-08-19T14:00:59.958Z"
   },
   {
    "duration": 397,
    "start_time": "2023-08-19T14:02:24.472Z"
   },
   {
    "duration": 281,
    "start_time": "2023-08-19T14:02:24.871Z"
   },
   {
    "duration": 164,
    "start_time": "2023-08-19T14:04:04.741Z"
   },
   {
    "duration": 1152,
    "start_time": "2023-08-19T14:04:32.731Z"
   },
   {
    "duration": 4,
    "start_time": "2023-08-19T14:04:33.885Z"
   },
   {
    "duration": 78,
    "start_time": "2023-08-19T14:04:33.891Z"
   },
   {
    "duration": 5,
    "start_time": "2023-08-19T14:04:33.971Z"
   },
   {
    "duration": 20,
    "start_time": "2023-08-19T14:04:33.978Z"
   },
   {
    "duration": 34,
    "start_time": "2023-08-19T14:04:34.001Z"
   },
   {
    "duration": 6,
    "start_time": "2023-08-19T14:04:34.037Z"
   },
   {
    "duration": 53,
    "start_time": "2023-08-19T14:04:34.044Z"
   },
   {
    "duration": 8,
    "start_time": "2023-08-19T14:04:34.099Z"
   },
   {
    "duration": 25,
    "start_time": "2023-08-19T14:04:34.109Z"
   },
   {
    "duration": 36,
    "start_time": "2023-08-19T14:04:34.136Z"
   },
   {
    "duration": 514,
    "start_time": "2023-08-19T14:04:34.173Z"
   },
   {
    "duration": 3,
    "start_time": "2023-08-19T14:04:34.689Z"
   },
   {
    "duration": 50,
    "start_time": "2023-08-19T14:04:34.696Z"
   },
   {
    "duration": 16,
    "start_time": "2023-08-19T14:04:34.748Z"
   },
   {
    "duration": 14,
    "start_time": "2023-08-19T14:04:34.766Z"
   },
   {
    "duration": 15,
    "start_time": "2023-08-19T14:04:34.783Z"
   },
   {
    "duration": 54,
    "start_time": "2023-08-19T14:04:34.800Z"
   },
   {
    "duration": 75720,
    "start_time": "2023-08-19T14:04:34.856Z"
   },
   {
    "duration": 245,
    "start_time": "2023-08-19T14:05:50.578Z"
   },
   {
    "duration": 306,
    "start_time": "2023-08-19T14:05:50.834Z"
   },
   {
    "duration": 95,
    "start_time": "2023-08-19T14:06:14.750Z"
   },
   {
    "duration": 18,
    "start_time": "2023-08-19T14:09:14.067Z"
   },
   {
    "duration": 134,
    "start_time": "2023-08-19T16:18:06.416Z"
   },
   {
    "duration": 4,
    "start_time": "2023-08-19T16:18:33.959Z"
   },
   {
    "duration": 20,
    "start_time": "2023-08-19T16:18:40.369Z"
   },
   {
    "duration": 17,
    "start_time": "2023-08-19T16:18:46.950Z"
   },
   {
    "duration": 12,
    "start_time": "2023-08-19T16:19:39.776Z"
   },
   {
    "duration": 37,
    "start_time": "2023-08-19T16:31:50.792Z"
   },
   {
    "duration": 5,
    "start_time": "2023-08-19T16:33:14.551Z"
   },
   {
    "duration": 3,
    "start_time": "2023-08-19T16:33:33.077Z"
   },
   {
    "duration": 138576,
    "start_time": "2023-08-19T16:33:44.736Z"
   },
   {
    "duration": 131704,
    "start_time": "2023-08-19T16:40:46.124Z"
   },
   {
    "duration": 132534,
    "start_time": "2023-08-19T16:43:31.122Z"
   },
   {
    "duration": 126832,
    "start_time": "2023-08-19T16:46:10.581Z"
   },
   {
    "duration": 246,
    "start_time": "2023-08-19T16:49:00.432Z"
   },
   {
    "duration": 246,
    "start_time": "2023-08-19T16:49:37.046Z"
   },
   {
    "duration": 280,
    "start_time": "2023-08-19T16:50:25.785Z"
   },
   {
    "duration": 73,
    "start_time": "2023-08-19T16:52:03.464Z"
   },
   {
    "duration": 35,
    "start_time": "2023-08-19T16:52:59.882Z"
   },
   {
    "duration": 43,
    "start_time": "2023-08-19T16:53:13.106Z"
   },
   {
    "duration": 38,
    "start_time": "2023-08-19T16:53:28.039Z"
   },
   {
    "duration": 54,
    "start_time": "2023-08-19T16:54:00.029Z"
   },
   {
    "duration": 21,
    "start_time": "2023-08-19T16:54:12.146Z"
   },
   {
    "duration": 43,
    "start_time": "2023-08-19T16:54:16.409Z"
   },
   {
    "duration": 14,
    "start_time": "2023-08-19T17:01:58.287Z"
   },
   {
    "duration": 4,
    "start_time": "2023-08-19T17:05:46.350Z"
   },
   {
    "duration": 12,
    "start_time": "2023-08-19T17:07:33.147Z"
   },
   {
    "duration": 5,
    "start_time": "2023-08-19T17:07:37.817Z"
   },
   {
    "duration": 3,
    "start_time": "2023-08-19T17:07:51.123Z"
   },
   {
    "duration": 11,
    "start_time": "2023-08-19T17:08:59.105Z"
   },
   {
    "duration": 4,
    "start_time": "2023-08-19T17:08:59.665Z"
   },
   {
    "duration": 127190,
    "start_time": "2023-08-19T17:11:56.544Z"
   },
   {
    "duration": 35017,
    "start_time": "2023-08-19T17:16:55.043Z"
   },
   {
    "duration": 34776,
    "start_time": "2023-08-19T17:18:40.696Z"
   },
   {
    "duration": 109,
    "start_time": "2023-08-19T17:21:54.464Z"
   },
   {
    "duration": 112,
    "start_time": "2023-08-19T17:28:17.678Z"
   },
   {
    "duration": 18,
    "start_time": "2023-08-19T17:29:18.631Z"
   },
   {
    "duration": 15,
    "start_time": "2023-08-19T17:45:19.096Z"
   },
   {
    "duration": 67918,
    "start_time": "2023-08-19T17:45:45.094Z"
   },
   {
    "duration": 238,
    "start_time": "2023-08-19T17:53:19.224Z"
   },
   {
    "duration": 245,
    "start_time": "2023-08-19T17:53:30.849Z"
   },
   {
    "duration": 248,
    "start_time": "2023-08-19T17:54:05.899Z"
   },
   {
    "duration": 249,
    "start_time": "2023-08-19T17:54:13.595Z"
   },
   {
    "duration": 23,
    "start_time": "2023-08-19T17:56:55.698Z"
   },
   {
    "duration": 18,
    "start_time": "2023-08-19T17:57:01.935Z"
   },
   {
    "duration": 20,
    "start_time": "2023-08-19T18:14:30.110Z"
   },
   {
    "duration": 69013,
    "start_time": "2023-08-19T18:17:16.489Z"
   },
   {
    "duration": 24,
    "start_time": "2023-08-19T18:18:55.820Z"
   },
   {
    "duration": 68846,
    "start_time": "2023-08-19T18:19:02.131Z"
   },
   {
    "duration": 18,
    "start_time": "2023-08-19T18:22:18.894Z"
   },
   {
    "duration": 17,
    "start_time": "2023-08-19T18:22:37.038Z"
   },
   {
    "duration": 6,
    "start_time": "2023-08-19T18:53:32.876Z"
   },
   {
    "duration": 3,
    "start_time": "2023-08-19T18:53:56.561Z"
   },
   {
    "duration": 10,
    "start_time": "2023-08-19T18:54:35.603Z"
   },
   {
    "duration": 5,
    "start_time": "2023-08-19T18:55:55.867Z"
   },
   {
    "duration": 5,
    "start_time": "2023-08-19T18:56:47.633Z"
   },
   {
    "duration": 5,
    "start_time": "2023-08-19T18:57:25.460Z"
   },
   {
    "duration": 2,
    "start_time": "2023-08-19T18:57:45.784Z"
   },
   {
    "duration": 5,
    "start_time": "2023-08-19T18:57:50.870Z"
   },
   {
    "duration": 3,
    "start_time": "2023-08-19T18:57:51.492Z"
   },
   {
    "duration": 5,
    "start_time": "2023-08-19T18:57:56.250Z"
   },
   {
    "duration": 3,
    "start_time": "2023-08-19T18:57:57.557Z"
   },
   {
    "duration": 5,
    "start_time": "2023-08-19T18:58:01.276Z"
   },
   {
    "duration": 4,
    "start_time": "2023-08-19T18:58:01.805Z"
   },
   {
    "duration": 3,
    "start_time": "2023-08-19T18:58:26.778Z"
   },
   {
    "duration": 3,
    "start_time": "2023-08-19T18:58:42.527Z"
   },
   {
    "duration": 4,
    "start_time": "2023-08-19T18:59:05.114Z"
   },
   {
    "duration": 9,
    "start_time": "2023-08-19T18:59:05.634Z"
   },
   {
    "duration": 5,
    "start_time": "2023-08-19T18:59:05.948Z"
   },
   {
    "duration": 5,
    "start_time": "2023-08-19T18:59:06.390Z"
   },
   {
    "duration": 3,
    "start_time": "2023-08-19T18:59:06.899Z"
   },
   {
    "duration": 5,
    "start_time": "2023-08-19T18:59:47.987Z"
   },
   {
    "duration": 4,
    "start_time": "2023-08-19T18:59:48.434Z"
   },
   {
    "duration": 4,
    "start_time": "2023-08-19T18:59:48.974Z"
   },
   {
    "duration": 9,
    "start_time": "2023-08-19T18:59:49.507Z"
   },
   {
    "duration": 5,
    "start_time": "2023-08-19T18:59:49.970Z"
   },
   {
    "duration": 4,
    "start_time": "2023-08-19T18:59:50.462Z"
   },
   {
    "duration": 3,
    "start_time": "2023-08-19T18:59:50.955Z"
   },
   {
    "duration": 4,
    "start_time": "2023-08-19T19:00:04.935Z"
   },
   {
    "duration": 4,
    "start_time": "2023-08-19T19:00:10.041Z"
   },
   {
    "duration": 3,
    "start_time": "2023-08-19T19:00:27.692Z"
   },
   {
    "duration": 3,
    "start_time": "2023-08-19T19:00:42.407Z"
   },
   {
    "duration": 3,
    "start_time": "2023-08-19T19:00:58.523Z"
   },
   {
    "duration": 4,
    "start_time": "2023-08-19T19:01:09.377Z"
   },
   {
    "duration": 9,
    "start_time": "2023-08-19T19:01:33.098Z"
   },
   {
    "duration": 5,
    "start_time": "2023-08-19T19:01:46.214Z"
   },
   {
    "duration": 6,
    "start_time": "2023-08-19T19:02:09.089Z"
   },
   {
    "duration": 3,
    "start_time": "2023-08-19T19:02:09.741Z"
   },
   {
    "duration": 10,
    "start_time": "2023-08-19T19:02:43.291Z"
   },
   {
    "duration": 10,
    "start_time": "2023-08-19T19:03:47.672Z"
   },
   {
    "duration": 10,
    "start_time": "2023-08-19T19:03:50.775Z"
   },
   {
    "duration": 23,
    "start_time": "2023-08-19T19:05:36.568Z"
   },
   {
    "duration": 3,
    "start_time": "2023-08-19T19:08:34.629Z"
   },
   {
    "duration": 2,
    "start_time": "2023-08-19T19:08:47.074Z"
   },
   {
    "duration": 6,
    "start_time": "2023-08-19T19:08:59.425Z"
   },
   {
    "duration": 4,
    "start_time": "2023-08-19T19:08:59.965Z"
   },
   {
    "duration": 5,
    "start_time": "2023-08-19T19:09:00.904Z"
   },
   {
    "duration": 11,
    "start_time": "2023-08-19T19:09:02.804Z"
   },
   {
    "duration": 5,
    "start_time": "2023-08-19T19:09:03.292Z"
   },
   {
    "duration": 6,
    "start_time": "2023-08-19T19:09:03.856Z"
   },
   {
    "duration": 3,
    "start_time": "2023-08-19T19:09:05.959Z"
   },
   {
    "duration": 22,
    "start_time": "2023-08-19T19:09:06.900Z"
   },
   {
    "duration": 27,
    "start_time": "2023-08-19T19:09:08.640Z"
   },
   {
    "duration": 18,
    "start_time": "2023-08-19T19:09:24.521Z"
   },
   {
    "duration": 19,
    "start_time": "2023-08-19T19:09:50.856Z"
   },
   {
    "duration": 1053,
    "start_time": "2023-08-19T19:10:34.857Z"
   },
   {
    "duration": 2,
    "start_time": "2023-08-19T19:10:35.912Z"
   },
   {
    "duration": 125,
    "start_time": "2023-08-19T19:10:35.916Z"
   },
   {
    "duration": 3,
    "start_time": "2023-08-19T19:10:36.043Z"
   },
   {
    "duration": 34,
    "start_time": "2023-08-19T19:10:36.048Z"
   },
   {
    "duration": 21,
    "start_time": "2023-08-19T19:10:36.084Z"
   },
   {
    "duration": 27,
    "start_time": "2023-08-19T19:10:36.106Z"
   },
   {
    "duration": 41,
    "start_time": "2023-08-19T19:10:36.135Z"
   },
   {
    "duration": 23,
    "start_time": "2023-08-19T19:10:36.177Z"
   },
   {
    "duration": 22,
    "start_time": "2023-08-19T19:10:36.202Z"
   },
   {
    "duration": 61,
    "start_time": "2023-08-19T19:10:36.225Z"
   },
   {
    "duration": 357,
    "start_time": "2023-08-19T19:10:36.288Z"
   },
   {
    "duration": 3,
    "start_time": "2023-08-19T19:10:36.647Z"
   },
   {
    "duration": 80,
    "start_time": "2023-08-19T19:10:36.652Z"
   },
   {
    "duration": 21,
    "start_time": "2023-08-19T19:10:36.734Z"
   },
   {
    "duration": 49,
    "start_time": "2023-08-19T19:10:36.757Z"
   },
   {
    "duration": 39,
    "start_time": "2023-08-19T19:10:36.808Z"
   },
   {
    "duration": 51,
    "start_time": "2023-08-19T19:10:36.849Z"
   },
   {
    "duration": 31,
    "start_time": "2023-08-19T19:10:36.901Z"
   },
   {
    "duration": 44,
    "start_time": "2023-08-19T19:10:36.934Z"
   },
   {
    "duration": 95,
    "start_time": "2023-08-19T19:10:36.980Z"
   },
   {
    "duration": 68394,
    "start_time": "2023-08-19T19:10:37.076Z"
   },
   {
    "duration": 2,
    "start_time": "2023-08-19T19:11:45.472Z"
   },
   {
    "duration": 27,
    "start_time": "2023-08-19T19:11:45.475Z"
   },
   {
    "duration": 14,
    "start_time": "2023-08-19T19:11:45.504Z"
   },
   {
    "duration": 17,
    "start_time": "2023-08-19T19:11:45.519Z"
   },
   {
    "duration": 14,
    "start_time": "2023-08-19T19:11:45.537Z"
   },
   {
    "duration": 70990,
    "start_time": "2023-08-19T19:11:45.554Z"
   },
   {
    "duration": 261,
    "start_time": "2023-08-19T19:12:56.545Z"
   },
   {
    "duration": 27,
    "start_time": "2023-08-19T19:12:56.808Z"
   },
   {
    "duration": 107,
    "start_time": "2023-08-19T19:12:56.838Z"
   },
   {
    "duration": 3,
    "start_time": "2023-08-19T19:12:57.035Z"
   },
   {
    "duration": 53655,
    "start_time": "2023-08-19T19:12:57.040Z"
   },
   {
    "duration": 0,
    "start_time": "2023-08-19T19:13:50.697Z"
   },
   {
    "duration": 0,
    "start_time": "2023-08-19T19:13:50.698Z"
   },
   {
    "duration": 0,
    "start_time": "2023-08-19T19:13:50.699Z"
   },
   {
    "duration": 0,
    "start_time": "2023-08-19T19:13:50.700Z"
   },
   {
    "duration": 0,
    "start_time": "2023-08-19T19:13:50.701Z"
   },
   {
    "duration": 0,
    "start_time": "2023-08-19T19:13:50.702Z"
   },
   {
    "duration": 0,
    "start_time": "2023-08-19T19:13:50.703Z"
   },
   {
    "duration": 0,
    "start_time": "2023-08-19T19:13:50.704Z"
   },
   {
    "duration": 0,
    "start_time": "2023-08-19T19:13:50.706Z"
   },
   {
    "duration": 0,
    "start_time": "2023-08-19T19:13:50.706Z"
   },
   {
    "duration": 1,
    "start_time": "2023-08-19T19:13:50.707Z"
   },
   {
    "duration": 0,
    "start_time": "2023-08-19T19:13:50.709Z"
   },
   {
    "duration": 18,
    "start_time": "2023-08-19T19:13:58.565Z"
   },
   {
    "duration": 10,
    "start_time": "2023-08-19T19:20:35.821Z"
   },
   {
    "duration": 8,
    "start_time": "2023-08-19T19:21:34.018Z"
   },
   {
    "duration": 7,
    "start_time": "2023-08-19T19:22:00.713Z"
   },
   {
    "duration": 6,
    "start_time": "2023-08-19T19:22:27.299Z"
   },
   {
    "duration": 4,
    "start_time": "2023-08-19T19:22:27.692Z"
   },
   {
    "duration": 10,
    "start_time": "2023-08-19T19:22:29.549Z"
   },
   {
    "duration": 5,
    "start_time": "2023-08-19T19:22:29.891Z"
   },
   {
    "duration": 8,
    "start_time": "2023-08-19T19:22:30.233Z"
   },
   {
    "duration": 4,
    "start_time": "2023-08-19T19:22:30.614Z"
   },
   {
    "duration": 24,
    "start_time": "2023-08-19T19:22:32.286Z"
   },
   {
    "duration": 73922,
    "start_time": "2023-08-19T19:22:34.707Z"
   },
   {
    "duration": 20,
    "start_time": "2023-08-19T19:23:58.533Z"
   },
   {
    "duration": 9,
    "start_time": "2023-08-19T19:23:59.733Z"
   },
   {
    "duration": 5,
    "start_time": "2023-08-19T19:24:01.006Z"
   },
   {
    "duration": 26,
    "start_time": "2023-08-19T19:24:08.032Z"
   },
   {
    "duration": 17,
    "start_time": "2023-08-19T19:25:16.985Z"
   },
   {
    "duration": 4,
    "start_time": "2023-08-19T19:25:29.769Z"
   },
   {
    "duration": 11,
    "start_time": "2023-08-19T19:26:42.093Z"
   },
   {
    "duration": 10,
    "start_time": "2023-08-19T19:27:24.653Z"
   },
   {
    "duration": 10,
    "start_time": "2023-08-19T19:27:25.168Z"
   },
   {
    "duration": 5,
    "start_time": "2023-08-19T19:27:26.985Z"
   },
   {
    "duration": 11,
    "start_time": "2023-08-19T19:27:28.059Z"
   },
   {
    "duration": 11,
    "start_time": "2023-08-19T19:27:39.364Z"
   },
   {
    "duration": 22,
    "start_time": "2023-08-19T19:27:49.616Z"
   },
   {
    "duration": 12,
    "start_time": "2023-08-19T19:27:50.046Z"
   },
   {
    "duration": 10,
    "start_time": "2023-08-19T19:27:54.445Z"
   },
   {
    "duration": 10,
    "start_time": "2023-08-19T19:27:54.819Z"
   },
   {
    "duration": 5,
    "start_time": "2023-08-19T19:27:56.089Z"
   },
   {
    "duration": 11,
    "start_time": "2023-08-19T19:27:56.589Z"
   },
   {
    "duration": 4,
    "start_time": "2023-08-19T19:29:28.194Z"
   },
   {
    "duration": 106,
    "start_time": "2023-08-19T19:29:30.374Z"
   },
   {
    "duration": 10,
    "start_time": "2023-08-19T19:29:37.363Z"
   },
   {
    "duration": 11,
    "start_time": "2023-08-19T19:29:39.108Z"
   },
   {
    "duration": 12,
    "start_time": "2023-08-19T19:29:50.541Z"
   },
   {
    "duration": 1066,
    "start_time": "2023-08-19T19:30:14.096Z"
   },
   {
    "duration": 3,
    "start_time": "2023-08-19T19:30:15.163Z"
   },
   {
    "duration": 94,
    "start_time": "2023-08-19T19:30:15.167Z"
   },
   {
    "duration": 3,
    "start_time": "2023-08-19T19:30:15.263Z"
   },
   {
    "duration": 40,
    "start_time": "2023-08-19T19:30:15.268Z"
   },
   {
    "duration": 36,
    "start_time": "2023-08-19T19:30:15.309Z"
   },
   {
    "duration": 9,
    "start_time": "2023-08-19T19:30:15.346Z"
   },
   {
    "duration": 31,
    "start_time": "2023-08-19T19:30:15.357Z"
   },
   {
    "duration": 10,
    "start_time": "2023-08-19T19:30:15.389Z"
   },
   {
    "duration": 30,
    "start_time": "2023-08-19T19:30:15.401Z"
   },
   {
    "duration": 54,
    "start_time": "2023-08-19T19:30:15.432Z"
   },
   {
    "duration": 438,
    "start_time": "2023-08-19T19:30:15.488Z"
   },
   {
    "duration": 9,
    "start_time": "2023-08-19T19:30:15.928Z"
   },
   {
    "duration": 14,
    "start_time": "2023-08-19T19:30:15.938Z"
   },
   {
    "duration": 19,
    "start_time": "2023-08-19T19:30:15.954Z"
   },
   {
    "duration": 18,
    "start_time": "2023-08-19T19:30:15.974Z"
   },
   {
    "duration": 30,
    "start_time": "2023-08-19T19:30:15.993Z"
   },
   {
    "duration": 24,
    "start_time": "2023-08-19T19:30:16.024Z"
   },
   {
    "duration": 128,
    "start_time": "2023-08-19T19:30:16.050Z"
   },
   {
    "duration": 0,
    "start_time": "2023-08-19T19:30:16.180Z"
   },
   {
    "duration": 0,
    "start_time": "2023-08-19T19:30:16.181Z"
   },
   {
    "duration": 0,
    "start_time": "2023-08-19T19:30:16.182Z"
   },
   {
    "duration": 0,
    "start_time": "2023-08-19T19:30:16.183Z"
   },
   {
    "duration": 0,
    "start_time": "2023-08-19T19:30:16.184Z"
   },
   {
    "duration": 0,
    "start_time": "2023-08-19T19:30:16.185Z"
   },
   {
    "duration": 0,
    "start_time": "2023-08-19T19:30:16.186Z"
   },
   {
    "duration": 0,
    "start_time": "2023-08-19T19:30:16.187Z"
   },
   {
    "duration": 0,
    "start_time": "2023-08-19T19:30:16.189Z"
   },
   {
    "duration": 0,
    "start_time": "2023-08-19T19:30:16.190Z"
   },
   {
    "duration": 0,
    "start_time": "2023-08-19T19:30:16.191Z"
   },
   {
    "duration": 0,
    "start_time": "2023-08-19T19:30:16.192Z"
   },
   {
    "duration": 0,
    "start_time": "2023-08-19T19:30:16.193Z"
   },
   {
    "duration": 0,
    "start_time": "2023-08-19T19:30:16.194Z"
   },
   {
    "duration": 0,
    "start_time": "2023-08-19T19:30:16.195Z"
   },
   {
    "duration": 0,
    "start_time": "2023-08-19T19:30:16.196Z"
   },
   {
    "duration": 1,
    "start_time": "2023-08-19T19:30:16.196Z"
   },
   {
    "duration": 0,
    "start_time": "2023-08-19T19:30:16.197Z"
   },
   {
    "duration": 0,
    "start_time": "2023-08-19T19:30:16.199Z"
   },
   {
    "duration": 0,
    "start_time": "2023-08-19T19:30:16.199Z"
   },
   {
    "duration": 0,
    "start_time": "2023-08-19T19:30:16.200Z"
   },
   {
    "duration": 0,
    "start_time": "2023-08-19T19:30:16.201Z"
   },
   {
    "duration": 0,
    "start_time": "2023-08-19T19:30:16.234Z"
   },
   {
    "duration": 0,
    "start_time": "2023-08-19T19:30:16.234Z"
   },
   {
    "duration": 0,
    "start_time": "2023-08-19T19:30:16.235Z"
   },
   {
    "duration": 0,
    "start_time": "2023-08-19T19:30:16.235Z"
   },
   {
    "duration": 0,
    "start_time": "2023-08-19T19:30:16.244Z"
   },
   {
    "duration": 0,
    "start_time": "2023-08-19T19:30:16.245Z"
   },
   {
    "duration": 0,
    "start_time": "2023-08-19T19:30:16.245Z"
   },
   {
    "duration": 0,
    "start_time": "2023-08-19T19:30:16.246Z"
   },
   {
    "duration": 0,
    "start_time": "2023-08-19T19:30:16.248Z"
   },
   {
    "duration": 0,
    "start_time": "2023-08-19T19:30:16.249Z"
   },
   {
    "duration": 0,
    "start_time": "2023-08-19T19:30:16.250Z"
   },
   {
    "duration": 0,
    "start_time": "2023-08-19T19:30:16.251Z"
   },
   {
    "duration": 0,
    "start_time": "2023-08-19T19:30:16.252Z"
   },
   {
    "duration": 6,
    "start_time": "2023-08-19T19:30:29.630Z"
   },
   {
    "duration": 14,
    "start_time": "2023-08-19T19:30:43.566Z"
   },
   {
    "duration": 23,
    "start_time": "2023-08-19T19:30:46.826Z"
   },
   {
    "duration": 9,
    "start_time": "2023-08-19T19:30:48.220Z"
   },
   {
    "duration": 12,
    "start_time": "2023-08-19T19:30:53.314Z"
   },
   {
    "duration": 70290,
    "start_time": "2023-08-19T19:30:55.196Z"
   },
   {
    "duration": 8,
    "start_time": "2023-08-19T19:33:07.587Z"
   },
   {
    "duration": 6,
    "start_time": "2023-08-19T19:33:08.787Z"
   },
   {
    "duration": 9,
    "start_time": "2023-08-19T19:33:09.855Z"
   },
   {
    "duration": 11,
    "start_time": "2023-08-19T19:33:10.888Z"
   },
   {
    "duration": 4,
    "start_time": "2023-08-19T19:33:15.311Z"
   },
   {
    "duration": 17,
    "start_time": "2023-08-19T19:33:16.726Z"
   },
   {
    "duration": 19,
    "start_time": "2023-08-19T19:33:30.071Z"
   },
   {
    "duration": 5,
    "start_time": "2023-08-19T19:48:45.114Z"
   },
   {
    "duration": 3,
    "start_time": "2023-08-19T19:48:47.933Z"
   },
   {
    "duration": 9,
    "start_time": "2023-08-19T19:49:35.625Z"
   },
   {
    "duration": 6,
    "start_time": "2023-08-19T19:49:54.717Z"
   },
   {
    "duration": 10,
    "start_time": "2023-08-19T19:50:15.483Z"
   },
   {
    "duration": 12,
    "start_time": "2023-08-19T19:50:24.843Z"
   },
   {
    "duration": 4,
    "start_time": "2023-08-19T19:50:43.082Z"
   },
   {
    "duration": 2,
    "start_time": "2023-08-19T19:51:02.449Z"
   },
   {
    "duration": 10,
    "start_time": "2023-08-19T19:52:23.001Z"
   },
   {
    "duration": 4,
    "start_time": "2023-08-19T19:52:37.083Z"
   },
   {
    "duration": 6,
    "start_time": "2023-08-19T19:53:21.849Z"
   },
   {
    "duration": 3,
    "start_time": "2023-08-19T19:53:32.899Z"
   },
   {
    "duration": 3,
    "start_time": "2023-08-19T19:53:53.902Z"
   },
   {
    "duration": 9,
    "start_time": "2023-08-19T19:53:58.200Z"
   },
   {
    "duration": 9,
    "start_time": "2023-08-19T19:54:12.515Z"
   },
   {
    "duration": 23,
    "start_time": "2023-08-19T19:54:25.385Z"
   },
   {
    "duration": 10,
    "start_time": "2023-08-19T19:54:44.311Z"
   },
   {
    "duration": 3,
    "start_time": "2023-08-19T19:58:05.888Z"
   },
   {
    "duration": 6,
    "start_time": "2023-08-19T19:58:43.510Z"
   },
   {
    "duration": 3,
    "start_time": "2023-08-19T20:00:03.367Z"
   },
   {
    "duration": 1075,
    "start_time": "2023-08-19T20:00:09.645Z"
   },
   {
    "duration": 2,
    "start_time": "2023-08-19T20:00:10.722Z"
   },
   {
    "duration": 85,
    "start_time": "2023-08-19T20:00:10.726Z"
   },
   {
    "duration": 3,
    "start_time": "2023-08-19T20:00:10.814Z"
   },
   {
    "duration": 34,
    "start_time": "2023-08-19T20:00:10.819Z"
   },
   {
    "duration": 30,
    "start_time": "2023-08-19T20:00:10.855Z"
   },
   {
    "duration": 20,
    "start_time": "2023-08-19T20:00:10.887Z"
   },
   {
    "duration": 30,
    "start_time": "2023-08-19T20:00:10.909Z"
   },
   {
    "duration": 29,
    "start_time": "2023-08-19T20:00:10.941Z"
   },
   {
    "duration": 29,
    "start_time": "2023-08-19T20:00:10.973Z"
   },
   {
    "duration": 45,
    "start_time": "2023-08-19T20:00:11.004Z"
   },
   {
    "duration": 372,
    "start_time": "2023-08-19T20:00:11.051Z"
   },
   {
    "duration": 9,
    "start_time": "2023-08-19T20:00:11.425Z"
   },
   {
    "duration": 15,
    "start_time": "2023-08-19T20:00:11.435Z"
   },
   {
    "duration": 24,
    "start_time": "2023-08-19T20:00:11.452Z"
   },
   {
    "duration": 18,
    "start_time": "2023-08-19T20:00:11.478Z"
   },
   {
    "duration": 10,
    "start_time": "2023-08-19T20:00:11.497Z"
   },
   {
    "duration": 11,
    "start_time": "2023-08-19T20:00:11.509Z"
   },
   {
    "duration": 7,
    "start_time": "2023-08-19T20:00:11.522Z"
   },
   {
    "duration": 22,
    "start_time": "2023-08-19T20:00:11.531Z"
   },
   {
    "duration": 10,
    "start_time": "2023-08-19T20:00:11.555Z"
   },
   {
    "duration": 10,
    "start_time": "2023-08-19T20:00:11.566Z"
   },
   {
    "duration": 69656,
    "start_time": "2023-08-19T20:00:11.578Z"
   },
   {
    "duration": 233,
    "start_time": "2023-08-19T20:01:21.235Z"
   },
   {
    "duration": 69,
    "start_time": "2023-08-19T20:01:21.469Z"
   },
   {
    "duration": 103,
    "start_time": "2023-08-19T20:01:21.540Z"
   },
   {
    "duration": 3,
    "start_time": "2023-08-19T20:01:21.645Z"
   },
   {
    "duration": 121598,
    "start_time": "2023-08-19T20:01:21.651Z"
   },
   {
    "duration": 418,
    "start_time": "2023-08-19T20:03:23.250Z"
   },
   {
    "duration": 64,
    "start_time": "2023-08-19T20:03:23.670Z"
   },
   {
    "duration": 99,
    "start_time": "2023-08-19T20:03:23.738Z"
   },
   {
    "duration": 3,
    "start_time": "2023-08-19T20:03:23.838Z"
   },
   {
    "duration": 35075,
    "start_time": "2023-08-19T20:03:23.843Z"
   },
   {
    "duration": 114,
    "start_time": "2023-08-19T20:03:58.920Z"
   },
   {
    "duration": 12,
    "start_time": "2023-08-19T20:03:59.036Z"
   },
   {
    "duration": 307,
    "start_time": "2023-08-19T20:03:59.050Z"
   },
   {
    "duration": 0,
    "start_time": "2023-08-19T20:03:59.359Z"
   },
   {
    "duration": 0,
    "start_time": "2023-08-19T20:03:59.360Z"
   },
   {
    "duration": 0,
    "start_time": "2023-08-19T20:03:59.361Z"
   },
   {
    "duration": 0,
    "start_time": "2023-08-19T20:03:59.362Z"
   },
   {
    "duration": 0,
    "start_time": "2023-08-19T20:03:59.363Z"
   },
   {
    "duration": 0,
    "start_time": "2023-08-19T20:03:59.364Z"
   },
   {
    "duration": 0,
    "start_time": "2023-08-19T20:03:59.365Z"
   },
   {
    "duration": 0,
    "start_time": "2023-08-19T20:03:59.366Z"
   },
   {
    "duration": 68768,
    "start_time": "2023-08-19T20:05:20.439Z"
   },
   {
    "duration": 243,
    "start_time": "2023-08-19T20:25:58.028Z"
   },
   {
    "duration": 19,
    "start_time": "2023-08-19T20:26:13.099Z"
   },
   {
    "duration": 9,
    "start_time": "2023-08-19T20:27:59.142Z"
   },
   {
    "duration": 6,
    "start_time": "2023-08-19T20:27:59.793Z"
   },
   {
    "duration": 10,
    "start_time": "2023-08-19T20:28:01.228Z"
   },
   {
    "duration": 11,
    "start_time": "2023-08-19T20:28:02.980Z"
   },
   {
    "duration": 8,
    "start_time": "2023-08-19T20:28:30.795Z"
   },
   {
    "duration": 80,
    "start_time": "2023-08-19T20:37:27.334Z"
   },
   {
    "duration": 15,
    "start_time": "2023-08-19T20:37:35.223Z"
   },
   {
    "duration": 15,
    "start_time": "2023-08-19T20:37:48.300Z"
   },
   {
    "duration": 3,
    "start_time": "2023-08-19T20:42:07.371Z"
   },
   {
    "duration": 24,
    "start_time": "2023-08-19T20:42:42.040Z"
   },
   {
    "duration": 16,
    "start_time": "2023-08-19T20:42:49.622Z"
   },
   {
    "duration": 68158,
    "start_time": "2023-08-19T20:44:06.712Z"
   },
   {
    "duration": 18,
    "start_time": "2023-08-19T20:45:37.091Z"
   },
   {
    "duration": 3,
    "start_time": "2023-08-19T20:46:33.154Z"
   },
   {
    "duration": 154,
    "start_time": "2023-08-19T20:47:59.156Z"
   },
   {
    "duration": 66834,
    "start_time": "2023-08-19T20:52:13.350Z"
   },
   {
    "duration": 4,
    "start_time": "2023-08-19T20:54:15.007Z"
   },
   {
    "duration": 5,
    "start_time": "2023-08-19T20:54:31.597Z"
   },
   {
    "duration": 2,
    "start_time": "2023-08-19T20:56:38.840Z"
   },
   {
    "duration": 67230,
    "start_time": "2023-08-19T20:58:02.738Z"
   },
   {
    "duration": 12,
    "start_time": "2023-08-19T20:59:43.091Z"
   },
   {
    "duration": 10,
    "start_time": "2023-08-19T21:00:13.232Z"
   },
   {
    "duration": 10,
    "start_time": "2023-08-19T21:01:00.335Z"
   },
   {
    "duration": 3,
    "start_time": "2023-08-19T21:01:11.710Z"
   },
   {
    "duration": 4,
    "start_time": "2023-08-19T21:01:53.222Z"
   },
   {
    "duration": 17,
    "start_time": "2023-08-19T21:04:54.494Z"
   },
   {
    "duration": 67501,
    "start_time": "2023-08-19T21:07:46.521Z"
   },
   {
    "duration": 69811,
    "start_time": "2023-08-19T21:08:54.025Z"
   },
   {
    "duration": 133,
    "start_time": "2023-08-19T21:11:26.305Z"
   },
   {
    "duration": 18,
    "start_time": "2023-08-19T21:12:01.341Z"
   },
   {
    "duration": 67920,
    "start_time": "2023-08-19T21:12:09.544Z"
   },
   {
    "duration": 155,
    "start_time": "2023-08-19T21:17:35.796Z"
   },
   {
    "duration": 9,
    "start_time": "2023-08-19T21:18:48.664Z"
   },
   {
    "duration": 155,
    "start_time": "2023-08-19T21:18:56.434Z"
   },
   {
    "duration": 67855,
    "start_time": "2023-08-19T21:19:30.070Z"
   },
   {
    "duration": 16,
    "start_time": "2023-08-19T21:21:02.914Z"
   },
   {
    "duration": 9,
    "start_time": "2023-08-19T21:22:27.233Z"
   },
   {
    "duration": 10,
    "start_time": "2023-08-19T21:26:55.499Z"
   },
   {
    "duration": 24,
    "start_time": "2023-08-19T21:28:29.011Z"
   },
   {
    "duration": 15,
    "start_time": "2023-08-19T21:29:02.937Z"
   },
   {
    "duration": 1061,
    "start_time": "2023-08-19T21:30:25.956Z"
   },
   {
    "duration": 3,
    "start_time": "2023-08-19T21:30:27.019Z"
   },
   {
    "duration": 63,
    "start_time": "2023-08-19T21:30:27.023Z"
   },
   {
    "duration": 3,
    "start_time": "2023-08-19T21:30:27.088Z"
   },
   {
    "duration": 14,
    "start_time": "2023-08-19T21:30:27.092Z"
   },
   {
    "duration": 24,
    "start_time": "2023-08-19T21:30:27.108Z"
   },
   {
    "duration": 5,
    "start_time": "2023-08-19T21:30:27.133Z"
   },
   {
    "duration": 19,
    "start_time": "2023-08-19T21:30:27.139Z"
   },
   {
    "duration": 6,
    "start_time": "2023-08-19T21:30:27.159Z"
   },
   {
    "duration": 12,
    "start_time": "2023-08-19T21:30:27.167Z"
   },
   {
    "duration": 55,
    "start_time": "2023-08-19T21:30:27.180Z"
   },
   {
    "duration": 376,
    "start_time": "2023-08-19T21:30:27.236Z"
   },
   {
    "duration": 3,
    "start_time": "2023-08-19T21:30:27.614Z"
   },
   {
    "duration": 16,
    "start_time": "2023-08-19T21:30:27.618Z"
   },
   {
    "duration": 3,
    "start_time": "2023-08-19T21:30:27.635Z"
   },
   {
    "duration": 11,
    "start_time": "2023-08-19T21:30:27.639Z"
   },
   {
    "duration": 44,
    "start_time": "2023-08-19T21:30:27.652Z"
   },
   {
    "duration": 40,
    "start_time": "2023-08-19T21:30:27.697Z"
   },
   {
    "duration": 30,
    "start_time": "2023-08-19T21:30:27.739Z"
   },
   {
    "duration": 30,
    "start_time": "2023-08-19T21:30:27.771Z"
   },
   {
    "duration": 11,
    "start_time": "2023-08-19T21:30:27.803Z"
   },
   {
    "duration": 15,
    "start_time": "2023-08-19T21:30:27.816Z"
   },
   {
    "duration": 68856,
    "start_time": "2023-08-19T21:30:27.833Z"
   },
   {
    "duration": 234,
    "start_time": "2023-08-19T21:31:36.691Z"
   },
   {
    "duration": 22,
    "start_time": "2023-08-19T21:31:36.926Z"
   },
   {
    "duration": 186,
    "start_time": "2023-08-19T21:31:36.952Z"
   },
   {
    "duration": 3,
    "start_time": "2023-08-19T21:31:37.139Z"
   },
   {
    "duration": 121239,
    "start_time": "2023-08-19T21:31:37.145Z"
   },
   {
    "duration": 396,
    "start_time": "2023-08-19T21:33:38.385Z"
   },
   {
    "duration": 56,
    "start_time": "2023-08-19T21:33:38.782Z"
   },
   {
    "duration": 103,
    "start_time": "2023-08-19T21:33:38.841Z"
   },
   {
    "duration": 3,
    "start_time": "2023-08-19T21:33:38.946Z"
   },
   {
    "duration": 33976,
    "start_time": "2023-08-19T21:33:38.950Z"
   },
   {
    "duration": 114,
    "start_time": "2023-08-19T21:34:12.928Z"
   },
   {
    "duration": 11,
    "start_time": "2023-08-19T21:34:13.044Z"
   },
   {
    "duration": 68095,
    "start_time": "2023-08-19T21:34:13.058Z"
   },
   {
    "duration": 246,
    "start_time": "2023-08-19T21:35:21.154Z"
   },
   {
    "duration": 33,
    "start_time": "2023-08-19T21:35:21.402Z"
   },
   {
    "duration": 105,
    "start_time": "2023-08-19T21:35:21.438Z"
   },
   {
    "duration": 9,
    "start_time": "2023-08-19T21:35:21.545Z"
   },
   {
    "duration": 84,
    "start_time": "2023-08-19T21:35:21.555Z"
   },
   {
    "duration": 165,
    "start_time": "2023-08-19T21:35:21.640Z"
   },
   {
    "duration": 28,
    "start_time": "2023-08-19T21:35:21.806Z"
   },
   {
    "duration": 9,
    "start_time": "2023-08-19T21:35:21.835Z"
   },
   {
    "duration": 93,
    "start_time": "2023-08-19T21:35:21.846Z"
   },
   {
    "duration": 105,
    "start_time": "2023-08-19T21:50:38.598Z"
   },
   {
    "duration": 4,
    "start_time": "2023-08-19T21:51:22.825Z"
   },
   {
    "duration": 6,
    "start_time": "2023-08-19T21:51:33.494Z"
   },
   {
    "duration": 7,
    "start_time": "2023-08-19T21:52:16.487Z"
   },
   {
    "duration": 9,
    "start_time": "2023-08-19T21:52:28.166Z"
   },
   {
    "duration": 5,
    "start_time": "2023-08-19T21:53:44.585Z"
   },
   {
    "duration": 12,
    "start_time": "2023-08-19T21:55:14.478Z"
   },
   {
    "duration": 17,
    "start_time": "2023-08-19T21:56:29.721Z"
   },
   {
    "duration": 22,
    "start_time": "2023-08-19T22:00:30.269Z"
   },
   {
    "duration": 9,
    "start_time": "2023-08-19T22:00:33.758Z"
   },
   {
    "duration": 72,
    "start_time": "2023-08-19T22:00:37.761Z"
   },
   {
    "duration": 1101,
    "start_time": "2023-08-19T22:14:01.286Z"
   },
   {
    "duration": 2,
    "start_time": "2023-08-19T22:14:02.389Z"
   },
   {
    "duration": 76,
    "start_time": "2023-08-19T22:14:02.392Z"
   },
   {
    "duration": 4,
    "start_time": "2023-08-19T22:14:02.469Z"
   },
   {
    "duration": 52,
    "start_time": "2023-08-19T22:14:02.474Z"
   },
   {
    "duration": 38,
    "start_time": "2023-08-19T22:14:02.527Z"
   },
   {
    "duration": 36,
    "start_time": "2023-08-19T22:14:02.567Z"
   },
   {
    "duration": 51,
    "start_time": "2023-08-19T22:14:02.604Z"
   },
   {
    "duration": 33,
    "start_time": "2023-08-19T22:14:02.657Z"
   },
   {
    "duration": 32,
    "start_time": "2023-08-19T22:14:02.693Z"
   },
   {
    "duration": 60,
    "start_time": "2023-08-19T22:14:02.727Z"
   },
   {
    "duration": 365,
    "start_time": "2023-08-19T22:14:02.789Z"
   },
   {
    "duration": 3,
    "start_time": "2023-08-19T22:14:03.155Z"
   },
   {
    "duration": 16,
    "start_time": "2023-08-19T22:14:03.159Z"
   },
   {
    "duration": 11,
    "start_time": "2023-08-19T22:14:03.176Z"
   },
   {
    "duration": 14,
    "start_time": "2023-08-19T22:14:03.188Z"
   },
   {
    "duration": 20,
    "start_time": "2023-08-19T22:14:03.204Z"
   },
   {
    "duration": 12,
    "start_time": "2023-08-19T22:14:03.226Z"
   },
   {
    "duration": 13,
    "start_time": "2023-08-19T22:14:03.240Z"
   },
   {
    "duration": 27,
    "start_time": "2023-08-19T22:14:03.254Z"
   },
   {
    "duration": 10,
    "start_time": "2023-08-19T22:14:03.282Z"
   },
   {
    "duration": 18,
    "start_time": "2023-08-19T22:14:03.294Z"
   },
   {
    "duration": 67974,
    "start_time": "2023-08-19T22:14:03.313Z"
   },
   {
    "duration": 232,
    "start_time": "2023-08-19T22:15:11.288Z"
   },
   {
    "duration": 23,
    "start_time": "2023-08-19T22:15:11.522Z"
   },
   {
    "duration": 188,
    "start_time": "2023-08-19T22:15:11.547Z"
   },
   {
    "duration": 3,
    "start_time": "2023-08-19T22:15:11.737Z"
   },
   {
    "duration": 120920,
    "start_time": "2023-08-19T22:15:11.743Z"
   },
   {
    "duration": 414,
    "start_time": "2023-08-19T22:17:12.665Z"
   },
   {
    "duration": 61,
    "start_time": "2023-08-19T22:17:13.081Z"
   },
   {
    "duration": 11,
    "start_time": "2023-08-19T22:17:13.233Z"
   },
   {
    "duration": 46,
    "start_time": "2023-08-19T22:17:13.245Z"
   },
   {
    "duration": 34246,
    "start_time": "2023-08-19T22:17:13.293Z"
   },
   {
    "duration": 114,
    "start_time": "2023-08-19T22:17:47.541Z"
   },
   {
    "duration": 11,
    "start_time": "2023-08-19T22:17:47.657Z"
   },
   {
    "duration": 67759,
    "start_time": "2023-08-19T22:17:47.670Z"
   },
   {
    "duration": 246,
    "start_time": "2023-08-19T22:18:55.430Z"
   },
   {
    "duration": 59,
    "start_time": "2023-08-19T22:18:55.677Z"
   },
   {
    "duration": 99,
    "start_time": "2023-08-19T22:18:55.741Z"
   },
   {
    "duration": 33,
    "start_time": "2023-08-19T22:18:55.841Z"
   },
   {
    "duration": 31,
    "start_time": "2023-08-19T22:18:55.875Z"
   },
   {
    "duration": 42,
    "start_time": "2023-08-19T22:18:55.907Z"
   },
   {
    "duration": 10,
    "start_time": "2023-08-19T22:18:55.950Z"
   },
   {
    "duration": 73,
    "start_time": "2023-08-19T22:18:55.961Z"
   },
   {
    "duration": 49,
    "start_time": "2023-08-20T11:30:17.332Z"
   },
   {
    "duration": 1617,
    "start_time": "2023-08-20T11:30:23.950Z"
   },
   {
    "duration": 3,
    "start_time": "2023-08-20T11:30:25.569Z"
   },
   {
    "duration": 129,
    "start_time": "2023-08-20T11:30:25.574Z"
   },
   {
    "duration": 5,
    "start_time": "2023-08-20T11:30:25.705Z"
   },
   {
    "duration": 14,
    "start_time": "2023-08-20T11:30:25.713Z"
   },
   {
    "duration": 15,
    "start_time": "2023-08-20T11:30:25.729Z"
   },
   {
    "duration": 7,
    "start_time": "2023-08-20T11:30:25.745Z"
   },
   {
    "duration": 21,
    "start_time": "2023-08-20T11:30:25.757Z"
   },
   {
    "duration": 7,
    "start_time": "2023-08-20T11:30:25.779Z"
   },
   {
    "duration": 12,
    "start_time": "2023-08-20T11:30:25.787Z"
   },
   {
    "duration": 50,
    "start_time": "2023-08-20T11:30:25.800Z"
   },
   {
    "duration": 641,
    "start_time": "2023-08-20T11:30:25.856Z"
   },
   {
    "duration": 3,
    "start_time": "2023-08-20T11:30:26.499Z"
   },
   {
    "duration": 21,
    "start_time": "2023-08-20T11:30:26.506Z"
   },
   {
    "duration": 19,
    "start_time": "2023-08-20T11:30:26.529Z"
   },
   {
    "duration": 30,
    "start_time": "2023-08-20T11:30:26.550Z"
   },
   {
    "duration": 23,
    "start_time": "2023-08-20T11:30:26.581Z"
   },
   {
    "duration": 6,
    "start_time": "2023-08-20T11:30:26.605Z"
   },
   {
    "duration": 13,
    "start_time": "2023-08-20T11:30:26.612Z"
   },
   {
    "duration": 43,
    "start_time": "2023-08-20T11:30:26.627Z"
   },
   {
    "duration": 11,
    "start_time": "2023-08-20T11:30:26.671Z"
   },
   {
    "duration": 11,
    "start_time": "2023-08-20T11:30:26.684Z"
   },
   {
    "duration": 71772,
    "start_time": "2023-08-20T11:30:26.697Z"
   },
   {
    "duration": 250,
    "start_time": "2023-08-20T11:31:38.471Z"
   },
   {
    "duration": 39,
    "start_time": "2023-08-20T11:31:38.723Z"
   },
   {
    "duration": 99,
    "start_time": "2023-08-20T11:31:38.764Z"
   },
   {
    "duration": 84,
    "start_time": "2023-08-20T11:31:38.865Z"
   },
   {
    "duration": 19,
    "start_time": "2023-08-20T11:31:38.952Z"
   },
   {
    "duration": 1069,
    "start_time": "2023-08-20T11:33:44.065Z"
   },
   {
    "duration": 2,
    "start_time": "2023-08-20T11:33:45.136Z"
   },
   {
    "duration": 90,
    "start_time": "2023-08-20T11:33:45.140Z"
   },
   {
    "duration": 3,
    "start_time": "2023-08-20T11:33:45.232Z"
   },
   {
    "duration": 45,
    "start_time": "2023-08-20T11:33:45.237Z"
   },
   {
    "duration": 31,
    "start_time": "2023-08-20T11:33:45.284Z"
   },
   {
    "duration": 29,
    "start_time": "2023-08-20T11:33:45.317Z"
   },
   {
    "duration": 32,
    "start_time": "2023-08-20T11:33:45.348Z"
   },
   {
    "duration": 12,
    "start_time": "2023-08-20T11:33:45.382Z"
   },
   {
    "duration": 50,
    "start_time": "2023-08-20T11:33:45.398Z"
   },
   {
    "duration": 46,
    "start_time": "2023-08-20T11:33:45.455Z"
   },
   {
    "duration": 406,
    "start_time": "2023-08-20T11:33:45.503Z"
   },
   {
    "duration": 5,
    "start_time": "2023-08-20T11:33:45.911Z"
   },
   {
    "duration": 21,
    "start_time": "2023-08-20T11:33:45.917Z"
   },
   {
    "duration": 33,
    "start_time": "2023-08-20T11:33:45.942Z"
   },
   {
    "duration": 38,
    "start_time": "2023-08-20T11:33:45.977Z"
   },
   {
    "duration": 39,
    "start_time": "2023-08-20T11:33:46.017Z"
   },
   {
    "duration": 15,
    "start_time": "2023-08-20T11:33:46.058Z"
   },
   {
    "duration": 35,
    "start_time": "2023-08-20T11:33:46.075Z"
   },
   {
    "duration": 31,
    "start_time": "2023-08-20T11:33:46.112Z"
   },
   {
    "duration": 17,
    "start_time": "2023-08-20T11:33:46.145Z"
   },
   {
    "duration": 21,
    "start_time": "2023-08-20T11:33:46.163Z"
   },
   {
    "duration": 71899,
    "start_time": "2023-08-20T11:33:46.185Z"
   },
   {
    "duration": 240,
    "start_time": "2023-08-20T11:34:58.085Z"
   },
   {
    "duration": 35,
    "start_time": "2023-08-20T11:34:58.327Z"
   },
   {
    "duration": 109,
    "start_time": "2023-08-20T11:34:58.364Z"
   },
   {
    "duration": 4,
    "start_time": "2023-08-20T11:34:58.475Z"
   },
   {
    "duration": 72,
    "start_time": "2023-08-20T11:34:58.483Z"
   },
   {
    "duration": 96773,
    "start_time": "2023-08-20T11:34:58.556Z"
   },
   {
    "duration": 335,
    "start_time": "2023-08-20T11:36:35.330Z"
   },
   {
    "duration": 88,
    "start_time": "2023-08-20T11:36:35.666Z"
   },
   {
    "duration": 99,
    "start_time": "2023-08-20T11:36:35.755Z"
   },
   {
    "duration": 4,
    "start_time": "2023-08-20T11:36:35.857Z"
   },
   {
    "duration": 14809,
    "start_time": "2023-08-20T11:36:35.866Z"
   },
   {
    "duration": 0,
    "start_time": "2023-08-20T11:36:50.677Z"
   },
   {
    "duration": 0,
    "start_time": "2023-08-20T11:36:50.678Z"
   },
   {
    "duration": 0,
    "start_time": "2023-08-20T11:36:50.679Z"
   },
   {
    "duration": 0,
    "start_time": "2023-08-20T11:36:50.680Z"
   },
   {
    "duration": 0,
    "start_time": "2023-08-20T11:36:50.681Z"
   },
   {
    "duration": 0,
    "start_time": "2023-08-20T11:36:50.682Z"
   },
   {
    "duration": 0,
    "start_time": "2023-08-20T11:36:50.683Z"
   },
   {
    "duration": 0,
    "start_time": "2023-08-20T11:36:50.684Z"
   },
   {
    "duration": 0,
    "start_time": "2023-08-20T11:36:50.685Z"
   },
   {
    "duration": 0,
    "start_time": "2023-08-20T11:36:50.686Z"
   },
   {
    "duration": 0,
    "start_time": "2023-08-20T11:36:50.687Z"
   },
   {
    "duration": 0,
    "start_time": "2023-08-20T11:36:50.688Z"
   },
   {
    "duration": 6,
    "start_time": "2023-08-20T11:36:52.674Z"
   },
   {
    "duration": 10,
    "start_time": "2023-08-20T11:37:10.790Z"
   },
   {
    "duration": 4,
    "start_time": "2023-08-20T11:37:13.064Z"
   },
   {
    "duration": 5,
    "start_time": "2023-08-20T11:37:14.323Z"
   },
   {
    "duration": 10,
    "start_time": "2023-08-20T11:37:49.348Z"
   },
   {
    "duration": 3,
    "start_time": "2023-08-20T11:37:50.960Z"
   },
   {
    "duration": 5,
    "start_time": "2023-08-20T11:37:53.168Z"
   },
   {
    "duration": 14,
    "start_time": "2023-08-20T11:37:59.933Z"
   },
   {
    "duration": 5,
    "start_time": "2023-08-20T11:38:00.458Z"
   },
   {
    "duration": 6,
    "start_time": "2023-08-20T11:38:01.134Z"
   },
   {
    "duration": 14,
    "start_time": "2023-08-20T11:38:05.851Z"
   },
   {
    "duration": 4,
    "start_time": "2023-08-20T11:38:06.774Z"
   },
   {
    "duration": 8,
    "start_time": "2023-08-20T11:38:07.464Z"
   },
   {
    "duration": 9,
    "start_time": "2023-08-20T11:38:15.110Z"
   },
   {
    "duration": 4,
    "start_time": "2023-08-20T11:38:15.692Z"
   },
   {
    "duration": 6,
    "start_time": "2023-08-20T11:38:16.269Z"
   },
   {
    "duration": 13,
    "start_time": "2023-08-20T11:38:21.884Z"
   },
   {
    "duration": 3,
    "start_time": "2023-08-20T11:38:22.416Z"
   },
   {
    "duration": 5,
    "start_time": "2023-08-20T11:38:23.043Z"
   },
   {
    "duration": 10,
    "start_time": "2023-08-20T11:38:29.166Z"
   },
   {
    "duration": 4,
    "start_time": "2023-08-20T11:38:29.560Z"
   },
   {
    "duration": 5,
    "start_time": "2023-08-20T11:38:30.099Z"
   },
   {
    "duration": 10,
    "start_time": "2023-08-20T11:38:34.981Z"
   },
   {
    "duration": 4,
    "start_time": "2023-08-20T11:38:35.520Z"
   },
   {
    "duration": 5,
    "start_time": "2023-08-20T11:38:36.234Z"
   },
   {
    "duration": 12,
    "start_time": "2023-08-20T11:38:40.839Z"
   },
   {
    "duration": 3,
    "start_time": "2023-08-20T11:38:41.316Z"
   },
   {
    "duration": 6,
    "start_time": "2023-08-20T11:38:41.960Z"
   },
   {
    "duration": 11,
    "start_time": "2023-08-20T11:38:47.422Z"
   },
   {
    "duration": 3,
    "start_time": "2023-08-20T11:38:48.123Z"
   },
   {
    "duration": 5,
    "start_time": "2023-08-20T11:38:48.874Z"
   },
   {
    "duration": 10,
    "start_time": "2023-08-20T11:38:58.221Z"
   },
   {
    "duration": 11,
    "start_time": "2023-08-20T11:38:58.748Z"
   },
   {
    "duration": 9,
    "start_time": "2023-08-20T11:38:59.348Z"
   },
   {
    "duration": 5,
    "start_time": "2023-08-20T11:41:38.073Z"
   },
   {
    "duration": 6,
    "start_time": "2023-08-20T11:42:38.114Z"
   },
   {
    "duration": 5,
    "start_time": "2023-08-20T11:42:40.133Z"
   },
   {
    "duration": 42159,
    "start_time": "2023-08-20T11:42:53.280Z"
   },
   {
    "duration": 127,
    "start_time": "2023-08-20T12:09:48.531Z"
   },
   {
    "duration": 14,
    "start_time": "2023-08-20T12:13:49.710Z"
   },
   {
    "duration": 67997,
    "start_time": "2023-08-20T12:13:55.944Z"
   },
   {
    "duration": 257,
    "start_time": "2023-08-20T12:19:36.026Z"
   },
   {
    "duration": 23,
    "start_time": "2023-08-20T12:19:41.911Z"
   },
   {
    "duration": 14,
    "start_time": "2023-08-20T12:23:09.643Z"
   },
   {
    "duration": 3,
    "start_time": "2023-08-20T12:23:18.364Z"
   },
   {
    "duration": 4,
    "start_time": "2023-08-20T12:23:21.701Z"
   },
   {
    "duration": 11,
    "start_time": "2023-08-20T13:21:37.551Z"
   },
   {
    "duration": 12,
    "start_time": "2023-08-20T13:23:47.146Z"
   },
   {
    "duration": 3,
    "start_time": "2023-08-20T13:25:47.868Z"
   },
   {
    "duration": 3,
    "start_time": "2023-08-20T13:26:16.387Z"
   },
   {
    "duration": 12,
    "start_time": "2023-08-20T13:26:34.465Z"
   },
   {
    "duration": 15,
    "start_time": "2023-08-20T13:29:13.051Z"
   },
   {
    "duration": 11,
    "start_time": "2023-08-20T13:33:03.575Z"
   },
   {
    "duration": 4,
    "start_time": "2023-08-20T13:34:24.212Z"
   },
   {
    "duration": 4,
    "start_time": "2023-08-20T13:34:28.908Z"
   },
   {
    "duration": 51,
    "start_time": "2023-08-20T13:36:18.315Z"
   },
   {
    "duration": 12,
    "start_time": "2023-08-20T13:36:44.488Z"
   },
   {
    "duration": 11,
    "start_time": "2023-08-20T13:40:50.281Z"
   },
   {
    "duration": 3,
    "start_time": "2023-08-20T13:41:41.175Z"
   },
   {
    "duration": 52,
    "start_time": "2023-08-20T16:01:22.869Z"
   },
   {
    "duration": 1201,
    "start_time": "2023-08-20T16:01:27.767Z"
   },
   {
    "duration": 3,
    "start_time": "2023-08-20T16:01:28.970Z"
   },
   {
    "duration": 201,
    "start_time": "2023-08-20T16:01:28.975Z"
   },
   {
    "duration": 4,
    "start_time": "2023-08-20T16:01:29.179Z"
   },
   {
    "duration": 21,
    "start_time": "2023-08-20T16:01:29.185Z"
   },
   {
    "duration": 16,
    "start_time": "2023-08-20T16:01:29.209Z"
   },
   {
    "duration": 32,
    "start_time": "2023-08-20T16:01:29.227Z"
   },
   {
    "duration": 24,
    "start_time": "2023-08-20T16:01:29.261Z"
   },
   {
    "duration": 8,
    "start_time": "2023-08-20T16:01:29.288Z"
   },
   {
    "duration": 15,
    "start_time": "2023-08-20T16:01:29.300Z"
   },
   {
    "duration": 71,
    "start_time": "2023-08-20T16:01:29.317Z"
   },
   {
    "duration": 645,
    "start_time": "2023-08-20T16:01:29.390Z"
   },
   {
    "duration": 8,
    "start_time": "2023-08-20T16:01:30.037Z"
   },
   {
    "duration": 40,
    "start_time": "2023-08-20T16:01:30.047Z"
   },
   {
    "duration": 41,
    "start_time": "2023-08-20T16:01:30.089Z"
   },
   {
    "duration": 52,
    "start_time": "2023-08-20T16:01:30.133Z"
   },
   {
    "duration": 43,
    "start_time": "2023-08-20T16:01:30.188Z"
   },
   {
    "duration": 37,
    "start_time": "2023-08-20T16:01:30.233Z"
   },
   {
    "duration": 34,
    "start_time": "2023-08-20T16:01:30.272Z"
   },
   {
    "duration": 70,
    "start_time": "2023-08-20T16:01:30.309Z"
   },
   {
    "duration": 41,
    "start_time": "2023-08-20T16:01:30.382Z"
   },
   {
    "duration": 53,
    "start_time": "2023-08-20T16:01:30.425Z"
   },
   {
    "duration": 78569,
    "start_time": "2023-08-20T16:01:30.481Z"
   },
   {
    "duration": 262,
    "start_time": "2023-08-20T16:02:49.052Z"
   },
   {
    "duration": 51,
    "start_time": "2023-08-20T16:02:49.316Z"
   },
   {
    "duration": 98,
    "start_time": "2023-08-20T16:02:49.369Z"
   },
   {
    "duration": 4,
    "start_time": "2023-08-20T16:02:49.469Z"
   },
   {
    "duration": 85,
    "start_time": "2023-08-20T16:02:49.477Z"
   },
   {
    "duration": 104342,
    "start_time": "2023-08-20T16:02:49.564Z"
   },
   {
    "duration": 395,
    "start_time": "2023-08-20T16:04:33.908Z"
   },
   {
    "duration": 64,
    "start_time": "2023-08-20T16:04:34.305Z"
   },
   {
    "duration": 99,
    "start_time": "2023-08-20T16:04:34.372Z"
   },
   {
    "duration": 6,
    "start_time": "2023-08-20T16:04:34.474Z"
   },
   {
    "duration": 81,
    "start_time": "2023-08-20T16:04:34.482Z"
   },
   {
    "duration": 47591,
    "start_time": "2023-08-20T16:04:34.565Z"
   },
   {
    "duration": 159,
    "start_time": "2023-08-20T16:05:22.160Z"
   },
   {
    "duration": 53,
    "start_time": "2023-08-20T16:05:22.320Z"
   },
   {
    "duration": 77843,
    "start_time": "2023-08-20T16:05:22.459Z"
   },
   {
    "duration": 277,
    "start_time": "2023-08-20T16:06:40.304Z"
   },
   {
    "duration": 84,
    "start_time": "2023-08-20T16:06:40.583Z"
   },
   {
    "duration": 211,
    "start_time": "2023-08-20T16:06:40.669Z"
   },
   {
    "duration": 0,
    "start_time": "2023-08-20T16:06:40.882Z"
   },
   {
    "duration": 0,
    "start_time": "2023-08-20T16:06:40.883Z"
   },
   {
    "duration": 0,
    "start_time": "2023-08-20T16:06:40.884Z"
   },
   {
    "duration": 0,
    "start_time": "2023-08-20T16:06:40.886Z"
   },
   {
    "duration": 0,
    "start_time": "2023-08-20T16:06:40.887Z"
   },
   {
    "duration": 0,
    "start_time": "2023-08-20T16:06:40.888Z"
   },
   {
    "duration": 263,
    "start_time": "2023-08-20T16:09:08.608Z"
   },
   {
    "duration": 4,
    "start_time": "2023-08-20T16:10:30.563Z"
   },
   {
    "duration": 11,
    "start_time": "2023-08-20T16:10:39.005Z"
   },
   {
    "duration": 5,
    "start_time": "2023-08-20T16:10:54.630Z"
   },
   {
    "duration": 368,
    "start_time": "2023-08-20T16:19:26.893Z"
   },
   {
    "duration": 4,
    "start_time": "2023-08-20T16:19:43.048Z"
   },
   {
    "duration": 4,
    "start_time": "2023-08-20T16:19:50.142Z"
   },
   {
    "duration": 5,
    "start_time": "2023-08-20T16:20:24.543Z"
   },
   {
    "duration": 342,
    "start_time": "2023-08-20T16:26:22.221Z"
   },
   {
    "duration": 394,
    "start_time": "2023-08-20T16:26:37.171Z"
   },
   {
    "duration": 343,
    "start_time": "2023-08-20T16:29:11.617Z"
   },
   {
    "duration": 92136,
    "start_time": "2023-08-20T16:40:07.350Z"
   },
   {
    "duration": 313,
    "start_time": "2023-08-20T16:43:44.765Z"
   },
   {
    "duration": 29,
    "start_time": "2023-08-20T16:44:49.474Z"
   },
   {
    "duration": 117909,
    "start_time": "2023-08-20T16:59:28.074Z"
   },
   {
    "duration": 16,
    "start_time": "2023-08-20T17:04:14.969Z"
   },
   {
    "duration": 418,
    "start_time": "2023-08-20T17:04:45.850Z"
   },
   {
    "duration": 85,
    "start_time": "2023-08-20T17:07:17.481Z"
   },
   {
    "duration": 58614,
    "start_time": "2023-08-20T17:27:51.856Z"
   },
   {
    "duration": 218,
    "start_time": "2023-08-20T17:36:36.011Z"
   },
   {
    "duration": 20,
    "start_time": "2023-08-20T17:37:44.913Z"
   },
   {
    "duration": 22,
    "start_time": "2023-08-20T17:37:52.214Z"
   },
   {
    "duration": 90115,
    "start_time": "2023-08-20T17:43:59.677Z"
   },
   {
    "duration": 353,
    "start_time": "2023-08-20T17:45:45.410Z"
   },
   {
    "duration": 287,
    "start_time": "2023-08-20T17:47:09.773Z"
   },
   {
    "duration": 4,
    "start_time": "2023-08-20T17:52:35.667Z"
   },
   {
    "duration": 2,
    "start_time": "2023-08-20T17:52:37.137Z"
   },
   {
    "duration": 3,
    "start_time": "2023-08-20T17:52:39.416Z"
   },
   {
    "duration": 11,
    "start_time": "2023-08-20T19:29:38.938Z"
   },
   {
    "duration": 9,
    "start_time": "2023-08-20T19:29:48.050Z"
   },
   {
    "duration": 5,
    "start_time": "2023-08-20T19:29:48.755Z"
   },
   {
    "duration": 10,
    "start_time": "2023-08-20T19:29:49.455Z"
   },
   {
    "duration": 22,
    "start_time": "2023-08-20T19:29:54.595Z"
   },
   {
    "duration": 1345,
    "start_time": "2023-08-20T20:18:14.552Z"
   },
   {
    "duration": 6,
    "start_time": "2023-08-20T20:18:15.900Z"
   },
   {
    "duration": 67,
    "start_time": "2023-08-20T20:18:15.908Z"
   },
   {
    "duration": 4,
    "start_time": "2023-08-20T20:18:15.978Z"
   },
   {
    "duration": 22,
    "start_time": "2023-08-20T20:18:15.986Z"
   },
   {
    "duration": 15,
    "start_time": "2023-08-20T20:18:16.015Z"
   },
   {
    "duration": 6,
    "start_time": "2023-08-20T20:18:16.031Z"
   },
   {
    "duration": 71,
    "start_time": "2023-08-20T20:18:16.039Z"
   },
   {
    "duration": 8,
    "start_time": "2023-08-20T20:18:16.113Z"
   },
   {
    "duration": 13,
    "start_time": "2023-08-20T20:18:16.123Z"
   },
   {
    "duration": 45,
    "start_time": "2023-08-20T20:18:16.138Z"
   },
   {
    "duration": 547,
    "start_time": "2023-08-20T20:18:16.185Z"
   },
   {
    "duration": 4,
    "start_time": "2023-08-20T20:18:16.734Z"
   },
   {
    "duration": 8,
    "start_time": "2023-08-20T20:18:16.740Z"
   },
   {
    "duration": 18,
    "start_time": "2023-08-20T20:18:16.750Z"
   },
   {
    "duration": 29,
    "start_time": "2023-08-20T20:18:16.774Z"
   },
   {
    "duration": 13,
    "start_time": "2023-08-20T20:18:16.812Z"
   },
   {
    "duration": 7,
    "start_time": "2023-08-20T20:18:16.827Z"
   },
   {
    "duration": 8,
    "start_time": "2023-08-20T20:18:16.836Z"
   },
   {
    "duration": 70,
    "start_time": "2023-08-20T20:18:16.845Z"
   },
   {
    "duration": 12,
    "start_time": "2023-08-20T20:18:16.923Z"
   },
   {
    "duration": 20,
    "start_time": "2023-08-20T20:18:16.936Z"
   },
   {
    "duration": 97149,
    "start_time": "2023-08-20T20:18:16.958Z"
   },
   {
    "duration": 358,
    "start_time": "2023-08-20T20:19:54.116Z"
   },
   {
    "duration": 85,
    "start_time": "2023-08-20T20:19:54.476Z"
   },
   {
    "duration": 19,
    "start_time": "2023-08-20T20:19:54.564Z"
   },
   {
    "duration": 7,
    "start_time": "2023-08-20T20:19:54.586Z"
   },
   {
    "duration": 16,
    "start_time": "2023-08-20T20:19:54.666Z"
   },
   {
    "duration": 129966,
    "start_time": "2023-08-20T20:19:54.685Z"
   },
   {
    "duration": 435,
    "start_time": "2023-08-20T20:22:04.653Z"
   },
   {
    "duration": 81,
    "start_time": "2023-08-20T20:22:05.091Z"
   },
   {
    "duration": 21,
    "start_time": "2023-08-20T20:22:05.174Z"
   },
   {
    "duration": 34,
    "start_time": "2023-08-20T20:22:05.271Z"
   },
   {
    "duration": 11,
    "start_time": "2023-08-20T20:22:05.311Z"
   },
   {
    "duration": 64676,
    "start_time": "2023-08-20T20:22:05.324Z"
   },
   {
    "duration": 225,
    "start_time": "2023-08-20T20:23:10.003Z"
   },
   {
    "duration": 55,
    "start_time": "2023-08-20T20:23:10.230Z"
   },
   {
    "duration": 98556,
    "start_time": "2023-08-20T20:23:10.287Z"
   },
   {
    "duration": 375,
    "start_time": "2023-08-20T20:24:48.845Z"
   },
   {
    "duration": 52,
    "start_time": "2023-08-20T20:24:49.222Z"
   },
   {
    "duration": 392,
    "start_time": "2023-08-20T20:24:49.276Z"
   },
   {
    "duration": 22,
    "start_time": "2023-08-20T20:24:49.677Z"
   },
   {
    "duration": 63,
    "start_time": "2023-08-20T20:24:49.708Z"
   },
   {
    "duration": 22,
    "start_time": "2023-08-20T20:24:49.786Z"
   },
   {
    "duration": 22,
    "start_time": "2023-08-20T20:24:49.812Z"
   },
   {
    "duration": 2,
    "start_time": "2023-08-20T20:24:49.836Z"
   },
   {
    "duration": 8,
    "start_time": "2023-08-20T20:24:49.840Z"
   }
  ],
  "kernelspec": {
   "display_name": "Python 3 (ipykernel)",
   "language": "python",
   "name": "python3"
  },
  "language_info": {
   "codemirror_mode": {
    "name": "ipython",
    "version": 3
   },
   "file_extension": ".py",
   "mimetype": "text/x-python",
   "name": "python",
   "nbconvert_exporter": "python",
   "pygments_lexer": "ipython3",
   "version": "3.10.13"
  },
  "toc": {
   "base_numbering": 1,
   "nav_menu": {},
   "number_sections": true,
   "sideBar": true,
   "skip_h1_title": true,
   "title_cell": "Содержание",
   "title_sidebar": "Contents",
   "toc_cell": true,
   "toc_position": {
    "height": "calc(100% - 180px)",
    "left": "10px",
    "top": "150px",
    "width": "165px"
   },
   "toc_section_display": true,
   "toc_window_display": true
  }
 },
 "nbformat": 4,
 "nbformat_minor": 2
}
