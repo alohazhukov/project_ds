{
 "cells": [
  {
   "cell_type": "markdown",
   "id": "bc2e5a37",
   "metadata": {},
   "source": [
    "# Сервис аренды самокатов GoFast\n",
    "\n",
    "Вы аналитик популярного сервиса аренды самокатов GoFast. Вам передали данные о некоторых пользователях из нескольких городов, а также об их поездках. Проанализируйте данные и проверьте некоторые гипотезы, которые могут помочь бизнесу вырасти.\n",
    "\n",
    "Чтобы совершать поездки по городу, пользователи сервиса GoFast пользуются мобильным приложением. \n",
    "Сервисом можно пользоваться:\n",
    "\n",
    "\n",
    "    - без подписки\n",
    "        абонентская плата отсутствует;\n",
    "        стоимость одной минуты поездки — 8 рублей;\n",
    "        стоимость старта (начала поездки) — 50 рублей;\n",
    "    - с подпиской Ultra\n",
    "        абонентская плата — 199 рублей в месяц;\n",
    "        стоимость одной минуты поездки — 6 рублей;\n",
    "        стоимость старта — бесплатно.\n",
    "        \n",
    "        \n",
    "Описание данных\n",
    "\n",
    "В основных данных есть информация о пользователях, их поездках и подписках.\n",
    "\n",
    "    -Пользователи — users_go.csv\n",
    "        user_id - уникальный идентификатор пользователя\n",
    "        name - имя пользователя\n",
    "        age - возраст\n",
    "        city - город\n",
    "        subscription_type - тип подписки (free, ultra)\n",
    "\n",
    "    -Поездки — rides_go.csv\n",
    "        user_id - уникальный идентификатор пользователя\n",
    "        distance - расстояние, которое пользователь проехал в текущей сессии (в метрах)\n",
    "        duration - продолжительность сессии (в минутах) — время с того момента, как пользователь нажал кнопку «Начать поездку» до момента, как он нажал кнопку «Завершить поездку»\n",
    "        date - дата совершения поездки\n",
    "\n",
    "    -Подписки — subscriptions_go.csv\n",
    "        subscription_type - тип подписки\n",
    "        minute_price - стоимость одной минуты поездки по данной подписке\n",
    "        start_ride_price - стоимость начала поездки\n",
    "        subscription_fee - стоимость ежемесячного платежа\n",
    "        \n",
    "Наш __план__ - это изучить файлы с данными о пользователях,их поездках и подписке, предобработать их, провести исследовательский анализ, затем проверить ряд гипотез.(подробные таски описаны ниже по ходу проекта)\n"
   ]
  },
  {
   "cell_type": "code",
   "execution_count": null,
   "id": "2968e03c",
   "metadata": {},
   "outputs": [],
   "source": []
  },
  {
   "cell_type": "code",
   "execution_count": 94,
   "id": "a4f44423",
   "metadata": {},
   "outputs": [],
   "source": [
    "# импортируем биб-ки\n",
    "import pandas as pd\n",
    "import matplotlib.pyplot as plt\n",
    "import numpy as np\n",
    "import seaborn as sns\n",
    "from scipy import stats as st\n",
    "\n",
    "import warnings\n",
    "warnings.simplefilter(action='ignore', category=FutureWarning)"
   ]
  },
  {
   "cell_type": "markdown",
   "id": "5d76e9c8",
   "metadata": {},
   "source": [
    "### Шаг 1. Загрузка данных"
   ]
  },
  {
   "cell_type": "markdown",
   "id": "962a77e2",
   "metadata": {},
   "source": [
    "#### Считайте CSV-файлы с данными с помощью библиотеки pandas и сохраните их в датафреймы."
   ]
  },
  {
   "cell_type": "code",
   "execution_count": 2,
   "id": "9b8150e3",
   "metadata": {},
   "outputs": [],
   "source": [
    "try:\n",
    "    data_users = pd.read_csv('/datasets/users_go.csv')\n",
    "    data_rides = pd.read_csv('/datasets/rides_go.csv')\n",
    "    data_sub = pd.read_csv('/datasets/subscriptions_go.csv')\n",
    "except:\n",
    "    data_users = pd.read_csv('/Users/alex/Downloads/users_go.csv')\n",
    "    data_rides = pd.read_csv('/Users/alex/Downloads/rides_go.csv')\n",
    "    data_sub = pd.read_csv('/Users/alex/Downloads/subscriptions_go.csv')"
   ]
  },
  {
   "cell_type": "markdown",
   "id": "f08f9e8c",
   "metadata": {},
   "source": [
    "#### Выведите первые строки каждого набора данных. Изучите общую информацию о каждом датафрейме."
   ]
  },
  {
   "cell_type": "code",
   "execution_count": 3,
   "id": "6a2120a5",
   "metadata": {},
   "outputs": [
    {
     "data": {
      "text/html": [
       "<div>\n",
       "<style scoped>\n",
       "    .dataframe tbody tr th:only-of-type {\n",
       "        vertical-align: middle;\n",
       "    }\n",
       "\n",
       "    .dataframe tbody tr th {\n",
       "        vertical-align: top;\n",
       "    }\n",
       "\n",
       "    .dataframe thead th {\n",
       "        text-align: right;\n",
       "    }\n",
       "</style>\n",
       "<table border=\"1\" class=\"dataframe\">\n",
       "  <thead>\n",
       "    <tr style=\"text-align: right;\">\n",
       "      <th></th>\n",
       "      <th>user_id</th>\n",
       "      <th>name</th>\n",
       "      <th>age</th>\n",
       "      <th>city</th>\n",
       "      <th>subscription_type</th>\n",
       "    </tr>\n",
       "  </thead>\n",
       "  <tbody>\n",
       "    <tr>\n",
       "      <th>0</th>\n",
       "      <td>1</td>\n",
       "      <td>Кира</td>\n",
       "      <td>22</td>\n",
       "      <td>Тюмень</td>\n",
       "      <td>ultra</td>\n",
       "    </tr>\n",
       "    <tr>\n",
       "      <th>1</th>\n",
       "      <td>2</td>\n",
       "      <td>Станислав</td>\n",
       "      <td>31</td>\n",
       "      <td>Омск</td>\n",
       "      <td>ultra</td>\n",
       "    </tr>\n",
       "    <tr>\n",
       "      <th>2</th>\n",
       "      <td>3</td>\n",
       "      <td>Алексей</td>\n",
       "      <td>20</td>\n",
       "      <td>Москва</td>\n",
       "      <td>ultra</td>\n",
       "    </tr>\n",
       "    <tr>\n",
       "      <th>3</th>\n",
       "      <td>4</td>\n",
       "      <td>Константин</td>\n",
       "      <td>26</td>\n",
       "      <td>Ростов-на-Дону</td>\n",
       "      <td>ultra</td>\n",
       "    </tr>\n",
       "    <tr>\n",
       "      <th>4</th>\n",
       "      <td>5</td>\n",
       "      <td>Адель</td>\n",
       "      <td>28</td>\n",
       "      <td>Омск</td>\n",
       "      <td>ultra</td>\n",
       "    </tr>\n",
       "    <tr>\n",
       "      <th>5</th>\n",
       "      <td>6</td>\n",
       "      <td>Регина</td>\n",
       "      <td>25</td>\n",
       "      <td>Краснодар</td>\n",
       "      <td>ultra</td>\n",
       "    </tr>\n",
       "    <tr>\n",
       "      <th>6</th>\n",
       "      <td>7</td>\n",
       "      <td>Игорь</td>\n",
       "      <td>23</td>\n",
       "      <td>Омск</td>\n",
       "      <td>ultra</td>\n",
       "    </tr>\n",
       "    <tr>\n",
       "      <th>7</th>\n",
       "      <td>8</td>\n",
       "      <td>Юрий</td>\n",
       "      <td>23</td>\n",
       "      <td>Краснодар</td>\n",
       "      <td>ultra</td>\n",
       "    </tr>\n",
       "    <tr>\n",
       "      <th>8</th>\n",
       "      <td>9</td>\n",
       "      <td>Ян</td>\n",
       "      <td>21</td>\n",
       "      <td>Пятигорск</td>\n",
       "      <td>ultra</td>\n",
       "    </tr>\n",
       "    <tr>\n",
       "      <th>9</th>\n",
       "      <td>10</td>\n",
       "      <td>Валерий</td>\n",
       "      <td>18</td>\n",
       "      <td>Екатеринбург</td>\n",
       "      <td>ultra</td>\n",
       "    </tr>\n",
       "  </tbody>\n",
       "</table>\n",
       "</div>"
      ],
      "text/plain": [
       "   user_id        name  age            city subscription_type\n",
       "0        1        Кира   22          Тюмень             ultra\n",
       "1        2   Станислав   31            Омск             ultra\n",
       "2        3     Алексей   20          Москва             ultra\n",
       "3        4  Константин   26  Ростов-на-Дону             ultra\n",
       "4        5       Адель   28            Омск             ultra\n",
       "5        6      Регина   25       Краснодар             ultra\n",
       "6        7       Игорь   23            Омск             ultra\n",
       "7        8        Юрий   23       Краснодар             ultra\n",
       "8        9          Ян   21       Пятигорск             ultra\n",
       "9       10     Валерий   18    Екатеринбург             ultra"
      ]
     },
     "execution_count": 3,
     "metadata": {},
     "output_type": "execute_result"
    }
   ],
   "source": [
    "# Для пользователей\n",
    "\n",
    "data_users.head(10)"
   ]
  },
  {
   "cell_type": "code",
   "execution_count": 4,
   "id": "5ec3e862",
   "metadata": {},
   "outputs": [
    {
     "name": "stdout",
     "output_type": "stream",
     "text": [
      "<class 'pandas.core.frame.DataFrame'>\n",
      "RangeIndex: 1565 entries, 0 to 1564\n",
      "Data columns (total 5 columns):\n",
      " #   Column             Non-Null Count  Dtype \n",
      "---  ------             --------------  ----- \n",
      " 0   user_id            1565 non-null   int64 \n",
      " 1   name               1565 non-null   object\n",
      " 2   age                1565 non-null   int64 \n",
      " 3   city               1565 non-null   object\n",
      " 4   subscription_type  1565 non-null   object\n",
      "dtypes: int64(2), object(3)\n",
      "memory usage: 61.3+ KB\n"
     ]
    }
   ],
   "source": [
    "data_users.info()"
   ]
  },
  {
   "cell_type": "code",
   "execution_count": 5,
   "id": "c502c3b0",
   "metadata": {},
   "outputs": [
    {
     "data": {
      "text/plain": [
       "count    1565.000000\n",
       "mean       24.922045\n",
       "std         4.553496\n",
       "min        12.000000\n",
       "25%        22.000000\n",
       "50%        25.000000\n",
       "75%        28.000000\n",
       "max        43.000000\n",
       "Name: age, dtype: float64"
      ]
     },
     "execution_count": 5,
     "metadata": {},
     "output_type": "execute_result"
    }
   ],
   "source": [
    "data_users['age'].describe()"
   ]
  },
  {
   "cell_type": "code",
   "execution_count": 6,
   "id": "4f0aa6d5",
   "metadata": {},
   "outputs": [
    {
     "data": {
      "text/plain": [
       "array(['Тюмень', 'Омск', 'Москва', 'Ростов-на-Дону', 'Краснодар',\n",
       "       'Пятигорск', 'Екатеринбург', 'Сочи'], dtype=object)"
      ]
     },
     "execution_count": 6,
     "metadata": {},
     "output_type": "execute_result"
    }
   ],
   "source": [
    "data_users['city'].unique()"
   ]
  },
  {
   "cell_type": "markdown",
   "id": "09740534",
   "metadata": {},
   "source": [
    "На первый взгляд все ок, нет пропусков, нет \"странных\" городов, отсутсвуют аномальные люди чей возрост был бы 9999 или 0.1 и тд)"
   ]
  },
  {
   "cell_type": "code",
   "execution_count": 7,
   "id": "f805720b",
   "metadata": {},
   "outputs": [
    {
     "data": {
      "text/html": [
       "<div>\n",
       "<style scoped>\n",
       "    .dataframe tbody tr th:only-of-type {\n",
       "        vertical-align: middle;\n",
       "    }\n",
       "\n",
       "    .dataframe tbody tr th {\n",
       "        vertical-align: top;\n",
       "    }\n",
       "\n",
       "    .dataframe thead th {\n",
       "        text-align: right;\n",
       "    }\n",
       "</style>\n",
       "<table border=\"1\" class=\"dataframe\">\n",
       "  <thead>\n",
       "    <tr style=\"text-align: right;\">\n",
       "      <th></th>\n",
       "      <th>user_id</th>\n",
       "      <th>distance</th>\n",
       "      <th>duration</th>\n",
       "      <th>date</th>\n",
       "    </tr>\n",
       "  </thead>\n",
       "  <tbody>\n",
       "    <tr>\n",
       "      <th>0</th>\n",
       "      <td>1</td>\n",
       "      <td>4409.919140</td>\n",
       "      <td>25.599769</td>\n",
       "      <td>2021-01-01</td>\n",
       "    </tr>\n",
       "    <tr>\n",
       "      <th>1</th>\n",
       "      <td>1</td>\n",
       "      <td>2617.592153</td>\n",
       "      <td>15.816871</td>\n",
       "      <td>2021-01-18</td>\n",
       "    </tr>\n",
       "    <tr>\n",
       "      <th>2</th>\n",
       "      <td>1</td>\n",
       "      <td>754.159807</td>\n",
       "      <td>6.232113</td>\n",
       "      <td>2021-04-20</td>\n",
       "    </tr>\n",
       "    <tr>\n",
       "      <th>3</th>\n",
       "      <td>1</td>\n",
       "      <td>2694.783254</td>\n",
       "      <td>18.511000</td>\n",
       "      <td>2021-08-11</td>\n",
       "    </tr>\n",
       "    <tr>\n",
       "      <th>4</th>\n",
       "      <td>1</td>\n",
       "      <td>4028.687306</td>\n",
       "      <td>26.265803</td>\n",
       "      <td>2021-08-28</td>\n",
       "    </tr>\n",
       "    <tr>\n",
       "      <th>5</th>\n",
       "      <td>1</td>\n",
       "      <td>2770.890808</td>\n",
       "      <td>16.650138</td>\n",
       "      <td>2021-10-09</td>\n",
       "    </tr>\n",
       "    <tr>\n",
       "      <th>6</th>\n",
       "      <td>1</td>\n",
       "      <td>3039.020292</td>\n",
       "      <td>14.927879</td>\n",
       "      <td>2021-10-19</td>\n",
       "    </tr>\n",
       "    <tr>\n",
       "      <th>7</th>\n",
       "      <td>1</td>\n",
       "      <td>2842.118050</td>\n",
       "      <td>23.117468</td>\n",
       "      <td>2021-11-06</td>\n",
       "    </tr>\n",
       "    <tr>\n",
       "      <th>8</th>\n",
       "      <td>1</td>\n",
       "      <td>3412.690668</td>\n",
       "      <td>15.238072</td>\n",
       "      <td>2021-11-14</td>\n",
       "    </tr>\n",
       "    <tr>\n",
       "      <th>9</th>\n",
       "      <td>1</td>\n",
       "      <td>748.690645</td>\n",
       "      <td>15.041884</td>\n",
       "      <td>2021-11-22</td>\n",
       "    </tr>\n",
       "  </tbody>\n",
       "</table>\n",
       "</div>"
      ],
      "text/plain": [
       "   user_id     distance   duration        date\n",
       "0        1  4409.919140  25.599769  2021-01-01\n",
       "1        1  2617.592153  15.816871  2021-01-18\n",
       "2        1   754.159807   6.232113  2021-04-20\n",
       "3        1  2694.783254  18.511000  2021-08-11\n",
       "4        1  4028.687306  26.265803  2021-08-28\n",
       "5        1  2770.890808  16.650138  2021-10-09\n",
       "6        1  3039.020292  14.927879  2021-10-19\n",
       "7        1  2842.118050  23.117468  2021-11-06\n",
       "8        1  3412.690668  15.238072  2021-11-14\n",
       "9        1   748.690645  15.041884  2021-11-22"
      ]
     },
     "execution_count": 7,
     "metadata": {},
     "output_type": "execute_result"
    }
   ],
   "source": [
    "# Поездки \n",
    "\n",
    "data_rides.head(10)"
   ]
  },
  {
   "cell_type": "code",
   "execution_count": 8,
   "id": "d907d42a",
   "metadata": {},
   "outputs": [
    {
     "name": "stdout",
     "output_type": "stream",
     "text": [
      "<class 'pandas.core.frame.DataFrame'>\n",
      "RangeIndex: 18068 entries, 0 to 18067\n",
      "Data columns (total 4 columns):\n",
      " #   Column    Non-Null Count  Dtype  \n",
      "---  ------    --------------  -----  \n",
      " 0   user_id   18068 non-null  int64  \n",
      " 1   distance  18068 non-null  float64\n",
      " 2   duration  18068 non-null  float64\n",
      " 3   date      18068 non-null  object \n",
      "dtypes: float64(2), int64(1), object(1)\n",
      "memory usage: 564.8+ KB\n"
     ]
    }
   ],
   "source": [
    "data_rides.info()"
   ]
  },
  {
   "cell_type": "code",
   "execution_count": 9,
   "id": "cf50b810",
   "metadata": {},
   "outputs": [
    {
     "data": {
      "text/plain": [
       "count    18068.000000\n",
       "mean      3070.659976\n",
       "std       1116.831209\n",
       "min          0.855683\n",
       "25%       2543.226360\n",
       "50%       3133.609994\n",
       "75%       3776.222735\n",
       "max       7211.007745\n",
       "Name: distance, dtype: float64"
      ]
     },
     "execution_count": 9,
     "metadata": {},
     "output_type": "execute_result"
    }
   ],
   "source": [
    "data_rides['distance'].describe()"
   ]
  },
  {
   "cell_type": "code",
   "execution_count": 10,
   "id": "01a36bf4",
   "metadata": {},
   "outputs": [
    {
     "data": {
      "text/plain": [
       "count    18068.000000\n",
       "mean        17.805011\n",
       "std          6.091051\n",
       "min          0.500000\n",
       "25%         13.597563\n",
       "50%         17.678395\n",
       "75%         21.724800\n",
       "max         40.823963\n",
       "Name: duration, dtype: float64"
      ]
     },
     "execution_count": 10,
     "metadata": {},
     "output_type": "execute_result"
    }
   ],
   "source": [
    "data_rides['duration'].describe()"
   ]
  },
  {
   "cell_type": "markdown",
   "id": "1fbbd8a8",
   "metadata": {},
   "source": [
    "Вроде все ок, но есть странные/маленькие/аномальные значения - как в преодаленной дистанции так и во времени эксплуатации."
   ]
  },
  {
   "cell_type": "code",
   "execution_count": 11,
   "id": "d61d9afe",
   "metadata": {},
   "outputs": [
    {
     "data": {
      "text/html": [
       "<div>\n",
       "<style scoped>\n",
       "    .dataframe tbody tr th:only-of-type {\n",
       "        vertical-align: middle;\n",
       "    }\n",
       "\n",
       "    .dataframe tbody tr th {\n",
       "        vertical-align: top;\n",
       "    }\n",
       "\n",
       "    .dataframe thead th {\n",
       "        text-align: right;\n",
       "    }\n",
       "</style>\n",
       "<table border=\"1\" class=\"dataframe\">\n",
       "  <thead>\n",
       "    <tr style=\"text-align: right;\">\n",
       "      <th></th>\n",
       "      <th>subscription_type</th>\n",
       "      <th>minute_price</th>\n",
       "      <th>start_ride_price</th>\n",
       "      <th>subscription_fee</th>\n",
       "    </tr>\n",
       "  </thead>\n",
       "  <tbody>\n",
       "    <tr>\n",
       "      <th>0</th>\n",
       "      <td>free</td>\n",
       "      <td>8</td>\n",
       "      <td>50</td>\n",
       "      <td>0</td>\n",
       "    </tr>\n",
       "    <tr>\n",
       "      <th>1</th>\n",
       "      <td>ultra</td>\n",
       "      <td>6</td>\n",
       "      <td>0</td>\n",
       "      <td>199</td>\n",
       "    </tr>\n",
       "  </tbody>\n",
       "</table>\n",
       "</div>"
      ],
      "text/plain": [
       "  subscription_type  minute_price  start_ride_price  subscription_fee\n",
       "0              free             8                50                 0\n",
       "1             ultra             6                 0               199"
      ]
     },
     "execution_count": 11,
     "metadata": {},
     "output_type": "execute_result"
    }
   ],
   "source": [
    "# Подписки\n",
    "\n",
    "data_sub.head()"
   ]
  },
  {
   "cell_type": "code",
   "execution_count": 12,
   "id": "36c38c3e",
   "metadata": {},
   "outputs": [
    {
     "name": "stdout",
     "output_type": "stream",
     "text": [
      "<class 'pandas.core.frame.DataFrame'>\n",
      "RangeIndex: 2 entries, 0 to 1\n",
      "Data columns (total 4 columns):\n",
      " #   Column             Non-Null Count  Dtype \n",
      "---  ------             --------------  ----- \n",
      " 0   subscription_type  2 non-null      object\n",
      " 1   minute_price       2 non-null      int64 \n",
      " 2   start_ride_price   2 non-null      int64 \n",
      " 3   subscription_fee   2 non-null      int64 \n",
      "dtypes: int64(3), object(1)\n",
      "memory usage: 192.0+ bytes\n"
     ]
    }
   ],
   "source": [
    "\n",
    "data_sub.info()"
   ]
  },
  {
   "cell_type": "markdown",
   "id": "064329a8",
   "metadata": {},
   "source": [
    "### Шаг 2. Предобработка данных"
   ]
  },
  {
   "cell_type": "markdown",
   "id": "bc0da93b",
   "metadata": {},
   "source": [
    "#### Приведите столбец date к типу даты pandas."
   ]
  },
  {
   "cell_type": "code",
   "execution_count": 13,
   "id": "b88500c0",
   "metadata": {},
   "outputs": [
    {
     "name": "stdout",
     "output_type": "stream",
     "text": [
      "<class 'pandas.core.frame.DataFrame'>\n",
      "RangeIndex: 18068 entries, 0 to 18067\n",
      "Data columns (total 4 columns):\n",
      " #   Column    Non-Null Count  Dtype  \n",
      "---  ------    --------------  -----  \n",
      " 0   user_id   18068 non-null  int64  \n",
      " 1   distance  18068 non-null  float64\n",
      " 2   duration  18068 non-null  float64\n",
      " 3   date      18068 non-null  object \n",
      "dtypes: float64(2), int64(1), object(1)\n",
      "memory usage: 564.8+ KB\n"
     ]
    }
   ],
   "source": [
    "data_rides.info()"
   ]
  },
  {
   "cell_type": "code",
   "execution_count": 14,
   "id": "ad9fb94f",
   "metadata": {},
   "outputs": [],
   "source": [
    "# Изменим тип данных\n",
    "data_rides['date'] = pd.to_datetime(data_rides['date'])"
   ]
  },
  {
   "cell_type": "code",
   "execution_count": 15,
   "id": "634bfb92",
   "metadata": {},
   "outputs": [
    {
     "name": "stdout",
     "output_type": "stream",
     "text": [
      "<class 'pandas.core.frame.DataFrame'>\n",
      "RangeIndex: 18068 entries, 0 to 18067\n",
      "Data columns (total 4 columns):\n",
      " #   Column    Non-Null Count  Dtype         \n",
      "---  ------    --------------  -----         \n",
      " 0   user_id   18068 non-null  int64         \n",
      " 1   distance  18068 non-null  float64       \n",
      " 2   duration  18068 non-null  float64       \n",
      " 3   date      18068 non-null  datetime64[ns]\n",
      "dtypes: datetime64[ns](1), float64(2), int64(1)\n",
      "memory usage: 564.8 KB\n"
     ]
    }
   ],
   "source": [
    "# Все гуд, едем дальше.\n",
    "data_rides.info()"
   ]
  },
  {
   "cell_type": "markdown",
   "id": "8b2706b5",
   "metadata": {},
   "source": [
    "#### Создайте новый столбец с номером месяца на основе столбца date."
   ]
  },
  {
   "cell_type": "code",
   "execution_count": 16,
   "id": "5bdcf6de",
   "metadata": {},
   "outputs": [],
   "source": [
    "# Создадим новый столбец \"month\"\n",
    "\n",
    "data_rides['month'] = pd.DatetimeIndex(data_rides['date']).month"
   ]
  },
  {
   "cell_type": "code",
   "execution_count": 17,
   "id": "2f3f202e",
   "metadata": {},
   "outputs": [
    {
     "name": "stdout",
     "output_type": "stream",
     "text": [
      "<class 'pandas.core.frame.DataFrame'>\n",
      "RangeIndex: 18068 entries, 0 to 18067\n",
      "Data columns (total 5 columns):\n",
      " #   Column    Non-Null Count  Dtype         \n",
      "---  ------    --------------  -----         \n",
      " 0   user_id   18068 non-null  int64         \n",
      " 1   distance  18068 non-null  float64       \n",
      " 2   duration  18068 non-null  float64       \n",
      " 3   date      18068 non-null  datetime64[ns]\n",
      " 4   month     18068 non-null  int32         \n",
      "dtypes: datetime64[ns](1), float64(2), int32(1), int64(1)\n",
      "memory usage: 635.3 KB\n"
     ]
    }
   ],
   "source": [
    "# все ок\n",
    "\n",
    "data_rides.info()"
   ]
  },
  {
   "cell_type": "code",
   "execution_count": 92,
   "id": "b9f3543b",
   "metadata": {},
   "outputs": [
    {
     "data": {
      "text/plain": [
       "date\n",
       "2021    18068\n",
       "Name: count, dtype: int64"
      ]
     },
     "execution_count": 92,
     "metadata": {},
     "output_type": "execute_result"
    }
   ],
   "source": [
    "# взглянем за какой период у нас данные - (2021)\n",
    "pd.DatetimeIndex(data_rides['date']).year.value_counts()"
   ]
  },
  {
   "cell_type": "markdown",
   "id": "623755f6",
   "metadata": {},
   "source": [
    "\n",
    "#### Проверьте наличие пропущенных значений и дубликатов в датафреймах. Обработайте их, если такие значения присутствуют."
   ]
  },
  {
   "cell_type": "markdown",
   "id": "dc8158a0",
   "metadata": {},
   "source": [
    "##### data_users"
   ]
  },
  {
   "cell_type": "code",
   "execution_count": 19,
   "id": "7618f7f0",
   "metadata": {},
   "outputs": [
    {
     "data": {
      "text/plain": [
       "user_id              0\n",
       "name                 0\n",
       "age                  0\n",
       "city                 0\n",
       "subscription_type    0\n",
       "dtype: int64"
      ]
     },
     "execution_count": 19,
     "metadata": {},
     "output_type": "execute_result"
    }
   ],
   "source": [
    "# Проверим пропуски.\n",
    "data_users.isna().sum()\n",
    "\n",
    "# пропусков нет"
   ]
  },
  {
   "cell_type": "code",
   "execution_count": 20,
   "id": "517df35b",
   "metadata": {},
   "outputs": [
    {
     "data": {
      "text/plain": [
       "31"
      ]
     },
     "execution_count": 20,
     "metadata": {},
     "output_type": "execute_result"
    }
   ],
   "source": [
    "# Дубликаты\n",
    "\n",
    "data_users.duplicated().sum()"
   ]
  },
  {
   "cell_type": "code",
   "execution_count": 21,
   "id": "3f3d98d7",
   "metadata": {},
   "outputs": [
    {
     "data": {
      "text/plain": [
       "1565"
      ]
     },
     "execution_count": 21,
     "metadata": {},
     "output_type": "execute_result"
    }
   ],
   "source": [
    "# глянем длину дф ДО\n",
    "len(data_users)"
   ]
  },
  {
   "cell_type": "code",
   "execution_count": 22,
   "id": "aaf897ac",
   "metadata": {},
   "outputs": [
    {
     "data": {
      "text/plain": [
       "0"
      ]
     },
     "execution_count": 22,
     "metadata": {},
     "output_type": "execute_result"
    }
   ],
   "source": [
    "# Удалим их\n",
    "data_users.drop_duplicates(inplace = True)\n",
    "data_users.duplicated().sum()"
   ]
  },
  {
   "cell_type": "code",
   "execution_count": 23,
   "id": "9dc9c3f0",
   "metadata": {},
   "outputs": [
    {
     "data": {
      "text/plain": [
       "1534"
      ]
     },
     "execution_count": 23,
     "metadata": {},
     "output_type": "execute_result"
    }
   ],
   "source": [
    "# Восстановим индексы и глянем длину ПОСЛЕ удаления\n",
    "data_users.reset_index(drop = True , inplace = True)\n",
    "len(data_users)"
   ]
  },
  {
   "cell_type": "markdown",
   "id": "19e6d60b",
   "metadata": {},
   "source": [
    "##### data_rides"
   ]
  },
  {
   "cell_type": "code",
   "execution_count": 24,
   "id": "913b991a",
   "metadata": {},
   "outputs": [
    {
     "data": {
      "text/plain": [
       "user_id     0\n",
       "distance    0\n",
       "duration    0\n",
       "date        0\n",
       "month       0\n",
       "dtype: int64"
      ]
     },
     "execution_count": 24,
     "metadata": {},
     "output_type": "execute_result"
    }
   ],
   "source": [
    "data_rides.isna().sum()"
   ]
  },
  {
   "cell_type": "code",
   "execution_count": 25,
   "id": "cc3925e3",
   "metadata": {},
   "outputs": [
    {
     "data": {
      "text/plain": [
       "0"
      ]
     },
     "execution_count": 25,
     "metadata": {},
     "output_type": "execute_result"
    }
   ],
   "source": [
    "data_rides.duplicated().sum()\n",
    "\n",
    "# Все ок, перейдем к подпискам"
   ]
  },
  {
   "cell_type": "markdown",
   "id": "574aad22",
   "metadata": {},
   "source": [
    "##### data_sub"
   ]
  },
  {
   "cell_type": "code",
   "execution_count": 26,
   "id": "1777996d",
   "metadata": {},
   "outputs": [
    {
     "data": {
      "text/plain": [
       "subscription_type    0\n",
       "minute_price         0\n",
       "start_ride_price     0\n",
       "subscription_fee     0\n",
       "dtype: int64"
      ]
     },
     "execution_count": 26,
     "metadata": {},
     "output_type": "execute_result"
    }
   ],
   "source": [
    "data_sub.isna().sum()"
   ]
  },
  {
   "cell_type": "code",
   "execution_count": 27,
   "id": "e4fb6257",
   "metadata": {},
   "outputs": [
    {
     "data": {
      "text/plain": [
       "0"
      ]
     },
     "execution_count": 27,
     "metadata": {},
     "output_type": "execute_result"
    }
   ],
   "source": [
    "data_sub.duplicated().sum()"
   ]
  },
  {
   "cell_type": "markdown",
   "id": "f2726a2c",
   "metadata": {},
   "source": [
    "Полностью согласен, видимо я не заметил, что не добавил промежуточный вывод.\n",
    "\n",
    "На данном этапе мы проверили 3 датафрейма на наличие пропусков - пропуски не обнаружены, далее проверили на дубликаты и выявили явные дубликаты, в кол-ве 31 в данных о пользователях, удалили их, длина датафрейма стала меньше ровно на это кол-во, затем перезаписали индексы."
   ]
  },
  {
   "cell_type": "markdown",
   "id": "fefcd03a",
   "metadata": {},
   "source": [
    "### Шаг 3. Исследовательский анализ данных"
   ]
  },
  {
   "cell_type": "markdown",
   "id": "02dbef33",
   "metadata": {},
   "source": [
    "#### Частота встречаемости городов."
   ]
  },
  {
   "cell_type": "code",
   "execution_count": 30,
   "id": "d9eef9cf",
   "metadata": {},
   "outputs": [
    {
     "data": {
      "text/plain": [
       "city\n",
       "Пятигорск         219\n",
       "Екатеринбург      204\n",
       "Ростов-на-Дону    198\n",
       "Краснодар         193\n",
       "Сочи              189\n",
       "Омск              183\n",
       "Тюмень            180\n",
       "Москва            168\n",
       "Name: count, dtype: int64"
      ]
     },
     "execution_count": 30,
     "metadata": {},
     "output_type": "execute_result"
    }
   ],
   "source": [
    "data_users['city'].value_counts()"
   ]
  },
  {
   "cell_type": "code",
   "execution_count": 90,
   "id": "d37a89ee",
   "metadata": {},
   "outputs": [
    {
     "data": {
      "image/png": "[encoded data removed]",
      "text/plain": [
       "<Figure size 1200x500 with 1 Axes>"
      ]
     },
     "metadata": {},
     "output_type": "display_data"
    }
   ],
   "source": [
    "plt.figure(figsize=(12,5))\n",
    "data_users['city'].value_counts().plot(kind = 'barh',\n",
    "                                       title = 'Распределение по городам',\n",
    "                                       xlabel = 'Кол-во',ylabel = 'города')\n",
    "plt.show()"
   ]
  },
  {
   "cell_type": "markdown",
   "id": "0592d7a4",
   "metadata": {},
   "source": [
    "#### Соотношение пользователей с подпиской и без подписки.\n"
   ]
  },
  {
   "cell_type": "code",
   "execution_count": 32,
   "id": "7655e9df",
   "metadata": {},
   "outputs": [
    {
     "data": {
      "text/plain": [
       "subscription_type\n",
       "free     835\n",
       "ultra    699\n",
       "Name: count, dtype: int64"
      ]
     },
     "execution_count": 32,
     "metadata": {},
     "output_type": "execute_result"
    }
   ],
   "source": [
    "data_users['subscription_type'].value_counts()"
   ]
  },
  {
   "cell_type": "code",
   "execution_count": 91,
   "id": "6da5acfa",
   "metadata": {},
   "outputs": [
    {
     "data": {
      "image/png": "[encoded data removed]",
      "text/plain": [
       "<Figure size 1000x1000 with 1 Axes>"
      ]
     },
     "metadata": {},
     "output_type": "display_data"
    }
   ],
   "source": [
    "# Пирог распределения подписок =)\n",
    "\n",
    "data_users['subscription_type'].value_counts().plot(\n",
    "    kind = 'pie',\n",
    "    title = 'Соотношение подписок',\n",
    "    autopct = '%1.0f%%',\n",
    "    wedgeprops = dict(width = 0.65),\n",
    "    startangle = 82,\n",
    "    explode = (0.02, 0),\n",
    "    colors = ['silver', 'orangered'],\n",
    "    figsize = (10, 10))\n",
    "\n",
    "plt.axis('off')\n",
    "plt.show()"
   ]
  },
  {
   "cell_type": "markdown",
   "id": "1cb0ba4f",
   "metadata": {},
   "source": [
    "#### Возраст пользователей."
   ]
  },
  {
   "cell_type": "code",
   "execution_count": 34,
   "id": "a0e16e5a",
   "metadata": {},
   "outputs": [
    {
     "data": {
      "text/plain": [
       "count    1534.000000\n",
       "mean       24.903520\n",
       "std         4.572367\n",
       "min        12.000000\n",
       "25%        22.000000\n",
       "50%        25.000000\n",
       "75%        28.000000\n",
       "max        43.000000\n",
       "Name: age, dtype: float64"
      ]
     },
     "execution_count": 34,
     "metadata": {},
     "output_type": "execute_result"
    }
   ],
   "source": [
    "# распределение возроста\n",
    "data_users['age'].describe()"
   ]
  },
  {
   "cell_type": "code",
   "execution_count": 35,
   "id": "15d8c136",
   "metadata": {
    "scrolled": false
   },
   "outputs": [
    {
     "data": {
      "image/png": "[encoded data removed]",
      "text/plain": [
       "<Figure size 1200x500 with 1 Axes>"
      ]
     },
     "metadata": {},
     "output_type": "display_data"
    },
    {
     "name": "stdout",
     "output_type": "stream",
     "text": [
      "Самый юнный пользователь: 12 лет\n",
      "Самый возростной пользователь: 43 года\n",
      "Средний возрост пользователя: 25 лет\n"
     ]
    }
   ],
   "source": [
    "# Построим график распределения по возросту.\n",
    "\n",
    "plt.figure(figsize = (12, 5))\n",
    "plt.hist(data_users['age'], bins = 30)\n",
    "plt.grid()\n",
    "plt.xlabel('Возраст')\n",
    "plt.ylabel('Количество пользователей')\n",
    "plt.title('Пользователи')\n",
    "plt.show()\n",
    "print(f\"Самый юнный пользователь: {data_users['age'].min()} лет\")\n",
    "print(f\"Самый возростной пользователь: {data_users['age'].max()} года\")\n",
    "print(f\"Средний возрост пользователя: {int(data_users['age'].median())} лет\")"
   ]
  },
  {
   "cell_type": "markdown",
   "id": "a3e85cef",
   "metadata": {},
   "source": [
    "#### Расстояние, которое пользователь преодолел за одну поездку."
   ]
  },
  {
   "cell_type": "code",
   "execution_count": 36,
   "id": "3e25b60f",
   "metadata": {},
   "outputs": [
    {
     "data": {
      "text/html": [
       "<div>\n",
       "<style scoped>\n",
       "    .dataframe tbody tr th:only-of-type {\n",
       "        vertical-align: middle;\n",
       "    }\n",
       "\n",
       "    .dataframe tbody tr th {\n",
       "        vertical-align: top;\n",
       "    }\n",
       "\n",
       "    .dataframe thead th {\n",
       "        text-align: right;\n",
       "    }\n",
       "</style>\n",
       "<table border=\"1\" class=\"dataframe\">\n",
       "  <thead>\n",
       "    <tr style=\"text-align: right;\">\n",
       "      <th></th>\n",
       "      <th>user_id</th>\n",
       "      <th>distance</th>\n",
       "      <th>duration</th>\n",
       "      <th>date</th>\n",
       "      <th>month</th>\n",
       "    </tr>\n",
       "  </thead>\n",
       "  <tbody>\n",
       "    <tr>\n",
       "      <th>7841</th>\n",
       "      <td>796</td>\n",
       "      <td>7.097072</td>\n",
       "      <td>10.026614</td>\n",
       "      <td>2021-11-26</td>\n",
       "      <td>11</td>\n",
       "    </tr>\n",
       "    <tr>\n",
       "      <th>8658</th>\n",
       "      <td>861</td>\n",
       "      <td>6.784447</td>\n",
       "      <td>6.015656</td>\n",
       "      <td>2021-07-21</td>\n",
       "      <td>7</td>\n",
       "    </tr>\n",
       "    <tr>\n",
       "      <th>9541</th>\n",
       "      <td>925</td>\n",
       "      <td>2.570787</td>\n",
       "      <td>3.011018</td>\n",
       "      <td>2021-10-19</td>\n",
       "      <td>10</td>\n",
       "    </tr>\n",
       "    <tr>\n",
       "      <th>11555</th>\n",
       "      <td>1069</td>\n",
       "      <td>0.855683</td>\n",
       "      <td>10.001902</td>\n",
       "      <td>2021-01-31</td>\n",
       "      <td>1</td>\n",
       "    </tr>\n",
       "    <tr>\n",
       "      <th>13690</th>\n",
       "      <td>1223</td>\n",
       "      <td>4.329506</td>\n",
       "      <td>4.008958</td>\n",
       "      <td>2021-05-22</td>\n",
       "      <td>5</td>\n",
       "    </tr>\n",
       "  </tbody>\n",
       "</table>\n",
       "</div>"
      ],
      "text/plain": [
       "       user_id  distance   duration       date  month\n",
       "7841       796  7.097072  10.026614 2021-11-26     11\n",
       "8658       861  6.784447   6.015656 2021-07-21      7\n",
       "9541       925  2.570787   3.011018 2021-10-19     10\n",
       "11555     1069  0.855683  10.001902 2021-01-31      1\n",
       "13690     1223  4.329506   4.008958 2021-05-22      5"
      ]
     },
     "execution_count": 36,
     "metadata": {},
     "output_type": "execute_result"
    }
   ],
   "source": [
    "data_rides.query('distance < 10')"
   ]
  },
  {
   "cell_type": "markdown",
   "id": "caec88b9",
   "metadata": {},
   "source": [
    "Как раз то самое, аномальное значение у пользователя чей id 1069"
   ]
  },
  {
   "cell_type": "code",
   "execution_count": 37,
   "id": "be5b755e",
   "metadata": {},
   "outputs": [
    {
     "data": {
      "text/html": [
       "<div>\n",
       "<style scoped>\n",
       "    .dataframe tbody tr th:only-of-type {\n",
       "        vertical-align: middle;\n",
       "    }\n",
       "\n",
       "    .dataframe tbody tr th {\n",
       "        vertical-align: top;\n",
       "    }\n",
       "\n",
       "    .dataframe thead th {\n",
       "        text-align: right;\n",
       "    }\n",
       "</style>\n",
       "<table border=\"1\" class=\"dataframe\">\n",
       "  <thead>\n",
       "    <tr style=\"text-align: right;\">\n",
       "      <th></th>\n",
       "      <th>user_id</th>\n",
       "      <th>distance</th>\n",
       "      <th>duration</th>\n",
       "      <th>date</th>\n",
       "      <th>month</th>\n",
       "    </tr>\n",
       "  </thead>\n",
       "  <tbody>\n",
       "    <tr>\n",
       "      <th>11554</th>\n",
       "      <td>1069</td>\n",
       "      <td>2950.223566</td>\n",
       "      <td>14.375559</td>\n",
       "      <td>2021-01-07</td>\n",
       "      <td>1</td>\n",
       "    </tr>\n",
       "    <tr>\n",
       "      <th>11555</th>\n",
       "      <td>1069</td>\n",
       "      <td>0.855683</td>\n",
       "      <td>10.001902</td>\n",
       "      <td>2021-01-31</td>\n",
       "      <td>1</td>\n",
       "    </tr>\n",
       "    <tr>\n",
       "      <th>11556</th>\n",
       "      <td>1069</td>\n",
       "      <td>4055.997694</td>\n",
       "      <td>26.382847</td>\n",
       "      <td>2021-01-31</td>\n",
       "      <td>1</td>\n",
       "    </tr>\n",
       "    <tr>\n",
       "      <th>11557</th>\n",
       "      <td>1069</td>\n",
       "      <td>3527.772916</td>\n",
       "      <td>24.242398</td>\n",
       "      <td>2021-02-07</td>\n",
       "      <td>2</td>\n",
       "    </tr>\n",
       "    <tr>\n",
       "      <th>11558</th>\n",
       "      <td>1069</td>\n",
       "      <td>2016.747075</td>\n",
       "      <td>21.083735</td>\n",
       "      <td>2021-03-18</td>\n",
       "      <td>3</td>\n",
       "    </tr>\n",
       "    <tr>\n",
       "      <th>11559</th>\n",
       "      <td>1069</td>\n",
       "      <td>5780.316092</td>\n",
       "      <td>0.500000</td>\n",
       "      <td>2021-04-06</td>\n",
       "      <td>4</td>\n",
       "    </tr>\n",
       "    <tr>\n",
       "      <th>11560</th>\n",
       "      <td>1069</td>\n",
       "      <td>4689.915558</td>\n",
       "      <td>13.822882</td>\n",
       "      <td>2021-04-07</td>\n",
       "      <td>4</td>\n",
       "    </tr>\n",
       "    <tr>\n",
       "      <th>11561</th>\n",
       "      <td>1069</td>\n",
       "      <td>3985.184651</td>\n",
       "      <td>9.970369</td>\n",
       "      <td>2021-04-25</td>\n",
       "      <td>4</td>\n",
       "    </tr>\n",
       "    <tr>\n",
       "      <th>11562</th>\n",
       "      <td>1069</td>\n",
       "      <td>4473.933672</td>\n",
       "      <td>23.174001</td>\n",
       "      <td>2021-05-07</td>\n",
       "      <td>5</td>\n",
       "    </tr>\n",
       "    <tr>\n",
       "      <th>11563</th>\n",
       "      <td>1069</td>\n",
       "      <td>3308.001455</td>\n",
       "      <td>29.267699</td>\n",
       "      <td>2021-05-12</td>\n",
       "      <td>5</td>\n",
       "    </tr>\n",
       "    <tr>\n",
       "      <th>11564</th>\n",
       "      <td>1069</td>\n",
       "      <td>3010.086231</td>\n",
       "      <td>12.600246</td>\n",
       "      <td>2021-05-13</td>\n",
       "      <td>5</td>\n",
       "    </tr>\n",
       "    <tr>\n",
       "      <th>11565</th>\n",
       "      <td>1069</td>\n",
       "      <td>3911.760735</td>\n",
       "      <td>26.352929</td>\n",
       "      <td>2021-06-06</td>\n",
       "      <td>6</td>\n",
       "    </tr>\n",
       "    <tr>\n",
       "      <th>11566</th>\n",
       "      <td>1069</td>\n",
       "      <td>44.016496</td>\n",
       "      <td>13.110041</td>\n",
       "      <td>2021-06-20</td>\n",
       "      <td>6</td>\n",
       "    </tr>\n",
       "    <tr>\n",
       "      <th>11567</th>\n",
       "      <td>1069</td>\n",
       "      <td>3081.659953</td>\n",
       "      <td>13.804743</td>\n",
       "      <td>2021-07-14</td>\n",
       "      <td>7</td>\n",
       "    </tr>\n",
       "    <tr>\n",
       "      <th>11568</th>\n",
       "      <td>1069</td>\n",
       "      <td>2227.552976</td>\n",
       "      <td>16.353324</td>\n",
       "      <td>2021-07-29</td>\n",
       "      <td>7</td>\n",
       "    </tr>\n",
       "    <tr>\n",
       "      <th>11569</th>\n",
       "      <td>1069</td>\n",
       "      <td>2287.264540</td>\n",
       "      <td>17.222941</td>\n",
       "      <td>2021-08-05</td>\n",
       "      <td>8</td>\n",
       "    </tr>\n",
       "    <tr>\n",
       "      <th>11570</th>\n",
       "      <td>1069</td>\n",
       "      <td>2588.422924</td>\n",
       "      <td>24.093241</td>\n",
       "      <td>2021-11-13</td>\n",
       "      <td>11</td>\n",
       "    </tr>\n",
       "    <tr>\n",
       "      <th>11571</th>\n",
       "      <td>1069</td>\n",
       "      <td>2549.593601</td>\n",
       "      <td>19.998566</td>\n",
       "      <td>2021-11-13</td>\n",
       "      <td>11</td>\n",
       "    </tr>\n",
       "  </tbody>\n",
       "</table>\n",
       "</div>"
      ],
      "text/plain": [
       "       user_id     distance   duration       date  month\n",
       "11554     1069  2950.223566  14.375559 2021-01-07      1\n",
       "11555     1069     0.855683  10.001902 2021-01-31      1\n",
       "11556     1069  4055.997694  26.382847 2021-01-31      1\n",
       "11557     1069  3527.772916  24.242398 2021-02-07      2\n",
       "11558     1069  2016.747075  21.083735 2021-03-18      3\n",
       "11559     1069  5780.316092   0.500000 2021-04-06      4\n",
       "11560     1069  4689.915558  13.822882 2021-04-07      4\n",
       "11561     1069  3985.184651   9.970369 2021-04-25      4\n",
       "11562     1069  4473.933672  23.174001 2021-05-07      5\n",
       "11563     1069  3308.001455  29.267699 2021-05-12      5\n",
       "11564     1069  3010.086231  12.600246 2021-05-13      5\n",
       "11565     1069  3911.760735  26.352929 2021-06-06      6\n",
       "11566     1069    44.016496  13.110041 2021-06-20      6\n",
       "11567     1069  3081.659953  13.804743 2021-07-14      7\n",
       "11568     1069  2227.552976  16.353324 2021-07-29      7\n",
       "11569     1069  2287.264540  17.222941 2021-08-05      8\n",
       "11570     1069  2588.422924  24.093241 2021-11-13     11\n",
       "11571     1069  2549.593601  19.998566 2021-11-13     11"
      ]
     },
     "execution_count": 37,
     "metadata": {},
     "output_type": "execute_result"
    }
   ],
   "source": [
    "# глянем на него поближе)\n",
    "data_rides.query('user_id == 1069')"
   ]
  },
  {
   "cell_type": "markdown",
   "id": "7a07210a",
   "metadata": {},
   "source": [
    "Вполне таки активный пользователь, и не понятно, что делать с этой аномалией - ведь это может быть как поломка самоката или просто сел аккум у самоката, и пользователь пытался завершить аренду, но что-то шло не так.... или же просто человек снял его \"как обычно они стоят у всяких тц/магазинов и тд\" и пошел за покупками, а после решил поехать на такси или пойти пешком))\n",
    "\n",
    "Принимаю решение оставить эту аномалию)\n",
    "\n",
    "P.s. мой уважаемый ревьюер, если я не прав, подправим, ведь это может быть и технич сбой и данные как то некорректно добавились в таблицу=))"
   ]
  },
  {
   "cell_type": "code",
   "execution_count": 38,
   "id": "4e4134e8",
   "metadata": {},
   "outputs": [
    {
     "data": {
      "text/plain": [
       "count    18068.000000\n",
       "mean      3070.659976\n",
       "std       1116.831209\n",
       "min          0.855683\n",
       "25%       2543.226360\n",
       "50%       3133.609994\n",
       "75%       3776.222735\n",
       "max       7211.007745\n",
       "Name: distance, dtype: float64"
      ]
     },
     "execution_count": 38,
     "metadata": {},
     "output_type": "execute_result"
    }
   ],
   "source": [
    "data_rides['distance'].describe()"
   ]
  },
  {
   "cell_type": "code",
   "execution_count": 39,
   "id": "5c7f1e17",
   "metadata": {},
   "outputs": [
    {
     "data": {
      "image/png": "[encoded data removed]",
      "text/plain": [
       "<Figure size 1200x500 with 1 Axes>"
      ]
     },
     "metadata": {},
     "output_type": "display_data"
    },
    {
     "name": "stdout",
     "output_type": "stream",
     "text": [
      "Минимальное расстояние: 0.86 \n",
      "Максимальное расстояние: 7211.01 \n",
      "Среднее(медианное) расстояние: 3133.61\n"
     ]
    }
   ],
   "source": [
    "# Построим график по дистанции\n",
    "\n",
    "plt.figure(figsize = (12, 5))\n",
    "plt.hist(data_rides['distance'], bins = 30)\n",
    "plt.grid()\n",
    "plt.xlabel('Расстояние, м')\n",
    "plt.ylabel('Количество поездок')\n",
    "plt.title('Расстояние, которое пользователь проехал в текущей сессии')\n",
    "plt.show()\n",
    "print(f'Минимальное расстояние: {round(data_rides[\"distance\"].min(), 2)} \\nМаксимальное расстояние: {round(data_rides[\"distance\"].max(), 2)} \\nСреднее(медианное) расстояние: {round(data_rides[\"distance\"].median(), 2)}')\n"
   ]
  },
  {
   "cell_type": "code",
   "execution_count": 40,
   "id": "f358a294",
   "metadata": {},
   "outputs": [
    {
     "data": {
      "text/html": [
       "<div>\n",
       "<style scoped>\n",
       "    .dataframe tbody tr th:only-of-type {\n",
       "        vertical-align: middle;\n",
       "    }\n",
       "\n",
       "    .dataframe tbody tr th {\n",
       "        vertical-align: top;\n",
       "    }\n",
       "\n",
       "    .dataframe thead th {\n",
       "        text-align: right;\n",
       "    }\n",
       "</style>\n",
       "<table border=\"1\" class=\"dataframe\">\n",
       "  <thead>\n",
       "    <tr style=\"text-align: right;\">\n",
       "      <th></th>\n",
       "      <th>user_id</th>\n",
       "      <th>distance</th>\n",
       "      <th>duration</th>\n",
       "      <th>date</th>\n",
       "      <th>month</th>\n",
       "    </tr>\n",
       "  </thead>\n",
       "  <tbody>\n",
       "    <tr>\n",
       "      <th>2</th>\n",
       "      <td>1</td>\n",
       "      <td>754.159807</td>\n",
       "      <td>6.232113</td>\n",
       "      <td>2021-04-20</td>\n",
       "      <td>4</td>\n",
       "    </tr>\n",
       "    <tr>\n",
       "      <th>9</th>\n",
       "      <td>1</td>\n",
       "      <td>748.690645</td>\n",
       "      <td>15.041884</td>\n",
       "      <td>2021-11-22</td>\n",
       "      <td>11</td>\n",
       "    </tr>\n",
       "    <tr>\n",
       "      <th>20</th>\n",
       "      <td>2</td>\n",
       "      <td>923.007439</td>\n",
       "      <td>6.914760</td>\n",
       "      <td>2021-08-03</td>\n",
       "      <td>8</td>\n",
       "    </tr>\n",
       "    <tr>\n",
       "      <th>47</th>\n",
       "      <td>4</td>\n",
       "      <td>724.559572</td>\n",
       "      <td>11.811399</td>\n",
       "      <td>2021-11-14</td>\n",
       "      <td>11</td>\n",
       "    </tr>\n",
       "    <tr>\n",
       "      <th>91</th>\n",
       "      <td>9</td>\n",
       "      <td>979.657684</td>\n",
       "      <td>17.521497</td>\n",
       "      <td>2021-03-08</td>\n",
       "      <td>3</td>\n",
       "    </tr>\n",
       "    <tr>\n",
       "      <th>...</th>\n",
       "      <td>...</td>\n",
       "      <td>...</td>\n",
       "      <td>...</td>\n",
       "      <td>...</td>\n",
       "      <td>...</td>\n",
       "    </tr>\n",
       "    <tr>\n",
       "      <th>18030</th>\n",
       "      <td>1532</td>\n",
       "      <td>842.097458</td>\n",
       "      <td>8.608989</td>\n",
       "      <td>2021-04-01</td>\n",
       "      <td>4</td>\n",
       "    </tr>\n",
       "    <tr>\n",
       "      <th>18031</th>\n",
       "      <td>1532</td>\n",
       "      <td>303.787850</td>\n",
       "      <td>7.792490</td>\n",
       "      <td>2021-05-21</td>\n",
       "      <td>5</td>\n",
       "    </tr>\n",
       "    <tr>\n",
       "      <th>18037</th>\n",
       "      <td>1532</td>\n",
       "      <td>662.468186</td>\n",
       "      <td>9.528773</td>\n",
       "      <td>2021-11-18</td>\n",
       "      <td>11</td>\n",
       "    </tr>\n",
       "    <tr>\n",
       "      <th>18043</th>\n",
       "      <td>1533</td>\n",
       "      <td>310.488247</td>\n",
       "      <td>10.642389</td>\n",
       "      <td>2021-02-21</td>\n",
       "      <td>2</td>\n",
       "    </tr>\n",
       "    <tr>\n",
       "      <th>18058</th>\n",
       "      <td>1534</td>\n",
       "      <td>195.447469</td>\n",
       "      <td>6.469074</td>\n",
       "      <td>2021-06-11</td>\n",
       "      <td>6</td>\n",
       "    </tr>\n",
       "  </tbody>\n",
       "</table>\n",
       "<p>1372 rows × 5 columns</p>\n",
       "</div>"
      ],
      "text/plain": [
       "       user_id    distance   duration       date  month\n",
       "2            1  754.159807   6.232113 2021-04-20      4\n",
       "9            1  748.690645  15.041884 2021-11-22     11\n",
       "20           2  923.007439   6.914760 2021-08-03      8\n",
       "47           4  724.559572  11.811399 2021-11-14     11\n",
       "91           9  979.657684  17.521497 2021-03-08      3\n",
       "...        ...         ...        ...        ...    ...\n",
       "18030     1532  842.097458   8.608989 2021-04-01      4\n",
       "18031     1532  303.787850   7.792490 2021-05-21      5\n",
       "18037     1532  662.468186   9.528773 2021-11-18     11\n",
       "18043     1533  310.488247  10.642389 2021-02-21      2\n",
       "18058     1534  195.447469   6.469074 2021-06-11      6\n",
       "\n",
       "[1372 rows x 5 columns]"
      ]
     },
     "execution_count": 40,
     "metadata": {},
     "output_type": "execute_result"
    }
   ],
   "source": [
    "data_rides.query('distance < 1000')"
   ]
  },
  {
   "cell_type": "markdown",
   "id": "d418e2b6",
   "metadata": {},
   "source": [
    "Заметно 2 пиковых значения, вероятно связано с тем, что люди порой берут в аренду самокат, просто чтобы условно доехать до метро, ближайшего магазина, или наоборот от метро до дома и тд, да и много вариантов можно предположить))"
   ]
  },
  {
   "cell_type": "markdown",
   "id": "c27c1480",
   "metadata": {},
   "source": [
    "#### Продолжительность поездок."
   ]
  },
  {
   "cell_type": "markdown",
   "id": "c3ca76bc",
   "metadata": {},
   "source": [
    "Как мы заметили ранее, со временем тоже были аномальные значения"
   ]
  },
  {
   "cell_type": "code",
   "execution_count": 41,
   "id": "e4e5028d",
   "metadata": {},
   "outputs": [
    {
     "data": {
      "text/html": [
       "<div>\n",
       "<style scoped>\n",
       "    .dataframe tbody tr th:only-of-type {\n",
       "        vertical-align: middle;\n",
       "    }\n",
       "\n",
       "    .dataframe tbody tr th {\n",
       "        vertical-align: top;\n",
       "    }\n",
       "\n",
       "    .dataframe thead th {\n",
       "        text-align: right;\n",
       "    }\n",
       "</style>\n",
       "<table border=\"1\" class=\"dataframe\">\n",
       "  <thead>\n",
       "    <tr style=\"text-align: right;\">\n",
       "      <th></th>\n",
       "      <th>user_id</th>\n",
       "      <th>distance</th>\n",
       "      <th>duration</th>\n",
       "      <th>date</th>\n",
       "      <th>month</th>\n",
       "    </tr>\n",
       "  </thead>\n",
       "  <tbody>\n",
       "    <tr>\n",
       "      <th>0</th>\n",
       "      <td>1</td>\n",
       "      <td>4409.919140</td>\n",
       "      <td>25.599769</td>\n",
       "      <td>2021-01-01</td>\n",
       "      <td>1</td>\n",
       "    </tr>\n",
       "    <tr>\n",
       "      <th>4</th>\n",
       "      <td>1</td>\n",
       "      <td>4028.687306</td>\n",
       "      <td>26.265803</td>\n",
       "      <td>2021-08-28</td>\n",
       "      <td>8</td>\n",
       "    </tr>\n",
       "    <tr>\n",
       "      <th>10</th>\n",
       "      <td>1</td>\n",
       "      <td>4031.020195</td>\n",
       "      <td>17.674448</td>\n",
       "      <td>2021-12-14</td>\n",
       "      <td>12</td>\n",
       "    </tr>\n",
       "    <tr>\n",
       "      <th>14</th>\n",
       "      <td>2</td>\n",
       "      <td>4029.116927</td>\n",
       "      <td>25.109188</td>\n",
       "      <td>2021-03-23</td>\n",
       "      <td>3</td>\n",
       "    </tr>\n",
       "    <tr>\n",
       "      <th>32</th>\n",
       "      <td>3</td>\n",
       "      <td>5335.212090</td>\n",
       "      <td>25.848038</td>\n",
       "      <td>2021-07-14</td>\n",
       "      <td>7</td>\n",
       "    </tr>\n",
       "    <tr>\n",
       "      <th>...</th>\n",
       "      <td>...</td>\n",
       "      <td>...</td>\n",
       "      <td>...</td>\n",
       "      <td>...</td>\n",
       "      <td>...</td>\n",
       "    </tr>\n",
       "    <tr>\n",
       "      <th>18034</th>\n",
       "      <td>1532</td>\n",
       "      <td>4602.642357</td>\n",
       "      <td>32.013212</td>\n",
       "      <td>2021-08-21</td>\n",
       "      <td>8</td>\n",
       "    </tr>\n",
       "    <tr>\n",
       "      <th>18040</th>\n",
       "      <td>1532</td>\n",
       "      <td>4551.698449</td>\n",
       "      <td>31.007839</td>\n",
       "      <td>2021-12-21</td>\n",
       "      <td>12</td>\n",
       "    </tr>\n",
       "    <tr>\n",
       "      <th>18053</th>\n",
       "      <td>1533</td>\n",
       "      <td>4581.943632</td>\n",
       "      <td>21.163887</td>\n",
       "      <td>2021-08-27</td>\n",
       "      <td>8</td>\n",
       "    </tr>\n",
       "    <tr>\n",
       "      <th>18055</th>\n",
       "      <td>1534</td>\n",
       "      <td>4678.415899</td>\n",
       "      <td>15.228198</td>\n",
       "      <td>2021-01-20</td>\n",
       "      <td>1</td>\n",
       "    </tr>\n",
       "    <tr>\n",
       "      <th>18062</th>\n",
       "      <td>1534</td>\n",
       "      <td>4928.173852</td>\n",
       "      <td>22.560373</td>\n",
       "      <td>2021-09-13</td>\n",
       "      <td>9</td>\n",
       "    </tr>\n",
       "  </tbody>\n",
       "</table>\n",
       "<p>3478 rows × 5 columns</p>\n",
       "</div>"
      ],
      "text/plain": [
       "       user_id     distance   duration       date  month\n",
       "0            1  4409.919140  25.599769 2021-01-01      1\n",
       "4            1  4028.687306  26.265803 2021-08-28      8\n",
       "10           1  4031.020195  17.674448 2021-12-14     12\n",
       "14           2  4029.116927  25.109188 2021-03-23      3\n",
       "32           3  5335.212090  25.848038 2021-07-14      7\n",
       "...        ...          ...        ...        ...    ...\n",
       "18034     1532  4602.642357  32.013212 2021-08-21      8\n",
       "18040     1532  4551.698449  31.007839 2021-12-21     12\n",
       "18053     1533  4581.943632  21.163887 2021-08-27      8\n",
       "18055     1534  4678.415899  15.228198 2021-01-20      1\n",
       "18062     1534  4928.173852  22.560373 2021-09-13      9\n",
       "\n",
       "[3478 rows x 5 columns]"
      ]
     },
     "execution_count": 41,
     "metadata": {},
     "output_type": "execute_result"
    }
   ],
   "source": [
    "data_rides.query('distance > 4000')\n",
    "\n",
    "# просто изучаю время-расстояние"
   ]
  },
  {
   "cell_type": "code",
   "execution_count": 42,
   "id": "b01150fc",
   "metadata": {},
   "outputs": [
    {
     "data": {
      "text/html": [
       "<div>\n",
       "<style scoped>\n",
       "    .dataframe tbody tr th:only-of-type {\n",
       "        vertical-align: middle;\n",
       "    }\n",
       "\n",
       "    .dataframe tbody tr th {\n",
       "        vertical-align: top;\n",
       "    }\n",
       "\n",
       "    .dataframe thead th {\n",
       "        text-align: right;\n",
       "    }\n",
       "</style>\n",
       "<table border=\"1\" class=\"dataframe\">\n",
       "  <thead>\n",
       "    <tr style=\"text-align: right;\">\n",
       "      <th></th>\n",
       "      <th>user_id</th>\n",
       "      <th>distance</th>\n",
       "      <th>duration</th>\n",
       "      <th>date</th>\n",
       "      <th>month</th>\n",
       "    </tr>\n",
       "  </thead>\n",
       "  <tbody>\n",
       "    <tr>\n",
       "      <th>10341</th>\n",
       "      <td>981</td>\n",
       "      <td>6671.969833</td>\n",
       "      <td>27.297078</td>\n",
       "      <td>2021-12-06</td>\n",
       "      <td>12</td>\n",
       "    </tr>\n",
       "    <tr>\n",
       "      <th>10915</th>\n",
       "      <td>1022</td>\n",
       "      <td>6535.386520</td>\n",
       "      <td>30.008799</td>\n",
       "      <td>2021-10-14</td>\n",
       "      <td>10</td>\n",
       "    </tr>\n",
       "    <tr>\n",
       "      <th>11319</th>\n",
       "      <td>1052</td>\n",
       "      <td>6503.600402</td>\n",
       "      <td>26.008309</td>\n",
       "      <td>2021-07-01</td>\n",
       "      <td>7</td>\n",
       "    </tr>\n",
       "    <tr>\n",
       "      <th>11385</th>\n",
       "      <td>1057</td>\n",
       "      <td>6601.197575</td>\n",
       "      <td>0.500000</td>\n",
       "      <td>2021-02-07</td>\n",
       "      <td>2</td>\n",
       "    </tr>\n",
       "    <tr>\n",
       "      <th>12086</th>\n",
       "      <td>1108</td>\n",
       "      <td>6538.937375</td>\n",
       "      <td>29.649276</td>\n",
       "      <td>2021-09-27</td>\n",
       "      <td>9</td>\n",
       "    </tr>\n",
       "    <tr>\n",
       "      <th>15580</th>\n",
       "      <td>1361</td>\n",
       "      <td>6908.491343</td>\n",
       "      <td>23.816983</td>\n",
       "      <td>2021-03-27</td>\n",
       "      <td>3</td>\n",
       "    </tr>\n",
       "    <tr>\n",
       "      <th>16309</th>\n",
       "      <td>1411</td>\n",
       "      <td>7211.007745</td>\n",
       "      <td>0.500000</td>\n",
       "      <td>2021-04-15</td>\n",
       "      <td>4</td>\n",
       "    </tr>\n",
       "    <tr>\n",
       "      <th>16484</th>\n",
       "      <td>1422</td>\n",
       "      <td>7066.003772</td>\n",
       "      <td>23.619318</td>\n",
       "      <td>2021-02-12</td>\n",
       "      <td>2</td>\n",
       "    </tr>\n",
       "    <tr>\n",
       "      <th>17171</th>\n",
       "      <td>1471</td>\n",
       "      <td>6760.940067</td>\n",
       "      <td>32.043760</td>\n",
       "      <td>2021-08-03</td>\n",
       "      <td>8</td>\n",
       "    </tr>\n",
       "    <tr>\n",
       "      <th>17242</th>\n",
       "      <td>1477</td>\n",
       "      <td>6724.932981</td>\n",
       "      <td>0.500000</td>\n",
       "      <td>2021-01-12</td>\n",
       "      <td>1</td>\n",
       "    </tr>\n",
       "  </tbody>\n",
       "</table>\n",
       "</div>"
      ],
      "text/plain": [
       "       user_id     distance   duration       date  month\n",
       "10341      981  6671.969833  27.297078 2021-12-06     12\n",
       "10915     1022  6535.386520  30.008799 2021-10-14     10\n",
       "11319     1052  6503.600402  26.008309 2021-07-01      7\n",
       "11385     1057  6601.197575   0.500000 2021-02-07      2\n",
       "12086     1108  6538.937375  29.649276 2021-09-27      9\n",
       "15580     1361  6908.491343  23.816983 2021-03-27      3\n",
       "16309     1411  7211.007745   0.500000 2021-04-15      4\n",
       "16484     1422  7066.003772  23.619318 2021-02-12      2\n",
       "17171     1471  6760.940067  32.043760 2021-08-03      8\n",
       "17242     1477  6724.932981   0.500000 2021-01-12      1"
      ]
     },
     "execution_count": 42,
     "metadata": {},
     "output_type": "execute_result"
    }
   ],
   "source": [
    "data_rides.query('distance > 6500')\n",
    "\n",
    "# просто изучаю время-расстояние"
   ]
  },
  {
   "cell_type": "code",
   "execution_count": 43,
   "id": "c76e2076",
   "metadata": {},
   "outputs": [
    {
     "data": {
      "text/html": [
       "<div>\n",
       "<style scoped>\n",
       "    .dataframe tbody tr th:only-of-type {\n",
       "        vertical-align: middle;\n",
       "    }\n",
       "\n",
       "    .dataframe tbody tr th {\n",
       "        vertical-align: top;\n",
       "    }\n",
       "\n",
       "    .dataframe thead th {\n",
       "        text-align: right;\n",
       "    }\n",
       "</style>\n",
       "<table border=\"1\" class=\"dataframe\">\n",
       "  <thead>\n",
       "    <tr style=\"text-align: right;\">\n",
       "      <th></th>\n",
       "      <th>user_id</th>\n",
       "      <th>distance</th>\n",
       "      <th>duration</th>\n",
       "      <th>date</th>\n",
       "      <th>month</th>\n",
       "    </tr>\n",
       "  </thead>\n",
       "  <tbody>\n",
       "    <tr>\n",
       "      <th>6531</th>\n",
       "      <td>701</td>\n",
       "      <td>4196.445201</td>\n",
       "      <td>0.5</td>\n",
       "      <td>2021-08-31</td>\n",
       "      <td>8</td>\n",
       "    </tr>\n",
       "    <tr>\n",
       "      <th>6570</th>\n",
       "      <td>704</td>\n",
       "      <td>4830.824371</td>\n",
       "      <td>0.5</td>\n",
       "      <td>2021-10-14</td>\n",
       "      <td>10</td>\n",
       "    </tr>\n",
       "    <tr>\n",
       "      <th>6680</th>\n",
       "      <td>712</td>\n",
       "      <td>4684.004397</td>\n",
       "      <td>0.5</td>\n",
       "      <td>2021-03-04</td>\n",
       "      <td>3</td>\n",
       "    </tr>\n",
       "    <tr>\n",
       "      <th>6695</th>\n",
       "      <td>713</td>\n",
       "      <td>5215.642710</td>\n",
       "      <td>0.5</td>\n",
       "      <td>2021-02-25</td>\n",
       "      <td>2</td>\n",
       "    </tr>\n",
       "    <tr>\n",
       "      <th>6768</th>\n",
       "      <td>718</td>\n",
       "      <td>5197.436649</td>\n",
       "      <td>0.5</td>\n",
       "      <td>2021-02-11</td>\n",
       "      <td>2</td>\n",
       "    </tr>\n",
       "    <tr>\n",
       "      <th>...</th>\n",
       "      <td>...</td>\n",
       "      <td>...</td>\n",
       "      <td>...</td>\n",
       "      <td>...</td>\n",
       "      <td>...</td>\n",
       "    </tr>\n",
       "    <tr>\n",
       "      <th>17004</th>\n",
       "      <td>1460</td>\n",
       "      <td>5531.335845</td>\n",
       "      <td>0.5</td>\n",
       "      <td>2021-01-19</td>\n",
       "      <td>1</td>\n",
       "    </tr>\n",
       "    <tr>\n",
       "      <th>17242</th>\n",
       "      <td>1477</td>\n",
       "      <td>6724.932981</td>\n",
       "      <td>0.5</td>\n",
       "      <td>2021-01-12</td>\n",
       "      <td>1</td>\n",
       "    </tr>\n",
       "    <tr>\n",
       "      <th>17314</th>\n",
       "      <td>1483</td>\n",
       "      <td>4445.481070</td>\n",
       "      <td>0.5</td>\n",
       "      <td>2021-03-06</td>\n",
       "      <td>3</td>\n",
       "    </tr>\n",
       "    <tr>\n",
       "      <th>17505</th>\n",
       "      <td>1496</td>\n",
       "      <td>5722.551787</td>\n",
       "      <td>0.5</td>\n",
       "      <td>2021-02-14</td>\n",
       "      <td>2</td>\n",
       "    </tr>\n",
       "    <tr>\n",
       "      <th>17909</th>\n",
       "      <td>1524</td>\n",
       "      <td>4103.998874</td>\n",
       "      <td>0.5</td>\n",
       "      <td>2021-06-18</td>\n",
       "      <td>6</td>\n",
       "    </tr>\n",
       "  </tbody>\n",
       "</table>\n",
       "<p>95 rows × 5 columns</p>\n",
       "</div>"
      ],
      "text/plain": [
       "       user_id     distance  duration       date  month\n",
       "6531       701  4196.445201       0.5 2021-08-31      8\n",
       "6570       704  4830.824371       0.5 2021-10-14     10\n",
       "6680       712  4684.004397       0.5 2021-03-04      3\n",
       "6695       713  5215.642710       0.5 2021-02-25      2\n",
       "6768       718  5197.436649       0.5 2021-02-11      2\n",
       "...        ...          ...       ...        ...    ...\n",
       "17004     1460  5531.335845       0.5 2021-01-19      1\n",
       "17242     1477  6724.932981       0.5 2021-01-12      1\n",
       "17314     1483  4445.481070       0.5 2021-03-06      3\n",
       "17505     1496  5722.551787       0.5 2021-02-14      2\n",
       "17909     1524  4103.998874       0.5 2021-06-18      6\n",
       "\n",
       "[95 rows x 5 columns]"
      ]
     },
     "execution_count": 43,
     "metadata": {},
     "output_type": "execute_result"
    }
   ],
   "source": [
    "data_rides.query('duration < 1')\n",
    "\n",
    "# Целых 95 строк со значнием меньше минуты, при этом дистанции большие. Это явно какой то сбой."
   ]
  },
  {
   "cell_type": "markdown",
   "id": "89e59e72",
   "metadata": {},
   "source": [
    "На глаз уже заметно, что есть значения дистанции, как около 4000 метров, так и почти 7000 метров.\n",
    "\n",
    "Нужно исправлять этих гонщиков)Погуглив, выяснил, что средняя скорость самокатов около __20 км/ч__, поэтому умножим наше сломанное время на __50.__ -  мы получим правдивую картину,для расстояния около 4000 метров будет похожие 25 мин, как и для дистанции близкой к 7000 будет тоже допустимые 25 мин. \n",
    "\n",
    "Т.к. если мы умножим на меньшее число, мы получим на выходе очень быстрые самокаты, а у нас они все же арендные, а не гоночно-чипованные))"
   ]
  },
  {
   "cell_type": "code",
   "execution_count": 44,
   "id": "711ae78e",
   "metadata": {},
   "outputs": [],
   "source": [
    "broken_riders = data_rides.query('duration < 1').index\n",
    "data_rides.loc[broken_riders, 'duration'] = data_rides.loc[broken_riders, 'duration'] * 50"
   ]
  },
  {
   "cell_type": "code",
   "execution_count": 45,
   "id": "a5b15819",
   "metadata": {},
   "outputs": [
    {
     "data": {
      "text/plain": [
       "count    18068.000000\n",
       "mean        17.933830\n",
       "std          5.981796\n",
       "min          2.035632\n",
       "25%         13.697117\n",
       "50%         17.750643\n",
       "75%         21.824361\n",
       "max         40.823963\n",
       "Name: duration, dtype: float64"
      ]
     },
     "execution_count": 45,
     "metadata": {},
     "output_type": "execute_result"
    }
   ],
   "source": [
    "data_rides['duration'].describe()\n",
    "\n",
    "# Вроде картина стала получше) едем дальше."
   ]
  },
  {
   "cell_type": "code",
   "execution_count": 46,
   "id": "363857f9",
   "metadata": {},
   "outputs": [
    {
     "data": {
      "image/png": "[encoded data removed]",
      "text/plain": [
       "<Figure size 1200x500 with 1 Axes>"
      ]
     },
     "metadata": {},
     "output_type": "display_data"
    },
    {
     "name": "stdout",
     "output_type": "stream",
     "text": [
      "Минимальное время аренды: 2 мин.\n",
      "Максимальное время аренды: 41 мин.\n",
      "Среднее(медианное) время аренды : 18 мин.\n"
     ]
    }
   ],
   "source": [
    "# Построим график по времени аренды\n",
    "\n",
    "plt.figure(figsize = (12, 5))\n",
    "plt.hist(data_rides['duration'], bins = 50)\n",
    "plt.grid()\n",
    "plt.xlabel('Время')\n",
    "plt.ylabel('Количество поездок')\n",
    "plt.title('Продолжительность сессии')\n",
    "plt.show()\n",
    "print(f\"Минимальное время аренды: {round(data_rides['duration'].min())} мин.\")\n",
    "print(f\"Максимальное время аренды: {round(data_rides['duration'].max())} мин.\")\n",
    "print(f\"Среднее(медианное) время аренды : {round(data_rides['duration'].median())} мин.\")"
   ]
  },
  {
   "cell_type": "markdown",
   "id": "4c0eaa1f",
   "metadata": {},
   "source": [
    "__ВЫВОД__    \n",
    "    \n",
    "    \n",
    "    Изучив данные можно сделать следующие промежуточные выводы :\n",
    "         \n",
    "- Расспределение по частоте аренды самокатов в городах - приблезительно одинаковое. Лидер среди городов - Пятигорск в нем арендовали самокат 219 раз, закрывает этот список - Москва, арендовали 168 раз.\n",
    "- Доля пользователей без подписки немного больше чем с подпиской. Соотношение 54% / 46%\n",
    "- Люди чей возраст от 20 до 30 лет - самые часто встречаемые пользователи. Также встречаются совсем юнные пользователи чей возраст ~ 13 лет, а так же встречаются более взрослые люди, чей возрост ~ 42 года.\n",
    "- Среднее расстояние поездки состовляет около 3000 метров, хотя и езда на короткие дистанции тоже пользуется популярностью.\n",
    "- Среднее время эксплуатации самоката составляет ~ 17 - 18 минут."
   ]
  },
  {
   "cell_type": "code",
   "execution_count": null,
   "id": "377b0300",
   "metadata": {},
   "outputs": [],
   "source": []
  },
  {
   "cell_type": "markdown",
   "id": "30eefacc",
   "metadata": {},
   "source": [
    "### Шаг 4. Объединение данных"
   ]
  },
  {
   "cell_type": "markdown",
   "id": "bf6b913a",
   "metadata": {},
   "source": [
    "#### Объедините данные о пользователях, поездках и подписках в один датафрейм. Для этого воспользуйтесь методом merge()."
   ]
  },
  {
   "cell_type": "code",
   "execution_count": 47,
   "id": "b5678649",
   "metadata": {},
   "outputs": [
    {
     "data": {
      "text/plain": [
       "1534"
      ]
     },
     "execution_count": 47,
     "metadata": {},
     "output_type": "execute_result"
    }
   ],
   "source": [
    "len(data_users)"
   ]
  },
  {
   "cell_type": "code",
   "execution_count": 48,
   "id": "c192c133",
   "metadata": {},
   "outputs": [
    {
     "data": {
      "text/html": [
       "<div>\n",
       "<style scoped>\n",
       "    .dataframe tbody tr th:only-of-type {\n",
       "        vertical-align: middle;\n",
       "    }\n",
       "\n",
       "    .dataframe tbody tr th {\n",
       "        vertical-align: top;\n",
       "    }\n",
       "\n",
       "    .dataframe thead th {\n",
       "        text-align: right;\n",
       "    }\n",
       "</style>\n",
       "<table border=\"1\" class=\"dataframe\">\n",
       "  <thead>\n",
       "    <tr style=\"text-align: right;\">\n",
       "      <th></th>\n",
       "      <th>user_id</th>\n",
       "      <th>name</th>\n",
       "      <th>age</th>\n",
       "      <th>city</th>\n",
       "      <th>subscription_type</th>\n",
       "      <th>distance</th>\n",
       "      <th>duration</th>\n",
       "      <th>date</th>\n",
       "      <th>month</th>\n",
       "      <th>minute_price</th>\n",
       "      <th>start_ride_price</th>\n",
       "      <th>subscription_fee</th>\n",
       "    </tr>\n",
       "  </thead>\n",
       "  <tbody>\n",
       "    <tr>\n",
       "      <th>0</th>\n",
       "      <td>1</td>\n",
       "      <td>Кира</td>\n",
       "      <td>22</td>\n",
       "      <td>Тюмень</td>\n",
       "      <td>ultra</td>\n",
       "      <td>4409.919140</td>\n",
       "      <td>25.599769</td>\n",
       "      <td>2021-01-01</td>\n",
       "      <td>1</td>\n",
       "      <td>6</td>\n",
       "      <td>0</td>\n",
       "      <td>199</td>\n",
       "    </tr>\n",
       "    <tr>\n",
       "      <th>1</th>\n",
       "      <td>1</td>\n",
       "      <td>Кира</td>\n",
       "      <td>22</td>\n",
       "      <td>Тюмень</td>\n",
       "      <td>ultra</td>\n",
       "      <td>2617.592153</td>\n",
       "      <td>15.816871</td>\n",
       "      <td>2021-01-18</td>\n",
       "      <td>1</td>\n",
       "      <td>6</td>\n",
       "      <td>0</td>\n",
       "      <td>199</td>\n",
       "    </tr>\n",
       "    <tr>\n",
       "      <th>2</th>\n",
       "      <td>1</td>\n",
       "      <td>Кира</td>\n",
       "      <td>22</td>\n",
       "      <td>Тюмень</td>\n",
       "      <td>ultra</td>\n",
       "      <td>754.159807</td>\n",
       "      <td>6.232113</td>\n",
       "      <td>2021-04-20</td>\n",
       "      <td>4</td>\n",
       "      <td>6</td>\n",
       "      <td>0</td>\n",
       "      <td>199</td>\n",
       "    </tr>\n",
       "    <tr>\n",
       "      <th>3</th>\n",
       "      <td>1</td>\n",
       "      <td>Кира</td>\n",
       "      <td>22</td>\n",
       "      <td>Тюмень</td>\n",
       "      <td>ultra</td>\n",
       "      <td>2694.783254</td>\n",
       "      <td>18.511000</td>\n",
       "      <td>2021-08-11</td>\n",
       "      <td>8</td>\n",
       "      <td>6</td>\n",
       "      <td>0</td>\n",
       "      <td>199</td>\n",
       "    </tr>\n",
       "    <tr>\n",
       "      <th>4</th>\n",
       "      <td>1</td>\n",
       "      <td>Кира</td>\n",
       "      <td>22</td>\n",
       "      <td>Тюмень</td>\n",
       "      <td>ultra</td>\n",
       "      <td>4028.687306</td>\n",
       "      <td>26.265803</td>\n",
       "      <td>2021-08-28</td>\n",
       "      <td>8</td>\n",
       "      <td>6</td>\n",
       "      <td>0</td>\n",
       "      <td>199</td>\n",
       "    </tr>\n",
       "    <tr>\n",
       "      <th>...</th>\n",
       "      <td>...</td>\n",
       "      <td>...</td>\n",
       "      <td>...</td>\n",
       "      <td>...</td>\n",
       "      <td>...</td>\n",
       "      <td>...</td>\n",
       "      <td>...</td>\n",
       "      <td>...</td>\n",
       "      <td>...</td>\n",
       "      <td>...</td>\n",
       "      <td>...</td>\n",
       "      <td>...</td>\n",
       "    </tr>\n",
       "    <tr>\n",
       "      <th>18063</th>\n",
       "      <td>1534</td>\n",
       "      <td>Альберт</td>\n",
       "      <td>25</td>\n",
       "      <td>Краснодар</td>\n",
       "      <td>free</td>\n",
       "      <td>3781.098080</td>\n",
       "      <td>19.822962</td>\n",
       "      <td>2021-11-04</td>\n",
       "      <td>11</td>\n",
       "      <td>8</td>\n",
       "      <td>50</td>\n",
       "      <td>0</td>\n",
       "    </tr>\n",
       "    <tr>\n",
       "      <th>18064</th>\n",
       "      <td>1534</td>\n",
       "      <td>Альберт</td>\n",
       "      <td>25</td>\n",
       "      <td>Краснодар</td>\n",
       "      <td>free</td>\n",
       "      <td>2840.423057</td>\n",
       "      <td>21.409799</td>\n",
       "      <td>2021-11-16</td>\n",
       "      <td>11</td>\n",
       "      <td>8</td>\n",
       "      <td>50</td>\n",
       "      <td>0</td>\n",
       "    </tr>\n",
       "    <tr>\n",
       "      <th>18065</th>\n",
       "      <td>1534</td>\n",
       "      <td>Альберт</td>\n",
       "      <td>25</td>\n",
       "      <td>Краснодар</td>\n",
       "      <td>free</td>\n",
       "      <td>3826.185507</td>\n",
       "      <td>18.435051</td>\n",
       "      <td>2021-11-18</td>\n",
       "      <td>11</td>\n",
       "      <td>8</td>\n",
       "      <td>50</td>\n",
       "      <td>0</td>\n",
       "    </tr>\n",
       "    <tr>\n",
       "      <th>18066</th>\n",
       "      <td>1534</td>\n",
       "      <td>Альберт</td>\n",
       "      <td>25</td>\n",
       "      <td>Краснодар</td>\n",
       "      <td>free</td>\n",
       "      <td>2902.308661</td>\n",
       "      <td>16.674362</td>\n",
       "      <td>2021-11-27</td>\n",
       "      <td>11</td>\n",
       "      <td>8</td>\n",
       "      <td>50</td>\n",
       "      <td>0</td>\n",
       "    </tr>\n",
       "    <tr>\n",
       "      <th>18067</th>\n",
       "      <td>1534</td>\n",
       "      <td>Альберт</td>\n",
       "      <td>25</td>\n",
       "      <td>Краснодар</td>\n",
       "      <td>free</td>\n",
       "      <td>2371.711192</td>\n",
       "      <td>15.893917</td>\n",
       "      <td>2021-12-29</td>\n",
       "      <td>12</td>\n",
       "      <td>8</td>\n",
       "      <td>50</td>\n",
       "      <td>0</td>\n",
       "    </tr>\n",
       "  </tbody>\n",
       "</table>\n",
       "<p>18068 rows × 12 columns</p>\n",
       "</div>"
      ],
      "text/plain": [
       "       user_id     name  age       city subscription_type     distance  \\\n",
       "0            1     Кира   22     Тюмень             ultra  4409.919140   \n",
       "1            1     Кира   22     Тюмень             ultra  2617.592153   \n",
       "2            1     Кира   22     Тюмень             ultra   754.159807   \n",
       "3            1     Кира   22     Тюмень             ultra  2694.783254   \n",
       "4            1     Кира   22     Тюмень             ultra  4028.687306   \n",
       "...        ...      ...  ...        ...               ...          ...   \n",
       "18063     1534  Альберт   25  Краснодар              free  3781.098080   \n",
       "18064     1534  Альберт   25  Краснодар              free  2840.423057   \n",
       "18065     1534  Альберт   25  Краснодар              free  3826.185507   \n",
       "18066     1534  Альберт   25  Краснодар              free  2902.308661   \n",
       "18067     1534  Альберт   25  Краснодар              free  2371.711192   \n",
       "\n",
       "        duration       date  month  minute_price  start_ride_price  \\\n",
       "0      25.599769 2021-01-01      1             6                 0   \n",
       "1      15.816871 2021-01-18      1             6                 0   \n",
       "2       6.232113 2021-04-20      4             6                 0   \n",
       "3      18.511000 2021-08-11      8             6                 0   \n",
       "4      26.265803 2021-08-28      8             6                 0   \n",
       "...          ...        ...    ...           ...               ...   \n",
       "18063  19.822962 2021-11-04     11             8                50   \n",
       "18064  21.409799 2021-11-16     11             8                50   \n",
       "18065  18.435051 2021-11-18     11             8                50   \n",
       "18066  16.674362 2021-11-27     11             8                50   \n",
       "18067  15.893917 2021-12-29     12             8                50   \n",
       "\n",
       "       subscription_fee  \n",
       "0                   199  \n",
       "1                   199  \n",
       "2                   199  \n",
       "3                   199  \n",
       "4                   199  \n",
       "...                 ...  \n",
       "18063                 0  \n",
       "18064                 0  \n",
       "18065                 0  \n",
       "18066                 0  \n",
       "18067                 0  \n",
       "\n",
       "[18068 rows x 12 columns]"
      ]
     },
     "execution_count": 48,
     "metadata": {},
     "output_type": "execute_result"
    }
   ],
   "source": [
    "# создадим объедененный дф data\n",
    "\n",
    "data = data_users.merge(data_rides, left_on = 'user_id', right_on = 'user_id')\n",
    "data = data.merge(data_sub, left_on = 'subscription_type', right_on = 'subscription_type')\n",
    "data"
   ]
  },
  {
   "cell_type": "code",
   "execution_count": 49,
   "id": "54c674d2",
   "metadata": {},
   "outputs": [
    {
     "data": {
      "text/plain": [
       "18068"
      ]
     },
     "execution_count": 49,
     "metadata": {},
     "output_type": "execute_result"
    }
   ],
   "source": [
    "# проверим длину после объединения \n",
    "len(data)"
   ]
  },
  {
   "cell_type": "markdown",
   "id": "01074fc7",
   "metadata": {},
   "source": [
    "#### Создайте ещё два датафрейма из датафрейма, созданного на этапе 4.1:\n",
    "    c данными о пользователях без подписки;\n",
    "\n",
    "    с данными о пользователях с подпиской."
   ]
  },
  {
   "cell_type": "code",
   "execution_count": 50,
   "id": "cc325c55",
   "metadata": {},
   "outputs": [
    {
     "data": {
      "text/html": [
       "<div>\n",
       "<style scoped>\n",
       "    .dataframe tbody tr th:only-of-type {\n",
       "        vertical-align: middle;\n",
       "    }\n",
       "\n",
       "    .dataframe tbody tr th {\n",
       "        vertical-align: top;\n",
       "    }\n",
       "\n",
       "    .dataframe thead th {\n",
       "        text-align: right;\n",
       "    }\n",
       "</style>\n",
       "<table border=\"1\" class=\"dataframe\">\n",
       "  <thead>\n",
       "    <tr style=\"text-align: right;\">\n",
       "      <th></th>\n",
       "      <th>user_id</th>\n",
       "      <th>name</th>\n",
       "      <th>age</th>\n",
       "      <th>city</th>\n",
       "      <th>subscription_type</th>\n",
       "      <th>distance</th>\n",
       "      <th>duration</th>\n",
       "      <th>date</th>\n",
       "      <th>month</th>\n",
       "      <th>minute_price</th>\n",
       "      <th>start_ride_price</th>\n",
       "      <th>subscription_fee</th>\n",
       "    </tr>\n",
       "  </thead>\n",
       "  <tbody>\n",
       "    <tr>\n",
       "      <th>6500</th>\n",
       "      <td>700</td>\n",
       "      <td>Айдар</td>\n",
       "      <td>22</td>\n",
       "      <td>Омск</td>\n",
       "      <td>free</td>\n",
       "      <td>2515.690719</td>\n",
       "      <td>14.944286</td>\n",
       "      <td>2021-01-02</td>\n",
       "      <td>1</td>\n",
       "      <td>8</td>\n",
       "      <td>50</td>\n",
       "      <td>0</td>\n",
       "    </tr>\n",
       "    <tr>\n",
       "      <th>6501</th>\n",
       "      <td>700</td>\n",
       "      <td>Айдар</td>\n",
       "      <td>22</td>\n",
       "      <td>Омск</td>\n",
       "      <td>free</td>\n",
       "      <td>846.932642</td>\n",
       "      <td>16.234663</td>\n",
       "      <td>2021-02-01</td>\n",
       "      <td>2</td>\n",
       "      <td>8</td>\n",
       "      <td>50</td>\n",
       "      <td>0</td>\n",
       "    </tr>\n",
       "    <tr>\n",
       "      <th>6502</th>\n",
       "      <td>700</td>\n",
       "      <td>Айдар</td>\n",
       "      <td>22</td>\n",
       "      <td>Омск</td>\n",
       "      <td>free</td>\n",
       "      <td>4004.434142</td>\n",
       "      <td>20.016628</td>\n",
       "      <td>2021-02-04</td>\n",
       "      <td>2</td>\n",
       "      <td>8</td>\n",
       "      <td>50</td>\n",
       "      <td>0</td>\n",
       "    </tr>\n",
       "    <tr>\n",
       "      <th>6503</th>\n",
       "      <td>700</td>\n",
       "      <td>Айдар</td>\n",
       "      <td>22</td>\n",
       "      <td>Омск</td>\n",
       "      <td>free</td>\n",
       "      <td>1205.911290</td>\n",
       "      <td>9.782872</td>\n",
       "      <td>2021-02-10</td>\n",
       "      <td>2</td>\n",
       "      <td>8</td>\n",
       "      <td>50</td>\n",
       "      <td>0</td>\n",
       "    </tr>\n",
       "    <tr>\n",
       "      <th>6504</th>\n",
       "      <td>700</td>\n",
       "      <td>Айдар</td>\n",
       "      <td>22</td>\n",
       "      <td>Омск</td>\n",
       "      <td>free</td>\n",
       "      <td>3047.379435</td>\n",
       "      <td>17.427673</td>\n",
       "      <td>2021-02-14</td>\n",
       "      <td>2</td>\n",
       "      <td>8</td>\n",
       "      <td>50</td>\n",
       "      <td>0</td>\n",
       "    </tr>\n",
       "    <tr>\n",
       "      <th>...</th>\n",
       "      <td>...</td>\n",
       "      <td>...</td>\n",
       "      <td>...</td>\n",
       "      <td>...</td>\n",
       "      <td>...</td>\n",
       "      <td>...</td>\n",
       "      <td>...</td>\n",
       "      <td>...</td>\n",
       "      <td>...</td>\n",
       "      <td>...</td>\n",
       "      <td>...</td>\n",
       "      <td>...</td>\n",
       "    </tr>\n",
       "    <tr>\n",
       "      <th>18063</th>\n",
       "      <td>1534</td>\n",
       "      <td>Альберт</td>\n",
       "      <td>25</td>\n",
       "      <td>Краснодар</td>\n",
       "      <td>free</td>\n",
       "      <td>3781.098080</td>\n",
       "      <td>19.822962</td>\n",
       "      <td>2021-11-04</td>\n",
       "      <td>11</td>\n",
       "      <td>8</td>\n",
       "      <td>50</td>\n",
       "      <td>0</td>\n",
       "    </tr>\n",
       "    <tr>\n",
       "      <th>18064</th>\n",
       "      <td>1534</td>\n",
       "      <td>Альберт</td>\n",
       "      <td>25</td>\n",
       "      <td>Краснодар</td>\n",
       "      <td>free</td>\n",
       "      <td>2840.423057</td>\n",
       "      <td>21.409799</td>\n",
       "      <td>2021-11-16</td>\n",
       "      <td>11</td>\n",
       "      <td>8</td>\n",
       "      <td>50</td>\n",
       "      <td>0</td>\n",
       "    </tr>\n",
       "    <tr>\n",
       "      <th>18065</th>\n",
       "      <td>1534</td>\n",
       "      <td>Альберт</td>\n",
       "      <td>25</td>\n",
       "      <td>Краснодар</td>\n",
       "      <td>free</td>\n",
       "      <td>3826.185507</td>\n",
       "      <td>18.435051</td>\n",
       "      <td>2021-11-18</td>\n",
       "      <td>11</td>\n",
       "      <td>8</td>\n",
       "      <td>50</td>\n",
       "      <td>0</td>\n",
       "    </tr>\n",
       "    <tr>\n",
       "      <th>18066</th>\n",
       "      <td>1534</td>\n",
       "      <td>Альберт</td>\n",
       "      <td>25</td>\n",
       "      <td>Краснодар</td>\n",
       "      <td>free</td>\n",
       "      <td>2902.308661</td>\n",
       "      <td>16.674362</td>\n",
       "      <td>2021-11-27</td>\n",
       "      <td>11</td>\n",
       "      <td>8</td>\n",
       "      <td>50</td>\n",
       "      <td>0</td>\n",
       "    </tr>\n",
       "    <tr>\n",
       "      <th>18067</th>\n",
       "      <td>1534</td>\n",
       "      <td>Альберт</td>\n",
       "      <td>25</td>\n",
       "      <td>Краснодар</td>\n",
       "      <td>free</td>\n",
       "      <td>2371.711192</td>\n",
       "      <td>15.893917</td>\n",
       "      <td>2021-12-29</td>\n",
       "      <td>12</td>\n",
       "      <td>8</td>\n",
       "      <td>50</td>\n",
       "      <td>0</td>\n",
       "    </tr>\n",
       "  </tbody>\n",
       "</table>\n",
       "<p>11568 rows × 12 columns</p>\n",
       "</div>"
      ],
      "text/plain": [
       "       user_id     name  age       city subscription_type     distance  \\\n",
       "6500       700    Айдар   22       Омск              free  2515.690719   \n",
       "6501       700    Айдар   22       Омск              free   846.932642   \n",
       "6502       700    Айдар   22       Омск              free  4004.434142   \n",
       "6503       700    Айдар   22       Омск              free  1205.911290   \n",
       "6504       700    Айдар   22       Омск              free  3047.379435   \n",
       "...        ...      ...  ...        ...               ...          ...   \n",
       "18063     1534  Альберт   25  Краснодар              free  3781.098080   \n",
       "18064     1534  Альберт   25  Краснодар              free  2840.423057   \n",
       "18065     1534  Альберт   25  Краснодар              free  3826.185507   \n",
       "18066     1534  Альберт   25  Краснодар              free  2902.308661   \n",
       "18067     1534  Альберт   25  Краснодар              free  2371.711192   \n",
       "\n",
       "        duration       date  month  minute_price  start_ride_price  \\\n",
       "6500   14.944286 2021-01-02      1             8                50   \n",
       "6501   16.234663 2021-02-01      2             8                50   \n",
       "6502   20.016628 2021-02-04      2             8                50   \n",
       "6503    9.782872 2021-02-10      2             8                50   \n",
       "6504   17.427673 2021-02-14      2             8                50   \n",
       "...          ...        ...    ...           ...               ...   \n",
       "18063  19.822962 2021-11-04     11             8                50   \n",
       "18064  21.409799 2021-11-16     11             8                50   \n",
       "18065  18.435051 2021-11-18     11             8                50   \n",
       "18066  16.674362 2021-11-27     11             8                50   \n",
       "18067  15.893917 2021-12-29     12             8                50   \n",
       "\n",
       "       subscription_fee  \n",
       "6500                  0  \n",
       "6501                  0  \n",
       "6502                  0  \n",
       "6503                  0  \n",
       "6504                  0  \n",
       "...                 ...  \n",
       "18063                 0  \n",
       "18064                 0  \n",
       "18065                 0  \n",
       "18066                 0  \n",
       "18067                 0  \n",
       "\n",
       "[11568 rows x 12 columns]"
      ]
     },
     "execution_count": 50,
     "metadata": {},
     "output_type": "execute_result"
    }
   ],
   "source": [
    "data_sub_free = data.query('subscription_type == \"free\"')\n",
    "data_sub_free"
   ]
  },
  {
   "cell_type": "code",
   "execution_count": 51,
   "id": "44a8141c",
   "metadata": {},
   "outputs": [
    {
     "data": {
      "text/html": [
       "<div>\n",
       "<style scoped>\n",
       "    .dataframe tbody tr th:only-of-type {\n",
       "        vertical-align: middle;\n",
       "    }\n",
       "\n",
       "    .dataframe tbody tr th {\n",
       "        vertical-align: top;\n",
       "    }\n",
       "\n",
       "    .dataframe thead th {\n",
       "        text-align: right;\n",
       "    }\n",
       "</style>\n",
       "<table border=\"1\" class=\"dataframe\">\n",
       "  <thead>\n",
       "    <tr style=\"text-align: right;\">\n",
       "      <th></th>\n",
       "      <th>user_id</th>\n",
       "      <th>name</th>\n",
       "      <th>age</th>\n",
       "      <th>city</th>\n",
       "      <th>subscription_type</th>\n",
       "      <th>distance</th>\n",
       "      <th>duration</th>\n",
       "      <th>date</th>\n",
       "      <th>month</th>\n",
       "      <th>minute_price</th>\n",
       "      <th>start_ride_price</th>\n",
       "      <th>subscription_fee</th>\n",
       "    </tr>\n",
       "  </thead>\n",
       "  <tbody>\n",
       "    <tr>\n",
       "      <th>0</th>\n",
       "      <td>1</td>\n",
       "      <td>Кира</td>\n",
       "      <td>22</td>\n",
       "      <td>Тюмень</td>\n",
       "      <td>ultra</td>\n",
       "      <td>4409.919140</td>\n",
       "      <td>25.599769</td>\n",
       "      <td>2021-01-01</td>\n",
       "      <td>1</td>\n",
       "      <td>6</td>\n",
       "      <td>0</td>\n",
       "      <td>199</td>\n",
       "    </tr>\n",
       "    <tr>\n",
       "      <th>1</th>\n",
       "      <td>1</td>\n",
       "      <td>Кира</td>\n",
       "      <td>22</td>\n",
       "      <td>Тюмень</td>\n",
       "      <td>ultra</td>\n",
       "      <td>2617.592153</td>\n",
       "      <td>15.816871</td>\n",
       "      <td>2021-01-18</td>\n",
       "      <td>1</td>\n",
       "      <td>6</td>\n",
       "      <td>0</td>\n",
       "      <td>199</td>\n",
       "    </tr>\n",
       "    <tr>\n",
       "      <th>2</th>\n",
       "      <td>1</td>\n",
       "      <td>Кира</td>\n",
       "      <td>22</td>\n",
       "      <td>Тюмень</td>\n",
       "      <td>ultra</td>\n",
       "      <td>754.159807</td>\n",
       "      <td>6.232113</td>\n",
       "      <td>2021-04-20</td>\n",
       "      <td>4</td>\n",
       "      <td>6</td>\n",
       "      <td>0</td>\n",
       "      <td>199</td>\n",
       "    </tr>\n",
       "    <tr>\n",
       "      <th>3</th>\n",
       "      <td>1</td>\n",
       "      <td>Кира</td>\n",
       "      <td>22</td>\n",
       "      <td>Тюмень</td>\n",
       "      <td>ultra</td>\n",
       "      <td>2694.783254</td>\n",
       "      <td>18.511000</td>\n",
       "      <td>2021-08-11</td>\n",
       "      <td>8</td>\n",
       "      <td>6</td>\n",
       "      <td>0</td>\n",
       "      <td>199</td>\n",
       "    </tr>\n",
       "    <tr>\n",
       "      <th>4</th>\n",
       "      <td>1</td>\n",
       "      <td>Кира</td>\n",
       "      <td>22</td>\n",
       "      <td>Тюмень</td>\n",
       "      <td>ultra</td>\n",
       "      <td>4028.687306</td>\n",
       "      <td>26.265803</td>\n",
       "      <td>2021-08-28</td>\n",
       "      <td>8</td>\n",
       "      <td>6</td>\n",
       "      <td>0</td>\n",
       "      <td>199</td>\n",
       "    </tr>\n",
       "    <tr>\n",
       "      <th>...</th>\n",
       "      <td>...</td>\n",
       "      <td>...</td>\n",
       "      <td>...</td>\n",
       "      <td>...</td>\n",
       "      <td>...</td>\n",
       "      <td>...</td>\n",
       "      <td>...</td>\n",
       "      <td>...</td>\n",
       "      <td>...</td>\n",
       "      <td>...</td>\n",
       "      <td>...</td>\n",
       "      <td>...</td>\n",
       "    </tr>\n",
       "    <tr>\n",
       "      <th>6495</th>\n",
       "      <td>699</td>\n",
       "      <td>Оксана</td>\n",
       "      <td>22</td>\n",
       "      <td>Москва</td>\n",
       "      <td>ultra</td>\n",
       "      <td>3973.046497</td>\n",
       "      <td>24.671163</td>\n",
       "      <td>2021-08-29</td>\n",
       "      <td>8</td>\n",
       "      <td>6</td>\n",
       "      <td>0</td>\n",
       "      <td>199</td>\n",
       "    </tr>\n",
       "    <tr>\n",
       "      <th>6496</th>\n",
       "      <td>699</td>\n",
       "      <td>Оксана</td>\n",
       "      <td>22</td>\n",
       "      <td>Москва</td>\n",
       "      <td>ultra</td>\n",
       "      <td>3288.702563</td>\n",
       "      <td>15.892886</td>\n",
       "      <td>2021-09-12</td>\n",
       "      <td>9</td>\n",
       "      <td>6</td>\n",
       "      <td>0</td>\n",
       "      <td>199</td>\n",
       "    </tr>\n",
       "    <tr>\n",
       "      <th>6497</th>\n",
       "      <td>699</td>\n",
       "      <td>Оксана</td>\n",
       "      <td>22</td>\n",
       "      <td>Москва</td>\n",
       "      <td>ultra</td>\n",
       "      <td>3076.159348</td>\n",
       "      <td>14.389525</td>\n",
       "      <td>2021-09-26</td>\n",
       "      <td>9</td>\n",
       "      <td>6</td>\n",
       "      <td>0</td>\n",
       "      <td>199</td>\n",
       "    </tr>\n",
       "    <tr>\n",
       "      <th>6498</th>\n",
       "      <td>699</td>\n",
       "      <td>Оксана</td>\n",
       "      <td>22</td>\n",
       "      <td>Москва</td>\n",
       "      <td>ultra</td>\n",
       "      <td>4707.845501</td>\n",
       "      <td>15.839579</td>\n",
       "      <td>2021-10-17</td>\n",
       "      <td>10</td>\n",
       "      <td>6</td>\n",
       "      <td>0</td>\n",
       "      <td>199</td>\n",
       "    </tr>\n",
       "    <tr>\n",
       "      <th>6499</th>\n",
       "      <td>699</td>\n",
       "      <td>Оксана</td>\n",
       "      <td>22</td>\n",
       "      <td>Москва</td>\n",
       "      <td>ultra</td>\n",
       "      <td>3202.890770</td>\n",
       "      <td>25.217345</td>\n",
       "      <td>2021-12-03</td>\n",
       "      <td>12</td>\n",
       "      <td>6</td>\n",
       "      <td>0</td>\n",
       "      <td>199</td>\n",
       "    </tr>\n",
       "  </tbody>\n",
       "</table>\n",
       "<p>6500 rows × 12 columns</p>\n",
       "</div>"
      ],
      "text/plain": [
       "      user_id    name  age    city subscription_type     distance   duration  \\\n",
       "0           1    Кира   22  Тюмень             ultra  4409.919140  25.599769   \n",
       "1           1    Кира   22  Тюмень             ultra  2617.592153  15.816871   \n",
       "2           1    Кира   22  Тюмень             ultra   754.159807   6.232113   \n",
       "3           1    Кира   22  Тюмень             ultra  2694.783254  18.511000   \n",
       "4           1    Кира   22  Тюмень             ultra  4028.687306  26.265803   \n",
       "...       ...     ...  ...     ...               ...          ...        ...   \n",
       "6495      699  Оксана   22  Москва             ultra  3973.046497  24.671163   \n",
       "6496      699  Оксана   22  Москва             ultra  3288.702563  15.892886   \n",
       "6497      699  Оксана   22  Москва             ultra  3076.159348  14.389525   \n",
       "6498      699  Оксана   22  Москва             ultra  4707.845501  15.839579   \n",
       "6499      699  Оксана   22  Москва             ultra  3202.890770  25.217345   \n",
       "\n",
       "           date  month  minute_price  start_ride_price  subscription_fee  \n",
       "0    2021-01-01      1             6                 0               199  \n",
       "1    2021-01-18      1             6                 0               199  \n",
       "2    2021-04-20      4             6                 0               199  \n",
       "3    2021-08-11      8             6                 0               199  \n",
       "4    2021-08-28      8             6                 0               199  \n",
       "...         ...    ...           ...               ...               ...  \n",
       "6495 2021-08-29      8             6                 0               199  \n",
       "6496 2021-09-12      9             6                 0               199  \n",
       "6497 2021-09-26      9             6                 0               199  \n",
       "6498 2021-10-17     10             6                 0               199  \n",
       "6499 2021-12-03     12             6                 0               199  \n",
       "\n",
       "[6500 rows x 12 columns]"
      ]
     },
     "execution_count": 51,
     "metadata": {},
     "output_type": "execute_result"
    }
   ],
   "source": [
    "data_sub_ultra = data.query('subscription_type == \"ultra\"')\n",
    "data_sub_ultra"
   ]
  },
  {
   "cell_type": "markdown",
   "id": "39b6681e",
   "metadata": {},
   "source": [
    "#### Визуализируйте информацию о расстоянии и времени поездок для пользователей обеих категорий."
   ]
  },
  {
   "cell_type": "code",
   "execution_count": 52,
   "id": "30207a95",
   "metadata": {},
   "outputs": [
    {
     "data": {
      "image/png": "[encoded data removed]",
      "text/plain": [
       "<Figure size 1200x500 with 1 Axes>"
      ]
     },
     "metadata": {},
     "output_type": "display_data"
    },
    {
     "name": "stdout",
     "output_type": "stream",
     "text": [
      "Минимальное расстояние: 0.86\n",
      "Максимальное расстояние: 7211.01\n",
      "Среднее(медианное) расстояние: 3114.65\n"
     ]
    }
   ],
   "source": [
    "# для free\n",
    "# 1.расстояние\n",
    "\n",
    "plt.figure(figsize = (12, 5))\n",
    "plt.hist(data_sub_free['distance'], bins = 30)\n",
    "plt.grid()\n",
    "plt.xlabel('Расстояние, м')\n",
    "plt.ylabel('Количество поездок')\n",
    "plt.title('Расстояние, для пользователей с подпиской free')\n",
    "plt.show()\n",
    "print(f'Минимальное расстояние: {round(data_sub_free[\"distance\"].min(), 2)}') \n",
    "print(f'Максимальное расстояние: {round(data_sub_free[\"distance\"].max(), 2)}') \n",
    "print(f'Среднее(медианное) расстояние: {round(data_sub_free[\"distance\"].median(), 2)}')\n"
   ]
  },
  {
   "cell_type": "code",
   "execution_count": 53,
   "id": "5978f079",
   "metadata": {},
   "outputs": [
    {
     "data": {
      "image/png": "[encoded data removed]",
      "text/plain": [
       "<Figure size 1200x500 with 1 Axes>"
      ]
     },
     "metadata": {},
     "output_type": "display_data"
    },
    {
     "name": "stdout",
     "output_type": "stream",
     "text": [
      "Минимальное время аренды: 2 мин.\n",
      "Максимальное время аренды: 35 мин.\n",
      "Среднее(медианное) время аренды : 17 мин.\n"
     ]
    }
   ],
   "source": [
    "# 2.время\n",
    "\n",
    "plt.figure(figsize = (12, 5))\n",
    "plt.hist(data_sub_free['duration'], bins = 50)\n",
    "plt.grid()\n",
    "plt.xlabel('Время')\n",
    "plt.ylabel('Количество поездок')\n",
    "plt.title('Время аренды для пользовательей с подпиской free')\n",
    "plt.show()\n",
    "print(f\"Минимальное время аренды: {round(data_sub_free['duration'].min())} мин.\")\n",
    "print(f\"Максимальное время аренды: {round(data_sub_free['duration'].max())} мин.\")\n",
    "print(f\"Среднее(медианное) время аренды : {round(data_sub_free['duration'].median())} мин.\")"
   ]
  },
  {
   "cell_type": "code",
   "execution_count": 54,
   "id": "d3a54194",
   "metadata": {},
   "outputs": [
    {
     "data": {
      "image/png": "[encoded data removed]",
      "text/plain": [
       "<Figure size 1200x500 with 1 Axes>"
      ]
     },
     "metadata": {},
     "output_type": "display_data"
    },
    {
     "name": "stdout",
     "output_type": "stream",
     "text": [
      "Минимальное расстояние: 244.21\n",
      "Максимальное расстояние: 5699.77\n",
      "Среднее(медианное) расстояние: 3148.64\n"
     ]
    }
   ],
   "source": [
    "# для ultra \n",
    "# 1.расстояние \n",
    "\n",
    "plt.figure(figsize = (12, 5))\n",
    "plt.hist(data_sub_ultra['distance'], bins = 30)\n",
    "plt.grid()\n",
    "plt.xlabel('Расстояние, м')\n",
    "plt.ylabel('Количество поездок')\n",
    "plt.title('Расстояние, для пользователей с подпиской ultra')\n",
    "plt.show()\n",
    "print(f'Минимальное расстояние: {round(data_sub_ultra[\"distance\"].min(), 2)}') \n",
    "print(f'Максимальное расстояние: {round(data_sub_ultra[\"distance\"].max(), 2)}') \n",
    "print(f'Среднее(медианное) расстояние: {round(data_sub_ultra[\"distance\"].median(), 2)}')"
   ]
  },
  {
   "cell_type": "code",
   "execution_count": 55,
   "id": "e970a152",
   "metadata": {},
   "outputs": [
    {
     "data": {
      "image/png": "[encoded data removed]",
      "text/plain": [
       "<Figure size 1200x500 with 1 Axes>"
      ]
     },
     "metadata": {},
     "output_type": "display_data"
    },
    {
     "name": "stdout",
     "output_type": "stream",
     "text": [
      "Минимальное время аренды: 4 мин.\n",
      "Максимальное время аренды: 41 мин.\n",
      "Среднее(медианное) время аренды : 18 мин.\n"
     ]
    }
   ],
   "source": [
    "# 2.время\n",
    "\n",
    "plt.figure(figsize = (12, 5))\n",
    "plt.hist(data_sub_ultra['duration'], bins = 50)\n",
    "plt.grid()\n",
    "plt.xlabel('Время')\n",
    "plt.ylabel('Количество поездок')\n",
    "plt.title('Время аренды для пользовательей с подпиской free')\n",
    "plt.show()\n",
    "print(f\"Минимальное время аренды: {round(data_sub_ultra['duration'].min())} мин.\")\n",
    "print(f\"Максимальное время аренды: {round(data_sub_ultra['duration'].max())} мин.\")\n",
    "print(f\"Среднее(медианное) время аренды : {round(data_sub_ultra['duration'].median())} мин.\")"
   ]
  },
  {
   "cell_type": "code",
   "execution_count": 56,
   "id": "53584524",
   "metadata": {},
   "outputs": [
    {
     "data": {
      "image/png": "[encoded data removed]",
      "text/plain": [
       "<Figure size 1200x500 with 1 Axes>"
      ]
     },
     "metadata": {},
     "output_type": "display_data"
    }
   ],
   "source": [
    "# для наглядности отобразим графики совместно \n",
    "# постоим для расстояния free - ultra\n",
    "\n",
    "plt.figure(figsize = (12, 5))\n",
    "plt.hist(data_sub_free['distance'], bins = 50, alpha = 0.5, label = 'пользователи Free')\n",
    "plt.hist(data_sub_ultra['distance'], bins = 50, alpha = 0.5, label = 'пользователи Ultra')\n",
    "plt.legend(loc = 'upper left')\n",
    "\n",
    "plt.show()"
   ]
  },
  {
   "cell_type": "code",
   "execution_count": 57,
   "id": "28527db4",
   "metadata": {},
   "outputs": [
    {
     "data": {
      "image/png": "[encoded data removed]",
      "text/plain": [
       "<Figure size 1200x500 with 1 Axes>"
      ]
     },
     "metadata": {},
     "output_type": "display_data"
    }
   ],
   "source": [
    "# постоим временные графики free - ultra\n",
    "\n",
    "plt.figure(figsize = (12, 5))\n",
    "plt.hist(data_sub_free['duration'], bins = 50, alpha = 0.5, label = 'пользователи Free')\n",
    "plt.hist(data_sub_ultra['duration'], bins = 50, alpha = 0.5, label = 'пользователи Ultra')\n",
    "plt.legend(loc = 'upper left')\n",
    "\n",
    "plt.show()"
   ]
  },
  {
   "cell_type": "markdown",
   "id": "72196550",
   "metadata": {},
   "source": [
    "Можно сделать сделать следующий промежуточный вывод:\n",
    "\n",
    "    - пользователей с подпиской ultra меньше почти вдвое.\n",
    "    - пользователи с подпиской и без, так же совешают поездки на малые,средние и дальние дистанции.\n",
    "    - у пользователей с подпиской пиковые значения расстояния варьируются приблезительно от 2700 до 3500м , в то время как у пользователей без подписки приблезительно от 2000 до 4400м , скорее всего это влияние размера выборки.\n",
    "    - что касается времени тут тоже +- похожая картина, плюс есть небольшой 'хвост' у пользователей с подпиской, скорее всего это исключение, нежели закономерность.\n",
    "    \n",
    "Едем дальше)"
   ]
  },
  {
   "cell_type": "markdown",
   "id": "e9d29eb2",
   "metadata": {},
   "source": [
    "### Шаг 5. Подсчёт выручки"
   ]
  },
  {
   "cell_type": "markdown",
   "id": "95ade6ae",
   "metadata": {},
   "source": [
    "#### Создайте датафрейм с агрегированными данными о поездках на основе датафрейма с объединёнными данными из шага 4: найдите суммарное расстояние, количество поездок и суммарное время для каждого пользователя за каждый месяц."
   ]
  },
  {
   "cell_type": "code",
   "execution_count": 58,
   "id": "c77e4fd1",
   "metadata": {},
   "outputs": [
    {
     "data": {
      "text/html": [
       "<div>\n",
       "<style scoped>\n",
       "    .dataframe tbody tr th:only-of-type {\n",
       "        vertical-align: middle;\n",
       "    }\n",
       "\n",
       "    .dataframe tbody tr th {\n",
       "        vertical-align: top;\n",
       "    }\n",
       "\n",
       "    .dataframe thead th {\n",
       "        text-align: right;\n",
       "    }\n",
       "</style>\n",
       "<table border=\"1\" class=\"dataframe\">\n",
       "  <thead>\n",
       "    <tr style=\"text-align: right;\">\n",
       "      <th></th>\n",
       "      <th>user_id</th>\n",
       "      <th>name</th>\n",
       "      <th>age</th>\n",
       "      <th>city</th>\n",
       "      <th>subscription_type</th>\n",
       "      <th>distance</th>\n",
       "      <th>duration</th>\n",
       "      <th>date</th>\n",
       "      <th>month</th>\n",
       "      <th>minute_price</th>\n",
       "      <th>start_ride_price</th>\n",
       "      <th>subscription_fee</th>\n",
       "    </tr>\n",
       "  </thead>\n",
       "  <tbody>\n",
       "    <tr>\n",
       "      <th>0</th>\n",
       "      <td>1</td>\n",
       "      <td>Кира</td>\n",
       "      <td>22</td>\n",
       "      <td>Тюмень</td>\n",
       "      <td>ultra</td>\n",
       "      <td>4409.919140</td>\n",
       "      <td>25.599769</td>\n",
       "      <td>2021-01-01</td>\n",
       "      <td>1</td>\n",
       "      <td>6</td>\n",
       "      <td>0</td>\n",
       "      <td>199</td>\n",
       "    </tr>\n",
       "    <tr>\n",
       "      <th>1</th>\n",
       "      <td>1</td>\n",
       "      <td>Кира</td>\n",
       "      <td>22</td>\n",
       "      <td>Тюмень</td>\n",
       "      <td>ultra</td>\n",
       "      <td>2617.592153</td>\n",
       "      <td>15.816871</td>\n",
       "      <td>2021-01-18</td>\n",
       "      <td>1</td>\n",
       "      <td>6</td>\n",
       "      <td>0</td>\n",
       "      <td>199</td>\n",
       "    </tr>\n",
       "    <tr>\n",
       "      <th>2</th>\n",
       "      <td>1</td>\n",
       "      <td>Кира</td>\n",
       "      <td>22</td>\n",
       "      <td>Тюмень</td>\n",
       "      <td>ultra</td>\n",
       "      <td>754.159807</td>\n",
       "      <td>6.232113</td>\n",
       "      <td>2021-04-20</td>\n",
       "      <td>4</td>\n",
       "      <td>6</td>\n",
       "      <td>0</td>\n",
       "      <td>199</td>\n",
       "    </tr>\n",
       "    <tr>\n",
       "      <th>3</th>\n",
       "      <td>1</td>\n",
       "      <td>Кира</td>\n",
       "      <td>22</td>\n",
       "      <td>Тюмень</td>\n",
       "      <td>ultra</td>\n",
       "      <td>2694.783254</td>\n",
       "      <td>18.511000</td>\n",
       "      <td>2021-08-11</td>\n",
       "      <td>8</td>\n",
       "      <td>6</td>\n",
       "      <td>0</td>\n",
       "      <td>199</td>\n",
       "    </tr>\n",
       "    <tr>\n",
       "      <th>4</th>\n",
       "      <td>1</td>\n",
       "      <td>Кира</td>\n",
       "      <td>22</td>\n",
       "      <td>Тюмень</td>\n",
       "      <td>ultra</td>\n",
       "      <td>4028.687306</td>\n",
       "      <td>26.265803</td>\n",
       "      <td>2021-08-28</td>\n",
       "      <td>8</td>\n",
       "      <td>6</td>\n",
       "      <td>0</td>\n",
       "      <td>199</td>\n",
       "    </tr>\n",
       "    <tr>\n",
       "      <th>...</th>\n",
       "      <td>...</td>\n",
       "      <td>...</td>\n",
       "      <td>...</td>\n",
       "      <td>...</td>\n",
       "      <td>...</td>\n",
       "      <td>...</td>\n",
       "      <td>...</td>\n",
       "      <td>...</td>\n",
       "      <td>...</td>\n",
       "      <td>...</td>\n",
       "      <td>...</td>\n",
       "      <td>...</td>\n",
       "    </tr>\n",
       "    <tr>\n",
       "      <th>18063</th>\n",
       "      <td>1534</td>\n",
       "      <td>Альберт</td>\n",
       "      <td>25</td>\n",
       "      <td>Краснодар</td>\n",
       "      <td>free</td>\n",
       "      <td>3781.098080</td>\n",
       "      <td>19.822962</td>\n",
       "      <td>2021-11-04</td>\n",
       "      <td>11</td>\n",
       "      <td>8</td>\n",
       "      <td>50</td>\n",
       "      <td>0</td>\n",
       "    </tr>\n",
       "    <tr>\n",
       "      <th>18064</th>\n",
       "      <td>1534</td>\n",
       "      <td>Альберт</td>\n",
       "      <td>25</td>\n",
       "      <td>Краснодар</td>\n",
       "      <td>free</td>\n",
       "      <td>2840.423057</td>\n",
       "      <td>21.409799</td>\n",
       "      <td>2021-11-16</td>\n",
       "      <td>11</td>\n",
       "      <td>8</td>\n",
       "      <td>50</td>\n",
       "      <td>0</td>\n",
       "    </tr>\n",
       "    <tr>\n",
       "      <th>18065</th>\n",
       "      <td>1534</td>\n",
       "      <td>Альберт</td>\n",
       "      <td>25</td>\n",
       "      <td>Краснодар</td>\n",
       "      <td>free</td>\n",
       "      <td>3826.185507</td>\n",
       "      <td>18.435051</td>\n",
       "      <td>2021-11-18</td>\n",
       "      <td>11</td>\n",
       "      <td>8</td>\n",
       "      <td>50</td>\n",
       "      <td>0</td>\n",
       "    </tr>\n",
       "    <tr>\n",
       "      <th>18066</th>\n",
       "      <td>1534</td>\n",
       "      <td>Альберт</td>\n",
       "      <td>25</td>\n",
       "      <td>Краснодар</td>\n",
       "      <td>free</td>\n",
       "      <td>2902.308661</td>\n",
       "      <td>16.674362</td>\n",
       "      <td>2021-11-27</td>\n",
       "      <td>11</td>\n",
       "      <td>8</td>\n",
       "      <td>50</td>\n",
       "      <td>0</td>\n",
       "    </tr>\n",
       "    <tr>\n",
       "      <th>18067</th>\n",
       "      <td>1534</td>\n",
       "      <td>Альберт</td>\n",
       "      <td>25</td>\n",
       "      <td>Краснодар</td>\n",
       "      <td>free</td>\n",
       "      <td>2371.711192</td>\n",
       "      <td>15.893917</td>\n",
       "      <td>2021-12-29</td>\n",
       "      <td>12</td>\n",
       "      <td>8</td>\n",
       "      <td>50</td>\n",
       "      <td>0</td>\n",
       "    </tr>\n",
       "  </tbody>\n",
       "</table>\n",
       "<p>18068 rows × 12 columns</p>\n",
       "</div>"
      ],
      "text/plain": [
       "       user_id     name  age       city subscription_type     distance  \\\n",
       "0            1     Кира   22     Тюмень             ultra  4409.919140   \n",
       "1            1     Кира   22     Тюмень             ultra  2617.592153   \n",
       "2            1     Кира   22     Тюмень             ultra   754.159807   \n",
       "3            1     Кира   22     Тюмень             ultra  2694.783254   \n",
       "4            1     Кира   22     Тюмень             ultra  4028.687306   \n",
       "...        ...      ...  ...        ...               ...          ...   \n",
       "18063     1534  Альберт   25  Краснодар              free  3781.098080   \n",
       "18064     1534  Альберт   25  Краснодар              free  2840.423057   \n",
       "18065     1534  Альберт   25  Краснодар              free  3826.185507   \n",
       "18066     1534  Альберт   25  Краснодар              free  2902.308661   \n",
       "18067     1534  Альберт   25  Краснодар              free  2371.711192   \n",
       "\n",
       "        duration       date  month  minute_price  start_ride_price  \\\n",
       "0      25.599769 2021-01-01      1             6                 0   \n",
       "1      15.816871 2021-01-18      1             6                 0   \n",
       "2       6.232113 2021-04-20      4             6                 0   \n",
       "3      18.511000 2021-08-11      8             6                 0   \n",
       "4      26.265803 2021-08-28      8             6                 0   \n",
       "...          ...        ...    ...           ...               ...   \n",
       "18063  19.822962 2021-11-04     11             8                50   \n",
       "18064  21.409799 2021-11-16     11             8                50   \n",
       "18065  18.435051 2021-11-18     11             8                50   \n",
       "18066  16.674362 2021-11-27     11             8                50   \n",
       "18067  15.893917 2021-12-29     12             8                50   \n",
       "\n",
       "       subscription_fee  \n",
       "0                   199  \n",
       "1                   199  \n",
       "2                   199  \n",
       "3                   199  \n",
       "4                   199  \n",
       "...                 ...  \n",
       "18063                 0  \n",
       "18064                 0  \n",
       "18065                 0  \n",
       "18066                 0  \n",
       "18067                 0  \n",
       "\n",
       "[18068 rows x 12 columns]"
      ]
     },
     "execution_count": 58,
     "metadata": {},
     "output_type": "execute_result"
    }
   ],
   "source": [
    "# до округления\n",
    "\n",
    "data"
   ]
  },
  {
   "cell_type": "code",
   "execution_count": 59,
   "id": "a05c0c8b",
   "metadata": {},
   "outputs": [
    {
     "data": {
      "text/html": [
       "<div>\n",
       "<style scoped>\n",
       "    .dataframe tbody tr th:only-of-type {\n",
       "        vertical-align: middle;\n",
       "    }\n",
       "\n",
       "    .dataframe tbody tr th {\n",
       "        vertical-align: top;\n",
       "    }\n",
       "\n",
       "    .dataframe thead th {\n",
       "        text-align: right;\n",
       "    }\n",
       "</style>\n",
       "<table border=\"1\" class=\"dataframe\">\n",
       "  <thead>\n",
       "    <tr style=\"text-align: right;\">\n",
       "      <th></th>\n",
       "      <th>user_id</th>\n",
       "      <th>name</th>\n",
       "      <th>age</th>\n",
       "      <th>city</th>\n",
       "      <th>subscription_type</th>\n",
       "      <th>distance</th>\n",
       "      <th>duration</th>\n",
       "      <th>date</th>\n",
       "      <th>month</th>\n",
       "      <th>minute_price</th>\n",
       "      <th>start_ride_price</th>\n",
       "      <th>subscription_fee</th>\n",
       "    </tr>\n",
       "  </thead>\n",
       "  <tbody>\n",
       "    <tr>\n",
       "      <th>0</th>\n",
       "      <td>1</td>\n",
       "      <td>Кира</td>\n",
       "      <td>22</td>\n",
       "      <td>Тюмень</td>\n",
       "      <td>ultra</td>\n",
       "      <td>4409.919140</td>\n",
       "      <td>26.0</td>\n",
       "      <td>2021-01-01</td>\n",
       "      <td>1</td>\n",
       "      <td>6</td>\n",
       "      <td>0</td>\n",
       "      <td>199</td>\n",
       "    </tr>\n",
       "    <tr>\n",
       "      <th>1</th>\n",
       "      <td>1</td>\n",
       "      <td>Кира</td>\n",
       "      <td>22</td>\n",
       "      <td>Тюмень</td>\n",
       "      <td>ultra</td>\n",
       "      <td>2617.592153</td>\n",
       "      <td>16.0</td>\n",
       "      <td>2021-01-18</td>\n",
       "      <td>1</td>\n",
       "      <td>6</td>\n",
       "      <td>0</td>\n",
       "      <td>199</td>\n",
       "    </tr>\n",
       "    <tr>\n",
       "      <th>2</th>\n",
       "      <td>1</td>\n",
       "      <td>Кира</td>\n",
       "      <td>22</td>\n",
       "      <td>Тюмень</td>\n",
       "      <td>ultra</td>\n",
       "      <td>754.159807</td>\n",
       "      <td>7.0</td>\n",
       "      <td>2021-04-20</td>\n",
       "      <td>4</td>\n",
       "      <td>6</td>\n",
       "      <td>0</td>\n",
       "      <td>199</td>\n",
       "    </tr>\n",
       "    <tr>\n",
       "      <th>3</th>\n",
       "      <td>1</td>\n",
       "      <td>Кира</td>\n",
       "      <td>22</td>\n",
       "      <td>Тюмень</td>\n",
       "      <td>ultra</td>\n",
       "      <td>2694.783254</td>\n",
       "      <td>19.0</td>\n",
       "      <td>2021-08-11</td>\n",
       "      <td>8</td>\n",
       "      <td>6</td>\n",
       "      <td>0</td>\n",
       "      <td>199</td>\n",
       "    </tr>\n",
       "    <tr>\n",
       "      <th>4</th>\n",
       "      <td>1</td>\n",
       "      <td>Кира</td>\n",
       "      <td>22</td>\n",
       "      <td>Тюмень</td>\n",
       "      <td>ultra</td>\n",
       "      <td>4028.687306</td>\n",
       "      <td>27.0</td>\n",
       "      <td>2021-08-28</td>\n",
       "      <td>8</td>\n",
       "      <td>6</td>\n",
       "      <td>0</td>\n",
       "      <td>199</td>\n",
       "    </tr>\n",
       "    <tr>\n",
       "      <th>...</th>\n",
       "      <td>...</td>\n",
       "      <td>...</td>\n",
       "      <td>...</td>\n",
       "      <td>...</td>\n",
       "      <td>...</td>\n",
       "      <td>...</td>\n",
       "      <td>...</td>\n",
       "      <td>...</td>\n",
       "      <td>...</td>\n",
       "      <td>...</td>\n",
       "      <td>...</td>\n",
       "      <td>...</td>\n",
       "    </tr>\n",
       "    <tr>\n",
       "      <th>18063</th>\n",
       "      <td>1534</td>\n",
       "      <td>Альберт</td>\n",
       "      <td>25</td>\n",
       "      <td>Краснодар</td>\n",
       "      <td>free</td>\n",
       "      <td>3781.098080</td>\n",
       "      <td>20.0</td>\n",
       "      <td>2021-11-04</td>\n",
       "      <td>11</td>\n",
       "      <td>8</td>\n",
       "      <td>50</td>\n",
       "      <td>0</td>\n",
       "    </tr>\n",
       "    <tr>\n",
       "      <th>18064</th>\n",
       "      <td>1534</td>\n",
       "      <td>Альберт</td>\n",
       "      <td>25</td>\n",
       "      <td>Краснодар</td>\n",
       "      <td>free</td>\n",
       "      <td>2840.423057</td>\n",
       "      <td>22.0</td>\n",
       "      <td>2021-11-16</td>\n",
       "      <td>11</td>\n",
       "      <td>8</td>\n",
       "      <td>50</td>\n",
       "      <td>0</td>\n",
       "    </tr>\n",
       "    <tr>\n",
       "      <th>18065</th>\n",
       "      <td>1534</td>\n",
       "      <td>Альберт</td>\n",
       "      <td>25</td>\n",
       "      <td>Краснодар</td>\n",
       "      <td>free</td>\n",
       "      <td>3826.185507</td>\n",
       "      <td>19.0</td>\n",
       "      <td>2021-11-18</td>\n",
       "      <td>11</td>\n",
       "      <td>8</td>\n",
       "      <td>50</td>\n",
       "      <td>0</td>\n",
       "    </tr>\n",
       "    <tr>\n",
       "      <th>18066</th>\n",
       "      <td>1534</td>\n",
       "      <td>Альберт</td>\n",
       "      <td>25</td>\n",
       "      <td>Краснодар</td>\n",
       "      <td>free</td>\n",
       "      <td>2902.308661</td>\n",
       "      <td>17.0</td>\n",
       "      <td>2021-11-27</td>\n",
       "      <td>11</td>\n",
       "      <td>8</td>\n",
       "      <td>50</td>\n",
       "      <td>0</td>\n",
       "    </tr>\n",
       "    <tr>\n",
       "      <th>18067</th>\n",
       "      <td>1534</td>\n",
       "      <td>Альберт</td>\n",
       "      <td>25</td>\n",
       "      <td>Краснодар</td>\n",
       "      <td>free</td>\n",
       "      <td>2371.711192</td>\n",
       "      <td>16.0</td>\n",
       "      <td>2021-12-29</td>\n",
       "      <td>12</td>\n",
       "      <td>8</td>\n",
       "      <td>50</td>\n",
       "      <td>0</td>\n",
       "    </tr>\n",
       "  </tbody>\n",
       "</table>\n",
       "<p>18068 rows × 12 columns</p>\n",
       "</div>"
      ],
      "text/plain": [
       "       user_id     name  age       city subscription_type     distance  \\\n",
       "0            1     Кира   22     Тюмень             ultra  4409.919140   \n",
       "1            1     Кира   22     Тюмень             ultra  2617.592153   \n",
       "2            1     Кира   22     Тюмень             ultra   754.159807   \n",
       "3            1     Кира   22     Тюмень             ultra  2694.783254   \n",
       "4            1     Кира   22     Тюмень             ultra  4028.687306   \n",
       "...        ...      ...  ...        ...               ...          ...   \n",
       "18063     1534  Альберт   25  Краснодар              free  3781.098080   \n",
       "18064     1534  Альберт   25  Краснодар              free  2840.423057   \n",
       "18065     1534  Альберт   25  Краснодар              free  3826.185507   \n",
       "18066     1534  Альберт   25  Краснодар              free  2902.308661   \n",
       "18067     1534  Альберт   25  Краснодар              free  2371.711192   \n",
       "\n",
       "       duration       date  month  minute_price  start_ride_price  \\\n",
       "0          26.0 2021-01-01      1             6                 0   \n",
       "1          16.0 2021-01-18      1             6                 0   \n",
       "2           7.0 2021-04-20      4             6                 0   \n",
       "3          19.0 2021-08-11      8             6                 0   \n",
       "4          27.0 2021-08-28      8             6                 0   \n",
       "...         ...        ...    ...           ...               ...   \n",
       "18063      20.0 2021-11-04     11             8                50   \n",
       "18064      22.0 2021-11-16     11             8                50   \n",
       "18065      19.0 2021-11-18     11             8                50   \n",
       "18066      17.0 2021-11-27     11             8                50   \n",
       "18067      16.0 2021-12-29     12             8                50   \n",
       "\n",
       "       subscription_fee  \n",
       "0                   199  \n",
       "1                   199  \n",
       "2                   199  \n",
       "3                   199  \n",
       "4                   199  \n",
       "...                 ...  \n",
       "18063                 0  \n",
       "18064                 0  \n",
       "18065                 0  \n",
       "18066                 0  \n",
       "18067                 0  \n",
       "\n",
       "[18068 rows x 12 columns]"
      ]
     },
     "execution_count": 59,
     "metadata": {},
     "output_type": "execute_result"
    }
   ],
   "source": [
    "# После\n",
    "\n",
    "data['duration'] = np.ceil(data['duration'])\n",
    "data"
   ]
  },
  {
   "cell_type": "code",
   "execution_count": 95,
   "id": "60b0483b",
   "metadata": {},
   "outputs": [
    {
     "data": {
      "text/html": [
       "<div>\n",
       "<style scoped>\n",
       "    .dataframe tbody tr th:only-of-type {\n",
       "        vertical-align: middle;\n",
       "    }\n",
       "\n",
       "    .dataframe tbody tr th {\n",
       "        vertical-align: top;\n",
       "    }\n",
       "\n",
       "    .dataframe thead th {\n",
       "        text-align: right;\n",
       "    }\n",
       "</style>\n",
       "<table border=\"1\" class=\"dataframe\">\n",
       "  <thead>\n",
       "    <tr style=\"text-align: right;\">\n",
       "      <th></th>\n",
       "      <th></th>\n",
       "      <th>count_rides</th>\n",
       "      <th>distance_sum</th>\n",
       "      <th>duration_sum</th>\n",
       "      <th>sub_type</th>\n",
       "    </tr>\n",
       "    <tr>\n",
       "      <th>month</th>\n",
       "      <th>user_id</th>\n",
       "      <th></th>\n",
       "      <th></th>\n",
       "      <th></th>\n",
       "      <th></th>\n",
       "    </tr>\n",
       "  </thead>\n",
       "  <tbody>\n",
       "    <tr>\n",
       "      <th rowspan=\"5\" valign=\"top\">1</th>\n",
       "      <th>1</th>\n",
       "      <td>2</td>\n",
       "      <td>7027.5</td>\n",
       "      <td>42.0</td>\n",
       "      <td>ultra</td>\n",
       "    </tr>\n",
       "    <tr>\n",
       "      <th>3</th>\n",
       "      <td>1</td>\n",
       "      <td>3061.8</td>\n",
       "      <td>13.0</td>\n",
       "      <td>ultra</td>\n",
       "    </tr>\n",
       "    <tr>\n",
       "      <th>5</th>\n",
       "      <td>1</td>\n",
       "      <td>3914.6</td>\n",
       "      <td>13.0</td>\n",
       "      <td>ultra</td>\n",
       "    </tr>\n",
       "    <tr>\n",
       "      <th>7</th>\n",
       "      <td>2</td>\n",
       "      <td>6478.1</td>\n",
       "      <td>28.0</td>\n",
       "      <td>ultra</td>\n",
       "    </tr>\n",
       "    <tr>\n",
       "      <th>12</th>\n",
       "      <td>1</td>\n",
       "      <td>3577.2</td>\n",
       "      <td>33.0</td>\n",
       "      <td>ultra</td>\n",
       "    </tr>\n",
       "    <tr>\n",
       "      <th>...</th>\n",
       "      <th>...</th>\n",
       "      <td>...</td>\n",
       "      <td>...</td>\n",
       "      <td>...</td>\n",
       "      <td>...</td>\n",
       "    </tr>\n",
       "    <tr>\n",
       "      <th rowspan=\"5\" valign=\"top\">12</th>\n",
       "      <th>1525</th>\n",
       "      <td>1</td>\n",
       "      <td>4597.9</td>\n",
       "      <td>34.0</td>\n",
       "      <td>free</td>\n",
       "    </tr>\n",
       "    <tr>\n",
       "      <th>1526</th>\n",
       "      <td>1</td>\n",
       "      <td>3644.1</td>\n",
       "      <td>23.0</td>\n",
       "      <td>free</td>\n",
       "    </tr>\n",
       "    <tr>\n",
       "      <th>1528</th>\n",
       "      <td>1</td>\n",
       "      <td>3998.6</td>\n",
       "      <td>11.0</td>\n",
       "      <td>free</td>\n",
       "    </tr>\n",
       "    <tr>\n",
       "      <th>1532</th>\n",
       "      <td>2</td>\n",
       "      <td>6111.9</td>\n",
       "      <td>42.0</td>\n",
       "      <td>free</td>\n",
       "    </tr>\n",
       "    <tr>\n",
       "      <th>1534</th>\n",
       "      <td>1</td>\n",
       "      <td>2371.7</td>\n",
       "      <td>16.0</td>\n",
       "      <td>free</td>\n",
       "    </tr>\n",
       "  </tbody>\n",
       "</table>\n",
       "<p>11331 rows × 4 columns</p>\n",
       "</div>"
      ],
      "text/plain": [
       "               count_rides  distance_sum  duration_sum sub_type\n",
       "month user_id                                                  \n",
       "1     1                  2        7027.5          42.0    ultra\n",
       "      3                  1        3061.8          13.0    ultra\n",
       "      5                  1        3914.6          13.0    ultra\n",
       "      7                  2        6478.1          28.0    ultra\n",
       "      12                 1        3577.2          33.0    ultra\n",
       "...                    ...           ...           ...      ...\n",
       "12    1525               1        4597.9          34.0     free\n",
       "      1526               1        3644.1          23.0     free\n",
       "      1528               1        3998.6          11.0     free\n",
       "      1532               2        6111.9          42.0     free\n",
       "      1534               1        2371.7          16.0     free\n",
       "\n",
       "[11331 rows x 4 columns]"
      ]
     },
     "execution_count": 95,
     "metadata": {},
     "output_type": "execute_result"
    }
   ],
   "source": [
    "# создадим сводную таблицу для кажного пользователя (user_id) за каждый месяц(month)\n",
    "\n",
    "data_pivot_month_user = pd.pivot_table(data, index = ['month', 'user_id'],\n",
    "                                      values = ['distance', 'date', 'duration', 'subscription_type'],\n",
    "                                      aggfunc = {'distance': sum, 'date': len, 'duration': sum, 'subscription_type': min})\n",
    "\n",
    "data_pivot_month_user.columns = ['count_rides', 'distance_sum', 'duration_sum', 'sub_type']\n",
    "data_pivot_month_user['duration_sum'] = np.ceil(data_pivot_month_user['duration_sum'])\n",
    "data_pivot_month_user['distance_sum'] = round(data_pivot_month_user['distance_sum'], 1)\n",
    "data_pivot_month_user"
   ]
  },
  {
   "cell_type": "code",
   "execution_count": 61,
   "id": "65ac2145",
   "metadata": {},
   "outputs": [
    {
     "data": {
      "text/plain": [
       "True"
      ]
     },
     "execution_count": 61,
     "metadata": {},
     "output_type": "execute_result"
    }
   ],
   "source": [
    "# проверил на всякий случай количество поездок в основной таблице и в сводной\n",
    "\n",
    "data_pivot_month_user.query('user_id == 1')['count_rides'].sum() == data.query('user_id == 1')['date'].value_counts().sum()\n",
    "\n",
    "# по 12 и там и там, все ок, едем дальше)"
   ]
  },
  {
   "cell_type": "markdown",
   "id": "5605cbfa",
   "metadata": {},
   "source": [
    "#### В этот же датафрейм добавьте столбец с помесячной выручкой, которую принёс каждый пользователь. Для этого обратитесь к информации об условиях оплаты для подписчиков и тех, у кого нет подписки. Продолжительность каждой поездки в каждой строке исходного датафрейма для подсчёта стоимости округляется до следующего целого числа: например, значения \n",
    "25.3\n",
    "25.3, \n",
    "25.5\n",
    "25.5 и \n",
    "26.0\n",
    "26.0 должны быть преобразованы к\n",
    "26.\n",
    "\n",
    "Помесячная выручка считается по формуле: (стоимость старта поездки × количество поездок) + (стоимость одной минуты поездки × общая продолжительность всех поездок в минутах) + стоимость подписки."
   ]
  },
  {
   "cell_type": "code",
   "execution_count": 62,
   "id": "d889e0e2",
   "metadata": {},
   "outputs": [],
   "source": [
    "# создадим фунцию для расчета выручки\n",
    "\n",
    "def profit(row):\n",
    "    if row['sub_type'] == 'free':\n",
    "        return (50 * row['count_rides']) + (8 * row['duration_sum'])\n",
    "    elif row['sub_type'] == 'ultra':\n",
    "        return 6 * row['duration_sum'] + 199\n",
    "    else:\n",
    "        return '-9999'"
   ]
  },
  {
   "cell_type": "code",
   "execution_count": 63,
   "id": "0724439c",
   "metadata": {},
   "outputs": [
    {
     "data": {
      "text/html": [
       "<div>\n",
       "<style scoped>\n",
       "    .dataframe tbody tr th:only-of-type {\n",
       "        vertical-align: middle;\n",
       "    }\n",
       "\n",
       "    .dataframe tbody tr th {\n",
       "        vertical-align: top;\n",
       "    }\n",
       "\n",
       "    .dataframe thead th {\n",
       "        text-align: right;\n",
       "    }\n",
       "</style>\n",
       "<table border=\"1\" class=\"dataframe\">\n",
       "  <thead>\n",
       "    <tr style=\"text-align: right;\">\n",
       "      <th></th>\n",
       "      <th>user_id</th>\n",
       "      <th>name</th>\n",
       "      <th>age</th>\n",
       "      <th>city</th>\n",
       "      <th>subscription_type</th>\n",
       "      <th>distance</th>\n",
       "      <th>duration</th>\n",
       "      <th>date</th>\n",
       "      <th>month</th>\n",
       "      <th>minute_price</th>\n",
       "      <th>start_ride_price</th>\n",
       "      <th>subscription_fee</th>\n",
       "    </tr>\n",
       "  </thead>\n",
       "  <tbody>\n",
       "    <tr>\n",
       "      <th>0</th>\n",
       "      <td>1</td>\n",
       "      <td>Кира</td>\n",
       "      <td>22</td>\n",
       "      <td>Тюмень</td>\n",
       "      <td>ultra</td>\n",
       "      <td>4409.919140</td>\n",
       "      <td>26.0</td>\n",
       "      <td>2021-01-01</td>\n",
       "      <td>1</td>\n",
       "      <td>6</td>\n",
       "      <td>0</td>\n",
       "      <td>199</td>\n",
       "    </tr>\n",
       "    <tr>\n",
       "      <th>1</th>\n",
       "      <td>1</td>\n",
       "      <td>Кира</td>\n",
       "      <td>22</td>\n",
       "      <td>Тюмень</td>\n",
       "      <td>ultra</td>\n",
       "      <td>2617.592153</td>\n",
       "      <td>16.0</td>\n",
       "      <td>2021-01-18</td>\n",
       "      <td>1</td>\n",
       "      <td>6</td>\n",
       "      <td>0</td>\n",
       "      <td>199</td>\n",
       "    </tr>\n",
       "    <tr>\n",
       "      <th>2</th>\n",
       "      <td>1</td>\n",
       "      <td>Кира</td>\n",
       "      <td>22</td>\n",
       "      <td>Тюмень</td>\n",
       "      <td>ultra</td>\n",
       "      <td>754.159807</td>\n",
       "      <td>7.0</td>\n",
       "      <td>2021-04-20</td>\n",
       "      <td>4</td>\n",
       "      <td>6</td>\n",
       "      <td>0</td>\n",
       "      <td>199</td>\n",
       "    </tr>\n",
       "    <tr>\n",
       "      <th>3</th>\n",
       "      <td>1</td>\n",
       "      <td>Кира</td>\n",
       "      <td>22</td>\n",
       "      <td>Тюмень</td>\n",
       "      <td>ultra</td>\n",
       "      <td>2694.783254</td>\n",
       "      <td>19.0</td>\n",
       "      <td>2021-08-11</td>\n",
       "      <td>8</td>\n",
       "      <td>6</td>\n",
       "      <td>0</td>\n",
       "      <td>199</td>\n",
       "    </tr>\n",
       "    <tr>\n",
       "      <th>4</th>\n",
       "      <td>1</td>\n",
       "      <td>Кира</td>\n",
       "      <td>22</td>\n",
       "      <td>Тюмень</td>\n",
       "      <td>ultra</td>\n",
       "      <td>4028.687306</td>\n",
       "      <td>27.0</td>\n",
       "      <td>2021-08-28</td>\n",
       "      <td>8</td>\n",
       "      <td>6</td>\n",
       "      <td>0</td>\n",
       "      <td>199</td>\n",
       "    </tr>\n",
       "    <tr>\n",
       "      <th>...</th>\n",
       "      <td>...</td>\n",
       "      <td>...</td>\n",
       "      <td>...</td>\n",
       "      <td>...</td>\n",
       "      <td>...</td>\n",
       "      <td>...</td>\n",
       "      <td>...</td>\n",
       "      <td>...</td>\n",
       "      <td>...</td>\n",
       "      <td>...</td>\n",
       "      <td>...</td>\n",
       "      <td>...</td>\n",
       "    </tr>\n",
       "    <tr>\n",
       "      <th>18063</th>\n",
       "      <td>1534</td>\n",
       "      <td>Альберт</td>\n",
       "      <td>25</td>\n",
       "      <td>Краснодар</td>\n",
       "      <td>free</td>\n",
       "      <td>3781.098080</td>\n",
       "      <td>20.0</td>\n",
       "      <td>2021-11-04</td>\n",
       "      <td>11</td>\n",
       "      <td>8</td>\n",
       "      <td>50</td>\n",
       "      <td>0</td>\n",
       "    </tr>\n",
       "    <tr>\n",
       "      <th>18064</th>\n",
       "      <td>1534</td>\n",
       "      <td>Альберт</td>\n",
       "      <td>25</td>\n",
       "      <td>Краснодар</td>\n",
       "      <td>free</td>\n",
       "      <td>2840.423057</td>\n",
       "      <td>22.0</td>\n",
       "      <td>2021-11-16</td>\n",
       "      <td>11</td>\n",
       "      <td>8</td>\n",
       "      <td>50</td>\n",
       "      <td>0</td>\n",
       "    </tr>\n",
       "    <tr>\n",
       "      <th>18065</th>\n",
       "      <td>1534</td>\n",
       "      <td>Альберт</td>\n",
       "      <td>25</td>\n",
       "      <td>Краснодар</td>\n",
       "      <td>free</td>\n",
       "      <td>3826.185507</td>\n",
       "      <td>19.0</td>\n",
       "      <td>2021-11-18</td>\n",
       "      <td>11</td>\n",
       "      <td>8</td>\n",
       "      <td>50</td>\n",
       "      <td>0</td>\n",
       "    </tr>\n",
       "    <tr>\n",
       "      <th>18066</th>\n",
       "      <td>1534</td>\n",
       "      <td>Альберт</td>\n",
       "      <td>25</td>\n",
       "      <td>Краснодар</td>\n",
       "      <td>free</td>\n",
       "      <td>2902.308661</td>\n",
       "      <td>17.0</td>\n",
       "      <td>2021-11-27</td>\n",
       "      <td>11</td>\n",
       "      <td>8</td>\n",
       "      <td>50</td>\n",
       "      <td>0</td>\n",
       "    </tr>\n",
       "    <tr>\n",
       "      <th>18067</th>\n",
       "      <td>1534</td>\n",
       "      <td>Альберт</td>\n",
       "      <td>25</td>\n",
       "      <td>Краснодар</td>\n",
       "      <td>free</td>\n",
       "      <td>2371.711192</td>\n",
       "      <td>16.0</td>\n",
       "      <td>2021-12-29</td>\n",
       "      <td>12</td>\n",
       "      <td>8</td>\n",
       "      <td>50</td>\n",
       "      <td>0</td>\n",
       "    </tr>\n",
       "  </tbody>\n",
       "</table>\n",
       "<p>18068 rows × 12 columns</p>\n",
       "</div>"
      ],
      "text/plain": [
       "       user_id     name  age       city subscription_type     distance  \\\n",
       "0            1     Кира   22     Тюмень             ultra  4409.919140   \n",
       "1            1     Кира   22     Тюмень             ultra  2617.592153   \n",
       "2            1     Кира   22     Тюмень             ultra   754.159807   \n",
       "3            1     Кира   22     Тюмень             ultra  2694.783254   \n",
       "4            1     Кира   22     Тюмень             ultra  4028.687306   \n",
       "...        ...      ...  ...        ...               ...          ...   \n",
       "18063     1534  Альберт   25  Краснодар              free  3781.098080   \n",
       "18064     1534  Альберт   25  Краснодар              free  2840.423057   \n",
       "18065     1534  Альберт   25  Краснодар              free  3826.185507   \n",
       "18066     1534  Альберт   25  Краснодар              free  2902.308661   \n",
       "18067     1534  Альберт   25  Краснодар              free  2371.711192   \n",
       "\n",
       "       duration       date  month  minute_price  start_ride_price  \\\n",
       "0          26.0 2021-01-01      1             6                 0   \n",
       "1          16.0 2021-01-18      1             6                 0   \n",
       "2           7.0 2021-04-20      4             6                 0   \n",
       "3          19.0 2021-08-11      8             6                 0   \n",
       "4          27.0 2021-08-28      8             6                 0   \n",
       "...         ...        ...    ...           ...               ...   \n",
       "18063      20.0 2021-11-04     11             8                50   \n",
       "18064      22.0 2021-11-16     11             8                50   \n",
       "18065      19.0 2021-11-18     11             8                50   \n",
       "18066      17.0 2021-11-27     11             8                50   \n",
       "18067      16.0 2021-12-29     12             8                50   \n",
       "\n",
       "       subscription_fee  \n",
       "0                   199  \n",
       "1                   199  \n",
       "2                   199  \n",
       "3                   199  \n",
       "4                   199  \n",
       "...                 ...  \n",
       "18063                 0  \n",
       "18064                 0  \n",
       "18065                 0  \n",
       "18066                 0  \n",
       "18067                 0  \n",
       "\n",
       "[18068 rows x 12 columns]"
      ]
     },
     "execution_count": 63,
     "metadata": {},
     "output_type": "execute_result"
    }
   ],
   "source": [
    "data"
   ]
  },
  {
   "cell_type": "code",
   "execution_count": 64,
   "id": "3b412bfa",
   "metadata": {},
   "outputs": [
    {
     "data": {
      "text/html": [
       "<div>\n",
       "<style scoped>\n",
       "    .dataframe tbody tr th:only-of-type {\n",
       "        vertical-align: middle;\n",
       "    }\n",
       "\n",
       "    .dataframe tbody tr th {\n",
       "        vertical-align: top;\n",
       "    }\n",
       "\n",
       "    .dataframe thead th {\n",
       "        text-align: right;\n",
       "    }\n",
       "</style>\n",
       "<table border=\"1\" class=\"dataframe\">\n",
       "  <thead>\n",
       "    <tr style=\"text-align: right;\">\n",
       "      <th></th>\n",
       "      <th></th>\n",
       "      <th>count_rides</th>\n",
       "      <th>distance_sum</th>\n",
       "      <th>duration_sum</th>\n",
       "      <th>sub_type</th>\n",
       "      <th>profit</th>\n",
       "    </tr>\n",
       "    <tr>\n",
       "      <th>month</th>\n",
       "      <th>user_id</th>\n",
       "      <th></th>\n",
       "      <th></th>\n",
       "      <th></th>\n",
       "      <th></th>\n",
       "      <th></th>\n",
       "    </tr>\n",
       "  </thead>\n",
       "  <tbody>\n",
       "    <tr>\n",
       "      <th rowspan=\"5\" valign=\"top\">1</th>\n",
       "      <th>1</th>\n",
       "      <td>2</td>\n",
       "      <td>7027.5</td>\n",
       "      <td>42.0</td>\n",
       "      <td>ultra</td>\n",
       "      <td>451.0</td>\n",
       "    </tr>\n",
       "    <tr>\n",
       "      <th>3</th>\n",
       "      <td>1</td>\n",
       "      <td>3061.8</td>\n",
       "      <td>13.0</td>\n",
       "      <td>ultra</td>\n",
       "      <td>277.0</td>\n",
       "    </tr>\n",
       "    <tr>\n",
       "      <th>5</th>\n",
       "      <td>1</td>\n",
       "      <td>3914.6</td>\n",
       "      <td>13.0</td>\n",
       "      <td>ultra</td>\n",
       "      <td>277.0</td>\n",
       "    </tr>\n",
       "    <tr>\n",
       "      <th>7</th>\n",
       "      <td>2</td>\n",
       "      <td>6478.1</td>\n",
       "      <td>28.0</td>\n",
       "      <td>ultra</td>\n",
       "      <td>367.0</td>\n",
       "    </tr>\n",
       "    <tr>\n",
       "      <th>12</th>\n",
       "      <td>1</td>\n",
       "      <td>3577.2</td>\n",
       "      <td>33.0</td>\n",
       "      <td>ultra</td>\n",
       "      <td>397.0</td>\n",
       "    </tr>\n",
       "    <tr>\n",
       "      <th>...</th>\n",
       "      <th>...</th>\n",
       "      <td>...</td>\n",
       "      <td>...</td>\n",
       "      <td>...</td>\n",
       "      <td>...</td>\n",
       "      <td>...</td>\n",
       "    </tr>\n",
       "    <tr>\n",
       "      <th rowspan=\"5\" valign=\"top\">12</th>\n",
       "      <th>1525</th>\n",
       "      <td>1</td>\n",
       "      <td>4597.9</td>\n",
       "      <td>34.0</td>\n",
       "      <td>free</td>\n",
       "      <td>322.0</td>\n",
       "    </tr>\n",
       "    <tr>\n",
       "      <th>1526</th>\n",
       "      <td>1</td>\n",
       "      <td>3644.1</td>\n",
       "      <td>23.0</td>\n",
       "      <td>free</td>\n",
       "      <td>234.0</td>\n",
       "    </tr>\n",
       "    <tr>\n",
       "      <th>1528</th>\n",
       "      <td>1</td>\n",
       "      <td>3998.6</td>\n",
       "      <td>11.0</td>\n",
       "      <td>free</td>\n",
       "      <td>138.0</td>\n",
       "    </tr>\n",
       "    <tr>\n",
       "      <th>1532</th>\n",
       "      <td>2</td>\n",
       "      <td>6111.9</td>\n",
       "      <td>42.0</td>\n",
       "      <td>free</td>\n",
       "      <td>436.0</td>\n",
       "    </tr>\n",
       "    <tr>\n",
       "      <th>1534</th>\n",
       "      <td>1</td>\n",
       "      <td>2371.7</td>\n",
       "      <td>16.0</td>\n",
       "      <td>free</td>\n",
       "      <td>178.0</td>\n",
       "    </tr>\n",
       "  </tbody>\n",
       "</table>\n",
       "<p>11331 rows × 5 columns</p>\n",
       "</div>"
      ],
      "text/plain": [
       "               count_rides  distance_sum  duration_sum sub_type  profit\n",
       "month user_id                                                          \n",
       "1     1                  2        7027.5          42.0    ultra   451.0\n",
       "      3                  1        3061.8          13.0    ultra   277.0\n",
       "      5                  1        3914.6          13.0    ultra   277.0\n",
       "      7                  2        6478.1          28.0    ultra   367.0\n",
       "      12                 1        3577.2          33.0    ultra   397.0\n",
       "...                    ...           ...           ...      ...     ...\n",
       "12    1525               1        4597.9          34.0     free   322.0\n",
       "      1526               1        3644.1          23.0     free   234.0\n",
       "      1528               1        3998.6          11.0     free   138.0\n",
       "      1532               2        6111.9          42.0     free   436.0\n",
       "      1534               1        2371.7          16.0     free   178.0\n",
       "\n",
       "[11331 rows x 5 columns]"
      ]
     },
     "execution_count": 64,
     "metadata": {},
     "output_type": "execute_result"
    }
   ],
   "source": [
    "# применим нашу функцию\n",
    "\n",
    "data_pivot_month_user['profit'] = data_pivot_month_user.apply(profit, axis = 1)\n",
    "data_pivot_month_user"
   ]
  },
  {
   "cell_type": "code",
   "execution_count": 65,
   "id": "195c1cd6",
   "metadata": {},
   "outputs": [
    {
     "data": {
      "text/html": [
       "<div>\n",
       "<style scoped>\n",
       "    .dataframe tbody tr th:only-of-type {\n",
       "        vertical-align: middle;\n",
       "    }\n",
       "\n",
       "    .dataframe tbody tr th {\n",
       "        vertical-align: top;\n",
       "    }\n",
       "\n",
       "    .dataframe thead th {\n",
       "        text-align: right;\n",
       "    }\n",
       "</style>\n",
       "<table border=\"1\" class=\"dataframe\">\n",
       "  <thead>\n",
       "    <tr style=\"text-align: right;\">\n",
       "      <th></th>\n",
       "      <th></th>\n",
       "      <th>count_rides</th>\n",
       "      <th>distance_sum</th>\n",
       "      <th>duration_sum</th>\n",
       "      <th>sub_type</th>\n",
       "      <th>profit</th>\n",
       "    </tr>\n",
       "    <tr>\n",
       "      <th>month</th>\n",
       "      <th>user_id</th>\n",
       "      <th></th>\n",
       "      <th></th>\n",
       "      <th></th>\n",
       "      <th></th>\n",
       "      <th></th>\n",
       "    </tr>\n",
       "  </thead>\n",
       "  <tbody>\n",
       "    <tr>\n",
       "      <th>1</th>\n",
       "      <th>1</th>\n",
       "      <td>2</td>\n",
       "      <td>7027.5</td>\n",
       "      <td>42.0</td>\n",
       "      <td>ultra</td>\n",
       "      <td>451.0</td>\n",
       "    </tr>\n",
       "    <tr>\n",
       "      <th>4</th>\n",
       "      <th>1</th>\n",
       "      <td>1</td>\n",
       "      <td>754.2</td>\n",
       "      <td>7.0</td>\n",
       "      <td>ultra</td>\n",
       "      <td>241.0</td>\n",
       "    </tr>\n",
       "    <tr>\n",
       "      <th>8</th>\n",
       "      <th>1</th>\n",
       "      <td>2</td>\n",
       "      <td>6723.5</td>\n",
       "      <td>46.0</td>\n",
       "      <td>ultra</td>\n",
       "      <td>475.0</td>\n",
       "    </tr>\n",
       "    <tr>\n",
       "      <th>10</th>\n",
       "      <th>1</th>\n",
       "      <td>2</td>\n",
       "      <td>5809.9</td>\n",
       "      <td>32.0</td>\n",
       "      <td>ultra</td>\n",
       "      <td>391.0</td>\n",
       "    </tr>\n",
       "    <tr>\n",
       "      <th>11</th>\n",
       "      <th>1</th>\n",
       "      <td>3</td>\n",
       "      <td>7003.5</td>\n",
       "      <td>56.0</td>\n",
       "      <td>ultra</td>\n",
       "      <td>535.0</td>\n",
       "    </tr>\n",
       "    <tr>\n",
       "      <th>12</th>\n",
       "      <th>1</th>\n",
       "      <td>2</td>\n",
       "      <td>6751.6</td>\n",
       "      <td>28.0</td>\n",
       "      <td>ultra</td>\n",
       "      <td>367.0</td>\n",
       "    </tr>\n",
       "  </tbody>\n",
       "</table>\n",
       "</div>"
      ],
      "text/plain": [
       "               count_rides  distance_sum  duration_sum sub_type  profit\n",
       "month user_id                                                          \n",
       "1     1                  2        7027.5          42.0    ultra   451.0\n",
       "4     1                  1         754.2           7.0    ultra   241.0\n",
       "8     1                  2        6723.5          46.0    ultra   475.0\n",
       "10    1                  2        5809.9          32.0    ultra   391.0\n",
       "11    1                  3        7003.5          56.0    ultra   535.0\n",
       "12    1                  2        6751.6          28.0    ultra   367.0"
      ]
     },
     "execution_count": 65,
     "metadata": {},
     "output_type": "execute_result"
    }
   ],
   "source": [
    "# глянем, на пользователя user_id = 1\n",
    "\n",
    "data_pivot_month_user.query('user_id == 1')"
   ]
  },
  {
   "cell_type": "code",
   "execution_count": 66,
   "id": "37a67448",
   "metadata": {},
   "outputs": [
    {
     "data": {
      "text/html": [
       "<div>\n",
       "<style scoped>\n",
       "    .dataframe tbody tr th:only-of-type {\n",
       "        vertical-align: middle;\n",
       "    }\n",
       "\n",
       "    .dataframe tbody tr th {\n",
       "        vertical-align: top;\n",
       "    }\n",
       "\n",
       "    .dataframe thead th {\n",
       "        text-align: right;\n",
       "    }\n",
       "</style>\n",
       "<table border=\"1\" class=\"dataframe\">\n",
       "  <thead>\n",
       "    <tr style=\"text-align: right;\">\n",
       "      <th></th>\n",
       "      <th></th>\n",
       "      <th>count_rides</th>\n",
       "      <th>distance_sum</th>\n",
       "      <th>duration_sum</th>\n",
       "      <th>sub_type</th>\n",
       "      <th>profit</th>\n",
       "    </tr>\n",
       "    <tr>\n",
       "      <th>month</th>\n",
       "      <th>user_id</th>\n",
       "      <th></th>\n",
       "      <th></th>\n",
       "      <th></th>\n",
       "      <th></th>\n",
       "      <th></th>\n",
       "    </tr>\n",
       "  </thead>\n",
       "  <tbody>\n",
       "  </tbody>\n",
       "</table>\n",
       "</div>"
      ],
      "text/plain": [
       "Empty DataFrame\n",
       "Columns: [count_rides, distance_sum, duration_sum, sub_type, profit]\n",
       "Index: []"
      ]
     },
     "execution_count": 66,
     "metadata": {},
     "output_type": "execute_result"
    }
   ],
   "source": [
    "# проверим нет ли -9999 =)\n",
    "\n",
    "data_pivot_month_user.query('profit == -9999')\n",
    "\n",
    "# супер, едем дальше"
   ]
  },
  {
   "cell_type": "markdown",
   "id": "32239892",
   "metadata": {},
   "source": [
    "Подытожим: мы создали сводную таблицу для каждого пользователя по месяцам , посчитали суммарные время, дистанцию, кол-во поедок. Так же добавили новый столбец profit(выручка).\n",
    "\n"
   ]
  },
  {
   "cell_type": "markdown",
   "id": "5d2ae135",
   "metadata": {},
   "source": [
    "### Шаг 6. Проверка гипотез\n",
    "\n",
    "Продакт-менеджеры сервиса хотят увеличить количество пользователей с подпиской. Для этого они будут проводить различные акции, но сначала нужно выяснить несколько важных моментов."
   ]
  },
  {
   "cell_type": "markdown",
   "id": "c72a29a3",
   "metadata": {},
   "source": [
    "#### Важно понять, тратят ли пользователи с подпиской больше времени на поездки? Если да, то пользователи с подпиской могут быть «выгоднее» для компании. Проверьте гипотезу. Используйте исходные данные о продолжительности каждой сессии — отдельно для подписчиков и тех, у кого нет подписки."
   ]
  },
  {
   "cell_type": "markdown",
   "id": "7170f689",
   "metadata": {},
   "source": [
    "Проверим гипотезу, тратят ли больше времени на поездки пользователи с подпиской чем без неё."
   ]
  },
  {
   "cell_type": "markdown",
   "id": "322cc315",
   "metadata": {},
   "source": [
    " Пусть нулевая гипотеза(h0) будет звучать так:\n",
    " \n",
    "    -время которое тратять пользователи с подпиской ultra равно времени пользователей без подписки.\n",
    "    \n",
    " А альтернативная(h1) будет звучать так:\n",
    " \n",
    "    -время пользователей с подпиской ultra больше времени пользователей без подписки."
   ]
  },
  {
   "cell_type": "code",
   "execution_count": 96,
   "id": "7a599cf4",
   "metadata": {},
   "outputs": [
    {
     "name": "stdout",
     "output_type": "stream",
     "text": [
      "Среднее значение продолжительности поездки для пользовалетей ultra: 18.2\n",
      "Среднее значение продолжительности поездки для пользовалетей free: 17.4\n",
      "\n",
      "p-value: 5.424683099647868e-25\n",
      "Отвергаем нулевую гипотезу\n"
     ]
    }
   ],
   "source": [
    "# уровень статистической зависимости примем за 5%\n",
    "alpha = 0.05\n",
    "\n",
    "# передадим набор данных в переменные из уже созданнаго фрейма ultra и соответсвенно free\n",
    "ultra = data_sub_ultra['duration']\n",
    "free = data_sub_free['duration']\n",
    "\n",
    "\n",
    "# проводим ttest для двух выборок\n",
    "results = st.ttest_ind(ultra, free, alternative = 'greater')\n",
    "\n",
    "print(f\"Среднее значение продолжительности поездки для пользовалетей ultra: {round(data_sub_ultra['duration'].median(), 1)}\")\n",
    "print(f\"Среднее значение продолжительности поездки для пользовалетей free: {round(data_sub_free['duration'].median(), 1)}\")\n",
    "print()\n",
    "print(f'p-value: {results.pvalue}')\n",
    "\n",
    "if results.pvalue < alpha:\n",
    "    print('Отвергаем нулевую гипотезу')\n",
    "else:\n",
    "    print('Нет оснований отвергнуть нулевую гипотезу')"
   ]
  },
  {
   "cell_type": "markdown",
   "id": "ae283e0c",
   "metadata": {},
   "source": [
    "__Вывод__\n",
    "\n",
    "__Отвергли гипотезу о том, что время ареды одинаковое у пользователей с подпиской и без__, вероятно, что пользователи с подпиской тратят больше арендного времени."
   ]
  },
  {
   "cell_type": "code",
   "execution_count": null,
   "id": "c4a2d0b9",
   "metadata": {},
   "outputs": [],
   "source": []
  },
  {
   "cell_type": "markdown",
   "id": "b7dacec4",
   "metadata": {},
   "source": [
    "#### Расстояние одной поездки в 3130 метров — оптимальное с точки зрения износа самоката. Можно ли сказать, что расстояние, которое проезжают пользователи с подпиской за одну поездку, не превышает 3130 метров? Проверьте гипотезу и сделайте выводы.."
   ]
  },
  {
   "cell_type": "markdown",
   "id": "860fd574",
   "metadata": {},
   "source": [
    "Проверим гипотезу не привышают ли дистанцию в 3130 метров пользователи с подпиской ultra за одну поездку.\n",
    "\n",
    "h0 : расстояние, которое проезжают пользователи подписки ультра за одну поездку __равна__ 3130 метров.\n",
    "\n",
    "h1 : расстояние, которое проезжают пользователи подписки ультра за одну поездку __больше__ 3130 метров"
   ]
  },
  {
   "cell_type": "code",
   "execution_count": 68,
   "id": "55b9780f",
   "metadata": {},
   "outputs": [
    {
     "name": "stdout",
     "output_type": "stream",
     "text": [
      "p-value: 0.9195368847849785\n",
      "Нет оснований отвергнуть нулевую гипотезу\n"
     ]
    }
   ],
   "source": [
    "# уровень статистической зависимости примем за 5%\n",
    "alpha = 0.05\n",
    "\n",
    "# передадим набор данных в переменную\n",
    "ultra = data_sub_ultra['distance']\n",
    "\n",
    "# предельная дистанция \n",
    "interested_value = 3130\n",
    "\n",
    "# используем метод st.ttest_1samp\n",
    "#results = st.ttest_1samp(ultra, interested_value, alternative = 'less')\n",
    "results = st.ttest_1samp(ultra, interested_value, alternative = 'greater')\n",
    "\n",
    "print(f'p-value: {results.pvalue}')\n",
    "\n",
    "if results.pvalue < alpha:\n",
    "    print('Отвергаем нулевую гипотезу')\n",
    "else:\n",
    "    print('Нет оснований отвергнуть нулевую гипотезу')"
   ]
  },
  {
   "cell_type": "markdown",
   "id": "6c3cb279",
   "metadata": {},
   "source": [
    "__Вывод__\n",
    "\n",
    "__Не удалось отвергнуть гипотезу о том, что пользователи проезжают за одну поездку статистически значимо не отличается от оптимального расстояния 3130 метров.__"
   ]
  },
  {
   "cell_type": "code",
   "execution_count": null,
   "id": "d7faf87f",
   "metadata": {},
   "outputs": [],
   "source": []
  },
  {
   "cell_type": "markdown",
   "id": "d8c4d94b",
   "metadata": {},
   "source": [
    "#### Проверьте гипотезу о том, будет ли помесячная выручка от пользователей с подпиской по месяцам выше, чем выручка от пользователей без подписки. Сделайте вывод."
   ]
  },
  {
   "cell_type": "markdown",
   "id": "4a245ebd",
   "metadata": {},
   "source": [
    "Гипотеза: месячная выручка(profit) больше от пользователей с подпиской ultra , чем от пользователей free\n",
    "\n",
    "h0 : месячные выручки пользовательей ultra и free равны.\n",
    "\n",
    "h1 : месячная выручка пользователей ultra выше чем у пользователей free"
   ]
  },
  {
   "cell_type": "code",
   "execution_count": 69,
   "id": "0087f7c0",
   "metadata": {},
   "outputs": [
    {
     "name": "stdout",
     "output_type": "stream",
     "text": [
      "Среднее значение пользователей ultra: 337.0\n",
      "Среднее значение пользователей free: 274.0\n",
      "\n",
      "p-value: 7.649833885338678e-27\n",
      "Отвергаем нулевую гипотезу\n"
     ]
    }
   ],
   "source": [
    "# уровень статистической зависимости примем за 5%\n",
    "alpha = 0.05\n",
    "\n",
    "# передадим набор данных в переменные из уже созданнаго фрейма ultra и соответсвенно free\n",
    "ultra_profit = data_pivot_month_user.loc[data_pivot_month_user['sub_type'] == 'ultra', 'profit'] \n",
    "free_profit = data_pivot_month_user.loc[data_pivot_month_user['sub_type'] == 'free', 'profit']\n",
    "\n",
    "\n",
    "# проводим ttest для двух выборок\n",
    "results = st.ttest_ind(ultra_profit, free_profit, alternative = 'greater')\n",
    "\n",
    "print(f\"Среднее значение пользователей ultra: {data_pivot_month_user.loc[data_pivot_month_user['sub_type'] == 'ultra', 'profit'].median()}\")\n",
    "print(f\"Среднее значение пользователей free: {data_pivot_month_user.loc[data_pivot_month_user['sub_type'] == 'free', 'profit'].median()}\")\n",
    "print()\n",
    "\n",
    "print(f'p-value: {results.pvalue}')\n",
    "\n",
    "if results.pvalue < alpha:\n",
    "    print('Отвергаем нулевую гипотезу')\n",
    "else:\n",
    "    print('Нет оснований отвергнуть нулевую гипотезу')"
   ]
  },
  {
   "cell_type": "markdown",
   "id": "e2299d5d",
   "metadata": {},
   "source": [
    "__Вывод__\n",
    "\n",
    "Проверили гипотезу , у нас есть основания говорить, что выручка от пользователей с подпиской ultra выше чем от пользователей free"
   ]
  },
  {
   "cell_type": "code",
   "execution_count": null,
   "id": "a99d5adf",
   "metadata": {},
   "outputs": [],
   "source": []
  },
  {
   "cell_type": "markdown",
   "id": "a973b916",
   "metadata": {},
   "source": [
    "#### Представьте такую ситуацию: техническая команда сервиса обновила сервера, с которыми взаимодействует мобильное приложение. Она надеется, что из-за этого количество обращений в техподдержку значимо снизилось. Некоторый файл содержит для каждого пользователя данные о количестве обращений до обновления и после него. Какой тест вам понадобился бы для проверки этой гипотезы?"
   ]
  },
  {
   "cell_type": "markdown",
   "id": "c7907251",
   "metadata": {},
   "source": [
    "Мы будем использовать гипотезу о равенстве средних для зависимых (парных) выборок\n",
    " \n",
    "h0: m1 = m2\n",
    "\n",
    "h1: m1 > m2\n",
    "\n",
    "где, m1 и m2 - средние значения до и после изменения.\n",
    "\n",
    "Чтобы проверить гипотезу о равенстве среднего генеральной совокупности для зависимых (парных) выборок применим метод st.ttest_rel()\n"
   ]
  },
  {
   "cell_type": "code",
   "execution_count": null,
   "id": "44223c39",
   "metadata": {},
   "outputs": [],
   "source": []
  },
  {
   "cell_type": "markdown",
   "id": "2aaf5531",
   "metadata": {},
   "source": [
    "# Общий вывод"
   ]
  },
  {
   "cell_type": "markdown",
   "id": "90a1b090",
   "metadata": {},
   "source": [
    "В ходе проекта мы познакомились и изучили данные компании GoFast.\n",
    "\n",
    "С самого начала нам было дано 3 файла(датафрейма) с данными о пользователях, информацией о поездках, и подписках. __На этапе предобработки данных__, выполнили слудующие действия: \n",
    "\n",
    "    -Привели столбец date к типу даты pandas;\n",
    "    -Добавили новый столбец с номером месяца на основе столбца date;\n",
    "    -Обработали дубликаты.\n",
    "    \n",
    "Далее в ходе __исследовательского анализа__ и мы выяснили:\n",
    "    \n",
    "    -Что количество пользователей распределено по городам приблезительно одинаково, нет явных фаворитов. Лидером является Пятигорск - 219 пользователей. Меньше всего в Москве - 168;\n",
    "    -Пользователей без подписки - 835 человек, что составляет 54% от общего кол-ва пользователей, пользователей с подпиской ultra - 699 человек;\n",
    "    -Средний возрост пользователей варьируется от 20 до 30 лет - они самые активные,так же втречаются, как и совсем юнные так и более взрослые пользователи;\n",
    "    -Чаще всего поездки совершаются на расстояния от 2.5 до 3.5км, так же встречаются и любители коротких и совсем длинных покатушек;\n",
    "    -Время на которое арендуется самокат в среднем от 15 до 20 минут. На этом этапе мы обнаружили аномалии,и подправили их)\n",
    "   \n",
    "Далее мы __объеделили данные 3х файлов__ в один датафрейм, после чего создали отдельные дфы для пользователей с подпиской и без, и визуализировали информацию о времени аренды, расстоянии для каждого из тарифов. Изучив графики можно сказать следующее:\n",
    "    \n",
    "    - пользователи free проезжаю от 2 до 5км в среднем , но бывают и те, кто умудряются проехать и по 7км, в то время, как у пользователей ultra в большей степени около 3км.\n",
    "    - что касается времени, люди без подписки в среднем укладываюся от 10 до 25 минут, в то время , как люди с подпиской тратят в большинстве своем от 14 до 23 мнут.\n",
    "    \n",
    "Так же подсчитали выручку, сколько пользователи платят за поездки помесячно.\n",
    "\n",
    "Проверили следующие гипотезы:\n",
    "\n",
    "-Тратят ли больше времени на поездки пользователи с подпиской чем без неё:\n",
    "\n",
    "    Отвергли нулевую гипотезу о том, что пользователи с подпиской и без тратят одинаковое время. Вероятнее всего можно сказать, что пользователи с подпиской проводят больше времени.\n",
    "    \n",
    "-Не привышают ли дистанцию в 3130 метров пользователи с подпиской ultra за одну поездку:\n",
    "\n",
    "    Не удалось отвергнуть нулевую гипотезу о том,что пользователи проезжают расстояние за одну поездку равное отметке в 3130метров. Как видно из графиков пользователи с подпиской проезжают как и малые, средние так и большие дистанции.\n",
    "    \n",
    "-Месячная выручка(profit) больше от пользователей с подпиской ultra , чем от пользователей free:\n",
    "\n",
    "    Отвергли нулевую гипотезу о том что выручка от пользователей с подпиской и без - равна. Следовательно мы можем сказать, что выручка от пользователей с подпиской ultra выше чем от пользователей free.\n",
    "\n",
    "    \n",
    "\n",
    "\n",
    "\n",
    "\n"
   ]
  }
 ],
 "metadata": {
  "ExecuteTimeLog": [
   {
    "duration": 51,
    "start_time": "2023-07-10T16:16:02.785Z"
   },
   {
    "duration": 409,
    "start_time": "2023-07-10T16:16:08.413Z"
   },
   {
    "duration": 3,
    "start_time": "2023-07-10T16:16:11.999Z"
   },
   {
    "duration": 77,
    "start_time": "2023-07-10T16:16:14.313Z"
   },
   {
    "duration": 26,
    "start_time": "2023-07-10T16:17:56.893Z"
   },
   {
    "duration": 28,
    "start_time": "2023-07-10T16:17:58.532Z"
   },
   {
    "duration": 28,
    "start_time": "2023-07-10T16:17:59.557Z"
   },
   {
    "duration": 14,
    "start_time": "2023-07-10T16:18:15.337Z"
   },
   {
    "duration": 27,
    "start_time": "2023-07-10T16:18:35.963Z"
   },
   {
    "duration": 9,
    "start_time": "2023-07-10T16:18:36.757Z"
   },
   {
    "duration": 8,
    "start_time": "2023-07-10T16:18:45.317Z"
   },
   {
    "duration": 140,
    "start_time": "2023-07-10T16:22:24.507Z"
   },
   {
    "duration": 392,
    "start_time": "2023-07-10T16:22:29.641Z"
   },
   {
    "duration": 69,
    "start_time": "2023-07-10T16:22:30.034Z"
   },
   {
    "duration": 14,
    "start_time": "2023-07-10T16:22:30.105Z"
   },
   {
    "duration": 9,
    "start_time": "2023-07-10T16:22:44.563Z"
   },
   {
    "duration": 1333,
    "start_time": "2023-07-10T16:23:37.239Z"
   },
   {
    "duration": 67,
    "start_time": "2023-07-10T16:23:38.574Z"
   },
   {
    "duration": 13,
    "start_time": "2023-07-10T16:23:38.643Z"
   },
   {
    "duration": 24,
    "start_time": "2023-07-10T16:23:38.658Z"
   },
   {
    "duration": 1157,
    "start_time": "2023-07-10T16:24:26.523Z"
   },
   {
    "duration": 66,
    "start_time": "2023-07-10T16:24:27.682Z"
   },
   {
    "duration": 13,
    "start_time": "2023-07-10T16:24:27.750Z"
   },
   {
    "duration": 31,
    "start_time": "2023-07-10T16:24:27.764Z"
   },
   {
    "duration": 17,
    "start_time": "2023-07-10T16:33:04.654Z"
   },
   {
    "duration": 10,
    "start_time": "2023-07-10T16:33:21.519Z"
   },
   {
    "duration": 9,
    "start_time": "2023-07-10T16:35:47.136Z"
   },
   {
    "duration": 10,
    "start_time": "2023-07-10T16:36:04.411Z"
   },
   {
    "duration": 3,
    "start_time": "2023-07-10T16:48:40.932Z"
   },
   {
    "duration": 17600,
    "start_time": "2023-07-10T16:49:27.344Z"
   },
   {
    "duration": 177,
    "start_time": "2023-07-10T16:52:10.430Z"
   },
   {
    "duration": 153,
    "start_time": "2023-07-10T16:52:19.179Z"
   },
   {
    "duration": 299,
    "start_time": "2023-07-10T16:52:26.315Z"
   },
   {
    "duration": 184,
    "start_time": "2023-07-10T16:52:34.001Z"
   },
   {
    "duration": 214,
    "start_time": "2023-07-10T16:52:44.546Z"
   },
   {
    "duration": 225,
    "start_time": "2023-07-10T16:52:49.466Z"
   },
   {
    "duration": 214,
    "start_time": "2023-07-10T16:52:51.885Z"
   },
   {
    "duration": 271,
    "start_time": "2023-07-10T16:53:16.021Z"
   },
   {
    "duration": 143,
    "start_time": "2023-07-10T16:55:08.555Z"
   },
   {
    "duration": 178,
    "start_time": "2023-07-10T16:55:21.856Z"
   },
   {
    "duration": 359,
    "start_time": "2023-07-10T16:57:21.140Z"
   },
   {
    "duration": 171,
    "start_time": "2023-07-10T16:57:26.095Z"
   },
   {
    "duration": 172,
    "start_time": "2023-07-10T16:57:33.945Z"
   },
   {
    "duration": 171,
    "start_time": "2023-07-10T16:57:41.261Z"
   },
   {
    "duration": 154,
    "start_time": "2023-07-10T16:57:46.472Z"
   },
   {
    "duration": 147,
    "start_time": "2023-07-10T16:57:53.190Z"
   },
   {
    "duration": 210,
    "start_time": "2023-07-10T16:58:04.512Z"
   },
   {
    "duration": 152,
    "start_time": "2023-07-10T16:58:08.727Z"
   },
   {
    "duration": 142,
    "start_time": "2023-07-10T16:58:12.131Z"
   },
   {
    "duration": 134,
    "start_time": "2023-07-10T16:58:17.156Z"
   },
   {
    "duration": 178,
    "start_time": "2023-07-10T16:58:24.472Z"
   },
   {
    "duration": 337,
    "start_time": "2023-07-10T16:58:30.922Z"
   },
   {
    "duration": 127,
    "start_time": "2023-07-10T16:58:39.833Z"
   },
   {
    "duration": 139,
    "start_time": "2023-07-10T16:58:43.477Z"
   },
   {
    "duration": 130,
    "start_time": "2023-07-10T16:58:49.094Z"
   },
   {
    "duration": 154,
    "start_time": "2023-07-10T16:58:52.109Z"
   },
   {
    "duration": 183,
    "start_time": "2023-07-10T16:58:55.974Z"
   },
   {
    "duration": 370,
    "start_time": "2023-07-10T16:59:00.924Z"
   },
   {
    "duration": 146,
    "start_time": "2023-07-10T16:59:05.944Z"
   },
   {
    "duration": 179,
    "start_time": "2023-07-10T16:59:13.594Z"
   },
   {
    "duration": 183,
    "start_time": "2023-07-10T16:59:19.009Z"
   },
   {
    "duration": 151,
    "start_time": "2023-07-10T16:59:28.871Z"
   },
   {
    "duration": 148,
    "start_time": "2023-07-10T16:59:34.262Z"
   },
   {
    "duration": 139,
    "start_time": "2023-07-10T16:59:39.037Z"
   },
   {
    "duration": 132,
    "start_time": "2023-07-10T16:59:42.545Z"
   },
   {
    "duration": 311,
    "start_time": "2023-07-10T16:59:45.571Z"
   },
   {
    "duration": 147,
    "start_time": "2023-07-10T16:59:56.661Z"
   },
   {
    "duration": 157,
    "start_time": "2023-07-10T17:00:56.672Z"
   },
   {
    "duration": 287,
    "start_time": "2023-07-10T17:01:03.979Z"
   },
   {
    "duration": 170,
    "start_time": "2023-07-10T17:05:14.687Z"
   },
   {
    "duration": 313,
    "start_time": "2023-07-10T17:06:11.584Z"
   },
   {
    "duration": 317,
    "start_time": "2023-07-10T17:08:45.895Z"
   },
   {
    "duration": 325,
    "start_time": "2023-07-10T17:09:29.915Z"
   },
   {
    "duration": 331,
    "start_time": "2023-07-10T17:14:01.511Z"
   },
   {
    "duration": 297,
    "start_time": "2023-07-10T17:14:44.852Z"
   },
   {
    "duration": 361,
    "start_time": "2023-07-10T17:14:54.522Z"
   },
   {
    "duration": 197,
    "start_time": "2023-07-10T17:15:19.862Z"
   },
   {
    "duration": 340,
    "start_time": "2023-07-10T17:16:38.016Z"
   },
   {
    "duration": 96,
    "start_time": "2023-07-10T17:17:13.463Z"
   },
   {
    "duration": 83,
    "start_time": "2023-07-10T17:17:28.517Z"
   },
   {
    "duration": 82,
    "start_time": "2023-07-10T17:17:42.588Z"
   },
   {
    "duration": 89,
    "start_time": "2023-07-10T17:17:46.209Z"
   },
   {
    "duration": 80,
    "start_time": "2023-07-10T17:17:57.958Z"
   },
   {
    "duration": 297,
    "start_time": "2023-07-10T17:18:05.964Z"
   },
   {
    "duration": 154,
    "start_time": "2023-07-10T17:18:30.392Z"
   },
   {
    "duration": 152,
    "start_time": "2023-07-10T17:18:37.505Z"
   },
   {
    "duration": 152,
    "start_time": "2023-07-10T17:19:39.522Z"
   },
   {
    "duration": 167,
    "start_time": "2023-07-10T17:19:45.117Z"
   },
   {
    "duration": 166,
    "start_time": "2023-07-10T17:19:51.165Z"
   },
   {
    "duration": 177,
    "start_time": "2023-07-10T17:19:59.423Z"
   },
   {
    "duration": 246,
    "start_time": "2023-07-10T17:20:08.087Z"
   },
   {
    "duration": 154,
    "start_time": "2023-07-10T17:20:27.288Z"
   },
   {
    "duration": 160,
    "start_time": "2023-07-10T17:20:36.599Z"
   },
   {
    "duration": 166,
    "start_time": "2023-07-10T17:21:07.535Z"
   },
   {
    "duration": 161,
    "start_time": "2023-07-10T17:21:23.201Z"
   },
   {
    "duration": 189,
    "start_time": "2023-07-10T17:22:03.863Z"
   },
   {
    "duration": 155,
    "start_time": "2023-07-10T17:22:12.033Z"
   },
   {
    "duration": 169,
    "start_time": "2023-07-10T17:22:15.352Z"
   },
   {
    "duration": 237,
    "start_time": "2023-07-10T17:22:24.633Z"
   },
   {
    "duration": 166,
    "start_time": "2023-07-10T17:22:28.133Z"
   },
   {
    "duration": 176,
    "start_time": "2023-07-10T17:22:32.109Z"
   },
   {
    "duration": 149,
    "start_time": "2023-07-10T17:22:35.898Z"
   },
   {
    "duration": 130,
    "start_time": "2023-07-10T17:22:46.189Z"
   },
   {
    "duration": 323,
    "start_time": "2023-07-10T17:22:48.864Z"
   },
   {
    "duration": 127,
    "start_time": "2023-07-10T17:22:56.433Z"
   },
   {
    "duration": 196,
    "start_time": "2023-07-10T17:22:59.160Z"
   },
   {
    "duration": 205,
    "start_time": "2023-07-10T17:23:41.137Z"
   },
   {
    "duration": 210,
    "start_time": "2023-07-10T17:23:47.590Z"
   },
   {
    "duration": 203,
    "start_time": "2023-07-10T17:23:51.606Z"
   },
   {
    "duration": 196,
    "start_time": "2023-07-10T17:23:56.661Z"
   },
   {
    "duration": 207,
    "start_time": "2023-07-10T17:24:20.433Z"
   },
   {
    "duration": 197,
    "start_time": "2023-07-10T17:24:43.853Z"
   },
   {
    "duration": 280,
    "start_time": "2023-07-10T17:24:59.204Z"
   },
   {
    "duration": 9,
    "start_time": "2023-07-10T17:28:55.433Z"
   },
   {
    "duration": 12,
    "start_time": "2023-07-10T17:29:08.562Z"
   },
   {
    "duration": 6,
    "start_time": "2023-07-10T17:30:40.321Z"
   },
   {
    "duration": 6,
    "start_time": "2023-07-10T17:30:45.545Z"
   },
   {
    "duration": 5,
    "start_time": "2023-07-10T17:30:55.471Z"
   },
   {
    "duration": 164,
    "start_time": "2023-07-10T17:32:12.303Z"
   },
   {
    "duration": 180,
    "start_time": "2023-07-10T17:32:19.808Z"
   },
   {
    "duration": 11,
    "start_time": "2023-07-10T17:32:52.155Z"
   },
   {
    "duration": 17,
    "start_time": "2023-07-10T17:33:12.336Z"
   },
   {
    "duration": 8,
    "start_time": "2023-07-10T17:35:41.853Z"
   },
   {
    "duration": 172,
    "start_time": "2023-07-10T17:35:49.162Z"
   },
   {
    "duration": 184,
    "start_time": "2023-07-10T17:35:54.211Z"
   },
   {
    "duration": 181,
    "start_time": "2023-07-10T17:36:01.757Z"
   },
   {
    "duration": 216,
    "start_time": "2023-07-10T17:36:08.832Z"
   },
   {
    "duration": 228,
    "start_time": "2023-07-10T17:36:20.817Z"
   },
   {
    "duration": 574,
    "start_time": "2023-07-10T17:37:42.799Z"
   },
   {
    "duration": 374,
    "start_time": "2023-07-10T17:38:11.332Z"
   },
   {
    "duration": 376,
    "start_time": "2023-07-10T17:38:52.113Z"
   },
   {
    "duration": 417,
    "start_time": "2023-07-10T17:39:04.344Z"
   },
   {
    "duration": 401,
    "start_time": "2023-07-10T17:39:13.269Z"
   },
   {
    "duration": 171,
    "start_time": "2023-07-10T17:39:40.315Z"
   },
   {
    "duration": 402,
    "start_time": "2023-07-10T17:40:15.636Z"
   },
   {
    "duration": 207,
    "start_time": "2023-07-10T17:40:26.205Z"
   },
   {
    "duration": 204,
    "start_time": "2023-07-10T17:40:33.612Z"
   },
   {
    "duration": 205,
    "start_time": "2023-07-10T17:41:34.654Z"
   },
   {
    "duration": 200,
    "start_time": "2023-07-10T17:41:39.399Z"
   },
   {
    "duration": 189,
    "start_time": "2023-07-10T17:42:49.580Z"
   },
   {
    "duration": 187,
    "start_time": "2023-07-10T17:43:26.122Z"
   },
   {
    "duration": 188,
    "start_time": "2023-07-10T17:44:18.141Z"
   },
   {
    "duration": 192,
    "start_time": "2023-07-10T17:45:03.057Z"
   },
   {
    "duration": 192,
    "start_time": "2023-07-10T17:45:27.294Z"
   },
   {
    "duration": 174,
    "start_time": "2023-07-10T17:46:13.229Z"
   },
   {
    "duration": 19,
    "start_time": "2023-07-10T17:46:20.209Z"
   },
   {
    "duration": 190,
    "start_time": "2023-07-10T17:46:24.019Z"
   },
   {
    "duration": 206,
    "start_time": "2023-07-10T17:46:27.459Z"
   },
   {
    "duration": 217,
    "start_time": "2023-07-10T17:46:32.344Z"
   },
   {
    "duration": 245,
    "start_time": "2023-07-10T17:46:35.825Z"
   },
   {
    "duration": 203,
    "start_time": "2023-07-10T17:46:39.125Z"
   },
   {
    "duration": 1064,
    "start_time": "2023-07-10T17:46:48.101Z"
   },
   {
    "duration": 65,
    "start_time": "2023-07-10T17:46:49.167Z"
   },
   {
    "duration": 12,
    "start_time": "2023-07-10T17:46:49.233Z"
   },
   {
    "duration": 12,
    "start_time": "2023-07-10T17:46:49.246Z"
   },
   {
    "duration": 183,
    "start_time": "2023-07-10T17:46:49.260Z"
   },
   {
    "duration": 225,
    "start_time": "2023-07-10T17:46:49.444Z"
   },
   {
    "duration": 8,
    "start_time": "2023-07-10T17:46:49.671Z"
   },
   {
    "duration": 12,
    "start_time": "2023-07-10T17:46:49.681Z"
   },
   {
    "duration": 248,
    "start_time": "2023-07-10T17:46:49.695Z"
   },
   {
    "duration": 208,
    "start_time": "2023-07-10T17:46:49.945Z"
   },
   {
    "duration": 205,
    "start_time": "2023-07-10T17:47:10.034Z"
   },
   {
    "duration": 178,
    "start_time": "2023-07-10T17:47:19.230Z"
   },
   {
    "duration": 7,
    "start_time": "2023-07-10T17:47:48.586Z"
   },
   {
    "duration": 7,
    "start_time": "2023-07-10T17:47:56.551Z"
   },
   {
    "duration": 107,
    "start_time": "2023-07-10T17:49:05.178Z"
   },
   {
    "duration": 11,
    "start_time": "2023-07-10T17:49:12.998Z"
   },
   {
    "duration": 7,
    "start_time": "2023-07-10T17:49:29.281Z"
   },
   {
    "duration": 4,
    "start_time": "2023-07-10T17:53:18.107Z"
   },
   {
    "duration": 134,
    "start_time": "2023-07-10T17:53:24.185Z"
   },
   {
    "duration": 166,
    "start_time": "2023-07-10T17:55:14.322Z"
   },
   {
    "duration": 106,
    "start_time": "2023-07-10T17:56:03.365Z"
   },
   {
    "duration": 95,
    "start_time": "2023-07-10T17:56:10.013Z"
   },
   {
    "duration": 95,
    "start_time": "2023-07-10T17:56:15.154Z"
   },
   {
    "duration": 134,
    "start_time": "2023-07-10T17:57:48.001Z"
   },
   {
    "duration": 132,
    "start_time": "2023-07-10T17:58:13.482Z"
   },
   {
    "duration": 140,
    "start_time": "2023-07-10T17:58:18.393Z"
   },
   {
    "duration": 148,
    "start_time": "2023-07-10T17:58:23.680Z"
   },
   {
    "duration": 128,
    "start_time": "2023-07-10T17:58:28.089Z"
   },
   {
    "duration": 133,
    "start_time": "2023-07-10T17:58:34.280Z"
   },
   {
    "duration": 132,
    "start_time": "2023-07-10T17:58:42.464Z"
   },
   {
    "duration": 135,
    "start_time": "2023-07-10T17:58:49.460Z"
   },
   {
    "duration": 150,
    "start_time": "2023-07-10T17:58:53.279Z"
   },
   {
    "duration": 142,
    "start_time": "2023-07-10T17:58:59.115Z"
   },
   {
    "duration": 161,
    "start_time": "2023-07-10T17:59:03.029Z"
   },
   {
    "duration": 221,
    "start_time": "2023-07-10T17:59:34.840Z"
   },
   {
    "duration": 96,
    "start_time": "2023-07-10T18:01:52.941Z"
   },
   {
    "duration": 163,
    "start_time": "2023-07-10T18:02:05.641Z"
   },
   {
    "duration": 138,
    "start_time": "2023-07-10T18:02:16.156Z"
   },
   {
    "duration": 132,
    "start_time": "2023-07-10T18:02:26.137Z"
   },
   {
    "duration": 140,
    "start_time": "2023-07-10T18:02:34.238Z"
   },
   {
    "duration": 138,
    "start_time": "2023-07-10T18:02:48.383Z"
   },
   {
    "duration": 136,
    "start_time": "2023-07-10T18:02:53.223Z"
   },
   {
    "duration": 141,
    "start_time": "2023-07-10T18:02:56.781Z"
   },
   {
    "duration": 155,
    "start_time": "2023-07-10T18:03:02.184Z"
   },
   {
    "duration": 134,
    "start_time": "2023-07-10T18:03:08.743Z"
   },
   {
    "duration": 136,
    "start_time": "2023-07-10T18:03:13.934Z"
   },
   {
    "duration": 141,
    "start_time": "2023-07-10T18:03:20.478Z"
   },
   {
    "duration": 230,
    "start_time": "2023-07-10T18:05:01.103Z"
   },
   {
    "duration": 134,
    "start_time": "2023-07-10T18:05:09.583Z"
   },
   {
    "duration": 106,
    "start_time": "2023-07-10T18:06:17.955Z"
   },
   {
    "duration": 77,
    "start_time": "2023-07-10T18:06:26.796Z"
   },
   {
    "duration": 101,
    "start_time": "2023-07-10T18:06:35.792Z"
   },
   {
    "duration": 133,
    "start_time": "2023-07-10T18:09:04.291Z"
   },
   {
    "duration": 141,
    "start_time": "2023-07-10T18:09:11.891Z"
   },
   {
    "duration": 129,
    "start_time": "2023-07-10T18:09:18.361Z"
   },
   {
    "duration": 173,
    "start_time": "2023-07-10T18:09:34.602Z"
   },
   {
    "duration": 115,
    "start_time": "2023-07-10T18:12:04.617Z"
   },
   {
    "duration": 224,
    "start_time": "2023-07-10T18:12:06.921Z"
   },
   {
    "duration": 137,
    "start_time": "2023-07-10T18:12:13.657Z"
   },
   {
    "duration": 133,
    "start_time": "2023-07-10T18:12:17.781Z"
   },
   {
    "duration": 5,
    "start_time": "2023-07-10T18:12:25.643Z"
   },
   {
    "duration": 129,
    "start_time": "2023-07-10T18:12:29.397Z"
   },
   {
    "duration": 133,
    "start_time": "2023-07-10T18:12:38.114Z"
   },
   {
    "duration": 128,
    "start_time": "2023-07-10T18:13:25.415Z"
   },
   {
    "duration": 131,
    "start_time": "2023-07-10T18:13:31.260Z"
   },
   {
    "duration": 141,
    "start_time": "2023-07-10T18:13:42.120Z"
   },
   {
    "duration": 137,
    "start_time": "2023-07-10T18:13:48.041Z"
   },
   {
    "duration": 155,
    "start_time": "2023-07-10T18:13:51.355Z"
   },
   {
    "duration": 140,
    "start_time": "2023-07-10T18:13:54.910Z"
   },
   {
    "duration": 135,
    "start_time": "2023-07-10T18:13:59.177Z"
   },
   {
    "duration": 174,
    "start_time": "2023-07-10T18:14:04.831Z"
   },
   {
    "duration": 137,
    "start_time": "2023-07-10T18:14:11.326Z"
   },
   {
    "duration": 162,
    "start_time": "2023-07-10T18:14:14.802Z"
   },
   {
    "duration": 149,
    "start_time": "2023-07-10T18:14:18.522Z"
   },
   {
    "duration": 140,
    "start_time": "2023-07-10T18:14:23.957Z"
   },
   {
    "duration": 139,
    "start_time": "2023-07-10T18:14:27.274Z"
   },
   {
    "duration": 150,
    "start_time": "2023-07-10T18:14:33.708Z"
   },
   {
    "duration": 154,
    "start_time": "2023-07-10T18:14:38.493Z"
   },
   {
    "duration": 140,
    "start_time": "2023-07-10T18:14:42.173Z"
   },
   {
    "duration": 245,
    "start_time": "2023-07-10T18:14:54.140Z"
   },
   {
    "duration": 135,
    "start_time": "2023-07-10T18:14:57.439Z"
   },
   {
    "duration": 151,
    "start_time": "2023-07-10T18:15:01.364Z"
   },
   {
    "duration": 113,
    "start_time": "2023-07-10T18:15:11.878Z"
   },
   {
    "duration": 178,
    "start_time": "2023-07-10T18:15:28.109Z"
   },
   {
    "duration": 133,
    "start_time": "2023-07-10T18:15:46.625Z"
   },
   {
    "duration": 199,
    "start_time": "2023-07-10T18:16:42.048Z"
   },
   {
    "duration": 192,
    "start_time": "2023-07-10T18:17:29.298Z"
   },
   {
    "duration": 203,
    "start_time": "2023-07-10T18:17:42.750Z"
   },
   {
    "duration": 199,
    "start_time": "2023-07-10T18:18:05.920Z"
   },
   {
    "duration": 201,
    "start_time": "2023-07-10T18:18:18.284Z"
   },
   {
    "duration": 209,
    "start_time": "2023-07-10T18:18:52.533Z"
   },
   {
    "duration": 195,
    "start_time": "2023-07-10T18:19:01.338Z"
   },
   {
    "duration": 199,
    "start_time": "2023-07-10T18:19:06.481Z"
   },
   {
    "duration": 197,
    "start_time": "2023-07-10T18:19:17.452Z"
   },
   {
    "duration": 205,
    "start_time": "2023-07-10T18:19:22.004Z"
   },
   {
    "duration": 302,
    "start_time": "2023-07-10T18:19:32.598Z"
   },
   {
    "duration": 206,
    "start_time": "2023-07-10T18:19:39.028Z"
   },
   {
    "duration": 212,
    "start_time": "2023-07-10T18:19:51.009Z"
   },
   {
    "duration": 201,
    "start_time": "2023-07-10T18:20:11.980Z"
   },
   {
    "duration": 203,
    "start_time": "2023-07-10T18:20:50.951Z"
   },
   {
    "duration": 240,
    "start_time": "2023-07-10T18:21:03.915Z"
   },
   {
    "duration": 220,
    "start_time": "2023-07-10T18:21:32.688Z"
   },
   {
    "duration": 207,
    "start_time": "2023-07-10T18:21:47.384Z"
   },
   {
    "duration": 222,
    "start_time": "2023-07-10T18:21:57.576Z"
   },
   {
    "duration": 188,
    "start_time": "2023-07-10T18:22:05.124Z"
   },
   {
    "duration": 159,
    "start_time": "2023-07-10T18:22:16.521Z"
   },
   {
    "duration": 156,
    "start_time": "2023-07-10T18:22:20.781Z"
   },
   {
    "duration": 175,
    "start_time": "2023-07-10T18:22:27.684Z"
   },
   {
    "duration": 207,
    "start_time": "2023-07-10T18:22:37.205Z"
   },
   {
    "duration": 256,
    "start_time": "2023-07-10T18:22:42.864Z"
   },
   {
    "duration": 180,
    "start_time": "2023-07-10T18:23:25.986Z"
   },
   {
    "duration": 179,
    "start_time": "2023-07-10T18:23:31.562Z"
   },
   {
    "duration": 170,
    "start_time": "2023-07-10T18:23:40.601Z"
   },
   {
    "duration": 99,
    "start_time": "2023-07-10T18:24:20.608Z"
   },
   {
    "duration": 129,
    "start_time": "2023-07-10T18:24:25.484Z"
   },
   {
    "duration": 158,
    "start_time": "2023-07-10T18:24:50.892Z"
   },
   {
    "duration": 176,
    "start_time": "2023-07-10T18:26:12.812Z"
   },
   {
    "duration": 156,
    "start_time": "2023-07-10T18:26:22.372Z"
   },
   {
    "duration": 163,
    "start_time": "2023-07-10T18:26:25.502Z"
   },
   {
    "duration": 141,
    "start_time": "2023-07-10T18:26:29.583Z"
   },
   {
    "duration": 162,
    "start_time": "2023-07-10T18:26:33.513Z"
   },
   {
    "duration": 156,
    "start_time": "2023-07-10T18:26:38.929Z"
   },
   {
    "duration": 145,
    "start_time": "2023-07-10T18:26:42.014Z"
   },
   {
    "duration": 153,
    "start_time": "2023-07-10T18:26:45.593Z"
   },
   {
    "duration": 137,
    "start_time": "2023-07-10T18:26:49.749Z"
   },
   {
    "duration": 140,
    "start_time": "2023-07-10T18:28:28.597Z"
   },
   {
    "duration": 149,
    "start_time": "2023-07-10T18:28:34.067Z"
   },
   {
    "duration": 184,
    "start_time": "2023-07-10T18:28:48.463Z"
   },
   {
    "duration": 181,
    "start_time": "2023-07-10T18:29:03.113Z"
   },
   {
    "duration": 261,
    "start_time": "2023-07-10T18:29:10.159Z"
   },
   {
    "duration": 167,
    "start_time": "2023-07-10T18:29:15.959Z"
   },
   {
    "duration": 173,
    "start_time": "2023-07-10T18:29:20.909Z"
   },
   {
    "duration": 171,
    "start_time": "2023-07-10T18:29:25.884Z"
   },
   {
    "duration": 181,
    "start_time": "2023-07-10T18:29:29.653Z"
   },
   {
    "duration": 166,
    "start_time": "2023-07-10T18:29:35.424Z"
   },
   {
    "duration": 177,
    "start_time": "2023-07-10T18:29:40.530Z"
   },
   {
    "duration": 104,
    "start_time": "2023-07-10T18:29:52.988Z"
   },
   {
    "duration": 118,
    "start_time": "2023-07-10T18:29:56.715Z"
   },
   {
    "duration": 115,
    "start_time": "2023-07-10T18:30:06.151Z"
   },
   {
    "duration": 9,
    "start_time": "2023-07-10T18:42:15.946Z"
   },
   {
    "duration": 11,
    "start_time": "2023-07-10T18:42:48.886Z"
   },
   {
    "duration": 10,
    "start_time": "2023-07-10T18:42:53.762Z"
   },
   {
    "duration": 12,
    "start_time": "2023-07-10T18:43:34.687Z"
   },
   {
    "duration": 199,
    "start_time": "2023-07-10T18:43:58.846Z"
   },
   {
    "duration": 291,
    "start_time": "2023-07-10T18:44:03.966Z"
   },
   {
    "duration": 305,
    "start_time": "2023-07-10T18:44:24.301Z"
   },
   {
    "duration": 112,
    "start_time": "2023-07-10T18:48:18.314Z"
   },
   {
    "duration": 139,
    "start_time": "2023-07-10T18:48:23.629Z"
   },
   {
    "duration": 125,
    "start_time": "2023-07-10T18:48:53.250Z"
   },
   {
    "duration": 119,
    "start_time": "2023-07-10T18:49:06.531Z"
   },
   {
    "duration": 7,
    "start_time": "2023-07-10T18:52:07.185Z"
   },
   {
    "duration": 8,
    "start_time": "2023-07-10T18:52:40.041Z"
   },
   {
    "duration": 8,
    "start_time": "2023-07-10T18:52:42.768Z"
   },
   {
    "duration": 1115,
    "start_time": "2023-07-10T18:52:48.965Z"
   },
   {
    "duration": 79,
    "start_time": "2023-07-10T18:52:50.082Z"
   },
   {
    "duration": 11,
    "start_time": "2023-07-10T18:52:50.163Z"
   },
   {
    "duration": 28,
    "start_time": "2023-07-10T18:52:50.176Z"
   },
   {
    "duration": 203,
    "start_time": "2023-07-10T18:52:50.206Z"
   },
   {
    "duration": 8,
    "start_time": "2023-07-10T18:52:50.411Z"
   },
   {
    "duration": 194,
    "start_time": "2023-07-10T18:52:50.421Z"
   },
   {
    "duration": 134,
    "start_time": "2023-07-10T18:52:50.617Z"
   },
   {
    "duration": 8,
    "start_time": "2023-07-10T18:52:50.753Z"
   },
   {
    "duration": 16,
    "start_time": "2023-07-10T18:52:50.763Z"
   },
   {
    "duration": 206,
    "start_time": "2023-07-10T18:52:50.781Z"
   },
   {
    "duration": 8,
    "start_time": "2023-07-10T18:52:50.988Z"
   },
   {
    "duration": 219,
    "start_time": "2023-07-10T18:52:50.998Z"
   },
   {
    "duration": 29,
    "start_time": "2023-07-10T18:52:51.219Z"
   },
   {
    "duration": 6,
    "start_time": "2023-07-10T18:52:51.249Z"
   },
   {
    "duration": 20,
    "start_time": "2023-07-10T18:52:51.257Z"
   },
   {
    "duration": 115,
    "start_time": "2023-07-10T18:53:00.989Z"
   },
   {
    "duration": 134,
    "start_time": "2023-07-10T18:53:04.351Z"
   },
   {
    "duration": 1049,
    "start_time": "2023-07-10T18:53:11.076Z"
   },
   {
    "duration": 71,
    "start_time": "2023-07-10T18:53:12.127Z"
   },
   {
    "duration": 12,
    "start_time": "2023-07-10T18:53:12.200Z"
   },
   {
    "duration": 13,
    "start_time": "2023-07-10T18:53:12.213Z"
   },
   {
    "duration": 199,
    "start_time": "2023-07-10T18:53:12.228Z"
   },
   {
    "duration": 15,
    "start_time": "2023-07-10T18:53:12.429Z"
   },
   {
    "duration": 202,
    "start_time": "2023-07-10T18:53:12.446Z"
   },
   {
    "duration": 127,
    "start_time": "2023-07-10T18:53:12.649Z"
   },
   {
    "duration": 9,
    "start_time": "2023-07-10T18:53:12.778Z"
   },
   {
    "duration": 14,
    "start_time": "2023-07-10T18:53:12.788Z"
   },
   {
    "duration": 221,
    "start_time": "2023-07-10T18:53:12.804Z"
   },
   {
    "duration": 11,
    "start_time": "2023-07-10T18:53:13.032Z"
   },
   {
    "duration": 214,
    "start_time": "2023-07-10T18:53:13.047Z"
   },
   {
    "duration": 7,
    "start_time": "2023-07-10T18:53:13.264Z"
   },
   {
    "duration": 7,
    "start_time": "2023-07-10T18:53:13.272Z"
   },
   {
    "duration": 19,
    "start_time": "2023-07-10T18:53:13.280Z"
   },
   {
    "duration": 208,
    "start_time": "2023-07-10T18:56:29.792Z"
   },
   {
    "duration": 175,
    "start_time": "2023-07-10T18:56:39.717Z"
   },
   {
    "duration": 170,
    "start_time": "2023-07-10T18:56:45.907Z"
   },
   {
    "duration": 247,
    "start_time": "2023-07-10T18:56:54.107Z"
   },
   {
    "duration": 1135,
    "start_time": "2023-07-10T18:56:59.000Z"
   },
   {
    "duration": 76,
    "start_time": "2023-07-10T18:57:00.137Z"
   },
   {
    "duration": 14,
    "start_time": "2023-07-10T18:57:00.215Z"
   },
   {
    "duration": 48,
    "start_time": "2023-07-10T18:57:00.230Z"
   },
   {
    "duration": 271,
    "start_time": "2023-07-10T18:57:00.280Z"
   },
   {
    "duration": 10,
    "start_time": "2023-07-10T18:57:00.553Z"
   },
   {
    "duration": 258,
    "start_time": "2023-07-10T18:57:00.565Z"
   },
   {
    "duration": 144,
    "start_time": "2023-07-10T18:57:00.825Z"
   },
   {
    "duration": 10,
    "start_time": "2023-07-10T18:57:00.971Z"
   },
   {
    "duration": 39,
    "start_time": "2023-07-10T18:57:00.983Z"
   },
   {
    "duration": 246,
    "start_time": "2023-07-10T18:57:01.024Z"
   },
   {
    "duration": 9,
    "start_time": "2023-07-10T18:57:01.271Z"
   },
   {
    "duration": 240,
    "start_time": "2023-07-10T18:57:01.282Z"
   },
   {
    "duration": 12,
    "start_time": "2023-07-10T18:57:01.532Z"
   },
   {
    "duration": 7,
    "start_time": "2023-07-10T18:57:01.546Z"
   },
   {
    "duration": 48,
    "start_time": "2023-07-10T18:57:01.555Z"
   },
   {
    "duration": 54,
    "start_time": "2023-07-11T09:25:15.122Z"
   },
   {
    "duration": 1387,
    "start_time": "2023-07-11T09:25:21.707Z"
   },
   {
    "duration": 205,
    "start_time": "2023-07-11T09:25:23.101Z"
   },
   {
    "duration": 18,
    "start_time": "2023-07-11T09:25:23.308Z"
   },
   {
    "duration": 12,
    "start_time": "2023-07-11T09:25:23.328Z"
   },
   {
    "duration": 234,
    "start_time": "2023-07-11T09:25:23.343Z"
   },
   {
    "duration": 9,
    "start_time": "2023-07-11T09:25:23.579Z"
   },
   {
    "duration": 208,
    "start_time": "2023-07-11T09:25:23.601Z"
   },
   {
    "duration": 163,
    "start_time": "2023-07-11T09:25:23.811Z"
   },
   {
    "duration": 10,
    "start_time": "2023-07-11T09:25:23.976Z"
   },
   {
    "duration": 26,
    "start_time": "2023-07-11T09:25:23.988Z"
   },
   {
    "duration": 268,
    "start_time": "2023-07-11T09:25:24.016Z"
   },
   {
    "duration": 19,
    "start_time": "2023-07-11T09:25:24.287Z"
   },
   {
    "duration": 254,
    "start_time": "2023-07-11T09:25:24.308Z"
   },
   {
    "duration": 11,
    "start_time": "2023-07-11T09:25:24.566Z"
   },
   {
    "duration": 24,
    "start_time": "2023-07-11T09:25:24.579Z"
   },
   {
    "duration": 26,
    "start_time": "2023-07-11T09:25:24.606Z"
   },
   {
    "duration": 19,
    "start_time": "2023-07-11T09:25:24.634Z"
   },
   {
    "duration": 109,
    "start_time": "2023-07-11T09:26:44.115Z"
   },
   {
    "duration": 9,
    "start_time": "2023-07-11T09:26:58.730Z"
   },
   {
    "duration": 13,
    "start_time": "2023-07-11T09:27:04.707Z"
   },
   {
    "duration": 9,
    "start_time": "2023-07-11T09:27:19.705Z"
   },
   {
    "duration": 9,
    "start_time": "2023-07-11T09:27:37.371Z"
   },
   {
    "duration": 1370,
    "start_time": "2023-07-11T09:27:46.497Z"
   },
   {
    "duration": 71,
    "start_time": "2023-07-11T09:27:47.869Z"
   },
   {
    "duration": 15,
    "start_time": "2023-07-11T09:27:47.942Z"
   },
   {
    "duration": 13,
    "start_time": "2023-07-11T09:27:47.960Z"
   },
   {
    "duration": 226,
    "start_time": "2023-07-11T09:27:47.974Z"
   },
   {
    "duration": 12,
    "start_time": "2023-07-11T09:27:48.203Z"
   },
   {
    "duration": 221,
    "start_time": "2023-07-11T09:27:48.217Z"
   },
   {
    "duration": 148,
    "start_time": "2023-07-11T09:27:48.440Z"
   },
   {
    "duration": 25,
    "start_time": "2023-07-11T09:27:48.590Z"
   },
   {
    "duration": 22,
    "start_time": "2023-07-11T09:27:48.618Z"
   },
   {
    "duration": 224,
    "start_time": "2023-07-11T09:27:48.641Z"
   },
   {
    "duration": 12,
    "start_time": "2023-07-11T09:27:48.868Z"
   },
   {
    "duration": 315,
    "start_time": "2023-07-11T09:27:48.882Z"
   },
   {
    "duration": 11,
    "start_time": "2023-07-11T09:27:49.202Z"
   },
   {
    "duration": 14,
    "start_time": "2023-07-11T09:27:49.216Z"
   },
   {
    "duration": 19,
    "start_time": "2023-07-11T09:27:49.231Z"
   },
   {
    "duration": 12,
    "start_time": "2023-07-11T09:27:49.252Z"
   },
   {
    "duration": 35,
    "start_time": "2023-07-11T09:27:49.266Z"
   },
   {
    "duration": 15,
    "start_time": "2023-07-11T09:27:49.304Z"
   },
   {
    "duration": 11,
    "start_time": "2023-07-11T09:28:14.252Z"
   },
   {
    "duration": 10,
    "start_time": "2023-07-11T09:28:33.361Z"
   },
   {
    "duration": 15,
    "start_time": "2023-07-11T09:28:47.199Z"
   },
   {
    "duration": 1210,
    "start_time": "2023-07-11T09:28:53.900Z"
   },
   {
    "duration": 80,
    "start_time": "2023-07-11T09:28:55.113Z"
   },
   {
    "duration": 18,
    "start_time": "2023-07-11T09:28:55.195Z"
   },
   {
    "duration": 16,
    "start_time": "2023-07-11T09:28:55.215Z"
   },
   {
    "duration": 267,
    "start_time": "2023-07-11T09:28:55.235Z"
   },
   {
    "duration": 12,
    "start_time": "2023-07-11T09:28:55.503Z"
   },
   {
    "duration": 217,
    "start_time": "2023-07-11T09:28:55.517Z"
   },
   {
    "duration": 146,
    "start_time": "2023-07-11T09:28:55.736Z"
   },
   {
    "duration": 22,
    "start_time": "2023-07-11T09:28:55.885Z"
   },
   {
    "duration": 48,
    "start_time": "2023-07-11T09:28:55.909Z"
   },
   {
    "duration": 322,
    "start_time": "2023-07-11T09:28:55.959Z"
   },
   {
    "duration": 24,
    "start_time": "2023-07-11T09:28:56.283Z"
   },
   {
    "duration": 244,
    "start_time": "2023-07-11T09:28:56.309Z"
   },
   {
    "duration": 10,
    "start_time": "2023-07-11T09:28:56.557Z"
   },
   {
    "duration": 70,
    "start_time": "2023-07-11T09:28:56.568Z"
   },
   {
    "duration": 85,
    "start_time": "2023-07-11T09:28:56.639Z"
   },
   {
    "duration": 16,
    "start_time": "2023-07-11T09:28:56.726Z"
   },
   {
    "duration": 36,
    "start_time": "2023-07-11T09:28:56.744Z"
   },
   {
    "duration": 10,
    "start_time": "2023-07-11T09:28:56.782Z"
   },
   {
    "duration": 12,
    "start_time": "2023-07-11T09:28:56.794Z"
   },
   {
    "duration": 18,
    "start_time": "2023-07-11T09:28:56.808Z"
   },
   {
    "duration": 13,
    "start_time": "2023-07-11T09:29:55.803Z"
   },
   {
    "duration": 10,
    "start_time": "2023-07-11T09:29:56.906Z"
   },
   {
    "duration": 13,
    "start_time": "2023-07-11T09:29:57.741Z"
   },
   {
    "duration": 12,
    "start_time": "2023-07-11T09:30:20.343Z"
   },
   {
    "duration": 100,
    "start_time": "2023-07-11T09:33:07.938Z"
   },
   {
    "duration": 15,
    "start_time": "2023-07-11T09:34:15.663Z"
   },
   {
    "duration": 15,
    "start_time": "2023-07-11T09:34:24.795Z"
   },
   {
    "duration": 15,
    "start_time": "2023-07-11T09:37:23.103Z"
   },
   {
    "duration": 6,
    "start_time": "2023-07-11T09:40:52.252Z"
   },
   {
    "duration": 6,
    "start_time": "2023-07-11T09:41:31.341Z"
   },
   {
    "duration": 9,
    "start_time": "2023-07-11T09:41:41.231Z"
   },
   {
    "duration": 12,
    "start_time": "2023-07-11T09:41:59.214Z"
   },
   {
    "duration": 11,
    "start_time": "2023-07-11T09:42:18.251Z"
   },
   {
    "duration": 6,
    "start_time": "2023-07-11T09:43:29.859Z"
   },
   {
    "duration": 8,
    "start_time": "2023-07-11T09:43:43.447Z"
   },
   {
    "duration": 11,
    "start_time": "2023-07-11T09:43:58.405Z"
   },
   {
    "duration": 7,
    "start_time": "2023-07-11T09:44:06.319Z"
   },
   {
    "duration": 8,
    "start_time": "2023-07-11T09:44:13.954Z"
   },
   {
    "duration": 7,
    "start_time": "2023-07-11T09:44:51.344Z"
   },
   {
    "duration": 7,
    "start_time": "2023-07-11T09:45:01.910Z"
   },
   {
    "duration": 14,
    "start_time": "2023-07-11T09:48:52.594Z"
   },
   {
    "duration": 6,
    "start_time": "2023-07-11T09:49:05.227Z"
   },
   {
    "duration": 13,
    "start_time": "2023-07-11T09:49:27.212Z"
   },
   {
    "duration": 8,
    "start_time": "2023-07-11T09:49:33.395Z"
   },
   {
    "duration": 9,
    "start_time": "2023-07-11T09:49:50.030Z"
   },
   {
    "duration": 9,
    "start_time": "2023-07-11T09:51:22.994Z"
   },
   {
    "duration": 10,
    "start_time": "2023-07-11T09:51:35.804Z"
   },
   {
    "duration": 15,
    "start_time": "2023-07-11T09:52:20.625Z"
   },
   {
    "duration": 9,
    "start_time": "2023-07-11T09:52:23.465Z"
   },
   {
    "duration": 11,
    "start_time": "2023-07-11T09:52:46.511Z"
   },
   {
    "duration": 7,
    "start_time": "2023-07-11T09:53:15.223Z"
   },
   {
    "duration": 8,
    "start_time": "2023-07-11T09:53:30.511Z"
   },
   {
    "duration": 3,
    "start_time": "2023-07-11T09:54:04.446Z"
   },
   {
    "duration": 9,
    "start_time": "2023-07-11T09:54:07.592Z"
   },
   {
    "duration": 5,
    "start_time": "2023-07-11T09:54:21.575Z"
   },
   {
    "duration": 4,
    "start_time": "2023-07-11T09:54:26.194Z"
   },
   {
    "duration": 3,
    "start_time": "2023-07-11T09:54:56.597Z"
   },
   {
    "duration": 4,
    "start_time": "2023-07-11T09:55:10.049Z"
   },
   {
    "duration": 1223,
    "start_time": "2023-07-11T09:55:17.209Z"
   },
   {
    "duration": 84,
    "start_time": "2023-07-11T09:55:18.435Z"
   },
   {
    "duration": 16,
    "start_time": "2023-07-11T09:55:18.522Z"
   },
   {
    "duration": 19,
    "start_time": "2023-07-11T09:55:18.541Z"
   },
   {
    "duration": 286,
    "start_time": "2023-07-11T09:55:18.563Z"
   },
   {
    "duration": 9,
    "start_time": "2023-07-11T09:55:18.850Z"
   },
   {
    "duration": 211,
    "start_time": "2023-07-11T09:55:18.861Z"
   },
   {
    "duration": 145,
    "start_time": "2023-07-11T09:55:19.074Z"
   },
   {
    "duration": 9,
    "start_time": "2023-07-11T09:55:19.221Z"
   },
   {
    "duration": 18,
    "start_time": "2023-07-11T09:55:19.233Z"
   },
   {
    "duration": 225,
    "start_time": "2023-07-11T09:55:19.252Z"
   },
   {
    "duration": 25,
    "start_time": "2023-07-11T09:55:19.479Z"
   },
   {
    "duration": 252,
    "start_time": "2023-07-11T09:55:19.507Z"
   },
   {
    "duration": 10,
    "start_time": "2023-07-11T09:55:19.761Z"
   },
   {
    "duration": 21,
    "start_time": "2023-07-11T09:55:19.772Z"
   },
   {
    "duration": 36,
    "start_time": "2023-07-11T09:55:19.803Z"
   },
   {
    "duration": 26,
    "start_time": "2023-07-11T09:55:19.841Z"
   },
   {
    "duration": 7,
    "start_time": "2023-07-11T09:55:19.869Z"
   },
   {
    "duration": 25,
    "start_time": "2023-07-11T09:55:19.878Z"
   },
   {
    "duration": 8,
    "start_time": "2023-07-11T09:55:19.905Z"
   },
   {
    "duration": 16,
    "start_time": "2023-07-11T09:55:19.915Z"
   },
   {
    "duration": 11,
    "start_time": "2023-07-11T09:55:19.933Z"
   },
   {
    "duration": 9,
    "start_time": "2023-07-11T09:55:19.946Z"
   },
   {
    "duration": 6,
    "start_time": "2023-07-11T09:55:19.956Z"
   },
   {
    "duration": 12,
    "start_time": "2023-07-11T09:55:19.964Z"
   },
   {
    "duration": 26,
    "start_time": "2023-07-11T09:55:19.978Z"
   },
   {
    "duration": 9,
    "start_time": "2023-07-11T09:56:52.797Z"
   },
   {
    "duration": 10,
    "start_time": "2023-07-11T09:57:17.522Z"
   },
   {
    "duration": 9,
    "start_time": "2023-07-11T09:57:52.587Z"
   },
   {
    "duration": 107,
    "start_time": "2023-07-11T09:58:21.007Z"
   },
   {
    "duration": 8,
    "start_time": "2023-07-11T09:58:31.635Z"
   },
   {
    "duration": 6,
    "start_time": "2023-07-11T09:59:17.396Z"
   },
   {
    "duration": 5,
    "start_time": "2023-07-11T10:00:35.748Z"
   },
   {
    "duration": 191,
    "start_time": "2023-07-11T10:47:22.011Z"
   },
   {
    "duration": 211,
    "start_time": "2023-07-11T10:49:20.217Z"
   },
   {
    "duration": 187,
    "start_time": "2023-07-11T10:49:31.634Z"
   },
   {
    "duration": 302,
    "start_time": "2023-07-11T10:51:18.732Z"
   },
   {
    "duration": 205,
    "start_time": "2023-07-11T10:51:52.428Z"
   },
   {
    "duration": 194,
    "start_time": "2023-07-11T10:52:03.698Z"
   },
   {
    "duration": 228,
    "start_time": "2023-07-11T10:52:18.829Z"
   },
   {
    "duration": 146,
    "start_time": "2023-07-11T10:52:52.729Z"
   },
   {
    "duration": 179,
    "start_time": "2023-07-11T10:53:15.723Z"
   },
   {
    "duration": 127,
    "start_time": "2023-07-11T10:53:29.256Z"
   },
   {
    "duration": 132,
    "start_time": "2023-07-11T10:56:49.257Z"
   },
   {
    "duration": 164,
    "start_time": "2023-07-11T10:56:56.110Z"
   },
   {
    "duration": 176,
    "start_time": "2023-07-11T10:57:44.702Z"
   },
   {
    "duration": 155,
    "start_time": "2023-07-11T10:58:46.649Z"
   },
   {
    "duration": 139,
    "start_time": "2023-07-11T10:59:36.197Z"
   },
   {
    "duration": 284,
    "start_time": "2023-07-11T11:02:40.290Z"
   },
   {
    "duration": 120,
    "start_time": "2023-07-11T11:05:56.518Z"
   },
   {
    "duration": 4,
    "start_time": "2023-07-11T11:06:14.910Z"
   },
   {
    "duration": 4,
    "start_time": "2023-07-11T11:07:55.567Z"
   },
   {
    "duration": 5,
    "start_time": "2023-07-11T11:08:05.570Z"
   },
   {
    "duration": 7,
    "start_time": "2023-07-11T11:08:35.031Z"
   },
   {
    "duration": 8,
    "start_time": "2023-07-11T11:08:50.154Z"
   },
   {
    "duration": 221,
    "start_time": "2023-07-11T11:09:14.919Z"
   },
   {
    "duration": 277,
    "start_time": "2023-07-11T11:09:18.811Z"
   },
   {
    "duration": 170,
    "start_time": "2023-07-11T11:09:26.124Z"
   },
   {
    "duration": 217,
    "start_time": "2023-07-11T11:09:29.529Z"
   },
   {
    "duration": 198,
    "start_time": "2023-07-11T11:09:33.207Z"
   },
   {
    "duration": 5,
    "start_time": "2023-07-11T11:09:40.824Z"
   },
   {
    "duration": 6,
    "start_time": "2023-07-11T11:10:18.025Z"
   },
   {
    "duration": 171,
    "start_time": "2023-07-11T11:22:54.903Z"
   },
   {
    "duration": 169,
    "start_time": "2023-07-11T11:23:05.366Z"
   },
   {
    "duration": 183,
    "start_time": "2023-07-11T11:23:29.510Z"
   },
   {
    "duration": 188,
    "start_time": "2023-07-11T11:23:41.234Z"
   },
   {
    "duration": 125,
    "start_time": "2023-07-11T11:24:10.814Z"
   },
   {
    "duration": 127,
    "start_time": "2023-07-11T11:24:18.366Z"
   },
   {
    "duration": 129,
    "start_time": "2023-07-11T11:34:54.768Z"
   },
   {
    "duration": 263,
    "start_time": "2023-07-11T11:35:01.631Z"
   },
   {
    "duration": 129,
    "start_time": "2023-07-11T11:35:06.438Z"
   },
   {
    "duration": 133,
    "start_time": "2023-07-11T11:35:11.436Z"
   },
   {
    "duration": 135,
    "start_time": "2023-07-11T11:35:15.561Z"
   },
   {
    "duration": 136,
    "start_time": "2023-07-11T11:35:25.044Z"
   },
   {
    "duration": 158,
    "start_time": "2023-07-11T11:35:37.102Z"
   },
   {
    "duration": 137,
    "start_time": "2023-07-11T11:35:42.744Z"
   },
   {
    "duration": 131,
    "start_time": "2023-07-11T11:35:47.519Z"
   },
   {
    "duration": 143,
    "start_time": "2023-07-11T11:35:56.643Z"
   },
   {
    "duration": 135,
    "start_time": "2023-07-11T11:36:05.298Z"
   },
   {
    "duration": 16,
    "start_time": "2023-07-11T11:43:01.610Z"
   },
   {
    "duration": 23,
    "start_time": "2023-07-11T11:43:16.757Z"
   },
   {
    "duration": 12,
    "start_time": "2023-07-11T11:43:52.486Z"
   },
   {
    "duration": 22,
    "start_time": "2023-07-11T11:43:58.014Z"
   },
   {
    "duration": 10,
    "start_time": "2023-07-11T11:44:17.903Z"
   },
   {
    "duration": 8,
    "start_time": "2023-07-11T11:44:48.937Z"
   },
   {
    "duration": 8142,
    "start_time": "2023-07-11T11:46:37.023Z"
   },
   {
    "duration": 12,
    "start_time": "2023-07-11T11:47:26.886Z"
   },
   {
    "duration": 25,
    "start_time": "2023-07-11T11:51:14.821Z"
   },
   {
    "duration": 11,
    "start_time": "2023-07-11T11:51:51.531Z"
   },
   {
    "duration": 7,
    "start_time": "2023-07-11T11:52:27.934Z"
   },
   {
    "duration": 13,
    "start_time": "2023-07-11T11:52:50.355Z"
   },
   {
    "duration": 7,
    "start_time": "2023-07-11T11:53:01.412Z"
   },
   {
    "duration": 12,
    "start_time": "2023-07-11T11:53:35.540Z"
   },
   {
    "duration": 10,
    "start_time": "2023-07-11T11:54:37.785Z"
   },
   {
    "duration": 16,
    "start_time": "2023-07-11T11:54:40.930Z"
   },
   {
    "duration": 23,
    "start_time": "2023-07-11T11:54:59.402Z"
   },
   {
    "duration": 60,
    "start_time": "2023-07-11T11:55:59.927Z"
   },
   {
    "duration": 61,
    "start_time": "2023-07-11T11:59:52.343Z"
   },
   {
    "duration": 51,
    "start_time": "2023-07-11T12:00:10.820Z"
   },
   {
    "duration": 43,
    "start_time": "2023-07-11T12:02:26.034Z"
   },
   {
    "duration": 67,
    "start_time": "2023-07-11T12:02:38.895Z"
   },
   {
    "duration": 48,
    "start_time": "2023-07-11T12:04:19.817Z"
   },
   {
    "duration": 53,
    "start_time": "2023-07-11T12:04:45.454Z"
   },
   {
    "duration": 47,
    "start_time": "2023-07-11T12:05:12.547Z"
   },
   {
    "duration": 900,
    "start_time": "2023-07-11T12:05:51.019Z"
   },
   {
    "duration": 63,
    "start_time": "2023-07-11T12:06:18.992Z"
   },
   {
    "duration": 312,
    "start_time": "2023-07-11T12:10:22.419Z"
   },
   {
    "duration": 80,
    "start_time": "2023-07-11T12:10:40.335Z"
   },
   {
    "duration": 70,
    "start_time": "2023-07-11T12:11:38.811Z"
   },
   {
    "duration": 67,
    "start_time": "2023-07-11T12:14:05.931Z"
   },
   {
    "duration": 9,
    "start_time": "2023-07-11T12:24:47.391Z"
   },
   {
    "duration": 6,
    "start_time": "2023-07-11T12:25:08.423Z"
   },
   {
    "duration": 16,
    "start_time": "2023-07-11T12:25:51.328Z"
   },
   {
    "duration": 14,
    "start_time": "2023-07-11T12:25:57.449Z"
   },
   {
    "duration": 11,
    "start_time": "2023-07-11T12:26:32.817Z"
   },
   {
    "duration": 12,
    "start_time": "2023-07-11T12:26:53.822Z"
   },
   {
    "duration": 10,
    "start_time": "2023-07-11T12:26:59.090Z"
   },
   {
    "duration": 5,
    "start_time": "2023-07-11T12:27:05.418Z"
   },
   {
    "duration": 138,
    "start_time": "2023-07-11T12:27:16.060Z"
   },
   {
    "duration": 8,
    "start_time": "2023-07-11T12:27:31.220Z"
   },
   {
    "duration": 10,
    "start_time": "2023-07-11T12:27:44.880Z"
   },
   {
    "duration": 10,
    "start_time": "2023-07-11T12:28:30.059Z"
   },
   {
    "duration": 7,
    "start_time": "2023-07-11T12:28:41.445Z"
   },
   {
    "duration": 5,
    "start_time": "2023-07-11T12:28:53.783Z"
   },
   {
    "duration": 8,
    "start_time": "2023-07-11T12:29:15.411Z"
   },
   {
    "duration": 6,
    "start_time": "2023-07-11T12:29:28.537Z"
   },
   {
    "duration": 8,
    "start_time": "2023-07-11T12:30:24.415Z"
   },
   {
    "duration": 6,
    "start_time": "2023-07-11T12:30:55.921Z"
   },
   {
    "duration": 8,
    "start_time": "2023-07-11T12:33:08.380Z"
   },
   {
    "duration": 7,
    "start_time": "2023-07-11T12:34:15.754Z"
   },
   {
    "duration": 13,
    "start_time": "2023-07-11T12:34:19.733Z"
   },
   {
    "duration": 21,
    "start_time": "2023-07-11T12:34:30.803Z"
   },
   {
    "duration": 11,
    "start_time": "2023-07-11T12:34:49.317Z"
   },
   {
    "duration": 18,
    "start_time": "2023-07-11T12:34:57.734Z"
   },
   {
    "duration": 15,
    "start_time": "2023-07-11T12:35:24.126Z"
   },
   {
    "duration": 17,
    "start_time": "2023-07-11T12:35:47.442Z"
   },
   {
    "duration": 73,
    "start_time": "2023-07-11T12:37:08.863Z"
   },
   {
    "duration": 77,
    "start_time": "2023-07-11T12:39:02.948Z"
   },
   {
    "duration": 161,
    "start_time": "2023-07-11T12:45:53.287Z"
   },
   {
    "duration": 19,
    "start_time": "2023-07-11T12:46:04.758Z"
   },
   {
    "duration": 19,
    "start_time": "2023-07-11T12:47:23.579Z"
   },
   {
    "duration": 25,
    "start_time": "2023-07-11T12:47:41.156Z"
   },
   {
    "duration": 27,
    "start_time": "2023-07-11T12:47:57.922Z"
   },
   {
    "duration": 18,
    "start_time": "2023-07-11T12:49:12.391Z"
   },
   {
    "duration": 17,
    "start_time": "2023-07-11T12:50:31.959Z"
   },
   {
    "duration": 28,
    "start_time": "2023-07-11T12:51:19.193Z"
   },
   {
    "duration": 246,
    "start_time": "2023-07-11T13:02:06.447Z"
   },
   {
    "duration": 215,
    "start_time": "2023-07-11T13:03:04.241Z"
   },
   {
    "duration": 320,
    "start_time": "2023-07-11T13:03:08.048Z"
   },
   {
    "duration": 122,
    "start_time": "2023-07-11T13:03:58.885Z"
   },
   {
    "duration": 140,
    "start_time": "2023-07-11T13:04:23.584Z"
   },
   {
    "duration": 230,
    "start_time": "2023-07-11T13:04:45.348Z"
   },
   {
    "duration": 283,
    "start_time": "2023-07-11T13:05:00.530Z"
   },
   {
    "duration": 220,
    "start_time": "2023-07-11T13:05:41.323Z"
   },
   {
    "duration": 279,
    "start_time": "2023-07-11T13:05:49.849Z"
   },
   {
    "duration": 240,
    "start_time": "2023-07-11T13:05:56.944Z"
   },
   {
    "duration": 245,
    "start_time": "2023-07-11T13:06:15.169Z"
   },
   {
    "duration": 229,
    "start_time": "2023-07-11T13:06:58.545Z"
   },
   {
    "duration": 278,
    "start_time": "2023-07-11T13:07:18.369Z"
   },
   {
    "duration": 294,
    "start_time": "2023-07-11T13:07:36.042Z"
   },
   {
    "duration": 142,
    "start_time": "2023-07-11T13:07:50.927Z"
   },
   {
    "duration": 357,
    "start_time": "2023-07-11T13:09:13.084Z"
   },
   {
    "duration": 558,
    "start_time": "2023-07-11T13:09:40.130Z"
   },
   {
    "duration": 416,
    "start_time": "2023-07-11T13:09:54.158Z"
   },
   {
    "duration": 396,
    "start_time": "2023-07-11T13:10:09.253Z"
   },
   {
    "duration": 381,
    "start_time": "2023-07-11T13:10:34.209Z"
   },
   {
    "duration": 264,
    "start_time": "2023-07-11T13:11:33.398Z"
   },
   {
    "duration": 253,
    "start_time": "2023-07-11T13:12:17.186Z"
   },
   {
    "duration": 295,
    "start_time": "2023-07-11T13:13:40.653Z"
   },
   {
    "duration": 278,
    "start_time": "2023-07-11T13:16:55.239Z"
   },
   {
    "duration": 352,
    "start_time": "2023-07-11T13:18:45.630Z"
   },
   {
    "duration": 355,
    "start_time": "2023-07-11T13:19:04.365Z"
   },
   {
    "duration": 354,
    "start_time": "2023-07-11T13:19:17.828Z"
   },
   {
    "duration": 566,
    "start_time": "2023-07-11T13:20:04.802Z"
   },
   {
    "duration": 21,
    "start_time": "2023-07-11T13:20:58.133Z"
   },
   {
    "duration": 165,
    "start_time": "2023-07-11T13:22:44.029Z"
   },
   {
    "duration": 157,
    "start_time": "2023-07-11T13:22:52.566Z"
   },
   {
    "duration": 6,
    "start_time": "2023-07-11T13:46:45.522Z"
   },
   {
    "duration": 1249,
    "start_time": "2023-07-11T13:49:55.226Z"
   },
   {
    "duration": 79,
    "start_time": "2023-07-11T13:49:56.478Z"
   },
   {
    "duration": 15,
    "start_time": "2023-07-11T13:49:56.558Z"
   },
   {
    "duration": 46,
    "start_time": "2023-07-11T13:49:56.575Z"
   },
   {
    "duration": 37,
    "start_time": "2023-07-11T13:49:56.627Z"
   },
   {
    "duration": 26,
    "start_time": "2023-07-11T13:49:56.666Z"
   },
   {
    "duration": 119,
    "start_time": "2023-07-11T13:49:56.694Z"
   },
   {
    "duration": 46,
    "start_time": "2023-07-11T13:49:56.814Z"
   },
   {
    "duration": 28,
    "start_time": "2023-07-11T13:49:56.862Z"
   },
   {
    "duration": 36,
    "start_time": "2023-07-11T13:49:56.891Z"
   },
   {
    "duration": 60,
    "start_time": "2023-07-11T13:49:56.928Z"
   },
   {
    "duration": 93,
    "start_time": "2023-07-11T13:49:56.990Z"
   },
   {
    "duration": 32,
    "start_time": "2023-07-11T13:49:57.085Z"
   },
   {
    "duration": 42,
    "start_time": "2023-07-11T13:49:57.122Z"
   },
   {
    "duration": 18,
    "start_time": "2023-07-11T13:49:57.167Z"
   },
   {
    "duration": 42,
    "start_time": "2023-07-11T13:49:57.187Z"
   },
   {
    "duration": 19,
    "start_time": "2023-07-11T13:49:57.231Z"
   },
   {
    "duration": 11,
    "start_time": "2023-07-11T13:49:57.252Z"
   },
   {
    "duration": 22,
    "start_time": "2023-07-11T13:49:57.265Z"
   },
   {
    "duration": 44,
    "start_time": "2023-07-11T13:49:57.290Z"
   },
   {
    "duration": 18,
    "start_time": "2023-07-11T13:49:57.336Z"
   },
   {
    "duration": 42,
    "start_time": "2023-07-11T13:49:57.356Z"
   },
   {
    "duration": 67,
    "start_time": "2023-07-11T13:49:57.400Z"
   },
   {
    "duration": 29,
    "start_time": "2023-07-11T13:49:57.469Z"
   },
   {
    "duration": 27,
    "start_time": "2023-07-11T13:49:57.499Z"
   },
   {
    "duration": 8,
    "start_time": "2023-07-11T13:49:57.530Z"
   },
   {
    "duration": 30,
    "start_time": "2023-07-11T13:49:57.540Z"
   },
   {
    "duration": 272,
    "start_time": "2023-07-11T13:49:57.572Z"
   },
   {
    "duration": 6,
    "start_time": "2023-07-11T13:49:57.846Z"
   },
   {
    "duration": 170,
    "start_time": "2023-07-11T13:49:57.853Z"
   },
   {
    "duration": 242,
    "start_time": "2023-07-11T13:49:58.027Z"
   },
   {
    "duration": 256,
    "start_time": "2023-07-11T13:49:58.272Z"
   },
   {
    "duration": 268,
    "start_time": "2023-07-11T13:49:58.531Z"
   },
   {
    "duration": 123,
    "start_time": "2023-07-11T13:51:41.077Z"
   },
   {
    "duration": 10,
    "start_time": "2023-07-11T13:52:48.565Z"
   },
   {
    "duration": 101,
    "start_time": "2023-07-11T13:53:14.074Z"
   },
   {
    "duration": 13,
    "start_time": "2023-07-11T13:53:23.729Z"
   },
   {
    "duration": 30,
    "start_time": "2023-07-11T13:53:59.087Z"
   },
   {
    "duration": 23,
    "start_time": "2023-07-11T13:54:28.962Z"
   },
   {
    "duration": 10,
    "start_time": "2023-07-11T13:54:55.677Z"
   },
   {
    "duration": 15,
    "start_time": "2023-07-11T13:55:01.169Z"
   },
   {
    "duration": 11,
    "start_time": "2023-07-11T13:55:03.931Z"
   },
   {
    "duration": 40,
    "start_time": "2023-07-11T13:55:09.488Z"
   },
   {
    "duration": 13,
    "start_time": "2023-07-11T13:56:59.897Z"
   },
   {
    "duration": 20,
    "start_time": "2023-07-11T13:58:08.576Z"
   },
   {
    "duration": 18,
    "start_time": "2023-07-11T13:58:26.287Z"
   },
   {
    "duration": 1108,
    "start_time": "2023-07-11T14:15:45.669Z"
   },
   {
    "duration": 74,
    "start_time": "2023-07-11T14:15:46.779Z"
   },
   {
    "duration": 13,
    "start_time": "2023-07-11T14:15:46.855Z"
   },
   {
    "duration": 17,
    "start_time": "2023-07-11T14:15:46.870Z"
   },
   {
    "duration": 14,
    "start_time": "2023-07-11T14:15:46.889Z"
   },
   {
    "duration": 10,
    "start_time": "2023-07-11T14:15:46.915Z"
   },
   {
    "duration": 16,
    "start_time": "2023-07-11T14:15:46.926Z"
   },
   {
    "duration": 16,
    "start_time": "2023-07-11T14:15:46.943Z"
   },
   {
    "duration": 9,
    "start_time": "2023-07-11T14:15:46.960Z"
   },
   {
    "duration": 9,
    "start_time": "2023-07-11T14:15:46.971Z"
   },
   {
    "duration": 8,
    "start_time": "2023-07-11T14:15:46.981Z"
   },
   {
    "duration": 12,
    "start_time": "2023-07-11T14:15:47.003Z"
   },
   {
    "duration": 13,
    "start_time": "2023-07-11T14:15:47.017Z"
   },
   {
    "duration": 9,
    "start_time": "2023-07-11T14:15:47.031Z"
   },
   {
    "duration": 15,
    "start_time": "2023-07-11T14:15:47.041Z"
   },
   {
    "duration": 4,
    "start_time": "2023-07-11T14:15:47.058Z"
   },
   {
    "duration": 21,
    "start_time": "2023-07-11T14:15:47.064Z"
   },
   {
    "duration": 19,
    "start_time": "2023-07-11T14:15:47.086Z"
   },
   {
    "duration": 7,
    "start_time": "2023-07-11T14:15:47.106Z"
   },
   {
    "duration": 8,
    "start_time": "2023-07-11T14:15:47.115Z"
   },
   {
    "duration": 18,
    "start_time": "2023-07-11T14:15:47.124Z"
   },
   {
    "duration": 3,
    "start_time": "2023-07-11T14:15:47.144Z"
   },
   {
    "duration": 10,
    "start_time": "2023-07-11T14:15:47.149Z"
   },
   {
    "duration": 11,
    "start_time": "2023-07-11T14:15:47.160Z"
   },
   {
    "duration": 9,
    "start_time": "2023-07-11T14:15:47.172Z"
   },
   {
    "duration": 15,
    "start_time": "2023-07-11T14:15:47.204Z"
   },
   {
    "duration": 7,
    "start_time": "2023-07-11T14:15:47.221Z"
   },
   {
    "duration": 210,
    "start_time": "2023-07-11T14:15:47.231Z"
   },
   {
    "duration": 6,
    "start_time": "2023-07-11T14:15:47.443Z"
   },
   {
    "duration": 165,
    "start_time": "2023-07-11T14:15:47.451Z"
   },
   {
    "duration": 200,
    "start_time": "2023-07-11T14:15:47.618Z"
   },
   {
    "duration": 20,
    "start_time": "2023-07-11T14:15:47.820Z"
   },
   {
    "duration": 231,
    "start_time": "2023-07-11T14:15:47.843Z"
   },
   {
    "duration": 245,
    "start_time": "2023-07-11T14:15:48.077Z"
   },
   {
    "duration": 17,
    "start_time": "2023-07-11T14:16:18.643Z"
   },
   {
    "duration": 14,
    "start_time": "2023-07-11T14:16:22.824Z"
   },
   {
    "duration": 15,
    "start_time": "2023-07-11T14:16:28.828Z"
   },
   {
    "duration": 17,
    "start_time": "2023-07-11T14:16:42.206Z"
   },
   {
    "duration": 11,
    "start_time": "2023-07-11T14:18:45.835Z"
   },
   {
    "duration": 12,
    "start_time": "2023-07-11T14:19:22.058Z"
   },
   {
    "duration": 12,
    "start_time": "2023-07-11T14:19:26.636Z"
   },
   {
    "duration": 12,
    "start_time": "2023-07-11T14:19:52.806Z"
   },
   {
    "duration": 12,
    "start_time": "2023-07-11T14:21:07.744Z"
   },
   {
    "duration": 14,
    "start_time": "2023-07-11T14:23:06.946Z"
   },
   {
    "duration": 1538,
    "start_time": "2023-07-11T14:32:27.555Z"
   },
   {
    "duration": 17,
    "start_time": "2023-07-11T14:32:48.161Z"
   },
   {
    "duration": 21,
    "start_time": "2023-07-11T14:37:10.225Z"
   },
   {
    "duration": 18,
    "start_time": "2023-07-11T14:38:50.329Z"
   },
   {
    "duration": 16,
    "start_time": "2023-07-11T14:39:38.758Z"
   },
   {
    "duration": 20,
    "start_time": "2023-07-11T14:46:53.085Z"
   },
   {
    "duration": 13,
    "start_time": "2023-07-11T14:47:19.730Z"
   },
   {
    "duration": 11,
    "start_time": "2023-07-11T14:47:36.149Z"
   },
   {
    "duration": 7,
    "start_time": "2023-07-11T14:47:46.239Z"
   },
   {
    "duration": 16,
    "start_time": "2023-07-11T14:49:24.881Z"
   },
   {
    "duration": 17,
    "start_time": "2023-07-11T14:50:00.984Z"
   },
   {
    "duration": 20,
    "start_time": "2023-07-11T14:51:50.558Z"
   },
   {
    "duration": 7,
    "start_time": "2023-07-11T14:55:39.584Z"
   },
   {
    "duration": 13,
    "start_time": "2023-07-11T14:56:18.312Z"
   },
   {
    "duration": 13,
    "start_time": "2023-07-11T14:56:59.502Z"
   },
   {
    "duration": 9,
    "start_time": "2023-07-11T14:57:52.755Z"
   },
   {
    "duration": 220,
    "start_time": "2023-07-11T14:58:35.215Z"
   },
   {
    "duration": 253,
    "start_time": "2023-07-11T14:59:03.862Z"
   },
   {
    "duration": 1199,
    "start_time": "2023-07-11T15:00:08.890Z"
   },
   {
    "duration": 77,
    "start_time": "2023-07-11T15:00:10.091Z"
   },
   {
    "duration": 13,
    "start_time": "2023-07-11T15:00:10.170Z"
   },
   {
    "duration": 31,
    "start_time": "2023-07-11T15:00:10.184Z"
   },
   {
    "duration": 27,
    "start_time": "2023-07-11T15:00:10.218Z"
   },
   {
    "duration": 27,
    "start_time": "2023-07-11T15:00:10.247Z"
   },
   {
    "duration": 34,
    "start_time": "2023-07-11T15:00:10.276Z"
   },
   {
    "duration": 39,
    "start_time": "2023-07-11T15:00:10.311Z"
   },
   {
    "duration": 33,
    "start_time": "2023-07-11T15:00:10.352Z"
   },
   {
    "duration": 18,
    "start_time": "2023-07-11T15:00:10.387Z"
   },
   {
    "duration": 17,
    "start_time": "2023-07-11T15:00:10.416Z"
   },
   {
    "duration": 59,
    "start_time": "2023-07-11T15:00:10.435Z"
   },
   {
    "duration": 55,
    "start_time": "2023-07-11T15:00:10.496Z"
   },
   {
    "duration": 16,
    "start_time": "2023-07-11T15:00:10.555Z"
   },
   {
    "duration": 21,
    "start_time": "2023-07-11T15:00:10.573Z"
   },
   {
    "duration": 10,
    "start_time": "2023-07-11T15:00:10.596Z"
   },
   {
    "duration": 42,
    "start_time": "2023-07-11T15:00:10.607Z"
   },
   {
    "duration": 19,
    "start_time": "2023-07-11T15:00:10.651Z"
   },
   {
    "duration": 26,
    "start_time": "2023-07-11T15:00:10.673Z"
   },
   {
    "duration": 36,
    "start_time": "2023-07-11T15:00:10.701Z"
   },
   {
    "duration": 33,
    "start_time": "2023-07-11T15:00:10.739Z"
   },
   {
    "duration": 28,
    "start_time": "2023-07-11T15:00:10.774Z"
   },
   {
    "duration": 34,
    "start_time": "2023-07-11T15:00:10.804Z"
   },
   {
    "duration": 28,
    "start_time": "2023-07-11T15:00:10.840Z"
   },
   {
    "duration": 27,
    "start_time": "2023-07-11T15:00:10.870Z"
   },
   {
    "duration": 34,
    "start_time": "2023-07-11T15:00:10.899Z"
   },
   {
    "duration": 25,
    "start_time": "2023-07-11T15:00:10.935Z"
   },
   {
    "duration": 242,
    "start_time": "2023-07-11T15:00:10.961Z"
   },
   {
    "duration": 13,
    "start_time": "2023-07-11T15:00:11.206Z"
   },
   {
    "duration": 153,
    "start_time": "2023-07-11T15:00:11.220Z"
   },
   {
    "duration": 205,
    "start_time": "2023-07-11T15:00:11.375Z"
   },
   {
    "duration": 27,
    "start_time": "2023-07-11T15:00:11.582Z"
   },
   {
    "duration": 17,
    "start_time": "2023-07-11T15:00:11.610Z"
   },
   {
    "duration": 239,
    "start_time": "2023-07-11T15:00:11.629Z"
   },
   {
    "duration": 15,
    "start_time": "2023-07-11T15:00:11.870Z"
   },
   {
    "duration": 2,
    "start_time": "2023-07-11T15:00:11.904Z"
   },
   {
    "duration": 11,
    "start_time": "2023-07-11T15:00:11.907Z"
   },
   {
    "duration": 235,
    "start_time": "2023-07-11T15:00:11.919Z"
   },
   {
    "duration": 7,
    "start_time": "2023-07-11T15:01:30.637Z"
   },
   {
    "duration": 107,
    "start_time": "2023-07-11T15:02:21.483Z"
   },
   {
    "duration": 12,
    "start_time": "2023-07-11T15:02:34.531Z"
   },
   {
    "duration": 12,
    "start_time": "2023-07-11T15:02:50.271Z"
   },
   {
    "duration": 7,
    "start_time": "2023-07-11T15:03:19.386Z"
   },
   {
    "duration": 17,
    "start_time": "2023-07-11T15:03:27.042Z"
   },
   {
    "duration": 12,
    "start_time": "2023-07-11T15:03:46.950Z"
   },
   {
    "duration": 1466,
    "start_time": "2023-07-11T15:03:51.350Z"
   },
   {
    "duration": 12,
    "start_time": "2023-07-11T15:04:03.259Z"
   },
   {
    "duration": 14,
    "start_time": "2023-07-11T15:04:10.420Z"
   },
   {
    "duration": 14,
    "start_time": "2023-07-11T15:07:19.027Z"
   },
   {
    "duration": 9,
    "start_time": "2023-07-11T15:09:49.836Z"
   },
   {
    "duration": 9,
    "start_time": "2023-07-11T15:09:55.189Z"
   },
   {
    "duration": 7,
    "start_time": "2023-07-11T15:13:25.755Z"
   },
   {
    "duration": 10,
    "start_time": "2023-07-11T15:13:29.513Z"
   },
   {
    "duration": 226,
    "start_time": "2023-07-11T15:13:38.028Z"
   },
   {
    "duration": 1181,
    "start_time": "2023-07-11T15:15:07.696Z"
   },
   {
    "duration": 83,
    "start_time": "2023-07-11T15:15:08.879Z"
   },
   {
    "duration": 15,
    "start_time": "2023-07-11T15:15:08.964Z"
   },
   {
    "duration": 12,
    "start_time": "2023-07-11T15:15:08.981Z"
   },
   {
    "duration": 44,
    "start_time": "2023-07-11T15:15:08.996Z"
   },
   {
    "duration": 7,
    "start_time": "2023-07-11T15:15:09.042Z"
   },
   {
    "duration": 20,
    "start_time": "2023-07-11T15:15:09.051Z"
   },
   {
    "duration": 15,
    "start_time": "2023-07-11T15:15:09.072Z"
   },
   {
    "duration": 8,
    "start_time": "2023-07-11T15:15:09.089Z"
   },
   {
    "duration": 24,
    "start_time": "2023-07-11T15:15:09.099Z"
   },
   {
    "duration": 13,
    "start_time": "2023-07-11T15:15:09.126Z"
   },
   {
    "duration": 24,
    "start_time": "2023-07-11T15:15:09.141Z"
   },
   {
    "duration": 16,
    "start_time": "2023-07-11T15:15:09.167Z"
   },
   {
    "duration": 8,
    "start_time": "2023-07-11T15:15:09.186Z"
   },
   {
    "duration": 42,
    "start_time": "2023-07-11T15:15:09.196Z"
   },
   {
    "duration": 5,
    "start_time": "2023-07-11T15:15:09.239Z"
   },
   {
    "duration": 16,
    "start_time": "2023-07-11T15:15:09.246Z"
   },
   {
    "duration": 8,
    "start_time": "2023-07-11T15:15:09.264Z"
   },
   {
    "duration": 11,
    "start_time": "2023-07-11T15:15:09.273Z"
   },
   {
    "duration": 4,
    "start_time": "2023-07-11T15:15:09.286Z"
   },
   {
    "duration": 17,
    "start_time": "2023-07-11T15:15:09.292Z"
   },
   {
    "duration": 23,
    "start_time": "2023-07-11T15:15:09.311Z"
   },
   {
    "duration": 9,
    "start_time": "2023-07-11T15:15:09.336Z"
   },
   {
    "duration": 12,
    "start_time": "2023-07-11T15:15:09.346Z"
   },
   {
    "duration": 6,
    "start_time": "2023-07-11T15:15:09.359Z"
   },
   {
    "duration": 8,
    "start_time": "2023-07-11T15:15:09.366Z"
   },
   {
    "duration": 8,
    "start_time": "2023-07-11T15:15:09.375Z"
   },
   {
    "duration": 240,
    "start_time": "2023-07-11T15:15:09.385Z"
   },
   {
    "duration": 10,
    "start_time": "2023-07-11T15:15:09.626Z"
   },
   {
    "duration": 134,
    "start_time": "2023-07-11T15:15:09.638Z"
   },
   {
    "duration": 218,
    "start_time": "2023-07-11T15:15:09.774Z"
   },
   {
    "duration": 37,
    "start_time": "2023-07-11T15:15:09.994Z"
   },
   {
    "duration": 21,
    "start_time": "2023-07-11T15:15:10.034Z"
   },
   {
    "duration": 241,
    "start_time": "2023-07-11T15:15:10.057Z"
   },
   {
    "duration": 32,
    "start_time": "2023-07-11T15:15:10.302Z"
   },
   {
    "duration": 8,
    "start_time": "2023-07-11T15:15:10.336Z"
   },
   {
    "duration": 22,
    "start_time": "2023-07-11T15:15:10.345Z"
   },
   {
    "duration": 288,
    "start_time": "2023-07-11T15:15:10.369Z"
   },
   {
    "duration": 107,
    "start_time": "2023-07-11T15:19:39.788Z"
   },
   {
    "duration": 17,
    "start_time": "2023-07-11T15:20:05.103Z"
   },
   {
    "duration": 384,
    "start_time": "2023-07-11T15:20:53.083Z"
   },
   {
    "duration": 416,
    "start_time": "2023-07-11T15:21:24.038Z"
   },
   {
    "duration": 482,
    "start_time": "2023-07-11T15:22:01.607Z"
   },
   {
    "duration": 91,
    "start_time": "2023-07-11T15:24:19.301Z"
   },
   {
    "duration": 14,
    "start_time": "2023-07-11T15:24:40.126Z"
   },
   {
    "duration": 11,
    "start_time": "2023-07-11T15:25:38.062Z"
   },
   {
    "duration": 11,
    "start_time": "2023-07-11T15:25:48.928Z"
   },
   {
    "duration": 1305,
    "start_time": "2023-07-11T15:37:13.847Z"
   },
   {
    "duration": 84,
    "start_time": "2023-07-11T15:37:15.154Z"
   },
   {
    "duration": 19,
    "start_time": "2023-07-11T15:37:15.242Z"
   },
   {
    "duration": 17,
    "start_time": "2023-07-11T15:37:15.263Z"
   },
   {
    "duration": 10,
    "start_time": "2023-07-11T15:37:15.281Z"
   },
   {
    "duration": 41,
    "start_time": "2023-07-11T15:37:15.292Z"
   },
   {
    "duration": 27,
    "start_time": "2023-07-11T15:37:15.335Z"
   },
   {
    "duration": 18,
    "start_time": "2023-07-11T15:37:15.364Z"
   },
   {
    "duration": 9,
    "start_time": "2023-07-11T15:37:15.384Z"
   },
   {
    "duration": 34,
    "start_time": "2023-07-11T15:37:15.397Z"
   },
   {
    "duration": 23,
    "start_time": "2023-07-11T15:37:15.438Z"
   },
   {
    "duration": 15,
    "start_time": "2023-07-11T15:37:15.463Z"
   },
   {
    "duration": 14,
    "start_time": "2023-07-11T15:37:15.480Z"
   },
   {
    "duration": 60,
    "start_time": "2023-07-11T15:37:15.496Z"
   },
   {
    "duration": 14,
    "start_time": "2023-07-11T15:37:15.558Z"
   },
   {
    "duration": 6,
    "start_time": "2023-07-11T15:37:15.575Z"
   },
   {
    "duration": 10,
    "start_time": "2023-07-11T15:37:15.583Z"
   },
   {
    "duration": 13,
    "start_time": "2023-07-11T15:37:15.595Z"
   },
   {
    "duration": 42,
    "start_time": "2023-07-11T15:37:15.617Z"
   },
   {
    "duration": 21,
    "start_time": "2023-07-11T15:37:15.661Z"
   },
   {
    "duration": 10,
    "start_time": "2023-07-11T15:37:15.684Z"
   },
   {
    "duration": 18,
    "start_time": "2023-07-11T15:37:15.696Z"
   },
   {
    "duration": 43,
    "start_time": "2023-07-11T15:37:15.716Z"
   },
   {
    "duration": 20,
    "start_time": "2023-07-11T15:37:15.762Z"
   },
   {
    "duration": 7,
    "start_time": "2023-07-11T15:37:15.784Z"
   },
   {
    "duration": 21,
    "start_time": "2023-07-11T15:37:15.792Z"
   },
   {
    "duration": 43,
    "start_time": "2023-07-11T15:37:15.816Z"
   },
   {
    "duration": 230,
    "start_time": "2023-07-11T15:37:15.862Z"
   },
   {
    "duration": 30,
    "start_time": "2023-07-11T15:37:16.102Z"
   },
   {
    "duration": 189,
    "start_time": "2023-07-11T15:37:16.139Z"
   },
   {
    "duration": 236,
    "start_time": "2023-07-11T15:37:16.339Z"
   },
   {
    "duration": 40,
    "start_time": "2023-07-11T15:37:16.577Z"
   },
   {
    "duration": 18,
    "start_time": "2023-07-11T15:37:16.619Z"
   },
   {
    "duration": 266,
    "start_time": "2023-07-11T15:37:16.645Z"
   },
   {
    "duration": 27,
    "start_time": "2023-07-11T15:37:16.918Z"
   },
   {
    "duration": 84,
    "start_time": "2023-07-11T15:37:16.947Z"
   },
   {
    "duration": 31,
    "start_time": "2023-07-11T15:37:17.033Z"
   },
   {
    "duration": 278,
    "start_time": "2023-07-11T15:37:17.066Z"
   },
   {
    "duration": 5,
    "start_time": "2023-07-11T15:40:01.042Z"
   },
   {
    "duration": 16,
    "start_time": "2023-07-11T15:40:10.431Z"
   },
   {
    "duration": 22,
    "start_time": "2023-07-11T15:40:39.099Z"
   },
   {
    "duration": 15,
    "start_time": "2023-07-11T15:42:35.116Z"
   },
   {
    "duration": 12,
    "start_time": "2023-07-11T15:42:44.427Z"
   },
   {
    "duration": 19,
    "start_time": "2023-07-11T15:44:16.055Z"
   },
   {
    "duration": 43,
    "start_time": "2023-07-11T15:54:34.895Z"
   },
   {
    "duration": 17,
    "start_time": "2023-07-11T16:08:17.982Z"
   },
   {
    "duration": 17,
    "start_time": "2023-07-11T16:09:25.901Z"
   },
   {
    "duration": 7,
    "start_time": "2023-07-11T16:16:52.466Z"
   },
   {
    "duration": 12,
    "start_time": "2023-07-11T16:16:53.697Z"
   },
   {
    "duration": 218,
    "start_time": "2023-07-11T16:16:57.323Z"
   },
   {
    "duration": 1172,
    "start_time": "2023-07-11T16:17:15.899Z"
   },
   {
    "duration": 76,
    "start_time": "2023-07-11T16:17:17.073Z"
   },
   {
    "duration": 13,
    "start_time": "2023-07-11T16:17:17.151Z"
   },
   {
    "duration": 13,
    "start_time": "2023-07-11T16:17:17.167Z"
   },
   {
    "duration": 21,
    "start_time": "2023-07-11T16:17:17.182Z"
   },
   {
    "duration": 28,
    "start_time": "2023-07-11T16:17:17.204Z"
   },
   {
    "duration": 16,
    "start_time": "2023-07-11T16:17:17.234Z"
   },
   {
    "duration": 22,
    "start_time": "2023-07-11T16:17:17.252Z"
   },
   {
    "duration": 16,
    "start_time": "2023-07-11T16:17:17.276Z"
   },
   {
    "duration": 14,
    "start_time": "2023-07-11T16:17:17.294Z"
   },
   {
    "duration": 17,
    "start_time": "2023-07-11T16:17:17.310Z"
   },
   {
    "duration": 22,
    "start_time": "2023-07-11T16:17:17.328Z"
   },
   {
    "duration": 22,
    "start_time": "2023-07-11T16:17:17.352Z"
   },
   {
    "duration": 16,
    "start_time": "2023-07-11T16:17:17.376Z"
   },
   {
    "duration": 32,
    "start_time": "2023-07-11T16:17:17.394Z"
   },
   {
    "duration": 11,
    "start_time": "2023-07-11T16:17:17.427Z"
   },
   {
    "duration": 24,
    "start_time": "2023-07-11T16:17:17.440Z"
   },
   {
    "duration": 12,
    "start_time": "2023-07-11T16:17:17.466Z"
   },
   {
    "duration": 15,
    "start_time": "2023-07-11T16:17:17.480Z"
   },
   {
    "duration": 27,
    "start_time": "2023-07-11T16:17:17.496Z"
   },
   {
    "duration": 20,
    "start_time": "2023-07-11T16:17:17.525Z"
   },
   {
    "duration": 7,
    "start_time": "2023-07-11T16:17:17.546Z"
   },
   {
    "duration": 28,
    "start_time": "2023-07-11T16:17:17.555Z"
   },
   {
    "duration": 36,
    "start_time": "2023-07-11T16:17:17.584Z"
   },
   {
    "duration": 41,
    "start_time": "2023-07-11T16:17:17.622Z"
   },
   {
    "duration": 32,
    "start_time": "2023-07-11T16:17:17.664Z"
   },
   {
    "duration": 32,
    "start_time": "2023-07-11T16:17:17.698Z"
   },
   {
    "duration": 227,
    "start_time": "2023-07-11T16:17:17.733Z"
   },
   {
    "duration": 6,
    "start_time": "2023-07-11T16:17:17.962Z"
   },
   {
    "duration": 148,
    "start_time": "2023-07-11T16:17:17.970Z"
   },
   {
    "duration": 208,
    "start_time": "2023-07-11T16:17:18.119Z"
   },
   {
    "duration": 12,
    "start_time": "2023-07-11T16:17:18.329Z"
   },
   {
    "duration": 29,
    "start_time": "2023-07-11T16:17:18.343Z"
   },
   {
    "duration": 237,
    "start_time": "2023-07-11T16:17:18.374Z"
   },
   {
    "duration": 17,
    "start_time": "2023-07-11T16:17:18.614Z"
   },
   {
    "duration": 29,
    "start_time": "2023-07-11T16:17:18.632Z"
   },
   {
    "duration": 16,
    "start_time": "2023-07-11T16:17:18.663Z"
   },
   {
    "duration": 41,
    "start_time": "2023-07-11T16:17:18.680Z"
   },
   {
    "duration": 17,
    "start_time": "2023-07-11T16:17:18.723Z"
   },
   {
    "duration": 253,
    "start_time": "2023-07-11T16:17:18.742Z"
   },
   {
    "duration": 10,
    "start_time": "2023-07-11T16:17:48.234Z"
   },
   {
    "duration": 220,
    "start_time": "2023-07-11T16:17:48.482Z"
   },
   {
    "duration": 13,
    "start_time": "2023-07-11T16:19:12.341Z"
   },
   {
    "duration": 16,
    "start_time": "2023-07-11T16:19:19.695Z"
   },
   {
    "duration": 17,
    "start_time": "2023-07-11T16:19:22.860Z"
   },
   {
    "duration": 1417,
    "start_time": "2023-07-11T16:19:31.078Z"
   },
   {
    "duration": 66,
    "start_time": "2023-07-11T16:19:32.497Z"
   },
   {
    "duration": 12,
    "start_time": "2023-07-11T16:19:32.565Z"
   },
   {
    "duration": 48,
    "start_time": "2023-07-11T16:19:32.579Z"
   },
   {
    "duration": 29,
    "start_time": "2023-07-11T16:19:32.629Z"
   },
   {
    "duration": 21,
    "start_time": "2023-07-11T16:19:32.660Z"
   },
   {
    "duration": 28,
    "start_time": "2023-07-11T16:19:32.683Z"
   },
   {
    "duration": 20,
    "start_time": "2023-07-11T16:19:32.712Z"
   },
   {
    "duration": 12,
    "start_time": "2023-07-11T16:19:32.733Z"
   },
   {
    "duration": 9,
    "start_time": "2023-07-11T16:19:32.747Z"
   },
   {
    "duration": 23,
    "start_time": "2023-07-11T16:19:32.757Z"
   },
   {
    "duration": 42,
    "start_time": "2023-07-11T16:19:32.782Z"
   },
   {
    "duration": 51,
    "start_time": "2023-07-11T16:19:32.826Z"
   },
   {
    "duration": 7,
    "start_time": "2023-07-11T16:19:32.879Z"
   },
   {
    "duration": 13,
    "start_time": "2023-07-11T16:19:32.888Z"
   },
   {
    "duration": 8,
    "start_time": "2023-07-11T16:19:32.903Z"
   },
   {
    "duration": 14,
    "start_time": "2023-07-11T16:19:32.913Z"
   },
   {
    "duration": 6,
    "start_time": "2023-07-11T16:19:32.929Z"
   },
   {
    "duration": 11,
    "start_time": "2023-07-11T16:19:32.937Z"
   },
   {
    "duration": 34,
    "start_time": "2023-07-11T16:19:32.950Z"
   },
   {
    "duration": 30,
    "start_time": "2023-07-11T16:19:32.986Z"
   },
   {
    "duration": 20,
    "start_time": "2023-07-11T16:19:33.018Z"
   },
   {
    "duration": 10,
    "start_time": "2023-07-11T16:19:33.039Z"
   },
   {
    "duration": 27,
    "start_time": "2023-07-11T16:19:33.050Z"
   },
   {
    "duration": 24,
    "start_time": "2023-07-11T16:19:33.079Z"
   },
   {
    "duration": 14,
    "start_time": "2023-07-11T16:19:33.105Z"
   },
   {
    "duration": 15,
    "start_time": "2023-07-11T16:19:33.120Z"
   },
   {
    "duration": 218,
    "start_time": "2023-07-11T16:19:33.139Z"
   },
   {
    "duration": 5,
    "start_time": "2023-07-11T16:19:33.359Z"
   },
   {
    "duration": 140,
    "start_time": "2023-07-11T16:19:33.366Z"
   },
   {
    "duration": 209,
    "start_time": "2023-07-11T16:19:33.508Z"
   },
   {
    "duration": 13,
    "start_time": "2023-07-11T16:19:33.718Z"
   },
   {
    "duration": 13,
    "start_time": "2023-07-11T16:19:33.734Z"
   },
   {
    "duration": 258,
    "start_time": "2023-07-11T16:19:33.749Z"
   },
   {
    "duration": 17,
    "start_time": "2023-07-11T16:19:34.009Z"
   },
   {
    "duration": 12,
    "start_time": "2023-07-11T16:19:34.028Z"
   },
   {
    "duration": 16,
    "start_time": "2023-07-11T16:19:34.042Z"
   },
   {
    "duration": 17,
    "start_time": "2023-07-11T16:19:34.059Z"
   },
   {
    "duration": 30,
    "start_time": "2023-07-11T16:19:34.078Z"
   },
   {
    "duration": 223,
    "start_time": "2023-07-11T16:19:34.111Z"
   },
   {
    "duration": 207,
    "start_time": "2023-07-11T16:20:03.199Z"
   },
   {
    "duration": 1401,
    "start_time": "2023-07-11T20:13:39.687Z"
   },
   {
    "duration": 321,
    "start_time": "2023-07-11T20:13:41.091Z"
   },
   {
    "duration": 14,
    "start_time": "2023-07-11T20:13:41.414Z"
   },
   {
    "duration": 90,
    "start_time": "2023-07-11T20:13:41.430Z"
   },
   {
    "duration": 88,
    "start_time": "2023-07-11T20:13:41.522Z"
   },
   {
    "duration": 6,
    "start_time": "2023-07-11T20:13:41.613Z"
   },
   {
    "duration": 15,
    "start_time": "2023-07-11T20:13:41.621Z"
   },
   {
    "duration": 28,
    "start_time": "2023-07-11T20:13:41.638Z"
   },
   {
    "duration": 9,
    "start_time": "2023-07-11T20:13:41.668Z"
   },
   {
    "duration": 9,
    "start_time": "2023-07-11T20:13:41.680Z"
   },
   {
    "duration": 9,
    "start_time": "2023-07-11T20:13:41.712Z"
   },
   {
    "duration": 15,
    "start_time": "2023-07-11T20:13:41.722Z"
   },
   {
    "duration": 12,
    "start_time": "2023-07-11T20:13:41.739Z"
   },
   {
    "duration": 7,
    "start_time": "2023-07-11T20:13:41.753Z"
   },
   {
    "duration": 11,
    "start_time": "2023-07-11T20:13:41.761Z"
   },
   {
    "duration": 6,
    "start_time": "2023-07-11T20:13:41.812Z"
   },
   {
    "duration": 11,
    "start_time": "2023-07-11T20:13:41.820Z"
   },
   {
    "duration": 7,
    "start_time": "2023-07-11T20:13:41.833Z"
   },
   {
    "duration": 7,
    "start_time": "2023-07-11T20:13:41.842Z"
   },
   {
    "duration": 4,
    "start_time": "2023-07-11T20:13:41.851Z"
   },
   {
    "duration": 12,
    "start_time": "2023-07-11T20:13:41.857Z"
   },
   {
    "duration": 44,
    "start_time": "2023-07-11T20:13:41.871Z"
   },
   {
    "duration": 9,
    "start_time": "2023-07-11T20:13:41.917Z"
   },
   {
    "duration": 12,
    "start_time": "2023-07-11T20:13:41.928Z"
   },
   {
    "duration": 8,
    "start_time": "2023-07-11T20:13:41.942Z"
   },
   {
    "duration": 6,
    "start_time": "2023-07-11T20:13:41.952Z"
   },
   {
    "duration": 8,
    "start_time": "2023-07-11T20:13:41.961Z"
   },
   {
    "duration": 213,
    "start_time": "2023-07-11T20:13:42.015Z"
   },
   {
    "duration": 5,
    "start_time": "2023-07-11T20:13:42.230Z"
   },
   {
    "duration": 169,
    "start_time": "2023-07-11T20:13:42.238Z"
   },
   {
    "duration": 209,
    "start_time": "2023-07-11T20:13:42.409Z"
   },
   {
    "duration": 13,
    "start_time": "2023-07-11T20:13:42.620Z"
   },
   {
    "duration": 14,
    "start_time": "2023-07-11T20:13:42.634Z"
   },
   {
    "duration": 235,
    "start_time": "2023-07-11T20:13:42.650Z"
   },
   {
    "duration": 15,
    "start_time": "2023-07-11T20:13:42.887Z"
   },
   {
    "duration": 13,
    "start_time": "2023-07-11T20:13:42.914Z"
   },
   {
    "duration": 17,
    "start_time": "2023-07-11T20:13:42.928Z"
   },
   {
    "duration": 7,
    "start_time": "2023-07-11T20:13:42.947Z"
   },
   {
    "duration": 10,
    "start_time": "2023-07-11T20:13:42.957Z"
   },
   {
    "duration": 257,
    "start_time": "2023-07-11T20:13:42.969Z"
   },
   {
    "duration": 5,
    "start_time": "2023-07-11T20:14:48.184Z"
   },
   {
    "duration": 1263,
    "start_time": "2023-07-11T20:14:59.796Z"
   },
   {
    "duration": 71,
    "start_time": "2023-07-11T20:15:01.061Z"
   },
   {
    "duration": 14,
    "start_time": "2023-07-11T20:15:01.134Z"
   },
   {
    "duration": 69,
    "start_time": "2023-07-11T20:15:01.151Z"
   },
   {
    "duration": 44,
    "start_time": "2023-07-11T20:15:01.222Z"
   },
   {
    "duration": 17,
    "start_time": "2023-07-11T20:15:01.267Z"
   },
   {
    "duration": 29,
    "start_time": "2023-07-11T20:15:01.286Z"
   },
   {
    "duration": 58,
    "start_time": "2023-07-11T20:15:01.317Z"
   },
   {
    "duration": 41,
    "start_time": "2023-07-11T20:15:01.377Z"
   },
   {
    "duration": 31,
    "start_time": "2023-07-11T20:15:01.422Z"
   },
   {
    "duration": 29,
    "start_time": "2023-07-11T20:15:01.455Z"
   },
   {
    "duration": 36,
    "start_time": "2023-07-11T20:15:01.486Z"
   },
   {
    "duration": 26,
    "start_time": "2023-07-11T20:15:01.524Z"
   },
   {
    "duration": 13,
    "start_time": "2023-07-11T20:15:01.553Z"
   },
   {
    "duration": 32,
    "start_time": "2023-07-11T20:15:01.569Z"
   },
   {
    "duration": 19,
    "start_time": "2023-07-11T20:15:01.603Z"
   },
   {
    "duration": 23,
    "start_time": "2023-07-11T20:15:01.624Z"
   },
   {
    "duration": 8,
    "start_time": "2023-07-11T20:15:01.649Z"
   },
   {
    "duration": 59,
    "start_time": "2023-07-11T20:15:01.659Z"
   },
   {
    "duration": 25,
    "start_time": "2023-07-11T20:15:01.720Z"
   },
   {
    "duration": 32,
    "start_time": "2023-07-11T20:15:01.747Z"
   },
   {
    "duration": 5,
    "start_time": "2023-07-11T20:15:01.780Z"
   },
   {
    "duration": 25,
    "start_time": "2023-07-11T20:15:01.787Z"
   },
   {
    "duration": 18,
    "start_time": "2023-07-11T20:15:01.814Z"
   },
   {
    "duration": 25,
    "start_time": "2023-07-11T20:15:01.834Z"
   },
   {
    "duration": 10,
    "start_time": "2023-07-11T20:15:01.861Z"
   },
   {
    "duration": 18,
    "start_time": "2023-07-11T20:15:01.873Z"
   },
   {
    "duration": 225,
    "start_time": "2023-07-11T20:15:01.895Z"
   },
   {
    "duration": 6,
    "start_time": "2023-07-11T20:15:02.123Z"
   },
   {
    "duration": 199,
    "start_time": "2023-07-11T20:15:02.131Z"
   },
   {
    "duration": 206,
    "start_time": "2023-07-11T20:15:02.332Z"
   },
   {
    "duration": 13,
    "start_time": "2023-07-11T20:15:02.540Z"
   },
   {
    "duration": 61,
    "start_time": "2023-07-11T20:15:02.555Z"
   },
   {
    "duration": 290,
    "start_time": "2023-07-11T20:15:02.618Z"
   },
   {
    "duration": 16,
    "start_time": "2023-07-11T20:15:02.914Z"
   },
   {
    "duration": 34,
    "start_time": "2023-07-11T20:15:02.932Z"
   },
   {
    "duration": 57,
    "start_time": "2023-07-11T20:15:02.967Z"
   },
   {
    "duration": 50,
    "start_time": "2023-07-11T20:15:03.026Z"
   },
   {
    "duration": 26,
    "start_time": "2023-07-11T20:15:03.078Z"
   },
   {
    "duration": 257,
    "start_time": "2023-07-11T20:15:03.106Z"
   },
   {
    "duration": 47,
    "start_time": "2023-07-12T07:27:46.738Z"
   },
   {
    "duration": 1256,
    "start_time": "2023-07-12T07:27:52.999Z"
   },
   {
    "duration": 284,
    "start_time": "2023-07-12T07:27:54.257Z"
   },
   {
    "duration": 12,
    "start_time": "2023-07-12T07:27:54.543Z"
   },
   {
    "duration": 11,
    "start_time": "2023-07-12T07:27:54.557Z"
   },
   {
    "duration": 11,
    "start_time": "2023-07-12T07:27:54.569Z"
   },
   {
    "duration": 4,
    "start_time": "2023-07-12T07:27:54.581Z"
   },
   {
    "duration": 13,
    "start_time": "2023-07-12T07:27:54.586Z"
   },
   {
    "duration": 15,
    "start_time": "2023-07-12T07:27:54.600Z"
   },
   {
    "duration": 8,
    "start_time": "2023-07-12T07:27:54.616Z"
   },
   {
    "duration": 9,
    "start_time": "2023-07-12T07:27:54.626Z"
   },
   {
    "duration": 6,
    "start_time": "2023-07-12T07:27:54.637Z"
   },
   {
    "duration": 32,
    "start_time": "2023-07-12T07:27:54.645Z"
   },
   {
    "duration": 24,
    "start_time": "2023-07-12T07:27:54.678Z"
   },
   {
    "duration": 6,
    "start_time": "2023-07-12T07:27:54.703Z"
   },
   {
    "duration": 16,
    "start_time": "2023-07-12T07:27:54.711Z"
   },
   {
    "duration": 4,
    "start_time": "2023-07-12T07:27:54.729Z"
   },
   {
    "duration": 9,
    "start_time": "2023-07-12T07:27:54.735Z"
   },
   {
    "duration": 24,
    "start_time": "2023-07-12T07:27:54.745Z"
   },
   {
    "duration": 6,
    "start_time": "2023-07-12T07:27:54.770Z"
   },
   {
    "duration": 5,
    "start_time": "2023-07-12T07:27:54.777Z"
   },
   {
    "duration": 8,
    "start_time": "2023-07-12T07:27:54.783Z"
   },
   {
    "duration": 3,
    "start_time": "2023-07-12T07:27:54.793Z"
   },
   {
    "duration": 7,
    "start_time": "2023-07-12T07:27:54.797Z"
   },
   {
    "duration": 10,
    "start_time": "2023-07-12T07:27:54.805Z"
   },
   {
    "duration": 6,
    "start_time": "2023-07-12T07:27:54.816Z"
   },
   {
    "duration": 5,
    "start_time": "2023-07-12T07:27:54.823Z"
   },
   {
    "duration": 42,
    "start_time": "2023-07-12T07:27:54.830Z"
   },
   {
    "duration": 189,
    "start_time": "2023-07-12T07:27:54.875Z"
   },
   {
    "duration": 6,
    "start_time": "2023-07-12T07:27:55.067Z"
   },
   {
    "duration": 128,
    "start_time": "2023-07-12T07:27:55.075Z"
   },
   {
    "duration": 176,
    "start_time": "2023-07-12T07:27:55.204Z"
   },
   {
    "duration": 10,
    "start_time": "2023-07-12T07:27:55.381Z"
   },
   {
    "duration": 10,
    "start_time": "2023-07-12T07:27:55.393Z"
   },
   {
    "duration": 202,
    "start_time": "2023-07-12T07:27:55.405Z"
   },
   {
    "duration": 13,
    "start_time": "2023-07-12T07:27:55.608Z"
   },
   {
    "duration": 11,
    "start_time": "2023-07-12T07:27:55.623Z"
   },
   {
    "duration": 13,
    "start_time": "2023-07-12T07:27:55.636Z"
   },
   {
    "duration": 23,
    "start_time": "2023-07-12T07:27:55.650Z"
   },
   {
    "duration": 9,
    "start_time": "2023-07-12T07:27:55.674Z"
   },
   {
    "duration": 211,
    "start_time": "2023-07-12T07:27:55.685Z"
   },
   {
    "duration": 9,
    "start_time": "2023-07-12T07:27:55.897Z"
   },
   {
    "duration": 14,
    "start_time": "2023-07-12T07:28:13.470Z"
   },
   {
    "duration": 23,
    "start_time": "2023-07-12T07:28:18.030Z"
   },
   {
    "duration": 20,
    "start_time": "2023-07-12T07:28:41.156Z"
   },
   {
    "duration": 16,
    "start_time": "2023-07-12T07:28:48.311Z"
   },
   {
    "duration": 116,
    "start_time": "2023-07-12T07:29:58.999Z"
   },
   {
    "duration": 17,
    "start_time": "2023-07-12T07:32:08.829Z"
   },
   {
    "duration": 36,
    "start_time": "2023-07-12T07:32:14.104Z"
   },
   {
    "duration": 23,
    "start_time": "2023-07-12T07:32:33.104Z"
   },
   {
    "duration": 30,
    "start_time": "2023-07-12T07:32:49.530Z"
   },
   {
    "duration": 30,
    "start_time": "2023-07-12T07:33:11.571Z"
   },
   {
    "duration": 30,
    "start_time": "2023-07-12T07:33:16.946Z"
   },
   {
    "duration": 22,
    "start_time": "2023-07-12T07:33:38.131Z"
   },
   {
    "duration": 29,
    "start_time": "2023-07-12T07:33:48.327Z"
   },
   {
    "duration": 20,
    "start_time": "2023-07-12T07:36:57.603Z"
   },
   {
    "duration": 20,
    "start_time": "2023-07-12T07:37:51.229Z"
   },
   {
    "duration": 2,
    "start_time": "2023-07-12T07:39:30.313Z"
   },
   {
    "duration": 186,
    "start_time": "2023-07-12T07:41:24.307Z"
   },
   {
    "duration": 219,
    "start_time": "2023-07-12T07:41:52.809Z"
   },
   {
    "duration": 280,
    "start_time": "2023-07-12T07:41:55.894Z"
   },
   {
    "duration": 189,
    "start_time": "2023-07-12T07:41:58.304Z"
   },
   {
    "duration": 212,
    "start_time": "2023-07-12T07:42:32.136Z"
   },
   {
    "duration": 202,
    "start_time": "2023-07-12T07:42:38.020Z"
   },
   {
    "duration": 3,
    "start_time": "2023-07-12T07:42:51.429Z"
   },
   {
    "duration": 241,
    "start_time": "2023-07-12T07:43:04.001Z"
   },
   {
    "duration": 200,
    "start_time": "2023-07-12T07:44:02.873Z"
   },
   {
    "duration": 234,
    "start_time": "2023-07-12T07:45:54.452Z"
   },
   {
    "duration": 263,
    "start_time": "2023-07-12T07:46:46.248Z"
   },
   {
    "duration": 232,
    "start_time": "2023-07-12T07:47:14.584Z"
   },
   {
    "duration": 163,
    "start_time": "2023-07-12T07:48:11.747Z"
   },
   {
    "duration": 224,
    "start_time": "2023-07-12T07:48:24.952Z"
   },
   {
    "duration": 243,
    "start_time": "2023-07-12T07:48:28.908Z"
   },
   {
    "duration": 194,
    "start_time": "2023-07-12T07:48:32.442Z"
   },
   {
    "duration": 240,
    "start_time": "2023-07-12T07:49:17.968Z"
   },
   {
    "duration": 238,
    "start_time": "2023-07-12T07:55:44.713Z"
   },
   {
    "duration": 270,
    "start_time": "2023-07-12T07:56:07.149Z"
   },
   {
    "duration": 286,
    "start_time": "2023-07-12T07:57:32.432Z"
   },
   {
    "duration": 332,
    "start_time": "2023-07-12T07:57:37.676Z"
   },
   {
    "duration": 8,
    "start_time": "2023-07-12T08:37:42.201Z"
   },
   {
    "duration": 17,
    "start_time": "2023-07-12T08:37:51.102Z"
   },
   {
    "duration": 10,
    "start_time": "2023-07-12T08:39:53.125Z"
   },
   {
    "duration": 9,
    "start_time": "2023-07-12T08:40:06.810Z"
   },
   {
    "duration": 103,
    "start_time": "2023-07-12T08:40:12.335Z"
   },
   {
    "duration": 15,
    "start_time": "2023-07-12T08:40:56.285Z"
   },
   {
    "duration": 9,
    "start_time": "2023-07-12T08:43:09.556Z"
   },
   {
    "duration": 16,
    "start_time": "2023-07-12T08:43:26.893Z"
   },
   {
    "duration": 17,
    "start_time": "2023-07-12T08:44:12.444Z"
   },
   {
    "duration": 12,
    "start_time": "2023-07-12T08:44:41.577Z"
   },
   {
    "duration": 8,
    "start_time": "2023-07-12T08:45:08.925Z"
   },
   {
    "duration": 7,
    "start_time": "2023-07-12T08:45:15.192Z"
   },
   {
    "duration": 118,
    "start_time": "2023-07-12T08:45:34.706Z"
   },
   {
    "duration": 1986,
    "start_time": "2023-07-12T08:45:50.440Z"
   },
   {
    "duration": 2207,
    "start_time": "2023-07-12T08:46:00.243Z"
   },
   {
    "duration": 2062,
    "start_time": "2023-07-12T08:46:23.233Z"
   },
   {
    "duration": 6,
    "start_time": "2023-07-12T08:47:19.120Z"
   },
   {
    "duration": 11,
    "start_time": "2023-07-12T08:47:32.066Z"
   },
   {
    "duration": 15,
    "start_time": "2023-07-12T08:47:39.941Z"
   },
   {
    "duration": 25,
    "start_time": "2023-07-12T08:48:03.588Z"
   },
   {
    "duration": 24,
    "start_time": "2023-07-12T08:48:51.060Z"
   },
   {
    "duration": 539,
    "start_time": "2023-07-12T08:49:04.824Z"
   },
   {
    "duration": 7,
    "start_time": "2023-07-12T08:49:42.105Z"
   },
   {
    "duration": 9,
    "start_time": "2023-07-12T08:49:50.721Z"
   },
   {
    "duration": 9,
    "start_time": "2023-07-12T08:49:59.893Z"
   },
   {
    "duration": 109,
    "start_time": "2023-07-12T08:52:18.592Z"
   },
   {
    "duration": 14,
    "start_time": "2023-07-12T08:52:21.610Z"
   },
   {
    "duration": 10,
    "start_time": "2023-07-12T08:53:12.242Z"
   },
   {
    "duration": 109,
    "start_time": "2023-07-12T08:53:53.383Z"
   },
   {
    "duration": 9,
    "start_time": "2023-07-12T08:53:55.429Z"
   },
   {
    "duration": 1107,
    "start_time": "2023-07-12T08:54:04.342Z"
   },
   {
    "duration": 90,
    "start_time": "2023-07-12T08:54:05.451Z"
   },
   {
    "duration": 16,
    "start_time": "2023-07-12T08:54:05.543Z"
   },
   {
    "duration": 37,
    "start_time": "2023-07-12T08:54:05.560Z"
   },
   {
    "duration": 27,
    "start_time": "2023-07-12T08:54:05.600Z"
   },
   {
    "duration": 25,
    "start_time": "2023-07-12T08:54:05.629Z"
   },
   {
    "duration": 24,
    "start_time": "2023-07-12T08:54:05.655Z"
   },
   {
    "duration": 30,
    "start_time": "2023-07-12T08:54:05.681Z"
   },
   {
    "duration": 8,
    "start_time": "2023-07-12T08:54:05.714Z"
   },
   {
    "duration": 7,
    "start_time": "2023-07-12T08:54:05.725Z"
   },
   {
    "duration": 7,
    "start_time": "2023-07-12T08:54:05.734Z"
   },
   {
    "duration": 15,
    "start_time": "2023-07-12T08:54:05.742Z"
   },
   {
    "duration": 38,
    "start_time": "2023-07-12T08:54:05.759Z"
   },
   {
    "duration": 24,
    "start_time": "2023-07-12T08:54:05.802Z"
   },
   {
    "duration": 11,
    "start_time": "2023-07-12T08:54:05.829Z"
   },
   {
    "duration": 24,
    "start_time": "2023-07-12T08:54:05.841Z"
   },
   {
    "duration": 20,
    "start_time": "2023-07-12T08:54:05.867Z"
   },
   {
    "duration": 33,
    "start_time": "2023-07-12T08:54:05.891Z"
   },
   {
    "duration": 10,
    "start_time": "2023-07-12T08:54:05.925Z"
   },
   {
    "duration": 10,
    "start_time": "2023-07-12T08:54:05.937Z"
   },
   {
    "duration": 8,
    "start_time": "2023-07-12T08:54:05.948Z"
   },
   {
    "duration": 3,
    "start_time": "2023-07-12T08:54:05.958Z"
   },
   {
    "duration": 7,
    "start_time": "2023-07-12T08:54:05.962Z"
   },
   {
    "duration": 16,
    "start_time": "2023-07-12T08:54:05.971Z"
   },
   {
    "duration": 7,
    "start_time": "2023-07-12T08:54:05.988Z"
   },
   {
    "duration": 6,
    "start_time": "2023-07-12T08:54:06.000Z"
   },
   {
    "duration": 26,
    "start_time": "2023-07-12T08:54:06.007Z"
   },
   {
    "duration": 201,
    "start_time": "2023-07-12T08:54:06.037Z"
   },
   {
    "duration": 6,
    "start_time": "2023-07-12T08:54:06.242Z"
   },
   {
    "duration": 153,
    "start_time": "2023-07-12T08:54:06.249Z"
   },
   {
    "duration": 199,
    "start_time": "2023-07-12T08:54:06.404Z"
   },
   {
    "duration": 10,
    "start_time": "2023-07-12T08:54:06.605Z"
   },
   {
    "duration": 21,
    "start_time": "2023-07-12T08:54:06.617Z"
   },
   {
    "duration": 222,
    "start_time": "2023-07-12T08:54:06.639Z"
   },
   {
    "duration": 30,
    "start_time": "2023-07-12T08:54:06.863Z"
   },
   {
    "duration": 15,
    "start_time": "2023-07-12T08:54:06.897Z"
   },
   {
    "duration": 23,
    "start_time": "2023-07-12T08:54:06.914Z"
   },
   {
    "duration": 6,
    "start_time": "2023-07-12T08:54:06.939Z"
   },
   {
    "duration": 14,
    "start_time": "2023-07-12T08:54:06.946Z"
   },
   {
    "duration": 242,
    "start_time": "2023-07-12T08:54:06.962Z"
   },
   {
    "duration": 41,
    "start_time": "2023-07-12T08:54:07.206Z"
   },
   {
    "duration": 55,
    "start_time": "2023-07-12T08:54:07.249Z"
   },
   {
    "duration": 25,
    "start_time": "2023-07-12T08:54:07.306Z"
   },
   {
    "duration": 206,
    "start_time": "2023-07-12T08:54:07.333Z"
   },
   {
    "duration": 223,
    "start_time": "2023-07-12T08:54:07.540Z"
   },
   {
    "duration": 195,
    "start_time": "2023-07-12T08:54:07.764Z"
   },
   {
    "duration": 316,
    "start_time": "2023-07-12T08:54:07.961Z"
   },
   {
    "duration": 328,
    "start_time": "2023-07-12T08:54:08.283Z"
   },
   {
    "duration": 299,
    "start_time": "2023-07-12T08:54:08.613Z"
   },
   {
    "duration": 144,
    "start_time": "2023-07-12T08:54:08.915Z"
   },
   {
    "duration": 20,
    "start_time": "2023-07-12T08:54:09.061Z"
   },
   {
    "duration": 112,
    "start_time": "2023-07-12T08:57:20.227Z"
   },
   {
    "duration": 2175,
    "start_time": "2023-07-12T08:57:30.947Z"
   },
   {
    "duration": 110,
    "start_time": "2023-07-12T08:57:44.493Z"
   },
   {
    "duration": 111,
    "start_time": "2023-07-12T08:58:32.940Z"
   },
   {
    "duration": 117,
    "start_time": "2023-07-12T09:00:39.058Z"
   },
   {
    "duration": 107,
    "start_time": "2023-07-12T09:00:59.673Z"
   },
   {
    "duration": 126,
    "start_time": "2023-07-12T09:14:58.604Z"
   },
   {
    "duration": 128,
    "start_time": "2023-07-12T09:15:28.194Z"
   },
   {
    "duration": 11,
    "start_time": "2023-07-12T09:15:39.735Z"
   },
   {
    "duration": 92,
    "start_time": "2023-07-12T09:24:12.315Z"
   },
   {
    "duration": 562,
    "start_time": "2023-07-12T09:24:33.099Z"
   },
   {
    "duration": 100,
    "start_time": "2023-07-12T09:25:37.956Z"
   },
   {
    "duration": 110,
    "start_time": "2023-07-12T09:26:17.188Z"
   },
   {
    "duration": 93,
    "start_time": "2023-07-12T09:26:31.490Z"
   },
   {
    "duration": 110,
    "start_time": "2023-07-12T09:27:21.696Z"
   },
   {
    "duration": 113,
    "start_time": "2023-07-12T09:27:26.735Z"
   },
   {
    "duration": 522,
    "start_time": "2023-07-12T09:27:41.595Z"
   },
   {
    "duration": 543,
    "start_time": "2023-07-12T09:27:53.517Z"
   },
   {
    "duration": 112,
    "start_time": "2023-07-12T09:28:35.139Z"
   },
   {
    "duration": 25,
    "start_time": "2023-07-12T09:28:43.679Z"
   },
   {
    "duration": 566,
    "start_time": "2023-07-12T09:28:53.558Z"
   },
   {
    "duration": 99,
    "start_time": "2023-07-12T09:29:16.814Z"
   },
   {
    "duration": 106,
    "start_time": "2023-07-12T09:29:49.635Z"
   },
   {
    "duration": 132,
    "start_time": "2023-07-12T09:30:09.326Z"
   },
   {
    "duration": 107,
    "start_time": "2023-07-12T09:30:19.567Z"
   },
   {
    "duration": 19,
    "start_time": "2023-07-12T09:32:19.355Z"
   },
   {
    "duration": 146,
    "start_time": "2023-07-12T09:32:25.816Z"
   },
   {
    "duration": 952,
    "start_time": "2023-07-12T09:33:11.193Z"
   },
   {
    "duration": 1721,
    "start_time": "2023-07-12T09:33:34.944Z"
   },
   {
    "duration": 928,
    "start_time": "2023-07-12T09:33:51.092Z"
   },
   {
    "duration": 5,
    "start_time": "2023-07-12T09:46:21.200Z"
   },
   {
    "duration": 9,
    "start_time": "2023-07-12T09:52:57.815Z"
   },
   {
    "duration": 6,
    "start_time": "2023-07-12T09:53:00.297Z"
   },
   {
    "duration": 36,
    "start_time": "2023-07-12T09:56:14.955Z"
   },
   {
    "duration": 320,
    "start_time": "2023-07-12T09:56:42.841Z"
   },
   {
    "duration": 17,
    "start_time": "2023-07-12T09:56:44.311Z"
   },
   {
    "duration": 4,
    "start_time": "2023-07-12T09:57:07.623Z"
   },
   {
    "duration": 17,
    "start_time": "2023-07-12T09:57:10.142Z"
   },
   {
    "duration": 18,
    "start_time": "2023-07-12T09:57:20.749Z"
   },
   {
    "duration": 433,
    "start_time": "2023-07-12T10:02:40.106Z"
   },
   {
    "duration": 184,
    "start_time": "2023-07-12T10:02:50.363Z"
   },
   {
    "duration": 17,
    "start_time": "2023-07-12T10:02:57.419Z"
   },
   {
    "duration": 5,
    "start_time": "2023-07-12T10:03:45.936Z"
   },
   {
    "duration": 483,
    "start_time": "2023-07-12T10:03:46.941Z"
   },
   {
    "duration": 109,
    "start_time": "2023-07-12T10:04:35.342Z"
   },
   {
    "duration": 21,
    "start_time": "2023-07-12T10:04:44.168Z"
   },
   {
    "duration": 4,
    "start_time": "2023-07-12T10:05:03.824Z"
   },
   {
    "duration": 7,
    "start_time": "2023-07-12T10:06:21.790Z"
   },
   {
    "duration": 527,
    "start_time": "2023-07-12T10:06:22.691Z"
   },
   {
    "duration": 4,
    "start_time": "2023-07-12T10:06:50.428Z"
   },
   {
    "duration": 488,
    "start_time": "2023-07-12T10:06:51.224Z"
   },
   {
    "duration": 4,
    "start_time": "2023-07-12T10:07:02.722Z"
   },
   {
    "duration": 4,
    "start_time": "2023-07-12T10:14:23.433Z"
   },
   {
    "duration": 11,
    "start_time": "2023-07-12T10:14:51.000Z"
   },
   {
    "duration": 155,
    "start_time": "2023-07-12T10:14:57.368Z"
   },
   {
    "duration": 24,
    "start_time": "2023-07-12T10:15:02.060Z"
   },
   {
    "duration": 134,
    "start_time": "2023-07-12T10:15:18.278Z"
   },
   {
    "duration": 13,
    "start_time": "2023-07-12T10:23:30.922Z"
   },
   {
    "duration": 9,
    "start_time": "2023-07-12T10:24:28.213Z"
   },
   {
    "duration": 10,
    "start_time": "2023-07-12T10:24:43.915Z"
   },
   {
    "duration": 19,
    "start_time": "2023-07-12T11:37:53.465Z"
   },
   {
    "duration": 7,
    "start_time": "2023-07-12T11:38:28.594Z"
   },
   {
    "duration": 6,
    "start_time": "2023-07-12T11:38:34.944Z"
   },
   {
    "duration": 19,
    "start_time": "2023-07-12T11:49:14.223Z"
   },
   {
    "duration": 13,
    "start_time": "2023-07-12T11:49:21.234Z"
   },
   {
    "duration": 1508,
    "start_time": "2023-07-12T11:51:47.143Z"
   },
   {
    "duration": 90,
    "start_time": "2023-07-12T11:51:48.653Z"
   },
   {
    "duration": 20,
    "start_time": "2023-07-12T11:51:48.745Z"
   },
   {
    "duration": 26,
    "start_time": "2023-07-12T11:51:48.777Z"
   },
   {
    "duration": 14,
    "start_time": "2023-07-12T11:51:48.811Z"
   },
   {
    "duration": 7,
    "start_time": "2023-07-12T11:51:48.826Z"
   },
   {
    "duration": 21,
    "start_time": "2023-07-12T11:51:48.834Z"
   },
   {
    "duration": 31,
    "start_time": "2023-07-12T11:51:48.857Z"
   },
   {
    "duration": 29,
    "start_time": "2023-07-12T11:51:48.892Z"
   },
   {
    "duration": 18,
    "start_time": "2023-07-12T11:51:48.925Z"
   },
   {
    "duration": 8,
    "start_time": "2023-07-12T11:51:48.950Z"
   },
   {
    "duration": 27,
    "start_time": "2023-07-12T11:51:48.961Z"
   },
   {
    "duration": 28,
    "start_time": "2023-07-12T11:51:48.993Z"
   },
   {
    "duration": 21,
    "start_time": "2023-07-12T11:51:49.025Z"
   },
   {
    "duration": 15,
    "start_time": "2023-07-12T11:51:49.049Z"
   },
   {
    "duration": 10,
    "start_time": "2023-07-12T11:51:49.068Z"
   },
   {
    "duration": 26,
    "start_time": "2023-07-12T11:51:49.080Z"
   },
   {
    "duration": 25,
    "start_time": "2023-07-12T11:51:49.109Z"
   },
   {
    "duration": 16,
    "start_time": "2023-07-12T11:51:49.136Z"
   },
   {
    "duration": 8,
    "start_time": "2023-07-12T11:51:49.154Z"
   },
   {
    "duration": 34,
    "start_time": "2023-07-12T11:51:49.168Z"
   },
   {
    "duration": 26,
    "start_time": "2023-07-12T11:51:49.211Z"
   },
   {
    "duration": 15,
    "start_time": "2023-07-12T11:51:49.241Z"
   },
   {
    "duration": 33,
    "start_time": "2023-07-12T11:51:49.258Z"
   },
   {
    "duration": 23,
    "start_time": "2023-07-12T11:51:49.297Z"
   },
   {
    "duration": 17,
    "start_time": "2023-07-12T11:51:49.333Z"
   },
   {
    "duration": 15,
    "start_time": "2023-07-12T11:51:49.353Z"
   },
   {
    "duration": 275,
    "start_time": "2023-07-12T11:51:49.379Z"
   },
   {
    "duration": 7,
    "start_time": "2023-07-12T11:51:49.656Z"
   },
   {
    "duration": 221,
    "start_time": "2023-07-12T11:51:49.665Z"
   },
   {
    "duration": 270,
    "start_time": "2023-07-12T11:51:49.888Z"
   },
   {
    "duration": 20,
    "start_time": "2023-07-12T11:51:50.160Z"
   },
   {
    "duration": 25,
    "start_time": "2023-07-12T11:51:50.182Z"
   },
   {
    "duration": 318,
    "start_time": "2023-07-12T11:51:50.214Z"
   },
   {
    "duration": 19,
    "start_time": "2023-07-12T11:51:50.541Z"
   },
   {
    "duration": 35,
    "start_time": "2023-07-12T11:51:50.562Z"
   },
   {
    "duration": 56,
    "start_time": "2023-07-12T11:51:50.599Z"
   },
   {
    "duration": 44,
    "start_time": "2023-07-12T11:51:50.658Z"
   },
   {
    "duration": 20,
    "start_time": "2023-07-12T11:51:50.705Z"
   },
   {
    "duration": 257,
    "start_time": "2023-07-12T11:51:50.732Z"
   },
   {
    "duration": 54,
    "start_time": "2023-07-12T11:51:50.994Z"
   },
   {
    "duration": 28,
    "start_time": "2023-07-12T11:51:51.053Z"
   },
   {
    "duration": 40,
    "start_time": "2023-07-12T11:51:51.083Z"
   },
   {
    "duration": 309,
    "start_time": "2023-07-12T11:51:51.130Z"
   },
   {
    "duration": 319,
    "start_time": "2023-07-12T11:51:51.442Z"
   },
   {
    "duration": 372,
    "start_time": "2023-07-12T11:51:51.768Z"
   },
   {
    "duration": 316,
    "start_time": "2023-07-12T11:51:52.141Z"
   },
   {
    "duration": 429,
    "start_time": "2023-07-12T11:51:52.460Z"
   },
   {
    "duration": 432,
    "start_time": "2023-07-12T11:51:52.894Z"
   },
   {
    "duration": 1215,
    "start_time": "2023-07-12T11:51:53.328Z"
   },
   {
    "duration": 20,
    "start_time": "2023-07-12T11:51:54.544Z"
   },
   {
    "duration": 26,
    "start_time": "2023-07-12T11:51:54.577Z"
   },
   {
    "duration": 271,
    "start_time": "2023-07-12T11:51:54.609Z"
   },
   {
    "duration": 27,
    "start_time": "2023-07-12T11:51:54.885Z"
   },
   {
    "duration": 44,
    "start_time": "2023-07-12T11:51:54.917Z"
   },
   {
    "duration": 17,
    "start_time": "2023-07-12T11:51:54.965Z"
   },
   {
    "duration": 203,
    "start_time": "2023-07-12T11:51:54.986Z"
   },
   {
    "duration": 1579,
    "start_time": "2023-07-12T11:52:04.019Z"
   },
   {
    "duration": 21,
    "start_time": "2023-07-12T11:55:17.030Z"
   },
   {
    "duration": 153,
    "start_time": "2023-07-12T11:55:40.113Z"
   },
   {
    "duration": 12,
    "start_time": "2023-07-12T11:55:45.436Z"
   },
   {
    "duration": 1223,
    "start_time": "2023-07-12T11:57:02.368Z"
   },
   {
    "duration": 32,
    "start_time": "2023-07-12T11:59:31.996Z"
   },
   {
    "duration": 14,
    "start_time": "2023-07-12T11:59:50.997Z"
   },
   {
    "duration": 141,
    "start_time": "2023-07-12T11:59:56.865Z"
   },
   {
    "duration": 10,
    "start_time": "2023-07-12T12:02:58.706Z"
   },
   {
    "duration": 14,
    "start_time": "2023-07-12T12:03:05.348Z"
   },
   {
    "duration": 158,
    "start_time": "2023-07-12T12:04:17.123Z"
   },
   {
    "duration": 158,
    "start_time": "2023-07-12T12:04:30.616Z"
   },
   {
    "duration": 1263,
    "start_time": "2023-07-12T12:06:50.138Z"
   },
   {
    "duration": 65,
    "start_time": "2023-07-12T12:06:51.403Z"
   },
   {
    "duration": 17,
    "start_time": "2023-07-12T12:06:51.470Z"
   },
   {
    "duration": 13,
    "start_time": "2023-07-12T12:06:51.488Z"
   },
   {
    "duration": 20,
    "start_time": "2023-07-12T12:06:51.502Z"
   },
   {
    "duration": 4,
    "start_time": "2023-07-12T12:06:51.524Z"
   },
   {
    "duration": 9,
    "start_time": "2023-07-12T12:06:51.530Z"
   },
   {
    "duration": 30,
    "start_time": "2023-07-12T12:06:51.541Z"
   },
   {
    "duration": 11,
    "start_time": "2023-07-12T12:06:51.573Z"
   },
   {
    "duration": 8,
    "start_time": "2023-07-12T12:06:51.586Z"
   },
   {
    "duration": 7,
    "start_time": "2023-07-12T12:06:51.596Z"
   },
   {
    "duration": 26,
    "start_time": "2023-07-12T12:06:51.604Z"
   },
   {
    "duration": 20,
    "start_time": "2023-07-12T12:06:51.631Z"
   },
   {
    "duration": 24,
    "start_time": "2023-07-12T12:06:51.652Z"
   },
   {
    "duration": 12,
    "start_time": "2023-07-12T12:06:51.678Z"
   },
   {
    "duration": 5,
    "start_time": "2023-07-12T12:06:51.692Z"
   },
   {
    "duration": 19,
    "start_time": "2023-07-12T12:06:51.698Z"
   },
   {
    "duration": 13,
    "start_time": "2023-07-12T12:06:51.718Z"
   },
   {
    "duration": 14,
    "start_time": "2023-07-12T12:06:51.732Z"
   },
   {
    "duration": 19,
    "start_time": "2023-07-12T12:06:51.747Z"
   },
   {
    "duration": 18,
    "start_time": "2023-07-12T12:06:51.768Z"
   },
   {
    "duration": 9,
    "start_time": "2023-07-12T12:06:51.791Z"
   },
   {
    "duration": 11,
    "start_time": "2023-07-12T12:06:51.802Z"
   },
   {
    "duration": 8,
    "start_time": "2023-07-12T12:06:51.815Z"
   },
   {
    "duration": 13,
    "start_time": "2023-07-12T12:06:51.824Z"
   },
   {
    "duration": 35,
    "start_time": "2023-07-12T12:06:51.838Z"
   },
   {
    "duration": 34,
    "start_time": "2023-07-12T12:06:51.874Z"
   },
   {
    "duration": 214,
    "start_time": "2023-07-12T12:06:51.911Z"
   },
   {
    "duration": 5,
    "start_time": "2023-07-12T12:06:52.126Z"
   },
   {
    "duration": 138,
    "start_time": "2023-07-12T12:06:52.133Z"
   },
   {
    "duration": 196,
    "start_time": "2023-07-12T12:06:52.273Z"
   },
   {
    "duration": 15,
    "start_time": "2023-07-12T12:06:52.472Z"
   },
   {
    "duration": 22,
    "start_time": "2023-07-12T12:06:52.489Z"
   },
   {
    "duration": 210,
    "start_time": "2023-07-12T12:06:52.512Z"
   },
   {
    "duration": 13,
    "start_time": "2023-07-12T12:06:52.723Z"
   },
   {
    "duration": 31,
    "start_time": "2023-07-12T12:06:52.737Z"
   },
   {
    "duration": 20,
    "start_time": "2023-07-12T12:06:52.770Z"
   },
   {
    "duration": 7,
    "start_time": "2023-07-12T12:06:52.792Z"
   },
   {
    "duration": 10,
    "start_time": "2023-07-12T12:06:52.801Z"
   },
   {
    "duration": 227,
    "start_time": "2023-07-12T12:06:52.813Z"
   },
   {
    "duration": 55,
    "start_time": "2023-07-12T12:06:53.041Z"
   },
   {
    "duration": 21,
    "start_time": "2023-07-12T12:06:53.098Z"
   },
   {
    "duration": 19,
    "start_time": "2023-07-12T12:06:53.121Z"
   },
   {
    "duration": 236,
    "start_time": "2023-07-12T12:06:53.141Z"
   },
   {
    "duration": 205,
    "start_time": "2023-07-12T12:06:53.380Z"
   },
   {
    "duration": 258,
    "start_time": "2023-07-12T12:06:53.587Z"
   },
   {
    "duration": 291,
    "start_time": "2023-07-12T12:06:53.847Z"
   },
   {
    "duration": 303,
    "start_time": "2023-07-12T12:06:54.140Z"
   },
   {
    "duration": 276,
    "start_time": "2023-07-12T12:06:54.444Z"
   },
   {
    "duration": 910,
    "start_time": "2023-07-12T12:06:54.721Z"
   },
   {
    "duration": 10,
    "start_time": "2023-07-12T12:06:55.633Z"
   },
   {
    "duration": 4,
    "start_time": "2023-07-12T12:06:55.645Z"
   },
   {
    "duration": 154,
    "start_time": "2023-07-12T12:06:55.650Z"
   },
   {
    "duration": 20,
    "start_time": "2023-07-12T12:06:55.806Z"
   },
   {
    "duration": 14,
    "start_time": "2023-07-12T12:06:55.828Z"
   },
   {
    "duration": 27,
    "start_time": "2023-07-12T12:06:55.844Z"
   },
   {
    "duration": 883,
    "start_time": "2023-07-12T12:08:10.012Z"
   },
   {
    "duration": 816,
    "start_time": "2023-07-12T12:08:26.557Z"
   },
   {
    "duration": 14,
    "start_time": "2023-07-12T12:09:42.129Z"
   },
   {
    "duration": 739,
    "start_time": "2023-07-12T12:10:11.425Z"
   },
   {
    "duration": 12,
    "start_time": "2023-07-12T12:12:15.085Z"
   },
   {
    "duration": 657,
    "start_time": "2023-07-12T12:12:19.888Z"
   },
   {
    "duration": 681,
    "start_time": "2023-07-12T12:12:32.831Z"
   },
   {
    "duration": 6,
    "start_time": "2023-07-12T12:28:25.760Z"
   },
   {
    "duration": 5,
    "start_time": "2023-07-12T12:29:23.217Z"
   },
   {
    "duration": 5,
    "start_time": "2023-07-12T12:29:28.093Z"
   },
   {
    "duration": 5,
    "start_time": "2023-07-12T12:29:59.815Z"
   },
   {
    "duration": 6,
    "start_time": "2023-07-12T12:30:06.298Z"
   },
   {
    "duration": 5,
    "start_time": "2023-07-12T12:30:11.129Z"
   },
   {
    "duration": 5,
    "start_time": "2023-07-12T12:30:16.659Z"
   },
   {
    "duration": 5,
    "start_time": "2023-07-12T12:30:20.697Z"
   },
   {
    "duration": 5,
    "start_time": "2023-07-12T12:30:56.597Z"
   },
   {
    "duration": 6,
    "start_time": "2023-07-12T12:31:06.445Z"
   },
   {
    "duration": 5,
    "start_time": "2023-07-12T12:31:16.656Z"
   },
   {
    "duration": 5,
    "start_time": "2023-07-12T12:31:23.506Z"
   },
   {
    "duration": 5,
    "start_time": "2023-07-12T12:31:29.245Z"
   },
   {
    "duration": 5,
    "start_time": "2023-07-12T12:31:31.792Z"
   },
   {
    "duration": 50,
    "start_time": "2023-07-12T12:54:37.665Z"
   },
   {
    "duration": 20,
    "start_time": "2023-07-12T13:00:14.428Z"
   },
   {
    "duration": 9,
    "start_time": "2023-07-12T13:02:10.717Z"
   },
   {
    "duration": 20,
    "start_time": "2023-07-12T13:02:30.417Z"
   },
   {
    "duration": 9,
    "start_time": "2023-07-12T13:02:48.604Z"
   },
   {
    "duration": 12,
    "start_time": "2023-07-12T13:03:31.105Z"
   },
   {
    "duration": 1405,
    "start_time": "2023-07-12T14:22:38.076Z"
   },
   {
    "duration": 77,
    "start_time": "2023-07-12T14:22:39.486Z"
   },
   {
    "duration": 30,
    "start_time": "2023-07-12T14:22:39.564Z"
   },
   {
    "duration": 19,
    "start_time": "2023-07-12T14:22:39.596Z"
   },
   {
    "duration": 9,
    "start_time": "2023-07-12T14:22:39.617Z"
   },
   {
    "duration": 11,
    "start_time": "2023-07-12T14:22:39.628Z"
   },
   {
    "duration": 18,
    "start_time": "2023-07-12T14:22:39.640Z"
   },
   {
    "duration": 32,
    "start_time": "2023-07-12T14:22:39.660Z"
   },
   {
    "duration": 17,
    "start_time": "2023-07-12T14:22:39.694Z"
   },
   {
    "duration": 10,
    "start_time": "2023-07-12T14:22:39.715Z"
   },
   {
    "duration": 8,
    "start_time": "2023-07-12T14:22:39.727Z"
   },
   {
    "duration": 16,
    "start_time": "2023-07-12T14:22:39.737Z"
   },
   {
    "duration": 42,
    "start_time": "2023-07-12T14:22:39.755Z"
   },
   {
    "duration": 12,
    "start_time": "2023-07-12T14:22:39.799Z"
   },
   {
    "duration": 13,
    "start_time": "2023-07-12T14:22:39.812Z"
   },
   {
    "duration": 6,
    "start_time": "2023-07-12T14:22:39.828Z"
   },
   {
    "duration": 15,
    "start_time": "2023-07-12T14:22:39.836Z"
   },
   {
    "duration": 33,
    "start_time": "2023-07-12T14:22:39.853Z"
   },
   {
    "duration": 11,
    "start_time": "2023-07-12T14:22:39.888Z"
   },
   {
    "duration": 5,
    "start_time": "2023-07-12T14:22:39.901Z"
   },
   {
    "duration": 9,
    "start_time": "2023-07-12T14:22:39.908Z"
   },
   {
    "duration": 4,
    "start_time": "2023-07-12T14:22:39.919Z"
   },
   {
    "duration": 7,
    "start_time": "2023-07-12T14:22:39.924Z"
   },
   {
    "duration": 9,
    "start_time": "2023-07-12T14:22:39.933Z"
   },
   {
    "duration": 14,
    "start_time": "2023-07-12T14:22:39.968Z"
   },
   {
    "duration": 17,
    "start_time": "2023-07-12T14:22:39.984Z"
   },
   {
    "duration": 9,
    "start_time": "2023-07-12T14:22:40.003Z"
   },
   {
    "duration": 234,
    "start_time": "2023-07-12T14:22:40.016Z"
   },
   {
    "duration": 7,
    "start_time": "2023-07-12T14:22:40.253Z"
   },
   {
    "duration": 159,
    "start_time": "2023-07-12T14:22:40.267Z"
   },
   {
    "duration": 220,
    "start_time": "2023-07-12T14:22:40.428Z"
   },
   {
    "duration": 26,
    "start_time": "2023-07-12T14:22:40.649Z"
   },
   {
    "duration": 19,
    "start_time": "2023-07-12T14:22:40.678Z"
   },
   {
    "duration": 244,
    "start_time": "2023-07-12T14:22:40.701Z"
   },
   {
    "duration": 28,
    "start_time": "2023-07-12T14:22:40.946Z"
   },
   {
    "duration": 25,
    "start_time": "2023-07-12T14:22:40.976Z"
   },
   {
    "duration": 17,
    "start_time": "2023-07-12T14:22:41.003Z"
   },
   {
    "duration": 17,
    "start_time": "2023-07-12T14:22:41.022Z"
   },
   {
    "duration": 39,
    "start_time": "2023-07-12T14:22:41.041Z"
   },
   {
    "duration": 261,
    "start_time": "2023-07-12T14:22:41.096Z"
   },
   {
    "duration": 56,
    "start_time": "2023-07-12T14:22:41.359Z"
   },
   {
    "duration": 30,
    "start_time": "2023-07-12T14:22:41.418Z"
   },
   {
    "duration": 54,
    "start_time": "2023-07-12T14:22:41.449Z"
   },
   {
    "duration": 225,
    "start_time": "2023-07-12T14:22:41.507Z"
   },
   {
    "duration": 268,
    "start_time": "2023-07-12T14:22:41.734Z"
   },
   {
    "duration": 329,
    "start_time": "2023-07-12T14:22:42.011Z"
   },
   {
    "duration": 280,
    "start_time": "2023-07-12T14:22:42.342Z"
   },
   {
    "duration": 307,
    "start_time": "2023-07-12T14:22:42.624Z"
   },
   {
    "duration": 322,
    "start_time": "2023-07-12T14:22:42.932Z"
   },
   {
    "duration": 1061,
    "start_time": "2023-07-12T14:22:43.256Z"
   },
   {
    "duration": 13,
    "start_time": "2023-07-12T14:22:44.320Z"
   },
   {
    "duration": 9,
    "start_time": "2023-07-12T14:22:44.336Z"
   },
   {
    "duration": 212,
    "start_time": "2023-07-12T14:22:44.347Z"
   },
   {
    "duration": 38,
    "start_time": "2023-07-12T14:22:44.560Z"
   },
   {
    "duration": 15,
    "start_time": "2023-07-12T14:22:44.601Z"
   },
   {
    "duration": 7,
    "start_time": "2023-07-12T14:22:44.618Z"
   },
   {
    "duration": 6,
    "start_time": "2023-07-12T14:22:44.627Z"
   },
   {
    "duration": 17,
    "start_time": "2023-07-12T14:22:44.635Z"
   },
   {
    "duration": 1349,
    "start_time": "2023-07-12T15:04:49.290Z"
   },
   {
    "duration": 70,
    "start_time": "2023-07-12T15:04:50.640Z"
   },
   {
    "duration": 22,
    "start_time": "2023-07-12T15:04:50.713Z"
   },
   {
    "duration": 14,
    "start_time": "2023-07-12T15:04:50.744Z"
   },
   {
    "duration": 11,
    "start_time": "2023-07-12T15:04:50.760Z"
   },
   {
    "duration": 35,
    "start_time": "2023-07-12T15:04:50.773Z"
   },
   {
    "duration": 39,
    "start_time": "2023-07-12T15:04:50.810Z"
   },
   {
    "duration": 30,
    "start_time": "2023-07-12T15:04:50.851Z"
   },
   {
    "duration": 27,
    "start_time": "2023-07-12T15:04:50.883Z"
   },
   {
    "duration": 43,
    "start_time": "2023-07-12T15:04:50.913Z"
   },
   {
    "duration": 20,
    "start_time": "2023-07-12T15:04:50.960Z"
   },
   {
    "duration": 51,
    "start_time": "2023-07-12T15:04:50.982Z"
   },
   {
    "duration": 18,
    "start_time": "2023-07-12T15:04:51.035Z"
   },
   {
    "duration": 44,
    "start_time": "2023-07-12T15:04:51.055Z"
   },
   {
    "duration": 37,
    "start_time": "2023-07-12T15:04:51.101Z"
   },
   {
    "duration": 9,
    "start_time": "2023-07-12T15:04:51.144Z"
   },
   {
    "duration": 48,
    "start_time": "2023-07-12T15:04:51.154Z"
   },
   {
    "duration": 43,
    "start_time": "2023-07-12T15:04:51.204Z"
   },
   {
    "duration": 12,
    "start_time": "2023-07-12T15:04:51.249Z"
   },
   {
    "duration": 19,
    "start_time": "2023-07-12T15:04:51.263Z"
   },
   {
    "duration": 14,
    "start_time": "2023-07-12T15:04:51.284Z"
   },
   {
    "duration": 17,
    "start_time": "2023-07-12T15:04:51.300Z"
   },
   {
    "duration": 35,
    "start_time": "2023-07-12T15:04:51.319Z"
   },
   {
    "duration": 11,
    "start_time": "2023-07-12T15:04:51.356Z"
   },
   {
    "duration": 7,
    "start_time": "2023-07-12T15:04:51.369Z"
   },
   {
    "duration": 52,
    "start_time": "2023-07-12T15:04:51.379Z"
   },
   {
    "duration": 26,
    "start_time": "2023-07-12T15:04:51.434Z"
   },
   {
    "duration": 265,
    "start_time": "2023-07-12T15:04:51.464Z"
   },
   {
    "duration": 7,
    "start_time": "2023-07-12T15:04:51.731Z"
   },
   {
    "duration": 145,
    "start_time": "2023-07-12T15:04:51.740Z"
   },
   {
    "duration": 242,
    "start_time": "2023-07-12T15:04:51.887Z"
   },
   {
    "duration": 17,
    "start_time": "2023-07-12T15:04:52.131Z"
   },
   {
    "duration": 44,
    "start_time": "2023-07-12T15:04:52.150Z"
   },
   {
    "duration": 252,
    "start_time": "2023-07-12T15:04:52.196Z"
   },
   {
    "duration": 17,
    "start_time": "2023-07-12T15:04:52.450Z"
   },
   {
    "duration": 18,
    "start_time": "2023-07-12T15:04:52.468Z"
   },
   {
    "duration": 55,
    "start_time": "2023-07-12T15:04:52.487Z"
   },
   {
    "duration": 9,
    "start_time": "2023-07-12T15:04:52.549Z"
   },
   {
    "duration": 36,
    "start_time": "2023-07-12T15:04:52.560Z"
   },
   {
    "duration": 315,
    "start_time": "2023-07-12T15:04:52.598Z"
   },
   {
    "duration": 44,
    "start_time": "2023-07-12T15:04:52.921Z"
   },
   {
    "duration": 30,
    "start_time": "2023-07-12T15:04:52.967Z"
   },
   {
    "duration": 42,
    "start_time": "2023-07-12T15:04:52.999Z"
   },
   {
    "duration": 247,
    "start_time": "2023-07-12T15:04:53.042Z"
   },
   {
    "duration": 299,
    "start_time": "2023-07-12T15:04:53.291Z"
   },
   {
    "duration": 342,
    "start_time": "2023-07-12T15:04:53.592Z"
   },
   {
    "duration": 292,
    "start_time": "2023-07-12T15:04:53.936Z"
   },
   {
    "duration": 364,
    "start_time": "2023-07-12T15:04:54.231Z"
   },
   {
    "duration": 337,
    "start_time": "2023-07-12T15:04:54.597Z"
   },
   {
    "duration": 1046,
    "start_time": "2023-07-12T15:04:54.938Z"
   },
   {
    "duration": 11,
    "start_time": "2023-07-12T15:04:55.986Z"
   },
   {
    "duration": 113,
    "start_time": "2023-07-12T15:04:55.999Z"
   },
   {
    "duration": 222,
    "start_time": "2023-07-12T15:04:56.119Z"
   },
   {
    "duration": 20,
    "start_time": "2023-07-12T15:04:56.344Z"
   },
   {
    "duration": 15,
    "start_time": "2023-07-12T15:04:56.365Z"
   },
   {
    "duration": 6,
    "start_time": "2023-07-12T15:04:56.382Z"
   },
   {
    "duration": 20,
    "start_time": "2023-07-12T15:04:56.390Z"
   },
   {
    "duration": 21,
    "start_time": "2023-07-12T15:04:56.423Z"
   },
   {
    "duration": 6,
    "start_time": "2023-07-12T15:11:53.424Z"
   },
   {
    "duration": 21,
    "start_time": "2023-07-12T15:13:04.092Z"
   },
   {
    "duration": 7,
    "start_time": "2023-07-12T15:15:00.696Z"
   },
   {
    "duration": 1567,
    "start_time": "2023-07-12T15:19:14.299Z"
   },
   {
    "duration": 91,
    "start_time": "2023-07-12T15:19:15.868Z"
   },
   {
    "duration": 19,
    "start_time": "2023-07-12T15:19:15.964Z"
   },
   {
    "duration": 14,
    "start_time": "2023-07-12T15:19:15.986Z"
   },
   {
    "duration": 46,
    "start_time": "2023-07-12T15:19:16.001Z"
   },
   {
    "duration": 6,
    "start_time": "2023-07-12T15:19:16.070Z"
   },
   {
    "duration": 54,
    "start_time": "2023-07-12T15:19:16.078Z"
   },
   {
    "duration": 35,
    "start_time": "2023-07-12T15:19:16.138Z"
   },
   {
    "duration": 20,
    "start_time": "2023-07-12T15:19:16.178Z"
   },
   {
    "duration": 44,
    "start_time": "2023-07-12T15:19:16.203Z"
   },
   {
    "duration": 22,
    "start_time": "2023-07-12T15:19:16.257Z"
   },
   {
    "duration": 11,
    "start_time": "2023-07-12T15:19:16.285Z"
   },
   {
    "duration": 53,
    "start_time": "2023-07-12T15:19:16.298Z"
   },
   {
    "duration": 28,
    "start_time": "2023-07-12T15:19:16.354Z"
   },
   {
    "duration": 41,
    "start_time": "2023-07-12T15:19:16.384Z"
   },
   {
    "duration": 9,
    "start_time": "2023-07-12T15:19:16.428Z"
   },
   {
    "duration": 54,
    "start_time": "2023-07-12T15:19:16.439Z"
   },
   {
    "duration": 41,
    "start_time": "2023-07-12T15:19:16.495Z"
   },
   {
    "duration": 28,
    "start_time": "2023-07-12T15:19:16.541Z"
   },
   {
    "duration": 20,
    "start_time": "2023-07-12T15:19:16.572Z"
   },
   {
    "duration": 23,
    "start_time": "2023-07-12T15:19:16.596Z"
   },
   {
    "duration": 8,
    "start_time": "2023-07-12T15:19:16.626Z"
   },
   {
    "duration": 41,
    "start_time": "2023-07-12T15:19:16.641Z"
   },
   {
    "duration": 32,
    "start_time": "2023-07-12T15:19:16.684Z"
   },
   {
    "duration": 17,
    "start_time": "2023-07-12T15:19:16.723Z"
   },
   {
    "duration": 14,
    "start_time": "2023-07-12T15:19:16.747Z"
   },
   {
    "duration": 20,
    "start_time": "2023-07-12T15:19:16.763Z"
   },
   {
    "duration": 293,
    "start_time": "2023-07-12T15:19:16.793Z"
   },
   {
    "duration": 8,
    "start_time": "2023-07-12T15:19:17.088Z"
   },
   {
    "duration": 197,
    "start_time": "2023-07-12T15:19:17.098Z"
   },
   {
    "duration": 324,
    "start_time": "2023-07-12T15:19:17.297Z"
   },
   {
    "duration": 37,
    "start_time": "2023-07-12T15:19:17.630Z"
   },
   {
    "duration": 18,
    "start_time": "2023-07-12T15:19:17.669Z"
   },
   {
    "duration": 400,
    "start_time": "2023-07-12T15:19:17.697Z"
   },
   {
    "duration": 27,
    "start_time": "2023-07-12T15:19:18.098Z"
   },
   {
    "duration": 21,
    "start_time": "2023-07-12T15:19:18.127Z"
   },
   {
    "duration": 37,
    "start_time": "2023-07-12T15:19:18.149Z"
   },
   {
    "duration": 14,
    "start_time": "2023-07-12T15:19:18.192Z"
   },
   {
    "duration": 46,
    "start_time": "2023-07-12T15:19:18.211Z"
   },
   {
    "duration": 340,
    "start_time": "2023-07-12T15:19:18.264Z"
   },
   {
    "duration": 76,
    "start_time": "2023-07-12T15:19:18.606Z"
   },
   {
    "duration": 26,
    "start_time": "2023-07-12T15:19:18.684Z"
   },
   {
    "duration": 73,
    "start_time": "2023-07-12T15:19:18.715Z"
   },
   {
    "duration": 292,
    "start_time": "2023-07-12T15:19:18.790Z"
   },
   {
    "duration": 306,
    "start_time": "2023-07-12T15:19:19.086Z"
   },
   {
    "duration": 463,
    "start_time": "2023-07-12T15:19:19.399Z"
   },
   {
    "duration": 350,
    "start_time": "2023-07-12T15:19:19.863Z"
   },
   {
    "duration": 447,
    "start_time": "2023-07-12T15:19:20.215Z"
   },
   {
    "duration": 518,
    "start_time": "2023-07-12T15:19:20.676Z"
   },
   {
    "duration": 1487,
    "start_time": "2023-07-12T15:19:21.196Z"
   },
   {
    "duration": 17,
    "start_time": "2023-07-12T15:19:22.685Z"
   },
   {
    "duration": 26,
    "start_time": "2023-07-12T15:19:22.704Z"
   },
   {
    "duration": 264,
    "start_time": "2023-07-12T15:19:22.746Z"
   },
   {
    "duration": 32,
    "start_time": "2023-07-12T15:19:23.011Z"
   },
   {
    "duration": 56,
    "start_time": "2023-07-12T15:19:23.051Z"
   },
   {
    "duration": 36,
    "start_time": "2023-07-12T15:19:23.112Z"
   },
   {
    "duration": 21,
    "start_time": "2023-07-12T15:19:23.170Z"
   },
   {
    "duration": 26,
    "start_time": "2023-07-12T15:19:23.193Z"
   },
   {
    "duration": 45,
    "start_time": "2023-07-13T13:15:29.590Z"
   },
   {
    "duration": 1324,
    "start_time": "2023-07-13T13:15:34.738Z"
   },
   {
    "duration": 310,
    "start_time": "2023-07-13T13:15:36.064Z"
   },
   {
    "duration": 12,
    "start_time": "2023-07-13T13:15:36.376Z"
   },
   {
    "duration": 18,
    "start_time": "2023-07-13T13:15:36.390Z"
   },
   {
    "duration": 12,
    "start_time": "2023-07-13T13:15:36.410Z"
   },
   {
    "duration": 9,
    "start_time": "2023-07-13T13:15:36.424Z"
   },
   {
    "duration": 16,
    "start_time": "2023-07-13T13:15:36.435Z"
   },
   {
    "duration": 12,
    "start_time": "2023-07-13T13:15:36.452Z"
   },
   {
    "duration": 12,
    "start_time": "2023-07-13T13:15:36.465Z"
   },
   {
    "duration": 35,
    "start_time": "2023-07-13T13:15:36.479Z"
   },
   {
    "duration": 7,
    "start_time": "2023-07-13T13:15:36.516Z"
   },
   {
    "duration": 26,
    "start_time": "2023-07-13T13:15:36.525Z"
   },
   {
    "duration": 14,
    "start_time": "2023-07-13T13:15:36.554Z"
   },
   {
    "duration": 18,
    "start_time": "2023-07-13T13:15:36.572Z"
   },
   {
    "duration": 21,
    "start_time": "2023-07-13T13:15:36.592Z"
   },
   {
    "duration": 17,
    "start_time": "2023-07-13T13:15:36.615Z"
   },
   {
    "duration": 27,
    "start_time": "2023-07-13T13:15:36.633Z"
   },
   {
    "duration": 7,
    "start_time": "2023-07-13T13:15:36.662Z"
   },
   {
    "duration": 22,
    "start_time": "2023-07-13T13:15:36.670Z"
   },
   {
    "duration": 20,
    "start_time": "2023-07-13T13:15:36.694Z"
   },
   {
    "duration": 18,
    "start_time": "2023-07-13T13:15:36.715Z"
   },
   {
    "duration": 9,
    "start_time": "2023-07-13T13:15:36.734Z"
   },
   {
    "duration": 18,
    "start_time": "2023-07-13T13:15:36.745Z"
   },
   {
    "duration": 18,
    "start_time": "2023-07-13T13:15:36.765Z"
   },
   {
    "duration": 17,
    "start_time": "2023-07-13T13:15:36.784Z"
   },
   {
    "duration": 19,
    "start_time": "2023-07-13T13:15:36.803Z"
   },
   {
    "duration": 38,
    "start_time": "2023-07-13T13:15:36.823Z"
   },
   {
    "duration": 195,
    "start_time": "2023-07-13T13:15:36.863Z"
   },
   {
    "duration": 5,
    "start_time": "2023-07-13T13:15:37.060Z"
   },
   {
    "duration": 129,
    "start_time": "2023-07-13T13:15:37.067Z"
   },
   {
    "duration": 199,
    "start_time": "2023-07-13T13:15:37.198Z"
   },
   {
    "duration": 14,
    "start_time": "2023-07-13T13:15:37.399Z"
   },
   {
    "duration": 21,
    "start_time": "2023-07-13T13:15:37.415Z"
   },
   {
    "duration": 202,
    "start_time": "2023-07-13T13:15:37.438Z"
   },
   {
    "duration": 24,
    "start_time": "2023-07-13T13:15:37.641Z"
   },
   {
    "duration": 28,
    "start_time": "2023-07-13T13:15:37.667Z"
   },
   {
    "duration": 15,
    "start_time": "2023-07-13T13:15:37.697Z"
   },
   {
    "duration": 10,
    "start_time": "2023-07-13T13:15:37.714Z"
   },
   {
    "duration": 20,
    "start_time": "2023-07-13T13:15:37.726Z"
   },
   {
    "duration": 201,
    "start_time": "2023-07-13T13:15:37.748Z"
   },
   {
    "duration": 30,
    "start_time": "2023-07-13T13:15:37.959Z"
   },
   {
    "duration": 22,
    "start_time": "2023-07-13T13:15:37.990Z"
   },
   {
    "duration": 23,
    "start_time": "2023-07-13T13:15:38.013Z"
   },
   {
    "duration": 187,
    "start_time": "2023-07-13T13:15:38.056Z"
   },
   {
    "duration": 226,
    "start_time": "2023-07-13T13:15:38.245Z"
   },
   {
    "duration": 289,
    "start_time": "2023-07-13T13:15:38.473Z"
   },
   {
    "duration": 235,
    "start_time": "2023-07-13T13:15:38.764Z"
   },
   {
    "duration": 344,
    "start_time": "2023-07-13T13:15:39.002Z"
   },
   {
    "duration": 257,
    "start_time": "2023-07-13T13:15:39.348Z"
   },
   {
    "duration": 18,
    "start_time": "2023-07-13T13:15:39.606Z"
   },
   {
    "duration": 828,
    "start_time": "2023-07-13T13:15:39.626Z"
   },
   {
    "duration": 9,
    "start_time": "2023-07-13T13:15:40.455Z"
   },
   {
    "duration": 13,
    "start_time": "2023-07-13T13:15:40.465Z"
   },
   {
    "duration": 156,
    "start_time": "2023-07-13T13:15:40.480Z"
   },
   {
    "duration": 19,
    "start_time": "2023-07-13T13:15:40.638Z"
   },
   {
    "duration": 9,
    "start_time": "2023-07-13T13:15:40.658Z"
   },
   {
    "duration": 14,
    "start_time": "2023-07-13T13:15:40.668Z"
   },
   {
    "duration": 17,
    "start_time": "2023-07-13T13:15:40.683Z"
   },
   {
    "duration": 19,
    "start_time": "2023-07-13T13:15:40.702Z"
   },
   {
    "duration": 17,
    "start_time": "2023-07-13T13:16:28.942Z"
   },
   {
    "duration": 18,
    "start_time": "2023-07-13T13:20:46.442Z"
   },
   {
    "duration": 4,
    "start_time": "2023-07-13T13:20:50.761Z"
   },
   {
    "duration": 21,
    "start_time": "2023-07-13T13:20:58.173Z"
   },
   {
    "duration": 18,
    "start_time": "2023-07-13T13:21:19.330Z"
   },
   {
    "duration": 21,
    "start_time": "2023-07-13T13:21:27.352Z"
   },
   {
    "duration": 834,
    "start_time": "2023-07-13T13:21:42.135Z"
   },
   {
    "duration": 1278,
    "start_time": "2023-07-13T13:21:57.967Z"
   },
   {
    "duration": 69,
    "start_time": "2023-07-13T13:21:59.247Z"
   },
   {
    "duration": 14,
    "start_time": "2023-07-13T13:21:59.318Z"
   },
   {
    "duration": 11,
    "start_time": "2023-07-13T13:21:59.334Z"
   },
   {
    "duration": 10,
    "start_time": "2023-07-13T13:21:59.347Z"
   },
   {
    "duration": 9,
    "start_time": "2023-07-13T13:21:59.359Z"
   },
   {
    "duration": 10,
    "start_time": "2023-07-13T13:21:59.370Z"
   },
   {
    "duration": 13,
    "start_time": "2023-07-13T13:21:59.382Z"
   },
   {
    "duration": 8,
    "start_time": "2023-07-13T13:21:59.397Z"
   },
   {
    "duration": 8,
    "start_time": "2023-07-13T13:21:59.408Z"
   },
   {
    "duration": 44,
    "start_time": "2023-07-13T13:21:59.417Z"
   },
   {
    "duration": 24,
    "start_time": "2023-07-13T13:21:59.463Z"
   },
   {
    "duration": 18,
    "start_time": "2023-07-13T13:21:59.489Z"
   },
   {
    "duration": 6,
    "start_time": "2023-07-13T13:21:59.509Z"
   },
   {
    "duration": 11,
    "start_time": "2023-07-13T13:21:59.517Z"
   },
   {
    "duration": 4,
    "start_time": "2023-07-13T13:21:59.530Z"
   },
   {
    "duration": 36,
    "start_time": "2023-07-13T13:21:59.536Z"
   },
   {
    "duration": 6,
    "start_time": "2023-07-13T13:21:59.574Z"
   },
   {
    "duration": 7,
    "start_time": "2023-07-13T13:21:59.581Z"
   },
   {
    "duration": 13,
    "start_time": "2023-07-13T13:21:59.590Z"
   },
   {
    "duration": 10,
    "start_time": "2023-07-13T13:21:59.605Z"
   },
   {
    "duration": 4,
    "start_time": "2023-07-13T13:21:59.617Z"
   },
   {
    "duration": 7,
    "start_time": "2023-07-13T13:21:59.622Z"
   },
   {
    "duration": 39,
    "start_time": "2023-07-13T13:21:59.631Z"
   },
   {
    "duration": 7,
    "start_time": "2023-07-13T13:21:59.672Z"
   },
   {
    "duration": 7,
    "start_time": "2023-07-13T13:21:59.681Z"
   },
   {
    "duration": 16,
    "start_time": "2023-07-13T13:21:59.689Z"
   },
   {
    "duration": 188,
    "start_time": "2023-07-13T13:21:59.709Z"
   },
   {
    "duration": 6,
    "start_time": "2023-07-13T13:21:59.899Z"
   },
   {
    "duration": 132,
    "start_time": "2023-07-13T13:21:59.906Z"
   },
   {
    "duration": 192,
    "start_time": "2023-07-13T13:22:00.040Z"
   },
   {
    "duration": 12,
    "start_time": "2023-07-13T13:22:00.234Z"
   },
   {
    "duration": 15,
    "start_time": "2023-07-13T13:22:00.257Z"
   },
   {
    "duration": 237,
    "start_time": "2023-07-13T13:22:00.274Z"
   },
   {
    "duration": 16,
    "start_time": "2023-07-13T13:22:00.512Z"
   },
   {
    "duration": 39,
    "start_time": "2023-07-13T13:22:00.531Z"
   },
   {
    "duration": 59,
    "start_time": "2023-07-13T13:22:00.572Z"
   },
   {
    "duration": 40,
    "start_time": "2023-07-13T13:22:00.633Z"
   },
   {
    "duration": 31,
    "start_time": "2023-07-13T13:22:00.676Z"
   },
   {
    "duration": 256,
    "start_time": "2023-07-13T13:22:00.710Z"
   },
   {
    "duration": 31,
    "start_time": "2023-07-13T13:22:00.968Z"
   },
   {
    "duration": 52,
    "start_time": "2023-07-13T13:22:01.001Z"
   },
   {
    "duration": 24,
    "start_time": "2023-07-13T13:22:01.055Z"
   },
   {
    "duration": 209,
    "start_time": "2023-07-13T13:22:01.082Z"
   },
   {
    "duration": 219,
    "start_time": "2023-07-13T13:22:01.293Z"
   },
   {
    "duration": 287,
    "start_time": "2023-07-13T13:22:01.514Z"
   },
   {
    "duration": 231,
    "start_time": "2023-07-13T13:22:01.803Z"
   },
   {
    "duration": 270,
    "start_time": "2023-07-13T13:22:02.036Z"
   },
   {
    "duration": 295,
    "start_time": "2023-07-13T13:22:02.308Z"
   },
   {
    "duration": 19,
    "start_time": "2023-07-13T13:22:02.605Z"
   },
   {
    "duration": 36,
    "start_time": "2023-07-13T13:22:02.625Z"
   },
   {
    "duration": 871,
    "start_time": "2023-07-13T13:22:02.663Z"
   },
   {
    "duration": 10,
    "start_time": "2023-07-13T13:22:03.535Z"
   },
   {
    "duration": 10,
    "start_time": "2023-07-13T13:22:03.557Z"
   },
   {
    "duration": 165,
    "start_time": "2023-07-13T13:22:03.568Z"
   },
   {
    "duration": 23,
    "start_time": "2023-07-13T13:22:03.734Z"
   },
   {
    "duration": 10,
    "start_time": "2023-07-13T13:22:03.759Z"
   },
   {
    "duration": 7,
    "start_time": "2023-07-13T13:22:03.771Z"
   },
   {
    "duration": 10,
    "start_time": "2023-07-13T13:22:03.780Z"
   },
   {
    "duration": 31,
    "start_time": "2023-07-13T13:22:03.792Z"
   },
   {
    "duration": 5,
    "start_time": "2023-07-13T13:28:46.963Z"
   },
   {
    "duration": 1181,
    "start_time": "2023-07-13T14:01:25.670Z"
   },
   {
    "duration": 68,
    "start_time": "2023-07-13T14:01:26.853Z"
   },
   {
    "duration": 12,
    "start_time": "2023-07-13T14:01:26.922Z"
   },
   {
    "duration": 15,
    "start_time": "2023-07-13T14:01:26.936Z"
   },
   {
    "duration": 20,
    "start_time": "2023-07-13T14:01:26.952Z"
   },
   {
    "duration": 4,
    "start_time": "2023-07-13T14:01:26.974Z"
   },
   {
    "duration": 11,
    "start_time": "2023-07-13T14:01:26.980Z"
   },
   {
    "duration": 27,
    "start_time": "2023-07-13T14:01:26.992Z"
   },
   {
    "duration": 24,
    "start_time": "2023-07-13T14:01:27.020Z"
   },
   {
    "duration": 9,
    "start_time": "2023-07-13T14:01:27.046Z"
   },
   {
    "duration": 7,
    "start_time": "2023-07-13T14:01:27.057Z"
   },
   {
    "duration": 13,
    "start_time": "2023-07-13T14:01:27.065Z"
   },
   {
    "duration": 12,
    "start_time": "2023-07-13T14:01:27.079Z"
   },
   {
    "duration": 6,
    "start_time": "2023-07-13T14:01:27.092Z"
   },
   {
    "duration": 11,
    "start_time": "2023-07-13T14:01:27.100Z"
   },
   {
    "duration": 9,
    "start_time": "2023-07-13T14:01:27.113Z"
   },
   {
    "duration": 15,
    "start_time": "2023-07-13T14:01:27.123Z"
   },
   {
    "duration": 10,
    "start_time": "2023-07-13T14:01:27.140Z"
   },
   {
    "duration": 22,
    "start_time": "2023-07-13T14:01:27.151Z"
   },
   {
    "duration": 5,
    "start_time": "2023-07-13T14:01:27.174Z"
   },
   {
    "duration": 11,
    "start_time": "2023-07-13T14:01:27.180Z"
   },
   {
    "duration": 4,
    "start_time": "2023-07-13T14:01:27.192Z"
   },
   {
    "duration": 9,
    "start_time": "2023-07-13T14:01:27.197Z"
   },
   {
    "duration": 9,
    "start_time": "2023-07-13T14:01:27.207Z"
   },
   {
    "duration": 5,
    "start_time": "2023-07-13T14:01:27.217Z"
   },
   {
    "duration": 6,
    "start_time": "2023-07-13T14:01:27.224Z"
   },
   {
    "duration": 39,
    "start_time": "2023-07-13T14:01:27.231Z"
   },
   {
    "duration": 194,
    "start_time": "2023-07-13T14:01:27.274Z"
   },
   {
    "duration": 6,
    "start_time": "2023-07-13T14:01:27.471Z"
   },
   {
    "duration": 138,
    "start_time": "2023-07-13T14:01:27.478Z"
   },
   {
    "duration": 185,
    "start_time": "2023-07-13T14:01:27.618Z"
   },
   {
    "duration": 12,
    "start_time": "2023-07-13T14:01:27.805Z"
   },
   {
    "duration": 20,
    "start_time": "2023-07-13T14:01:27.818Z"
   },
   {
    "duration": 205,
    "start_time": "2023-07-13T14:01:27.840Z"
   },
   {
    "duration": 24,
    "start_time": "2023-07-13T14:01:28.047Z"
   },
   {
    "duration": 12,
    "start_time": "2023-07-13T14:01:28.073Z"
   },
   {
    "duration": 26,
    "start_time": "2023-07-13T14:01:28.086Z"
   },
   {
    "duration": 6,
    "start_time": "2023-07-13T14:01:28.114Z"
   },
   {
    "duration": 19,
    "start_time": "2023-07-13T14:01:28.122Z"
   },
   {
    "duration": 207,
    "start_time": "2023-07-13T14:01:28.143Z"
   },
   {
    "duration": 39,
    "start_time": "2023-07-13T14:01:28.352Z"
   },
   {
    "duration": 22,
    "start_time": "2023-07-13T14:01:28.393Z"
   },
   {
    "duration": 20,
    "start_time": "2023-07-13T14:01:28.417Z"
   },
   {
    "duration": 210,
    "start_time": "2023-07-13T14:01:28.439Z"
   },
   {
    "duration": 222,
    "start_time": "2023-07-13T14:01:28.651Z"
   },
   {
    "duration": 245,
    "start_time": "2023-07-13T14:01:28.875Z"
   },
   {
    "duration": 248,
    "start_time": "2023-07-13T14:01:29.122Z"
   },
   {
    "duration": 282,
    "start_time": "2023-07-13T14:01:29.372Z"
   },
   {
    "duration": 257,
    "start_time": "2023-07-13T14:01:29.656Z"
   },
   {
    "duration": 17,
    "start_time": "2023-07-13T14:01:29.915Z"
   },
   {
    "duration": 18,
    "start_time": "2023-07-13T14:01:29.933Z"
   },
   {
    "duration": 953,
    "start_time": "2023-07-13T14:01:29.953Z"
   },
   {
    "duration": 10,
    "start_time": "2023-07-13T14:01:30.908Z"
   },
   {
    "duration": 67,
    "start_time": "2023-07-13T14:01:30.920Z"
   },
   {
    "duration": 171,
    "start_time": "2023-07-13T14:01:30.989Z"
   },
   {
    "duration": 17,
    "start_time": "2023-07-13T14:01:31.161Z"
   },
   {
    "duration": 25,
    "start_time": "2023-07-13T14:01:31.180Z"
   },
   {
    "duration": 64,
    "start_time": "2023-07-13T14:01:31.207Z"
   },
   {
    "duration": 29,
    "start_time": "2023-07-13T14:01:31.272Z"
   },
   {
    "duration": 33,
    "start_time": "2023-07-13T14:01:31.302Z"
   },
   {
    "duration": 49,
    "start_time": "2023-07-13T15:45:56.844Z"
   },
   {
    "duration": 1431,
    "start_time": "2023-07-13T15:46:02.528Z"
   },
   {
    "duration": 431,
    "start_time": "2023-07-13T15:46:03.961Z"
   },
   {
    "duration": 15,
    "start_time": "2023-07-13T15:46:04.394Z"
   },
   {
    "duration": 31,
    "start_time": "2023-07-13T15:46:04.412Z"
   },
   {
    "duration": 31,
    "start_time": "2023-07-13T15:46:04.445Z"
   },
   {
    "duration": 12,
    "start_time": "2023-07-13T15:46:04.478Z"
   },
   {
    "duration": 39,
    "start_time": "2023-07-13T15:46:04.492Z"
   },
   {
    "duration": 32,
    "start_time": "2023-07-13T15:46:04.533Z"
   },
   {
    "duration": 10,
    "start_time": "2023-07-13T15:46:04.566Z"
   },
   {
    "duration": 8,
    "start_time": "2023-07-13T15:46:04.579Z"
   },
   {
    "duration": 39,
    "start_time": "2023-07-13T15:46:04.588Z"
   },
   {
    "duration": 15,
    "start_time": "2023-07-13T15:46:04.629Z"
   },
   {
    "duration": 37,
    "start_time": "2023-07-13T15:46:04.646Z"
   },
   {
    "duration": 25,
    "start_time": "2023-07-13T15:46:04.685Z"
   },
   {
    "duration": 14,
    "start_time": "2023-07-13T15:46:04.712Z"
   },
   {
    "duration": 40,
    "start_time": "2023-07-13T15:46:04.727Z"
   },
   {
    "duration": 91,
    "start_time": "2023-07-13T15:46:04.769Z"
   },
   {
    "duration": 294,
    "start_time": "2023-07-13T15:46:04.862Z"
   },
   {
    "duration": 55,
    "start_time": "2023-07-13T15:46:05.158Z"
   },
   {
    "duration": 132,
    "start_time": "2023-07-13T15:46:05.215Z"
   },
   {
    "duration": 9,
    "start_time": "2023-07-13T15:46:05.350Z"
   },
   {
    "duration": 33,
    "start_time": "2023-07-13T15:46:05.360Z"
   },
   {
    "duration": 8,
    "start_time": "2023-07-13T15:46:05.395Z"
   },
   {
    "duration": 25,
    "start_time": "2023-07-13T15:46:05.404Z"
   },
   {
    "duration": 32,
    "start_time": "2023-07-13T15:46:05.431Z"
   },
   {
    "duration": 33,
    "start_time": "2023-07-13T15:46:05.465Z"
   },
   {
    "duration": 17,
    "start_time": "2023-07-13T15:46:05.500Z"
   },
   {
    "duration": 14,
    "start_time": "2023-07-13T15:46:05.521Z"
   },
   {
    "duration": 249,
    "start_time": "2023-07-13T15:46:05.537Z"
   },
   {
    "duration": 5,
    "start_time": "2023-07-13T15:46:05.788Z"
   },
   {
    "duration": 149,
    "start_time": "2023-07-13T15:46:05.795Z"
   },
   {
    "duration": 210,
    "start_time": "2023-07-13T15:46:05.945Z"
   },
   {
    "duration": 13,
    "start_time": "2023-07-13T15:46:06.158Z"
   },
   {
    "duration": 30,
    "start_time": "2023-07-13T15:46:06.172Z"
   },
   {
    "duration": 255,
    "start_time": "2023-07-13T15:46:06.204Z"
   },
   {
    "duration": 17,
    "start_time": "2023-07-13T15:46:06.460Z"
   },
   {
    "duration": 35,
    "start_time": "2023-07-13T15:46:06.479Z"
   },
   {
    "duration": 39,
    "start_time": "2023-07-13T15:46:06.516Z"
   },
   {
    "duration": 15,
    "start_time": "2023-07-13T15:46:06.557Z"
   },
   {
    "duration": 16,
    "start_time": "2023-07-13T15:46:06.574Z"
   },
   {
    "duration": 244,
    "start_time": "2023-07-13T15:46:06.591Z"
   },
   {
    "duration": 35,
    "start_time": "2023-07-13T15:46:06.836Z"
   },
   {
    "duration": 41,
    "start_time": "2023-07-13T15:46:06.872Z"
   },
   {
    "duration": 23,
    "start_time": "2023-07-13T15:46:06.915Z"
   },
   {
    "duration": 252,
    "start_time": "2023-07-13T15:46:06.941Z"
   },
   {
    "duration": 226,
    "start_time": "2023-07-13T15:46:07.194Z"
   },
   {
    "duration": 293,
    "start_time": "2023-07-13T15:46:07.422Z"
   },
   {
    "duration": 266,
    "start_time": "2023-07-13T15:46:07.717Z"
   },
   {
    "duration": 300,
    "start_time": "2023-07-13T15:46:07.984Z"
   },
   {
    "duration": 277,
    "start_time": "2023-07-13T15:46:08.286Z"
   },
   {
    "duration": 19,
    "start_time": "2023-07-13T15:46:08.566Z"
   },
   {
    "duration": 34,
    "start_time": "2023-07-13T15:46:08.586Z"
   },
   {
    "duration": 973,
    "start_time": "2023-07-13T15:46:08.622Z"
   },
   {
    "duration": 21,
    "start_time": "2023-07-13T15:46:09.597Z"
   },
   {
    "duration": 6,
    "start_time": "2023-07-13T15:46:09.619Z"
   },
   {
    "duration": 210,
    "start_time": "2023-07-13T15:46:09.627Z"
   },
   {
    "duration": 17,
    "start_time": "2023-07-13T15:46:09.839Z"
   },
   {
    "duration": 12,
    "start_time": "2023-07-13T15:46:09.858Z"
   },
   {
    "duration": 7,
    "start_time": "2023-07-13T15:46:09.873Z"
   },
   {
    "duration": 22,
    "start_time": "2023-07-13T15:46:09.882Z"
   },
   {
    "duration": 18,
    "start_time": "2023-07-13T15:46:09.913Z"
   },
   {
    "duration": 130,
    "start_time": "2023-07-13T15:50:18.501Z"
   },
   {
    "duration": 5,
    "start_time": "2023-07-13T15:50:29.220Z"
   },
   {
    "duration": 5,
    "start_time": "2023-07-13T15:50:39.525Z"
   },
   {
    "duration": 6,
    "start_time": "2023-07-13T15:51:00.710Z"
   },
   {
    "duration": 5,
    "start_time": "2023-07-13T15:51:09.299Z"
   },
   {
    "duration": 6,
    "start_time": "2023-07-13T15:51:16.801Z"
   },
   {
    "duration": 5,
    "start_time": "2023-07-13T15:51:27.556Z"
   },
   {
    "duration": 6,
    "start_time": "2023-07-13T15:51:37.626Z"
   },
   {
    "duration": 6,
    "start_time": "2023-07-13T15:51:44.717Z"
   },
   {
    "duration": 102,
    "start_time": "2023-07-13T15:51:52.338Z"
   },
   {
    "duration": 11,
    "start_time": "2023-07-13T15:52:06.118Z"
   },
   {
    "duration": 11,
    "start_time": "2023-07-13T15:52:23.307Z"
   },
   {
    "duration": 9,
    "start_time": "2023-07-13T15:52:31.269Z"
   },
   {
    "duration": 5,
    "start_time": "2023-07-13T15:52:52.531Z"
   },
   {
    "duration": 6,
    "start_time": "2023-07-13T15:53:00.116Z"
   },
   {
    "duration": 6,
    "start_time": "2023-07-13T15:53:10.424Z"
   },
   {
    "duration": 7,
    "start_time": "2023-07-13T15:53:28.821Z"
   },
   {
    "duration": 142,
    "start_time": "2023-07-13T15:58:16.536Z"
   },
   {
    "duration": 142,
    "start_time": "2023-07-13T15:58:32.571Z"
   },
   {
    "duration": 133,
    "start_time": "2023-07-13T15:58:45.922Z"
   },
   {
    "duration": 218,
    "start_time": "2023-07-13T15:58:59.968Z"
   },
   {
    "duration": 119,
    "start_time": "2023-07-13T16:03:32.808Z"
   },
   {
    "duration": 111,
    "start_time": "2023-07-13T16:05:10.540Z"
   },
   {
    "duration": 170,
    "start_time": "2023-07-13T16:05:37.437Z"
   },
   {
    "duration": 8,
    "start_time": "2023-07-13T16:06:23.408Z"
   },
   {
    "duration": 18,
    "start_time": "2023-07-13T16:13:25.712Z"
   },
   {
    "duration": 1197,
    "start_time": "2023-07-13T16:13:31.814Z"
   },
   {
    "duration": 71,
    "start_time": "2023-07-13T16:13:33.014Z"
   },
   {
    "duration": 14,
    "start_time": "2023-07-13T16:13:33.086Z"
   },
   {
    "duration": 22,
    "start_time": "2023-07-13T16:13:33.102Z"
   },
   {
    "duration": 27,
    "start_time": "2023-07-13T16:13:33.127Z"
   },
   {
    "duration": 21,
    "start_time": "2023-07-13T16:13:33.156Z"
   },
   {
    "duration": 20,
    "start_time": "2023-07-13T16:13:33.179Z"
   },
   {
    "duration": 29,
    "start_time": "2023-07-13T16:13:33.200Z"
   },
   {
    "duration": 25,
    "start_time": "2023-07-13T16:13:33.231Z"
   },
   {
    "duration": 33,
    "start_time": "2023-07-13T16:13:33.258Z"
   },
   {
    "duration": 20,
    "start_time": "2023-07-13T16:13:33.293Z"
   },
   {
    "duration": 17,
    "start_time": "2023-07-13T16:13:33.315Z"
   },
   {
    "duration": 22,
    "start_time": "2023-07-13T16:13:33.334Z"
   },
   {
    "duration": 7,
    "start_time": "2023-07-13T16:13:33.359Z"
   },
   {
    "duration": 28,
    "start_time": "2023-07-13T16:13:33.367Z"
   },
   {
    "duration": 14,
    "start_time": "2023-07-13T16:13:33.396Z"
   },
   {
    "duration": 20,
    "start_time": "2023-07-13T16:13:33.412Z"
   },
   {
    "duration": 14,
    "start_time": "2023-07-13T16:13:33.434Z"
   },
   {
    "duration": 18,
    "start_time": "2023-07-13T16:13:33.450Z"
   },
   {
    "duration": 11,
    "start_time": "2023-07-13T16:13:33.469Z"
   },
   {
    "duration": 7,
    "start_time": "2023-07-13T16:13:33.482Z"
   },
   {
    "duration": 18,
    "start_time": "2023-07-13T16:13:33.491Z"
   },
   {
    "duration": 11,
    "start_time": "2023-07-13T16:13:33.510Z"
   },
   {
    "duration": 18,
    "start_time": "2023-07-13T16:13:33.523Z"
   },
   {
    "duration": 24,
    "start_time": "2023-07-13T16:13:33.542Z"
   },
   {
    "duration": 6,
    "start_time": "2023-07-13T16:13:33.568Z"
   },
   {
    "duration": 14,
    "start_time": "2023-07-13T16:13:33.575Z"
   },
   {
    "duration": 11,
    "start_time": "2023-07-13T16:13:33.590Z"
   },
   {
    "duration": 232,
    "start_time": "2023-07-13T16:13:33.602Z"
   },
   {
    "duration": 6,
    "start_time": "2023-07-13T16:13:33.836Z"
   },
   {
    "duration": 158,
    "start_time": "2023-07-13T16:13:33.843Z"
   },
   {
    "duration": 124,
    "start_time": "2023-07-13T16:13:34.003Z"
   },
   {
    "duration": 0,
    "start_time": "2023-07-13T16:13:34.130Z"
   },
   {
    "duration": 0,
    "start_time": "2023-07-13T16:13:34.131Z"
   },
   {
    "duration": 0,
    "start_time": "2023-07-13T16:13:34.132Z"
   },
   {
    "duration": 0,
    "start_time": "2023-07-13T16:13:34.134Z"
   },
   {
    "duration": 0,
    "start_time": "2023-07-13T16:13:34.135Z"
   },
   {
    "duration": 0,
    "start_time": "2023-07-13T16:13:34.136Z"
   },
   {
    "duration": 0,
    "start_time": "2023-07-13T16:13:34.137Z"
   },
   {
    "duration": 0,
    "start_time": "2023-07-13T16:13:34.139Z"
   },
   {
    "duration": 0,
    "start_time": "2023-07-13T16:13:34.140Z"
   },
   {
    "duration": 0,
    "start_time": "2023-07-13T16:13:34.141Z"
   },
   {
    "duration": 0,
    "start_time": "2023-07-13T16:13:34.143Z"
   },
   {
    "duration": 0,
    "start_time": "2023-07-13T16:13:34.144Z"
   },
   {
    "duration": 0,
    "start_time": "2023-07-13T16:13:34.145Z"
   },
   {
    "duration": 0,
    "start_time": "2023-07-13T16:13:34.146Z"
   },
   {
    "duration": 0,
    "start_time": "2023-07-13T16:13:34.148Z"
   },
   {
    "duration": 0,
    "start_time": "2023-07-13T16:13:34.150Z"
   },
   {
    "duration": 0,
    "start_time": "2023-07-13T16:13:34.150Z"
   },
   {
    "duration": 0,
    "start_time": "2023-07-13T16:13:34.151Z"
   },
   {
    "duration": 0,
    "start_time": "2023-07-13T16:13:34.152Z"
   },
   {
    "duration": 0,
    "start_time": "2023-07-13T16:13:34.153Z"
   },
   {
    "duration": 0,
    "start_time": "2023-07-13T16:13:34.154Z"
   },
   {
    "duration": 0,
    "start_time": "2023-07-13T16:13:34.155Z"
   },
   {
    "duration": 0,
    "start_time": "2023-07-13T16:13:34.156Z"
   },
   {
    "duration": 0,
    "start_time": "2023-07-13T16:13:34.157Z"
   },
   {
    "duration": 0,
    "start_time": "2023-07-13T16:13:34.158Z"
   },
   {
    "duration": 0,
    "start_time": "2023-07-13T16:13:34.159Z"
   },
   {
    "duration": 0,
    "start_time": "2023-07-13T16:13:34.160Z"
   },
   {
    "duration": 0,
    "start_time": "2023-07-13T16:13:34.161Z"
   },
   {
    "duration": 0,
    "start_time": "2023-07-13T16:13:34.162Z"
   },
   {
    "duration": 0,
    "start_time": "2023-07-13T16:13:34.163Z"
   },
   {
    "duration": 0,
    "start_time": "2023-07-13T16:13:34.164Z"
   },
   {
    "duration": 1158,
    "start_time": "2023-07-13T16:14:13.056Z"
   },
   {
    "duration": 71,
    "start_time": "2023-07-13T16:14:14.216Z"
   },
   {
    "duration": 14,
    "start_time": "2023-07-13T16:14:14.289Z"
   },
   {
    "duration": 27,
    "start_time": "2023-07-13T16:14:14.305Z"
   },
   {
    "duration": 31,
    "start_time": "2023-07-13T16:14:14.334Z"
   },
   {
    "duration": 37,
    "start_time": "2023-07-13T16:14:14.367Z"
   },
   {
    "duration": 43,
    "start_time": "2023-07-13T16:14:14.406Z"
   },
   {
    "duration": 38,
    "start_time": "2023-07-13T16:14:14.451Z"
   },
   {
    "duration": 24,
    "start_time": "2023-07-13T16:14:14.491Z"
   },
   {
    "duration": 33,
    "start_time": "2023-07-13T16:14:14.518Z"
   },
   {
    "duration": 39,
    "start_time": "2023-07-13T16:14:14.553Z"
   },
   {
    "duration": 31,
    "start_time": "2023-07-13T16:14:14.594Z"
   },
   {
    "duration": 33,
    "start_time": "2023-07-13T16:14:14.627Z"
   },
   {
    "duration": 62,
    "start_time": "2023-07-13T16:14:14.661Z"
   },
   {
    "duration": 65,
    "start_time": "2023-07-13T16:14:14.725Z"
   },
   {
    "duration": 21,
    "start_time": "2023-07-13T16:14:14.792Z"
   },
   {
    "duration": 64,
    "start_time": "2023-07-13T16:14:14.814Z"
   },
   {
    "duration": 33,
    "start_time": "2023-07-13T16:14:14.880Z"
   },
   {
    "duration": 35,
    "start_time": "2023-07-13T16:14:14.915Z"
   },
   {
    "duration": 29,
    "start_time": "2023-07-13T16:14:14.952Z"
   },
   {
    "duration": 30,
    "start_time": "2023-07-13T16:14:14.983Z"
   },
   {
    "duration": 79,
    "start_time": "2023-07-13T16:14:15.015Z"
   },
   {
    "duration": 33,
    "start_time": "2023-07-13T16:14:15.096Z"
   },
   {
    "duration": 45,
    "start_time": "2023-07-13T16:14:15.131Z"
   },
   {
    "duration": 44,
    "start_time": "2023-07-13T16:14:15.178Z"
   },
   {
    "duration": 22,
    "start_time": "2023-07-13T16:14:15.224Z"
   },
   {
    "duration": 40,
    "start_time": "2023-07-13T16:14:15.248Z"
   },
   {
    "duration": 19,
    "start_time": "2023-07-13T16:14:15.293Z"
   },
   {
    "duration": 224,
    "start_time": "2023-07-13T16:14:15.315Z"
   },
   {
    "duration": 6,
    "start_time": "2023-07-13T16:14:15.540Z"
   },
   {
    "duration": 144,
    "start_time": "2023-07-13T16:14:15.547Z"
   },
   {
    "duration": 8,
    "start_time": "2023-07-13T16:14:15.693Z"
   },
   {
    "duration": 186,
    "start_time": "2023-07-13T16:14:15.714Z"
   },
   {
    "duration": 21,
    "start_time": "2023-07-13T16:14:15.902Z"
   },
   {
    "duration": 32,
    "start_time": "2023-07-13T16:14:15.925Z"
   },
   {
    "duration": 221,
    "start_time": "2023-07-13T16:14:15.958Z"
   },
   {
    "duration": 14,
    "start_time": "2023-07-13T16:14:16.181Z"
   },
   {
    "duration": 36,
    "start_time": "2023-07-13T16:14:16.196Z"
   },
   {
    "duration": 73,
    "start_time": "2023-07-13T16:14:16.234Z"
   },
   {
    "duration": 30,
    "start_time": "2023-07-13T16:14:16.309Z"
   },
   {
    "duration": 30,
    "start_time": "2023-07-13T16:14:16.341Z"
   },
   {
    "duration": 270,
    "start_time": "2023-07-13T16:14:16.373Z"
   },
   {
    "duration": 122,
    "start_time": "2023-07-13T16:14:16.645Z"
   },
   {
    "duration": 0,
    "start_time": "2023-07-13T16:14:16.769Z"
   },
   {
    "duration": 0,
    "start_time": "2023-07-13T16:14:16.771Z"
   },
   {
    "duration": 0,
    "start_time": "2023-07-13T16:14:16.772Z"
   },
   {
    "duration": 0,
    "start_time": "2023-07-13T16:14:16.774Z"
   },
   {
    "duration": 0,
    "start_time": "2023-07-13T16:14:16.775Z"
   },
   {
    "duration": 0,
    "start_time": "2023-07-13T16:14:16.777Z"
   },
   {
    "duration": 0,
    "start_time": "2023-07-13T16:14:16.778Z"
   },
   {
    "duration": 0,
    "start_time": "2023-07-13T16:14:16.780Z"
   },
   {
    "duration": 0,
    "start_time": "2023-07-13T16:14:16.781Z"
   },
   {
    "duration": 0,
    "start_time": "2023-07-13T16:14:16.783Z"
   },
   {
    "duration": 0,
    "start_time": "2023-07-13T16:14:16.784Z"
   },
   {
    "duration": 0,
    "start_time": "2023-07-13T16:14:16.785Z"
   },
   {
    "duration": 0,
    "start_time": "2023-07-13T16:14:16.814Z"
   },
   {
    "duration": 0,
    "start_time": "2023-07-13T16:14:16.815Z"
   },
   {
    "duration": 0,
    "start_time": "2023-07-13T16:14:16.817Z"
   },
   {
    "duration": 0,
    "start_time": "2023-07-13T16:14:16.818Z"
   },
   {
    "duration": 0,
    "start_time": "2023-07-13T16:14:16.820Z"
   },
   {
    "duration": 0,
    "start_time": "2023-07-13T16:14:16.822Z"
   },
   {
    "duration": 0,
    "start_time": "2023-07-13T16:14:16.823Z"
   },
   {
    "duration": 0,
    "start_time": "2023-07-13T16:14:16.825Z"
   },
   {
    "duration": 5,
    "start_time": "2023-07-13T16:14:54.425Z"
   },
   {
    "duration": 1239,
    "start_time": "2023-07-13T16:14:59.813Z"
   },
   {
    "duration": 70,
    "start_time": "2023-07-13T16:15:01.055Z"
   },
   {
    "duration": 39,
    "start_time": "2023-07-13T16:15:01.127Z"
   },
   {
    "duration": 52,
    "start_time": "2023-07-13T16:15:01.168Z"
   },
   {
    "duration": 80,
    "start_time": "2023-07-13T16:15:01.223Z"
   },
   {
    "duration": 41,
    "start_time": "2023-07-13T16:15:01.305Z"
   },
   {
    "duration": 35,
    "start_time": "2023-07-13T16:15:01.348Z"
   },
   {
    "duration": 63,
    "start_time": "2023-07-13T16:15:01.385Z"
   },
   {
    "duration": 40,
    "start_time": "2023-07-13T16:15:01.450Z"
   },
   {
    "duration": 55,
    "start_time": "2023-07-13T16:15:01.492Z"
   },
   {
    "duration": 39,
    "start_time": "2023-07-13T16:15:01.550Z"
   },
   {
    "duration": 44,
    "start_time": "2023-07-13T16:15:01.591Z"
   },
   {
    "duration": 44,
    "start_time": "2023-07-13T16:15:01.637Z"
   },
   {
    "duration": 18,
    "start_time": "2023-07-13T16:15:01.685Z"
   },
   {
    "duration": 18,
    "start_time": "2023-07-13T16:15:01.705Z"
   },
   {
    "duration": 28,
    "start_time": "2023-07-13T16:15:01.724Z"
   },
   {
    "duration": 39,
    "start_time": "2023-07-13T16:15:01.754Z"
   },
   {
    "duration": 29,
    "start_time": "2023-07-13T16:15:01.795Z"
   },
   {
    "duration": 50,
    "start_time": "2023-07-13T16:15:01.826Z"
   },
   {
    "duration": 61,
    "start_time": "2023-07-13T16:15:01.879Z"
   },
   {
    "duration": 45,
    "start_time": "2023-07-13T16:15:01.943Z"
   },
   {
    "duration": 45,
    "start_time": "2023-07-13T16:15:01.991Z"
   },
   {
    "duration": 34,
    "start_time": "2023-07-13T16:15:02.038Z"
   },
   {
    "duration": 30,
    "start_time": "2023-07-13T16:15:02.074Z"
   },
   {
    "duration": 27,
    "start_time": "2023-07-13T16:15:02.106Z"
   },
   {
    "duration": 57,
    "start_time": "2023-07-13T16:15:02.135Z"
   },
   {
    "duration": 30,
    "start_time": "2023-07-13T16:15:02.195Z"
   },
   {
    "duration": 50,
    "start_time": "2023-07-13T16:15:02.228Z"
   },
   {
    "duration": 254,
    "start_time": "2023-07-13T16:15:02.280Z"
   },
   {
    "duration": 8,
    "start_time": "2023-07-13T16:15:02.536Z"
   },
   {
    "duration": 170,
    "start_time": "2023-07-13T16:15:02.546Z"
   },
   {
    "duration": 12,
    "start_time": "2023-07-13T16:15:02.718Z"
   },
   {
    "duration": 225,
    "start_time": "2023-07-13T16:15:02.732Z"
   },
   {
    "duration": 16,
    "start_time": "2023-07-13T16:15:02.959Z"
   },
   {
    "duration": 38,
    "start_time": "2023-07-13T16:15:02.977Z"
   },
   {
    "duration": 266,
    "start_time": "2023-07-13T16:15:03.017Z"
   },
   {
    "duration": 16,
    "start_time": "2023-07-13T16:15:03.285Z"
   },
   {
    "duration": 123,
    "start_time": "2023-07-13T16:15:03.315Z"
   },
   {
    "duration": 34,
    "start_time": "2023-07-13T16:15:03.440Z"
   },
   {
    "duration": 9,
    "start_time": "2023-07-13T16:15:03.477Z"
   },
   {
    "duration": 31,
    "start_time": "2023-07-13T16:15:03.493Z"
   },
   {
    "duration": 328,
    "start_time": "2023-07-13T16:15:03.526Z"
   },
   {
    "duration": 5,
    "start_time": "2023-07-13T16:15:03.857Z"
   },
   {
    "duration": 83,
    "start_time": "2023-07-13T16:15:03.865Z"
   },
   {
    "duration": 30,
    "start_time": "2023-07-13T16:15:03.950Z"
   },
   {
    "duration": 50,
    "start_time": "2023-07-13T16:15:03.982Z"
   },
   {
    "duration": 220,
    "start_time": "2023-07-13T16:15:04.034Z"
   },
   {
    "duration": 231,
    "start_time": "2023-07-13T16:15:04.255Z"
   },
   {
    "duration": 193,
    "start_time": "2023-07-13T16:15:04.488Z"
   },
   {
    "duration": 341,
    "start_time": "2023-07-13T16:15:04.683Z"
   },
   {
    "duration": 419,
    "start_time": "2023-07-13T16:15:05.027Z"
   },
   {
    "duration": 410,
    "start_time": "2023-07-13T16:15:05.448Z"
   },
   {
    "duration": 20,
    "start_time": "2023-07-13T16:15:05.861Z"
   },
   {
    "duration": 41,
    "start_time": "2023-07-13T16:15:05.883Z"
   },
   {
    "duration": 976,
    "start_time": "2023-07-13T16:15:05.926Z"
   },
   {
    "duration": 13,
    "start_time": "2023-07-13T16:15:06.903Z"
   },
   {
    "duration": 19,
    "start_time": "2023-07-13T16:15:06.918Z"
   },
   {
    "duration": 169,
    "start_time": "2023-07-13T16:15:06.939Z"
   },
   {
    "duration": 15,
    "start_time": "2023-07-13T16:15:07.109Z"
   },
   {
    "duration": 9,
    "start_time": "2023-07-13T16:15:07.126Z"
   },
   {
    "duration": 5,
    "start_time": "2023-07-13T16:15:07.137Z"
   },
   {
    "duration": 6,
    "start_time": "2023-07-13T16:15:07.143Z"
   },
   {
    "duration": 27,
    "start_time": "2023-07-13T16:15:07.151Z"
   },
   {
    "duration": 4,
    "start_time": "2023-07-13T16:16:05.318Z"
   },
   {
    "duration": 26,
    "start_time": "2023-07-13T16:16:34.174Z"
   },
   {
    "duration": 109,
    "start_time": "2023-07-13T16:17:03.265Z"
   },
   {
    "duration": 18,
    "start_time": "2023-07-13T16:17:25.876Z"
   },
   {
    "duration": 24,
    "start_time": "2023-07-13T16:17:32.809Z"
   },
   {
    "duration": 25,
    "start_time": "2023-07-13T16:17:47.433Z"
   },
   {
    "duration": 27,
    "start_time": "2023-07-13T16:18:03.170Z"
   },
   {
    "duration": 2,
    "start_time": "2023-07-13T16:18:28.373Z"
   },
   {
    "duration": 7,
    "start_time": "2023-07-13T16:18:35.448Z"
   },
   {
    "duration": 26,
    "start_time": "2023-07-13T16:19:18.721Z"
   },
   {
    "duration": 28,
    "start_time": "2023-07-13T16:19:45.813Z"
   },
   {
    "duration": 35,
    "start_time": "2023-07-13T16:20:45.312Z"
   },
   {
    "duration": 3,
    "start_time": "2023-07-13T16:22:33.736Z"
   },
   {
    "duration": 4,
    "start_time": "2023-07-13T16:22:48.506Z"
   },
   {
    "duration": 907,
    "start_time": "2023-07-13T16:32:17.014Z"
   },
   {
    "duration": 880,
    "start_time": "2023-07-13T16:32:40.311Z"
   },
   {
    "duration": 868,
    "start_time": "2023-07-13T16:34:07.514Z"
   },
   {
    "duration": 13,
    "start_time": "2023-07-13T16:34:27.811Z"
   },
   {
    "duration": 3,
    "start_time": "2023-07-13T16:35:01.730Z"
   },
   {
    "duration": 154,
    "start_time": "2023-07-13T16:35:10.164Z"
   },
   {
    "duration": 14,
    "start_time": "2023-07-13T16:35:14.535Z"
   },
   {
    "duration": 10,
    "start_time": "2023-07-13T16:35:18.118Z"
   },
   {
    "duration": 7,
    "start_time": "2023-07-13T16:45:51.255Z"
   },
   {
    "duration": 7,
    "start_time": "2023-07-13T16:46:28.442Z"
   },
   {
    "duration": 7,
    "start_time": "2023-07-13T16:47:22.720Z"
   },
   {
    "duration": 7,
    "start_time": "2023-07-13T16:47:28.940Z"
   },
   {
    "duration": 111,
    "start_time": "2023-07-13T16:49:05.691Z"
   },
   {
    "duration": 101,
    "start_time": "2023-07-13T16:50:24.265Z"
   },
   {
    "duration": 118,
    "start_time": "2023-07-13T16:51:05.722Z"
   },
   {
    "duration": 10,
    "start_time": "2023-07-13T16:51:20.793Z"
   },
   {
    "duration": 9,
    "start_time": "2023-07-13T16:51:54.028Z"
   },
   {
    "duration": 8,
    "start_time": "2023-07-13T16:52:05.464Z"
   },
   {
    "duration": 8,
    "start_time": "2023-07-13T16:52:27.144Z"
   },
   {
    "duration": 7,
    "start_time": "2023-07-13T16:52:35.356Z"
   },
   {
    "duration": 11,
    "start_time": "2023-07-13T16:54:51.636Z"
   },
   {
    "duration": 12,
    "start_time": "2023-07-13T16:55:50.037Z"
   },
   {
    "duration": 15,
    "start_time": "2023-07-13T16:56:21.629Z"
   },
   {
    "duration": 18,
    "start_time": "2023-07-13T16:57:09.631Z"
   },
   {
    "duration": 15,
    "start_time": "2023-07-13T16:57:18.462Z"
   },
   {
    "duration": 9,
    "start_time": "2023-07-13T17:13:04.935Z"
   },
   {
    "duration": 9,
    "start_time": "2023-07-13T17:13:27.668Z"
   },
   {
    "duration": 18,
    "start_time": "2023-07-13T17:14:03.404Z"
   },
   {
    "duration": 1191,
    "start_time": "2023-07-13T17:14:26.430Z"
   },
   {
    "duration": 70,
    "start_time": "2023-07-13T17:14:27.623Z"
   },
   {
    "duration": 15,
    "start_time": "2023-07-13T17:14:27.695Z"
   },
   {
    "duration": 12,
    "start_time": "2023-07-13T17:14:27.712Z"
   },
   {
    "duration": 10,
    "start_time": "2023-07-13T17:14:27.726Z"
   },
   {
    "duration": 5,
    "start_time": "2023-07-13T17:14:27.737Z"
   },
   {
    "duration": 13,
    "start_time": "2023-07-13T17:14:27.743Z"
   },
   {
    "duration": 19,
    "start_time": "2023-07-13T17:14:27.757Z"
   },
   {
    "duration": 9,
    "start_time": "2023-07-13T17:14:27.778Z"
   },
   {
    "duration": 30,
    "start_time": "2023-07-13T17:14:27.790Z"
   },
   {
    "duration": 8,
    "start_time": "2023-07-13T17:14:27.821Z"
   },
   {
    "duration": 11,
    "start_time": "2023-07-13T17:14:27.830Z"
   },
   {
    "duration": 14,
    "start_time": "2023-07-13T17:14:27.843Z"
   },
   {
    "duration": 6,
    "start_time": "2023-07-13T17:14:27.859Z"
   },
   {
    "duration": 22,
    "start_time": "2023-07-13T17:14:27.867Z"
   },
   {
    "duration": 25,
    "start_time": "2023-07-13T17:14:27.890Z"
   },
   {
    "duration": 13,
    "start_time": "2023-07-13T17:14:27.917Z"
   },
   {
    "duration": 7,
    "start_time": "2023-07-13T17:14:27.931Z"
   },
   {
    "duration": 6,
    "start_time": "2023-07-13T17:14:27.939Z"
   },
   {
    "duration": 11,
    "start_time": "2023-07-13T17:14:27.947Z"
   },
   {
    "duration": 24,
    "start_time": "2023-07-13T17:14:27.960Z"
   },
   {
    "duration": 24,
    "start_time": "2023-07-13T17:14:27.986Z"
   },
   {
    "duration": 18,
    "start_time": "2023-07-13T17:14:28.011Z"
   },
   {
    "duration": 10,
    "start_time": "2023-07-13T17:14:28.031Z"
   },
   {
    "duration": 19,
    "start_time": "2023-07-13T17:14:28.042Z"
   },
   {
    "duration": 8,
    "start_time": "2023-07-13T17:14:28.063Z"
   },
   {
    "duration": 7,
    "start_time": "2023-07-13T17:14:28.072Z"
   },
   {
    "duration": 8,
    "start_time": "2023-07-13T17:14:28.083Z"
   },
   {
    "duration": 220,
    "start_time": "2023-07-13T17:14:28.093Z"
   },
   {
    "duration": 6,
    "start_time": "2023-07-13T17:14:28.315Z"
   },
   {
    "duration": 125,
    "start_time": "2023-07-13T17:14:28.322Z"
   },
   {
    "duration": 9,
    "start_time": "2023-07-13T17:14:28.448Z"
   },
   {
    "duration": 216,
    "start_time": "2023-07-13T17:14:28.459Z"
   },
   {
    "duration": 14,
    "start_time": "2023-07-13T17:14:28.677Z"
   },
   {
    "duration": 34,
    "start_time": "2023-07-13T17:14:28.693Z"
   },
   {
    "duration": 14,
    "start_time": "2023-07-13T17:14:28.728Z"
   },
   {
    "duration": 219,
    "start_time": "2023-07-13T17:14:28.744Z"
   },
   {
    "duration": 16,
    "start_time": "2023-07-13T17:14:28.965Z"
   },
   {
    "duration": 47,
    "start_time": "2023-07-13T17:14:28.982Z"
   },
   {
    "duration": 52,
    "start_time": "2023-07-13T17:14:29.031Z"
   },
   {
    "duration": 39,
    "start_time": "2023-07-13T17:14:29.084Z"
   },
   {
    "duration": 15,
    "start_time": "2023-07-13T17:14:29.124Z"
   },
   {
    "duration": 29,
    "start_time": "2023-07-13T17:14:29.141Z"
   },
   {
    "duration": 241,
    "start_time": "2023-07-13T17:14:29.172Z"
   },
   {
    "duration": 4,
    "start_time": "2023-07-13T17:14:29.415Z"
   },
   {
    "duration": 40,
    "start_time": "2023-07-13T17:14:29.420Z"
   },
   {
    "duration": 4,
    "start_time": "2023-07-13T17:14:29.461Z"
   },
   {
    "duration": 45,
    "start_time": "2023-07-13T17:14:29.466Z"
   },
   {
    "duration": 21,
    "start_time": "2023-07-13T17:14:29.512Z"
   },
   {
    "duration": 259,
    "start_time": "2023-07-13T17:14:29.534Z"
   },
   {
    "duration": 244,
    "start_time": "2023-07-13T17:14:29.795Z"
   },
   {
    "duration": 279,
    "start_time": "2023-07-13T17:14:30.041Z"
   },
   {
    "duration": 238,
    "start_time": "2023-07-13T17:14:30.323Z"
   },
   {
    "duration": 299,
    "start_time": "2023-07-13T17:14:30.563Z"
   },
   {
    "duration": 289,
    "start_time": "2023-07-13T17:14:30.864Z"
   },
   {
    "duration": 19,
    "start_time": "2023-07-13T17:14:31.155Z"
   },
   {
    "duration": 62,
    "start_time": "2023-07-13T17:14:31.176Z"
   },
   {
    "duration": 869,
    "start_time": "2023-07-13T17:14:31.240Z"
   },
   {
    "duration": 9,
    "start_time": "2023-07-13T17:14:32.114Z"
   },
   {
    "duration": 23,
    "start_time": "2023-07-13T17:14:32.125Z"
   },
   {
    "duration": 205,
    "start_time": "2023-07-13T17:14:32.150Z"
   },
   {
    "duration": 15,
    "start_time": "2023-07-13T17:14:32.357Z"
   },
   {
    "duration": 22,
    "start_time": "2023-07-13T17:14:32.374Z"
   },
   {
    "duration": 24,
    "start_time": "2023-07-13T17:14:32.398Z"
   },
   {
    "duration": 42,
    "start_time": "2023-07-13T17:14:32.424Z"
   },
   {
    "duration": 38,
    "start_time": "2023-07-13T17:14:32.468Z"
   },
   {
    "duration": 107,
    "start_time": "2023-07-13T17:34:05.917Z"
   },
   {
    "duration": 101,
    "start_time": "2023-07-13T17:34:28.402Z"
   },
   {
    "duration": 1191,
    "start_time": "2023-07-13T17:51:29.320Z"
   },
   {
    "duration": 71,
    "start_time": "2023-07-13T17:51:30.513Z"
   },
   {
    "duration": 48,
    "start_time": "2023-07-13T17:51:30.585Z"
   },
   {
    "duration": 61,
    "start_time": "2023-07-13T17:51:30.635Z"
   },
   {
    "duration": 103,
    "start_time": "2023-07-13T17:51:30.698Z"
   },
   {
    "duration": 37,
    "start_time": "2023-07-13T17:51:30.803Z"
   },
   {
    "duration": 76,
    "start_time": "2023-07-13T17:51:30.843Z"
   },
   {
    "duration": 181,
    "start_time": "2023-07-13T17:51:30.920Z"
   },
   {
    "duration": 134,
    "start_time": "2023-07-13T17:51:31.102Z"
   },
   {
    "duration": 43,
    "start_time": "2023-07-13T17:51:31.239Z"
   },
   {
    "duration": 25,
    "start_time": "2023-07-13T17:51:31.284Z"
   },
   {
    "duration": 27,
    "start_time": "2023-07-13T17:51:31.311Z"
   },
   {
    "duration": 35,
    "start_time": "2023-07-13T17:51:31.340Z"
   },
   {
    "duration": 20,
    "start_time": "2023-07-13T17:51:31.377Z"
   },
   {
    "duration": 38,
    "start_time": "2023-07-13T17:51:31.399Z"
   },
   {
    "duration": 43,
    "start_time": "2023-07-13T17:51:31.439Z"
   },
   {
    "duration": 32,
    "start_time": "2023-07-13T17:51:31.484Z"
   },
   {
    "duration": 7,
    "start_time": "2023-07-13T17:51:31.517Z"
   },
   {
    "duration": 11,
    "start_time": "2023-07-13T17:51:31.525Z"
   },
   {
    "duration": 38,
    "start_time": "2023-07-13T17:51:31.537Z"
   },
   {
    "duration": 4,
    "start_time": "2023-07-13T17:51:31.577Z"
   },
   {
    "duration": 22,
    "start_time": "2023-07-13T17:51:31.583Z"
   },
   {
    "duration": 4,
    "start_time": "2023-07-13T17:51:31.607Z"
   },
   {
    "duration": 16,
    "start_time": "2023-07-13T17:51:31.612Z"
   },
   {
    "duration": 15,
    "start_time": "2023-07-13T17:51:31.629Z"
   },
   {
    "duration": 17,
    "start_time": "2023-07-13T17:51:31.645Z"
   },
   {
    "duration": 20,
    "start_time": "2023-07-13T17:51:31.664Z"
   },
   {
    "duration": 16,
    "start_time": "2023-07-13T17:51:31.687Z"
   },
   {
    "duration": 206,
    "start_time": "2023-07-13T17:51:31.704Z"
   },
   {
    "duration": 6,
    "start_time": "2023-07-13T17:51:31.913Z"
   },
   {
    "duration": 125,
    "start_time": "2023-07-13T17:51:31.920Z"
   },
   {
    "duration": 8,
    "start_time": "2023-07-13T17:51:32.047Z"
   },
   {
    "duration": 200,
    "start_time": "2023-07-13T17:51:32.056Z"
   },
   {
    "duration": 12,
    "start_time": "2023-07-13T17:51:32.258Z"
   },
   {
    "duration": 14,
    "start_time": "2023-07-13T17:51:32.271Z"
   },
   {
    "duration": 28,
    "start_time": "2023-07-13T17:51:32.286Z"
   },
   {
    "duration": 242,
    "start_time": "2023-07-13T17:51:32.316Z"
   },
   {
    "duration": 17,
    "start_time": "2023-07-13T17:51:32.559Z"
   },
   {
    "duration": 32,
    "start_time": "2023-07-13T17:51:32.577Z"
   },
   {
    "duration": 15,
    "start_time": "2023-07-13T17:51:32.610Z"
   },
   {
    "duration": 24,
    "start_time": "2023-07-13T17:51:32.627Z"
   },
   {
    "duration": 25,
    "start_time": "2023-07-13T17:51:32.653Z"
   },
   {
    "duration": 12,
    "start_time": "2023-07-13T17:51:32.680Z"
   },
   {
    "duration": 225,
    "start_time": "2023-07-13T17:51:32.693Z"
   },
   {
    "duration": 4,
    "start_time": "2023-07-13T17:51:32.919Z"
   },
   {
    "duration": 55,
    "start_time": "2023-07-13T17:51:32.925Z"
   },
   {
    "duration": 4,
    "start_time": "2023-07-13T17:51:32.981Z"
   },
   {
    "duration": 39,
    "start_time": "2023-07-13T17:51:32.986Z"
   },
   {
    "duration": 38,
    "start_time": "2023-07-13T17:51:33.027Z"
   },
   {
    "duration": 190,
    "start_time": "2023-07-13T17:51:33.067Z"
   },
   {
    "duration": 224,
    "start_time": "2023-07-13T17:51:33.258Z"
   },
   {
    "duration": 281,
    "start_time": "2023-07-13T17:51:33.484Z"
   },
   {
    "duration": 268,
    "start_time": "2023-07-13T17:51:33.767Z"
   },
   {
    "duration": 311,
    "start_time": "2023-07-13T17:51:34.037Z"
   },
   {
    "duration": 298,
    "start_time": "2023-07-13T17:51:34.350Z"
   },
   {
    "duration": 19,
    "start_time": "2023-07-13T17:51:34.651Z"
   },
   {
    "duration": 25,
    "start_time": "2023-07-13T17:51:34.673Z"
   },
   {
    "duration": 969,
    "start_time": "2023-07-13T17:51:34.713Z"
   },
   {
    "duration": 11,
    "start_time": "2023-07-13T17:51:35.684Z"
   },
   {
    "duration": 4,
    "start_time": "2023-07-13T17:51:35.696Z"
   },
   {
    "duration": 160,
    "start_time": "2023-07-13T17:51:35.714Z"
   },
   {
    "duration": 14,
    "start_time": "2023-07-13T17:51:35.876Z"
   },
   {
    "duration": 29,
    "start_time": "2023-07-13T17:51:35.891Z"
   },
   {
    "duration": 7,
    "start_time": "2023-07-13T17:51:35.922Z"
   },
   {
    "duration": 5,
    "start_time": "2023-07-13T17:51:35.931Z"
   },
   {
    "duration": 27,
    "start_time": "2023-07-13T17:51:35.939Z"
   },
   {
    "duration": 1320,
    "start_time": "2023-07-14T12:42:09.087Z"
   },
   {
    "duration": 67,
    "start_time": "2023-07-14T12:42:10.409Z"
   },
   {
    "duration": 16,
    "start_time": "2023-07-14T12:42:10.477Z"
   },
   {
    "duration": 36,
    "start_time": "2023-07-14T12:42:10.496Z"
   },
   {
    "duration": 30,
    "start_time": "2023-07-14T12:42:10.534Z"
   },
   {
    "duration": 14,
    "start_time": "2023-07-14T12:42:10.566Z"
   },
   {
    "duration": 21,
    "start_time": "2023-07-14T12:42:10.582Z"
   },
   {
    "duration": 12,
    "start_time": "2023-07-14T12:42:10.605Z"
   },
   {
    "duration": 9,
    "start_time": "2023-07-14T12:42:10.619Z"
   },
   {
    "duration": 8,
    "start_time": "2023-07-14T12:42:10.631Z"
   },
   {
    "duration": 7,
    "start_time": "2023-07-14T12:42:10.640Z"
   },
   {
    "duration": 19,
    "start_time": "2023-07-14T12:42:10.649Z"
   },
   {
    "duration": 19,
    "start_time": "2023-07-14T12:42:10.669Z"
   },
   {
    "duration": 27,
    "start_time": "2023-07-14T12:42:10.689Z"
   },
   {
    "duration": 10,
    "start_time": "2023-07-14T12:42:10.718Z"
   },
   {
    "duration": 5,
    "start_time": "2023-07-14T12:42:10.729Z"
   },
   {
    "duration": 15,
    "start_time": "2023-07-14T12:42:10.736Z"
   },
   {
    "duration": 14,
    "start_time": "2023-07-14T12:42:10.752Z"
   },
   {
    "duration": 9,
    "start_time": "2023-07-14T12:42:10.768Z"
   },
   {
    "duration": 8,
    "start_time": "2023-07-14T12:42:10.779Z"
   },
   {
    "duration": 26,
    "start_time": "2023-07-14T12:42:10.789Z"
   },
   {
    "duration": 12,
    "start_time": "2023-07-14T12:42:10.817Z"
   },
   {
    "duration": 5,
    "start_time": "2023-07-14T12:42:10.831Z"
   },
   {
    "duration": 23,
    "start_time": "2023-07-14T12:42:10.838Z"
   },
   {
    "duration": 12,
    "start_time": "2023-07-14T12:42:10.863Z"
   },
   {
    "duration": 6,
    "start_time": "2023-07-14T12:42:10.877Z"
   },
   {
    "duration": 32,
    "start_time": "2023-07-14T12:42:10.885Z"
   },
   {
    "duration": 8,
    "start_time": "2023-07-14T12:42:10.921Z"
   },
   {
    "duration": 218,
    "start_time": "2023-07-14T12:42:10.930Z"
   },
   {
    "duration": 6,
    "start_time": "2023-07-14T12:42:11.149Z"
   },
   {
    "duration": 172,
    "start_time": "2023-07-14T12:42:11.156Z"
   },
   {
    "duration": 8,
    "start_time": "2023-07-14T12:42:11.330Z"
   },
   {
    "duration": 227,
    "start_time": "2023-07-14T12:42:11.339Z"
   },
   {
    "duration": 12,
    "start_time": "2023-07-14T12:42:11.567Z"
   },
   {
    "duration": 31,
    "start_time": "2023-07-14T12:42:11.581Z"
   },
   {
    "duration": 27,
    "start_time": "2023-07-14T12:42:11.614Z"
   },
   {
    "duration": 218,
    "start_time": "2023-07-14T12:42:11.643Z"
   },
   {
    "duration": 15,
    "start_time": "2023-07-14T12:42:11.863Z"
   },
   {
    "duration": 47,
    "start_time": "2023-07-14T12:42:11.880Z"
   },
   {
    "duration": 47,
    "start_time": "2023-07-14T12:42:11.929Z"
   },
   {
    "duration": 15,
    "start_time": "2023-07-14T12:42:11.978Z"
   },
   {
    "duration": 20,
    "start_time": "2023-07-14T12:42:11.995Z"
   },
   {
    "duration": 42,
    "start_time": "2023-07-14T12:42:12.017Z"
   },
   {
    "duration": 262,
    "start_time": "2023-07-14T12:42:12.061Z"
   },
   {
    "duration": 3,
    "start_time": "2023-07-14T12:42:12.325Z"
   },
   {
    "duration": 50,
    "start_time": "2023-07-14T12:42:12.329Z"
   },
   {
    "duration": 3,
    "start_time": "2023-07-14T12:42:12.381Z"
   },
   {
    "duration": 38,
    "start_time": "2023-07-14T12:42:12.386Z"
   },
   {
    "duration": 26,
    "start_time": "2023-07-14T12:42:12.425Z"
   },
   {
    "duration": 208,
    "start_time": "2023-07-14T12:42:12.453Z"
   },
   {
    "duration": 241,
    "start_time": "2023-07-14T12:42:12.662Z"
   },
   {
    "duration": 266,
    "start_time": "2023-07-14T12:42:12.905Z"
   },
   {
    "duration": 231,
    "start_time": "2023-07-14T12:42:13.173Z"
   },
   {
    "duration": 286,
    "start_time": "2023-07-14T12:42:13.405Z"
   },
   {
    "duration": 299,
    "start_time": "2023-07-14T12:42:13.692Z"
   },
   {
    "duration": 28,
    "start_time": "2023-07-14T12:42:13.994Z"
   },
   {
    "duration": 21,
    "start_time": "2023-07-14T12:42:14.024Z"
   },
   {
    "duration": 923,
    "start_time": "2023-07-14T12:42:14.046Z"
   },
   {
    "duration": 11,
    "start_time": "2023-07-14T12:42:14.970Z"
   },
   {
    "duration": 66,
    "start_time": "2023-07-14T12:42:14.983Z"
   },
   {
    "duration": 172,
    "start_time": "2023-07-14T12:42:15.051Z"
   },
   {
    "duration": 19,
    "start_time": "2023-07-14T12:42:15.225Z"
   },
   {
    "duration": 25,
    "start_time": "2023-07-14T12:42:15.246Z"
   },
   {
    "duration": 8,
    "start_time": "2023-07-14T12:42:15.273Z"
   },
   {
    "duration": 22,
    "start_time": "2023-07-14T12:42:15.283Z"
   },
   {
    "duration": 15,
    "start_time": "2023-07-14T12:42:15.307Z"
   },
   {
    "duration": 20,
    "start_time": "2023-07-14T12:47:19.424Z"
   },
   {
    "duration": 905,
    "start_time": "2023-07-14T12:48:37.157Z"
   },
   {
    "duration": 16,
    "start_time": "2023-07-14T12:48:43.122Z"
   },
   {
    "duration": 103,
    "start_time": "2023-07-14T12:51:38.637Z"
   },
   {
    "duration": 3,
    "start_time": "2023-07-14T12:52:10.402Z"
   },
   {
    "duration": 113,
    "start_time": "2023-07-14T12:52:39.122Z"
   },
   {
    "duration": 133,
    "start_time": "2023-07-14T12:52:46.739Z"
   },
   {
    "duration": 7,
    "start_time": "2023-07-14T12:53:13.590Z"
   },
   {
    "duration": 15,
    "start_time": "2023-07-14T12:53:23.369Z"
   },
   {
    "duration": 1303,
    "start_time": "2023-07-15T11:54:19.009Z"
   },
   {
    "duration": 200,
    "start_time": "2023-07-15T11:54:20.314Z"
   },
   {
    "duration": 12,
    "start_time": "2023-07-15T11:54:20.515Z"
   },
   {
    "duration": 12,
    "start_time": "2023-07-15T11:54:20.529Z"
   },
   {
    "duration": 11,
    "start_time": "2023-07-15T11:54:20.543Z"
   },
   {
    "duration": 7,
    "start_time": "2023-07-15T11:54:20.556Z"
   },
   {
    "duration": 11,
    "start_time": "2023-07-15T11:54:20.564Z"
   },
   {
    "duration": 53,
    "start_time": "2023-07-15T11:54:20.577Z"
   },
   {
    "duration": 9,
    "start_time": "2023-07-15T11:54:20.632Z"
   },
   {
    "duration": 15,
    "start_time": "2023-07-15T11:54:20.643Z"
   },
   {
    "duration": 6,
    "start_time": "2023-07-15T11:54:20.660Z"
   },
   {
    "duration": 13,
    "start_time": "2023-07-15T11:54:20.668Z"
   },
   {
    "duration": 46,
    "start_time": "2023-07-15T11:54:20.682Z"
   },
   {
    "duration": 7,
    "start_time": "2023-07-15T11:54:20.730Z"
   },
   {
    "duration": 18,
    "start_time": "2023-07-15T11:54:20.738Z"
   },
   {
    "duration": 5,
    "start_time": "2023-07-15T11:54:20.757Z"
   },
   {
    "duration": 12,
    "start_time": "2023-07-15T11:54:20.763Z"
   },
   {
    "duration": 7,
    "start_time": "2023-07-15T11:54:20.776Z"
   },
   {
    "duration": 6,
    "start_time": "2023-07-15T11:54:20.821Z"
   },
   {
    "duration": 16,
    "start_time": "2023-07-15T11:54:20.829Z"
   },
   {
    "duration": 4,
    "start_time": "2023-07-15T11:54:20.847Z"
   },
   {
    "duration": 9,
    "start_time": "2023-07-15T11:54:20.852Z"
   },
   {
    "duration": 11,
    "start_time": "2023-07-15T11:54:20.862Z"
   },
   {
    "duration": 19,
    "start_time": "2023-07-15T11:54:20.875Z"
   },
   {
    "duration": 28,
    "start_time": "2023-07-15T11:54:20.896Z"
   },
   {
    "duration": 9,
    "start_time": "2023-07-15T11:54:20.925Z"
   },
   {
    "duration": 8,
    "start_time": "2023-07-15T11:54:20.936Z"
   },
   {
    "duration": 12,
    "start_time": "2023-07-15T11:54:20.945Z"
   },
   {
    "duration": 214,
    "start_time": "2023-07-15T11:54:20.959Z"
   },
   {
    "duration": 6,
    "start_time": "2023-07-15T11:54:21.175Z"
   },
   {
    "duration": 124,
    "start_time": "2023-07-15T11:54:21.183Z"
   },
   {
    "duration": 17,
    "start_time": "2023-07-15T11:54:21.309Z"
   },
   {
    "duration": 180,
    "start_time": "2023-07-15T11:54:21.327Z"
   },
   {
    "duration": 23,
    "start_time": "2023-07-15T11:54:21.508Z"
   },
   {
    "duration": 34,
    "start_time": "2023-07-15T11:54:21.533Z"
   },
   {
    "duration": 13,
    "start_time": "2023-07-15T11:54:21.571Z"
   },
   {
    "duration": 196,
    "start_time": "2023-07-15T11:54:21.586Z"
   },
   {
    "duration": 36,
    "start_time": "2023-07-15T11:54:21.784Z"
   },
   {
    "duration": 16,
    "start_time": "2023-07-15T11:54:21.822Z"
   },
   {
    "duration": 13,
    "start_time": "2023-07-15T11:54:21.840Z"
   },
   {
    "duration": 15,
    "start_time": "2023-07-15T11:54:21.858Z"
   },
   {
    "duration": 48,
    "start_time": "2023-07-15T11:54:21.875Z"
   },
   {
    "duration": 9,
    "start_time": "2023-07-15T11:54:21.925Z"
   },
   {
    "duration": 240,
    "start_time": "2023-07-15T11:54:21.935Z"
   },
   {
    "duration": 4,
    "start_time": "2023-07-15T11:54:22.177Z"
   },
   {
    "duration": 99,
    "start_time": "2023-07-15T11:54:22.182Z"
   },
   {
    "duration": 3,
    "start_time": "2023-07-15T11:54:22.283Z"
   },
   {
    "duration": 44,
    "start_time": "2023-07-15T11:54:22.288Z"
   },
   {
    "duration": 25,
    "start_time": "2023-07-15T11:54:22.334Z"
   },
   {
    "duration": 261,
    "start_time": "2023-07-15T11:54:22.360Z"
   },
   {
    "duration": 340,
    "start_time": "2023-07-15T11:54:22.622Z"
   },
   {
    "duration": 194,
    "start_time": "2023-07-15T11:54:22.964Z"
   },
   {
    "duration": 335,
    "start_time": "2023-07-15T11:54:23.159Z"
   },
   {
    "duration": 293,
    "start_time": "2023-07-15T11:54:23.496Z"
   },
   {
    "duration": 279,
    "start_time": "2023-07-15T11:54:23.791Z"
   },
   {
    "duration": 17,
    "start_time": "2023-07-15T11:54:24.072Z"
   },
   {
    "duration": 32,
    "start_time": "2023-07-15T11:54:24.091Z"
   },
   {
    "duration": 879,
    "start_time": "2023-07-15T11:54:24.125Z"
   },
   {
    "duration": 19,
    "start_time": "2023-07-15T11:54:25.005Z"
   },
   {
    "duration": 18,
    "start_time": "2023-07-15T11:54:25.026Z"
   },
   {
    "duration": 27,
    "start_time": "2023-07-15T11:54:25.046Z"
   },
   {
    "duration": 159,
    "start_time": "2023-07-15T11:54:25.075Z"
   },
   {
    "duration": 11,
    "start_time": "2023-07-15T11:54:25.235Z"
   },
   {
    "duration": 12,
    "start_time": "2023-07-15T11:54:25.247Z"
   },
   {
    "duration": 25,
    "start_time": "2023-07-15T11:54:25.261Z"
   },
   {
    "duration": 26,
    "start_time": "2023-07-15T11:54:25.287Z"
   },
   {
    "duration": 19,
    "start_time": "2023-07-15T11:54:25.315Z"
   },
   {
    "duration": 8,
    "start_time": "2023-07-17T12:17:22.593Z"
   },
   {
    "duration": 1563,
    "start_time": "2023-07-17T12:17:29.492Z"
   },
   {
    "duration": 356,
    "start_time": "2023-07-17T12:17:31.057Z"
   },
   {
    "duration": 18,
    "start_time": "2023-07-17T12:17:31.422Z"
   },
   {
    "duration": 13,
    "start_time": "2023-07-17T12:17:31.442Z"
   },
   {
    "duration": 19,
    "start_time": "2023-07-17T12:17:31.457Z"
   },
   {
    "duration": 14,
    "start_time": "2023-07-17T12:17:31.477Z"
   },
   {
    "duration": 32,
    "start_time": "2023-07-17T12:17:31.492Z"
   },
   {
    "duration": 17,
    "start_time": "2023-07-17T12:17:31.531Z"
   },
   {
    "duration": 34,
    "start_time": "2023-07-17T12:17:31.549Z"
   },
   {
    "duration": 14,
    "start_time": "2023-07-17T12:17:31.585Z"
   },
   {
    "duration": 11,
    "start_time": "2023-07-17T12:17:31.601Z"
   },
   {
    "duration": 27,
    "start_time": "2023-07-17T12:17:31.617Z"
   },
   {
    "duration": 14,
    "start_time": "2023-07-17T12:17:31.647Z"
   },
   {
    "duration": 20,
    "start_time": "2023-07-17T12:17:31.665Z"
   },
   {
    "duration": 18,
    "start_time": "2023-07-17T12:17:31.687Z"
   },
   {
    "duration": 16,
    "start_time": "2023-07-17T12:17:31.707Z"
   },
   {
    "duration": 14,
    "start_time": "2023-07-17T12:17:31.731Z"
   },
   {
    "duration": 11,
    "start_time": "2023-07-17T12:17:31.747Z"
   },
   {
    "duration": 17,
    "start_time": "2023-07-17T12:17:31.760Z"
   },
   {
    "duration": 56,
    "start_time": "2023-07-17T12:17:31.779Z"
   },
   {
    "duration": 9,
    "start_time": "2023-07-17T12:17:31.841Z"
   },
   {
    "duration": 17,
    "start_time": "2023-07-17T12:17:31.851Z"
   },
   {
    "duration": 26,
    "start_time": "2023-07-17T12:17:31.870Z"
   },
   {
    "duration": 31,
    "start_time": "2023-07-17T12:17:31.898Z"
   },
   {
    "duration": 23,
    "start_time": "2023-07-17T12:17:31.932Z"
   },
   {
    "duration": 19,
    "start_time": "2023-07-17T12:17:31.957Z"
   },
   {
    "duration": 19,
    "start_time": "2023-07-17T12:17:31.978Z"
   },
   {
    "duration": 26,
    "start_time": "2023-07-17T12:17:31.998Z"
   },
   {
    "duration": 213,
    "start_time": "2023-07-17T12:17:32.026Z"
   },
   {
    "duration": 5,
    "start_time": "2023-07-17T12:17:32.247Z"
   },
   {
    "duration": 156,
    "start_time": "2023-07-17T12:17:32.254Z"
   },
   {
    "duration": 16,
    "start_time": "2023-07-17T12:17:32.412Z"
   },
   {
    "duration": 235,
    "start_time": "2023-07-17T12:17:32.438Z"
   },
   {
    "duration": 13,
    "start_time": "2023-07-17T12:17:32.675Z"
   },
   {
    "duration": 61,
    "start_time": "2023-07-17T12:17:32.690Z"
   },
   {
    "duration": 32,
    "start_time": "2023-07-17T12:17:32.753Z"
   },
   {
    "duration": 262,
    "start_time": "2023-07-17T12:17:32.787Z"
   },
   {
    "duration": 17,
    "start_time": "2023-07-17T12:17:33.051Z"
   },
   {
    "duration": 33,
    "start_time": "2023-07-17T12:17:33.069Z"
   },
   {
    "duration": 38,
    "start_time": "2023-07-17T12:17:33.103Z"
   },
   {
    "duration": 46,
    "start_time": "2023-07-17T12:17:33.145Z"
   },
   {
    "duration": 7,
    "start_time": "2023-07-17T12:17:33.193Z"
   },
   {
    "duration": 40,
    "start_time": "2023-07-17T12:17:33.201Z"
   },
   {
    "duration": 423,
    "start_time": "2023-07-17T12:17:33.244Z"
   },
   {
    "duration": 4,
    "start_time": "2023-07-17T12:17:33.669Z"
   },
   {
    "duration": 70,
    "start_time": "2023-07-17T12:17:33.675Z"
   },
   {
    "duration": 4,
    "start_time": "2023-07-17T12:17:33.747Z"
   },
   {
    "duration": 44,
    "start_time": "2023-07-17T12:17:33.752Z"
   },
   {
    "duration": 24,
    "start_time": "2023-07-17T12:17:33.798Z"
   },
   {
    "duration": 251,
    "start_time": "2023-07-17T12:17:33.823Z"
   },
   {
    "duration": 254,
    "start_time": "2023-07-17T12:17:34.076Z"
   },
   {
    "duration": 198,
    "start_time": "2023-07-17T12:17:34.331Z"
   },
   {
    "duration": 335,
    "start_time": "2023-07-17T12:17:34.531Z"
   },
   {
    "duration": 317,
    "start_time": "2023-07-17T12:17:34.868Z"
   },
   {
    "duration": 308,
    "start_time": "2023-07-17T12:17:35.187Z"
   },
   {
    "duration": 33,
    "start_time": "2023-07-17T12:17:35.497Z"
   },
   {
    "duration": 37,
    "start_time": "2023-07-17T12:17:35.531Z"
   },
   {
    "duration": 1014,
    "start_time": "2023-07-17T12:17:35.569Z"
   },
   {
    "duration": 11,
    "start_time": "2023-07-17T12:17:36.585Z"
   },
   {
    "duration": 23,
    "start_time": "2023-07-17T12:17:36.598Z"
   },
   {
    "duration": 30,
    "start_time": "2023-07-17T12:17:36.623Z"
   },
   {
    "duration": 158,
    "start_time": "2023-07-17T12:17:36.655Z"
   },
   {
    "duration": 21,
    "start_time": "2023-07-17T12:17:36.819Z"
   },
   {
    "duration": 18,
    "start_time": "2023-07-17T12:17:36.843Z"
   },
   {
    "duration": 17,
    "start_time": "2023-07-17T12:17:36.863Z"
   },
   {
    "duration": 37,
    "start_time": "2023-07-17T12:17:36.881Z"
   },
   {
    "duration": 23,
    "start_time": "2023-07-17T12:17:36.926Z"
   },
   {
    "duration": 204,
    "start_time": "2023-07-17T12:17:42.861Z"
   },
   {
    "duration": 190,
    "start_time": "2023-07-17T12:17:47.184Z"
   },
   {
    "duration": 203,
    "start_time": "2023-07-17T12:17:50.898Z"
   }
  ],
  "kernelspec": {
   "display_name": "Python 3 (ipykernel)",
   "language": "python",
   "name": "python3"
  },
  "language_info": {
   "codemirror_mode": {
    "name": "ipython",
    "version": 3
   },
   "file_extension": ".py",
   "mimetype": "text/x-python",
   "name": "python",
   "nbconvert_exporter": "python",
   "pygments_lexer": "ipython3",
   "version": "3.10.13"
  },
  "toc": {
   "base_numbering": 1,
   "nav_menu": {},
   "number_sections": true,
   "sideBar": true,
   "skip_h1_title": true,
   "title_cell": "Table of Contents",
   "title_sidebar": "Contents",
   "toc_cell": false,
   "toc_position": {},
   "toc_section_display": true,
   "toc_window_display": false
  }
 },
 "nbformat": 4,
 "nbformat_minor": 5
}
