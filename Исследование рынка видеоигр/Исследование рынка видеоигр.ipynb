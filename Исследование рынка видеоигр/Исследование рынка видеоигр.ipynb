{
 "cells": [
  {
   "cell_type": "markdown",
   "metadata": {},
   "source": [
    "# Исследование рынка видеоигр\n",
    "\n",
    "Вы работаете в интернет-магазине «Стримчик», который продаёт по всему миру компьютерные игры. Из открытых источников доступны исторические данные о продажах игр, оценки пользователей и экспертов, жанры и платформы (например, Xbox или PlayStation). Вам нужно выявить определяющие успешность игры закономерности. Это позволит сделать ставку на потенциально популярный продукт и спланировать рекламные кампании.\n",
    "Перед вами данные до 2016 года. Представим, что сейчас декабрь 2016 г., и вы планируете кампанию на 2017-й. Нужно отработать принцип работы с данными. Неважно, прогнозируете ли вы продажи на 2017 год по данным 2016-го или же 2027-й — по данным 2026 года.\n",
    "\n",
    "В наборе данных попадается аббревиатура ESRB (Entertainment Software Rating Board) — это ассоциация, определяющая возрастной рейтинг компьютерных игр. ESRB оценивает игровой контент и присваивает ему подходящую возрастную категорию, например, «Для взрослых», «Для детей младшего возраста» или «Для подростков».\n",
    "\n",
    "__Описание данных__\n",
    "\n",
    "    Name — название игры\n",
    "\n",
    "    Platform — платформа\n",
    "\n",
    "    Year_of_Release — год выпуска\n",
    "\n",
    "    Genre — жанр игры\n",
    "\n",
    "    NA_sales — продажи в Северной Америке (миллионы проданных копий)\n",
    "\n",
    "    EU_sales — продажи в Европе (миллионы проданных копий)\n",
    "\n",
    "    JP_sales — продажи в Японии (миллионы проданных копий)\n",
    "\n",
    "    Other_sales — продажи в других странах (миллионы проданных копий)\n",
    "\n",
    "    Critic_Score — оценка критиков (максимум 100)\n",
    "\n",
    "    User_Score — оценка пользователей (максимум 10)\n",
    "\n",
    "__Rating — рейтинг от организации ESRB (англ. Entertainment Software Rating Board). Эта ассоциация определяет рейтинг компьютерных игр и присваивает им подходящую возрастную категорию.__\n",
    "\n",
    "\n",
    "__Краткий план действий: загрузить scv файл, изучить данный, глянуть общую информацию, затем предобработать их, а именно глянуть что у нас там с типами данными, обработать пропуски, проверить данные на дубликаты, посчитать суммарные продажи, далее провести исследовательский анализ, составить портрет(местный топ-5)для каждого из регионов, проверить гипотезы.... наконец напишем общий вывод.__\n",
    "\n",
    "P.S. подробное описание тасков будет далее на каждом нашем этапе."
   ]
  },
  {
   "cell_type": "code",
   "execution_count": 1,
   "metadata": {},
   "outputs": [],
   "source": [
    "# импортируем нужные библиотеки.\n",
    "\n",
    "import pandas as pd\n",
    "import numpy as np\n",
    "import seaborn as sns\n",
    "import matplotlib.pyplot as plt\n",
    "from scipy import stats as st"
   ]
  },
  {
   "cell_type": "markdown",
   "metadata": {},
   "source": [
    "##  Откройте файл с данными и изучите общую информацию"
   ]
  },
  {
   "cell_type": "code",
   "execution_count": 2,
   "metadata": {},
   "outputs": [],
   "source": [
    "try:\n",
    "    data = pd.read_csv('/Users/alex/Downloads/games.csv')\n",
    "except:\n",
    "    data = pd.read_csv('/datasets/games.csv')"
   ]
  },
  {
   "cell_type": "code",
   "execution_count": 3,
   "metadata": {},
   "outputs": [
    {
     "data": {
      "text/html": [
       "<div>\n",
       "<style scoped>\n",
       "    .dataframe tbody tr th:only-of-type {\n",
       "        vertical-align: middle;\n",
       "    }\n",
       "\n",
       "    .dataframe tbody tr th {\n",
       "        vertical-align: top;\n",
       "    }\n",
       "\n",
       "    .dataframe thead th {\n",
       "        text-align: right;\n",
       "    }\n",
       "</style>\n",
       "<table border=\"1\" class=\"dataframe\">\n",
       "  <thead>\n",
       "    <tr style=\"text-align: right;\">\n",
       "      <th></th>\n",
       "      <th>Name</th>\n",
       "      <th>Platform</th>\n",
       "      <th>Year_of_Release</th>\n",
       "      <th>Genre</th>\n",
       "      <th>NA_sales</th>\n",
       "      <th>EU_sales</th>\n",
       "      <th>JP_sales</th>\n",
       "      <th>Other_sales</th>\n",
       "      <th>Critic_Score</th>\n",
       "      <th>User_Score</th>\n",
       "      <th>Rating</th>\n",
       "    </tr>\n",
       "  </thead>\n",
       "  <tbody>\n",
       "    <tr>\n",
       "      <th>0</th>\n",
       "      <td>Wii Sports</td>\n",
       "      <td>Wii</td>\n",
       "      <td>2006.0</td>\n",
       "      <td>Sports</td>\n",
       "      <td>41.36</td>\n",
       "      <td>28.96</td>\n",
       "      <td>3.77</td>\n",
       "      <td>8.45</td>\n",
       "      <td>76.0</td>\n",
       "      <td>8</td>\n",
       "      <td>E</td>\n",
       "    </tr>\n",
       "    <tr>\n",
       "      <th>1</th>\n",
       "      <td>Super Mario Bros.</td>\n",
       "      <td>NES</td>\n",
       "      <td>1985.0</td>\n",
       "      <td>Platform</td>\n",
       "      <td>29.08</td>\n",
       "      <td>3.58</td>\n",
       "      <td>6.81</td>\n",
       "      <td>0.77</td>\n",
       "      <td>NaN</td>\n",
       "      <td>NaN</td>\n",
       "      <td>NaN</td>\n",
       "    </tr>\n",
       "    <tr>\n",
       "      <th>2</th>\n",
       "      <td>Mario Kart Wii</td>\n",
       "      <td>Wii</td>\n",
       "      <td>2008.0</td>\n",
       "      <td>Racing</td>\n",
       "      <td>15.68</td>\n",
       "      <td>12.76</td>\n",
       "      <td>3.79</td>\n",
       "      <td>3.29</td>\n",
       "      <td>82.0</td>\n",
       "      <td>8.3</td>\n",
       "      <td>E</td>\n",
       "    </tr>\n",
       "    <tr>\n",
       "      <th>3</th>\n",
       "      <td>Wii Sports Resort</td>\n",
       "      <td>Wii</td>\n",
       "      <td>2009.0</td>\n",
       "      <td>Sports</td>\n",
       "      <td>15.61</td>\n",
       "      <td>10.93</td>\n",
       "      <td>3.28</td>\n",
       "      <td>2.95</td>\n",
       "      <td>80.0</td>\n",
       "      <td>8</td>\n",
       "      <td>E</td>\n",
       "    </tr>\n",
       "    <tr>\n",
       "      <th>4</th>\n",
       "      <td>Pokemon Red/Pokemon Blue</td>\n",
       "      <td>GB</td>\n",
       "      <td>1996.0</td>\n",
       "      <td>Role-Playing</td>\n",
       "      <td>11.27</td>\n",
       "      <td>8.89</td>\n",
       "      <td>10.22</td>\n",
       "      <td>1.00</td>\n",
       "      <td>NaN</td>\n",
       "      <td>NaN</td>\n",
       "      <td>NaN</td>\n",
       "    </tr>\n",
       "    <tr>\n",
       "      <th>...</th>\n",
       "      <td>...</td>\n",
       "      <td>...</td>\n",
       "      <td>...</td>\n",
       "      <td>...</td>\n",
       "      <td>...</td>\n",
       "      <td>...</td>\n",
       "      <td>...</td>\n",
       "      <td>...</td>\n",
       "      <td>...</td>\n",
       "      <td>...</td>\n",
       "      <td>...</td>\n",
       "    </tr>\n",
       "    <tr>\n",
       "      <th>16710</th>\n",
       "      <td>Samurai Warriors: Sanada Maru</td>\n",
       "      <td>PS3</td>\n",
       "      <td>2016.0</td>\n",
       "      <td>Action</td>\n",
       "      <td>0.00</td>\n",
       "      <td>0.00</td>\n",
       "      <td>0.01</td>\n",
       "      <td>0.00</td>\n",
       "      <td>NaN</td>\n",
       "      <td>NaN</td>\n",
       "      <td>NaN</td>\n",
       "    </tr>\n",
       "    <tr>\n",
       "      <th>16711</th>\n",
       "      <td>LMA Manager 2007</td>\n",
       "      <td>X360</td>\n",
       "      <td>2006.0</td>\n",
       "      <td>Sports</td>\n",
       "      <td>0.00</td>\n",
       "      <td>0.01</td>\n",
       "      <td>0.00</td>\n",
       "      <td>0.00</td>\n",
       "      <td>NaN</td>\n",
       "      <td>NaN</td>\n",
       "      <td>NaN</td>\n",
       "    </tr>\n",
       "    <tr>\n",
       "      <th>16712</th>\n",
       "      <td>Haitaka no Psychedelica</td>\n",
       "      <td>PSV</td>\n",
       "      <td>2016.0</td>\n",
       "      <td>Adventure</td>\n",
       "      <td>0.00</td>\n",
       "      <td>0.00</td>\n",
       "      <td>0.01</td>\n",
       "      <td>0.00</td>\n",
       "      <td>NaN</td>\n",
       "      <td>NaN</td>\n",
       "      <td>NaN</td>\n",
       "    </tr>\n",
       "    <tr>\n",
       "      <th>16713</th>\n",
       "      <td>Spirits &amp; Spells</td>\n",
       "      <td>GBA</td>\n",
       "      <td>2003.0</td>\n",
       "      <td>Platform</td>\n",
       "      <td>0.01</td>\n",
       "      <td>0.00</td>\n",
       "      <td>0.00</td>\n",
       "      <td>0.00</td>\n",
       "      <td>NaN</td>\n",
       "      <td>NaN</td>\n",
       "      <td>NaN</td>\n",
       "    </tr>\n",
       "    <tr>\n",
       "      <th>16714</th>\n",
       "      <td>Winning Post 8 2016</td>\n",
       "      <td>PSV</td>\n",
       "      <td>2016.0</td>\n",
       "      <td>Simulation</td>\n",
       "      <td>0.00</td>\n",
       "      <td>0.00</td>\n",
       "      <td>0.01</td>\n",
       "      <td>0.00</td>\n",
       "      <td>NaN</td>\n",
       "      <td>NaN</td>\n",
       "      <td>NaN</td>\n",
       "    </tr>\n",
       "  </tbody>\n",
       "</table>\n",
       "<p>16715 rows × 11 columns</p>\n",
       "</div>"
      ],
      "text/plain": [
       "                                Name Platform  Year_of_Release         Genre  \\\n",
       "0                         Wii Sports      Wii           2006.0        Sports   \n",
       "1                  Super Mario Bros.      NES           1985.0      Platform   \n",
       "2                     Mario Kart Wii      Wii           2008.0        Racing   \n",
       "3                  Wii Sports Resort      Wii           2009.0        Sports   \n",
       "4           Pokemon Red/Pokemon Blue       GB           1996.0  Role-Playing   \n",
       "...                              ...      ...              ...           ...   \n",
       "16710  Samurai Warriors: Sanada Maru      PS3           2016.0        Action   \n",
       "16711               LMA Manager 2007     X360           2006.0        Sports   \n",
       "16712        Haitaka no Psychedelica      PSV           2016.0     Adventure   \n",
       "16713               Spirits & Spells      GBA           2003.0      Platform   \n",
       "16714            Winning Post 8 2016      PSV           2016.0    Simulation   \n",
       "\n",
       "       NA_sales  EU_sales  JP_sales  Other_sales  Critic_Score User_Score  \\\n",
       "0         41.36     28.96      3.77         8.45          76.0          8   \n",
       "1         29.08      3.58      6.81         0.77           NaN        NaN   \n",
       "2         15.68     12.76      3.79         3.29          82.0        8.3   \n",
       "3         15.61     10.93      3.28         2.95          80.0          8   \n",
       "4         11.27      8.89     10.22         1.00           NaN        NaN   \n",
       "...         ...       ...       ...          ...           ...        ...   \n",
       "16710      0.00      0.00      0.01         0.00           NaN        NaN   \n",
       "16711      0.00      0.01      0.00         0.00           NaN        NaN   \n",
       "16712      0.00      0.00      0.01         0.00           NaN        NaN   \n",
       "16713      0.01      0.00      0.00         0.00           NaN        NaN   \n",
       "16714      0.00      0.00      0.01         0.00           NaN        NaN   \n",
       "\n",
       "      Rating  \n",
       "0          E  \n",
       "1        NaN  \n",
       "2          E  \n",
       "3          E  \n",
       "4        NaN  \n",
       "...      ...  \n",
       "16710    NaN  \n",
       "16711    NaN  \n",
       "16712    NaN  \n",
       "16713    NaN  \n",
       "16714    NaN  \n",
       "\n",
       "[16715 rows x 11 columns]"
      ]
     },
     "execution_count": 3,
     "metadata": {},
     "output_type": "execute_result"
    }
   ],
   "source": [
    "data"
   ]
  },
  {
   "cell_type": "code",
   "execution_count": 4,
   "metadata": {},
   "outputs": [
    {
     "name": "stdout",
     "output_type": "stream",
     "text": [
      "<class 'pandas.core.frame.DataFrame'>\n",
      "RangeIndex: 16715 entries, 0 to 16714\n",
      "Data columns (total 11 columns):\n",
      " #   Column           Non-Null Count  Dtype  \n",
      "---  ------           --------------  -----  \n",
      " 0   Name             16713 non-null  object \n",
      " 1   Platform         16715 non-null  object \n",
      " 2   Year_of_Release  16446 non-null  float64\n",
      " 3   Genre            16713 non-null  object \n",
      " 4   NA_sales         16715 non-null  float64\n",
      " 5   EU_sales         16715 non-null  float64\n",
      " 6   JP_sales         16715 non-null  float64\n",
      " 7   Other_sales      16715 non-null  float64\n",
      " 8   Critic_Score     8137 non-null   float64\n",
      " 9   User_Score       10014 non-null  object \n",
      " 10  Rating           9949 non-null   object \n",
      "dtypes: float64(6), object(5)\n",
      "memory usage: 1.4+ MB\n"
     ]
    }
   ],
   "source": [
    "data.info()"
   ]
  },
  {
   "cell_type": "code",
   "execution_count": 5,
   "metadata": {},
   "outputs": [
    {
     "data": {
      "text/plain": [
       "Name                object\n",
       "Platform            object\n",
       "Year_of_Release    float64\n",
       "Genre               object\n",
       "NA_sales           float64\n",
       "EU_sales           float64\n",
       "JP_sales           float64\n",
       "Other_sales        float64\n",
       "Critic_Score       float64\n",
       "User_Score          object\n",
       "Rating              object\n",
       "dtype: object"
      ]
     },
     "execution_count": 5,
     "metadata": {},
     "output_type": "execute_result"
    }
   ],
   "source": [
    "data.dtypes"
   ]
  },
  {
   "cell_type": "code",
   "execution_count": 6,
   "metadata": {},
   "outputs": [
    {
     "data": {
      "text/plain": [
       "Name               0.000120\n",
       "Platform           0.000000\n",
       "Year_of_Release    0.016093\n",
       "Genre              0.000120\n",
       "NA_sales           0.000000\n",
       "EU_sales           0.000000\n",
       "JP_sales           0.000000\n",
       "Other_sales        0.000000\n",
       "Critic_Score       0.513192\n",
       "User_Score         0.400897\n",
       "Rating             0.404786\n",
       "dtype: float64"
      ]
     },
     "execution_count": 6,
     "metadata": {},
     "output_type": "execute_result"
    }
   ],
   "source": [
    "data.isna().mean()"
   ]
  },
  {
   "cell_type": "code",
   "execution_count": 7,
   "metadata": {},
   "outputs": [
    {
     "data": {
      "text/plain": [
       "array(['Wii', 'NES', 'GB', 'DS', 'X360', 'PS3', 'PS2', 'SNES', 'GBA',\n",
       "       'PS4', '3DS', 'N64', 'PS', 'XB', 'PC', '2600', 'PSP', 'XOne',\n",
       "       'WiiU', 'GC', 'GEN', 'DC', 'PSV', 'SAT', 'SCD', 'WS', 'NG', 'TG16',\n",
       "       '3DO', 'GG', 'PCFX'], dtype=object)"
      ]
     },
     "execution_count": 7,
     "metadata": {},
     "output_type": "execute_result"
    }
   ],
   "source": [
    "data['Platform'].unique()"
   ]
  },
  {
   "cell_type": "code",
   "execution_count": 8,
   "metadata": {},
   "outputs": [
    {
     "data": {
      "text/plain": [
       "array([2006., 1985., 2008., 2009., 1996., 1989., 1984., 2005., 1999.,\n",
       "       2007., 2010., 2013., 2004., 1990., 1988., 2002., 2001., 2011.,\n",
       "       1998., 2015., 2012., 2014., 1992., 1997., 1993., 1994., 1982.,\n",
       "       2016., 2003., 1986., 2000.,   nan, 1995., 1991., 1981., 1987.,\n",
       "       1980., 1983.])"
      ]
     },
     "execution_count": 8,
     "metadata": {},
     "output_type": "execute_result"
    }
   ],
   "source": [
    "data['Year_of_Release'].unique()"
   ]
  },
  {
   "cell_type": "code",
   "execution_count": 9,
   "metadata": {},
   "outputs": [
    {
     "data": {
      "text/plain": [
       "array(['Sports', 'Platform', 'Racing', 'Role-Playing', 'Puzzle', 'Misc',\n",
       "       'Shooter', 'Simulation', 'Action', 'Fighting', 'Adventure',\n",
       "       'Strategy', nan], dtype=object)"
      ]
     },
     "execution_count": 9,
     "metadata": {},
     "output_type": "execute_result"
    }
   ],
   "source": [
    "data['Genre'].unique()"
   ]
  },
  {
   "cell_type": "code",
   "execution_count": 10,
   "metadata": {},
   "outputs": [
    {
     "data": {
      "text/plain": [
       "array(['E', nan, 'M', 'T', 'E10+', 'K-A', 'AO', 'EC', 'RP'], dtype=object)"
      ]
     },
     "execution_count": 10,
     "metadata": {},
     "output_type": "execute_result"
    }
   ],
   "source": [
    "data['Rating'].unique()"
   ]
  },
  {
   "cell_type": "code",
   "execution_count": 11,
   "metadata": {},
   "outputs": [
    {
     "data": {
      "text/plain": [
       "0"
      ]
     },
     "execution_count": 11,
     "metadata": {},
     "output_type": "execute_result"
    }
   ],
   "source": [
    "data.duplicated().sum()"
   ]
  },
  {
   "cell_type": "markdown",
   "metadata": {},
   "source": [
    "На данном этапе, мы можем констатировать - у нас имеются пропущенные значения, указаны не совсем корректные типы данных, явных дубликатов не обнаруженно, так же есть интересные наблюдения косаемо рейтинга, об этом далее."
   ]
  },
  {
   "cell_type": "markdown",
   "metadata": {},
   "source": [
    "## Подготовка данных"
   ]
  },
  {
   "cell_type": "markdown",
   "metadata": {},
   "source": [
    "### Замените названия столбцов (приведите к нижнему регистру)."
   ]
  },
  {
   "cell_type": "code",
   "execution_count": 12,
   "metadata": {},
   "outputs": [
    {
     "data": {
      "text/html": [
       "<div>\n",
       "<style scoped>\n",
       "    .dataframe tbody tr th:only-of-type {\n",
       "        vertical-align: middle;\n",
       "    }\n",
       "\n",
       "    .dataframe tbody tr th {\n",
       "        vertical-align: top;\n",
       "    }\n",
       "\n",
       "    .dataframe thead th {\n",
       "        text-align: right;\n",
       "    }\n",
       "</style>\n",
       "<table border=\"1\" class=\"dataframe\">\n",
       "  <thead>\n",
       "    <tr style=\"text-align: right;\">\n",
       "      <th></th>\n",
       "      <th>name</th>\n",
       "      <th>platform</th>\n",
       "      <th>year_of_release</th>\n",
       "      <th>genre</th>\n",
       "      <th>na_sales</th>\n",
       "      <th>eu_sales</th>\n",
       "      <th>jp_sales</th>\n",
       "      <th>other_sales</th>\n",
       "      <th>critic_score</th>\n",
       "      <th>user_score</th>\n",
       "      <th>rating</th>\n",
       "    </tr>\n",
       "  </thead>\n",
       "  <tbody>\n",
       "    <tr>\n",
       "      <th>0</th>\n",
       "      <td>Wii Sports</td>\n",
       "      <td>Wii</td>\n",
       "      <td>2006.0</td>\n",
       "      <td>Sports</td>\n",
       "      <td>41.36</td>\n",
       "      <td>28.96</td>\n",
       "      <td>3.77</td>\n",
       "      <td>8.45</td>\n",
       "      <td>76.0</td>\n",
       "      <td>8</td>\n",
       "      <td>E</td>\n",
       "    </tr>\n",
       "    <tr>\n",
       "      <th>1</th>\n",
       "      <td>Super Mario Bros.</td>\n",
       "      <td>NES</td>\n",
       "      <td>1985.0</td>\n",
       "      <td>Platform</td>\n",
       "      <td>29.08</td>\n",
       "      <td>3.58</td>\n",
       "      <td>6.81</td>\n",
       "      <td>0.77</td>\n",
       "      <td>NaN</td>\n",
       "      <td>NaN</td>\n",
       "      <td>NaN</td>\n",
       "    </tr>\n",
       "    <tr>\n",
       "      <th>2</th>\n",
       "      <td>Mario Kart Wii</td>\n",
       "      <td>Wii</td>\n",
       "      <td>2008.0</td>\n",
       "      <td>Racing</td>\n",
       "      <td>15.68</td>\n",
       "      <td>12.76</td>\n",
       "      <td>3.79</td>\n",
       "      <td>3.29</td>\n",
       "      <td>82.0</td>\n",
       "      <td>8.3</td>\n",
       "      <td>E</td>\n",
       "    </tr>\n",
       "    <tr>\n",
       "      <th>3</th>\n",
       "      <td>Wii Sports Resort</td>\n",
       "      <td>Wii</td>\n",
       "      <td>2009.0</td>\n",
       "      <td>Sports</td>\n",
       "      <td>15.61</td>\n",
       "      <td>10.93</td>\n",
       "      <td>3.28</td>\n",
       "      <td>2.95</td>\n",
       "      <td>80.0</td>\n",
       "      <td>8</td>\n",
       "      <td>E</td>\n",
       "    </tr>\n",
       "    <tr>\n",
       "      <th>4</th>\n",
       "      <td>Pokemon Red/Pokemon Blue</td>\n",
       "      <td>GB</td>\n",
       "      <td>1996.0</td>\n",
       "      <td>Role-Playing</td>\n",
       "      <td>11.27</td>\n",
       "      <td>8.89</td>\n",
       "      <td>10.22</td>\n",
       "      <td>1.00</td>\n",
       "      <td>NaN</td>\n",
       "      <td>NaN</td>\n",
       "      <td>NaN</td>\n",
       "    </tr>\n",
       "  </tbody>\n",
       "</table>\n",
       "</div>"
      ],
      "text/plain": [
       "                       name platform  year_of_release         genre  na_sales  \\\n",
       "0                Wii Sports      Wii           2006.0        Sports     41.36   \n",
       "1         Super Mario Bros.      NES           1985.0      Platform     29.08   \n",
       "2            Mario Kart Wii      Wii           2008.0        Racing     15.68   \n",
       "3         Wii Sports Resort      Wii           2009.0        Sports     15.61   \n",
       "4  Pokemon Red/Pokemon Blue       GB           1996.0  Role-Playing     11.27   \n",
       "\n",
       "   eu_sales  jp_sales  other_sales  critic_score user_score rating  \n",
       "0     28.96      3.77         8.45          76.0          8      E  \n",
       "1      3.58      6.81         0.77           NaN        NaN    NaN  \n",
       "2     12.76      3.79         3.29          82.0        8.3      E  \n",
       "3     10.93      3.28         2.95          80.0          8      E  \n",
       "4      8.89     10.22         1.00           NaN        NaN    NaN  "
      ]
     },
     "execution_count": 12,
     "metadata": {},
     "output_type": "execute_result"
    }
   ],
   "source": [
    "# приведем название столбцов к нижнему регистру\n",
    "\n",
    "data.columns = [col.lower() for col in data.columns]\n",
    "\n",
    "# сразу проверим\n",
    "\n",
    "data.head()\n",
    "\n",
    "# все ок, едем дальше"
   ]
  },
  {
   "cell_type": "markdown",
   "metadata": {},
   "source": [
    "### Преобразуйте данные в нужные типы. Опишите, в каких столбцах заменили тип данных и почему."
   ]
  },
  {
   "cell_type": "markdown",
   "metadata": {},
   "source": [
    "У нас имеются столбцы year_of_release - с типом float, что не совсем корректно на мой взгяд ведь у нас не может быть года с плавающей точкой(2000.5, 1999.99 и тд) , тут больше подойдейт __int__, таж же стобец user_score - имеет тип object, что не совсем понятно, изменим тип на __float__"
   ]
  },
  {
   "cell_type": "code",
   "execution_count": 13,
   "metadata": {},
   "outputs": [
    {
     "data": {
      "text/plain": [
       "array([2006., 1985., 2008., 2009., 1996., 1989., 1984., 2005., 1999.,\n",
       "       2007., 2010., 2013., 2004., 1990., 1988., 2002., 2001., 2011.,\n",
       "       1998., 2015., 2012., 2014., 1992., 1997., 1993., 1994., 1982.,\n",
       "       2016., 2003., 1986., 2000.,   nan, 1995., 1991., 1981., 1987.,\n",
       "       1980., 1983.])"
      ]
     },
     "execution_count": 13,
     "metadata": {},
     "output_type": "execute_result"
    }
   ],
   "source": [
    "data['year_of_release'].unique()"
   ]
  },
  {
   "cell_type": "markdown",
   "metadata": {},
   "source": [
    "В столбце year_of_release имеется значение nan, для того чтобы изметить тип на int, сначала нужно избавиться от nan"
   ]
  },
  {
   "cell_type": "code",
   "execution_count": 14,
   "metadata": {},
   "outputs": [
    {
     "data": {
      "text/html": [
       "<div>\n",
       "<style scoped>\n",
       "    .dataframe tbody tr th:only-of-type {\n",
       "        vertical-align: middle;\n",
       "    }\n",
       "\n",
       "    .dataframe tbody tr th {\n",
       "        vertical-align: top;\n",
       "    }\n",
       "\n",
       "    .dataframe thead th {\n",
       "        text-align: right;\n",
       "    }\n",
       "</style>\n",
       "<table border=\"1\" class=\"dataframe\">\n",
       "  <thead>\n",
       "    <tr style=\"text-align: right;\">\n",
       "      <th></th>\n",
       "      <th>name</th>\n",
       "      <th>platform</th>\n",
       "      <th>year_of_release</th>\n",
       "      <th>genre</th>\n",
       "      <th>na_sales</th>\n",
       "      <th>eu_sales</th>\n",
       "      <th>jp_sales</th>\n",
       "      <th>other_sales</th>\n",
       "      <th>critic_score</th>\n",
       "      <th>user_score</th>\n",
       "      <th>rating</th>\n",
       "    </tr>\n",
       "  </thead>\n",
       "  <tbody>\n",
       "    <tr>\n",
       "      <th>183</th>\n",
       "      <td>Madden NFL 2004</td>\n",
       "      <td>PS2</td>\n",
       "      <td>NaN</td>\n",
       "      <td>Sports</td>\n",
       "      <td>4.26</td>\n",
       "      <td>0.26</td>\n",
       "      <td>0.01</td>\n",
       "      <td>0.71</td>\n",
       "      <td>94.0</td>\n",
       "      <td>8.5</td>\n",
       "      <td>E</td>\n",
       "    </tr>\n",
       "    <tr>\n",
       "      <th>377</th>\n",
       "      <td>FIFA Soccer 2004</td>\n",
       "      <td>PS2</td>\n",
       "      <td>NaN</td>\n",
       "      <td>Sports</td>\n",
       "      <td>0.59</td>\n",
       "      <td>2.36</td>\n",
       "      <td>0.04</td>\n",
       "      <td>0.51</td>\n",
       "      <td>84.0</td>\n",
       "      <td>6.4</td>\n",
       "      <td>E</td>\n",
       "    </tr>\n",
       "    <tr>\n",
       "      <th>456</th>\n",
       "      <td>LEGO Batman: The Videogame</td>\n",
       "      <td>Wii</td>\n",
       "      <td>NaN</td>\n",
       "      <td>Action</td>\n",
       "      <td>1.80</td>\n",
       "      <td>0.97</td>\n",
       "      <td>0.00</td>\n",
       "      <td>0.29</td>\n",
       "      <td>74.0</td>\n",
       "      <td>7.9</td>\n",
       "      <td>E10+</td>\n",
       "    </tr>\n",
       "    <tr>\n",
       "      <th>475</th>\n",
       "      <td>wwe Smackdown vs. Raw 2006</td>\n",
       "      <td>PS2</td>\n",
       "      <td>NaN</td>\n",
       "      <td>Fighting</td>\n",
       "      <td>1.57</td>\n",
       "      <td>1.02</td>\n",
       "      <td>0.00</td>\n",
       "      <td>0.41</td>\n",
       "      <td>NaN</td>\n",
       "      <td>NaN</td>\n",
       "      <td>NaN</td>\n",
       "    </tr>\n",
       "    <tr>\n",
       "      <th>609</th>\n",
       "      <td>Space Invaders</td>\n",
       "      <td>2600</td>\n",
       "      <td>NaN</td>\n",
       "      <td>Shooter</td>\n",
       "      <td>2.36</td>\n",
       "      <td>0.14</td>\n",
       "      <td>0.00</td>\n",
       "      <td>0.03</td>\n",
       "      <td>NaN</td>\n",
       "      <td>NaN</td>\n",
       "      <td>NaN</td>\n",
       "    </tr>\n",
       "    <tr>\n",
       "      <th>...</th>\n",
       "      <td>...</td>\n",
       "      <td>...</td>\n",
       "      <td>...</td>\n",
       "      <td>...</td>\n",
       "      <td>...</td>\n",
       "      <td>...</td>\n",
       "      <td>...</td>\n",
       "      <td>...</td>\n",
       "      <td>...</td>\n",
       "      <td>...</td>\n",
       "      <td>...</td>\n",
       "    </tr>\n",
       "    <tr>\n",
       "      <th>16373</th>\n",
       "      <td>PDC World Championship Darts 2008</td>\n",
       "      <td>PSP</td>\n",
       "      <td>NaN</td>\n",
       "      <td>Sports</td>\n",
       "      <td>0.01</td>\n",
       "      <td>0.00</td>\n",
       "      <td>0.00</td>\n",
       "      <td>0.00</td>\n",
       "      <td>43.0</td>\n",
       "      <td>tbd</td>\n",
       "      <td>E10+</td>\n",
       "    </tr>\n",
       "    <tr>\n",
       "      <th>16405</th>\n",
       "      <td>Freaky Flyers</td>\n",
       "      <td>GC</td>\n",
       "      <td>NaN</td>\n",
       "      <td>Racing</td>\n",
       "      <td>0.01</td>\n",
       "      <td>0.00</td>\n",
       "      <td>0.00</td>\n",
       "      <td>0.00</td>\n",
       "      <td>69.0</td>\n",
       "      <td>6.5</td>\n",
       "      <td>T</td>\n",
       "    </tr>\n",
       "    <tr>\n",
       "      <th>16448</th>\n",
       "      <td>Inversion</td>\n",
       "      <td>PC</td>\n",
       "      <td>NaN</td>\n",
       "      <td>Shooter</td>\n",
       "      <td>0.01</td>\n",
       "      <td>0.00</td>\n",
       "      <td>0.00</td>\n",
       "      <td>0.00</td>\n",
       "      <td>59.0</td>\n",
       "      <td>6.7</td>\n",
       "      <td>M</td>\n",
       "    </tr>\n",
       "    <tr>\n",
       "      <th>16458</th>\n",
       "      <td>Hakuouki: Shinsengumi Kitan</td>\n",
       "      <td>PS3</td>\n",
       "      <td>NaN</td>\n",
       "      <td>Adventure</td>\n",
       "      <td>0.01</td>\n",
       "      <td>0.00</td>\n",
       "      <td>0.00</td>\n",
       "      <td>0.00</td>\n",
       "      <td>NaN</td>\n",
       "      <td>NaN</td>\n",
       "      <td>NaN</td>\n",
       "    </tr>\n",
       "    <tr>\n",
       "      <th>16522</th>\n",
       "      <td>Virtua Quest</td>\n",
       "      <td>GC</td>\n",
       "      <td>NaN</td>\n",
       "      <td>Role-Playing</td>\n",
       "      <td>0.01</td>\n",
       "      <td>0.00</td>\n",
       "      <td>0.00</td>\n",
       "      <td>0.00</td>\n",
       "      <td>55.0</td>\n",
       "      <td>5.5</td>\n",
       "      <td>T</td>\n",
       "    </tr>\n",
       "  </tbody>\n",
       "</table>\n",
       "<p>269 rows × 11 columns</p>\n",
       "</div>"
      ],
      "text/plain": [
       "                                    name platform  year_of_release  \\\n",
       "183                      Madden NFL 2004      PS2              NaN   \n",
       "377                     FIFA Soccer 2004      PS2              NaN   \n",
       "456           LEGO Batman: The Videogame      Wii              NaN   \n",
       "475           wwe Smackdown vs. Raw 2006      PS2              NaN   \n",
       "609                       Space Invaders     2600              NaN   \n",
       "...                                  ...      ...              ...   \n",
       "16373  PDC World Championship Darts 2008      PSP              NaN   \n",
       "16405                      Freaky Flyers       GC              NaN   \n",
       "16448                          Inversion       PC              NaN   \n",
       "16458        Hakuouki: Shinsengumi Kitan      PS3              NaN   \n",
       "16522                       Virtua Quest       GC              NaN   \n",
       "\n",
       "              genre  na_sales  eu_sales  jp_sales  other_sales  critic_score  \\\n",
       "183          Sports      4.26      0.26      0.01         0.71          94.0   \n",
       "377          Sports      0.59      2.36      0.04         0.51          84.0   \n",
       "456          Action      1.80      0.97      0.00         0.29          74.0   \n",
       "475        Fighting      1.57      1.02      0.00         0.41           NaN   \n",
       "609         Shooter      2.36      0.14      0.00         0.03           NaN   \n",
       "...             ...       ...       ...       ...          ...           ...   \n",
       "16373        Sports      0.01      0.00      0.00         0.00          43.0   \n",
       "16405        Racing      0.01      0.00      0.00         0.00          69.0   \n",
       "16448       Shooter      0.01      0.00      0.00         0.00          59.0   \n",
       "16458     Adventure      0.01      0.00      0.00         0.00           NaN   \n",
       "16522  Role-Playing      0.01      0.00      0.00         0.00          55.0   \n",
       "\n",
       "      user_score rating  \n",
       "183          8.5      E  \n",
       "377          6.4      E  \n",
       "456          7.9   E10+  \n",
       "475          NaN    NaN  \n",
       "609          NaN    NaN  \n",
       "...          ...    ...  \n",
       "16373        tbd   E10+  \n",
       "16405        6.5      T  \n",
       "16448        6.7      M  \n",
       "16458        NaN    NaN  \n",
       "16522        5.5      T  \n",
       "\n",
       "[269 rows x 11 columns]"
      ]
     },
     "execution_count": 14,
     "metadata": {},
     "output_type": "execute_result"
    }
   ],
   "source": [
    "data[data['year_of_release'].isna()]"
   ]
  },
  {
   "cell_type": "markdown",
   "metadata": {},
   "source": [
    "У нас имеется меньше 2% незаполненных данных по году выпуска, т.к нет четкого понимания, как заполнить пропуски - принимаем решение избавиться от них."
   ]
  },
  {
   "cell_type": "code",
   "execution_count": 15,
   "metadata": {},
   "outputs": [
    {
     "data": {
      "text/plain": [
       "16715"
      ]
     },
     "execution_count": 15,
     "metadata": {},
     "output_type": "execute_result"
    }
   ],
   "source": [
    "# длина дф ДО удаления\n",
    "\n",
    "data.shape[0]"
   ]
  },
  {
   "cell_type": "code",
   "execution_count": 16,
   "metadata": {},
   "outputs": [],
   "source": [
    "# удалим пропущеные значения и восстановим индексы\n",
    "\n",
    "data = data.dropna(subset = ['year_of_release']).reset_index(drop = True)"
   ]
  },
  {
   "cell_type": "code",
   "execution_count": 17,
   "metadata": {},
   "outputs": [
    {
     "data": {
      "text/plain": [
       "16446"
      ]
     },
     "execution_count": 17,
     "metadata": {},
     "output_type": "execute_result"
    }
   ],
   "source": [
    "# ПОСЛЕ\n",
    "\n",
    "data.shape[0]\n",
    "\n",
    "# все ок, едем дальше"
   ]
  },
  {
   "cell_type": "code",
   "execution_count": 18,
   "metadata": {},
   "outputs": [
    {
     "data": {
      "text/plain": [
       "dtype('int64')"
      ]
     },
     "execution_count": 18,
     "metadata": {},
     "output_type": "execute_result"
    }
   ],
   "source": [
    "# теперь изменим тип данных\n",
    "\n",
    "data['year_of_release'] = data['year_of_release'].astype('int')\n",
    "data['year_of_release'].dtypes\n",
    "\n",
    "# ok"
   ]
  },
  {
   "cell_type": "markdown",
   "metadata": {},
   "source": [
    "__Теперь глянем user_score__"
   ]
  },
  {
   "cell_type": "code",
   "execution_count": 19,
   "metadata": {},
   "outputs": [
    {
     "data": {
      "text/plain": [
       "array(['8', nan, '8.3', '8.5', '6.6', '8.4', '8.6', '7.7', '6.3', '7.4',\n",
       "       '8.2', '9', '7.9', '8.1', '8.7', '7.1', '3.4', '5.3', '4.8', '3.2',\n",
       "       '8.9', '6.4', '7.8', '7.5', '2.6', '7.2', '9.2', '7', '7.3', '4.3',\n",
       "       '7.6', '5.7', '5', '9.1', '6.5', 'tbd', '8.8', '6.9', '9.4', '6.8',\n",
       "       '6.1', '6.7', '5.4', '4', '4.9', '4.5', '9.3', '6.2', '4.2', '6',\n",
       "       '3.7', '4.1', '5.8', '5.6', '5.5', '4.4', '4.6', '5.9', '3.9',\n",
       "       '3.1', '2.9', '5.2', '3.3', '4.7', '5.1', '3.5', '2.5', '1.9', '3',\n",
       "       '2.7', '2.2', '2', '9.5', '2.1', '3.6', '2.8', '1.8', '3.8', '0',\n",
       "       '1.6', '9.6', '2.4', '1.7', '1.1', '0.3', '1.5', '0.7', '1.2',\n",
       "       '2.3', '0.5', '1.3', '0.2', '0.6', '1.4', '0.9', '1', '9.7'],\n",
       "      dtype=object)"
      ]
     },
     "execution_count": 19,
     "metadata": {},
     "output_type": "execute_result"
    }
   ],
   "source": [
    "data['user_score'].unique()"
   ]
  },
  {
   "cell_type": "markdown",
   "metadata": {},
   "source": [
    "В __Пользовательских оценках__ мы имеем следующие значения - TBD(to be defined) - \"будет определено\", т.е на данный момент - это пропуски, поэтому заменим значения на nan"
   ]
  },
  {
   "cell_type": "code",
   "execution_count": 20,
   "metadata": {},
   "outputs": [
    {
     "data": {
      "text/plain": [
       "array(['8', nan, '8.3', '8.5', '6.6', '8.4', '8.6', '7.7', '6.3', '7.4',\n",
       "       '8.2', '9', '7.9', '8.1', '8.7', '7.1', '3.4', '5.3', '4.8', '3.2',\n",
       "       '8.9', '6.4', '7.8', '7.5', '2.6', '7.2', '9.2', '7', '7.3', '4.3',\n",
       "       '7.6', '5.7', '5', '9.1', '6.5', '8.8', '6.9', '9.4', '6.8', '6.1',\n",
       "       '6.7', '5.4', '4', '4.9', '4.5', '9.3', '6.2', '4.2', '6', '3.7',\n",
       "       '4.1', '5.8', '5.6', '5.5', '4.4', '4.6', '5.9', '3.9', '3.1',\n",
       "       '2.9', '5.2', '3.3', '4.7', '5.1', '3.5', '2.5', '1.9', '3', '2.7',\n",
       "       '2.2', '2', '9.5', '2.1', '3.6', '2.8', '1.8', '3.8', '0', '1.6',\n",
       "       '9.6', '2.4', '1.7', '1.1', '0.3', '1.5', '0.7', '1.2', '2.3',\n",
       "       '0.5', '1.3', '0.2', '0.6', '1.4', '0.9', '1', '9.7'], dtype=object)"
      ]
     },
     "execution_count": 20,
     "metadata": {},
     "output_type": "execute_result"
    }
   ],
   "source": [
    "data.loc[data['user_score'] == 'tbd', 'user_score'] = np.nan\n",
    "\n",
    "# глянем на результат\n",
    "\n",
    "data['user_score'].unique()"
   ]
  },
  {
   "cell_type": "code",
   "execution_count": 21,
   "metadata": {},
   "outputs": [
    {
     "data": {
      "text/plain": [
       "dtype('float64')"
      ]
     },
     "execution_count": 21,
     "metadata": {},
     "output_type": "execute_result"
    }
   ],
   "source": [
    "# изменим тип \n",
    "\n",
    "data['user_score'] = data['user_score'].astype('float')\n",
    "data['user_score'].dtype"
   ]
  },
  {
   "cell_type": "markdown",
   "metadata": {},
   "source": [
    "__Critic_score__ из описания мы знаем, что оценка критиков - это \"100 бальная шкала\", изменим на целочисленный тип данных."
   ]
  },
  {
   "cell_type": "code",
   "execution_count": 22,
   "metadata": {},
   "outputs": [
    {
     "data": {
      "text/plain": [
       "array([76., nan, 82., 80., 89., 58., 87., 91., 61., 97., 95., 77., 88.,\n",
       "       83., 94., 93., 85., 86., 98., 96., 90., 84., 73., 74., 78., 92.,\n",
       "       71., 72., 68., 62., 49., 67., 81., 66., 56., 79., 70., 59., 64.,\n",
       "       75., 60., 63., 69., 50., 25., 42., 44., 55., 48., 57., 29., 47.,\n",
       "       65., 54., 20., 53., 37., 38., 33., 52., 30., 32., 43., 45., 51.,\n",
       "       40., 46., 39., 34., 41., 36., 31., 27., 35., 26., 19., 28., 23.,\n",
       "       24., 21., 17., 13.])"
      ]
     },
     "execution_count": 22,
     "metadata": {},
     "output_type": "execute_result"
    }
   ],
   "source": [
    "data['critic_score'].unique()"
   ]
  },
  {
   "cell_type": "markdown",
   "metadata": {},
   "source": [
    "### Обработайте пропуски при необходимости:"
   ]
  },
  {
   "cell_type": "markdown",
   "metadata": {},
   "source": [
    "Ранее обработали пропуски в year_of_release, теперь глянем что у нас с __name, genre, critic_score, user_score, rating__"
   ]
  },
  {
   "cell_type": "code",
   "execution_count": 23,
   "metadata": {},
   "outputs": [
    {
     "data": {
      "text/plain": [
       "name                  2\n",
       "platform              0\n",
       "year_of_release       0\n",
       "genre                 2\n",
       "na_sales              0\n",
       "eu_sales              0\n",
       "jp_sales              0\n",
       "other_sales           0\n",
       "critic_score       8463\n",
       "user_score         8983\n",
       "rating             6678\n",
       "dtype: int64"
      ]
     },
     "metadata": {},
     "output_type": "display_data"
    },
    {
     "data": {
      "text/plain": [
       "name               0.000122\n",
       "platform           0.000000\n",
       "year_of_release    0.000000\n",
       "genre              0.000122\n",
       "na_sales           0.000000\n",
       "eu_sales           0.000000\n",
       "jp_sales           0.000000\n",
       "other_sales        0.000000\n",
       "critic_score       0.514593\n",
       "user_score         0.546212\n",
       "rating             0.406056\n",
       "dtype: float64"
      ]
     },
     "metadata": {},
     "output_type": "display_data"
    }
   ],
   "source": [
    "# глянем на кол-во пропусков и их доли, чтобы было понятно много их или мало по отношених ко всем данным\n",
    "\n",
    "display(data.isna().sum())\n",
    "display(data.isna().mean())"
   ]
  },
  {
   "cell_type": "code",
   "execution_count": 24,
   "metadata": {},
   "outputs": [
    {
     "data": {
      "text/html": [
       "<style  type=\"text/css\" >\n",
       "#T_9c9e7_row0_col0{\n",
       "            background-color:  #b40426;\n",
       "            color:  #f1f1f1;\n",
       "        }#T_9c9e7_row1_col0{\n",
       "            background-color:  #c83836;\n",
       "            color:  #f1f1f1;\n",
       "        }#T_9c9e7_row2_col0{\n",
       "            background-color:  #f59c7d;\n",
       "            color:  #000000;\n",
       "        }#T_9c9e7_row3_col0,#T_9c9e7_row4_col0,#T_9c9e7_row5_col0,#T_9c9e7_row6_col0,#T_9c9e7_row7_col0,#T_9c9e7_row8_col0,#T_9c9e7_row9_col0,#T_9c9e7_row10_col0{\n",
       "            background-color:  #3b4cc0;\n",
       "            color:  #f1f1f1;\n",
       "        }</style><table id=\"T_9c9e7_\" ><thead>    <tr>        <th class=\"blank level0\" ></th>        <th class=\"col_heading level0 col0\" >0</th>    </tr></thead><tbody>\n",
       "                <tr>\n",
       "                        <th id=\"T_9c9e7_level0_row0\" class=\"row_heading level0 row0\" >user_score</th>\n",
       "                        <td id=\"T_9c9e7_row0_col0\" class=\"data row0 col0\" >54.600000</td>\n",
       "            </tr>\n",
       "            <tr>\n",
       "                        <th id=\"T_9c9e7_level0_row1\" class=\"row_heading level0 row1\" >critic_score</th>\n",
       "                        <td id=\"T_9c9e7_row1_col0\" class=\"data row1 col0\" >51.500000</td>\n",
       "            </tr>\n",
       "            <tr>\n",
       "                        <th id=\"T_9c9e7_level0_row2\" class=\"row_heading level0 row2\" >rating</th>\n",
       "                        <td id=\"T_9c9e7_row2_col0\" class=\"data row2 col0\" >40.600000</td>\n",
       "            </tr>\n",
       "            <tr>\n",
       "                        <th id=\"T_9c9e7_level0_row3\" class=\"row_heading level0 row3\" >name</th>\n",
       "                        <td id=\"T_9c9e7_row3_col0\" class=\"data row3 col0\" >0.000000</td>\n",
       "            </tr>\n",
       "            <tr>\n",
       "                        <th id=\"T_9c9e7_level0_row4\" class=\"row_heading level0 row4\" >genre</th>\n",
       "                        <td id=\"T_9c9e7_row4_col0\" class=\"data row4 col0\" >0.000000</td>\n",
       "            </tr>\n",
       "            <tr>\n",
       "                        <th id=\"T_9c9e7_level0_row5\" class=\"row_heading level0 row5\" >platform</th>\n",
       "                        <td id=\"T_9c9e7_row5_col0\" class=\"data row5 col0\" >0.000000</td>\n",
       "            </tr>\n",
       "            <tr>\n",
       "                        <th id=\"T_9c9e7_level0_row6\" class=\"row_heading level0 row6\" >year_of_release</th>\n",
       "                        <td id=\"T_9c9e7_row6_col0\" class=\"data row6 col0\" >0.000000</td>\n",
       "            </tr>\n",
       "            <tr>\n",
       "                        <th id=\"T_9c9e7_level0_row7\" class=\"row_heading level0 row7\" >na_sales</th>\n",
       "                        <td id=\"T_9c9e7_row7_col0\" class=\"data row7 col0\" >0.000000</td>\n",
       "            </tr>\n",
       "            <tr>\n",
       "                        <th id=\"T_9c9e7_level0_row8\" class=\"row_heading level0 row8\" >eu_sales</th>\n",
       "                        <td id=\"T_9c9e7_row8_col0\" class=\"data row8 col0\" >0.000000</td>\n",
       "            </tr>\n",
       "            <tr>\n",
       "                        <th id=\"T_9c9e7_level0_row9\" class=\"row_heading level0 row9\" >jp_sales</th>\n",
       "                        <td id=\"T_9c9e7_row9_col0\" class=\"data row9 col0\" >0.000000</td>\n",
       "            </tr>\n",
       "            <tr>\n",
       "                        <th id=\"T_9c9e7_level0_row10\" class=\"row_heading level0 row10\" >other_sales</th>\n",
       "                        <td id=\"T_9c9e7_row10_col0\" class=\"data row10 col0\" >0.000000</td>\n",
       "            </tr>\n",
       "    </tbody></table>"
      ],
      "text/plain": [
       "<pandas.io.formats.style.Styler at 0x7febbba9d460>"
      ]
     },
     "execution_count": 24,
     "metadata": {},
     "output_type": "execute_result"
    }
   ],
   "source": [
    "# посмотрим долю пропусков \n",
    "\n",
    "pd.DataFrame(round(data.isna().mean().sort_values(ascending=False)*100,1)).style.background_gradient('coolwarm')"
   ]
  },
  {
   "cell_type": "markdown",
   "metadata": {},
   "source": [
    "__name__ и __genre__ - имеют по два пропуска, возможно это одни и те же игры, глянем на них поближе."
   ]
  },
  {
   "cell_type": "code",
   "execution_count": 25,
   "metadata": {},
   "outputs": [
    {
     "data": {
      "text/html": [
       "<div>\n",
       "<style scoped>\n",
       "    .dataframe tbody tr th:only-of-type {\n",
       "        vertical-align: middle;\n",
       "    }\n",
       "\n",
       "    .dataframe tbody tr th {\n",
       "        vertical-align: top;\n",
       "    }\n",
       "\n",
       "    .dataframe thead th {\n",
       "        text-align: right;\n",
       "    }\n",
       "</style>\n",
       "<table border=\"1\" class=\"dataframe\">\n",
       "  <thead>\n",
       "    <tr style=\"text-align: right;\">\n",
       "      <th></th>\n",
       "      <th>name</th>\n",
       "      <th>platform</th>\n",
       "      <th>year_of_release</th>\n",
       "      <th>genre</th>\n",
       "      <th>na_sales</th>\n",
       "      <th>eu_sales</th>\n",
       "      <th>jp_sales</th>\n",
       "      <th>other_sales</th>\n",
       "      <th>critic_score</th>\n",
       "      <th>user_score</th>\n",
       "      <th>rating</th>\n",
       "    </tr>\n",
       "  </thead>\n",
       "  <tbody>\n",
       "    <tr>\n",
       "      <th>652</th>\n",
       "      <td>NaN</td>\n",
       "      <td>GEN</td>\n",
       "      <td>1993</td>\n",
       "      <td>NaN</td>\n",
       "      <td>1.78</td>\n",
       "      <td>0.53</td>\n",
       "      <td>0.00</td>\n",
       "      <td>0.08</td>\n",
       "      <td>NaN</td>\n",
       "      <td>NaN</td>\n",
       "      <td>NaN</td>\n",
       "    </tr>\n",
       "    <tr>\n",
       "      <th>14022</th>\n",
       "      <td>NaN</td>\n",
       "      <td>GEN</td>\n",
       "      <td>1993</td>\n",
       "      <td>NaN</td>\n",
       "      <td>0.00</td>\n",
       "      <td>0.00</td>\n",
       "      <td>0.03</td>\n",
       "      <td>0.00</td>\n",
       "      <td>NaN</td>\n",
       "      <td>NaN</td>\n",
       "      <td>NaN</td>\n",
       "    </tr>\n",
       "  </tbody>\n",
       "</table>\n",
       "</div>"
      ],
      "text/plain": [
       "      name platform  year_of_release genre  na_sales  eu_sales  jp_sales  \\\n",
       "652    NaN      GEN             1993   NaN      1.78      0.53      0.00   \n",
       "14022  NaN      GEN             1993   NaN      0.00      0.00      0.03   \n",
       "\n",
       "       other_sales  critic_score  user_score rating  \n",
       "652           0.08           NaN         NaN    NaN  \n",
       "14022         0.00           NaN         NaN    NaN  "
      ]
     },
     "execution_count": 25,
     "metadata": {},
     "output_type": "execute_result"
    }
   ],
   "source": [
    "data[data['name'].isna() & data['genre'].isna()]"
   ]
  },
  {
   "cell_type": "markdown",
   "metadata": {},
   "source": [
    "Получается наши предположения были верны, избавимся от них."
   ]
  },
  {
   "cell_type": "code",
   "execution_count": 26,
   "metadata": {},
   "outputs": [
    {
     "data": {
      "text/plain": [
       "16446"
      ]
     },
     "execution_count": 26,
     "metadata": {},
     "output_type": "execute_result"
    }
   ],
   "source": [
    "# длина до\n",
    "data.shape[0]"
   ]
  },
  {
   "cell_type": "code",
   "execution_count": 27,
   "metadata": {},
   "outputs": [
    {
     "data": {
      "text/plain": [
       "16444"
      ]
     },
     "execution_count": 27,
     "metadata": {},
     "output_type": "execute_result"
    }
   ],
   "source": [
    "data = data.dropna(subset = ['name']).reset_index(drop = True)\n",
    "\n",
    "# длина ПОСЛЕ\n",
    "data.shape[0]"
   ]
  },
  {
   "cell_type": "markdown",
   "metadata": {},
   "source": [
    "__critic_score__ и __user_score__ пропусков в данных столбцах - много, заменять пропуски на медиану или среднее это не совсем логично, т.к это могли быть игры либо старых годов выпуска, либо игры которые выпускались маленькими геймдев студиями, либо просто не имели популярность и тд, много различных факторов.\n",
    "\n",
    "Удалять их тоже нельзя, тк их больше 8000, что состовляет почти половину нашего датасета. Оставим их, как есть\n",
    "\n"
   ]
  },
  {
   "cell_type": "code",
   "execution_count": 28,
   "metadata": {},
   "outputs": [
    {
     "data": {
      "text/html": [
       "<div>\n",
       "<style scoped>\n",
       "    .dataframe tbody tr th:only-of-type {\n",
       "        vertical-align: middle;\n",
       "    }\n",
       "\n",
       "    .dataframe tbody tr th {\n",
       "        vertical-align: top;\n",
       "    }\n",
       "\n",
       "    .dataframe thead th {\n",
       "        text-align: right;\n",
       "    }\n",
       "</style>\n",
       "<table border=\"1\" class=\"dataframe\">\n",
       "  <thead>\n",
       "    <tr style=\"text-align: right;\">\n",
       "      <th></th>\n",
       "      <th>name</th>\n",
       "      <th>platform</th>\n",
       "      <th>year_of_release</th>\n",
       "      <th>genre</th>\n",
       "      <th>na_sales</th>\n",
       "      <th>eu_sales</th>\n",
       "      <th>jp_sales</th>\n",
       "      <th>other_sales</th>\n",
       "      <th>critic_score</th>\n",
       "      <th>user_score</th>\n",
       "      <th>rating</th>\n",
       "    </tr>\n",
       "  </thead>\n",
       "  <tbody>\n",
       "    <tr>\n",
       "      <th>1</th>\n",
       "      <td>Super Mario Bros.</td>\n",
       "      <td>NES</td>\n",
       "      <td>1985</td>\n",
       "      <td>Platform</td>\n",
       "      <td>29.08</td>\n",
       "      <td>3.58</td>\n",
       "      <td>6.81</td>\n",
       "      <td>0.77</td>\n",
       "      <td>NaN</td>\n",
       "      <td>NaN</td>\n",
       "      <td>NaN</td>\n",
       "    </tr>\n",
       "    <tr>\n",
       "      <th>4</th>\n",
       "      <td>Pokemon Red/Pokemon Blue</td>\n",
       "      <td>GB</td>\n",
       "      <td>1996</td>\n",
       "      <td>Role-Playing</td>\n",
       "      <td>11.27</td>\n",
       "      <td>8.89</td>\n",
       "      <td>10.22</td>\n",
       "      <td>1.00</td>\n",
       "      <td>NaN</td>\n",
       "      <td>NaN</td>\n",
       "      <td>NaN</td>\n",
       "    </tr>\n",
       "    <tr>\n",
       "      <th>5</th>\n",
       "      <td>Tetris</td>\n",
       "      <td>GB</td>\n",
       "      <td>1989</td>\n",
       "      <td>Puzzle</td>\n",
       "      <td>23.20</td>\n",
       "      <td>2.26</td>\n",
       "      <td>4.22</td>\n",
       "      <td>0.58</td>\n",
       "      <td>NaN</td>\n",
       "      <td>NaN</td>\n",
       "      <td>NaN</td>\n",
       "    </tr>\n",
       "    <tr>\n",
       "      <th>9</th>\n",
       "      <td>Duck Hunt</td>\n",
       "      <td>NES</td>\n",
       "      <td>1984</td>\n",
       "      <td>Shooter</td>\n",
       "      <td>26.93</td>\n",
       "      <td>0.63</td>\n",
       "      <td>0.28</td>\n",
       "      <td>0.47</td>\n",
       "      <td>NaN</td>\n",
       "      <td>NaN</td>\n",
       "      <td>NaN</td>\n",
       "    </tr>\n",
       "    <tr>\n",
       "      <th>10</th>\n",
       "      <td>Nintendogs</td>\n",
       "      <td>DS</td>\n",
       "      <td>2005</td>\n",
       "      <td>Simulation</td>\n",
       "      <td>9.05</td>\n",
       "      <td>10.95</td>\n",
       "      <td>1.93</td>\n",
       "      <td>2.74</td>\n",
       "      <td>NaN</td>\n",
       "      <td>NaN</td>\n",
       "      <td>NaN</td>\n",
       "    </tr>\n",
       "    <tr>\n",
       "      <th>...</th>\n",
       "      <td>...</td>\n",
       "      <td>...</td>\n",
       "      <td>...</td>\n",
       "      <td>...</td>\n",
       "      <td>...</td>\n",
       "      <td>...</td>\n",
       "      <td>...</td>\n",
       "      <td>...</td>\n",
       "      <td>...</td>\n",
       "      <td>...</td>\n",
       "      <td>...</td>\n",
       "    </tr>\n",
       "    <tr>\n",
       "      <th>16439</th>\n",
       "      <td>Samurai Warriors: Sanada Maru</td>\n",
       "      <td>PS3</td>\n",
       "      <td>2016</td>\n",
       "      <td>Action</td>\n",
       "      <td>0.00</td>\n",
       "      <td>0.00</td>\n",
       "      <td>0.01</td>\n",
       "      <td>0.00</td>\n",
       "      <td>NaN</td>\n",
       "      <td>NaN</td>\n",
       "      <td>NaN</td>\n",
       "    </tr>\n",
       "    <tr>\n",
       "      <th>16440</th>\n",
       "      <td>LMA Manager 2007</td>\n",
       "      <td>X360</td>\n",
       "      <td>2006</td>\n",
       "      <td>Sports</td>\n",
       "      <td>0.00</td>\n",
       "      <td>0.01</td>\n",
       "      <td>0.00</td>\n",
       "      <td>0.00</td>\n",
       "      <td>NaN</td>\n",
       "      <td>NaN</td>\n",
       "      <td>NaN</td>\n",
       "    </tr>\n",
       "    <tr>\n",
       "      <th>16441</th>\n",
       "      <td>Haitaka no Psychedelica</td>\n",
       "      <td>PSV</td>\n",
       "      <td>2016</td>\n",
       "      <td>Adventure</td>\n",
       "      <td>0.00</td>\n",
       "      <td>0.00</td>\n",
       "      <td>0.01</td>\n",
       "      <td>0.00</td>\n",
       "      <td>NaN</td>\n",
       "      <td>NaN</td>\n",
       "      <td>NaN</td>\n",
       "    </tr>\n",
       "    <tr>\n",
       "      <th>16442</th>\n",
       "      <td>Spirits &amp; Spells</td>\n",
       "      <td>GBA</td>\n",
       "      <td>2003</td>\n",
       "      <td>Platform</td>\n",
       "      <td>0.01</td>\n",
       "      <td>0.00</td>\n",
       "      <td>0.00</td>\n",
       "      <td>0.00</td>\n",
       "      <td>NaN</td>\n",
       "      <td>NaN</td>\n",
       "      <td>NaN</td>\n",
       "    </tr>\n",
       "    <tr>\n",
       "      <th>16443</th>\n",
       "      <td>Winning Post 8 2016</td>\n",
       "      <td>PSV</td>\n",
       "      <td>2016</td>\n",
       "      <td>Simulation</td>\n",
       "      <td>0.00</td>\n",
       "      <td>0.00</td>\n",
       "      <td>0.01</td>\n",
       "      <td>0.00</td>\n",
       "      <td>NaN</td>\n",
       "      <td>NaN</td>\n",
       "      <td>NaN</td>\n",
       "    </tr>\n",
       "  </tbody>\n",
       "</table>\n",
       "<p>8461 rows × 11 columns</p>\n",
       "</div>"
      ],
      "text/plain": [
       "                                name platform  year_of_release         genre  \\\n",
       "1                  Super Mario Bros.      NES             1985      Platform   \n",
       "4           Pokemon Red/Pokemon Blue       GB             1996  Role-Playing   \n",
       "5                             Tetris       GB             1989        Puzzle   \n",
       "9                          Duck Hunt      NES             1984       Shooter   \n",
       "10                        Nintendogs       DS             2005    Simulation   \n",
       "...                              ...      ...              ...           ...   \n",
       "16439  Samurai Warriors: Sanada Maru      PS3             2016        Action   \n",
       "16440               LMA Manager 2007     X360             2006        Sports   \n",
       "16441        Haitaka no Psychedelica      PSV             2016     Adventure   \n",
       "16442               Spirits & Spells      GBA             2003      Platform   \n",
       "16443            Winning Post 8 2016      PSV             2016    Simulation   \n",
       "\n",
       "       na_sales  eu_sales  jp_sales  other_sales  critic_score  user_score  \\\n",
       "1         29.08      3.58      6.81         0.77           NaN         NaN   \n",
       "4         11.27      8.89     10.22         1.00           NaN         NaN   \n",
       "5         23.20      2.26      4.22         0.58           NaN         NaN   \n",
       "9         26.93      0.63      0.28         0.47           NaN         NaN   \n",
       "10         9.05     10.95      1.93         2.74           NaN         NaN   \n",
       "...         ...       ...       ...          ...           ...         ...   \n",
       "16439      0.00      0.00      0.01         0.00           NaN         NaN   \n",
       "16440      0.00      0.01      0.00         0.00           NaN         NaN   \n",
       "16441      0.00      0.00      0.01         0.00           NaN         NaN   \n",
       "16442      0.01      0.00      0.00         0.00           NaN         NaN   \n",
       "16443      0.00      0.00      0.01         0.00           NaN         NaN   \n",
       "\n",
       "      rating  \n",
       "1        NaN  \n",
       "4        NaN  \n",
       "5        NaN  \n",
       "9        NaN  \n",
       "10       NaN  \n",
       "...      ...  \n",
       "16439    NaN  \n",
       "16440    NaN  \n",
       "16441    NaN  \n",
       "16442    NaN  \n",
       "16443    NaN  \n",
       "\n",
       "[8461 rows x 11 columns]"
      ]
     },
     "metadata": {},
     "output_type": "display_data"
    },
    {
     "data": {
      "text/html": [
       "<div>\n",
       "<style scoped>\n",
       "    .dataframe tbody tr th:only-of-type {\n",
       "        vertical-align: middle;\n",
       "    }\n",
       "\n",
       "    .dataframe tbody tr th {\n",
       "        vertical-align: top;\n",
       "    }\n",
       "\n",
       "    .dataframe thead th {\n",
       "        text-align: right;\n",
       "    }\n",
       "</style>\n",
       "<table border=\"1\" class=\"dataframe\">\n",
       "  <thead>\n",
       "    <tr style=\"text-align: right;\">\n",
       "      <th></th>\n",
       "      <th>name</th>\n",
       "      <th>platform</th>\n",
       "      <th>year_of_release</th>\n",
       "      <th>genre</th>\n",
       "      <th>na_sales</th>\n",
       "      <th>eu_sales</th>\n",
       "      <th>jp_sales</th>\n",
       "      <th>other_sales</th>\n",
       "      <th>critic_score</th>\n",
       "      <th>user_score</th>\n",
       "      <th>rating</th>\n",
       "    </tr>\n",
       "  </thead>\n",
       "  <tbody>\n",
       "    <tr>\n",
       "      <th>1</th>\n",
       "      <td>Super Mario Bros.</td>\n",
       "      <td>NES</td>\n",
       "      <td>1985</td>\n",
       "      <td>Platform</td>\n",
       "      <td>29.08</td>\n",
       "      <td>3.58</td>\n",
       "      <td>6.81</td>\n",
       "      <td>0.77</td>\n",
       "      <td>NaN</td>\n",
       "      <td>NaN</td>\n",
       "      <td>NaN</td>\n",
       "    </tr>\n",
       "    <tr>\n",
       "      <th>4</th>\n",
       "      <td>Pokemon Red/Pokemon Blue</td>\n",
       "      <td>GB</td>\n",
       "      <td>1996</td>\n",
       "      <td>Role-Playing</td>\n",
       "      <td>11.27</td>\n",
       "      <td>8.89</td>\n",
       "      <td>10.22</td>\n",
       "      <td>1.00</td>\n",
       "      <td>NaN</td>\n",
       "      <td>NaN</td>\n",
       "      <td>NaN</td>\n",
       "    </tr>\n",
       "    <tr>\n",
       "      <th>5</th>\n",
       "      <td>Tetris</td>\n",
       "      <td>GB</td>\n",
       "      <td>1989</td>\n",
       "      <td>Puzzle</td>\n",
       "      <td>23.20</td>\n",
       "      <td>2.26</td>\n",
       "      <td>4.22</td>\n",
       "      <td>0.58</td>\n",
       "      <td>NaN</td>\n",
       "      <td>NaN</td>\n",
       "      <td>NaN</td>\n",
       "    </tr>\n",
       "    <tr>\n",
       "      <th>9</th>\n",
       "      <td>Duck Hunt</td>\n",
       "      <td>NES</td>\n",
       "      <td>1984</td>\n",
       "      <td>Shooter</td>\n",
       "      <td>26.93</td>\n",
       "      <td>0.63</td>\n",
       "      <td>0.28</td>\n",
       "      <td>0.47</td>\n",
       "      <td>NaN</td>\n",
       "      <td>NaN</td>\n",
       "      <td>NaN</td>\n",
       "    </tr>\n",
       "    <tr>\n",
       "      <th>10</th>\n",
       "      <td>Nintendogs</td>\n",
       "      <td>DS</td>\n",
       "      <td>2005</td>\n",
       "      <td>Simulation</td>\n",
       "      <td>9.05</td>\n",
       "      <td>10.95</td>\n",
       "      <td>1.93</td>\n",
       "      <td>2.74</td>\n",
       "      <td>NaN</td>\n",
       "      <td>NaN</td>\n",
       "      <td>NaN</td>\n",
       "    </tr>\n",
       "    <tr>\n",
       "      <th>...</th>\n",
       "      <td>...</td>\n",
       "      <td>...</td>\n",
       "      <td>...</td>\n",
       "      <td>...</td>\n",
       "      <td>...</td>\n",
       "      <td>...</td>\n",
       "      <td>...</td>\n",
       "      <td>...</td>\n",
       "      <td>...</td>\n",
       "      <td>...</td>\n",
       "      <td>...</td>\n",
       "    </tr>\n",
       "    <tr>\n",
       "      <th>16439</th>\n",
       "      <td>Samurai Warriors: Sanada Maru</td>\n",
       "      <td>PS3</td>\n",
       "      <td>2016</td>\n",
       "      <td>Action</td>\n",
       "      <td>0.00</td>\n",
       "      <td>0.00</td>\n",
       "      <td>0.01</td>\n",
       "      <td>0.00</td>\n",
       "      <td>NaN</td>\n",
       "      <td>NaN</td>\n",
       "      <td>NaN</td>\n",
       "    </tr>\n",
       "    <tr>\n",
       "      <th>16440</th>\n",
       "      <td>LMA Manager 2007</td>\n",
       "      <td>X360</td>\n",
       "      <td>2006</td>\n",
       "      <td>Sports</td>\n",
       "      <td>0.00</td>\n",
       "      <td>0.01</td>\n",
       "      <td>0.00</td>\n",
       "      <td>0.00</td>\n",
       "      <td>NaN</td>\n",
       "      <td>NaN</td>\n",
       "      <td>NaN</td>\n",
       "    </tr>\n",
       "    <tr>\n",
       "      <th>16441</th>\n",
       "      <td>Haitaka no Psychedelica</td>\n",
       "      <td>PSV</td>\n",
       "      <td>2016</td>\n",
       "      <td>Adventure</td>\n",
       "      <td>0.00</td>\n",
       "      <td>0.00</td>\n",
       "      <td>0.01</td>\n",
       "      <td>0.00</td>\n",
       "      <td>NaN</td>\n",
       "      <td>NaN</td>\n",
       "      <td>NaN</td>\n",
       "    </tr>\n",
       "    <tr>\n",
       "      <th>16442</th>\n",
       "      <td>Spirits &amp; Spells</td>\n",
       "      <td>GBA</td>\n",
       "      <td>2003</td>\n",
       "      <td>Platform</td>\n",
       "      <td>0.01</td>\n",
       "      <td>0.00</td>\n",
       "      <td>0.00</td>\n",
       "      <td>0.00</td>\n",
       "      <td>NaN</td>\n",
       "      <td>NaN</td>\n",
       "      <td>NaN</td>\n",
       "    </tr>\n",
       "    <tr>\n",
       "      <th>16443</th>\n",
       "      <td>Winning Post 8 2016</td>\n",
       "      <td>PSV</td>\n",
       "      <td>2016</td>\n",
       "      <td>Simulation</td>\n",
       "      <td>0.00</td>\n",
       "      <td>0.00</td>\n",
       "      <td>0.01</td>\n",
       "      <td>0.00</td>\n",
       "      <td>NaN</td>\n",
       "      <td>NaN</td>\n",
       "      <td>NaN</td>\n",
       "    </tr>\n",
       "  </tbody>\n",
       "</table>\n",
       "<p>8981 rows × 11 columns</p>\n",
       "</div>"
      ],
      "text/plain": [
       "                                name platform  year_of_release         genre  \\\n",
       "1                  Super Mario Bros.      NES             1985      Platform   \n",
       "4           Pokemon Red/Pokemon Blue       GB             1996  Role-Playing   \n",
       "5                             Tetris       GB             1989        Puzzle   \n",
       "9                          Duck Hunt      NES             1984       Shooter   \n",
       "10                        Nintendogs       DS             2005    Simulation   \n",
       "...                              ...      ...              ...           ...   \n",
       "16439  Samurai Warriors: Sanada Maru      PS3             2016        Action   \n",
       "16440               LMA Manager 2007     X360             2006        Sports   \n",
       "16441        Haitaka no Psychedelica      PSV             2016     Adventure   \n",
       "16442               Spirits & Spells      GBA             2003      Platform   \n",
       "16443            Winning Post 8 2016      PSV             2016    Simulation   \n",
       "\n",
       "       na_sales  eu_sales  jp_sales  other_sales  critic_score  user_score  \\\n",
       "1         29.08      3.58      6.81         0.77           NaN         NaN   \n",
       "4         11.27      8.89     10.22         1.00           NaN         NaN   \n",
       "5         23.20      2.26      4.22         0.58           NaN         NaN   \n",
       "9         26.93      0.63      0.28         0.47           NaN         NaN   \n",
       "10         9.05     10.95      1.93         2.74           NaN         NaN   \n",
       "...         ...       ...       ...          ...           ...         ...   \n",
       "16439      0.00      0.00      0.01         0.00           NaN         NaN   \n",
       "16440      0.00      0.01      0.00         0.00           NaN         NaN   \n",
       "16441      0.00      0.00      0.01         0.00           NaN         NaN   \n",
       "16442      0.01      0.00      0.00         0.00           NaN         NaN   \n",
       "16443      0.00      0.00      0.01         0.00           NaN         NaN   \n",
       "\n",
       "      rating  \n",
       "1        NaN  \n",
       "4        NaN  \n",
       "5        NaN  \n",
       "9        NaN  \n",
       "10       NaN  \n",
       "...      ...  \n",
       "16439    NaN  \n",
       "16440    NaN  \n",
       "16441    NaN  \n",
       "16442    NaN  \n",
       "16443    NaN  \n",
       "\n",
       "[8981 rows x 11 columns]"
      ]
     },
     "metadata": {},
     "output_type": "display_data"
    }
   ],
   "source": [
    "display(data[data['critic_score'].isna()])\n",
    "display(data[data['user_score'].isna()])"
   ]
  },
  {
   "cell_type": "code",
   "execution_count": null,
   "metadata": {},
   "outputs": [],
   "source": []
  },
  {
   "cell_type": "markdown",
   "metadata": {},
   "source": [
    "__rating__ - рейтинг от организации ESRB (англ. Entertainment Software Rating Board). Эта ассоциация определяет рейтинг компьютерных игр и присваивает им подходящую возрастную категорию. Погуглив имеем следующее вредставление о рейтингах.\n",
    "\n",
    "      «EC» («Early childhood») — «Для детей младшего возраста»\n",
    "      \n",
    "      «E» («Everyone») — «Для всех»: Содержание вполне подходит для всех возрастов (ранее с 6 лет). Игры с этим рейтингом могут содержать минимальное насилие, в основном «мультяшного» характера. Первоначально \"K-A\" (\"Kids to Adults\")\n",
    "      \n",
    "      «E10+» («Everyone 10 and older») — «Для всех от 10 лет и старше»\n",
    "      \n",
    "      «T» («Teen») — «Подросткам»: Игра подходит для лиц от 13 лет\n",
    "      \n",
    "      «M» («Mature») — «Для взрослых»: Материалы игры не подходят для лиц младше 17 лет.\n",
    "      \n",
    "      «AO» («Adults Only 18+») — «Только для взрослых»: Содержание игры только для взрослых старше 18 лет.\n",
    "      \n",
    "      «RP» («Rating Pending») — «Рейтинг ожидается»\n",
    "      \n",
    "У нас имеются игры со старой аббревиатурой \"К-А\", заменим ее на текущий \"Е\" рейтинг, рейтинг \"RP\" - по сути это пустое на данный момент значение, его можно заменить на новое значение \"NR\"(no rating - нет рейтинга), так же поступим и с пропущенными значениями."
   ]
  },
  {
   "cell_type": "code",
   "execution_count": 29,
   "metadata": {},
   "outputs": [
    {
     "data": {
      "text/plain": [
       "E       3921\n",
       "T       2905\n",
       "M       1536\n",
       "E10+    1393\n",
       "EC         8\n",
       "K-A        3\n",
       "AO         1\n",
       "RP         1\n",
       "Name: rating, dtype: int64"
      ]
     },
     "execution_count": 29,
     "metadata": {},
     "output_type": "execute_result"
    }
   ],
   "source": [
    "data['rating'].value_counts()"
   ]
  },
  {
   "cell_type": "code",
   "execution_count": 30,
   "metadata": {},
   "outputs": [],
   "source": [
    "# заменим К-А на Е рейтинг и RP на NR\n",
    "data['rating'] = data['rating'].replace('K-A', 'E')\n",
    "data['rating'] = data['rating'].replace('RP', 'NR')"
   ]
  },
  {
   "cell_type": "code",
   "execution_count": 31,
   "metadata": {},
   "outputs": [],
   "source": [
    "# заполним пустые значения на NR - no rating\n",
    "\n",
    "data['rating'] = data['rating'].fillna('NR')"
   ]
  },
  {
   "cell_type": "code",
   "execution_count": 32,
   "metadata": {},
   "outputs": [
    {
     "data": {
      "text/plain": [
       "NR      6677\n",
       "E       3924\n",
       "T       2905\n",
       "M       1536\n",
       "E10+    1393\n",
       "EC         8\n",
       "AO         1\n",
       "Name: rating, dtype: int64"
      ]
     },
     "execution_count": 32,
     "metadata": {},
     "output_type": "execute_result"
    }
   ],
   "source": [
    "data['rating'].value_counts()"
   ]
  },
  {
   "cell_type": "code",
   "execution_count": 33,
   "metadata": {},
   "outputs": [
    {
     "data": {
      "text/plain": [
       "name                  0\n",
       "platform              0\n",
       "year_of_release       0\n",
       "genre                 0\n",
       "na_sales              0\n",
       "eu_sales              0\n",
       "jp_sales              0\n",
       "other_sales           0\n",
       "critic_score       8461\n",
       "user_score         8981\n",
       "rating                0\n",
       "dtype: int64"
      ]
     },
     "execution_count": 33,
     "metadata": {},
     "output_type": "execute_result"
    }
   ],
   "source": [
    "# проверим, что у нас получилось\n",
    "\n",
    "data.isna().sum()"
   ]
  },
  {
   "cell_type": "markdown",
   "metadata": {},
   "source": [
    "\n",
    "На данном этапе мы проделали следующие действия : удалили строки с пустыми значениями в имени и жанре, переименовали и добавили новую котегорию в возростном рейтинге, оценки критиков и пользователей решили отсавить как есть. "
   ]
  },
  {
   "cell_type": "markdown",
   "metadata": {},
   "source": [
    "### Посчитайте суммарные продажи во всех регионах и запишите их в отдельный столбец."
   ]
  },
  {
   "cell_type": "code",
   "execution_count": 34,
   "metadata": {},
   "outputs": [],
   "source": [
    "# создадим столбец total_sales, сложим все продажи по регионм и запишем в него результат.\n",
    "\n",
    "data['total_sales'] = data['na_sales'] + data['eu_sales'] + data['jp_sales'] + data['other_sales']"
   ]
  },
  {
   "cell_type": "code",
   "execution_count": 35,
   "metadata": {},
   "outputs": [
    {
     "data": {
      "text/html": [
       "<div>\n",
       "<style scoped>\n",
       "    .dataframe tbody tr th:only-of-type {\n",
       "        vertical-align: middle;\n",
       "    }\n",
       "\n",
       "    .dataframe tbody tr th {\n",
       "        vertical-align: top;\n",
       "    }\n",
       "\n",
       "    .dataframe thead th {\n",
       "        text-align: right;\n",
       "    }\n",
       "</style>\n",
       "<table border=\"1\" class=\"dataframe\">\n",
       "  <thead>\n",
       "    <tr style=\"text-align: right;\">\n",
       "      <th></th>\n",
       "      <th>name</th>\n",
       "      <th>platform</th>\n",
       "      <th>year_of_release</th>\n",
       "      <th>genre</th>\n",
       "      <th>na_sales</th>\n",
       "      <th>eu_sales</th>\n",
       "      <th>jp_sales</th>\n",
       "      <th>other_sales</th>\n",
       "      <th>critic_score</th>\n",
       "      <th>user_score</th>\n",
       "      <th>rating</th>\n",
       "      <th>total_sales</th>\n",
       "    </tr>\n",
       "  </thead>\n",
       "  <tbody>\n",
       "    <tr>\n",
       "      <th>0</th>\n",
       "      <td>Wii Sports</td>\n",
       "      <td>Wii</td>\n",
       "      <td>2006</td>\n",
       "      <td>Sports</td>\n",
       "      <td>41.36</td>\n",
       "      <td>28.96</td>\n",
       "      <td>3.77</td>\n",
       "      <td>8.45</td>\n",
       "      <td>76.0</td>\n",
       "      <td>8.0</td>\n",
       "      <td>E</td>\n",
       "      <td>82.54</td>\n",
       "    </tr>\n",
       "    <tr>\n",
       "      <th>1</th>\n",
       "      <td>Super Mario Bros.</td>\n",
       "      <td>NES</td>\n",
       "      <td>1985</td>\n",
       "      <td>Platform</td>\n",
       "      <td>29.08</td>\n",
       "      <td>3.58</td>\n",
       "      <td>6.81</td>\n",
       "      <td>0.77</td>\n",
       "      <td>NaN</td>\n",
       "      <td>NaN</td>\n",
       "      <td>NR</td>\n",
       "      <td>40.24</td>\n",
       "    </tr>\n",
       "    <tr>\n",
       "      <th>2</th>\n",
       "      <td>Mario Kart Wii</td>\n",
       "      <td>Wii</td>\n",
       "      <td>2008</td>\n",
       "      <td>Racing</td>\n",
       "      <td>15.68</td>\n",
       "      <td>12.76</td>\n",
       "      <td>3.79</td>\n",
       "      <td>3.29</td>\n",
       "      <td>82.0</td>\n",
       "      <td>8.3</td>\n",
       "      <td>E</td>\n",
       "      <td>35.52</td>\n",
       "    </tr>\n",
       "    <tr>\n",
       "      <th>3</th>\n",
       "      <td>Wii Sports Resort</td>\n",
       "      <td>Wii</td>\n",
       "      <td>2009</td>\n",
       "      <td>Sports</td>\n",
       "      <td>15.61</td>\n",
       "      <td>10.93</td>\n",
       "      <td>3.28</td>\n",
       "      <td>2.95</td>\n",
       "      <td>80.0</td>\n",
       "      <td>8.0</td>\n",
       "      <td>E</td>\n",
       "      <td>32.77</td>\n",
       "    </tr>\n",
       "    <tr>\n",
       "      <th>4</th>\n",
       "      <td>Pokemon Red/Pokemon Blue</td>\n",
       "      <td>GB</td>\n",
       "      <td>1996</td>\n",
       "      <td>Role-Playing</td>\n",
       "      <td>11.27</td>\n",
       "      <td>8.89</td>\n",
       "      <td>10.22</td>\n",
       "      <td>1.00</td>\n",
       "      <td>NaN</td>\n",
       "      <td>NaN</td>\n",
       "      <td>NR</td>\n",
       "      <td>31.38</td>\n",
       "    </tr>\n",
       "  </tbody>\n",
       "</table>\n",
       "</div>"
      ],
      "text/plain": [
       "                       name platform  year_of_release         genre  na_sales  \\\n",
       "0                Wii Sports      Wii             2006        Sports     41.36   \n",
       "1         Super Mario Bros.      NES             1985      Platform     29.08   \n",
       "2            Mario Kart Wii      Wii             2008        Racing     15.68   \n",
       "3         Wii Sports Resort      Wii             2009        Sports     15.61   \n",
       "4  Pokemon Red/Pokemon Blue       GB             1996  Role-Playing     11.27   \n",
       "\n",
       "   eu_sales  jp_sales  other_sales  critic_score  user_score rating  \\\n",
       "0     28.96      3.77         8.45          76.0         8.0      E   \n",
       "1      3.58      6.81         0.77           NaN         NaN     NR   \n",
       "2     12.76      3.79         3.29          82.0         8.3      E   \n",
       "3     10.93      3.28         2.95          80.0         8.0      E   \n",
       "4      8.89     10.22         1.00           NaN         NaN     NR   \n",
       "\n",
       "   total_sales  \n",
       "0        82.54  \n",
       "1        40.24  \n",
       "2        35.52  \n",
       "3        32.77  \n",
       "4        31.38  "
      ]
     },
     "execution_count": 35,
     "metadata": {},
     "output_type": "execute_result"
    }
   ],
   "source": [
    "# глянем, что вышло \n",
    "\n",
    "data.head()\n",
    "\n",
    "# ок, едем дальше"
   ]
  },
  {
   "cell_type": "code",
   "execution_count": null,
   "metadata": {},
   "outputs": [],
   "source": []
  },
  {
   "cell_type": "markdown",
   "metadata": {},
   "source": [
    "Выявили неявные дубликаты, чтобы не искажались наши дальнейшие исследования - удалим дубликат с индексом __15969__ тк в нем есть пропуски по продажам, а они нам нужны."
   ]
  },
  {
   "cell_type": "code",
   "execution_count": 36,
   "metadata": {},
   "outputs": [
    {
     "data": {
      "text/html": [
       "<div>\n",
       "<style scoped>\n",
       "    .dataframe tbody tr th:only-of-type {\n",
       "        vertical-align: middle;\n",
       "    }\n",
       "\n",
       "    .dataframe tbody tr th {\n",
       "        vertical-align: top;\n",
       "    }\n",
       "\n",
       "    .dataframe thead th {\n",
       "        text-align: right;\n",
       "    }\n",
       "</style>\n",
       "<table border=\"1\" class=\"dataframe\">\n",
       "  <thead>\n",
       "    <tr style=\"text-align: right;\">\n",
       "      <th></th>\n",
       "      <th>name</th>\n",
       "      <th>platform</th>\n",
       "      <th>year_of_release</th>\n",
       "      <th>genre</th>\n",
       "      <th>na_sales</th>\n",
       "      <th>eu_sales</th>\n",
       "      <th>jp_sales</th>\n",
       "      <th>other_sales</th>\n",
       "      <th>critic_score</th>\n",
       "      <th>user_score</th>\n",
       "      <th>rating</th>\n",
       "      <th>total_sales</th>\n",
       "    </tr>\n",
       "  </thead>\n",
       "  <tbody>\n",
       "    <tr>\n",
       "      <th>600</th>\n",
       "      <td>Madden NFL 13</td>\n",
       "      <td>PS3</td>\n",
       "      <td>2012</td>\n",
       "      <td>Sports</td>\n",
       "      <td>2.11</td>\n",
       "      <td>0.22</td>\n",
       "      <td>0.0</td>\n",
       "      <td>0.23</td>\n",
       "      <td>83.0</td>\n",
       "      <td>5.5</td>\n",
       "      <td>E</td>\n",
       "      <td>2.56</td>\n",
       "    </tr>\n",
       "    <tr>\n",
       "      <th>15969</th>\n",
       "      <td>Madden NFL 13</td>\n",
       "      <td>PS3</td>\n",
       "      <td>2012</td>\n",
       "      <td>Sports</td>\n",
       "      <td>0.00</td>\n",
       "      <td>0.01</td>\n",
       "      <td>0.0</td>\n",
       "      <td>0.00</td>\n",
       "      <td>83.0</td>\n",
       "      <td>5.5</td>\n",
       "      <td>E</td>\n",
       "      <td>0.01</td>\n",
       "    </tr>\n",
       "  </tbody>\n",
       "</table>\n",
       "</div>"
      ],
      "text/plain": [
       "                name platform  year_of_release   genre  na_sales  eu_sales  \\\n",
       "600    Madden NFL 13      PS3             2012  Sports      2.11      0.22   \n",
       "15969  Madden NFL 13      PS3             2012  Sports      0.00      0.01   \n",
       "\n",
       "       jp_sales  other_sales  critic_score  user_score rating  total_sales  \n",
       "600         0.0         0.23          83.0         5.5      E         2.56  \n",
       "15969       0.0         0.00          83.0         5.5      E         0.01  "
      ]
     },
     "execution_count": 36,
     "metadata": {},
     "output_type": "execute_result"
    }
   ],
   "source": [
    "data[data[['name', 'platform','year_of_release']].duplicated(keep = False)]"
   ]
  },
  {
   "cell_type": "code",
   "execution_count": 37,
   "metadata": {},
   "outputs": [],
   "source": [
    "# Удалим его и восстановим индексы\n",
    "\n",
    "data.drop(index = 15969).reset_index(drop = True, inplace= True)"
   ]
  },
  {
   "cell_type": "markdown",
   "metadata": {},
   "source": [
    "Промежуточный вывод.\n",
    "\n",
    "На данном этапе мы проделали следующие операции:\n",
    "\n",
    "    - Заменили названия столбцов (привели к нижнему регистру)\n",
    "    - Изменили типы данных в столбац year_of_release(в int) и user_score(float)\n",
    "    - Обработали пропуски в year_of_release, name, genre, что касается critic_score и user_score - решили оставить как есть, тк заполнить их не чем, а удалять их нельзя, пропусков около 8000.\n",
    "    - добавили новый возрастной рейтинг NR - так мы заполнили пропуски в столбце rating\n",
    "    - добавили новый столбец total_sales\n",
    "    - выявили неявные дубликаты"
   ]
  },
  {
   "cell_type": "markdown",
   "metadata": {},
   "source": [
    "## Проведите исследовательский анализ данных"
   ]
  },
  {
   "cell_type": "markdown",
   "metadata": {},
   "source": [
    "### Посмотрите, сколько игр выпускалось в разные годы. Важны ли данные за все периоды?"
   ]
  },
  {
   "cell_type": "code",
   "execution_count": 38,
   "metadata": {},
   "outputs": [
    {
     "data": {
      "text/plain": [
       "2008    1427\n",
       "2009    1426\n",
       "2010    1255\n",
       "2007    1197\n",
       "2011    1136\n",
       "2006    1006\n",
       "2005     939\n",
       "2002     829\n",
       "2003     775\n",
       "2004     762\n",
       "2012     653\n",
       "2015     606\n",
       "2014     581\n",
       "2013     544\n",
       "2016     502\n",
       "2001     482\n",
       "1998     379\n",
       "2000     350\n",
       "1999     338\n",
       "1997     289\n",
       "1996     263\n",
       "1995     219\n",
       "1994     121\n",
       "1993      60\n",
       "1981      46\n",
       "1992      43\n",
       "1991      41\n",
       "1982      36\n",
       "1986      21\n",
       "1983      17\n",
       "1989      17\n",
       "1990      16\n",
       "1987      16\n",
       "1988      15\n",
       "1985      14\n",
       "1984      14\n",
       "1980       9\n",
       "Name: year_of_release, dtype: int64"
      ]
     },
     "execution_count": 38,
     "metadata": {},
     "output_type": "execute_result"
    }
   ],
   "source": [
    "# взглянем на количество выпущенных игр по годам\n",
    "\n",
    "data['year_of_release'].value_counts()"
   ]
  },
  {
   "cell_type": "code",
   "execution_count": 39,
   "metadata": {},
   "outputs": [
    {
     "data": {
      "image/png": "[encoded data removed]",
      "text/plain": [
       "<Figure size 1080x360 with 1 Axes>"
      ]
     },
     "metadata": {
      "needs_background": "light"
     },
     "output_type": "display_data"
    }
   ],
   "source": [
    "# сгруппируем игры по годам и посчитаем их количество, отобразим на графике\n",
    "\n",
    "plt.figure(figsize = (15, 5))\n",
    "\n",
    "plt.plot(data.groupby('year_of_release')['name'].count(), 'o-', label = 'выпускаемые игры', alpha = 1)\n",
    "plt.xlabel('Год релиза')\n",
    "plt.ylabel('Кол-во игр')\n",
    "plt.title('Количество выпускаемых игр')\n",
    "plt.grid(True)\n",
    "plt.legend()\n",
    "\n",
    "plt.show()"
   ]
  },
  {
   "cell_type": "markdown",
   "metadata": {},
   "source": [
    "Как мы можем заметить стремительный рост по количеству выпускаемых игр приходится на нулевые, тогда на свет вышли такие шедевры как: Warcraft, Max Payne, Command & Conquer: Red Alert 2, Starcraft, Diablo и тд.\n",
    "\n",
    "Пиковые значения приходятся на 2007-2010 года, доходит до ~ 1400 выпускаемых игр в год.\n",
    "\n",
    "__Отвечая на вопрос__ про важность данных за весь период с 80х по 2016, отвечу - на мой вгляд данные до 1991-1993 года - очень малы, пилились малыми студиями, и не имели популярности, а далее в ближайшие пару-тройку лет мир познакомится с PS, Sega,Dendy  и тд, это и перевернет все отношение к видеоиграм и это коммьюнити будет с годами только рости, что в свою очередь будет так сказать поддыкивать геймдевов делать новые игрушки."
   ]
  },
  {
   "cell_type": "markdown",
   "metadata": {},
   "source": [
    "### Посмотрите, как менялись продажи по платформам. Выберите платформы с наибольшими суммарными продажами и постройте распределение по годам. За какой характерный срок появляются новые и исчезают старые платформы?"
   ]
  },
  {
   "cell_type": "code",
   "execution_count": 40,
   "metadata": {},
   "outputs": [
    {
     "data": {
      "text/html": [
       "<div>\n",
       "<style scoped>\n",
       "    .dataframe tbody tr th:only-of-type {\n",
       "        vertical-align: middle;\n",
       "    }\n",
       "\n",
       "    .dataframe tbody tr th {\n",
       "        vertical-align: top;\n",
       "    }\n",
       "\n",
       "    .dataframe thead th {\n",
       "        text-align: right;\n",
       "    }\n",
       "</style>\n",
       "<table border=\"1\" class=\"dataframe\">\n",
       "  <thead>\n",
       "    <tr style=\"text-align: right;\">\n",
       "      <th></th>\n",
       "      <th>total_sales</th>\n",
       "    </tr>\n",
       "    <tr>\n",
       "      <th>platform</th>\n",
       "      <th></th>\n",
       "    </tr>\n",
       "  </thead>\n",
       "  <tbody>\n",
       "    <tr>\n",
       "      <th>PS2</th>\n",
       "      <td>1233.56</td>\n",
       "    </tr>\n",
       "    <tr>\n",
       "      <th>X360</th>\n",
       "      <td>961.24</td>\n",
       "    </tr>\n",
       "    <tr>\n",
       "      <th>PS3</th>\n",
       "      <td>931.34</td>\n",
       "    </tr>\n",
       "    <tr>\n",
       "      <th>Wii</th>\n",
       "      <td>891.18</td>\n",
       "    </tr>\n",
       "    <tr>\n",
       "      <th>DS</th>\n",
       "      <td>802.78</td>\n",
       "    </tr>\n",
       "    <tr>\n",
       "      <th>PS</th>\n",
       "      <td>727.58</td>\n",
       "    </tr>\n",
       "    <tr>\n",
       "      <th>PS4</th>\n",
       "      <td>314.14</td>\n",
       "    </tr>\n",
       "    <tr>\n",
       "      <th>GBA</th>\n",
       "      <td>312.88</td>\n",
       "    </tr>\n",
       "    <tr>\n",
       "      <th>PSP</th>\n",
       "      <td>289.53</td>\n",
       "    </tr>\n",
       "    <tr>\n",
       "      <th>3DS</th>\n",
       "      <td>257.81</td>\n",
       "    </tr>\n",
       "  </tbody>\n",
       "</table>\n",
       "</div>"
      ],
      "text/plain": [
       "          total_sales\n",
       "platform             \n",
       "PS2           1233.56\n",
       "X360           961.24\n",
       "PS3            931.34\n",
       "Wii            891.18\n",
       "DS             802.78\n",
       "PS             727.58\n",
       "PS4            314.14\n",
       "GBA            312.88\n",
       "PSP            289.53\n",
       "3DS            257.81"
      ]
     },
     "execution_count": 40,
     "metadata": {},
     "output_type": "execute_result"
    }
   ],
   "source": [
    "# создадим сводную таблицу по платформам\n",
    "\n",
    "platforms_sales = data.pivot_table(\n",
    "    index = 'platform', values = 'total_sales', aggfunc = 'sum').sort_values(by = 'total_sales', ascending = False)\n",
    "\n",
    "platforms_sales.head(10)"
   ]
  },
  {
   "cell_type": "markdown",
   "metadata": {},
   "source": [
    "Глядя на таблицу мы видим явного фаворита PS2, за ним следуют X360,PS3,Wii,DS,PS с хорошим таким отрывом от следующих платформ."
   ]
  },
  {
   "cell_type": "code",
   "execution_count": 41,
   "metadata": {},
   "outputs": [
    {
     "data": {
      "text/plain": [
       "0     PS2\n",
       "1    X360\n",
       "2     PS3\n",
       "3     Wii\n",
       "4      DS\n",
       "5      PS\n",
       "Name: platform, dtype: object"
      ]
     },
     "execution_count": 41,
     "metadata": {},
     "output_type": "execute_result"
    }
   ],
   "source": [
    "# запишим этих лидеров в отдельную серию\n",
    "\n",
    "top_platforms_sales = platforms_sales.reset_index()['platform'].head(6)\n",
    "top_platforms_sales"
   ]
  },
  {
   "cell_type": "code",
   "execution_count": 42,
   "metadata": {},
   "outputs": [
    {
     "data": {
      "image/png": "[encoded data removed]",
      "text/plain": [
       "<Figure size 1440x1080 with 6 Axes>"
      ]
     },
     "metadata": {
      "needs_background": "light"
     },
     "output_type": "display_data"
    }
   ],
   "source": [
    "# напишем цикл для построения графиков для каждой платформы из top_platforms_sales по кол-ву вупущенных игр по годам\n",
    "\n",
    "count = 0 # наш счетчик\n",
    "\n",
    "plt.figure(figsize = (20, 15))\n",
    "plt.suptitle('Платформы и кол-во выпущенных игр по годам', fontsize = 20)\n",
    "\n",
    "for i in top_platforms_sales:\n",
    "    count += 1\n",
    "    plt.subplot(3, 2, count)\n",
    "    platform_sales = data.query('platform == @i').pivot_table(index = 'year_of_release', values = 'total_sales', aggfunc = 'sum')\n",
    "    plt.plot(platform_sales, 'o-', label = 'выпускаемые игры', alpha = 1)\n",
    "    plt.ylabel('кол-во игр')\n",
    "    plt.xlabel('год выпуска')\n",
    "    plt.title(f'Платформа {i}.')\n",
    "    plt.grid(True)\n",
    "    plt.legend()\n",
    "    \n",
    "plt.show()"
   ]
  },
  {
   "cell_type": "markdown",
   "metadata": {},
   "source": [
    "Отвечая на вопрос __За какой характерный срок появляются новые и исчезают старые платформы?__ : можно сказать следующее, на графиках мы видим \"жизненный цикл\" разных платформ, от 7 до 25 лет, где в среднее значение будет примерно 11 лет."
   ]
  },
  {
   "cell_type": "code",
   "execution_count": null,
   "metadata": {},
   "outputs": [],
   "source": []
  },
  {
   "cell_type": "markdown",
   "metadata": {},
   "source": [
    "### Возьмите данные за соответствующий актуальный период. Актуальный период определите самостоятельно в результате исследования предыдущих вопросов. Основной фактор — эти данные помогут построить прогноз на 2017 год."
   ]
  },
  {
   "cell_type": "markdown",
   "metadata": {},
   "source": [
    "Актуальным периодом для дальнейших исследований можно взять данные за последние 5 лет , так как именно с 2006 по 2011 года было выпущенно самое максимальное количество игр(а это почти 10 лет и не совсем корректно брать такие данные для прогнозирования на следующий 2017 год), далее после чего началось снижение выпускаемых игр, это может быть связано с тем что был мировой экономичкий кризис(с 2008 по 2013 год), в следствии чего часть инвесторов скорее всего пропало, и геймдев студии начали делать меньше игр, хотя геймкоммюнити с каждым годом увеличивалось. Поэтому промежуток с 11 по 16 год будет максимально показательным."
   ]
  },
  {
   "cell_type": "code",
   "execution_count": 43,
   "metadata": {},
   "outputs": [
    {
     "data": {
      "text/html": [
       "<div>\n",
       "<style scoped>\n",
       "    .dataframe tbody tr th:only-of-type {\n",
       "        vertical-align: middle;\n",
       "    }\n",
       "\n",
       "    .dataframe tbody tr th {\n",
       "        vertical-align: top;\n",
       "    }\n",
       "\n",
       "    .dataframe thead th {\n",
       "        text-align: right;\n",
       "    }\n",
       "</style>\n",
       "<table border=\"1\" class=\"dataframe\">\n",
       "  <thead>\n",
       "    <tr style=\"text-align: right;\">\n",
       "      <th></th>\n",
       "      <th>name</th>\n",
       "      <th>platform</th>\n",
       "      <th>year_of_release</th>\n",
       "      <th>genre</th>\n",
       "      <th>na_sales</th>\n",
       "      <th>eu_sales</th>\n",
       "      <th>jp_sales</th>\n",
       "      <th>other_sales</th>\n",
       "      <th>critic_score</th>\n",
       "      <th>user_score</th>\n",
       "      <th>rating</th>\n",
       "      <th>total_sales</th>\n",
       "    </tr>\n",
       "  </thead>\n",
       "  <tbody>\n",
       "    <tr>\n",
       "      <th>16</th>\n",
       "      <td>Grand Theft Auto V</td>\n",
       "      <td>PS3</td>\n",
       "      <td>2013</td>\n",
       "      <td>Action</td>\n",
       "      <td>7.02</td>\n",
       "      <td>9.09</td>\n",
       "      <td>0.98</td>\n",
       "      <td>3.96</td>\n",
       "      <td>97.0</td>\n",
       "      <td>8.2</td>\n",
       "      <td>M</td>\n",
       "      <td>21.05</td>\n",
       "    </tr>\n",
       "    <tr>\n",
       "      <th>23</th>\n",
       "      <td>Grand Theft Auto V</td>\n",
       "      <td>X360</td>\n",
       "      <td>2013</td>\n",
       "      <td>Action</td>\n",
       "      <td>9.66</td>\n",
       "      <td>5.14</td>\n",
       "      <td>0.06</td>\n",
       "      <td>1.41</td>\n",
       "      <td>97.0</td>\n",
       "      <td>8.1</td>\n",
       "      <td>M</td>\n",
       "      <td>16.27</td>\n",
       "    </tr>\n",
       "    <tr>\n",
       "      <th>31</th>\n",
       "      <td>Call of Duty: Black Ops 3</td>\n",
       "      <td>PS4</td>\n",
       "      <td>2015</td>\n",
       "      <td>Shooter</td>\n",
       "      <td>6.03</td>\n",
       "      <td>5.86</td>\n",
       "      <td>0.36</td>\n",
       "      <td>2.38</td>\n",
       "      <td>NaN</td>\n",
       "      <td>NaN</td>\n",
       "      <td>NR</td>\n",
       "      <td>14.63</td>\n",
       "    </tr>\n",
       "    <tr>\n",
       "      <th>33</th>\n",
       "      <td>Pokemon X/Pokemon Y</td>\n",
       "      <td>3DS</td>\n",
       "      <td>2013</td>\n",
       "      <td>Role-Playing</td>\n",
       "      <td>5.28</td>\n",
       "      <td>4.19</td>\n",
       "      <td>4.35</td>\n",
       "      <td>0.78</td>\n",
       "      <td>NaN</td>\n",
       "      <td>NaN</td>\n",
       "      <td>NR</td>\n",
       "      <td>14.60</td>\n",
       "    </tr>\n",
       "    <tr>\n",
       "      <th>34</th>\n",
       "      <td>Call of Duty: Black Ops II</td>\n",
       "      <td>PS3</td>\n",
       "      <td>2012</td>\n",
       "      <td>Shooter</td>\n",
       "      <td>4.99</td>\n",
       "      <td>5.73</td>\n",
       "      <td>0.65</td>\n",
       "      <td>2.42</td>\n",
       "      <td>83.0</td>\n",
       "      <td>5.3</td>\n",
       "      <td>M</td>\n",
       "      <td>13.79</td>\n",
       "    </tr>\n",
       "    <tr>\n",
       "      <th>...</th>\n",
       "      <td>...</td>\n",
       "      <td>...</td>\n",
       "      <td>...</td>\n",
       "      <td>...</td>\n",
       "      <td>...</td>\n",
       "      <td>...</td>\n",
       "      <td>...</td>\n",
       "      <td>...</td>\n",
       "      <td>...</td>\n",
       "      <td>...</td>\n",
       "      <td>...</td>\n",
       "      <td>...</td>\n",
       "    </tr>\n",
       "    <tr>\n",
       "      <th>16432</th>\n",
       "      <td>Strawberry Nauts</td>\n",
       "      <td>PSV</td>\n",
       "      <td>2016</td>\n",
       "      <td>Adventure</td>\n",
       "      <td>0.00</td>\n",
       "      <td>0.00</td>\n",
       "      <td>0.01</td>\n",
       "      <td>0.00</td>\n",
       "      <td>NaN</td>\n",
       "      <td>NaN</td>\n",
       "      <td>NR</td>\n",
       "      <td>0.01</td>\n",
       "    </tr>\n",
       "    <tr>\n",
       "      <th>16436</th>\n",
       "      <td>Aiyoku no Eustia</td>\n",
       "      <td>PSV</td>\n",
       "      <td>2014</td>\n",
       "      <td>Misc</td>\n",
       "      <td>0.00</td>\n",
       "      <td>0.00</td>\n",
       "      <td>0.01</td>\n",
       "      <td>0.00</td>\n",
       "      <td>NaN</td>\n",
       "      <td>NaN</td>\n",
       "      <td>NR</td>\n",
       "      <td>0.01</td>\n",
       "    </tr>\n",
       "    <tr>\n",
       "      <th>16439</th>\n",
       "      <td>Samurai Warriors: Sanada Maru</td>\n",
       "      <td>PS3</td>\n",
       "      <td>2016</td>\n",
       "      <td>Action</td>\n",
       "      <td>0.00</td>\n",
       "      <td>0.00</td>\n",
       "      <td>0.01</td>\n",
       "      <td>0.00</td>\n",
       "      <td>NaN</td>\n",
       "      <td>NaN</td>\n",
       "      <td>NR</td>\n",
       "      <td>0.01</td>\n",
       "    </tr>\n",
       "    <tr>\n",
       "      <th>16441</th>\n",
       "      <td>Haitaka no Psychedelica</td>\n",
       "      <td>PSV</td>\n",
       "      <td>2016</td>\n",
       "      <td>Adventure</td>\n",
       "      <td>0.00</td>\n",
       "      <td>0.00</td>\n",
       "      <td>0.01</td>\n",
       "      <td>0.00</td>\n",
       "      <td>NaN</td>\n",
       "      <td>NaN</td>\n",
       "      <td>NR</td>\n",
       "      <td>0.01</td>\n",
       "    </tr>\n",
       "    <tr>\n",
       "      <th>16443</th>\n",
       "      <td>Winning Post 8 2016</td>\n",
       "      <td>PSV</td>\n",
       "      <td>2016</td>\n",
       "      <td>Simulation</td>\n",
       "      <td>0.00</td>\n",
       "      <td>0.00</td>\n",
       "      <td>0.01</td>\n",
       "      <td>0.00</td>\n",
       "      <td>NaN</td>\n",
       "      <td>NaN</td>\n",
       "      <td>NR</td>\n",
       "      <td>0.01</td>\n",
       "    </tr>\n",
       "  </tbody>\n",
       "</table>\n",
       "<p>2886 rows × 12 columns</p>\n",
       "</div>"
      ],
      "text/plain": [
       "                                name platform  year_of_release         genre  \\\n",
       "16                Grand Theft Auto V      PS3             2013        Action   \n",
       "23                Grand Theft Auto V     X360             2013        Action   \n",
       "31         Call of Duty: Black Ops 3      PS4             2015       Shooter   \n",
       "33               Pokemon X/Pokemon Y      3DS             2013  Role-Playing   \n",
       "34        Call of Duty: Black Ops II      PS3             2012       Shooter   \n",
       "...                              ...      ...              ...           ...   \n",
       "16432               Strawberry Nauts      PSV             2016     Adventure   \n",
       "16436               Aiyoku no Eustia      PSV             2014          Misc   \n",
       "16439  Samurai Warriors: Sanada Maru      PS3             2016        Action   \n",
       "16441        Haitaka no Psychedelica      PSV             2016     Adventure   \n",
       "16443            Winning Post 8 2016      PSV             2016    Simulation   \n",
       "\n",
       "       na_sales  eu_sales  jp_sales  other_sales  critic_score  user_score  \\\n",
       "16         7.02      9.09      0.98         3.96          97.0         8.2   \n",
       "23         9.66      5.14      0.06         1.41          97.0         8.1   \n",
       "31         6.03      5.86      0.36         2.38           NaN         NaN   \n",
       "33         5.28      4.19      4.35         0.78           NaN         NaN   \n",
       "34         4.99      5.73      0.65         2.42          83.0         5.3   \n",
       "...         ...       ...       ...          ...           ...         ...   \n",
       "16432      0.00      0.00      0.01         0.00           NaN         NaN   \n",
       "16436      0.00      0.00      0.01         0.00           NaN         NaN   \n",
       "16439      0.00      0.00      0.01         0.00           NaN         NaN   \n",
       "16441      0.00      0.00      0.01         0.00           NaN         NaN   \n",
       "16443      0.00      0.00      0.01         0.00           NaN         NaN   \n",
       "\n",
       "      rating  total_sales  \n",
       "16         M        21.05  \n",
       "23         M        16.27  \n",
       "31        NR        14.63  \n",
       "33        NR        14.60  \n",
       "34         M        13.79  \n",
       "...      ...          ...  \n",
       "16432     NR         0.01  \n",
       "16436     NR         0.01  \n",
       "16439     NR         0.01  \n",
       "16441     NR         0.01  \n",
       "16443     NR         0.01  \n",
       "\n",
       "[2886 rows x 12 columns]"
      ]
     },
     "execution_count": 43,
     "metadata": {},
     "output_type": "execute_result"
    }
   ],
   "source": [
    "# создадим отсеченный дф от 2012 года\n",
    "\n",
    "data_2012 = data.query('year_of_release >= 2012')\n",
    "data_2012"
   ]
  },
  {
   "cell_type": "markdown",
   "metadata": {},
   "source": [
    "### Какие платформы лидируют по продажам, растут или падают? Выберите несколько потенциально прибыльных платформ"
   ]
  },
  {
   "cell_type": "code",
   "execution_count": 44,
   "metadata": {},
   "outputs": [
    {
     "data": {
      "text/html": [
       "<div>\n",
       "<style scoped>\n",
       "    .dataframe tbody tr th:only-of-type {\n",
       "        vertical-align: middle;\n",
       "    }\n",
       "\n",
       "    .dataframe tbody tr th {\n",
       "        vertical-align: top;\n",
       "    }\n",
       "\n",
       "    .dataframe thead th {\n",
       "        text-align: right;\n",
       "    }\n",
       "</style>\n",
       "<table border=\"1\" class=\"dataframe\">\n",
       "  <thead>\n",
       "    <tr style=\"text-align: right;\">\n",
       "      <th>year_of_release</th>\n",
       "      <th>2012</th>\n",
       "      <th>2013</th>\n",
       "      <th>2014</th>\n",
       "      <th>2015</th>\n",
       "      <th>2016</th>\n",
       "    </tr>\n",
       "    <tr>\n",
       "      <th>platform</th>\n",
       "      <th></th>\n",
       "      <th></th>\n",
       "      <th></th>\n",
       "      <th></th>\n",
       "      <th></th>\n",
       "    </tr>\n",
       "  </thead>\n",
       "  <tbody>\n",
       "    <tr>\n",
       "      <th>3DS</th>\n",
       "      <td>51.36</td>\n",
       "      <td>56.57</td>\n",
       "      <td>43.76</td>\n",
       "      <td>27.78</td>\n",
       "      <td>15.14</td>\n",
       "    </tr>\n",
       "    <tr>\n",
       "      <th>DS</th>\n",
       "      <td>11.01</td>\n",
       "      <td>1.54</td>\n",
       "      <td>NaN</td>\n",
       "      <td>NaN</td>\n",
       "      <td>NaN</td>\n",
       "    </tr>\n",
       "    <tr>\n",
       "      <th>PC</th>\n",
       "      <td>23.22</td>\n",
       "      <td>12.38</td>\n",
       "      <td>13.28</td>\n",
       "      <td>8.52</td>\n",
       "      <td>5.25</td>\n",
       "    </tr>\n",
       "    <tr>\n",
       "      <th>PS3</th>\n",
       "      <td>107.36</td>\n",
       "      <td>113.25</td>\n",
       "      <td>47.76</td>\n",
       "      <td>16.82</td>\n",
       "      <td>3.60</td>\n",
       "    </tr>\n",
       "    <tr>\n",
       "      <th>PS4</th>\n",
       "      <td>NaN</td>\n",
       "      <td>25.99</td>\n",
       "      <td>100.00</td>\n",
       "      <td>118.90</td>\n",
       "      <td>69.25</td>\n",
       "    </tr>\n",
       "    <tr>\n",
       "      <th>PSP</th>\n",
       "      <td>7.69</td>\n",
       "      <td>3.14</td>\n",
       "      <td>0.24</td>\n",
       "      <td>0.12</td>\n",
       "      <td>NaN</td>\n",
       "    </tr>\n",
       "    <tr>\n",
       "      <th>PSV</th>\n",
       "      <td>16.19</td>\n",
       "      <td>10.59</td>\n",
       "      <td>11.90</td>\n",
       "      <td>6.25</td>\n",
       "      <td>4.25</td>\n",
       "    </tr>\n",
       "    <tr>\n",
       "      <th>Wii</th>\n",
       "      <td>21.71</td>\n",
       "      <td>8.59</td>\n",
       "      <td>3.75</td>\n",
       "      <td>1.14</td>\n",
       "      <td>0.18</td>\n",
       "    </tr>\n",
       "    <tr>\n",
       "      <th>WiiU</th>\n",
       "      <td>17.56</td>\n",
       "      <td>21.65</td>\n",
       "      <td>22.03</td>\n",
       "      <td>16.35</td>\n",
       "      <td>4.60</td>\n",
       "    </tr>\n",
       "    <tr>\n",
       "      <th>X360</th>\n",
       "      <td>99.74</td>\n",
       "      <td>88.58</td>\n",
       "      <td>34.74</td>\n",
       "      <td>11.96</td>\n",
       "      <td>1.52</td>\n",
       "    </tr>\n",
       "    <tr>\n",
       "      <th>XOne</th>\n",
       "      <td>NaN</td>\n",
       "      <td>18.96</td>\n",
       "      <td>54.07</td>\n",
       "      <td>60.14</td>\n",
       "      <td>26.15</td>\n",
       "    </tr>\n",
       "  </tbody>\n",
       "</table>\n",
       "</div>"
      ],
      "text/plain": [
       "year_of_release    2012    2013    2014    2015   2016\n",
       "platform                                              \n",
       "3DS               51.36   56.57   43.76   27.78  15.14\n",
       "DS                11.01    1.54     NaN     NaN    NaN\n",
       "PC                23.22   12.38   13.28    8.52   5.25\n",
       "PS3              107.36  113.25   47.76   16.82   3.60\n",
       "PS4                 NaN   25.99  100.00  118.90  69.25\n",
       "PSP                7.69    3.14    0.24    0.12    NaN\n",
       "PSV               16.19   10.59   11.90    6.25   4.25\n",
       "Wii               21.71    8.59    3.75    1.14   0.18\n",
       "WiiU              17.56   21.65   22.03   16.35   4.60\n",
       "X360              99.74   88.58   34.74   11.96   1.52\n",
       "XOne                NaN   18.96   54.07   60.14  26.15"
      ]
     },
     "execution_count": 44,
     "metadata": {},
     "output_type": "execute_result"
    }
   ],
   "source": [
    "# создадим сводную таблицу по продажам за 5 лет\n",
    "\n",
    "pd.pivot_table(data_2012, index = 'platform', columns = 'year_of_release', values = 'total_sales', aggfunc = 'sum')\n"
   ]
  },
  {
   "cell_type": "markdown",
   "metadata": {},
   "source": [
    "Как мы можем заметить, за этот период держутся на 'плаву' несколько платформ, такие как PS4, XOne, 3DS, PC, WiiU - ps4 со значительным отрывом от своих конкурентов варвалась вперед.\n",
    "\n",
    "Но, как видно из предыдущих 2015 и 2014 года, ps4 как и остальные просела в продажах.\n",
    "\n",
    "Отвечая на вопрос __Выберите несколько потенциально прибыльных платформ__, нельзя точно назвать какую либо из платформ прибыльной или убыточной, т.к мы не знаем сколько каждая из компаний потратила денег на разработку игр, быть может часть заработанных игр - это проданные повторно копии игр выпущенных ранее.\n",
    "\n",
    "В любом случае можно констатировать тот факт, что платформа PS4 - продала больше чем остальные за неполный 2016 год."
   ]
  },
  {
   "cell_type": "code",
   "execution_count": 45,
   "metadata": {},
   "outputs": [
    {
     "data": {
      "text/plain": [
       "['PS4', 'XOne', '3DS', 'PC', 'WiiU']"
      ]
     },
     "execution_count": 45,
     "metadata": {},
     "output_type": "execute_result"
    }
   ],
   "source": [
    "# запишем наши платформы в виде списка\n",
    "\n",
    "platform_list = ['PS4', 'XOne', '3DS', 'PC', 'WiiU']\n",
    "platform_list"
   ]
  },
  {
   "cell_type": "markdown",
   "metadata": {},
   "source": [
    "### Постройте график «ящик с усами» по глобальным продажам игр в разбивке по платформам. Опишите результат."
   ]
  },
  {
   "cell_type": "code",
   "execution_count": 46,
   "metadata": {},
   "outputs": [
    {
     "data": {
      "image/png": "[encoded data removed]",
      "text/plain": [
       "<Figure size 1080x720 with 1 Axes>"
      ]
     },
     "metadata": {
      "needs_background": "light"
     },
     "output_type": "display_data"
    }
   ],
   "source": [
    "# строим ящик с усами для наших платформ\n",
    "\n",
    "plt.figure(figsize=(15, 10))\n",
    "\n",
    "sns.boxplot(x = 'total_sales', y = 'platform', data = data_2012.query('platform in @platform_list'))\n",
    "plt.xlabel('продажи')\n",
    "plt.ylabel('платформы')\n",
    "plt.title('Глобальные продажи по платформам')\n",
    "plt.xlim(-0.2, 3)\n",
    "plt.grid(True)\n",
    "\n",
    "plt.show()"
   ]
  },
  {
   "cell_type": "markdown",
   "metadata": {},
   "source": [
    "Глядя на \"ящики\" можем сказать следующее: у каждой из платформ присутсвуют выбросы - вероятно это супер удачные тайтлы от той или иной компании, платформа PC самая не популярная, однако имеет самые маленькие усы - что можно трактовать, как стабильность в прибыльности, среднее значение продаваемых игр на пк так же самое низкое, интересная картина  - медианные значения всех платформ менее 1 миллиона - что говорит о том, что не каждый проект(игра) супер продающаяся"
   ]
  },
  {
   "cell_type": "markdown",
   "metadata": {},
   "source": [
    "### Посмотрите, как влияют на продажи внутри одной популярной платформы отзывы пользователей и критиков. Постройте диаграмму рассеяния и посчитайте корреляцию между отзывами и продажами. Сформулируйте выводы."
   ]
  },
  {
   "cell_type": "markdown",
   "metadata": {},
   "source": [
    "__Будем рассматривать платформу PS4.__\n",
    "\n",
    "Так как корреляции чувствительна к выбросам, мы отсортируем наши продажи и оценки, и будем использовать только те строки в которых оценки пользователей и критиков проставленны ,а что касается цены - предельное значение выставим согласно стандартному отклонению, как видно из предыдущего графика приблезительно ~ 1.6 млн."
   ]
  },
  {
   "cell_type": "code",
   "execution_count": 47,
   "metadata": {},
   "outputs": [
    {
     "data": {
      "text/plain": [
       "count    392.000000\n",
       "mean       0.801378\n",
       "std        1.609456\n",
       "min        0.010000\n",
       "25%        0.060000\n",
       "50%        0.200000\n",
       "75%        0.730000\n",
       "max       14.630000\n",
       "Name: total_sales, dtype: float64"
      ]
     },
     "execution_count": 47,
     "metadata": {},
     "output_type": "execute_result"
    }
   ],
   "source": [
    "# проверим\n",
    "\n",
    "data[(data['platform'] == 'PS4')]['total_sales'].describe()"
   ]
  },
  {
   "cell_type": "code",
   "execution_count": 48,
   "metadata": {},
   "outputs": [
    {
     "data": {
      "text/html": [
       "<div>\n",
       "<style scoped>\n",
       "    .dataframe tbody tr th:only-of-type {\n",
       "        vertical-align: middle;\n",
       "    }\n",
       "\n",
       "    .dataframe tbody tr th {\n",
       "        vertical-align: top;\n",
       "    }\n",
       "\n",
       "    .dataframe thead th {\n",
       "        text-align: right;\n",
       "    }\n",
       "</style>\n",
       "<table border=\"1\" class=\"dataframe\">\n",
       "  <thead>\n",
       "    <tr style=\"text-align: right;\">\n",
       "      <th></th>\n",
       "      <th>name</th>\n",
       "      <th>platform</th>\n",
       "      <th>year_of_release</th>\n",
       "      <th>genre</th>\n",
       "      <th>na_sales</th>\n",
       "      <th>eu_sales</th>\n",
       "      <th>jp_sales</th>\n",
       "      <th>other_sales</th>\n",
       "      <th>critic_score</th>\n",
       "      <th>user_score</th>\n",
       "      <th>rating</th>\n",
       "      <th>total_sales</th>\n",
       "    </tr>\n",
       "  </thead>\n",
       "  <tbody>\n",
       "    <tr>\n",
       "      <th>1195</th>\n",
       "      <td>Wolfenstein: The New Order</td>\n",
       "      <td>PS4</td>\n",
       "      <td>2014</td>\n",
       "      <td>Shooter</td>\n",
       "      <td>0.47</td>\n",
       "      <td>0.80</td>\n",
       "      <td>0.03</td>\n",
       "      <td>0.24</td>\n",
       "      <td>79.0</td>\n",
       "      <td>8.1</td>\n",
       "      <td>M</td>\n",
       "      <td>1.54</td>\n",
       "    </tr>\n",
       "    <tr>\n",
       "      <th>1311</th>\n",
       "      <td>NBA 2K14</td>\n",
       "      <td>PS4</td>\n",
       "      <td>2013</td>\n",
       "      <td>Sports</td>\n",
       "      <td>0.89</td>\n",
       "      <td>0.31</td>\n",
       "      <td>0.01</td>\n",
       "      <td>0.23</td>\n",
       "      <td>85.0</td>\n",
       "      <td>6.5</td>\n",
       "      <td>E</td>\n",
       "      <td>1.44</td>\n",
       "    </tr>\n",
       "    <tr>\n",
       "      <th>1543</th>\n",
       "      <td>Metal Gear Solid V: Ground Zeroes</td>\n",
       "      <td>PS4</td>\n",
       "      <td>2014</td>\n",
       "      <td>Action</td>\n",
       "      <td>0.45</td>\n",
       "      <td>0.47</td>\n",
       "      <td>0.17</td>\n",
       "      <td>0.18</td>\n",
       "      <td>75.0</td>\n",
       "      <td>6.2</td>\n",
       "      <td>M</td>\n",
       "      <td>1.27</td>\n",
       "    </tr>\n",
       "    <tr>\n",
       "      <th>1639</th>\n",
       "      <td>WWE 2K16</td>\n",
       "      <td>PS4</td>\n",
       "      <td>2015</td>\n",
       "      <td>Sports</td>\n",
       "      <td>0.41</td>\n",
       "      <td>0.60</td>\n",
       "      <td>0.00</td>\n",
       "      <td>0.20</td>\n",
       "      <td>73.0</td>\n",
       "      <td>7.4</td>\n",
       "      <td>T</td>\n",
       "      <td>1.21</td>\n",
       "    </tr>\n",
       "    <tr>\n",
       "      <th>1755</th>\n",
       "      <td>WWE 2K15</td>\n",
       "      <td>PS4</td>\n",
       "      <td>2014</td>\n",
       "      <td>Sports</td>\n",
       "      <td>0.39</td>\n",
       "      <td>0.57</td>\n",
       "      <td>0.00</td>\n",
       "      <td>0.19</td>\n",
       "      <td>62.0</td>\n",
       "      <td>5.1</td>\n",
       "      <td>T</td>\n",
       "      <td>1.15</td>\n",
       "    </tr>\n",
       "    <tr>\n",
       "      <th>...</th>\n",
       "      <td>...</td>\n",
       "      <td>...</td>\n",
       "      <td>...</td>\n",
       "      <td>...</td>\n",
       "      <td>...</td>\n",
       "      <td>...</td>\n",
       "      <td>...</td>\n",
       "      <td>...</td>\n",
       "      <td>...</td>\n",
       "      <td>...</td>\n",
       "      <td>...</td>\n",
       "      <td>...</td>\n",
       "    </tr>\n",
       "    <tr>\n",
       "      <th>16216</th>\n",
       "      <td>Super Dungeon Bros</td>\n",
       "      <td>PS4</td>\n",
       "      <td>2016</td>\n",
       "      <td>Action</td>\n",
       "      <td>0.01</td>\n",
       "      <td>0.00</td>\n",
       "      <td>0.00</td>\n",
       "      <td>0.00</td>\n",
       "      <td>42.0</td>\n",
       "      <td>2.3</td>\n",
       "      <td>E10+</td>\n",
       "      <td>0.01</td>\n",
       "    </tr>\n",
       "    <tr>\n",
       "      <th>16229</th>\n",
       "      <td>Sherlock Holmes: The Devil's Daughter</td>\n",
       "      <td>PS4</td>\n",
       "      <td>2016</td>\n",
       "      <td>Adventure</td>\n",
       "      <td>0.01</td>\n",
       "      <td>0.00</td>\n",
       "      <td>0.00</td>\n",
       "      <td>0.00</td>\n",
       "      <td>70.0</td>\n",
       "      <td>6.8</td>\n",
       "      <td>T</td>\n",
       "      <td>0.01</td>\n",
       "    </tr>\n",
       "    <tr>\n",
       "      <th>16230</th>\n",
       "      <td>Root Letter</td>\n",
       "      <td>PS4</td>\n",
       "      <td>2016</td>\n",
       "      <td>Adventure</td>\n",
       "      <td>0.00</td>\n",
       "      <td>0.00</td>\n",
       "      <td>0.01</td>\n",
       "      <td>0.00</td>\n",
       "      <td>69.0</td>\n",
       "      <td>7.5</td>\n",
       "      <td>NR</td>\n",
       "      <td>0.01</td>\n",
       "    </tr>\n",
       "    <tr>\n",
       "      <th>16255</th>\n",
       "      <td>Dungeons 2</td>\n",
       "      <td>PS4</td>\n",
       "      <td>2016</td>\n",
       "      <td>Role-Playing</td>\n",
       "      <td>0.01</td>\n",
       "      <td>0.00</td>\n",
       "      <td>0.00</td>\n",
       "      <td>0.00</td>\n",
       "      <td>61.0</td>\n",
       "      <td>7.9</td>\n",
       "      <td>T</td>\n",
       "      <td>0.01</td>\n",
       "    </tr>\n",
       "    <tr>\n",
       "      <th>16259</th>\n",
       "      <td>Carmageddon: Max Damage</td>\n",
       "      <td>PS4</td>\n",
       "      <td>2016</td>\n",
       "      <td>Action</td>\n",
       "      <td>0.01</td>\n",
       "      <td>0.00</td>\n",
       "      <td>0.00</td>\n",
       "      <td>0.00</td>\n",
       "      <td>51.0</td>\n",
       "      <td>5.5</td>\n",
       "      <td>M</td>\n",
       "      <td>0.01</td>\n",
       "    </tr>\n",
       "  </tbody>\n",
       "</table>\n",
       "<p>195 rows × 12 columns</p>\n",
       "</div>"
      ],
      "text/plain": [
       "                                        name platform  year_of_release  \\\n",
       "1195              Wolfenstein: The New Order      PS4             2014   \n",
       "1311                                NBA 2K14      PS4             2013   \n",
       "1543       Metal Gear Solid V: Ground Zeroes      PS4             2014   \n",
       "1639                                WWE 2K16      PS4             2015   \n",
       "1755                                WWE 2K15      PS4             2014   \n",
       "...                                      ...      ...              ...   \n",
       "16216                     Super Dungeon Bros      PS4             2016   \n",
       "16229  Sherlock Holmes: The Devil's Daughter      PS4             2016   \n",
       "16230                            Root Letter      PS4             2016   \n",
       "16255                             Dungeons 2      PS4             2016   \n",
       "16259                Carmageddon: Max Damage      PS4             2016   \n",
       "\n",
       "              genre  na_sales  eu_sales  jp_sales  other_sales  critic_score  \\\n",
       "1195        Shooter      0.47      0.80      0.03         0.24          79.0   \n",
       "1311         Sports      0.89      0.31      0.01         0.23          85.0   \n",
       "1543         Action      0.45      0.47      0.17         0.18          75.0   \n",
       "1639         Sports      0.41      0.60      0.00         0.20          73.0   \n",
       "1755         Sports      0.39      0.57      0.00         0.19          62.0   \n",
       "...             ...       ...       ...       ...          ...           ...   \n",
       "16216        Action      0.01      0.00      0.00         0.00          42.0   \n",
       "16229     Adventure      0.01      0.00      0.00         0.00          70.0   \n",
       "16230     Adventure      0.00      0.00      0.01         0.00          69.0   \n",
       "16255  Role-Playing      0.01      0.00      0.00         0.00          61.0   \n",
       "16259        Action      0.01      0.00      0.00         0.00          51.0   \n",
       "\n",
       "       user_score rating  total_sales  \n",
       "1195          8.1      M         1.54  \n",
       "1311          6.5      E         1.44  \n",
       "1543          6.2      M         1.27  \n",
       "1639          7.4      T         1.21  \n",
       "1755          5.1      T         1.15  \n",
       "...           ...    ...          ...  \n",
       "16216         2.3   E10+         0.01  \n",
       "16229         6.8      T         0.01  \n",
       "16230         7.5     NR         0.01  \n",
       "16255         7.9      T         0.01  \n",
       "16259         5.5      M         0.01  \n",
       "\n",
       "[195 rows x 12 columns]"
      ]
     },
     "execution_count": 48,
     "metadata": {},
     "output_type": "execute_result"
    }
   ],
   "source": [
    "# отсортируем наши данные \n",
    "\n",
    "data_ps4 = data[(data['platform'] == 'PS4') & (data['total_sales'] < 1.6) & (~data['user_score'].isna()) & (~data['critic_score'].isna())]\n",
    "data_ps4\n"
   ]
  },
  {
   "cell_type": "code",
   "execution_count": 49,
   "metadata": {},
   "outputs": [
    {
     "data": {
      "image/png": "[encoded data removed]",
      "text/plain": [
       "<Figure size 1080x360 with 1 Axes>"
      ]
     },
     "metadata": {
      "needs_background": "light"
     },
     "output_type": "display_data"
    },
    {
     "name": "stdout",
     "output_type": "stream",
     "text": [
      "Коэффицент корреляции: 0.25\n"
     ]
    }
   ],
   "source": [
    "# построим диаграмму рассеяния critic_score х total_sales и подсчитаем корреляцию\n",
    "\n",
    "plt.figure(figsize = (15, 5))\n",
    "\n",
    "sns.scatterplot(x = 'critic_score', y = 'total_sales', data = data_ps4)\n",
    "plt.xlabel('оценки критиков')\n",
    "plt.ylabel('обшие продажи')\n",
    "plt.title('Зависимость продаж от оценок критиков')\n",
    "plt.grid(True)\n",
    "\n",
    "plt.show()\n",
    "\n",
    "critic_sales = data['critic_score'].corr(data['total_sales'])\n",
    "\n",
    "print(f'Коэффицент корреляции: {round(critic_sales, 2)}')"
   ]
  },
  {
   "cell_type": "code",
   "execution_count": 50,
   "metadata": {},
   "outputs": [
    {
     "data": {
      "image/png": "[encoded data removed]",
      "text/plain": [
       "<Figure size 1080x360 with 1 Axes>"
      ]
     },
     "metadata": {
      "needs_background": "light"
     },
     "output_type": "display_data"
    },
    {
     "name": "stdout",
     "output_type": "stream",
     "text": [
      "Коэффицент корреляции: 0.09\n"
     ]
    }
   ],
   "source": [
    "# построим диаграмму рассеяния user_score х total_sales и подсчитаем корреляцию\n",
    "\n",
    "plt.figure(figsize = (15, 5))\n",
    "\n",
    "sns.scatterplot(x = 'user_score', y = 'total_sales', data = data_ps4)\n",
    "plt.xlabel('оценки пользователей')\n",
    "plt.ylabel('обшие продажи')\n",
    "plt.title('Зависимость продаж от оценок пользователей')\n",
    "plt.grid(True)\n",
    "\n",
    "plt.show()\n",
    "\n",
    "critic_sales = data['user_score'].corr(data['total_sales'])\n",
    "\n",
    "print(f'Коэффицент корреляции: {round(critic_sales, 2)}')"
   ]
  },
  {
   "cell_type": "markdown",
   "metadata": {},
   "source": [
    "Как мы видим из представленных графиков и коэффицентов , что для оценок критиков к общей выручки, что и для пользовательских оценок - они очень малы, 0.25 и 0.09, можно сказать что теснота связи - __слабая(по шкале Чеддока)__. Мне кажется тут большую роль играет сама платформа, как бренд - ведь люди давно знают Playstation, и не смотря на оценки критиков и пользователей - все равно покупают игры,к тому же оценки критиков не всегда схожи с оценками пользователей. "
   ]
  },
  {
   "cell_type": "code",
   "execution_count": null,
   "metadata": {},
   "outputs": [],
   "source": []
  },
  {
   "cell_type": "markdown",
   "metadata": {},
   "source": [
    "### Соотнесите выводы с продажами игр на других платформах."
   ]
  },
  {
   "cell_type": "markdown",
   "metadata": {},
   "source": [
    "Построим общий график рассевания, чтобы взглянуть на общую картину отношение всех оценок к суммарным продажам и пользовательских оценок к суммарным продажам(берем срез данных, как и в случае с PS4 с 2012 года)"
   ]
  },
  {
   "cell_type": "code",
   "execution_count": 51,
   "metadata": {},
   "outputs": [
    {
     "data": {
      "image/png": "[encoded data removed]",
      "text/plain": [
       "<Figure size 1080x360 with 2 Axes>"
      ]
     },
     "metadata": {
      "needs_background": "light"
     },
     "output_type": "display_data"
    }
   ],
   "source": [
    "# отсеим игры которые имеют пропуски в user_score и critic_score\n",
    "data_without_null = data_2012[(~data_2012['user_score'].isna()) & (~data_2012['critic_score'].isna())]\n",
    "\n",
    "# построим 2 диаграммы\n",
    "plt.figure(figsize = (15, 5))\n",
    "plt.suptitle('диаграмма рассеивания')\n",
    "\n",
    "plt.subplot(1, 2, 1)\n",
    "sns.scatterplot(x = 'user_score', y = 'total_sales', data = data_without_null)\n",
    "plt.xlabel('оценки пользователей')\n",
    "plt.ylabel('общие продажи')\n",
    "plt.title(f'\\nКоэффицент корреляции: {data_without_null[\"user_score\"].corr(data_without_null[\"total_sales\"])}', fontsize=10)\n",
    "plt.grid(True)\n",
    "\n",
    "\n",
    "plt.subplot(1, 2, 2)\n",
    "sns.scatterplot(x = 'critic_score', y = 'total_sales', data = data_without_null)\n",
    "plt.xlabel('оценки критиков')\n",
    "plt.ylabel('общие продажи')\n",
    "plt.title(f'\\nКоэффицент корреляции: {data_without_null[\"critic_score\"].corr(data_without_null[\"total_sales\"])}', fontsize=10)\n",
    "plt.grid(True)\n",
    "\n",
    "plt.show()"
   ]
  },
  {
   "cell_type": "markdown",
   "metadata": {},
   "source": [
    "Как и в случае с PS4 мы наблюдаем схожую картину, да она положительная, но прямой и сильзой зависимости не прослеживается. Т.е не происходит такого чтобы критики поставили малую оценку и все пользователи отказались покупать игру, то же самое и касается игроков, тут еще больше сторонних факторов, например любитель шутеров и экшенов купил игру по чьей-то рекомендации жанра.... скажем стратегии, ему не понравилось и ведь это не значет, что игра плохая и другие игроки перестанут покупать ее."
   ]
  },
  {
   "cell_type": "markdown",
   "metadata": {},
   "source": [
    "### Посмотрите на общее распределение игр по жанрам. Что можно сказать о самых прибыльных жанрах? Выделяются ли жанры с высокими и низкими продажами?"
   ]
  },
  {
   "cell_type": "markdown",
   "metadata": {},
   "source": [
    "Сделаем сводной таблицу по жанрам и их продажам за весь период "
   ]
  },
  {
   "cell_type": "code",
   "execution_count": 52,
   "metadata": {},
   "outputs": [
    {
     "data": {
      "text/html": [
       "<div>\n",
       "<style scoped>\n",
       "    .dataframe tbody tr th:only-of-type {\n",
       "        vertical-align: middle;\n",
       "    }\n",
       "\n",
       "    .dataframe tbody tr th {\n",
       "        vertical-align: top;\n",
       "    }\n",
       "\n",
       "    .dataframe thead th {\n",
       "        text-align: right;\n",
       "    }\n",
       "</style>\n",
       "<table border=\"1\" class=\"dataframe\">\n",
       "  <thead>\n",
       "    <tr style=\"text-align: right;\">\n",
       "      <th></th>\n",
       "      <th>total_sales</th>\n",
       "    </tr>\n",
       "    <tr>\n",
       "      <th>genre</th>\n",
       "      <th></th>\n",
       "    </tr>\n",
       "  </thead>\n",
       "  <tbody>\n",
       "    <tr>\n",
       "      <th>Action</th>\n",
       "      <td>1716.52</td>\n",
       "    </tr>\n",
       "    <tr>\n",
       "      <th>Sports</th>\n",
       "      <td>1309.67</td>\n",
       "    </tr>\n",
       "    <tr>\n",
       "      <th>Shooter</th>\n",
       "      <td>1041.36</td>\n",
       "    </tr>\n",
       "    <tr>\n",
       "      <th>Role-Playing</th>\n",
       "      <td>931.08</td>\n",
       "    </tr>\n",
       "    <tr>\n",
       "      <th>Platform</th>\n",
       "      <td>825.55</td>\n",
       "    </tr>\n",
       "    <tr>\n",
       "      <th>Misc</th>\n",
       "      <td>790.29</td>\n",
       "    </tr>\n",
       "    <tr>\n",
       "      <th>Racing</th>\n",
       "      <td>723.49</td>\n",
       "    </tr>\n",
       "    <tr>\n",
       "      <th>Fighting</th>\n",
       "      <td>442.66</td>\n",
       "    </tr>\n",
       "    <tr>\n",
       "      <th>Simulation</th>\n",
       "      <td>387.96</td>\n",
       "    </tr>\n",
       "    <tr>\n",
       "      <th>Puzzle</th>\n",
       "      <td>239.89</td>\n",
       "    </tr>\n",
       "    <tr>\n",
       "      <th>Adventure</th>\n",
       "      <td>233.33</td>\n",
       "    </tr>\n",
       "    <tr>\n",
       "      <th>Strategy</th>\n",
       "      <td>172.57</td>\n",
       "    </tr>\n",
       "  </tbody>\n",
       "</table>\n",
       "</div>"
      ],
      "text/plain": [
       "              total_sales\n",
       "genre                    \n",
       "Action            1716.52\n",
       "Sports            1309.67\n",
       "Shooter           1041.36\n",
       "Role-Playing       931.08\n",
       "Platform           825.55\n",
       "Misc               790.29\n",
       "Racing             723.49\n",
       "Fighting           442.66\n",
       "Simulation         387.96\n",
       "Puzzle             239.89\n",
       "Adventure          233.33\n",
       "Strategy           172.57"
      ]
     },
     "execution_count": 52,
     "metadata": {},
     "output_type": "execute_result"
    }
   ],
   "source": [
    "data_genre_sales = data.pivot_table(index = 'genre', values = 'total_sales', aggfunc = 'sum').sort_values(by = 'total_sales', ascending = False)\n",
    "data_genre_sales"
   ]
  },
  {
   "cell_type": "markdown",
   "metadata": {},
   "source": [
    "Жанр Action, оказался самым продаваемым жанром, такие жанры как Sports,Shooter,Playing,Platform,Misc,Racing с большим отрывом превосходят игры чей жанр находится ниже в таблице. Самый не популярный жанр - Strategy."
   ]
  },
  {
   "cell_type": "markdown",
   "metadata": {},
   "source": [
    "Для выявления более прибыльных жанров постоим boxplot"
   ]
  },
  {
   "cell_type": "code",
   "execution_count": 53,
   "metadata": {},
   "outputs": [
    {
     "data": {
      "image/png": "[encoded data removed]",
      "text/plain": [
       "<Figure size 1440x1080 with 1 Axes>"
      ]
     },
     "metadata": {
      "needs_background": "light"
     },
     "output_type": "display_data"
    }
   ],
   "source": [
    "plt.figure(figsize=(20, 15))\n",
    "\n",
    "sns.boxplot(x = 'total_sales', y = 'genre', data = data_2012)\n",
    "plt.xlabel('продажи')\n",
    "plt.ylabel('платформы')\n",
    "plt.title('Глобальные продажи по платформам')\n",
    "plt.xlim(-0.2, 3)\n",
    "plt.grid(True)\n",
    "\n",
    "plt.show()"
   ]
  },
  {
   "cell_type": "markdown",
   "metadata": {},
   "source": [
    "# Вывод\n",
    "\n",
    "Мы провели исследовательский анализ, в ходе которого выяснили, что рынок видеоигр пережил очень многое, начиная от плавного роста в 90х и формирования новой \"культуры\", инновационных 00х, когда на свет появились шедевры, у которых до сих пор миллионы фанатов по всему миру, затем были пиковые года, значения по выпуску видеоигр в которых достигало почти 1500 игр, и далее снижении вускаемых игр - что могло быть связано с всемирным экономическим кризисом.\n",
    "\n",
    "Далее мы узнали, что средний жизненный цикл платформ варьируется около 10 лет, ведь всегда на смену старым платформам приходят более новые, современные и мощные платформы. Определили соответствующий актуальный период, за точку отсчета взяли 2012 год, и вычеслили самые \"прибыльные\" платформы за данный период.\n",
    "\n",
    "Далее мы изучили зависимость оценок и общих продаж в рамках одной из крупных платформ - PS4, и выяснили, что оценки критиков практически не влияют на уровень продаж видеоигр. Эта картина сохранилась так же и для общей картины по всем платформам.\n",
    "\n",
    "Исторически-популярными стали жанры такие как: экшены, игры спортивной тематики, шутеры и рпг."
   ]
  },
  {
   "cell_type": "markdown",
   "metadata": {},
   "source": [
    "## Составьте портрет пользователя каждого региона"
   ]
  },
  {
   "cell_type": "markdown",
   "metadata": {},
   "source": [
    "Определите для пользователя каждого региона (NA, EU, JP):\n",
    "\n",
    "    -Самые популярные платформы (топ-5). Опишите различия в долях продаж.\n",
    "    -Самые популярные жанры (топ-5). Поясните разницу.\n",
    "    -Влияет ли рейтинг ESRB на продажи в отдельном регионе?"
   ]
  },
  {
   "cell_type": "markdown",
   "metadata": {},
   "source": [
    "Создадим две функции для выявления топ 5 платформ в том или ином регионе, а так же фукнцию строящую графики по этим топ платформам."
   ]
  },
  {
   "cell_type": "code",
   "execution_count": 54,
   "metadata": {},
   "outputs": [],
   "source": [
    "# функция топ-платформ\n",
    "\n",
    "def top_n_items(df, group_field, method='count', sum_field='none', n_items=5):\n",
    "    \"\"\"\n",
    "    Функция возвращает top-N значений столбца датафрейма df, сгруппированных по полю group_field.\n",
    "    \n",
    "    Parameters\n",
    "    ----------\n",
    "    df: Pandas Dataframe\n",
    "        Набор данных.\n",
    "    group_field: string\n",
    "        Поле, по которому будет сделана группировка данных.\n",
    "    method: string\n",
    "        count - значение по умолчанию, sum - второе возможное значение.\n",
    "    sum_field: int\n",
    "        Название поля, по которому будет посчитана сумма при группировке.\n",
    "    n_items: string\n",
    "        5 - значение по умолчанию. Количество возвращаемых значений.\n",
    "    \n",
    "    Returns\n",
    "    -------\n",
    "    top_N_items: list\n",
    "        Cписок top-N значений поля group_field, полученного в результате применения метода method\n",
    "        по полю sum_field к набору данных df\n",
    "    df_grouped: Pandas Dataframe\n",
    "        Датафрейм с top-N значений поля group_field и статистика после применения метода method\n",
    "    \"\"\"\n",
    "    \n",
    "    # определяем top-N позиций\n",
    "    if method == 'count':\n",
    "        df_grouped = df.groupby(group_field)['name'].count().reset_index()\n",
    "    elif method == 'sum' and sum_field != 'none':    \n",
    "        df_grouped = df.groupby(group_field)[sum_field].sum().reset_index()\n",
    "    else:\n",
    "        return\n",
    "    \n",
    "    df_grouped.columns = [group_field, method]\n",
    "    df_grouped.sort_values(by = method, ascending = False, inplace = True)\n",
    "    top_N_items = df_grouped[group_field].head(n_items).to_list()\n",
    "    \n",
    "    return top_N_items, df_grouped.head(n_items)"
   ]
  },
  {
   "cell_type": "code",
   "execution_count": 55,
   "metadata": {},
   "outputs": [],
   "source": [
    "# фунция визуализации\n",
    "\n",
    "def plot_region(df, sum_field, method = 'sum', n_items = 5):\n",
    "    \n",
    "    \"\"\"\n",
    "    Функция выводит на экран набор графиков для проведения анализа портрета пользователя:\n",
    "    - top-N платформ по продажам\n",
    "    - top-N жанров по продажам\n",
    "    - продажи по рейтингу\n",
    "    \n",
    "    Parameters\n",
    "    ----------\n",
    "    df: Pandas Dataframe\n",
    "        Набор данных.\n",
    "    sum_field: string\n",
    "        Поле, по которому будет сделана группировка данных.\n",
    "    method: string\n",
    "        count - значение по умолчанию, sum - второе возможное значение.\n",
    "    n_items: string\n",
    "        5 - значение по умолчанию. Количество возвращаемых значений.\n",
    "    \n",
    "    Returns\n",
    "    -------\n",
    "        Функция возвращает None.\n",
    "    \"\"\"\n",
    "    \n",
    "    # получаем список и датафрейм top-N значений по платформе и жанру\n",
    "    top_5_platforms , df_top_5_platforms = top_n_items(df, 'platform', method = method\n",
    "                                                       , sum_field = sum_field, n_items = n_items)\n",
    "    top_5_genres , df_top_5_genres = top_n_items(df, 'genre', method = method\n",
    "                                                 , sum_field = sum_field, n_items = n_items)\n",
    "    \n",
    "    \n",
    "    # задаем графики\n",
    "    fig, ax = plt.subplots(1,3, figsize = (20,5))\n",
    "    fig.subplots_adjust(hspace = 0.5)\n",
    "\n",
    "    # top-N платформ по продажам\n",
    "    ax[0].set_xlabel('Платформа', fontsize = 16)\n",
    "    ax[0].set_ylabel('Продажи', fontsize = 16)\n",
    "    ax[0].set_title('Продажи top-' + str(n_items) + ' платформ', fontsize = 16)\n",
    "    ax[0].bar(df_top_5_platforms['platform'], df_top_5_platforms[method], color = 'red')\n",
    "\n",
    "    # top-N жанров по продажам\n",
    "    ax[1].set_xlabel('Жанр', fontsize = 16)\n",
    "    ax[1].set_ylabel('Продажи', fontsize = 16)\n",
    "    ax[1].set_title('Продажи top-' + str(n_items) + ' жанров', fontsize = 16)\n",
    "    ax[1].bar(df_top_5_genres['genre'], df_top_5_genres[method], color = 'green')\n",
    "\n",
    "    # продажи по рейтингу\n",
    "    df_rating = df.groupby('rating')[sum_field].sum().reset_index()\n",
    "    df_rating.columns = ['rating', method]\n",
    "\n",
    "    ax[2].set_xlabel('Рейтинг', fontsize = 16)\n",
    "    ax[2].set_ylabel('Продажи', fontsize = 16)\n",
    "    ax[2].set_title('Продажи от рейтинга', fontsize = 16)\n",
    "    ax[2].bar(df_rating['rating'], df_rating[method], color = 'blue')\n",
    "    \n",
    "    plt.show()"
   ]
  },
  {
   "cell_type": "code",
   "execution_count": 56,
   "metadata": {},
   "outputs": [
    {
     "data": {
      "image/png": "[encoded data removed]",
      "text/plain": [
       "<Figure size 1440x360 with 3 Axes>"
      ]
     },
     "metadata": {
      "needs_background": "light"
     },
     "output_type": "display_data"
    }
   ],
   "source": [
    "# Изучим NA регион\n",
    "\n",
    "# вызываем нашу функцию с соответсвующим значением\n",
    "plot_region(data_2012, 'na_sales', method = 'sum', n_items = 5)"
   ]
  },
  {
   "cell_type": "code",
   "execution_count": 57,
   "metadata": {},
   "outputs": [
    {
     "data": {
      "image/png": "[encoded data removed]",
      "text/plain": [
       "<Figure size 1440x360 with 3 Axes>"
      ]
     },
     "metadata": {
      "needs_background": "light"
     },
     "output_type": "display_data"
    }
   ],
   "source": [
    "# Изучим EU регион\n",
    "\n",
    "# вызываем нашу функцию с соответсвующим значением\n",
    "plot_region(data_2012, 'eu_sales', method = 'sum', n_items = 5)"
   ]
  },
  {
   "cell_type": "code",
   "execution_count": 58,
   "metadata": {},
   "outputs": [
    {
     "data": {
      "image/png": "[encoded data removed]",
      "text/plain": [
       "<Figure size 1440x360 with 3 Axes>"
      ]
     },
     "metadata": {
      "needs_background": "light"
     },
     "output_type": "display_data"
    }
   ],
   "source": [
    "# Изучим JP регион\n",
    "\n",
    "# вызываем нашу функцию с соответсвующим значением\n",
    "plot_region(data_2012, 'jp_sales', method = 'sum', n_items = 5)"
   ]
  },
  {
   "cell_type": "markdown",
   "metadata": {},
   "source": [
    "Изучив данные графики, можем охарактеризовать пользователей следующим образом: игроки из северной Америки из платформ предпочитают Xbox, скорее всего это из-за родины произхождения самой приставки, ведь это детище Microsoft, и впервые когда она вышла(это было в 2001-2002), она была прямым конкурентом PS2 на тот момент, затем... могу предположить, что пользователь из NA все больше и больше захлестывало интересом к японской платформе Playstation, ведь эти 'монстры' все чаще и чаще выпускали свои новые эксклюзывы, в которые можно было только поиграть на PS. Плюс в ближайшем будущем они вупутят PS3(2006 год). Поэтому платформа PS рассположена впритирку на втором месте.\n",
    "\n",
    "Из жанров игроки предпочитают в большинстве своем игры жанра Экшен далее идет спортивные игры. Что касается возростного рейтинка, как мы можем заметить - это игры в основном игры с , рейтингом \"М\" - «Для взрослых»: Материалы игры не подходят для лиц младше 17 лет.\n",
    "\n",
    "\n",
    "EU игроки, в отличии от игроков из северной Америки, предпочтение отдают японскии приставкам PS2 и PS3, даже могу предположить, что в ближайшем будущем играки имеющую приставку PS3 обгонять пользователей с предудущей плойкой, что касается жанров - тут похожая картина, пользователи так же отдают свое предпочтение жанрам экшен, спортивным играм и шутерам, рейтинг возрастных категорий распределен +- так же, игроки предпочитают игры с возрастной категорией \"М\".\n",
    "\n",
    "JP игроки в отличее от своих братьев по джойстику/клавамыши, имеют немного иные вкусы и предпочтения. Лидером среди платформ стала коренная приставка Nintendo DS, в след за ней расположились - тоже меcтные PS и PS2. Жанры в этом регионе так же отличаются, с большим отрывом вырвались игры чей - жанр RP, Role Play Game(впринципе из личных наблюдей соглашусь, пользователи восточной - юговосточной азии всегда интересовались жанром RPG(MMORPG - massively multiplayer online role-playing game)), что касается игр и их возростных рейтингов - в Японии есть свой возростной рейтинг CERO, и погуглив извучил, что новым выходящим играм на те или иные платформы, очень сложно получить(акредитоваться) в Японии, тк там очень жесткий контроль по цензуре, в следсвии чего можно сделать вывод, что доминирущая наша созданная категория NR, это местное интропретирование рейтинга, которое не входит во всемирное, вероятнее всего игры из категории NR - имеют свои градации для Японии, такие как A,B,C,D,Z(для всех, от 12 лет, от 15 лет и тд)"
   ]
  },
  {
   "cell_type": "markdown",
   "metadata": {},
   "source": [
    "## Проверьте гипотезы\n",
    "\n",
    "1. Средние пользовательские рейтинги платформ Xbox One и PC одинаковые;\n",
    "\n",
    "2. Средние пользовательские рейтинги жанров Action (англ. «действие», экшен-игры) и Sports (англ. «спортивные соревнования») разные.\n",
    "\n",
    "Задайте самостоятельно пороговое значение alpha."
   ]
  },
  {
   "cell_type": "markdown",
   "metadata": {},
   "source": [
    "### Средние пользовательские рейтинги платформ Xbox One и PC одинаковые;"
   ]
  },
  {
   "cell_type": "markdown",
   "metadata": {},
   "source": [
    "Проверим гипотезу о равенстве средних пользовательских рейтингов для платформ Xbox one и PC\n",
    "\n",
    "Сформируем нулевую и альтернативную гипотезу с ледующим образом:\n",
    "\n",
    "h0: Средние пользовательские рейтинги платформ Xbox One и PC равны\n",
    "\n",
    "h1: Средние пользовательские рейтинги отличаются\n",
    "\n",
    "Т.к мы сформировали гипотезы таким образом, что у нас __либо равны либо не равны средние__, параметр __alternative__ будет дефолтным т.е ту сайдс\n",
    "\n",
    "Еще, мы сравниваем две разные генеральные совокупности , и чтобы понять какой параметр qual_var выставлять сравним их длину."
   ]
  },
  {
   "cell_type": "code",
   "execution_count": 59,
   "metadata": {},
   "outputs": [
    {
     "data": {
      "text/plain": [
       "False"
      ]
     },
     "execution_count": 59,
     "metadata": {},
     "output_type": "execute_result"
    }
   ],
   "source": [
    "len(data_2012[data_2012['platform'] == 'XOne']) == len(data_2012[data_2012['platform'] == 'PC'])\n",
    "\n",
    "# различаются, следовательно в параметре qual_var мы выставим значение False"
   ]
  },
  {
   "cell_type": "code",
   "execution_count": 60,
   "metadata": {},
   "outputs": [
    {
     "name": "stdout",
     "output_type": "stream",
     "text": [
      "Средняя оценка пользователей Xbox One: 6.8\n",
      "Среднее оценка пользователей PC: 6.8\n",
      "\n",
      "p-value: 0.5489537965134912\n",
      "\n",
      "Нет оснований отвергать нулевую гипотезу\n"
     ]
    }
   ],
   "source": [
    "# уровень статистической зависимости примем за 5%\n",
    "alpha = 0.05\n",
    "\n",
    "# передадим набор данных в переменные \n",
    "\n",
    "xbox_one = data_2012[(data_2012['platform'] == 'XOne') & (~data_2012['user_score'].isna())] \n",
    "pc = data_2012[(data_2012['platform'] == 'PC') & (~data_2012['user_score'].isna())] \n",
    "\n",
    "# проводим ttest для двух выборок\n",
    "results = st.ttest_ind(xbox_one['user_score'], pc['user_score'], equal_var = False)\n",
    "\n",
    "print(f\"Средняя оценка пользователей Xbox One: {round(xbox_one['user_score'].median(), 2)}\")\n",
    "print(f\"Среднее оценка пользователей PC: {round(pc['user_score'].median(), 2)}\")\n",
    "print()\n",
    "\n",
    "print(f'p-value: {results.pvalue}')\n",
    "\n",
    "if results.pvalue < alpha:\n",
    "    print('\\nОтвергаем нулевую гипотезу')\n",
    "else:\n",
    "    print('\\nНет оснований отвергать нулевую гипотезу')"
   ]
  },
  {
   "cell_type": "markdown",
   "metadata": {},
   "source": [
    "\n",
    "Мы видим, что нет освнований отвергать гипотезу о равестве средних оценок"
   ]
  },
  {
   "cell_type": "markdown",
   "metadata": {},
   "source": [
    "### Средние пользовательские рейтинги жанров Action (англ. «действие», экшен-игры) и Sports (англ. «спортивные соревнования») разные."
   ]
  },
  {
   "cell_type": "markdown",
   "metadata": {},
   "source": [
    "Гипотеза: Средние пользовательские рейтинги жанров Action и Sports разные.\n",
    "\n",
    "Сформулируем гипотезы след образом:\n",
    "\n",
    "h0: Средние пользовательские рейтинги жанров Action и Sports равны.\n",
    "\n",
    "h1: Средние пользовательские рейтинги жанров Action и Sports разные."
   ]
  },
  {
   "cell_type": "code",
   "execution_count": 61,
   "metadata": {},
   "outputs": [
    {
     "data": {
      "text/plain": [
       "False"
      ]
     },
     "execution_count": 61,
     "metadata": {},
     "output_type": "execute_result"
    }
   ],
   "source": [
    "len(data_2012[(data_2012['genre'] == 'Action') & (~data_2012['user_score'].isna())]) == len(data_2012[(data_2012['genre'] == 'Sports') & (~data_2012['user_score'].isna())])\n",
    "\n"
   ]
  },
  {
   "cell_type": "code",
   "execution_count": 62,
   "metadata": {},
   "outputs": [
    {
     "name": "stdout",
     "output_type": "stream",
     "text": [
      "Средняя оценка пользователей жанра Action: 7.1\n",
      "Средняя оценка пользователей жанра Sports: 5.7\n",
      "\n",
      "p-value: 4.24307776572644e-20\n",
      "\n",
      "Отвергаем нулевую гипотезу\n"
     ]
    }
   ],
   "source": [
    "# уровень статистической зависимости примем за 5%\n",
    "alpha = 0.05\n",
    "\n",
    "# передадим набор данных в переменные \n",
    "\n",
    "action = data_2012[(data_2012['genre'] == 'Action') & (~data_2012['user_score'].isna())]\n",
    "sports = data_2012[(data_2012['genre'] == 'Sports') & (~data_2012['user_score'].isna())] \n",
    "\n",
    "# проводим ttest для двух выборок\n",
    "results = st.ttest_ind(action['user_score'], sports['user_score'],equal_var = False)\n",
    " \n",
    "print(f\"Средняя оценка пользователей жанра Action: {round(action['user_score'].median(), 2)}\")\n",
    "print(f\"Средняя оценка пользователей жанра Sports: {round(sports['user_score'].median(), 2)}\")\n",
    "print()\n",
    "\n",
    "print(f'p-value: {results.pvalue}')\n",
    "\n",
    "if results.pvalue < alpha:\n",
    "    print('\\nОтвергаем нулевую гипотезу')\n",
    "else:\n",
    "    print('\\nНет оснований отвергнуть нулевую гипотезу')"
   ]
  },
  {
   "cell_type": "markdown",
   "metadata": {},
   "source": [
    "\n",
    "После замены данных на актуальный период, как мы можем видеть средние оценки стали различаться, мы отвергли нулевую гипотезу - что средние пользовательские рейтинги жанров Action и Sports равны."
   ]
  },
  {
   "cell_type": "markdown",
   "metadata": {},
   "source": [
    "# Общий Вывод\n",
    "\n",
    "\n",
    "В ходе проекта мы познакомились с __историческими данными о продажах игр, оценками пользователей и экспертов, жанрами и различными платформами__.\n",
    "\n",
    "С самого начала нам был дан файл(датафрейм) в котором хранились данные о играх, типы платформ, года релиза, оценки пользователей и критиков и тд. __На этапе предобработки данных__, выполнили слудующие действия: \n",
    "\n",
    "    - привели название столбцов в нижний регистр;\n",
    "    - изменили типы данных в столбац year_of_release и user_score;\n",
    "    - заполнили пропуски где это было возможно;\n",
    "    - обработали дубликаты; \n",
    "    - добавили новый столбец с суммарной выручкой по всем регионам\n",
    "    \n",
    "Далее на провели __исследовательский анализ__ в ходе которого мы наглядно увидели, как __менялось количество вупускаевых игр с каждым годом__, что переломный момент, когда стремительно началось массовое выпускание игр от разных платформ, пришелся на 00вые, и пиковые значения по выпуску игр в год на 2007 - 2011 года. Выявили для себя __актуальный период__ для для прогнозирования, решили взять период за последние 5 лет, с 2012 по 2016 неполный. Отобрали самые прибыльные платформы и посмотрели на них поближе - построив для всех __ящик с усами__, изучив их стало понятно, что медианное значение продаж, у всех компаний ниже 1 млн,и что зачастую общую прибыльность приносят супер крутые тайтлы(на графике видно, что есть выбросы и не в еденичном случае).  Так же провели исследование __зависимости общих продаж от оценок критиков и оценок пользователей__ - мы выянили, что прямой и сильной зависимости практически нет. Далее мы __рассмотрели популярность жанров__ - игры чей жанр Action, Sports, Shooter лидируют и принесли больше всего денег своим платформам. \n",
    "\n",
    "__Охарактеризовали портреты__ того или иного региона, наглядно сравнили __каким платформам отдают предпочтение игроки__: в Северной Америке - больше всего это Xbox и PS3, в Европе - PS2 и PS3, в Японии - это Nintendo DS, далее PS и PS2 соответсвенно. Что __касается жанров__, то в NA и EU картина схожая, игроки предпочитают экшены, спортивные симуляторы и шутеры, в то время, как в JR, коммюнити любительей Role Play почти вдвое больше чем у экшен, и спортивных игры. Игры с __возрастным рейтингом__ \"M\" самые распространенные в европе и северной америке, в то время как в японии лидирует NR(созданная категория), скорее всего это из-за того, что в Японии есть свой возростной рейтинг CERO - и вполне вероятно игры которые мы изучали, они есть и в Японском рейтинге, только уже со своими внутренними категориями A,B,C,D,Z.\n",
    "\n",
    "Следущий и последний шаг - это __проверка гипотез__. \n",
    "\n",
    "   1. Средние пользовательские рейтинги платформ Xbox One и PC одинаковые.\n",
    "        - Не удалось отвергнуть нулевую гипотезу о равенстве средних показателей. \n",
    "        \n",
    "        \n",
    "   2. Средние пользовательские рейтинги жанров Action и Sports разные.\n",
    "         - Отвергли нулевую гипотезу о равентсве средних показателей рейтинга жанров Action и Sports .\n",
    "  \n",
    "  \n",
    "  \n",
    "__Наконец, мини прогноз на 2017 год, планируя рекламную компанию стоит обратить внимание на платформу PS4, так как она сремительно сменяет предыдущее свое поколение приставку PS3, а так же стоит обратить внимание на Xbox One и Nintendo WiiU, что касается игр - популярны будут жанры экшен, спортивные игры и шутеры. Планируя рекламу стоит так же помнить про особенность рынка, западный и восточный регионы - различаются, на примере Японии мы увидели, как сильно отличаются запросы у игроков того или иного региона.__    \n",
    "        \n",
    "        "
   ]
  },
  {
   "cell_type": "code",
   "execution_count": null,
   "metadata": {},
   "outputs": [],
   "source": []
  }
 ],
 "metadata": {
  "ExecuteTimeLog": [
   {
    "duration": 1436,
    "start_time": "2023-07-15T14:35:54.902Z"
   },
   {
    "duration": 7,
    "start_time": "2023-07-15T14:36:06.595Z"
   },
   {
    "duration": 7,
    "start_time": "2023-07-15T14:36:17.389Z"
   },
   {
    "duration": 3,
    "start_time": "2023-07-15T14:36:35.544Z"
   },
   {
    "duration": 3,
    "start_time": "2023-07-15T14:43:39.453Z"
   },
   {
    "duration": 92,
    "start_time": "2023-07-15T14:46:32.767Z"
   },
   {
    "duration": 62,
    "start_time": "2023-07-15T14:46:45.494Z"
   },
   {
    "duration": 22,
    "start_time": "2023-07-15T14:46:50.104Z"
   },
   {
    "duration": 47,
    "start_time": "2023-07-16T03:46:22.317Z"
   },
   {
    "duration": 1278,
    "start_time": "2023-07-16T03:46:28.798Z"
   },
   {
    "duration": 448,
    "start_time": "2023-07-16T03:46:30.078Z"
   },
   {
    "duration": 24,
    "start_time": "2023-07-16T03:46:30.529Z"
   },
   {
    "duration": 34,
    "start_time": "2023-07-16T03:46:30.555Z"
   },
   {
    "duration": 1982,
    "start_time": "2023-07-16T03:47:01.901Z"
   },
   {
    "duration": 3,
    "start_time": "2023-07-16T03:48:44.537Z"
   },
   {
    "duration": 16,
    "start_time": "2023-07-16T03:48:52.733Z"
   },
   {
    "duration": 18,
    "start_time": "2023-07-16T04:01:08.146Z"
   },
   {
    "duration": 10,
    "start_time": "2023-07-16T04:01:15.516Z"
   },
   {
    "duration": 10,
    "start_time": "2023-07-16T04:01:24.237Z"
   },
   {
    "duration": 5,
    "start_time": "2023-07-16T04:02:45.598Z"
   },
   {
    "duration": 1689,
    "start_time": "2023-07-16T04:03:53.308Z"
   },
   {
    "duration": 1123,
    "start_time": "2023-07-16T04:04:09.676Z"
   },
   {
    "duration": 55,
    "start_time": "2023-07-16T04:04:10.801Z"
   },
   {
    "duration": 22,
    "start_time": "2023-07-16T04:04:10.858Z"
   },
   {
    "duration": 13,
    "start_time": "2023-07-16T04:04:10.881Z"
   },
   {
    "duration": 13,
    "start_time": "2023-07-16T04:04:10.896Z"
   },
   {
    "duration": 1870,
    "start_time": "2023-07-16T04:04:10.910Z"
   },
   {
    "duration": 0,
    "start_time": "2023-07-16T04:04:12.782Z"
   },
   {
    "duration": 0,
    "start_time": "2023-07-16T04:04:12.782Z"
   },
   {
    "duration": 6,
    "start_time": "2023-07-16T04:04:39.814Z"
   },
   {
    "duration": 5,
    "start_time": "2023-07-16T04:04:41.982Z"
   },
   {
    "duration": 10,
    "start_time": "2023-07-16T04:05:07.165Z"
   },
   {
    "duration": 5,
    "start_time": "2023-07-16T04:05:18.650Z"
   },
   {
    "duration": 7,
    "start_time": "2023-07-16T04:05:27.655Z"
   },
   {
    "duration": 6,
    "start_time": "2023-07-16T04:05:34.216Z"
   },
   {
    "duration": 7,
    "start_time": "2023-07-16T04:05:44.256Z"
   },
   {
    "duration": 11,
    "start_time": "2023-07-16T04:05:55.672Z"
   },
   {
    "duration": 7,
    "start_time": "2023-07-16T04:06:01.346Z"
   },
   {
    "duration": 5,
    "start_time": "2023-07-16T04:06:52.107Z"
   },
   {
    "duration": 6,
    "start_time": "2023-07-16T04:07:01.663Z"
   },
   {
    "duration": 1149,
    "start_time": "2023-07-16T04:17:21.549Z"
   },
   {
    "duration": 54,
    "start_time": "2023-07-16T04:17:22.700Z"
   },
   {
    "duration": 23,
    "start_time": "2023-07-16T04:17:22.756Z"
   },
   {
    "duration": 15,
    "start_time": "2023-07-16T04:17:22.780Z"
   },
   {
    "duration": 24,
    "start_time": "2023-07-16T04:17:22.797Z"
   },
   {
    "duration": 4,
    "start_time": "2023-07-16T04:17:22.823Z"
   },
   {
    "duration": 7,
    "start_time": "2023-07-16T04:17:22.829Z"
   },
   {
    "duration": 5,
    "start_time": "2023-07-16T04:17:22.838Z"
   },
   {
    "duration": 7,
    "start_time": "2023-07-16T04:17:22.845Z"
   },
   {
    "duration": 27,
    "start_time": "2023-07-16T04:17:22.853Z"
   },
   {
    "duration": 18,
    "start_time": "2023-07-16T04:43:00.249Z"
   },
   {
    "duration": 12,
    "start_time": "2023-07-16T04:43:04.177Z"
   },
   {
    "duration": 14,
    "start_time": "2023-07-16T04:45:20.461Z"
   },
   {
    "duration": 13,
    "start_time": "2023-07-16T04:45:36.363Z"
   },
   {
    "duration": 1074,
    "start_time": "2023-07-16T04:59:26.022Z"
   },
   {
    "duration": 52,
    "start_time": "2023-07-16T04:59:27.098Z"
   },
   {
    "duration": 23,
    "start_time": "2023-07-16T04:59:27.152Z"
   },
   {
    "duration": 14,
    "start_time": "2023-07-16T04:59:27.177Z"
   },
   {
    "duration": 10,
    "start_time": "2023-07-16T04:59:27.192Z"
   },
   {
    "duration": 6,
    "start_time": "2023-07-16T04:59:27.203Z"
   },
   {
    "duration": 7,
    "start_time": "2023-07-16T04:59:27.211Z"
   },
   {
    "duration": 15,
    "start_time": "2023-07-16T04:59:27.220Z"
   },
   {
    "duration": 6,
    "start_time": "2023-07-16T04:59:27.236Z"
   },
   {
    "duration": 22,
    "start_time": "2023-07-16T04:59:27.267Z"
   },
   {
    "duration": 12,
    "start_time": "2023-07-16T04:59:27.291Z"
   },
   {
    "duration": 96,
    "start_time": "2023-07-16T04:59:57.666Z"
   },
   {
    "duration": 8,
    "start_time": "2023-07-16T05:01:10.543Z"
   },
   {
    "duration": 5,
    "start_time": "2023-07-16T05:01:13.853Z"
   },
   {
    "duration": 14,
    "start_time": "2023-07-16T05:01:37.793Z"
   },
   {
    "duration": 5,
    "start_time": "2023-07-16T05:03:02.047Z"
   },
   {
    "duration": 17,
    "start_time": "2023-07-16T05:04:09.883Z"
   },
   {
    "duration": 16,
    "start_time": "2023-07-16T05:04:28.663Z"
   },
   {
    "duration": 21,
    "start_time": "2023-07-16T05:05:47.341Z"
   },
   {
    "duration": 1492,
    "start_time": "2023-07-17T08:17:27.296Z"
   },
   {
    "duration": 100,
    "start_time": "2023-07-17T08:17:28.791Z"
   },
   {
    "duration": 28,
    "start_time": "2023-07-17T08:17:28.893Z"
   },
   {
    "duration": 17,
    "start_time": "2023-07-17T08:17:28.923Z"
   },
   {
    "duration": 14,
    "start_time": "2023-07-17T08:17:28.944Z"
   },
   {
    "duration": 16,
    "start_time": "2023-07-17T08:17:28.959Z"
   },
   {
    "duration": 7,
    "start_time": "2023-07-17T08:17:28.977Z"
   },
   {
    "duration": 7,
    "start_time": "2023-07-17T08:17:29.008Z"
   },
   {
    "duration": 21,
    "start_time": "2023-07-17T08:17:29.017Z"
   },
   {
    "duration": 38,
    "start_time": "2023-07-17T08:17:29.041Z"
   },
   {
    "duration": 66,
    "start_time": "2023-07-17T08:17:29.081Z"
   },
   {
    "duration": 30,
    "start_time": "2023-07-17T08:17:29.150Z"
   },
   {
    "duration": 9,
    "start_time": "2023-07-17T08:17:29.182Z"
   },
   {
    "duration": 45,
    "start_time": "2023-07-17T08:17:29.195Z"
   },
   {
    "duration": 14,
    "start_time": "2023-07-17T08:17:29.242Z"
   },
   {
    "duration": 9,
    "start_time": "2023-07-17T08:17:29.258Z"
   },
   {
    "duration": 5,
    "start_time": "2023-07-17T08:17:39.691Z"
   },
   {
    "duration": 2,
    "start_time": "2023-07-17T08:19:16.290Z"
   },
   {
    "duration": 4,
    "start_time": "2023-07-17T08:19:44.447Z"
   },
   {
    "duration": 4,
    "start_time": "2023-07-17T08:19:49.138Z"
   },
   {
    "duration": 4,
    "start_time": "2023-07-17T08:20:10.484Z"
   },
   {
    "duration": 6,
    "start_time": "2023-07-17T08:20:36.084Z"
   },
   {
    "duration": 1248,
    "start_time": "2023-07-17T08:20:43.363Z"
   },
   {
    "duration": 64,
    "start_time": "2023-07-17T08:20:44.615Z"
   },
   {
    "duration": 30,
    "start_time": "2023-07-17T08:20:44.681Z"
   },
   {
    "duration": 48,
    "start_time": "2023-07-17T08:20:44.714Z"
   },
   {
    "duration": 53,
    "start_time": "2023-07-17T08:20:44.764Z"
   },
   {
    "duration": 50,
    "start_time": "2023-07-17T08:20:44.819Z"
   },
   {
    "duration": 69,
    "start_time": "2023-07-17T08:20:44.871Z"
   },
   {
    "duration": 57,
    "start_time": "2023-07-17T08:20:44.941Z"
   },
   {
    "duration": 93,
    "start_time": "2023-07-17T08:20:45.001Z"
   },
   {
    "duration": 61,
    "start_time": "2023-07-17T08:20:45.097Z"
   },
   {
    "duration": 67,
    "start_time": "2023-07-17T08:20:45.160Z"
   },
   {
    "duration": 44,
    "start_time": "2023-07-17T08:20:45.229Z"
   },
   {
    "duration": 41,
    "start_time": "2023-07-17T08:20:45.275Z"
   },
   {
    "duration": 74,
    "start_time": "2023-07-17T08:20:45.319Z"
   },
   {
    "duration": 34,
    "start_time": "2023-07-17T08:20:45.395Z"
   },
   {
    "duration": 76,
    "start_time": "2023-07-17T08:20:45.431Z"
   },
   {
    "duration": 63,
    "start_time": "2023-07-17T08:20:45.510Z"
   },
   {
    "duration": 49,
    "start_time": "2023-07-17T08:20:45.575Z"
   },
   {
    "duration": 4,
    "start_time": "2023-07-17T08:21:02.191Z"
   },
   {
    "duration": 4,
    "start_time": "2023-07-17T08:21:28.764Z"
   },
   {
    "duration": 7,
    "start_time": "2023-07-17T08:21:53.312Z"
   },
   {
    "duration": 7,
    "start_time": "2023-07-17T08:22:24.552Z"
   },
   {
    "duration": 6,
    "start_time": "2023-07-17T08:22:36.147Z"
   },
   {
    "duration": 6,
    "start_time": "2023-07-17T08:24:29.288Z"
   },
   {
    "duration": 8,
    "start_time": "2023-07-17T08:25:57.795Z"
   },
   {
    "duration": 6,
    "start_time": "2023-07-17T08:26:47.315Z"
   },
   {
    "duration": 105,
    "start_time": "2023-07-17T08:27:13.555Z"
   },
   {
    "duration": 6,
    "start_time": "2023-07-17T08:27:17.415Z"
   },
   {
    "duration": 8,
    "start_time": "2023-07-17T08:28:19.589Z"
   },
   {
    "duration": 7,
    "start_time": "2023-07-17T08:45:31.907Z"
   },
   {
    "duration": 20,
    "start_time": "2023-07-17T08:46:43.958Z"
   },
   {
    "duration": 15,
    "start_time": "2023-07-17T08:58:07.759Z"
   },
   {
    "duration": 11,
    "start_time": "2023-07-17T08:58:20.760Z"
   },
   {
    "duration": 6,
    "start_time": "2023-07-17T09:01:08.349Z"
   },
   {
    "duration": 6,
    "start_time": "2023-07-17T09:04:35.369Z"
   },
   {
    "duration": 17,
    "start_time": "2023-07-17T09:04:42.591Z"
   },
   {
    "duration": 19,
    "start_time": "2023-07-17T09:08:34.492Z"
   },
   {
    "duration": 14,
    "start_time": "2023-07-17T09:09:17.720Z"
   },
   {
    "duration": 11,
    "start_time": "2023-07-17T09:13:11.676Z"
   },
   {
    "duration": 16,
    "start_time": "2023-07-17T09:14:44.247Z"
   },
   {
    "duration": 23,
    "start_time": "2023-07-17T09:14:58.118Z"
   },
   {
    "duration": 9,
    "start_time": "2023-07-17T09:15:09.855Z"
   },
   {
    "duration": 17,
    "start_time": "2023-07-17T09:16:00.974Z"
   },
   {
    "duration": 20,
    "start_time": "2023-07-17T09:16:40.036Z"
   },
   {
    "duration": 19,
    "start_time": "2023-07-17T09:16:43.863Z"
   },
   {
    "duration": 10,
    "start_time": "2023-07-17T09:21:51.232Z"
   },
   {
    "duration": 10,
    "start_time": "2023-07-17T09:22:00.480Z"
   },
   {
    "duration": 4,
    "start_time": "2023-07-17T09:22:10.835Z"
   },
   {
    "duration": 11,
    "start_time": "2023-07-17T09:22:12.939Z"
   },
   {
    "duration": 19,
    "start_time": "2023-07-17T09:22:19.111Z"
   },
   {
    "duration": 14,
    "start_time": "2023-07-17T09:22:31.508Z"
   },
   {
    "duration": 1300,
    "start_time": "2023-07-17T09:22:38.368Z"
   },
   {
    "duration": 60,
    "start_time": "2023-07-17T09:22:39.670Z"
   },
   {
    "duration": 31,
    "start_time": "2023-07-17T09:22:39.732Z"
   },
   {
    "duration": 32,
    "start_time": "2023-07-17T09:22:39.766Z"
   },
   {
    "duration": 23,
    "start_time": "2023-07-17T09:22:39.809Z"
   },
   {
    "duration": 28,
    "start_time": "2023-07-17T09:22:39.834Z"
   },
   {
    "duration": 20,
    "start_time": "2023-07-17T09:22:39.864Z"
   },
   {
    "duration": 46,
    "start_time": "2023-07-17T09:22:39.886Z"
   },
   {
    "duration": 21,
    "start_time": "2023-07-17T09:22:39.934Z"
   },
   {
    "duration": 36,
    "start_time": "2023-07-17T09:22:39.958Z"
   },
   {
    "duration": 41,
    "start_time": "2023-07-17T09:22:39.996Z"
   },
   {
    "duration": 29,
    "start_time": "2023-07-17T09:22:40.039Z"
   },
   {
    "duration": 20,
    "start_time": "2023-07-17T09:22:40.070Z"
   },
   {
    "duration": 54,
    "start_time": "2023-07-17T09:22:40.093Z"
   },
   {
    "duration": 20,
    "start_time": "2023-07-17T09:22:40.149Z"
   },
   {
    "duration": 19,
    "start_time": "2023-07-17T09:22:40.170Z"
   },
   {
    "duration": 4,
    "start_time": "2023-07-17T09:22:40.191Z"
   },
   {
    "duration": 14,
    "start_time": "2023-07-17T09:22:40.197Z"
   },
   {
    "duration": 50,
    "start_time": "2023-07-17T09:22:40.214Z"
   },
   {
    "duration": 29,
    "start_time": "2023-07-17T09:22:40.266Z"
   },
   {
    "duration": 39,
    "start_time": "2023-07-17T09:22:40.297Z"
   },
   {
    "duration": 9,
    "start_time": "2023-07-17T09:22:40.338Z"
   },
   {
    "duration": 39,
    "start_time": "2023-07-17T09:22:40.348Z"
   },
   {
    "duration": 17,
    "start_time": "2023-07-17T09:22:40.389Z"
   },
   {
    "duration": 12,
    "start_time": "2023-07-17T09:22:40.408Z"
   },
   {
    "duration": 26,
    "start_time": "2023-07-17T09:22:40.423Z"
   },
   {
    "duration": 20,
    "start_time": "2023-07-17T09:25:04.713Z"
   },
   {
    "duration": 1421,
    "start_time": "2023-07-17T09:25:13.277Z"
   },
   {
    "duration": 60,
    "start_time": "2023-07-17T09:25:14.701Z"
   },
   {
    "duration": 27,
    "start_time": "2023-07-17T09:25:14.763Z"
   },
   {
    "duration": 20,
    "start_time": "2023-07-17T09:25:14.792Z"
   },
   {
    "duration": 7,
    "start_time": "2023-07-17T09:25:14.815Z"
   },
   {
    "duration": 27,
    "start_time": "2023-07-17T09:25:14.824Z"
   },
   {
    "duration": 17,
    "start_time": "2023-07-17T09:25:14.853Z"
   },
   {
    "duration": 12,
    "start_time": "2023-07-17T09:25:14.872Z"
   },
   {
    "duration": 17,
    "start_time": "2023-07-17T09:25:14.886Z"
   },
   {
    "duration": 31,
    "start_time": "2023-07-17T09:25:14.905Z"
   },
   {
    "duration": 45,
    "start_time": "2023-07-17T09:25:14.938Z"
   },
   {
    "duration": 17,
    "start_time": "2023-07-17T09:25:14.986Z"
   },
   {
    "duration": 52,
    "start_time": "2023-07-17T09:25:15.006Z"
   },
   {
    "duration": 75,
    "start_time": "2023-07-17T09:25:15.061Z"
   },
   {
    "duration": 8,
    "start_time": "2023-07-17T09:25:15.138Z"
   },
   {
    "duration": 44,
    "start_time": "2023-07-17T09:25:15.148Z"
   },
   {
    "duration": 39,
    "start_time": "2023-07-17T09:25:15.194Z"
   },
   {
    "duration": 42,
    "start_time": "2023-07-17T09:25:15.235Z"
   },
   {
    "duration": 12,
    "start_time": "2023-07-17T09:25:15.278Z"
   },
   {
    "duration": 23,
    "start_time": "2023-07-17T09:25:15.292Z"
   },
   {
    "duration": 31,
    "start_time": "2023-07-17T09:25:15.318Z"
   },
   {
    "duration": 17,
    "start_time": "2023-07-17T09:25:15.350Z"
   },
   {
    "duration": 94,
    "start_time": "2023-07-17T09:25:15.369Z"
   },
   {
    "duration": 21,
    "start_time": "2023-07-17T09:25:15.464Z"
   },
   {
    "duration": 4,
    "start_time": "2023-07-17T09:25:15.487Z"
   },
   {
    "duration": 19,
    "start_time": "2023-07-17T09:25:15.492Z"
   },
   {
    "duration": 10,
    "start_time": "2023-07-17T09:30:34.255Z"
   },
   {
    "duration": 394,
    "start_time": "2023-07-17T09:34:59.660Z"
   },
   {
    "duration": 23,
    "start_time": "2023-07-17T09:35:08.084Z"
   },
   {
    "duration": 47,
    "start_time": "2023-07-17T09:45:57.980Z"
   },
   {
    "duration": 48,
    "start_time": "2023-07-17T18:59:16.196Z"
   },
   {
    "duration": 1539,
    "start_time": "2023-07-17T18:59:22.542Z"
   },
   {
    "duration": 95,
    "start_time": "2023-07-17T18:59:24.083Z"
   },
   {
    "duration": 26,
    "start_time": "2023-07-17T18:59:24.180Z"
   },
   {
    "duration": 18,
    "start_time": "2023-07-17T18:59:24.208Z"
   },
   {
    "duration": 6,
    "start_time": "2023-07-17T18:59:24.229Z"
   },
   {
    "duration": 27,
    "start_time": "2023-07-17T18:59:24.236Z"
   },
   {
    "duration": 8,
    "start_time": "2023-07-17T18:59:24.265Z"
   },
   {
    "duration": 38,
    "start_time": "2023-07-17T18:59:24.274Z"
   },
   {
    "duration": 16,
    "start_time": "2023-07-17T18:59:24.314Z"
   },
   {
    "duration": 8,
    "start_time": "2023-07-17T18:59:24.332Z"
   },
   {
    "duration": 23,
    "start_time": "2023-07-17T18:59:24.341Z"
   },
   {
    "duration": 16,
    "start_time": "2023-07-17T18:59:24.365Z"
   },
   {
    "duration": 13,
    "start_time": "2023-07-17T18:59:24.383Z"
   },
   {
    "duration": 27,
    "start_time": "2023-07-17T18:59:24.399Z"
   },
   {
    "duration": 25,
    "start_time": "2023-07-17T18:59:24.427Z"
   },
   {
    "duration": 10,
    "start_time": "2023-07-17T18:59:24.454Z"
   },
   {
    "duration": 5,
    "start_time": "2023-07-17T18:59:24.466Z"
   },
   {
    "duration": 12,
    "start_time": "2023-07-17T18:59:24.472Z"
   },
   {
    "duration": 7,
    "start_time": "2023-07-17T18:59:24.486Z"
   },
   {
    "duration": 9,
    "start_time": "2023-07-17T18:59:24.495Z"
   },
   {
    "duration": 49,
    "start_time": "2023-07-17T18:59:24.506Z"
   },
   {
    "duration": 6,
    "start_time": "2023-07-17T18:59:24.557Z"
   },
   {
    "duration": 20,
    "start_time": "2023-07-17T18:59:24.565Z"
   },
   {
    "duration": 15,
    "start_time": "2023-07-17T18:59:24.587Z"
   },
   {
    "duration": 4,
    "start_time": "2023-07-17T18:59:24.603Z"
   },
   {
    "duration": 45,
    "start_time": "2023-07-17T18:59:24.608Z"
   },
   {
    "duration": 40,
    "start_time": "2023-07-17T18:59:24.655Z"
   },
   {
    "duration": 6,
    "start_time": "2023-07-17T18:59:24.697Z"
   },
   {
    "duration": 10,
    "start_time": "2023-07-17T19:06:21.579Z"
   },
   {
    "duration": 22,
    "start_time": "2023-07-17T19:10:21.226Z"
   },
   {
    "duration": 4,
    "start_time": "2023-07-17T19:22:53.725Z"
   },
   {
    "duration": 7,
    "start_time": "2023-07-17T19:30:16.791Z"
   },
   {
    "duration": 5,
    "start_time": "2023-07-17T19:30:56.074Z"
   },
   {
    "duration": 8,
    "start_time": "2023-07-17T19:31:17.745Z"
   },
   {
    "duration": 5,
    "start_time": "2023-07-17T19:32:58.614Z"
   },
   {
    "duration": 7,
    "start_time": "2023-07-17T19:33:00.552Z"
   },
   {
    "duration": 8,
    "start_time": "2023-07-17T19:39:17.185Z"
   },
   {
    "duration": 13,
    "start_time": "2023-07-17T19:40:15.749Z"
   },
   {
    "duration": 3,
    "start_time": "2023-07-17T19:43:44.470Z"
   },
   {
    "duration": 5,
    "start_time": "2023-07-17T19:45:04.562Z"
   },
   {
    "duration": 15,
    "start_time": "2023-07-17T19:45:26.720Z"
   },
   {
    "duration": 15,
    "start_time": "2023-07-17T19:45:46.154Z"
   },
   {
    "duration": 8,
    "start_time": "2023-07-17T19:51:54.744Z"
   },
   {
    "duration": 9,
    "start_time": "2023-07-17T19:53:39.382Z"
   },
   {
    "duration": 371,
    "start_time": "2023-07-17T19:55:07.643Z"
   },
   {
    "duration": 382,
    "start_time": "2023-07-17T19:56:47.960Z"
   },
   {
    "duration": 353,
    "start_time": "2023-07-17T19:56:56.139Z"
   },
   {
    "duration": 196,
    "start_time": "2023-07-17T19:57:17.753Z"
   },
   {
    "duration": 200,
    "start_time": "2023-07-17T19:57:28.423Z"
   },
   {
    "duration": 185,
    "start_time": "2023-07-17T19:57:44.642Z"
   },
   {
    "duration": 195,
    "start_time": "2023-07-17T19:58:49.186Z"
   },
   {
    "duration": 178,
    "start_time": "2023-07-17T19:59:30.441Z"
   },
   {
    "duration": 187,
    "start_time": "2023-07-17T19:59:35.681Z"
   },
   {
    "duration": 260,
    "start_time": "2023-07-17T20:00:21.183Z"
   },
   {
    "duration": 180,
    "start_time": "2023-07-17T20:00:40.270Z"
   },
   {
    "duration": 189,
    "start_time": "2023-07-17T20:03:00.348Z"
   },
   {
    "duration": 209,
    "start_time": "2023-07-17T20:14:49.610Z"
   },
   {
    "duration": 9,
    "start_time": "2023-07-17T20:29:56.510Z"
   },
   {
    "duration": 15,
    "start_time": "2023-07-17T20:30:00.478Z"
   },
   {
    "duration": 107,
    "start_time": "2023-07-17T20:30:30.444Z"
   },
   {
    "duration": 5,
    "start_time": "2023-07-17T20:30:53.467Z"
   },
   {
    "duration": 7,
    "start_time": "2023-07-17T20:31:03.949Z"
   },
   {
    "duration": 8,
    "start_time": "2023-07-17T20:32:33.892Z"
   },
   {
    "duration": 13,
    "start_time": "2023-07-17T20:32:42.504Z"
   },
   {
    "duration": 8,
    "start_time": "2023-07-17T20:33:09.052Z"
   },
   {
    "duration": 8,
    "start_time": "2023-07-17T20:33:21.695Z"
   },
   {
    "duration": 7,
    "start_time": "2023-07-17T20:33:30.148Z"
   },
   {
    "duration": 147,
    "start_time": "2023-07-17T20:35:20.271Z"
   },
   {
    "duration": 278,
    "start_time": "2023-07-17T20:35:30.241Z"
   },
   {
    "duration": 6,
    "start_time": "2023-07-17T20:36:14.941Z"
   },
   {
    "duration": 295,
    "start_time": "2023-07-17T20:36:30.212Z"
   },
   {
    "duration": 132,
    "start_time": "2023-07-17T20:36:36.119Z"
   },
   {
    "duration": 249,
    "start_time": "2023-07-17T20:37:07.541Z"
   },
   {
    "duration": 188,
    "start_time": "2023-07-17T20:37:47.471Z"
   },
   {
    "duration": 12,
    "start_time": "2023-07-17T20:43:57.049Z"
   },
   {
    "duration": 18,
    "start_time": "2023-07-17T20:44:07.861Z"
   },
   {
    "duration": 16,
    "start_time": "2023-07-17T20:44:29.945Z"
   },
   {
    "duration": 16,
    "start_time": "2023-07-17T20:44:39.401Z"
   },
   {
    "duration": 144,
    "start_time": "2023-07-17T20:46:01.521Z"
   },
   {
    "duration": 448,
    "start_time": "2023-07-17T20:46:13.200Z"
   },
   {
    "duration": 25,
    "start_time": "2023-07-17T21:02:54.077Z"
   },
   {
    "duration": 162,
    "start_time": "2023-07-17T21:05:02.199Z"
   },
   {
    "duration": 165,
    "start_time": "2023-07-17T21:06:03.572Z"
   },
   {
    "duration": 237,
    "start_time": "2023-07-17T21:07:19.465Z"
   },
   {
    "duration": 550,
    "start_time": "2023-07-17T21:07:36.089Z"
   },
   {
    "duration": 129,
    "start_time": "2023-07-17T21:14:45.007Z"
   },
   {
    "duration": 7,
    "start_time": "2023-07-17T21:14:50.074Z"
   },
   {
    "duration": 764,
    "start_time": "2023-07-17T21:19:57.048Z"
   },
   {
    "duration": 306,
    "start_time": "2023-07-17T21:20:08.570Z"
   },
   {
    "duration": 27,
    "start_time": "2023-07-17T21:20:22.606Z"
   },
   {
    "duration": 857,
    "start_time": "2023-07-17T21:20:25.650Z"
   },
   {
    "duration": 758,
    "start_time": "2023-07-17T21:20:34.466Z"
   },
   {
    "duration": 787,
    "start_time": "2023-07-17T21:21:28.884Z"
   },
   {
    "duration": 911,
    "start_time": "2023-07-17T21:21:34.067Z"
   },
   {
    "duration": 772,
    "start_time": "2023-07-17T21:21:44.062Z"
   },
   {
    "duration": 772,
    "start_time": "2023-07-17T21:22:10.259Z"
   },
   {
    "duration": 583,
    "start_time": "2023-07-17T21:23:34.720Z"
   },
   {
    "duration": 99,
    "start_time": "2023-07-17T21:23:55.196Z"
   },
   {
    "duration": 96,
    "start_time": "2023-07-17T21:24:05.990Z"
   },
   {
    "duration": 891,
    "start_time": "2023-07-17T21:24:16.660Z"
   },
   {
    "duration": 808,
    "start_time": "2023-07-17T21:26:05.013Z"
   },
   {
    "duration": 781,
    "start_time": "2023-07-17T21:26:35.257Z"
   },
   {
    "duration": 801,
    "start_time": "2023-07-17T21:27:44.656Z"
   },
   {
    "duration": 498,
    "start_time": "2023-07-17T21:28:04.135Z"
   },
   {
    "duration": 1013,
    "start_time": "2023-07-17T21:28:17.849Z"
   },
   {
    "duration": 867,
    "start_time": "2023-07-17T21:28:32.768Z"
   },
   {
    "duration": 826,
    "start_time": "2023-07-17T21:28:42.177Z"
   },
   {
    "duration": 958,
    "start_time": "2023-07-17T21:29:10.892Z"
   },
   {
    "duration": 90,
    "start_time": "2023-07-17T21:29:42.900Z"
   },
   {
    "duration": 815,
    "start_time": "2023-07-17T21:29:56.611Z"
   },
   {
    "duration": 642,
    "start_time": "2023-07-17T21:30:05.220Z"
   },
   {
    "duration": 741,
    "start_time": "2023-07-17T21:30:11.994Z"
   },
   {
    "duration": 936,
    "start_time": "2023-07-17T21:30:21.547Z"
   },
   {
    "duration": 818,
    "start_time": "2023-07-17T21:31:23.783Z"
   },
   {
    "duration": 850,
    "start_time": "2023-07-17T21:32:15.072Z"
   },
   {
    "duration": 7,
    "start_time": "2023-07-17T21:33:21.375Z"
   },
   {
    "duration": 1002,
    "start_time": "2023-07-17T21:35:52.188Z"
   },
   {
    "duration": 778,
    "start_time": "2023-07-17T21:37:35.816Z"
   },
   {
    "duration": 15,
    "start_time": "2023-07-17T21:37:52.743Z"
   },
   {
    "duration": 13,
    "start_time": "2023-07-17T21:38:25.812Z"
   },
   {
    "duration": 855,
    "start_time": "2023-07-17T21:38:55.251Z"
   },
   {
    "duration": 126,
    "start_time": "2023-07-17T21:46:22.178Z"
   },
   {
    "duration": 178,
    "start_time": "2023-07-17T21:47:11.991Z"
   },
   {
    "duration": 31,
    "start_time": "2023-07-17T21:47:43.558Z"
   },
   {
    "duration": 10,
    "start_time": "2023-07-17T21:49:33.957Z"
   },
   {
    "duration": 5,
    "start_time": "2023-07-17T21:49:57.544Z"
   },
   {
    "duration": 8,
    "start_time": "2023-07-17T21:50:17.442Z"
   },
   {
    "duration": 29,
    "start_time": "2023-07-17T21:51:34.320Z"
   },
   {
    "duration": 29,
    "start_time": "2023-07-17T21:52:05.744Z"
   },
   {
    "duration": 28,
    "start_time": "2023-07-17T21:53:16.497Z"
   },
   {
    "duration": 28,
    "start_time": "2023-07-17T21:53:40.968Z"
   },
   {
    "duration": 10,
    "start_time": "2023-07-17T21:54:11.152Z"
   },
   {
    "duration": 20,
    "start_time": "2023-07-17T21:54:17.510Z"
   },
   {
    "duration": 9,
    "start_time": "2023-07-17T21:54:36.312Z"
   },
   {
    "duration": 143,
    "start_time": "2023-07-17T21:54:44.811Z"
   },
   {
    "duration": 100,
    "start_time": "2023-07-17T21:54:56.679Z"
   },
   {
    "duration": 22,
    "start_time": "2023-07-17T21:55:06.100Z"
   },
   {
    "duration": 28,
    "start_time": "2023-07-17T21:55:28.388Z"
   },
   {
    "duration": 51,
    "start_time": "2023-07-18T17:21:13.747Z"
   },
   {
    "duration": 1506,
    "start_time": "2023-07-18T17:21:20.364Z"
   },
   {
    "duration": 116,
    "start_time": "2023-07-18T17:21:21.872Z"
   },
   {
    "duration": 36,
    "start_time": "2023-07-18T17:21:21.990Z"
   },
   {
    "duration": 16,
    "start_time": "2023-07-18T17:21:22.027Z"
   },
   {
    "duration": 5,
    "start_time": "2023-07-18T17:21:22.045Z"
   },
   {
    "duration": 12,
    "start_time": "2023-07-18T17:21:22.052Z"
   },
   {
    "duration": 5,
    "start_time": "2023-07-18T17:21:22.066Z"
   },
   {
    "duration": 6,
    "start_time": "2023-07-18T17:21:22.073Z"
   },
   {
    "duration": 17,
    "start_time": "2023-07-18T17:21:22.107Z"
   },
   {
    "duration": 7,
    "start_time": "2023-07-18T17:21:22.126Z"
   },
   {
    "duration": 20,
    "start_time": "2023-07-18T17:21:22.135Z"
   },
   {
    "duration": 15,
    "start_time": "2023-07-18T17:21:22.156Z"
   },
   {
    "duration": 7,
    "start_time": "2023-07-18T17:21:22.173Z"
   },
   {
    "duration": 46,
    "start_time": "2023-07-18T17:21:22.183Z"
   },
   {
    "duration": 4,
    "start_time": "2023-07-18T17:21:22.231Z"
   },
   {
    "duration": 15,
    "start_time": "2023-07-18T17:21:22.237Z"
   },
   {
    "duration": 14,
    "start_time": "2023-07-18T17:21:22.254Z"
   },
   {
    "duration": 8,
    "start_time": "2023-07-18T17:21:22.270Z"
   },
   {
    "duration": 7,
    "start_time": "2023-07-18T17:21:22.279Z"
   },
   {
    "duration": 26,
    "start_time": "2023-07-18T17:21:22.288Z"
   },
   {
    "duration": 10,
    "start_time": "2023-07-18T17:21:22.315Z"
   },
   {
    "duration": 7,
    "start_time": "2023-07-18T17:21:22.327Z"
   },
   {
    "duration": 21,
    "start_time": "2023-07-18T17:21:22.336Z"
   },
   {
    "duration": 24,
    "start_time": "2023-07-18T17:21:22.359Z"
   },
   {
    "duration": 36,
    "start_time": "2023-07-18T17:21:22.385Z"
   },
   {
    "duration": 13,
    "start_time": "2023-07-18T17:21:22.423Z"
   },
   {
    "duration": 41,
    "start_time": "2023-07-18T17:21:22.439Z"
   },
   {
    "duration": 25,
    "start_time": "2023-07-18T17:21:22.483Z"
   },
   {
    "duration": 7,
    "start_time": "2023-07-18T17:21:22.511Z"
   },
   {
    "duration": 28,
    "start_time": "2023-07-18T17:21:22.519Z"
   },
   {
    "duration": 21,
    "start_time": "2023-07-18T17:21:22.549Z"
   },
   {
    "duration": 12,
    "start_time": "2023-07-18T17:21:22.572Z"
   },
   {
    "duration": 11,
    "start_time": "2023-07-18T17:21:22.586Z"
   },
   {
    "duration": 19,
    "start_time": "2023-07-18T17:21:22.599Z"
   },
   {
    "duration": 34,
    "start_time": "2023-07-18T17:21:22.620Z"
   },
   {
    "duration": 244,
    "start_time": "2023-07-18T17:21:22.655Z"
   },
   {
    "duration": 30,
    "start_time": "2023-07-18T17:21:22.900Z"
   },
   {
    "duration": 6,
    "start_time": "2023-07-18T17:21:22.932Z"
   },
   {
    "duration": 948,
    "start_time": "2023-07-18T17:21:22.939Z"
   },
   {
    "duration": 133,
    "start_time": "2023-07-18T17:21:23.888Z"
   },
   {
    "duration": 7,
    "start_time": "2023-07-18T17:52:30.074Z"
   },
   {
    "duration": 27,
    "start_time": "2023-07-18T17:52:33.432Z"
   },
   {
    "duration": 26,
    "start_time": "2023-07-18T17:52:40.341Z"
   },
   {
    "duration": 36,
    "start_time": "2023-07-18T18:16:33.559Z"
   },
   {
    "duration": 28,
    "start_time": "2023-07-18T18:18:05.914Z"
   },
   {
    "duration": 10,
    "start_time": "2023-07-18T18:20:56.586Z"
   },
   {
    "duration": 20,
    "start_time": "2023-07-18T18:21:01.500Z"
   },
   {
    "duration": 39,
    "start_time": "2023-07-18T18:21:48.185Z"
   },
   {
    "duration": 28,
    "start_time": "2023-07-18T18:23:18.926Z"
   },
   {
    "duration": 29,
    "start_time": "2023-07-18T18:23:26.180Z"
   },
   {
    "duration": 106,
    "start_time": "2023-07-18T18:23:54.128Z"
   },
   {
    "duration": 33,
    "start_time": "2023-07-18T18:23:59.043Z"
   },
   {
    "duration": 23,
    "start_time": "2023-07-18T18:24:11.640Z"
   },
   {
    "duration": 29,
    "start_time": "2023-07-18T18:25:18.352Z"
   },
   {
    "duration": 22,
    "start_time": "2023-07-18T18:58:25.057Z"
   },
   {
    "duration": 36,
    "start_time": "2023-07-18T18:58:54.966Z"
   },
   {
    "duration": 175,
    "start_time": "2023-07-18T18:59:25.960Z"
   },
   {
    "duration": 180,
    "start_time": "2023-07-18T18:59:39.652Z"
   },
   {
    "duration": 27,
    "start_time": "2023-07-18T19:01:49.959Z"
   },
   {
    "duration": 22,
    "start_time": "2023-07-18T19:01:54.437Z"
   },
   {
    "duration": 134,
    "start_time": "2023-07-18T19:03:15.043Z"
   },
   {
    "duration": 199,
    "start_time": "2023-07-18T19:03:37.369Z"
   },
   {
    "duration": 258,
    "start_time": "2023-07-18T19:04:41.140Z"
   },
   {
    "duration": 253,
    "start_time": "2023-07-18T19:06:37.715Z"
   },
   {
    "duration": 356,
    "start_time": "2023-07-18T19:06:52.571Z"
   },
   {
    "duration": 245,
    "start_time": "2023-07-18T19:07:34.294Z"
   },
   {
    "duration": 232,
    "start_time": "2023-07-18T19:07:39.734Z"
   },
   {
    "duration": 243,
    "start_time": "2023-07-18T19:07:46.495Z"
   },
   {
    "duration": 215,
    "start_time": "2023-07-18T19:07:54.048Z"
   },
   {
    "duration": 236,
    "start_time": "2023-07-18T19:08:01.723Z"
   },
   {
    "duration": 239,
    "start_time": "2023-07-18T19:08:09.160Z"
   },
   {
    "duration": 230,
    "start_time": "2023-07-18T19:08:18.007Z"
   },
   {
    "duration": 312,
    "start_time": "2023-07-18T19:08:35.820Z"
   },
   {
    "duration": 219,
    "start_time": "2023-07-18T19:08:43.278Z"
   },
   {
    "duration": 231,
    "start_time": "2023-07-18T19:08:52.247Z"
   },
   {
    "duration": 13,
    "start_time": "2023-07-18T19:12:39.253Z"
   },
   {
    "duration": 283,
    "start_time": "2023-07-18T19:12:48.769Z"
   },
   {
    "duration": 96,
    "start_time": "2023-07-18T19:13:55.496Z"
   },
   {
    "duration": 58,
    "start_time": "2023-07-18T19:14:09.499Z"
   },
   {
    "duration": 12,
    "start_time": "2023-07-18T19:16:37.516Z"
   },
   {
    "duration": 48,
    "start_time": "2023-07-18T19:16:47.562Z"
   },
   {
    "duration": 33,
    "start_time": "2023-07-18T19:16:50.886Z"
   },
   {
    "duration": 47,
    "start_time": "2023-07-18T19:16:55.048Z"
   },
   {
    "duration": 42,
    "start_time": "2023-07-18T19:17:30.821Z"
   },
   {
    "duration": 44,
    "start_time": "2023-07-18T19:18:23.306Z"
   },
   {
    "duration": 45,
    "start_time": "2023-07-18T19:19:47.115Z"
   },
   {
    "duration": 170,
    "start_time": "2023-07-18T19:22:24.650Z"
   },
   {
    "duration": 215,
    "start_time": "2023-07-18T19:26:16.582Z"
   },
   {
    "duration": 102,
    "start_time": "2023-07-18T19:27:18.487Z"
   },
   {
    "duration": 208,
    "start_time": "2023-07-18T19:29:47.059Z"
   },
   {
    "duration": 231,
    "start_time": "2023-07-18T19:30:08.082Z"
   },
   {
    "duration": 22,
    "start_time": "2023-07-18T19:31:54.946Z"
   },
   {
    "duration": 23,
    "start_time": "2023-07-18T19:32:02.872Z"
   },
   {
    "duration": 17,
    "start_time": "2023-07-18T19:32:15.162Z"
   },
   {
    "duration": 1183,
    "start_time": "2023-07-18T19:32:28.040Z"
   },
   {
    "duration": 55,
    "start_time": "2023-07-18T19:32:29.225Z"
   },
   {
    "duration": 28,
    "start_time": "2023-07-18T19:32:29.281Z"
   },
   {
    "duration": 42,
    "start_time": "2023-07-18T19:32:29.311Z"
   },
   {
    "duration": 35,
    "start_time": "2023-07-18T19:32:29.355Z"
   },
   {
    "duration": 25,
    "start_time": "2023-07-18T19:32:29.392Z"
   },
   {
    "duration": 36,
    "start_time": "2023-07-18T19:32:29.419Z"
   },
   {
    "duration": 49,
    "start_time": "2023-07-18T19:32:29.456Z"
   },
   {
    "duration": 22,
    "start_time": "2023-07-18T19:32:29.507Z"
   },
   {
    "duration": 28,
    "start_time": "2023-07-18T19:32:29.531Z"
   },
   {
    "duration": 32,
    "start_time": "2023-07-18T19:32:29.561Z"
   },
   {
    "duration": 24,
    "start_time": "2023-07-18T19:32:29.595Z"
   },
   {
    "duration": 28,
    "start_time": "2023-07-18T19:32:29.620Z"
   },
   {
    "duration": 32,
    "start_time": "2023-07-18T19:32:29.649Z"
   },
   {
    "duration": 11,
    "start_time": "2023-07-18T19:32:29.683Z"
   },
   {
    "duration": 25,
    "start_time": "2023-07-18T19:32:29.695Z"
   },
   {
    "duration": 8,
    "start_time": "2023-07-18T19:32:29.722Z"
   },
   {
    "duration": 17,
    "start_time": "2023-07-18T19:32:29.732Z"
   },
   {
    "duration": 9,
    "start_time": "2023-07-18T19:32:29.751Z"
   },
   {
    "duration": 21,
    "start_time": "2023-07-18T19:32:29.762Z"
   },
   {
    "duration": 15,
    "start_time": "2023-07-18T19:32:29.785Z"
   },
   {
    "duration": 7,
    "start_time": "2023-07-18T19:32:29.801Z"
   },
   {
    "duration": 44,
    "start_time": "2023-07-18T19:32:29.809Z"
   },
   {
    "duration": 21,
    "start_time": "2023-07-18T19:32:29.854Z"
   },
   {
    "duration": 25,
    "start_time": "2023-07-18T19:32:29.877Z"
   },
   {
    "duration": 22,
    "start_time": "2023-07-18T19:32:29.904Z"
   },
   {
    "duration": 52,
    "start_time": "2023-07-18T19:32:29.929Z"
   },
   {
    "duration": 9,
    "start_time": "2023-07-18T19:32:29.985Z"
   },
   {
    "duration": 34,
    "start_time": "2023-07-18T19:32:29.996Z"
   },
   {
    "duration": 23,
    "start_time": "2023-07-18T19:32:30.032Z"
   },
   {
    "duration": 29,
    "start_time": "2023-07-18T19:32:30.056Z"
   },
   {
    "duration": 20,
    "start_time": "2023-07-18T19:32:30.087Z"
   },
   {
    "duration": 46,
    "start_time": "2023-07-18T19:32:30.110Z"
   },
   {
    "duration": 46,
    "start_time": "2023-07-18T19:32:30.157Z"
   },
   {
    "duration": 31,
    "start_time": "2023-07-18T19:32:30.205Z"
   },
   {
    "duration": 215,
    "start_time": "2023-07-18T19:32:30.238Z"
   },
   {
    "duration": 17,
    "start_time": "2023-07-18T19:32:30.454Z"
   },
   {
    "duration": 27,
    "start_time": "2023-07-18T19:32:30.472Z"
   },
   {
    "duration": 966,
    "start_time": "2023-07-18T19:32:30.501Z"
   },
   {
    "duration": 28,
    "start_time": "2023-07-18T19:32:31.468Z"
   },
   {
    "duration": 33,
    "start_time": "2023-07-18T19:32:31.498Z"
   },
   {
    "duration": 108,
    "start_time": "2023-07-18T19:32:31.533Z"
   },
   {
    "duration": 0,
    "start_time": "2023-07-18T19:32:31.643Z"
   },
   {
    "duration": 3,
    "start_time": "2023-07-18T19:38:07.382Z"
   },
   {
    "duration": 5,
    "start_time": "2023-07-18T19:38:14.430Z"
   },
   {
    "duration": 221,
    "start_time": "2023-07-18T19:38:51.065Z"
   },
   {
    "duration": 234,
    "start_time": "2023-07-18T19:39:02.874Z"
   },
   {
    "duration": 219,
    "start_time": "2023-07-18T19:39:56.664Z"
   },
   {
    "duration": 241,
    "start_time": "2023-07-18T19:41:09.917Z"
   },
   {
    "duration": 230,
    "start_time": "2023-07-18T19:41:17.837Z"
   },
   {
    "duration": 344,
    "start_time": "2023-07-18T19:41:29.175Z"
   },
   {
    "duration": 217,
    "start_time": "2023-07-18T19:41:59.498Z"
   },
   {
    "duration": 224,
    "start_time": "2023-07-18T19:42:18.611Z"
   },
   {
    "duration": 236,
    "start_time": "2023-07-18T19:44:04.664Z"
   },
   {
    "duration": 213,
    "start_time": "2023-07-18T19:44:36.339Z"
   },
   {
    "duration": 215,
    "start_time": "2023-07-18T19:44:55.157Z"
   },
   {
    "duration": 220,
    "start_time": "2023-07-18T19:45:37.516Z"
   },
   {
    "duration": 233,
    "start_time": "2023-07-18T19:45:44.063Z"
   },
   {
    "duration": 233,
    "start_time": "2023-07-18T19:45:55.377Z"
   },
   {
    "duration": 237,
    "start_time": "2023-07-18T19:46:00.767Z"
   },
   {
    "duration": 253,
    "start_time": "2023-07-18T19:46:49.355Z"
   },
   {
    "duration": 114,
    "start_time": "2023-07-18T20:36:19.850Z"
   },
   {
    "duration": 1547,
    "start_time": "2023-07-18T20:36:25.769Z"
   },
   {
    "duration": 25,
    "start_time": "2023-07-18T20:36:56.150Z"
   },
   {
    "duration": 12,
    "start_time": "2023-07-18T21:06:11.595Z"
   },
   {
    "duration": 12,
    "start_time": "2023-07-18T21:06:15.693Z"
   },
   {
    "duration": 29,
    "start_time": "2023-07-18T21:07:19.953Z"
   },
   {
    "duration": 25,
    "start_time": "2023-07-18T21:07:51.704Z"
   },
   {
    "duration": 13,
    "start_time": "2023-07-18T21:08:40.936Z"
   },
   {
    "duration": 28,
    "start_time": "2023-07-18T21:09:06.855Z"
   },
   {
    "duration": 7,
    "start_time": "2023-07-18T21:09:38.211Z"
   },
   {
    "duration": 164,
    "start_time": "2023-07-18T21:09:46.645Z"
   },
   {
    "duration": 110,
    "start_time": "2023-07-18T21:10:11.297Z"
   },
   {
    "duration": 34,
    "start_time": "2023-07-18T21:10:19.254Z"
   },
   {
    "duration": 28,
    "start_time": "2023-07-18T21:12:46.894Z"
   },
   {
    "duration": 11,
    "start_time": "2023-07-18T21:13:17.674Z"
   },
   {
    "duration": 10,
    "start_time": "2023-07-18T21:13:33.614Z"
   },
   {
    "duration": 3,
    "start_time": "2023-07-18T21:21:22.176Z"
   },
   {
    "duration": 195,
    "start_time": "2023-07-18T21:23:58.447Z"
   },
   {
    "duration": 218,
    "start_time": "2023-07-18T21:25:01.486Z"
   },
   {
    "duration": 214,
    "start_time": "2023-07-18T21:27:33.664Z"
   },
   {
    "duration": 187,
    "start_time": "2023-07-18T21:28:13.784Z"
   },
   {
    "duration": 196,
    "start_time": "2023-07-18T21:31:23.370Z"
   },
   {
    "duration": 193,
    "start_time": "2023-07-18T21:33:25.587Z"
   },
   {
    "duration": 191,
    "start_time": "2023-07-18T21:33:45.421Z"
   },
   {
    "duration": 200,
    "start_time": "2023-07-18T21:33:51.512Z"
   },
   {
    "duration": 219,
    "start_time": "2023-07-18T21:34:05.409Z"
   },
   {
    "duration": 1379,
    "start_time": "2023-07-19T07:05:06.266Z"
   },
   {
    "duration": 98,
    "start_time": "2023-07-19T07:05:07.647Z"
   },
   {
    "duration": 33,
    "start_time": "2023-07-19T07:05:07.746Z"
   },
   {
    "duration": 31,
    "start_time": "2023-07-19T07:05:07.781Z"
   },
   {
    "duration": 24,
    "start_time": "2023-07-19T07:05:07.814Z"
   },
   {
    "duration": 19,
    "start_time": "2023-07-19T07:05:07.841Z"
   },
   {
    "duration": 15,
    "start_time": "2023-07-19T07:05:07.861Z"
   },
   {
    "duration": 10,
    "start_time": "2023-07-19T07:05:07.878Z"
   },
   {
    "duration": 67,
    "start_time": "2023-07-19T07:05:07.889Z"
   },
   {
    "duration": 27,
    "start_time": "2023-07-19T07:05:07.959Z"
   },
   {
    "duration": 88,
    "start_time": "2023-07-19T07:05:07.988Z"
   },
   {
    "duration": 121,
    "start_time": "2023-07-19T07:05:08.077Z"
   },
   {
    "duration": 36,
    "start_time": "2023-07-19T07:05:08.200Z"
   },
   {
    "duration": 107,
    "start_time": "2023-07-19T07:05:08.238Z"
   },
   {
    "duration": 59,
    "start_time": "2023-07-19T07:05:08.347Z"
   },
   {
    "duration": 50,
    "start_time": "2023-07-19T07:05:08.408Z"
   },
   {
    "duration": 28,
    "start_time": "2023-07-19T07:05:08.460Z"
   },
   {
    "duration": 52,
    "start_time": "2023-07-19T07:05:08.489Z"
   },
   {
    "duration": 46,
    "start_time": "2023-07-19T07:05:08.543Z"
   },
   {
    "duration": 51,
    "start_time": "2023-07-19T07:05:08.591Z"
   },
   {
    "duration": 49,
    "start_time": "2023-07-19T07:05:08.645Z"
   },
   {
    "duration": 45,
    "start_time": "2023-07-19T07:05:08.695Z"
   },
   {
    "duration": 46,
    "start_time": "2023-07-19T07:05:08.741Z"
   },
   {
    "duration": 45,
    "start_time": "2023-07-19T07:05:08.789Z"
   },
   {
    "duration": 38,
    "start_time": "2023-07-19T07:05:08.837Z"
   },
   {
    "duration": 55,
    "start_time": "2023-07-19T07:05:08.877Z"
   },
   {
    "duration": 83,
    "start_time": "2023-07-19T07:05:08.934Z"
   },
   {
    "duration": 29,
    "start_time": "2023-07-19T07:05:09.021Z"
   },
   {
    "duration": 21,
    "start_time": "2023-07-19T07:05:09.051Z"
   },
   {
    "duration": 24,
    "start_time": "2023-07-19T07:05:09.074Z"
   },
   {
    "duration": 48,
    "start_time": "2023-07-19T07:05:09.100Z"
   },
   {
    "duration": 41,
    "start_time": "2023-07-19T07:05:09.150Z"
   },
   {
    "duration": 36,
    "start_time": "2023-07-19T07:05:09.193Z"
   },
   {
    "duration": 46,
    "start_time": "2023-07-19T07:05:09.231Z"
   },
   {
    "duration": 30,
    "start_time": "2023-07-19T07:05:09.279Z"
   },
   {
    "duration": 247,
    "start_time": "2023-07-19T07:05:09.311Z"
   },
   {
    "duration": 18,
    "start_time": "2023-07-19T07:05:09.561Z"
   },
   {
    "duration": 53,
    "start_time": "2023-07-19T07:05:09.580Z"
   },
   {
    "duration": 910,
    "start_time": "2023-07-19T07:05:09.635Z"
   },
   {
    "duration": 23,
    "start_time": "2023-07-19T07:05:10.547Z"
   },
   {
    "duration": 28,
    "start_time": "2023-07-19T07:05:10.571Z"
   },
   {
    "duration": 24,
    "start_time": "2023-07-19T07:05:10.600Z"
   },
   {
    "duration": 231,
    "start_time": "2023-07-19T07:05:10.626Z"
   },
   {
    "duration": 9,
    "start_time": "2023-07-19T07:05:10.859Z"
   },
   {
    "duration": 255,
    "start_time": "2023-07-19T07:05:10.870Z"
   },
   {
    "duration": 215,
    "start_time": "2023-07-19T07:05:11.127Z"
   },
   {
    "duration": 217,
    "start_time": "2023-07-19T07:05:11.344Z"
   },
   {
    "duration": 119,
    "start_time": "2023-07-19T07:05:11.562Z"
   },
   {
    "duration": 22,
    "start_time": "2023-07-19T07:24:40.649Z"
   },
   {
    "duration": 21,
    "start_time": "2023-07-19T07:25:58.645Z"
   },
   {
    "duration": 1002,
    "start_time": "2023-07-19T07:26:39.478Z"
   },
   {
    "duration": 137,
    "start_time": "2023-07-19T07:27:38.109Z"
   },
   {
    "duration": 406,
    "start_time": "2023-07-19T07:27:42.549Z"
   },
   {
    "duration": 939,
    "start_time": "2023-07-19T07:27:56.620Z"
   },
   {
    "duration": 961,
    "start_time": "2023-07-19T07:28:44.245Z"
   },
   {
    "duration": 291,
    "start_time": "2023-07-19T07:36:29.445Z"
   },
   {
    "duration": 23,
    "start_time": "2023-07-19T07:36:52.148Z"
   },
   {
    "duration": 15,
    "start_time": "2023-07-19T07:37:30.738Z"
   },
   {
    "duration": 182,
    "start_time": "2023-07-19T07:37:41.247Z"
   },
   {
    "duration": 188,
    "start_time": "2023-07-19T07:37:55.571Z"
   },
   {
    "duration": 311,
    "start_time": "2023-07-19T07:38:06.547Z"
   },
   {
    "duration": 277,
    "start_time": "2023-07-19T07:38:29.071Z"
   },
   {
    "duration": 296,
    "start_time": "2023-07-19T07:39:04.385Z"
   },
   {
    "duration": 274,
    "start_time": "2023-07-19T07:41:22.144Z"
   },
   {
    "duration": 395,
    "start_time": "2023-07-19T07:41:48.071Z"
   },
   {
    "duration": 282,
    "start_time": "2023-07-19T07:42:23.259Z"
   },
   {
    "duration": 291,
    "start_time": "2023-07-19T07:43:33.353Z"
   },
   {
    "duration": 276,
    "start_time": "2023-07-19T07:44:33.414Z"
   },
   {
    "duration": 286,
    "start_time": "2023-07-19T07:47:41.435Z"
   },
   {
    "duration": 289,
    "start_time": "2023-07-19T07:51:16.898Z"
   },
   {
    "duration": 14,
    "start_time": "2023-07-19T08:34:34.292Z"
   },
   {
    "duration": 327,
    "start_time": "2023-07-19T08:37:38.463Z"
   },
   {
    "duration": 14,
    "start_time": "2023-07-19T08:37:50.608Z"
   },
   {
    "duration": 17,
    "start_time": "2023-07-19T08:39:21.984Z"
   },
   {
    "duration": 18,
    "start_time": "2023-07-19T08:41:39.405Z"
   },
   {
    "duration": 3,
    "start_time": "2023-07-19T08:42:14.137Z"
   },
   {
    "duration": 11,
    "start_time": "2023-07-19T08:43:19.215Z"
   },
   {
    "duration": 139,
    "start_time": "2023-07-19T08:44:13.246Z"
   },
   {
    "duration": 15,
    "start_time": "2023-07-19T08:48:08.105Z"
   },
   {
    "duration": 162,
    "start_time": "2023-07-19T08:48:09.290Z"
   },
   {
    "duration": 498,
    "start_time": "2023-07-19T08:50:02.664Z"
   },
   {
    "duration": 509,
    "start_time": "2023-07-19T08:50:50.431Z"
   },
   {
    "duration": 7,
    "start_time": "2023-07-19T09:27:20.031Z"
   },
   {
    "duration": 320,
    "start_time": "2023-07-19T09:53:34.354Z"
   },
   {
    "duration": 507,
    "start_time": "2023-07-19T09:53:43.253Z"
   },
   {
    "duration": 8,
    "start_time": "2023-07-19T09:53:50.858Z"
   },
   {
    "duration": 8,
    "start_time": "2023-07-19T09:54:08.781Z"
   },
   {
    "duration": 8,
    "start_time": "2023-07-19T09:54:21.095Z"
   },
   {
    "duration": 15,
    "start_time": "2023-07-19T09:55:19.695Z"
   },
   {
    "duration": 18,
    "start_time": "2023-07-19T09:55:57.563Z"
   },
   {
    "duration": 13,
    "start_time": "2023-07-19T09:56:15.759Z"
   },
   {
    "duration": 24,
    "start_time": "2023-07-19T09:56:17.153Z"
   },
   {
    "duration": 4,
    "start_time": "2023-07-19T09:57:46.608Z"
   },
   {
    "duration": 16,
    "start_time": "2023-07-19T09:57:51.332Z"
   },
   {
    "duration": 28,
    "start_time": "2023-07-19T09:57:52.556Z"
   },
   {
    "duration": 23,
    "start_time": "2023-07-19T09:58:20.259Z"
   },
   {
    "duration": 17,
    "start_time": "2023-07-19T09:59:04.433Z"
   },
   {
    "duration": 24,
    "start_time": "2023-07-19T09:59:05.250Z"
   },
   {
    "duration": 17,
    "start_time": "2023-07-19T10:00:20.029Z"
   },
   {
    "duration": 35,
    "start_time": "2023-07-19T10:00:20.729Z"
   },
   {
    "duration": 13,
    "start_time": "2023-07-19T10:02:36.109Z"
   },
   {
    "duration": 21,
    "start_time": "2023-07-19T10:04:36.894Z"
   },
   {
    "duration": 13,
    "start_time": "2023-07-19T10:04:54.000Z"
   },
   {
    "duration": 13,
    "start_time": "2023-07-19T10:05:00.227Z"
   },
   {
    "duration": 17,
    "start_time": "2023-07-19T10:07:02.019Z"
   },
   {
    "duration": 17,
    "start_time": "2023-07-19T10:08:31.161Z"
   },
   {
    "duration": 5,
    "start_time": "2023-07-19T10:10:13.531Z"
   },
   {
    "duration": 520,
    "start_time": "2023-07-19T10:10:31.043Z"
   },
   {
    "duration": 16,
    "start_time": "2023-07-19T10:10:36.810Z"
   },
   {
    "duration": 5,
    "start_time": "2023-07-19T10:11:09.988Z"
   },
   {
    "duration": 17,
    "start_time": "2023-07-19T10:11:13.344Z"
   },
   {
    "duration": 8,
    "start_time": "2023-07-19T10:12:49.837Z"
   },
   {
    "duration": 18,
    "start_time": "2023-07-19T10:12:53.681Z"
   },
   {
    "duration": 6,
    "start_time": "2023-07-19T10:13:25.028Z"
   },
   {
    "duration": 16,
    "start_time": "2023-07-19T10:13:28.944Z"
   },
   {
    "duration": 15,
    "start_time": "2023-07-19T10:13:46.352Z"
   },
   {
    "duration": 119,
    "start_time": "2023-07-19T10:14:40.226Z"
   },
   {
    "duration": 20,
    "start_time": "2023-07-19T10:14:43.528Z"
   },
   {
    "duration": 8,
    "start_time": "2023-07-19T10:15:02.832Z"
   },
   {
    "duration": 14,
    "start_time": "2023-07-19T10:15:05.606Z"
   },
   {
    "duration": 4,
    "start_time": "2023-07-19T10:16:21.533Z"
   },
   {
    "duration": 12,
    "start_time": "2023-07-19T10:16:28.778Z"
   },
   {
    "duration": 15,
    "start_time": "2023-07-19T10:16:38.348Z"
   },
   {
    "duration": 589,
    "start_time": "2023-07-19T10:17:03.144Z"
   },
   {
    "duration": 6,
    "start_time": "2023-07-19T10:17:11.243Z"
   },
   {
    "duration": 5,
    "start_time": "2023-07-19T10:17:28.558Z"
   },
   {
    "duration": 15,
    "start_time": "2023-07-19T10:17:39.093Z"
   },
   {
    "duration": 6,
    "start_time": "2023-07-19T10:23:40.129Z"
   },
   {
    "duration": 489,
    "start_time": "2023-07-19T10:25:31.287Z"
   },
   {
    "duration": 111,
    "start_time": "2023-07-19T10:29:43.158Z"
   },
   {
    "duration": 428,
    "start_time": "2023-07-19T10:29:55.992Z"
   },
   {
    "duration": 224,
    "start_time": "2023-07-19T10:31:28.765Z"
   },
   {
    "duration": 104,
    "start_time": "2023-07-19T10:31:44.196Z"
   },
   {
    "duration": 12,
    "start_time": "2023-07-19T10:33:36.489Z"
   },
   {
    "duration": 530,
    "start_time": "2023-07-19T10:35:28.033Z"
   },
   {
    "duration": 10,
    "start_time": "2023-07-19T10:36:49.933Z"
   },
   {
    "duration": 507,
    "start_time": "2023-07-19T10:36:51.648Z"
   },
   {
    "duration": 10,
    "start_time": "2023-07-19T10:37:09.181Z"
   },
   {
    "duration": 10,
    "start_time": "2023-07-19T10:37:20.712Z"
   },
   {
    "duration": 543,
    "start_time": "2023-07-19T10:37:23.535Z"
   },
   {
    "duration": 10,
    "start_time": "2023-07-19T10:37:39.087Z"
   },
   {
    "duration": 534,
    "start_time": "2023-07-19T10:37:41.585Z"
   },
   {
    "duration": 12,
    "start_time": "2023-07-19T10:38:00.303Z"
   },
   {
    "duration": 547,
    "start_time": "2023-07-19T10:38:01.816Z"
   },
   {
    "duration": 11,
    "start_time": "2023-07-19T10:38:29.749Z"
   },
   {
    "duration": 531,
    "start_time": "2023-07-19T10:38:31.477Z"
   },
   {
    "duration": 9,
    "start_time": "2023-07-19T10:38:52.589Z"
   },
   {
    "duration": 576,
    "start_time": "2023-07-19T10:38:53.628Z"
   },
   {
    "duration": 12,
    "start_time": "2023-07-19T10:41:23.707Z"
   },
   {
    "duration": 535,
    "start_time": "2023-07-19T10:41:24.628Z"
   },
   {
    "duration": 11,
    "start_time": "2023-07-19T10:41:33.586Z"
   },
   {
    "duration": 502,
    "start_time": "2023-07-19T10:41:35.068Z"
   },
   {
    "duration": 11,
    "start_time": "2023-07-19T10:43:12.882Z"
   },
   {
    "duration": 3284,
    "start_time": "2023-07-19T10:43:14.197Z"
   },
   {
    "duration": 113,
    "start_time": "2023-07-19T10:43:29.836Z"
   },
   {
    "duration": 1827,
    "start_time": "2023-07-19T10:43:30.798Z"
   },
   {
    "duration": 11,
    "start_time": "2023-07-19T10:44:17.862Z"
   },
   {
    "duration": 644,
    "start_time": "2023-07-19T10:44:19.325Z"
   },
   {
    "duration": 11,
    "start_time": "2023-07-19T10:45:17.048Z"
   },
   {
    "duration": 582,
    "start_time": "2023-07-19T10:45:17.639Z"
   },
   {
    "duration": 11,
    "start_time": "2023-07-19T10:47:11.185Z"
   },
   {
    "duration": 627,
    "start_time": "2023-07-19T10:47:11.632Z"
   },
   {
    "duration": 11,
    "start_time": "2023-07-19T10:47:25.748Z"
   },
   {
    "duration": 11,
    "start_time": "2023-07-19T10:48:31.383Z"
   },
   {
    "duration": 510,
    "start_time": "2023-07-19T10:48:32.584Z"
   },
   {
    "duration": 11,
    "start_time": "2023-07-19T10:49:22.106Z"
   },
   {
    "duration": 2416,
    "start_time": "2023-07-19T10:49:23.854Z"
   },
   {
    "duration": 21,
    "start_time": "2023-07-19T10:49:41.258Z"
   },
   {
    "duration": 10,
    "start_time": "2023-07-19T10:49:52.670Z"
   },
   {
    "duration": 2664,
    "start_time": "2023-07-19T10:49:53.269Z"
   },
   {
    "duration": 11,
    "start_time": "2023-07-19T10:50:13.511Z"
   },
   {
    "duration": 3315,
    "start_time": "2023-07-19T10:50:15.613Z"
   },
   {
    "duration": 10,
    "start_time": "2023-07-19T10:54:25.863Z"
   },
   {
    "duration": 4749,
    "start_time": "2023-07-19T10:54:28.237Z"
   },
   {
    "duration": 12,
    "start_time": "2023-07-19T10:55:07.242Z"
   },
   {
    "duration": 513,
    "start_time": "2023-07-19T10:55:08.794Z"
   },
   {
    "duration": 352,
    "start_time": "2023-07-19T10:56:13.045Z"
   },
   {
    "duration": 569,
    "start_time": "2023-07-19T10:56:14.604Z"
   },
   {
    "duration": 104,
    "start_time": "2023-07-19T10:58:24.306Z"
   },
   {
    "duration": 3519,
    "start_time": "2023-07-19T10:58:25.305Z"
   },
   {
    "duration": 11,
    "start_time": "2023-07-19T10:58:38.513Z"
   },
   {
    "duration": 4890,
    "start_time": "2023-07-19T10:58:39.073Z"
   },
   {
    "duration": 10,
    "start_time": "2023-07-19T10:59:12.146Z"
   },
   {
    "duration": 4614,
    "start_time": "2023-07-19T10:59:13.070Z"
   },
   {
    "duration": 11,
    "start_time": "2023-07-19T11:00:00.748Z"
   },
   {
    "duration": 6889,
    "start_time": "2023-07-19T11:00:01.303Z"
   },
   {
    "duration": 11,
    "start_time": "2023-07-19T11:01:27.919Z"
   },
   {
    "duration": 3633,
    "start_time": "2023-07-19T11:01:28.502Z"
   },
   {
    "duration": 11,
    "start_time": "2023-07-19T11:05:51.085Z"
   },
   {
    "duration": 673,
    "start_time": "2023-07-19T11:05:51.791Z"
   },
   {
    "duration": 18,
    "start_time": "2023-07-19T11:09:03.931Z"
   },
   {
    "duration": 767,
    "start_time": "2023-07-19T11:09:05.897Z"
   },
   {
    "duration": 11,
    "start_time": "2023-07-19T11:09:37.219Z"
   },
   {
    "duration": 744,
    "start_time": "2023-07-19T11:09:37.775Z"
   },
   {
    "duration": 11,
    "start_time": "2023-07-19T11:11:15.545Z"
   },
   {
    "duration": 2169,
    "start_time": "2023-07-19T11:11:16.210Z"
   },
   {
    "duration": 11,
    "start_time": "2023-07-19T11:11:32.773Z"
   },
   {
    "duration": 3886,
    "start_time": "2023-07-19T11:11:33.216Z"
   },
   {
    "duration": 0,
    "start_time": "2023-07-19T11:11:37.104Z"
   },
   {
    "duration": 12,
    "start_time": "2023-07-19T11:17:40.546Z"
   },
   {
    "duration": 565,
    "start_time": "2023-07-19T11:17:41.256Z"
   },
   {
    "duration": 108,
    "start_time": "2023-07-19T11:19:15.099Z"
   },
   {
    "duration": 552,
    "start_time": "2023-07-19T11:19:15.529Z"
   },
   {
    "duration": 9,
    "start_time": "2023-07-19T11:19:22.697Z"
   },
   {
    "duration": 509,
    "start_time": "2023-07-19T11:19:23.955Z"
   },
   {
    "duration": 10,
    "start_time": "2023-07-19T11:37:31.443Z"
   },
   {
    "duration": 426,
    "start_time": "2023-07-19T11:37:32.975Z"
   },
   {
    "duration": 12,
    "start_time": "2023-07-19T11:37:47.104Z"
   },
   {
    "duration": 312,
    "start_time": "2023-07-19T11:37:48.423Z"
   },
   {
    "duration": 137,
    "start_time": "2023-07-19T11:38:07.873Z"
   },
   {
    "duration": 336,
    "start_time": "2023-07-19T11:38:08.720Z"
   },
   {
    "duration": 10,
    "start_time": "2023-07-19T11:38:18.541Z"
   },
   {
    "duration": 309,
    "start_time": "2023-07-19T11:38:18.959Z"
   },
   {
    "duration": 9,
    "start_time": "2023-07-19T11:42:17.641Z"
   },
   {
    "duration": 305,
    "start_time": "2023-07-19T11:42:18.511Z"
   },
   {
    "duration": 10,
    "start_time": "2023-07-19T11:42:50.222Z"
   },
   {
    "duration": 293,
    "start_time": "2023-07-19T11:42:50.801Z"
   },
   {
    "duration": 10,
    "start_time": "2023-07-19T11:44:27.344Z"
   },
   {
    "duration": 306,
    "start_time": "2023-07-19T11:44:27.846Z"
   },
   {
    "duration": 9,
    "start_time": "2023-07-19T11:44:54.112Z"
   },
   {
    "duration": 437,
    "start_time": "2023-07-19T11:44:54.591Z"
   },
   {
    "duration": 9,
    "start_time": "2023-07-19T11:45:18.861Z"
   },
   {
    "duration": 305,
    "start_time": "2023-07-19T11:45:19.440Z"
   },
   {
    "duration": 292,
    "start_time": "2023-07-19T11:45:27.404Z"
   },
   {
    "duration": 299,
    "start_time": "2023-07-19T11:47:13.414Z"
   },
   {
    "duration": 5,
    "start_time": "2023-07-19T11:48:26.591Z"
   },
   {
    "duration": 8,
    "start_time": "2023-07-19T11:48:27.354Z"
   },
   {
    "duration": 297,
    "start_time": "2023-07-19T11:48:27.947Z"
   },
   {
    "duration": 5,
    "start_time": "2023-07-19T11:49:19.502Z"
   },
   {
    "duration": 11,
    "start_time": "2023-07-19T11:49:19.566Z"
   },
   {
    "duration": 8,
    "start_time": "2023-07-19T11:49:37.864Z"
   },
   {
    "duration": 306,
    "start_time": "2023-07-19T11:49:38.824Z"
   },
   {
    "duration": 24,
    "start_time": "2023-07-19T11:50:05.709Z"
   },
   {
    "duration": 408,
    "start_time": "2023-07-19T11:50:19.448Z"
   },
   {
    "duration": 316,
    "start_time": "2023-07-19T11:50:23.757Z"
   },
   {
    "duration": 318,
    "start_time": "2023-07-19T11:50:35.089Z"
   },
   {
    "duration": 6,
    "start_time": "2023-07-19T11:54:52.583Z"
   },
   {
    "duration": 5,
    "start_time": "2023-07-19T13:20:43.774Z"
   },
   {
    "duration": 2,
    "start_time": "2023-07-19T13:41:55.085Z"
   },
   {
    "duration": 7,
    "start_time": "2023-07-19T13:45:18.653Z"
   },
   {
    "duration": 9,
    "start_time": "2023-07-19T13:46:51.609Z"
   },
   {
    "duration": 15,
    "start_time": "2023-07-19T14:02:21.721Z"
   },
   {
    "duration": 3,
    "start_time": "2023-07-19T14:03:48.107Z"
   },
   {
    "duration": 1232,
    "start_time": "2023-07-19T14:03:53.361Z"
   },
   {
    "duration": 65,
    "start_time": "2023-07-19T14:03:54.596Z"
   },
   {
    "duration": 32,
    "start_time": "2023-07-19T14:03:54.663Z"
   },
   {
    "duration": 36,
    "start_time": "2023-07-19T14:03:54.698Z"
   },
   {
    "duration": 57,
    "start_time": "2023-07-19T14:03:54.737Z"
   },
   {
    "duration": 76,
    "start_time": "2023-07-19T14:03:54.796Z"
   },
   {
    "duration": 64,
    "start_time": "2023-07-19T14:03:54.873Z"
   },
   {
    "duration": 45,
    "start_time": "2023-07-19T14:03:54.939Z"
   },
   {
    "duration": 18,
    "start_time": "2023-07-19T14:03:54.986Z"
   },
   {
    "duration": 6,
    "start_time": "2023-07-19T14:03:55.007Z"
   },
   {
    "duration": 59,
    "start_time": "2023-07-19T14:03:55.015Z"
   },
   {
    "duration": 17,
    "start_time": "2023-07-19T14:03:55.076Z"
   },
   {
    "duration": 19,
    "start_time": "2023-07-19T14:03:55.095Z"
   },
   {
    "duration": 28,
    "start_time": "2023-07-19T14:03:55.117Z"
   },
   {
    "duration": 7,
    "start_time": "2023-07-19T14:03:55.147Z"
   },
   {
    "duration": 33,
    "start_time": "2023-07-19T14:03:55.156Z"
   },
   {
    "duration": 9,
    "start_time": "2023-07-19T14:03:55.191Z"
   },
   {
    "duration": 11,
    "start_time": "2023-07-19T14:03:55.202Z"
   },
   {
    "duration": 6,
    "start_time": "2023-07-19T14:03:55.215Z"
   },
   {
    "duration": 29,
    "start_time": "2023-07-19T14:03:55.223Z"
   },
   {
    "duration": 14,
    "start_time": "2023-07-19T14:03:55.254Z"
   },
   {
    "duration": 11,
    "start_time": "2023-07-19T14:03:55.270Z"
   },
   {
    "duration": 20,
    "start_time": "2023-07-19T14:03:55.282Z"
   },
   {
    "duration": 19,
    "start_time": "2023-07-19T14:03:55.304Z"
   },
   {
    "duration": 8,
    "start_time": "2023-07-19T14:03:55.325Z"
   },
   {
    "duration": 28,
    "start_time": "2023-07-19T14:03:55.335Z"
   },
   {
    "duration": 58,
    "start_time": "2023-07-19T14:03:55.365Z"
   },
   {
    "duration": 12,
    "start_time": "2023-07-19T14:03:55.424Z"
   },
   {
    "duration": 23,
    "start_time": "2023-07-19T14:03:55.438Z"
   },
   {
    "duration": 10,
    "start_time": "2023-07-19T14:03:55.463Z"
   },
   {
    "duration": 14,
    "start_time": "2023-07-19T14:03:55.474Z"
   },
   {
    "duration": 18,
    "start_time": "2023-07-19T14:03:55.490Z"
   },
   {
    "duration": 6,
    "start_time": "2023-07-19T14:03:55.510Z"
   },
   {
    "duration": 25,
    "start_time": "2023-07-19T14:03:55.517Z"
   },
   {
    "duration": 14,
    "start_time": "2023-07-19T14:03:55.544Z"
   },
   {
    "duration": 211,
    "start_time": "2023-07-19T14:03:55.560Z"
   },
   {
    "duration": 23,
    "start_time": "2023-07-19T14:03:55.773Z"
   },
   {
    "duration": 88,
    "start_time": "2023-07-19T14:03:55.798Z"
   },
   {
    "duration": 1001,
    "start_time": "2023-07-19T14:03:55.888Z"
   },
   {
    "duration": 27,
    "start_time": "2023-07-19T14:03:56.891Z"
   },
   {
    "duration": 21,
    "start_time": "2023-07-19T14:03:56.922Z"
   },
   {
    "duration": 6,
    "start_time": "2023-07-19T14:03:56.944Z"
   },
   {
    "duration": 252,
    "start_time": "2023-07-19T14:03:56.952Z"
   },
   {
    "duration": 9,
    "start_time": "2023-07-19T14:03:57.206Z"
   },
   {
    "duration": 44,
    "start_time": "2023-07-19T14:03:57.217Z"
   },
   {
    "duration": 217,
    "start_time": "2023-07-19T14:03:57.262Z"
   },
   {
    "duration": 217,
    "start_time": "2023-07-19T14:03:57.480Z"
   },
   {
    "duration": 316,
    "start_time": "2023-07-19T14:03:57.699Z"
   },
   {
    "duration": 21,
    "start_time": "2023-07-19T14:03:58.017Z"
   },
   {
    "duration": 13,
    "start_time": "2023-07-19T14:03:58.041Z"
   },
   {
    "duration": 22,
    "start_time": "2023-07-19T14:03:58.056Z"
   },
   {
    "duration": 468,
    "start_time": "2023-07-19T14:03:58.081Z"
   },
   {
    "duration": 354,
    "start_time": "2023-07-19T14:03:58.552Z"
   },
   {
    "duration": 381,
    "start_time": "2023-07-19T14:03:58.908Z"
   },
   {
    "duration": 8,
    "start_time": "2023-07-19T14:03:59.291Z"
   },
   {
    "duration": 121,
    "start_time": "2023-07-19T14:03:59.300Z"
   },
   {
    "duration": 0,
    "start_time": "2023-07-19T14:03:59.422Z"
   },
   {
    "duration": 20,
    "start_time": "2023-07-19T14:04:56.762Z"
   },
   {
    "duration": 24,
    "start_time": "2023-07-19T14:06:08.076Z"
   },
   {
    "duration": 23,
    "start_time": "2023-07-19T14:08:23.212Z"
   },
   {
    "duration": 19,
    "start_time": "2023-07-19T14:08:54.099Z"
   },
   {
    "duration": 19,
    "start_time": "2023-07-19T14:09:13.729Z"
   },
   {
    "duration": 7,
    "start_time": "2023-07-19T14:09:44.817Z"
   },
   {
    "duration": 8,
    "start_time": "2023-07-19T14:10:06.602Z"
   },
   {
    "duration": 13,
    "start_time": "2023-07-19T14:10:35.133Z"
   },
   {
    "duration": 5,
    "start_time": "2023-07-19T14:10:59.793Z"
   },
   {
    "duration": 27,
    "start_time": "2023-07-19T14:11:20.733Z"
   },
   {
    "duration": 25,
    "start_time": "2023-07-19T14:12:04.168Z"
   },
   {
    "duration": 11,
    "start_time": "2023-07-19T14:12:19.359Z"
   },
   {
    "duration": 28,
    "start_time": "2023-07-19T14:12:50.208Z"
   },
   {
    "duration": 15,
    "start_time": "2023-07-19T14:13:27.362Z"
   },
   {
    "duration": 14,
    "start_time": "2023-07-19T14:13:42.040Z"
   },
   {
    "duration": 148,
    "start_time": "2023-07-19T14:14:32.676Z"
   },
   {
    "duration": 90,
    "start_time": "2023-07-19T14:14:39.826Z"
   },
   {
    "duration": 14,
    "start_time": "2023-07-19T14:14:47.456Z"
   },
   {
    "duration": 13,
    "start_time": "2023-07-19T14:14:59.618Z"
   },
   {
    "duration": 18,
    "start_time": "2023-07-19T14:15:14.332Z"
   },
   {
    "duration": 21,
    "start_time": "2023-07-19T14:15:42.030Z"
   },
   {
    "duration": 14,
    "start_time": "2023-07-19T14:15:51.806Z"
   },
   {
    "duration": 13,
    "start_time": "2023-07-19T14:15:55.498Z"
   },
   {
    "duration": 18,
    "start_time": "2023-07-19T14:15:58.891Z"
   },
   {
    "duration": 21,
    "start_time": "2023-07-19T14:16:16.200Z"
   },
   {
    "duration": 22,
    "start_time": "2023-07-19T14:16:24.675Z"
   },
   {
    "duration": 15,
    "start_time": "2023-07-19T14:16:34.411Z"
   },
   {
    "duration": 14,
    "start_time": "2023-07-19T14:33:03.073Z"
   },
   {
    "duration": 14,
    "start_time": "2023-07-19T14:36:20.513Z"
   },
   {
    "duration": 15,
    "start_time": "2023-07-19T14:49:03.265Z"
   },
   {
    "duration": 8,
    "start_time": "2023-07-19T15:07:24.384Z"
   },
   {
    "duration": 10,
    "start_time": "2023-07-19T15:08:32.314Z"
   },
   {
    "duration": 8,
    "start_time": "2023-07-19T15:09:18.994Z"
   },
   {
    "duration": 7,
    "start_time": "2023-07-19T15:09:34.113Z"
   },
   {
    "duration": 7,
    "start_time": "2023-07-19T15:10:02.082Z"
   },
   {
    "duration": 4,
    "start_time": "2023-07-19T15:10:17.103Z"
   },
   {
    "duration": 6,
    "start_time": "2023-07-19T15:10:30.843Z"
   },
   {
    "duration": 26,
    "start_time": "2023-07-19T15:10:59.042Z"
   },
   {
    "duration": 14,
    "start_time": "2023-07-19T15:11:39.380Z"
   },
   {
    "duration": 4,
    "start_time": "2023-07-19T15:12:54.805Z"
   },
   {
    "duration": 9,
    "start_time": "2023-07-19T15:13:02.285Z"
   },
   {
    "duration": 4,
    "start_time": "2023-07-19T15:14:18.665Z"
   },
   {
    "duration": 7,
    "start_time": "2023-07-19T15:14:39.932Z"
   },
   {
    "duration": 8,
    "start_time": "2023-07-19T15:15:01.965Z"
   },
   {
    "duration": 9,
    "start_time": "2023-07-19T15:15:17.934Z"
   },
   {
    "duration": 13,
    "start_time": "2023-07-19T15:16:09.899Z"
   },
   {
    "duration": 13,
    "start_time": "2023-07-19T15:16:58.074Z"
   },
   {
    "duration": 13,
    "start_time": "2023-07-19T15:17:35.200Z"
   },
   {
    "duration": 20,
    "start_time": "2023-07-19T15:22:03.014Z"
   },
   {
    "duration": 25,
    "start_time": "2023-07-19T15:22:13.667Z"
   },
   {
    "duration": 13,
    "start_time": "2023-07-19T15:23:27.555Z"
   },
   {
    "duration": 17,
    "start_time": "2023-07-19T18:05:06.773Z"
   },
   {
    "duration": 16,
    "start_time": "2023-07-19T18:10:20.734Z"
   },
   {
    "duration": 12,
    "start_time": "2023-07-19T18:10:34.240Z"
   },
   {
    "duration": 14,
    "start_time": "2023-07-19T18:10:40.687Z"
   },
   {
    "duration": 17,
    "start_time": "2023-07-19T18:11:00.583Z"
   },
   {
    "duration": 17,
    "start_time": "2023-07-19T18:11:44.914Z"
   },
   {
    "duration": 28,
    "start_time": "2023-07-19T18:22:45.276Z"
   },
   {
    "duration": 18,
    "start_time": "2023-07-19T18:22:56.901Z"
   },
   {
    "duration": 21,
    "start_time": "2023-07-19T18:23:38.129Z"
   },
   {
    "duration": 15,
    "start_time": "2023-07-19T18:26:49.478Z"
   },
   {
    "duration": 17,
    "start_time": "2023-07-19T18:46:24.118Z"
   },
   {
    "duration": 3,
    "start_time": "2023-07-19T19:06:21.462Z"
   },
   {
    "duration": 1385,
    "start_time": "2023-07-19T19:21:47.201Z"
   },
   {
    "duration": 103,
    "start_time": "2023-07-19T19:21:48.589Z"
   },
   {
    "duration": 23,
    "start_time": "2023-07-19T19:21:48.694Z"
   },
   {
    "duration": 19,
    "start_time": "2023-07-19T19:21:48.719Z"
   },
   {
    "duration": 5,
    "start_time": "2023-07-19T19:21:48.740Z"
   },
   {
    "duration": 12,
    "start_time": "2023-07-19T19:21:48.747Z"
   },
   {
    "duration": 13,
    "start_time": "2023-07-19T19:21:48.761Z"
   },
   {
    "duration": 9,
    "start_time": "2023-07-19T19:21:48.776Z"
   },
   {
    "duration": 10,
    "start_time": "2023-07-19T19:21:48.786Z"
   },
   {
    "duration": 24,
    "start_time": "2023-07-19T19:21:48.797Z"
   },
   {
    "duration": 14,
    "start_time": "2023-07-19T19:21:48.823Z"
   },
   {
    "duration": 14,
    "start_time": "2023-07-19T19:21:48.839Z"
   },
   {
    "duration": 12,
    "start_time": "2023-07-19T19:21:48.854Z"
   },
   {
    "duration": 23,
    "start_time": "2023-07-19T19:21:48.869Z"
   },
   {
    "duration": 27,
    "start_time": "2023-07-19T19:21:48.894Z"
   },
   {
    "duration": 8,
    "start_time": "2023-07-19T19:21:48.922Z"
   },
   {
    "duration": 4,
    "start_time": "2023-07-19T19:21:48.932Z"
   },
   {
    "duration": 8,
    "start_time": "2023-07-19T19:21:48.937Z"
   },
   {
    "duration": 19,
    "start_time": "2023-07-19T19:21:48.946Z"
   },
   {
    "duration": 15,
    "start_time": "2023-07-19T19:21:48.967Z"
   },
   {
    "duration": 10,
    "start_time": "2023-07-19T19:21:48.984Z"
   },
   {
    "duration": 7,
    "start_time": "2023-07-19T19:21:48.996Z"
   },
   {
    "duration": 18,
    "start_time": "2023-07-19T19:21:49.020Z"
   },
   {
    "duration": 12,
    "start_time": "2023-07-19T19:21:49.040Z"
   },
   {
    "duration": 7,
    "start_time": "2023-07-19T19:21:49.054Z"
   },
   {
    "duration": 23,
    "start_time": "2023-07-19T19:21:49.063Z"
   },
   {
    "duration": 61,
    "start_time": "2023-07-19T19:21:49.088Z"
   },
   {
    "duration": 16,
    "start_time": "2023-07-19T19:21:49.151Z"
   },
   {
    "duration": 20,
    "start_time": "2023-07-19T19:21:49.169Z"
   },
   {
    "duration": 28,
    "start_time": "2023-07-19T19:21:49.191Z"
   },
   {
    "duration": 11,
    "start_time": "2023-07-19T19:21:49.221Z"
   },
   {
    "duration": 10,
    "start_time": "2023-07-19T19:21:49.233Z"
   },
   {
    "duration": 4,
    "start_time": "2023-07-19T19:21:49.244Z"
   },
   {
    "duration": 36,
    "start_time": "2023-07-19T19:21:49.250Z"
   },
   {
    "duration": 13,
    "start_time": "2023-07-19T19:21:49.289Z"
   },
   {
    "duration": 196,
    "start_time": "2023-07-19T19:21:49.304Z"
   },
   {
    "duration": 21,
    "start_time": "2023-07-19T19:21:49.502Z"
   },
   {
    "duration": 13,
    "start_time": "2023-07-19T19:21:49.524Z"
   },
   {
    "duration": 800,
    "start_time": "2023-07-19T19:21:49.539Z"
   },
   {
    "duration": 22,
    "start_time": "2023-07-19T19:21:50.340Z"
   },
   {
    "duration": 29,
    "start_time": "2023-07-19T19:21:50.365Z"
   },
   {
    "duration": 10,
    "start_time": "2023-07-19T19:21:50.395Z"
   },
   {
    "duration": 207,
    "start_time": "2023-07-19T19:21:50.406Z"
   },
   {
    "duration": 12,
    "start_time": "2023-07-19T19:21:50.614Z"
   },
   {
    "duration": 37,
    "start_time": "2023-07-19T19:21:50.627Z"
   },
   {
    "duration": 168,
    "start_time": "2023-07-19T19:21:50.665Z"
   },
   {
    "duration": 192,
    "start_time": "2023-07-19T19:21:50.835Z"
   },
   {
    "duration": 297,
    "start_time": "2023-07-19T19:21:51.029Z"
   },
   {
    "duration": 16,
    "start_time": "2023-07-19T19:21:51.328Z"
   },
   {
    "duration": 23,
    "start_time": "2023-07-19T19:21:51.346Z"
   },
   {
    "duration": 28,
    "start_time": "2023-07-19T19:21:51.371Z"
   },
   {
    "duration": 447,
    "start_time": "2023-07-19T19:21:51.400Z"
   },
   {
    "duration": 334,
    "start_time": "2023-07-19T19:21:51.850Z"
   },
   {
    "duration": 345,
    "start_time": "2023-07-19T19:21:52.186Z"
   },
   {
    "duration": 9,
    "start_time": "2023-07-19T19:21:52.533Z"
   },
   {
    "duration": 44,
    "start_time": "2023-07-19T19:21:52.544Z"
   },
   {
    "duration": 37,
    "start_time": "2023-07-19T19:21:52.590Z"
   },
   {
    "duration": 24,
    "start_time": "2023-07-19T19:21:52.629Z"
   },
   {
    "duration": 46,
    "start_time": "2023-07-20T07:16:56.905Z"
   },
   {
    "duration": 1293,
    "start_time": "2023-07-20T07:17:04.474Z"
   },
   {
    "duration": 88,
    "start_time": "2023-07-20T07:17:05.769Z"
   },
   {
    "duration": 21,
    "start_time": "2023-07-20T07:17:05.858Z"
   },
   {
    "duration": 18,
    "start_time": "2023-07-20T07:17:05.881Z"
   },
   {
    "duration": 13,
    "start_time": "2023-07-20T07:17:05.902Z"
   },
   {
    "duration": 39,
    "start_time": "2023-07-20T07:17:05.916Z"
   },
   {
    "duration": 17,
    "start_time": "2023-07-20T07:17:05.956Z"
   },
   {
    "duration": 24,
    "start_time": "2023-07-20T07:17:05.975Z"
   },
   {
    "duration": 22,
    "start_time": "2023-07-20T07:17:06.000Z"
   },
   {
    "duration": 13,
    "start_time": "2023-07-20T07:17:06.024Z"
   },
   {
    "duration": 48,
    "start_time": "2023-07-20T07:17:06.038Z"
   },
   {
    "duration": 29,
    "start_time": "2023-07-20T07:17:06.088Z"
   },
   {
    "duration": 17,
    "start_time": "2023-07-20T07:17:06.119Z"
   },
   {
    "duration": 34,
    "start_time": "2023-07-20T07:17:06.141Z"
   },
   {
    "duration": 9,
    "start_time": "2023-07-20T07:17:06.176Z"
   },
   {
    "duration": 23,
    "start_time": "2023-07-20T07:17:06.186Z"
   },
   {
    "duration": 10,
    "start_time": "2023-07-20T07:17:06.211Z"
   },
   {
    "duration": 15,
    "start_time": "2023-07-20T07:17:06.223Z"
   },
   {
    "duration": 15,
    "start_time": "2023-07-20T07:17:06.239Z"
   },
   {
    "duration": 16,
    "start_time": "2023-07-20T07:17:06.255Z"
   },
   {
    "duration": 13,
    "start_time": "2023-07-20T07:17:06.273Z"
   },
   {
    "duration": 19,
    "start_time": "2023-07-20T07:17:06.287Z"
   },
   {
    "duration": 21,
    "start_time": "2023-07-20T07:17:06.307Z"
   },
   {
    "duration": 12,
    "start_time": "2023-07-20T07:17:06.329Z"
   },
   {
    "duration": 3,
    "start_time": "2023-07-20T07:17:06.342Z"
   },
   {
    "duration": 16,
    "start_time": "2023-07-20T07:17:06.346Z"
   },
   {
    "duration": 41,
    "start_time": "2023-07-20T07:17:06.363Z"
   },
   {
    "duration": 6,
    "start_time": "2023-07-20T07:17:06.405Z"
   },
   {
    "duration": 19,
    "start_time": "2023-07-20T07:17:06.412Z"
   },
   {
    "duration": 21,
    "start_time": "2023-07-20T07:17:06.433Z"
   },
   {
    "duration": 28,
    "start_time": "2023-07-20T07:17:06.455Z"
   },
   {
    "duration": 21,
    "start_time": "2023-07-20T07:17:06.484Z"
   },
   {
    "duration": 38,
    "start_time": "2023-07-20T07:17:06.507Z"
   },
   {
    "duration": 18,
    "start_time": "2023-07-20T07:17:06.546Z"
   },
   {
    "duration": 21,
    "start_time": "2023-07-20T07:17:06.565Z"
   },
   {
    "duration": 4,
    "start_time": "2023-07-20T07:17:06.587Z"
   },
   {
    "duration": 162,
    "start_time": "2023-07-20T07:17:06.593Z"
   },
   {
    "duration": 13,
    "start_time": "2023-07-20T07:17:06.757Z"
   },
   {
    "duration": 39,
    "start_time": "2023-07-20T07:17:06.771Z"
   },
   {
    "duration": 767,
    "start_time": "2023-07-20T07:17:06.811Z"
   },
   {
    "duration": 19,
    "start_time": "2023-07-20T07:17:07.582Z"
   },
   {
    "duration": 17,
    "start_time": "2023-07-20T07:17:07.603Z"
   },
   {
    "duration": 3,
    "start_time": "2023-07-20T07:17:07.621Z"
   },
   {
    "duration": 194,
    "start_time": "2023-07-20T07:17:07.625Z"
   },
   {
    "duration": 9,
    "start_time": "2023-07-20T07:17:07.820Z"
   },
   {
    "duration": 36,
    "start_time": "2023-07-20T07:17:07.830Z"
   },
   {
    "duration": 159,
    "start_time": "2023-07-20T07:17:07.868Z"
   },
   {
    "duration": 182,
    "start_time": "2023-07-20T07:17:08.029Z"
   },
   {
    "duration": 238,
    "start_time": "2023-07-20T07:17:08.212Z"
   },
   {
    "duration": 13,
    "start_time": "2023-07-20T07:17:08.451Z"
   },
   {
    "duration": 22,
    "start_time": "2023-07-20T07:17:08.466Z"
   },
   {
    "duration": 11,
    "start_time": "2023-07-20T07:17:08.490Z"
   },
   {
    "duration": 344,
    "start_time": "2023-07-20T07:17:08.502Z"
   },
   {
    "duration": 278,
    "start_time": "2023-07-20T07:17:08.847Z"
   },
   {
    "duration": 299,
    "start_time": "2023-07-20T07:17:09.126Z"
   },
   {
    "duration": 7,
    "start_time": "2023-07-20T07:17:09.426Z"
   },
   {
    "duration": 14,
    "start_time": "2023-07-20T07:17:09.434Z"
   },
   {
    "duration": 18,
    "start_time": "2023-07-20T07:17:09.449Z"
   },
   {
    "duration": 12,
    "start_time": "2023-07-20T07:17:09.468Z"
   },
   {
    "duration": 96,
    "start_time": "2023-07-20T07:21:18.683Z"
   },
   {
    "duration": 45,
    "start_time": "2023-07-20T07:21:34.164Z"
   },
   {
    "duration": 1079,
    "start_time": "2023-07-20T07:22:12.105Z"
   },
   {
    "duration": 48,
    "start_time": "2023-07-20T07:22:13.186Z"
   },
   {
    "duration": 20,
    "start_time": "2023-07-20T07:22:13.236Z"
   },
   {
    "duration": 12,
    "start_time": "2023-07-20T07:22:13.259Z"
   },
   {
    "duration": 6,
    "start_time": "2023-07-20T07:22:13.272Z"
   },
   {
    "duration": 16,
    "start_time": "2023-07-20T07:22:13.280Z"
   },
   {
    "duration": 7,
    "start_time": "2023-07-20T07:22:13.299Z"
   },
   {
    "duration": 14,
    "start_time": "2023-07-20T07:22:13.307Z"
   },
   {
    "duration": 9,
    "start_time": "2023-07-20T07:22:13.322Z"
   },
   {
    "duration": 20,
    "start_time": "2023-07-20T07:22:13.334Z"
   },
   {
    "duration": 22,
    "start_time": "2023-07-20T07:22:13.355Z"
   },
   {
    "duration": 19,
    "start_time": "2023-07-20T07:22:13.379Z"
   },
   {
    "duration": 18,
    "start_time": "2023-07-20T07:22:13.400Z"
   },
   {
    "duration": 18,
    "start_time": "2023-07-20T07:22:13.420Z"
   },
   {
    "duration": 3,
    "start_time": "2023-07-20T07:22:13.439Z"
   },
   {
    "duration": 22,
    "start_time": "2023-07-20T07:22:13.443Z"
   },
   {
    "duration": 5,
    "start_time": "2023-07-20T07:22:13.466Z"
   },
   {
    "duration": 8,
    "start_time": "2023-07-20T07:22:13.472Z"
   },
   {
    "duration": 5,
    "start_time": "2023-07-20T07:22:13.481Z"
   },
   {
    "duration": 14,
    "start_time": "2023-07-20T07:22:13.487Z"
   },
   {
    "duration": 21,
    "start_time": "2023-07-20T07:22:13.502Z"
   },
   {
    "duration": 13,
    "start_time": "2023-07-20T07:22:13.524Z"
   },
   {
    "duration": 35,
    "start_time": "2023-07-20T07:22:13.539Z"
   },
   {
    "duration": 46,
    "start_time": "2023-07-20T07:22:13.576Z"
   },
   {
    "duration": 11,
    "start_time": "2023-07-20T07:22:13.623Z"
   },
   {
    "duration": 9,
    "start_time": "2023-07-20T07:22:13.636Z"
   },
   {
    "duration": 14,
    "start_time": "2023-07-20T07:22:13.646Z"
   },
   {
    "duration": 45,
    "start_time": "2023-07-20T07:22:13.663Z"
   },
   {
    "duration": 5,
    "start_time": "2023-07-20T07:22:13.710Z"
   },
   {
    "duration": 13,
    "start_time": "2023-07-20T07:22:13.717Z"
   },
   {
    "duration": 5,
    "start_time": "2023-07-20T07:22:13.732Z"
   },
   {
    "duration": 20,
    "start_time": "2023-07-20T07:22:13.738Z"
   },
   {
    "duration": 25,
    "start_time": "2023-07-20T07:22:13.759Z"
   },
   {
    "duration": 8,
    "start_time": "2023-07-20T07:22:13.785Z"
   },
   {
    "duration": 37,
    "start_time": "2023-07-20T07:22:13.794Z"
   },
   {
    "duration": 21,
    "start_time": "2023-07-20T07:22:13.832Z"
   },
   {
    "duration": 4,
    "start_time": "2023-07-20T07:22:13.855Z"
   },
   {
    "duration": 164,
    "start_time": "2023-07-20T07:22:13.861Z"
   },
   {
    "duration": 13,
    "start_time": "2023-07-20T07:22:14.026Z"
   },
   {
    "duration": 7,
    "start_time": "2023-07-20T07:22:14.041Z"
   },
   {
    "duration": 736,
    "start_time": "2023-07-20T07:22:14.050Z"
   },
   {
    "duration": 21,
    "start_time": "2023-07-20T07:22:14.788Z"
   },
   {
    "duration": 19,
    "start_time": "2023-07-20T07:22:14.810Z"
   },
   {
    "duration": 8,
    "start_time": "2023-07-20T07:22:14.831Z"
   },
   {
    "duration": 194,
    "start_time": "2023-07-20T07:22:14.840Z"
   },
   {
    "duration": 9,
    "start_time": "2023-07-20T07:22:15.035Z"
   },
   {
    "duration": 51,
    "start_time": "2023-07-20T07:22:15.045Z"
   },
   {
    "duration": 178,
    "start_time": "2023-07-20T07:22:15.098Z"
   },
   {
    "duration": 180,
    "start_time": "2023-07-20T07:22:15.277Z"
   },
   {
    "duration": 248,
    "start_time": "2023-07-20T07:22:15.459Z"
   },
   {
    "duration": 13,
    "start_time": "2023-07-20T07:22:15.708Z"
   },
   {
    "duration": 12,
    "start_time": "2023-07-20T07:22:15.722Z"
   },
   {
    "duration": 76,
    "start_time": "2023-07-20T07:22:15.735Z"
   },
   {
    "duration": 351,
    "start_time": "2023-07-20T07:22:15.812Z"
   },
   {
    "duration": 307,
    "start_time": "2023-07-20T07:22:16.165Z"
   },
   {
    "duration": 303,
    "start_time": "2023-07-20T07:22:16.474Z"
   },
   {
    "duration": 7,
    "start_time": "2023-07-20T07:22:16.779Z"
   },
   {
    "duration": 20,
    "start_time": "2023-07-20T07:22:16.787Z"
   },
   {
    "duration": 19,
    "start_time": "2023-07-20T07:22:16.809Z"
   },
   {
    "duration": 25,
    "start_time": "2023-07-20T07:22:16.830Z"
   },
   {
    "duration": 13,
    "start_time": "2023-07-20T07:23:33.584Z"
   },
   {
    "duration": 9,
    "start_time": "2023-07-20T07:34:47.647Z"
   },
   {
    "duration": 15,
    "start_time": "2023-07-20T07:35:00.124Z"
   },
   {
    "duration": 23,
    "start_time": "2023-07-20T07:35:16.128Z"
   },
   {
    "duration": 24,
    "start_time": "2023-07-20T07:35:44.127Z"
   },
   {
    "duration": 16,
    "start_time": "2023-07-20T07:36:03.001Z"
   },
   {
    "duration": 15,
    "start_time": "2023-07-20T07:37:12.769Z"
   },
   {
    "duration": 19,
    "start_time": "2023-07-20T07:39:27.987Z"
   },
   {
    "duration": 17,
    "start_time": "2023-07-20T07:41:22.225Z"
   },
   {
    "duration": 22,
    "start_time": "2023-07-20T07:41:25.925Z"
   },
   {
    "duration": 22,
    "start_time": "2023-07-20T07:42:36.900Z"
   },
   {
    "duration": 21,
    "start_time": "2023-07-20T07:42:51.309Z"
   },
   {
    "duration": 14,
    "start_time": "2023-07-20T07:43:13.379Z"
   },
   {
    "duration": 4,
    "start_time": "2023-07-20T07:47:54.187Z"
   },
   {
    "duration": 107,
    "start_time": "2023-07-20T07:48:01.493Z"
   },
   {
    "duration": 13,
    "start_time": "2023-07-20T07:48:23.658Z"
   },
   {
    "duration": 1072,
    "start_time": "2023-07-20T07:48:46.307Z"
   },
   {
    "duration": 49,
    "start_time": "2023-07-20T07:48:47.381Z"
   },
   {
    "duration": 20,
    "start_time": "2023-07-20T07:48:47.432Z"
   },
   {
    "duration": 20,
    "start_time": "2023-07-20T07:48:47.454Z"
   },
   {
    "duration": 8,
    "start_time": "2023-07-20T07:48:47.475Z"
   },
   {
    "duration": 22,
    "start_time": "2023-07-20T07:48:47.485Z"
   },
   {
    "duration": 15,
    "start_time": "2023-07-20T07:48:47.509Z"
   },
   {
    "duration": 28,
    "start_time": "2023-07-20T07:48:47.526Z"
   },
   {
    "duration": 8,
    "start_time": "2023-07-20T07:48:47.556Z"
   },
   {
    "duration": 8,
    "start_time": "2023-07-20T07:48:47.565Z"
   },
   {
    "duration": 15,
    "start_time": "2023-07-20T07:48:47.575Z"
   },
   {
    "duration": 12,
    "start_time": "2023-07-20T07:48:47.592Z"
   },
   {
    "duration": 9,
    "start_time": "2023-07-20T07:48:47.606Z"
   },
   {
    "duration": 31,
    "start_time": "2023-07-20T07:48:47.617Z"
   },
   {
    "duration": 3,
    "start_time": "2023-07-20T07:48:47.650Z"
   },
   {
    "duration": 8,
    "start_time": "2023-07-20T07:48:47.654Z"
   },
   {
    "duration": 4,
    "start_time": "2023-07-20T07:48:47.663Z"
   },
   {
    "duration": 6,
    "start_time": "2023-07-20T07:48:47.668Z"
   },
   {
    "duration": 7,
    "start_time": "2023-07-20T07:48:47.675Z"
   },
   {
    "duration": 20,
    "start_time": "2023-07-20T07:48:47.683Z"
   },
   {
    "duration": 16,
    "start_time": "2023-07-20T07:48:47.705Z"
   },
   {
    "duration": 7,
    "start_time": "2023-07-20T07:48:47.723Z"
   },
   {
    "duration": 13,
    "start_time": "2023-07-20T07:48:47.732Z"
   },
   {
    "duration": 53,
    "start_time": "2023-07-20T07:48:47.747Z"
   },
   {
    "duration": 14,
    "start_time": "2023-07-20T07:48:47.802Z"
   },
   {
    "duration": 5,
    "start_time": "2023-07-20T07:48:47.818Z"
   },
   {
    "duration": 16,
    "start_time": "2023-07-20T07:48:47.825Z"
   },
   {
    "duration": 32,
    "start_time": "2023-07-20T07:48:47.842Z"
   },
   {
    "duration": 29,
    "start_time": "2023-07-20T07:48:47.875Z"
   },
   {
    "duration": 18,
    "start_time": "2023-07-20T07:48:47.905Z"
   },
   {
    "duration": 7,
    "start_time": "2023-07-20T07:48:47.925Z"
   },
   {
    "duration": 14,
    "start_time": "2023-07-20T07:48:47.933Z"
   },
   {
    "duration": 10,
    "start_time": "2023-07-20T07:48:47.949Z"
   },
   {
    "duration": 14,
    "start_time": "2023-07-20T07:48:47.961Z"
   },
   {
    "duration": 24,
    "start_time": "2023-07-20T07:48:47.976Z"
   },
   {
    "duration": 22,
    "start_time": "2023-07-20T07:48:48.001Z"
   },
   {
    "duration": 21,
    "start_time": "2023-07-20T07:48:48.025Z"
   },
   {
    "duration": 5,
    "start_time": "2023-07-20T07:48:48.048Z"
   },
   {
    "duration": 191,
    "start_time": "2023-07-20T07:48:48.054Z"
   },
   {
    "duration": 13,
    "start_time": "2023-07-20T07:48:48.246Z"
   },
   {
    "duration": 10,
    "start_time": "2023-07-20T07:48:48.262Z"
   },
   {
    "duration": 737,
    "start_time": "2023-07-20T07:48:48.273Z"
   },
   {
    "duration": 19,
    "start_time": "2023-07-20T07:48:49.011Z"
   },
   {
    "duration": 16,
    "start_time": "2023-07-20T07:48:49.032Z"
   },
   {
    "duration": 4,
    "start_time": "2023-07-20T07:48:49.049Z"
   },
   {
    "duration": 186,
    "start_time": "2023-07-20T07:48:49.054Z"
   },
   {
    "duration": 8,
    "start_time": "2023-07-20T07:48:49.242Z"
   },
   {
    "duration": 22,
    "start_time": "2023-07-20T07:48:49.251Z"
   },
   {
    "duration": 170,
    "start_time": "2023-07-20T07:48:49.275Z"
   },
   {
    "duration": 174,
    "start_time": "2023-07-20T07:48:49.446Z"
   },
   {
    "duration": 258,
    "start_time": "2023-07-20T07:48:49.621Z"
   },
   {
    "duration": 21,
    "start_time": "2023-07-20T07:48:49.881Z"
   },
   {
    "duration": 5,
    "start_time": "2023-07-20T07:48:49.903Z"
   },
   {
    "duration": 67,
    "start_time": "2023-07-20T07:48:49.911Z"
   },
   {
    "duration": 282,
    "start_time": "2023-07-20T07:48:49.979Z"
   },
   {
    "duration": 284,
    "start_time": "2023-07-20T07:48:50.262Z"
   },
   {
    "duration": 306,
    "start_time": "2023-07-20T07:48:50.548Z"
   },
   {
    "duration": 8,
    "start_time": "2023-07-20T07:48:50.856Z"
   },
   {
    "duration": 57,
    "start_time": "2023-07-20T07:48:50.865Z"
   },
   {
    "duration": 80,
    "start_time": "2023-07-20T07:48:50.924Z"
   },
   {
    "duration": 28,
    "start_time": "2023-07-20T07:48:51.006Z"
   },
   {
    "duration": 5,
    "start_time": "2023-07-20T07:50:55.383Z"
   },
   {
    "duration": 4,
    "start_time": "2023-07-20T07:51:19.533Z"
   },
   {
    "duration": 94,
    "start_time": "2023-07-20T07:51:58.802Z"
   },
   {
    "duration": 192,
    "start_time": "2023-07-20T07:52:16.107Z"
   },
   {
    "duration": 12,
    "start_time": "2023-07-20T07:52:59.593Z"
   },
   {
    "duration": 1043,
    "start_time": "2023-07-20T08:17:16.629Z"
   },
   {
    "duration": 50,
    "start_time": "2023-07-20T08:17:17.674Z"
   },
   {
    "duration": 21,
    "start_time": "2023-07-20T08:17:17.725Z"
   },
   {
    "duration": 17,
    "start_time": "2023-07-20T08:17:17.747Z"
   },
   {
    "duration": 6,
    "start_time": "2023-07-20T08:17:17.766Z"
   },
   {
    "duration": 27,
    "start_time": "2023-07-20T08:17:17.773Z"
   },
   {
    "duration": 6,
    "start_time": "2023-07-20T08:17:17.801Z"
   },
   {
    "duration": 38,
    "start_time": "2023-07-20T08:17:17.808Z"
   },
   {
    "duration": 4,
    "start_time": "2023-07-20T08:17:17.848Z"
   },
   {
    "duration": 10,
    "start_time": "2023-07-20T08:17:17.854Z"
   },
   {
    "duration": 18,
    "start_time": "2023-07-20T08:17:17.865Z"
   },
   {
    "duration": 12,
    "start_time": "2023-07-20T08:17:17.885Z"
   },
   {
    "duration": 10,
    "start_time": "2023-07-20T08:17:17.899Z"
   },
   {
    "duration": 31,
    "start_time": "2023-07-20T08:17:17.910Z"
   },
   {
    "duration": 3,
    "start_time": "2023-07-20T08:17:17.942Z"
   },
   {
    "duration": 10,
    "start_time": "2023-07-20T08:17:17.947Z"
   },
   {
    "duration": 18,
    "start_time": "2023-07-20T08:17:17.958Z"
   },
   {
    "duration": 14,
    "start_time": "2023-07-20T08:17:17.978Z"
   },
   {
    "duration": 13,
    "start_time": "2023-07-20T08:17:17.994Z"
   },
   {
    "duration": 16,
    "start_time": "2023-07-20T08:17:18.008Z"
   },
   {
    "duration": 8,
    "start_time": "2023-07-20T08:17:18.026Z"
   },
   {
    "duration": 22,
    "start_time": "2023-07-20T08:17:18.035Z"
   },
   {
    "duration": 15,
    "start_time": "2023-07-20T08:17:18.058Z"
   },
   {
    "duration": 46,
    "start_time": "2023-07-20T08:17:18.074Z"
   },
   {
    "duration": 13,
    "start_time": "2023-07-20T08:17:18.122Z"
   },
   {
    "duration": 9,
    "start_time": "2023-07-20T08:17:18.137Z"
   },
   {
    "duration": 14,
    "start_time": "2023-07-20T08:17:18.148Z"
   },
   {
    "duration": 46,
    "start_time": "2023-07-20T08:17:18.165Z"
   },
   {
    "duration": 6,
    "start_time": "2023-07-20T08:17:18.212Z"
   },
   {
    "duration": 13,
    "start_time": "2023-07-20T08:17:18.219Z"
   },
   {
    "duration": 12,
    "start_time": "2023-07-20T08:17:18.234Z"
   },
   {
    "duration": 9,
    "start_time": "2023-07-20T08:17:18.247Z"
   },
   {
    "duration": 12,
    "start_time": "2023-07-20T08:17:18.258Z"
   },
   {
    "duration": 8,
    "start_time": "2023-07-20T08:17:18.272Z"
   },
   {
    "duration": 25,
    "start_time": "2023-07-20T08:17:18.281Z"
   },
   {
    "duration": 28,
    "start_time": "2023-07-20T08:17:18.308Z"
   },
   {
    "duration": 5,
    "start_time": "2023-07-20T08:17:18.338Z"
   },
   {
    "duration": 17,
    "start_time": "2023-07-20T08:17:18.345Z"
   },
   {
    "duration": 165,
    "start_time": "2023-07-20T08:17:18.363Z"
   },
   {
    "duration": 13,
    "start_time": "2023-07-20T08:17:18.529Z"
   },
   {
    "duration": 5,
    "start_time": "2023-07-20T08:17:18.543Z"
   },
   {
    "duration": 741,
    "start_time": "2023-07-20T08:17:18.549Z"
   },
   {
    "duration": 21,
    "start_time": "2023-07-20T08:17:19.292Z"
   },
   {
    "duration": 28,
    "start_time": "2023-07-20T08:17:19.314Z"
   },
   {
    "duration": 4,
    "start_time": "2023-07-20T08:17:19.344Z"
   },
   {
    "duration": 204,
    "start_time": "2023-07-20T08:17:19.350Z"
   },
   {
    "duration": 9,
    "start_time": "2023-07-20T08:17:19.555Z"
   },
   {
    "duration": 23,
    "start_time": "2023-07-20T08:17:19.565Z"
   },
   {
    "duration": 171,
    "start_time": "2023-07-20T08:17:19.590Z"
   },
   {
    "duration": 176,
    "start_time": "2023-07-20T08:17:19.762Z"
   },
   {
    "duration": 235,
    "start_time": "2023-07-20T08:17:19.940Z"
   },
   {
    "duration": 23,
    "start_time": "2023-07-20T08:17:20.177Z"
   },
   {
    "duration": 4,
    "start_time": "2023-07-20T08:17:20.201Z"
   },
   {
    "duration": 67,
    "start_time": "2023-07-20T08:17:20.207Z"
   },
   {
    "duration": 292,
    "start_time": "2023-07-20T08:17:20.275Z"
   },
   {
    "duration": 303,
    "start_time": "2023-07-20T08:17:20.568Z"
   },
   {
    "duration": 338,
    "start_time": "2023-07-20T08:17:20.873Z"
   },
   {
    "duration": 13,
    "start_time": "2023-07-20T08:17:21.213Z"
   },
   {
    "duration": 32,
    "start_time": "2023-07-20T08:17:21.229Z"
   },
   {
    "duration": 17,
    "start_time": "2023-07-20T08:17:21.263Z"
   },
   {
    "duration": 16,
    "start_time": "2023-07-20T08:17:21.281Z"
   },
   {
    "duration": 296,
    "start_time": "2023-07-20T08:28:33.291Z"
   },
   {
    "duration": 282,
    "start_time": "2023-07-20T08:31:08.137Z"
   },
   {
    "duration": 330,
    "start_time": "2023-07-20T08:31:47.325Z"
   },
   {
    "duration": 94,
    "start_time": "2023-07-20T08:33:43.797Z"
   },
   {
    "duration": 357,
    "start_time": "2023-07-20T08:33:57.138Z"
   },
   {
    "duration": 274,
    "start_time": "2023-07-20T08:36:18.449Z"
   },
   {
    "duration": 283,
    "start_time": "2023-07-20T08:36:30.397Z"
   },
   {
    "duration": 9,
    "start_time": "2023-07-20T08:58:29.856Z"
   },
   {
    "duration": 7,
    "start_time": "2023-07-20T09:01:18.255Z"
   },
   {
    "duration": 9,
    "start_time": "2023-07-20T09:01:44.087Z"
   },
   {
    "duration": 9,
    "start_time": "2023-07-20T09:05:10.066Z"
   },
   {
    "duration": 10,
    "start_time": "2023-07-20T09:05:23.205Z"
   },
   {
    "duration": 1526,
    "start_time": "2023-07-20T09:44:21.756Z"
   },
   {
    "duration": 185,
    "start_time": "2023-07-20T09:44:23.284Z"
   },
   {
    "duration": 28,
    "start_time": "2023-07-20T09:44:23.471Z"
   },
   {
    "duration": 48,
    "start_time": "2023-07-20T09:44:23.501Z"
   },
   {
    "duration": 8,
    "start_time": "2023-07-20T09:44:23.551Z"
   },
   {
    "duration": 30,
    "start_time": "2023-07-20T09:44:23.561Z"
   },
   {
    "duration": 30,
    "start_time": "2023-07-20T09:44:23.593Z"
   },
   {
    "duration": 37,
    "start_time": "2023-07-20T09:44:23.625Z"
   },
   {
    "duration": 54,
    "start_time": "2023-07-20T09:44:23.665Z"
   },
   {
    "duration": 58,
    "start_time": "2023-07-20T09:44:23.723Z"
   },
   {
    "duration": 23,
    "start_time": "2023-07-20T09:44:23.783Z"
   },
   {
    "duration": 34,
    "start_time": "2023-07-20T09:44:23.807Z"
   },
   {
    "duration": 22,
    "start_time": "2023-07-20T09:44:23.843Z"
   },
   {
    "duration": 59,
    "start_time": "2023-07-20T09:44:23.867Z"
   },
   {
    "duration": 25,
    "start_time": "2023-07-20T09:44:23.928Z"
   },
   {
    "duration": 13,
    "start_time": "2023-07-20T09:44:23.955Z"
   },
   {
    "duration": 39,
    "start_time": "2023-07-20T09:44:23.971Z"
   },
   {
    "duration": 27,
    "start_time": "2023-07-20T09:44:24.012Z"
   },
   {
    "duration": 16,
    "start_time": "2023-07-20T09:44:24.042Z"
   },
   {
    "duration": 17,
    "start_time": "2023-07-20T09:44:24.060Z"
   },
   {
    "duration": 9,
    "start_time": "2023-07-20T09:44:24.079Z"
   },
   {
    "duration": 9,
    "start_time": "2023-07-20T09:44:24.090Z"
   },
   {
    "duration": 26,
    "start_time": "2023-07-20T09:44:24.101Z"
   },
   {
    "duration": 60,
    "start_time": "2023-07-20T09:44:24.129Z"
   },
   {
    "duration": 16,
    "start_time": "2023-07-20T09:44:24.191Z"
   },
   {
    "duration": 23,
    "start_time": "2023-07-20T09:44:24.209Z"
   },
   {
    "duration": 21,
    "start_time": "2023-07-20T09:44:24.234Z"
   },
   {
    "duration": 47,
    "start_time": "2023-07-20T09:44:24.259Z"
   },
   {
    "duration": 7,
    "start_time": "2023-07-20T09:44:24.308Z"
   },
   {
    "duration": 21,
    "start_time": "2023-07-20T09:44:24.317Z"
   },
   {
    "duration": 22,
    "start_time": "2023-07-20T09:44:24.340Z"
   },
   {
    "duration": 14,
    "start_time": "2023-07-20T09:44:24.364Z"
   },
   {
    "duration": 30,
    "start_time": "2023-07-20T09:44:24.380Z"
   },
   {
    "duration": 21,
    "start_time": "2023-07-20T09:44:24.411Z"
   },
   {
    "duration": 27,
    "start_time": "2023-07-20T09:44:24.434Z"
   },
   {
    "duration": 41,
    "start_time": "2023-07-20T09:44:24.462Z"
   },
   {
    "duration": 5,
    "start_time": "2023-07-20T09:44:24.505Z"
   },
   {
    "duration": 22,
    "start_time": "2023-07-20T09:44:24.511Z"
   },
   {
    "duration": 238,
    "start_time": "2023-07-20T09:44:24.535Z"
   },
   {
    "duration": 16,
    "start_time": "2023-07-20T09:44:24.775Z"
   },
   {
    "duration": 24,
    "start_time": "2023-07-20T09:44:24.793Z"
   },
   {
    "duration": 942,
    "start_time": "2023-07-20T09:44:24.819Z"
   },
   {
    "duration": 28,
    "start_time": "2023-07-20T09:44:25.764Z"
   },
   {
    "duration": 24,
    "start_time": "2023-07-20T09:44:25.794Z"
   },
   {
    "duration": 13,
    "start_time": "2023-07-20T09:44:25.819Z"
   },
   {
    "duration": 271,
    "start_time": "2023-07-20T09:44:25.834Z"
   },
   {
    "duration": 12,
    "start_time": "2023-07-20T09:44:26.107Z"
   },
   {
    "duration": 78,
    "start_time": "2023-07-20T09:44:26.120Z"
   },
   {
    "duration": 226,
    "start_time": "2023-07-20T09:44:26.200Z"
   },
   {
    "duration": 219,
    "start_time": "2023-07-20T09:44:26.428Z"
   },
   {
    "duration": 319,
    "start_time": "2023-07-20T09:44:26.649Z"
   },
   {
    "duration": 16,
    "start_time": "2023-07-20T09:44:26.970Z"
   },
   {
    "duration": 504,
    "start_time": "2023-07-20T09:44:26.989Z"
   },
   {
    "duration": 5,
    "start_time": "2023-07-20T09:44:27.495Z"
   },
   {
    "duration": 33,
    "start_time": "2023-07-20T09:44:27.502Z"
   },
   {
    "duration": 368,
    "start_time": "2023-07-20T09:44:27.537Z"
   },
   {
    "duration": 372,
    "start_time": "2023-07-20T09:44:27.907Z"
   },
   {
    "duration": 372,
    "start_time": "2023-07-20T09:44:28.281Z"
   },
   {
    "duration": 14,
    "start_time": "2023-07-20T09:44:28.654Z"
   },
   {
    "duration": 72,
    "start_time": "2023-07-20T09:44:28.670Z"
   },
   {
    "duration": 157,
    "start_time": "2023-07-20T09:44:28.744Z"
   },
   {
    "duration": 113,
    "start_time": "2023-07-20T09:44:28.903Z"
   },
   {
    "duration": 13,
    "start_time": "2023-07-20T10:04:14.722Z"
   },
   {
    "duration": 321,
    "start_time": "2023-07-20T10:06:21.604Z"
   },
   {
    "duration": 386,
    "start_time": "2023-07-20T10:06:29.375Z"
   },
   {
    "duration": 322,
    "start_time": "2023-07-20T10:06:35.824Z"
   },
   {
    "duration": 5,
    "start_time": "2023-07-20T10:07:18.591Z"
   },
   {
    "duration": 7,
    "start_time": "2023-07-20T10:07:19.227Z"
   },
   {
    "duration": 315,
    "start_time": "2023-07-20T10:07:20.938Z"
   },
   {
    "duration": 372,
    "start_time": "2023-07-20T10:07:26.086Z"
   },
   {
    "duration": 294,
    "start_time": "2023-07-20T10:07:31.334Z"
   },
   {
    "duration": 1174,
    "start_time": "2023-07-20T10:09:58.761Z"
   },
   {
    "duration": 52,
    "start_time": "2023-07-20T10:09:59.938Z"
   },
   {
    "duration": 33,
    "start_time": "2023-07-20T10:09:59.992Z"
   },
   {
    "duration": 48,
    "start_time": "2023-07-20T10:10:00.027Z"
   },
   {
    "duration": 52,
    "start_time": "2023-07-20T10:10:00.079Z"
   },
   {
    "duration": 61,
    "start_time": "2023-07-20T10:10:00.133Z"
   },
   {
    "duration": 44,
    "start_time": "2023-07-20T10:10:00.196Z"
   },
   {
    "duration": 66,
    "start_time": "2023-07-20T10:10:00.242Z"
   },
   {
    "duration": 74,
    "start_time": "2023-07-20T10:10:00.310Z"
   },
   {
    "duration": 85,
    "start_time": "2023-07-20T10:10:00.386Z"
   },
   {
    "duration": 94,
    "start_time": "2023-07-20T10:10:00.472Z"
   },
   {
    "duration": 50,
    "start_time": "2023-07-20T10:10:00.568Z"
   },
   {
    "duration": 54,
    "start_time": "2023-07-20T10:10:00.620Z"
   },
   {
    "duration": 90,
    "start_time": "2023-07-20T10:10:00.677Z"
   },
   {
    "duration": 236,
    "start_time": "2023-07-20T10:10:00.769Z"
   },
   {
    "duration": 106,
    "start_time": "2023-07-20T10:10:01.007Z"
   },
   {
    "duration": 63,
    "start_time": "2023-07-20T10:10:01.115Z"
   },
   {
    "duration": 48,
    "start_time": "2023-07-20T10:10:01.180Z"
   },
   {
    "duration": 63,
    "start_time": "2023-07-20T10:10:01.229Z"
   },
   {
    "duration": 61,
    "start_time": "2023-07-20T10:10:01.294Z"
   },
   {
    "duration": 99,
    "start_time": "2023-07-20T10:10:01.357Z"
   },
   {
    "duration": 162,
    "start_time": "2023-07-20T10:10:01.458Z"
   },
   {
    "duration": 72,
    "start_time": "2023-07-20T10:10:01.622Z"
   },
   {
    "duration": 86,
    "start_time": "2023-07-20T10:10:01.696Z"
   },
   {
    "duration": 15,
    "start_time": "2023-07-20T10:10:01.784Z"
   },
   {
    "duration": 71,
    "start_time": "2023-07-20T10:10:01.800Z"
   },
   {
    "duration": 72,
    "start_time": "2023-07-20T10:10:01.872Z"
   },
   {
    "duration": 93,
    "start_time": "2023-07-20T10:10:01.945Z"
   },
   {
    "duration": 155,
    "start_time": "2023-07-20T10:10:02.039Z"
   },
   {
    "duration": 186,
    "start_time": "2023-07-20T10:10:02.195Z"
   },
   {
    "duration": 96,
    "start_time": "2023-07-20T10:10:02.383Z"
   },
   {
    "duration": 91,
    "start_time": "2023-07-20T10:10:02.481Z"
   },
   {
    "duration": 55,
    "start_time": "2023-07-20T10:10:02.574Z"
   },
   {
    "duration": 54,
    "start_time": "2023-07-20T10:10:02.631Z"
   },
   {
    "duration": 52,
    "start_time": "2023-07-20T10:10:02.687Z"
   },
   {
    "duration": 62,
    "start_time": "2023-07-20T10:10:02.741Z"
   },
   {
    "duration": 86,
    "start_time": "2023-07-20T10:10:02.805Z"
   },
   {
    "duration": 91,
    "start_time": "2023-07-20T10:10:02.893Z"
   },
   {
    "duration": 212,
    "start_time": "2023-07-20T10:10:02.986Z"
   },
   {
    "duration": 14,
    "start_time": "2023-07-20T10:10:03.200Z"
   },
   {
    "duration": 37,
    "start_time": "2023-07-20T10:10:03.217Z"
   },
   {
    "duration": 803,
    "start_time": "2023-07-20T10:10:03.255Z"
   },
   {
    "duration": 32,
    "start_time": "2023-07-20T10:10:04.060Z"
   },
   {
    "duration": 40,
    "start_time": "2023-07-20T10:10:04.093Z"
   },
   {
    "duration": 4,
    "start_time": "2023-07-20T10:10:04.135Z"
   },
   {
    "duration": 208,
    "start_time": "2023-07-20T10:10:04.141Z"
   },
   {
    "duration": 10,
    "start_time": "2023-07-20T10:10:04.351Z"
   },
   {
    "duration": 37,
    "start_time": "2023-07-20T10:10:04.363Z"
   },
   {
    "duration": 182,
    "start_time": "2023-07-20T10:10:04.402Z"
   },
   {
    "duration": 179,
    "start_time": "2023-07-20T10:10:04.586Z"
   },
   {
    "duration": 268,
    "start_time": "2023-07-20T10:10:04.766Z"
   },
   {
    "duration": 13,
    "start_time": "2023-07-20T10:10:05.035Z"
   },
   {
    "duration": 426,
    "start_time": "2023-07-20T10:10:05.050Z"
   },
   {
    "duration": 6,
    "start_time": "2023-07-20T10:10:05.478Z"
   },
   {
    "duration": 38,
    "start_time": "2023-07-20T10:10:05.485Z"
   },
   {
    "duration": 362,
    "start_time": "2023-07-20T10:10:05.525Z"
   },
   {
    "duration": 388,
    "start_time": "2023-07-20T10:10:05.889Z"
   },
   {
    "duration": 286,
    "start_time": "2023-07-20T10:10:06.279Z"
   },
   {
    "duration": 5,
    "start_time": "2023-07-20T10:10:06.567Z"
   },
   {
    "duration": 27,
    "start_time": "2023-07-20T10:10:06.574Z"
   },
   {
    "duration": 15,
    "start_time": "2023-07-20T10:10:06.602Z"
   },
   {
    "duration": 29,
    "start_time": "2023-07-20T10:10:06.618Z"
   },
   {
    "duration": 1271,
    "start_time": "2023-07-20T10:55:50.910Z"
   },
   {
    "duration": 56,
    "start_time": "2023-07-20T10:55:52.184Z"
   },
   {
    "duration": 28,
    "start_time": "2023-07-20T10:55:52.242Z"
   },
   {
    "duration": 28,
    "start_time": "2023-07-20T10:55:52.273Z"
   },
   {
    "duration": 15,
    "start_time": "2023-07-20T10:55:52.304Z"
   },
   {
    "duration": 74,
    "start_time": "2023-07-20T10:55:52.320Z"
   },
   {
    "duration": 34,
    "start_time": "2023-07-20T10:55:52.395Z"
   },
   {
    "duration": 28,
    "start_time": "2023-07-20T10:55:52.431Z"
   },
   {
    "duration": 22,
    "start_time": "2023-07-20T10:55:52.461Z"
   },
   {
    "duration": 62,
    "start_time": "2023-07-20T10:55:52.485Z"
   },
   {
    "duration": 110,
    "start_time": "2023-07-20T10:55:52.549Z"
   },
   {
    "duration": 24,
    "start_time": "2023-07-20T10:55:52.661Z"
   },
   {
    "duration": 32,
    "start_time": "2023-07-20T10:55:52.687Z"
   },
   {
    "duration": 67,
    "start_time": "2023-07-20T10:55:52.722Z"
   },
   {
    "duration": 21,
    "start_time": "2023-07-20T10:55:52.791Z"
   },
   {
    "duration": 19,
    "start_time": "2023-07-20T10:55:52.814Z"
   },
   {
    "duration": 41,
    "start_time": "2023-07-20T10:55:52.835Z"
   },
   {
    "duration": 21,
    "start_time": "2023-07-20T10:55:52.878Z"
   },
   {
    "duration": 16,
    "start_time": "2023-07-20T10:55:52.901Z"
   },
   {
    "duration": 68,
    "start_time": "2023-07-20T10:55:52.919Z"
   },
   {
    "duration": 59,
    "start_time": "2023-07-20T10:55:52.989Z"
   },
   {
    "duration": 110,
    "start_time": "2023-07-20T10:55:53.050Z"
   },
   {
    "duration": 52,
    "start_time": "2023-07-20T10:55:53.162Z"
   },
   {
    "duration": 94,
    "start_time": "2023-07-20T10:55:53.216Z"
   },
   {
    "duration": 21,
    "start_time": "2023-07-20T10:55:53.312Z"
   },
   {
    "duration": 10,
    "start_time": "2023-07-20T10:55:53.335Z"
   },
   {
    "duration": 30,
    "start_time": "2023-07-20T10:55:53.347Z"
   },
   {
    "duration": 50,
    "start_time": "2023-07-20T10:55:53.380Z"
   },
   {
    "duration": 6,
    "start_time": "2023-07-20T10:55:53.432Z"
   },
   {
    "duration": 29,
    "start_time": "2023-07-20T10:55:53.440Z"
   },
   {
    "duration": 16,
    "start_time": "2023-07-20T10:55:53.471Z"
   },
   {
    "duration": 14,
    "start_time": "2023-07-20T10:55:53.489Z"
   },
   {
    "duration": 24,
    "start_time": "2023-07-20T10:55:53.505Z"
   },
   {
    "duration": 12,
    "start_time": "2023-07-20T10:55:53.531Z"
   },
   {
    "duration": 18,
    "start_time": "2023-07-20T10:55:53.545Z"
   },
   {
    "duration": 28,
    "start_time": "2023-07-20T10:55:53.565Z"
   },
   {
    "duration": 5,
    "start_time": "2023-07-20T10:55:53.595Z"
   },
   {
    "duration": 7,
    "start_time": "2023-07-20T10:55:53.602Z"
   },
   {
    "duration": 219,
    "start_time": "2023-07-20T10:55:53.611Z"
   },
   {
    "duration": 19,
    "start_time": "2023-07-20T10:55:53.832Z"
   },
   {
    "duration": 8,
    "start_time": "2023-07-20T10:55:53.868Z"
   },
   {
    "duration": 1003,
    "start_time": "2023-07-20T10:55:53.878Z"
   },
   {
    "duration": 35,
    "start_time": "2023-07-20T10:55:54.883Z"
   },
   {
    "duration": 27,
    "start_time": "2023-07-20T10:55:54.920Z"
   },
   {
    "duration": 18,
    "start_time": "2023-07-20T10:55:54.949Z"
   },
   {
    "duration": 249,
    "start_time": "2023-07-20T10:55:54.969Z"
   },
   {
    "duration": 13,
    "start_time": "2023-07-20T10:55:55.221Z"
   },
   {
    "duration": 59,
    "start_time": "2023-07-20T10:55:55.236Z"
   },
   {
    "duration": 216,
    "start_time": "2023-07-20T10:55:55.297Z"
   },
   {
    "duration": 224,
    "start_time": "2023-07-20T10:55:55.515Z"
   },
   {
    "duration": 328,
    "start_time": "2023-07-20T10:55:55.740Z"
   },
   {
    "duration": 16,
    "start_time": "2023-07-20T10:55:56.070Z"
   },
   {
    "duration": 507,
    "start_time": "2023-07-20T10:55:56.089Z"
   },
   {
    "duration": 6,
    "start_time": "2023-07-20T10:55:56.598Z"
   },
   {
    "duration": 11,
    "start_time": "2023-07-20T10:55:56.606Z"
   },
   {
    "duration": 381,
    "start_time": "2023-07-20T10:55:56.619Z"
   },
   {
    "duration": 396,
    "start_time": "2023-07-20T10:55:57.003Z"
   },
   {
    "duration": 417,
    "start_time": "2023-07-20T10:55:57.401Z"
   },
   {
    "duration": 7,
    "start_time": "2023-07-20T10:55:57.820Z"
   },
   {
    "duration": 16,
    "start_time": "2023-07-20T10:55:57.829Z"
   },
   {
    "duration": 32,
    "start_time": "2023-07-20T10:55:57.847Z"
   },
   {
    "duration": 14,
    "start_time": "2023-07-20T10:55:57.881Z"
   },
   {
    "duration": 1221,
    "start_time": "2024-02-05T10:25:44.307Z"
   }
  ],
  "kernelspec": {
   "display_name": "Python 3 (ipykernel)",
   "language": "python",
   "name": "python3"
  },
  "language_info": {
   "codemirror_mode": {
    "name": "ipython",
    "version": 3
   },
   "file_extension": ".py",
   "mimetype": "text/x-python",
   "name": "python",
   "nbconvert_exporter": "python",
   "pygments_lexer": "ipython3",
   "version": "3.10.13"
  },
  "toc": {
   "base_numbering": 1,
   "nav_menu": {},
   "number_sections": true,
   "sideBar": true,
   "skip_h1_title": true,
   "title_cell": "Table of Contents",
   "title_sidebar": "Contents",
   "toc_cell": false,
   "toc_position": {},
   "toc_section_display": true,
   "toc_window_display": false
  }
 },
 "nbformat": 4,
 "nbformat_minor": 2
}
