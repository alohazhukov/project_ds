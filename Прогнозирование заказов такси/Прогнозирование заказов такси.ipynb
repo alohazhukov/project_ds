{
 "cells": [
  {
   "cell_type": "markdown",
   "metadata": {
    "toc": true
   },
   "source": [
    "<h1>Содержание<span class=\"tocSkip\"></span></h1>\n",
    "<div class=\"toc\"><ul class=\"toc-item\"><li><span><a href=\"#Подготовка\" data-toc-modified-id=\"Подготовка-1\"><span class=\"toc-item-num\">1&nbsp;&nbsp;</span>Подготовка</a></span></li><li><span><a href=\"#Анализ\" data-toc-modified-id=\"Анализ-2\"><span class=\"toc-item-num\">2&nbsp;&nbsp;</span>Анализ</a></span></li><li><span><a href=\"#Обучение\" data-toc-modified-id=\"Обучение-3\"><span class=\"toc-item-num\">3&nbsp;&nbsp;</span>Обучение</a></span></li><li><span><a href=\"#Тестирование\" data-toc-modified-id=\"Тестирование-4\"><span class=\"toc-item-num\">4&nbsp;&nbsp;</span>Тестирование</a></span></li><li><span><a href=\"#Чек-лист-проверки\" data-toc-modified-id=\"Чек-лист-проверки-5\"><span class=\"toc-item-num\">5&nbsp;&nbsp;</span>Чек-лист проверки</a></span></li></ul></div>"
   ]
  },
  {
   "cell_type": "markdown",
   "metadata": {},
   "source": [
    "#  Прогнозирование заказов такси"
   ]
  },
  {
   "cell_type": "markdown",
   "metadata": {},
   "source": [
    "Компания «Чётенькое такси» собрала исторические данные о заказах такси в аэропортах. Чтобы привлекать больше водителей в период пиковой нагрузки, нужно спрогнозировать количество заказов такси на следующий час. Постройте модель для такого предсказания.\n",
    "\n",
    "Значение метрики *RMSE* на тестовой выборке должно быть не больше 48.\n",
    "\n",
    "Вам нужно:\n",
    "\n",
    "1. Загрузить данные и выполнить их ресемплирование по одному часу.\n",
    "2. Проанализировать данные.\n",
    "3. Обучить разные модели с различными гиперпараметрами. Сделать тестовую выборку размером 10% от исходных данных.\n",
    "4. Проверить данные на тестовой выборке и сделать выводы.\n",
    "\n",
    "\n",
    "Данные лежат в файле `taxi.csv`. Количество заказов находится в столбце `num_orders` (от англ. *number of orders*, «число заказов»)."
   ]
  },
  {
   "cell_type": "markdown",
   "metadata": {},
   "source": [
    "## Подготовка"
   ]
  },
  {
   "cell_type": "code",
   "execution_count": 2,
   "metadata": {},
   "outputs": [],
   "source": [
    "import pandas as pd\n",
    "import numpy as np\n",
    "import matplotlib.pyplot as plt\n",
    "\n",
    "import time\n",
    "\n",
    "import warnings\n",
    "\n",
    "from sklearn.linear_model import LinearRegression\n",
    "from sklearn.tree import DecisionTreeRegressor\n",
    "from lightgbm import LGBMRegressor\n",
    "\n",
    "from statsmodels.tsa.seasonal import seasonal_decompose\n",
    "\n",
    "from sklearn.metrics import mean_squared_error\n",
    "from sklearn.model_selection import train_test_split, TimeSeriesSplit, GridSearchCV, cross_val_score"
   ]
  },
  {
   "cell_type": "code",
   "execution_count": 3,
   "metadata": {},
   "outputs": [],
   "source": [
    "# отключим некритические предупреждения в коде\n",
    "\n",
    "warnings.filterwarnings(\"ignore\")"
   ]
  },
  {
   "cell_type": "code",
   "execution_count": 4,
   "metadata": {},
   "outputs": [],
   "source": [
    "# объяивим глобальную переменную для дальнейшего использования\n",
    "\n",
    "STATE = np.random.RandomState(42)"
   ]
  },
  {
   "cell_type": "code",
   "execution_count": 5,
   "metadata": {},
   "outputs": [],
   "source": [
    "# загрузим наш файл и установим дату в качестве индекса\n",
    "\n",
    "try:\n",
    "    data = pd.read_csv('/Users/alex/Downloads/taxi.csv', index_col=[0], parse_dates=[0])\n",
    "except:\n",
    "    data = pd.read_csv('/datasets/taxi.csv', index_col=[0], parse_dates=[0])"
   ]
  },
  {
   "cell_type": "code",
   "execution_count": 6,
   "metadata": {},
   "outputs": [],
   "source": [
    "# сделаем копию, для возможности использования в дальнейшем\n",
    "\n",
    "data_orig = data.copy(deep = True)"
   ]
  },
  {
   "cell_type": "code",
   "execution_count": 7,
   "metadata": {},
   "outputs": [
    {
     "data": {
      "text/html": [
       "<div>\n",
       "<style scoped>\n",
       "    .dataframe tbody tr th:only-of-type {\n",
       "        vertical-align: middle;\n",
       "    }\n",
       "\n",
       "    .dataframe tbody tr th {\n",
       "        vertical-align: top;\n",
       "    }\n",
       "\n",
       "    .dataframe thead th {\n",
       "        text-align: right;\n",
       "    }\n",
       "</style>\n",
       "<table border=\"1\" class=\"dataframe\">\n",
       "  <thead>\n",
       "    <tr style=\"text-align: right;\">\n",
       "      <th></th>\n",
       "      <th>num_orders</th>\n",
       "    </tr>\n",
       "    <tr>\n",
       "      <th>datetime</th>\n",
       "      <th></th>\n",
       "    </tr>\n",
       "  </thead>\n",
       "  <tbody>\n",
       "    <tr>\n",
       "      <th>2018-03-01 00:00:00</th>\n",
       "      <td>9</td>\n",
       "    </tr>\n",
       "    <tr>\n",
       "      <th>2018-03-01 00:10:00</th>\n",
       "      <td>14</td>\n",
       "    </tr>\n",
       "    <tr>\n",
       "      <th>2018-03-01 00:20:00</th>\n",
       "      <td>28</td>\n",
       "    </tr>\n",
       "    <tr>\n",
       "      <th>2018-03-01 00:30:00</th>\n",
       "      <td>20</td>\n",
       "    </tr>\n",
       "    <tr>\n",
       "      <th>2018-03-01 00:40:00</th>\n",
       "      <td>32</td>\n",
       "    </tr>\n",
       "    <tr>\n",
       "      <th>2018-03-01 00:50:00</th>\n",
       "      <td>21</td>\n",
       "    </tr>\n",
       "    <tr>\n",
       "      <th>2018-03-01 01:00:00</th>\n",
       "      <td>7</td>\n",
       "    </tr>\n",
       "    <tr>\n",
       "      <th>2018-03-01 01:10:00</th>\n",
       "      <td>5</td>\n",
       "    </tr>\n",
       "    <tr>\n",
       "      <th>2018-03-01 01:20:00</th>\n",
       "      <td>17</td>\n",
       "    </tr>\n",
       "    <tr>\n",
       "      <th>2018-03-01 01:30:00</th>\n",
       "      <td>12</td>\n",
       "    </tr>\n",
       "  </tbody>\n",
       "</table>\n",
       "</div>"
      ],
      "text/plain": [
       "                     num_orders\n",
       "datetime                       \n",
       "2018-03-01 00:00:00           9\n",
       "2018-03-01 00:10:00          14\n",
       "2018-03-01 00:20:00          28\n",
       "2018-03-01 00:30:00          20\n",
       "2018-03-01 00:40:00          32\n",
       "2018-03-01 00:50:00          21\n",
       "2018-03-01 01:00:00           7\n",
       "2018-03-01 01:10:00           5\n",
       "2018-03-01 01:20:00          17\n",
       "2018-03-01 01:30:00          12"
      ]
     },
     "execution_count": 7,
     "metadata": {},
     "output_type": "execute_result"
    }
   ],
   "source": [
    "# ознакомимся и выведем хед\n",
    "\n",
    "data.head(10)"
   ]
  },
  {
   "cell_type": "code",
   "execution_count": 8,
   "metadata": {},
   "outputs": [
    {
     "data": {
      "text/plain": [
       "(26496, 1)"
      ]
     },
     "execution_count": 8,
     "metadata": {},
     "output_type": "execute_result"
    }
   ],
   "source": [
    "data.shape"
   ]
  },
  {
   "cell_type": "code",
   "execution_count": 7,
   "metadata": {},
   "outputs": [
    {
     "data": {
      "text/plain": [
       "num_orders    0\n",
       "dtype: int64"
      ]
     },
     "execution_count": 7,
     "metadata": {},
     "output_type": "execute_result"
    }
   ],
   "source": [
    "# нет ли пропусков\n",
    "\n",
    "data.isna().sum()"
   ]
  },
  {
   "cell_type": "code",
   "execution_count": 8,
   "metadata": {},
   "outputs": [
    {
     "data": {
      "text/plain": [
       "0"
      ]
     },
     "execution_count": 8,
     "metadata": {},
     "output_type": "execute_result"
    }
   ],
   "source": [
    "# дубликаты\n",
    "\n",
    "data.index.duplicated().sum()"
   ]
  },
  {
   "cell_type": "code",
   "execution_count": 9,
   "metadata": {},
   "outputs": [
    {
     "data": {
      "text/plain": [
       "(26496, 1)"
      ]
     },
     "execution_count": 9,
     "metadata": {},
     "output_type": "execute_result"
    }
   ],
   "source": [
    "# взглянем на размер\n",
    "\n",
    "data.shape"
   ]
  },
  {
   "cell_type": "code",
   "execution_count": 10,
   "metadata": {},
   "outputs": [
    {
     "data": {
      "text/plain": [
       "True"
      ]
     },
     "execution_count": 10,
     "metadata": {},
     "output_type": "execute_result"
    }
   ],
   "source": [
    "# проверим упорядочены наши индексы/даты\n",
    "\n",
    "data.index.is_monotonic"
   ]
  },
  {
   "cell_type": "code",
   "execution_count": 11,
   "metadata": {},
   "outputs": [
    {
     "data": {
      "text/html": [
       "<div>\n",
       "<style scoped>\n",
       "    .dataframe tbody tr th:only-of-type {\n",
       "        vertical-align: middle;\n",
       "    }\n",
       "\n",
       "    .dataframe tbody tr th {\n",
       "        vertical-align: top;\n",
       "    }\n",
       "\n",
       "    .dataframe thead th {\n",
       "        text-align: right;\n",
       "    }\n",
       "</style>\n",
       "<table border=\"1\" class=\"dataframe\">\n",
       "  <thead>\n",
       "    <tr style=\"text-align: right;\">\n",
       "      <th></th>\n",
       "      <th>num_orders</th>\n",
       "    </tr>\n",
       "    <tr>\n",
       "      <th>datetime</th>\n",
       "      <th></th>\n",
       "    </tr>\n",
       "  </thead>\n",
       "  <tbody>\n",
       "    <tr>\n",
       "      <th>2018-03-01 00:00:00</th>\n",
       "      <td>124</td>\n",
       "    </tr>\n",
       "    <tr>\n",
       "      <th>2018-03-01 01:00:00</th>\n",
       "      <td>85</td>\n",
       "    </tr>\n",
       "    <tr>\n",
       "      <th>2018-03-01 02:00:00</th>\n",
       "      <td>71</td>\n",
       "    </tr>\n",
       "    <tr>\n",
       "      <th>2018-03-01 03:00:00</th>\n",
       "      <td>66</td>\n",
       "    </tr>\n",
       "    <tr>\n",
       "      <th>2018-03-01 04:00:00</th>\n",
       "      <td>43</td>\n",
       "    </tr>\n",
       "  </tbody>\n",
       "</table>\n",
       "</div>"
      ],
      "text/plain": [
       "                     num_orders\n",
       "datetime                       \n",
       "2018-03-01 00:00:00         124\n",
       "2018-03-01 01:00:00          85\n",
       "2018-03-01 02:00:00          71\n",
       "2018-03-01 03:00:00          66\n",
       "2018-03-01 04:00:00          43"
      ]
     },
     "execution_count": 11,
     "metadata": {},
     "output_type": "execute_result"
    }
   ],
   "source": [
    "# сделаем ресемплинг по одному часу в качесте функции укажем сумму\n",
    "\n",
    "data = data.resample('1H').sum()\n",
    "data.head()"
   ]
  },
  {
   "cell_type": "markdown",
   "metadata": {},
   "source": [
    "__Ознокомились с данными, пропусков и дублей не обнаружено, проверили упарядочены ли данные, после чего сделали ресемплирование по одному часу.__"
   ]
  },
  {
   "cell_type": "markdown",
   "metadata": {},
   "source": [
    "## Анализ"
   ]
  },
  {
   "cell_type": "code",
   "execution_count": 12,
   "metadata": {},
   "outputs": [
    {
     "name": "stdout",
     "output_type": "stream",
     "text": [
      "Период данных начинается с 2018-03-01 00:00:00,и по 2018-08-31 23:00:00\n"
     ]
    }
   ],
   "source": [
    "# взгялем за какой переод представленны данныые \n",
    "\n",
    "print(f'Период данных начинается с {data.index.min()},и по {data.index.max()}')\n"
   ]
  },
  {
   "cell_type": "code",
   "execution_count": 13,
   "metadata": {},
   "outputs": [
    {
     "data": {
      "image/png": "[encoded data removed]",
      "text/plain": [
       "<Figure size 864x864 with 3 Axes>"
      ]
     },
     "metadata": {
      "needs_background": "light"
     },
     "output_type": "display_data"
    }
   ],
   "source": [
    "# Выведем графики сезонности и трендов и остатка\n",
    "\n",
    "decomposed = seasonal_decompose(data)\n",
    " \n",
    "plt.figure(figsize = (12, 12)) \n",
    "plt.subplot(311)\n",
    "\n",
    "\n",
    "decomposed.seasonal['2018-03-01':'2018-03-07'].plot(ax = plt.gca())\n",
    "plt.title('Сезонность')\n",
    "plt.subplot(312)\n",
    "\n",
    "decomposed.trend.plot(ax = plt.gca())\n",
    "plt.title('Тренд')\n",
    "plt.subplot(313)\n",
    "\n",
    "decomposed.resid.plot(ax = plt.gca())\n",
    "plt.title('Остаток')\n",
    "plt.tight_layout()"
   ]
  },
  {
   "cell_type": "markdown",
   "metadata": {},
   "source": [
    "Можно заметить, что сезонность проявляется ежедневно - ночное время является пиковым по кол-ву заказов такси. Так же мы видим ростущий тренд, скорее всего эт освязанно с летним периодом времени, когда люди уходят в отпуска , к сожалею дальше трудно сказать т.к данные которые мы имеем всего за полгода."
   ]
  },
  {
   "cell_type": "markdown",
   "metadata": {},
   "source": [
    "## Обучение"
   ]
  },
  {
   "cell_type": "code",
   "execution_count": null,
   "metadata": {},
   "outputs": [],
   "source": []
  },
  {
   "cell_type": "markdown",
   "metadata": {},
   "source": [
    "Создадим функцию, которая будет добавлять признаки, делить нашу выборку, обучать деревянную модель (линейную регрессию) кроссвалидируя её, и выдавать нам значение RMSE при определенном кол-ве лагов\n",
    "\n",
    "Т.к мы предсказываем кол-во заказов на след день, скользящее среднее значение будем считать за 24 часа"
   ]
  },
  {
   "cell_type": "code",
   "execution_count": 14,
   "metadata": {},
   "outputs": [],
   "source": [
    "def make_features(data, max_lag, rolling_mean_size):\n",
    "    \n",
    "    data['day'] = data.index.day\n",
    "    data['hour'] = data.index.hour\n",
    "    data['dayofweek'] = data.index.dayofweek\n",
    "    \n",
    "\n",
    "    for lag in range(1, max_lag + 1):\n",
    "        data['lag_{}'.format(lag)] = data['num_orders'].shift(lag)\n",
    "\n",
    "    data['rolling_mean'] = data['num_orders'].shift().rolling(rolling_mean_size).mean()\n",
    "    \n",
    "    train, test = train_test_split(data, shuffle = False, test_size=0.1)\n",
    "    train = train.dropna()\n",
    "    \n",
    "    features_train = train.drop('num_orders', axis = 1)\n",
    "    features_test = test.drop('num_orders', axis = 1)\n",
    "    target_train = train['num_orders']\n",
    "    target_test = test['num_orders']\n",
    "\n",
    "    model = LinearRegression()\n",
    "    rsme = -cross_val_score(model, features_train, target_train,\n",
    "                            scoring = 'neg_root_mean_squared_error',\n",
    "                            cv = TimeSeriesSplit(n_splits = 5)).mean()\n",
    "    \n",
    "    \n",
    "    print(f'RSME = {rsme.round(2)} при lag = {max_lag}')\n",
    "    \n",
    "    return data"
   ]
  },
  {
   "cell_type": "markdown",
   "metadata": {},
   "source": [
    "В список передадим значение лагов равных 1часу, 3 часам, 6 и тд...поочередно в цикле прогоним наши значения лагов , вызывая нашу функцию __make_features__, в итоге запишим наши новые датафреймы в список, далее выберем тот дф в котором значение среднеквадратичной ошибки - наименьшее"
   ]
  },
  {
   "cell_type": "code",
   "execution_count": 15,
   "metadata": {},
   "outputs": [
    {
     "name": "stdout",
     "output_type": "stream",
     "text": [
      "RSME = 31.81 при lag = 1\n"
     ]
    },
    {
     "data": {
      "text/html": [
       "<div>\n",
       "<style scoped>\n",
       "    .dataframe tbody tr th:only-of-type {\n",
       "        vertical-align: middle;\n",
       "    }\n",
       "\n",
       "    .dataframe tbody tr th {\n",
       "        vertical-align: top;\n",
       "    }\n",
       "\n",
       "    .dataframe thead th {\n",
       "        text-align: right;\n",
       "    }\n",
       "</style>\n",
       "<table border=\"1\" class=\"dataframe\">\n",
       "  <thead>\n",
       "    <tr style=\"text-align: right;\">\n",
       "      <th></th>\n",
       "      <th>num_orders</th>\n",
       "      <th>day</th>\n",
       "      <th>hour</th>\n",
       "      <th>dayofweek</th>\n",
       "      <th>lag_1</th>\n",
       "      <th>rolling_mean</th>\n",
       "    </tr>\n",
       "    <tr>\n",
       "      <th>datetime</th>\n",
       "      <th></th>\n",
       "      <th></th>\n",
       "      <th></th>\n",
       "      <th></th>\n",
       "      <th></th>\n",
       "      <th></th>\n",
       "    </tr>\n",
       "  </thead>\n",
       "  <tbody>\n",
       "    <tr>\n",
       "      <th>2018-03-01 00:00:00</th>\n",
       "      <td>124</td>\n",
       "      <td>1</td>\n",
       "      <td>0</td>\n",
       "      <td>3</td>\n",
       "      <td>NaN</td>\n",
       "      <td>NaN</td>\n",
       "    </tr>\n",
       "    <tr>\n",
       "      <th>2018-03-01 01:00:00</th>\n",
       "      <td>85</td>\n",
       "      <td>1</td>\n",
       "      <td>1</td>\n",
       "      <td>3</td>\n",
       "      <td>124.0</td>\n",
       "      <td>NaN</td>\n",
       "    </tr>\n",
       "    <tr>\n",
       "      <th>2018-03-01 02:00:00</th>\n",
       "      <td>71</td>\n",
       "      <td>1</td>\n",
       "      <td>2</td>\n",
       "      <td>3</td>\n",
       "      <td>85.0</td>\n",
       "      <td>NaN</td>\n",
       "    </tr>\n",
       "  </tbody>\n",
       "</table>\n",
       "</div>"
      ],
      "text/plain": [
       "                     num_orders  day  hour  dayofweek  lag_1  rolling_mean\n",
       "datetime                                                                  \n",
       "2018-03-01 00:00:00         124    1     0          3    NaN           NaN\n",
       "2018-03-01 01:00:00          85    1     1          3  124.0           NaN\n",
       "2018-03-01 02:00:00          71    1     2          3   85.0           NaN"
      ]
     },
     "metadata": {},
     "output_type": "display_data"
    },
    {
     "name": "stdout",
     "output_type": "stream",
     "text": [
      "RSME = 31.72 при lag = 3\n"
     ]
    },
    {
     "data": {
      "text/html": [
       "<div>\n",
       "<style scoped>\n",
       "    .dataframe tbody tr th:only-of-type {\n",
       "        vertical-align: middle;\n",
       "    }\n",
       "\n",
       "    .dataframe tbody tr th {\n",
       "        vertical-align: top;\n",
       "    }\n",
       "\n",
       "    .dataframe thead th {\n",
       "        text-align: right;\n",
       "    }\n",
       "</style>\n",
       "<table border=\"1\" class=\"dataframe\">\n",
       "  <thead>\n",
       "    <tr style=\"text-align: right;\">\n",
       "      <th></th>\n",
       "      <th>num_orders</th>\n",
       "      <th>day</th>\n",
       "      <th>hour</th>\n",
       "      <th>dayofweek</th>\n",
       "      <th>lag_1</th>\n",
       "      <th>rolling_mean</th>\n",
       "      <th>lag_2</th>\n",
       "      <th>lag_3</th>\n",
       "    </tr>\n",
       "    <tr>\n",
       "      <th>datetime</th>\n",
       "      <th></th>\n",
       "      <th></th>\n",
       "      <th></th>\n",
       "      <th></th>\n",
       "      <th></th>\n",
       "      <th></th>\n",
       "      <th></th>\n",
       "      <th></th>\n",
       "    </tr>\n",
       "  </thead>\n",
       "  <tbody>\n",
       "    <tr>\n",
       "      <th>2018-03-01 00:00:00</th>\n",
       "      <td>124</td>\n",
       "      <td>1</td>\n",
       "      <td>0</td>\n",
       "      <td>3</td>\n",
       "      <td>NaN</td>\n",
       "      <td>NaN</td>\n",
       "      <td>NaN</td>\n",
       "      <td>NaN</td>\n",
       "    </tr>\n",
       "    <tr>\n",
       "      <th>2018-03-01 01:00:00</th>\n",
       "      <td>85</td>\n",
       "      <td>1</td>\n",
       "      <td>1</td>\n",
       "      <td>3</td>\n",
       "      <td>124.0</td>\n",
       "      <td>NaN</td>\n",
       "      <td>NaN</td>\n",
       "      <td>NaN</td>\n",
       "    </tr>\n",
       "    <tr>\n",
       "      <th>2018-03-01 02:00:00</th>\n",
       "      <td>71</td>\n",
       "      <td>1</td>\n",
       "      <td>2</td>\n",
       "      <td>3</td>\n",
       "      <td>85.0</td>\n",
       "      <td>NaN</td>\n",
       "      <td>124.0</td>\n",
       "      <td>NaN</td>\n",
       "    </tr>\n",
       "  </tbody>\n",
       "</table>\n",
       "</div>"
      ],
      "text/plain": [
       "                     num_orders  day  hour  dayofweek  lag_1  rolling_mean  \\\n",
       "datetime                                                                     \n",
       "2018-03-01 00:00:00         124    1     0          3    NaN           NaN   \n",
       "2018-03-01 01:00:00          85    1     1          3  124.0           NaN   \n",
       "2018-03-01 02:00:00          71    1     2          3   85.0           NaN   \n",
       "\n",
       "                     lag_2  lag_3  \n",
       "datetime                           \n",
       "2018-03-01 00:00:00    NaN    NaN  \n",
       "2018-03-01 01:00:00    NaN    NaN  \n",
       "2018-03-01 02:00:00  124.0    NaN  "
      ]
     },
     "metadata": {},
     "output_type": "display_data"
    },
    {
     "name": "stdout",
     "output_type": "stream",
     "text": [
      "RSME = 31.75 при lag = 6\n"
     ]
    },
    {
     "data": {
      "text/html": [
       "<div>\n",
       "<style scoped>\n",
       "    .dataframe tbody tr th:only-of-type {\n",
       "        vertical-align: middle;\n",
       "    }\n",
       "\n",
       "    .dataframe tbody tr th {\n",
       "        vertical-align: top;\n",
       "    }\n",
       "\n",
       "    .dataframe thead th {\n",
       "        text-align: right;\n",
       "    }\n",
       "</style>\n",
       "<table border=\"1\" class=\"dataframe\">\n",
       "  <thead>\n",
       "    <tr style=\"text-align: right;\">\n",
       "      <th></th>\n",
       "      <th>num_orders</th>\n",
       "      <th>day</th>\n",
       "      <th>hour</th>\n",
       "      <th>dayofweek</th>\n",
       "      <th>lag_1</th>\n",
       "      <th>rolling_mean</th>\n",
       "      <th>lag_2</th>\n",
       "      <th>lag_3</th>\n",
       "      <th>lag_4</th>\n",
       "      <th>lag_5</th>\n",
       "      <th>lag_6</th>\n",
       "    </tr>\n",
       "    <tr>\n",
       "      <th>datetime</th>\n",
       "      <th></th>\n",
       "      <th></th>\n",
       "      <th></th>\n",
       "      <th></th>\n",
       "      <th></th>\n",
       "      <th></th>\n",
       "      <th></th>\n",
       "      <th></th>\n",
       "      <th></th>\n",
       "      <th></th>\n",
       "      <th></th>\n",
       "    </tr>\n",
       "  </thead>\n",
       "  <tbody>\n",
       "    <tr>\n",
       "      <th>2018-03-01 00:00:00</th>\n",
       "      <td>124</td>\n",
       "      <td>1</td>\n",
       "      <td>0</td>\n",
       "      <td>3</td>\n",
       "      <td>NaN</td>\n",
       "      <td>NaN</td>\n",
       "      <td>NaN</td>\n",
       "      <td>NaN</td>\n",
       "      <td>NaN</td>\n",
       "      <td>NaN</td>\n",
       "      <td>NaN</td>\n",
       "    </tr>\n",
       "    <tr>\n",
       "      <th>2018-03-01 01:00:00</th>\n",
       "      <td>85</td>\n",
       "      <td>1</td>\n",
       "      <td>1</td>\n",
       "      <td>3</td>\n",
       "      <td>124.0</td>\n",
       "      <td>NaN</td>\n",
       "      <td>NaN</td>\n",
       "      <td>NaN</td>\n",
       "      <td>NaN</td>\n",
       "      <td>NaN</td>\n",
       "      <td>NaN</td>\n",
       "    </tr>\n",
       "    <tr>\n",
       "      <th>2018-03-01 02:00:00</th>\n",
       "      <td>71</td>\n",
       "      <td>1</td>\n",
       "      <td>2</td>\n",
       "      <td>3</td>\n",
       "      <td>85.0</td>\n",
       "      <td>NaN</td>\n",
       "      <td>124.0</td>\n",
       "      <td>NaN</td>\n",
       "      <td>NaN</td>\n",
       "      <td>NaN</td>\n",
       "      <td>NaN</td>\n",
       "    </tr>\n",
       "  </tbody>\n",
       "</table>\n",
       "</div>"
      ],
      "text/plain": [
       "                     num_orders  day  hour  dayofweek  lag_1  rolling_mean  \\\n",
       "datetime                                                                     \n",
       "2018-03-01 00:00:00         124    1     0          3    NaN           NaN   \n",
       "2018-03-01 01:00:00          85    1     1          3  124.0           NaN   \n",
       "2018-03-01 02:00:00          71    1     2          3   85.0           NaN   \n",
       "\n",
       "                     lag_2  lag_3  lag_4  lag_5  lag_6  \n",
       "datetime                                                \n",
       "2018-03-01 00:00:00    NaN    NaN    NaN    NaN    NaN  \n",
       "2018-03-01 01:00:00    NaN    NaN    NaN    NaN    NaN  \n",
       "2018-03-01 02:00:00  124.0    NaN    NaN    NaN    NaN  "
      ]
     },
     "metadata": {},
     "output_type": "display_data"
    },
    {
     "name": "stdout",
     "output_type": "stream",
     "text": [
      "RSME = 31.62 при lag = 12\n"
     ]
    },
    {
     "data": {
      "text/html": [
       "<div>\n",
       "<style scoped>\n",
       "    .dataframe tbody tr th:only-of-type {\n",
       "        vertical-align: middle;\n",
       "    }\n",
       "\n",
       "    .dataframe tbody tr th {\n",
       "        vertical-align: top;\n",
       "    }\n",
       "\n",
       "    .dataframe thead th {\n",
       "        text-align: right;\n",
       "    }\n",
       "</style>\n",
       "<table border=\"1\" class=\"dataframe\">\n",
       "  <thead>\n",
       "    <tr style=\"text-align: right;\">\n",
       "      <th></th>\n",
       "      <th>num_orders</th>\n",
       "      <th>day</th>\n",
       "      <th>hour</th>\n",
       "      <th>dayofweek</th>\n",
       "      <th>lag_1</th>\n",
       "      <th>rolling_mean</th>\n",
       "      <th>lag_2</th>\n",
       "      <th>lag_3</th>\n",
       "      <th>lag_4</th>\n",
       "      <th>lag_5</th>\n",
       "      <th>lag_6</th>\n",
       "      <th>lag_7</th>\n",
       "      <th>lag_8</th>\n",
       "      <th>lag_9</th>\n",
       "      <th>lag_10</th>\n",
       "      <th>lag_11</th>\n",
       "      <th>lag_12</th>\n",
       "    </tr>\n",
       "    <tr>\n",
       "      <th>datetime</th>\n",
       "      <th></th>\n",
       "      <th></th>\n",
       "      <th></th>\n",
       "      <th></th>\n",
       "      <th></th>\n",
       "      <th></th>\n",
       "      <th></th>\n",
       "      <th></th>\n",
       "      <th></th>\n",
       "      <th></th>\n",
       "      <th></th>\n",
       "      <th></th>\n",
       "      <th></th>\n",
       "      <th></th>\n",
       "      <th></th>\n",
       "      <th></th>\n",
       "      <th></th>\n",
       "    </tr>\n",
       "  </thead>\n",
       "  <tbody>\n",
       "    <tr>\n",
       "      <th>2018-03-01 00:00:00</th>\n",
       "      <td>124</td>\n",
       "      <td>1</td>\n",
       "      <td>0</td>\n",
       "      <td>3</td>\n",
       "      <td>NaN</td>\n",
       "      <td>NaN</td>\n",
       "      <td>NaN</td>\n",
       "      <td>NaN</td>\n",
       "      <td>NaN</td>\n",
       "      <td>NaN</td>\n",
       "      <td>NaN</td>\n",
       "      <td>NaN</td>\n",
       "      <td>NaN</td>\n",
       "      <td>NaN</td>\n",
       "      <td>NaN</td>\n",
       "      <td>NaN</td>\n",
       "      <td>NaN</td>\n",
       "    </tr>\n",
       "    <tr>\n",
       "      <th>2018-03-01 01:00:00</th>\n",
       "      <td>85</td>\n",
       "      <td>1</td>\n",
       "      <td>1</td>\n",
       "      <td>3</td>\n",
       "      <td>124.0</td>\n",
       "      <td>NaN</td>\n",
       "      <td>NaN</td>\n",
       "      <td>NaN</td>\n",
       "      <td>NaN</td>\n",
       "      <td>NaN</td>\n",
       "      <td>NaN</td>\n",
       "      <td>NaN</td>\n",
       "      <td>NaN</td>\n",
       "      <td>NaN</td>\n",
       "      <td>NaN</td>\n",
       "      <td>NaN</td>\n",
       "      <td>NaN</td>\n",
       "    </tr>\n",
       "    <tr>\n",
       "      <th>2018-03-01 02:00:00</th>\n",
       "      <td>71</td>\n",
       "      <td>1</td>\n",
       "      <td>2</td>\n",
       "      <td>3</td>\n",
       "      <td>85.0</td>\n",
       "      <td>NaN</td>\n",
       "      <td>124.0</td>\n",
       "      <td>NaN</td>\n",
       "      <td>NaN</td>\n",
       "      <td>NaN</td>\n",
       "      <td>NaN</td>\n",
       "      <td>NaN</td>\n",
       "      <td>NaN</td>\n",
       "      <td>NaN</td>\n",
       "      <td>NaN</td>\n",
       "      <td>NaN</td>\n",
       "      <td>NaN</td>\n",
       "    </tr>\n",
       "  </tbody>\n",
       "</table>\n",
       "</div>"
      ],
      "text/plain": [
       "                     num_orders  day  hour  dayofweek  lag_1  rolling_mean  \\\n",
       "datetime                                                                     \n",
       "2018-03-01 00:00:00         124    1     0          3    NaN           NaN   \n",
       "2018-03-01 01:00:00          85    1     1          3  124.0           NaN   \n",
       "2018-03-01 02:00:00          71    1     2          3   85.0           NaN   \n",
       "\n",
       "                     lag_2  lag_3  lag_4  lag_5  lag_6  lag_7  lag_8  lag_9  \\\n",
       "datetime                                                                      \n",
       "2018-03-01 00:00:00    NaN    NaN    NaN    NaN    NaN    NaN    NaN    NaN   \n",
       "2018-03-01 01:00:00    NaN    NaN    NaN    NaN    NaN    NaN    NaN    NaN   \n",
       "2018-03-01 02:00:00  124.0    NaN    NaN    NaN    NaN    NaN    NaN    NaN   \n",
       "\n",
       "                     lag_10  lag_11  lag_12  \n",
       "datetime                                     \n",
       "2018-03-01 00:00:00     NaN     NaN     NaN  \n",
       "2018-03-01 01:00:00     NaN     NaN     NaN  \n",
       "2018-03-01 02:00:00     NaN     NaN     NaN  "
      ]
     },
     "metadata": {},
     "output_type": "display_data"
    },
    {
     "name": "stdout",
     "output_type": "stream",
     "text": [
      "RSME = 27.15 при lag = 24\n"
     ]
    },
    {
     "data": {
      "text/html": [
       "<div>\n",
       "<style scoped>\n",
       "    .dataframe tbody tr th:only-of-type {\n",
       "        vertical-align: middle;\n",
       "    }\n",
       "\n",
       "    .dataframe tbody tr th {\n",
       "        vertical-align: top;\n",
       "    }\n",
       "\n",
       "    .dataframe thead th {\n",
       "        text-align: right;\n",
       "    }\n",
       "</style>\n",
       "<table border=\"1\" class=\"dataframe\">\n",
       "  <thead>\n",
       "    <tr style=\"text-align: right;\">\n",
       "      <th></th>\n",
       "      <th>num_orders</th>\n",
       "      <th>day</th>\n",
       "      <th>hour</th>\n",
       "      <th>dayofweek</th>\n",
       "      <th>lag_1</th>\n",
       "      <th>rolling_mean</th>\n",
       "      <th>lag_2</th>\n",
       "      <th>lag_3</th>\n",
       "      <th>lag_4</th>\n",
       "      <th>lag_5</th>\n",
       "      <th>...</th>\n",
       "      <th>lag_15</th>\n",
       "      <th>lag_16</th>\n",
       "      <th>lag_17</th>\n",
       "      <th>lag_18</th>\n",
       "      <th>lag_19</th>\n",
       "      <th>lag_20</th>\n",
       "      <th>lag_21</th>\n",
       "      <th>lag_22</th>\n",
       "      <th>lag_23</th>\n",
       "      <th>lag_24</th>\n",
       "    </tr>\n",
       "    <tr>\n",
       "      <th>datetime</th>\n",
       "      <th></th>\n",
       "      <th></th>\n",
       "      <th></th>\n",
       "      <th></th>\n",
       "      <th></th>\n",
       "      <th></th>\n",
       "      <th></th>\n",
       "      <th></th>\n",
       "      <th></th>\n",
       "      <th></th>\n",
       "      <th></th>\n",
       "      <th></th>\n",
       "      <th></th>\n",
       "      <th></th>\n",
       "      <th></th>\n",
       "      <th></th>\n",
       "      <th></th>\n",
       "      <th></th>\n",
       "      <th></th>\n",
       "      <th></th>\n",
       "      <th></th>\n",
       "    </tr>\n",
       "  </thead>\n",
       "  <tbody>\n",
       "    <tr>\n",
       "      <th>2018-03-01 00:00:00</th>\n",
       "      <td>124</td>\n",
       "      <td>1</td>\n",
       "      <td>0</td>\n",
       "      <td>3</td>\n",
       "      <td>NaN</td>\n",
       "      <td>NaN</td>\n",
       "      <td>NaN</td>\n",
       "      <td>NaN</td>\n",
       "      <td>NaN</td>\n",
       "      <td>NaN</td>\n",
       "      <td>...</td>\n",
       "      <td>NaN</td>\n",
       "      <td>NaN</td>\n",
       "      <td>NaN</td>\n",
       "      <td>NaN</td>\n",
       "      <td>NaN</td>\n",
       "      <td>NaN</td>\n",
       "      <td>NaN</td>\n",
       "      <td>NaN</td>\n",
       "      <td>NaN</td>\n",
       "      <td>NaN</td>\n",
       "    </tr>\n",
       "    <tr>\n",
       "      <th>2018-03-01 01:00:00</th>\n",
       "      <td>85</td>\n",
       "      <td>1</td>\n",
       "      <td>1</td>\n",
       "      <td>3</td>\n",
       "      <td>124.0</td>\n",
       "      <td>NaN</td>\n",
       "      <td>NaN</td>\n",
       "      <td>NaN</td>\n",
       "      <td>NaN</td>\n",
       "      <td>NaN</td>\n",
       "      <td>...</td>\n",
       "      <td>NaN</td>\n",
       "      <td>NaN</td>\n",
       "      <td>NaN</td>\n",
       "      <td>NaN</td>\n",
       "      <td>NaN</td>\n",
       "      <td>NaN</td>\n",
       "      <td>NaN</td>\n",
       "      <td>NaN</td>\n",
       "      <td>NaN</td>\n",
       "      <td>NaN</td>\n",
       "    </tr>\n",
       "    <tr>\n",
       "      <th>2018-03-01 02:00:00</th>\n",
       "      <td>71</td>\n",
       "      <td>1</td>\n",
       "      <td>2</td>\n",
       "      <td>3</td>\n",
       "      <td>85.0</td>\n",
       "      <td>NaN</td>\n",
       "      <td>124.0</td>\n",
       "      <td>NaN</td>\n",
       "      <td>NaN</td>\n",
       "      <td>NaN</td>\n",
       "      <td>...</td>\n",
       "      <td>NaN</td>\n",
       "      <td>NaN</td>\n",
       "      <td>NaN</td>\n",
       "      <td>NaN</td>\n",
       "      <td>NaN</td>\n",
       "      <td>NaN</td>\n",
       "      <td>NaN</td>\n",
       "      <td>NaN</td>\n",
       "      <td>NaN</td>\n",
       "      <td>NaN</td>\n",
       "    </tr>\n",
       "  </tbody>\n",
       "</table>\n",
       "<p>3 rows × 29 columns</p>\n",
       "</div>"
      ],
      "text/plain": [
       "                     num_orders  day  hour  dayofweek  lag_1  rolling_mean  \\\n",
       "datetime                                                                     \n",
       "2018-03-01 00:00:00         124    1     0          3    NaN           NaN   \n",
       "2018-03-01 01:00:00          85    1     1          3  124.0           NaN   \n",
       "2018-03-01 02:00:00          71    1     2          3   85.0           NaN   \n",
       "\n",
       "                     lag_2  lag_3  lag_4  lag_5  ...  lag_15  lag_16  lag_17  \\\n",
       "datetime                                         ...                           \n",
       "2018-03-01 00:00:00    NaN    NaN    NaN    NaN  ...     NaN     NaN     NaN   \n",
       "2018-03-01 01:00:00    NaN    NaN    NaN    NaN  ...     NaN     NaN     NaN   \n",
       "2018-03-01 02:00:00  124.0    NaN    NaN    NaN  ...     NaN     NaN     NaN   \n",
       "\n",
       "                     lag_18  lag_19  lag_20  lag_21  lag_22  lag_23  lag_24  \n",
       "datetime                                                                     \n",
       "2018-03-01 00:00:00     NaN     NaN     NaN     NaN     NaN     NaN     NaN  \n",
       "2018-03-01 01:00:00     NaN     NaN     NaN     NaN     NaN     NaN     NaN  \n",
       "2018-03-01 02:00:00     NaN     NaN     NaN     NaN     NaN     NaN     NaN  \n",
       "\n",
       "[3 rows x 29 columns]"
      ]
     },
     "metadata": {},
     "output_type": "display_data"
    }
   ],
   "source": [
    "lags = [1, 3, 6, 12, 24]\n",
    "result_data_lags = []\n",
    "\n",
    "data_new = data.copy()\n",
    "\n",
    "for i in range(len(lags)):\n",
    "    result_data_lags.append(make_features(data_new, lags[i], 24))\n",
    "    display(result_data_lags[i].head(3))"
   ]
  },
  {
   "cell_type": "markdown",
   "metadata": {},
   "source": [
    "Как итог, лучший результат получился при лаге равном 24, выдерним наш дф из списка по индексу"
   ]
  },
  {
   "cell_type": "code",
   "execution_count": 16,
   "metadata": {},
   "outputs": [
    {
     "data": {
      "text/html": [
       "<div>\n",
       "<style scoped>\n",
       "    .dataframe tbody tr th:only-of-type {\n",
       "        vertical-align: middle;\n",
       "    }\n",
       "\n",
       "    .dataframe tbody tr th {\n",
       "        vertical-align: top;\n",
       "    }\n",
       "\n",
       "    .dataframe thead th {\n",
       "        text-align: right;\n",
       "    }\n",
       "</style>\n",
       "<table border=\"1\" class=\"dataframe\">\n",
       "  <thead>\n",
       "    <tr style=\"text-align: right;\">\n",
       "      <th></th>\n",
       "      <th>num_orders</th>\n",
       "      <th>day</th>\n",
       "      <th>hour</th>\n",
       "      <th>dayofweek</th>\n",
       "      <th>lag_1</th>\n",
       "      <th>rolling_mean</th>\n",
       "      <th>lag_2</th>\n",
       "      <th>lag_3</th>\n",
       "      <th>lag_4</th>\n",
       "      <th>lag_5</th>\n",
       "      <th>...</th>\n",
       "      <th>lag_15</th>\n",
       "      <th>lag_16</th>\n",
       "      <th>lag_17</th>\n",
       "      <th>lag_18</th>\n",
       "      <th>lag_19</th>\n",
       "      <th>lag_20</th>\n",
       "      <th>lag_21</th>\n",
       "      <th>lag_22</th>\n",
       "      <th>lag_23</th>\n",
       "      <th>lag_24</th>\n",
       "    </tr>\n",
       "    <tr>\n",
       "      <th>datetime</th>\n",
       "      <th></th>\n",
       "      <th></th>\n",
       "      <th></th>\n",
       "      <th></th>\n",
       "      <th></th>\n",
       "      <th></th>\n",
       "      <th></th>\n",
       "      <th></th>\n",
       "      <th></th>\n",
       "      <th></th>\n",
       "      <th></th>\n",
       "      <th></th>\n",
       "      <th></th>\n",
       "      <th></th>\n",
       "      <th></th>\n",
       "      <th></th>\n",
       "      <th></th>\n",
       "      <th></th>\n",
       "      <th></th>\n",
       "      <th></th>\n",
       "      <th></th>\n",
       "    </tr>\n",
       "  </thead>\n",
       "  <tbody>\n",
       "    <tr>\n",
       "      <th>2018-03-01 00:00:00</th>\n",
       "      <td>124</td>\n",
       "      <td>1</td>\n",
       "      <td>0</td>\n",
       "      <td>3</td>\n",
       "      <td>NaN</td>\n",
       "      <td>NaN</td>\n",
       "      <td>NaN</td>\n",
       "      <td>NaN</td>\n",
       "      <td>NaN</td>\n",
       "      <td>NaN</td>\n",
       "      <td>...</td>\n",
       "      <td>NaN</td>\n",
       "      <td>NaN</td>\n",
       "      <td>NaN</td>\n",
       "      <td>NaN</td>\n",
       "      <td>NaN</td>\n",
       "      <td>NaN</td>\n",
       "      <td>NaN</td>\n",
       "      <td>NaN</td>\n",
       "      <td>NaN</td>\n",
       "      <td>NaN</td>\n",
       "    </tr>\n",
       "    <tr>\n",
       "      <th>2018-03-01 01:00:00</th>\n",
       "      <td>85</td>\n",
       "      <td>1</td>\n",
       "      <td>1</td>\n",
       "      <td>3</td>\n",
       "      <td>124.0</td>\n",
       "      <td>NaN</td>\n",
       "      <td>NaN</td>\n",
       "      <td>NaN</td>\n",
       "      <td>NaN</td>\n",
       "      <td>NaN</td>\n",
       "      <td>...</td>\n",
       "      <td>NaN</td>\n",
       "      <td>NaN</td>\n",
       "      <td>NaN</td>\n",
       "      <td>NaN</td>\n",
       "      <td>NaN</td>\n",
       "      <td>NaN</td>\n",
       "      <td>NaN</td>\n",
       "      <td>NaN</td>\n",
       "      <td>NaN</td>\n",
       "      <td>NaN</td>\n",
       "    </tr>\n",
       "    <tr>\n",
       "      <th>2018-03-01 02:00:00</th>\n",
       "      <td>71</td>\n",
       "      <td>1</td>\n",
       "      <td>2</td>\n",
       "      <td>3</td>\n",
       "      <td>85.0</td>\n",
       "      <td>NaN</td>\n",
       "      <td>124.0</td>\n",
       "      <td>NaN</td>\n",
       "      <td>NaN</td>\n",
       "      <td>NaN</td>\n",
       "      <td>...</td>\n",
       "      <td>NaN</td>\n",
       "      <td>NaN</td>\n",
       "      <td>NaN</td>\n",
       "      <td>NaN</td>\n",
       "      <td>NaN</td>\n",
       "      <td>NaN</td>\n",
       "      <td>NaN</td>\n",
       "      <td>NaN</td>\n",
       "      <td>NaN</td>\n",
       "      <td>NaN</td>\n",
       "    </tr>\n",
       "    <tr>\n",
       "      <th>2018-03-01 03:00:00</th>\n",
       "      <td>66</td>\n",
       "      <td>1</td>\n",
       "      <td>3</td>\n",
       "      <td>3</td>\n",
       "      <td>71.0</td>\n",
       "      <td>NaN</td>\n",
       "      <td>85.0</td>\n",
       "      <td>124.0</td>\n",
       "      <td>NaN</td>\n",
       "      <td>NaN</td>\n",
       "      <td>...</td>\n",
       "      <td>NaN</td>\n",
       "      <td>NaN</td>\n",
       "      <td>NaN</td>\n",
       "      <td>NaN</td>\n",
       "      <td>NaN</td>\n",
       "      <td>NaN</td>\n",
       "      <td>NaN</td>\n",
       "      <td>NaN</td>\n",
       "      <td>NaN</td>\n",
       "      <td>NaN</td>\n",
       "    </tr>\n",
       "    <tr>\n",
       "      <th>2018-03-01 04:00:00</th>\n",
       "      <td>43</td>\n",
       "      <td>1</td>\n",
       "      <td>4</td>\n",
       "      <td>3</td>\n",
       "      <td>66.0</td>\n",
       "      <td>NaN</td>\n",
       "      <td>71.0</td>\n",
       "      <td>85.0</td>\n",
       "      <td>124.0</td>\n",
       "      <td>NaN</td>\n",
       "      <td>...</td>\n",
       "      <td>NaN</td>\n",
       "      <td>NaN</td>\n",
       "      <td>NaN</td>\n",
       "      <td>NaN</td>\n",
       "      <td>NaN</td>\n",
       "      <td>NaN</td>\n",
       "      <td>NaN</td>\n",
       "      <td>NaN</td>\n",
       "      <td>NaN</td>\n",
       "      <td>NaN</td>\n",
       "    </tr>\n",
       "  </tbody>\n",
       "</table>\n",
       "<p>5 rows × 29 columns</p>\n",
       "</div>"
      ],
      "text/plain": [
       "                     num_orders  day  hour  dayofweek  lag_1  rolling_mean  \\\n",
       "datetime                                                                     \n",
       "2018-03-01 00:00:00         124    1     0          3    NaN           NaN   \n",
       "2018-03-01 01:00:00          85    1     1          3  124.0           NaN   \n",
       "2018-03-01 02:00:00          71    1     2          3   85.0           NaN   \n",
       "2018-03-01 03:00:00          66    1     3          3   71.0           NaN   \n",
       "2018-03-01 04:00:00          43    1     4          3   66.0           NaN   \n",
       "\n",
       "                     lag_2  lag_3  lag_4  lag_5  ...  lag_15  lag_16  lag_17  \\\n",
       "datetime                                         ...                           \n",
       "2018-03-01 00:00:00    NaN    NaN    NaN    NaN  ...     NaN     NaN     NaN   \n",
       "2018-03-01 01:00:00    NaN    NaN    NaN    NaN  ...     NaN     NaN     NaN   \n",
       "2018-03-01 02:00:00  124.0    NaN    NaN    NaN  ...     NaN     NaN     NaN   \n",
       "2018-03-01 03:00:00   85.0  124.0    NaN    NaN  ...     NaN     NaN     NaN   \n",
       "2018-03-01 04:00:00   71.0   85.0  124.0    NaN  ...     NaN     NaN     NaN   \n",
       "\n",
       "                     lag_18  lag_19  lag_20  lag_21  lag_22  lag_23  lag_24  \n",
       "datetime                                                                     \n",
       "2018-03-01 00:00:00     NaN     NaN     NaN     NaN     NaN     NaN     NaN  \n",
       "2018-03-01 01:00:00     NaN     NaN     NaN     NaN     NaN     NaN     NaN  \n",
       "2018-03-01 02:00:00     NaN     NaN     NaN     NaN     NaN     NaN     NaN  \n",
       "2018-03-01 03:00:00     NaN     NaN     NaN     NaN     NaN     NaN     NaN  \n",
       "2018-03-01 04:00:00     NaN     NaN     NaN     NaN     NaN     NaN     NaN  \n",
       "\n",
       "[5 rows x 29 columns]"
      ]
     },
     "execution_count": 16,
     "metadata": {},
     "output_type": "execute_result"
    }
   ],
   "source": [
    "result_data_lags[4].head()"
   ]
  },
  {
   "cell_type": "code",
   "execution_count": null,
   "metadata": {},
   "outputs": [],
   "source": []
  },
  {
   "cell_type": "markdown",
   "metadata": {},
   "source": [
    "Разделим наш дф на трейн/валид/тест, и обучим наши модели."
   ]
  },
  {
   "cell_type": "code",
   "execution_count": 17,
   "metadata": {},
   "outputs": [
    {
     "name": "stdout",
     "output_type": "stream",
     "text": [
      "Размер тренировочной выборки: (3950, 28)\n",
      "Размер тестовой выборки: (442, 28)\n"
     ]
    }
   ],
   "source": [
    "train, test = train_test_split(result_data_lags[4], shuffle = False, test_size = 0.1)\n",
    "train = train.dropna()\n",
    "\n",
    "features_train = train.drop('num_orders',axis = 1)\n",
    "target_train = train['num_orders']\n",
    "\n",
    "features_test = test.drop('num_orders',axis = 1)\n",
    "target_test = test['num_orders']\n",
    "\n",
    "print(f'Размер тренировочной выборки: {features_train.shape}')\n",
    "print(f'Размер тестовой выборки: {features_test.shape}')"
   ]
  },
  {
   "cell_type": "code",
   "execution_count": null,
   "metadata": {},
   "outputs": [],
   "source": []
  },
  {
   "cell_type": "markdown",
   "metadata": {},
   "source": [
    "__LinearRegression__"
   ]
  },
  {
   "cell_type": "code",
   "execution_count": 18,
   "metadata": {},
   "outputs": [
    {
     "name": "stdout",
     "output_type": "stream",
     "text": [
      "Лучшая RMSE модели LinearRegression равна: 27.14826372161077\n"
     ]
    }
   ],
   "source": [
    "model_lr = LinearRegression() \n",
    " \n",
    "rmse_lr = -cross_val_score(model_lr, features_train, target_train,\n",
    "                           scoring = 'neg_root_mean_squared_error',\n",
    "                           cv = TimeSeriesSplit(n_splits=5)).mean()\n",
    "\n",
    "print(f'Лучшая RMSE модели LinearRegression равна: {rmse_lr}')"
   ]
  },
  {
   "cell_type": "code",
   "execution_count": null,
   "metadata": {},
   "outputs": [],
   "source": []
  },
  {
   "cell_type": "markdown",
   "metadata": {},
   "source": [
    "__DecisionTreeRegressor__"
   ]
  },
  {
   "cell_type": "code",
   "execution_count": 19,
   "metadata": {},
   "outputs": [
    {
     "name": "stdout",
     "output_type": "stream",
     "text": [
      "Лучшая RMSE модели DecisionTreeRegressor равна: 28.776013240838164 при параметрах, {'max_depth': 16, 'min_samples_leaf': 27}\n"
     ]
    }
   ],
   "source": [
    "model_dt = DecisionTreeRegressor(random_state = STATE)\n",
    "\n",
    "param_dt = {\n",
    "    'max_depth' : [2, 4, 8, 16],\n",
    "    'min_samples_leaf' : range(1, 30, 2)\n",
    "}\n",
    "\n",
    "grid_dt = GridSearchCV(model_dt, param_grid = param_dt,\n",
    "                       scoring = 'neg_root_mean_squared_error',\n",
    "                       cv = TimeSeriesSplit(n_splits = 5))\n",
    "\n",
    "dt_model = grid_dt.fit(features_train,target_train)\n",
    "\n",
    "print(f'Лучшая RMSE модели DecisionTreeRegressor равна: {-dt_model.best_score_} при параметрах, {dt_model.best_params_}')"
   ]
  },
  {
   "cell_type": "markdown",
   "metadata": {},
   "source": [
    "__LGBMRegressor__"
   ]
  },
  {
   "cell_type": "code",
   "execution_count": 20,
   "metadata": {},
   "outputs": [
    {
     "name": "stdout",
     "output_type": "stream",
     "text": [
      "Лучшая RMSE модели LGBMRegressor равна: 25.028107720723046 при параметрах, {'max_depth': 20, 'n_estimators': 60}\n"
     ]
    }
   ],
   "source": [
    "model_lgb = LGBMRegressor(random_state = STATE, n_jobs = -1)\n",
    "\n",
    "param_lgb = {\n",
    "    \"max_depth\" : range(20, 30, 2),\n",
    "    \"n_estimators\" : range(40, 70, 10)\n",
    "}\n",
    "\n",
    "\n",
    "grid_lgb = GridSearchCV(model_lgb, param_grid = param_lgb,\n",
    "                       scoring = 'neg_root_mean_squared_error',\n",
    "                       cv = TimeSeriesSplit(n_splits = 5))\n",
    "\n",
    "lgb_model = grid_lgb.fit(features_train, target_train)\n",
    "\n",
    "print(f'Лучшая RMSE модели LGBMRegressor равна: {-lgb_model.best_score_} при параметрах, {lgb_model.best_params_}')"
   ]
  },
  {
   "cell_type": "markdown",
   "metadata": {},
   "source": [
    "На данном этапе, мы проделали следующее:\n",
    "- написали функцию по добавлению новый фичей\n",
    "- перебрали кол-во лагов и дабавили соответсвующее кол-во\n",
    "- обучили 3 модели\n",
    "- для тестирования будем использовать модель град.бустинга LGBMRegressor -  наилучший результат 25.02"
   ]
  },
  {
   "cell_type": "code",
   "execution_count": null,
   "metadata": {},
   "outputs": [],
   "source": []
  },
  {
   "cell_type": "markdown",
   "metadata": {},
   "source": [
    "## Тестирование"
   ]
  },
  {
   "cell_type": "code",
   "execution_count": 21,
   "metadata": {},
   "outputs": [
    {
     "name": "stdout",
     "output_type": "stream",
     "text": [
      "RMSE модели LGBMRegressor на тестовых данных равна: 42.44\n"
     ]
    }
   ],
   "source": [
    "# выберим нашу модель lgb_model и проверим на тестовых данных\n",
    "\n",
    "predict_lgb_test = lgb_model.predict(features_test)\n",
    "rmse_lgb_test = mean_squared_error(target_test, predict_lgb_test)**0.5\n",
    "\n",
    "print(f'RMSE модели LGBMRegressor на тестовых данных равна: {round(rmse_lgb_test, 2)}')"
   ]
  },
  {
   "cell_type": "code",
   "execution_count": 22,
   "metadata": {},
   "outputs": [
    {
     "data": {
      "image/png": "[encoded data removed]",
      "text/plain": [
       "<Figure size 1440x720 with 1 Axes>"
      ]
     },
     "metadata": {
      "needs_background": "light"
     },
     "output_type": "display_data"
    }
   ],
   "source": [
    "# добавил\n",
    "plt.figure(figsize = (20, 10))\n",
    "\n",
    "plt.plot(target_test, label = 'Истинные значения')\n",
    "plt.plot(target_test.index, predict_lgb_test, label = 'Пресказания')\n",
    "\n",
    "plt.title('Сравнение')\n",
    "plt.legend();"
   ]
  },
  {
   "cell_type": "markdown",
   "metadata": {},
   "source": [
    "__ВЫВОД__\n",
    "\n",
    "Мы выполнили указанное задание \n",
    "\n",
    "\" Постройте модель для предсказания. Значение метрики RMSE на тестовой выборке должно быть не больше 48.\"\n",
    "\n",
    "Модель LGBMRegressor показала RMSE на тестовой выборке - 42.44"
   ]
  }
 ],
 "metadata": {
  "ExecuteTimeLog": [
   {
    "duration": 401,
    "start_time": "2023-10-18T15:31:41.432Z"
   },
   {
    "duration": 105,
    "start_time": "2023-10-18T15:32:08.860Z"
   },
   {
    "duration": 48,
    "start_time": "2023-10-18T15:32:33.541Z"
   },
   {
    "duration": 56,
    "start_time": "2023-10-18T15:33:13.825Z"
   },
   {
    "duration": 54,
    "start_time": "2023-10-18T15:33:20.054Z"
   },
   {
    "duration": 125,
    "start_time": "2023-10-18T15:33:42.384Z"
   },
   {
    "duration": 52,
    "start_time": "2023-10-18T15:34:52.786Z"
   },
   {
    "duration": 2,
    "start_time": "2023-10-18T15:35:17.063Z"
   },
   {
    "duration": 8,
    "start_time": "2023-10-18T15:35:27.694Z"
   },
   {
    "duration": 1105,
    "start_time": "2023-10-18T15:35:49.624Z"
   },
   {
    "duration": 163,
    "start_time": "2023-10-18T15:36:30.091Z"
   },
   {
    "duration": 156,
    "start_time": "2023-10-18T15:37:13.628Z"
   },
   {
    "duration": 158,
    "start_time": "2023-10-18T15:37:18.827Z"
   },
   {
    "duration": 157,
    "start_time": "2023-10-18T15:37:28.622Z"
   },
   {
    "duration": 1324,
    "start_time": "2023-10-21T13:34:46.724Z"
   },
   {
    "duration": 121,
    "start_time": "2023-10-21T13:34:48.049Z"
   },
   {
    "duration": 3,
    "start_time": "2023-10-21T13:34:48.172Z"
   },
   {
    "duration": 14,
    "start_time": "2023-10-21T13:34:48.176Z"
   },
   {
    "duration": 2,
    "start_time": "2023-10-21T13:38:11.249Z"
   },
   {
    "duration": 44,
    "start_time": "2023-10-21T13:38:37.190Z"
   },
   {
    "duration": 7,
    "start_time": "2023-10-21T13:39:02.185Z"
   },
   {
    "duration": 5,
    "start_time": "2023-10-21T13:39:28.116Z"
   },
   {
    "duration": 5,
    "start_time": "2023-10-21T13:40:20.893Z"
   },
   {
    "duration": 9,
    "start_time": "2023-10-21T13:40:32.599Z"
   },
   {
    "duration": 9,
    "start_time": "2023-10-21T13:40:46.940Z"
   },
   {
    "duration": 3,
    "start_time": "2023-10-21T13:40:56.225Z"
   },
   {
    "duration": 3,
    "start_time": "2023-10-21T13:41:24.486Z"
   },
   {
    "duration": 4,
    "start_time": "2023-10-21T13:42:52.685Z"
   },
   {
    "duration": 3,
    "start_time": "2023-10-21T13:45:21.499Z"
   },
   {
    "duration": 23,
    "start_time": "2023-10-21T13:47:01.187Z"
   },
   {
    "duration": 3,
    "start_time": "2023-10-21T13:49:51.972Z"
   },
   {
    "duration": 3,
    "start_time": "2023-10-21T13:50:34.881Z"
   },
   {
    "duration": 4,
    "start_time": "2023-10-21T13:50:39.609Z"
   },
   {
    "duration": 312,
    "start_time": "2023-10-21T13:51:39.392Z"
   },
   {
    "duration": 62,
    "start_time": "2023-10-21T13:56:25.592Z"
   },
   {
    "duration": 4,
    "start_time": "2023-10-21T13:56:45.693Z"
   },
   {
    "duration": 12,
    "start_time": "2023-10-21T13:58:01.151Z"
   },
   {
    "duration": 702,
    "start_time": "2023-10-21T14:01:52.858Z"
   },
   {
    "duration": 833,
    "start_time": "2023-10-21T14:02:01.461Z"
   },
   {
    "duration": 815,
    "start_time": "2023-10-21T14:02:08.273Z"
   },
   {
    "duration": 719,
    "start_time": "2023-10-21T14:03:04.881Z"
   },
   {
    "duration": 839,
    "start_time": "2023-10-21T14:04:34.889Z"
   },
   {
    "duration": 790,
    "start_time": "2023-10-21T14:05:35.692Z"
   },
   {
    "duration": 676,
    "start_time": "2023-10-21T14:06:46.252Z"
   },
   {
    "duration": 762,
    "start_time": "2023-10-21T14:56:56.935Z"
   },
   {
    "duration": 643,
    "start_time": "2023-10-21T14:57:38.227Z"
   },
   {
    "duration": 646,
    "start_time": "2023-10-21T14:57:47.954Z"
   },
   {
    "duration": 741,
    "start_time": "2023-10-21T14:57:57.080Z"
   },
   {
    "duration": 730,
    "start_time": "2023-10-21T15:02:35.255Z"
   },
   {
    "duration": 674,
    "start_time": "2023-10-21T15:02:56.755Z"
   },
   {
    "duration": 662,
    "start_time": "2023-10-21T15:03:30.902Z"
   },
   {
    "duration": 739,
    "start_time": "2023-10-21T15:03:43.569Z"
   },
   {
    "duration": 686,
    "start_time": "2023-10-21T15:03:50.793Z"
   },
   {
    "duration": 673,
    "start_time": "2023-10-21T15:09:03.141Z"
   },
   {
    "duration": 654,
    "start_time": "2023-10-21T15:09:15.237Z"
   },
   {
    "duration": 3,
    "start_time": "2023-10-21T15:13:07.685Z"
   },
   {
    "duration": 3,
    "start_time": "2023-10-21T15:16:17.479Z"
   },
   {
    "duration": 4,
    "start_time": "2023-10-21T15:16:45.574Z"
   },
   {
    "duration": 4,
    "start_time": "2023-10-21T15:51:49.119Z"
   },
   {
    "duration": 8,
    "start_time": "2023-10-21T15:53:32.902Z"
   },
   {
    "duration": 122,
    "start_time": "2023-10-21T16:21:31.900Z"
   },
   {
    "duration": 1332,
    "start_time": "2023-10-21T16:23:03.196Z"
   },
   {
    "duration": 2,
    "start_time": "2023-10-21T16:23:04.532Z"
   },
   {
    "duration": 8,
    "start_time": "2023-10-21T16:23:04.535Z"
   },
   {
    "duration": 49,
    "start_time": "2023-10-21T16:23:04.545Z"
   },
   {
    "duration": 9,
    "start_time": "2023-10-21T16:23:04.596Z"
   },
   {
    "duration": 5,
    "start_time": "2023-10-21T16:23:04.607Z"
   },
   {
    "duration": 6,
    "start_time": "2023-10-21T16:23:04.613Z"
   },
   {
    "duration": 4,
    "start_time": "2023-10-21T16:23:04.620Z"
   },
   {
    "duration": 4,
    "start_time": "2023-10-21T16:23:04.626Z"
   },
   {
    "duration": 20,
    "start_time": "2023-10-21T16:23:04.645Z"
   },
   {
    "duration": 3,
    "start_time": "2023-10-21T16:23:04.667Z"
   },
   {
    "duration": 801,
    "start_time": "2023-10-21T16:23:04.672Z"
   },
   {
    "duration": 4,
    "start_time": "2023-10-21T16:23:05.475Z"
   },
   {
    "duration": 48581,
    "start_time": "2023-10-21T16:23:05.481Z"
   },
   {
    "duration": 70897,
    "start_time": "2023-10-21T16:25:19.848Z"
   },
   {
    "duration": 554695,
    "start_time": "2023-10-21T16:29:33.665Z"
   },
   {
    "duration": 12,
    "start_time": "2023-10-21T18:29:00.556Z"
   },
   {
    "duration": 45,
    "start_time": "2023-10-21T18:29:08.026Z"
   },
   {
    "duration": 2066,
    "start_time": "2023-10-21T18:29:19.838Z"
   },
   {
    "duration": 3,
    "start_time": "2023-10-21T18:29:21.906Z"
   },
   {
    "duration": 23,
    "start_time": "2023-10-21T18:29:21.911Z"
   },
   {
    "duration": 151,
    "start_time": "2023-10-21T18:29:21.936Z"
   },
   {
    "duration": 14,
    "start_time": "2023-10-21T18:29:22.090Z"
   },
   {
    "duration": 21,
    "start_time": "2023-10-21T18:29:22.106Z"
   },
   {
    "duration": 8,
    "start_time": "2023-10-21T18:29:22.128Z"
   },
   {
    "duration": 9,
    "start_time": "2023-10-21T18:29:22.137Z"
   },
   {
    "duration": 9,
    "start_time": "2023-10-21T18:29:22.147Z"
   },
   {
    "duration": 18,
    "start_time": "2023-10-21T18:29:22.157Z"
   },
   {
    "duration": 5,
    "start_time": "2023-10-21T18:29:22.177Z"
   },
   {
    "duration": 939,
    "start_time": "2023-10-21T18:29:22.183Z"
   },
   {
    "duration": 5,
    "start_time": "2023-10-21T18:29:23.124Z"
   },
   {
    "duration": 8,
    "start_time": "2023-10-21T18:29:23.132Z"
   },
   {
    "duration": 11369,
    "start_time": "2023-10-21T18:29:23.141Z"
   },
   {
    "duration": 13931,
    "start_time": "2023-10-21T18:31:24.181Z"
   },
   {
    "duration": 14462,
    "start_time": "2023-10-21T18:31:43.851Z"
   },
   {
    "duration": 19723,
    "start_time": "2023-10-21T18:33:22.596Z"
   },
   {
    "duration": 21806,
    "start_time": "2023-10-21T18:34:38.408Z"
   },
   {
    "duration": 108,
    "start_time": "2023-10-21T18:37:15.678Z"
   },
   {
    "duration": 81,
    "start_time": "2023-10-21T18:37:42.766Z"
   },
   {
    "duration": 31081,
    "start_time": "2023-10-21T18:38:00.990Z"
   },
   {
    "duration": 31258,
    "start_time": "2023-10-21T18:39:00.466Z"
   },
   {
    "duration": 85,
    "start_time": "2023-10-21T18:42:38.766Z"
   },
   {
    "duration": 32019,
    "start_time": "2023-10-21T18:42:48.051Z"
   },
   {
    "duration": 33906,
    "start_time": "2023-10-21T18:43:54.813Z"
   },
   {
    "duration": 1649,
    "start_time": "2023-10-21T19:49:16.191Z"
   },
   {
    "duration": 1591,
    "start_time": "2023-10-21T19:50:36.692Z"
   },
   {
    "duration": 1514,
    "start_time": "2023-10-21T19:50:45.271Z"
   },
   {
    "duration": 892,
    "start_time": "2023-10-21T19:50:56.301Z"
   },
   {
    "duration": 881,
    "start_time": "2023-10-21T19:51:02.847Z"
   },
   {
    "duration": 112,
    "start_time": "2023-10-21T19:59:32.569Z"
   },
   {
    "duration": 201,
    "start_time": "2023-10-21T20:00:00.530Z"
   },
   {
    "duration": 6,
    "start_time": "2023-10-21T20:00:23.086Z"
   },
   {
    "duration": 1522,
    "start_time": "2023-10-21T20:01:07.497Z"
   },
   {
    "duration": 6,
    "start_time": "2023-10-21T20:01:51.222Z"
   },
   {
    "duration": 41,
    "start_time": "2023-10-21T20:01:52.379Z"
   },
   {
    "duration": 123,
    "start_time": "2023-10-21T20:16:06.249Z"
   },
   {
    "duration": 6,
    "start_time": "2023-10-21T20:16:20.737Z"
   },
   {
    "duration": 23,
    "start_time": "2023-10-21T20:16:42.605Z"
   },
   {
    "duration": 39,
    "start_time": "2023-10-21T20:16:46.890Z"
   },
   {
    "duration": 239,
    "start_time": "2023-10-21T20:17:06.781Z"
   },
   {
    "duration": 98,
    "start_time": "2023-10-21T20:17:15.837Z"
   },
   {
    "duration": 156,
    "start_time": "2023-10-21T20:18:35.500Z"
   },
   {
    "duration": 136,
    "start_time": "2023-10-21T20:19:04.216Z"
   },
   {
    "duration": 101,
    "start_time": "2023-10-21T20:19:26.265Z"
   },
   {
    "duration": 83,
    "start_time": "2023-10-21T20:19:36.896Z"
   },
   {
    "duration": 92,
    "start_time": "2023-10-21T20:19:51.272Z"
   },
   {
    "duration": 137,
    "start_time": "2023-10-21T20:20:03.082Z"
   },
   {
    "duration": 141,
    "start_time": "2023-10-21T20:20:24.314Z"
   },
   {
    "duration": 96,
    "start_time": "2023-10-21T20:20:29.031Z"
   },
   {
    "duration": 19,
    "start_time": "2023-10-21T20:20:43.631Z"
   },
   {
    "duration": 8,
    "start_time": "2023-10-21T20:21:04.713Z"
   },
   {
    "duration": 14,
    "start_time": "2023-10-21T20:21:09.275Z"
   },
   {
    "duration": 12,
    "start_time": "2023-10-21T20:21:22.423Z"
   },
   {
    "duration": 86,
    "start_time": "2023-10-21T20:21:29.817Z"
   },
   {
    "duration": 5,
    "start_time": "2023-10-21T20:21:48.487Z"
   },
   {
    "duration": 36,
    "start_time": "2023-10-21T20:21:55.112Z"
   },
   {
    "duration": 15,
    "start_time": "2023-10-21T20:22:00.982Z"
   },
   {
    "duration": 14,
    "start_time": "2023-10-21T20:22:09.649Z"
   },
   {
    "duration": 6,
    "start_time": "2023-10-21T20:22:46.398Z"
   },
   {
    "duration": 1432,
    "start_time": "2023-10-21T20:22:47.377Z"
   },
   {
    "duration": 1205,
    "start_time": "2023-10-21T20:22:59.954Z"
   },
   {
    "duration": 14,
    "start_time": "2023-10-21T20:25:20.425Z"
   },
   {
    "duration": 200,
    "start_time": "2023-10-21T20:25:22.648Z"
   },
   {
    "duration": 11,
    "start_time": "2023-10-21T20:28:09.300Z"
   },
   {
    "duration": 1418,
    "start_time": "2023-10-21T20:28:11.735Z"
   },
   {
    "duration": 255,
    "start_time": "2023-10-21T20:28:19.967Z"
   },
   {
    "duration": 18667,
    "start_time": "2023-10-21T20:28:52.523Z"
   },
   {
    "duration": 6,
    "start_time": "2023-10-21T20:29:31.989Z"
   },
   {
    "duration": 16313,
    "start_time": "2023-10-21T20:29:33.361Z"
   },
   {
    "duration": 11,
    "start_time": "2023-10-21T20:30:10.436Z"
   },
   {
    "duration": 14966,
    "start_time": "2023-10-21T20:30:12.495Z"
   },
   {
    "duration": 3,
    "start_time": "2023-10-21T20:35:53.089Z"
   },
   {
    "duration": 14,
    "start_time": "2023-10-21T20:36:01.488Z"
   },
   {
    "duration": 4,
    "start_time": "2023-10-21T20:37:22.261Z"
   },
   {
    "duration": 5,
    "start_time": "2023-10-21T20:37:28.851Z"
   },
   {
    "duration": 73,
    "start_time": "2023-10-21T20:38:25.624Z"
   },
   {
    "duration": 26,
    "start_time": "2023-10-21T20:39:08.012Z"
   },
   {
    "duration": 3,
    "start_time": "2023-10-21T20:39:13.485Z"
   },
   {
    "duration": 12,
    "start_time": "2023-10-21T20:39:24.966Z"
   },
   {
    "duration": 1533,
    "start_time": "2023-10-21T20:46:38.187Z"
   },
   {
    "duration": 4,
    "start_time": "2023-10-21T20:46:39.722Z"
   },
   {
    "duration": 18,
    "start_time": "2023-10-21T20:46:39.727Z"
   },
   {
    "duration": 96,
    "start_time": "2023-10-21T20:46:39.746Z"
   },
   {
    "duration": 10,
    "start_time": "2023-10-21T20:46:39.846Z"
   },
   {
    "duration": 14,
    "start_time": "2023-10-21T20:46:39.857Z"
   },
   {
    "duration": 8,
    "start_time": "2023-10-21T20:46:39.873Z"
   },
   {
    "duration": 19,
    "start_time": "2023-10-21T20:46:39.883Z"
   },
   {
    "duration": 28,
    "start_time": "2023-10-21T20:46:39.904Z"
   },
   {
    "duration": 39,
    "start_time": "2023-10-21T20:46:39.937Z"
   },
   {
    "duration": 5,
    "start_time": "2023-10-21T20:46:39.978Z"
   },
   {
    "duration": 957,
    "start_time": "2023-10-21T20:46:39.985Z"
   },
   {
    "duration": 5,
    "start_time": "2023-10-21T20:46:40.943Z"
   },
   {
    "duration": 3,
    "start_time": "2023-10-21T20:46:40.951Z"
   },
   {
    "duration": 963,
    "start_time": "2023-10-21T20:46:40.956Z"
   },
   {
    "duration": 0,
    "start_time": "2023-10-21T20:46:41.921Z"
   },
   {
    "duration": 0,
    "start_time": "2023-10-21T20:46:41.922Z"
   },
   {
    "duration": 0,
    "start_time": "2023-10-21T20:46:41.923Z"
   },
   {
    "duration": 1330,
    "start_time": "2023-10-21T20:47:20.009Z"
   },
   {
    "duration": 1675,
    "start_time": "2023-10-21T20:47:49.469Z"
   },
   {
    "duration": 1513,
    "start_time": "2023-10-21T20:48:02.942Z"
   },
   {
    "duration": 6086,
    "start_time": "2023-10-21T20:48:25.481Z"
   },
   {
    "duration": 5900,
    "start_time": "2023-10-21T20:48:40.327Z"
   },
   {
    "duration": 9540,
    "start_time": "2023-10-21T20:49:09.302Z"
   },
   {
    "duration": 6753,
    "start_time": "2023-10-21T20:49:27.167Z"
   },
   {
    "duration": 17405,
    "start_time": "2023-10-21T20:49:37.939Z"
   },
   {
    "duration": 48,
    "start_time": "2023-10-21T22:51:58.915Z"
   },
   {
    "duration": 1690,
    "start_time": "2023-10-21T22:52:06.500Z"
   },
   {
    "duration": 2,
    "start_time": "2023-10-21T22:52:08.193Z"
   },
   {
    "duration": 12,
    "start_time": "2023-10-21T22:52:08.197Z"
   },
   {
    "duration": 125,
    "start_time": "2023-10-21T22:52:08.211Z"
   },
   {
    "duration": 10,
    "start_time": "2023-10-21T22:52:08.338Z"
   },
   {
    "duration": 6,
    "start_time": "2023-10-21T22:52:08.349Z"
   },
   {
    "duration": 13,
    "start_time": "2023-10-21T22:52:08.356Z"
   },
   {
    "duration": 7,
    "start_time": "2023-10-21T22:52:08.370Z"
   },
   {
    "duration": 10,
    "start_time": "2023-10-21T22:52:08.378Z"
   },
   {
    "duration": 22,
    "start_time": "2023-10-21T22:52:08.390Z"
   },
   {
    "duration": 4,
    "start_time": "2023-10-21T22:52:08.413Z"
   },
   {
    "duration": 880,
    "start_time": "2023-10-21T22:52:08.418Z"
   },
   {
    "duration": 4,
    "start_time": "2023-10-21T22:52:09.300Z"
   },
   {
    "duration": 14,
    "start_time": "2023-10-21T22:52:09.306Z"
   },
   {
    "duration": 9586,
    "start_time": "2023-10-21T22:52:09.322Z"
   },
   {
    "duration": 31130,
    "start_time": "2023-10-21T22:52:18.910Z"
   },
   {
    "duration": 1025,
    "start_time": "2023-10-21T22:52:50.042Z"
   },
   {
    "duration": 1474,
    "start_time": "2023-10-21T22:55:51.054Z"
   },
   {
    "duration": 2,
    "start_time": "2023-10-21T22:55:52.531Z"
   },
   {
    "duration": 28,
    "start_time": "2023-10-21T22:55:52.535Z"
   },
   {
    "duration": 72,
    "start_time": "2023-10-21T22:55:52.565Z"
   },
   {
    "duration": 10,
    "start_time": "2023-10-21T22:55:52.638Z"
   },
   {
    "duration": 28,
    "start_time": "2023-10-21T22:55:52.650Z"
   },
   {
    "duration": 21,
    "start_time": "2023-10-21T22:55:52.679Z"
   },
   {
    "duration": 5,
    "start_time": "2023-10-21T22:55:52.701Z"
   },
   {
    "duration": 16,
    "start_time": "2023-10-21T22:55:52.707Z"
   },
   {
    "duration": 29,
    "start_time": "2023-10-21T22:55:52.725Z"
   },
   {
    "duration": 26,
    "start_time": "2023-10-21T22:55:52.756Z"
   },
   {
    "duration": 899,
    "start_time": "2023-10-21T22:55:52.783Z"
   },
   {
    "duration": 4,
    "start_time": "2023-10-21T22:55:53.683Z"
   },
   {
    "duration": 14,
    "start_time": "2023-10-21T22:55:53.689Z"
   },
   {
    "duration": 9018,
    "start_time": "2023-10-21T22:55:53.704Z"
   },
   {
    "duration": 30698,
    "start_time": "2023-10-21T22:56:02.808Z"
   },
   {
    "duration": 963,
    "start_time": "2023-10-21T22:56:33.508Z"
   },
   {
    "duration": 162,
    "start_time": "2023-10-21T22:56:34.473Z"
   },
   {
    "duration": 0,
    "start_time": "2023-10-21T22:56:34.636Z"
   },
   {
    "duration": 11638,
    "start_time": "2023-10-21T22:57:10.775Z"
   },
   {
    "duration": 26466,
    "start_time": "2023-10-21T22:57:37.815Z"
   },
   {
    "duration": 34186,
    "start_time": "2023-10-21T22:58:09.082Z"
   },
   {
    "duration": 12707,
    "start_time": "2023-10-21T22:58:46.729Z"
   },
   {
    "duration": 1662,
    "start_time": "2023-10-22T10:04:03.294Z"
   },
   {
    "duration": 3,
    "start_time": "2023-10-22T10:04:04.958Z"
   },
   {
    "duration": 5,
    "start_time": "2023-10-22T10:04:04.962Z"
   },
   {
    "duration": 128,
    "start_time": "2023-10-22T10:04:04.970Z"
   },
   {
    "duration": 20,
    "start_time": "2023-10-22T10:04:05.100Z"
   },
   {
    "duration": 18,
    "start_time": "2023-10-22T10:04:05.123Z"
   },
   {
    "duration": 13,
    "start_time": "2023-10-22T10:04:05.143Z"
   },
   {
    "duration": 5,
    "start_time": "2023-10-22T10:04:05.158Z"
   },
   {
    "duration": 17,
    "start_time": "2023-10-22T10:04:05.164Z"
   },
   {
    "duration": 16,
    "start_time": "2023-10-22T10:04:05.185Z"
   },
   {
    "duration": 8,
    "start_time": "2023-10-22T10:04:05.203Z"
   },
   {
    "duration": 965,
    "start_time": "2023-10-22T10:04:05.213Z"
   },
   {
    "duration": 5,
    "start_time": "2023-10-22T10:04:06.180Z"
   },
   {
    "duration": 36,
    "start_time": "2023-10-22T10:04:06.186Z"
   },
   {
    "duration": 9997,
    "start_time": "2023-10-22T10:04:06.225Z"
   },
   {
    "duration": 32108,
    "start_time": "2023-10-22T10:04:16.227Z"
   },
   {
    "duration": 1050,
    "start_time": "2023-10-22T10:04:48.336Z"
   },
   {
    "duration": 14448,
    "start_time": "2023-10-22T10:04:49.388Z"
   },
   {
    "duration": 110,
    "start_time": "2023-10-22T10:05:03.838Z"
   },
   {
    "duration": 0,
    "start_time": "2023-10-22T10:05:03.950Z"
   },
   {
    "duration": 7,
    "start_time": "2023-10-22T10:09:25.322Z"
   },
   {
    "duration": 11,
    "start_time": "2023-10-22T10:10:30.869Z"
   },
   {
    "duration": 5,
    "start_time": "2023-10-22T10:10:33.913Z"
   },
   {
    "duration": 27154,
    "start_time": "2023-10-22T10:10:34.773Z"
   },
   {
    "duration": 5,
    "start_time": "2023-10-22T10:11:42.941Z"
   },
   {
    "duration": 1564,
    "start_time": "2023-10-22T10:12:04.420Z"
   },
   {
    "duration": 4,
    "start_time": "2023-10-22T10:12:05.987Z"
   },
   {
    "duration": 136,
    "start_time": "2023-10-22T10:12:05.993Z"
   },
   {
    "duration": 192,
    "start_time": "2023-10-22T10:12:06.133Z"
   },
   {
    "duration": 10,
    "start_time": "2023-10-22T10:12:06.327Z"
   },
   {
    "duration": 12,
    "start_time": "2023-10-22T10:12:06.338Z"
   },
   {
    "duration": 7,
    "start_time": "2023-10-22T10:12:06.352Z"
   },
   {
    "duration": 4,
    "start_time": "2023-10-22T10:12:06.360Z"
   },
   {
    "duration": 17,
    "start_time": "2023-10-22T10:12:06.365Z"
   },
   {
    "duration": 36,
    "start_time": "2023-10-22T10:12:06.384Z"
   },
   {
    "duration": 4,
    "start_time": "2023-10-22T10:12:06.421Z"
   },
   {
    "duration": 875,
    "start_time": "2023-10-22T10:12:06.427Z"
   },
   {
    "duration": 5,
    "start_time": "2023-10-22T10:12:07.304Z"
   },
   {
    "duration": 13,
    "start_time": "2023-10-22T10:12:07.312Z"
   },
   {
    "duration": 9697,
    "start_time": "2023-10-22T10:12:07.327Z"
   },
   {
    "duration": 32119,
    "start_time": "2023-10-22T10:12:17.031Z"
   },
   {
    "duration": 959,
    "start_time": "2023-10-22T10:12:49.151Z"
   },
   {
    "duration": 15227,
    "start_time": "2023-10-22T10:12:50.113Z"
   },
   {
    "duration": 10,
    "start_time": "2023-10-22T10:13:05.342Z"
   },
   {
    "duration": 27,
    "start_time": "2023-10-22T10:13:05.353Z"
   },
   {
    "duration": 24739,
    "start_time": "2023-10-22T10:13:05.382Z"
   },
   {
    "duration": 4,
    "start_time": "2023-10-22T10:13:30.126Z"
   },
   {
    "duration": 3,
    "start_time": "2023-10-22T10:21:50.533Z"
   },
   {
    "duration": 127920,
    "start_time": "2023-10-22T10:22:06.193Z"
   },
   {
    "duration": 8,
    "start_time": "2023-10-22T10:28:41.483Z"
   },
   {
    "duration": 127659,
    "start_time": "2023-10-22T10:28:45.205Z"
   },
   {
    "duration": 8,
    "start_time": "2023-10-22T10:33:49.897Z"
   },
   {
    "duration": 3,
    "start_time": "2023-10-22T10:33:53.566Z"
   },
   {
    "duration": 29169,
    "start_time": "2023-10-22T10:33:54.443Z"
   },
   {
    "duration": 8,
    "start_time": "2023-10-22T10:44:15.743Z"
   },
   {
    "duration": 5,
    "start_time": "2023-10-22T10:44:17.609Z"
   },
   {
    "duration": 20536,
    "start_time": "2023-10-22T10:44:18.183Z"
   },
   {
    "duration": 11,
    "start_time": "2023-10-22T11:36:35.708Z"
   },
   {
    "duration": 3,
    "start_time": "2023-10-22T11:36:37.357Z"
   },
   {
    "duration": 14125,
    "start_time": "2023-10-22T11:36:37.992Z"
   },
   {
    "duration": 6,
    "start_time": "2023-10-22T11:37:35.248Z"
   },
   {
    "duration": 3,
    "start_time": "2023-10-22T11:37:35.749Z"
   },
   {
    "duration": 14497,
    "start_time": "2023-10-22T11:37:36.024Z"
   },
   {
    "duration": 64898,
    "start_time": "2023-10-22T11:43:54.656Z"
   },
   {
    "duration": 6,
    "start_time": "2023-10-22T11:44:59.556Z"
   },
   {
    "duration": 7,
    "start_time": "2023-10-22T11:45:01.943Z"
   },
   {
    "duration": 6,
    "start_time": "2023-10-22T11:46:19.877Z"
   },
   {
    "duration": 2,
    "start_time": "2023-10-22T11:46:20.366Z"
   },
   {
    "duration": 14173,
    "start_time": "2023-10-22T11:46:20.742Z"
   },
   {
    "duration": 8,
    "start_time": "2023-10-22T11:55:19.616Z"
   },
   {
    "duration": 3,
    "start_time": "2023-10-22T11:55:22.594Z"
   },
   {
    "duration": 16213,
    "start_time": "2023-10-22T11:55:23.096Z"
   },
   {
    "duration": 58941,
    "start_time": "2023-10-22T11:55:57.291Z"
   },
   {
    "duration": 11,
    "start_time": "2023-10-22T12:00:54.086Z"
   },
   {
    "duration": 3,
    "start_time": "2023-10-22T12:00:56.611Z"
   },
   {
    "duration": 142,
    "start_time": "2023-10-22T12:01:00.996Z"
   },
   {
    "duration": 7,
    "start_time": "2023-10-22T12:01:49.069Z"
   },
   {
    "duration": 32,
    "start_time": "2023-10-22T12:01:51.399Z"
   },
   {
    "duration": 29,
    "start_time": "2023-10-22T12:02:52.044Z"
   },
   {
    "duration": 8,
    "start_time": "2023-10-22T12:05:14.664Z"
   },
   {
    "duration": 13845,
    "start_time": "2023-10-22T12:05:16.463Z"
   },
   {
    "duration": 6,
    "start_time": "2023-10-22T12:09:44.163Z"
   },
   {
    "duration": 18805,
    "start_time": "2023-10-22T12:09:48.705Z"
   },
   {
    "duration": 6,
    "start_time": "2023-10-22T12:10:33.988Z"
   },
   {
    "duration": 13679,
    "start_time": "2023-10-22T12:10:37.942Z"
   },
   {
    "duration": 11643,
    "start_time": "2023-10-22T12:12:02.575Z"
   },
   {
    "duration": 6,
    "start_time": "2023-10-22T12:12:27.501Z"
   },
   {
    "duration": 14436,
    "start_time": "2023-10-22T12:12:35.771Z"
   },
   {
    "duration": 1491,
    "start_time": "2023-10-22T12:13:38.645Z"
   },
   {
    "duration": 4,
    "start_time": "2023-10-22T12:13:40.138Z"
   },
   {
    "duration": 18,
    "start_time": "2023-10-22T12:13:40.143Z"
   },
   {
    "duration": 55,
    "start_time": "2023-10-22T12:13:40.163Z"
   },
   {
    "duration": 10,
    "start_time": "2023-10-22T12:13:40.220Z"
   },
   {
    "duration": 12,
    "start_time": "2023-10-22T12:13:40.232Z"
   },
   {
    "duration": 30,
    "start_time": "2023-10-22T12:13:40.245Z"
   },
   {
    "duration": 10,
    "start_time": "2023-10-22T12:13:40.277Z"
   },
   {
    "duration": 13,
    "start_time": "2023-10-22T12:13:40.289Z"
   },
   {
    "duration": 25,
    "start_time": "2023-10-22T12:13:40.304Z"
   },
   {
    "duration": 8,
    "start_time": "2023-10-22T12:13:40.331Z"
   },
   {
    "duration": 833,
    "start_time": "2023-10-22T12:13:40.341Z"
   },
   {
    "duration": 6,
    "start_time": "2023-10-22T12:13:41.176Z"
   },
   {
    "duration": 21,
    "start_time": "2023-10-22T12:13:41.184Z"
   },
   {
    "duration": 26,
    "start_time": "2023-10-22T12:13:41.208Z"
   },
   {
    "duration": 29,
    "start_time": "2023-10-22T12:13:41.237Z"
   },
   {
    "duration": 10,
    "start_time": "2023-10-22T12:13:41.268Z"
   },
   {
    "duration": 14,
    "start_time": "2023-10-22T12:13:41.280Z"
   },
   {
    "duration": 22,
    "start_time": "2023-10-22T12:13:41.296Z"
   },
   {
    "duration": 35,
    "start_time": "2023-10-22T12:13:41.319Z"
   },
   {
    "duration": 5162,
    "start_time": "2023-10-22T12:13:41.356Z"
   },
   {
    "duration": 6797,
    "start_time": "2023-10-22T12:13:46.520Z"
   },
   {
    "duration": 24346,
    "start_time": "2023-10-22T12:13:53.319Z"
   },
   {
    "duration": 6,
    "start_time": "2023-10-22T12:15:32.433Z"
   },
   {
    "duration": 7604,
    "start_time": "2023-10-22T12:15:37.117Z"
   },
   {
    "duration": 24434,
    "start_time": "2023-10-22T12:16:15.268Z"
   },
   {
    "duration": 10,
    "start_time": "2023-10-22T12:18:07.283Z"
   },
   {
    "duration": 8647,
    "start_time": "2023-10-22T12:18:09.967Z"
   },
   {
    "duration": 6,
    "start_time": "2023-10-22T12:20:25.017Z"
   },
   {
    "duration": 129,
    "start_time": "2023-10-22T12:20:41.888Z"
   },
   {
    "duration": 7646,
    "start_time": "2023-10-22T12:21:42.362Z"
   },
   {
    "duration": 5,
    "start_time": "2023-10-22T12:21:54.072Z"
   },
   {
    "duration": 6,
    "start_time": "2023-10-22T12:22:07.381Z"
   },
   {
    "duration": 6,
    "start_time": "2023-10-22T12:22:43.759Z"
   },
   {
    "duration": 7828,
    "start_time": "2023-10-22T12:22:47.301Z"
   },
   {
    "duration": 6,
    "start_time": "2023-10-22T12:22:56.619Z"
   },
   {
    "duration": 38,
    "start_time": "2023-10-22T12:23:20.002Z"
   },
   {
    "duration": 7,
    "start_time": "2023-10-22T12:23:34.670Z"
   },
   {
    "duration": 29,
    "start_time": "2023-10-22T12:23:53.533Z"
   },
   {
    "duration": 9,
    "start_time": "2023-10-22T12:24:25.715Z"
   },
   {
    "duration": 3,
    "start_time": "2023-10-22T12:24:29.779Z"
   },
   {
    "duration": 7433,
    "start_time": "2023-10-22T12:24:32.585Z"
   },
   {
    "duration": 3,
    "start_time": "2023-10-22T12:25:18.997Z"
   },
   {
    "duration": 4,
    "start_time": "2023-10-22T12:27:02.630Z"
   },
   {
    "duration": 10,
    "start_time": "2023-10-22T12:28:07.587Z"
   },
   {
    "duration": 8069,
    "start_time": "2023-10-22T12:28:26.938Z"
   },
   {
    "duration": 6,
    "start_time": "2023-10-22T12:28:37.468Z"
   },
   {
    "duration": 7472,
    "start_time": "2023-10-22T12:28:41.938Z"
   },
   {
    "duration": 20,
    "start_time": "2023-10-22T12:29:00.638Z"
   },
   {
    "duration": 7,
    "start_time": "2023-10-22T12:29:31.174Z"
   },
   {
    "duration": 3,
    "start_time": "2023-10-22T12:29:36.762Z"
   },
   {
    "duration": 8317,
    "start_time": "2023-10-22T12:29:38.591Z"
   },
   {
    "duration": 7,
    "start_time": "2023-10-22T12:29:53.330Z"
   },
   {
    "duration": 4,
    "start_time": "2023-10-22T12:30:29.031Z"
   },
   {
    "duration": 3,
    "start_time": "2023-10-22T12:45:56.776Z"
   },
   {
    "duration": 7,
    "start_time": "2023-10-22T12:46:27.838Z"
   },
   {
    "duration": 3,
    "start_time": "2023-10-22T12:49:54.139Z"
   },
   {
    "duration": 2,
    "start_time": "2023-10-22T12:50:04.095Z"
   },
   {
    "duration": 3,
    "start_time": "2023-10-22T12:50:15.290Z"
   },
   {
    "duration": 7750,
    "start_time": "2023-10-22T12:50:45.765Z"
   },
   {
    "duration": 4,
    "start_time": "2023-10-22T12:52:52.744Z"
   },
   {
    "duration": 23566,
    "start_time": "2023-10-22T12:52:53.830Z"
   },
   {
    "duration": 9,
    "start_time": "2023-10-22T12:54:17.493Z"
   },
   {
    "duration": 4,
    "start_time": "2023-10-22T12:59:58.910Z"
   },
   {
    "duration": 1496,
    "start_time": "2023-10-22T13:03:18.105Z"
   },
   {
    "duration": 4,
    "start_time": "2023-10-22T13:03:19.603Z"
   },
   {
    "duration": 16,
    "start_time": "2023-10-22T13:03:19.609Z"
   },
   {
    "duration": 56,
    "start_time": "2023-10-22T13:03:19.626Z"
   },
   {
    "duration": 11,
    "start_time": "2023-10-22T13:03:19.685Z"
   },
   {
    "duration": 10,
    "start_time": "2023-10-22T13:03:19.697Z"
   },
   {
    "duration": 5,
    "start_time": "2023-10-22T13:03:19.708Z"
   },
   {
    "duration": 4,
    "start_time": "2023-10-22T13:03:19.715Z"
   },
   {
    "duration": 15,
    "start_time": "2023-10-22T13:03:19.721Z"
   },
   {
    "duration": 16,
    "start_time": "2023-10-22T13:03:19.738Z"
   },
   {
    "duration": 13,
    "start_time": "2023-10-22T13:03:19.756Z"
   },
   {
    "duration": 939,
    "start_time": "2023-10-22T13:03:19.771Z"
   },
   {
    "duration": 3,
    "start_time": "2023-10-22T13:03:20.711Z"
   },
   {
    "duration": 22,
    "start_time": "2023-10-22T13:03:20.717Z"
   },
   {
    "duration": 31,
    "start_time": "2023-10-22T13:03:20.741Z"
   },
   {
    "duration": 69,
    "start_time": "2023-10-22T13:03:20.774Z"
   },
   {
    "duration": 5466,
    "start_time": "2023-10-22T13:03:20.845Z"
   },
   {
    "duration": 4,
    "start_time": "2023-10-22T13:03:26.313Z"
   },
   {
    "duration": 24499,
    "start_time": "2023-10-22T13:03:26.319Z"
   },
   {
    "duration": 4,
    "start_time": "2023-10-22T13:03:50.820Z"
   },
   {
    "duration": 15,
    "start_time": "2023-10-22T13:03:50.826Z"
   },
   {
    "duration": 35,
    "start_time": "2023-10-22T13:03:50.842Z"
   },
   {
    "duration": 47,
    "start_time": "2023-10-22T13:03:50.879Z"
   },
   {
    "duration": 14,
    "start_time": "2023-10-22T13:03:50.928Z"
   },
   {
    "duration": 48,
    "start_time": "2023-10-22T13:03:50.944Z"
   },
   {
    "duration": 33,
    "start_time": "2023-10-22T13:03:50.994Z"
   },
   {
    "duration": 7780,
    "start_time": "2023-10-22T13:03:51.029Z"
   },
   {
    "duration": 11,
    "start_time": "2023-10-22T13:03:58.811Z"
   },
   {
    "duration": 118,
    "start_time": "2023-10-22T13:03:58.908Z"
   },
   {
    "duration": 0,
    "start_time": "2023-10-22T13:03:59.028Z"
   },
   {
    "duration": 0,
    "start_time": "2023-10-22T13:03:59.029Z"
   },
   {
    "duration": 3,
    "start_time": "2023-10-22T13:08:47.651Z"
   },
   {
    "duration": 1455,
    "start_time": "2023-10-22T13:15:51.952Z"
   },
   {
    "duration": 3,
    "start_time": "2023-10-22T13:15:53.409Z"
   },
   {
    "duration": 8,
    "start_time": "2023-10-22T13:15:53.414Z"
   },
   {
    "duration": 54,
    "start_time": "2023-10-22T13:15:53.423Z"
   },
   {
    "duration": 10,
    "start_time": "2023-10-22T13:15:53.479Z"
   },
   {
    "duration": 6,
    "start_time": "2023-10-22T13:15:53.490Z"
   },
   {
    "duration": 6,
    "start_time": "2023-10-22T13:15:53.497Z"
   },
   {
    "duration": 55,
    "start_time": "2023-10-22T13:15:53.504Z"
   },
   {
    "duration": 20,
    "start_time": "2023-10-22T13:15:53.561Z"
   },
   {
    "duration": 22,
    "start_time": "2023-10-22T13:15:53.582Z"
   },
   {
    "duration": 13,
    "start_time": "2023-10-22T13:15:53.606Z"
   },
   {
    "duration": 909,
    "start_time": "2023-10-22T13:15:53.621Z"
   },
   {
    "duration": 3,
    "start_time": "2023-10-22T13:15:54.531Z"
   },
   {
    "duration": 39,
    "start_time": "2023-10-22T13:15:54.537Z"
   },
   {
    "duration": 60,
    "start_time": "2023-10-22T13:15:54.578Z"
   },
   {
    "duration": 49,
    "start_time": "2023-10-22T13:15:54.639Z"
   },
   {
    "duration": 5427,
    "start_time": "2023-10-22T13:15:54.690Z"
   },
   {
    "duration": 4,
    "start_time": "2023-10-22T13:16:00.120Z"
   },
   {
    "duration": 24152,
    "start_time": "2023-10-22T13:16:00.126Z"
   },
   {
    "duration": 3,
    "start_time": "2023-10-22T13:16:24.280Z"
   },
   {
    "duration": 1404,
    "start_time": "2023-10-22T14:12:23.626Z"
   },
   {
    "duration": 2,
    "start_time": "2023-10-22T14:12:25.032Z"
   },
   {
    "duration": 18,
    "start_time": "2023-10-22T14:12:25.035Z"
   },
   {
    "duration": 61,
    "start_time": "2023-10-22T14:12:25.054Z"
   },
   {
    "duration": 10,
    "start_time": "2023-10-22T14:12:25.117Z"
   },
   {
    "duration": 11,
    "start_time": "2023-10-22T14:12:25.129Z"
   },
   {
    "duration": 25,
    "start_time": "2023-10-22T14:12:25.142Z"
   },
   {
    "duration": 30,
    "start_time": "2023-10-22T14:12:25.168Z"
   },
   {
    "duration": 24,
    "start_time": "2023-10-22T14:12:25.200Z"
   },
   {
    "duration": 40,
    "start_time": "2023-10-22T14:12:25.225Z"
   },
   {
    "duration": 29,
    "start_time": "2023-10-22T14:12:25.267Z"
   },
   {
    "duration": 951,
    "start_time": "2023-10-22T14:12:25.298Z"
   },
   {
    "duration": 3,
    "start_time": "2023-10-22T14:12:26.251Z"
   },
   {
    "duration": 5,
    "start_time": "2023-10-22T14:12:26.256Z"
   },
   {
    "duration": 8,
    "start_time": "2023-10-22T14:12:26.262Z"
   },
   {
    "duration": 11,
    "start_time": "2023-10-22T14:12:26.271Z"
   },
   {
    "duration": 5426,
    "start_time": "2023-10-22T14:12:26.283Z"
   },
   {
    "duration": 4,
    "start_time": "2023-10-22T14:12:31.712Z"
   },
   {
    "duration": 24559,
    "start_time": "2023-10-22T14:12:31.719Z"
   },
   {
    "duration": 3,
    "start_time": "2023-10-22T14:12:56.280Z"
   },
   {
    "duration": 1516,
    "start_time": "2023-10-22T14:13:08.954Z"
   },
   {
    "duration": 3,
    "start_time": "2023-10-22T14:13:10.472Z"
   },
   {
    "duration": 25,
    "start_time": "2023-10-22T14:13:10.477Z"
   },
   {
    "duration": 57,
    "start_time": "2023-10-22T14:13:10.504Z"
   },
   {
    "duration": 14,
    "start_time": "2023-10-22T14:13:10.565Z"
   },
   {
    "duration": 38,
    "start_time": "2023-10-22T14:13:10.581Z"
   },
   {
    "duration": 22,
    "start_time": "2023-10-22T14:13:10.622Z"
   },
   {
    "duration": 10,
    "start_time": "2023-10-22T14:13:10.645Z"
   },
   {
    "duration": 11,
    "start_time": "2023-10-22T14:13:10.657Z"
   },
   {
    "duration": 16,
    "start_time": "2023-10-22T14:13:10.670Z"
   },
   {
    "duration": 14,
    "start_time": "2023-10-22T14:13:10.687Z"
   },
   {
    "duration": 903,
    "start_time": "2023-10-22T14:13:10.703Z"
   },
   {
    "duration": 3,
    "start_time": "2023-10-22T14:13:11.607Z"
   },
   {
    "duration": 14,
    "start_time": "2023-10-22T14:13:11.613Z"
   },
   {
    "duration": 25,
    "start_time": "2023-10-22T14:13:11.629Z"
   },
   {
    "duration": 172,
    "start_time": "2023-10-22T14:13:11.656Z"
   },
   {
    "duration": 5987,
    "start_time": "2023-10-22T14:13:11.829Z"
   },
   {
    "duration": 88,
    "start_time": "2023-10-22T14:13:17.823Z"
   },
   {
    "duration": 24210,
    "start_time": "2023-10-22T14:13:17.914Z"
   },
   {
    "duration": 3,
    "start_time": "2023-10-22T14:13:42.126Z"
   },
   {
    "duration": 1516,
    "start_time": "2023-10-22T14:17:48.110Z"
   },
   {
    "duration": 3,
    "start_time": "2023-10-22T14:17:49.628Z"
   },
   {
    "duration": 10,
    "start_time": "2023-10-22T14:17:49.632Z"
   },
   {
    "duration": 53,
    "start_time": "2023-10-22T14:17:49.644Z"
   },
   {
    "duration": 10,
    "start_time": "2023-10-22T14:17:49.699Z"
   },
   {
    "duration": 8,
    "start_time": "2023-10-22T14:17:49.710Z"
   },
   {
    "duration": 12,
    "start_time": "2023-10-22T14:17:49.719Z"
   },
   {
    "duration": 5,
    "start_time": "2023-10-22T14:17:49.733Z"
   },
   {
    "duration": 5,
    "start_time": "2023-10-22T14:17:49.740Z"
   },
   {
    "duration": 19,
    "start_time": "2023-10-22T14:17:49.747Z"
   },
   {
    "duration": 4,
    "start_time": "2023-10-22T14:17:49.768Z"
   },
   {
    "duration": 940,
    "start_time": "2023-10-22T14:17:49.774Z"
   },
   {
    "duration": 2,
    "start_time": "2023-10-22T14:17:50.716Z"
   },
   {
    "duration": 24,
    "start_time": "2023-10-22T14:17:50.720Z"
   },
   {
    "duration": 24,
    "start_time": "2023-10-22T14:17:50.746Z"
   },
   {
    "duration": 40,
    "start_time": "2023-10-22T14:17:50.771Z"
   },
   {
    "duration": 5805,
    "start_time": "2023-10-22T14:17:50.812Z"
   },
   {
    "duration": 86,
    "start_time": "2023-10-22T14:17:56.620Z"
   },
   {
    "duration": 24231,
    "start_time": "2023-10-22T14:17:56.710Z"
   },
   {
    "duration": 3,
    "start_time": "2023-10-22T14:18:20.942Z"
   },
   {
    "duration": 1595,
    "start_time": "2023-10-22T14:47:22.198Z"
   },
   {
    "duration": 2,
    "start_time": "2023-10-22T14:47:23.795Z"
   },
   {
    "duration": 13,
    "start_time": "2023-10-22T14:47:23.799Z"
   },
   {
    "duration": 85,
    "start_time": "2023-10-22T14:47:23.815Z"
   },
   {
    "duration": 12,
    "start_time": "2023-10-22T14:47:23.902Z"
   },
   {
    "duration": 46,
    "start_time": "2023-10-22T14:47:23.915Z"
   },
   {
    "duration": 38,
    "start_time": "2023-10-22T14:47:23.962Z"
   },
   {
    "duration": 23,
    "start_time": "2023-10-22T14:47:24.002Z"
   },
   {
    "duration": 10,
    "start_time": "2023-10-22T14:47:24.027Z"
   },
   {
    "duration": 44,
    "start_time": "2023-10-22T14:47:24.039Z"
   },
   {
    "duration": 3,
    "start_time": "2023-10-22T14:47:24.085Z"
   },
   {
    "duration": 908,
    "start_time": "2023-10-22T14:47:24.090Z"
   },
   {
    "duration": 3,
    "start_time": "2023-10-22T14:47:24.999Z"
   },
   {
    "duration": 9,
    "start_time": "2023-10-22T14:47:25.003Z"
   },
   {
    "duration": 19,
    "start_time": "2023-10-22T14:47:25.014Z"
   },
   {
    "duration": 13,
    "start_time": "2023-10-22T14:47:25.034Z"
   },
   {
    "duration": 4866,
    "start_time": "2023-10-22T14:47:25.049Z"
   },
   {
    "duration": 6,
    "start_time": "2023-10-22T14:47:29.919Z"
   },
   {
    "duration": 24375,
    "start_time": "2023-10-22T14:47:30.012Z"
   },
   {
    "duration": 3,
    "start_time": "2023-10-22T14:47:54.389Z"
   },
   {
    "duration": 1675,
    "start_time": "2023-10-22T14:54:29.277Z"
   },
   {
    "duration": 4,
    "start_time": "2023-10-22T14:54:30.954Z"
   },
   {
    "duration": 42,
    "start_time": "2023-10-22T14:54:30.960Z"
   },
   {
    "duration": 152,
    "start_time": "2023-10-22T14:54:31.004Z"
   },
   {
    "duration": 12,
    "start_time": "2023-10-22T14:54:31.158Z"
   },
   {
    "duration": 49,
    "start_time": "2023-10-22T14:54:31.171Z"
   },
   {
    "duration": 42,
    "start_time": "2023-10-22T14:54:31.223Z"
   },
   {
    "duration": 54,
    "start_time": "2023-10-22T14:54:31.267Z"
   },
   {
    "duration": 48,
    "start_time": "2023-10-22T14:54:31.324Z"
   },
   {
    "duration": 74,
    "start_time": "2023-10-22T14:54:31.374Z"
   },
   {
    "duration": 44,
    "start_time": "2023-10-22T14:54:31.450Z"
   },
   {
    "duration": 1058,
    "start_time": "2023-10-22T14:54:31.496Z"
   },
   {
    "duration": 3,
    "start_time": "2023-10-22T14:54:32.556Z"
   },
   {
    "duration": 4,
    "start_time": "2023-10-22T14:54:32.563Z"
   },
   {
    "duration": 7,
    "start_time": "2023-10-22T14:54:32.569Z"
   },
   {
    "duration": 26,
    "start_time": "2023-10-22T14:54:32.577Z"
   },
   {
    "duration": 5309,
    "start_time": "2023-10-22T14:54:32.604Z"
   },
   {
    "duration": 7,
    "start_time": "2023-10-22T14:54:37.922Z"
   },
   {
    "duration": 26312,
    "start_time": "2023-10-22T14:54:37.936Z"
   },
   {
    "duration": 4,
    "start_time": "2023-10-22T14:55:04.250Z"
   },
   {
    "duration": 1886,
    "start_time": "2023-10-22T15:09:58.285Z"
   },
   {
    "duration": 3,
    "start_time": "2023-10-22T15:10:00.175Z"
   },
   {
    "duration": 117,
    "start_time": "2023-10-22T15:10:00.179Z"
   },
   {
    "duration": 98,
    "start_time": "2023-10-22T15:10:00.298Z"
   },
   {
    "duration": 26,
    "start_time": "2023-10-22T15:10:00.399Z"
   },
   {
    "duration": 105,
    "start_time": "2023-10-22T15:10:00.428Z"
   },
   {
    "duration": 34,
    "start_time": "2023-10-22T15:10:00.536Z"
   },
   {
    "duration": 27,
    "start_time": "2023-10-22T15:10:00.572Z"
   },
   {
    "duration": 46,
    "start_time": "2023-10-22T15:10:00.601Z"
   },
   {
    "duration": 80,
    "start_time": "2023-10-22T15:10:00.649Z"
   },
   {
    "duration": 93,
    "start_time": "2023-10-22T15:10:00.731Z"
   },
   {
    "duration": 1168,
    "start_time": "2023-10-22T15:10:00.826Z"
   },
   {
    "duration": 3,
    "start_time": "2023-10-22T15:10:01.997Z"
   },
   {
    "duration": 35,
    "start_time": "2023-10-22T15:10:02.004Z"
   },
   {
    "duration": 39,
    "start_time": "2023-10-22T15:10:02.042Z"
   },
   {
    "duration": 67,
    "start_time": "2023-10-22T15:10:02.083Z"
   },
   {
    "duration": 5379,
    "start_time": "2023-10-22T15:10:02.152Z"
   },
   {
    "duration": 74,
    "start_time": "2023-10-22T15:10:07.535Z"
   },
   {
    "duration": 26671,
    "start_time": "2023-10-22T15:10:07.612Z"
   },
   {
    "duration": 21,
    "start_time": "2023-10-22T15:10:34.290Z"
   },
   {
    "duration": 24,
    "start_time": "2023-10-22T15:10:34.320Z"
   },
   {
    "duration": 22,
    "start_time": "2023-10-22T15:10:34.347Z"
   },
   {
    "duration": 8,
    "start_time": "2023-10-22T15:10:34.372Z"
   },
   {
    "duration": 3,
    "start_time": "2023-10-22T15:13:21.150Z"
   },
   {
    "duration": 9,
    "start_time": "2023-10-22T15:20:09.826Z"
   },
   {
    "duration": 32,
    "start_time": "2023-10-22T15:20:15.526Z"
   },
   {
    "duration": 26,
    "start_time": "2023-10-22T15:20:32.340Z"
   },
   {
    "duration": 4,
    "start_time": "2023-10-22T15:22:19.016Z"
   },
   {
    "duration": 1602,
    "start_time": "2023-10-22T15:22:24.259Z"
   },
   {
    "duration": 2,
    "start_time": "2023-10-22T15:22:25.864Z"
   },
   {
    "duration": 11,
    "start_time": "2023-10-22T15:22:25.868Z"
   },
   {
    "duration": 61,
    "start_time": "2023-10-22T15:22:25.881Z"
   },
   {
    "duration": 3,
    "start_time": "2023-10-22T15:22:25.945Z"
   },
   {
    "duration": 13,
    "start_time": "2023-10-22T15:22:25.950Z"
   },
   {
    "duration": 7,
    "start_time": "2023-10-22T15:22:25.965Z"
   },
   {
    "duration": 13,
    "start_time": "2023-10-22T15:22:25.973Z"
   },
   {
    "duration": 21,
    "start_time": "2023-10-22T15:22:25.989Z"
   },
   {
    "duration": 11,
    "start_time": "2023-10-22T15:22:26.011Z"
   },
   {
    "duration": 19,
    "start_time": "2023-10-22T15:22:26.024Z"
   },
   {
    "duration": 4,
    "start_time": "2023-10-22T15:22:26.045Z"
   },
   {
    "duration": 943,
    "start_time": "2023-10-22T15:22:26.051Z"
   },
   {
    "duration": 3,
    "start_time": "2023-10-22T15:22:26.998Z"
   },
   {
    "duration": 11,
    "start_time": "2023-10-22T15:22:27.002Z"
   },
   {
    "duration": 11,
    "start_time": "2023-10-22T15:22:27.015Z"
   },
   {
    "duration": 14,
    "start_time": "2023-10-22T15:22:27.028Z"
   },
   {
    "duration": 5566,
    "start_time": "2023-10-22T15:22:27.043Z"
   },
   {
    "duration": 14,
    "start_time": "2023-10-22T15:22:32.618Z"
   },
   {
    "duration": 26652,
    "start_time": "2023-10-22T15:22:32.708Z"
   },
   {
    "duration": 3,
    "start_time": "2023-10-22T15:22:59.362Z"
   },
   {
    "duration": 13,
    "start_time": "2023-10-22T15:22:59.367Z"
   },
   {
    "duration": 14,
    "start_time": "2023-10-22T15:22:59.382Z"
   },
   {
    "duration": 47,
    "start_time": "2023-10-22T15:22:59.399Z"
   },
   {
    "duration": 3,
    "start_time": "2023-10-22T15:22:59.448Z"
   },
   {
    "duration": 58,
    "start_time": "2023-10-22T15:22:59.454Z"
   },
   {
    "duration": 5,
    "start_time": "2023-10-22T15:22:59.514Z"
   },
   {
    "duration": 4,
    "start_time": "2023-10-22T15:22:59.521Z"
   },
   {
    "duration": 40,
    "start_time": "2023-10-22T15:23:08.606Z"
   },
   {
    "duration": 28,
    "start_time": "2023-10-22T15:23:16.733Z"
   },
   {
    "duration": 11,
    "start_time": "2023-10-22T15:24:08.219Z"
   },
   {
    "duration": 4,
    "start_time": "2023-10-22T15:24:10.597Z"
   },
   {
    "duration": 8239,
    "start_time": "2023-10-22T15:24:11.388Z"
   },
   {
    "duration": 8791,
    "start_time": "2023-10-22T15:24:35.635Z"
   },
   {
    "duration": 38,
    "start_time": "2023-10-22T15:24:48.334Z"
   },
   {
    "duration": 1746,
    "start_time": "2023-10-22T15:24:54.898Z"
   },
   {
    "duration": 3,
    "start_time": "2023-10-22T15:24:56.647Z"
   },
   {
    "duration": 11,
    "start_time": "2023-10-22T15:24:56.652Z"
   },
   {
    "duration": 74,
    "start_time": "2023-10-22T15:24:56.664Z"
   },
   {
    "duration": 2,
    "start_time": "2023-10-22T15:24:56.741Z"
   },
   {
    "duration": 26,
    "start_time": "2023-10-22T15:24:56.745Z"
   },
   {
    "duration": 13,
    "start_time": "2023-10-22T15:24:56.772Z"
   },
   {
    "duration": 29,
    "start_time": "2023-10-22T15:24:56.786Z"
   },
   {
    "duration": 28,
    "start_time": "2023-10-22T15:24:56.817Z"
   },
   {
    "duration": 5,
    "start_time": "2023-10-22T15:24:56.847Z"
   },
   {
    "duration": 14,
    "start_time": "2023-10-22T15:24:56.854Z"
   },
   {
    "duration": 3,
    "start_time": "2023-10-22T15:24:56.870Z"
   },
   {
    "duration": 999,
    "start_time": "2023-10-22T15:24:56.875Z"
   },
   {
    "duration": 3,
    "start_time": "2023-10-22T15:24:57.876Z"
   },
   {
    "duration": 5,
    "start_time": "2023-10-22T15:24:57.881Z"
   },
   {
    "duration": 7,
    "start_time": "2023-10-22T15:24:57.888Z"
   },
   {
    "duration": 6,
    "start_time": "2023-10-22T15:24:57.897Z"
   },
   {
    "duration": 5612,
    "start_time": "2023-10-22T15:24:57.904Z"
   },
   {
    "duration": 118,
    "start_time": "2023-10-22T15:25:03.524Z"
   },
   {
    "duration": 65,
    "start_time": "2023-10-22T15:25:03.644Z"
   },
   {
    "duration": 25499,
    "start_time": "2023-10-22T15:25:03.712Z"
   },
   {
    "duration": 6,
    "start_time": "2023-10-22T15:25:29.214Z"
   },
   {
    "duration": 24,
    "start_time": "2023-10-22T15:25:29.222Z"
   },
   {
    "duration": 19,
    "start_time": "2023-10-22T15:25:29.248Z"
   },
   {
    "duration": 54,
    "start_time": "2023-10-22T15:25:29.269Z"
   },
   {
    "duration": 21,
    "start_time": "2023-10-22T15:25:29.326Z"
   },
   {
    "duration": 39,
    "start_time": "2023-10-22T15:25:29.348Z"
   },
   {
    "duration": 6,
    "start_time": "2023-10-22T15:25:29.389Z"
   },
   {
    "duration": 7,
    "start_time": "2023-10-22T15:25:29.397Z"
   },
   {
    "duration": 45,
    "start_time": "2023-10-22T15:25:29.416Z"
   },
   {
    "duration": 10,
    "start_time": "2023-10-22T15:26:04.952Z"
   },
   {
    "duration": 2,
    "start_time": "2023-10-22T15:26:07.597Z"
   },
   {
    "duration": 594,
    "start_time": "2023-10-22T15:26:08.845Z"
   },
   {
    "duration": 1663,
    "start_time": "2023-10-22T15:26:17.359Z"
   },
   {
    "duration": 4,
    "start_time": "2023-10-22T15:26:19.025Z"
   },
   {
    "duration": 7,
    "start_time": "2023-10-22T15:26:19.033Z"
   },
   {
    "duration": 52,
    "start_time": "2023-10-22T15:26:19.041Z"
   },
   {
    "duration": 3,
    "start_time": "2023-10-22T15:26:19.095Z"
   },
   {
    "duration": 16,
    "start_time": "2023-10-22T15:26:19.099Z"
   },
   {
    "duration": 12,
    "start_time": "2023-10-22T15:26:19.117Z"
   },
   {
    "duration": 5,
    "start_time": "2023-10-22T15:26:19.131Z"
   },
   {
    "duration": 5,
    "start_time": "2023-10-22T15:26:19.138Z"
   },
   {
    "duration": 9,
    "start_time": "2023-10-22T15:26:19.145Z"
   },
   {
    "duration": 16,
    "start_time": "2023-10-22T15:26:19.156Z"
   },
   {
    "duration": 15,
    "start_time": "2023-10-22T15:26:19.174Z"
   },
   {
    "duration": 980,
    "start_time": "2023-10-22T15:26:19.190Z"
   },
   {
    "duration": 3,
    "start_time": "2023-10-22T15:26:20.173Z"
   },
   {
    "duration": 14,
    "start_time": "2023-10-22T15:26:20.178Z"
   },
   {
    "duration": 10,
    "start_time": "2023-10-22T15:26:20.194Z"
   },
   {
    "duration": 37,
    "start_time": "2023-10-22T15:26:20.205Z"
   },
   {
    "duration": 43,
    "start_time": "2023-10-22T15:26:20.244Z"
   },
   {
    "duration": 13,
    "start_time": "2023-10-22T15:26:20.288Z"
   },
   {
    "duration": 26,
    "start_time": "2023-10-22T15:26:20.302Z"
   },
   {
    "duration": 901,
    "start_time": "2023-10-22T15:26:20.330Z"
   },
   {
    "duration": 15,
    "start_time": "2023-10-22T15:26:21.233Z"
   },
   {
    "duration": 10,
    "start_time": "2023-10-22T15:26:21.250Z"
   },
   {
    "duration": 7,
    "start_time": "2023-10-22T15:26:21.262Z"
   },
   {
    "duration": 8,
    "start_time": "2023-10-22T15:26:21.271Z"
   },
   {
    "duration": 35,
    "start_time": "2023-10-22T15:26:21.281Z"
   },
   {
    "duration": 7,
    "start_time": "2023-10-22T15:26:21.318Z"
   },
   {
    "duration": 19,
    "start_time": "2023-10-22T15:26:21.327Z"
   },
   {
    "duration": 10,
    "start_time": "2023-10-22T15:26:21.348Z"
   },
   {
    "duration": 7,
    "start_time": "2023-10-22T15:26:21.360Z"
   },
   {
    "duration": 9,
    "start_time": "2023-10-22T15:28:27.107Z"
   },
   {
    "duration": 1645,
    "start_time": "2023-10-22T15:28:57.384Z"
   },
   {
    "duration": 3,
    "start_time": "2023-10-22T15:28:59.032Z"
   },
   {
    "duration": 18,
    "start_time": "2023-10-22T15:28:59.037Z"
   },
   {
    "duration": 55,
    "start_time": "2023-10-22T15:28:59.058Z"
   },
   {
    "duration": 3,
    "start_time": "2023-10-22T15:28:59.115Z"
   },
   {
    "duration": 23,
    "start_time": "2023-10-22T15:28:59.120Z"
   },
   {
    "duration": 6,
    "start_time": "2023-10-22T15:28:59.144Z"
   },
   {
    "duration": 8,
    "start_time": "2023-10-22T15:28:59.152Z"
   },
   {
    "duration": 10,
    "start_time": "2023-10-22T15:28:59.162Z"
   },
   {
    "duration": 5,
    "start_time": "2023-10-22T15:28:59.174Z"
   },
   {
    "duration": 16,
    "start_time": "2023-10-22T15:28:59.180Z"
   },
   {
    "duration": 11,
    "start_time": "2023-10-22T15:28:59.198Z"
   },
   {
    "duration": 899,
    "start_time": "2023-10-22T15:28:59.210Z"
   },
   {
    "duration": 2,
    "start_time": "2023-10-22T15:29:00.113Z"
   },
   {
    "duration": 48,
    "start_time": "2023-10-22T15:29:00.117Z"
   },
   {
    "duration": 42,
    "start_time": "2023-10-22T15:29:00.166Z"
   },
   {
    "duration": 23,
    "start_time": "2023-10-22T15:29:00.211Z"
   },
   {
    "duration": 4873,
    "start_time": "2023-10-22T15:29:00.236Z"
   },
   {
    "duration": 115,
    "start_time": "2023-10-22T15:29:05.112Z"
   },
   {
    "duration": 25,
    "start_time": "2023-10-22T15:29:05.229Z"
   },
   {
    "duration": 24064,
    "start_time": "2023-10-22T15:29:05.256Z"
   },
   {
    "duration": 26,
    "start_time": "2023-10-22T15:29:29.322Z"
   },
   {
    "duration": 8,
    "start_time": "2023-10-22T15:29:29.350Z"
   },
   {
    "duration": 4,
    "start_time": "2023-10-22T15:29:29.359Z"
   },
   {
    "duration": 18,
    "start_time": "2023-10-22T15:29:29.364Z"
   },
   {
    "duration": 35,
    "start_time": "2023-10-22T15:29:29.384Z"
   },
   {
    "duration": 3,
    "start_time": "2023-10-22T15:29:29.421Z"
   },
   {
    "duration": 32,
    "start_time": "2023-10-22T15:29:29.425Z"
   },
   {
    "duration": 6,
    "start_time": "2023-10-22T15:29:29.459Z"
   },
   {
    "duration": 5,
    "start_time": "2023-10-22T15:29:29.467Z"
   },
   {
    "duration": 6,
    "start_time": "2023-10-22T15:30:46.432Z"
   },
   {
    "duration": 3,
    "start_time": "2023-10-22T15:30:47.596Z"
   },
   {
    "duration": 8143,
    "start_time": "2023-10-22T15:30:48.176Z"
   },
   {
    "duration": 43,
    "start_time": "2023-10-22T15:31:10.799Z"
   },
   {
    "duration": 4,
    "start_time": "2023-10-22T15:31:19.378Z"
   },
   {
    "duration": 40,
    "start_time": "2023-10-22T15:31:25.632Z"
   },
   {
    "duration": 6,
    "start_time": "2023-10-22T15:31:40.112Z"
   },
   {
    "duration": 1446,
    "start_time": "2023-10-22T15:31:44.321Z"
   },
   {
    "duration": 3,
    "start_time": "2023-10-22T15:31:45.769Z"
   },
   {
    "duration": 31,
    "start_time": "2023-10-22T15:31:45.773Z"
   },
   {
    "duration": 61,
    "start_time": "2023-10-22T15:31:45.806Z"
   },
   {
    "duration": 3,
    "start_time": "2023-10-22T15:31:45.869Z"
   },
   {
    "duration": 13,
    "start_time": "2023-10-22T15:31:45.873Z"
   },
   {
    "duration": 8,
    "start_time": "2023-10-22T15:31:45.887Z"
   },
   {
    "duration": 9,
    "start_time": "2023-10-22T15:31:45.896Z"
   },
   {
    "duration": 4,
    "start_time": "2023-10-22T15:31:45.907Z"
   },
   {
    "duration": 5,
    "start_time": "2023-10-22T15:31:45.912Z"
   },
   {
    "duration": 24,
    "start_time": "2023-10-22T15:31:45.919Z"
   },
   {
    "duration": 5,
    "start_time": "2023-10-22T15:31:45.945Z"
   },
   {
    "duration": 890,
    "start_time": "2023-10-22T15:31:45.952Z"
   },
   {
    "duration": 2,
    "start_time": "2023-10-22T15:31:46.847Z"
   },
   {
    "duration": 16,
    "start_time": "2023-10-22T15:31:46.851Z"
   },
   {
    "duration": 10,
    "start_time": "2023-10-22T15:31:46.870Z"
   },
   {
    "duration": 14,
    "start_time": "2023-10-22T15:31:46.883Z"
   },
   {
    "duration": 143,
    "start_time": "2023-10-22T15:31:46.901Z"
   },
   {
    "duration": 0,
    "start_time": "2023-10-22T15:31:47.046Z"
   },
   {
    "duration": 0,
    "start_time": "2023-10-22T15:31:47.049Z"
   },
   {
    "duration": 0,
    "start_time": "2023-10-22T15:31:47.050Z"
   },
   {
    "duration": 0,
    "start_time": "2023-10-22T15:31:47.052Z"
   },
   {
    "duration": 0,
    "start_time": "2023-10-22T15:31:47.053Z"
   },
   {
    "duration": 0,
    "start_time": "2023-10-22T15:31:47.055Z"
   },
   {
    "duration": 0,
    "start_time": "2023-10-22T15:31:47.056Z"
   },
   {
    "duration": 0,
    "start_time": "2023-10-22T15:31:47.058Z"
   },
   {
    "duration": 0,
    "start_time": "2023-10-22T15:31:47.059Z"
   },
   {
    "duration": 0,
    "start_time": "2023-10-22T15:31:47.060Z"
   },
   {
    "duration": 0,
    "start_time": "2023-10-22T15:31:47.062Z"
   },
   {
    "duration": 0,
    "start_time": "2023-10-22T15:31:47.063Z"
   },
   {
    "duration": 6,
    "start_time": "2023-10-22T15:32:01.433Z"
   },
   {
    "duration": 3,
    "start_time": "2023-10-22T15:32:06.099Z"
   },
   {
    "duration": 4705,
    "start_time": "2023-10-22T15:32:07.813Z"
   },
   {
    "duration": 38,
    "start_time": "2023-10-22T15:32:28.412Z"
   },
   {
    "duration": 6,
    "start_time": "2023-10-22T15:32:32.595Z"
   },
   {
    "duration": 4,
    "start_time": "2023-10-22T15:32:38.023Z"
   },
   {
    "duration": 24580,
    "start_time": "2023-10-22T15:32:45.388Z"
   },
   {
    "duration": 5,
    "start_time": "2023-10-22T15:33:43.964Z"
   },
   {
    "duration": 30,
    "start_time": "2023-10-22T15:33:49.586Z"
   },
   {
    "duration": 30,
    "start_time": "2023-10-22T15:34:25.418Z"
   },
   {
    "duration": 26,
    "start_time": "2023-10-22T15:34:28.019Z"
   },
   {
    "duration": 4,
    "start_time": "2023-10-22T15:34:38.033Z"
   },
   {
    "duration": 16,
    "start_time": "2023-10-22T15:34:47.703Z"
   },
   {
    "duration": 3,
    "start_time": "2023-10-22T15:39:17.802Z"
   },
   {
    "duration": 1427,
    "start_time": "2023-10-22T15:56:13.068Z"
   },
   {
    "duration": 3,
    "start_time": "2023-10-22T15:56:14.497Z"
   },
   {
    "duration": 15,
    "start_time": "2023-10-22T15:56:14.507Z"
   },
   {
    "duration": 55,
    "start_time": "2023-10-22T15:56:14.523Z"
   },
   {
    "duration": 3,
    "start_time": "2023-10-22T15:56:14.581Z"
   },
   {
    "duration": 11,
    "start_time": "2023-10-22T15:56:14.585Z"
   },
   {
    "duration": 5,
    "start_time": "2023-10-22T15:56:14.597Z"
   },
   {
    "duration": 9,
    "start_time": "2023-10-22T15:56:14.604Z"
   },
   {
    "duration": 8,
    "start_time": "2023-10-22T15:56:14.614Z"
   },
   {
    "duration": 13,
    "start_time": "2023-10-22T15:56:14.624Z"
   },
   {
    "duration": 21,
    "start_time": "2023-10-22T15:56:14.639Z"
   },
   {
    "duration": 3,
    "start_time": "2023-10-22T15:56:14.662Z"
   },
   {
    "duration": 832,
    "start_time": "2023-10-22T15:56:14.666Z"
   },
   {
    "duration": 2,
    "start_time": "2023-10-22T15:56:15.500Z"
   },
   {
    "duration": 7,
    "start_time": "2023-10-22T15:56:15.504Z"
   },
   {
    "duration": 14,
    "start_time": "2023-10-22T15:56:15.512Z"
   },
   {
    "duration": 12,
    "start_time": "2023-10-22T15:56:15.528Z"
   },
   {
    "duration": 4765,
    "start_time": "2023-10-22T15:56:15.542Z"
   },
   {
    "duration": 5,
    "start_time": "2023-10-22T15:56:20.310Z"
   },
   {
    "duration": 107,
    "start_time": "2023-10-22T15:56:20.317Z"
   },
   {
    "duration": 13,
    "start_time": "2023-10-22T15:56:20.426Z"
   },
   {
    "duration": 23530,
    "start_time": "2023-10-22T15:56:20.440Z"
   },
   {
    "duration": 4,
    "start_time": "2023-10-22T15:56:43.972Z"
   },
   {
    "duration": 41,
    "start_time": "2023-10-22T15:56:43.977Z"
   },
   {
    "duration": 23,
    "start_time": "2023-10-22T15:56:44.020Z"
   },
   {
    "duration": 20,
    "start_time": "2023-10-22T15:56:44.045Z"
   },
   {
    "duration": 36,
    "start_time": "2023-10-22T15:56:44.067Z"
   },
   {
    "duration": 15,
    "start_time": "2023-10-22T15:56:44.105Z"
   },
   {
    "duration": 9,
    "start_time": "2023-10-22T15:56:44.121Z"
   },
   {
    "duration": 40,
    "start_time": "2023-10-22T15:56:44.132Z"
   },
   {
    "duration": 12,
    "start_time": "2023-10-22T15:56:44.173Z"
   },
   {
    "duration": 17,
    "start_time": "2023-10-22T15:56:44.187Z"
   },
   {
    "duration": 6,
    "start_time": "2023-10-22T15:57:41.571Z"
   },
   {
    "duration": 10,
    "start_time": "2023-10-22T16:08:20.404Z"
   },
   {
    "duration": 4,
    "start_time": "2023-10-22T16:08:35.923Z"
   },
   {
    "duration": 7,
    "start_time": "2023-10-22T16:08:53.145Z"
   },
   {
    "duration": 3,
    "start_time": "2023-10-22T16:08:58.878Z"
   },
   {
    "duration": 8020,
    "start_time": "2023-10-22T16:08:59.705Z"
   },
   {
    "duration": 0,
    "start_time": "2023-10-22T16:09:07.727Z"
   },
   {
    "duration": 7,
    "start_time": "2023-10-22T16:09:32.434Z"
   },
   {
    "duration": 7127,
    "start_time": "2023-10-22T16:09:42.181Z"
   },
   {
    "duration": 10,
    "start_time": "2023-10-22T16:12:32.106Z"
   },
   {
    "duration": 2,
    "start_time": "2023-10-22T16:12:34.386Z"
   },
   {
    "duration": 7770,
    "start_time": "2023-10-22T16:12:35.541Z"
   },
   {
    "duration": 1531,
    "start_time": "2023-10-22T16:13:29.079Z"
   },
   {
    "duration": 3,
    "start_time": "2023-10-22T16:13:30.612Z"
   },
   {
    "duration": 37,
    "start_time": "2023-10-22T16:13:30.617Z"
   },
   {
    "duration": 84,
    "start_time": "2023-10-22T16:13:30.656Z"
   },
   {
    "duration": 17,
    "start_time": "2023-10-22T16:13:30.742Z"
   },
   {
    "duration": 53,
    "start_time": "2023-10-22T16:13:30.761Z"
   },
   {
    "duration": 44,
    "start_time": "2023-10-22T16:13:30.817Z"
   },
   {
    "duration": 42,
    "start_time": "2023-10-22T16:13:30.864Z"
   },
   {
    "duration": 55,
    "start_time": "2023-10-22T16:13:30.908Z"
   },
   {
    "duration": 54,
    "start_time": "2023-10-22T16:13:30.965Z"
   },
   {
    "duration": 82,
    "start_time": "2023-10-22T16:13:31.021Z"
   },
   {
    "duration": 33,
    "start_time": "2023-10-22T16:13:31.105Z"
   },
   {
    "duration": 966,
    "start_time": "2023-10-22T16:13:31.140Z"
   },
   {
    "duration": 3,
    "start_time": "2023-10-22T16:13:32.109Z"
   },
   {
    "duration": 32,
    "start_time": "2023-10-22T16:13:32.114Z"
   },
   {
    "duration": 24,
    "start_time": "2023-10-22T16:13:32.148Z"
   },
   {
    "duration": 11,
    "start_time": "2023-10-22T16:13:32.173Z"
   },
   {
    "duration": 5721,
    "start_time": "2023-10-22T16:13:32.186Z"
   },
   {
    "duration": 8,
    "start_time": "2023-10-22T16:13:37.917Z"
   },
   {
    "duration": 53,
    "start_time": "2023-10-22T16:13:38.006Z"
   },
   {
    "duration": 19,
    "start_time": "2023-10-22T16:13:38.061Z"
   },
   {
    "duration": 25215,
    "start_time": "2023-10-22T16:13:38.083Z"
   },
   {
    "duration": 16,
    "start_time": "2023-10-22T16:14:03.299Z"
   },
   {
    "duration": 20,
    "start_time": "2023-10-22T16:14:03.316Z"
   },
   {
    "duration": 5,
    "start_time": "2023-10-22T16:14:03.338Z"
   },
   {
    "duration": 5,
    "start_time": "2023-10-22T16:14:03.344Z"
   },
   {
    "duration": 19,
    "start_time": "2023-10-22T16:14:03.350Z"
   },
   {
    "duration": 14,
    "start_time": "2023-10-22T16:14:03.370Z"
   },
   {
    "duration": 26,
    "start_time": "2023-10-22T16:14:03.385Z"
   },
   {
    "duration": 73,
    "start_time": "2023-10-22T16:14:03.413Z"
   },
   {
    "duration": 31,
    "start_time": "2023-10-22T16:14:03.488Z"
   },
   {
    "duration": 8,
    "start_time": "2023-10-22T16:14:03.523Z"
   },
   {
    "duration": 11,
    "start_time": "2023-10-22T16:17:31.436Z"
   },
   {
    "duration": 123,
    "start_time": "2023-10-22T16:18:48.568Z"
   },
   {
    "duration": 4,
    "start_time": "2023-10-22T16:19:09.758Z"
   },
   {
    "duration": 18,
    "start_time": "2023-10-22T16:20:09.996Z"
   },
   {
    "duration": 121,
    "start_time": "2023-10-22T16:21:13.323Z"
   },
   {
    "duration": 6,
    "start_time": "2023-10-22T16:21:18.334Z"
   },
   {
    "duration": 10,
    "start_time": "2023-10-22T16:21:47.375Z"
   },
   {
    "duration": 7,
    "start_time": "2023-10-22T16:22:00.399Z"
   },
   {
    "duration": 151167,
    "start_time": "2023-10-22T16:22:15.355Z"
   },
   {
    "duration": 35,
    "start_time": "2023-10-22T16:28:48.603Z"
   },
   {
    "duration": 19,
    "start_time": "2023-10-22T16:29:18.318Z"
   },
   {
    "duration": 17,
    "start_time": "2023-10-22T16:30:51.715Z"
   },
   {
    "duration": 17,
    "start_time": "2023-10-22T16:30:57.913Z"
   },
   {
    "duration": 14,
    "start_time": "2023-10-22T16:31:08.683Z"
   },
   {
    "duration": 6,
    "start_time": "2023-10-22T16:31:13.078Z"
   },
   {
    "duration": 1942,
    "start_time": "2023-10-22T16:31:29.909Z"
   },
   {
    "duration": 3,
    "start_time": "2023-10-22T16:31:31.852Z"
   },
   {
    "duration": 32,
    "start_time": "2023-10-22T16:31:31.857Z"
   },
   {
    "duration": 85,
    "start_time": "2023-10-22T16:31:31.891Z"
   },
   {
    "duration": 3,
    "start_time": "2023-10-22T16:31:31.978Z"
   },
   {
    "duration": 61,
    "start_time": "2023-10-22T16:31:31.983Z"
   },
   {
    "duration": 50,
    "start_time": "2023-10-22T16:31:32.046Z"
   },
   {
    "duration": 31,
    "start_time": "2023-10-22T16:31:32.098Z"
   },
   {
    "duration": 29,
    "start_time": "2023-10-22T16:31:32.130Z"
   },
   {
    "duration": 10,
    "start_time": "2023-10-22T16:31:32.160Z"
   },
   {
    "duration": 40,
    "start_time": "2023-10-22T16:31:32.172Z"
   },
   {
    "duration": 13,
    "start_time": "2023-10-22T16:31:32.214Z"
   },
   {
    "duration": 873,
    "start_time": "2023-10-22T16:31:32.229Z"
   },
   {
    "duration": 3,
    "start_time": "2023-10-22T16:31:33.104Z"
   },
   {
    "duration": 54,
    "start_time": "2023-10-22T16:31:33.108Z"
   },
   {
    "duration": 39,
    "start_time": "2023-10-22T16:31:33.164Z"
   },
   {
    "duration": 65,
    "start_time": "2023-10-22T16:31:33.205Z"
   },
   {
    "duration": 5461,
    "start_time": "2023-10-22T16:31:33.271Z"
   },
   {
    "duration": 84,
    "start_time": "2023-10-22T16:31:38.734Z"
   },
   {
    "duration": 92,
    "start_time": "2023-10-22T16:31:38.821Z"
   },
   {
    "duration": 25355,
    "start_time": "2023-10-22T16:31:38.915Z"
   },
   {
    "duration": 3,
    "start_time": "2023-10-22T16:32:04.272Z"
   },
   {
    "duration": 6,
    "start_time": "2023-10-22T16:32:04.277Z"
   },
   {
    "duration": 6,
    "start_time": "2023-10-22T16:32:04.284Z"
   },
   {
    "duration": 32,
    "start_time": "2023-10-22T16:32:04.292Z"
   },
   {
    "duration": 9,
    "start_time": "2023-10-22T16:32:04.325Z"
   },
   {
    "duration": 3,
    "start_time": "2023-10-22T16:32:04.336Z"
   },
   {
    "duration": 13,
    "start_time": "2023-10-22T16:32:04.341Z"
   },
   {
    "duration": 7,
    "start_time": "2023-10-22T16:32:04.355Z"
   },
   {
    "duration": 295163,
    "start_time": "2023-10-22T16:32:04.365Z"
   },
   {
    "duration": 80,
    "start_time": "2023-10-22T16:36:59.530Z"
   },
   {
    "duration": 16,
    "start_time": "2023-10-22T16:36:59.612Z"
   },
   {
    "duration": 18,
    "start_time": "2023-10-22T16:36:59.630Z"
   },
   {
    "duration": 15,
    "start_time": "2023-10-22T16:37:19.705Z"
   },
   {
    "duration": 12,
    "start_time": "2023-10-22T16:37:20.405Z"
   },
   {
    "duration": 8,
    "start_time": "2023-10-22T16:37:21.126Z"
   },
   {
    "duration": 235184,
    "start_time": "2023-10-22T16:37:21.954Z"
   },
   {
    "duration": 93,
    "start_time": "2023-10-22T16:41:17.140Z"
   },
   {
    "duration": 5,
    "start_time": "2023-10-22T16:41:17.235Z"
   },
   {
    "duration": 4,
    "start_time": "2023-10-22T16:42:34.550Z"
   },
   {
    "duration": 12558,
    "start_time": "2023-10-22T16:42:35.931Z"
   },
   {
    "duration": 3,
    "start_time": "2023-10-22T16:43:01.097Z"
   },
   {
    "duration": 1647,
    "start_time": "2023-10-22T16:50:27.113Z"
   },
   {
    "duration": 2,
    "start_time": "2023-10-22T16:50:28.762Z"
   },
   {
    "duration": 13,
    "start_time": "2023-10-22T16:50:28.766Z"
   },
   {
    "duration": 68,
    "start_time": "2023-10-22T16:50:28.780Z"
   },
   {
    "duration": 3,
    "start_time": "2023-10-22T16:50:28.851Z"
   },
   {
    "duration": 35,
    "start_time": "2023-10-22T16:50:28.856Z"
   },
   {
    "duration": 10,
    "start_time": "2023-10-22T16:50:28.893Z"
   },
   {
    "duration": 33,
    "start_time": "2023-10-22T16:50:28.904Z"
   },
   {
    "duration": 18,
    "start_time": "2023-10-22T16:50:28.939Z"
   },
   {
    "duration": 12,
    "start_time": "2023-10-22T16:50:28.959Z"
   },
   {
    "duration": 21,
    "start_time": "2023-10-22T16:50:28.973Z"
   },
   {
    "duration": 3,
    "start_time": "2023-10-22T16:50:28.999Z"
   },
   {
    "duration": 1019,
    "start_time": "2023-10-22T16:50:29.004Z"
   },
   {
    "duration": 5,
    "start_time": "2023-10-22T16:50:30.030Z"
   },
   {
    "duration": 81,
    "start_time": "2023-10-22T16:50:30.038Z"
   },
   {
    "duration": 37,
    "start_time": "2023-10-22T16:50:30.121Z"
   },
   {
    "duration": 72,
    "start_time": "2023-10-22T16:50:30.160Z"
   },
   {
    "duration": 6077,
    "start_time": "2023-10-22T16:50:30.235Z"
   },
   {
    "duration": 6,
    "start_time": "2023-10-22T16:50:36.315Z"
   },
   {
    "duration": 97,
    "start_time": "2023-10-22T16:50:36.328Z"
   },
   {
    "duration": 27044,
    "start_time": "2023-10-22T16:50:36.430Z"
   },
   {
    "duration": 4,
    "start_time": "2023-10-22T16:51:03.476Z"
   },
   {
    "duration": 22,
    "start_time": "2023-10-22T16:51:03.482Z"
   },
   {
    "duration": 17,
    "start_time": "2023-10-22T16:51:03.506Z"
   },
   {
    "duration": 20,
    "start_time": "2023-10-22T16:51:03.527Z"
   },
   {
    "duration": 9,
    "start_time": "2023-10-22T16:51:03.549Z"
   },
   {
    "duration": 28,
    "start_time": "2023-10-22T16:51:03.560Z"
   },
   {
    "duration": 40,
    "start_time": "2023-10-22T16:51:03.590Z"
   },
   {
    "duration": 31,
    "start_time": "2023-10-22T16:51:03.631Z"
   },
   {
    "duration": 349957,
    "start_time": "2023-10-22T16:51:03.663Z"
   },
   {
    "duration": 88,
    "start_time": "2023-10-22T16:56:53.627Z"
   },
   {
    "duration": 4,
    "start_time": "2023-10-22T16:56:53.720Z"
   },
   {
    "duration": 1537,
    "start_time": "2023-10-22T16:57:52.601Z"
   },
   {
    "duration": 3,
    "start_time": "2023-10-22T16:57:54.140Z"
   },
   {
    "duration": 15,
    "start_time": "2023-10-22T16:57:54.144Z"
   },
   {
    "duration": 89,
    "start_time": "2023-10-22T16:57:54.160Z"
   },
   {
    "duration": 3,
    "start_time": "2023-10-22T16:57:54.251Z"
   },
   {
    "duration": 18,
    "start_time": "2023-10-22T16:57:54.256Z"
   },
   {
    "duration": 6,
    "start_time": "2023-10-22T16:57:54.276Z"
   },
   {
    "duration": 18,
    "start_time": "2023-10-22T16:57:54.284Z"
   },
   {
    "duration": 9,
    "start_time": "2023-10-22T16:57:54.305Z"
   },
   {
    "duration": 8,
    "start_time": "2023-10-22T16:57:54.321Z"
   },
   {
    "duration": 12,
    "start_time": "2023-10-22T16:57:54.331Z"
   },
   {
    "duration": 6,
    "start_time": "2023-10-22T16:57:54.345Z"
   },
   {
    "duration": 941,
    "start_time": "2023-10-22T16:57:54.353Z"
   },
   {
    "duration": 3,
    "start_time": "2023-10-22T16:57:55.298Z"
   },
   {
    "duration": 25,
    "start_time": "2023-10-22T16:57:55.303Z"
   },
   {
    "duration": 18,
    "start_time": "2023-10-22T16:57:55.330Z"
   },
   {
    "duration": 28,
    "start_time": "2023-10-22T16:57:55.350Z"
   },
   {
    "duration": 5633,
    "start_time": "2023-10-22T16:57:55.380Z"
   },
   {
    "duration": 9,
    "start_time": "2023-10-22T16:58:01.015Z"
   },
   {
    "duration": 80,
    "start_time": "2023-10-22T16:58:01.028Z"
   },
   {
    "duration": 26422,
    "start_time": "2023-10-22T16:58:01.112Z"
   },
   {
    "duration": 4,
    "start_time": "2023-10-22T16:58:27.536Z"
   },
   {
    "duration": 16,
    "start_time": "2023-10-22T16:58:27.542Z"
   },
   {
    "duration": 8,
    "start_time": "2023-10-22T16:58:27.560Z"
   },
   {
    "duration": 32,
    "start_time": "2023-10-22T16:58:27.570Z"
   },
   {
    "duration": 21,
    "start_time": "2023-10-22T16:58:27.604Z"
   },
   {
    "duration": 6,
    "start_time": "2023-10-22T16:58:27.628Z"
   },
   {
    "duration": 20,
    "start_time": "2023-10-22T16:58:27.636Z"
   },
   {
    "duration": 6,
    "start_time": "2023-10-22T16:58:27.658Z"
   },
   {
    "duration": 5,
    "start_time": "2023-10-22T16:58:27.665Z"
   },
   {
    "duration": 173,
    "start_time": "2023-10-22T16:58:27.672Z"
   },
   {
    "duration": 0,
    "start_time": "2023-10-22T16:58:27.847Z"
   },
   {
    "duration": 0,
    "start_time": "2023-10-22T16:58:27.849Z"
   },
   {
    "duration": 0,
    "start_time": "2023-10-22T16:58:27.850Z"
   },
   {
    "duration": 0,
    "start_time": "2023-10-22T16:58:27.852Z"
   },
   {
    "duration": 0,
    "start_time": "2023-10-22T16:58:27.855Z"
   },
   {
    "duration": 16,
    "start_time": "2023-10-22T16:58:34.903Z"
   },
   {
    "duration": 8,
    "start_time": "2023-10-22T16:59:19.356Z"
   },
   {
    "duration": 9,
    "start_time": "2023-10-22T16:59:20.650Z"
   },
   {
    "duration": 19,
    "start_time": "2023-10-22T16:59:22.876Z"
   },
   {
    "duration": 7,
    "start_time": "2023-10-22T16:59:46.524Z"
   },
   {
    "duration": 8,
    "start_time": "2023-10-22T16:59:50.731Z"
   },
   {
    "duration": 8,
    "start_time": "2023-10-22T16:59:59.918Z"
   },
   {
    "duration": 217356,
    "start_time": "2023-10-22T17:14:00.178Z"
   },
   {
    "duration": 27,
    "start_time": "2023-10-22T17:17:57.797Z"
   },
   {
    "duration": 17,
    "start_time": "2023-10-22T17:18:04.977Z"
   },
   {
    "duration": 18,
    "start_time": "2023-10-22T17:18:10.463Z"
   },
   {
    "duration": 14,
    "start_time": "2023-10-22T17:19:20.560Z"
   },
   {
    "duration": 9,
    "start_time": "2023-10-22T17:19:21.455Z"
   },
   {
    "duration": 3,
    "start_time": "2023-10-22T17:19:26.859Z"
   },
   {
    "duration": 10,
    "start_time": "2023-10-22T17:19:27.774Z"
   },
   {
    "duration": 7,
    "start_time": "2023-10-22T17:19:28.560Z"
   },
   {
    "duration": 15,
    "start_time": "2023-10-22T17:19:31.084Z"
   },
   {
    "duration": 10,
    "start_time": "2023-10-22T17:19:31.474Z"
   },
   {
    "duration": 3,
    "start_time": "2023-10-22T17:19:32.084Z"
   },
   {
    "duration": 11,
    "start_time": "2023-10-22T17:19:32.634Z"
   },
   {
    "duration": 7,
    "start_time": "2023-10-22T17:19:33.794Z"
   },
   {
    "duration": 209121,
    "start_time": "2023-10-22T17:19:34.900Z"
   },
   {
    "duration": 93,
    "start_time": "2023-10-22T17:23:04.024Z"
   },
   {
    "duration": 1624,
    "start_time": "2023-10-22T17:33:11.672Z"
   },
   {
    "duration": 2,
    "start_time": "2023-10-22T17:33:13.298Z"
   },
   {
    "duration": 13,
    "start_time": "2023-10-22T17:33:13.310Z"
   },
   {
    "duration": 53,
    "start_time": "2023-10-22T17:33:13.328Z"
   },
   {
    "duration": 3,
    "start_time": "2023-10-22T17:33:13.383Z"
   },
   {
    "duration": 25,
    "start_time": "2023-10-22T17:33:13.387Z"
   },
   {
    "duration": 15,
    "start_time": "2023-10-22T17:33:13.415Z"
   },
   {
    "duration": 11,
    "start_time": "2023-10-22T17:33:13.433Z"
   },
   {
    "duration": 7,
    "start_time": "2023-10-22T17:33:13.449Z"
   },
   {
    "duration": 4,
    "start_time": "2023-10-22T17:33:13.459Z"
   },
   {
    "duration": 13,
    "start_time": "2023-10-22T17:33:13.465Z"
   },
   {
    "duration": 37,
    "start_time": "2023-10-22T17:33:13.479Z"
   },
   {
    "duration": 923,
    "start_time": "2023-10-22T17:33:13.519Z"
   },
   {
    "duration": 3,
    "start_time": "2023-10-22T17:33:14.445Z"
   },
   {
    "duration": 27,
    "start_time": "2023-10-22T17:33:14.449Z"
   },
   {
    "duration": 23,
    "start_time": "2023-10-22T17:33:14.478Z"
   },
   {
    "duration": 32,
    "start_time": "2023-10-22T17:33:14.503Z"
   },
   {
    "duration": 38,
    "start_time": "2023-10-22T17:33:14.537Z"
   },
   {
    "duration": 27,
    "start_time": "2023-10-22T17:33:14.577Z"
   },
   {
    "duration": 36,
    "start_time": "2023-10-22T17:33:14.606Z"
   },
   {
    "duration": 30,
    "start_time": "2023-10-22T17:33:14.643Z"
   },
   {
    "duration": 27,
    "start_time": "2023-10-22T17:33:14.675Z"
   },
   {
    "duration": 48,
    "start_time": "2023-10-22T17:33:14.703Z"
   },
   {
    "duration": 12,
    "start_time": "2023-10-22T17:33:14.752Z"
   },
   {
    "duration": 16,
    "start_time": "2023-10-22T17:33:14.766Z"
   },
   {
    "duration": 53,
    "start_time": "2023-10-22T17:33:14.784Z"
   },
   {
    "duration": 16,
    "start_time": "2023-10-22T17:33:14.839Z"
   },
   {
    "duration": 302789,
    "start_time": "2023-10-22T17:33:14.857Z"
   },
   {
    "duration": 102,
    "start_time": "2023-10-22T17:38:17.648Z"
   },
   {
    "duration": 4,
    "start_time": "2023-10-22T17:38:17.753Z"
   },
   {
    "duration": 5,
    "start_time": "2023-10-22T17:38:17.759Z"
   },
   {
    "duration": 47,
    "start_time": "2023-10-22T17:38:17.765Z"
   },
   {
    "duration": 29,
    "start_time": "2023-10-22T17:38:17.821Z"
   },
   {
    "duration": 13,
    "start_time": "2023-10-22T18:18:22.321Z"
   },
   {
    "duration": 115,
    "start_time": "2023-10-22T18:20:27.840Z"
   },
   {
    "duration": 845,
    "start_time": "2023-10-22T18:20:46.776Z"
   },
   {
    "duration": 11,
    "start_time": "2023-10-22T18:22:05.683Z"
   },
   {
    "duration": 5,
    "start_time": "2023-10-22T18:23:58.337Z"
   },
   {
    "duration": 11,
    "start_time": "2023-10-22T18:27:06.774Z"
   },
   {
    "duration": 1706,
    "start_time": "2023-10-22T18:27:11.230Z"
   },
   {
    "duration": 2,
    "start_time": "2023-10-22T18:27:12.938Z"
   },
   {
    "duration": 6,
    "start_time": "2023-10-22T18:27:12.942Z"
   },
   {
    "duration": 66,
    "start_time": "2023-10-22T18:27:12.950Z"
   },
   {
    "duration": 4,
    "start_time": "2023-10-22T18:27:13.018Z"
   },
   {
    "duration": 15,
    "start_time": "2023-10-22T18:27:13.023Z"
   },
   {
    "duration": 15,
    "start_time": "2023-10-22T18:27:13.039Z"
   },
   {
    "duration": 31,
    "start_time": "2023-10-22T18:27:13.055Z"
   },
   {
    "duration": 15,
    "start_time": "2023-10-22T18:27:13.088Z"
   },
   {
    "duration": 16,
    "start_time": "2023-10-22T18:27:13.105Z"
   },
   {
    "duration": 16,
    "start_time": "2023-10-22T18:27:13.123Z"
   },
   {
    "duration": 3,
    "start_time": "2023-10-22T18:27:13.141Z"
   },
   {
    "duration": 860,
    "start_time": "2023-10-22T18:27:13.146Z"
   },
   {
    "duration": 7,
    "start_time": "2023-10-22T18:27:14.009Z"
   },
   {
    "duration": 18,
    "start_time": "2023-10-22T18:27:14.018Z"
   },
   {
    "duration": 33,
    "start_time": "2023-10-22T18:27:14.038Z"
   },
   {
    "duration": 16,
    "start_time": "2023-10-22T18:27:14.073Z"
   },
   {
    "duration": 11,
    "start_time": "2023-10-22T18:27:14.091Z"
   },
   {
    "duration": 9,
    "start_time": "2023-10-22T18:27:14.104Z"
   },
   {
    "duration": 9,
    "start_time": "2023-10-22T18:27:14.114Z"
   },
   {
    "duration": 5,
    "start_time": "2023-10-22T18:27:14.125Z"
   },
   {
    "duration": 11,
    "start_time": "2023-10-22T18:27:14.132Z"
   },
   {
    "duration": 27,
    "start_time": "2023-10-22T18:27:14.145Z"
   },
   {
    "duration": 9,
    "start_time": "2023-10-22T18:27:14.173Z"
   },
   {
    "duration": 8,
    "start_time": "2023-10-22T18:27:14.183Z"
   },
   {
    "duration": 16,
    "start_time": "2023-10-22T18:27:14.193Z"
   },
   {
    "duration": 14,
    "start_time": "2023-10-22T18:27:14.211Z"
   },
   {
    "duration": 8605,
    "start_time": "2023-10-22T18:27:14.226Z"
   },
   {
    "duration": 94,
    "start_time": "2023-10-22T18:27:22.832Z"
   },
   {
    "duration": 3,
    "start_time": "2023-10-22T18:27:22.928Z"
   },
   {
    "duration": 901,
    "start_time": "2023-10-22T18:27:22.932Z"
   },
   {
    "duration": 6,
    "start_time": "2023-10-22T18:27:23.834Z"
   },
   {
    "duration": 20,
    "start_time": "2023-10-22T18:27:23.841Z"
   },
   {
    "duration": 16,
    "start_time": "2023-10-22T18:27:23.862Z"
   },
   {
    "duration": 11,
    "start_time": "2023-10-22T18:27:23.879Z"
   },
   {
    "duration": 3,
    "start_time": "2023-10-22T18:27:55.580Z"
   },
   {
    "duration": 57,
    "start_time": "2023-10-22T18:29:30.550Z"
   },
   {
    "duration": 9,
    "start_time": "2023-10-22T18:30:14.540Z"
   },
   {
    "duration": 3,
    "start_time": "2023-10-22T18:30:19.731Z"
   },
   {
    "duration": 88,
    "start_time": "2023-10-22T18:30:22.981Z"
   },
   {
    "duration": 4855,
    "start_time": "2023-10-22T18:30:26.676Z"
   },
   {
    "duration": 2,
    "start_time": "2023-10-22T18:30:43.777Z"
   },
   {
    "duration": 24940,
    "start_time": "2023-10-22T18:30:46.298Z"
   },
   {
    "duration": 3,
    "start_time": "2023-10-22T18:31:22.694Z"
   },
   {
    "duration": 1603,
    "start_time": "2023-10-22T18:36:20.482Z"
   },
   {
    "duration": 3,
    "start_time": "2023-10-22T18:36:22.087Z"
   },
   {
    "duration": 17,
    "start_time": "2023-10-22T18:36:22.095Z"
   },
   {
    "duration": 75,
    "start_time": "2023-10-22T18:36:22.115Z"
   },
   {
    "duration": 3,
    "start_time": "2023-10-22T18:36:22.192Z"
   },
   {
    "duration": 26,
    "start_time": "2023-10-22T18:36:22.197Z"
   },
   {
    "duration": 6,
    "start_time": "2023-10-22T18:36:22.225Z"
   },
   {
    "duration": 5,
    "start_time": "2023-10-22T18:36:22.234Z"
   },
   {
    "duration": 5,
    "start_time": "2023-10-22T18:36:22.241Z"
   },
   {
    "duration": 6,
    "start_time": "2023-10-22T18:36:22.248Z"
   },
   {
    "duration": 18,
    "start_time": "2023-10-22T18:36:22.256Z"
   },
   {
    "duration": 35,
    "start_time": "2023-10-22T18:36:22.276Z"
   },
   {
    "duration": 910,
    "start_time": "2023-10-22T18:36:22.315Z"
   },
   {
    "duration": 3,
    "start_time": "2023-10-22T18:36:23.228Z"
   },
   {
    "duration": 7,
    "start_time": "2023-10-22T18:36:23.233Z"
   },
   {
    "duration": 7,
    "start_time": "2023-10-22T18:36:23.242Z"
   },
   {
    "duration": 11,
    "start_time": "2023-10-22T18:36:23.250Z"
   },
   {
    "duration": 4371,
    "start_time": "2023-10-22T18:36:23.262Z"
   },
   {
    "duration": 4,
    "start_time": "2023-10-22T18:36:27.635Z"
   },
   {
    "duration": 24733,
    "start_time": "2023-10-22T18:36:27.709Z"
   },
   {
    "duration": 4,
    "start_time": "2023-10-22T18:36:52.444Z"
   },
   {
    "duration": 1440,
    "start_time": "2023-10-22T18:38:58.829Z"
   },
   {
    "duration": 3,
    "start_time": "2023-10-22T18:39:00.271Z"
   },
   {
    "duration": 27,
    "start_time": "2023-10-22T18:39:00.277Z"
   },
   {
    "duration": 70,
    "start_time": "2023-10-22T18:39:00.306Z"
   },
   {
    "duration": 3,
    "start_time": "2023-10-22T18:39:00.377Z"
   },
   {
    "duration": 36,
    "start_time": "2023-10-22T18:39:00.382Z"
   },
   {
    "duration": 9,
    "start_time": "2023-10-22T18:39:00.420Z"
   },
   {
    "duration": 20,
    "start_time": "2023-10-22T18:39:00.431Z"
   },
   {
    "duration": 17,
    "start_time": "2023-10-22T18:39:00.453Z"
   },
   {
    "duration": 32,
    "start_time": "2023-10-22T18:39:00.471Z"
   },
   {
    "duration": 31,
    "start_time": "2023-10-22T18:39:00.504Z"
   },
   {
    "duration": 10,
    "start_time": "2023-10-22T18:39:00.536Z"
   },
   {
    "duration": 921,
    "start_time": "2023-10-22T18:39:00.549Z"
   },
   {
    "duration": 3,
    "start_time": "2023-10-22T18:39:01.471Z"
   },
   {
    "duration": 51,
    "start_time": "2023-10-22T18:39:01.476Z"
   },
   {
    "duration": 56,
    "start_time": "2023-10-22T18:39:01.529Z"
   },
   {
    "duration": 53,
    "start_time": "2023-10-22T18:39:01.587Z"
   },
   {
    "duration": 4871,
    "start_time": "2023-10-22T18:39:01.641Z"
   },
   {
    "duration": 7,
    "start_time": "2023-10-22T18:39:06.519Z"
   },
   {
    "duration": 23954,
    "start_time": "2023-10-22T18:39:06.527Z"
   },
   {
    "duration": 3,
    "start_time": "2023-10-22T18:39:30.483Z"
   },
   {
    "duration": 47,
    "start_time": "2023-10-22T18:39:30.487Z"
   },
   {
    "duration": 57,
    "start_time": "2023-10-22T18:39:30.536Z"
   },
   {
    "duration": 32,
    "start_time": "2023-10-22T18:39:30.594Z"
   },
   {
    "duration": 24,
    "start_time": "2023-10-22T18:39:30.628Z"
   },
   {
    "duration": 61,
    "start_time": "2023-10-22T18:39:30.654Z"
   },
   {
    "duration": 19,
    "start_time": "2023-10-22T18:39:30.719Z"
   },
   {
    "duration": 9988,
    "start_time": "2023-10-22T18:39:30.740Z"
   },
   {
    "duration": 84,
    "start_time": "2023-10-22T18:39:40.730Z"
   },
   {
    "duration": 9,
    "start_time": "2023-10-22T18:39:40.817Z"
   },
   {
    "duration": 851,
    "start_time": "2023-10-22T18:39:40.827Z"
   },
   {
    "duration": 7,
    "start_time": "2023-10-22T18:39:41.680Z"
   },
   {
    "duration": 3,
    "start_time": "2023-10-22T18:39:41.688Z"
   },
   {
    "duration": 36,
    "start_time": "2023-10-22T18:39:41.693Z"
   },
   {
    "duration": 5,
    "start_time": "2023-10-22T18:39:41.731Z"
   },
   {
    "duration": 3,
    "start_time": "2023-10-22T18:39:41.811Z"
   },
   {
    "duration": 1490,
    "start_time": "2023-10-22T18:47:42.928Z"
   },
   {
    "duration": 3,
    "start_time": "2023-10-22T18:47:44.426Z"
   },
   {
    "duration": 9,
    "start_time": "2023-10-22T18:47:44.430Z"
   },
   {
    "duration": 53,
    "start_time": "2023-10-22T18:47:44.441Z"
   },
   {
    "duration": 3,
    "start_time": "2023-10-22T18:47:44.496Z"
   },
   {
    "duration": 26,
    "start_time": "2023-10-22T18:47:44.500Z"
   },
   {
    "duration": 7,
    "start_time": "2023-10-22T18:47:44.528Z"
   },
   {
    "duration": 20,
    "start_time": "2023-10-22T18:47:44.537Z"
   },
   {
    "duration": 4,
    "start_time": "2023-10-22T18:47:44.558Z"
   },
   {
    "duration": 5,
    "start_time": "2023-10-22T18:47:44.563Z"
   },
   {
    "duration": 16,
    "start_time": "2023-10-22T18:47:44.570Z"
   },
   {
    "duration": 3,
    "start_time": "2023-10-22T18:47:44.587Z"
   },
   {
    "duration": 903,
    "start_time": "2023-10-22T18:47:44.591Z"
   },
   {
    "duration": 3,
    "start_time": "2023-10-22T18:47:45.496Z"
   },
   {
    "duration": 18,
    "start_time": "2023-10-22T18:47:45.500Z"
   },
   {
    "duration": 26,
    "start_time": "2023-10-22T18:47:45.526Z"
   },
   {
    "duration": 11,
    "start_time": "2023-10-22T18:47:45.554Z"
   },
   {
    "duration": 5645,
    "start_time": "2023-10-22T18:47:45.567Z"
   },
   {
    "duration": 7,
    "start_time": "2023-10-22T18:47:51.220Z"
   },
   {
    "duration": 25257,
    "start_time": "2023-10-22T18:47:51.233Z"
   },
   {
    "duration": 0,
    "start_time": "2023-10-22T18:48:16.491Z"
   },
   {
    "duration": 0,
    "start_time": "2023-10-22T18:48:16.493Z"
   },
   {
    "duration": 0,
    "start_time": "2023-10-22T18:48:16.494Z"
   },
   {
    "duration": 0,
    "start_time": "2023-10-22T18:48:16.495Z"
   },
   {
    "duration": 0,
    "start_time": "2023-10-22T18:48:16.496Z"
   },
   {
    "duration": 0,
    "start_time": "2023-10-22T18:48:16.497Z"
   },
   {
    "duration": 0,
    "start_time": "2023-10-22T18:48:16.498Z"
   },
   {
    "duration": 0,
    "start_time": "2023-10-22T18:48:16.507Z"
   },
   {
    "duration": 0,
    "start_time": "2023-10-22T18:48:16.517Z"
   },
   {
    "duration": 0,
    "start_time": "2023-10-22T18:48:16.518Z"
   },
   {
    "duration": 0,
    "start_time": "2023-10-22T18:48:16.519Z"
   },
   {
    "duration": 0,
    "start_time": "2023-10-22T18:48:16.520Z"
   },
   {
    "duration": 0,
    "start_time": "2023-10-22T18:48:16.522Z"
   },
   {
    "duration": 0,
    "start_time": "2023-10-22T18:48:16.523Z"
   },
   {
    "duration": 0,
    "start_time": "2023-10-22T18:48:16.524Z"
   },
   {
    "duration": 0,
    "start_time": "2023-10-22T18:48:16.526Z"
   },
   {
    "duration": 0,
    "start_time": "2023-10-22T18:48:16.528Z"
   },
   {
    "duration": 0,
    "start_time": "2023-10-22T18:48:16.531Z"
   },
   {
    "duration": 8,
    "start_time": "2023-10-22T18:48:29.403Z"
   },
   {
    "duration": 24389,
    "start_time": "2023-10-22T18:48:40.445Z"
   },
   {
    "duration": 26,
    "start_time": "2023-10-22T18:49:11.325Z"
   },
   {
    "duration": 24587,
    "start_time": "2023-10-22T18:50:12.338Z"
   },
   {
    "duration": 33,
    "start_time": "2023-10-22T18:50:57.899Z"
   },
   {
    "duration": 8021,
    "start_time": "2023-10-22T18:52:16.703Z"
   },
   {
    "duration": 73,
    "start_time": "2023-10-22T18:56:31.557Z"
   },
   {
    "duration": 19,
    "start_time": "2023-10-22T18:56:37.802Z"
   },
   {
    "duration": 1505180,
    "start_time": "2023-10-22T18:57:03.553Z"
   },
   {
    "duration": 1558,
    "start_time": "2023-10-22T19:54:32.620Z"
   },
   {
    "duration": 2,
    "start_time": "2023-10-22T19:54:34.180Z"
   },
   {
    "duration": 7,
    "start_time": "2023-10-22T19:54:34.184Z"
   },
   {
    "duration": 60,
    "start_time": "2023-10-22T19:54:34.192Z"
   },
   {
    "duration": 3,
    "start_time": "2023-10-22T19:54:34.254Z"
   },
   {
    "duration": 11,
    "start_time": "2023-10-22T19:54:34.258Z"
   },
   {
    "duration": 24,
    "start_time": "2023-10-22T19:54:34.271Z"
   },
   {
    "duration": 27,
    "start_time": "2023-10-22T19:54:34.296Z"
   },
   {
    "duration": 8,
    "start_time": "2023-10-22T19:54:34.325Z"
   },
   {
    "duration": 5,
    "start_time": "2023-10-22T19:54:34.335Z"
   },
   {
    "duration": 21,
    "start_time": "2023-10-22T19:54:34.342Z"
   },
   {
    "duration": 3,
    "start_time": "2023-10-22T19:54:34.365Z"
   },
   {
    "duration": 908,
    "start_time": "2023-10-22T19:54:34.370Z"
   },
   {
    "duration": 3,
    "start_time": "2023-10-22T19:54:35.281Z"
   },
   {
    "duration": 45,
    "start_time": "2023-10-22T19:54:35.285Z"
   },
   {
    "duration": 47,
    "start_time": "2023-10-22T19:54:35.331Z"
   },
   {
    "duration": 11,
    "start_time": "2023-10-22T19:54:35.380Z"
   },
   {
    "duration": 4934,
    "start_time": "2023-10-22T19:54:35.393Z"
   },
   {
    "duration": 28,
    "start_time": "2023-10-22T19:54:40.411Z"
   },
   {
    "duration": 5,
    "start_time": "2023-10-22T19:54:40.507Z"
   },
   {
    "duration": 25670,
    "start_time": "2023-10-22T19:54:40.513Z"
   },
   {
    "duration": 5,
    "start_time": "2023-10-22T19:55:06.185Z"
   },
   {
    "duration": 22,
    "start_time": "2023-10-22T19:55:06.192Z"
   },
   {
    "duration": 7,
    "start_time": "2023-10-22T19:55:06.221Z"
   },
   {
    "duration": 18,
    "start_time": "2023-10-22T19:55:06.230Z"
   },
   {
    "duration": 148,
    "start_time": "2023-10-22T19:55:06.251Z"
   },
   {
    "duration": 0,
    "start_time": "2023-10-22T19:55:06.400Z"
   },
   {
    "duration": 0,
    "start_time": "2023-10-22T19:55:06.401Z"
   },
   {
    "duration": 0,
    "start_time": "2023-10-22T19:55:06.409Z"
   },
   {
    "duration": 0,
    "start_time": "2023-10-22T19:55:06.414Z"
   },
   {
    "duration": 0,
    "start_time": "2023-10-22T19:55:06.415Z"
   },
   {
    "duration": 0,
    "start_time": "2023-10-22T19:55:06.420Z"
   },
   {
    "duration": 0,
    "start_time": "2023-10-22T19:55:06.421Z"
   },
   {
    "duration": 0,
    "start_time": "2023-10-22T19:55:06.423Z"
   },
   {
    "duration": 0,
    "start_time": "2023-10-22T19:55:06.425Z"
   },
   {
    "duration": 0,
    "start_time": "2023-10-22T19:55:06.426Z"
   },
   {
    "duration": 0,
    "start_time": "2023-10-22T19:55:06.428Z"
   },
   {
    "duration": 0,
    "start_time": "2023-10-22T19:55:06.429Z"
   },
   {
    "duration": 1614,
    "start_time": "2023-10-22T20:15:20.695Z"
   },
   {
    "duration": 3,
    "start_time": "2023-10-22T20:15:22.312Z"
   },
   {
    "duration": 7,
    "start_time": "2023-10-22T20:15:22.320Z"
   },
   {
    "duration": 60,
    "start_time": "2023-10-22T20:15:22.330Z"
   },
   {
    "duration": 3,
    "start_time": "2023-10-22T20:15:22.392Z"
   },
   {
    "duration": 25,
    "start_time": "2023-10-22T20:15:22.396Z"
   },
   {
    "duration": 49,
    "start_time": "2023-10-22T20:15:22.423Z"
   },
   {
    "duration": 6,
    "start_time": "2023-10-22T20:15:22.474Z"
   },
   {
    "duration": 7,
    "start_time": "2023-10-22T20:15:22.482Z"
   },
   {
    "duration": 4,
    "start_time": "2023-10-22T20:15:22.491Z"
   },
   {
    "duration": 32,
    "start_time": "2023-10-22T20:15:22.496Z"
   },
   {
    "duration": 8,
    "start_time": "2023-10-22T20:15:22.529Z"
   },
   {
    "duration": 906,
    "start_time": "2023-10-22T20:15:22.538Z"
   },
   {
    "duration": 7,
    "start_time": "2023-10-22T20:15:23.447Z"
   },
   {
    "duration": 34,
    "start_time": "2023-10-22T20:15:23.458Z"
   },
   {
    "duration": 6,
    "start_time": "2023-10-22T20:15:23.494Z"
   },
   {
    "duration": 20,
    "start_time": "2023-10-22T20:15:23.502Z"
   },
   {
    "duration": 8,
    "start_time": "2023-10-22T20:15:23.524Z"
   },
   {
    "duration": 7,
    "start_time": "2023-10-22T20:15:23.535Z"
   },
   {
    "duration": 7,
    "start_time": "2023-10-22T20:15:23.545Z"
   },
   {
    "duration": 15,
    "start_time": "2023-10-22T20:15:23.554Z"
   },
   {
    "duration": 15,
    "start_time": "2023-10-22T20:15:23.571Z"
   },
   {
    "duration": 7,
    "start_time": "2023-10-22T20:15:23.588Z"
   },
   {
    "duration": 27,
    "start_time": "2023-10-22T20:15:23.597Z"
   },
   {
    "duration": 3,
    "start_time": "2023-10-22T20:15:23.627Z"
   },
   {
    "duration": 9,
    "start_time": "2023-10-22T20:15:23.632Z"
   },
   {
    "duration": 8,
    "start_time": "2023-10-22T20:15:23.643Z"
   },
   {
    "duration": 10,
    "start_time": "2023-10-22T20:15:23.655Z"
   },
   {
    "duration": 17,
    "start_time": "2023-10-22T20:15:23.667Z"
   },
   {
    "duration": 14,
    "start_time": "2023-10-22T20:15:23.686Z"
   },
   {
    "duration": 34,
    "start_time": "2023-10-22T20:15:23.702Z"
   },
   {
    "duration": 16,
    "start_time": "2023-10-22T20:15:23.738Z"
   },
   {
    "duration": 14,
    "start_time": "2023-10-22T20:15:23.755Z"
   },
   {
    "duration": 39,
    "start_time": "2023-10-22T20:15:23.771Z"
   },
   {
    "duration": 46,
    "start_time": "2023-10-22T20:15:23.817Z"
   },
   {
    "duration": 1564,
    "start_time": "2023-10-22T20:16:05.239Z"
   },
   {
    "duration": 9,
    "start_time": "2023-10-22T20:16:06.805Z"
   },
   {
    "duration": 10,
    "start_time": "2023-10-22T20:16:06.817Z"
   },
   {
    "duration": 92,
    "start_time": "2023-10-22T20:16:06.829Z"
   },
   {
    "duration": 3,
    "start_time": "2023-10-22T20:16:06.930Z"
   },
   {
    "duration": 25,
    "start_time": "2023-10-22T20:16:06.935Z"
   },
   {
    "duration": 6,
    "start_time": "2023-10-22T20:16:06.963Z"
   },
   {
    "duration": 13,
    "start_time": "2023-10-22T20:16:06.970Z"
   },
   {
    "duration": 4,
    "start_time": "2023-10-22T20:16:06.985Z"
   },
   {
    "duration": 22,
    "start_time": "2023-10-22T20:16:06.990Z"
   },
   {
    "duration": 23,
    "start_time": "2023-10-22T20:16:07.017Z"
   },
   {
    "duration": 5,
    "start_time": "2023-10-22T20:16:07.042Z"
   },
   {
    "duration": 942,
    "start_time": "2023-10-22T20:16:07.049Z"
   },
   {
    "duration": 2,
    "start_time": "2023-10-22T20:16:07.994Z"
   },
   {
    "duration": 17,
    "start_time": "2023-10-22T20:16:07.997Z"
   },
   {
    "duration": 4,
    "start_time": "2023-10-22T20:16:08.024Z"
   },
   {
    "duration": 10,
    "start_time": "2023-10-22T20:16:08.029Z"
   },
   {
    "duration": 10,
    "start_time": "2023-10-22T20:16:08.041Z"
   },
   {
    "duration": 5,
    "start_time": "2023-10-22T20:16:08.053Z"
   },
   {
    "duration": 6,
    "start_time": "2023-10-22T20:16:08.061Z"
   },
   {
    "duration": 18,
    "start_time": "2023-10-22T20:16:08.068Z"
   },
   {
    "duration": 6,
    "start_time": "2023-10-22T20:16:08.088Z"
   },
   {
    "duration": 4,
    "start_time": "2023-10-22T20:16:08.095Z"
   },
   {
    "duration": 10,
    "start_time": "2023-10-22T20:16:08.100Z"
   },
   {
    "duration": 29402,
    "start_time": "2023-10-22T20:16:08.112Z"
   },
   {
    "duration": 5,
    "start_time": "2023-10-22T20:16:37.516Z"
   },
   {
    "duration": 11,
    "start_time": "2023-10-22T20:16:37.525Z"
   },
   {
    "duration": 8,
    "start_time": "2023-10-22T20:16:37.611Z"
   },
   {
    "duration": 9,
    "start_time": "2023-10-22T20:16:37.621Z"
   },
   {
    "duration": 32,
    "start_time": "2023-10-22T20:16:37.631Z"
   },
   {
    "duration": 9,
    "start_time": "2023-10-22T20:16:37.665Z"
   },
   {
    "duration": 5,
    "start_time": "2023-10-22T20:16:37.676Z"
   },
   {
    "duration": 5,
    "start_time": "2023-10-22T20:16:37.682Z"
   },
   {
    "duration": 4,
    "start_time": "2023-10-22T20:16:37.688Z"
   },
   {
    "duration": 8,
    "start_time": "2023-10-22T20:16:37.693Z"
   },
   {
    "duration": 3,
    "start_time": "2023-10-22T20:16:37.703Z"
   },
   {
    "duration": 115235,
    "start_time": "2023-10-22T20:17:28.903Z"
   },
   {
    "duration": 0,
    "start_time": "2023-10-22T20:19:24.262Z"
   },
   {
    "duration": 36,
    "start_time": "2023-10-22T20:19:36.333Z"
   },
   {
    "duration": 49,
    "start_time": "2023-10-22T20:20:39.254Z"
   },
   {
    "duration": 1616,
    "start_time": "2023-10-22T20:20:45.326Z"
   },
   {
    "duration": 3,
    "start_time": "2023-10-22T20:20:46.944Z"
   },
   {
    "duration": 6,
    "start_time": "2023-10-22T20:20:46.948Z"
   },
   {
    "duration": 78,
    "start_time": "2023-10-22T20:20:46.955Z"
   },
   {
    "duration": 3,
    "start_time": "2023-10-22T20:20:47.034Z"
   },
   {
    "duration": 14,
    "start_time": "2023-10-22T20:20:47.039Z"
   },
   {
    "duration": 8,
    "start_time": "2023-10-22T20:20:47.054Z"
   },
   {
    "duration": 32,
    "start_time": "2023-10-22T20:20:47.063Z"
   },
   {
    "duration": 31,
    "start_time": "2023-10-22T20:20:47.097Z"
   },
   {
    "duration": 22,
    "start_time": "2023-10-22T20:20:47.132Z"
   },
   {
    "duration": 46,
    "start_time": "2023-10-22T20:20:47.156Z"
   },
   {
    "duration": 16,
    "start_time": "2023-10-22T20:20:47.205Z"
   },
   {
    "duration": 931,
    "start_time": "2023-10-22T20:20:47.223Z"
   },
   {
    "duration": 3,
    "start_time": "2023-10-22T20:20:48.155Z"
   },
   {
    "duration": 44,
    "start_time": "2023-10-22T20:20:48.160Z"
   },
   {
    "duration": 19,
    "start_time": "2023-10-22T20:20:48.210Z"
   },
   {
    "duration": 6,
    "start_time": "2023-10-22T20:20:48.230Z"
   },
   {
    "duration": 4,
    "start_time": "2023-10-22T20:20:48.237Z"
   },
   {
    "duration": 4,
    "start_time": "2023-10-22T20:20:48.242Z"
   },
   {
    "duration": 15,
    "start_time": "2023-10-22T20:20:48.247Z"
   },
   {
    "duration": 34,
    "start_time": "2023-10-22T20:20:48.263Z"
   },
   {
    "duration": 3,
    "start_time": "2023-10-22T20:20:48.299Z"
   },
   {
    "duration": 11,
    "start_time": "2023-10-22T20:20:48.304Z"
   },
   {
    "duration": 12,
    "start_time": "2023-10-22T20:20:48.316Z"
   },
   {
    "duration": 30182,
    "start_time": "2023-10-22T20:20:48.330Z"
   },
   {
    "duration": 114271,
    "start_time": "2023-10-22T20:21:18.516Z"
   },
   {
    "duration": 35,
    "start_time": "2023-10-22T20:23:12.789Z"
   },
   {
    "duration": 1766,
    "start_time": "2023-10-25T10:53:21.725Z"
   },
   {
    "duration": 3,
    "start_time": "2023-10-25T10:53:23.493Z"
   },
   {
    "duration": 18,
    "start_time": "2023-10-25T10:53:23.498Z"
   },
   {
    "duration": 243,
    "start_time": "2023-10-25T10:53:23.518Z"
   },
   {
    "duration": 3,
    "start_time": "2023-10-25T10:53:23.763Z"
   },
   {
    "duration": 105,
    "start_time": "2023-10-25T10:53:23.767Z"
   },
   {
    "duration": 61,
    "start_time": "2023-10-25T10:53:23.875Z"
   },
   {
    "duration": 48,
    "start_time": "2023-10-25T10:53:23.938Z"
   },
   {
    "duration": 33,
    "start_time": "2023-10-25T10:53:23.987Z"
   },
   {
    "duration": 34,
    "start_time": "2023-10-25T10:53:24.023Z"
   },
   {
    "duration": 76,
    "start_time": "2023-10-25T10:53:24.059Z"
   },
   {
    "duration": 60,
    "start_time": "2023-10-25T10:53:24.137Z"
   },
   {
    "duration": 1004,
    "start_time": "2023-10-25T10:53:24.199Z"
   },
   {
    "duration": 3,
    "start_time": "2023-10-25T10:53:25.206Z"
   },
   {
    "duration": 53,
    "start_time": "2023-10-25T10:53:25.211Z"
   },
   {
    "duration": 40,
    "start_time": "2023-10-25T10:53:25.267Z"
   },
   {
    "duration": 54,
    "start_time": "2023-10-25T10:53:25.309Z"
   },
   {
    "duration": 38,
    "start_time": "2023-10-25T10:53:25.365Z"
   },
   {
    "duration": 22,
    "start_time": "2023-10-25T10:53:25.405Z"
   },
   {
    "duration": 30,
    "start_time": "2023-10-25T10:53:25.429Z"
   },
   {
    "duration": 58,
    "start_time": "2023-10-25T10:53:25.461Z"
   },
   {
    "duration": 32,
    "start_time": "2023-10-25T10:53:25.521Z"
   },
   {
    "duration": 23,
    "start_time": "2023-10-25T10:53:25.555Z"
   },
   {
    "duration": 50,
    "start_time": "2023-10-25T10:53:25.580Z"
   },
   {
    "duration": 26036,
    "start_time": "2023-10-25T10:53:25.632Z"
   },
   {
    "duration": 107723,
    "start_time": "2023-10-25T10:53:51.745Z"
   },
   {
    "duration": 26,
    "start_time": "2023-10-25T10:55:39.470Z"
   },
   {
    "duration": 494244,
    "start_time": "2023-10-25T10:55:39.500Z"
   },
   {
    "duration": 3,
    "start_time": "2023-10-25T11:03:53.746Z"
   },
   {
    "duration": 35,
    "start_time": "2023-10-25T11:03:53.750Z"
   },
   {
    "duration": 46,
    "start_time": "2023-10-25T11:03:53.787Z"
   },
   {
    "duration": 63,
    "start_time": "2023-10-25T11:03:53.835Z"
   },
   {
    "duration": 72,
    "start_time": "2023-10-25T11:03:53.900Z"
   },
   {
    "duration": 53,
    "start_time": "2023-10-25T11:03:53.974Z"
   },
   {
    "duration": 43,
    "start_time": "2023-10-25T11:03:54.028Z"
   },
   {
    "duration": 47,
    "start_time": "2023-10-25T11:03:54.072Z"
   },
   {
    "duration": 36,
    "start_time": "2023-10-25T11:03:54.120Z"
   },
   {
    "duration": 47,
    "start_time": "2023-10-25T11:03:54.157Z"
   },
   {
    "duration": 18,
    "start_time": "2023-10-25T11:03:54.205Z"
   },
   {
    "duration": 1486,
    "start_time": "2023-10-25T11:07:16.379Z"
   },
   {
    "duration": 2,
    "start_time": "2023-10-25T11:07:17.867Z"
   },
   {
    "duration": 8,
    "start_time": "2023-10-25T11:07:17.871Z"
   },
   {
    "duration": 55,
    "start_time": "2023-10-25T11:07:17.880Z"
   },
   {
    "duration": 3,
    "start_time": "2023-10-25T11:07:17.937Z"
   },
   {
    "duration": 21,
    "start_time": "2023-10-25T11:07:17.941Z"
   },
   {
    "duration": 5,
    "start_time": "2023-10-25T11:07:17.963Z"
   },
   {
    "duration": 15,
    "start_time": "2023-10-25T11:07:17.970Z"
   },
   {
    "duration": 16,
    "start_time": "2023-10-25T11:07:17.987Z"
   },
   {
    "duration": 18,
    "start_time": "2023-10-25T11:07:18.004Z"
   },
   {
    "duration": 26,
    "start_time": "2023-10-25T11:07:18.024Z"
   },
   {
    "duration": 10,
    "start_time": "2023-10-25T11:07:18.051Z"
   },
   {
    "duration": 856,
    "start_time": "2023-10-25T11:07:18.063Z"
   },
   {
    "duration": 4,
    "start_time": "2023-10-25T11:07:18.923Z"
   },
   {
    "duration": 13,
    "start_time": "2023-10-25T11:07:18.929Z"
   },
   {
    "duration": 7,
    "start_time": "2023-10-25T11:07:18.944Z"
   },
   {
    "duration": 15,
    "start_time": "2023-10-25T11:07:18.952Z"
   },
   {
    "duration": 3691,
    "start_time": "2023-10-25T11:07:18.969Z"
   },
   {
    "duration": 4,
    "start_time": "2023-10-25T11:07:22.664Z"
   },
   {
    "duration": 23368,
    "start_time": "2023-10-25T11:07:22.744Z"
   },
   {
    "duration": 2,
    "start_time": "2023-10-25T11:07:46.114Z"
   },
   {
    "duration": 436430,
    "start_time": "2023-10-25T11:07:46.118Z"
   },
   {
    "duration": 3,
    "start_time": "2023-10-25T11:15:02.550Z"
   },
   {
    "duration": 47,
    "start_time": "2023-10-25T11:15:02.556Z"
   },
   {
    "duration": 52,
    "start_time": "2023-10-25T11:15:02.605Z"
   },
   {
    "duration": 89,
    "start_time": "2023-10-25T11:15:02.658Z"
   },
   {
    "duration": 87,
    "start_time": "2023-10-25T11:15:02.749Z"
   },
   {
    "duration": 43,
    "start_time": "2023-10-25T11:15:02.837Z"
   },
   {
    "duration": 51,
    "start_time": "2023-10-25T11:15:02.882Z"
   },
   {
    "duration": 42,
    "start_time": "2023-10-25T11:15:02.935Z"
   },
   {
    "duration": 87,
    "start_time": "2023-10-25T11:15:02.979Z"
   },
   {
    "duration": 41,
    "start_time": "2023-10-25T11:15:03.068Z"
   },
   {
    "duration": 46,
    "start_time": "2023-10-25T11:15:03.111Z"
   },
   {
    "duration": 64,
    "start_time": "2023-10-25T11:15:03.159Z"
   },
   {
    "duration": 62,
    "start_time": "2023-10-25T11:15:03.225Z"
   },
   {
    "duration": 97,
    "start_time": "2023-10-25T11:15:03.289Z"
   },
   {
    "duration": 41,
    "start_time": "2023-10-25T11:15:03.388Z"
   },
   {
    "duration": 25,
    "start_time": "2023-10-25T11:15:03.431Z"
   },
   {
    "duration": 34,
    "start_time": "2023-10-25T11:15:03.458Z"
   },
   {
    "duration": 3,
    "start_time": "2023-10-25T11:21:20.829Z"
   },
   {
    "duration": 1554,
    "start_time": "2023-10-25T12:53:31.936Z"
   },
   {
    "duration": 2,
    "start_time": "2023-10-25T12:53:33.492Z"
   },
   {
    "duration": 13,
    "start_time": "2023-10-25T12:53:33.496Z"
   },
   {
    "duration": 62,
    "start_time": "2023-10-25T12:53:33.511Z"
   },
   {
    "duration": 3,
    "start_time": "2023-10-25T12:53:33.575Z"
   },
   {
    "duration": 29,
    "start_time": "2023-10-25T12:53:33.580Z"
   },
   {
    "duration": 13,
    "start_time": "2023-10-25T12:53:33.611Z"
   },
   {
    "duration": 33,
    "start_time": "2023-10-25T12:53:33.626Z"
   },
   {
    "duration": 22,
    "start_time": "2023-10-25T12:53:33.660Z"
   },
   {
    "duration": 36,
    "start_time": "2023-10-25T12:53:33.686Z"
   },
   {
    "duration": 39,
    "start_time": "2023-10-25T12:53:33.724Z"
   },
   {
    "duration": 4,
    "start_time": "2023-10-25T12:53:33.765Z"
   },
   {
    "duration": 928,
    "start_time": "2023-10-25T12:53:33.771Z"
   },
   {
    "duration": 3,
    "start_time": "2023-10-25T12:53:34.702Z"
   },
   {
    "duration": 14,
    "start_time": "2023-10-25T12:53:34.707Z"
   },
   {
    "duration": 40,
    "start_time": "2023-10-25T12:53:34.723Z"
   },
   {
    "duration": 28,
    "start_time": "2023-10-25T12:53:34.765Z"
   },
   {
    "duration": 3853,
    "start_time": "2023-10-25T12:53:34.795Z"
   },
   {
    "duration": 4,
    "start_time": "2023-10-25T12:53:38.662Z"
   },
   {
    "duration": 24968,
    "start_time": "2023-10-25T12:53:38.671Z"
   },
   {
    "duration": 12,
    "start_time": "2023-10-25T12:54:03.641Z"
   },
   {
    "duration": 1595,
    "start_time": "2023-10-25T20:46:56.581Z"
   },
   {
    "duration": 3,
    "start_time": "2023-10-25T20:46:58.179Z"
   },
   {
    "duration": 14,
    "start_time": "2023-10-25T20:46:58.184Z"
   },
   {
    "duration": 128,
    "start_time": "2023-10-25T20:46:58.199Z"
   },
   {
    "duration": 2,
    "start_time": "2023-10-25T20:46:58.329Z"
   },
   {
    "duration": 24,
    "start_time": "2023-10-25T20:46:58.333Z"
   },
   {
    "duration": 5,
    "start_time": "2023-10-25T20:46:58.359Z"
   },
   {
    "duration": 8,
    "start_time": "2023-10-25T20:46:58.366Z"
   },
   {
    "duration": 4,
    "start_time": "2023-10-25T20:46:58.375Z"
   },
   {
    "duration": 4,
    "start_time": "2023-10-25T20:46:58.380Z"
   },
   {
    "duration": 12,
    "start_time": "2023-10-25T20:46:58.385Z"
   },
   {
    "duration": 3,
    "start_time": "2023-10-25T20:46:58.398Z"
   },
   {
    "duration": 887,
    "start_time": "2023-10-25T20:46:58.402Z"
   },
   {
    "duration": 2,
    "start_time": "2023-10-25T20:46:59.292Z"
   },
   {
    "duration": 7,
    "start_time": "2023-10-25T20:46:59.295Z"
   },
   {
    "duration": 8,
    "start_time": "2023-10-25T20:46:59.303Z"
   },
   {
    "duration": 6,
    "start_time": "2023-10-25T20:46:59.313Z"
   },
   {
    "duration": 3618,
    "start_time": "2023-10-25T20:46:59.321Z"
   },
   {
    "duration": 3,
    "start_time": "2023-10-25T20:47:02.946Z"
   },
   {
    "duration": 25049,
    "start_time": "2023-10-25T20:47:02.950Z"
   },
   {
    "duration": 3,
    "start_time": "2023-10-25T20:47:28.000Z"
   },
   {
    "duration": 1293,
    "start_time": "2023-10-25T20:49:07.990Z"
   },
   {
    "duration": 2,
    "start_time": "2023-10-25T20:49:09.285Z"
   },
   {
    "duration": 4,
    "start_time": "2023-10-25T20:49:09.288Z"
   },
   {
    "duration": 59,
    "start_time": "2023-10-25T20:49:09.293Z"
   },
   {
    "duration": 2,
    "start_time": "2023-10-25T20:49:09.354Z"
   },
   {
    "duration": 12,
    "start_time": "2023-10-25T20:49:09.358Z"
   },
   {
    "duration": 12,
    "start_time": "2023-10-25T20:49:09.371Z"
   },
   {
    "duration": 8,
    "start_time": "2023-10-25T20:49:09.385Z"
   },
   {
    "duration": 4,
    "start_time": "2023-10-25T20:49:09.394Z"
   },
   {
    "duration": 8,
    "start_time": "2023-10-25T20:49:09.399Z"
   },
   {
    "duration": 10,
    "start_time": "2023-10-25T20:49:09.408Z"
   },
   {
    "duration": 33,
    "start_time": "2023-10-25T20:49:09.419Z"
   },
   {
    "duration": 768,
    "start_time": "2023-10-25T20:49:09.453Z"
   },
   {
    "duration": 3,
    "start_time": "2023-10-25T20:49:10.224Z"
   },
   {
    "duration": 4,
    "start_time": "2023-10-25T20:49:10.228Z"
   },
   {
    "duration": 11,
    "start_time": "2023-10-25T20:49:10.233Z"
   },
   {
    "duration": 8,
    "start_time": "2023-10-25T20:49:10.245Z"
   },
   {
    "duration": 3594,
    "start_time": "2023-10-25T20:49:10.255Z"
   },
   {
    "duration": 9,
    "start_time": "2023-10-25T20:49:13.851Z"
   },
   {
    "duration": 24927,
    "start_time": "2023-10-25T20:49:13.863Z"
   },
   {
    "duration": 3,
    "start_time": "2023-10-25T20:49:38.792Z"
   },
   {
    "duration": 11,
    "start_time": "2023-10-25T21:51:47.052Z"
   },
   {
    "duration": 3,
    "start_time": "2023-10-25T21:51:47.064Z"
   },
   {
    "duration": 6,
    "start_time": "2023-10-25T21:51:47.069Z"
   },
   {
    "duration": 7,
    "start_time": "2023-10-25T21:51:47.076Z"
   },
   {
    "duration": 7,
    "start_time": "2023-10-25T21:51:47.084Z"
   },
   {
    "duration": 4,
    "start_time": "2023-10-25T21:51:47.092Z"
   },
   {
    "duration": 2,
    "start_time": "2023-10-25T21:51:47.098Z"
   },
   {
    "duration": 3,
    "start_time": "2023-10-25T21:51:47.101Z"
   },
   {
    "duration": 5,
    "start_time": "2023-10-25T21:51:47.105Z"
   },
   {
    "duration": 5,
    "start_time": "2023-10-25T21:51:47.111Z"
   },
   {
    "duration": 2,
    "start_time": "2023-10-25T21:51:47.141Z"
   },
   {
    "duration": 7,
    "start_time": "2023-10-25T21:51:47.144Z"
   },
   {
    "duration": 7,
    "start_time": "2023-10-25T21:51:47.152Z"
   },
   {
    "duration": 6,
    "start_time": "2023-10-25T21:51:47.160Z"
   },
   {
    "duration": 6,
    "start_time": "2023-10-25T21:51:47.167Z"
   },
   {
    "duration": 4,
    "start_time": "2023-10-25T21:51:47.174Z"
   },
   {
    "duration": 5,
    "start_time": "2023-10-25T21:51:47.181Z"
   },
   {
    "duration": 131,
    "start_time": "2023-10-25T21:51:47.187Z"
   },
   {
    "duration": 0,
    "start_time": "2023-10-25T21:51:47.320Z"
   },
   {
    "duration": 0,
    "start_time": "2023-10-25T21:51:47.321Z"
   },
   {
    "duration": 70,
    "start_time": "2023-10-26T09:17:32.419Z"
   },
   {
    "duration": 1740,
    "start_time": "2023-10-26T09:17:37.124Z"
   },
   {
    "duration": 4,
    "start_time": "2023-10-26T09:17:38.867Z"
   },
   {
    "duration": 4,
    "start_time": "2023-10-26T09:17:38.877Z"
   },
   {
    "duration": 194,
    "start_time": "2023-10-26T09:17:38.883Z"
   },
   {
    "duration": 3,
    "start_time": "2023-10-26T09:17:39.079Z"
   },
   {
    "duration": 26,
    "start_time": "2023-10-26T09:17:39.085Z"
   },
   {
    "duration": 29,
    "start_time": "2023-10-26T09:17:39.113Z"
   },
   {
    "duration": 34,
    "start_time": "2023-10-26T09:17:39.146Z"
   },
   {
    "duration": 8,
    "start_time": "2023-10-26T09:17:39.181Z"
   },
   {
    "duration": 19,
    "start_time": "2023-10-26T09:17:39.191Z"
   },
   {
    "duration": 23,
    "start_time": "2023-10-26T09:17:39.212Z"
   },
   {
    "duration": 4,
    "start_time": "2023-10-26T09:17:39.236Z"
   },
   {
    "duration": 956,
    "start_time": "2023-10-26T09:17:39.242Z"
   },
   {
    "duration": 2,
    "start_time": "2023-10-26T09:17:40.200Z"
   },
   {
    "duration": 9,
    "start_time": "2023-10-26T09:17:40.204Z"
   },
   {
    "duration": 19,
    "start_time": "2023-10-26T09:17:40.215Z"
   },
   {
    "duration": 39,
    "start_time": "2023-10-26T09:17:40.236Z"
   },
   {
    "duration": 4403,
    "start_time": "2023-10-26T09:17:40.277Z"
   },
   {
    "duration": 70,
    "start_time": "2023-10-26T09:17:44.682Z"
   },
   {
    "duration": 24562,
    "start_time": "2023-10-26T09:17:44.758Z"
   },
   {
    "duration": 3,
    "start_time": "2023-10-26T09:18:09.321Z"
   },
   {
    "duration": 1622,
    "start_time": "2023-10-26T10:09:57.737Z"
   },
   {
    "duration": 2,
    "start_time": "2023-10-26T10:09:59.361Z"
   },
   {
    "duration": 49,
    "start_time": "2023-10-26T10:09:59.365Z"
   },
   {
    "duration": 63,
    "start_time": "2023-10-26T10:09:59.416Z"
   },
   {
    "duration": 2,
    "start_time": "2023-10-26T10:09:59.482Z"
   },
   {
    "duration": 13,
    "start_time": "2023-10-26T10:09:59.486Z"
   },
   {
    "duration": 18,
    "start_time": "2023-10-26T10:09:59.501Z"
   },
   {
    "duration": 22,
    "start_time": "2023-10-26T10:09:59.521Z"
   },
   {
    "duration": 5,
    "start_time": "2023-10-26T10:09:59.545Z"
   },
   {
    "duration": 6,
    "start_time": "2023-10-26T10:09:59.551Z"
   },
   {
    "duration": 13,
    "start_time": "2023-10-26T10:09:59.559Z"
   },
   {
    "duration": 3,
    "start_time": "2023-10-26T10:09:59.574Z"
   },
   {
    "duration": 871,
    "start_time": "2023-10-26T10:09:59.579Z"
   },
   {
    "duration": 3,
    "start_time": "2023-10-26T10:10:00.455Z"
   },
   {
    "duration": 131,
    "start_time": "2023-10-26T10:10:00.460Z"
   },
   {
    "duration": 66,
    "start_time": "2023-10-26T10:10:00.593Z"
   },
   {
    "duration": 94,
    "start_time": "2023-10-26T10:10:00.661Z"
   },
   {
    "duration": 1529,
    "start_time": "2023-10-26T10:10:14.883Z"
   },
   {
    "duration": 3,
    "start_time": "2023-10-26T10:10:16.414Z"
   },
   {
    "duration": 34,
    "start_time": "2023-10-26T10:10:16.418Z"
   },
   {
    "duration": 89,
    "start_time": "2023-10-26T10:10:16.454Z"
   },
   {
    "duration": 50,
    "start_time": "2023-10-26T10:10:16.545Z"
   },
   {
    "duration": 24,
    "start_time": "2023-10-26T10:10:16.597Z"
   },
   {
    "duration": 29,
    "start_time": "2023-10-26T10:10:16.623Z"
   },
   {
    "duration": 7,
    "start_time": "2023-10-26T10:10:16.654Z"
   },
   {
    "duration": 7,
    "start_time": "2023-10-26T10:10:16.662Z"
   },
   {
    "duration": 11,
    "start_time": "2023-10-26T10:10:16.671Z"
   },
   {
    "duration": 51,
    "start_time": "2023-10-26T10:10:16.683Z"
   },
   {
    "duration": 31,
    "start_time": "2023-10-26T10:10:16.736Z"
   },
   {
    "duration": 849,
    "start_time": "2023-10-26T10:10:16.769Z"
   },
   {
    "duration": 3,
    "start_time": "2023-10-26T10:10:17.621Z"
   },
   {
    "duration": 23,
    "start_time": "2023-10-26T10:10:17.626Z"
   },
   {
    "duration": 22,
    "start_time": "2023-10-26T10:10:17.651Z"
   },
   {
    "duration": 21,
    "start_time": "2023-10-26T10:10:17.675Z"
   },
   {
    "duration": 4151,
    "start_time": "2023-10-26T10:10:17.698Z"
   },
   {
    "duration": 4,
    "start_time": "2023-10-26T10:10:21.851Z"
   },
   {
    "duration": 24207,
    "start_time": "2023-10-26T10:10:21.857Z"
   },
   {
    "duration": 3,
    "start_time": "2023-10-26T10:10:46.066Z"
   },
   {
    "duration": 1305987,
    "start_time": "2023-10-26T10:10:46.070Z"
   },
   {
    "duration": 3,
    "start_time": "2023-10-26T10:32:32.144Z"
   },
   {
    "duration": 83,
    "start_time": "2023-10-26T10:32:32.149Z"
   },
   {
    "duration": 122,
    "start_time": "2023-10-26T10:32:32.234Z"
   },
   {
    "duration": 64,
    "start_time": "2023-10-26T10:32:32.357Z"
   },
   {
    "duration": 22,
    "start_time": "2023-10-26T10:32:32.423Z"
   },
   {
    "duration": 30,
    "start_time": "2023-10-26T10:32:32.446Z"
   },
   {
    "duration": 32,
    "start_time": "2023-10-26T10:32:32.478Z"
   },
   {
    "duration": 39,
    "start_time": "2023-10-26T10:32:32.512Z"
   },
   {
    "duration": 41,
    "start_time": "2023-10-26T10:32:32.553Z"
   },
   {
    "duration": 31,
    "start_time": "2023-10-26T10:32:32.596Z"
   },
   {
    "duration": 59,
    "start_time": "2023-10-26T10:32:32.629Z"
   },
   {
    "duration": 21,
    "start_time": "2023-10-26T10:32:32.689Z"
   },
   {
    "duration": 22,
    "start_time": "2023-10-26T10:32:32.711Z"
   },
   {
    "duration": 54,
    "start_time": "2023-10-26T10:32:32.734Z"
   },
   {
    "duration": 31,
    "start_time": "2023-10-26T10:32:32.790Z"
   },
   {
    "duration": 46,
    "start_time": "2023-10-26T10:32:32.823Z"
   },
   {
    "duration": 42,
    "start_time": "2023-10-26T10:32:32.871Z"
   },
   {
    "duration": 28,
    "start_time": "2023-10-26T10:32:32.915Z"
   },
   {
    "duration": 45,
    "start_time": "2023-10-26T10:32:32.946Z"
   },
   {
    "duration": 7,
    "start_time": "2023-10-26T15:09:55.493Z"
   },
   {
    "duration": 124,
    "start_time": "2023-10-26T15:10:03.534Z"
   },
   {
    "duration": 4,
    "start_time": "2023-10-26T15:10:15.946Z"
   },
   {
    "duration": 3713,
    "start_time": "2023-10-26T15:10:21.933Z"
   },
   {
    "duration": 10,
    "start_time": "2023-10-26T15:10:48.099Z"
   },
   {
    "duration": 3686,
    "start_time": "2023-10-26T15:11:05.765Z"
   },
   {
    "duration": 1349,
    "start_time": "2023-10-26T15:12:34.003Z"
   },
   {
    "duration": 4,
    "start_time": "2023-10-26T15:12:40.149Z"
   },
   {
    "duration": 1273,
    "start_time": "2023-10-26T15:13:51.721Z"
   },
   {
    "duration": 110,
    "start_time": "2023-10-26T15:14:26.838Z"
   },
   {
    "duration": 88,
    "start_time": "2023-10-26T15:15:16.063Z"
   },
   {
    "duration": 83,
    "start_time": "2023-10-26T15:15:32.360Z"
   },
   {
    "duration": 3,
    "start_time": "2023-10-26T15:22:07.183Z"
   },
   {
    "duration": 3616,
    "start_time": "2023-10-26T15:26:02.748Z"
   },
   {
    "duration": 3182,
    "start_time": "2023-10-26T15:26:20.967Z"
   },
   {
    "duration": 66,
    "start_time": "2023-10-26T15:26:31.773Z"
   },
   {
    "duration": 3899,
    "start_time": "2023-10-26T15:28:51.052Z"
   },
   {
    "duration": 6,
    "start_time": "2023-10-26T15:29:07.332Z"
   },
   {
    "duration": 392,
    "start_time": "2023-10-26T15:34:55.058Z"
   },
   {
    "duration": 3757,
    "start_time": "2023-10-26T15:35:05.489Z"
   },
   {
    "duration": 29,
    "start_time": "2023-10-26T15:36:46.787Z"
   },
   {
    "duration": 19,
    "start_time": "2023-10-26T15:36:54.913Z"
   },
   {
    "duration": 26,
    "start_time": "2023-10-26T15:38:37.028Z"
   },
   {
    "duration": 14,
    "start_time": "2023-10-26T15:42:31.226Z"
   },
   {
    "duration": 14,
    "start_time": "2023-10-26T15:42:39.200Z"
   },
   {
    "duration": 14,
    "start_time": "2023-10-26T15:43:10.906Z"
   },
   {
    "duration": 14,
    "start_time": "2023-10-26T15:43:17.983Z"
   },
   {
    "duration": 97,
    "start_time": "2023-10-26T15:43:37.146Z"
   },
   {
    "duration": 1135,
    "start_time": "2023-10-26T15:43:40.077Z"
   },
   {
    "duration": 3916,
    "start_time": "2023-10-26T15:47:26.037Z"
   },
   {
    "duration": 26,
    "start_time": "2023-10-26T15:47:34.817Z"
   },
   {
    "duration": 20,
    "start_time": "2023-10-26T15:47:43.611Z"
   },
   {
    "duration": 38,
    "start_time": "2023-10-26T15:49:41.710Z"
   },
   {
    "duration": 36,
    "start_time": "2023-10-26T15:49:52.407Z"
   },
   {
    "duration": 5286,
    "start_time": "2023-10-26T15:54:17.465Z"
   },
   {
    "duration": 5439,
    "start_time": "2023-10-26T15:57:05.290Z"
   },
   {
    "duration": 5670,
    "start_time": "2023-10-26T15:57:19.586Z"
   },
   {
    "duration": 5,
    "start_time": "2023-10-26T15:58:59.715Z"
   },
   {
    "duration": 128235,
    "start_time": "2023-10-26T16:01:27.120Z"
   },
   {
    "duration": 18,
    "start_time": "2023-10-26T16:04:01.101Z"
   },
   {
    "duration": 5298,
    "start_time": "2023-10-26T16:04:16.495Z"
   },
   {
    "duration": 5420,
    "start_time": "2023-10-26T16:07:54.834Z"
   },
   {
    "duration": 11,
    "start_time": "2023-10-26T16:10:26.283Z"
   },
   {
    "duration": 11,
    "start_time": "2023-10-26T16:10:40.325Z"
   },
   {
    "duration": 99,
    "start_time": "2023-10-26T16:10:44.750Z"
   },
   {
    "duration": 5931,
    "start_time": "2023-10-26T16:10:47.576Z"
   },
   {
    "duration": 117975,
    "start_time": "2023-10-26T16:11:48.279Z"
   },
   {
    "duration": 5941,
    "start_time": "2023-10-26T16:13:46.256Z"
   },
   {
    "duration": 12,
    "start_time": "2023-10-26T16:16:58.883Z"
   },
   {
    "duration": 9,
    "start_time": "2023-10-26T16:17:45.310Z"
   },
   {
    "duration": 3,
    "start_time": "2023-10-26T16:18:07.336Z"
   },
   {
    "duration": 1423,
    "start_time": "2023-10-26T16:18:07.936Z"
   },
   {
    "duration": 8,
    "start_time": "2023-10-26T16:18:36.608Z"
   },
   {
    "duration": 1375,
    "start_time": "2023-10-26T16:18:47.881Z"
   },
   {
    "duration": 12,
    "start_time": "2023-10-26T16:20:39.497Z"
   },
   {
    "duration": 12,
    "start_time": "2023-10-26T16:20:41.792Z"
   },
   {
    "duration": 3281,
    "start_time": "2023-10-26T16:20:45.476Z"
   },
   {
    "duration": 118309,
    "start_time": "2023-10-26T16:21:42.573Z"
   },
   {
    "duration": 0,
    "start_time": "2023-10-26T16:23:40.884Z"
   },
   {
    "duration": 5324,
    "start_time": "2023-10-26T16:23:43.389Z"
   },
   {
    "duration": 5338,
    "start_time": "2023-10-26T16:25:44.447Z"
   },
   {
    "duration": 49465,
    "start_time": "2023-10-26T16:26:28.913Z"
   },
   {
    "duration": 5744,
    "start_time": "2023-10-26T16:27:25.001Z"
   },
   {
    "duration": 1416,
    "start_time": "2023-10-26T16:27:47.031Z"
   },
   {
    "duration": 5733,
    "start_time": "2023-10-26T16:28:15.711Z"
   },
   {
    "duration": 1039,
    "start_time": "2023-10-26T16:29:20.389Z"
   },
   {
    "duration": 384,
    "start_time": "2023-10-26T16:29:29.380Z"
   },
   {
    "duration": 729,
    "start_time": "2023-10-26T16:29:44.254Z"
   },
   {
    "duration": 5903,
    "start_time": "2023-10-26T16:30:33.445Z"
   },
   {
    "duration": 927,
    "start_time": "2023-10-26T16:34:54.420Z"
   },
   {
    "duration": 893,
    "start_time": "2023-10-26T16:35:04.454Z"
   },
   {
    "duration": 706,
    "start_time": "2023-10-26T16:35:17.645Z"
   },
   {
    "duration": 612,
    "start_time": "2023-10-26T16:36:40.838Z"
   },
   {
    "duration": 6,
    "start_time": "2023-10-26T16:45:23.191Z"
   },
   {
    "duration": 8,
    "start_time": "2023-10-26T16:46:17.063Z"
   },
   {
    "duration": 8,
    "start_time": "2023-10-26T17:12:05.303Z"
   },
   {
    "duration": 1703,
    "start_time": "2023-10-26T17:15:27.409Z"
   },
   {
    "duration": 2,
    "start_time": "2023-10-26T17:15:29.114Z"
   },
   {
    "duration": 7,
    "start_time": "2023-10-26T17:15:29.118Z"
   },
   {
    "duration": 79,
    "start_time": "2023-10-26T17:15:29.126Z"
   },
   {
    "duration": 3,
    "start_time": "2023-10-26T17:15:29.207Z"
   },
   {
    "duration": 15,
    "start_time": "2023-10-26T17:15:29.211Z"
   },
   {
    "duration": 5,
    "start_time": "2023-10-26T17:15:29.227Z"
   },
   {
    "duration": 15,
    "start_time": "2023-10-26T17:15:29.233Z"
   },
   {
    "duration": 16,
    "start_time": "2023-10-26T17:15:29.249Z"
   },
   {
    "duration": 12,
    "start_time": "2023-10-26T17:15:29.267Z"
   },
   {
    "duration": 18,
    "start_time": "2023-10-26T17:15:29.281Z"
   },
   {
    "duration": 3,
    "start_time": "2023-10-26T17:15:29.300Z"
   },
   {
    "duration": 702,
    "start_time": "2023-10-26T17:15:29.304Z"
   },
   {
    "duration": 79,
    "start_time": "2023-10-26T17:15:30.009Z"
   },
   {
    "duration": 142,
    "start_time": "2023-10-26T17:15:30.089Z"
   },
   {
    "duration": 0,
    "start_time": "2023-10-26T17:15:30.232Z"
   },
   {
    "duration": 0,
    "start_time": "2023-10-26T17:15:30.233Z"
   },
   {
    "duration": 0,
    "start_time": "2023-10-26T17:15:30.234Z"
   },
   {
    "duration": 0,
    "start_time": "2023-10-26T17:15:30.236Z"
   },
   {
    "duration": 0,
    "start_time": "2023-10-26T17:15:30.244Z"
   },
   {
    "duration": 0,
    "start_time": "2023-10-26T17:15:30.246Z"
   },
   {
    "duration": 11,
    "start_time": "2023-10-26T17:15:52.767Z"
   },
   {
    "duration": 2092,
    "start_time": "2023-10-26T17:16:03.167Z"
   },
   {
    "duration": 2078,
    "start_time": "2023-10-26T17:16:25.667Z"
   },
   {
    "duration": 3,
    "start_time": "2023-10-26T17:16:27.747Z"
   },
   {
    "duration": 12,
    "start_time": "2023-10-26T17:16:27.751Z"
   },
   {
    "duration": 63,
    "start_time": "2023-10-26T17:16:27.765Z"
   },
   {
    "duration": 3,
    "start_time": "2023-10-26T17:16:27.829Z"
   },
   {
    "duration": 12,
    "start_time": "2023-10-26T17:16:27.833Z"
   },
   {
    "duration": 24,
    "start_time": "2023-10-26T17:16:27.847Z"
   },
   {
    "duration": 38,
    "start_time": "2023-10-26T17:16:27.872Z"
   },
   {
    "duration": 38,
    "start_time": "2023-10-26T17:16:27.912Z"
   },
   {
    "duration": 49,
    "start_time": "2023-10-26T17:16:27.953Z"
   },
   {
    "duration": 34,
    "start_time": "2023-10-26T17:16:28.004Z"
   },
   {
    "duration": 15,
    "start_time": "2023-10-26T17:16:28.040Z"
   },
   {
    "duration": 745,
    "start_time": "2023-10-26T17:16:28.057Z"
   },
   {
    "duration": 75,
    "start_time": "2023-10-26T17:16:28.804Z"
   },
   {
    "duration": 1975,
    "start_time": "2023-10-26T17:16:28.881Z"
   },
   {
    "duration": 101,
    "start_time": "2023-10-26T17:16:30.857Z"
   },
   {
    "duration": 44,
    "start_time": "2023-10-26T17:16:30.959Z"
   },
   {
    "duration": 447,
    "start_time": "2023-10-26T17:16:31.005Z"
   },
   {
    "duration": 5768,
    "start_time": "2023-10-26T17:16:31.454Z"
   },
   {
    "duration": 118,
    "start_time": "2023-10-26T17:16:37.223Z"
   },
   {
    "duration": 0,
    "start_time": "2023-10-26T17:16:37.344Z"
   },
   {
    "duration": 1843,
    "start_time": "2023-10-26T17:17:28.374Z"
   },
   {
    "duration": 3,
    "start_time": "2023-10-26T17:17:30.219Z"
   },
   {
    "duration": 59,
    "start_time": "2023-10-26T17:17:30.226Z"
   },
   {
    "duration": 76,
    "start_time": "2023-10-26T17:17:30.287Z"
   },
   {
    "duration": 2,
    "start_time": "2023-10-26T17:17:30.365Z"
   },
   {
    "duration": 42,
    "start_time": "2023-10-26T17:17:30.369Z"
   },
   {
    "duration": 37,
    "start_time": "2023-10-26T17:17:30.413Z"
   },
   {
    "duration": 51,
    "start_time": "2023-10-26T17:17:30.451Z"
   },
   {
    "duration": 105,
    "start_time": "2023-10-26T17:17:30.503Z"
   },
   {
    "duration": 56,
    "start_time": "2023-10-26T17:17:30.610Z"
   },
   {
    "duration": 54,
    "start_time": "2023-10-26T17:17:30.667Z"
   },
   {
    "duration": 36,
    "start_time": "2023-10-26T17:17:30.723Z"
   },
   {
    "duration": 824,
    "start_time": "2023-10-26T17:17:30.762Z"
   },
   {
    "duration": 77,
    "start_time": "2023-10-26T17:17:31.588Z"
   },
   {
    "duration": 1679,
    "start_time": "2023-10-26T17:17:31.667Z"
   },
   {
    "duration": 20,
    "start_time": "2023-10-26T17:17:33.348Z"
   },
   {
    "duration": 25,
    "start_time": "2023-10-26T17:17:33.370Z"
   },
   {
    "duration": 949,
    "start_time": "2023-10-26T17:17:33.396Z"
   },
   {
    "duration": 5389,
    "start_time": "2023-10-26T17:17:34.348Z"
   },
   {
    "duration": 107611,
    "start_time": "2023-10-26T17:17:39.738Z"
   },
   {
    "duration": 94,
    "start_time": "2023-10-26T17:19:27.351Z"
   },
   {
    "duration": 10,
    "start_time": "2023-10-26T18:03:41.854Z"
   },
   {
    "duration": 1504,
    "start_time": "2023-10-26T18:03:47.579Z"
   },
   {
    "duration": 2,
    "start_time": "2023-10-26T18:03:49.085Z"
   },
   {
    "duration": 25,
    "start_time": "2023-10-26T18:03:49.089Z"
   },
   {
    "duration": 57,
    "start_time": "2023-10-26T18:03:49.115Z"
   },
   {
    "duration": 3,
    "start_time": "2023-10-26T18:03:49.175Z"
   },
   {
    "duration": 14,
    "start_time": "2023-10-26T18:03:49.180Z"
   },
   {
    "duration": 16,
    "start_time": "2023-10-26T18:03:49.195Z"
   },
   {
    "duration": 8,
    "start_time": "2023-10-26T18:03:49.212Z"
   },
   {
    "duration": 19,
    "start_time": "2023-10-26T18:03:49.221Z"
   },
   {
    "duration": 32,
    "start_time": "2023-10-26T18:03:49.242Z"
   },
   {
    "duration": 32,
    "start_time": "2023-10-26T18:03:49.276Z"
   },
   {
    "duration": 10,
    "start_time": "2023-10-26T18:03:49.309Z"
   },
   {
    "duration": 798,
    "start_time": "2023-10-26T18:03:49.320Z"
   },
   {
    "duration": 84,
    "start_time": "2023-10-26T18:03:50.122Z"
   },
   {
    "duration": 1443,
    "start_time": "2023-10-26T18:03:50.207Z"
   },
   {
    "duration": 94,
    "start_time": "2023-10-26T18:03:51.652Z"
   },
   {
    "duration": 56,
    "start_time": "2023-10-26T18:03:51.747Z"
   },
   {
    "duration": 440,
    "start_time": "2023-10-26T18:03:51.805Z"
   },
   {
    "duration": 5539,
    "start_time": "2023-10-26T18:03:52.247Z"
   },
   {
    "duration": 123962,
    "start_time": "2023-10-26T18:03:57.787Z"
   },
   {
    "duration": 10,
    "start_time": "2023-10-26T18:06:01.751Z"
   },
   {
    "duration": 1688,
    "start_time": "2023-10-26T18:13:09.897Z"
   },
   {
    "duration": 3,
    "start_time": "2023-10-26T18:13:11.587Z"
   },
   {
    "duration": 26,
    "start_time": "2023-10-26T18:13:11.591Z"
   },
   {
    "duration": 70,
    "start_time": "2023-10-26T18:13:11.620Z"
   },
   {
    "duration": 2,
    "start_time": "2023-10-26T18:13:11.692Z"
   },
   {
    "duration": 24,
    "start_time": "2023-10-26T18:13:11.696Z"
   },
   {
    "duration": 12,
    "start_time": "2023-10-26T18:13:11.722Z"
   },
   {
    "duration": 15,
    "start_time": "2023-10-26T18:13:11.735Z"
   },
   {
    "duration": 13,
    "start_time": "2023-10-26T18:13:11.752Z"
   },
   {
    "duration": 10,
    "start_time": "2023-10-26T18:13:11.767Z"
   },
   {
    "duration": 22,
    "start_time": "2023-10-26T18:13:11.778Z"
   },
   {
    "duration": 7,
    "start_time": "2023-10-26T18:13:11.802Z"
   },
   {
    "duration": 784,
    "start_time": "2023-10-26T18:13:11.810Z"
   },
   {
    "duration": 77,
    "start_time": "2023-10-26T18:13:12.595Z"
   },
   {
    "duration": 2088,
    "start_time": "2023-10-26T18:13:12.674Z"
   },
   {
    "duration": 22,
    "start_time": "2023-10-26T18:13:14.764Z"
   },
   {
    "duration": 65,
    "start_time": "2023-10-26T18:13:14.788Z"
   },
   {
    "duration": 693,
    "start_time": "2023-10-26T18:13:14.854Z"
   },
   {
    "duration": 5489,
    "start_time": "2023-10-26T18:13:15.549Z"
   },
   {
    "duration": 356813,
    "start_time": "2023-10-26T18:13:21.040Z"
   },
   {
    "duration": 97,
    "start_time": "2023-10-26T18:19:17.854Z"
   },
   {
    "duration": 13,
    "start_time": "2023-10-26T18:21:27.083Z"
   },
   {
    "duration": 16,
    "start_time": "2023-10-26T18:21:28.688Z"
   },
   {
    "duration": 12,
    "start_time": "2023-10-26T18:21:31.153Z"
   },
   {
    "duration": 936,
    "start_time": "2023-10-26T18:22:34.924Z"
   },
   {
    "duration": 8,
    "start_time": "2023-10-26T18:22:50.065Z"
   },
   {
    "duration": 531,
    "start_time": "2023-10-26T18:23:00.155Z"
   },
   {
    "duration": 7,
    "start_time": "2023-10-26T18:23:05.611Z"
   },
   {
    "duration": 7,
    "start_time": "2023-10-26T18:24:17.298Z"
   },
   {
    "duration": 8,
    "start_time": "2023-10-26T18:24:39.561Z"
   },
   {
    "duration": 34617,
    "start_time": "2023-10-26T18:26:49.548Z"
   },
   {
    "duration": 8,
    "start_time": "2023-10-26T18:28:04.890Z"
   },
   {
    "duration": 24530,
    "start_time": "2023-10-26T18:28:58.067Z"
   },
   {
    "duration": 75665,
    "start_time": "2023-10-26T18:29:24.514Z"
   },
   {
    "duration": 1650,
    "start_time": "2023-10-26T18:38:21.617Z"
   },
   {
    "duration": 3,
    "start_time": "2023-10-26T18:38:23.269Z"
   },
   {
    "duration": 6,
    "start_time": "2023-10-26T18:38:23.274Z"
   },
   {
    "duration": 64,
    "start_time": "2023-10-26T18:38:23.281Z"
   },
   {
    "duration": 3,
    "start_time": "2023-10-26T18:38:23.347Z"
   },
   {
    "duration": 18,
    "start_time": "2023-10-26T18:38:23.351Z"
   },
   {
    "duration": 8,
    "start_time": "2023-10-26T18:38:23.370Z"
   },
   {
    "duration": 12,
    "start_time": "2023-10-26T18:38:23.380Z"
   },
   {
    "duration": 20,
    "start_time": "2023-10-26T18:38:23.393Z"
   },
   {
    "duration": 15,
    "start_time": "2023-10-26T18:38:23.415Z"
   },
   {
    "duration": 32,
    "start_time": "2023-10-26T18:38:23.431Z"
   },
   {
    "duration": 7,
    "start_time": "2023-10-26T18:38:23.465Z"
   },
   {
    "duration": 833,
    "start_time": "2023-10-26T18:38:23.473Z"
   },
   {
    "duration": 84,
    "start_time": "2023-10-26T18:38:24.309Z"
   },
   {
    "duration": 1451,
    "start_time": "2023-10-26T18:38:24.395Z"
   },
   {
    "duration": 19,
    "start_time": "2023-10-26T18:38:25.848Z"
   },
   {
    "duration": 20,
    "start_time": "2023-10-26T18:38:25.868Z"
   },
   {
    "duration": 462,
    "start_time": "2023-10-26T18:38:25.890Z"
   },
   {
    "duration": 5608,
    "start_time": "2023-10-26T18:38:26.354Z"
   },
   {
    "duration": 1752,
    "start_time": "2023-10-26T18:44:22.189Z"
   },
   {
    "duration": 5,
    "start_time": "2023-10-26T18:44:23.943Z"
   },
   {
    "duration": 24,
    "start_time": "2023-10-26T18:44:23.951Z"
   },
   {
    "duration": 64,
    "start_time": "2023-10-26T18:44:23.977Z"
   },
   {
    "duration": 4,
    "start_time": "2023-10-26T18:44:24.043Z"
   },
   {
    "duration": 37,
    "start_time": "2023-10-26T18:44:24.048Z"
   },
   {
    "duration": 13,
    "start_time": "2023-10-26T18:44:24.087Z"
   },
   {
    "duration": 22,
    "start_time": "2023-10-26T18:44:24.102Z"
   },
   {
    "duration": 8,
    "start_time": "2023-10-26T18:44:24.125Z"
   },
   {
    "duration": 5,
    "start_time": "2023-10-26T18:44:24.135Z"
   },
   {
    "duration": 16,
    "start_time": "2023-10-26T18:44:24.143Z"
   },
   {
    "duration": 5,
    "start_time": "2023-10-26T18:44:24.161Z"
   },
   {
    "duration": 886,
    "start_time": "2023-10-26T18:44:24.168Z"
   },
   {
    "duration": 77,
    "start_time": "2023-10-26T18:44:25.057Z"
   },
   {
    "duration": 2020,
    "start_time": "2023-10-26T18:44:25.137Z"
   },
   {
    "duration": 20,
    "start_time": "2023-10-26T18:44:27.158Z"
   },
   {
    "duration": 12,
    "start_time": "2023-10-26T18:44:27.179Z"
   },
   {
    "duration": 676,
    "start_time": "2023-10-26T18:44:27.192Z"
   },
   {
    "duration": 5753,
    "start_time": "2023-10-26T18:44:27.949Z"
   },
   {
    "duration": 1716,
    "start_time": "2023-10-26T19:47:54.899Z"
   },
   {
    "duration": 2,
    "start_time": "2023-10-26T19:47:56.617Z"
   },
   {
    "duration": 6,
    "start_time": "2023-10-26T19:47:56.621Z"
   },
   {
    "duration": 54,
    "start_time": "2023-10-26T19:47:56.629Z"
   },
   {
    "duration": 3,
    "start_time": "2023-10-26T19:47:56.685Z"
   },
   {
    "duration": 13,
    "start_time": "2023-10-26T19:47:56.690Z"
   },
   {
    "duration": 21,
    "start_time": "2023-10-26T19:47:56.704Z"
   },
   {
    "duration": 7,
    "start_time": "2023-10-26T19:47:56.727Z"
   },
   {
    "duration": 12,
    "start_time": "2023-10-26T19:47:56.736Z"
   },
   {
    "duration": 20,
    "start_time": "2023-10-26T19:47:56.751Z"
   },
   {
    "duration": 23,
    "start_time": "2023-10-26T19:47:56.773Z"
   },
   {
    "duration": 3,
    "start_time": "2023-10-26T19:47:56.798Z"
   },
   {
    "duration": 739,
    "start_time": "2023-10-26T19:47:56.803Z"
   },
   {
    "duration": 80,
    "start_time": "2023-10-26T19:47:57.544Z"
   },
   {
    "duration": 1831,
    "start_time": "2023-10-26T19:47:57.626Z"
   },
   {
    "duration": 95,
    "start_time": "2023-10-26T19:47:59.459Z"
   },
   {
    "duration": 11,
    "start_time": "2023-10-26T19:47:59.555Z"
   },
   {
    "duration": 1076,
    "start_time": "2023-10-26T19:47:59.568Z"
   },
   {
    "duration": 5761,
    "start_time": "2023-10-26T19:48:00.646Z"
   },
   {
    "duration": 46,
    "start_time": "2023-10-26T21:47:46.812Z"
   },
   {
    "duration": 1612,
    "start_time": "2023-10-26T21:47:52.529Z"
   },
   {
    "duration": 2,
    "start_time": "2023-10-26T21:47:54.144Z"
   },
   {
    "duration": 12,
    "start_time": "2023-10-26T21:47:54.148Z"
   },
   {
    "duration": 191,
    "start_time": "2023-10-26T21:47:54.162Z"
   },
   {
    "duration": 3,
    "start_time": "2023-10-26T21:47:54.355Z"
   },
   {
    "duration": 13,
    "start_time": "2023-10-26T21:47:54.360Z"
   },
   {
    "duration": 15,
    "start_time": "2023-10-26T21:47:54.375Z"
   },
   {
    "duration": 16,
    "start_time": "2023-10-26T21:47:54.392Z"
   },
   {
    "duration": 22,
    "start_time": "2023-10-26T21:47:54.410Z"
   },
   {
    "duration": 13,
    "start_time": "2023-10-26T21:47:54.434Z"
   },
   {
    "duration": 22,
    "start_time": "2023-10-26T21:47:54.449Z"
   },
   {
    "duration": 4,
    "start_time": "2023-10-26T21:47:54.473Z"
   },
   {
    "duration": 912,
    "start_time": "2023-10-26T21:47:54.479Z"
   },
   {
    "duration": 81,
    "start_time": "2023-10-26T21:47:55.394Z"
   },
   {
    "duration": 2537,
    "start_time": "2023-10-26T21:47:55.476Z"
   },
   {
    "duration": 27,
    "start_time": "2023-10-26T21:47:58.016Z"
   },
   {
    "duration": 64,
    "start_time": "2023-10-26T21:47:58.045Z"
   },
   {
    "duration": 799,
    "start_time": "2023-10-26T21:47:58.111Z"
   },
   {
    "duration": 5888,
    "start_time": "2023-10-26T21:47:58.913Z"
   },
   {
    "duration": 808072,
    "start_time": "2023-10-26T21:48:04.803Z"
   },
   {
    "duration": 0,
    "start_time": "2023-10-26T22:01:32.877Z"
   },
   {
    "duration": 1765,
    "start_time": "2023-10-27T05:23:16.527Z"
   },
   {
    "duration": 3,
    "start_time": "2023-10-27T05:23:18.294Z"
   },
   {
    "duration": 9,
    "start_time": "2023-10-27T05:23:18.298Z"
   },
   {
    "duration": 121,
    "start_time": "2023-10-27T05:23:18.309Z"
   },
   {
    "duration": 4,
    "start_time": "2023-10-27T05:23:18.431Z"
   },
   {
    "duration": 17,
    "start_time": "2023-10-27T05:23:18.436Z"
   },
   {
    "duration": 7,
    "start_time": "2023-10-27T05:23:18.455Z"
   },
   {
    "duration": 6,
    "start_time": "2023-10-27T05:23:18.464Z"
   },
   {
    "duration": 13,
    "start_time": "2023-10-27T05:23:18.472Z"
   },
   {
    "duration": 5,
    "start_time": "2023-10-27T05:23:18.488Z"
   },
   {
    "duration": 15,
    "start_time": "2023-10-27T05:23:18.495Z"
   },
   {
    "duration": 4,
    "start_time": "2023-10-27T05:23:18.512Z"
   },
   {
    "duration": 962,
    "start_time": "2023-10-27T05:23:18.548Z"
   },
   {
    "duration": 8,
    "start_time": "2023-10-27T05:23:19.512Z"
   },
   {
    "duration": 1839,
    "start_time": "2023-10-27T05:23:19.522Z"
   },
   {
    "duration": 26,
    "start_time": "2023-10-27T05:23:21.363Z"
   },
   {
    "duration": 23,
    "start_time": "2023-10-27T05:23:21.391Z"
   },
   {
    "duration": 1034,
    "start_time": "2023-10-27T05:23:21.416Z"
   },
   {
    "duration": 6229,
    "start_time": "2023-10-27T05:23:22.453Z"
   },
   {
    "duration": 1599,
    "start_time": "2023-10-27T05:40:37.797Z"
   },
   {
    "duration": 2,
    "start_time": "2023-10-27T05:40:39.398Z"
   },
   {
    "duration": 12,
    "start_time": "2023-10-27T05:40:39.402Z"
   },
   {
    "duration": 69,
    "start_time": "2023-10-27T05:40:39.416Z"
   },
   {
    "duration": 4,
    "start_time": "2023-10-27T05:40:39.487Z"
   },
   {
    "duration": 36,
    "start_time": "2023-10-27T05:40:39.493Z"
   },
   {
    "duration": 8,
    "start_time": "2023-10-27T05:40:39.531Z"
   },
   {
    "duration": 13,
    "start_time": "2023-10-27T05:40:39.541Z"
   },
   {
    "duration": 29,
    "start_time": "2023-10-27T05:40:39.557Z"
   },
   {
    "duration": 5,
    "start_time": "2023-10-27T05:40:39.590Z"
   },
   {
    "duration": 22,
    "start_time": "2023-10-27T05:40:39.597Z"
   },
   {
    "duration": 4,
    "start_time": "2023-10-27T05:40:39.621Z"
   },
   {
    "duration": 938,
    "start_time": "2023-10-27T05:40:39.626Z"
   },
   {
    "duration": 96,
    "start_time": "2023-10-27T05:40:40.566Z"
   },
   {
    "duration": 2217,
    "start_time": "2023-10-27T05:40:40.665Z"
   },
   {
    "duration": 92,
    "start_time": "2023-10-27T05:40:42.885Z"
   },
   {
    "duration": 12,
    "start_time": "2023-10-27T05:40:42.979Z"
   },
   {
    "duration": 1162,
    "start_time": "2023-10-27T05:40:42.992Z"
   },
   {
    "duration": 6905,
    "start_time": "2023-10-27T05:40:44.160Z"
   },
   {
    "duration": 655042,
    "start_time": "2023-10-27T05:40:51.067Z"
   },
   {
    "duration": 0,
    "start_time": "2023-10-27T05:51:46.111Z"
   },
   {
    "duration": 12,
    "start_time": "2023-10-27T05:52:15.958Z"
   },
   {
    "duration": 306720,
    "start_time": "2023-10-27T05:52:57.293Z"
   },
   {
    "duration": 122994,
    "start_time": "2023-10-27T05:58:05.282Z"
   },
   {
    "duration": 330594,
    "start_time": "2023-10-27T06:00:10.394Z"
   },
   {
    "duration": 13320,
    "start_time": "2023-10-27T06:05:43.683Z"
   },
   {
    "duration": 4,
    "start_time": "2023-10-27T06:06:18.410Z"
   },
   {
    "duration": 51563,
    "start_time": "2023-10-27T06:06:51.898Z"
   },
   {
    "duration": 42303,
    "start_time": "2023-10-27T06:09:22.247Z"
   },
   {
    "duration": 365,
    "start_time": "2023-10-27T06:12:33.069Z"
   },
   {
    "duration": 242,
    "start_time": "2023-10-27T06:12:51.384Z"
   },
   {
    "duration": 410,
    "start_time": "2023-10-27T06:13:15.969Z"
   },
   {
    "duration": 350,
    "start_time": "2023-10-27T06:13:26.815Z"
   },
   {
    "duration": 365,
    "start_time": "2023-10-27T06:14:08.469Z"
   },
   {
    "duration": 4447,
    "start_time": "2023-10-27T06:20:50.116Z"
   },
   {
    "duration": 9038,
    "start_time": "2023-10-27T06:21:00.717Z"
   },
   {
    "duration": 10,
    "start_time": "2023-10-27T06:21:16.212Z"
   },
   {
    "duration": 19976,
    "start_time": "2023-10-27T06:21:24.872Z"
   },
   {
    "duration": 19,
    "start_time": "2023-10-27T06:21:50.189Z"
   },
   {
    "duration": 16604,
    "start_time": "2023-10-27T06:21:55.243Z"
   },
   {
    "duration": 18,
    "start_time": "2023-10-27T06:22:15.381Z"
   },
   {
    "duration": 8252,
    "start_time": "2023-10-27T06:22:18.995Z"
   },
   {
    "duration": 11286,
    "start_time": "2023-10-27T06:22:33.175Z"
   },
   {
    "duration": 14771,
    "start_time": "2023-10-27T06:22:47.780Z"
   },
   {
    "duration": 10183,
    "start_time": "2023-10-27T06:23:09.571Z"
   },
   {
    "duration": 8923,
    "start_time": "2023-10-27T06:23:24.431Z"
   },
   {
    "duration": 107711,
    "start_time": "2023-10-27T06:23:44.547Z"
   },
   {
    "duration": 215940,
    "start_time": "2023-10-27T06:26:21.722Z"
   },
   {
    "duration": 26996,
    "start_time": "2023-10-27T06:30:33.356Z"
   },
   {
    "duration": 16,
    "start_time": "2023-10-27T06:31:18.268Z"
   },
   {
    "duration": 1597,
    "start_time": "2023-10-27T06:32:43.191Z"
   },
   {
    "duration": 3,
    "start_time": "2023-10-27T06:32:44.790Z"
   },
   {
    "duration": 6,
    "start_time": "2023-10-27T06:32:44.794Z"
   },
   {
    "duration": 79,
    "start_time": "2023-10-27T06:32:44.802Z"
   },
   {
    "duration": 3,
    "start_time": "2023-10-27T06:32:44.885Z"
   },
   {
    "duration": 37,
    "start_time": "2023-10-27T06:32:44.890Z"
   },
   {
    "duration": 9,
    "start_time": "2023-10-27T06:32:44.929Z"
   },
   {
    "duration": 25,
    "start_time": "2023-10-27T06:32:44.939Z"
   },
   {
    "duration": 5,
    "start_time": "2023-10-27T06:32:44.966Z"
   },
   {
    "duration": 12,
    "start_time": "2023-10-27T06:32:44.972Z"
   },
   {
    "duration": 59,
    "start_time": "2023-10-27T06:32:44.986Z"
   },
   {
    "duration": 101,
    "start_time": "2023-10-27T06:32:45.047Z"
   },
   {
    "duration": 924,
    "start_time": "2023-10-27T06:32:45.150Z"
   },
   {
    "duration": 96,
    "start_time": "2023-10-27T06:32:46.077Z"
   },
   {
    "duration": 1885,
    "start_time": "2023-10-27T06:32:46.175Z"
   },
   {
    "duration": 22,
    "start_time": "2023-10-27T06:32:48.061Z"
   },
   {
    "duration": 22,
    "start_time": "2023-10-27T06:32:48.085Z"
   },
   {
    "duration": 444,
    "start_time": "2023-10-27T06:32:48.110Z"
   },
   {
    "duration": 6434,
    "start_time": "2023-10-27T06:32:48.556Z"
   },
   {
    "duration": 3459,
    "start_time": "2023-10-27T06:32:54.992Z"
   },
   {
    "duration": 10,
    "start_time": "2023-10-27T06:32:58.453Z"
   },
   {
    "duration": 462,
    "start_time": "2023-10-27T06:32:58.465Z"
   },
   {
    "duration": 33292,
    "start_time": "2023-10-27T06:36:20.562Z"
   },
   {
    "duration": 241661,
    "start_time": "2023-10-27T06:41:13.990Z"
   },
   {
    "duration": 17,
    "start_time": "2023-10-27T06:45:15.653Z"
   },
   {
    "duration": 5870,
    "start_time": "2023-10-27T06:45:43.882Z"
   },
   {
    "duration": 5128,
    "start_time": "2023-10-27T06:45:56.732Z"
   },
   {
    "duration": 142798,
    "start_time": "2023-10-27T06:46:19.261Z"
   },
   {
    "duration": 1748,
    "start_time": "2023-10-27T06:50:59.954Z"
   },
   {
    "duration": 3,
    "start_time": "2023-10-27T06:51:01.705Z"
   },
   {
    "duration": 55,
    "start_time": "2023-10-27T06:51:01.710Z"
   },
   {
    "duration": 91,
    "start_time": "2023-10-27T06:51:01.767Z"
   },
   {
    "duration": 25,
    "start_time": "2023-10-27T06:51:01.860Z"
   },
   {
    "duration": 59,
    "start_time": "2023-10-27T06:51:01.887Z"
   },
   {
    "duration": 127,
    "start_time": "2023-10-27T06:51:01.949Z"
   },
   {
    "duration": 88,
    "start_time": "2023-10-27T06:51:02.078Z"
   },
   {
    "duration": 68,
    "start_time": "2023-10-27T06:51:02.168Z"
   },
   {
    "duration": 74,
    "start_time": "2023-10-27T06:51:02.239Z"
   },
   {
    "duration": 62,
    "start_time": "2023-10-27T06:51:02.314Z"
   },
   {
    "duration": 11,
    "start_time": "2023-10-27T06:51:02.378Z"
   },
   {
    "duration": 970,
    "start_time": "2023-10-27T06:51:02.391Z"
   },
   {
    "duration": 82,
    "start_time": "2023-10-27T06:51:03.363Z"
   },
   {
    "duration": 2414,
    "start_time": "2023-10-27T06:51:03.447Z"
   },
   {
    "duration": 25,
    "start_time": "2023-10-27T06:51:05.863Z"
   },
   {
    "duration": 19,
    "start_time": "2023-10-27T06:51:05.947Z"
   },
   {
    "duration": 695,
    "start_time": "2023-10-27T06:51:05.968Z"
   },
   {
    "duration": 6403,
    "start_time": "2023-10-27T06:51:06.747Z"
   },
   {
    "duration": 4,
    "start_time": "2023-10-27T06:51:13.152Z"
   },
   {
    "duration": 8,
    "start_time": "2023-10-27T06:51:13.158Z"
   },
   {
    "duration": 8,
    "start_time": "2023-10-27T06:51:13.168Z"
   },
   {
    "duration": 12,
    "start_time": "2023-10-27T06:51:13.178Z"
   },
   {
    "duration": 499,
    "start_time": "2023-10-27T06:51:13.192Z"
   },
   {
    "duration": 206938,
    "start_time": "2023-10-27T06:51:29.426Z"
   },
   {
    "duration": 13,
    "start_time": "2023-10-27T06:56:33.741Z"
   },
   {
    "duration": 1504,
    "start_time": "2023-10-27T07:00:27.583Z"
   },
   {
    "duration": 3,
    "start_time": "2023-10-27T07:00:29.089Z"
   },
   {
    "duration": 75,
    "start_time": "2023-10-27T07:00:29.094Z"
   },
   {
    "duration": 118,
    "start_time": "2023-10-27T07:00:29.172Z"
   },
   {
    "duration": 4,
    "start_time": "2023-10-27T07:00:29.292Z"
   },
   {
    "duration": 61,
    "start_time": "2023-10-27T07:00:29.298Z"
   },
   {
    "duration": 21,
    "start_time": "2023-10-27T07:00:29.361Z"
   },
   {
    "duration": 6,
    "start_time": "2023-10-27T07:00:29.384Z"
   },
   {
    "duration": 13,
    "start_time": "2023-10-27T07:00:29.392Z"
   },
   {
    "duration": 43,
    "start_time": "2023-10-27T07:00:29.408Z"
   },
   {
    "duration": 38,
    "start_time": "2023-10-27T07:00:29.453Z"
   },
   {
    "duration": 4,
    "start_time": "2023-10-27T07:00:29.493Z"
   },
   {
    "duration": 895,
    "start_time": "2023-10-27T07:00:29.499Z"
   },
   {
    "duration": 94,
    "start_time": "2023-10-27T07:00:30.396Z"
   },
   {
    "duration": 2167,
    "start_time": "2023-10-27T07:00:30.492Z"
   },
   {
    "duration": 97,
    "start_time": "2023-10-27T07:00:32.662Z"
   },
   {
    "duration": 16,
    "start_time": "2023-10-27T07:00:32.761Z"
   },
   {
    "duration": 981,
    "start_time": "2023-10-27T07:00:32.779Z"
   },
   {
    "duration": 6514,
    "start_time": "2023-10-27T07:00:33.849Z"
   },
   {
    "duration": 1685,
    "start_time": "2023-10-27T07:03:41.500Z"
   },
   {
    "duration": 3,
    "start_time": "2023-10-27T07:03:43.187Z"
   },
   {
    "duration": 9,
    "start_time": "2023-10-27T07:03:43.192Z"
   },
   {
    "duration": 69,
    "start_time": "2023-10-27T07:03:43.202Z"
   },
   {
    "duration": 4,
    "start_time": "2023-10-27T07:03:43.274Z"
   },
   {
    "duration": 16,
    "start_time": "2023-10-27T07:03:43.279Z"
   },
   {
    "duration": 13,
    "start_time": "2023-10-27T07:03:43.297Z"
   },
   {
    "duration": 11,
    "start_time": "2023-10-27T07:03:43.312Z"
   },
   {
    "duration": 10,
    "start_time": "2023-10-27T07:03:43.325Z"
   },
   {
    "duration": 19,
    "start_time": "2023-10-27T07:03:43.336Z"
   },
   {
    "duration": 18,
    "start_time": "2023-10-27T07:03:43.356Z"
   },
   {
    "duration": 26,
    "start_time": "2023-10-27T07:03:43.376Z"
   },
   {
    "duration": 956,
    "start_time": "2023-10-27T07:03:43.404Z"
   },
   {
    "duration": 95,
    "start_time": "2023-10-27T07:03:44.365Z"
   },
   {
    "duration": 2294,
    "start_time": "2023-10-27T07:03:44.472Z"
   },
   {
    "duration": 21,
    "start_time": "2023-10-27T07:03:46.768Z"
   },
   {
    "duration": 16,
    "start_time": "2023-10-27T07:03:46.791Z"
   },
   {
    "duration": 1154,
    "start_time": "2023-10-27T07:03:46.809Z"
   },
   {
    "duration": 7686,
    "start_time": "2023-10-27T07:03:47.970Z"
   },
   {
    "duration": 49,
    "start_time": "2023-10-27T14:09:52.020Z"
   },
   {
    "duration": 1613,
    "start_time": "2023-10-27T14:09:57.394Z"
   },
   {
    "duration": 3,
    "start_time": "2023-10-27T14:09:59.010Z"
   },
   {
    "duration": 15,
    "start_time": "2023-10-27T14:09:59.014Z"
   },
   {
    "duration": 126,
    "start_time": "2023-10-27T14:09:59.032Z"
   },
   {
    "duration": 3,
    "start_time": "2023-10-27T14:09:59.160Z"
   },
   {
    "duration": 13,
    "start_time": "2023-10-27T14:09:59.165Z"
   },
   {
    "duration": 6,
    "start_time": "2023-10-27T14:09:59.180Z"
   },
   {
    "duration": 6,
    "start_time": "2023-10-27T14:09:59.187Z"
   },
   {
    "duration": 4,
    "start_time": "2023-10-27T14:09:59.194Z"
   },
   {
    "duration": 5,
    "start_time": "2023-10-27T14:09:59.200Z"
   },
   {
    "duration": 29,
    "start_time": "2023-10-27T14:09:59.206Z"
   },
   {
    "duration": 3,
    "start_time": "2023-10-27T14:09:59.237Z"
   },
   {
    "duration": 868,
    "start_time": "2023-10-27T14:09:59.242Z"
   },
   {
    "duration": 6,
    "start_time": "2023-10-27T14:10:00.112Z"
   },
   {
    "duration": 1910,
    "start_time": "2023-10-27T14:10:00.120Z"
   },
   {
    "duration": 22,
    "start_time": "2023-10-27T14:10:02.031Z"
   },
   {
    "duration": 773,
    "start_time": "2023-10-27T14:10:02.055Z"
   },
   {
    "duration": 1403,
    "start_time": "2023-10-27T14:10:02.830Z"
   },
   {
    "duration": 6300,
    "start_time": "2023-10-27T14:10:04.325Z"
   },
   {
    "duration": 522576,
    "start_time": "2023-10-27T14:10:10.627Z"
   },
   {
    "duration": 0,
    "start_time": "2023-10-27T14:18:53.205Z"
   },
   {
    "duration": 0,
    "start_time": "2023-10-27T14:18:53.206Z"
   },
   {
    "duration": 1616,
    "start_time": "2023-10-27T14:19:29.062Z"
   },
   {
    "duration": 1437,
    "start_time": "2023-10-27T14:19:36.953Z"
   },
   {
    "duration": 3,
    "start_time": "2023-10-27T14:19:38.393Z"
   },
   {
    "duration": 6,
    "start_time": "2023-10-27T14:19:38.398Z"
   },
   {
    "duration": 76,
    "start_time": "2023-10-27T14:19:38.406Z"
   },
   {
    "duration": 3,
    "start_time": "2023-10-27T14:19:38.486Z"
   },
   {
    "duration": 19,
    "start_time": "2023-10-27T14:19:38.491Z"
   },
   {
    "duration": 11,
    "start_time": "2023-10-27T14:19:38.512Z"
   },
   {
    "duration": 6,
    "start_time": "2023-10-27T14:19:38.525Z"
   },
   {
    "duration": 4,
    "start_time": "2023-10-27T14:19:38.533Z"
   },
   {
    "duration": 11,
    "start_time": "2023-10-27T14:19:38.538Z"
   },
   {
    "duration": 22,
    "start_time": "2023-10-27T14:19:38.550Z"
   },
   {
    "duration": 3,
    "start_time": "2023-10-27T14:19:38.574Z"
   },
   {
    "duration": 863,
    "start_time": "2023-10-27T14:19:38.579Z"
   },
   {
    "duration": 82,
    "start_time": "2023-10-27T14:19:39.445Z"
   },
   {
    "duration": 1905,
    "start_time": "2023-10-27T14:19:39.528Z"
   },
   {
    "duration": 19,
    "start_time": "2023-10-27T14:19:41.435Z"
   },
   {
    "duration": 109,
    "start_time": "2023-10-27T14:19:41.456Z"
   },
   {
    "duration": 864,
    "start_time": "2023-10-27T14:19:41.567Z"
   },
   {
    "duration": 6456,
    "start_time": "2023-10-27T14:19:42.435Z"
   },
   {
    "duration": 338931,
    "start_time": "2023-10-27T14:19:48.894Z"
   },
   {
    "duration": 12,
    "start_time": "2023-10-27T14:25:27.827Z"
   },
   {
    "duration": 422,
    "start_time": "2023-10-27T14:25:27.841Z"
   },
   {
    "duration": 56,
    "start_time": "2023-11-01T06:09:55.978Z"
   },
   {
    "duration": 1922,
    "start_time": "2023-11-01T06:10:00.236Z"
   },
   {
    "duration": 5,
    "start_time": "2023-11-01T06:10:02.160Z"
   },
   {
    "duration": 35,
    "start_time": "2023-11-01T06:10:02.167Z"
   },
   {
    "duration": 113,
    "start_time": "2023-11-01T06:10:02.964Z"
   },
   {
    "duration": 3,
    "start_time": "2023-11-01T06:10:04.197Z"
   },
   {
    "duration": 11,
    "start_time": "2023-11-01T06:10:04.400Z"
   },
   {
    "duration": 4,
    "start_time": "2023-11-01T06:12:17.594Z"
   }
  ],
  "kernelspec": {
   "display_name": "Python 3 (ipykernel)",
   "language": "python",
   "name": "python3"
  },
  "language_info": {
   "codemirror_mode": {
    "name": "ipython",
    "version": 3
   },
   "file_extension": ".py",
   "mimetype": "text/x-python",
   "name": "python",
   "nbconvert_exporter": "python",
   "pygments_lexer": "ipython3",
   "version": "3.10.13"
  },
  "toc": {
   "base_numbering": 1,
   "nav_menu": {},
   "number_sections": true,
   "sideBar": true,
   "skip_h1_title": true,
   "title_cell": "Содержание",
   "title_sidebar": "Contents",
   "toc_cell": true,
   "toc_position": {
    "height": "calc(100% - 180px)",
    "left": "10px",
    "top": "150px",
    "width": "193px"
   },
   "toc_section_display": true,
   "toc_window_display": true
  }
 },
 "nbformat": 4,
 "nbformat_minor": 2
}
